{
 "cells": [
  {
   "cell_type": "code",
   "execution_count": null,
   "id": "ec354ca0",
   "metadata": {},
   "outputs": [],
   "source": [
    "# PEP8\n",
    "# Google Style Guide\n",
    "# black - formater of code\n",
    "\n",
    "DATASET_PATH = 'E:/Python/course/3/housing.csv'\n",
    "PREPARED_DATASET_PATH = 'E:/Python/course/3/housing_prepared_new.csv'"
   ]
  }
 ],
 "metadata": {
  "kernelspec": {
   "display_name": "Python 3 (ipykernel)",
   "language": "python",
   "name": "python3"
  },
  "language_info": {
   "codemirror_mode": {
    "name": "ipython",
    "version": 3
   },
   "file_extension": ".py",
   "mimetype": "text/x-python",
   "name": "python",
   "nbconvert_exporter": "python",
   "pygments_lexer": "ipython3",
   "version": "3.9.7"
  }
 },
 "nbformat": 4,
 "nbformat_minor": 5
}
