{
 "cells": [
  {
   "cell_type": "code",
   "execution_count": 87,
   "id": "f9d4f68f",
   "metadata": {},
   "outputs": [],
   "source": [
    "import pandas as pd\n",
    "import numpy as np\n",
    "from sklearn.linear_model import LinearRegression"
   ]
  },
  {
   "cell_type": "code",
   "execution_count": 60,
   "id": "c312fc63",
   "metadata": {},
   "outputs": [],
   "source": [
    "filepath = '../input/final.csv'\n",
    "\n",
    "df = pd.read_csv(filepath)"
   ]
  },
  {
   "cell_type": "markdown",
   "id": "4299102e",
   "metadata": {},
   "source": [
    "### EDA (Light version)"
   ]
  },
  {
   "cell_type": "code",
   "execution_count": 61,
   "id": "13c9b4f5",
   "metadata": {},
   "outputs": [
    {
     "data": {
      "text/html": [
       "<div>\n",
       "<style scoped>\n",
       "    .dataframe tbody tr th:only-of-type {\n",
       "        vertical-align: middle;\n",
       "    }\n",
       "\n",
       "    .dataframe tbody tr th {\n",
       "        vertical-align: top;\n",
       "    }\n",
       "\n",
       "    .dataframe thead th {\n",
       "        text-align: right;\n",
       "    }\n",
       "</style>\n",
       "<table border=\"1\" class=\"dataframe\">\n",
       "  <thead>\n",
       "    <tr style=\"text-align: right;\">\n",
       "      <th></th>\n",
       "      <th>store</th>\n",
       "      <th>dayofweek</th>\n",
       "      <th>date</th>\n",
       "      <th>sales</th>\n",
       "      <th>customers</th>\n",
       "      <th>open</th>\n",
       "      <th>promo</th>\n",
       "      <th>lat</th>\n",
       "      <th>lon</th>\n",
       "    </tr>\n",
       "  </thead>\n",
       "  <tbody>\n",
       "    <tr>\n",
       "      <th>1016090</th>\n",
       "      <td>1111</td>\n",
       "      <td>5</td>\n",
       "      <td>2020-07-29</td>\n",
       "      <td>5723</td>\n",
       "      <td>422</td>\n",
       "      <td>1</td>\n",
       "      <td>1</td>\n",
       "      <td>55.878577</td>\n",
       "      <td>37.706292</td>\n",
       "    </tr>\n",
       "    <tr>\n",
       "      <th>1016091</th>\n",
       "      <td>1112</td>\n",
       "      <td>5</td>\n",
       "      <td>2020-07-29</td>\n",
       "      <td>9626</td>\n",
       "      <td>767</td>\n",
       "      <td>1</td>\n",
       "      <td>1</td>\n",
       "      <td>55.791374</td>\n",
       "      <td>37.823187</td>\n",
       "    </tr>\n",
       "    <tr>\n",
       "      <th>1016092</th>\n",
       "      <td>1113</td>\n",
       "      <td>5</td>\n",
       "      <td>2020-07-29</td>\n",
       "      <td>7289</td>\n",
       "      <td>720</td>\n",
       "      <td>1</td>\n",
       "      <td>1</td>\n",
       "      <td>55.756921</td>\n",
       "      <td>37.824353</td>\n",
       "    </tr>\n",
       "    <tr>\n",
       "      <th>1016093</th>\n",
       "      <td>1114</td>\n",
       "      <td>5</td>\n",
       "      <td>2020-07-29</td>\n",
       "      <td>27508</td>\n",
       "      <td>3745</td>\n",
       "      <td>1</td>\n",
       "      <td>1</td>\n",
       "      <td>55.798922</td>\n",
       "      <td>37.822139</td>\n",
       "    </tr>\n",
       "    <tr>\n",
       "      <th>1016094</th>\n",
       "      <td>1115</td>\n",
       "      <td>5</td>\n",
       "      <td>2020-07-29</td>\n",
       "      <td>8680</td>\n",
       "      <td>538</td>\n",
       "      <td>1</td>\n",
       "      <td>1</td>\n",
       "      <td>55.582867</td>\n",
       "      <td>37.653329</td>\n",
       "    </tr>\n",
       "  </tbody>\n",
       "</table>\n",
       "</div>"
      ],
      "text/plain": [
       "         store  dayofweek        date  sales  customers  open  promo  \\\n",
       "1016090   1111          5  2020-07-29   5723        422     1      1   \n",
       "1016091   1112          5  2020-07-29   9626        767     1      1   \n",
       "1016092   1113          5  2020-07-29   7289        720     1      1   \n",
       "1016093   1114          5  2020-07-29  27508       3745     1      1   \n",
       "1016094   1115          5  2020-07-29   8680        538     1      1   \n",
       "\n",
       "               lat        lon  \n",
       "1016090  55.878577  37.706292  \n",
       "1016091  55.791374  37.823187  \n",
       "1016092  55.756921  37.824353  \n",
       "1016093  55.798922  37.822139  \n",
       "1016094  55.582867  37.653329  "
      ]
     },
     "execution_count": 61,
     "metadata": {},
     "output_type": "execute_result"
    }
   ],
   "source": [
    "df.tail()"
   ]
  },
  {
   "cell_type": "code",
   "execution_count": 62,
   "id": "77daa228",
   "metadata": {},
   "outputs": [
    {
     "name": "stdout",
     "output_type": "stream",
     "text": [
      "<class 'pandas.core.frame.DataFrame'>\n",
      "RangeIndex: 1016095 entries, 0 to 1016094\n",
      "Data columns (total 9 columns):\n",
      " #   Column     Non-Null Count    Dtype  \n",
      "---  ------     --------------    -----  \n",
      " 0   store      1016095 non-null  int64  \n",
      " 1   dayofweek  1016095 non-null  int64  \n",
      " 2   date       1016095 non-null  object \n",
      " 3   sales      1016095 non-null  int64  \n",
      " 4   customers  1016095 non-null  int64  \n",
      " 5   open       1016095 non-null  int64  \n",
      " 6   promo      1016095 non-null  int64  \n",
      " 7   lat        1016095 non-null  float64\n",
      " 8   lon        1016095 non-null  float64\n",
      "dtypes: float64(2), int64(6), object(1)\n",
      "memory usage: 69.8+ MB\n"
     ]
    }
   ],
   "source": [
    "df.info()"
   ]
  },
  {
   "cell_type": "code",
   "execution_count": 63,
   "id": "f1a8aa28",
   "metadata": {},
   "outputs": [],
   "source": [
    "df_train = df[df['date'] < '2020-07-01']\n",
    "df_test = df[df['date'] >= '2020-07-01']"
   ]
  },
  {
   "cell_type": "code",
   "execution_count": 64,
   "id": "2d72ca67",
   "metadata": {},
   "outputs": [
    {
     "data": {
      "text/html": [
       "<div>\n",
       "<style scoped>\n",
       "    .dataframe tbody tr th:only-of-type {\n",
       "        vertical-align: middle;\n",
       "    }\n",
       "\n",
       "    .dataframe tbody tr th {\n",
       "        vertical-align: top;\n",
       "    }\n",
       "\n",
       "    .dataframe thead th {\n",
       "        text-align: right;\n",
       "    }\n",
       "</style>\n",
       "<table border=\"1\" class=\"dataframe\">\n",
       "  <thead>\n",
       "    <tr style=\"text-align: right;\">\n",
       "      <th></th>\n",
       "      <th>store</th>\n",
       "      <th>dayofweek</th>\n",
       "      <th>date</th>\n",
       "      <th>sales</th>\n",
       "      <th>customers</th>\n",
       "      <th>open</th>\n",
       "      <th>promo</th>\n",
       "      <th>lat</th>\n",
       "      <th>lon</th>\n",
       "    </tr>\n",
       "  </thead>\n",
       "  <tbody>\n",
       "    <tr>\n",
       "      <th>983755</th>\n",
       "      <td>1111</td>\n",
       "      <td>4</td>\n",
       "      <td>2020-06-30</td>\n",
       "      <td>3945</td>\n",
       "      <td>329</td>\n",
       "      <td>1</td>\n",
       "      <td>1</td>\n",
       "      <td>55.878577</td>\n",
       "      <td>37.706292</td>\n",
       "    </tr>\n",
       "    <tr>\n",
       "      <th>983756</th>\n",
       "      <td>1112</td>\n",
       "      <td>4</td>\n",
       "      <td>2020-06-30</td>\n",
       "      <td>7447</td>\n",
       "      <td>577</td>\n",
       "      <td>1</td>\n",
       "      <td>1</td>\n",
       "      <td>55.791374</td>\n",
       "      <td>37.823187</td>\n",
       "    </tr>\n",
       "    <tr>\n",
       "      <th>983757</th>\n",
       "      <td>1113</td>\n",
       "      <td>4</td>\n",
       "      <td>2020-06-30</td>\n",
       "      <td>7932</td>\n",
       "      <td>793</td>\n",
       "      <td>1</td>\n",
       "      <td>1</td>\n",
       "      <td>55.756921</td>\n",
       "      <td>37.824353</td>\n",
       "    </tr>\n",
       "    <tr>\n",
       "      <th>983758</th>\n",
       "      <td>1114</td>\n",
       "      <td>4</td>\n",
       "      <td>2020-06-30</td>\n",
       "      <td>24898</td>\n",
       "      <td>3784</td>\n",
       "      <td>1</td>\n",
       "      <td>1</td>\n",
       "      <td>55.798922</td>\n",
       "      <td>37.822139</td>\n",
       "    </tr>\n",
       "    <tr>\n",
       "      <th>983759</th>\n",
       "      <td>1115</td>\n",
       "      <td>4</td>\n",
       "      <td>2020-06-30</td>\n",
       "      <td>6858</td>\n",
       "      <td>452</td>\n",
       "      <td>1</td>\n",
       "      <td>1</td>\n",
       "      <td>55.582867</td>\n",
       "      <td>37.653329</td>\n",
       "    </tr>\n",
       "  </tbody>\n",
       "</table>\n",
       "</div>"
      ],
      "text/plain": [
       "        store  dayofweek        date  sales  customers  open  promo  \\\n",
       "983755   1111          4  2020-06-30   3945        329     1      1   \n",
       "983756   1112          4  2020-06-30   7447        577     1      1   \n",
       "983757   1113          4  2020-06-30   7932        793     1      1   \n",
       "983758   1114          4  2020-06-30  24898       3784     1      1   \n",
       "983759   1115          4  2020-06-30   6858        452     1      1   \n",
       "\n",
       "              lat        lon  \n",
       "983755  55.878577  37.706292  \n",
       "983756  55.791374  37.823187  \n",
       "983757  55.756921  37.824353  \n",
       "983758  55.798922  37.822139  \n",
       "983759  55.582867  37.653329  "
      ]
     },
     "execution_count": 64,
     "metadata": {},
     "output_type": "execute_result"
    }
   ],
   "source": [
    "df_train.tail()"
   ]
  },
  {
   "cell_type": "code",
   "execution_count": 65,
   "id": "0ae3a0a9",
   "metadata": {},
   "outputs": [
    {
     "data": {
      "text/html": [
       "<div>\n",
       "<style scoped>\n",
       "    .dataframe tbody tr th:only-of-type {\n",
       "        vertical-align: middle;\n",
       "    }\n",
       "\n",
       "    .dataframe tbody tr th {\n",
       "        vertical-align: top;\n",
       "    }\n",
       "\n",
       "    .dataframe thead th {\n",
       "        text-align: right;\n",
       "    }\n",
       "</style>\n",
       "<table border=\"1\" class=\"dataframe\">\n",
       "  <thead>\n",
       "    <tr style=\"text-align: right;\">\n",
       "      <th></th>\n",
       "      <th>store</th>\n",
       "      <th>dayofweek</th>\n",
       "      <th>date</th>\n",
       "      <th>sales</th>\n",
       "      <th>customers</th>\n",
       "      <th>open</th>\n",
       "      <th>promo</th>\n",
       "      <th>lat</th>\n",
       "      <th>lon</th>\n",
       "    </tr>\n",
       "  </thead>\n",
       "  <tbody>\n",
       "    <tr>\n",
       "      <th>983760</th>\n",
       "      <td>1</td>\n",
       "      <td>5</td>\n",
       "      <td>2020-07-01</td>\n",
       "      <td>4665</td>\n",
       "      <td>538</td>\n",
       "      <td>1</td>\n",
       "      <td>1</td>\n",
       "      <td>55.682829</td>\n",
       "      <td>37.416212</td>\n",
       "    </tr>\n",
       "    <tr>\n",
       "      <th>983761</th>\n",
       "      <td>2</td>\n",
       "      <td>5</td>\n",
       "      <td>2020-07-01</td>\n",
       "      <td>4838</td>\n",
       "      <td>1029</td>\n",
       "      <td>1</td>\n",
       "      <td>1</td>\n",
       "      <td>55.686410</td>\n",
       "      <td>37.415503</td>\n",
       "    </tr>\n",
       "    <tr>\n",
       "      <th>983762</th>\n",
       "      <td>3</td>\n",
       "      <td>5</td>\n",
       "      <td>2020-07-01</td>\n",
       "      <td>8149</td>\n",
       "      <td>742</td>\n",
       "      <td>1</td>\n",
       "      <td>1</td>\n",
       "      <td>55.885081</td>\n",
       "      <td>37.476452</td>\n",
       "    </tr>\n",
       "    <tr>\n",
       "      <th>983763</th>\n",
       "      <td>4</td>\n",
       "      <td>5</td>\n",
       "      <td>2020-07-01</td>\n",
       "      <td>11543</td>\n",
       "      <td>1395</td>\n",
       "      <td>1</td>\n",
       "      <td>1</td>\n",
       "      <td>55.711356</td>\n",
       "      <td>37.389027</td>\n",
       "    </tr>\n",
       "    <tr>\n",
       "      <th>983764</th>\n",
       "      <td>5</td>\n",
       "      <td>5</td>\n",
       "      <td>2020-07-01</td>\n",
       "      <td>4475</td>\n",
       "      <td>527</td>\n",
       "      <td>1</td>\n",
       "      <td>1</td>\n",
       "      <td>55.902867</td>\n",
       "      <td>37.609132</td>\n",
       "    </tr>\n",
       "  </tbody>\n",
       "</table>\n",
       "</div>"
      ],
      "text/plain": [
       "        store  dayofweek        date  sales  customers  open  promo  \\\n",
       "983760      1          5  2020-07-01   4665        538     1      1   \n",
       "983761      2          5  2020-07-01   4838       1029     1      1   \n",
       "983762      3          5  2020-07-01   8149        742     1      1   \n",
       "983763      4          5  2020-07-01  11543       1395     1      1   \n",
       "983764      5          5  2020-07-01   4475        527     1      1   \n",
       "\n",
       "              lat        lon  \n",
       "983760  55.682829  37.416212  \n",
       "983761  55.686410  37.415503  \n",
       "983762  55.885081  37.476452  \n",
       "983763  55.711356  37.389027  \n",
       "983764  55.902867  37.609132  "
      ]
     },
     "execution_count": 65,
     "metadata": {},
     "output_type": "execute_result"
    }
   ],
   "source": [
    "df_test.head()"
   ]
  },
  {
   "cell_type": "code",
   "execution_count": 66,
   "id": "0ce375bf",
   "metadata": {},
   "outputs": [],
   "source": [
    "features = [\n",
    "    'store',\n",
    "    'dayofweek',\n",
    "    'customers',\n",
    "    'open',\n",
    "    'promo'\n",
    "]\n",
    "\n",
    "target = ['sales']"
   ]
  },
  {
   "cell_type": "code",
   "execution_count": 67,
   "id": "41c993e8",
   "metadata": {},
   "outputs": [],
   "source": [
    "X_train = df_train[features]\n",
    "y_train = df_train[target]\n",
    "\n",
    "X_test = df_test[features]\n",
    "y_test = df_test[target]"
   ]
  },
  {
   "cell_type": "code",
   "execution_count": 68,
   "id": "c8d9e304",
   "metadata": {},
   "outputs": [
    {
     "data": {
      "text/html": [
       "<div>\n",
       "<style scoped>\n",
       "    .dataframe tbody tr th:only-of-type {\n",
       "        vertical-align: middle;\n",
       "    }\n",
       "\n",
       "    .dataframe tbody tr th {\n",
       "        vertical-align: top;\n",
       "    }\n",
       "\n",
       "    .dataframe thead th {\n",
       "        text-align: right;\n",
       "    }\n",
       "</style>\n",
       "<table border=\"1\" class=\"dataframe\">\n",
       "  <thead>\n",
       "    <tr style=\"text-align: right;\">\n",
       "      <th></th>\n",
       "      <th>store</th>\n",
       "      <th>dayofweek</th>\n",
       "      <th>customers</th>\n",
       "      <th>open</th>\n",
       "      <th>promo</th>\n",
       "    </tr>\n",
       "  </thead>\n",
       "  <tbody>\n",
       "    <tr>\n",
       "      <th>0</th>\n",
       "      <td>1</td>\n",
       "      <td>3</td>\n",
       "      <td>668</td>\n",
       "      <td>1</td>\n",
       "      <td>0</td>\n",
       "    </tr>\n",
       "    <tr>\n",
       "      <th>1</th>\n",
       "      <td>2</td>\n",
       "      <td>3</td>\n",
       "      <td>650</td>\n",
       "      <td>1</td>\n",
       "      <td>0</td>\n",
       "    </tr>\n",
       "    <tr>\n",
       "      <th>2</th>\n",
       "      <td>3</td>\n",
       "      <td>3</td>\n",
       "      <td>805</td>\n",
       "      <td>1</td>\n",
       "      <td>0</td>\n",
       "    </tr>\n",
       "    <tr>\n",
       "      <th>3</th>\n",
       "      <td>4</td>\n",
       "      <td>3</td>\n",
       "      <td>1429</td>\n",
       "      <td>1</td>\n",
       "      <td>0</td>\n",
       "    </tr>\n",
       "    <tr>\n",
       "      <th>4</th>\n",
       "      <td>5</td>\n",
       "      <td>3</td>\n",
       "      <td>577</td>\n",
       "      <td>1</td>\n",
       "      <td>0</td>\n",
       "    </tr>\n",
       "  </tbody>\n",
       "</table>\n",
       "</div>"
      ],
      "text/plain": [
       "   store  dayofweek  customers  open  promo\n",
       "0      1          3        668     1      0\n",
       "1      2          3        650     1      0\n",
       "2      3          3        805     1      0\n",
       "3      4          3       1429     1      0\n",
       "4      5          3        577     1      0"
      ]
     },
     "execution_count": 68,
     "metadata": {},
     "output_type": "execute_result"
    }
   ],
   "source": [
    "X_train.head()"
   ]
  },
  {
   "cell_type": "code",
   "execution_count": 69,
   "id": "569a75f3",
   "metadata": {},
   "outputs": [
    {
     "data": {
      "text/html": [
       "<div>\n",
       "<style scoped>\n",
       "    .dataframe tbody tr th:only-of-type {\n",
       "        vertical-align: middle;\n",
       "    }\n",
       "\n",
       "    .dataframe tbody tr th {\n",
       "        vertical-align: top;\n",
       "    }\n",
       "\n",
       "    .dataframe thead th {\n",
       "        text-align: right;\n",
       "    }\n",
       "</style>\n",
       "<table border=\"1\" class=\"dataframe\">\n",
       "  <thead>\n",
       "    <tr style=\"text-align: right;\">\n",
       "      <th></th>\n",
       "      <th>sales</th>\n",
       "    </tr>\n",
       "  </thead>\n",
       "  <tbody>\n",
       "    <tr>\n",
       "      <th>0</th>\n",
       "      <td>5530</td>\n",
       "    </tr>\n",
       "    <tr>\n",
       "      <th>1</th>\n",
       "      <td>4422</td>\n",
       "    </tr>\n",
       "    <tr>\n",
       "      <th>2</th>\n",
       "      <td>6823</td>\n",
       "    </tr>\n",
       "    <tr>\n",
       "      <th>3</th>\n",
       "      <td>9941</td>\n",
       "    </tr>\n",
       "    <tr>\n",
       "      <th>4</th>\n",
       "      <td>4253</td>\n",
       "    </tr>\n",
       "  </tbody>\n",
       "</table>\n",
       "</div>"
      ],
      "text/plain": [
       "   sales\n",
       "0   5530\n",
       "1   4422\n",
       "2   6823\n",
       "3   9941\n",
       "4   4253"
      ]
     },
     "execution_count": 69,
     "metadata": {},
     "output_type": "execute_result"
    }
   ],
   "source": [
    "y_train.head()"
   ]
  },
  {
   "cell_type": "markdown",
   "id": "ea1585df",
   "metadata": {},
   "source": [
    "### Model"
   ]
  },
  {
   "cell_type": "code",
   "execution_count": 86,
   "id": "217ae7f3",
   "metadata": {},
   "outputs": [],
   "source": [
    "model = LinearRegression()"
   ]
  },
  {
   "cell_type": "code",
   "execution_count": 71,
   "id": "e594182c",
   "metadata": {},
   "outputs": [
    {
     "data": {
      "text/html": [
       "<style>#sk-container-id-4 {color: black;background-color: white;}#sk-container-id-4 pre{padding: 0;}#sk-container-id-4 div.sk-toggleable {background-color: white;}#sk-container-id-4 label.sk-toggleable__label {cursor: pointer;display: block;width: 100%;margin-bottom: 0;padding: 0.3em;box-sizing: border-box;text-align: center;}#sk-container-id-4 label.sk-toggleable__label-arrow:before {content: \"▸\";float: left;margin-right: 0.25em;color: #696969;}#sk-container-id-4 label.sk-toggleable__label-arrow:hover:before {color: black;}#sk-container-id-4 div.sk-estimator:hover label.sk-toggleable__label-arrow:before {color: black;}#sk-container-id-4 div.sk-toggleable__content {max-height: 0;max-width: 0;overflow: hidden;text-align: left;background-color: #f0f8ff;}#sk-container-id-4 div.sk-toggleable__content pre {margin: 0.2em;color: black;border-radius: 0.25em;background-color: #f0f8ff;}#sk-container-id-4 input.sk-toggleable__control:checked~div.sk-toggleable__content {max-height: 200px;max-width: 100%;overflow: auto;}#sk-container-id-4 input.sk-toggleable__control:checked~label.sk-toggleable__label-arrow:before {content: \"▾\";}#sk-container-id-4 div.sk-estimator input.sk-toggleable__control:checked~label.sk-toggleable__label {background-color: #d4ebff;}#sk-container-id-4 div.sk-label input.sk-toggleable__control:checked~label.sk-toggleable__label {background-color: #d4ebff;}#sk-container-id-4 input.sk-hidden--visually {border: 0;clip: rect(1px 1px 1px 1px);clip: rect(1px, 1px, 1px, 1px);height: 1px;margin: -1px;overflow: hidden;padding: 0;position: absolute;width: 1px;}#sk-container-id-4 div.sk-estimator {font-family: monospace;background-color: #f0f8ff;border: 1px dotted black;border-radius: 0.25em;box-sizing: border-box;margin-bottom: 0.5em;}#sk-container-id-4 div.sk-estimator:hover {background-color: #d4ebff;}#sk-container-id-4 div.sk-parallel-item::after {content: \"\";width: 100%;border-bottom: 1px solid gray;flex-grow: 1;}#sk-container-id-4 div.sk-label:hover label.sk-toggleable__label {background-color: #d4ebff;}#sk-container-id-4 div.sk-serial::before {content: \"\";position: absolute;border-left: 1px solid gray;box-sizing: border-box;top: 0;bottom: 0;left: 50%;z-index: 0;}#sk-container-id-4 div.sk-serial {display: flex;flex-direction: column;align-items: center;background-color: white;padding-right: 0.2em;padding-left: 0.2em;position: relative;}#sk-container-id-4 div.sk-item {position: relative;z-index: 1;}#sk-container-id-4 div.sk-parallel {display: flex;align-items: stretch;justify-content: center;background-color: white;position: relative;}#sk-container-id-4 div.sk-item::before, #sk-container-id-4 div.sk-parallel-item::before {content: \"\";position: absolute;border-left: 1px solid gray;box-sizing: border-box;top: 0;bottom: 0;left: 50%;z-index: -1;}#sk-container-id-4 div.sk-parallel-item {display: flex;flex-direction: column;z-index: 1;position: relative;background-color: white;}#sk-container-id-4 div.sk-parallel-item:first-child::after {align-self: flex-end;width: 50%;}#sk-container-id-4 div.sk-parallel-item:last-child::after {align-self: flex-start;width: 50%;}#sk-container-id-4 div.sk-parallel-item:only-child::after {width: 0;}#sk-container-id-4 div.sk-dashed-wrapped {border: 1px dashed gray;margin: 0 0.4em 0.5em 0.4em;box-sizing: border-box;padding-bottom: 0.4em;background-color: white;}#sk-container-id-4 div.sk-label label {font-family: monospace;font-weight: bold;display: inline-block;line-height: 1.2em;}#sk-container-id-4 div.sk-label-container {text-align: center;}#sk-container-id-4 div.sk-container {/* jupyter's `normalize.less` sets `[hidden] { display: none; }` but bootstrap.min.css set `[hidden] { display: none !important; }` so we also need the `!important` here to be able to override the default hidden behavior on the sphinx rendered scikit-learn.org. See: https://github.com/scikit-learn/scikit-learn/issues/21755 */display: inline-block !important;position: relative;}#sk-container-id-4 div.sk-text-repr-fallback {display: none;}</style><div id=\"sk-container-id-4\" class=\"sk-top-container\"><div class=\"sk-text-repr-fallback\"><pre>LinearRegression()</pre><b>In a Jupyter environment, please rerun this cell to show the HTML representation or trust the notebook. <br />On GitHub, the HTML representation is unable to render, please try loading this page with nbviewer.org.</b></div><div class=\"sk-container\" hidden><div class=\"sk-item\"><div class=\"sk-estimator sk-toggleable\"><input class=\"sk-toggleable__control sk-hidden--visually\" id=\"sk-estimator-id-4\" type=\"checkbox\" checked><label for=\"sk-estimator-id-4\" class=\"sk-toggleable__label sk-toggleable__label-arrow\">LinearRegression</label><div class=\"sk-toggleable__content\"><pre>LinearRegression()</pre></div></div></div></div></div>"
      ],
      "text/plain": [
       "LinearRegression()"
      ]
     },
     "execution_count": 71,
     "metadata": {},
     "output_type": "execute_result"
    }
   ],
   "source": [
    "model.fit(X_train, y_train)"
   ]
  },
  {
   "cell_type": "code",
   "execution_count": 72,
   "id": "fdea291a",
   "metadata": {},
   "outputs": [],
   "source": [
    "coefs = model.coef_[0]"
   ]
  },
  {
   "cell_type": "code",
   "execution_count": 73,
   "id": "59eefb3a",
   "metadata": {},
   "outputs": [
    {
     "data": {
      "text/plain": [
       "array([352.11911259])"
      ]
     },
     "execution_count": 73,
     "metadata": {},
     "output_type": "execute_result"
    }
   ],
   "source": [
    "intercept = model.intercept_\n",
    "intercept"
   ]
  },
  {
   "cell_type": "code",
   "execution_count": 74,
   "id": "901b0302",
   "metadata": {},
   "outputs": [
    {
     "data": {
      "text/html": [
       "<div>\n",
       "<style scoped>\n",
       "    .dataframe tbody tr th:only-of-type {\n",
       "        vertical-align: middle;\n",
       "    }\n",
       "\n",
       "    .dataframe tbody tr th {\n",
       "        vertical-align: top;\n",
       "    }\n",
       "\n",
       "    .dataframe thead th {\n",
       "        text-align: right;\n",
       "    }\n",
       "</style>\n",
       "<table border=\"1\" class=\"dataframe\">\n",
       "  <thead>\n",
       "    <tr style=\"text-align: right;\">\n",
       "      <th></th>\n",
       "      <th>store</th>\n",
       "      <th>dayofweek</th>\n",
       "      <th>customers</th>\n",
       "      <th>open</th>\n",
       "      <th>promo</th>\n",
       "    </tr>\n",
       "  </thead>\n",
       "  <tbody>\n",
       "    <tr>\n",
       "      <th>0</th>\n",
       "      <td>1</td>\n",
       "      <td>3</td>\n",
       "      <td>668</td>\n",
       "      <td>1</td>\n",
       "      <td>0</td>\n",
       "    </tr>\n",
       "  </tbody>\n",
       "</table>\n",
       "</div>"
      ],
      "text/plain": [
       "   store  dayofweek  customers  open  promo\n",
       "0      1          3        668     1      0"
      ]
     },
     "execution_count": 74,
     "metadata": {},
     "output_type": "execute_result"
    }
   ],
   "source": [
    "df_train[features].head(1)"
   ]
  },
  {
   "cell_type": "code",
   "execution_count": 75,
   "id": "ea0004f3",
   "metadata": {},
   "outputs": [
    {
     "data": {
      "text/plain": [
       "array([5918.71726263])"
      ]
     },
     "execution_count": 75,
     "metadata": {},
     "output_type": "execute_result"
    }
   ],
   "source": [
    "1 * coefs[0] + 3 * coefs[1] + 668 * coefs[2] + 1 * coefs[3] + 0 * coefs[4] + intercept"
   ]
  },
  {
   "cell_type": "code",
   "execution_count": 76,
   "id": "7cb52f84",
   "metadata": {},
   "outputs": [
    {
     "data": {
      "text/plain": [
       "array([[5918.71726263]])"
      ]
     },
     "execution_count": 76,
     "metadata": {},
     "output_type": "execute_result"
    }
   ],
   "source": [
    "model.predict(X_train.head(1))"
   ]
  },
  {
   "cell_type": "code",
   "execution_count": 77,
   "id": "51f02034",
   "metadata": {},
   "outputs": [
    {
     "data": {
      "text/html": [
       "<div>\n",
       "<style scoped>\n",
       "    .dataframe tbody tr th:only-of-type {\n",
       "        vertical-align: middle;\n",
       "    }\n",
       "\n",
       "    .dataframe tbody tr th {\n",
       "        vertical-align: top;\n",
       "    }\n",
       "\n",
       "    .dataframe thead th {\n",
       "        text-align: right;\n",
       "    }\n",
       "</style>\n",
       "<table border=\"1\" class=\"dataframe\">\n",
       "  <thead>\n",
       "    <tr style=\"text-align: right;\">\n",
       "      <th></th>\n",
       "      <th>store</th>\n",
       "      <th>dayofweek</th>\n",
       "      <th>customers</th>\n",
       "      <th>open</th>\n",
       "      <th>promo</th>\n",
       "    </tr>\n",
       "  </thead>\n",
       "  <tbody>\n",
       "    <tr>\n",
       "      <th>0</th>\n",
       "      <td>1</td>\n",
       "      <td>3</td>\n",
       "      <td>668</td>\n",
       "      <td>1</td>\n",
       "      <td>0</td>\n",
       "    </tr>\n",
       "  </tbody>\n",
       "</table>\n",
       "</div>"
      ],
      "text/plain": [
       "   store  dayofweek  customers  open  promo\n",
       "0      1          3        668     1      0"
      ]
     },
     "execution_count": 77,
     "metadata": {},
     "output_type": "execute_result"
    }
   ],
   "source": [
    "X_train.head(1)"
   ]
  },
  {
   "cell_type": "code",
   "execution_count": 78,
   "id": "1dbcf6d1",
   "metadata": {},
   "outputs": [
    {
     "data": {
      "text/plain": [
       "array([[ 5918.71726263],\n",
       "       [ 5809.22276437],\n",
       "       [ 6750.64047619],\n",
       "       ...,\n",
       "       [ 7725.64445989],\n",
       "       [25894.73285244],\n",
       "       [ 5653.89116239]])"
      ]
     },
     "execution_count": 78,
     "metadata": {},
     "output_type": "execute_result"
    }
   ],
   "source": [
    "pred_train = model.predict(X_train)\n",
    "pred_train"
   ]
  },
  {
   "cell_type": "code",
   "execution_count": 79,
   "id": "d24b2237",
   "metadata": {},
   "outputs": [
    {
     "data": {
      "text/html": [
       "<div>\n",
       "<style scoped>\n",
       "    .dataframe tbody tr th:only-of-type {\n",
       "        vertical-align: middle;\n",
       "    }\n",
       "\n",
       "    .dataframe tbody tr th {\n",
       "        vertical-align: top;\n",
       "    }\n",
       "\n",
       "    .dataframe thead th {\n",
       "        text-align: right;\n",
       "    }\n",
       "</style>\n",
       "<table border=\"1\" class=\"dataframe\">\n",
       "  <thead>\n",
       "    <tr style=\"text-align: right;\">\n",
       "      <th></th>\n",
       "      <th>sales</th>\n",
       "    </tr>\n",
       "  </thead>\n",
       "  <tbody>\n",
       "    <tr>\n",
       "      <th>0</th>\n",
       "      <td>5530</td>\n",
       "    </tr>\n",
       "    <tr>\n",
       "      <th>1</th>\n",
       "      <td>4422</td>\n",
       "    </tr>\n",
       "    <tr>\n",
       "      <th>2</th>\n",
       "      <td>6823</td>\n",
       "    </tr>\n",
       "    <tr>\n",
       "      <th>3</th>\n",
       "      <td>9941</td>\n",
       "    </tr>\n",
       "    <tr>\n",
       "      <th>4</th>\n",
       "      <td>4253</td>\n",
       "    </tr>\n",
       "    <tr>\n",
       "      <th>...</th>\n",
       "      <td>...</td>\n",
       "    </tr>\n",
       "    <tr>\n",
       "      <th>983755</th>\n",
       "      <td>3945</td>\n",
       "    </tr>\n",
       "    <tr>\n",
       "      <th>983756</th>\n",
       "      <td>7447</td>\n",
       "    </tr>\n",
       "    <tr>\n",
       "      <th>983757</th>\n",
       "      <td>7932</td>\n",
       "    </tr>\n",
       "    <tr>\n",
       "      <th>983758</th>\n",
       "      <td>24898</td>\n",
       "    </tr>\n",
       "    <tr>\n",
       "      <th>983759</th>\n",
       "      <td>6858</td>\n",
       "    </tr>\n",
       "  </tbody>\n",
       "</table>\n",
       "<p>983760 rows × 1 columns</p>\n",
       "</div>"
      ],
      "text/plain": [
       "        sales\n",
       "0        5530\n",
       "1        4422\n",
       "2        6823\n",
       "3        9941\n",
       "4        4253\n",
       "...       ...\n",
       "983755   3945\n",
       "983756   7447\n",
       "983757   7932\n",
       "983758  24898\n",
       "983759   6858\n",
       "\n",
       "[983760 rows x 1 columns]"
      ]
     },
     "execution_count": 79,
     "metadata": {},
     "output_type": "execute_result"
    }
   ],
   "source": [
    "y_train"
   ]
  },
  {
   "cell_type": "code",
   "execution_count": 80,
   "id": "9a1dfd2d",
   "metadata": {},
   "outputs": [
    {
     "data": {
      "text/html": [
       "<div>\n",
       "<style scoped>\n",
       "    .dataframe tbody tr th:only-of-type {\n",
       "        vertical-align: middle;\n",
       "    }\n",
       "\n",
       "    .dataframe tbody tr th {\n",
       "        vertical-align: top;\n",
       "    }\n",
       "\n",
       "    .dataframe thead th {\n",
       "        text-align: right;\n",
       "    }\n",
       "</style>\n",
       "<table border=\"1\" class=\"dataframe\">\n",
       "  <thead>\n",
       "    <tr style=\"text-align: right;\">\n",
       "      <th></th>\n",
       "      <th>pred</th>\n",
       "      <th>sales</th>\n",
       "    </tr>\n",
       "  </thead>\n",
       "  <tbody>\n",
       "    <tr>\n",
       "      <th>0</th>\n",
       "      <td>5918.717263</td>\n",
       "      <td>5530</td>\n",
       "    </tr>\n",
       "    <tr>\n",
       "      <th>1</th>\n",
       "      <td>5809.222764</td>\n",
       "      <td>4422</td>\n",
       "    </tr>\n",
       "    <tr>\n",
       "      <th>2</th>\n",
       "      <td>6750.640476</td>\n",
       "      <td>6823</td>\n",
       "    </tr>\n",
       "    <tr>\n",
       "      <th>3</th>\n",
       "      <td>10541.062966</td>\n",
       "      <td>9941</td>\n",
       "    </tr>\n",
       "    <tr>\n",
       "      <th>4</th>\n",
       "      <td>5365.321166</td>\n",
       "      <td>4253</td>\n",
       "    </tr>\n",
       "    <tr>\n",
       "      <th>...</th>\n",
       "      <td>...</td>\n",
       "      <td>...</td>\n",
       "    </tr>\n",
       "    <tr>\n",
       "      <th>983755</th>\n",
       "      <td>4907.314930</td>\n",
       "      <td>3945</td>\n",
       "    </tr>\n",
       "    <tr>\n",
       "      <th>983756</th>\n",
       "      <td>6413.673888</td>\n",
       "      <td>7447</td>\n",
       "    </tr>\n",
       "    <tr>\n",
       "      <th>983757</th>\n",
       "      <td>7725.644460</td>\n",
       "      <td>7932</td>\n",
       "    </tr>\n",
       "    <tr>\n",
       "      <th>983758</th>\n",
       "      <td>25894.732852</td>\n",
       "      <td>24898</td>\n",
       "    </tr>\n",
       "    <tr>\n",
       "      <th>983759</th>\n",
       "      <td>5653.891162</td>\n",
       "      <td>6858</td>\n",
       "    </tr>\n",
       "  </tbody>\n",
       "</table>\n",
       "<p>983760 rows × 2 columns</p>\n",
       "</div>"
      ],
      "text/plain": [
       "                pred  sales\n",
       "0        5918.717263   5530\n",
       "1        5809.222764   4422\n",
       "2        6750.640476   6823\n",
       "3       10541.062966   9941\n",
       "4        5365.321166   4253\n",
       "...              ...    ...\n",
       "983755   4907.314930   3945\n",
       "983756   6413.673888   7447\n",
       "983757   7725.644460   7932\n",
       "983758  25894.732852  24898\n",
       "983759   5653.891162   6858\n",
       "\n",
       "[983760 rows x 2 columns]"
      ]
     },
     "execution_count": 80,
     "metadata": {},
     "output_type": "execute_result"
    }
   ],
   "source": [
    "train_preds = pd.DataFrame({'pred': pred_train.flatten(), 'sales': y_train['sales']})\n",
    "train_preds"
   ]
  },
  {
   "cell_type": "code",
   "execution_count": 81,
   "id": "1a627a31",
   "metadata": {},
   "outputs": [],
   "source": [
    "pred_test = model.predict(X_test)"
   ]
  },
  {
   "cell_type": "code",
   "execution_count": 82,
   "id": "673cdf62",
   "metadata": {},
   "outputs": [
    {
     "data": {
      "text/plain": [
       "array([[ 6289.00153871],\n",
       "       [ 9271.49730015],\n",
       "       [ 7527.9254348 ],\n",
       "       ...,\n",
       "       [ 7226.63866794],\n",
       "       [25602.26472028],\n",
       "       [ 6120.75266178]])"
      ]
     },
     "execution_count": 82,
     "metadata": {},
     "output_type": "execute_result"
    }
   ],
   "source": [
    "pred_test"
   ]
  },
  {
   "cell_type": "code",
   "execution_count": 83,
   "id": "b2292be3",
   "metadata": {},
   "outputs": [
    {
     "data": {
      "text/html": [
       "<div>\n",
       "<style scoped>\n",
       "    .dataframe tbody tr th:only-of-type {\n",
       "        vertical-align: middle;\n",
       "    }\n",
       "\n",
       "    .dataframe tbody tr th {\n",
       "        vertical-align: top;\n",
       "    }\n",
       "\n",
       "    .dataframe thead th {\n",
       "        text-align: right;\n",
       "    }\n",
       "</style>\n",
       "<table border=\"1\" class=\"dataframe\">\n",
       "  <thead>\n",
       "    <tr style=\"text-align: right;\">\n",
       "      <th></th>\n",
       "      <th>pred</th>\n",
       "      <th>sales</th>\n",
       "    </tr>\n",
       "  </thead>\n",
       "  <tbody>\n",
       "    <tr>\n",
       "      <th>983760</th>\n",
       "      <td>6289.001539</td>\n",
       "      <td>4665</td>\n",
       "    </tr>\n",
       "    <tr>\n",
       "      <th>983761</th>\n",
       "      <td>9271.497300</td>\n",
       "      <td>4838</td>\n",
       "    </tr>\n",
       "    <tr>\n",
       "      <th>983762</th>\n",
       "      <td>7527.925435</td>\n",
       "      <td>8149</td>\n",
       "    </tr>\n",
       "    <tr>\n",
       "      <th>983763</th>\n",
       "      <td>11494.512399</td>\n",
       "      <td>11543</td>\n",
       "    </tr>\n",
       "    <tr>\n",
       "      <th>983764</th>\n",
       "      <td>6221.576406</td>\n",
       "      <td>4475</td>\n",
       "    </tr>\n",
       "    <tr>\n",
       "      <th>...</th>\n",
       "      <td>...</td>\n",
       "      <td>...</td>\n",
       "    </tr>\n",
       "    <tr>\n",
       "      <th>1016090</th>\n",
       "      <td>5416.698889</td>\n",
       "      <td>5723</td>\n",
       "    </tr>\n",
       "    <tr>\n",
       "      <th>1016091</th>\n",
       "      <td>7512.297641</td>\n",
       "      <td>9626</td>\n",
       "    </tr>\n",
       "    <tr>\n",
       "      <th>1016092</th>\n",
       "      <td>7226.638668</td>\n",
       "      <td>7289</td>\n",
       "    </tr>\n",
       "    <tr>\n",
       "      <th>1016093</th>\n",
       "      <td>25602.264720</td>\n",
       "      <td>27508</td>\n",
       "    </tr>\n",
       "    <tr>\n",
       "      <th>1016094</th>\n",
       "      <td>6120.752662</td>\n",
       "      <td>8680</td>\n",
       "    </tr>\n",
       "  </tbody>\n",
       "</table>\n",
       "<p>32335 rows × 2 columns</p>\n",
       "</div>"
      ],
      "text/plain": [
       "                 pred  sales\n",
       "983760    6289.001539   4665\n",
       "983761    9271.497300   4838\n",
       "983762    7527.925435   8149\n",
       "983763   11494.512399  11543\n",
       "983764    6221.576406   4475\n",
       "...               ...    ...\n",
       "1016090   5416.698889   5723\n",
       "1016091   7512.297641   9626\n",
       "1016092   7226.638668   7289\n",
       "1016093  25602.264720  27508\n",
       "1016094   6120.752662   8680\n",
       "\n",
       "[32335 rows x 2 columns]"
      ]
     },
     "execution_count": 83,
     "metadata": {},
     "output_type": "execute_result"
    }
   ],
   "source": [
    "test_preds = pd.DataFrame({'pred': pred_test.flatten(), 'sales': y_test['sales']})\n",
    "test_preds"
   ]
  },
  {
   "cell_type": "code",
   "execution_count": 84,
   "id": "94adf758",
   "metadata": {},
   "outputs": [],
   "source": [
    "from sklearn.metrics import mean_squared_error, r2_score"
   ]
  },
  {
   "cell_type": "code",
   "execution_count": 85,
   "id": "30bdcf0e",
   "metadata": {},
   "outputs": [
    {
     "name": "stdout",
     "output_type": "stream",
     "text": [
      "MSE train 2188564.0929350276\n",
      "MSE test 2308053.3515654523\n",
      "\n",
      "R2 train 0.8526676817253495\n",
      "R2 test 0.8242831203993978\n"
     ]
    }
   ],
   "source": [
    "print(f\"MSE train {mean_squared_error(y_train, pred_train)}\")\n",
    "print(f\"MSE test {mean_squared_error(y_test, pred_test)}\")\n",
    "print()\n",
    "print(f\"R2 train {r2_score(y_train, pred_train)}\")\n",
    "print(f\"R2 test {r2_score(y_test, pred_test)}\")"
   ]
  },
  {
   "cell_type": "code",
   "execution_count": null,
   "id": "269f74d2",
   "metadata": {},
   "outputs": [],
   "source": []
  }
 ],
 "metadata": {
  "kernelspec": {
   "display_name": "Python 3 (ipykernel)",
   "language": "python",
   "name": "python3"
  },
  "language_info": {
   "codemirror_mode": {
    "name": "ipython",
    "version": 3
   },
   "file_extension": ".py",
   "mimetype": "text/x-python",
   "name": "python",
   "nbconvert_exporter": "python",
   "pygments_lexer": "ipython3",
   "version": "3.10.6"
  }
 },
 "nbformat": 4,
 "nbformat_minor": 5
}
