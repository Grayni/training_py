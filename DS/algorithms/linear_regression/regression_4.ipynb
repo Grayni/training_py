{
 "cells": [
  {
   "cell_type": "code",
   "execution_count": 1,
   "metadata": {},
   "outputs": [],
   "source": [
    "import pandas as pd\n",
    "import numpy as np\n",
    "import seaborn as sns\n",
    "import matplotlib.pyplot as plt\n",
    "from sklearn.linear_model import LinearRegression\n",
    "from sklearn.metrics import mean_absolute_error, r2_score\n",
    "from sklearn.preprocessing import StandardScaler, PolynomialFeatures\n",
    "from sklearn.pipeline import make_pipeline\n",
    "\n",
    "plt.style.use('dark_background')"
   ]
  },
  {
   "cell_type": "code",
   "execution_count": 2,
   "metadata": {
    "pycharm": {
     "name": "#%%\n"
    }
   },
   "outputs": [],
   "source": [
    "import tensorflow as tf\n",
    "\n",
    "(X_train, y_train), (X_test, y_test) = tf.keras.datasets.fashion_mnist.load_data()"
   ]
  },
  {
   "cell_type": "code",
   "execution_count": 3,
   "metadata": {
    "pycharm": {
     "name": "#%%\n"
    }
   },
   "outputs": [],
   "source": [
    "X_train = tf.image.resize(X_train[..., np.newaxis], (14, 14))[..., 0]\n",
    "X_test = tf.image.resize(X_test[..., np.newaxis], (14, 14))[..., 0]"
   ]
  },
  {
   "cell_type": "code",
   "execution_count": 4,
   "metadata": {
    "pycharm": {
     "name": "#%%\n"
    }
   },
   "outputs": [
    {
     "data": {
      "text/plain": "TensorShape([60000, 14, 14])"
     },
     "execution_count": 4,
     "metadata": {},
     "output_type": "execute_result"
    }
   ],
   "source": [
    "X_train.shape"
   ]
  },
  {
   "cell_type": "code",
   "execution_count": 5,
   "metadata": {
    "pycharm": {
     "name": "#%%\n"
    }
   },
   "outputs": [
    {
     "data": {
      "text/plain": "TensorShape([10000, 14, 14])"
     },
     "execution_count": 5,
     "metadata": {},
     "output_type": "execute_result"
    }
   ],
   "source": [
    "X_test.shape"
   ]
  },
  {
   "cell_type": "code",
   "execution_count": 6,
   "metadata": {
    "pycharm": {
     "name": "#%%\n"
    }
   },
   "outputs": [],
   "source": [
    "X_train = X_train[:1000]\n",
    "y_train = y_train[:1000]\n",
    "\n",
    "X_test = X_test[:1000]\n",
    "y_test = y_test[:1000]"
   ]
  },
  {
   "cell_type": "code",
   "execution_count": 7,
   "metadata": {
    "pycharm": {
     "name": "#%%\n"
    }
   },
   "outputs": [
    {
     "data": {
      "text/plain": "<Figure size 1000x400 with 10 Axes>",
      "image/png": "[encoded data removed]"
     },
     "metadata": {},
     "output_type": "display_data"
    }
   ],
   "source": [
    "plt.figure(figsize=(10, 4))\n",
    "\n",
    "dims=10\n",
    "\n",
    "for i in range(10):\n",
    "    plt.subplot(2, 5, i+1)\n",
    "    plt.imshow(X_train[i, :], cmap='gray')\n"
   ]
  },
  {
   "cell_type": "code",
   "execution_count": 8,
   "outputs": [
    {
     "data": {
      "text/plain": "array([[[  0.  ,   0.  ,   0.  , ...,   0.  ,   0.  ,   0.  ],\n        [  0.  ,   0.  ,   0.  , ...,   0.  ,   0.25,   0.25],\n        [  0.  ,   0.  ,   0.  , ...,   1.  ,   4.  ,   3.25],\n        ...,\n        [ 30.5 , 168.75, 188.25, ..., 178.5 , 188.  , 118.  ],\n        [  0.5 ,   0.  ,  66.5 , ...,  83.5 ,  39.25,   0.  ],\n        [  0.  ,   0.  ,   0.  , ...,   0.  ,   0.  ,   0.  ]],\n\n       [[  0.  ,   0.25,   0.25, ...,  11.25,   0.  ,   0.  ],\n        [  0.  ,   0.  ,  50.5 , ..., 203.25,  10.25,   0.  ],\n        [  0.  ,   0.  , 153.  , ..., 212.75,  91.  ,   0.  ],\n        ...,\n        [  0.  ,   0.  ,   0.25, ...,   0.75,   0.  ,   0.  ],\n        [  0.  ,   0.  ,   0.25, ...,   0.25,   0.  ,   0.  ],\n        [  0.  ,   0.  ,   0.25, ...,   0.5 ,   0.  ,   0.  ]],\n\n       [[  0.  ,   0.  ,   0.  , ...,   0.  ,   0.  ,   0.  ],\n        [  0.  ,   0.  ,   0.  , ...,   0.  ,   0.  ,   0.  ],\n        [  0.  ,   0.  ,   0.  , ...,   0.  ,   0.  ,   0.  ],\n        ...,\n        [  0.  ,   0.  ,   0.  , ...,   0.  ,   0.  ,   0.  ],\n        [  0.  ,   0.  ,   0.  , ...,   0.  ,   0.  ,   0.  ],\n        [  0.  ,   0.  ,   0.  , ...,   0.  ,   0.  ,   0.  ]],\n\n       ...,\n\n       [[  0.  ,   0.  ,   0.  , ...,   0.  ,   0.  ,   0.  ],\n        [  0.  ,   0.  ,   0.  , ...,   0.  ,   0.  ,   0.  ],\n        [  0.  ,   0.  ,   0.  , ...,   0.  ,   0.  ,   0.  ],\n        ...,\n        [  0.  ,   0.  ,   0.  , ...,  13.25,   0.  ,   0.  ],\n        [  0.  ,   0.  ,   0.  , ...,  23.5 ,   0.  ,   0.  ],\n        [  0.  ,   0.  ,   0.  , ...,  15.5 ,   0.  ,   0.  ]],\n\n       [[  0.  ,   0.  ,   0.  , ...,   0.  ,   0.  ,   0.  ],\n        [  0.  ,   0.  ,   0.  , ...,   0.  ,   0.  ,   0.  ],\n        [  0.  ,   0.  ,   0.  , ..., 109.25, 105.25,  68.  ],\n        ...,\n        [ 22.25, 101.25, 176.75, ..., 177.25, 185.25,  96.5 ],\n        [  0.25,   0.  ,   0.  , ...,   4.5 ,   0.5 ,   0.  ],\n        [  0.  ,   0.  ,   0.  , ...,   0.  ,   0.  ,   0.  ]],\n\n       [[  0.  ,   0.  ,   0.  , ...,   0.  ,   0.  ,   0.  ],\n        [  0.  ,   0.  ,   0.  , ...,   0.  ,   0.  ,   0.  ],\n        [  0.  ,   0.75,   0.5 , ...,   0.5 ,   0.75,   0.  ],\n        ...,\n        [ 85.75, 112.5 , 130.5 , ...,  97.5 ,  79.75,   1.  ],\n        [  0.  ,   0.  ,   0.  , ...,   0.  ,   0.  ,   0.  ],\n        [  0.  ,   0.  ,   0.  , ...,   0.  ,   0.  ,   0.  ]]],\n      dtype=float32)"
     },
     "execution_count": 8,
     "metadata": {},
     "output_type": "execute_result"
    }
   ],
   "source": [
    "X_train = X_train.numpy()\n",
    "X_train"
   ],
   "metadata": {
    "collapsed": false,
    "pycharm": {
     "name": "#%%\n"
    }
   }
  },
  {
   "cell_type": "code",
   "execution_count": 9,
   "outputs": [],
   "source": [
    "X_test = X_test.numpy()"
   ],
   "metadata": {
    "collapsed": false,
    "pycharm": {
     "name": "#%%\n"
    }
   }
  },
  {
   "cell_type": "code",
   "execution_count": 10,
   "outputs": [
    {
     "data": {
      "text/plain": "array([[ 0.  ,  0.  ,  0.  , ...,  0.  ,  0.  ,  0.  ],\n       [ 0.  ,  0.25,  0.25, ...,  0.5 ,  0.  ,  0.  ],\n       [ 0.  ,  0.  ,  0.  , ...,  0.  ,  0.  ,  0.  ],\n       ...,\n       [ 0.  ,  0.  ,  0.  , ..., 15.5 ,  0.  ,  0.  ],\n       [ 0.  ,  0.  ,  0.  , ...,  0.  ,  0.  ,  0.  ],\n       [ 0.  ,  0.  ,  0.  , ...,  0.  ,  0.  ,  0.  ]], dtype=float32)"
     },
     "execution_count": 10,
     "metadata": {},
     "output_type": "execute_result"
    }
   ],
   "source": [
    "X_train = X_train.reshape(X_train.shape[0], -1)\n",
    "X_train"
   ],
   "metadata": {
    "collapsed": false,
    "pycharm": {
     "name": "#%%\n"
    }
   }
  },
  {
   "cell_type": "code",
   "execution_count": 11,
   "outputs": [
    {
     "data": {
      "text/plain": "array([[  0.  ,   0.  ,   0.  , ...,   0.  ,   0.  ,   0.  ],\n       [  0.  ,   0.  ,   0.  , ..., 216.75,  47.5 ,   0.  ],\n       [  0.  ,   0.  ,   0.  , ...,   0.  ,   0.  ,   0.  ],\n       ...,\n       [  0.  ,   0.  ,   0.  , ...,  89.25, 215.25,  72.  ],\n       [  0.  ,   0.  ,   0.  , ...,   0.  ,   0.  ,   0.  ],\n       [  0.  ,   0.  ,   0.  , ...,   0.  ,   0.  ,   0.  ]],\n      dtype=float32)"
     },
     "execution_count": 11,
     "metadata": {},
     "output_type": "execute_result"
    }
   ],
   "source": [
    "X_test = X_test.reshape(X_test.shape[0], -1)\n",
    "X_test"
   ],
   "metadata": {
    "collapsed": false,
    "pycharm": {
     "name": "#%%\n"
    }
   }
  },
  {
   "cell_type": "markdown",
   "source": [
    "#### Model 1 (LinearRegression)"
   ],
   "metadata": {
    "collapsed": false,
    "pycharm": {
     "name": "#%% md\n"
    }
   }
  },
  {
   "cell_type": "code",
   "execution_count": 12,
   "outputs": [
    {
     "name": "stdout",
     "output_type": "stream",
     "text": [
      "MAE train:  0.98506993\n",
      "R2 train:  0.7518615309735829\n",
      "\n",
      "MAE test:  1.239012\n",
      "R2 test:  0.6067447586318123\n"
     ]
    }
   ],
   "source": [
    "scaler = StandardScaler()\n",
    "X_train_scaled = scaler.fit_transform(X_train)\n",
    "X_test_scaled = scaler.transform(X_test)\n",
    "\n",
    "model = LinearRegression()\n",
    "model.fit(X_train_scaled, y_train)\n",
    "pred_train = model.predict(X_train_scaled)\n",
    "pred_test = model.predict(X_test_scaled)\n",
    "\n",
    "print('MAE train: ', mean_absolute_error(pred_train, y_train))\n",
    "print('R2 train: ', r2_score(pred_train, y_train))\n",
    "print()\n",
    "print('MAE test: ', mean_absolute_error(pred_test, y_test))\n",
    "print('R2 test: ', r2_score(pred_test, y_test))"
   ],
   "metadata": {
    "collapsed": false,
    "pycharm": {
     "name": "#%%\n"
    }
   }
  },
  {
   "cell_type": "markdown",
   "source": [
    "#### Model 2 (PolynomialRegression)"
   ],
   "metadata": {
    "collapsed": false,
    "pycharm": {
     "name": "#%% md\n"
    }
   }
  },
  {
   "cell_type": "code",
   "source": [
    "%%time\n",
    "\n",
    "pipe = make_pipeline(StandardScaler(), PolynomialFeatures(degree=2), LinearRegression())\n",
    "pipe.fit(X_train, y_train)"
   ],
   "metadata": {
    "collapsed": false,
    "pycharm": {
     "name": "#%%\n"
    }
   },
   "execution_count": 14,
   "outputs": [
    {
     "name": "stdout",
     "output_type": "stream",
     "text": [
      "CPU times: total: 8.38 s\n",
      "Wall time: 2.12 s\n"
     ]
    },
    {
     "data": {
      "text/plain": "Pipeline(steps=[('standardscaler', StandardScaler()),\n                ('polynomialfeatures', PolynomialFeatures()),\n                ('linearregression', LinearRegression())])",
      "text/html": "<style>#sk-container-id-1 {color: black;background-color: white;}#sk-container-id-1 pre{padding: 0;}#sk-container-id-1 div.sk-toggleable {background-color: white;}#sk-container-id-1 label.sk-toggleable__label {cursor: pointer;display: block;width: 100%;margin-bottom: 0;padding: 0.3em;box-sizing: border-box;text-align: center;}#sk-container-id-1 label.sk-toggleable__label-arrow:before {content: \"▸\";float: left;margin-right: 0.25em;color: #696969;}#sk-container-id-1 label.sk-toggleable__label-arrow:hover:before {color: black;}#sk-container-id-1 div.sk-estimator:hover label.sk-toggleable__label-arrow:before {color: black;}#sk-container-id-1 div.sk-toggleable__content {max-height: 0;max-width: 0;overflow: hidden;text-align: left;background-color: #f0f8ff;}#sk-container-id-1 div.sk-toggleable__content pre {margin: 0.2em;color: black;border-radius: 0.25em;background-color: #f0f8ff;}#sk-container-id-1 input.sk-toggleable__control:checked~div.sk-toggleable__content {max-height: 200px;max-width: 100%;overflow: auto;}#sk-container-id-1 input.sk-toggleable__control:checked~label.sk-toggleable__label-arrow:before {content: \"▾\";}#sk-container-id-1 div.sk-estimator input.sk-toggleable__control:checked~label.sk-toggleable__label {background-color: #d4ebff;}#sk-container-id-1 div.sk-label input.sk-toggleable__control:checked~label.sk-toggleable__label {background-color: #d4ebff;}#sk-container-id-1 input.sk-hidden--visually {border: 0;clip: rect(1px 1px 1px 1px);clip: rect(1px, 1px, 1px, 1px);height: 1px;margin: -1px;overflow: hidden;padding: 0;position: absolute;width: 1px;}#sk-container-id-1 div.sk-estimator {font-family: monospace;background-color: #f0f8ff;border: 1px dotted black;border-radius: 0.25em;box-sizing: border-box;margin-bottom: 0.5em;}#sk-container-id-1 div.sk-estimator:hover {background-color: #d4ebff;}#sk-container-id-1 div.sk-parallel-item::after {content: \"\";width: 100%;border-bottom: 1px solid gray;flex-grow: 1;}#sk-container-id-1 div.sk-label:hover label.sk-toggleable__label {background-color: #d4ebff;}#sk-container-id-1 div.sk-serial::before {content: \"\";position: absolute;border-left: 1px solid gray;box-sizing: border-box;top: 0;bottom: 0;left: 50%;z-index: 0;}#sk-container-id-1 div.sk-serial {display: flex;flex-direction: column;align-items: center;background-color: white;padding-right: 0.2em;padding-left: 0.2em;position: relative;}#sk-container-id-1 div.sk-item {position: relative;z-index: 1;}#sk-container-id-1 div.sk-parallel {display: flex;align-items: stretch;justify-content: center;background-color: white;position: relative;}#sk-container-id-1 div.sk-item::before, #sk-container-id-1 div.sk-parallel-item::before {content: \"\";position: absolute;border-left: 1px solid gray;box-sizing: border-box;top: 0;bottom: 0;left: 50%;z-index: -1;}#sk-container-id-1 div.sk-parallel-item {display: flex;flex-direction: column;z-index: 1;position: relative;background-color: white;}#sk-container-id-1 div.sk-parallel-item:first-child::after {align-self: flex-end;width: 50%;}#sk-container-id-1 div.sk-parallel-item:last-child::after {align-self: flex-start;width: 50%;}#sk-container-id-1 div.sk-parallel-item:only-child::after {width: 0;}#sk-container-id-1 div.sk-dashed-wrapped {border: 1px dashed gray;margin: 0 0.4em 0.5em 0.4em;box-sizing: border-box;padding-bottom: 0.4em;background-color: white;}#sk-container-id-1 div.sk-label label {font-family: monospace;font-weight: bold;display: inline-block;line-height: 1.2em;}#sk-container-id-1 div.sk-label-container {text-align: center;}#sk-container-id-1 div.sk-container {/* jupyter's `normalize.less` sets `[hidden] { display: none; }` but bootstrap.min.css set `[hidden] { display: none !important; }` so we also need the `!important` here to be able to override the default hidden behavior on the sphinx rendered scikit-learn.org. See: https://github.com/scikit-learn/scikit-learn/issues/21755 */display: inline-block !important;position: relative;}#sk-container-id-1 div.sk-text-repr-fallback {display: none;}</style><div id=\"sk-container-id-1\" class=\"sk-top-container\"><div class=\"sk-text-repr-fallback\"><pre>Pipeline(steps=[(&#x27;standardscaler&#x27;, StandardScaler()),\n                (&#x27;polynomialfeatures&#x27;, PolynomialFeatures()),\n                (&#x27;linearregression&#x27;, LinearRegression())])</pre><b>In a Jupyter environment, please rerun this cell to show the HTML representation or trust the notebook. <br />On GitHub, the HTML representation is unable to render, please try loading this page with nbviewer.org.</b></div><div class=\"sk-container\" hidden><div class=\"sk-item sk-dashed-wrapped\"><div class=\"sk-label-container\"><div class=\"sk-label sk-toggleable\"><input class=\"sk-toggleable__control sk-hidden--visually\" id=\"sk-estimator-id-1\" type=\"checkbox\" ><label for=\"sk-estimator-id-1\" class=\"sk-toggleable__label sk-toggleable__label-arrow\">Pipeline</label><div class=\"sk-toggleable__content\"><pre>Pipeline(steps=[(&#x27;standardscaler&#x27;, StandardScaler()),\n                (&#x27;polynomialfeatures&#x27;, PolynomialFeatures()),\n                (&#x27;linearregression&#x27;, LinearRegression())])</pre></div></div></div><div class=\"sk-serial\"><div class=\"sk-item\"><div class=\"sk-estimator sk-toggleable\"><input class=\"sk-toggleable__control sk-hidden--visually\" id=\"sk-estimator-id-2\" type=\"checkbox\" ><label for=\"sk-estimator-id-2\" class=\"sk-toggleable__label sk-toggleable__label-arrow\">StandardScaler</label><div class=\"sk-toggleable__content\"><pre>StandardScaler()</pre></div></div></div><div class=\"sk-item\"><div class=\"sk-estimator sk-toggleable\"><input class=\"sk-toggleable__control sk-hidden--visually\" id=\"sk-estimator-id-3\" type=\"checkbox\" ><label for=\"sk-estimator-id-3\" class=\"sk-toggleable__label sk-toggleable__label-arrow\">PolynomialFeatures</label><div class=\"sk-toggleable__content\"><pre>PolynomialFeatures()</pre></div></div></div><div class=\"sk-item\"><div class=\"sk-estimator sk-toggleable\"><input class=\"sk-toggleable__control sk-hidden--visually\" id=\"sk-estimator-id-4\" type=\"checkbox\" ><label for=\"sk-estimator-id-4\" class=\"sk-toggleable__label sk-toggleable__label-arrow\">LinearRegression</label><div class=\"sk-toggleable__content\"><pre>LinearRegression()</pre></div></div></div></div></div></div></div>"
     },
     "execution_count": 14,
     "metadata": {},
     "output_type": "execute_result"
    }
   ]
  },
  {
   "cell_type": "code",
   "execution_count": 15,
   "outputs": [
    {
     "name": "stdout",
     "output_type": "stream",
     "text": [
      "MAE train poly:  4.5858145e-05\n",
      "R2 train poly:  0.9999999995588793\n",
      "\n",
      "MAE test poly:  1.5273472\n",
      "R2 test poly:  0.5310706602216763\n"
     ]
    }
   ],
   "source": [
    "pred_train = pipe.predict(X_train)\n",
    "pred_test = pipe.predict(X_test)\n",
    "\n",
    "print('MAE train poly: ', mean_absolute_error(pred_train, y_train))\n",
    "print('R2 train poly: ', r2_score(pred_train, y_train))\n",
    "print()\n",
    "print('MAE test poly: ', mean_absolute_error(pred_test, y_test))\n",
    "print('R2 test poly: ', r2_score(pred_test, y_test))"
   ],
   "metadata": {
    "collapsed": false,
    "pycharm": {
     "name": "#%%\n"
    }
   }
  },
  {
   "cell_type": "markdown",
   "source": [
    "Conclusion: overfitting"
   ],
   "metadata": {
    "collapsed": false,
    "pycharm": {
     "name": "#%% md\n"
    }
   }
  },
  {
   "cell_type": "code",
   "execution_count": null,
   "outputs": [],
   "source": [],
   "metadata": {
    "collapsed": false,
    "pycharm": {
     "name": "#%%\n"
    }
   }
  }
 ],
 "metadata": {
  "kernelspec": {
   "display_name": "Python 3 (ipykernel)",
   "language": "python",
   "name": "python3"
  },
  "language_info": {
   "codemirror_mode": {
    "name": "ipython",
    "version": 3
   },
   "file_extension": ".py",
   "mimetype": "text/x-python",
   "name": "python",
   "nbconvert_exporter": "python",
   "pygments_lexer": "ipython3",
   "version": "3.10.6"
  }
 },
 "nbformat": 4,
 "nbformat_minor": 1
}