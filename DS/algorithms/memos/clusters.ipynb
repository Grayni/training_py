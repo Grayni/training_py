{
 "cells": [
  {
   "cell_type": "code",
   "execution_count": 2,
   "metadata": {},
   "outputs": [],
   "source": [
    "import pandas as pd\n",
    "import numpy as np\n",
    "import joblib\n",
    "\n",
    "\n",
    "# Метод кластериции (для демонстрации используем ввиде функции)\n",
    "def clusterization(df):\n",
    "\n",
    "  # Нормализация\n",
    "  def normalize(df):\n",
    "    from sklearn.preprocessing import MinMaxScaler\n",
    "    scaler = MinMaxScaler() # (xi - min)/(max - min)\n",
    "    columns = df.columns\n",
    "    x = df.values\n",
    "    x_scaled = scaler.fit_transform(x)\n",
    "    df = pd.DataFrame(x, columns=columns)\n",
    "    joblib.dump(scaler, 'models/min_max_scaler.pkl')\n",
    "    return df\n",
    "\n",
    "  # Нормализуем датасет и сохраняем модель\n",
    "  normalize(df)\n",
    "\n",
    "  # Кластеризация\n",
    "  from sklearn.cluster import KMeans\n",
    "  model = KMeans(random_state=1) # create model (without parameters)\n",
    "\n",
    "  # Ищем оптимальную разбивку на кластеры\n",
    "  from yellowbrick.cluster import KElbowVisualizer, InterclusterDistance\n",
    "  visualizer = KElbowVisualizer (model, k=(2, 10), metrics='silhouette') # Графически ищем лучшую кластеризация диапазон от 2 до 10, Метрика: Силуэт\n",
    "  visualizer.fit(df)\n",
    "  visualizer.show()\n",
    "\n",
    "  # Кластеризация лучшая модель (для примера лучшая модель 2 кластера на графике visualizer)\n",
    "  model = KMeans(random_state=1, n_clusters=2)\n",
    "  visualizer = InterclusterDistance(model)\n",
    "  visualizer.fit(df)\n",
    "  visualizer.show() # смотрим межкластерное расстояние\n",
    "\n",
    "  cluster_labels = visualizer.fit_predict(df) # обучаем и предсказываем\n",
    "\n",
    "  # Разделяем на train и test\n",
    "  from sklearn.model_selection import train_test_split\n",
    "  X_train, X_test, y_train, y_test = train_test_split(df, cluster_labels, random_state=1)\n",
    "\n",
    "  # \n",
    "  from sklearn.naive_bayes import MultinomialNB\n",
    "  clf = MultinomialNB()\n",
    "  clf.fit(X_train, y_train)\n",
    "  pred = clf.predict(X_test)\n",
    "\n",
    "  from sklearn.metrics import classification_report, confusion_matrix\n",
    "  print(f'Currency: {classification_report(pred, y_test)}')\n",
    "  print(confusion_matrix(pred, y_test))\n",
    "\n",
    "  joblib.dump(clf, 'models/classification.pkl')"
   ]
  },
  {
   "cell_type": "code",
   "execution_count": null,
   "metadata": {},
   "outputs": [],
   "source": []
  }
 ],
 "metadata": {
  "kernelspec": {
   "display_name": "Python 3.10.6 64-bit",
   "language": "python",
   "name": "python3"
  },
  "language_info": {
   "codemirror_mode": {
    "name": "ipython",
    "version": 3
   },
   "file_extension": ".py",
   "mimetype": "text/x-python",
   "name": "python",
   "nbconvert_exporter": "python",
   "pygments_lexer": "ipython3",
   "version": "3.10.6"
  },
  "orig_nbformat": 4,
  "vscode": {
   "interpreter": {
    "hash": "369f2c481f4da34e4445cda3fffd2e751bd1c4d706f27375911949ba6bb62e1c"
   }
  }
 },
 "nbformat": 4,
 "nbformat_minor": 2
}
