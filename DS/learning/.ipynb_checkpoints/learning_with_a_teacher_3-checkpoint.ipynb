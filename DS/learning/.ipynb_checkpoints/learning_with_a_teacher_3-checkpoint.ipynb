{
 "cells": [
  {
   "cell_type": "markdown",
   "id": "7adcad22",
   "metadata": {},
   "source": [
    "### 1. Основные библиотеки"
   ]
  },
  {
   "cell_type": "code",
   "execution_count": 1,
   "id": "cb4446c4",
   "metadata": {},
   "outputs": [],
   "source": [
    "import numpy as np\n",
    "import pandas as pd\n",
    "import pickle # сохранение модели\n",
    "\n",
    "import matplotlib\n",
    "import matplotlib.pyplot as plt\n",
    "import seaborn as sns\n",
    "\n",
    "%matplotlib inline"
   ]
  },
  {
   "cell_type": "markdown",
   "id": "7e6a7a03",
   "metadata": {},
   "source": [
    "### 2. Разделение датасета"
   ]
  },
  {
   "cell_type": "code",
   "execution_count": 2,
   "id": "b02b4198",
   "metadata": {},
   "outputs": [],
   "source": [
    "from sklearn.model_selection import train_test_split, KFold, GridSearchCV"
   ]
  },
  {
   "cell_type": "markdown",
   "id": "1c0af437",
   "metadata": {},
   "source": [
    "### 3. Модели"
   ]
  },
  {
   "cell_type": "code",
   "execution_count": 7,
   "id": "3470e66f",
   "metadata": {},
   "outputs": [],
   "source": [
    "from sklearn.linear_model import LinearRegression\n",
    "from sklearn.tree import DecisionTreeRegressor, plot_tree\n",
    "from sklearn.ensemble import RandomForestRegressor, GradientBoostingRegressor\n",
    "from sklearn.preprocessing import StandardScaler"
   ]
  },
  {
   "cell_type": "markdown",
   "id": "6e6161e5",
   "metadata": {},
   "source": [
    "### 4. Метрики качества"
   ]
  },
  {
   "cell_type": "code",
   "execution_count": 8,
   "id": "905ccfb6",
   "metadata": {},
   "outputs": [],
   "source": [
    "from sklearn.metrics import mean_squared_error as mse, r2_score as r2"
   ]
  },
  {
   "cell_type": "markdown",
   "id": "d0af08a8",
   "metadata": {},
   "source": [
    "### 5. Для визуализации внешних картинок в ноутбуке"
   ]
  },
  {
   "cell_type": "code",
   "execution_count": 9,
   "id": "5c5dffec",
   "metadata": {},
   "outputs": [],
   "source": [
    "from IPython.display import Image"
   ]
  },
  {
   "cell_type": "code",
   "execution_count": 11,
   "id": "3c913b25",
   "metadata": {},
   "outputs": [],
   "source": [
    "import warnings\n",
    "\n",
    "warnings.filterwarnings('ignore')\n",
    "matplotlib.rcParams.update({'font.size': 14})"
   ]
  },
  {
   "cell_type": "markdown",
   "id": "fcde6cf4",
   "metadata": {},
   "source": [
    "### Пути к директория и файлам"
   ]
  },
  {
   "cell_type": "code",
   "execution_count": 12,
   "id": "4a6dfc80",
   "metadata": {},
   "outputs": [],
   "source": [
    "DATASET_PATH = './datasets/housing/housing.csv'\n",
    "PREPARED_DATASET_PATH = './datasets/housing/housing_prepared.csv'\n",
    "REPORTS_FILE_PATH = './reports/'\n",
    "SCALER_FILE_PATH = './models/scaler.pkl'\n",
    "MODEL_FILE_PATH = './models/model.pkl'"
   ]
  },
  {
   "cell_type": "code",
   "execution_count": null,
   "id": "f80d4885",
   "metadata": {},
   "outputs": [],
   "source": []
  }
 ],
 "metadata": {
  "kernelspec": {
   "display_name": "Python 3 (ipykernel)",
   "language": "python",
   "name": "python3"
  },
  "language_info": {
   "codemirror_mode": {
    "name": "ipython",
    "version": 3
   },
   "file_extension": ".py",
   "mimetype": "text/x-python",
   "name": "python",
   "nbconvert_exporter": "python",
   "pygments_lexer": "ipython3",
   "version": "3.9.7"
  }
 },
 "nbformat": 4,
 "nbformat_minor": 5
}
