{
 "cells": [
  {
   "cell_type": "code",
   "execution_count": 32,
   "id": "initial_id",
   "metadata": {
    "ExecuteTime": {
     "end_time": "2024-06-10T17:08:07.072422Z",
     "start_time": "2024-06-10T17:08:07.059946400Z"
    }
   },
   "outputs": [],
   "source": [
    "import pandas as pd\n",
    "import numpy as np\n",
    "from sklearn.decomposition import PCA\n",
    "from sklearn.preprocessing import StandardScaler\n",
    "from sklearn.model_selection import train_test_split, cross_val_score\n",
    "from sklearn.linear_model import LogisticRegression\n",
    "from sklearn.svm import SVC\n",
    "from sklearn.ensemble import RandomForestClassifier, GradientBoostingClassifier\n",
    "from sklearn.neighbors import KNeighborsClassifier\n",
    "from sklearn.preprocessing import LabelEncoder\n",
    "from sklearn.metrics import accuracy_score, precision_score, recall_score, f1_score, confusion_matrix\n",
    "import time\n",
    "\n",
    "\n",
    "import matplotlib.pyplot as plt\n",
    "import seaborn as sns"
   ]
  },
  {
   "cell_type": "markdown",
   "id": "feff192172e47e9c",
   "metadata": {
    "collapsed": false
   },
   "source": [
    "## Table of contents \n",
    "\n",
    "1. [About Data](#cell1)\n",
    "2. [Check null](#cell2)\n",
    "3. [Target -> classification](#cell3)\n",
    "4. [Train | Test](#cell4)\n",
    "5. [PCA](#cell5)\n",
    "6. [Scaler](#cell6)\n",
    "7. [Return Dataframe](#cell7)\n",
    "8. [Models](#cell8)\n",
    "9. [Conclusions](#cell9)"
   ]
  },
  {
   "attachments": {},
   "cell_type": "markdown",
   "id": "ce4287fa-e917-4154-8cc0-83270b47a5ea",
   "metadata": {
    "collapsed": false
   },
   "source": [
    "<a id=\"cell1\"></a>\n",
    "### 1. About Data"
   ]
  },
  {
   "cell_type": "code",
   "outputs": [
    {
     "data": {
      "text/plain": "   patientId  value0  value1  value2  value3  value4  value5  value6  value7  \\\n0          0     0.0     0.0     0.0     0.0     0.0     0.0   -0.25   -0.25   \n1          0     0.0     0.0     0.0     0.0     0.0     0.0   -0.25   -0.25   \n2          0     0.0     0.0     0.0     0.0     0.0     0.0   -0.25   -0.25   \n3          0     0.0     0.0     0.0     0.0     0.0     0.0   -0.25   -0.25   \n4          0     0.0     0.0     0.0     0.0     0.0     0.0   -0.25   -0.25   \n\n   value8  ...  value375  value376  value377  value378  value379  value380  \\\n0   -0.25  ...     -0.25  0.980381       0.0       0.0       0.0       0.0   \n1   -0.25  ...     -0.25  0.977008       0.0       0.0       0.0       0.0   \n2   -0.25  ...     -0.25  0.977008       0.0       0.0       0.0       0.0   \n3   -0.25  ...     -0.25  0.977008       0.0       0.0       0.0       0.0   \n4   -0.25  ...     -0.25  0.976833       0.0       0.0       0.0       0.0   \n\n   value381  value382  value383  reference  \n0       0.0     -0.25     -0.25  21.803851  \n1       0.0     -0.25     -0.25  21.745726  \n2       0.0     -0.25     -0.25  21.687600  \n3       0.0     -0.25     -0.25  21.629474  \n4       0.0     -0.25     -0.25  21.571348  \n\n[5 rows x 386 columns]",
      "text/html": "<div>\n<style scoped>\n    .dataframe tbody tr th:only-of-type {\n        vertical-align: middle;\n    }\n\n    .dataframe tbody tr th {\n        vertical-align: top;\n    }\n\n    .dataframe thead th {\n        text-align: right;\n    }\n</style>\n<table border=\"1\" class=\"dataframe\">\n  <thead>\n    <tr style=\"text-align: right;\">\n      <th></th>\n      <th>patientId</th>\n      <th>value0</th>\n      <th>value1</th>\n      <th>value2</th>\n      <th>value3</th>\n      <th>value4</th>\n      <th>value5</th>\n      <th>value6</th>\n      <th>value7</th>\n      <th>value8</th>\n      <th>...</th>\n      <th>value375</th>\n      <th>value376</th>\n      <th>value377</th>\n      <th>value378</th>\n      <th>value379</th>\n      <th>value380</th>\n      <th>value381</th>\n      <th>value382</th>\n      <th>value383</th>\n      <th>reference</th>\n    </tr>\n  </thead>\n  <tbody>\n    <tr>\n      <th>0</th>\n      <td>0</td>\n      <td>0.0</td>\n      <td>0.0</td>\n      <td>0.0</td>\n      <td>0.0</td>\n      <td>0.0</td>\n      <td>0.0</td>\n      <td>-0.25</td>\n      <td>-0.25</td>\n      <td>-0.25</td>\n      <td>...</td>\n      <td>-0.25</td>\n      <td>0.980381</td>\n      <td>0.0</td>\n      <td>0.0</td>\n      <td>0.0</td>\n      <td>0.0</td>\n      <td>0.0</td>\n      <td>-0.25</td>\n      <td>-0.25</td>\n      <td>21.803851</td>\n    </tr>\n    <tr>\n      <th>1</th>\n      <td>0</td>\n      <td>0.0</td>\n      <td>0.0</td>\n      <td>0.0</td>\n      <td>0.0</td>\n      <td>0.0</td>\n      <td>0.0</td>\n      <td>-0.25</td>\n      <td>-0.25</td>\n      <td>-0.25</td>\n      <td>...</td>\n      <td>-0.25</td>\n      <td>0.977008</td>\n      <td>0.0</td>\n      <td>0.0</td>\n      <td>0.0</td>\n      <td>0.0</td>\n      <td>0.0</td>\n      <td>-0.25</td>\n      <td>-0.25</td>\n      <td>21.745726</td>\n    </tr>\n    <tr>\n      <th>2</th>\n      <td>0</td>\n      <td>0.0</td>\n      <td>0.0</td>\n      <td>0.0</td>\n      <td>0.0</td>\n      <td>0.0</td>\n      <td>0.0</td>\n      <td>-0.25</td>\n      <td>-0.25</td>\n      <td>-0.25</td>\n      <td>...</td>\n      <td>-0.25</td>\n      <td>0.977008</td>\n      <td>0.0</td>\n      <td>0.0</td>\n      <td>0.0</td>\n      <td>0.0</td>\n      <td>0.0</td>\n      <td>-0.25</td>\n      <td>-0.25</td>\n      <td>21.687600</td>\n    </tr>\n    <tr>\n      <th>3</th>\n      <td>0</td>\n      <td>0.0</td>\n      <td>0.0</td>\n      <td>0.0</td>\n      <td>0.0</td>\n      <td>0.0</td>\n      <td>0.0</td>\n      <td>-0.25</td>\n      <td>-0.25</td>\n      <td>-0.25</td>\n      <td>...</td>\n      <td>-0.25</td>\n      <td>0.977008</td>\n      <td>0.0</td>\n      <td>0.0</td>\n      <td>0.0</td>\n      <td>0.0</td>\n      <td>0.0</td>\n      <td>-0.25</td>\n      <td>-0.25</td>\n      <td>21.629474</td>\n    </tr>\n    <tr>\n      <th>4</th>\n      <td>0</td>\n      <td>0.0</td>\n      <td>0.0</td>\n      <td>0.0</td>\n      <td>0.0</td>\n      <td>0.0</td>\n      <td>0.0</td>\n      <td>-0.25</td>\n      <td>-0.25</td>\n      <td>-0.25</td>\n      <td>...</td>\n      <td>-0.25</td>\n      <td>0.976833</td>\n      <td>0.0</td>\n      <td>0.0</td>\n      <td>0.0</td>\n      <td>0.0</td>\n      <td>0.0</td>\n      <td>-0.25</td>\n      <td>-0.25</td>\n      <td>21.571348</td>\n    </tr>\n  </tbody>\n</table>\n<p>5 rows × 386 columns</p>\n</div>"
     },
     "execution_count": 39,
     "metadata": {},
     "output_type": "execute_result"
    }
   ],
   "source": [
    "df = pd.read_csv('data/slice_localization_data.csv', sep=',')\n",
    "df.head()\n"
   ],
   "metadata": {
    "collapsed": false,
    "ExecuteTime": {
     "end_time": "2024-06-10T18:03:23.987833500Z",
     "start_time": "2024-06-10T18:03:22.582845Z"
    }
   },
   "id": "64b75082e55e7252",
   "execution_count": 39
  },
  {
   "cell_type": "code",
   "execution_count": 40,
   "id": "323e6e74ee4f2f13",
   "metadata": {
    "collapsed": false,
    "ExecuteTime": {
     "end_time": "2024-06-10T18:03:28.215363800Z",
     "start_time": "2024-06-10T18:03:28.183578600Z"
    }
   },
   "outputs": [
    {
     "name": "stdout",
     "output_type": "stream",
     "text": [
      "<class 'pandas.core.frame.DataFrame'>\n",
      "RangeIndex: 53500 entries, 0 to 53499\n",
      "Columns: 386 entries, patientId to reference\n",
      "dtypes: float64(385), int64(1)\n",
      "memory usage: 157.6 MB\n"
     ]
    }
   ],
   "source": [
    "df.info()"
   ]
  },
  {
   "cell_type": "code",
   "execution_count": 41,
   "id": "4791074256422fcb",
   "metadata": {
    "collapsed": false,
    "ExecuteTime": {
     "end_time": "2024-06-10T18:03:32.176724300Z",
     "start_time": "2024-06-10T18:03:31.197346400Z"
    }
   },
   "outputs": [
    {
     "data": {
      "text/plain": "count    53500.000000\nmean        47.028039\nstd         22.347042\nmin          1.738733\n25%         29.891607\n50%         43.987893\n75%         63.735059\nmax         97.489115\nName: reference, dtype: float64"
     },
     "execution_count": 41,
     "metadata": {},
     "output_type": "execute_result"
    }
   ],
   "source": [
    "df.describe()['reference']"
   ]
  },
  {
   "cell_type": "markdown",
   "id": "1ed10b8c729e067b",
   "metadata": {
    "collapsed": false
   },
   "source": [
    "<a id=\"cell2\"></a>\n",
    "### 2. Check null"
   ]
  },
  {
   "cell_type": "code",
   "execution_count": 23,
   "id": "92d5f7d53550e1e7",
   "metadata": {
    "ExecuteTime": {
     "end_time": "2024-06-10T17:05:37.685989600Z",
     "start_time": "2024-06-10T17:05:37.644715Z"
    },
    "collapsed": false
   },
   "outputs": [
    {
     "data": {
      "text/plain": [
       "0"
      ]
     },
     "execution_count": 23,
     "metadata": {},
     "output_type": "execute_result"
    }
   ],
   "source": [
    "# check nulls\n",
    "df.isnull().sum().sum()"
   ]
  },
  {
   "cell_type": "markdown",
   "id": "65359bf41a563a0a",
   "metadata": {
    "collapsed": false
   },
   "source": [
    "<a id=\"cell3\"></a> \n",
    "### 3. Target -> classification"
   ]
  },
  {
   "cell_type": "code",
   "execution_count": 24,
   "id": "766de5697043fd",
   "metadata": {
    "ExecuteTime": {
     "end_time": "2024-06-10T17:05:38.334080300Z",
     "start_time": "2024-06-10T17:05:37.683961500Z"
    },
    "collapsed": false
   },
   "outputs": [
    {
     "data": {
      "image/png": "[encoded data removed]",
      "text/plain": [
       "<Figure size 1000x600 with 1 Axes>"
      ]
     },
     "metadata": {},
     "output_type": "display_data"
    }
   ],
   "source": [
    "target = df['reference']\n",
    "\n",
    "# Визуализация распределения значений reference\n",
    "plt.figure(figsize=(10, 6))\n",
    "sns.histplot(target, kde=True, bins=20, color='blue')\n",
    "plt.title('Распределение значений reference')\n",
    "plt.xlabel('Значение reference')\n",
    "plt.ylabel('Частота')\n",
    "plt.grid(True)\n",
    "plt.show()"
   ]
  },
  {
   "cell_type": "code",
   "execution_count": 25,
   "id": "a7b2de21a6e25f41",
   "metadata": {
    "ExecuteTime": {
     "end_time": "2024-06-10T17:05:38.348550Z",
     "start_time": "2024-06-10T17:05:38.337490700Z"
    },
    "collapsed": false
   },
   "outputs": [],
   "source": [
    "# Определение границ на основе процентного распределения\n",
    "explained_variance_ratio = {\n",
    "    \"leg\": 0.35,\n",
    "    \"pelvis\": 0.10,\n",
    "    \"abdomen\": 0.20,\n",
    "    \"chest\": 0.25,\n",
    "    \"neck\": 0.05,\n",
    "    \"head\": 0.05\n",
    "}\n",
    "\n",
    "# Вычисление границ\n",
    "total_range = target.max() - target.min()  # 180 - 0\n",
    "boundaries = [0]\n",
    "cumulative_percentage = 0\n",
    "\n",
    "for part, percentage in explained_variance_ratio.items():\n",
    "    cumulative_percentage += percentage\n",
    "    boundary = cumulative_percentage * total_range\n",
    "    boundaries.append(boundary)\n",
    "\n",
    "boundaries[-1] = target.max()\n",
    "# Преобразование целевой переменной в классы\n",
    "target_classes = pd.cut(target, bins=boundaries, labels=list(explained_variance_ratio.keys()), include_lowest=True)"
   ]
  },
  {
   "cell_type": "markdown",
   "id": "d39055c9b1ece812",
   "metadata": {
    "collapsed": false
   },
   "source": [
    "<a id=\"cell4\"></a> \n",
    "### 4. Train | Test"
   ]
  },
  {
   "cell_type": "code",
   "execution_count": 26,
   "id": "2efc56001499b9b8",
   "metadata": {
    "ExecuteTime": {
     "end_time": "2024-06-10T17:05:38.506252900Z",
     "start_time": "2024-06-10T17:05:38.344559600Z"
    },
    "collapsed": false
   },
   "outputs": [],
   "source": [
    "data_features = df.iloc[:, 1:-1]\n",
    "\n",
    "# Разделение данных на обучающую и тестовую выборки\n",
    "X_train, X_test, y_train, y_test = train_test_split(data_features, target_classes, test_size=0.2, random_state=42)"
   ]
  },
  {
   "cell_type": "markdown",
   "id": "f935f822f2315cf4",
   "metadata": {
    "collapsed": false
   },
   "source": [
    "<a id=\"cell5\"></a> \n",
    "### 5. PCA"
   ]
  },
  {
   "cell_type": "code",
   "execution_count": 27,
   "id": "2b512b51d0611fa7",
   "metadata": {
    "ExecuteTime": {
     "end_time": "2024-06-10T17:05:38.641883600Z",
     "start_time": "2024-06-10T17:05:38.508212800Z"
    },
    "collapsed": false
   },
   "outputs": [],
   "source": [
    "# Разделение признаков на структуры костей и воздушные включения для обучающей выборки\n",
    "X_train_bone = X_train.iloc[:, 0:241]\n",
    "X_train_air = X_train.iloc[:, 242:384]\n",
    "\n",
    "pca_bone = PCA(n_components=6)\n",
    "pca_air = PCA(n_components=6)\n",
    "\n",
    "X_train_bone_pca = pca_bone.fit_transform(X_train_bone)\n",
    "X_train_air_pca = pca_air.fit_transform(X_train_air)\n",
    "\n",
    "# Применение PCA к тестовой выборке\n",
    "X_test_bone = X_test.iloc[:, 0:241]\n",
    "X_test_air = X_test.iloc[:, 242:384]\n",
    "\n",
    "X_test_bone_pca = pca_bone.transform(X_test_bone)\n",
    "X_test_air_pca = pca_air.transform(X_test_air)"
   ]
  },
  {
   "cell_type": "markdown",
   "id": "e87838e16319e681",
   "metadata": {
    "collapsed": false
   },
   "source": [
    "<a id=\"cell6\"></a> \n",
    "### 6. Scaler"
   ]
  },
  {
   "cell_type": "code",
   "execution_count": 28,
   "id": "e4f06479204f37d6",
   "metadata": {
    "ExecuteTime": {
     "end_time": "2024-06-10T17:05:38.674514500Z",
     "start_time": "2024-06-10T17:05:38.644876600Z"
    },
    "collapsed": false
   },
   "outputs": [],
   "source": [
    "# Масштабирование данных после PCA\n",
    "scaler_after_pca = StandardScaler()\n",
    "\n",
    "X_train_pca_combined = np.hstack((X_train_bone_pca, X_train_air_pca))\n",
    "X_test_pca_combined = np.hstack((X_test_bone_pca, X_test_air_pca))\n",
    "\n",
    "X_train_pca_scaled = scaler_after_pca.fit_transform(X_train_pca_combined)\n",
    "X_test_pca_scaled = scaler_after_pca.transform(X_test_pca_combined)"
   ]
  },
  {
   "cell_type": "markdown",
   "id": "6697219218499999",
   "metadata": {
    "collapsed": false
   },
   "source": [
    "<a id=\"cell7\"></a> \n",
    "### 7. Return Dataframe "
   ]
  },
  {
   "cell_type": "code",
   "execution_count": 29,
   "id": "9c9dd712e549bb16",
   "metadata": {
    "ExecuteTime": {
     "end_time": "2024-06-10T17:05:38.685314400Z",
     "start_time": "2024-06-10T17:05:38.674514500Z"
    },
    "collapsed": false
   },
   "outputs": [],
   "source": [
    "# Преобразование обратно в DataFrame (опционально)\n",
    "X_train_pca_df = pd.DataFrame(X_train_pca_scaled, columns=[f'pca_bone_feature_{i+1}' for i in range(6)] + [f'pca_air_feature_{i+1}' for i in range(6)])\n",
    "X_test_pca_df = pd.DataFrame(X_test_pca_scaled, columns=[f'pca_bone_feature_{i+1}' for i in range(6)] + [f'pca_air_feature_{i+1}' for i in range(6)])"
   ]
  },
  {
   "cell_type": "markdown",
   "id": "cf82c76b710cb828",
   "metadata": {
    "collapsed": false
   },
   "source": [
    "<a id=\"cell8\"></a> \n",
    "### 8. Models"
   ]
  },
  {
   "cell_type": "code",
   "execution_count": 30,
   "id": "815f5cdd0cac825e",
   "metadata": {
    "ExecuteTime": {
     "end_time": "2024-06-10T17:05:38.686312400Z",
     "start_time": "2024-06-10T17:05:38.680924600Z"
    },
    "collapsed": false
   },
   "outputs": [],
   "source": [
    "def encode_labels(y):\n",
    "    le = LabelEncoder()\n",
    "    return le.fit_transform(y)"
   ]
  },
  {
   "cell_type": "code",
   "execution_count": 33,
   "id": "f69a6eb99eb4c79e",
   "metadata": {
    "ExecuteTime": {
     "end_time": "2024-06-10T17:09:16.338812700Z",
     "start_time": "2024-06-10T17:08:16.352966800Z"
    },
    "collapsed": false
   },
   "outputs": [
    {
     "name": "stdout",
     "output_type": "stream",
     "text": [
      "SVM Training Time: 37.03 seconds\n",
      "SVM Test Accuracy: 0.9843\n",
      "SVM Precision: 0.9845\n",
      "SVM Recall: 0.9843\n",
      "SVM F1-Score: 0.9843\n",
      "Confusion Matrix:\n",
      "[[2633   14    0    0    0   22]\n",
      " [  25 2154    0    0   23    0]\n",
      " [   0    0  157    0   15    0]\n",
      " [   0    0    0 3456    0   23]\n",
      " [   0    6    2    0  439    0]\n",
      " [  19    0    0   19    0 1693]]\n"
     ]
    }
   ],
   "source": [
    "# SVM\n",
    "\n",
    "y_train_encoded = encode_labels(y_train)\n",
    "y_test_encoded = encode_labels(y_test)\n",
    "\n",
    "# Создание модели SVM\n",
    "svm_model = SVC()\n",
    "\n",
    "# Замер времени обучения\n",
    "start_time = time.time()\n",
    "\n",
    "# Обучение модели\n",
    "svm_model.fit(X_train, y_train_encoded)\n",
    "\n",
    "# Завершение замера времени\n",
    "end_time = time.time()\n",
    "training_time = end_time - start_time\n",
    "\n",
    "# Оценка модели на тестовой выборке\n",
    "y_pred = svm_model.predict(X_test)\n",
    "# Вычисление метрик\n",
    "test_accuracy = accuracy_score(y_test_encoded, y_pred)\n",
    "precision = precision_score(y_test_encoded, y_pred, average='weighted')\n",
    "recall = recall_score(y_test_encoded, y_pred, average='weighted')\n",
    "f1 = f1_score(y_test_encoded, y_pred, average='weighted')\n",
    "conf_matrix = confusion_matrix(y_test_encoded, y_pred)\n",
    "\n",
    "print(f\"SVM Training Time: {training_time:.2f} seconds\")\n",
    "print(f\"SVM Test Accuracy: {test_accuracy:.4f}\")\n",
    "print(f\"SVM Precision: {precision:.4f}\")\n",
    "print(f\"SVM Recall: {recall:.4f}\")\n",
    "print(f\"SVM F1-Score: {f1:.4f}\")\n",
    "print(f\"Confusion Matrix:\\n{conf_matrix}\")"
   ]
  },
  {
   "cell_type": "code",
   "execution_count": 35,
   "id": "b041710cc4d3cf1",
   "metadata": {
    "ExecuteTime": {
     "end_time": "2024-06-10T17:17:02.631121600Z",
     "start_time": "2024-06-10T17:16:41.717447900Z"
    },
    "collapsed": false
   },
   "outputs": [
    {
     "name": "stdout",
     "output_type": "stream",
     "text": [
      "Random Forest Training Time: 20.72 seconds\n",
      "Random Forest Test Accuracy: 0.9925\n",
      "Random Forest Precision: 0.9925\n",
      "Random Forest Recall: 0.9925\n",
      "Random Forest F1-Score: 0.9925\n",
      "Confusion Matrix:\n",
      "[[2649    7    0    0    0   13]\n",
      " [   6 2186    0    0   10    0]\n",
      " [   0    0  166    0    6    0]\n",
      " [   0    0    0 3468    0   11]\n",
      " [   0    6    3    0  438    0]\n",
      " [  11    0    0    7    0 1713]]\n"
     ]
    }
   ],
   "source": [
    "# Создание модели Random Forest\n",
    "rf_model = RandomForestClassifier()\n",
    "\n",
    "# Замер времени обучения\n",
    "start_time = time.time()\n",
    "\n",
    "# Обучение модели\n",
    "rf_model.fit(X_train, y_train_encoded)\n",
    "\n",
    "# Завершение замера времени\n",
    "end_time = time.time()\n",
    "training_time = end_time - start_time\n",
    "\n",
    "# Оценка модели на тестовой выборке\n",
    "y_pred = rf_model.predict(X_test)\n",
    "\n",
    "# Вычисление метрик\n",
    "test_accuracy = accuracy_score(y_test_encoded, y_pred)\n",
    "precision = precision_score(y_test_encoded, y_pred, average='weighted')\n",
    "recall = recall_score(y_test_encoded, y_pred, average='weighted')\n",
    "f1 = f1_score(y_test_encoded, y_pred, average='weighted')\n",
    "conf_matrix = confusion_matrix(y_test_encoded, y_pred)\n",
    "\n",
    "print(f\"Random Forest Training Time: {training_time:.2f} seconds\")\n",
    "print(f\"Random Forest Test Accuracy: {test_accuracy:.4f}\")\n",
    "print(f\"Random Forest Precision: {precision:.4f}\")\n",
    "print(f\"Random Forest Recall: {recall:.4f}\")\n",
    "print(f\"Random Forest F1-Score: {f1:.4f}\")\n",
    "print(f\"Confusion Matrix:\\n{conf_matrix}\")"
   ]
  },
  {
   "cell_type": "code",
   "execution_count": 36,
   "id": "8be1aca4e573febf",
   "metadata": {
    "ExecuteTime": {
     "end_time": "2024-06-10T17:19:41.518436900Z",
     "start_time": "2024-06-10T17:19:34.039170100Z"
    },
    "collapsed": false
   },
   "outputs": [
    {
     "name": "stdout",
     "output_type": "stream",
     "text": [
      "Logistic Regression Training Time: 7.45 seconds\n",
      "Logistic Regression Test Accuracy: 0.9684\n",
      "Logistic Regression Precision: 0.9686\n",
      "Logistic Regression Recall: 0.9684\n",
      "Logistic Regression F1-Score: 0.9685\n",
      "Confusion Matrix:\n",
      "[[2586   40    0    1    0   42]\n",
      " [  51 2123    0    5   23    0]\n",
      " [   0    0  163    0    9    0]\n",
      " [   1   14    0 3400    1   63]\n",
      " [   0   10    3    1  433    0]\n",
      " [  36    0    0   38    0 1657]]\n"
     ]
    }
   ],
   "source": [
    "# Создание модели Logistic Regression\n",
    "lr_model = LogisticRegression(max_iter=10000)\n",
    "\n",
    "# Замер времени обучения\n",
    "start_time = time.time()\n",
    "\n",
    "# Обучение модели\n",
    "lr_model.fit(X_train, y_train_encoded)\n",
    "\n",
    "# Завершение замера времени\n",
    "end_time = time.time()\n",
    "training_time = end_time - start_time\n",
    "\n",
    "# Оценка модели на тестовой выборке\n",
    "y_pred = lr_model.predict(X_test)\n",
    "\n",
    "# Вычисление метрик\n",
    "test_accuracy = accuracy_score(y_test_encoded, y_pred)\n",
    "precision = precision_score(y_test_encoded, y_pred, average='weighted')\n",
    "recall = recall_score(y_test_encoded, y_pred, average='weighted')\n",
    "f1 = f1_score(y_test_encoded, y_pred, average='weighted')\n",
    "conf_matrix = confusion_matrix(y_test_encoded, y_pred)\n",
    "\n",
    "print(f\"Logistic Regression Training Time: {training_time:.2f} seconds\")\n",
    "print(f\"Logistic Regression Test Accuracy: {test_accuracy:.4f}\")\n",
    "print(f\"Logistic Regression Precision: {precision:.4f}\")\n",
    "print(f\"Logistic Regression Recall: {recall:.4f}\")\n",
    "print(f\"Logistic Regression F1-Score: {f1:.4f}\")\n",
    "print(f\"Confusion Matrix:\\n{conf_matrix}\")"
   ]
  },
  {
   "cell_type": "markdown",
   "id": "b003505ece1d4631",
   "metadata": {
    "collapsed": false
   },
   "source": [
    "<a id=\"cell9\"></a> \n",
    "### 9. Выводы\n",
    "\n",
    "Лучшей моделью является Random Forest, так как она демонстрирует наивысшую точность, наилучшие метрики (Precision, Recall, F1-Score) и наименьшее количество ошибок в матрице ошибок.\n",
    "\n",
    "SVM также показал отличные результаты и может быть использован в случаях, когда требуется высокая точность, а время обучения не является критичным фактором.\n",
    "\n",
    "Логистическая регрессия является самым быстрым методом обучения и может быть полезна для быстрых итераций и базового уровня точности."
   ]
  },
  {
   "cell_type": "code",
   "execution_count": null,
   "id": "7d3149b4ebcc54e5",
   "metadata": {
    "collapsed": false
   },
   "outputs": [],
   "source": []
  }
 ],
 "metadata": {
  "kernelspec": {
   "display_name": "Python 3 (ipykernel)",
   "language": "python",
   "name": "python3"
  },
  "language_info": {
   "codemirror_mode": {
    "name": "ipython",
    "version": 3
   },
   "file_extension": ".py",
   "mimetype": "text/x-python",
   "name": "python",
   "nbconvert_exporter": "python",
   "pygments_lexer": "ipython3",
   "version": "3.12.1"
  }
 },
 "nbformat": 4,
 "nbformat_minor": 5
}
