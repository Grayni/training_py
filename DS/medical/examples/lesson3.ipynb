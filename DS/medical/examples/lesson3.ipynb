{
  "nbformat": 4,
  "nbformat_minor": 0,
  "metadata": {
    "colab": {
      "provenance": []
    },
    "kernelspec": {
      "name": "python3",
      "display_name": "Python 3"
    },
    "language_info": {
      "name": "python"
    }
  },
  "cells": [
    {
      "cell_type": "code",
      "execution_count": 1,
      "metadata": {
        "colab": {
          "base_uri": "https://localhost:8080/"
        },
        "id": "NWeqg7-XXH5L",
        "outputId": "df7bf0de-87bb-45f6-8664-ff387142aa0b"
      },
      "outputs": [
        {
          "output_type": "stream",
          "name": "stdout",
          "text": [
            "Collecting ucimlrepo\n",
            "  Downloading ucimlrepo-0.0.7-py3-none-any.whl (8.0 kB)\n",
            "Requirement already satisfied: pandas>=1.0.0 in /usr/local/lib/python3.10/dist-packages (from ucimlrepo) (2.0.3)\n",
            "Requirement already satisfied: certifi>=2020.12.5 in /usr/local/lib/python3.10/dist-packages (from ucimlrepo) (2024.2.2)\n",
            "Requirement already satisfied: python-dateutil>=2.8.2 in /usr/local/lib/python3.10/dist-packages (from pandas>=1.0.0->ucimlrepo) (2.8.2)\n",
            "Requirement already satisfied: pytz>=2020.1 in /usr/local/lib/python3.10/dist-packages (from pandas>=1.0.0->ucimlrepo) (2023.4)\n",
            "Requirement already satisfied: tzdata>=2022.1 in /usr/local/lib/python3.10/dist-packages (from pandas>=1.0.0->ucimlrepo) (2024.1)\n",
            "Requirement already satisfied: numpy>=1.21.0 in /usr/local/lib/python3.10/dist-packages (from pandas>=1.0.0->ucimlrepo) (1.25.2)\n",
            "Requirement already satisfied: six>=1.5 in /usr/local/lib/python3.10/dist-packages (from python-dateutil>=2.8.2->pandas>=1.0.0->ucimlrepo) (1.16.0)\n",
            "Installing collected packages: ucimlrepo\n",
            "Successfully installed ucimlrepo-0.0.7\n"
          ]
        }
      ],
      "source": [
        "pip install ucimlrepo"
      ]
    },
    {
      "cell_type": "code",
      "source": [
        "from ucimlrepo import fetch_ucirepo\n",
        "\n",
        "# fetch dataset\n",
        "regensburg_pediatric_appendicitis = fetch_ucirepo(id=938)\n",
        "\n",
        "# data (as pandas dataframes)\n",
        "X = regensburg_pediatric_appendicitis.data.features\n",
        "y = regensburg_pediatric_appendicitis.data.targets\n",
        "\n",
        "# metadata\n",
        "print(regensburg_pediatric_appendicitis.metadata)\n",
        "\n",
        "# variable information\n",
        "print(regensburg_pediatric_appendicitis.variables)\n"
      ],
      "metadata": {
        "colab": {
          "base_uri": "https://localhost:8080/"
        },
        "id": "jYptFmpuXMoI",
        "outputId": "0938837d-6e5c-42bb-c897-e5f8e56cb1b5"
      },
      "execution_count": 2,
      "outputs": [
        {
          "output_type": "stream",
          "name": "stdout",
          "text": [
            "{'uci_id': 938, 'name': 'Regensburg Pediatric Appendicitis', 'repository_url': 'https://archive.ics.uci.edu/dataset/938/regensburg+pediatric+appendicitis', 'data_url': 'https://archive.ics.uci.edu/static/public/938/data.csv', 'abstract': 'This repository holds the data from a cohort of pediatric patients with suspected appendicitis admitted with abdominal pain to Children’s Hospital St. Hedwig in Regensburg, Germany, between 2016 and 2021. Each patient has (potentially multiple) ultrasound (US) images, aka views, tabular data comprising laboratory, physical examination, scoring results and ultrasonographic findings extracted manually by the experts, and three target variables, namely, diagnosis, management and severity.', 'area': 'Health and Medicine', 'tasks': ['Classification'], 'characteristics': ['Tabular', 'Image'], 'num_instances': 782, 'num_features': 53, 'feature_types': ['Real', 'Categorical', 'Integer'], 'demographics': ['Age', 'Sex'], 'target_col': ['Management', 'Severity', 'Diagnosis'], 'index_col': None, 'has_missing_values': 'yes', 'missing_values_symbol': 'NaN', 'year_of_dataset_creation': 2023, 'last_updated': 'Tue Feb 06 2024', 'dataset_doi': '10.5281/zenodo.7669442', 'creators': ['Ricards Marcinkevics', 'Patricia Reis', 'Ugne Klimiene', 'Ece Ozkan', 'Kieran Chin-Cheong', 'Alyssia Paschke', 'Julia Zerres', 'Markus Denzinger', 'David Niederberger', 'S. Wellmann', 'C. Knorr', 'Julia E.'], 'intro_paper': {'title': 'Interpretable and Intervenable Ultrasonography-based Machine Learning Models for Pediatric Appendicitis', 'authors': 'Ricards Marcinkevics, Patricia Reis Wolfertstetter, Ugne Klimiene, Ece Ozkan, Kieran Chin-Cheong, Alyssia Paschke, Julia Zerres, Markus Denzinger, David Niederberger, S. Wellmann, C. Knorr, Julia E. Vogt', 'published_in': 'Medical Image Analysis', 'year': 2023, 'url': 'https://arxiv.org/abs/2302.14460v2', 'doi': None}, 'additional_info': {'summary': 'This dataset was acquired in a retrospective study from a cohort of pediatric patients admitted with abdominal pain to Children’s Hospital St. Hedwig in Regensburg, Germany. Multiple abdominal B-mode ultrasound images were acquired for most patients, with the number of views varying from 1 to 15. The images depict various regions of interest, such as the abdomen’s right lower quadrant, appendix, intestines, lymph nodes and reproductive organs. Alongside multiple US images for each subject, the dataset includes information encompassing laboratory tests, physical examination results, clinical scores, such as Alvarado and pediatric appendicitis scores, and expert-produced ultrasonographic findings. Lastly, the subjects were labeled w.r.t. three target variables: diagnosis (appendicitis vs. no appendicitis), management (surgical vs. conservative) and severity (complicated vs. uncomplicated or no appendicitis). The study was approved by the Ethics Committee of the University of Regensburg (no. 18-1063-101, 18-1063_1-101 and 18-1063_2-101) and was performed following applicable guidelines and regulations.', 'purpose': None, 'funded_by': None, 'instances_represent': None, 'recommended_data_splits': None, 'sensitive_data': None, 'preprocessing_description': None, 'variable_info': None, 'citation': None}, 'external_url': 'https://zenodo.org/records/7669442'}\n",
            "                                name     role         type demographic  \\\n",
            "0                                Age  Feature   Continuous         Age   \n",
            "1                                BMI  Feature   Continuous        None   \n",
            "2                                Sex  Feature  Categorical         Sex   \n",
            "3                             Height  Feature   Continuous        None   \n",
            "4                             Weight  Feature      Integer        None   \n",
            "5                     Length_of_Stay  Feature      Integer        None   \n",
            "6                         Management   Target  Categorical        None   \n",
            "7                           Severity   Target  Categorical        None   \n",
            "8              Diagnosis_Presumptive    Other       Binary        None   \n",
            "9                          Diagnosis   Target       Binary        None   \n",
            "10                    Alvarado_Score  Feature      Integer        None   \n",
            "11     Paedriatic_Appendicitis_Score  Feature      Integer        None   \n",
            "12                    Appendix_on_US  Feature       Binary        None   \n",
            "13                 Appendix_Diameter  Feature      Integer        None   \n",
            "14                    Migratory_Pain  Feature       Binary        None   \n",
            "15              Lower_Right_Abd_Pain  Feature       Binary        None   \n",
            "16  Contralateral_Rebound_Tenderness  Feature       Binary        None   \n",
            "17                     Coughing_Pain  Feature       Binary        None   \n",
            "18                            Nausea  Feature       Binary        None   \n",
            "19                  Loss_of_Appetite  Feature       Binary        None   \n",
            "20                  Body_Temperature  Feature   Continuous        None   \n",
            "21                         WBC_Count  Feature   Continuous        None   \n",
            "22             Neutrophil_Percentage  Feature      Integer        None   \n",
            "23             Segmented_Neutrophils  Feature      Integer        None   \n",
            "24                      Neutrophilia  Feature  Categorical        None   \n",
            "25                         RBC_Count  Feature   Continuous        None   \n",
            "26                        Hemoglobin  Feature   Continuous        None   \n",
            "27                               RDW  Feature   Continuous        None   \n",
            "28                 Thrombocyte_Count  Feature      Integer        None   \n",
            "29                  Ketones_in_Urine  Feature  Categorical        None   \n",
            "30                      RBC_in_Urine  Feature  Categorical        None   \n",
            "31                      WBC_in_Urine  Feature  Categorical        None   \n",
            "32                               CRP  Feature      Integer        None   \n",
            "33                           Dysuria  Feature       Binary        None   \n",
            "34                             Stool  Feature  Categorical        None   \n",
            "35                       Peritonitis  Feature  Categorical        None   \n",
            "36                        Psoas_Sign  Feature  Categorical        None   \n",
            "37    Ipsilateral_Rebound_Tenderness  Feature  Categorical        None   \n",
            "38                      US_Performed  Feature  Categorical        None   \n",
            "39                         US_Number    Other      Integer        None   \n",
            "40                       Free_Fluids  Feature  Categorical        None   \n",
            "41              Appendix_Wall_Layers  Feature  Categorical        None   \n",
            "42                       Target_Sign  Feature  Categorical        None   \n",
            "43                     Appendicolith  Feature  Categorical        None   \n",
            "44                         Perfusion  Feature  Categorical        None   \n",
            "45                       Perforation  Feature  Categorical        None   \n",
            "46       Surrounding_Tissue_Reaction  Feature  Categorical        None   \n",
            "47              Appendicular_Abscess  Feature  Categorical        None   \n",
            "48                  Abscess_Location  Feature  Categorical        None   \n",
            "49          Pathological_Lymph_Nodes  Feature       Binary        None   \n",
            "50              Lymph_Nodes_Location  Feature  Categorical        None   \n",
            "51             Bowel_Wall_Thickening  Feature       Binary        None   \n",
            "52       Conglomerate_of_Bowel_Loops  Feature       Binary        None   \n",
            "53                             Ileus  Feature  Categorical        None   \n",
            "54                       Coprostasis  Feature  Categorical        None   \n",
            "55                         Meteorism  Feature  Categorical        None   \n",
            "56                         Enteritis  Feature  Categorical        None   \n",
            "57            Gynecological_Findings  Feature  Categorical        None   \n",
            "\n",
            "                                          description  units missing_values  \n",
            "0                     Obtained from the date of birth  years            yes  \n",
            "1   Measures body fat; patient's weight divided by...   None            yes  \n",
            "2                                   Registered gender   None            yes  \n",
            "3                                    Patient's height   None            yes  \n",
            "4                                    Patient's weight   None            yes  \n",
            "5                  Length of the stay in the hospital   None            yes  \n",
            "6   (conservative, primary surgical, secondary sur...   None            yes  \n",
            "7   (uncomplicated, complicated) Severity of appen...   None            yes  \n",
            "8                       Patient's suspected diagnosis   None            yes  \n",
            "9   Patient's diagnosis, histologically confirmed ...   None            yes  \n",
            "10    Patient's score according to the scoring system   None            yes  \n",
            "11    Patient's score according to the scoring system   None            yes  \n",
            "12  Detectability of the vermiform appendix during...   None            yes  \n",
            "13             Maximal outer diameter of the appendix   None            yes  \n",
            "14  Abdominal pain; usually starts in epigastrium ...   None            yes  \n",
            "15       Right iliac fossa pain detected on palpation   None            yes  \n",
            "16  A state in which pain of the contralateral sid...   None            yes  \n",
            "17                     Abdominal pain by forced cough   None            yes  \n",
            "18  Feeling of sickness/ejection of contents from ...   None            yes  \n",
            "19                                               None   None            yes  \n",
            "20  Measured by a thermometer placed in the rectum...   None            yes  \n",
            "21  The number of leucocytes in a unit volume of b...   None            yes  \n",
            "22              Mature WBC in the granulocytic series   None            yes  \n",
            "23  Most mature neutrophilic granulocytes present ...   None            yes  \n",
            "24  Relative neutrophilic leucocytosis, often a re...   None            yes  \n",
            "25  The number of erythrocytes in a unit volume of...   None            yes  \n",
            "26  Hemoglobin level; a red protein in the red blo...   None            yes  \n",
            "27  A blood test that measures the differences in ...   None            yes  \n",
            "28  The number of platelets in a unit volume of blood   None            yes  \n",
            "29  Presence of ketone bodies in urine, e.g. in ca...   None            yes  \n",
            "30                                     Blood in urine   None            yes  \n",
            "31    Leucocytes in urine, e.g., in case of infection   None            yes  \n",
            "32  Protein produced by the liver, elevated in cas...   None            yes  \n",
            "33          Pain or other difficulty during urination   None            yes  \n",
            "34                 Characteristics of bowel movements   None            yes  \n",
            "35  Spasm of abdominal wall muscles detected on pa...   None            yes  \n",
            "36    Abdominal pain produced by extension of the hip   None            yes  \n",
            "37  A state in which pain of the ipsilateral side ...   None            yes  \n",
            "38  If an abdominal ultrasonography was performed ...   None            yes  \n",
            "39                                               None   None            yes  \n",
            "40                     Free fluids inside the abdomen   None            yes  \n",
            "41  Distribution and characteristics of appendix l...   None            yes  \n",
            "42  Axial image of appendix with a fluid-filled ce...   None            yes  \n",
            "43  Presence of fecalith in the appendix, e.g. aco...   None            yes  \n",
            "44                    Blood flow to the appendix wall   None            yes  \n",
            "45                Signs of appendix perforation in US   None            yes  \n",
            "46  Inflammation signs in tissue (i.a. in omentum/...   None            yes  \n",
            "47                                   Appendiceal mass   None            yes  \n",
            "48             Location of the abcess intraperitoneal   None            yes  \n",
            "49  Enlarged and inflamed intra-abdominal lymph nodes   None            yes  \n",
            "50  The location of pathological lymph nodes in th...   None            yes  \n",
            "51  Edema of the intestinal wall, > 2-3 mm for sma...   None            yes  \n",
            "52  Small intestine conglomerate as sign of intrap...   None            yes  \n",
            "53  Sonographic signs of paralytic ileus (e.g., di...   None            yes  \n",
            "54                       Fecal impaction in the colon   None            yes  \n",
            "55               Accumulation of gas in the intestine   None            yes  \n",
            "56  Sonographic features of gastroenteritis, e.g. ...   None            yes  \n",
            "57  Gynaecological abnormalities, e.g. cysts, ovar...   None            yes  \n"
          ]
        }
      ]
    },
    {
      "cell_type": "code",
      "source": [
        "import pandas as pd\n",
        "import numpy as np\n",
        "import matplotlib.pyplot as plt\n",
        "import seaborn as sns"
      ],
      "metadata": {
        "id": "B1xpscDEXvtp"
      },
      "execution_count": 3,
      "outputs": []
    },
    {
      "cell_type": "code",
      "source": [
        "df = pd.concat([X, y], axis=1)"
      ],
      "metadata": {
        "id": "2YKu4CATXsM4"
      },
      "execution_count": 4,
      "outputs": []
    },
    {
      "cell_type": "markdown",
      "source": [
        "# EDA"
      ],
      "metadata": {
        "id": "bHlI_QXQYBiy"
      }
    },
    {
      "cell_type": "code",
      "source": [
        "df.info()"
      ],
      "metadata": {
        "colab": {
          "base_uri": "https://localhost:8080/"
        },
        "id": "BW3yANyLYAhX",
        "outputId": "9e263aaa-d1e5-43d1-cb4b-281cddb3b541"
      },
      "execution_count": 5,
      "outputs": [
        {
          "output_type": "stream",
          "name": "stdout",
          "text": [
            "<class 'pandas.core.frame.DataFrame'>\n",
            "RangeIndex: 782 entries, 0 to 781\n",
            "Data columns (total 56 columns):\n",
            " #   Column                            Non-Null Count  Dtype  \n",
            "---  ------                            --------------  -----  \n",
            " 0   Age                               781 non-null    float64\n",
            " 1   BMI                               755 non-null    float64\n",
            " 2   Sex                               780 non-null    object \n",
            " 3   Height                            756 non-null    float64\n",
            " 4   Weight                            779 non-null    float64\n",
            " 5   Length_of_Stay                    778 non-null    float64\n",
            " 6   Alvarado_Score                    730 non-null    float64\n",
            " 7   Paedriatic_Appendicitis_Score     730 non-null    float64\n",
            " 8   Appendix_on_US                    777 non-null    object \n",
            " 9   Appendix_Diameter                 498 non-null    float64\n",
            " 10  Migratory_Pain                    773 non-null    object \n",
            " 11  Lower_Right_Abd_Pain              774 non-null    object \n",
            " 12  Contralateral_Rebound_Tenderness  767 non-null    object \n",
            " 13  Coughing_Pain                     766 non-null    object \n",
            " 14  Nausea                            774 non-null    object \n",
            " 15  Loss_of_Appetite                  772 non-null    object \n",
            " 16  Body_Temperature                  775 non-null    float64\n",
            " 17  WBC_Count                         776 non-null    float64\n",
            " 18  Neutrophil_Percentage             679 non-null    float64\n",
            " 19  Segmented_Neutrophils             54 non-null     float64\n",
            " 20  Neutrophilia                      732 non-null    object \n",
            " 21  RBC_Count                         764 non-null    float64\n",
            " 22  Hemoglobin                        764 non-null    float64\n",
            " 23  RDW                               756 non-null    float64\n",
            " 24  Thrombocyte_Count                 764 non-null    float64\n",
            " 25  Ketones_in_Urine                  582 non-null    object \n",
            " 26  RBC_in_Urine                      576 non-null    object \n",
            " 27  WBC_in_Urine                      583 non-null    object \n",
            " 28  CRP                               771 non-null    float64\n",
            " 29  Dysuria                           753 non-null    object \n",
            " 30  Stool                             765 non-null    object \n",
            " 31  Peritonitis                       773 non-null    object \n",
            " 32  Psoas_Sign                        745 non-null    object \n",
            " 33  Ipsilateral_Rebound_Tenderness    619 non-null    object \n",
            " 34  US_Performed                      778 non-null    object \n",
            " 35  Free_Fluids                       719 non-null    object \n",
            " 36  Appendix_Wall_Layers              218 non-null    object \n",
            " 37  Target_Sign                       138 non-null    object \n",
            " 38  Appendicolith                     69 non-null     object \n",
            " 39  Perfusion                         63 non-null     object \n",
            " 40  Perforation                       81 non-null     object \n",
            " 41  Surrounding_Tissue_Reaction       252 non-null    object \n",
            " 42  Appendicular_Abscess              85 non-null     object \n",
            " 43  Abscess_Location                  13 non-null     object \n",
            " 44  Pathological_Lymph_Nodes          203 non-null    object \n",
            " 45  Lymph_Nodes_Location              121 non-null    object \n",
            " 46  Bowel_Wall_Thickening             99 non-null     object \n",
            " 47  Conglomerate_of_Bowel_Loops       43 non-null     object \n",
            " 48  Ileus                             60 non-null     object \n",
            " 49  Coprostasis                       71 non-null     object \n",
            " 50  Meteorism                         140 non-null    object \n",
            " 51  Enteritis                         66 non-null     object \n",
            " 52  Gynecological_Findings            26 non-null     object \n",
            " 53  Management                        781 non-null    object \n",
            " 54  Severity                          781 non-null    object \n",
            " 55  Diagnosis                         780 non-null    object \n",
            "dtypes: float64(17), object(39)\n",
            "memory usage: 342.2+ KB\n"
          ]
        }
      ]
    },
    {
      "cell_type": "code",
      "source": [
        "df.isna().sum()"
      ],
      "metadata": {
        "colab": {
          "base_uri": "https://localhost:8080/"
        },
        "id": "VDdvwyznYTlQ",
        "outputId": "e196deef-dc2b-4e1a-d82a-7667329a8b78"
      },
      "execution_count": 6,
      "outputs": [
        {
          "output_type": "execute_result",
          "data": {
            "text/plain": [
              "Age                                   1\n",
              "BMI                                  27\n",
              "Sex                                   2\n",
              "Height                               26\n",
              "Weight                                3\n",
              "Length_of_Stay                        4\n",
              "Alvarado_Score                       52\n",
              "Paedriatic_Appendicitis_Score        52\n",
              "Appendix_on_US                        5\n",
              "Appendix_Diameter                   284\n",
              "Migratory_Pain                        9\n",
              "Lower_Right_Abd_Pain                  8\n",
              "Contralateral_Rebound_Tenderness     15\n",
              "Coughing_Pain                        16\n",
              "Nausea                                8\n",
              "Loss_of_Appetite                     10\n",
              "Body_Temperature                      7\n",
              "WBC_Count                             6\n",
              "Neutrophil_Percentage               103\n",
              "Segmented_Neutrophils               728\n",
              "Neutrophilia                         50\n",
              "RBC_Count                            18\n",
              "Hemoglobin                           18\n",
              "RDW                                  26\n",
              "Thrombocyte_Count                    18\n",
              "Ketones_in_Urine                    200\n",
              "RBC_in_Urine                        206\n",
              "WBC_in_Urine                        199\n",
              "CRP                                  11\n",
              "Dysuria                              29\n",
              "Stool                                17\n",
              "Peritonitis                           9\n",
              "Psoas_Sign                           37\n",
              "Ipsilateral_Rebound_Tenderness      163\n",
              "US_Performed                          4\n",
              "Free_Fluids                          63\n",
              "Appendix_Wall_Layers                564\n",
              "Target_Sign                         644\n",
              "Appendicolith                       713\n",
              "Perfusion                           719\n",
              "Perforation                         701\n",
              "Surrounding_Tissue_Reaction         530\n",
              "Appendicular_Abscess                697\n",
              "Abscess_Location                    769\n",
              "Pathological_Lymph_Nodes            579\n",
              "Lymph_Nodes_Location                661\n",
              "Bowel_Wall_Thickening               683\n",
              "Conglomerate_of_Bowel_Loops         739\n",
              "Ileus                               722\n",
              "Coprostasis                         711\n",
              "Meteorism                           642\n",
              "Enteritis                           716\n",
              "Gynecological_Findings              756\n",
              "Management                            1\n",
              "Severity                              1\n",
              "Diagnosis                             2\n",
              "dtype: int64"
            ]
          },
          "metadata": {},
          "execution_count": 6
        }
      ]
    },
    {
      "cell_type": "code",
      "source": [
        "null = df.isna().sum() / len(df) * 100\n",
        "null = pd.DataFrame({'feature':null.index, 'null_percentage':null}) \\\n",
        "                    .sort_values(by='null_percentage', ascending=False) \\\n",
        "                    .reset_index(drop=True)\n",
        "null.head(30)"
      ],
      "metadata": {
        "colab": {
          "base_uri": "https://localhost:8080/",
          "height": 990
        },
        "id": "BaF_1JQtaNKQ",
        "outputId": "ff85f4f5-e589-447e-f4c9-00c1587832a8"
      },
      "execution_count": 9,
      "outputs": [
        {
          "output_type": "execute_result",
          "data": {
            "text/plain": [
              "                           feature  null_percentage\n",
              "0                 Abscess_Location        98.337596\n",
              "1           Gynecological_Findings        96.675192\n",
              "2      Conglomerate_of_Bowel_Loops        94.501279\n",
              "3            Segmented_Neutrophils        93.094629\n",
              "4                            Ileus        92.327366\n",
              "5                        Perfusion        91.943734\n",
              "6                        Enteritis        91.560102\n",
              "7                    Appendicolith        91.176471\n",
              "8                      Coprostasis        90.920716\n",
              "9                      Perforation        89.641944\n",
              "10            Appendicular_Abscess        89.130435\n",
              "11           Bowel_Wall_Thickening        87.340153\n",
              "12            Lymph_Nodes_Location        84.526854\n",
              "13                     Target_Sign        82.352941\n",
              "14                       Meteorism        82.097187\n",
              "15        Pathological_Lymph_Nodes        74.040921\n",
              "16            Appendix_Wall_Layers        72.122762\n",
              "17     Surrounding_Tissue_Reaction        67.774936\n",
              "18               Appendix_Diameter        36.317136\n",
              "19                    RBC_in_Urine        26.342711\n",
              "20                Ketones_in_Urine        25.575448\n",
              "21                    WBC_in_Urine        25.447570\n",
              "22  Ipsilateral_Rebound_Tenderness        20.843990\n",
              "23           Neutrophil_Percentage        13.171355\n",
              "24                     Free_Fluids         8.056266\n",
              "25   Paedriatic_Appendicitis_Score         6.649616\n",
              "26                  Alvarado_Score         6.649616\n",
              "27                    Neutrophilia         6.393862\n",
              "28                      Psoas_Sign         4.731458\n",
              "29                         Dysuria         3.708440"
            ],
            "text/html": [
              "\n",
              "  <div id=\"df-dda71970-406e-4995-ae7f-d14e918dc38d\" class=\"colab-df-container\">\n",
              "    <div>\n",
              "<style scoped>\n",
              "    .dataframe tbody tr th:only-of-type {\n",
              "        vertical-align: middle;\n",
              "    }\n",
              "\n",
              "    .dataframe tbody tr th {\n",
              "        vertical-align: top;\n",
              "    }\n",
              "\n",
              "    .dataframe thead th {\n",
              "        text-align: right;\n",
              "    }\n",
              "</style>\n",
              "<table border=\"1\" class=\"dataframe\">\n",
              "  <thead>\n",
              "    <tr style=\"text-align: right;\">\n",
              "      <th></th>\n",
              "      <th>feature</th>\n",
              "      <th>null_percentage</th>\n",
              "    </tr>\n",
              "  </thead>\n",
              "  <tbody>\n",
              "    <tr>\n",
              "      <th>0</th>\n",
              "      <td>Abscess_Location</td>\n",
              "      <td>98.337596</td>\n",
              "    </tr>\n",
              "    <tr>\n",
              "      <th>1</th>\n",
              "      <td>Gynecological_Findings</td>\n",
              "      <td>96.675192</td>\n",
              "    </tr>\n",
              "    <tr>\n",
              "      <th>2</th>\n",
              "      <td>Conglomerate_of_Bowel_Loops</td>\n",
              "      <td>94.501279</td>\n",
              "    </tr>\n",
              "    <tr>\n",
              "      <th>3</th>\n",
              "      <td>Segmented_Neutrophils</td>\n",
              "      <td>93.094629</td>\n",
              "    </tr>\n",
              "    <tr>\n",
              "      <th>4</th>\n",
              "      <td>Ileus</td>\n",
              "      <td>92.327366</td>\n",
              "    </tr>\n",
              "    <tr>\n",
              "      <th>5</th>\n",
              "      <td>Perfusion</td>\n",
              "      <td>91.943734</td>\n",
              "    </tr>\n",
              "    <tr>\n",
              "      <th>6</th>\n",
              "      <td>Enteritis</td>\n",
              "      <td>91.560102</td>\n",
              "    </tr>\n",
              "    <tr>\n",
              "      <th>7</th>\n",
              "      <td>Appendicolith</td>\n",
              "      <td>91.176471</td>\n",
              "    </tr>\n",
              "    <tr>\n",
              "      <th>8</th>\n",
              "      <td>Coprostasis</td>\n",
              "      <td>90.920716</td>\n",
              "    </tr>\n",
              "    <tr>\n",
              "      <th>9</th>\n",
              "      <td>Perforation</td>\n",
              "      <td>89.641944</td>\n",
              "    </tr>\n",
              "    <tr>\n",
              "      <th>10</th>\n",
              "      <td>Appendicular_Abscess</td>\n",
              "      <td>89.130435</td>\n",
              "    </tr>\n",
              "    <tr>\n",
              "      <th>11</th>\n",
              "      <td>Bowel_Wall_Thickening</td>\n",
              "      <td>87.340153</td>\n",
              "    </tr>\n",
              "    <tr>\n",
              "      <th>12</th>\n",
              "      <td>Lymph_Nodes_Location</td>\n",
              "      <td>84.526854</td>\n",
              "    </tr>\n",
              "    <tr>\n",
              "      <th>13</th>\n",
              "      <td>Target_Sign</td>\n",
              "      <td>82.352941</td>\n",
              "    </tr>\n",
              "    <tr>\n",
              "      <th>14</th>\n",
              "      <td>Meteorism</td>\n",
              "      <td>82.097187</td>\n",
              "    </tr>\n",
              "    <tr>\n",
              "      <th>15</th>\n",
              "      <td>Pathological_Lymph_Nodes</td>\n",
              "      <td>74.040921</td>\n",
              "    </tr>\n",
              "    <tr>\n",
              "      <th>16</th>\n",
              "      <td>Appendix_Wall_Layers</td>\n",
              "      <td>72.122762</td>\n",
              "    </tr>\n",
              "    <tr>\n",
              "      <th>17</th>\n",
              "      <td>Surrounding_Tissue_Reaction</td>\n",
              "      <td>67.774936</td>\n",
              "    </tr>\n",
              "    <tr>\n",
              "      <th>18</th>\n",
              "      <td>Appendix_Diameter</td>\n",
              "      <td>36.317136</td>\n",
              "    </tr>\n",
              "    <tr>\n",
              "      <th>19</th>\n",
              "      <td>RBC_in_Urine</td>\n",
              "      <td>26.342711</td>\n",
              "    </tr>\n",
              "    <tr>\n",
              "      <th>20</th>\n",
              "      <td>Ketones_in_Urine</td>\n",
              "      <td>25.575448</td>\n",
              "    </tr>\n",
              "    <tr>\n",
              "      <th>21</th>\n",
              "      <td>WBC_in_Urine</td>\n",
              "      <td>25.447570</td>\n",
              "    </tr>\n",
              "    <tr>\n",
              "      <th>22</th>\n",
              "      <td>Ipsilateral_Rebound_Tenderness</td>\n",
              "      <td>20.843990</td>\n",
              "    </tr>\n",
              "    <tr>\n",
              "      <th>23</th>\n",
              "      <td>Neutrophil_Percentage</td>\n",
              "      <td>13.171355</td>\n",
              "    </tr>\n",
              "    <tr>\n",
              "      <th>24</th>\n",
              "      <td>Free_Fluids</td>\n",
              "      <td>8.056266</td>\n",
              "    </tr>\n",
              "    <tr>\n",
              "      <th>25</th>\n",
              "      <td>Paedriatic_Appendicitis_Score</td>\n",
              "      <td>6.649616</td>\n",
              "    </tr>\n",
              "    <tr>\n",
              "      <th>26</th>\n",
              "      <td>Alvarado_Score</td>\n",
              "      <td>6.649616</td>\n",
              "    </tr>\n",
              "    <tr>\n",
              "      <th>27</th>\n",
              "      <td>Neutrophilia</td>\n",
              "      <td>6.393862</td>\n",
              "    </tr>\n",
              "    <tr>\n",
              "      <th>28</th>\n",
              "      <td>Psoas_Sign</td>\n",
              "      <td>4.731458</td>\n",
              "    </tr>\n",
              "    <tr>\n",
              "      <th>29</th>\n",
              "      <td>Dysuria</td>\n",
              "      <td>3.708440</td>\n",
              "    </tr>\n",
              "  </tbody>\n",
              "</table>\n",
              "</div>\n",
              "    <div class=\"colab-df-buttons\">\n",
              "\n",
              "  <div class=\"colab-df-container\">\n",
              "    <button class=\"colab-df-convert\" onclick=\"convertToInteractive('df-dda71970-406e-4995-ae7f-d14e918dc38d')\"\n",
              "            title=\"Convert this dataframe to an interactive table.\"\n",
              "            style=\"display:none;\">\n",
              "\n",
              "  <svg xmlns=\"http://www.w3.org/2000/svg\" height=\"24px\" viewBox=\"0 -960 960 960\">\n",
              "    <path d=\"M120-120v-720h720v720H120Zm60-500h600v-160H180v160Zm220 220h160v-160H400v160Zm0 220h160v-160H400v160ZM180-400h160v-160H180v160Zm440 0h160v-160H620v160ZM180-180h160v-160H180v160Zm440 0h160v-160H620v160Z\"/>\n",
              "  </svg>\n",
              "    </button>\n",
              "\n",
              "  <style>\n",
              "    .colab-df-container {\n",
              "      display:flex;\n",
              "      gap: 12px;\n",
              "    }\n",
              "\n",
              "    .colab-df-convert {\n",
              "      background-color: #E8F0FE;\n",
              "      border: none;\n",
              "      border-radius: 50%;\n",
              "      cursor: pointer;\n",
              "      display: none;\n",
              "      fill: #1967D2;\n",
              "      height: 32px;\n",
              "      padding: 0 0 0 0;\n",
              "      width: 32px;\n",
              "    }\n",
              "\n",
              "    .colab-df-convert:hover {\n",
              "      background-color: #E2EBFA;\n",
              "      box-shadow: 0px 1px 2px rgba(60, 64, 67, 0.3), 0px 1px 3px 1px rgba(60, 64, 67, 0.15);\n",
              "      fill: #174EA6;\n",
              "    }\n",
              "\n",
              "    .colab-df-buttons div {\n",
              "      margin-bottom: 4px;\n",
              "    }\n",
              "\n",
              "    [theme=dark] .colab-df-convert {\n",
              "      background-color: #3B4455;\n",
              "      fill: #D2E3FC;\n",
              "    }\n",
              "\n",
              "    [theme=dark] .colab-df-convert:hover {\n",
              "      background-color: #434B5C;\n",
              "      box-shadow: 0px 1px 3px 1px rgba(0, 0, 0, 0.15);\n",
              "      filter: drop-shadow(0px 1px 2px rgba(0, 0, 0, 0.3));\n",
              "      fill: #FFFFFF;\n",
              "    }\n",
              "  </style>\n",
              "\n",
              "    <script>\n",
              "      const buttonEl =\n",
              "        document.querySelector('#df-dda71970-406e-4995-ae7f-d14e918dc38d button.colab-df-convert');\n",
              "      buttonEl.style.display =\n",
              "        google.colab.kernel.accessAllowed ? 'block' : 'none';\n",
              "\n",
              "      async function convertToInteractive(key) {\n",
              "        const element = document.querySelector('#df-dda71970-406e-4995-ae7f-d14e918dc38d');\n",
              "        const dataTable =\n",
              "          await google.colab.kernel.invokeFunction('convertToInteractive',\n",
              "                                                    [key], {});\n",
              "        if (!dataTable) return;\n",
              "\n",
              "        const docLinkHtml = 'Like what you see? Visit the ' +\n",
              "          '<a target=\"_blank\" href=https://colab.research.google.com/notebooks/data_table.ipynb>data table notebook</a>'\n",
              "          + ' to learn more about interactive tables.';\n",
              "        element.innerHTML = '';\n",
              "        dataTable['output_type'] = 'display_data';\n",
              "        await google.colab.output.renderOutput(dataTable, element);\n",
              "        const docLink = document.createElement('div');\n",
              "        docLink.innerHTML = docLinkHtml;\n",
              "        element.appendChild(docLink);\n",
              "      }\n",
              "    </script>\n",
              "  </div>\n",
              "\n",
              "\n",
              "<div id=\"df-8682b9cb-8382-4de0-a3c0-e7e2ff093e67\">\n",
              "  <button class=\"colab-df-quickchart\" onclick=\"quickchart('df-8682b9cb-8382-4de0-a3c0-e7e2ff093e67')\"\n",
              "            title=\"Suggest charts\"\n",
              "            style=\"display:none;\">\n",
              "\n",
              "<svg xmlns=\"http://www.w3.org/2000/svg\" height=\"24px\"viewBox=\"0 0 24 24\"\n",
              "     width=\"24px\">\n",
              "    <g>\n",
              "        <path d=\"M19 3H5c-1.1 0-2 .9-2 2v14c0 1.1.9 2 2 2h14c1.1 0 2-.9 2-2V5c0-1.1-.9-2-2-2zM9 17H7v-7h2v7zm4 0h-2V7h2v10zm4 0h-2v-4h2v4z\"/>\n",
              "    </g>\n",
              "</svg>\n",
              "  </button>\n",
              "\n",
              "<style>\n",
              "  .colab-df-quickchart {\n",
              "      --bg-color: #E8F0FE;\n",
              "      --fill-color: #1967D2;\n",
              "      --hover-bg-color: #E2EBFA;\n",
              "      --hover-fill-color: #174EA6;\n",
              "      --disabled-fill-color: #AAA;\n",
              "      --disabled-bg-color: #DDD;\n",
              "  }\n",
              "\n",
              "  [theme=dark] .colab-df-quickchart {\n",
              "      --bg-color: #3B4455;\n",
              "      --fill-color: #D2E3FC;\n",
              "      --hover-bg-color: #434B5C;\n",
              "      --hover-fill-color: #FFFFFF;\n",
              "      --disabled-bg-color: #3B4455;\n",
              "      --disabled-fill-color: #666;\n",
              "  }\n",
              "\n",
              "  .colab-df-quickchart {\n",
              "    background-color: var(--bg-color);\n",
              "    border: none;\n",
              "    border-radius: 50%;\n",
              "    cursor: pointer;\n",
              "    display: none;\n",
              "    fill: var(--fill-color);\n",
              "    height: 32px;\n",
              "    padding: 0;\n",
              "    width: 32px;\n",
              "  }\n",
              "\n",
              "  .colab-df-quickchart:hover {\n",
              "    background-color: var(--hover-bg-color);\n",
              "    box-shadow: 0 1px 2px rgba(60, 64, 67, 0.3), 0 1px 3px 1px rgba(60, 64, 67, 0.15);\n",
              "    fill: var(--button-hover-fill-color);\n",
              "  }\n",
              "\n",
              "  .colab-df-quickchart-complete:disabled,\n",
              "  .colab-df-quickchart-complete:disabled:hover {\n",
              "    background-color: var(--disabled-bg-color);\n",
              "    fill: var(--disabled-fill-color);\n",
              "    box-shadow: none;\n",
              "  }\n",
              "\n",
              "  .colab-df-spinner {\n",
              "    border: 2px solid var(--fill-color);\n",
              "    border-color: transparent;\n",
              "    border-bottom-color: var(--fill-color);\n",
              "    animation:\n",
              "      spin 1s steps(1) infinite;\n",
              "  }\n",
              "\n",
              "  @keyframes spin {\n",
              "    0% {\n",
              "      border-color: transparent;\n",
              "      border-bottom-color: var(--fill-color);\n",
              "      border-left-color: var(--fill-color);\n",
              "    }\n",
              "    20% {\n",
              "      border-color: transparent;\n",
              "      border-left-color: var(--fill-color);\n",
              "      border-top-color: var(--fill-color);\n",
              "    }\n",
              "    30% {\n",
              "      border-color: transparent;\n",
              "      border-left-color: var(--fill-color);\n",
              "      border-top-color: var(--fill-color);\n",
              "      border-right-color: var(--fill-color);\n",
              "    }\n",
              "    40% {\n",
              "      border-color: transparent;\n",
              "      border-right-color: var(--fill-color);\n",
              "      border-top-color: var(--fill-color);\n",
              "    }\n",
              "    60% {\n",
              "      border-color: transparent;\n",
              "      border-right-color: var(--fill-color);\n",
              "    }\n",
              "    80% {\n",
              "      border-color: transparent;\n",
              "      border-right-color: var(--fill-color);\n",
              "      border-bottom-color: var(--fill-color);\n",
              "    }\n",
              "    90% {\n",
              "      border-color: transparent;\n",
              "      border-bottom-color: var(--fill-color);\n",
              "    }\n",
              "  }\n",
              "</style>\n",
              "\n",
              "  <script>\n",
              "    async function quickchart(key) {\n",
              "      const quickchartButtonEl =\n",
              "        document.querySelector('#' + key + ' button');\n",
              "      quickchartButtonEl.disabled = true;  // To prevent multiple clicks.\n",
              "      quickchartButtonEl.classList.add('colab-df-spinner');\n",
              "      try {\n",
              "        const charts = await google.colab.kernel.invokeFunction(\n",
              "            'suggestCharts', [key], {});\n",
              "      } catch (error) {\n",
              "        console.error('Error during call to suggestCharts:', error);\n",
              "      }\n",
              "      quickchartButtonEl.classList.remove('colab-df-spinner');\n",
              "      quickchartButtonEl.classList.add('colab-df-quickchart-complete');\n",
              "    }\n",
              "    (() => {\n",
              "      let quickchartButtonEl =\n",
              "        document.querySelector('#df-8682b9cb-8382-4de0-a3c0-e7e2ff093e67 button');\n",
              "      quickchartButtonEl.style.display =\n",
              "        google.colab.kernel.accessAllowed ? 'block' : 'none';\n",
              "    })();\n",
              "  </script>\n",
              "</div>\n",
              "    </div>\n",
              "  </div>\n"
            ],
            "application/vnd.google.colaboratory.intrinsic+json": {
              "type": "dataframe",
              "variable_name": "null",
              "summary": "{\n  \"name\": \"null\",\n  \"rows\": 56,\n  \"fields\": [\n    {\n      \"column\": \"feature\",\n      \"properties\": {\n        \"dtype\": \"string\",\n        \"num_unique_values\": 56,\n        \"samples\": [\n          \"Abscess_Location\",\n          \"Perfusion\",\n          \"RBC_Count\"\n        ],\n        \"semantic_type\": \"\",\n        \"description\": \"\"\n      }\n    },\n    {\n      \"column\": \"null_percentage\",\n      \"properties\": {\n        \"dtype\": \"number\",\n        \"std\": 39.36534680658709,\n        \"min\": 0.1278772378516624,\n        \"max\": 98.33759590792839,\n        \"num_unique_values\": 46,\n        \"samples\": [\n          0.8951406649616368,\n          6.649616368286446,\n          6.3938618925831205\n        ],\n        \"semantic_type\": \"\",\n        \"description\": \"\"\n      }\n    }\n  ]\n}"
            }
          },
          "metadata": {},
          "execution_count": 9
        }
      ]
    },
    {
      "cell_type": "code",
      "source": [
        "print(regensburg_pediatric_appendicitis.variables)"
      ],
      "metadata": {
        "colab": {
          "base_uri": "https://localhost:8080/"
        },
        "id": "AXCnLkeFbgbB",
        "outputId": "c1ffa8ac-fb39-416e-c421-2a3cb3b4133d"
      },
      "execution_count": 10,
      "outputs": [
        {
          "output_type": "stream",
          "name": "stdout",
          "text": [
            "                                name     role         type demographic  \\\n",
            "0                                Age  Feature   Continuous         Age   \n",
            "1                                BMI  Feature   Continuous        None   \n",
            "2                                Sex  Feature  Categorical         Sex   \n",
            "3                             Height  Feature   Continuous        None   \n",
            "4                             Weight  Feature      Integer        None   \n",
            "5                     Length_of_Stay  Feature      Integer        None   \n",
            "6                         Management   Target  Categorical        None   \n",
            "7                           Severity   Target  Categorical        None   \n",
            "8              Diagnosis_Presumptive    Other       Binary        None   \n",
            "9                          Diagnosis   Target       Binary        None   \n",
            "10                    Alvarado_Score  Feature      Integer        None   \n",
            "11     Paedriatic_Appendicitis_Score  Feature      Integer        None   \n",
            "12                    Appendix_on_US  Feature       Binary        None   \n",
            "13                 Appendix_Diameter  Feature      Integer        None   \n",
            "14                    Migratory_Pain  Feature       Binary        None   \n",
            "15              Lower_Right_Abd_Pain  Feature       Binary        None   \n",
            "16  Contralateral_Rebound_Tenderness  Feature       Binary        None   \n",
            "17                     Coughing_Pain  Feature       Binary        None   \n",
            "18                            Nausea  Feature       Binary        None   \n",
            "19                  Loss_of_Appetite  Feature       Binary        None   \n",
            "20                  Body_Temperature  Feature   Continuous        None   \n",
            "21                         WBC_Count  Feature   Continuous        None   \n",
            "22             Neutrophil_Percentage  Feature      Integer        None   \n",
            "23             Segmented_Neutrophils  Feature      Integer        None   \n",
            "24                      Neutrophilia  Feature  Categorical        None   \n",
            "25                         RBC_Count  Feature   Continuous        None   \n",
            "26                        Hemoglobin  Feature   Continuous        None   \n",
            "27                               RDW  Feature   Continuous        None   \n",
            "28                 Thrombocyte_Count  Feature      Integer        None   \n",
            "29                  Ketones_in_Urine  Feature  Categorical        None   \n",
            "30                      RBC_in_Urine  Feature  Categorical        None   \n",
            "31                      WBC_in_Urine  Feature  Categorical        None   \n",
            "32                               CRP  Feature      Integer        None   \n",
            "33                           Dysuria  Feature       Binary        None   \n",
            "34                             Stool  Feature  Categorical        None   \n",
            "35                       Peritonitis  Feature  Categorical        None   \n",
            "36                        Psoas_Sign  Feature  Categorical        None   \n",
            "37    Ipsilateral_Rebound_Tenderness  Feature  Categorical        None   \n",
            "38                      US_Performed  Feature  Categorical        None   \n",
            "39                         US_Number    Other      Integer        None   \n",
            "40                       Free_Fluids  Feature  Categorical        None   \n",
            "41              Appendix_Wall_Layers  Feature  Categorical        None   \n",
            "42                       Target_Sign  Feature  Categorical        None   \n",
            "43                     Appendicolith  Feature  Categorical        None   \n",
            "44                         Perfusion  Feature  Categorical        None   \n",
            "45                       Perforation  Feature  Categorical        None   \n",
            "46       Surrounding_Tissue_Reaction  Feature  Categorical        None   \n",
            "47              Appendicular_Abscess  Feature  Categorical        None   \n",
            "48                  Abscess_Location  Feature  Categorical        None   \n",
            "49          Pathological_Lymph_Nodes  Feature       Binary        None   \n",
            "50              Lymph_Nodes_Location  Feature  Categorical        None   \n",
            "51             Bowel_Wall_Thickening  Feature       Binary        None   \n",
            "52       Conglomerate_of_Bowel_Loops  Feature       Binary        None   \n",
            "53                             Ileus  Feature  Categorical        None   \n",
            "54                       Coprostasis  Feature  Categorical        None   \n",
            "55                         Meteorism  Feature  Categorical        None   \n",
            "56                         Enteritis  Feature  Categorical        None   \n",
            "57            Gynecological_Findings  Feature  Categorical        None   \n",
            "\n",
            "                                          description  units missing_values  \n",
            "0                     Obtained from the date of birth  years            yes  \n",
            "1   Measures body fat; patient's weight divided by...   None            yes  \n",
            "2                                   Registered gender   None            yes  \n",
            "3                                    Patient's height   None            yes  \n",
            "4                                    Patient's weight   None            yes  \n",
            "5                  Length of the stay in the hospital   None            yes  \n",
            "6   (conservative, primary surgical, secondary sur...   None            yes  \n",
            "7   (uncomplicated, complicated) Severity of appen...   None            yes  \n",
            "8                       Patient's suspected diagnosis   None            yes  \n",
            "9   Patient's diagnosis, histologically confirmed ...   None            yes  \n",
            "10    Patient's score according to the scoring system   None            yes  \n",
            "11    Patient's score according to the scoring system   None            yes  \n",
            "12  Detectability of the vermiform appendix during...   None            yes  \n",
            "13             Maximal outer diameter of the appendix   None            yes  \n",
            "14  Abdominal pain; usually starts in epigastrium ...   None            yes  \n",
            "15       Right iliac fossa pain detected on palpation   None            yes  \n",
            "16  A state in which pain of the contralateral sid...   None            yes  \n",
            "17                     Abdominal pain by forced cough   None            yes  \n",
            "18  Feeling of sickness/ejection of contents from ...   None            yes  \n",
            "19                                               None   None            yes  \n",
            "20  Measured by a thermometer placed in the rectum...   None            yes  \n",
            "21  The number of leucocytes in a unit volume of b...   None            yes  \n",
            "22              Mature WBC in the granulocytic series   None            yes  \n",
            "23  Most mature neutrophilic granulocytes present ...   None            yes  \n",
            "24  Relative neutrophilic leucocytosis, often a re...   None            yes  \n",
            "25  The number of erythrocytes in a unit volume of...   None            yes  \n",
            "26  Hemoglobin level; a red protein in the red blo...   None            yes  \n",
            "27  A blood test that measures the differences in ...   None            yes  \n",
            "28  The number of platelets in a unit volume of blood   None            yes  \n",
            "29  Presence of ketone bodies in urine, e.g. in ca...   None            yes  \n",
            "30                                     Blood in urine   None            yes  \n",
            "31    Leucocytes in urine, e.g., in case of infection   None            yes  \n",
            "32  Protein produced by the liver, elevated in cas...   None            yes  \n",
            "33          Pain or other difficulty during urination   None            yes  \n",
            "34                 Characteristics of bowel movements   None            yes  \n",
            "35  Spasm of abdominal wall muscles detected on pa...   None            yes  \n",
            "36    Abdominal pain produced by extension of the hip   None            yes  \n",
            "37  A state in which pain of the ipsilateral side ...   None            yes  \n",
            "38  If an abdominal ultrasonography was performed ...   None            yes  \n",
            "39                                               None   None            yes  \n",
            "40                     Free fluids inside the abdomen   None            yes  \n",
            "41  Distribution and characteristics of appendix l...   None            yes  \n",
            "42  Axial image of appendix with a fluid-filled ce...   None            yes  \n",
            "43  Presence of fecalith in the appendix, e.g. aco...   None            yes  \n",
            "44                    Blood flow to the appendix wall   None            yes  \n",
            "45                Signs of appendix perforation in US   None            yes  \n",
            "46  Inflammation signs in tissue (i.a. in omentum/...   None            yes  \n",
            "47                                   Appendiceal mass   None            yes  \n",
            "48             Location of the abcess intraperitoneal   None            yes  \n",
            "49  Enlarged and inflamed intra-abdominal lymph nodes   None            yes  \n",
            "50  The location of pathological lymph nodes in th...   None            yes  \n",
            "51  Edema of the intestinal wall, > 2-3 mm for sma...   None            yes  \n",
            "52  Small intestine conglomerate as sign of intrap...   None            yes  \n",
            "53  Sonographic signs of paralytic ileus (e.g., di...   None            yes  \n",
            "54                       Fecal impaction in the colon   None            yes  \n",
            "55               Accumulation of gas in the intestine   None            yes  \n",
            "56  Sonographic features of gastroenteritis, e.g. ...   None            yes  \n",
            "57  Gynaecological abnormalities, e.g. cysts, ovar...   None            yes  \n"
          ]
        }
      ]
    },
    {
      "cell_type": "markdown",
      "source": [
        "Удаляем признаки где процент пропусков больше 65 %"
      ],
      "metadata": {
        "id": "kCXOa-B3iBKj"
      }
    },
    {
      "cell_type": "code",
      "source": [
        "df_cols = df.columns\n",
        "drop_cols = []\n",
        "for col in df_cols:\n",
        "    if ((df[col].isna().sum()/len(df) )*100) > 65:\n",
        "      drop_cols.append(col)\n",
        "drop_cols"
      ],
      "metadata": {
        "colab": {
          "base_uri": "https://localhost:8080/"
        },
        "id": "eeI7_D5Yb_jB",
        "outputId": "8aa98110-96b8-4d81-e151-3d8a561946b7"
      },
      "execution_count": 13,
      "outputs": [
        {
          "output_type": "execute_result",
          "data": {
            "text/plain": [
              "['Segmented_Neutrophils',\n",
              " 'Appendix_Wall_Layers',\n",
              " 'Target_Sign',\n",
              " 'Appendicolith',\n",
              " 'Perfusion',\n",
              " 'Perforation',\n",
              " 'Surrounding_Tissue_Reaction',\n",
              " 'Appendicular_Abscess',\n",
              " 'Abscess_Location',\n",
              " 'Pathological_Lymph_Nodes',\n",
              " 'Lymph_Nodes_Location',\n",
              " 'Bowel_Wall_Thickening',\n",
              " 'Conglomerate_of_Bowel_Loops',\n",
              " 'Ileus',\n",
              " 'Coprostasis',\n",
              " 'Meteorism',\n",
              " 'Enteritis',\n",
              " 'Gynecological_Findings']"
            ]
          },
          "metadata": {},
          "execution_count": 13
        }
      ]
    },
    {
      "cell_type": "code",
      "source": [
        "len(drop_cols)"
      ],
      "metadata": {
        "colab": {
          "base_uri": "https://localhost:8080/"
        },
        "id": "wlZtDYn1cHuh",
        "outputId": "ce7dd04a-e927-4cd5-bfd3-d6aacf8e39e5"
      },
      "execution_count": 14,
      "outputs": [
        {
          "output_type": "execute_result",
          "data": {
            "text/plain": [
              "18"
            ]
          },
          "metadata": {},
          "execution_count": 14
        }
      ]
    },
    {
      "cell_type": "code",
      "source": [
        "df = df.drop (drop_cols, axis = 1)\n",
        "df.info()"
      ],
      "metadata": {
        "colab": {
          "base_uri": "https://localhost:8080/"
        },
        "id": "ICKkqH2VcsUD",
        "outputId": "1d6a57ae-6ca0-4fa6-d0dd-c64e1cc852a3"
      },
      "execution_count": 15,
      "outputs": [
        {
          "output_type": "stream",
          "name": "stdout",
          "text": [
            "<class 'pandas.core.frame.DataFrame'>\n",
            "RangeIndex: 782 entries, 0 to 781\n",
            "Data columns (total 38 columns):\n",
            " #   Column                            Non-Null Count  Dtype  \n",
            "---  ------                            --------------  -----  \n",
            " 0   Age                               781 non-null    float64\n",
            " 1   BMI                               755 non-null    float64\n",
            " 2   Sex                               780 non-null    object \n",
            " 3   Height                            756 non-null    float64\n",
            " 4   Weight                            779 non-null    float64\n",
            " 5   Length_of_Stay                    778 non-null    float64\n",
            " 6   Alvarado_Score                    730 non-null    float64\n",
            " 7   Paedriatic_Appendicitis_Score     730 non-null    float64\n",
            " 8   Appendix_on_US                    777 non-null    object \n",
            " 9   Appendix_Diameter                 498 non-null    float64\n",
            " 10  Migratory_Pain                    773 non-null    object \n",
            " 11  Lower_Right_Abd_Pain              774 non-null    object \n",
            " 12  Contralateral_Rebound_Tenderness  767 non-null    object \n",
            " 13  Coughing_Pain                     766 non-null    object \n",
            " 14  Nausea                            774 non-null    object \n",
            " 15  Loss_of_Appetite                  772 non-null    object \n",
            " 16  Body_Temperature                  775 non-null    float64\n",
            " 17  WBC_Count                         776 non-null    float64\n",
            " 18  Neutrophil_Percentage             679 non-null    float64\n",
            " 19  Neutrophilia                      732 non-null    object \n",
            " 20  RBC_Count                         764 non-null    float64\n",
            " 21  Hemoglobin                        764 non-null    float64\n",
            " 22  RDW                               756 non-null    float64\n",
            " 23  Thrombocyte_Count                 764 non-null    float64\n",
            " 24  Ketones_in_Urine                  582 non-null    object \n",
            " 25  RBC_in_Urine                      576 non-null    object \n",
            " 26  WBC_in_Urine                      583 non-null    object \n",
            " 27  CRP                               771 non-null    float64\n",
            " 28  Dysuria                           753 non-null    object \n",
            " 29  Stool                             765 non-null    object \n",
            " 30  Peritonitis                       773 non-null    object \n",
            " 31  Psoas_Sign                        745 non-null    object \n",
            " 32  Ipsilateral_Rebound_Tenderness    619 non-null    object \n",
            " 33  US_Performed                      778 non-null    object \n",
            " 34  Free_Fluids                       719 non-null    object \n",
            " 35  Management                        781 non-null    object \n",
            " 36  Severity                          781 non-null    object \n",
            " 37  Diagnosis                         780 non-null    object \n",
            "dtypes: float64(16), object(22)\n",
            "memory usage: 232.3+ KB\n"
          ]
        }
      ]
    },
    {
      "cell_type": "code",
      "source": [
        "df.Diagnosis.value_counts()"
      ],
      "metadata": {
        "colab": {
          "base_uri": "https://localhost:8080/"
        },
        "id": "t42u-XLsdf8R",
        "outputId": "30cc9c9b-e7fb-491d-ccb2-661940748480"
      },
      "execution_count": 16,
      "outputs": [
        {
          "output_type": "execute_result",
          "data": {
            "text/plain": [
              "Diagnosis\n",
              "appendicitis       463\n",
              "no appendicitis    317\n",
              "Name: count, dtype: int64"
            ]
          },
          "metadata": {},
          "execution_count": 16
        }
      ]
    },
    {
      "cell_type": "markdown",
      "source": [
        "Заполним пропуски в диаметре аппендикса 0 если человек был здоров, если же болен - то средним значением.\n",
        "\n",
        "Все остальные пропуски заполняем средним соответствующим своей группе по таргету - если это числовой, модой тоже по такому принципу - если это категориальный."
      ],
      "metadata": {
        "id": "29wjxbQcd9vJ"
      }
    },
    {
      "cell_type": "code",
      "source": [
        "df.query(\"Diagnosis =='no appendicitis'\")['Appendix_Diameter'].describe()"
      ],
      "metadata": {
        "colab": {
          "base_uri": "https://localhost:8080/"
        },
        "id": "r8spmR7qeoJy",
        "outputId": "df5a5227-1471-41e2-d8b0-a6321881dd73"
      },
      "execution_count": 17,
      "outputs": [
        {
          "output_type": "execute_result",
          "data": {
            "text/plain": [
              "count    127.000000\n",
              "mean       5.037008\n",
              "std        1.171541\n",
              "min        2.700000\n",
              "25%        4.000000\n",
              "50%        5.000000\n",
              "75%        5.500000\n",
              "max        9.500000\n",
              "Name: Appendix_Diameter, dtype: float64"
            ]
          },
          "metadata": {},
          "execution_count": 17
        }
      ]
    },
    {
      "cell_type": "markdown",
      "source": [
        "Убираем напрямую коррелирующий признаки - диаметр аппендицита и PAS"
      ],
      "metadata": {
        "id": "HsLse49egUQD"
      }
    },
    {
      "cell_type": "code",
      "source": [
        "df = df.drop (['Appendix_Diameter', 'Paedriatic_Appendicitis_Score' ], axis = 1)"
      ],
      "metadata": {
        "id": "DWEF-ja4gSv1"
      },
      "execution_count": 18,
      "outputs": []
    },
    {
      "cell_type": "markdown",
      "source": [
        "# Catboost"
      ],
      "metadata": {
        "id": "IJU-mkbNjC6s"
      }
    },
    {
      "cell_type": "code",
      "source": [
        "pip install catboost"
      ],
      "metadata": {
        "colab": {
          "base_uri": "https://localhost:8080/"
        },
        "id": "nkSAWdThjXic",
        "outputId": "fd2a8f75-e195-4c76-aeb4-fdb47131e6f0"
      },
      "execution_count": 20,
      "outputs": [
        {
          "output_type": "stream",
          "name": "stdout",
          "text": [
            "Collecting catboost\n",
            "  Downloading catboost-1.2.5-cp310-cp310-manylinux2014_x86_64.whl (98.2 MB)\n",
            "\u001b[2K     \u001b[90m━━━━━━━━━━━━━━━━━━━━━━━━━━━━━━━━━━━━━━━━\u001b[0m \u001b[32m98.2/98.2 MB\u001b[0m \u001b[31m7.7 MB/s\u001b[0m eta \u001b[36m0:00:00\u001b[0m\n",
            "\u001b[?25hRequirement already satisfied: graphviz in /usr/local/lib/python3.10/dist-packages (from catboost) (0.20.3)\n",
            "Requirement already satisfied: matplotlib in /usr/local/lib/python3.10/dist-packages (from catboost) (3.7.1)\n",
            "Requirement already satisfied: numpy>=1.16.0 in /usr/local/lib/python3.10/dist-packages (from catboost) (1.25.2)\n",
            "Requirement already satisfied: pandas>=0.24 in /usr/local/lib/python3.10/dist-packages (from catboost) (2.0.3)\n",
            "Requirement already satisfied: scipy in /usr/local/lib/python3.10/dist-packages (from catboost) (1.11.4)\n",
            "Requirement already satisfied: plotly in /usr/local/lib/python3.10/dist-packages (from catboost) (5.15.0)\n",
            "Requirement already satisfied: six in /usr/local/lib/python3.10/dist-packages (from catboost) (1.16.0)\n",
            "Requirement already satisfied: python-dateutil>=2.8.2 in /usr/local/lib/python3.10/dist-packages (from pandas>=0.24->catboost) (2.8.2)\n",
            "Requirement already satisfied: pytz>=2020.1 in /usr/local/lib/python3.10/dist-packages (from pandas>=0.24->catboost) (2023.4)\n",
            "Requirement already satisfied: tzdata>=2022.1 in /usr/local/lib/python3.10/dist-packages (from pandas>=0.24->catboost) (2024.1)\n",
            "Requirement already satisfied: contourpy>=1.0.1 in /usr/local/lib/python3.10/dist-packages (from matplotlib->catboost) (1.2.1)\n",
            "Requirement already satisfied: cycler>=0.10 in /usr/local/lib/python3.10/dist-packages (from matplotlib->catboost) (0.12.1)\n",
            "Requirement already satisfied: fonttools>=4.22.0 in /usr/local/lib/python3.10/dist-packages (from matplotlib->catboost) (4.52.4)\n",
            "Requirement already satisfied: kiwisolver>=1.0.1 in /usr/local/lib/python3.10/dist-packages (from matplotlib->catboost) (1.4.5)\n",
            "Requirement already satisfied: packaging>=20.0 in /usr/local/lib/python3.10/dist-packages (from matplotlib->catboost) (24.0)\n",
            "Requirement already satisfied: pillow>=6.2.0 in /usr/local/lib/python3.10/dist-packages (from matplotlib->catboost) (9.4.0)\n",
            "Requirement already satisfied: pyparsing>=2.3.1 in /usr/local/lib/python3.10/dist-packages (from matplotlib->catboost) (3.1.2)\n",
            "Requirement already satisfied: tenacity>=6.2.0 in /usr/local/lib/python3.10/dist-packages (from plotly->catboost) (8.3.0)\n",
            "Installing collected packages: catboost\n",
            "Successfully installed catboost-1.2.5\n"
          ]
        }
      ]
    },
    {
      "cell_type": "code",
      "source": [
        "from sklearn.model_selection import train_test_split\n",
        "import catboost"
      ],
      "metadata": {
        "id": "hb891JzVjKYy"
      },
      "execution_count": 21,
      "outputs": []
    },
    {
      "cell_type": "code",
      "source": [
        "# Разделяем данные на обучающую и тестовую выборки\n",
        "X_train, X_test, y_train, y_test = train_test_split(df.drop('Diagnosis', axis=1), df['Diagnosis'], test_size=0.2, random_state=42)\n",
        "\n",
        "# Создаем классификатор CatBoost\n",
        "model = catboost.CatBoostClassifier()"
      ],
      "metadata": {
        "id": "NKmXNuOHjCVV"
      },
      "execution_count": 24,
      "outputs": []
    },
    {
      "cell_type": "code",
      "source": [
        "cat_cols = X_train.select_dtypes('object').columns.to_list()"
      ],
      "metadata": {
        "id": "l9ecY3Rkkhrr"
      },
      "execution_count": 27,
      "outputs": []
    },
    {
      "cell_type": "code",
      "source": [
        "model.fit(X_train, y_train, cat_features=cat_cols)"
      ],
      "metadata": {
        "colab": {
          "base_uri": "https://localhost:8080/",
          "height": 686
        },
        "id": "uMnhSG65kpEj",
        "outputId": "5aa260d7-c420-45ed-c7c0-fecc1c218d39"
      },
      "execution_count": 28,
      "outputs": [
        {
          "output_type": "error",
          "ename": "CatBoostError",
          "evalue": "Invalid type for cat_feature[non-default value idx=35,feature_idx=2]=nan : cat_features must be integer or string, real number values and NaN values should be converted to string.",
          "traceback": [
            "\u001b[0;31m---------------------------------------------------------------------------\u001b[0m",
            "\u001b[0;31mCatBoostError\u001b[0m                             Traceback (most recent call last)",
            "\u001b[0;32m_catboost.pyx\u001b[0m in \u001b[0;36m_catboost.get_cat_factor_bytes_representation\u001b[0;34m()\u001b[0m\n",
            "\u001b[0;32m_catboost.pyx\u001b[0m in \u001b[0;36m_catboost.get_id_object_bytes_string_representation\u001b[0;34m()\u001b[0m\n",
            "\u001b[0;31mCatBoostError\u001b[0m: bad object for id: nan",
            "\nDuring handling of the above exception, another exception occurred:\n",
            "\u001b[0;31mCatBoostError\u001b[0m                             Traceback (most recent call last)",
            "\u001b[0;32m<ipython-input-28-8ca33b6726d4>\u001b[0m in \u001b[0;36m<cell line: 1>\u001b[0;34m()\u001b[0m\n\u001b[0;32m----> 1\u001b[0;31m \u001b[0mmodel\u001b[0m\u001b[0;34m.\u001b[0m\u001b[0mfit\u001b[0m\u001b[0;34m(\u001b[0m\u001b[0mX_train\u001b[0m\u001b[0;34m,\u001b[0m \u001b[0my_train\u001b[0m\u001b[0;34m,\u001b[0m \u001b[0mcat_features\u001b[0m\u001b[0;34m=\u001b[0m\u001b[0mcat_cols\u001b[0m\u001b[0;34m)\u001b[0m\u001b[0;34m\u001b[0m\u001b[0;34m\u001b[0m\u001b[0m\n\u001b[0m",
            "\u001b[0;32m/usr/local/lib/python3.10/dist-packages/catboost/core.py\u001b[0m in \u001b[0;36mfit\u001b[0;34m(self, X, y, cat_features, text_features, embedding_features, sample_weight, baseline, use_best_model, eval_set, verbose, logging_level, plot, plot_file, column_description, verbose_eval, metric_period, silent, early_stopping_rounds, save_snapshot, snapshot_file, snapshot_interval, init_model, callbacks, log_cout, log_cerr)\u001b[0m\n\u001b[1;32m   5218\u001b[0m             \u001b[0mCatBoostClassifier\u001b[0m\u001b[0;34m.\u001b[0m\u001b[0m_check_is_compatible_loss\u001b[0m\u001b[0;34m(\u001b[0m\u001b[0mparams\u001b[0m\u001b[0;34m[\u001b[0m\u001b[0;34m'loss_function'\u001b[0m\u001b[0;34m]\u001b[0m\u001b[0;34m)\u001b[0m\u001b[0;34m\u001b[0m\u001b[0;34m\u001b[0m\u001b[0m\n\u001b[1;32m   5219\u001b[0m \u001b[0;34m\u001b[0m\u001b[0m\n\u001b[0;32m-> 5220\u001b[0;31m         self._fit(X, y, cat_features, text_features, embedding_features, None, sample_weight, None, None, None, None, baseline, use_best_model,\n\u001b[0m\u001b[1;32m   5221\u001b[0m                   \u001b[0meval_set\u001b[0m\u001b[0;34m,\u001b[0m \u001b[0mverbose\u001b[0m\u001b[0;34m,\u001b[0m \u001b[0mlogging_level\u001b[0m\u001b[0;34m,\u001b[0m \u001b[0mplot\u001b[0m\u001b[0;34m,\u001b[0m \u001b[0mplot_file\u001b[0m\u001b[0;34m,\u001b[0m \u001b[0mcolumn_description\u001b[0m\u001b[0;34m,\u001b[0m \u001b[0mverbose_eval\u001b[0m\u001b[0;34m,\u001b[0m \u001b[0mmetric_period\u001b[0m\u001b[0;34m,\u001b[0m\u001b[0;34m\u001b[0m\u001b[0;34m\u001b[0m\u001b[0m\n\u001b[1;32m   5222\u001b[0m                   silent, early_stopping_rounds, save_snapshot, snapshot_file, snapshot_interval, init_model, callbacks, log_cout, log_cerr)\n",
            "\u001b[0;32m/usr/local/lib/python3.10/dist-packages/catboost/core.py\u001b[0m in \u001b[0;36m_fit\u001b[0;34m(self, X, y, cat_features, text_features, embedding_features, pairs, sample_weight, group_id, group_weight, subgroup_id, pairs_weight, baseline, use_best_model, eval_set, verbose, logging_level, plot, plot_file, column_description, verbose_eval, metric_period, silent, early_stopping_rounds, save_snapshot, snapshot_file, snapshot_interval, init_model, callbacks, log_cout, log_cerr)\u001b[0m\n\u001b[1;32m   2383\u001b[0m                 \u001b[0;32mraise\u001b[0m \u001b[0mCatBoostError\u001b[0m\u001b[0;34m(\u001b[0m\u001b[0;34m\"y may be None only when X is an instance of catboost.Pool or string\"\u001b[0m\u001b[0;34m)\u001b[0m\u001b[0;34m\u001b[0m\u001b[0;34m\u001b[0m\u001b[0m\n\u001b[1;32m   2384\u001b[0m \u001b[0;34m\u001b[0m\u001b[0m\n\u001b[0;32m-> 2385\u001b[0;31m             train_params = self._prepare_train_params(\n\u001b[0m\u001b[1;32m   2386\u001b[0m                 \u001b[0mX\u001b[0m\u001b[0;34m=\u001b[0m\u001b[0mX\u001b[0m\u001b[0;34m,\u001b[0m \u001b[0my\u001b[0m\u001b[0;34m=\u001b[0m\u001b[0my\u001b[0m\u001b[0;34m,\u001b[0m \u001b[0mcat_features\u001b[0m\u001b[0;34m=\u001b[0m\u001b[0mcat_features\u001b[0m\u001b[0;34m,\u001b[0m \u001b[0mtext_features\u001b[0m\u001b[0;34m=\u001b[0m\u001b[0mtext_features\u001b[0m\u001b[0;34m,\u001b[0m \u001b[0membedding_features\u001b[0m\u001b[0;34m=\u001b[0m\u001b[0membedding_features\u001b[0m\u001b[0;34m,\u001b[0m\u001b[0;34m\u001b[0m\u001b[0;34m\u001b[0m\u001b[0m\n\u001b[1;32m   2387\u001b[0m                 \u001b[0mpairs\u001b[0m\u001b[0;34m=\u001b[0m\u001b[0mpairs\u001b[0m\u001b[0;34m,\u001b[0m \u001b[0msample_weight\u001b[0m\u001b[0;34m=\u001b[0m\u001b[0msample_weight\u001b[0m\u001b[0;34m,\u001b[0m \u001b[0mgroup_id\u001b[0m\u001b[0;34m=\u001b[0m\u001b[0mgroup_id\u001b[0m\u001b[0;34m,\u001b[0m \u001b[0mgroup_weight\u001b[0m\u001b[0;34m=\u001b[0m\u001b[0mgroup_weight\u001b[0m\u001b[0;34m,\u001b[0m\u001b[0;34m\u001b[0m\u001b[0;34m\u001b[0m\u001b[0m\n",
            "\u001b[0;32m/usr/local/lib/python3.10/dist-packages/catboost/core.py\u001b[0m in \u001b[0;36m_prepare_train_params\u001b[0;34m(self, X, y, cat_features, text_features, embedding_features, pairs, sample_weight, group_id, group_weight, subgroup_id, pairs_weight, baseline, use_best_model, eval_set, verbose, logging_level, plot, plot_file, column_description, verbose_eval, metric_period, silent, early_stopping_rounds, save_snapshot, snapshot_file, snapshot_interval, init_model, callbacks)\u001b[0m\n\u001b[1;32m   2263\u001b[0m         \u001b[0membedding_features\u001b[0m \u001b[0;34m=\u001b[0m \u001b[0m_process_feature_indices\u001b[0m\u001b[0;34m(\u001b[0m\u001b[0membedding_features\u001b[0m\u001b[0;34m,\u001b[0m \u001b[0mX\u001b[0m\u001b[0;34m,\u001b[0m \u001b[0mparams\u001b[0m\u001b[0;34m,\u001b[0m \u001b[0;34m'embedding_features'\u001b[0m\u001b[0;34m)\u001b[0m\u001b[0;34m\u001b[0m\u001b[0;34m\u001b[0m\u001b[0m\n\u001b[1;32m   2264\u001b[0m \u001b[0;34m\u001b[0m\u001b[0m\n\u001b[0;32m-> 2265\u001b[0;31m         train_pool = _build_train_pool(X, y, cat_features, text_features, embedding_features, pairs,\n\u001b[0m\u001b[1;32m   2266\u001b[0m                                        \u001b[0msample_weight\u001b[0m\u001b[0;34m,\u001b[0m \u001b[0mgroup_id\u001b[0m\u001b[0;34m,\u001b[0m \u001b[0mgroup_weight\u001b[0m\u001b[0;34m,\u001b[0m \u001b[0msubgroup_id\u001b[0m\u001b[0;34m,\u001b[0m \u001b[0mpairs_weight\u001b[0m\u001b[0;34m,\u001b[0m\u001b[0;34m\u001b[0m\u001b[0;34m\u001b[0m\u001b[0m\n\u001b[1;32m   2267\u001b[0m                                        baseline, column_description)\n",
            "\u001b[0;32m/usr/local/lib/python3.10/dist-packages/catboost/core.py\u001b[0m in \u001b[0;36m_build_train_pool\u001b[0;34m(X, y, cat_features, text_features, embedding_features, pairs, sample_weight, group_id, group_weight, subgroup_id, pairs_weight, baseline, column_description)\u001b[0m\n\u001b[1;32m   1501\u001b[0m         \u001b[0;32mif\u001b[0m \u001b[0my\u001b[0m \u001b[0;32mis\u001b[0m \u001b[0;32mNone\u001b[0m\u001b[0;34m:\u001b[0m\u001b[0;34m\u001b[0m\u001b[0;34m\u001b[0m\u001b[0m\n\u001b[1;32m   1502\u001b[0m             \u001b[0;32mraise\u001b[0m \u001b[0mCatBoostError\u001b[0m\u001b[0;34m(\u001b[0m\u001b[0;34m\"y has not initialized in fit(): X is not catboost.Pool object, y must be not None in fit().\"\u001b[0m\u001b[0;34m)\u001b[0m\u001b[0;34m\u001b[0m\u001b[0;34m\u001b[0m\u001b[0m\n\u001b[0;32m-> 1503\u001b[0;31m         train_pool = Pool(X, y, cat_features=cat_features, text_features=text_features, embedding_features=embedding_features, pairs=pairs, weight=sample_weight, group_id=group_id,\n\u001b[0m\u001b[1;32m   1504\u001b[0m                           group_weight=group_weight, subgroup_id=subgroup_id, pairs_weight=pairs_weight, baseline=baseline)\n\u001b[1;32m   1505\u001b[0m     \u001b[0;32mreturn\u001b[0m \u001b[0mtrain_pool\u001b[0m\u001b[0;34m\u001b[0m\u001b[0;34m\u001b[0m\u001b[0m\n",
            "\u001b[0;32m/usr/local/lib/python3.10/dist-packages/catboost/core.py\u001b[0m in \u001b[0;36m__init__\u001b[0;34m(self, data, label, cat_features, text_features, embedding_features, embedding_features_data, column_description, pairs, delimiter, has_header, ignore_csv_quoting, weight, group_id, group_weight, subgroup_id, pairs_weight, baseline, timestamp, feature_names, feature_tags, thread_count, log_cout, log_cerr, data_can_be_none)\u001b[0m\n\u001b[1;32m    846\u001b[0m                         )\n\u001b[1;32m    847\u001b[0m \u001b[0;34m\u001b[0m\u001b[0m\n\u001b[0;32m--> 848\u001b[0;31m                     self._init(data, label, cat_features, text_features, embedding_features, embedding_features_data, pairs, weight,\n\u001b[0m\u001b[1;32m    849\u001b[0m                                group_id, group_weight, subgroup_id, pairs_weight, baseline, timestamp, feature_names, feature_tags, thread_count)\n\u001b[1;32m    850\u001b[0m             \u001b[0;32melif\u001b[0m \u001b[0;32mnot\u001b[0m \u001b[0mdata_can_be_none\u001b[0m\u001b[0;34m:\u001b[0m\u001b[0;34m\u001b[0m\u001b[0;34m\u001b[0m\u001b[0m\n",
            "\u001b[0;32m/usr/local/lib/python3.10/dist-packages/catboost/core.py\u001b[0m in \u001b[0;36m_init\u001b[0;34m(self, data, label, cat_features, text_features, embedding_features, embedding_features_data, pairs, weight, group_id, group_weight, subgroup_id, pairs_weight, baseline, timestamp, feature_names, feature_tags, thread_count)\u001b[0m\n\u001b[1;32m   1479\u001b[0m         \u001b[0;32mif\u001b[0m \u001b[0mfeature_tags\u001b[0m \u001b[0;32mis\u001b[0m \u001b[0;32mnot\u001b[0m \u001b[0;32mNone\u001b[0m\u001b[0;34m:\u001b[0m\u001b[0;34m\u001b[0m\u001b[0;34m\u001b[0m\u001b[0m\n\u001b[1;32m   1480\u001b[0m             \u001b[0mfeature_tags\u001b[0m \u001b[0;34m=\u001b[0m \u001b[0mself\u001b[0m\u001b[0;34m.\u001b[0m\u001b[0m_check_transform_tags\u001b[0m\u001b[0;34m(\u001b[0m\u001b[0mfeature_tags\u001b[0m\u001b[0;34m,\u001b[0m \u001b[0mfeature_names\u001b[0m\u001b[0;34m)\u001b[0m\u001b[0;34m\u001b[0m\u001b[0;34m\u001b[0m\u001b[0m\n\u001b[0;32m-> 1481\u001b[0;31m         self._init_pool(data, label, cat_features, text_features, embedding_features, embedding_features_data, pairs, weight,\n\u001b[0m\u001b[1;32m   1482\u001b[0m                         group_id, group_weight, subgroup_id, pairs_weight, baseline, timestamp, feature_names, feature_tags, thread_count)\n\u001b[1;32m   1483\u001b[0m \u001b[0;34m\u001b[0m\u001b[0m\n",
            "\u001b[0;32m_catboost.pyx\u001b[0m in \u001b[0;36m_catboost._PoolBase._init_pool\u001b[0;34m()\u001b[0m\n",
            "\u001b[0;32m_catboost.pyx\u001b[0m in \u001b[0;36m_catboost._PoolBase._init_pool\u001b[0;34m()\u001b[0m\n",
            "\u001b[0;32m_catboost.pyx\u001b[0m in \u001b[0;36m_catboost._PoolBase._init_features_order_layout_pool\u001b[0;34m()\u001b[0m\n",
            "\u001b[0;32m_catboost.pyx\u001b[0m in \u001b[0;36m_catboost._set_features_order_data_pd_data_frame\u001b[0;34m()\u001b[0m\n",
            "\u001b[0;32m_catboost.pyx\u001b[0m in \u001b[0;36m_catboost.get_cat_factor_bytes_representation\u001b[0;34m()\u001b[0m\n",
            "\u001b[0;31mCatBoostError\u001b[0m: Invalid type for cat_feature[non-default value idx=35,feature_idx=2]=nan : cat_features must be integer or string, real number values and NaN values should be converted to string."
          ]
        }
      ]
    }
  ]
}