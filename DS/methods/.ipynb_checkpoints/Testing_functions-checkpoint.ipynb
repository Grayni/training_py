{
 "cells": [
  {
   "cell_type": "code",
   "execution_count": 85,
   "id": "d2365728",
   "metadata": {},
   "outputs": [
    {
     "name": "stdout",
     "output_type": "stream",
     "text": [
      "./input/titanic/gender_submission.csv\n",
      "./input/titanic/test.csv\n",
      "./input/titanic/train.csv\n"
     ]
    }
   ],
   "source": [
    "import numpy as np\n",
    "import pandas as pd\n",
    "import matplotlib.pyplot as plt\n",
    "from sklearn.preprocessing import LabelEncoder\n",
    "import os\n",
    "\n",
    "%matplotlib inline\n",
    "\n",
    "for dirname, _, filenames in os.walk('./input/titanic/'):\n",
    "    for filename in filenames:\n",
    "        print(os.path.join(dirname, filename))"
   ]
  },
  {
   "cell_type": "code",
   "execution_count": 124,
   "id": "29bce264",
   "metadata": {},
   "outputs": [],
   "source": [
    "train_df = pd.read_csv('./input/titanic/train.csv')\n",
    "test_df = pd.read_csv('./input/titanic/test.csv')"
   ]
  },
  {
   "cell_type": "markdown",
   "id": "ec860eb8",
   "metadata": {},
   "source": [
    "#### Ratio: Zeros / all cells"
   ]
  },
  {
   "cell_type": "code",
   "execution_count": 117,
   "id": "f648761e",
   "metadata": {},
   "outputs": [
    {
     "data": {
      "text/plain": [
       "array([[1, 2, 2],\n",
       "       [2, 4, 5],\n",
       "       [5, 5, 2]])"
      ]
     },
     "execution_count": 117,
     "metadata": {},
     "output_type": "execute_result"
    }
   ],
   "source": [
    "x = np.array([[1, 2, 2], [2, 4, 5], [5, 5, 2]])\n",
    "x"
   ]
  },
  {
   "cell_type": "code",
   "execution_count": 119,
   "id": "39fd8856",
   "metadata": {},
   "outputs": [
    {
     "data": {
      "text/html": [
       "<div>\n",
       "<style scoped>\n",
       "    .dataframe tbody tr th:only-of-type {\n",
       "        vertical-align: middle;\n",
       "    }\n",
       "\n",
       "    .dataframe tbody tr th {\n",
       "        vertical-align: top;\n",
       "    }\n",
       "\n",
       "    .dataframe thead th {\n",
       "        text-align: right;\n",
       "    }\n",
       "</style>\n",
       "<table border=\"1\" class=\"dataframe\">\n",
       "  <thead>\n",
       "    <tr style=\"text-align: right;\">\n",
       "      <th></th>\n",
       "      <th>value_1</th>\n",
       "      <th>value_2</th>\n",
       "      <th>value_3</th>\n",
       "    </tr>\n",
       "  </thead>\n",
       "  <tbody>\n",
       "    <tr>\n",
       "      <th>0</th>\n",
       "      <td>1</td>\n",
       "      <td>2</td>\n",
       "      <td>5</td>\n",
       "    </tr>\n",
       "    <tr>\n",
       "      <th>1</th>\n",
       "      <td>2</td>\n",
       "      <td>4</td>\n",
       "      <td>5</td>\n",
       "    </tr>\n",
       "    <tr>\n",
       "      <th>2</th>\n",
       "      <td>2</td>\n",
       "      <td>5</td>\n",
       "      <td>2</td>\n",
       "    </tr>\n",
       "  </tbody>\n",
       "</table>\n",
       "</div>"
      ],
      "text/plain": [
       "   value_1  value_2  value_3\n",
       "0        1        2        5\n",
       "1        2        4        5\n",
       "2        2        5        2"
      ]
     },
     "execution_count": 119,
     "metadata": {},
     "output_type": "execute_result"
    }
   ],
   "source": [
    "mini = pd.DataFrame({'value_1': x[0], 'value_2': x[1], 'value_3': x[2]}, columns=['value_1', 'value_2', 'value_3'])\n",
    "mini"
   ]
  },
  {
   "cell_type": "code",
   "execution_count": 125,
   "id": "c71b1ed2",
   "metadata": {},
   "outputs": [
    {
     "data": {
      "text/plain": [
       "0    value\n",
       "1        1\n",
       "2    value\n",
       "dtype: object"
      ]
     },
     "execution_count": 125,
     "metadata": {},
     "output_type": "execute_result"
    }
   ],
   "source": [
    "# For every index find needed value (e.g. 2)\n",
    "# neen value in get -> param_1; param_2 -> value-replacement, if value not found in row\n",
    "mini.apply(lambda x: x.value_counts().get(4, 'value'), axis=1)"
   ]
  },
  {
   "cell_type": "code",
   "execution_count": null,
   "id": "984deffd",
   "metadata": {},
   "outputs": [],
   "source": []
  }
 ],
 "metadata": {
  "kernelspec": {
   "display_name": "Python 3 (ipykernel)",
   "language": "python",
   "name": "python3"
  },
  "language_info": {
   "codemirror_mode": {
    "name": "ipython",
    "version": 3
   },
   "file_extension": ".py",
   "mimetype": "text/x-python",
   "name": "python",
   "nbconvert_exporter": "python",
   "pygments_lexer": "ipython3",
   "version": "3.9.7"
  }
 },
 "nbformat": 4,
 "nbformat_minor": 5
}
