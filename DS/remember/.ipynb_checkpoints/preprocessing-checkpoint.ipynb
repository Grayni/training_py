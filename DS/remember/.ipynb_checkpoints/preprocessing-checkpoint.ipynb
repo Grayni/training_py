{
 "cells": [
  {
   "cell_type": "code",
   "execution_count": 1,
   "id": "ae64b7ad",
   "metadata": {},
   "outputs": [],
   "source": [
    "import pandas as pd\n",
    "import numpy as np"
   ]
  },
  {
   "cell_type": "code",
   "execution_count": null,
   "id": "dabdca2e",
   "metadata": {},
   "outputs": [],
   "source": [
    "from sklearn.preprocessing import LabelEncoder\n",
    "\n",
    "lec = LabelEncoder()\n",
    "data['GENDER'] = data['GENDER'].replace({'M': 'Male', 'F': 'Female'})\n",
    "data['LUNG_CANCER'] = lec.fit_transform(data['LUNG_CANCER'])  # convert category in numbers\n",
    "\n",
    "\n",
    "data = pd.get_dummies(data, columns=['GENDER'])  # convert category in OneHot (create several cols)\n",
    "data.rename(columns={'GENDER_Male': 'MALE', 'GENDER_Female': 'FEMALE'}, inplace=True)  # rename new cols"
   ]
  }
 ],
 "metadata": {
  "kernelspec": {
   "display_name": "Python 3 (ipykernel)",
   "language": "python",
   "name": "python3"
  },
  "language_info": {
   "codemirror_mode": {
    "name": "ipython",
    "version": 3
   },
   "file_extension": ".py",
   "mimetype": "text/x-python",
   "name": "python",
   "nbconvert_exporter": "python",
   "pygments_lexer": "ipython3",
   "version": "3.10.6"
  }
 },
 "nbformat": 4,
 "nbformat_minor": 5
}
