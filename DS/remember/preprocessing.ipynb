{
 "cells": [
  {
   "cell_type": "code",
   "execution_count": null,
   "id": "65535a7c",
   "metadata": {},
   "outputs": [],
   "source": [
    "import pandas as pd\n",
    "import numpy as np"
   ]
  },
  {
   "cell_type": "code",
   "execution_count": null,
   "id": "edfa8306",
   "metadata": {},
   "outputs": [],
   "source": [
    "# OneHot and LabelEncoder\n",
    "\n",
    "from sklearn.preprocessing import LabelEncoder\n",
    "\n",
    "lec = LabelEncoder()\n",
    "data['GENDER'] = data['GENDER'].replace({'M': 'Male', 'F': 'Female'})\n",
    "data['LUNG_CANCER'] = lec.fit_transform(data['LUNG_CANCER'])  # convert category in numbers\n",
    "\n",
    "\n",
    "data = pd.get_dummies(data, columns=['GENDER'])  # convert category in OneHot (create several cols)\n",
    "data.rename(columns={'GENDER_Male': 'MALE', 'GENDER_Female': 'FEMALE'}, inplace=True)  # rename new cols"
   ]
  },
  {
   "cell_type": "code",
   "execution_count": null,
   "id": "53e1a358",
   "metadata": {},
   "outputs": [],
   "source": [
    "# Unique values in features\n",
    "data.apply(lambda feat: len(feat.unique())) "
   ]
  }
 ],
 "metadata": {
  "kernelspec": {
   "display_name": "Python 3 (ipykernel)",
   "language": "python",
   "name": "python3"
  },
  "language_info": {
   "codemirror_mode": {
    "name": "ipython",
    "version": 3
   },
   "file_extension": ".py",
   "mimetype": "text/x-python",
   "name": "python",
   "nbconvert_exporter": "python",
   "pygments_lexer": "ipython3",
   "version": "3.10.6"
  }
 },
 "nbformat": 4,
 "nbformat_minor": 5
}
