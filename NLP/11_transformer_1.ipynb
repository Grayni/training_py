{
 "cells": [
  {
   "cell_type": "code",
   "execution_count": 8,
   "outputs": [],
   "source": [
    "import transformers\n",
    "import tensorflow as tf\n",
    "import tensorflow_datasets as tfds\n",
    "\n",
    "import time\n",
    "import numpy as np\n",
    "import matplotlib.pyplot as plt"
   ],
   "metadata": {
    "collapsed": false,
    "pycharm": {
     "name": "#%%\n"
    }
   }
  },
  {
   "cell_type": "code",
   "execution_count": 9,
   "outputs": [],
   "source": [
    "examples, metadata = tfds.load('ted_hrlr_translate/ru_to_en', with_info=True,\n",
    "                               as_supervised=True)\n",
    "train_examples, val_examples = examples['train'], examples['validation']"
   ],
   "metadata": {
    "collapsed": false,
    "pycharm": {
     "name": "#%%\n"
    }
   }
  },
  {
   "cell_type": "code",
   "execution_count": 10,
   "outputs": [
    {
     "data": {
      "text/plain": "<PrefetchDataset element_spec=(TensorSpec(shape=(), dtype=tf.string, name=None), TensorSpec(shape=(), dtype=tf.string, name=None))>"
     },
     "execution_count": 10,
     "metadata": {},
     "output_type": "execute_result"
    }
   ],
   "source": [
    "train_examples"
   ],
   "metadata": {
    "collapsed": false,
    "pycharm": {
     "name": "#%%\n"
    }
   }
  },
  {
   "cell_type": "code",
   "execution_count": 11,
   "outputs": [],
   "source": [
    "tokenizer_en = tfds.deprecated.text.SubwordTextEncoder.build_from_corpus(\n",
    "    (en.numpy() for ru, en in train_examples), target_vocab_size=2**13)\n",
    "\n",
    "tokenizer_ru = tfds.deprecated.text.SubwordTextEncoder.build_from_corpus(\n",
    "    (ru.numpy() for ru, en in train_examples), target_vocab_size=2**13)"
   ],
   "metadata": {
    "collapsed": false,
    "pycharm": {
     "name": "#%%\n"
    }
   }
  },
  {
   "cell_type": "code",
   "execution_count": 12,
   "outputs": [
    {
     "name": "stdout",
     "output_type": "stream",
     "text": [
      "Tokenized string is [8073, 1034, 8104, 5774, 13, 3531, 8035]\n",
      "The original string: Transformer is awesome.\n"
     ]
    }
   ],
   "source": [
    "sample_string = 'Transformer is awesome.'\n",
    "\n",
    "tokenized_string = tokenizer_en.encode(sample_string)\n",
    "print ('Tokenized string is {}'.format(tokenized_string))\n",
    "\n",
    "original_string = tokenizer_en.decode(tokenized_string)\n",
    "print ('The original string: {}'.format(original_string))\n",
    "\n",
    "assert original_string == sample_string"
   ],
   "metadata": {
    "collapsed": false,
    "pycharm": {
     "name": "#%%\n"
    }
   }
  },
  {
   "cell_type": "code",
   "execution_count": 13,
   "outputs": [
    {
     "name": "stdout",
     "output_type": "stream",
     "text": [
      "8073 ----> T\n",
      "1034 ----> ran\n",
      "8104 ----> s\n",
      "5774 ----> former \n",
      "13 ----> is \n",
      "3531 ----> awesome\n",
      "8035 ----> .\n"
     ]
    }
   ],
   "source": [
    "for ts in tokenized_string:\n",
    "  print ('{} ----> {}'.format(ts, tokenizer_en.decode([ts])))"
   ],
   "metadata": {
    "collapsed": false,
    "pycharm": {
     "name": "#%%\n"
    }
   }
  },
  {
   "cell_type": "code",
   "execution_count": 14,
   "outputs": [],
   "source": [
    "BUFFER_SIZE = 20000\n",
    "BATCH_SIZE = 64"
   ],
   "metadata": {
    "collapsed": false,
    "pycharm": {
     "name": "#%%\n"
    }
   }
  },
  {
   "cell_type": "code",
   "execution_count": 15,
   "outputs": [],
   "source": [
    "# two tokenizers (tokenizer_ru and tokenizer_en) are used to encode two languages (lang1 and lang2).\n",
    "# The encode method is then called on each language, which adds the beginning and end of sequence tokens\n",
    "# (tokenizer_ru.vocabsize and tokenizer_en.vocabsize+1) to the encoded text. Finally, the encoded text for both\n",
    "# languages is returned as a tuple.\n",
    "\n",
    "def encode(lang1, lang2):\n",
    "  lang1 = [tokenizer_ru.vocab_size] + tokenizer_ru.encode(\n",
    "      lang1.numpy()) + [tokenizer_ru.vocab_size+1]\n",
    "\n",
    "  lang2 = [tokenizer_en.vocab_size] + tokenizer_en.encode(\n",
    "      lang2.numpy()) + [tokenizer_en.vocab_size+1]\n",
    "\n",
    "  return lang1, lang2"
   ],
   "metadata": {
    "collapsed": false,
    "pycharm": {
     "name": "#%%\n"
    }
   }
  },
  {
   "cell_type": "code",
   "execution_count": 17,
   "outputs": [],
   "source": [
    "def tf_encode(ru, en):\n",
    "\n",
    "# tf.pyfunction method is used to call a custom function (encode) with two arguments (ru and en).\n",
    "# The two arguments are then mapped to two data types (tf.int64, tf.int64) which will be returned as a tuple containing two Tensors.\n",
    "  result_ru, result_en = tf.py_function(encode, [ru, en], [tf.int64, tf.int64])\n",
    "\n",
    "#set_shape method is used to set the shape of each Tensor to [None], which means that it will be able to accept variable-length inputs.\n",
    "  result_ru.set_shape([None])\n",
    "  result_en.set_shape([None])\n",
    "\n",
    "  return result_ru, result_en"
   ],
   "metadata": {
    "collapsed": false,
    "pycharm": {
     "name": "#%%\n"
    }
   }
  },
  {
   "cell_type": "code",
   "execution_count": 18,
   "outputs": [],
   "source": [
    "MAX_LENGTH = 40"
   ],
   "metadata": {
    "collapsed": false,
    "pycharm": {
     "name": "#%%\n"
    }
   }
  },
  {
   "cell_type": "code",
   "execution_count": 19,
   "outputs": [],
   "source": [
    "def filter_max_length(x, y, max_length=MAX_LENGTH):\n",
    "  return tf.logical_and(tf.size(x) <= max_length,\n",
    "                        tf.size(y) <= max_length)"
   ],
   "metadata": {
    "collapsed": false,
    "pycharm": {
     "name": "#%%\n"
    }
   }
  },
  {
   "cell_type": "code",
   "execution_count": 20,
   "outputs": [],
   "source": [
    "train_dataset = train_examples.map(tf_encode)\n",
    "train_dataset = train_dataset.filter(filter_max_length)\n",
    "# cache the dataset to memory to get a speedup while reading from it.\n",
    "train_dataset = train_dataset.cache()\n",
    "train_dataset = train_dataset.shuffle(BUFFER_SIZE).padded_batch(BATCH_SIZE)\n",
    "train_dataset = train_dataset.prefetch(tf.data.experimental.AUTOTUNE)\n",
    "\n",
    "\n",
    "val_dataset = val_examples.map(tf_encode)\n",
    "val_dataset = val_dataset.filter(filter_max_length).padded_batch(BATCH_SIZE) # create batches of data in which the examples are padded with zeros to match the maximum length."
   ],
   "metadata": {
    "collapsed": false,
    "pycharm": {
     "name": "#%%\n"
    }
   }
  },
  {
   "cell_type": "code",
   "execution_count": 21,
   "outputs": [
    {
     "data": {
      "text/plain": "(<tf.Tensor: shape=(64, 38), dtype=int64, numpy=\n array([[8179,   57,   86, ...,    0,    0,    0],\n        [8179,    3,   38, ...,    0,    0,    0],\n        [8179,   57,  135, ...,    0,    0,    0],\n        ...,\n        [8179,    3,    7, ...,    0,    0,    0],\n        [8179,  138,  250, ...,    0,    0,    0],\n        [8179,   19,    7, ...,    0,    0,    0]], dtype=int64)>,\n <tf.Tensor: shape=(64, 40), dtype=int64, numpy=\n array([[8245,   90,  101, ...,    0,    0,    0],\n        [8245,   70,   25, ...,    0,    0,    0],\n        [8245,   90,  153, ...,    0,    0,    0],\n        ...,\n        [8245,    4,   18, ...,    0,    0,    0],\n        [8245,   19,   59, ...,    0,    0,    0],\n        [8245,   24,   18, ...,    0,    0,    0]], dtype=int64)>)"
     },
     "execution_count": 21,
     "metadata": {},
     "output_type": "execute_result"
    }
   ],
   "source": [
    "pt_batch, en_batch = next(iter(val_dataset))\n",
    "pt_batch, en_batch"
   ],
   "metadata": {
    "collapsed": false,
    "pycharm": {
     "name": "#%%\n"
    }
   }
  },
  {
   "cell_type": "code",
   "execution_count": 22,
   "outputs": [],
   "source": [
    "def get_angles(pos, i, d_model):\n",
    "  angle_rates = 1 / np.power(10000, (2 * (i//2)) / np.float32(d_model))\n",
    "  print(pos * angle_rates)\n",
    "  return pos * angle_rates"
   ],
   "metadata": {
    "collapsed": false,
    "pycharm": {
     "name": "#%%\n"
    }
   }
  },
  {
   "cell_type": "code",
   "execution_count": 24,
   "outputs": [],
   "source": [
    "def positional_encoding(position, d_model):\n",
    "  angle_rads = get_angles(np.arange(position)[:, np.newaxis], # стобец\n",
    "                          np.arange(d_model)[np.newaxis, :], # строка\n",
    "                          d_model)\n",
    "\n",
    "  # apply sin to even indices in the array; 2i\n",
    "  angle_rads[:, 0::2] = np.sin(angle_rads[:, 0::2])\n",
    "\n",
    "  # apply cos to odd indices in the array; 2i+1\n",
    "  angle_rads[:, 1::2] = np.cos(angle_rads[:, 1::2])\n",
    "\n",
    "  pos_encoding = angle_rads[np.newaxis, ...]\n",
    "\n",
    "  return tf.cast(pos_encoding, dtype=tf.float32)"
   ],
   "metadata": {
    "collapsed": false,
    "pycharm": {
     "name": "#%%\n"
    }
   }
  },
  {
   "cell_type": "code",
   "execution_count": 25,
   "outputs": [
    {
     "name": "stdout",
     "output_type": "stream",
     "text": [
      "[[0.00000000e+00 0.00000000e+00 0.00000000e+00 ... 0.00000000e+00\n",
      "  0.00000000e+00 0.00000000e+00]\n",
      " [1.00000000e+00 1.00000000e+00 9.64661620e-01 ... 1.07460783e-04\n",
      "  1.03663293e-04 1.03663293e-04]\n",
      " [2.00000000e+00 2.00000000e+00 1.92932324e+00 ... 2.14921566e-04\n",
      "  2.07326586e-04 2.07326586e-04]\n",
      " ...\n",
      " [4.70000000e+01 4.70000000e+01 4.53390961e+01 ... 5.05065679e-03\n",
      "  4.87217476e-03 4.87217476e-03]\n",
      " [4.80000000e+01 4.80000000e+01 4.63037578e+01 ... 5.15811758e-03\n",
      "  4.97583806e-03 4.97583806e-03]\n",
      " [4.90000000e+01 4.90000000e+01 4.72684194e+01 ... 5.26557836e-03\n",
      "  5.07950135e-03 5.07950135e-03]]\n",
      "(1, 50, 512)\n"
     ]
    },
    {
     "data": {
      "text/plain": "<Figure size 640x480 with 2 Axes>",
      "image/png": "[encoded data removed]"
     },
     "metadata": {},
     "output_type": "display_data"
    }
   ],
   "source": [
    "# Получаем 50 строк по 512 значений\n",
    "pos_encoding = positional_encoding(50, 512)\n",
    "print (pos_encoding.shape)\n",
    "\n",
    "plt.pcolormesh(pos_encoding[0], cmap='RdBu')\n",
    "plt.xlabel('Depth')\n",
    "plt.xlim((0, 512))\n",
    "plt.ylabel('Position')\n",
    "plt.colorbar()\n",
    "plt.show()"
   ],
   "metadata": {
    "collapsed": false,
    "pycharm": {
     "name": "#%%\n"
    }
   }
  },
  {
   "cell_type": "code",
   "execution_count": 27,
   "outputs": [],
   "source": [
    "def create_padding_mask(seq):\n",
    "  seq = tf.cast(tf.math.equal(seq, 0), tf.float32) # 1 if element is null, otherwise - 0\n",
    "\n",
    "  # add extra dimensions to add the padding\n",
    "  # to the attention logits.\n",
    "  return seq[:, tf.newaxis, tf.newaxis, :]  # (batch_size, 1, 1, seq_len)"
   ],
   "metadata": {
    "collapsed": false,
    "pycharm": {
     "name": "#%%\n"
    }
   }
  },
  {
   "cell_type": "code",
   "execution_count": 28,
   "outputs": [
    {
     "data": {
      "text/plain": "<tf.Tensor: shape=(3, 1, 1, 5), dtype=float32, numpy=\narray([[[[0., 0., 1., 1., 0.]]],\n\n\n       [[[0., 0., 0., 1., 1.]]],\n\n\n       [[[1., 1., 1., 0., 0.]]]], dtype=float32)>"
     },
     "execution_count": 28,
     "metadata": {},
     "output_type": "execute_result"
    }
   ],
   "source": [
    "x = tf.constant([[7, 6, 0, 0, 1], [1, 2, 3, 0, 0], [0, 0, 0, 4, 5]])\n",
    "create_padding_mask(x)"
   ],
   "metadata": {
    "collapsed": false,
    "pycharm": {
     "name": "#%%\n"
    }
   }
  },
  {
   "cell_type": "code",
   "execution_count": 29,
   "outputs": [],
   "source": [
    "def create_look_ahead_mask(size):\n",
    "  mask = 1 - tf.linalg.band_part(tf.ones((size, size)), -1, 0) # Copy a tensor setting everything outside a central band in each innermost matrix to zero.\n",
    "  return mask  # (seq_len, seq_len)"
   ],
   "metadata": {
    "collapsed": false,
    "pycharm": {
     "name": "#%%\n"
    }
   }
  },
  {
   "cell_type": "code",
   "execution_count": 30,
   "outputs": [
    {
     "name": "stdout",
     "output_type": "stream",
     "text": [
      "tf.Tensor([[0.3843292  0.16398513 0.888687  ]], shape=(1, 3), dtype=float32)\n"
     ]
    },
    {
     "data": {
      "text/plain": "<tf.Tensor: shape=(3, 3), dtype=float32, numpy=\narray([[0., 1., 1.],\n       [0., 0., 1.],\n       [0., 0., 0.]], dtype=float32)>"
     },
     "execution_count": 30,
     "metadata": {},
     "output_type": "execute_result"
    }
   ],
   "source": [
    "x = tf.random.uniform((1, 3))\n",
    "print(x)\n",
    "temp = create_look_ahead_mask(x.shape[1])\n",
    "temp"
   ],
   "metadata": {
    "collapsed": false,
    "pycharm": {
     "name": "#%%\n"
    }
   }
  },
  {
   "cell_type": "code",
   "execution_count": 33,
   "outputs": [],
   "source": [
    "def scaled_dot_product_attention(q, k, v, mask):\n",
    "  \"\"\"Calculate the attention weights.\n",
    "  q, k, v must have matching leading dimensions.\n",
    "  k, v must have matching penultimate dimension, i.e.: seq_len_k = seq_len_v.\n",
    "  The mask has different shapes depending on its type(padding or look ahead)\n",
    "  but it must be broadcastable for addition.\n",
    "\n",
    "  Args:\n",
    "    q: query shape == (..., seq_len_q, depth)\n",
    "    k: key shape == (..., seq_len_k, depth)\n",
    "    v: value shape == (..., seq_len_v, depth_v)\n",
    "    mask: Float tensor with shape broadcastable\n",
    "          to (..., seq_len_q, seq_len_k). Defaults to None.\n",
    "\n",
    "  Returns:\n",
    "    output, attention_weights\n",
    "  \"\"\"\n",
    "\n",
    "  matmul_qk = tf.matmul(q, k, transpose_b=True)  # (..., seq_len_q, seq_len_k)\n",
    "\n",
    "  # scale matmul_qk\n",
    "  dk = tf.cast(tf.shape(k)[-1], tf.float32)\n",
    "  scaled_attention_logits = matmul_qk / tf.math.sqrt(dk)\n",
    "\n",
    "  # add the mask to the scaled tensor.\n",
    "  if mask is not None:\n",
    "    scaled_attention_logits += (mask * -1e9)\n",
    "\n",
    "  # softmax is normalized on the last axis (seq_len_k) so that the scores\n",
    "  # add up to 1.\n",
    "  attention_weights = tf.nn.softmax(scaled_attention_logits, axis=-1)  # (..., seq_len_q, seq_len_k)\n",
    "\n",
    "  output = tf.matmul(attention_weights, v)  # (..., seq_len_q, depth_v)\n",
    "\n",
    "  return output, attention_weights"
   ],
   "metadata": {
    "collapsed": false,
    "pycharm": {
     "name": "#%%\n"
    }
   }
  },
  {
   "cell_type": "code",
   "execution_count": 34,
   "outputs": [],
   "source": [
    "def print_out(q, k, v):\n",
    "  temp_out, temp_attn = scaled_dot_product_attention(\n",
    "      q, k, v, None)\n",
    "  print ('Attention weights are:')\n",
    "  print (temp_attn)\n",
    "  print ('Output is:')\n",
    "  print (temp_out)"
   ],
   "metadata": {
    "collapsed": false,
    "pycharm": {
     "name": "#%%\n"
    }
   }
  },
  {
   "cell_type": "code",
   "execution_count": 35,
   "outputs": [
    {
     "name": "stdout",
     "output_type": "stream",
     "text": [
      "Attention weights are:\n",
      "tf.Tensor([[0. 1. 0. 0.]], shape=(1, 4), dtype=float32)\n",
      "Output is:\n",
      "tf.Tensor([[10.  0.]], shape=(1, 2), dtype=float32)\n"
     ]
    }
   ],
   "source": [
    "np.set_printoptions(suppress=True)\n",
    "\n",
    "temp_k = tf.constant([[10,0,0],\n",
    "                      [0,10,0],\n",
    "                      [0,0,10],\n",
    "                      [0,0,10]], dtype=tf.float32)  # (4, 3)\n",
    "\n",
    "temp_v = tf.constant([[   1,0],\n",
    "                      [  10,0],\n",
    "                      [ 100,5],\n",
    "                      [1000,6]], dtype=tf.float32)  # (4, 2)\n",
    "\n",
    "# This `query` aligns with the second `key`,\n",
    "# so the second `value` is returned.\n",
    "temp_q = tf.constant([[0, 10, 0]], dtype=tf.float32)  # (1, 3)\n",
    "print_out(temp_q, temp_k, temp_v)"
   ],
   "metadata": {
    "collapsed": false,
    "pycharm": {
     "name": "#%%\n"
    }
   }
  },
  {
   "cell_type": "code",
   "execution_count": 36,
   "outputs": [
    {
     "name": "stdout",
     "output_type": "stream",
     "text": [
      "Attention weights are:\n",
      "tf.Tensor([[0.  0.  0.5 0.5]], shape=(1, 4), dtype=float32)\n",
      "Output is:\n",
      "tf.Tensor([[550.    5.5]], shape=(1, 2), dtype=float32)\n"
     ]
    }
   ],
   "source": [
    "# This query aligns with a repeated key (third and fourth),\n",
    "# so all associated values get averaged.\n",
    "temp_q = tf.constant([[0, 0, 10]], dtype=tf.float32)  # (1, 3)\n",
    "print_out(temp_q, temp_k, temp_v)"
   ],
   "metadata": {
    "collapsed": false,
    "pycharm": {
     "name": "#%%\n"
    }
   }
  },
  {
   "cell_type": "code",
   "execution_count": 37,
   "outputs": [
    {
     "name": "stdout",
     "output_type": "stream",
     "text": [
      "Attention weights are:\n",
      "tf.Tensor([[0.5 0.5 0.  0. ]], shape=(1, 4), dtype=float32)\n",
      "Output is:\n",
      "tf.Tensor([[5.5 0. ]], shape=(1, 2), dtype=float32)\n"
     ]
    }
   ],
   "source": [
    "# This query aligns equally with the first and second key,\n",
    "# so their values get averaged.\n",
    "temp_q = tf.constant([[10, 10, 0]], dtype=tf.float32)  # (1, 3)\n",
    "print_out(temp_q, temp_k, temp_v)"
   ],
   "metadata": {
    "collapsed": false,
    "pycharm": {
     "name": "#%%\n"
    }
   }
  },
  {
   "cell_type": "code",
   "execution_count": 38,
   "outputs": [
    {
     "name": "stdout",
     "output_type": "stream",
     "text": [
      "Attention weights are:\n",
      "tf.Tensor(\n",
      "[[0.   0.   0.5  0.5 ]\n",
      " [0.   1.   0.   0.  ]\n",
      " [0.25 0.25 0.25 0.25]], shape=(3, 4), dtype=float32)\n",
      "Output is:\n",
      "tf.Tensor(\n",
      "[[550.     5.5 ]\n",
      " [ 10.     0.  ]\n",
      " [277.75   2.75]], shape=(3, 2), dtype=float32)\n"
     ]
    }
   ],
   "source": [
    "temp_q = tf.constant([[0, 0, 10], [0, 10, 0], [10, 10, 10]], dtype=tf.float32)  # (3, 3)\n",
    "print_out(temp_q, temp_k, temp_v)"
   ],
   "metadata": {
    "collapsed": false,
    "pycharm": {
     "name": "#%%\n"
    }
   }
  },
  {
   "cell_type": "code",
   "execution_count": 39,
   "outputs": [],
   "source": [
    "class MultiHeadAttention(tf.keras.layers.Layer):\n",
    "  def __init__(self, d_model, num_heads):\n",
    "    super(MultiHeadAttention, self).__init__()\n",
    "    self.num_heads = num_heads\n",
    "    self.d_model = d_model\n",
    "\n",
    "    assert d_model % self.num_heads == 0\n",
    "\n",
    "    self.depth = d_model // self.num_heads\n",
    "\n",
    "    self.wq = tf.keras.layers.Dense(d_model)\n",
    "    self.wk = tf.keras.layers.Dense(d_model)\n",
    "    self.wv = tf.keras.layers.Dense(d_model)\n",
    "\n",
    "    self.dense = tf.keras.layers.Dense(d_model)\n",
    "\n",
    "  def split_heads(self, x, batch_size):\n",
    "    \"\"\"Split the last dimension into (num_heads, depth).\n",
    "    Transpose the result such that the shape is (batch_size, num_heads, seq_len, depth)\n",
    "    \"\"\"\n",
    "    # If one component of shape is the special value -1, the size of that dimension is computed so that\n",
    "    # the total size remains constant. In particular, a shape of [-1] flattens into 1-D.\n",
    "    # At most one component of shape can be -1.\n",
    "\n",
    "    x = tf.reshape(x, (batch_size, -1, self.num_heads, self.depth))\n",
    "    return tf.transpose(x, perm=[0, 2, 1, 3])\n",
    "\n",
    "  def call(self, v, k, q, mask):\n",
    "    batch_size = tf.shape(q)[0]\n",
    "\n",
    "    q = self.wq(q)  # (batch_size, seq_len, d_model)\n",
    "    k = self.wk(k)  # (batch_size, seq_len, d_model)\n",
    "    v = self.wv(v)  # (batch_size, seq_len, d_model)\n",
    "\n",
    "    q = self.split_heads(q, batch_size)  # (batch_size, num_heads, seq_len_q, depth)\n",
    "    k = self.split_heads(k, batch_size)  # (batch_size, num_heads, seq_len_k, depth)\n",
    "    v = self.split_heads(v, batch_size)  # (batch_size, num_heads, seq_len_v, depth)\n",
    "\n",
    "    # scaled_attention.shape == (batch_size, num_heads, seq_len_q, depth)\n",
    "    # attention_weights.shape == (batch_size, num_heads, seq_len_q, seq_len_k)\n",
    "    scaled_attention, attention_weights = scaled_dot_product_attention(\n",
    "        q, k, v, mask)\n",
    "\n",
    "    scaled_attention = tf.transpose(scaled_attention, perm=[0, 2, 1, 3])  # (batch_size, seq_len_q, num_heads, depth)\n",
    "\n",
    "    concat_attention = tf.reshape(scaled_attention,\n",
    "                                  (batch_size, -1, self.d_model))  # (batch_size, seq_len_q, d_model)\n",
    "\n",
    "    output = self.dense(concat_attention)  # (batch_size, seq_len_q, d_model)\n",
    "\n",
    "    return output, attention_weights"
   ],
   "metadata": {
    "collapsed": false,
    "pycharm": {
     "name": "#%%\n"
    }
   }
  },
  {
   "cell_type": "code",
   "execution_count": 40,
   "outputs": [
    {
     "name": "stdout",
     "output_type": "stream",
     "text": [
      "Выходные размерности:  \n",
      "\n"
     ]
    },
    {
     "data": {
      "text/plain": "(TensorShape([2, 3, 10]), TensorShape([2, 2, 3, 3]))"
     },
     "execution_count": 40,
     "metadata": {},
     "output_type": "execute_result"
    }
   ],
   "source": [
    "temp_mha = MultiHeadAttention(d_model=10, num_heads=2)\n",
    "y = tf.random.uniform((2, 3, 10))  # (batch_size, encoder_sequence, d_model)\n",
    "out, attn = temp_mha(y, k=y, q=y, mask=None)\n",
    "print('Выходные размерности:  \\n')\n",
    "out.shape, attn.shape"
   ],
   "metadata": {
    "collapsed": false,
    "pycharm": {
     "name": "#%%\n"
    }
   }
  },
  {
   "cell_type": "code",
   "execution_count": 41,
   "outputs": [],
   "source": [
    "def point_wise_feed_forward_network(d_model, dff):\n",
    "  return tf.keras.Sequential([\n",
    "      tf.keras.layers.Dense(dff, activation='relu'),  # (batch_size, seq_len, dff)\n",
    "      tf.keras.layers.Dense(d_model)  # (batch_size, seq_len, d_model)\n",
    "  ])"
   ],
   "metadata": {
    "collapsed": false,
    "pycharm": {
     "name": "#%%\n"
    }
   }
  },
  {
   "cell_type": "code",
   "execution_count": 42,
   "outputs": [
    {
     "data": {
      "text/plain": "TensorShape([64, 50, 512])"
     },
     "execution_count": 42,
     "metadata": {},
     "output_type": "execute_result"
    }
   ],
   "source": [
    "sample_ffn = point_wise_feed_forward_network(512, 2048)\n",
    "sample_ffn(tf.random.uniform((64, 50, 512))).shape"
   ],
   "metadata": {
    "collapsed": false,
    "pycharm": {
     "name": "#%%\n"
    }
   }
  },
  {
   "cell_type": "code",
   "execution_count": 43,
   "outputs": [],
   "source": [
    "class EncoderLayer(tf.keras.layers.Layer):\n",
    "  def __init__(self, d_model, num_heads, dff, rate=0.1):\n",
    "    super(EncoderLayer, self).__init__()\n",
    "\n",
    "    self.mha = MultiHeadAttention(d_model, num_heads)\n",
    "    self.ffn = point_wise_feed_forward_network(d_model, dff)\n",
    "\n",
    "    self.layernorm1 = tf.keras.layers.LayerNormalization(epsilon=1e-6)\n",
    "    self.layernorm2 = tf.keras.layers.LayerNormalization(epsilon=1e-6)\n",
    "\n",
    "    self.dropout1 = tf.keras.layers.Dropout(rate)\n",
    "    self.dropout2 = tf.keras.layers.Dropout(rate)\n",
    "\n",
    "  def call(self, x, training, mask):\n",
    "\n",
    "    attn_output, _ = self.mha(x, x, x, mask)  # (batch_size, input_seq_len, d_model)\n",
    "    attn_output = self.dropout1(attn_output, training=training)\n",
    "    out1 = self.layernorm1(x + attn_output)  # (batch_size, input_seq_len, d_model)\n",
    "\n",
    "    ffn_output = self.ffn(out1)  # (batch_size, input_seq_len, d_model)\n",
    "    ffn_output = self.dropout2(ffn_output, training=training)\n",
    "    out2 = self.layernorm2(out1 + ffn_output)  # (batch_size, input_seq_len, d_model)\n",
    "\n",
    "    return out2"
   ],
   "metadata": {
    "collapsed": false,
    "pycharm": {
     "name": "#%%\n"
    }
   }
  },
  {
   "cell_type": "code",
   "execution_count": 44,
   "outputs": [
    {
     "data": {
      "text/plain": "TensorShape([64, 43, 512])"
     },
     "execution_count": 44,
     "metadata": {},
     "output_type": "execute_result"
    }
   ],
   "source": [
    "sample_encoder_layer = EncoderLayer(512, 8, 2048)\n",
    "\n",
    "sample_encoder_layer_output = sample_encoder_layer(\n",
    "    tf.random.uniform((64, 43, 512)), False, None)\n",
    "\n",
    "sample_encoder_layer_output.shape  # (batch_size, input_seq_len, d_model)"
   ],
   "metadata": {
    "collapsed": false,
    "pycharm": {
     "name": "#%%\n"
    }
   }
  },
  {
   "cell_type": "code",
   "execution_count": 45,
   "outputs": [],
   "source": [
    "class DecoderLayer(tf.keras.layers.Layer):\n",
    "  def __init__(self, d_model, num_heads, dff, rate=0.1):\n",
    "    super(DecoderLayer, self).__init__()\n",
    "\n",
    "    self.mha1 = MultiHeadAttention(d_model, num_heads)\n",
    "    self.mha2 = MultiHeadAttention(d_model, num_heads)\n",
    "\n",
    "    self.ffn = point_wise_feed_forward_network(d_model, dff)\n",
    "\n",
    "    self.layernorm1 = tf.keras.layers.LayerNormalization(epsilon=1e-6)\n",
    "    self.layernorm2 = tf.keras.layers.LayerNormalization(epsilon=1e-6)\n",
    "    self.layernorm3 = tf.keras.layers.LayerNormalization(epsilon=1e-6)\n",
    "\n",
    "    self.dropout1 = tf.keras.layers.Dropout(rate)\n",
    "    self.dropout2 = tf.keras.layers.Dropout(rate)\n",
    "    self.dropout3 = tf.keras.layers.Dropout(rate)\n",
    "\n",
    "\n",
    "  def call(self, x, enc_output, training,\n",
    "           look_ahead_mask, padding_mask):\n",
    "    # enc_output.shape == (batch_size, input_seq_len, d_model)\n",
    "\n",
    "    attn1, attn_weights_block1 = self.mha1(x, x, x, look_ahead_mask)  # (batch_size, target_seq_len, d_model)\n",
    "    attn1 = self.dropout1(attn1, training=training)\n",
    "    out1 = self.layernorm1(attn1 + x)\n",
    "\n",
    "    attn2, attn_weights_block2 = self.mha2(\n",
    "        enc_output, enc_output, out1, padding_mask)  # (batch_size, target_seq_len, d_model)\n",
    "    attn2 = self.dropout2(attn2, training=training)\n",
    "    out2 = self.layernorm2(attn2 + out1)  # (batch_size, target_seq_len, d_model)\n",
    "\n",
    "    ffn_output = self.ffn(out2)  # (batch_size, target_seq_len, d_model)\n",
    "    ffn_output = self.dropout3(ffn_output, training=training)\n",
    "    out3 = self.layernorm3(ffn_output + out2)  # (batch_size, target_seq_len, d_model)\n",
    "\n",
    "    return out3, attn_weights_block1, attn_weights_block2"
   ],
   "metadata": {
    "collapsed": false,
    "pycharm": {
     "name": "#%%\n"
    }
   }
  },
  {
   "cell_type": "code",
   "execution_count": 46,
   "outputs": [
    {
     "data": {
      "text/plain": "TensorShape([64, 50, 512])"
     },
     "execution_count": 46,
     "metadata": {},
     "output_type": "execute_result"
    }
   ],
   "source": [
    "sample_decoder_layer = DecoderLayer(512, 8, 2048)\n",
    "\n",
    "sample_decoder_layer_output, _, _ = sample_decoder_layer(\n",
    "    tf.random.uniform((64, 50, 512)), sample_encoder_layer_output,\n",
    "    False, None, None)\n",
    "\n",
    "sample_decoder_layer_output.shape  # (batch_size, target_seq_len, d_model)"
   ],
   "metadata": {
    "collapsed": false,
    "pycharm": {
     "name": "#%%\n"
    }
   }
  },
  {
   "cell_type": "code",
   "execution_count": 47,
   "outputs": [],
   "source": [
    "class Encoder(tf.keras.layers.Layer):\n",
    "  def __init__(self, num_layers, d_model, num_heads, dff, input_vocab_size,\n",
    "               maximum_position_encoding, rate=0.1):\n",
    "    super(Encoder, self).__init__()\n",
    "\n",
    "    self.d_model = d_model\n",
    "    self.num_layers = num_layers\n",
    "\n",
    "    self.embedding = tf.keras.layers.Embedding(input_vocab_size, d_model)\n",
    "    self.pos_encoding = positional_encoding(maximum_position_encoding,\n",
    "                                            self.d_model)\n",
    "\n",
    "\n",
    "    self.enc_layers = [EncoderLayer(d_model, num_heads, dff, rate)\n",
    "                       for _ in range(num_layers)]\n",
    "\n",
    "    self.dropout = tf.keras.layers.Dropout(rate)\n",
    "\n",
    "  def call(self, x, training, mask):\n",
    "\n",
    "    seq_len = tf.shape(x)[1] #40\n",
    "\n",
    "    # adding embedding and position encoding.\n",
    "    x = self.embedding(x)  # (batch_size, input_seq_len, d_model)\n",
    "    x *= tf.math.sqrt(tf.cast(self.d_model, tf.float32))\n",
    "    x += self.pos_encoding[:, :seq_len, :]\n",
    "\n",
    "    x = self.dropout(x, training=training)\n",
    "\n",
    "    for i in range(self.num_layers):\n",
    "      x = self.enc_layers[i](x, training, mask)\n",
    "\n",
    "    return x  # (batch_size, input_seq_len, d_model)"
   ],
   "metadata": {
    "collapsed": false,
    "pycharm": {
     "name": "#%%\n"
    }
   }
  },
  {
   "cell_type": "code",
   "execution_count": 48,
   "outputs": [
    {
     "name": "stdout",
     "output_type": "stream",
     "text": [
      "[[   0.            0.            0.         ...    0.\n",
      "     0.            0.        ]\n",
      " [   1.            1.            0.96466162 ...    0.00010746\n",
      "     0.00010366    0.00010366]\n",
      " [   2.            2.            1.92932324 ...    0.00021492\n",
      "     0.00020733    0.00020733]\n",
      " ...\n",
      " [9997.         9997.         9643.72221425 ...    1.07428545\n",
      "     1.03632194    1.03632194]\n",
      " [9998.         9998.         9644.68687587 ...    1.07439291\n",
      "     1.0364256     1.0364256 ]\n",
      " [9999.         9999.         9645.65153749 ...    1.07450037\n",
      "     1.03652927    1.03652927]]\n",
      "(64, 62, 512)\n"
     ]
    }
   ],
   "source": [
    "sample_encoder = Encoder(num_layers=2, d_model=512, num_heads=8,\n",
    "                         dff=2048, input_vocab_size=8500,\n",
    "                         maximum_position_encoding=10000)\n",
    "temp_input = tf.random.uniform((64, 62), dtype=tf.int64, minval=0, maxval=200)\n",
    "\n",
    "sample_encoder_output = sample_encoder(temp_input, training=False, mask=None)\n",
    "\n",
    "print (sample_encoder_output.shape)  # (batch_size, input_seq_len, d_model)"
   ],
   "metadata": {
    "collapsed": false,
    "pycharm": {
     "name": "#%%\n"
    }
   }
  },
  {
   "cell_type": "code",
   "execution_count": 49,
   "outputs": [],
   "source": [
    "class Decoder(tf.keras.layers.Layer):\n",
    "  def __init__(self, num_layers, d_model, num_heads, dff, target_vocab_size,\n",
    "               maximum_position_encoding, rate=0.1):\n",
    "    super(Decoder, self).__init__()\n",
    "\n",
    "    self.d_model = d_model\n",
    "    self.num_layers = num_layers\n",
    "\n",
    "    self.embedding = tf.keras.layers.Embedding(target_vocab_size, d_model)\n",
    "    self.pos_encoding = positional_encoding(maximum_position_encoding, d_model)\n",
    "\n",
    "    self.dec_layers = [DecoderLayer(d_model, num_heads, dff, rate)\n",
    "                       for _ in range(num_layers)]\n",
    "    self.dropout = tf.keras.layers.Dropout(rate)\n",
    "\n",
    "  def call(self, x, enc_output, training,\n",
    "           look_ahead_mask, padding_mask):\n",
    "\n",
    "    seq_len = tf.shape(x)[1]\n",
    "    attention_weights = {}\n",
    "\n",
    "    x = self.embedding(x)  # (batch_size, target_seq_len, d_model)\n",
    "    x *= tf.math.sqrt(tf.cast(self.d_model, tf.float32))\n",
    "    x += self.pos_encoding[:, :seq_len, :]\n",
    "\n",
    "    x = self.dropout(x, training=training)\n",
    "\n",
    "    for i in range(self.num_layers):\n",
    "      x, block1, block2 = self.dec_layers[i](x, enc_output, training,\n",
    "                                             look_ahead_mask, padding_mask)\n",
    "\n",
    "      attention_weights['decoder_layer{}_block1'.format(i+1)] = block1\n",
    "      attention_weights['decoder_layer{}_block2'.format(i+1)] = block2\n",
    "\n",
    "    # x.shape == (batch_size, target_seq_len, d_model)\n",
    "    return x, attention_weights"
   ],
   "metadata": {
    "collapsed": false,
    "pycharm": {
     "name": "#%%\n"
    }
   }
  },
  {
   "cell_type": "code",
   "execution_count": 50,
   "outputs": [
    {
     "name": "stdout",
     "output_type": "stream",
     "text": [
      "[[   0.            0.            0.         ...    0.\n",
      "     0.            0.        ]\n",
      " [   1.            1.            0.96466162 ...    0.00010746\n",
      "     0.00010366    0.00010366]\n",
      " [   2.            2.            1.92932324 ...    0.00021492\n",
      "     0.00020733    0.00020733]\n",
      " ...\n",
      " [4997.         4997.         4820.4141147  ...    0.53698153\n",
      "     0.51800547    0.51800547]\n",
      " [4998.         4998.         4821.37877632 ...    0.53708899\n",
      "     0.51810914    0.51810914]\n",
      " [4999.         4999.         4822.34343794 ...    0.53719645\n",
      "     0.5182128     0.5182128 ]]\n"
     ]
    },
    {
     "data": {
      "text/plain": "(TensorShape([64, 26, 512]), TensorShape([64, 8, 26, 62]))"
     },
     "execution_count": 50,
     "metadata": {},
     "output_type": "execute_result"
    }
   ],
   "source": [
    "sample_decoder = Decoder(num_layers=2, d_model=512, num_heads=8,\n",
    "                         dff=2048, target_vocab_size=8000,\n",
    "                         maximum_position_encoding=5000)\n",
    "temp_input = tf.random.uniform((64, 26), dtype=tf.int64, minval=0, maxval=200)\n",
    "\n",
    "output, attn = sample_decoder(temp_input,\n",
    "                              enc_output=sample_encoder_output,\n",
    "                              training=False,\n",
    "                              look_ahead_mask=None,\n",
    "                              padding_mask=None)\n",
    "\n",
    "output.shape, attn['decoder_layer2_block2'].shape"
   ],
   "metadata": {
    "collapsed": false,
    "pycharm": {
     "name": "#%%\n"
    }
   }
  },
  {
   "cell_type": "code",
   "execution_count": 51,
   "outputs": [],
   "source": [
    "class Transformer(tf.keras.Model):\n",
    "  def __init__(self, num_layers, d_model, num_heads, dff, input_vocab_size,\n",
    "               target_vocab_size, pe_input, pe_target, rate=0.1):\n",
    "    super(Transformer, self).__init__()\n",
    "\n",
    "    self.encoder = Encoder(num_layers, d_model, num_heads, dff,\n",
    "                           input_vocab_size, pe_input, rate)\n",
    "\n",
    "    self.decoder = Decoder(num_layers, d_model, num_heads, dff,\n",
    "                           target_vocab_size, pe_target, rate)\n",
    "\n",
    "    self.final_layer = tf.keras.layers.Dense(target_vocab_size)\n",
    "\n",
    "  def call(self, inp, tar, training, enc_padding_mask,\n",
    "           look_ahead_mask, dec_padding_mask):\n",
    "\n",
    "    enc_output = self.encoder(inp, training, enc_padding_mask)  # (batch_size, inp_seq_len, d_model)\n",
    "\n",
    "    # dec_output.shape == (batch_size, tar_seq_len, d_model)\n",
    "    dec_output, attention_weights = self.decoder(\n",
    "        tar, enc_output, training, look_ahead_mask, dec_padding_mask)\n",
    "\n",
    "    final_output = self.final_layer(dec_output)  # (batch_size, tar_seq_len, target_vocab_size)\n",
    "\n",
    "    return final_output, attention_weights"
   ],
   "metadata": {
    "collapsed": false,
    "pycharm": {
     "name": "#%%\n"
    }
   }
  },
  {
   "cell_type": "code",
   "execution_count": 52,
   "outputs": [
    {
     "name": "stdout",
     "output_type": "stream",
     "text": [
      "[[   0.            0.            0.         ...    0.\n",
      "     0.            0.        ]\n",
      " [   1.            1.            0.96466162 ...    0.00010746\n",
      "     0.00010366    0.00010366]\n",
      " [   2.            2.            1.92932324 ...    0.00021492\n",
      "     0.00020733    0.00020733]\n",
      " ...\n",
      " [9997.         9997.         9643.72221425 ...    1.07428545\n",
      "     1.03632194    1.03632194]\n",
      " [9998.         9998.         9644.68687587 ...    1.07439291\n",
      "     1.0364256     1.0364256 ]\n",
      " [9999.         9999.         9645.65153749 ...    1.07450037\n",
      "     1.03652927    1.03652927]]\n",
      "[[   0.            0.            0.         ...    0.\n",
      "     0.            0.        ]\n",
      " [   1.            1.            0.96466162 ...    0.00010746\n",
      "     0.00010366    0.00010366]\n",
      " [   2.            2.            1.92932324 ...    0.00021492\n",
      "     0.00020733    0.00020733]\n",
      " ...\n",
      " [5997.         5997.         5785.07573461 ...    0.64444231\n",
      "     0.62166877    0.62166877]\n",
      " [5998.         5998.         5786.04039623 ...    0.64454978\n",
      "     0.62177243    0.62177243]\n",
      " [5999.         5999.         5787.00505785 ...    0.64465724\n",
      "     0.62187609    0.62187609]]\n"
     ]
    },
    {
     "data": {
      "text/plain": "TensorShape([64, 36, 8000])"
     },
     "execution_count": 52,
     "metadata": {},
     "output_type": "execute_result"
    }
   ],
   "source": [
    "sample_transformer = Transformer(\n",
    "    num_layers=2, d_model=512, num_heads=8, dff=2048,\n",
    "    input_vocab_size=8500, target_vocab_size=8000,\n",
    "    pe_input=10000, pe_target=6000)\n",
    "\n",
    "temp_input = tf.random.uniform((64, 38), dtype=tf.int64, minval=0, maxval=200)\n",
    "temp_target = tf.random.uniform((64, 36), dtype=tf.int64, minval=0, maxval=200)\n",
    "\n",
    "fn_out, _ = sample_transformer(temp_input, temp_target, training=False,\n",
    "                               enc_padding_mask=None,\n",
    "                               look_ahead_mask=None,\n",
    "                               dec_padding_mask=None)\n",
    "\n",
    "fn_out.shape  # (batch_size, tar_seq_len, target_vocab_size)"
   ],
   "metadata": {
    "collapsed": false,
    "pycharm": {
     "name": "#%%\n"
    }
   }
  },
  {
   "cell_type": "code",
   "execution_count": 53,
   "outputs": [],
   "source": [
    "num_layers = 4\n",
    "d_model = 128\n",
    "dff = 512\n",
    "num_heads = 8\n",
    "\n",
    "input_vocab_size = tokenizer_ru.vocab_size + 2\n",
    "target_vocab_size = tokenizer_en.vocab_size + 2\n",
    "dropout_rate = 0.1"
   ],
   "metadata": {
    "collapsed": false,
    "pycharm": {
     "name": "#%%\n"
    }
   }
  },
  {
   "cell_type": "code",
   "execution_count": 54,
   "outputs": [],
   "source": [
    "class CustomSchedule(tf.keras.optimizers.schedules.LearningRateSchedule):\n",
    "  def __init__(self, d_model, warmup_steps=4000):\n",
    "    super(CustomSchedule, self).__init__()\n",
    "\n",
    "    self.d_model = d_model\n",
    "    self.d_model = tf.cast(self.d_model, tf.float32)\n",
    "\n",
    "    self.warmup_steps = warmup_steps\n",
    "\n",
    "  def __call__(self, step):\n",
    "    step = tf.cast(step, np.float32)\n",
    "    arg1 = tf.math.rsqrt(step)\n",
    "    arg2 = step * (self.warmup_steps ** -1.5)\n",
    "    return tf.math.rsqrt(self.d_model) * tf.math.minimum(arg1, arg2)"
   ],
   "metadata": {
    "collapsed": false,
    "pycharm": {
     "name": "#%%\n"
    }
   }
  },
  {
   "cell_type": "code",
   "execution_count": 55,
   "outputs": [],
   "source": [
    "learning_rate = CustomSchedule(d_model)\n",
    "optimizer = tf.keras.optimizers.Adam(learning_rate, beta_1=0.9, beta_2=0.98, epsilon=1e-9)"
   ],
   "metadata": {
    "collapsed": false,
    "pycharm": {
     "name": "#%%\n"
    }
   }
  },
  {
   "cell_type": "code",
   "execution_count": 56,
   "outputs": [
    {
     "data": {
      "text/plain": "Text(0.5, 0, 'Train Step')"
     },
     "execution_count": 56,
     "metadata": {},
     "output_type": "execute_result"
    },
    {
     "data": {
      "text/plain": "<Figure size 640x480 with 1 Axes>",
      "image/png": "[encoded data removed]"
     },
     "metadata": {},
     "output_type": "display_data"
    }
   ],
   "source": [
    "temp_learning_rate_schedule = CustomSchedule(d_model)\n",
    "\n",
    "plt.plot(temp_learning_rate_schedule(tf.range(40000, dtype=tf.float32)))\n",
    "plt.ylabel(\"Learning Rate\")\n",
    "plt.xlabel(\"Train Step\")"
   ],
   "metadata": {
    "collapsed": false,
    "pycharm": {
     "name": "#%%\n"
    }
   }
  },
  {
   "cell_type": "code",
   "execution_count": 57,
   "outputs": [],
   "source": [
    "loss_object = tf.keras.losses.SparseCategoricalCrossentropy(\n",
    "    from_logits=True, reduction='none')"
   ],
   "metadata": {
    "collapsed": false,
    "pycharm": {
     "name": "#%%\n"
    }
   }
  },
  {
   "cell_type": "code",
   "execution_count": 58,
   "outputs": [],
   "source": [
    "def loss_function(real, pred):\n",
    "  mask = tf.math.logical_not(tf.math.equal(real, 0))\n",
    "  loss_ = loss_object(real, pred)\n",
    "\n",
    "  mask = tf.cast(mask, dtype=loss_.dtype)\n",
    "  loss_ *= mask\n",
    "\n",
    "  return tf.reduce_sum(loss_)/tf.reduce_sum(mask)\n",
    "\n",
    "\n",
    "def accuracy_function(real, pred):\n",
    "  accuracies = tf.equal(real, tf.argmax(pred, axis=2))\n",
    "\n",
    "  mask = tf.math.logical_not(tf.math.equal(real, 0))\n",
    "  accuracies = tf.math.logical_and(mask, accuracies)\n",
    "\n",
    "  accuracies = tf.cast(accuracies, dtype=tf.float32)\n",
    "  mask = tf.cast(mask, dtype=tf.float32)\n",
    "  return tf.reduce_sum(accuracies)/tf.reduce_sum(mask)"
   ],
   "metadata": {
    "collapsed": false,
    "pycharm": {
     "name": "#%%\n"
    }
   }
  },
  {
   "cell_type": "code",
   "execution_count": 59,
   "outputs": [],
   "source": [
    "train_loss = tf.keras.metrics.Mean(name='train_loss')\n",
    "train_accuracy = tf.keras.metrics.Mean(name='train_accuracy')"
   ],
   "metadata": {
    "collapsed": false,
    "pycharm": {
     "name": "#%%\n"
    }
   }
  },
  {
   "cell_type": "code",
   "execution_count": 60,
   "outputs": [
    {
     "name": "stdout",
     "output_type": "stream",
     "text": [
      "[[   0.            0.            0.         ...    0.\n",
      "     0.            0.        ]\n",
      " [   1.            1.            0.86596432 ...    0.00013335\n",
      "     0.00011548    0.00011548]\n",
      " [   2.            2.            1.73192865 ...    0.0002667\n",
      "     0.00023096    0.00023096]\n",
      " ...\n",
      " [8178.         8178.         7081.85623644 ...    1.09055383\n",
      "     0.94438071    0.94438071]\n",
      " [8179.         8179.         7082.72220076 ...    1.09068718\n",
      "     0.94449619    0.94449619]\n",
      " [8180.         8180.         7083.58816509 ...    1.09082053\n",
      "     0.94461166    0.94461166]]\n",
      "[[   0.            0.            0.         ...    0.\n",
      "     0.            0.        ]\n",
      " [   1.            1.            0.86596432 ...    0.00013335\n",
      "     0.00011548    0.00011548]\n",
      " [   2.            2.            1.73192865 ...    0.0002667\n",
      "     0.00023096    0.00023096]\n",
      " ...\n",
      " [8244.         8244.         7139.00988178 ...    1.09935507\n",
      "     0.95200227    0.95200227]\n",
      " [8245.         8245.         7139.8758461  ...    1.09948842\n",
      "     0.95211775    0.95211775]\n",
      " [8246.         8246.         7140.74181043 ...    1.09962177\n",
      "     0.95223322    0.95223322]]\n"
     ]
    }
   ],
   "source": [
    "transformer = Transformer(num_layers, d_model, num_heads, dff,\n",
    "                          input_vocab_size, target_vocab_size,\n",
    "                          pe_input=input_vocab_size,\n",
    "                          pe_target=target_vocab_size,\n",
    "                          rate=dropout_rate)"
   ],
   "metadata": {
    "collapsed": false,
    "pycharm": {
     "name": "#%%\n"
    }
   }
  },
  {
   "cell_type": "code",
   "execution_count": 62,
   "outputs": [],
   "source": [
    "def create_masks(inp, tar):\n",
    "  # Encoder padding mask\n",
    "  enc_padding_mask = create_padding_mask(inp)\n",
    "\n",
    "  # Used in the 2nd attention block in the decoder.\n",
    "  # This padding mask is used to mask the encoder outputs.\n",
    "  dec_padding_mask = create_padding_mask(inp)\n",
    "\n",
    "  # Used in the 1st attention block in the decoder.\n",
    "  # It is used to pad and mask future tokens in the input received by\n",
    "  # the decoder.\n",
    "  look_ahead_mask = create_look_ahead_mask(tf.shape(tar)[1])\n",
    "  dec_target_padding_mask = create_padding_mask(tar)\n",
    "  combined_mask = tf.maximum(dec_target_padding_mask, look_ahead_mask)\n",
    "\n",
    "  return enc_padding_mask, combined_mask, dec_padding_mask"
   ],
   "metadata": {
    "collapsed": false,
    "pycharm": {
     "name": "#%%\n"
    }
   }
  },
  {
   "cell_type": "code",
   "execution_count": 63,
   "outputs": [],
   "source": [
    "checkpoint_path = \"./checkpoints/train\"\n",
    "\n",
    "ckpt = tf.train.Checkpoint(transformer=transformer,\n",
    "                           optimizer=optimizer)\n",
    "\n",
    "ckpt_manager = tf.train.CheckpointManager(ckpt, checkpoint_path, max_to_keep=5)\n",
    "\n",
    "# if a checkpoint exists, restore the latest checkpoint.\n",
    "if ckpt_manager.latest_checkpoint:\n",
    "  ckpt.restore(ckpt_manager.latest_checkpoint)\n",
    "  print ('Latest checkpoint restored!!')"
   ],
   "metadata": {
    "collapsed": false,
    "pycharm": {
     "name": "#%%\n"
    }
   }
  },
  {
   "cell_type": "code",
   "execution_count": 68,
   "outputs": [],
   "source": [
    "EPOCHS = 10"
   ],
   "metadata": {
    "collapsed": false,
    "pycharm": {
     "name": "#%%\n"
    }
   }
  },
  {
   "cell_type": "code",
   "execution_count": 69,
   "outputs": [],
   "source": [
    "# The @tf.function trace-compiles train_step into a TF graph for faster\n",
    "# execution. The function specializes to the precise shape of the argument\n",
    "# tensors. To avoid re-tracing due to the variable sequence lengths or variable\n",
    "# batch sizes (the last batch is smaller), use input_signature to specify\n",
    "# more generic shapes.\n",
    "\n",
    "train_step_signature = [\n",
    "    tf.TensorSpec(shape=(None, None), dtype=tf.int64),\n",
    "    tf.TensorSpec(shape=(None, None), dtype=tf.int64),\n",
    "]\n",
    "\n",
    "@tf.function(input_signature=train_step_signature)\n",
    "def train_step(inp, tar):\n",
    "  tar_inp = tar[:, :-1]\n",
    "  tar_real = tar[:, 1:]\n",
    "\n",
    "  enc_padding_mask, combined_mask, dec_padding_mask = create_masks(inp, tar_inp)\n",
    "\n",
    "  with tf.GradientTape() as tape:\n",
    "    predictions, _ = transformer(inp, tar_inp,\n",
    "                                 True,\n",
    "                                 enc_padding_mask,\n",
    "                                 combined_mask,\n",
    "                                 dec_padding_mask)\n",
    "    loss = loss_function(tar_real, predictions)\n",
    "\n",
    "  gradients = tape.gradient(loss, transformer.trainable_variables)\n",
    "  optimizer.apply_gradients(zip(gradients, transformer.trainable_variables))\n",
    "\n",
    "  train_loss(loss)\n",
    "  train_accuracy(accuracy_function(tar_real, predictions))"
   ],
   "metadata": {
    "collapsed": false,
    "pycharm": {
     "name": "#%%\n"
    }
   }
  },
  {
   "cell_type": "code",
   "execution_count": 70,
   "outputs": [
    {
     "name": "stdout",
     "output_type": "stream",
     "text": [
      "Epoch 1 Batch 0 Loss 8.2871 Accuracy 0.0646\n",
      "Epoch 1 Batch 50 Loss 8.1038 Accuracy 0.0698\n",
      "Epoch 1 Batch 100 Loss 7.8891 Accuracy 0.0819\n",
      "Epoch 1 Batch 150 Loss 7.6722 Accuracy 0.0877\n",
      "Epoch 1 Batch 200 Loss 7.4656 Accuracy 0.0911\n",
      "Epoch 1 Batch 250 Loss 7.2857 Accuracy 0.0945\n",
      "Epoch 1 Batch 300 Loss 7.1376 Accuracy 0.0986\n",
      "Epoch 1 Batch 350 Loss 7.0101 Accuracy 0.1039\n",
      "Epoch 1 Batch 400 Loss 6.8948 Accuracy 0.1112\n",
      "Epoch 1 Batch 450 Loss 6.7843 Accuracy 0.1180\n",
      "Epoch 1 Batch 500 Loss 6.6784 Accuracy 0.1255\n",
      "Epoch 1 Batch 550 Loss 6.5772 Accuracy 0.1332\n",
      "Epoch 1 Batch 600 Loss 6.4826 Accuracy 0.1403\n",
      "Epoch 1 Batch 650 Loss 6.3927 Accuracy 0.1471\n",
      "Epoch 1 Batch 700 Loss 6.3098 Accuracy 0.1533\n",
      "Epoch 1 Batch 750 Loss 6.2351 Accuracy 0.1590\n",
      "Epoch 1 Batch 800 Loss 6.1646 Accuracy 0.1644\n",
      "Epoch 1 Batch 850 Loss 6.0996 Accuracy 0.1694\n",
      "Epoch 1 Batch 900 Loss 6.0374 Accuracy 0.1744\n",
      "Epoch 1 Batch 950 Loss 5.9815 Accuracy 0.1788\n",
      "Epoch 1 Batch 1000 Loss 5.9284 Accuracy 0.1833\n",
      "Epoch 1 Batch 1050 Loss 5.8776 Accuracy 0.1875\n",
      "Epoch 1 Batch 1100 Loss 5.8303 Accuracy 0.1915\n",
      "Epoch 1 Batch 1150 Loss 5.7869 Accuracy 0.1953\n",
      "Epoch 1 Batch 1200 Loss 5.7447 Accuracy 0.1988\n",
      "Epoch 1 Batch 1250 Loss 5.7049 Accuracy 0.2021\n",
      "Epoch 1 Batch 1300 Loss 5.6664 Accuracy 0.2054\n",
      "Epoch 1 Batch 1350 Loss 5.6307 Accuracy 0.2084\n",
      "Epoch 1 Batch 1400 Loss 5.5957 Accuracy 0.2113\n",
      "Epoch 1 Batch 1450 Loss 5.5629 Accuracy 0.2141\n",
      "Epoch 1 Batch 1500 Loss 5.5324 Accuracy 0.2168\n",
      "Epoch 1 Batch 1550 Loss 5.5026 Accuracy 0.2194\n",
      "Epoch 1 Batch 1600 Loss 5.4732 Accuracy 0.2219\n",
      "Epoch 1 Batch 1650 Loss 5.4454 Accuracy 0.2243\n",
      "Epoch 1 Batch 1700 Loss 5.4188 Accuracy 0.2266\n",
      "Epoch 1 Batch 1750 Loss 5.3926 Accuracy 0.2288\n",
      "Epoch 1 Batch 1800 Loss 5.3684 Accuracy 0.2309\n",
      "Epoch 1 Batch 1850 Loss 5.3441 Accuracy 0.2329\n",
      "Epoch 1 Batch 1900 Loss 5.3210 Accuracy 0.2349\n",
      "Epoch 1 Batch 1950 Loss 5.2987 Accuracy 0.2368\n",
      "Epoch 1 Batch 2000 Loss 5.2760 Accuracy 0.2387\n",
      "Epoch 1 Batch 2050 Loss 5.2552 Accuracy 0.2404\n",
      "Epoch 1 Batch 2100 Loss 5.2345 Accuracy 0.2422\n",
      "Epoch 1 Batch 2150 Loss 5.2150 Accuracy 0.2438\n",
      "Epoch 1 Batch 2200 Loss 5.1955 Accuracy 0.2454\n",
      "Epoch 1 Batch 2250 Loss 5.1766 Accuracy 0.2471\n",
      "Epoch 1 Batch 2300 Loss 5.1585 Accuracy 0.2486\n",
      "Epoch 1 Batch 2350 Loss 5.1413 Accuracy 0.2500\n",
      "Epoch 1 Batch 2400 Loss 5.1245 Accuracy 0.2515\n",
      "Epoch 1 Batch 2450 Loss 5.1071 Accuracy 0.2530\n",
      "Epoch 1 Batch 2500 Loss 5.0905 Accuracy 0.2544\n",
      "Epoch 1 Batch 2550 Loss 5.0740 Accuracy 0.2559\n",
      "Epoch 1 Batch 2600 Loss 5.0576 Accuracy 0.2572\n",
      "Epoch 1 Loss 5.0498 Accuracy 0.2579\n",
      "Time taken for 1 epoch: 1474.1313254833221 secs\n",
      "\n",
      "Epoch 2 Batch 0 Loss 4.1620 Accuracy 0.3430\n",
      "Epoch 2 Batch 50 Loss 4.1819 Accuracy 0.3315\n",
      "Epoch 2 Batch 100 Loss 4.1823 Accuracy 0.3321\n",
      "Epoch 2 Batch 150 Loss 4.1721 Accuracy 0.3333\n",
      "Epoch 2 Batch 200 Loss 4.1602 Accuracy 0.3343\n",
      "Epoch 2 Batch 250 Loss 4.1561 Accuracy 0.3343\n",
      "Epoch 2 Batch 300 Loss 4.1477 Accuracy 0.3348\n",
      "Epoch 2 Batch 350 Loss 4.1439 Accuracy 0.3355\n",
      "Epoch 2 Batch 400 Loss 4.1353 Accuracy 0.3367\n",
      "Epoch 2 Batch 450 Loss 4.1264 Accuracy 0.3377\n",
      "Epoch 2 Batch 500 Loss 4.1167 Accuracy 0.3388\n",
      "Epoch 2 Batch 550 Loss 4.1083 Accuracy 0.3396\n",
      "Epoch 2 Batch 600 Loss 4.0984 Accuracy 0.3407\n",
      "Epoch 2 Batch 650 Loss 4.0898 Accuracy 0.3415\n",
      "Epoch 2 Batch 700 Loss 4.0813 Accuracy 0.3424\n",
      "Epoch 2 Batch 750 Loss 4.0737 Accuracy 0.3434\n",
      "Epoch 2 Batch 800 Loss 4.0653 Accuracy 0.3443\n",
      "Epoch 2 Batch 850 Loss 4.0573 Accuracy 0.3453\n",
      "Epoch 2 Batch 900 Loss 4.0496 Accuracy 0.3462\n",
      "Epoch 2 Batch 950 Loss 4.0407 Accuracy 0.3471\n",
      "Epoch 2 Batch 1000 Loss 4.0320 Accuracy 0.3481\n",
      "Epoch 2 Batch 1050 Loss 4.0242 Accuracy 0.3489\n",
      "Epoch 2 Batch 1100 Loss 4.0179 Accuracy 0.3496\n",
      "Epoch 2 Batch 1150 Loss 4.0105 Accuracy 0.3504\n",
      "Epoch 2 Batch 1200 Loss 4.0028 Accuracy 0.3512\n",
      "Epoch 2 Batch 1250 Loss 3.9954 Accuracy 0.3520\n",
      "Epoch 2 Batch 1300 Loss 3.9878 Accuracy 0.3529\n",
      "Epoch 2 Batch 1350 Loss 3.9797 Accuracy 0.3537\n",
      "Epoch 2 Batch 1400 Loss 3.9726 Accuracy 0.3545\n",
      "Epoch 2 Batch 1450 Loss 3.9646 Accuracy 0.3554\n",
      "Epoch 2 Batch 1500 Loss 3.9579 Accuracy 0.3561\n",
      "Epoch 2 Batch 1550 Loss 3.9501 Accuracy 0.3570\n",
      "Epoch 2 Batch 1600 Loss 3.9418 Accuracy 0.3579\n",
      "Epoch 2 Batch 1650 Loss 3.9338 Accuracy 0.3587\n",
      "Epoch 2 Batch 1700 Loss 3.9260 Accuracy 0.3595\n",
      "Epoch 2 Batch 1750 Loss 3.9187 Accuracy 0.3603\n",
      "Epoch 2 Batch 1800 Loss 3.9111 Accuracy 0.3611\n",
      "Epoch 2 Batch 1850 Loss 3.9037 Accuracy 0.3620\n",
      "Epoch 2 Batch 1900 Loss 3.8955 Accuracy 0.3629\n",
      "Epoch 2 Batch 1950 Loss 3.8884 Accuracy 0.3636\n",
      "Epoch 2 Batch 2000 Loss 3.8802 Accuracy 0.3646\n",
      "Epoch 2 Batch 2050 Loss 3.8719 Accuracy 0.3654\n",
      "Epoch 2 Batch 2100 Loss 3.8641 Accuracy 0.3662\n",
      "Epoch 2 Batch 2150 Loss 3.8567 Accuracy 0.3670\n",
      "Epoch 2 Batch 2200 Loss 3.8498 Accuracy 0.3677\n",
      "Epoch 2 Batch 2250 Loss 3.8430 Accuracy 0.3684\n",
      "Epoch 2 Batch 2300 Loss 3.8359 Accuracy 0.3692\n",
      "Epoch 2 Batch 2350 Loss 3.8284 Accuracy 0.3700\n",
      "Epoch 2 Batch 2400 Loss 3.8213 Accuracy 0.3708\n",
      "Epoch 2 Batch 2450 Loss 3.8142 Accuracy 0.3715\n",
      "Epoch 2 Batch 2500 Loss 3.8071 Accuracy 0.3723\n",
      "Epoch 2 Batch 2550 Loss 3.7999 Accuracy 0.3730\n",
      "Epoch 2 Batch 2600 Loss 3.7932 Accuracy 0.3737\n",
      "Epoch 2 Loss 3.7900 Accuracy 0.3741\n",
      "Time taken for 1 epoch: 1511.5254049301147 secs\n",
      "\n",
      "Epoch 3 Batch 0 Loss 3.4212 Accuracy 0.4079\n",
      "Epoch 3 Batch 50 Loss 3.4121 Accuracy 0.4161\n",
      "Epoch 3 Batch 100 Loss 3.3913 Accuracy 0.4168\n",
      "Epoch 3 Batch 150 Loss 3.3964 Accuracy 0.4157\n",
      "Epoch 3 Batch 200 Loss 3.3846 Accuracy 0.4169\n",
      "Epoch 3 Batch 250 Loss 3.3783 Accuracy 0.4172\n",
      "Epoch 3 Batch 300 Loss 3.3715 Accuracy 0.4181\n",
      "Epoch 3 Batch 350 Loss 3.3605 Accuracy 0.4194\n",
      "Epoch 3 Batch 400 Loss 3.3544 Accuracy 0.4200\n",
      "Epoch 3 Batch 450 Loss 3.3470 Accuracy 0.4209\n",
      "Epoch 3 Batch 500 Loss 3.3416 Accuracy 0.4216\n",
      "Epoch 3 Batch 550 Loss 3.3376 Accuracy 0.4221\n",
      "Epoch 3 Batch 600 Loss 3.3329 Accuracy 0.4228\n",
      "Epoch 3 Batch 650 Loss 3.3271 Accuracy 0.4235\n",
      "Epoch 3 Batch 700 Loss 3.3217 Accuracy 0.4243\n",
      "Epoch 3 Batch 750 Loss 3.3185 Accuracy 0.4247\n",
      "Epoch 3 Batch 800 Loss 3.3117 Accuracy 0.4253\n",
      "Epoch 3 Batch 850 Loss 3.3067 Accuracy 0.4259\n",
      "Epoch 3 Batch 900 Loss 3.3003 Accuracy 0.4268\n",
      "Epoch 3 Batch 950 Loss 3.2944 Accuracy 0.4272\n",
      "Epoch 3 Batch 1000 Loss 3.2887 Accuracy 0.4279\n",
      "Epoch 3 Batch 1050 Loss 3.2835 Accuracy 0.4284\n",
      "Epoch 3 Batch 1100 Loss 3.2779 Accuracy 0.4290\n",
      "Epoch 3 Batch 1150 Loss 3.2721 Accuracy 0.4296\n",
      "Epoch 3 Batch 1200 Loss 3.2670 Accuracy 0.4301\n",
      "Epoch 3 Batch 1250 Loss 3.2608 Accuracy 0.4308\n",
      "Epoch 3 Batch 1300 Loss 3.2561 Accuracy 0.4313\n",
      "Epoch 3 Batch 1350 Loss 3.2508 Accuracy 0.4319\n",
      "Epoch 3 Batch 1400 Loss 3.2466 Accuracy 0.4325\n",
      "Epoch 3 Batch 1450 Loss 3.2414 Accuracy 0.4331\n",
      "Epoch 3 Batch 1500 Loss 3.2365 Accuracy 0.4337\n",
      "Epoch 3 Batch 1550 Loss 3.2318 Accuracy 0.4342\n",
      "Epoch 3 Batch 1600 Loss 3.2278 Accuracy 0.4347\n",
      "Epoch 3 Batch 1650 Loss 3.2234 Accuracy 0.4352\n",
      "Epoch 3 Batch 1700 Loss 3.2188 Accuracy 0.4357\n",
      "Epoch 3 Batch 1750 Loss 3.2146 Accuracy 0.4363\n",
      "Epoch 3 Batch 1800 Loss 3.2107 Accuracy 0.4367\n",
      "Epoch 3 Batch 1850 Loss 3.2064 Accuracy 0.4372\n",
      "Epoch 3 Batch 1900 Loss 3.2024 Accuracy 0.4376\n",
      "Epoch 3 Batch 1950 Loss 3.1978 Accuracy 0.4383\n",
      "Epoch 3 Batch 2000 Loss 3.1933 Accuracy 0.4388\n",
      "Epoch 3 Batch 2050 Loss 3.1892 Accuracy 0.4393\n",
      "Epoch 3 Batch 2100 Loss 3.1847 Accuracy 0.4397\n",
      "Epoch 3 Batch 2150 Loss 3.1812 Accuracy 0.4402\n",
      "Epoch 3 Batch 2200 Loss 3.1773 Accuracy 0.4406\n",
      "Epoch 3 Batch 2250 Loss 3.1735 Accuracy 0.4410\n",
      "Epoch 3 Batch 2300 Loss 3.1696 Accuracy 0.4415\n",
      "Epoch 3 Batch 2350 Loss 3.1655 Accuracy 0.4420\n",
      "Epoch 3 Batch 2400 Loss 3.1618 Accuracy 0.4424\n",
      "Epoch 3 Batch 2450 Loss 3.1577 Accuracy 0.4429\n",
      "Epoch 3 Batch 2500 Loss 3.1540 Accuracy 0.4434\n",
      "Epoch 3 Batch 2550 Loss 3.1504 Accuracy 0.4438\n",
      "Epoch 3 Batch 2600 Loss 3.1460 Accuracy 0.4443\n",
      "Epoch 3 Loss 3.1442 Accuracy 0.4445\n",
      "Time taken for 1 epoch: 1470.6955189704895 secs\n",
      "\n",
      "Epoch 4 Batch 0 Loss 2.8799 Accuracy 0.4824\n",
      "Epoch 4 Batch 50 Loss 2.9303 Accuracy 0.4694\n",
      "Epoch 4 Batch 100 Loss 2.9143 Accuracy 0.4707\n",
      "Epoch 4 Batch 150 Loss 2.9030 Accuracy 0.4719\n",
      "Epoch 4 Batch 200 Loss 2.9047 Accuracy 0.4720\n",
      "Epoch 4 Batch 250 Loss 2.9063 Accuracy 0.4715\n",
      "Epoch 4 Batch 300 Loss 2.9074 Accuracy 0.4712\n",
      "Epoch 4 Batch 350 Loss 2.9057 Accuracy 0.4714\n",
      "Epoch 4 Batch 400 Loss 2.9000 Accuracy 0.4721\n",
      "Epoch 4 Batch 450 Loss 2.8978 Accuracy 0.4723\n",
      "Epoch 4 Batch 500 Loss 2.8968 Accuracy 0.4723\n",
      "Epoch 4 Batch 550 Loss 2.8959 Accuracy 0.4723\n",
      "Epoch 4 Batch 600 Loss 2.8919 Accuracy 0.4727\n",
      "Epoch 4 Batch 650 Loss 2.8890 Accuracy 0.4730\n",
      "Epoch 4 Batch 700 Loss 2.8862 Accuracy 0.4733\n",
      "Epoch 4 Batch 750 Loss 2.8828 Accuracy 0.4738\n",
      "Epoch 4 Batch 800 Loss 2.8799 Accuracy 0.4742\n",
      "Epoch 4 Batch 850 Loss 2.8768 Accuracy 0.4746\n",
      "Epoch 4 Batch 900 Loss 2.8750 Accuracy 0.4748\n",
      "Epoch 4 Batch 950 Loss 2.8715 Accuracy 0.4753\n",
      "Epoch 4 Batch 1000 Loss 2.8687 Accuracy 0.4758\n",
      "Epoch 4 Batch 1050 Loss 2.8656 Accuracy 0.4761\n",
      "Epoch 4 Batch 1100 Loss 2.8625 Accuracy 0.4764\n",
      "Epoch 4 Batch 1150 Loss 2.8602 Accuracy 0.4768\n",
      "Epoch 4 Batch 1200 Loss 2.8570 Accuracy 0.4772\n",
      "Epoch 4 Batch 1250 Loss 2.8550 Accuracy 0.4774\n",
      "Epoch 4 Batch 1300 Loss 2.8523 Accuracy 0.4777\n",
      "Epoch 4 Batch 1350 Loss 2.8492 Accuracy 0.4780\n",
      "Epoch 4 Batch 1400 Loss 2.8476 Accuracy 0.4782\n",
      "Epoch 4 Batch 1450 Loss 2.8451 Accuracy 0.4786\n",
      "Epoch 4 Batch 1500 Loss 2.8436 Accuracy 0.4787\n",
      "Epoch 4 Batch 1550 Loss 2.8401 Accuracy 0.4791\n",
      "Epoch 4 Batch 1600 Loss 2.8375 Accuracy 0.4795\n",
      "Epoch 4 Batch 1650 Loss 2.8354 Accuracy 0.4798\n",
      "Epoch 4 Batch 1700 Loss 2.8342 Accuracy 0.4799\n",
      "Epoch 4 Batch 1750 Loss 2.8318 Accuracy 0.4803\n",
      "Epoch 4 Batch 1800 Loss 2.8301 Accuracy 0.4805\n",
      "Epoch 4 Batch 1850 Loss 2.8280 Accuracy 0.4807\n",
      "Epoch 4 Batch 1900 Loss 2.8261 Accuracy 0.4809\n",
      "Epoch 4 Batch 1950 Loss 2.8246 Accuracy 0.4811\n",
      "Epoch 4 Batch 2000 Loss 2.8223 Accuracy 0.4814\n",
      "Epoch 4 Batch 2050 Loss 2.8205 Accuracy 0.4816\n",
      "Epoch 4 Batch 2100 Loss 2.8182 Accuracy 0.4819\n",
      "Epoch 4 Batch 2150 Loss 2.8164 Accuracy 0.4821\n",
      "Epoch 4 Batch 2200 Loss 2.8146 Accuracy 0.4823\n",
      "Epoch 4 Batch 2250 Loss 2.8132 Accuracy 0.4825\n",
      "Epoch 4 Batch 2300 Loss 2.8112 Accuracy 0.4827\n",
      "Epoch 4 Batch 2350 Loss 2.8090 Accuracy 0.4830\n",
      "Epoch 4 Batch 2400 Loss 2.8069 Accuracy 0.4833\n",
      "Epoch 4 Batch 2450 Loss 2.8049 Accuracy 0.4835\n",
      "Epoch 4 Batch 2500 Loss 2.8027 Accuracy 0.4838\n",
      "Epoch 4 Batch 2550 Loss 2.8017 Accuracy 0.4838\n",
      "Epoch 4 Batch 2600 Loss 2.8003 Accuracy 0.4840\n",
      "Epoch 4 Loss 2.7995 Accuracy 0.4841\n",
      "Time taken for 1 epoch: 1479.7809991836548 secs\n",
      "\n",
      "Epoch 5 Batch 0 Loss 2.5356 Accuracy 0.5238\n",
      "Epoch 5 Batch 50 Loss 2.6782 Accuracy 0.4972\n",
      "Epoch 5 Batch 100 Loss 2.6671 Accuracy 0.4982\n",
      "Epoch 5 Batch 150 Loss 2.6707 Accuracy 0.4980\n",
      "Epoch 5 Batch 200 Loss 2.6656 Accuracy 0.4988\n",
      "Epoch 5 Batch 250 Loss 2.6698 Accuracy 0.4986\n",
      "Epoch 5 Batch 300 Loss 2.6704 Accuracy 0.4984\n",
      "Epoch 5 Batch 350 Loss 2.6682 Accuracy 0.4987\n",
      "Epoch 5 Batch 400 Loss 2.6659 Accuracy 0.4991\n",
      "Epoch 5 Batch 450 Loss 2.6660 Accuracy 0.4992\n",
      "Epoch 5 Batch 500 Loss 2.6660 Accuracy 0.4991\n",
      "Epoch 5 Batch 550 Loss 2.6671 Accuracy 0.4991\n",
      "Epoch 5 Batch 600 Loss 2.6635 Accuracy 0.4996\n",
      "Epoch 5 Batch 650 Loss 2.6613 Accuracy 0.5000\n",
      "Epoch 5 Batch 700 Loss 2.6601 Accuracy 0.5001\n",
      "Epoch 5 Batch 750 Loss 2.6577 Accuracy 0.5005\n",
      "Epoch 5 Batch 800 Loss 2.6557 Accuracy 0.5008\n",
      "Epoch 5 Batch 850 Loss 2.6547 Accuracy 0.5010\n",
      "Epoch 5 Batch 900 Loss 2.6536 Accuracy 0.5012\n",
      "Epoch 5 Batch 950 Loss 2.6543 Accuracy 0.5012\n",
      "Epoch 5 Batch 1000 Loss 2.6534 Accuracy 0.5013\n",
      "Epoch 5 Batch 1050 Loss 2.6514 Accuracy 0.5016\n",
      "Epoch 5 Batch 1100 Loss 2.6504 Accuracy 0.5018\n",
      "Epoch 5 Batch 1150 Loss 2.6502 Accuracy 0.5018\n",
      "Epoch 5 Batch 1200 Loss 2.6484 Accuracy 0.5020\n",
      "Epoch 5 Batch 1250 Loss 2.6458 Accuracy 0.5024\n",
      "Epoch 5 Batch 1300 Loss 2.6436 Accuracy 0.5027\n",
      "Epoch 5 Batch 1350 Loss 2.6422 Accuracy 0.5028\n",
      "Epoch 5 Batch 1400 Loss 2.6407 Accuracy 0.5030\n",
      "Epoch 5 Batch 1450 Loss 2.6386 Accuracy 0.5031\n",
      "Epoch 5 Batch 1500 Loss 2.6366 Accuracy 0.5035\n",
      "Epoch 5 Batch 1550 Loss 2.6348 Accuracy 0.5037\n",
      "Epoch 5 Batch 1600 Loss 2.6332 Accuracy 0.5040\n",
      "Epoch 5 Batch 1650 Loss 2.6321 Accuracy 0.5042\n",
      "Epoch 5 Batch 1700 Loss 2.6314 Accuracy 0.5043\n",
      "Epoch 5 Batch 1750 Loss 2.6300 Accuracy 0.5043\n",
      "Epoch 5 Batch 1800 Loss 2.6290 Accuracy 0.5045\n",
      "Epoch 5 Batch 1850 Loss 2.6283 Accuracy 0.5046\n",
      "Epoch 5 Batch 1900 Loss 2.6272 Accuracy 0.5047\n",
      "Epoch 5 Batch 1950 Loss 2.6252 Accuracy 0.5049\n",
      "Epoch 5 Batch 2000 Loss 2.6242 Accuracy 0.5051\n",
      "Epoch 5 Batch 2050 Loss 2.6231 Accuracy 0.5053\n",
      "Epoch 5 Batch 2100 Loss 2.6222 Accuracy 0.5054\n",
      "Epoch 5 Batch 2150 Loss 2.6208 Accuracy 0.5057\n",
      "Epoch 5 Batch 2200 Loss 2.6199 Accuracy 0.5058\n",
      "Epoch 5 Batch 2250 Loss 2.6188 Accuracy 0.5059\n",
      "Epoch 5 Batch 2300 Loss 2.6177 Accuracy 0.5061\n",
      "Epoch 5 Batch 2350 Loss 2.6171 Accuracy 0.5061\n",
      "Epoch 5 Batch 2400 Loss 2.6161 Accuracy 0.5062\n",
      "Epoch 5 Batch 2450 Loss 2.6152 Accuracy 0.5063\n",
      "Epoch 5 Batch 2500 Loss 2.6137 Accuracy 0.5065\n",
      "Epoch 5 Batch 2550 Loss 2.6130 Accuracy 0.5066\n",
      "Epoch 5 Batch 2600 Loss 2.6118 Accuracy 0.5067\n",
      "Saving checkpoint for epoch 5 at ./checkpoints/train\\ckpt-1\n",
      "Epoch 5 Loss 2.6113 Accuracy 0.5067\n",
      "Time taken for 1 epoch: 1429.934728384018 secs\n",
      "\n",
      "Epoch 6 Batch 0 Loss 2.4363 Accuracy 0.5398\n",
      "Epoch 6 Batch 50 Loss 2.5493 Accuracy 0.5119\n",
      "Epoch 6 Batch 100 Loss 2.5363 Accuracy 0.5154\n",
      "Epoch 6 Batch 150 Loss 2.5263 Accuracy 0.5163\n",
      "Epoch 6 Batch 200 Loss 2.5147 Accuracy 0.5177\n",
      "Epoch 6 Batch 250 Loss 2.5181 Accuracy 0.5172\n",
      "Epoch 6 Batch 300 Loss 2.5204 Accuracy 0.5171\n",
      "Epoch 6 Batch 350 Loss 2.5167 Accuracy 0.5177\n",
      "Epoch 6 Batch 400 Loss 2.5202 Accuracy 0.5172\n",
      "Epoch 6 Batch 450 Loss 2.5193 Accuracy 0.5177\n",
      "Epoch 6 Batch 500 Loss 2.5186 Accuracy 0.5177\n",
      "Epoch 6 Batch 550 Loss 2.5167 Accuracy 0.5178\n",
      "Epoch 6 Batch 600 Loss 2.5168 Accuracy 0.5177\n",
      "Epoch 6 Batch 650 Loss 2.5176 Accuracy 0.5177\n",
      "Epoch 6 Batch 700 Loss 2.5167 Accuracy 0.5177\n",
      "Epoch 6 Batch 750 Loss 2.5157 Accuracy 0.5177\n",
      "Epoch 6 Batch 800 Loss 2.5146 Accuracy 0.5180\n",
      "Epoch 6 Batch 850 Loss 2.5141 Accuracy 0.5182\n",
      "Epoch 6 Batch 900 Loss 2.5122 Accuracy 0.5185\n",
      "Epoch 6 Batch 950 Loss 2.5116 Accuracy 0.5187\n",
      "Epoch 6 Batch 1000 Loss 2.5108 Accuracy 0.5188\n",
      "Epoch 6 Batch 1050 Loss 2.5108 Accuracy 0.5187\n",
      "Epoch 6 Batch 1100 Loss 2.5088 Accuracy 0.5190\n",
      "Epoch 6 Batch 1150 Loss 2.5083 Accuracy 0.5191\n",
      "Epoch 6 Batch 1200 Loss 2.5072 Accuracy 0.5192\n",
      "Epoch 6 Batch 1250 Loss 2.5060 Accuracy 0.5193\n",
      "Epoch 6 Batch 1300 Loss 2.5052 Accuracy 0.5195\n",
      "Epoch 6 Batch 1350 Loss 2.5050 Accuracy 0.5196\n",
      "Epoch 6 Batch 1400 Loss 2.5045 Accuracy 0.5197\n",
      "Epoch 6 Batch 1450 Loss 2.5037 Accuracy 0.5199\n",
      "Epoch 6 Batch 1500 Loss 2.5031 Accuracy 0.5200\n",
      "Epoch 6 Batch 1550 Loss 2.5028 Accuracy 0.5201\n",
      "Epoch 6 Batch 1600 Loss 2.5026 Accuracy 0.5202\n",
      "Epoch 6 Batch 1650 Loss 2.5020 Accuracy 0.5203\n",
      "Epoch 6 Batch 1700 Loss 2.5018 Accuracy 0.5203\n",
      "Epoch 6 Batch 1750 Loss 2.5015 Accuracy 0.5204\n",
      "Epoch 6 Batch 1800 Loss 2.5007 Accuracy 0.5205\n",
      "Epoch 6 Batch 1850 Loss 2.5001 Accuracy 0.5207\n",
      "Epoch 6 Batch 1900 Loss 2.4983 Accuracy 0.5209\n",
      "Epoch 6 Batch 1950 Loss 2.4973 Accuracy 0.5210\n",
      "Epoch 6 Batch 2000 Loss 2.4964 Accuracy 0.5211\n",
      "Epoch 6 Batch 2050 Loss 2.4956 Accuracy 0.5212\n",
      "Epoch 6 Batch 2100 Loss 2.4948 Accuracy 0.5213\n",
      "Epoch 6 Batch 2150 Loss 2.4943 Accuracy 0.5214\n",
      "Epoch 6 Batch 2200 Loss 2.4934 Accuracy 0.5215\n",
      "Epoch 6 Batch 2250 Loss 2.4928 Accuracy 0.5215\n",
      "Epoch 6 Batch 2300 Loss 2.4922 Accuracy 0.5216\n",
      "Epoch 6 Batch 2350 Loss 2.4913 Accuracy 0.5217\n",
      "Epoch 6 Batch 2400 Loss 2.4910 Accuracy 0.5217\n",
      "Epoch 6 Batch 2450 Loss 2.4903 Accuracy 0.5218\n",
      "Epoch 6 Batch 2500 Loss 2.4891 Accuracy 0.5219\n",
      "Epoch 6 Batch 2550 Loss 2.4884 Accuracy 0.5220\n",
      "Epoch 6 Batch 2600 Loss 2.4878 Accuracy 0.5221\n",
      "Epoch 6 Loss 2.4876 Accuracy 0.5221\n",
      "Time taken for 1 epoch: 1416.821959733963 secs\n",
      "\n",
      "Epoch 7 Batch 0 Loss 2.3510 Accuracy 0.5437\n",
      "Epoch 7 Batch 50 Loss 2.3813 Accuracy 0.5364\n",
      "Epoch 7 Batch 100 Loss 2.3959 Accuracy 0.5339\n",
      "Epoch 7 Batch 150 Loss 2.4099 Accuracy 0.5319\n",
      "Epoch 7 Batch 200 Loss 2.4120 Accuracy 0.5317\n",
      "Epoch 7 Batch 250 Loss 2.4140 Accuracy 0.5309\n",
      "Epoch 7 Batch 300 Loss 2.4151 Accuracy 0.5306\n",
      "Epoch 7 Batch 350 Loss 2.4122 Accuracy 0.5309\n",
      "Epoch 7 Batch 400 Loss 2.4119 Accuracy 0.5311\n",
      "Epoch 7 Batch 450 Loss 2.4124 Accuracy 0.5310\n",
      "Epoch 7 Batch 500 Loss 2.4143 Accuracy 0.5311\n",
      "Epoch 7 Batch 550 Loss 2.4107 Accuracy 0.5316\n",
      "Epoch 7 Batch 600 Loss 2.4124 Accuracy 0.5312\n",
      "Epoch 7 Batch 650 Loss 2.4126 Accuracy 0.5314\n",
      "Epoch 7 Batch 700 Loss 2.4140 Accuracy 0.5312\n",
      "Epoch 7 Batch 750 Loss 2.4151 Accuracy 0.5308\n",
      "Epoch 7 Batch 800 Loss 2.4143 Accuracy 0.5308\n",
      "Epoch 7 Batch 850 Loss 2.4136 Accuracy 0.5309\n",
      "Epoch 7 Batch 900 Loss 2.4125 Accuracy 0.5310\n",
      "Epoch 7 Batch 950 Loss 2.4115 Accuracy 0.5312\n",
      "Epoch 7 Batch 1000 Loss 2.4125 Accuracy 0.5310\n",
      "Epoch 7 Batch 1050 Loss 2.4115 Accuracy 0.5313\n",
      "Epoch 7 Batch 1100 Loss 2.4117 Accuracy 0.5313\n",
      "Epoch 7 Batch 1150 Loss 2.4114 Accuracy 0.5314\n",
      "Epoch 7 Batch 1200 Loss 2.4114 Accuracy 0.5314\n",
      "Epoch 7 Batch 1250 Loss 2.4104 Accuracy 0.5316\n",
      "Epoch 7 Batch 1300 Loss 2.4089 Accuracy 0.5319\n",
      "Epoch 7 Batch 1350 Loss 2.4083 Accuracy 0.5319\n",
      "Epoch 7 Batch 1400 Loss 2.4071 Accuracy 0.5321\n",
      "Epoch 7 Batch 1450 Loss 2.4062 Accuracy 0.5323\n",
      "Epoch 7 Batch 1500 Loss 2.4067 Accuracy 0.5323\n",
      "Epoch 7 Batch 1550 Loss 2.4056 Accuracy 0.5324\n",
      "Epoch 7 Batch 1600 Loss 2.4053 Accuracy 0.5323\n",
      "Epoch 7 Batch 1650 Loss 2.4043 Accuracy 0.5325\n",
      "Epoch 7 Batch 1700 Loss 2.4038 Accuracy 0.5326\n",
      "Epoch 7 Batch 1750 Loss 2.4037 Accuracy 0.5326\n",
      "Epoch 7 Batch 1800 Loss 2.4030 Accuracy 0.5326\n",
      "Epoch 7 Batch 1850 Loss 2.4031 Accuracy 0.5326\n",
      "Epoch 7 Batch 1900 Loss 2.4029 Accuracy 0.5327\n",
      "Epoch 7 Batch 1950 Loss 2.4024 Accuracy 0.5328\n",
      "Epoch 7 Batch 2000 Loss 2.4019 Accuracy 0.5329\n",
      "Epoch 7 Batch 2050 Loss 2.4013 Accuracy 0.5330\n",
      "Epoch 7 Batch 2100 Loss 2.4010 Accuracy 0.5331\n",
      "Epoch 7 Batch 2150 Loss 2.4007 Accuracy 0.5331\n",
      "Epoch 7 Batch 2200 Loss 2.4003 Accuracy 0.5332\n",
      "Epoch 7 Batch 2250 Loss 2.4003 Accuracy 0.5332\n",
      "Epoch 7 Batch 2300 Loss 2.4001 Accuracy 0.5332\n",
      "Epoch 7 Batch 2350 Loss 2.3995 Accuracy 0.5333\n",
      "Epoch 7 Batch 2400 Loss 2.3993 Accuracy 0.5333\n",
      "Epoch 7 Batch 2450 Loss 2.3983 Accuracy 0.5334\n",
      "Epoch 7 Batch 2500 Loss 2.3977 Accuracy 0.5335\n",
      "Epoch 7 Batch 2550 Loss 2.3973 Accuracy 0.5336\n",
      "Epoch 7 Batch 2600 Loss 2.3967 Accuracy 0.5336\n",
      "Epoch 7 Loss 2.3969 Accuracy 0.5336\n",
      "Time taken for 1 epoch: 1411.6390166282654 secs\n",
      "\n",
      "Epoch 8 Batch 0 Loss 2.3034 Accuracy 0.5441\n",
      "Epoch 8 Batch 50 Loss 2.3477 Accuracy 0.5374\n",
      "Epoch 8 Batch 100 Loss 2.3473 Accuracy 0.5387\n",
      "Epoch 8 Batch 150 Loss 2.3431 Accuracy 0.5401\n",
      "Epoch 8 Batch 200 Loss 2.3398 Accuracy 0.5411\n",
      "Epoch 8 Batch 250 Loss 2.3388 Accuracy 0.5408\n",
      "Epoch 8 Batch 300 Loss 2.3410 Accuracy 0.5405\n",
      "Epoch 8 Batch 350 Loss 2.3414 Accuracy 0.5403\n",
      "Epoch 8 Batch 400 Loss 2.3406 Accuracy 0.5407\n",
      "Epoch 8 Batch 450 Loss 2.3392 Accuracy 0.5409\n",
      "Epoch 8 Batch 500 Loss 2.3395 Accuracy 0.5408\n",
      "Epoch 8 Batch 550 Loss 2.3418 Accuracy 0.5407\n",
      "Epoch 8 Batch 600 Loss 2.3423 Accuracy 0.5407\n",
      "Epoch 8 Batch 650 Loss 2.3418 Accuracy 0.5408\n",
      "Epoch 8 Batch 700 Loss 2.3406 Accuracy 0.5410\n",
      "Epoch 8 Batch 750 Loss 2.3408 Accuracy 0.5410\n",
      "Epoch 8 Batch 800 Loss 2.3394 Accuracy 0.5413\n",
      "Epoch 8 Batch 850 Loss 2.3390 Accuracy 0.5414\n",
      "Epoch 8 Batch 900 Loss 2.3383 Accuracy 0.5415\n",
      "Epoch 8 Batch 950 Loss 2.3379 Accuracy 0.5415\n",
      "Epoch 8 Batch 1000 Loss 2.3367 Accuracy 0.5416\n",
      "Epoch 8 Batch 1050 Loss 2.3368 Accuracy 0.5417\n",
      "Epoch 8 Batch 1100 Loss 2.3350 Accuracy 0.5419\n",
      "Epoch 8 Batch 1150 Loss 2.3363 Accuracy 0.5417\n",
      "Epoch 8 Batch 1200 Loss 2.3369 Accuracy 0.5417\n",
      "Epoch 8 Batch 1250 Loss 2.3365 Accuracy 0.5417\n",
      "Epoch 8 Batch 1300 Loss 2.3362 Accuracy 0.5418\n",
      "Epoch 8 Batch 1350 Loss 2.3357 Accuracy 0.5418\n",
      "Epoch 8 Batch 1400 Loss 2.3349 Accuracy 0.5419\n",
      "Epoch 8 Batch 1450 Loss 2.3348 Accuracy 0.5419\n",
      "Epoch 8 Batch 1500 Loss 2.3336 Accuracy 0.5421\n",
      "Epoch 8 Batch 1550 Loss 2.3337 Accuracy 0.5421\n",
      "Epoch 8 Batch 1600 Loss 2.3334 Accuracy 0.5420\n",
      "Epoch 8 Batch 1650 Loss 2.3329 Accuracy 0.5421\n",
      "Epoch 8 Batch 1700 Loss 2.3324 Accuracy 0.5422\n",
      "Epoch 8 Batch 1750 Loss 2.3324 Accuracy 0.5422\n",
      "Epoch 8 Batch 1800 Loss 2.3322 Accuracy 0.5422\n",
      "Epoch 8 Batch 1850 Loss 2.3328 Accuracy 0.5421\n",
      "Epoch 8 Batch 1900 Loss 2.3333 Accuracy 0.5421\n",
      "Epoch 8 Batch 1950 Loss 2.3334 Accuracy 0.5421\n",
      "Epoch 8 Batch 2000 Loss 2.3332 Accuracy 0.5422\n",
      "Epoch 8 Batch 2050 Loss 2.3323 Accuracy 0.5424\n",
      "Epoch 8 Batch 2100 Loss 2.3313 Accuracy 0.5425\n",
      "Epoch 8 Batch 2150 Loss 2.3315 Accuracy 0.5424\n",
      "Epoch 8 Batch 2200 Loss 2.3308 Accuracy 0.5425\n",
      "Epoch 8 Batch 2250 Loss 2.3299 Accuracy 0.5427\n",
      "Epoch 8 Batch 2300 Loss 2.3292 Accuracy 0.5428\n",
      "Epoch 8 Batch 2350 Loss 2.3288 Accuracy 0.5428\n",
      "Epoch 8 Batch 2400 Loss 2.3281 Accuracy 0.5429\n",
      "Epoch 8 Batch 2450 Loss 2.3282 Accuracy 0.5429\n",
      "Epoch 8 Batch 2500 Loss 2.3281 Accuracy 0.5429\n",
      "Epoch 8 Batch 2550 Loss 2.3281 Accuracy 0.5429\n",
      "Epoch 8 Batch 2600 Loss 2.3281 Accuracy 0.5429\n",
      "Epoch 8 Loss 2.3283 Accuracy 0.5429\n",
      "Time taken for 1 epoch: 1407.2549829483032 secs\n",
      "\n",
      "Epoch 9 Batch 0 Loss 2.1772 Accuracy 0.5694\n",
      "Epoch 9 Batch 50 Loss 2.2787 Accuracy 0.5478\n",
      "Epoch 9 Batch 100 Loss 2.2856 Accuracy 0.5472\n",
      "Epoch 9 Batch 150 Loss 2.2831 Accuracy 0.5476\n",
      "Epoch 9 Batch 200 Loss 2.2747 Accuracy 0.5487\n",
      "Epoch 9 Batch 250 Loss 2.2698 Accuracy 0.5495\n",
      "Epoch 9 Batch 300 Loss 2.2793 Accuracy 0.5486\n",
      "Epoch 9 Batch 350 Loss 2.2804 Accuracy 0.5481\n",
      "Epoch 9 Batch 400 Loss 2.2832 Accuracy 0.5477\n",
      "Epoch 9 Batch 450 Loss 2.2818 Accuracy 0.5478\n",
      "Epoch 9 Batch 500 Loss 2.2817 Accuracy 0.5477\n",
      "Epoch 9 Batch 550 Loss 2.2815 Accuracy 0.5477\n",
      "Epoch 9 Batch 600 Loss 2.2805 Accuracy 0.5481\n",
      "Epoch 9 Batch 650 Loss 2.2800 Accuracy 0.5483\n",
      "Epoch 9 Batch 700 Loss 2.2802 Accuracy 0.5482\n",
      "Epoch 9 Batch 750 Loss 2.2803 Accuracy 0.5483\n",
      "Epoch 9 Batch 800 Loss 2.2797 Accuracy 0.5484\n",
      "Epoch 9 Batch 850 Loss 2.2809 Accuracy 0.5483\n",
      "Epoch 9 Batch 900 Loss 2.2820 Accuracy 0.5482\n",
      "Epoch 9 Batch 950 Loss 2.2826 Accuracy 0.5481\n",
      "Epoch 9 Batch 1000 Loss 2.2806 Accuracy 0.5485\n",
      "Epoch 9 Batch 1050 Loss 2.2802 Accuracy 0.5487\n",
      "Epoch 9 Batch 1100 Loss 2.2806 Accuracy 0.5486\n",
      "Epoch 9 Batch 1150 Loss 2.2804 Accuracy 0.5486\n",
      "Epoch 9 Batch 1200 Loss 2.2806 Accuracy 0.5485\n",
      "Epoch 9 Batch 1250 Loss 2.2804 Accuracy 0.5487\n",
      "Epoch 9 Batch 1300 Loss 2.2789 Accuracy 0.5488\n",
      "Epoch 9 Batch 1350 Loss 2.2785 Accuracy 0.5488\n",
      "Epoch 9 Batch 1400 Loss 2.2774 Accuracy 0.5490\n",
      "Epoch 9 Batch 1450 Loss 2.2775 Accuracy 0.5491\n",
      "Epoch 9 Batch 1500 Loss 2.2764 Accuracy 0.5493\n",
      "Epoch 9 Batch 1550 Loss 2.2760 Accuracy 0.5493\n",
      "Epoch 9 Batch 1600 Loss 2.2762 Accuracy 0.5493\n",
      "Epoch 9 Batch 1650 Loss 2.2759 Accuracy 0.5494\n",
      "Epoch 9 Batch 1700 Loss 2.2762 Accuracy 0.5494\n",
      "Epoch 9 Batch 1750 Loss 2.2754 Accuracy 0.5496\n",
      "Epoch 9 Batch 1800 Loss 2.2752 Accuracy 0.5496\n",
      "Epoch 9 Batch 1850 Loss 2.2752 Accuracy 0.5496\n",
      "Epoch 9 Batch 1900 Loss 2.2761 Accuracy 0.5495\n",
      "Epoch 9 Batch 1950 Loss 2.2751 Accuracy 0.5496\n",
      "Epoch 9 Batch 2000 Loss 2.2738 Accuracy 0.5498\n",
      "Epoch 9 Batch 2050 Loss 2.2740 Accuracy 0.5498\n",
      "Epoch 9 Batch 2100 Loss 2.2739 Accuracy 0.5498\n",
      "Epoch 9 Batch 2150 Loss 2.2733 Accuracy 0.5499\n",
      "Epoch 9 Batch 2200 Loss 2.2731 Accuracy 0.5499\n",
      "Epoch 9 Batch 2250 Loss 2.2732 Accuracy 0.5499\n",
      "Epoch 9 Batch 2300 Loss 2.2727 Accuracy 0.5500\n",
      "Epoch 9 Batch 2350 Loss 2.2725 Accuracy 0.5501\n",
      "Epoch 9 Batch 2400 Loss 2.2727 Accuracy 0.5501\n",
      "Epoch 9 Batch 2450 Loss 2.2725 Accuracy 0.5501\n",
      "Epoch 9 Batch 2500 Loss 2.2724 Accuracy 0.5501\n",
      "Epoch 9 Batch 2550 Loss 2.2725 Accuracy 0.5501\n",
      "Epoch 9 Batch 2600 Loss 2.2724 Accuracy 0.5501\n",
      "Epoch 9 Loss 2.2723 Accuracy 0.5502\n",
      "Time taken for 1 epoch: 1407.4670009613037 secs\n",
      "\n",
      "Epoch 10 Batch 0 Loss 2.1444 Accuracy 0.5678\n",
      "Epoch 10 Batch 50 Loss 2.2358 Accuracy 0.5534\n",
      "Epoch 10 Batch 100 Loss 2.2230 Accuracy 0.5538\n",
      "Epoch 10 Batch 150 Loss 2.2205 Accuracy 0.5545\n",
      "Epoch 10 Batch 200 Loss 2.2220 Accuracy 0.5546\n",
      "Epoch 10 Batch 250 Loss 2.2307 Accuracy 0.5544\n",
      "Epoch 10 Batch 300 Loss 2.2292 Accuracy 0.5546\n",
      "Epoch 10 Batch 350 Loss 2.2260 Accuracy 0.5556\n",
      "Epoch 10 Batch 400 Loss 2.2286 Accuracy 0.5550\n",
      "Epoch 10 Batch 450 Loss 2.2306 Accuracy 0.5549\n",
      "Epoch 10 Batch 500 Loss 2.2314 Accuracy 0.5547\n",
      "Epoch 10 Batch 550 Loss 2.2325 Accuracy 0.5546\n",
      "Epoch 10 Batch 600 Loss 2.2338 Accuracy 0.5546\n",
      "Epoch 10 Batch 650 Loss 2.2342 Accuracy 0.5546\n",
      "Epoch 10 Batch 700 Loss 2.2355 Accuracy 0.5544\n",
      "Epoch 10 Batch 750 Loss 2.2331 Accuracy 0.5546\n",
      "Epoch 10 Batch 800 Loss 2.2331 Accuracy 0.5547\n",
      "Epoch 10 Batch 850 Loss 2.2345 Accuracy 0.5546\n",
      "Epoch 10 Batch 900 Loss 2.2337 Accuracy 0.5548\n",
      "Epoch 10 Batch 950 Loss 2.2335 Accuracy 0.5550\n",
      "Epoch 10 Batch 1000 Loss 2.2329 Accuracy 0.5550\n",
      "Epoch 10 Batch 1050 Loss 2.2328 Accuracy 0.5552\n",
      "Epoch 10 Batch 1100 Loss 2.2329 Accuracy 0.5550\n",
      "Epoch 10 Batch 1150 Loss 2.2324 Accuracy 0.5551\n",
      "Epoch 10 Batch 1200 Loss 2.2327 Accuracy 0.5550\n",
      "Epoch 10 Batch 1250 Loss 2.2318 Accuracy 0.5551\n",
      "Epoch 10 Batch 1300 Loss 2.2321 Accuracy 0.5550\n",
      "Epoch 10 Batch 1350 Loss 2.2306 Accuracy 0.5554\n",
      "Epoch 10 Batch 1400 Loss 2.2296 Accuracy 0.5555\n",
      "Epoch 10 Batch 1450 Loss 2.2300 Accuracy 0.5555\n",
      "Epoch 10 Batch 1500 Loss 2.2292 Accuracy 0.5556\n",
      "Epoch 10 Batch 1550 Loss 2.2291 Accuracy 0.5557\n",
      "Epoch 10 Batch 1600 Loss 2.2301 Accuracy 0.5556\n",
      "Epoch 10 Batch 1650 Loss 2.2299 Accuracy 0.5555\n",
      "Epoch 10 Batch 1700 Loss 2.2306 Accuracy 0.5555\n",
      "Epoch 10 Batch 1750 Loss 2.2305 Accuracy 0.5555\n",
      "Epoch 10 Batch 1800 Loss 2.2305 Accuracy 0.5555\n",
      "Epoch 10 Batch 1850 Loss 2.2304 Accuracy 0.5555\n",
      "Epoch 10 Batch 1900 Loss 2.2300 Accuracy 0.5556\n",
      "Epoch 10 Batch 1950 Loss 2.2292 Accuracy 0.5557\n",
      "Epoch 10 Batch 2000 Loss 2.2281 Accuracy 0.5559\n",
      "Epoch 10 Batch 2050 Loss 2.2283 Accuracy 0.5559\n",
      "Epoch 10 Batch 2100 Loss 2.2281 Accuracy 0.5559\n",
      "Epoch 10 Batch 2150 Loss 2.2274 Accuracy 0.5561\n",
      "Epoch 10 Batch 2200 Loss 2.2273 Accuracy 0.5561\n",
      "Epoch 10 Batch 2250 Loss 2.2270 Accuracy 0.5562\n",
      "Epoch 10 Batch 2300 Loss 2.2273 Accuracy 0.5562\n",
      "Epoch 10 Batch 2350 Loss 2.2274 Accuracy 0.5561\n",
      "Epoch 10 Batch 2400 Loss 2.2272 Accuracy 0.5561\n",
      "Epoch 10 Batch 2450 Loss 2.2274 Accuracy 0.5561\n",
      "Epoch 10 Batch 2500 Loss 2.2271 Accuracy 0.5561\n",
      "Epoch 10 Batch 2550 Loss 2.2262 Accuracy 0.5563\n",
      "Epoch 10 Batch 2600 Loss 2.2264 Accuracy 0.5563\n",
      "Saving checkpoint for epoch 10 at ./checkpoints/train\\ckpt-2\n",
      "Epoch 10 Loss 2.2263 Accuracy 0.5563\n",
      "Time taken for 1 epoch: 1443.7493207454681 secs\n",
      "\n"
     ]
    }
   ],
   "source": [
    "for epoch in range(EPOCHS):\n",
    "  start = time.time()\n",
    "\n",
    "  train_loss.reset_states()\n",
    "  train_accuracy.reset_states()\n",
    "\n",
    "  # inp -> portuguese, tar -> english\n",
    "  for (batch, (inp, tar)) in enumerate(train_dataset):\n",
    "    train_step(inp, tar)\n",
    "\n",
    "    if batch % 50 == 0:\n",
    "      print ('Epoch {} Batch {} Loss {:.4f} Accuracy {:.4f}'.format(\n",
    "          epoch + 1, batch, train_loss.result(), train_accuracy.result()))\n",
    "\n",
    "  if (epoch + 1) % 5 == 0:\n",
    "    ckpt_save_path = ckpt_manager.save()\n",
    "    print ('Saving checkpoint for epoch {} at {}'.format(epoch+1,\n",
    "                                                         ckpt_save_path))\n",
    "\n",
    "  print ('Epoch {} Loss {:.4f} Accuracy {:.4f}'.format(epoch + 1,\n",
    "                                                train_loss.result(),\n",
    "                                                train_accuracy.result()))\n",
    "\n",
    "  print ('Time taken for 1 epoch: {} secs\\n'.format(time.time() - start))"
   ],
   "metadata": {
    "collapsed": false,
    "pycharm": {
     "name": "#%%\n"
    }
   }
  },
  {
   "cell_type": "code",
   "execution_count": 71,
   "outputs": [],
   "source": [
    "def evaluate(inp_sentence):\n",
    "  start_token = [tokenizer_ru.vocab_size]\n",
    "  end_token = [tokenizer_ru.vocab_size + 1]\n",
    "\n",
    "  # inp sentence is portuguese, hence adding the start and end token\n",
    "  inp_sentence = start_token + tokenizer_ru.encode(inp_sentence) + end_token\n",
    "  encoder_input = tf.expand_dims(inp_sentence, 0)\n",
    "\n",
    "  # as the target is english, the first word to the transformer should be the\n",
    "  # english start token.\n",
    "  decoder_input = [tokenizer_en.vocab_size]\n",
    "  output = tf.expand_dims(decoder_input, 0)\n",
    "\n",
    "  for i in range(MAX_LENGTH):\n",
    "    enc_padding_mask, combined_mask, dec_padding_mask = create_masks(\n",
    "        encoder_input, output)\n",
    "\n",
    "    # predictions.shape == (batch_size, seq_len, vocab_size)\n",
    "    predictions, attention_weights = transformer(encoder_input,\n",
    "                                                 output,\n",
    "                                                 False,\n",
    "                                                 enc_padding_mask,\n",
    "                                                 combined_mask,\n",
    "                                                 dec_padding_mask)\n",
    "\n",
    "    # select the last word from the seq_len dimension\n",
    "    predictions = predictions[: ,-1:, :]  # (batch_size, 1, vocab_size)\n",
    "\n",
    "    predicted_id = tf.cast(tf.argmax(predictions, axis=-1), tf.int32)\n",
    "\n",
    "    # return the result if the predicted_id is equal to the end token\n",
    "    if predicted_id == tokenizer_en.vocab_size+1:\n",
    "      return tf.squeeze(output, axis=0), attention_weights\n",
    "\n",
    "    # concatentate the predicted_id to the output which is given to the decoder\n",
    "    # as its input.\n",
    "    output = tf.concat([output, predicted_id], axis=-1)\n",
    "\n",
    "  return tf.squeeze(output, axis=0), attention_weights"
   ],
   "metadata": {
    "collapsed": false,
    "pycharm": {
     "name": "#%%\n"
    }
   }
  },
  {
   "cell_type": "code",
   "execution_count": 72,
   "outputs": [],
   "source": [
    "def plot_attention_weights(attention, sentence, result, layer):\n",
    "  fig = plt.figure(figsize=(16, 8))\n",
    "\n",
    "  sentence = tokenizer_ru.encode(sentence)\n",
    "\n",
    "  attention = tf.squeeze(attention[layer], axis=0)\n",
    "\n",
    "  for head in range(attention.shape[0]):\n",
    "    ax = fig.add_subplot(2, 4, head+1)\n",
    "\n",
    "    # plot the attention weights\n",
    "    ax.matshow(attention[head][:-1, :], cmap='viridis')\n",
    "\n",
    "    fontdict = {'fontsize': 10}\n",
    "\n",
    "    ax.set_xticks(range(len(sentence)+2))\n",
    "    ax.set_yticks(range(len(result)))\n",
    "\n",
    "    ax.set_ylim(len(result)-1.5, -0.5)\n",
    "\n",
    "    ax.set_xticklabels(\n",
    "        ['<start>']+[tokenizer_ru.decode([i]) for i in sentence]+['<end>'],\n",
    "        fontdict=fontdict, rotation=90)\n",
    "\n",
    "    ax.set_yticklabels([tokenizer_en.decode([i]) for i in result\n",
    "                        if i < tokenizer_en.vocab_size],\n",
    "                       fontdict=fontdict)\n",
    "\n",
    "    ax.set_xlabel('Head {}'.format(head+1))\n",
    "\n",
    "  plt.tight_layout()\n",
    "  plt.show()"
   ],
   "metadata": {
    "collapsed": false,
    "pycharm": {
     "name": "#%%\n"
    }
   }
  },
  {
   "cell_type": "code",
   "execution_count": 86,
   "outputs": [
    {
     "name": "stdout",
     "output_type": "stream",
     "text": [
      "[2, 3, 4, 5]\n"
     ]
    }
   ],
   "source": [
    "x = [1, 2, 3, 4, 5]\n",
    "\n",
    "print([i for i in x[]])"
   ],
   "metadata": {
    "collapsed": false,
    "pycharm": {
     "name": "#%%\n"
    }
   }
  },
  {
   "cell_type": "code",
   "execution_count": 98,
   "outputs": [],
   "source": [
    "def translate(sentence, plot=''):\n",
    "  result, attention_weights = evaluate(sentence)\n",
    "\n",
    "  predicted_sentence = tokenizer_en.decode([i for i in result\n",
    "                                            if i < tokenizer_en.vocab_size])\n",
    "  print('Input: {}'.format(sentence))\n",
    "  print('Predicted translation: {}'.format(predicted_sentence))\n",
    "\n",
    "  if plot:\n",
    "    plot_attention_weights(attention_weights, sentence, result, plot)"
   ],
   "metadata": {
    "collapsed": false,
    "pycharm": {
     "name": "#%%\n"
    }
   }
  },
  {
   "cell_type": "code",
   "execution_count": 96,
   "outputs": [
    {
     "name": "stdout",
     "output_type": "stream",
     "text": [
      "Input: Осенним вечером шёл дождь!\n",
      "Predicted translation: the queen of the night was rained at night .\n",
      "\n"
     ]
    }
   ],
   "source": [
    "translate('Осенним вечером шёл дождь!')"
   ],
   "metadata": {
    "collapsed": false,
    "pycharm": {
     "name": "#%%\n"
    }
   }
  },
  {
   "cell_type": "code",
   "execution_count": 97,
   "outputs": [
    {
     "name": "stdout",
     "output_type": "stream",
     "text": [
      "Input: он собирается домой\n",
      "Predicted translation: he goes home .\n",
      "\n"
     ]
    }
   ],
   "source": [
    "translate('он собирается домой')"
   ],
   "metadata": {
    "collapsed": false,
    "pycharm": {
     "name": "#%%\n"
    }
   }
  },
  {
   "cell_type": "code",
   "execution_count": null,
   "outputs": [],
   "source": [],
   "metadata": {
    "collapsed": false,
    "pycharm": {
     "name": "#%%\n"
    }
   }
  }
 ],
 "metadata": {
  "kernelspec": {
   "display_name": "Python 3",
   "language": "python",
   "name": "python3"
  },
  "language_info": {
   "codemirror_mode": {
    "name": "ipython",
    "version": 2
   },
   "file_extension": ".py",
   "mimetype": "text/x-python",
   "name": "python",
   "nbconvert_exporter": "python",
   "pygments_lexer": "ipython2",
   "version": "2.7.6"
  }
 },
 "nbformat": 4,
 "nbformat_minor": 0
}