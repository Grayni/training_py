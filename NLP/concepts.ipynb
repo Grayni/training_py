{
 "cells": [
  {
   "cell_type": "code",
   "outputs": [
    {
     "name": "stdout",
     "output_type": "stream",
     "text": [
      "id\tText\n",
      "\n",
      "1\textreme weight gain, short-term memory loss, hair loss.\n",
      "\n",
      "2\tCOMPLETELY DESTROYED SEXUALLY FUNCTIONING .\n",
      "\n",
      "3\tJust TWO tablets of Lexapro 10mg completely destroyed my sexual functioning, probably for life.\n",
      "\n",
      "4\tIt's called PSSD: post-SSRI sexual dysfunction.\n"
     ]
    }
   ],
   "source": [
    "with open('data/concepts/side_effects.txt') as file:\n",
    "    documents = file.readlines()\n",
    "    \n",
    "    print(*documents[:5], sep='\\n')"
   ],
   "metadata": {
    "collapsed": false,
    "ExecuteTime": {
     "end_time": "2024-07-25T23:22:34.457228800Z",
     "start_time": "2024-07-25T23:22:34.378596800Z"
    }
   },
   "id": "bbf26fbcf8d2f07b",
   "execution_count": 296
  },
  {
   "cell_type": "code",
   "execution_count": 297,
   "id": "initial_id",
   "metadata": {
    "collapsed": true,
    "ExecuteTime": {
     "end_time": "2024-07-25T23:22:34.479165200Z",
     "start_time": "2024-07-25T23:22:34.460186500Z"
    }
   },
   "outputs": [
    {
     "name": "stdout",
     "output_type": "stream",
     "text": [
      "CUI\tCONCEPT\tSNOMED_CODE\n"
     ]
    }
   ],
   "source": [
    "cuinames = []\n",
    "concepts = []\n",
    "\n",
    "with open('data/concepts/concepts.tsv') as cuifile:\n",
    "    print(next(cuifile))\n",
    "\n",
    "    for i, line in enumerate(cuifile):\n",
    "        fields = line.split('\\t')\n",
    "        cui = fields[0].strip()\n",
    "        texts = set(f.strip().lower() for f in fields[1].split(','))\n",
    "        for t in texts:\n",
    "            cuinames.append(cui)\n",
    "            concepts.append(t.strip())"
   ]
  },
  {
   "cell_type": "code",
   "outputs": [
    {
     "name": "stdout",
     "output_type": "stream",
     "text": [
      "705 705\n",
      "C0000765 excessive body weight gain\n",
      "C0000765 excessive weight gain\n",
      "C0701811 poor short-term memory\n",
      "C0002170 loss of hair\n",
      "C0002170 alopecia\n",
      "C0549622 sexual dysfunction\n",
      "C0549622 sexual disorder\n",
      "C0027497 nausea\n"
     ]
    }
   ],
   "source": [
    "print(len(concepts), len(cuinames))\n",
    "for i, item in enumerate(concepts):\n",
    "    print(cuinames[i], item)\n",
    "    if i > 6:\n",
    "        break"
   ],
   "metadata": {
    "collapsed": false,
    "ExecuteTime": {
     "end_time": "2024-07-25T23:51:28.902183700Z",
     "start_time": "2024-07-25T23:51:28.884527100Z"
    }
   },
   "id": "fe2afb8460f21d34",
   "execution_count": 332
  },
  {
   "cell_type": "markdown",
   "source": [
    "### Level 1"
   ],
   "metadata": {
    "collapsed": false
   },
   "id": "d6bf767f19e564b5"
  },
  {
   "cell_type": "code",
   "outputs": [],
   "source": [
    "import nltk\n",
    "from string import punctuation as punct\n",
    "from nltk.stem.porter import PorterStemmer\n",
    "from nltk.corpus import stopwords\n",
    "from IPython.display import clear_output\n",
    "\n",
    "porter_stemmer = PorterStemmer()\n",
    "\n",
    "def text_preprocessing_1(sentence):\n",
    "    s = sentence.translate(sentence.maketrans(punct, ' '*len(punct)))\n",
    "    \n",
    "    toks = s.split()\n",
    "    \n",
    "    lowered = [w.lower() for w in toks]\n",
    "    stemmed = [porter_stemmer.stem(w) for w in lowered]\n",
    "    \n",
    "    return stemmed"
   ],
   "metadata": {
    "collapsed": false,
    "ExecuteTime": {
     "end_time": "2024-07-25T23:22:34.519882100Z",
     "start_time": "2024-07-25T23:22:34.495439400Z"
    }
   },
   "id": "425c62fade4424f1",
   "execution_count": 299
  },
  {
   "cell_type": "code",
   "outputs": [],
   "source": [
    "concepts_1 = [text_preprocessing_1(concept) for concept in concepts]\n",
    "sentences_1 = [text_preprocessing_1(sentence) for sentence in documents]"
   ],
   "metadata": {
    "collapsed": false,
    "ExecuteTime": {
     "end_time": "2024-07-25T23:22:34.980048600Z",
     "start_time": "2024-07-25T23:22:34.521876800Z"
    }
   },
   "id": "e13fface5664af24",
   "execution_count": 300
  },
  {
   "cell_type": "code",
   "outputs": [],
   "source": [
    "def check_concept_1(c_lst, s_lst):\n",
    "    it = iter(s_lst)\n",
    "    return all(word in it for word in c_lst)"
   ],
   "metadata": {
    "collapsed": false,
    "ExecuteTime": {
     "end_time": "2024-07-25T23:22:34.992257500Z",
     "start_time": "2024-07-25T23:22:34.982933400Z"
    }
   },
   "id": "ddc4331aa7326d79",
   "execution_count": 301
  },
  {
   "cell_type": "code",
   "outputs": [],
   "source": [
    "def check_all_concepts(concepts, sentences, checker):\n",
    "    \"\"\"Check all concepts against all sentences.\"\"\"\n",
    "    \n",
    "    results = []\n",
    "\n",
    "    for i, concept in enumerate(concepts):\n",
    "        clear_output()\n",
    "        print(f'Step: {i+1}/{len(concepts)}')\n",
    "        concept_results = [(ind, cuinames[i], 1) for ind, sentence in enumerate(sentences) if checker(concept, sentence)]\n",
    "        results.append(concept_results)\n",
    "        \n",
    "    final = sorted([item for sublist in results for item in sublist], key=lambda x: x[0])\n",
    "    \n",
    "    return final"
   ],
   "metadata": {
    "collapsed": false,
    "ExecuteTime": {
     "end_time": "2024-07-25T23:22:35.006372100Z",
     "start_time": "2024-07-25T23:22:34.985899100Z"
    }
   },
   "id": "132b0d42f2db3dfc",
   "execution_count": 302
  },
  {
   "cell_type": "code",
   "outputs": [
    {
     "name": "stdout",
     "output_type": "stream",
     "text": [
      "Step: 705/705\n"
     ]
    }
   ],
   "source": [
    " level_1 = list(set(check_all_concepts(concepts_1, sentences_1, check_concept_1)))"
   ],
   "metadata": {
    "collapsed": false
   },
   "id": "fd53850dd0ec0fe5",
   "execution_count": 303
  },
  {
   "cell_type": "code",
   "outputs": [
    {
     "data": {
      "text/plain": "2651"
     },
     "execution_count": 304,
     "metadata": {},
     "output_type": "execute_result"
    }
   ],
   "source": [
    "len(level_1)"
   ],
   "metadata": {
    "collapsed": false,
    "ExecuteTime": {
     "end_time": "2024-07-25T23:22:37.387915900Z",
     "start_time": "2024-07-25T23:22:37.380605300Z"
    }
   },
   "id": "32649b850e104a96",
   "execution_count": 304
  },
  {
   "cell_type": "code",
   "outputs": [
    {
     "data": {
      "text/plain": "[(106, 'C0018681', 1),\n (1177, 'C0019080', 1),\n (892, 'C0028084', 1),\n (1564, 'C0015672', 1),\n (1335, 'C0038990', 1),\n (1041, 'C0557875', 1),\n (1432, 'C0240327В', 1),\n (1864, 'C0231303', 1),\n (1570, 'C0917801', 1),\n (1855, 'C0028084', 1)]"
     },
     "execution_count": 305,
     "metadata": {},
     "output_type": "execute_result"
    }
   ],
   "source": [
    "level_1[:10]"
   ],
   "metadata": {
    "collapsed": false,
    "ExecuteTime": {
     "end_time": "2024-07-25T23:22:37.397956500Z",
     "start_time": "2024-07-25T23:22:37.386959Z"
    }
   },
   "id": "ac5ad4a7f76a09e5",
   "execution_count": 305
  },
  {
   "cell_type": "code",
   "outputs": [
    {
     "data": {
      "text/plain": "True"
     },
     "execution_count": 306,
     "metadata": {},
     "output_type": "execute_result"
    }
   ],
   "source": [
    "# пример уровеня 1\n",
    "concept1_1 = 'Blurred vision' # то же CUI как 'Blurring of visual image'\n",
    "sentence1_1 = 'I was unable to sleep, had blurred vision, and felt sick to my stomach.'\n",
    "\n",
    "check_concept_1(text_preprocessing_1(concept1_1), text_preprocessing_1(sentence1_1))"
   ],
   "metadata": {
    "collapsed": false,
    "ExecuteTime": {
     "end_time": "2024-07-25T23:22:37.402785600Z",
     "start_time": "2024-07-25T23:22:37.396959800Z"
    }
   },
   "id": "b645b099f7d4ac2c",
   "execution_count": 306
  },
  {
   "cell_type": "markdown",
   "source": [
    "### Level 2"
   ],
   "metadata": {
    "collapsed": false
   },
   "id": "ecba90089c01655f"
  },
  {
   "cell_type": "code",
   "outputs": [
    {
     "name": "stderr",
     "output_type": "stream",
     "text": [
      "[nltk_data] Downloading package stopwords to\n",
      "[nltk_data]     C:\\Users\\grayni\\AppData\\Roaming\\nltk_data...\n",
      "[nltk_data]   Package stopwords is already up-to-date!\n"
     ]
    }
   ],
   "source": [
    "nltk.download('stopwords')\n",
    "stop_words = set(stopwords.words('english'))"
   ],
   "metadata": {
    "collapsed": false,
    "ExecuteTime": {
     "end_time": "2024-07-25T23:22:37.794437600Z",
     "start_time": "2024-07-25T23:22:37.402785600Z"
    }
   },
   "id": "5aee0442c743fa49",
   "execution_count": 307
  },
  {
   "cell_type": "code",
   "outputs": [],
   "source": [
    "def text_preprocessing_2(sentence):\n",
    "    s = sentence.translate(str.maketrans(punct, ' '*len(punct)))\n",
    "    \n",
    "    toks = s.split()\n",
    "    lowered = [w.lower() for w in toks]\n",
    "    filtered = [w for w in lowered if w not in stop_words]\n",
    "    stemmed = [porter_stemmer.stem(w) for w in filtered]\n",
    "    return stemmed"
   ],
   "metadata": {
    "collapsed": false,
    "ExecuteTime": {
     "end_time": "2024-07-25T23:22:37.796437Z",
     "start_time": "2024-07-25T23:22:37.792430800Z"
    }
   },
   "id": "620b9dc6cff03f13",
   "execution_count": 308
  },
  {
   "cell_type": "code",
   "outputs": [],
   "source": [
    "def check_concept_2(c_lst, s_lst):\n",
    "    return all(word in s_lst for word in c_lst)"
   ],
   "metadata": {
    "collapsed": false,
    "ExecuteTime": {
     "end_time": "2024-07-25T23:22:37.818309200Z",
     "start_time": "2024-07-25T23:22:37.797477700Z"
    }
   },
   "id": "fa32987e6840de96",
   "execution_count": 309
  },
  {
   "cell_type": "code",
   "outputs": [
    {
     "data": {
      "text/plain": "[['excess', 'bodi', 'weight', 'gain'],\n ['excess', 'weight', 'gain'],\n ['poor', 'short', 'term', 'memori'],\n ['loss', 'hair'],\n ['alopecia'],\n ['sexual', 'dysfunct'],\n ['sexual', 'disord'],\n ['nausea'],\n ['blur', 'visual', 'imag'],\n ['blur', 'vision']]"
     },
     "execution_count": 328,
     "metadata": {},
     "output_type": "execute_result"
    }
   ],
   "source": [
    "concepts_2 = [text_preprocessing_2(concept) for concept in concepts]\n",
    "sentences_2 = [text_preprocessing_2(sentence) for sentence in documents]\n",
    "concepts_2[:10]"
   ],
   "metadata": {
    "collapsed": false,
    "ExecuteTime": {
     "end_time": "2024-07-25T23:48:41.122598100Z",
     "start_time": "2024-07-25T23:48:40.638994200Z"
    }
   },
   "id": "54e9590c4e250d9f",
   "execution_count": 328
  },
  {
   "cell_type": "code",
   "outputs": [
    {
     "name": "stdout",
     "output_type": "stream",
     "text": [
      "Step: 705/705\n"
     ]
    }
   ],
   "source": [
    "level_2 = list(set(check_all_concepts(concepts_2, sentences_2, check_concept_2)))"
   ],
   "metadata": {
    "collapsed": false
   },
   "id": "d7ec7d29d249afaa",
   "execution_count": 311
  },
  {
   "cell_type": "code",
   "outputs": [
    {
     "data": {
      "text/plain": "2941"
     },
     "execution_count": 312,
     "metadata": {},
     "output_type": "execute_result"
    }
   ],
   "source": [
    "len(level_2)"
   ],
   "metadata": {
    "collapsed": false,
    "ExecuteTime": {
     "end_time": "2024-07-25T23:22:40.226186500Z",
     "start_time": "2024-07-25T23:22:40.214218400Z"
    }
   },
   "id": "dba810b826a08f89",
   "execution_count": 312
  },
  {
   "cell_type": "code",
   "outputs": [
    {
     "data": {
      "text/plain": "[(575, 'C0232462', 1),\n (106, 'C0018681', 1),\n (1177, 'C0019080', 1),\n (892, 'C0028084', 1),\n (1564, 'C0015672', 1),\n (2067, 'C0011124', 1),\n (1335, 'C0038990', 1),\n (1041, 'C0557875', 1),\n (1398, 'C0232462', 1),\n (1432, 'C0240327В', 1)]"
     },
     "execution_count": 331,
     "metadata": {},
     "output_type": "execute_result"
    }
   ],
   "source": [
    "level_2[:10]"
   ],
   "metadata": {
    "collapsed": false,
    "ExecuteTime": {
     "end_time": "2024-07-25T23:50:58.959278400Z",
     "start_time": "2024-07-25T23:50:58.944378Z"
    }
   },
   "id": "ba62a9fb61f756b1",
   "execution_count": 331
  },
  {
   "cell_type": "code",
   "outputs": [
    {
     "name": "stdout",
     "output_type": "stream",
     "text": [
      "sexual dysfunction\n",
      "sexual disorder\n",
      "\n",
      "It's called PSSD: post-SSRI sexual dysfunction.\n",
      "['sexual', 'dysfunct']: True\n",
      "['sexual', 'disord']: False\n"
     ]
    }
   ],
   "source": [
    "for i, item in enumerate(concepts):\n",
    "    if cuinames[i] == 'C0549622':\n",
    "        print(concepts[i])\n",
    "        \n",
    "concept2_1 = 'Sexual Dysfunction' # C0549622\n",
    "concept2_2 = 'Sexual disorder' # C0549622\n",
    "sentence2_2 = \"It's called PSSD: post-SSRI sexual dysfunction.\"\n",
    "\n",
    "check_con_2_1 = text_preprocessing_2(concept2_1)\n",
    "check_con_2_2 = text_preprocessing_2(concept2_2)\n",
    "check_sen_2 = text_preprocessing_2(sentence2_2)\n",
    "\n",
    "print(f'\\n{sentence2_2}')\n",
    "print(f'{check_con_2_1}:', check_concept_2(check_con_2_1, check_sen_2))\n",
    "print(f'{check_con_2_2}:', check_concept_2(check_con_2_2, check_sen_2))"
   ],
   "metadata": {
    "collapsed": false,
    "ExecuteTime": {
     "end_time": "2024-07-25T23:22:40.265534700Z",
     "start_time": "2024-07-25T23:22:40.233341900Z"
    }
   },
   "id": "e2da3219af3b61bc",
   "execution_count": 314
  },
  {
   "cell_type": "markdown",
   "source": [
    "### Level 3"
   ],
   "metadata": {
    "collapsed": false
   },
   "id": "e331ea8fb5fe8971"
  },
  {
   "cell_type": "code",
   "outputs": [
    {
     "name": "stderr",
     "output_type": "stream",
     "text": [
      "[nltk_data] Downloading package wordnet to\n",
      "[nltk_data]     C:\\Users\\grayni\\AppData\\Roaming\\nltk_data...\n",
      "[nltk_data]   Package wordnet is already up-to-date!\n",
      "[nltk_data] Downloading package punkt to\n",
      "[nltk_data]     C:\\Users\\grayni\\AppData\\Roaming\\nltk_data...\n",
      "[nltk_data]   Package punkt is already up-to-date!\n"
     ]
    },
    {
     "data": {
      "text/plain": "True"
     },
     "execution_count": 315,
     "metadata": {},
     "output_type": "execute_result"
    }
   ],
   "source": [
    "from nltk.corpus import wordnet\n",
    "from nltk.tokenize import word_tokenize\n",
    "from fuzzywuzzy import fuzz\n",
    "import string\n",
    "from nltk import download\n",
    "\n",
    "download('wordnet')\n",
    "download('punkt')"
   ],
   "metadata": {
    "collapsed": false,
    "ExecuteTime": {
     "end_time": "2024-07-25T23:22:40.314437200Z",
     "start_time": "2024-07-25T23:22:40.239605300Z"
    }
   },
   "id": "2e3a7262fe2a78fc",
   "execution_count": 315
  },
  {
   "cell_type": "code",
   "outputs": [],
   "source": [
    "# Проверка по синонимам\n",
    "def get_synonyms(word):\n",
    "    synonyms = set()\n",
    "    for syn in wordnet.synsets(word):\n",
    "        for lemma in syn.lemmas():\n",
    "            synonyms.add(lemma.name())\n",
    "    return synonyms"
   ],
   "metadata": {
    "collapsed": false,
    "ExecuteTime": {
     "end_time": "2024-07-25T23:22:40.315434400Z",
     "start_time": "2024-07-25T23:22:40.312439500Z"
    }
   },
   "id": "bc7c88fe66a73894",
   "execution_count": 316
  },
  {
   "cell_type": "code",
   "outputs": [],
   "source": [
    "def text_preprocessing_3(text):\n",
    "    \"\"\"Предварительная обработка текста: удаление пунктуации и приведение к нижнему регистру.\"\"\"\n",
    "    text = text.translate(str.maketrans('', '', string.punctuation))\n",
    "    tokens = word_tokenize(text.lower())\n",
    "    return tokens"
   ],
   "metadata": {
    "collapsed": false,
    "ExecuteTime": {
     "end_time": "2024-07-25T23:22:40.320392400Z",
     "start_time": "2024-07-25T23:22:40.315434400Z"
    }
   },
   "id": "c27ad9e398d371af",
   "execution_count": 317
  },
  {
   "cell_type": "code",
   "outputs": [],
   "source": [
    "def find_best_synonym_match(word, sentence_words):\n",
    "    \"\"\"Находит лучшее совпадение слова среди синонимов в предложении.\"\"\"\n",
    "    best_score = 0\n",
    "    best_match = None\n",
    "    synonyms = get_synonyms(word)\n",
    "    for sentence_word in sentence_words:\n",
    "        for synonym in synonyms:\n",
    "            score = fuzz.ratio(synonym, sentence_word)\n",
    "            if score > best_score:\n",
    "                best_score = score\n",
    "                best_match = sentence_word\n",
    "    return best_match, best_score"
   ],
   "metadata": {
    "collapsed": false,
    "ExecuteTime": {
     "end_time": "2024-07-25T23:22:40.327776500Z",
     "start_time": "2024-07-25T23:22:40.320392400Z"
    }
   },
   "id": "3c71537074a55f9",
   "execution_count": 318
  },
  {
   "cell_type": "code",
   "outputs": [],
   "source": [
    "def check_concept_3(concept, sentence, threshold=80):\n",
    "    \"\"\"Проверка наличия концепта в предложении с учетом синонимов и сходства.\"\"\"\n",
    "    for word in concept:\n",
    "        best_match, best_score = find_best_synonym_match(word, sentence)\n",
    "        if best_score < threshold:\n",
    "            return False  # Если хотя бы одно слово концепта не найдено, возвращаем False\n",
    "    return True  # Все слова концепта найдены"
   ],
   "metadata": {
    "collapsed": false,
    "ExecuteTime": {
     "end_time": "2024-07-25T23:22:40.329773Z",
     "start_time": "2024-07-25T23:22:40.324970Z"
    }
   },
   "id": "53480422c395d3ca",
   "execution_count": 319
  },
  {
   "cell_type": "code",
   "outputs": [],
   "source": [
    "def check_all_concepts(concepts, sentences, checker):\n",
    "    \"\"\"Проверка всех концептов для всех предложений.\"\"\"\n",
    "    \n",
    "    results = []\n",
    "\n",
    "    for i, concept in enumerate(concepts):\n",
    "        clear_output(wait=True)\n",
    "        print(f'Step: {i+1}/{len(concepts)}')\n",
    "        concept_results = [(ind, cuinames[i], 1) for ind, sentence in enumerate(sentences) if checker(concept, sentence)]\n",
    "        results.extend(concept_results)\n",
    "        \n",
    "    final = sorted(results, key=lambda x: x[0])\n",
    "    return final"
   ],
   "metadata": {
    "collapsed": false,
    "ExecuteTime": {
     "end_time": "2024-07-25T23:22:40.359322200Z",
     "start_time": "2024-07-25T23:22:40.329773Z"
    }
   },
   "id": "e003bf8bb6c53a95",
   "execution_count": 320
  },
  {
   "cell_type": "code",
   "outputs": [
    {
     "name": "stdout",
     "output_type": "stream",
     "text": [
      "Step: 705/705\n"
     ]
    }
   ],
   "source": [
    "level_3 = list(set(check_all_concepts(concepts_2, sentences_2, check_concept_3)))"
   ],
   "metadata": {
    "collapsed": false
   },
   "id": "d4f39e67711d7c59",
   "execution_count": 321
  },
  {
   "cell_type": "code",
   "outputs": [
    {
     "data": {
      "text/plain": "7165"
     },
     "execution_count": 322,
     "metadata": {},
     "output_type": "execute_result"
    }
   ],
   "source": [
    "len(level_3)"
   ],
   "metadata": {
    "collapsed": false,
    "ExecuteTime": {
     "end_time": "2024-07-25T23:39:13.904129300Z",
     "start_time": "2024-07-25T23:39:13.894164900Z"
    }
   },
   "id": "339f4e15de4f3805",
   "execution_count": 322
  },
  {
   "cell_type": "code",
   "outputs": [
    {
     "data": {
      "text/plain": "[(1108, 'C0344232', 1),\n (2124, 'C0038999', 1),\n (885, 'C0220870', 1),\n (198, 'C0424092', 1),\n (1403, 'C0522165', 1),\n (624, 'C0030318', 1),\n (1432, 'C0240327В', 1),\n (1570, 'C0917801', 1),\n (253, 'C0392674', 1),\n (1827, 'C0009676', 1)]"
     },
     "execution_count": 323,
     "metadata": {},
     "output_type": "execute_result"
    }
   ],
   "source": [
    "level_3[:10]"
   ],
   "metadata": {
    "collapsed": false,
    "ExecuteTime": {
     "end_time": "2024-07-25T23:39:13.918278Z",
     "start_time": "2024-07-25T23:39:13.900177700Z"
    }
   },
   "id": "7b6d4c2f809375e9",
   "execution_count": 323
  },
  {
   "cell_type": "markdown",
   "source": [
    "### Join results"
   ],
   "metadata": {
    "collapsed": false
   },
   "id": "aa526b6d0948edb"
  },
  {
   "cell_type": "code",
   "outputs": [
    {
     "name": "stdout",
     "output_type": "stream",
     "text": [
      "(1, 'C0002170', 0, 1, 1)\n",
      "(1, 'C0043094', 1, 1, 1)\n",
      "(1, 'C0521008', 0, 0, 1)\n",
      "(1, 'C1262477', 1, 1, 1)\n",
      "(2, 'C0036104', 1, 1, 1)\n",
      "(3, 'C0036104', 1, 1, 1)\n",
      "(4, 'C0424092', 0, 0, 1)\n",
      "(4, 'C0521008', 0, 0, 1)\n"
     ]
    }
   ],
   "source": [
    "def merge_results(level_1, level_2, level_3):\n",
    "    combined_dict = {}\n",
    "\n",
    "    # Функция для добавления данных в словарь\n",
    "    def add_to_dict(data, level_index):\n",
    "        for (sentence_id, concept_id, _) in data:\n",
    "            if (sentence_id, concept_id) not in combined_dict:\n",
    "                combined_dict[(sentence_id, concept_id)] = [0, 0, 0]\n",
    "            combined_dict[(sentence_id, concept_id)][level_index] = 1\n",
    "\n",
    "    # Добавляем данные из каждого уровня\n",
    "    add_to_dict(level_1, 0)\n",
    "    add_to_dict(level_2, 1)\n",
    "    add_to_dict(level_3, 2)\n",
    "\n",
    "    # Преобразуем словарь в нужный формат\n",
    "    combined_results = [(sentence_id, concept_id, *levels) for (sentence_id, concept_id), levels in combined_dict.items()]\n",
    "\n",
    "    # Сортировка по id предложения и концепта\n",
    "    combined_results.sort(key=lambda x: (x[0], x[1]))\n",
    "\n",
    "    return combined_results\n",
    "\n",
    "# Объединение результатов\n",
    "combined_results = merge_results(level_1, level_2, level_3)\n",
    "\n",
    "# Вывод результатов\n",
    "for i, result in enumerate(combined_results):\n",
    "    print(result)\n",
    "    if i > 6:\n",
    "        break"
   ],
   "metadata": {
    "collapsed": false,
    "ExecuteTime": {
     "end_time": "2024-07-25T23:50:37.236235500Z",
     "start_time": "2024-07-25T23:50:37.159094900Z"
    }
   },
   "id": "d0c5c46bb342b887",
   "execution_count": 330
  },
  {
   "cell_type": "markdown",
   "source": [
    "### Data save"
   ],
   "metadata": {
    "collapsed": false
   },
   "id": "61f2f946d9abf46a"
  },
  {
   "cell_type": "code",
   "outputs": [],
   "source": [
    "import csv\n",
    "\n",
    "def save_to_csv(data, filename):\n",
    "    \"\"\"Сохраняет данные в CSV-файл с разделителем запятая.\"\"\"\n",
    "    with open(filename, mode='w', newline='', encoding='utf-8') as file:\n",
    "        writer = csv.writer(file)\n",
    "        # Записываем заголовки\n",
    "        writer.writerow(['Sentence ID', 'Concept ID', 'Level 1', 'Level 2', 'Level 3'])\n",
    "        # Записываем данные\n",
    "        writer.writerows(data)"
   ],
   "metadata": {
    "collapsed": false,
    "ExecuteTime": {
     "end_time": "2024-07-25T23:44:24.426379Z",
     "start_time": "2024-07-25T23:44:24.419886Z"
    }
   },
   "id": "f67406eb9556202b",
   "execution_count": 326
  },
  {
   "cell_type": "code",
   "outputs": [],
   "source": [
    "save_to_csv(combined_results, 'Karelin_3.csv')"
   ],
   "metadata": {
    "collapsed": false,
    "ExecuteTime": {
     "end_time": "2024-07-25T23:45:10.726689700Z",
     "start_time": "2024-07-25T23:45:10.702105400Z"
    }
   },
   "id": "962e7efee69b65d5",
   "execution_count": 327
  }
 ],
 "metadata": {
  "kernelspec": {
   "display_name": "Python 3",
   "language": "python",
   "name": "python3"
  },
  "language_info": {
   "codemirror_mode": {
    "name": "ipython",
    "version": 2
   },
   "file_extension": ".py",
   "mimetype": "text/x-python",
   "name": "python",
   "nbconvert_exporter": "python",
   "pygments_lexer": "ipython2",
   "version": "2.7.6"
  }
 },
 "nbformat": 4,
 "nbformat_minor": 5
}
