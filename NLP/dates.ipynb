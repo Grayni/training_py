{
 "cells": [
  {
   "cell_type": "code",
   "outputs": [],
   "source": [
    "import re"
   ],
   "metadata": {
    "collapsed": false,
    "ExecuteTime": {
     "end_time": "2024-07-22T01:19:28.346088700Z",
     "start_time": "2024-07-22T01:19:28.323768700Z"
    }
   },
   "id": "3884dcfcb5e9cc43",
   "execution_count": 1
  },
  {
   "cell_type": "markdown",
   "source": [
    "### Data show"
   ],
   "metadata": {
    "collapsed": false
   },
   "id": "548d2e2833b626a3"
  },
  {
   "cell_type": "code",
   "outputs": [
    {
     "name": "stdout",
     "output_type": "stream",
     "text": [
      "0 \t Na 130 on 7/21/1999Pertinent Medical Review of Systems Constitutional:\n",
      "1 \t Hx of suicidal ideation and last felt suicidal in Marc, 1981. No Hx of suicide attempts. Felt that after being sober for 5 years and in custody for 22 months that I just wasnt getting it. I couldnt do it. He had my parents come in the following week and we talked and thats when we decided I should go on the methadone clinic,Hx of Non Suicidal Self Injurious Behavior: No\n",
      "2 \t s 03/1980 Positive PPD: treated with INH for 6 months\n",
      "3 \t 7/11/90CPT code: 99205\n",
      "4 \t 6/02/1986CPT Code: 90792: With medical services\n",
      "5 \t s  25 yo married female with hx of low grade anxiety, perfectionism and attention presents with increasing sx of depression after being laid off from her job in Mar 2012. This intake interview was conducted as a one time consult intake with the goal of referral to appropriate services.\n",
      "6 \t 6/18/85Primary Care Doctor:\n",
      "7 \t NV fire fighter died Sep 2007 while working.  Was friend from deployment to San Marino and trainings for years prior.  Still troubling to pt.  Didnt go to his funeral.  Spiritual/Religion:\n",
      "8 \t sDec 1975:  Several days, LEPROSARIUM, voluntary admission for acute manic episode with ? delusions.  Discharged on risperidone to follow up with Dr. Dodge in Ayer.Hx of Outpatient Treatment: Yes\n",
      "9 \t craniotomy 8/1986Prior relevant labs:\n",
      "10 \t . 3 years ago in a motorcycle accident and had a TBI - in Japan. Migraines 15-30 days a month since March 1979. Occipital nerve block shots and migraines have resolved.\n"
     ]
    }
   ],
   "source": [
    "data_path = 'data/dates.txt'\n",
    "\n",
    "data = []\n",
    "\n",
    "pattern = re.compile(r'^\\d+\\t(: )?(.*)$')\n",
    "\n",
    "with open(data_path, 'r') as f:\n",
    "    for i, line in enumerate(f):\n",
    "        match = pattern.match(line.replace('\"', '').replace(\"'\", ''))\n",
    "\n",
    "        data.append(match.group(2))\n",
    "        if i < 11:\n",
    "            print(i, '\\t', data[i])"
   ],
   "metadata": {
    "collapsed": true,
    "ExecuteTime": {
     "end_time": "2024-07-22T01:19:28.347086900Z",
     "start_time": "2024-07-22T01:19:28.334248100Z"
    }
   },
   "id": "initial_id",
   "execution_count": 2
  },
  {
   "cell_type": "markdown",
   "source": [
    "### Rights"
   ],
   "metadata": {
    "collapsed": false
   },
   "id": "2000d98ef0a3091f"
  },
  {
   "cell_type": "code",
   "outputs": [
    {
     "name": "stdout",
     "output_type": "stream",
     "text": [
      "0 \t 1999-07-21\n",
      "1 \t 1981-03-01\n",
      "2 \t 1980-03-01\n",
      "3 \t 1990-07-11\n",
      "4 \t 1986-06-02\n",
      "5 \t 2012-03-01\n",
      "6 \t 1985-06-18\n",
      "7 \t 2007-09-01\n",
      "8 \t 1975-12-01\n",
      "9 \t 1986-08-01\n",
      "10 \t 1979-03-01\n",
      "11 \t 1972-09-17\n",
      "12 \t 2003-10-06\n",
      "13 \t 1994-11-24\n",
      "14 \t 1987-11-01\n",
      "15 \t 1992-08-16\n",
      "16 \t 1997-12-12\n"
     ]
    }
   ],
   "source": [
    "data_test = data.copy()\n",
    "\n",
    "months = {'Jan': '01', 'Feb': '02', 'Mar': '03', 'Apr': '04',\n",
    "          'May': '05', 'Jun': '06', 'Jul': '07', 'Aug': '08',\n",
    "          'Sep': '09', 'Oct': '10', 'Nov': '11', 'Dec': '12'\n",
    "}\n",
    "\n",
    "pattern_1 = re.compile(\n",
    "    r'(\\d{1,2})(?:/)(\\d{1,2})(?:/)(\\d{2,4})|'\n",
    "    r'(\\d{1,2})(?:/)(\\d{2,4})'\n",
    ")\n",
    "\n",
    "pattern_2 = re.compile(\n",
    "    r'(\\d{1,2})(?:\\s*)?(Jan|Feb|Mar|Apr|May|Jun|Jul|Aug|Sep|Oct|Nov|Dec)(?:\\w*\\s*,?\\s*)(\\d{4})|'  # Формат: 22 Jan, 1996 или 22 Jan 1996\n",
    "    r'(Jan|Feb|Mar|Apr|May|Jun|Jul|Aug|Sep|Oct|Nov|Dec)(?:\\w*\\s*,?\\s*)(\\d{4})|'  # Формат: Mar, 1981 или Mar 1981\n",
    "    r'(Jan|Feb|Mar|Apr|May|Jun|Jul|Aug|Sep|Oct|Nov|Dec)(?:\\w*.*\\s*,?\\s*)(\\d{2})(?:\\s*,?\\s*)(\\d{4})|'  # Формат: Jul 25, 1996 или Jul 25 1996\n",
    "    r'(Jan|Feb|Mar|Apr|May|Jun|Jul|Aug|Sep|Oct|Nov|Dec)(?:\\w*\\s*,?\\s*)(\\d{1,2})|'  # Формат: Jul 25\n",
    "    r'([12]\\d{3})'  # Год в формате: 2002\n",
    ")\n",
    "\n",
    "pattern_3 = re.compile(r'(\\d{1,2})(?:-)(\\d{1,2})(?:-)(\\d{2,4})')\n",
    "\n",
    "for i, item in enumerate(data_test):\n",
    "    match_1 = pattern_1.findall(item)#.search(item)\n",
    "\n",
    "    if match_1:\n",
    "        arr = [x for x in match_1[0] if x][::-1]\n",
    "        \n",
    "        if len(arr[0]) < 3:\n",
    "            arr[0] = f'19{arr[0]}'\n",
    "            \n",
    "        if len(arr[1]) == 1:\n",
    "            arr[1] = f'0{arr[1]}'\n",
    "                \n",
    "        if len(arr) < 3:\n",
    "            arr.insert(1, '01')\n",
    "        else:\n",
    "            if len(arr[2]) < 2:\n",
    "                arr[2] = f'0{arr[2]}'\n",
    "                \n",
    "        arr[1], arr[2] = arr[2], arr[1]\n",
    "                \n",
    "        data_test[i] = '-'.join(arr)    \n",
    "        continue\n",
    "    \n",
    "    match_2 = pattern_2.findall(item)\n",
    "    \n",
    "    if match_2:\n",
    "        arr = sorted([x for x in match_2[0] if x], key=len, reverse=True)\n",
    "        if len(arr) > 1:\n",
    "            arr[1] = months[arr[1]]\n",
    "            if len(arr) == 2:\n",
    "                arr.append('01')\n",
    "        else:\n",
    "            arr.extend(['01', '01'])\n",
    "            \n",
    "        if len(arr[2]) == 1:\n",
    "            arr[2] = f'0{arr[2]}'\n",
    "        \n",
    "        data_test[i] = '-'.join(arr)\n",
    "        continue\n",
    "\n",
    "    match_3 = pattern_3.findall(item)\n",
    "\n",
    "    if match_3:\n",
    "        arr = [x for x in match_3[0] if x][::-1]\n",
    "        \n",
    "        if len(arr[0]) == 2:\n",
    "            arr[0] = f'19{arr[0]}'\n",
    "            \n",
    "        if len(arr[1]) == 1:\n",
    "            arr[1] = f'0{arr[1]}'\n",
    "            \n",
    "        if len(arr[2]) == 1:\n",
    "            arr[2] = f'0{arr[2]}'\n",
    "            \n",
    "        arr[1], arr[2] = arr[2], arr[1]\n",
    "        \n",
    "        data_test[i] = '-'.join(arr)\n",
    "        \n",
    "for i, item in enumerate(data_test):\n",
    "    print(i, '\\t', item)\n",
    "    if i > 15:\n",
    "        break        "
   ],
   "metadata": {
    "collapsed": false,
    "ExecuteTime": {
     "end_time": "2024-07-22T01:19:28.372524100Z",
     "start_time": "2024-07-22T01:19:28.354067600Z"
    }
   },
   "id": "4f6f18b02ff80d75",
   "execution_count": 3
  },
  {
   "cell_type": "markdown",
   "source": [
    "### Data save"
   ],
   "metadata": {
    "collapsed": false
   },
   "id": "c4fbab43954548dd"
  },
  {
   "cell_type": "code",
   "outputs": [],
   "source": [
    "file_name = 'Karelin'\n",
    "\n",
    "with open(f'{file_name}.txt', \"w\") as f:\n",
    "    for i, item in enumerate(data_test):\n",
    "        f.write(f'{i}\\t{item}\\n')"
   ],
   "metadata": {
    "collapsed": false,
    "ExecuteTime": {
     "end_time": "2024-07-22T01:19:28.399631600Z",
     "start_time": "2024-07-22T01:19:28.369390100Z"
    }
   },
   "id": "445ced4918f6fea5",
   "execution_count": 4
  }
 ],
 "metadata": {
  "kernelspec": {
   "display_name": "Python 3",
   "language": "python",
   "name": "python3"
  },
  "language_info": {
   "codemirror_mode": {
    "name": "ipython",
    "version": 2
   },
   "file_extension": ".py",
   "mimetype": "text/x-python",
   "name": "python",
   "nbconvert_exporter": "python",
   "pygments_lexer": "ipython2",
   "version": "2.7.6"
  }
 },
 "nbformat": 4,
 "nbformat_minor": 5
}
