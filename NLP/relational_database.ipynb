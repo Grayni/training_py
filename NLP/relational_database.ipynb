{
 "cells": [
  {
   "cell_type": "markdown",
   "source": [
    "### Create Database (PostgreSQL)"
   ],
   "metadata": {
    "collapsed": false
   },
   "id": "13881ee9b7ab8d16"
  },
  {
   "cell_type": "markdown",
   "source": [
    "Базу создал в десктоп-приложении pgAdmin 4. Создадим таблицы."
   ],
   "metadata": {
    "collapsed": false
   },
   "id": "5d39c6bb75b2ff1e"
  },
  {
   "cell_type": "markdown",
   "source": [
    "```\n",
    "    CREATE SCHEMA gb_rwd;\n",
    "    \n",
    "    -- Таблица vocabulary\n",
    "    CREATE TABLE gb_rwd.vocabulary (\n",
    "      concept_id SERIAL PRIMARY KEY,  -- первичный ключ\n",
    "      concept_name VARCHAR(255),\n",
    "      domain VARCHAR(150),\n",
    "      code VARCHAR(150)\n",
    "    );\n",
    "    \n",
    "    -- Таблица person\n",
    "    CREATE TABLE gb_rwd.person (\n",
    "      person_id SERIAL PRIMARY KEY,  -- первичный ключ\n",
    "      date_of_birth DATE,\n",
    "      sex_concept_id INT REFERENCES gb_rwd.vocabulary(concept_id),  -- внешней ключ\n",
    "      hospital_days INT\n",
    "    );\n",
    "    \n",
    "    -- Таблица measurement\n",
    "    CREATE TABLE gb_rwd.measurement (\n",
    "      measurement_id SERIAL PRIMARY KEY,  -- первичный ключ\n",
    "      measurement_concept_id INT REFERENCES gb_rwd.vocabulary(concept_id),  -- внешней ключ\n",
    "      measurement_date DATE,\n",
    "      value FLOAT,\n",
    "      person_id INT REFERENCES gb_rwd.person(person_id)  -- внешней ключ\n",
    "    );\n",
    "    \n",
    "    -- Таблица condition\n",
    "    CREATE TABLE gb_rwd.condition (\n",
    "      condition_id SERIAL PRIMARY KEY,  -- первичный ключ\n",
    "      condition_concept_id INT REFERENCES gb_rwd.vocabulary(concept_id),  -- внешней ключ\n",
    "      condition_date DATE,\n",
    "      person_id INT REFERENCES gb_rwd.person(person_id)  -- внешней ключ\n",
    "    );\n",
    "    \n",
    "    -- Таблица drug\n",
    "    CREATE TABLE gb_rwd.drug (\n",
    "      drug_id SERIAL PRIMARY KEY,  -- первичный ключ\n",
    "      drug_concept_id INT REFERENCES gb_rwd.vocabulary(concept_id),  -- внешней ключ\n",
    "      drug_date DATE,\n",
    "      person_id INT REFERENCES gb_rwd.person(person_id)  -- внешней ключ\n",
    "    );\n",
    "    \n",
    "    -- Таблица procedure\n",
    "    CREATE TABLE gb_rwd.procedure (\n",
    "      procedure_id SERIAL PRIMARY KEY,  -- первичный ключ\n",
    "      procedure_concept_id INT REFERENCES gb_rwd.vocabulary(concept_id),  -- внешней ключ\n",
    "      procedure_date DATE,\n",
    "      person_id INT REFERENCES gb_rwd.person(person_id)  -- внешней ключ\n",
    "    );\n",
    "```"
   ],
   "metadata": {
    "collapsed": false
   },
   "id": "e20f4b95f148c29"
  },
  {
   "cell_type": "markdown",
   "source": [
    "### CSV to Databse"
   ],
   "metadata": {
    "collapsed": false
   },
   "id": "c308a66c8acbb0dc"
  },
  {
   "cell_type": "code",
   "outputs": [],
   "source": [
    "import warnings\n",
    "warnings.filterwarnings(\"ignore\")\n",
    "import re\n",
    "from re import sub, search, findall\n",
    "import pandas  as pd\n",
    "from datetime import datetime\n",
    "import numpy as np\n",
    "import glob\n",
    "import os"
   ],
   "metadata": {
    "collapsed": false,
    "ExecuteTime": {
     "end_time": "2024-07-22T19:23:03.922367600Z",
     "start_time": "2024-07-22T19:23:03.916655800Z"
    }
   },
   "id": "b67c9e65a390aa3e",
   "execution_count": 3
  },
  {
   "cell_type": "code",
   "outputs": [],
   "source": [
    "# dates\n",
    "def epi_dates_preparation(strng):\n",
    "  data_1 =  sub(r'(0?[1-9]|[12]\\d|30|31)[.](0?[1-9]|1[0-2])[.](\\d{4})',\n",
    "                '\\\\1-\\\\2-\\\\3', strng)\n",
    "  return sub(r'(0?[1-9]|[12]\\d|30|31)[.](0?[1-9]|1[0-2])[.](\\d{2})',\n",
    "             '\\\\1-\\\\2-20\\\\3', data_1)"
   ],
   "metadata": {
    "collapsed": false,
    "ExecuteTime": {
     "end_time": "2024-07-22T19:23:34.132174300Z",
     "start_time": "2024-07-22T19:23:34.125188800Z"
    }
   },
   "id": "4c6e095d528c3a3f",
   "execution_count": 5
  },
  {
   "cell_type": "code",
   "outputs": [],
   "source": [
    "def read_txt(ff):\n",
    "  with open(ff, encoding='utf-8', errors='ignore') as f:\n",
    "    f = f.read()\n",
    "    return f"
   ],
   "metadata": {
    "collapsed": false,
    "ExecuteTime": {
     "end_time": "2024-07-22T19:24:46.583486600Z",
     "start_time": "2024-07-22T19:24:46.574535500Z"
    }
   },
   "id": "a64539e281b6d154",
   "execution_count": 7
  },
  {
   "cell_type": "code",
   "outputs": [],
   "source": [
    "# gender\n",
    "def get_gender(file_):\n",
    "  file_ = sub('диагноз.*', '', file_)\n",
    "  if 'вна' in file_:\n",
    "    return 25\n",
    "  else:\n",
    "    return 26"
   ],
   "metadata": {
    "collapsed": false,
    "ExecuteTime": {
     "end_time": "2024-07-22T19:25:07.351950800Z",
     "start_time": "2024-07-22T19:25:07.345175800Z"
    }
   },
   "id": "d9b40635a6ce01d",
   "execution_count": 8
  },
  {
   "cell_type": "code",
   "outputs": [],
   "source": [
    "# remove extra\n",
    "def remover(file_):\n",
    "  file_ = ''.join(file_.split()).lower()\n",
    "  stop_element = [',',':', '/t', 'менее']\n",
    "  for elem in stop_element:\n",
    "    if elem == ',':\n",
    "      file_ = sub(elem, '.', file_)\n",
    "    else:\n",
    "      file_ = sub(elem, '', file_)\n",
    "  return file_"
   ],
   "metadata": {
    "collapsed": false,
    "ExecuteTime": {
     "end_time": "2024-07-22T19:26:05.573353400Z",
     "start_time": "2024-07-22T19:26:05.569840600Z"
    }
   },
   "id": "dbe2122d5bf8c599",
   "execution_count": 10
  },
  {
   "cell_type": "code",
   "outputs": [],
   "source": [
    "def preparator(path):\n",
    "  def inner_preparator(fun):\n",
    "    def wrapper(*args, **kwargs):\n",
    "      txt2 = epi_dates_preparation(remover(read_txt(path)))\n",
    "      return fun(txt2)\n",
    "    return wrapper\n",
    "  return inner_preparator"
   ],
   "metadata": {
    "collapsed": false,
    "ExecuteTime": {
     "end_time": "2024-07-22T19:27:12.693911400Z",
     "start_time": "2024-07-22T19:27:12.683430300Z"
    }
   },
   "id": "cf85b9102327932c",
   "execution_count": 11
  },
  {
   "cell_type": "code",
   "outputs": [
    {
     "data": {
      "text/plain": "['data/rwd_raw\\\\file (1067).txt',\n 'data/rwd_raw\\\\file (1068).txt',\n 'data/rwd_raw\\\\file (1069).txt',\n 'data/rwd_raw\\\\file (107).txt',\n 'data/rwd_raw\\\\file (1070).txt']"
     },
     "execution_count": 111,
     "metadata": {},
     "output_type": "execute_result"
    }
   ],
   "source": [
    "# files\n",
    "lst_of_txts = list(glob.glob(os.path.join('data/rwd_raw', '*.txt')))\n",
    "lst_of_txts[:5]"
   ],
   "metadata": {
    "collapsed": false,
    "ExecuteTime": {
     "end_time": "2024-07-22T21:57:12.803996Z",
     "start_time": "2024-07-22T21:57:12.728167300Z"
    }
   },
   "id": "fd4457fddb92da42",
   "execution_count": 111
  },
  {
   "cell_type": "code",
   "outputs": [
    {
     "data": {
      "text/plain": "34"
     },
     "execution_count": 13,
     "metadata": {},
     "output_type": "execute_result"
    }
   ],
   "source": [
    "len(lst_of_txts)"
   ],
   "metadata": {
    "collapsed": false,
    "ExecuteTime": {
     "end_time": "2024-07-22T19:29:33.536345Z",
     "start_time": "2024-07-22T19:29:33.527058600Z"
    }
   },
   "id": "a3ccbae4f982480",
   "execution_count": 13
  },
  {
   "cell_type": "code",
   "outputs": [],
   "source": [
    "patient_ids = list(map(lambda file_: int(search(r'\\d+', file_)[0]), lst_of_txts))\n",
    "list_of_epi = list(map(lambda file_: epi_dates_preparation(remover(read_txt(file_))) , lst_of_txts))\n",
    "gender_list = list(map(lambda file_: get_gender(epi_dates_preparation(remover(read_txt(file_)))) , lst_of_txts))"
   ],
   "metadata": {
    "collapsed": false,
    "ExecuteTime": {
     "end_time": "2024-07-22T19:30:05.507883900Z",
     "start_time": "2024-07-22T19:30:05.409440300Z"
    }
   },
   "id": "1a89e46a4090c331",
   "execution_count": 14
  },
  {
   "cell_type": "code",
   "outputs": [
    {
     "data": {
      "text/plain": "[25, 25, 25, 25, 25, 25, 25, 25, 26, 26]"
     },
     "execution_count": 109,
     "metadata": {},
     "output_type": "execute_result"
    }
   ],
   "source": [
    "gender_list[:10]"
   ],
   "metadata": {
    "collapsed": false,
    "ExecuteTime": {
     "end_time": "2024-07-22T21:56:55.161831600Z",
     "start_time": "2024-07-22T21:56:55.113439200Z"
    }
   },
   "id": "c959c7fe7e4d800c",
   "execution_count": 109
  },
  {
   "cell_type": "markdown",
   "source": [
    "#### Person"
   ],
   "metadata": {
    "collapsed": false
   },
   "id": "b5b568843f45c1e9"
  },
  {
   "cell_type": "code",
   "outputs": [],
   "source": [
    "def prepare_person_table(gender_list, list_of_epi, patient_ids, hospital_days = [], date_of_birth = []):\n",
    "    for file_ in list_of_epi:\n",
    "        admission = findall('\\d{2}-\\d{2}-\\d{4}', file_)[1]\n",
    "        discharge = findall('\\d{2}-\\d{2}-\\d{4}', file_)[-1]\n",
    "        hospital_days.append(\n",
    "            datetime.strptime(discharge, '%d-%m-%Y').date() -\n",
    "            datetime.strptime(admission, '%d-%m-%Y').date())\n",
    "        date_of_birth.append(findall('\\d{2}-\\d{2}-\\d{4}', file_)[0])\n",
    "    data_dct = {'person_id ': patient_ids, 'date_of_birth': date_of_birth, 'hospital_days':hospital_days,'sex_concept_id ': gender_list}\n",
    "    df = pd.DataFrame(data_dct)\n",
    "    df = df.replace(r'', np.nan, regex=True)\n",
    "    df['hospital_days'] = df['hospital_days'].dt.days.astype('int16')\n",
    "    df['date_of_birth'] = pd.to_datetime(df['date_of_birth'], format='%d-%m-%Y')\n",
    "    return df"
   ],
   "metadata": {
    "collapsed": false,
    "ExecuteTime": {
     "end_time": "2024-07-22T21:56:19.586205Z",
     "start_time": "2024-07-22T21:56:19.551958700Z"
    }
   },
   "id": "12341fc242ecc423",
   "execution_count": 103
  },
  {
   "cell_type": "code",
   "outputs": [
    {
     "data": {
      "text/plain": "   person_id  date_of_birth  hospital_days  sex_concept_id \n0        1067    1978-11-11             11               25\n1        1068    1952-03-28             17               25\n2        1069    1962-11-02             17               25\n3         107    1938-02-24             17               25\n4        1070    1959-11-10             50               25",
      "text/html": "<div>\n<style scoped>\n    .dataframe tbody tr th:only-of-type {\n        vertical-align: middle;\n    }\n\n    .dataframe tbody tr th {\n        vertical-align: top;\n    }\n\n    .dataframe thead th {\n        text-align: right;\n    }\n</style>\n<table border=\"1\" class=\"dataframe\">\n  <thead>\n    <tr style=\"text-align: right;\">\n      <th></th>\n      <th>person_id</th>\n      <th>date_of_birth</th>\n      <th>hospital_days</th>\n      <th>sex_concept_id</th>\n    </tr>\n  </thead>\n  <tbody>\n    <tr>\n      <th>0</th>\n      <td>1067</td>\n      <td>1978-11-11</td>\n      <td>11</td>\n      <td>25</td>\n    </tr>\n    <tr>\n      <th>1</th>\n      <td>1068</td>\n      <td>1952-03-28</td>\n      <td>17</td>\n      <td>25</td>\n    </tr>\n    <tr>\n      <th>2</th>\n      <td>1069</td>\n      <td>1962-11-02</td>\n      <td>17</td>\n      <td>25</td>\n    </tr>\n    <tr>\n      <th>3</th>\n      <td>107</td>\n      <td>1938-02-24</td>\n      <td>17</td>\n      <td>25</td>\n    </tr>\n    <tr>\n      <th>4</th>\n      <td>1070</td>\n      <td>1959-11-10</td>\n      <td>50</td>\n      <td>25</td>\n    </tr>\n  </tbody>\n</table>\n</div>"
     },
     "execution_count": 104,
     "metadata": {},
     "output_type": "execute_result"
    }
   ],
   "source": [
    "patient_table = prepare_person_table(\n",
    "    gender_list = gender_list,\n",
    "    list_of_epi = list_of_epi,\n",
    "    patient_ids = patient_ids\n",
    ")\n",
    "\n",
    "patient_table.head()"
   ],
   "metadata": {
    "collapsed": false,
    "ExecuteTime": {
     "end_time": "2024-07-22T21:56:19.990652200Z",
     "start_time": "2024-07-22T21:56:19.910316100Z"
    }
   },
   "id": "22ed2a9dbd9dd999",
   "execution_count": 104
  },
  {
   "cell_type": "code",
   "outputs": [],
   "source": [
    "patient_table.to_csv('db_epicrisis/person.csv', index=False)"
   ],
   "metadata": {
    "collapsed": false,
    "ExecuteTime": {
     "end_time": "2024-07-22T19:57:15.812769800Z",
     "start_time": "2024-07-22T19:57:15.784300300Z"
    }
   },
   "id": "4ab27c2342b33658",
   "execution_count": 44
  },
  {
   "cell_type": "markdown",
   "source": [
    "#### Measurement"
   ],
   "metadata": {
    "collapsed": false
   },
   "id": "f15f86be9ed95e27"
  },
  {
   "cell_type": "code",
   "outputs": [],
   "source": [
    "measurements_map = {\n",
    "    'фибриноген': {'гемостазиограмма': 6},\n",
    "    'креатинин': {'биохимическое исследование крови': 7},\n",
    "    'лейкоциты': {'общий анализ крови': 8},\n",
    "    'гемоглобин': {'общий анализ крови': 9},\n",
    "    'тромбоциты': {'общий анализ крови': 10},\n",
    "    '.-реактивный белок': {'биохимическое исследование крови': 11},\n",
    "    'соэ': {'общий анализ крови': 12},\n",
    "    'лимфоциты': {'общий анализ крови': 13},\n",
    "    'прокальцитонин': {'ифа анализ': 27}\n",
    "}"
   ],
   "metadata": {
    "collapsed": false,
    "ExecuteTime": {
     "end_time": "2024-07-22T19:40:23.526136100Z",
     "start_time": "2024-07-22T19:40:23.523634400Z"
    }
   },
   "id": "47c0f35d6d35baaa",
   "execution_count": 25
  },
  {
   "cell_type": "code",
   "outputs": [
    {
     "name": "stdout",
     "output_type": "stream",
     "text": [
      "{'гемостазиограмма': 6} 6\n",
      "{'биохимическое исследование крови': 7} 7\n",
      "{'общий анализ крови': 8} 8\n",
      "{'общий анализ крови': 9} 9\n",
      "{'общий анализ крови': 10} 10\n",
      "{'биохимическое исследование крови': 11} 11\n",
      "{'общий анализ крови': 12} 12\n",
      "{'общий анализ крови': 13} 13\n",
      "{'ифа анализ': 27} 27\n"
     ]
    }
   ],
   "source": [
    "for measurement_name , sub_dict in measurements_map.items():\n",
    "    for measurement_type, measurement_concept_id_ in sub_dict.items():\n",
    "      print(sub_dict, measurement_concept_id_)"
   ],
   "metadata": {
    "collapsed": false,
    "ExecuteTime": {
     "end_time": "2024-07-22T19:40:26.786663200Z",
     "start_time": "2024-07-22T19:40:26.783163700Z"
    }
   },
   "id": "848885963940b062",
   "execution_count": 26
  },
  {
   "cell_type": "code",
   "outputs": [],
   "source": [
    "def measurements_template(\n",
    "    list_of_epicrisis,\n",
    "    patient_ids,\n",
    "    measurements_map,\n",
    "    measurement_id = [],\n",
    "    measurement_date  = [],\n",
    "    measurement_concept_id = [],\n",
    "    patient_id = [],\n",
    "    value = []\n",
    "    ):\n",
    "  for measurement_name , sub_dict in measurements_map.items():\n",
    "    for measurement_type, concept_id in sub_dict.items():\n",
    "        for file_, patient_id_ in zip(list_of_epicrisis, patient_ids):\n",
    "            pattern0 = ''.join(['r(\\d{2}-\\d{2}-\\d{4})(', measurement_type, ')'])\n",
    "            file_ = sub(pattern0, r'\\2\\1', file_)\n",
    "            pattern1 = ''.join(['(?<=', measurement_type, ')', '(\\d{2}-\\d{2}-\\d{4}|)'])\n",
    "            for date in findall(pattern1, file_):\n",
    "              measurement_date .append(date)\n",
    "              patient_id.append(patient_id_)\n",
    "              measurement_concept_id.append(concept_id)\n",
    "            pattern2 = ''.join(['(', measurement_type, ')', '(\\d{2}-\\d{2}-\\d{4}|)'])\n",
    "            file_1 = sub(pattern2, r'\\2\\1', file_)\n",
    "            pattern3 = ''.join(['(', measurement_type, '.*?)', '(?=\\d{2}-\\d{2}-\\d{4})'])\n",
    "            for value_ in findall(pattern3, file_1):\n",
    "              value_ = sub(''.join(['(.*)(', measurement_name, ')', '(\\d.\\d*)']), r'\\3\\2\\1', value_)\n",
    "              value_ = sub(''.join(['(', measurement_name, '|', measurement_type, ').*']) , '', value_)\n",
    "              value_ = re.sub('[^0-9.]|х10|x10', '', value_)\n",
    "\n",
    "              if value_:\n",
    "                  value.append(value_)\n",
    "              else:\n",
    "                  value.append('NA')\n",
    "\n",
    "  data_dct = {'person_id': patient_id, 'measurement_concept_id': measurement_concept_id,\n",
    "                      'measurement_date': measurement_date ,'value': value}\n",
    "  df = pd.DataFrame.from_dict(data_dct, orient='index')\n",
    "\n",
    "  df = df.transpose()\n",
    "  df['measurement_id'] = df.index + 1\n",
    "  df = df[df.measurement_date != '']\n",
    "  df = df[df.value != 'NA']\n",
    "  df['measurement_date'] = pd.to_datetime(df.measurement_date)\n",
    "\n",
    "  return df"
   ],
   "metadata": {
    "collapsed": false,
    "ExecuteTime": {
     "end_time": "2024-07-22T19:40:39.325486300Z",
     "start_time": "2024-07-22T19:40:39.308984800Z"
    }
   },
   "id": "b0b1a3fc014b2402",
   "execution_count": 27
  },
  {
   "cell_type": "code",
   "outputs": [
    {
     "data": {
      "text/plain": "  person_id measurement_concept_id measurement_date value  measurement_id\n0      1067                      6       2020-12-14   4.8               1\n1      1068                      6       2020-12-14  6.38               2\n2      1069                      6       2020-12-13   5.9               3\n3       107                      6       2021-01-20  2.42               4\n4       107                      6       2021-01-21     4               5",
      "text/html": "<div>\n<style scoped>\n    .dataframe tbody tr th:only-of-type {\n        vertical-align: middle;\n    }\n\n    .dataframe tbody tr th {\n        vertical-align: top;\n    }\n\n    .dataframe thead th {\n        text-align: right;\n    }\n</style>\n<table border=\"1\" class=\"dataframe\">\n  <thead>\n    <tr style=\"text-align: right;\">\n      <th></th>\n      <th>person_id</th>\n      <th>measurement_concept_id</th>\n      <th>measurement_date</th>\n      <th>value</th>\n      <th>measurement_id</th>\n    </tr>\n  </thead>\n  <tbody>\n    <tr>\n      <th>0</th>\n      <td>1067</td>\n      <td>6</td>\n      <td>2020-12-14</td>\n      <td>4.8</td>\n      <td>1</td>\n    </tr>\n    <tr>\n      <th>1</th>\n      <td>1068</td>\n      <td>6</td>\n      <td>2020-12-14</td>\n      <td>6.38</td>\n      <td>2</td>\n    </tr>\n    <tr>\n      <th>2</th>\n      <td>1069</td>\n      <td>6</td>\n      <td>2020-12-13</td>\n      <td>5.9</td>\n      <td>3</td>\n    </tr>\n    <tr>\n      <th>3</th>\n      <td>107</td>\n      <td>6</td>\n      <td>2021-01-20</td>\n      <td>2.42</td>\n      <td>4</td>\n    </tr>\n    <tr>\n      <th>4</th>\n      <td>107</td>\n      <td>6</td>\n      <td>2021-01-21</td>\n      <td>4</td>\n      <td>5</td>\n    </tr>\n  </tbody>\n</table>\n</div>"
     },
     "execution_count": 100,
     "metadata": {},
     "output_type": "execute_result"
    }
   ],
   "source": [
    "patient_ids = list(map(lambda file_: int(search(r'\\d+', file_)[0]), lst_of_txts))\n",
    "list_of_epi = list(map(lambda file_: epi_dates_preparation(remover(read_txt(file_))) , lst_of_txts))\n",
    "measurement_data = measurements_template(list_of_epicrisis = list_of_epi, patient_ids = patient_ids, measurements_map = measurements_map)\n",
    "measurement_data.head()"
   ],
   "metadata": {
    "collapsed": false,
    "ExecuteTime": {
     "end_time": "2024-07-22T21:55:44.206236800Z",
     "start_time": "2024-07-22T21:55:44.070383800Z"
    }
   },
   "id": "8c936d77586a02d3",
   "execution_count": 100
  },
  {
   "cell_type": "code",
   "outputs": [],
   "source": [
    "measurement_data.to_csv('db_epicrisis/measurements.csv', index=False)"
   ],
   "metadata": {
    "collapsed": false,
    "ExecuteTime": {
     "end_time": "2024-07-22T19:41:56.681556Z",
     "start_time": "2024-07-22T19:41:56.650905300Z"
    }
   },
   "id": "3eb9a7163b2fddcf",
   "execution_count": 29
  },
  {
   "cell_type": "markdown",
   "source": [
    "#### Drug"
   ],
   "metadata": {
    "collapsed": false
   },
   "id": "aca9b070129a1d72"
  },
  {
   "cell_type": "code",
   "outputs": [],
   "source": [
    "treatment_map = {\n",
    "    \"лизиноприл\": {\"л.з.....ил|лизитар|лизинеоприл|лизоретик|диротон\": 20},\n",
    "    \"цефтриаксон\": {\"три.....ф|цефт.....он|цефтриакосн\": 16},\n",
    "    \"бисопролол\": {\"б.с.пр..ол|бисопралдол|бикард|конкор\": 21},\n",
    "    \"аспирин\": {\"аспкиард|кардиомагнил|ас....рд\": 22},\n",
    "    \"дексаметазон\": {\"декс.......н|дексаетазон\": 15},\n",
    "    \"азитромицин\": {\"азит.......\": 18},\n",
    "    \"гепарин\": {\"гепарин\": 19}\n",
    "}"
   ],
   "metadata": {
    "collapsed": false,
    "ExecuteTime": {
     "end_time": "2024-07-22T21:49:40.599690600Z",
     "start_time": "2024-07-22T21:49:40.567577Z"
    }
   },
   "id": "398b6250c67fe53e",
   "execution_count": 94
  },
  {
   "cell_type": "code",
   "outputs": [],
   "source": [
    "def treatment_detection(\n",
    "    list_of_epicrisis,\n",
    "    patient_ids,\n",
    "    treatment_map,\n",
    "    drug_date  = [],\n",
    "    drug_concept_id = [],\n",
    "    patient_id = []\n",
    "    ):\n",
    "  for drug_name , sub_dct in treatment_map.items():\n",
    "    for variations, drug_id in    sub_dct.items():\n",
    "      for file_, patient_id_ in zip(list_of_epicrisis, patient_ids):\n",
    "        file_ = sub(variations, drug_name, file_)\n",
    "        if drug_name in  file_:\n",
    "          drug_date.append(findall('\\d{2}-\\d{2}-\\d{4}', file_)[-1])\n",
    "          drug_concept_id.append(drug_id)\n",
    "          patient_id.append(patient_id_)\n",
    "    data_dct = {'person_id': patient_id, 'drug_concept_id': drug_concept_id,\n",
    "                      'drug_date': drug_date }\n",
    "  df = pd.DataFrame(data_dct)\n",
    "  df['drug_id'] = df.index + 1\n",
    "  df['drug_date'] = pd.to_datetime(df.drug_date)\n",
    "  return(df)"
   ],
   "metadata": {
    "collapsed": false,
    "ExecuteTime": {
     "end_time": "2024-07-22T19:43:14.927611400Z",
     "start_time": "2024-07-22T19:43:14.912248Z"
    }
   },
   "id": "2491b80147bf33ca",
   "execution_count": 31
  },
  {
   "cell_type": "code",
   "outputs": [],
   "source": [
    "drug_data = treatment_detection(\n",
    "    list_of_epicrisis = list_of_epi,\n",
    "    patient_ids = patient_ids,\n",
    "    treatment_map = treatment_map\n",
    ")"
   ],
   "metadata": {
    "collapsed": false,
    "ExecuteTime": {
     "end_time": "2024-07-22T19:43:20.483821900Z",
     "start_time": "2024-07-22T19:43:20.435647100Z"
    }
   },
   "id": "5fa35076364eb695",
   "execution_count": 32
  },
  {
   "cell_type": "code",
   "outputs": [
    {
     "data": {
      "text/plain": "   person_id  drug_concept_id  drug_date  drug_id\n0       1073               20 2020-12-24        1\n1       1079               20 2021-01-12        2\n2       1097               20 2021-01-14        3\n3       1070               16 2021-02-01        4\n4       1072               16 2020-12-18        5",
      "text/html": "<div>\n<style scoped>\n    .dataframe tbody tr th:only-of-type {\n        vertical-align: middle;\n    }\n\n    .dataframe tbody tr th {\n        vertical-align: top;\n    }\n\n    .dataframe thead th {\n        text-align: right;\n    }\n</style>\n<table border=\"1\" class=\"dataframe\">\n  <thead>\n    <tr style=\"text-align: right;\">\n      <th></th>\n      <th>person_id</th>\n      <th>drug_concept_id</th>\n      <th>drug_date</th>\n      <th>drug_id</th>\n    </tr>\n  </thead>\n  <tbody>\n    <tr>\n      <th>0</th>\n      <td>1073</td>\n      <td>20</td>\n      <td>2020-12-24</td>\n      <td>1</td>\n    </tr>\n    <tr>\n      <th>1</th>\n      <td>1079</td>\n      <td>20</td>\n      <td>2021-01-12</td>\n      <td>2</td>\n    </tr>\n    <tr>\n      <th>2</th>\n      <td>1097</td>\n      <td>20</td>\n      <td>2021-01-14</td>\n      <td>3</td>\n    </tr>\n    <tr>\n      <th>3</th>\n      <td>1070</td>\n      <td>16</td>\n      <td>2021-02-01</td>\n      <td>4</td>\n    </tr>\n    <tr>\n      <th>4</th>\n      <td>1072</td>\n      <td>16</td>\n      <td>2020-12-18</td>\n      <td>5</td>\n    </tr>\n  </tbody>\n</table>\n</div>"
     },
     "execution_count": 99,
     "metadata": {},
     "output_type": "execute_result"
    }
   ],
   "source": [
    "drug_data.head()"
   ],
   "metadata": {
    "collapsed": false,
    "ExecuteTime": {
     "end_time": "2024-07-22T21:55:35.931181300Z",
     "start_time": "2024-07-22T21:55:35.868719200Z"
    }
   },
   "id": "4ffb173f846699df",
   "execution_count": 99
  },
  {
   "cell_type": "code",
   "outputs": [],
   "source": [
    "drug_data.to_csv('db_epicrisis/drugs.csv', index=False)"
   ],
   "metadata": {
    "collapsed": false,
    "ExecuteTime": {
     "end_time": "2024-07-22T19:43:48.734248200Z",
     "start_time": "2024-07-22T19:43:48.718003100Z"
    }
   },
   "id": "5f0eaffce3d85d27",
   "execution_count": 34
  },
  {
   "cell_type": "markdown",
   "source": [
    "### Conditions"
   ],
   "metadata": {
    "collapsed": false
   },
   "id": "9ebf4fce6cd60c02"
  },
  {
   "cell_type": "code",
   "outputs": [],
   "source": [
    "condition_procedures_map = {\n",
    "    1:\t{'Внегоспитальная пневмония': 'пне...ния|внегоспитальная|внебольничная'},\n",
    "    2:\t{'Ишемическая болезнь сердца': 'ссн|ибс|атеросклеротический|кардиосклероз|фп|фибрил....' },\n",
    "    3:\t{'Сахарный диабет': 'д.абет|сдтип|сд2|сд1|сах.....'},\n",
    "    4:\t{'Коронавирусная инфекция': 'covid19|коронавирусная|b34|sarscov2'},\n",
    "    5:\t{'Артериальная гипертензия': 'аг\\d|агi|артериальнаягипер '},\n",
    "    23:\t{'Рентгелологическое исследование грудной клетки': 'rgогк|ргогк'},\n",
    "    24:\t{'Электрокардиография': 'экг|электрокардио'}\n",
    "}"
   ],
   "metadata": {
    "collapsed": false,
    "ExecuteTime": {
     "end_time": "2024-07-22T19:50:24.166638300Z",
     "start_time": "2024-07-22T19:50:24.146302400Z"
    }
   },
   "id": "cdf5ba48af453599",
   "execution_count": 41
  },
  {
   "cell_type": "code",
   "outputs": [],
   "source": [
    "def condition_detection(\n",
    "    list_of_epicrisis,\n",
    "    patient_ids,\n",
    "    condition_map,\n",
    "    condition_date  = [],\n",
    "    condition_concept_id = [],\n",
    "    patient_id = []\n",
    "    ):\n",
    "  for concept_id , sub_dct in condition_map.items():\n",
    "    if concept_id < 6:\n",
    "      for condition, variations in  sub_dct.items():\n",
    "        for file_, patient_id_ in zip(list_of_epicrisis, patient_ids):\n",
    "          file_ = sub(variations, condition, file_)\n",
    "          if condition in  file_:\n",
    "            condition_date.append(findall('\\d{2}-\\d{2}-\\d{4}', file_)[-1])\n",
    "            condition_concept_id.append(concept_id)\n",
    "            patient_id.append(patient_id_)\n",
    "    data_dct = {'person_id': patient_id, 'condition_concept_id': condition_concept_id,\n",
    "                      'condition_date': condition_date }\n",
    "  df = pd.DataFrame(data_dct)\n",
    "  df['condition_id'] = df.index + 1\n",
    "  df['condition_date'] = pd.to_datetime(df.condition_date)\n",
    "  return(df)"
   ],
   "metadata": {
    "collapsed": false,
    "ExecuteTime": {
     "end_time": "2024-07-22T19:50:24.787772900Z",
     "start_time": "2024-07-22T19:50:24.780788800Z"
    }
   },
   "id": "b155b10940c2ad16",
   "execution_count": 42
  },
  {
   "cell_type": "code",
   "outputs": [],
   "source": [
    "condition_data = condition_detection(\n",
    "    list_of_epicrisis = list_of_epi,\n",
    "    patient_ids = patient_ids,\n",
    "    condition_map = condition_procedures_map\n",
    ")\n",
    "condition_data.to_csv('db_epicrisis/conditions.csv', index=False)"
   ],
   "metadata": {
    "collapsed": false,
    "ExecuteTime": {
     "end_time": "2024-07-22T19:50:25.448658500Z",
     "start_time": "2024-07-22T19:50:25.405924900Z"
    }
   },
   "id": "aa416bcb624915bb",
   "execution_count": 43
  },
  {
   "cell_type": "code",
   "outputs": [],
   "source": [
    "def procedures_detection(\n",
    "    list_of_epicrisis,\n",
    "    patient_ids,\n",
    "    procedure_map,\n",
    "    procedure_date  = [],\n",
    "    procedure_concept_id = [],\n",
    "    patient_id = []\n",
    "    ):\n",
    "  for concept_id , sub_dct in procedure_map.items():\n",
    "    if concept_id > 6:\n",
    "      for procedure, variations in  sub_dct.items():\n",
    "        for file_, patient_id_ in zip(list_of_epicrisis, patient_ids):\n",
    "          file_ = sub(variations, procedure, file_)\n",
    "          if procedure in  file_:\n",
    "            procedure_date.append(findall('\\d{2}-\\d{2}-\\d{4}', file_)[-1])\n",
    "            procedure_concept_id.append(concept_id)\n",
    "            patient_id.append(patient_id_)\n",
    "    data_dct = {'person_id': patient_id, 'procedure_concept_id': procedure_concept_id,\n",
    "                      'procedure_date': procedure_date}\n",
    "  df = pd.DataFrame(data_dct)\n",
    "  df['procedure_id'] = df.index + 1\n",
    "  df['procedure_date'] = pd.to_datetime(df.procedure_date)\n",
    "  return(df)"
   ],
   "metadata": {
    "collapsed": false,
    "ExecuteTime": {
     "end_time": "2024-07-22T19:45:17.910931600Z",
     "start_time": "2024-07-22T19:45:17.878199100Z"
    }
   },
   "id": "6e3aecf7171f9997",
   "execution_count": 38
  },
  {
   "cell_type": "code",
   "outputs": [],
   "source": [
    "procedures_data = procedures_detection(\n",
    "    list_of_epicrisis = list_of_epi,\n",
    "    patient_ids = patient_ids,\n",
    "    procedure_map = condition_procedures_map\n",
    ")\n",
    "procedures_data.to_csv('db_epicrisis/procedures.csv', index=False)"
   ],
   "metadata": {
    "collapsed": false,
    "ExecuteTime": {
     "end_time": "2024-07-22T19:45:37.269929300Z",
     "start_time": "2024-07-22T19:45:37.256583900Z"
    }
   },
   "id": "1e6652ddb0fe2c34",
   "execution_count": 40
  },
  {
   "cell_type": "markdown",
   "source": [
    "Имеем все необходимые файлы: vocabulary.csv (по умолчанию), person.csv, measurements.csv, conditions.csv, drugs.csv, procedures.csv."
   ],
   "metadata": {
    "collapsed": false
   },
   "id": "98bea146b513b4e8"
  },
  {
   "cell_type": "markdown",
   "source": [
    "Теперь вызовем нашу базу данных (epicrisis) и заполним ее полученными данными."
   ],
   "metadata": {
    "collapsed": false
   },
   "id": "2d15cd1535cc3fd7"
  },
  {
   "cell_type": "code",
   "outputs": [],
   "source": [
    "# для коннекта установим модуль\n",
    "# !pip install psycopg2-binary"
   ],
   "metadata": {
    "collapsed": false,
    "ExecuteTime": {
     "end_time": "2024-07-22T21:53:14.824807300Z",
     "start_time": "2024-07-22T21:53:14.804394800Z"
    }
   },
   "id": "71df62bdce6a7f4a",
   "execution_count": 95
  },
  {
   "cell_type": "code",
   "outputs": [],
   "source": [
    "import psycopg2\n",
    "from psycopg2 import OperationalError"
   ],
   "metadata": {
    "collapsed": false,
    "ExecuteTime": {
     "end_time": "2024-07-22T20:15:51.267774600Z",
     "start_time": "2024-07-22T20:15:51.222273300Z"
    }
   },
   "id": "50fdbed5da292816",
   "execution_count": 46
  },
  {
   "cell_type": "markdown",
   "source": [
    "Для демонстрации придумаю юзера и пароль. Чекнем базу на существование."
   ],
   "metadata": {
    "collapsed": false
   },
   "id": "145bd882ce0aade1"
  },
  {
   "cell_type": "code",
   "outputs": [
    {
     "name": "stdout",
     "output_type": "stream",
     "text": [
      "PostgreSQL database connection successful\n"
     ]
    }
   ],
   "source": [
    "# Параметры подключения\n",
    "connection_params = {\n",
    "    'dbname': 'epicrisis',\n",
    "    'user': 'test_user',\n",
    "    'password': '12345678',\n",
    "    'host': 'localhost',\n",
    "    'port': '5432'\n",
    "}\n",
    "\n",
    "def check_postgresql_connection(params):\n",
    "    try:\n",
    "        # Попытка соединения с базой данных\n",
    "        connection = psycopg2.connect(\n",
    "            host=params['host'],\n",
    "            port=params['port'],\n",
    "            database=params['dbname'],\n",
    "            user=params['user'],\n",
    "            password=params['password']\n",
    "        )\n",
    "        # Если соединение успешно, выводим информацию\n",
    "        print(\"PostgreSQL database connection successful\")\n",
    "        connection.close()\n",
    "    except OperationalError as e:\n",
    "        # Если соединение не удалось, выводим сообщение об ошибке\n",
    "        print(f\"Unable to connect to the database: {e}\")\n",
    "        \n",
    "check_postgresql_connection(connection_params)"
   ],
   "metadata": {
    "collapsed": false,
    "ExecuteTime": {
     "end_time": "2024-07-22T21:11:20.041999300Z",
     "start_time": "2024-07-22T21:11:19.998587500Z"
    }
   },
   "id": "8bd4d2028b3afa0f",
   "execution_count": 74
  },
  {
   "cell_type": "code",
   "outputs": [],
   "source": [
    "# проверка на существование записи\n",
    "def record_exists(cursor, schema, table, unique_column, value):\n",
    "    query = sql.SQL(\"SELECT EXISTS(SELECT 1 FROM {schema}.{table} WHERE {unique_column} = %s)\").format(\n",
    "        schema=sql.Identifier(schema),\n",
    "        table=sql.Identifier(table),\n",
    "        unique_column=sql.Identifier(unique_column)\n",
    "    )\n",
    "    cursor.execute(query, (value,))\n",
    "    return cursor.fetchone()[0]"
   ],
   "metadata": {
    "collapsed": false,
    "ExecuteTime": {
     "end_time": "2024-07-22T21:11:26.401910300Z",
     "start_time": "2024-07-22T21:11:26.389241300Z"
    }
   },
   "id": "8b8515bf2b690de0",
   "execution_count": 75
  },
  {
   "cell_type": "markdown",
   "source": [
    "Заливаем файл в базу."
   ],
   "metadata": {
    "collapsed": false
   },
   "id": "27ce404a5ec787c2"
  },
  {
   "cell_type": "code",
   "outputs": [],
   "source": [
    "from psycopg2 import sql\n",
    "\n",
    "def load_csv_to_db(csv_file, schema, table_name, connection_params, conflict_column, encoding='utf-8', sep=','):\n",
    "    # Подключаемся к базе данных\n",
    "    conn = psycopg2.connect(**connection_params)\n",
    "    cursor = conn.cursor()\n",
    "\n",
    "    try:\n",
    "        # Загружаем CSV в DataFrame\n",
    "        df = pd.read_csv(csv_file, encoding=encoding, sep=sep)\n",
    "    except UnicodeDecodeError as e:\n",
    "        print(f\"Ошибка декодирования: {e}\")\n",
    "        return\n",
    "    \n",
    "    # Удаляем лишние пробелы в названиях столбцов\n",
    "    df.columns = [col.strip() for col in df.columns]\n",
    "    \n",
    "    columns = df.columns.tolist()\n",
    "\n",
    "    # Подготавливаем запрос на вставку\n",
    "    insert_query = sql.SQL(\"\"\"\n",
    "        INSERT INTO {schema}.{table} ({fields}) \n",
    "        VALUES ({values}) \n",
    "        ON CONFLICT ({conflict_column}) DO NOTHING\n",
    "    \"\"\").format(\n",
    "        schema=sql.Identifier(schema),\n",
    "        table=sql.Identifier(table_name),\n",
    "        fields=sql.SQL(', ').join(map(sql.Identifier, columns)),\n",
    "        values=sql.SQL(', ').join(sql.Placeholder() * len(columns)),\n",
    "        conflict_column=sql.Identifier(conflict_column)\n",
    "    )\n",
    "\n",
    "    # Итерируем по строкам DataFrame и вставляем данные\n",
    "    for index, row in df.iterrows():\n",
    "        values = tuple(row)\n",
    "        cursor.execute(insert_query, values)\n",
    "\n",
    "    # Сохраняем изменения и закрываем соединение\n",
    "    conn.commit()\n",
    "    cursor.close()\n",
    "    conn.close()"
   ],
   "metadata": {
    "collapsed": false,
    "ExecuteTime": {
     "end_time": "2024-07-22T21:21:51.755694400Z",
     "start_time": "2024-07-22T21:21:51.736645900Z"
    }
   },
   "id": "75e02646b905463f",
   "execution_count": 80
  },
  {
   "cell_type": "code",
   "outputs": [],
   "source": [
    "# 1. Vocabulary\n",
    "load_csv_to_db('db_epicrisis/vocabulary.csv', 'gb_rwd', 'vocabulary', connection_params, 'concept_id', sep=';')"
   ],
   "metadata": {
    "collapsed": false,
    "ExecuteTime": {
     "end_time": "2024-07-22T21:21:55.080797100Z",
     "start_time": "2024-07-22T21:21:55.031713700Z"
    }
   },
   "id": "c49472494a2e7a13",
   "execution_count": 81
  },
  {
   "cell_type": "code",
   "outputs": [],
   "source": [
    "# 2. Person\n",
    "load_csv_to_db('db_epicrisis/person.csv', 'gb_rwd', 'person', connection_params, conflict_column='person_id')"
   ],
   "metadata": {
    "collapsed": false,
    "ExecuteTime": {
     "end_time": "2024-07-22T21:21:56.275180900Z",
     "start_time": "2024-07-22T21:21:56.226590900Z"
    }
   },
   "id": "e47abae2f3f3441c",
   "execution_count": 82
  },
  {
   "cell_type": "code",
   "outputs": [],
   "source": [
    "# 3. Measurement\n",
    "load_csv_to_db('db_epicrisis/measurements.csv', 'gb_rwd', 'measurement', connection_params, conflict_column='measurement_id')"
   ],
   "metadata": {
    "collapsed": false,
    "ExecuteTime": {
     "end_time": "2024-07-22T21:22:41.243308700Z",
     "start_time": "2024-07-22T21:22:41.164734Z"
    }
   },
   "id": "9f58a2d177e37a6",
   "execution_count": 83
  },
  {
   "cell_type": "code",
   "outputs": [],
   "source": [
    "# 4. Condition\n",
    "load_csv_to_db('db_epicrisis/conditions.csv', 'gb_rwd', 'condition', connection_params, conflict_column='condition_id')"
   ],
   "metadata": {
    "collapsed": false,
    "ExecuteTime": {
     "end_time": "2024-07-22T21:22:58.805797200Z",
     "start_time": "2024-07-22T21:22:58.734616600Z"
    }
   },
   "id": "684c06a98bbe33b6",
   "execution_count": 84
  },
  {
   "cell_type": "code",
   "outputs": [],
   "source": [
    "# 5. Drug\n",
    "load_csv_to_db('db_epicrisis/drugs.csv', 'gb_rwd', 'drug', connection_params, conflict_column='drug_id')"
   ],
   "metadata": {
    "collapsed": false,
    "ExecuteTime": {
     "end_time": "2024-07-22T21:23:17.775153800Z",
     "start_time": "2024-07-22T21:23:17.708657600Z"
    }
   },
   "id": "9e7897f8e20efb45",
   "execution_count": 85
  },
  {
   "cell_type": "code",
   "outputs": [],
   "source": [
    "# 6. Procedure\n",
    "load_csv_to_db('db_epicrisis/procedures.csv', 'gb_rwd', 'procedure', connection_params, conflict_column='procedure_id')"
   ],
   "metadata": {
    "collapsed": false,
    "ExecuteTime": {
     "end_time": "2024-07-22T21:23:40.696172100Z",
     "start_time": "2024-07-22T21:23:40.622526300Z"
    }
   },
   "id": "cfcd65447fc71735",
   "execution_count": 86
  },
  {
   "cell_type": "markdown",
   "source": [
    "### ERD"
   ],
   "metadata": {
    "collapsed": false
   },
   "id": "4c230b4efeb88bf0"
  },
  {
   "cell_type": "code",
   "outputs": [
    {
     "data": {
      "text/plain": "<PIL.PngImagePlugin.PngImageFile image mode=RGBA size=1204x899>",
      "image/png": "[encoded data removed]"
     },
     "metadata": {},
     "output_type": "display_data"
    }
   ],
   "source": [
    "from PIL import Image\n",
    "from IPython.display import display\n",
    "\n",
    "img = Image.open('erd.png')\n",
    "\n",
    "display(img)"
   ],
   "metadata": {
    "collapsed": false,
    "ExecuteTime": {
     "end_time": "2024-07-22T21:36:24.799034900Z",
     "start_time": "2024-07-22T21:36:24.735478300Z"
    }
   },
   "id": "c891c9aa0bf8f63c",
   "execution_count": 88
  },
  {
   "cell_type": "markdown",
   "source": [
    "### Data Demonstration (выгрузка с postgre)"
   ],
   "metadata": {
    "collapsed": false
   },
   "id": "4ee20cc58411ab60"
  },
  {
   "cell_type": "code",
   "outputs": [],
   "source": [
    "def fetch_table_data(schema, table_name, connection_params):\n",
    "    # Подключаемся к базе данных\n",
    "    conn = psycopg2.connect(**connection_params)\n",
    "    cursor = conn.cursor()\n",
    "    \n",
    "    # Формируем SQL-запрос для извлечения всех данных из таблицы\n",
    "    query = f\"SELECT * FROM {schema}.{table_name};\"\n",
    "    \n",
    "    # Выполняем запрос\n",
    "    cursor.execute(query)\n",
    "    \n",
    "    # Получаем все строки из результата запроса\n",
    "    rows = cursor.fetchall()\n",
    "    \n",
    "    # Получаем имена столбцов\n",
    "    colnames = [desc[0] for desc in cursor.description]\n",
    "    \n",
    "    # Закрываем курсор и соединение\n",
    "    cursor.close()\n",
    "    conn.close()\n",
    "    \n",
    "    # Создаем DataFrame и возвращаем его\n",
    "    df = pd.DataFrame(rows, columns=colnames)\n",
    "    return df"
   ],
   "metadata": {
    "collapsed": false,
    "ExecuteTime": {
     "end_time": "2024-07-22T21:41:09.513443200Z",
     "start_time": "2024-07-22T21:41:09.480525700Z"
    }
   },
   "id": "f12c4225a2b17f13",
   "execution_count": 89
  },
  {
   "cell_type": "code",
   "outputs": [
    {
     "data": {
      "text/plain": "   concept_id                concept_name       domain code\n0           1   Внегоспитальная пневмония  Заболевание  J18\n1           2  Ишемическая болезнь сердца  Заболевание  I25\n2           3             Сахарный диабет  Заболевание  E11\n3           4     Коронавирусная инфекция  Заболевание  U07\n4           5    Артериальная гипертензия  Заболевание  I10",
      "text/html": "<div>\n<style scoped>\n    .dataframe tbody tr th:only-of-type {\n        vertical-align: middle;\n    }\n\n    .dataframe tbody tr th {\n        vertical-align: top;\n    }\n\n    .dataframe thead th {\n        text-align: right;\n    }\n</style>\n<table border=\"1\" class=\"dataframe\">\n  <thead>\n    <tr style=\"text-align: right;\">\n      <th></th>\n      <th>concept_id</th>\n      <th>concept_name</th>\n      <th>domain</th>\n      <th>code</th>\n    </tr>\n  </thead>\n  <tbody>\n    <tr>\n      <th>0</th>\n      <td>1</td>\n      <td>Внегоспитальная пневмония</td>\n      <td>Заболевание</td>\n      <td>J18</td>\n    </tr>\n    <tr>\n      <th>1</th>\n      <td>2</td>\n      <td>Ишемическая болезнь сердца</td>\n      <td>Заболевание</td>\n      <td>I25</td>\n    </tr>\n    <tr>\n      <th>2</th>\n      <td>3</td>\n      <td>Сахарный диабет</td>\n      <td>Заболевание</td>\n      <td>E11</td>\n    </tr>\n    <tr>\n      <th>3</th>\n      <td>4</td>\n      <td>Коронавирусная инфекция</td>\n      <td>Заболевание</td>\n      <td>U07</td>\n    </tr>\n    <tr>\n      <th>4</th>\n      <td>5</td>\n      <td>Артериальная гипертензия</td>\n      <td>Заболевание</td>\n      <td>I10</td>\n    </tr>\n  </tbody>\n</table>\n</div>"
     },
     "execution_count": 91,
     "metadata": {},
     "output_type": "execute_result"
    }
   ],
   "source": [
    "vocabulary_pd = fetch_table_data('gb_rwd', 'vocabulary', connection_params)\n",
    "vocabulary_pd.head()"
   ],
   "metadata": {
    "collapsed": false,
    "ExecuteTime": {
     "end_time": "2024-07-22T21:42:36.716879200Z",
     "start_time": "2024-07-22T21:42:36.652173200Z"
    }
   },
   "id": "66863d862592162",
   "execution_count": 91
  },
  {
   "cell_type": "code",
   "outputs": [
    {
     "data": {
      "text/plain": "   condition_id  condition_concept_id condition_date  person_id\n0             1                     1     2020-12-24       1067\n1             2                     1     2020-12-30       1068\n2             3                     1     2020-12-30       1069\n3             4                     1     2021-02-01       1070\n4             5                     1     2020-12-31       1071",
      "text/html": "<div>\n<style scoped>\n    .dataframe tbody tr th:only-of-type {\n        vertical-align: middle;\n    }\n\n    .dataframe tbody tr th {\n        vertical-align: top;\n    }\n\n    .dataframe thead th {\n        text-align: right;\n    }\n</style>\n<table border=\"1\" class=\"dataframe\">\n  <thead>\n    <tr style=\"text-align: right;\">\n      <th></th>\n      <th>condition_id</th>\n      <th>condition_concept_id</th>\n      <th>condition_date</th>\n      <th>person_id</th>\n    </tr>\n  </thead>\n  <tbody>\n    <tr>\n      <th>0</th>\n      <td>1</td>\n      <td>1</td>\n      <td>2020-12-24</td>\n      <td>1067</td>\n    </tr>\n    <tr>\n      <th>1</th>\n      <td>2</td>\n      <td>1</td>\n      <td>2020-12-30</td>\n      <td>1068</td>\n    </tr>\n    <tr>\n      <th>2</th>\n      <td>3</td>\n      <td>1</td>\n      <td>2020-12-30</td>\n      <td>1069</td>\n    </tr>\n    <tr>\n      <th>3</th>\n      <td>4</td>\n      <td>1</td>\n      <td>2021-02-01</td>\n      <td>1070</td>\n    </tr>\n    <tr>\n      <th>4</th>\n      <td>5</td>\n      <td>1</td>\n      <td>2020-12-31</td>\n      <td>1071</td>\n    </tr>\n  </tbody>\n</table>\n</div>"
     },
     "execution_count": 92,
     "metadata": {},
     "output_type": "execute_result"
    }
   ],
   "source": [
    "condition_pd = fetch_table_data('gb_rwd', 'condition', connection_params)\n",
    "condition_pd.head()"
   ],
   "metadata": {
    "collapsed": false,
    "ExecuteTime": {
     "end_time": "2024-07-22T21:44:54.981153900Z",
     "start_time": "2024-07-22T21:44:54.921209300Z"
    }
   },
   "id": "bb4cc8ee7ff5d5d6",
   "execution_count": 92
  },
  {
   "cell_type": "code",
   "outputs": [
    {
     "data": {
      "text/plain": "   drug_id  drug_concept_id   drug_date  person_id\n0        1               20  2020-12-24       1073\n1        2               20  2021-01-12       1079\n2        3               20  2021-01-14       1097\n3        4               16  2021-02-01       1070\n4        5               16  2020-12-18       1072",
      "text/html": "<div>\n<style scoped>\n    .dataframe tbody tr th:only-of-type {\n        vertical-align: middle;\n    }\n\n    .dataframe tbody tr th {\n        vertical-align: top;\n    }\n\n    .dataframe thead th {\n        text-align: right;\n    }\n</style>\n<table border=\"1\" class=\"dataframe\">\n  <thead>\n    <tr style=\"text-align: right;\">\n      <th></th>\n      <th>drug_id</th>\n      <th>drug_concept_id</th>\n      <th>drug_date</th>\n      <th>person_id</th>\n    </tr>\n  </thead>\n  <tbody>\n    <tr>\n      <th>0</th>\n      <td>1</td>\n      <td>20</td>\n      <td>2020-12-24</td>\n      <td>1073</td>\n    </tr>\n    <tr>\n      <th>1</th>\n      <td>2</td>\n      <td>20</td>\n      <td>2021-01-12</td>\n      <td>1079</td>\n    </tr>\n    <tr>\n      <th>2</th>\n      <td>3</td>\n      <td>20</td>\n      <td>2021-01-14</td>\n      <td>1097</td>\n    </tr>\n    <tr>\n      <th>3</th>\n      <td>4</td>\n      <td>16</td>\n      <td>2021-02-01</td>\n      <td>1070</td>\n    </tr>\n    <tr>\n      <th>4</th>\n      <td>5</td>\n      <td>16</td>\n      <td>2020-12-18</td>\n      <td>1072</td>\n    </tr>\n  </tbody>\n</table>\n</div>"
     },
     "execution_count": 93,
     "metadata": {},
     "output_type": "execute_result"
    }
   ],
   "source": [
    "drug_pd = fetch_table_data('gb_rwd', 'drug', connection_params)\n",
    "drug_pd.head()"
   ],
   "metadata": {
    "collapsed": false,
    "ExecuteTime": {
     "end_time": "2024-07-22T21:45:47.843500200Z",
     "start_time": "2024-07-22T21:45:47.695345700Z"
    }
   },
   "id": "352e2ca2bffebc21",
   "execution_count": 93
  },
  {
   "cell_type": "code",
   "outputs": [
    {
     "data": {
      "text/plain": "   procedure_id  procedure_concept_id procedure_date  person_id\n0             1                    23     2021-01-27       1074\n1             2                    24     2021-02-05        107\n2             3                    24     2020-12-31       1071\n3             4                    24     2021-02-10        108\n4             5                    24     2020-12-21       1083",
      "text/html": "<div>\n<style scoped>\n    .dataframe tbody tr th:only-of-type {\n        vertical-align: middle;\n    }\n\n    .dataframe tbody tr th {\n        vertical-align: top;\n    }\n\n    .dataframe thead th {\n        text-align: right;\n    }\n</style>\n<table border=\"1\" class=\"dataframe\">\n  <thead>\n    <tr style=\"text-align: right;\">\n      <th></th>\n      <th>procedure_id</th>\n      <th>procedure_concept_id</th>\n      <th>procedure_date</th>\n      <th>person_id</th>\n    </tr>\n  </thead>\n  <tbody>\n    <tr>\n      <th>0</th>\n      <td>1</td>\n      <td>23</td>\n      <td>2021-01-27</td>\n      <td>1074</td>\n    </tr>\n    <tr>\n      <th>1</th>\n      <td>2</td>\n      <td>24</td>\n      <td>2021-02-05</td>\n      <td>107</td>\n    </tr>\n    <tr>\n      <th>2</th>\n      <td>3</td>\n      <td>24</td>\n      <td>2020-12-31</td>\n      <td>1071</td>\n    </tr>\n    <tr>\n      <th>3</th>\n      <td>4</td>\n      <td>24</td>\n      <td>2021-02-10</td>\n      <td>108</td>\n    </tr>\n    <tr>\n      <th>4</th>\n      <td>5</td>\n      <td>24</td>\n      <td>2020-12-21</td>\n      <td>1083</td>\n    </tr>\n  </tbody>\n</table>\n</div>"
     },
     "execution_count": 96,
     "metadata": {},
     "output_type": "execute_result"
    }
   ],
   "source": [
    "procedure_pd = fetch_table_data('gb_rwd', 'procedure', connection_params)\n",
    "procedure_pd.head()"
   ],
   "metadata": {
    "collapsed": false,
    "ExecuteTime": {
     "end_time": "2024-07-22T21:54:29.334460Z",
     "start_time": "2024-07-22T21:54:29.255709600Z"
    }
   },
   "id": "df6f84789e45cd3d",
   "execution_count": 96
  },
  {
   "cell_type": "code",
   "outputs": [
    {
     "data": {
      "text/plain": "   measurement_id  measurement_concept_id measurement_date  value  person_id\n0               1                       6       2020-12-14   4.80       1067\n1               2                       6       2020-12-14   6.38       1068\n2               3                       6       2020-12-13   5.90       1069\n3               4                       6       2021-01-20   2.42        107\n4               5                       6       2021-01-21   4.00        107",
      "text/html": "<div>\n<style scoped>\n    .dataframe tbody tr th:only-of-type {\n        vertical-align: middle;\n    }\n\n    .dataframe tbody tr th {\n        vertical-align: top;\n    }\n\n    .dataframe thead th {\n        text-align: right;\n    }\n</style>\n<table border=\"1\" class=\"dataframe\">\n  <thead>\n    <tr style=\"text-align: right;\">\n      <th></th>\n      <th>measurement_id</th>\n      <th>measurement_concept_id</th>\n      <th>measurement_date</th>\n      <th>value</th>\n      <th>person_id</th>\n    </tr>\n  </thead>\n  <tbody>\n    <tr>\n      <th>0</th>\n      <td>1</td>\n      <td>6</td>\n      <td>2020-12-14</td>\n      <td>4.80</td>\n      <td>1067</td>\n    </tr>\n    <tr>\n      <th>1</th>\n      <td>2</td>\n      <td>6</td>\n      <td>2020-12-14</td>\n      <td>6.38</td>\n      <td>1068</td>\n    </tr>\n    <tr>\n      <th>2</th>\n      <td>3</td>\n      <td>6</td>\n      <td>2020-12-13</td>\n      <td>5.90</td>\n      <td>1069</td>\n    </tr>\n    <tr>\n      <th>3</th>\n      <td>4</td>\n      <td>6</td>\n      <td>2021-01-20</td>\n      <td>2.42</td>\n      <td>107</td>\n    </tr>\n    <tr>\n      <th>4</th>\n      <td>5</td>\n      <td>6</td>\n      <td>2021-01-21</td>\n      <td>4.00</td>\n      <td>107</td>\n    </tr>\n  </tbody>\n</table>\n</div>"
     },
     "execution_count": 97,
     "metadata": {},
     "output_type": "execute_result"
    }
   ],
   "source": [
    "measurement_pd = fetch_table_data('gb_rwd', 'measurement', connection_params)\n",
    "measurement_pd.head()"
   ],
   "metadata": {
    "collapsed": false,
    "ExecuteTime": {
     "end_time": "2024-07-22T21:54:50.348778900Z",
     "start_time": "2024-07-22T21:54:50.273865100Z"
    }
   },
   "id": "2a6e712c2a7f15e9",
   "execution_count": 97
  },
  {
   "cell_type": "code",
   "outputs": [
    {
     "data": {
      "text/plain": "   person_id date_of_birth  sex_concept_id  hospital_days\n0       1067    1978-11-11              25             11\n1       1068    1952-03-28              25             17\n2       1069    1962-11-02              25             17\n3        107    1938-02-24              25             17\n4       1070    1959-11-10              25             50",
      "text/html": "<div>\n<style scoped>\n    .dataframe tbody tr th:only-of-type {\n        vertical-align: middle;\n    }\n\n    .dataframe tbody tr th {\n        vertical-align: top;\n    }\n\n    .dataframe thead th {\n        text-align: right;\n    }\n</style>\n<table border=\"1\" class=\"dataframe\">\n  <thead>\n    <tr style=\"text-align: right;\">\n      <th></th>\n      <th>person_id</th>\n      <th>date_of_birth</th>\n      <th>sex_concept_id</th>\n      <th>hospital_days</th>\n    </tr>\n  </thead>\n  <tbody>\n    <tr>\n      <th>0</th>\n      <td>1067</td>\n      <td>1978-11-11</td>\n      <td>25</td>\n      <td>11</td>\n    </tr>\n    <tr>\n      <th>1</th>\n      <td>1068</td>\n      <td>1952-03-28</td>\n      <td>25</td>\n      <td>17</td>\n    </tr>\n    <tr>\n      <th>2</th>\n      <td>1069</td>\n      <td>1962-11-02</td>\n      <td>25</td>\n      <td>17</td>\n    </tr>\n    <tr>\n      <th>3</th>\n      <td>107</td>\n      <td>1938-02-24</td>\n      <td>25</td>\n      <td>17</td>\n    </tr>\n    <tr>\n      <th>4</th>\n      <td>1070</td>\n      <td>1959-11-10</td>\n      <td>25</td>\n      <td>50</td>\n    </tr>\n  </tbody>\n</table>\n</div>"
     },
     "execution_count": 98,
     "metadata": {},
     "output_type": "execute_result"
    }
   ],
   "source": [
    "person_pd = fetch_table_data('gb_rwd', 'person', connection_params)\n",
    "person_pd.head()"
   ],
   "metadata": {
    "collapsed": false,
    "ExecuteTime": {
     "end_time": "2024-07-22T21:55:18.994174500Z",
     "start_time": "2024-07-22T21:55:18.834583800Z"
    }
   },
   "id": "89744fffb17439ee",
   "execution_count": 98
  }
 ],
 "metadata": {
  "kernelspec": {
   "display_name": "Python 3",
   "language": "python",
   "name": "python3"
  },
  "language_info": {
   "codemirror_mode": {
    "name": "ipython",
    "version": 2
   },
   "file_extension": ".py",
   "mimetype": "text/x-python",
   "name": "python",
   "nbconvert_exporter": "python",
   "pygments_lexer": "ipython2",
   "version": "2.7.6"
  }
 },
 "nbformat": 4,
 "nbformat_minor": 5
}
