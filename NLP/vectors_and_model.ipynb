{
 "cells": [
  {
   "cell_type": "code",
   "execution_count": 1,
   "id": "initial_id",
   "metadata": {
    "collapsed": true,
    "ExecuteTime": {
     "end_time": "2024-07-29T00:02:52.588924800Z",
     "start_time": "2024-07-29T00:02:49.574983900Z"
    }
   },
   "outputs": [],
   "source": [
    "#!pip install scispacy\n",
    "import numpy as np\n",
    "import re\n",
    "import time\n",
    "import spacy\n",
    "import gensim\n",
    "import pandas as pd\n",
    "from sklearn.feature_extraction.text import TfidfVectorizer\n",
    "from sklearn.metrics.pairwise import cosine_similarity"
   ]
  },
  {
   "cell_type": "code",
   "outputs": [
    {
     "data": {
      "text/plain": "        id                                               Text\n0        0  extreme weight gain, short-term memory loss, h...\n1        1        COMPLETELY DESTROYED SEXUALLY FUNCTIONING .\n2        2  Just TWO tablets of Lexapro 10mg completely de...\n3        3    It's called PSSD: post-SSRI sexual dysfunction.\n4        4  And there is a chance that it will give you PS...\n...    ...                                                ...\n2145  2145  Exercising and dieting don't seem to get the w...\n2146  2146  Stomach problems early on: bloating, nausea, c...\n2147  2147            No side effects now accept for yawning.\n2148  2148  The only side effects I experienced were mild ...\n2149  2149  The side effects did go away after about 4 day...\n\n[2150 rows x 2 columns]",
      "text/html": "<div>\n<style scoped>\n    .dataframe tbody tr th:only-of-type {\n        vertical-align: middle;\n    }\n\n    .dataframe tbody tr th {\n        vertical-align: top;\n    }\n\n    .dataframe thead th {\n        text-align: right;\n    }\n</style>\n<table border=\"1\" class=\"dataframe\">\n  <thead>\n    <tr style=\"text-align: right;\">\n      <th></th>\n      <th>id</th>\n      <th>Text</th>\n    </tr>\n  </thead>\n  <tbody>\n    <tr>\n      <th>0</th>\n      <td>0</td>\n      <td>extreme weight gain, short-term memory loss, h...</td>\n    </tr>\n    <tr>\n      <th>1</th>\n      <td>1</td>\n      <td>COMPLETELY DESTROYED SEXUALLY FUNCTIONING .</td>\n    </tr>\n    <tr>\n      <th>2</th>\n      <td>2</td>\n      <td>Just TWO tablets of Lexapro 10mg completely de...</td>\n    </tr>\n    <tr>\n      <th>3</th>\n      <td>3</td>\n      <td>It's called PSSD: post-SSRI sexual dysfunction.</td>\n    </tr>\n    <tr>\n      <th>4</th>\n      <td>4</td>\n      <td>And there is a chance that it will give you PS...</td>\n    </tr>\n    <tr>\n      <th>...</th>\n      <td>...</td>\n      <td>...</td>\n    </tr>\n    <tr>\n      <th>2145</th>\n      <td>2145</td>\n      <td>Exercising and dieting don't seem to get the w...</td>\n    </tr>\n    <tr>\n      <th>2146</th>\n      <td>2146</td>\n      <td>Stomach problems early on: bloating, nausea, c...</td>\n    </tr>\n    <tr>\n      <th>2147</th>\n      <td>2147</td>\n      <td>No side effects now accept for yawning.</td>\n    </tr>\n    <tr>\n      <th>2148</th>\n      <td>2148</td>\n      <td>The only side effects I experienced were mild ...</td>\n    </tr>\n    <tr>\n      <th>2149</th>\n      <td>2149</td>\n      <td>The side effects did go away after about 4 day...</td>\n    </tr>\n  </tbody>\n</table>\n<p>2150 rows × 2 columns</p>\n</div>"
     },
     "execution_count": 115,
     "metadata": {},
     "output_type": "execute_result"
    }
   ],
   "source": [
    "adverse_effects = pd.read_csv('data/concepts/side_effects.txt', sep='\\t')\n",
    "adverse_effects['id'] = range(len(adverse_effects))\n",
    "\n",
    "old_CUIs = pd.read_csv('data/concepts_2/concepts.tsv', sep='\\t')\n",
    "adverse_effects"
   ],
   "metadata": {
    "collapsed": false,
    "ExecuteTime": {
     "end_time": "2024-07-29T00:53:46.570615900Z",
     "start_time": "2024-07-29T00:53:46.538702700Z"
    }
   },
   "id": "c7a3857b40d71f9f",
   "execution_count": 115
  },
  {
   "cell_type": "code",
   "outputs": [
    {
     "data": {
      "text/plain": "         CUI                                           CONCEPT\n0  C0000765   Excessive body weight gain,Excessive weight gain\n1  C0701811      Poor short-term memory,Poor short-term memory\n2  C0002170                              Alopecia,Loss of hair\n3  C0549622                 Sexual Dysfunction,Sexual disorder\n4  C0027497                                      Nausea,Nausea",
      "text/html": "<div>\n<style scoped>\n    .dataframe tbody tr th:only-of-type {\n        vertical-align: middle;\n    }\n\n    .dataframe tbody tr th {\n        vertical-align: top;\n    }\n\n    .dataframe thead th {\n        text-align: right;\n    }\n</style>\n<table border=\"1\" class=\"dataframe\">\n  <thead>\n    <tr style=\"text-align: right;\">\n      <th></th>\n      <th>CUI</th>\n      <th>CONCEPT</th>\n    </tr>\n  </thead>\n  <tbody>\n    <tr>\n      <th>0</th>\n      <td>C0000765</td>\n      <td>Excessive body weight gain,Excessive weight gain</td>\n    </tr>\n    <tr>\n      <th>1</th>\n      <td>C0701811</td>\n      <td>Poor short-term memory,Poor short-term memory</td>\n    </tr>\n    <tr>\n      <th>2</th>\n      <td>C0002170</td>\n      <td>Alopecia,Loss of hair</td>\n    </tr>\n    <tr>\n      <th>3</th>\n      <td>C0549622</td>\n      <td>Sexual Dysfunction,Sexual disorder</td>\n    </tr>\n    <tr>\n      <th>4</th>\n      <td>C0027497</td>\n      <td>Nausea,Nausea</td>\n    </tr>\n  </tbody>\n</table>\n</div>"
     },
     "execution_count": 116,
     "metadata": {},
     "output_type": "execute_result"
    }
   ],
   "source": [
    "old_CUIs = old_CUIs.drop(columns='SNOMED_CODE')\n",
    "old_CUIs.head()"
   ],
   "metadata": {
    "collapsed": false,
    "ExecuteTime": {
     "end_time": "2024-07-29T00:53:51.554727700Z",
     "start_time": "2024-07-29T00:53:51.534781900Z"
    }
   },
   "id": "ba8d8559be6682f5",
   "execution_count": 116
  },
  {
   "cell_type": "code",
   "outputs": [],
   "source": [
    "# Функция для разделения строк и создания нового DataFrame\n",
    "def split_concept(row):\n",
    "    concepts = row['CONCEPT'].split(',')\n",
    "    return pd.DataFrame({\n",
    "        'CUI': [row['CUI']] * len(concepts),\n",
    "        'CONCEPT': concepts\n",
    "    })"
   ],
   "metadata": {
    "collapsed": false,
    "ExecuteTime": {
     "end_time": "2024-07-29T00:53:54.246065700Z",
     "start_time": "2024-07-29T00:53:54.219054900Z"
    }
   },
   "id": "feeb9bd4c06dc0a",
   "execution_count": 117
  },
  {
   "cell_type": "code",
   "outputs": [
    {
     "data": {
      "text/plain": "         CUI                     CONCEPT\n0  C0000765   Excessive body weight gain\n1  C0000765        Excessive weight gain\n2  C0701811       Poor short-term memory\n4  C0002170                     Alopecia\n5  C0002170                 Loss of hair",
      "text/html": "<div>\n<style scoped>\n    .dataframe tbody tr th:only-of-type {\n        vertical-align: middle;\n    }\n\n    .dataframe tbody tr th {\n        vertical-align: top;\n    }\n\n    .dataframe thead th {\n        text-align: right;\n    }\n</style>\n<table border=\"1\" class=\"dataframe\">\n  <thead>\n    <tr style=\"text-align: right;\">\n      <th></th>\n      <th>CUI</th>\n      <th>CONCEPT</th>\n    </tr>\n  </thead>\n  <tbody>\n    <tr>\n      <th>0</th>\n      <td>C0000765</td>\n      <td>Excessive body weight gain</td>\n    </tr>\n    <tr>\n      <th>1</th>\n      <td>C0000765</td>\n      <td>Excessive weight gain</td>\n    </tr>\n    <tr>\n      <th>2</th>\n      <td>C0701811</td>\n      <td>Poor short-term memory</td>\n    </tr>\n    <tr>\n      <th>4</th>\n      <td>C0002170</td>\n      <td>Alopecia</td>\n    </tr>\n    <tr>\n      <th>5</th>\n      <td>C0002170</td>\n      <td>Loss of hair</td>\n    </tr>\n  </tbody>\n</table>\n</div>"
     },
     "execution_count": 118,
     "metadata": {},
     "output_type": "execute_result"
    }
   ],
   "source": [
    "CUIs = pd.concat([split_concept(row) for _, row in old_CUIs.iterrows()], ignore_index=True)\n",
    "CUIs = CUIs.drop_duplicates()\n",
    "CUIs.head()"
   ],
   "metadata": {
    "collapsed": false,
    "ExecuteTime": {
     "end_time": "2024-07-29T00:53:55.399879600Z",
     "start_time": "2024-07-29T00:53:55.273216700Z"
    }
   },
   "id": "a61f7b8588e4d909",
   "execution_count": 118
  },
  {
   "cell_type": "code",
   "outputs": [
    {
     "data": {
      "text/plain": "(730, 2)"
     },
     "execution_count": 119,
     "metadata": {},
     "output_type": "execute_result"
    }
   ],
   "source": [
    "CUIs.shape"
   ],
   "metadata": {
    "collapsed": false,
    "ExecuteTime": {
     "end_time": "2024-07-29T00:53:57.887310400Z",
     "start_time": "2024-07-29T00:53:57.878336500Z"
    }
   },
   "id": "d1742fb78bdf9ffc",
   "execution_count": 119
  },
  {
   "cell_type": "code",
   "outputs": [],
   "source": [
    "# скачать, если не установлено\n",
    "# !pip install https://s3-us-west-2.amazonaws.com/ai2-s2-scispacy/releases/v0.5.1/en_core_sci_lg-0.5.1.tar.gz"
   ],
   "metadata": {
    "collapsed": false,
    "ExecuteTime": {
     "end_time": "2024-07-29T00:53:59.448785200Z",
     "start_time": "2024-07-29T00:53:59.432796300Z"
    }
   },
   "id": "f03fd0151e62fb9",
   "execution_count": 120
  },
  {
   "cell_type": "code",
   "outputs": [
    {
     "name": "stdout",
     "output_type": "stream",
     "text": [
      "CPU times: total: 10.5 s\n",
      "Wall time: 12.3 s\n"
     ]
    }
   ],
   "source": [
    "%%time\n",
    "# Загрузка модели для английского языка\n",
    "nlp = spacy.load(\"en_core_sci_lg\")\n",
    "spacy_stop_words = nlp.Defaults.stop_words"
   ],
   "metadata": {
    "collapsed": false,
    "ExecuteTime": {
     "end_time": "2024-07-29T00:54:12.407788400Z",
     "start_time": "2024-07-29T00:54:00.063451600Z"
    }
   },
   "id": "ae8003e6c0ceaa32",
   "execution_count": 121
  },
  {
   "cell_type": "code",
   "outputs": [],
   "source": [
    "# Предобработка текста\n",
    "custom_stop_words = ['noc', 'nos', '[d]', 'unknown_unit', '|', 'see comment', 'due', 'nec', 'unspecified', '[v]', '(see comments)']\n",
    "stop_words = spacy_stop_words.union(set(custom_stop_words))\n",
    "\n",
    "def preprocess_text(text):\n",
    "    if isinstance(text, str):\n",
    "        text = re.sub(r\"\\s+\", \" \", text.encode('ascii', 'ignore').decode())\n",
    "        text = re.sub(\"[,.!;?)%(\\'\\\":-]\", '', text)\n",
    "        text = text.lower()\n",
    "        text = ' '.join([word for word in text.split() if word not in stop_words])\n",
    "    else:\n",
    "        text = ''\n",
    "    return text"
   ],
   "metadata": {
    "collapsed": false,
    "ExecuteTime": {
     "end_time": "2024-07-29T00:54:12.449756200Z",
     "start_time": "2024-07-29T00:54:12.410781900Z"
    }
   },
   "id": "416c5951bed8aa97",
   "execution_count": 122
  },
  {
   "cell_type": "code",
   "outputs": [],
   "source": [
    "# Применение предварительной обработки\n",
    "adverse_effects['adv_name_processed'] = adverse_effects['Text'].apply(preprocess_text)\n",
    "CUIs['concept_name_processed'] = CUIs['CONCEPT'].apply(preprocess_text)"
   ],
   "metadata": {
    "collapsed": false,
    "ExecuteTime": {
     "end_time": "2024-07-29T00:54:12.469674300Z",
     "start_time": "2024-07-29T00:54:12.421794800Z"
    }
   },
   "id": "d9479d47ce371ea2",
   "execution_count": 123
  },
  {
   "cell_type": "code",
   "outputs": [
    {
     "data": {
      "text/plain": "0    extreme weight gain shortterm memory loss hair...\n1            completely destroyed sexually functioning\n2    tablets lexapro 10mg completely destroyed sexu...\n3              called pssd postssri sexual dysfunction\n4    chance pssd suggests persists stop taking drug...\nName: adv_name_processed, dtype: object"
     },
     "execution_count": 124,
     "metadata": {},
     "output_type": "execute_result"
    }
   ],
   "source": [
    "adverse_effects['adv_name_processed'].head()"
   ],
   "metadata": {
    "collapsed": false,
    "ExecuteTime": {
     "end_time": "2024-07-29T00:54:12.470670600Z",
     "start_time": "2024-07-29T00:54:12.454707200Z"
    }
   },
   "id": "76f4d777de48d3aa",
   "execution_count": 124
  },
  {
   "cell_type": "code",
   "outputs": [
    {
     "data": {
      "text/plain": "0    excessive body weight gain\n1         excessive weight gain\n2         poor shortterm memory\n4                      alopecia\n5                     loss hair\nName: concept_name_processed, dtype: object"
     },
     "execution_count": 125,
     "metadata": {},
     "output_type": "execute_result"
    }
   ],
   "source": [
    "CUIs['concept_name_processed'].head()"
   ],
   "metadata": {
    "collapsed": false,
    "ExecuteTime": {
     "end_time": "2024-07-29T00:54:12.498596600Z",
     "start_time": "2024-07-29T00:54:12.468676500Z"
    }
   },
   "id": "41be9696e96ffb53",
   "execution_count": 125
  },
  {
   "cell_type": "code",
   "outputs": [],
   "source": [
    "# Токенизация\n",
    "def tokenize(text):\n",
    "    doc = nlp(text)\n",
    "    tokens = [token.text for token in doc if not token.is_punct and not token.is_space]\n",
    "    return tokens"
   ],
   "metadata": {
    "collapsed": false,
    "ExecuteTime": {
     "end_time": "2024-07-29T00:54:12.518573900Z",
     "start_time": "2024-07-29T00:54:12.487625700Z"
    }
   },
   "id": "e7a256343e988598",
   "execution_count": 126
  },
  {
   "cell_type": "code",
   "outputs": [
    {
     "name": "stdout",
     "output_type": "stream",
     "text": [
      "CPU times: total: 15.8 s\n",
      "Wall time: 16.2 s\n"
     ]
    }
   ],
   "source": [
    "%%time\n",
    "\n",
    "adverse_effects['adv_name_processed'] = adverse_effects['adv_name_processed'].apply(tokenize)\n",
    "CUIs['concept_name_processed'] = CUIs['concept_name_processed'].apply(tokenize)"
   ],
   "metadata": {
    "collapsed": false,
    "ExecuteTime": {
     "end_time": "2024-07-29T00:54:28.682848300Z",
     "start_time": "2024-07-29T00:54:12.502586300Z"
    }
   },
   "id": "e81eb1bde7767217",
   "execution_count": 127
  },
  {
   "cell_type": "code",
   "outputs": [],
   "source": [
    "# Лематизация\n",
    "def lemmatize(text):\n",
    "    doc = nlp(text)\n",
    "    lemmatized_tokens = [token.lemma_ for token in doc]\n",
    "    return lemmatized_tokens"
   ],
   "metadata": {
    "collapsed": false,
    "ExecuteTime": {
     "end_time": "2024-07-29T00:54:28.716742500Z",
     "start_time": "2024-07-29T00:54:28.682848300Z"
    }
   },
   "id": "e0601ea4ca8b674",
   "execution_count": 128
  },
  {
   "cell_type": "code",
   "outputs": [
    {
     "name": "stdout",
     "output_type": "stream",
     "text": [
      "CPU times: total: 14.4 s\n",
      "Wall time: 14.4 s\n"
     ]
    }
   ],
   "source": [
    "%%time\n",
    "\n",
    "adverse_effects['adv_name_processed_tokens'] = adverse_effects['adv_name_processed'].apply(lambda x: lemmatize(' '.join(x)))\n",
    "CUIs['concept_name_processed_tokens'] = CUIs['concept_name_processed'].apply(lambda x: lemmatize(' '.join(x)))"
   ],
   "metadata": {
    "collapsed": false,
    "ExecuteTime": {
     "end_time": "2024-07-29T00:54:43.119773200Z",
     "start_time": "2024-07-29T00:54:28.699787100Z"
    }
   },
   "id": "8d799cf1c294ed90",
   "execution_count": 129
  },
  {
   "cell_type": "code",
   "outputs": [
    {
     "data": {
      "text/plain": "   id                                               Text  \\\n0   0  extreme weight gain, short-term memory loss, h...   \n1   1        COMPLETELY DESTROYED SEXUALLY FUNCTIONING .   \n2   2  Just TWO tablets of Lexapro 10mg completely de...   \n3   3    It's called PSSD: post-SSRI sexual dysfunction.   \n4   4  And there is a chance that it will give you PS...   \n5   5  Nausea, Blurred Vision, 3 to 5 hours sleep, Su...   \n6   6  I was unable to sleep, had blurred vision, and...   \n7   7  Unable to eat anything significant for the 3 d...   \n8   8  While driving to a friends house crazy thought...   \n9   9  Would not have been able to work (software dev...   \n\n                                  adv_name_processed  \\\n0  [extreme, weight, gain, shortterm, memory, los...   \n1     [completely, destroyed, sexually, functioning]   \n2  [tablets, lexapro, 10, mg, completely, destroy...   \n3      [called, pssd, postssri, sexual, dysfunction]   \n4  [chance, pssd, suggests, persists, stop, takin...   \n5  [nausea, blurred, vision, 3, 5, hours, sleep, ...   \n6  [unable, sleep, blurred, vision, felt, sick, s...   \n7                [unable, eat, significant, 3, days]   \n8  [driving, friends, house, crazy, thoughts, kep...   \n9  [able, work, software, developer, attempting, ...   \n\n                           adv_name_processed_tokens  \n0  [extreme, weight, gain, shortterm, memory, los...  \n1          [completely, destroy, sexually, function]  \n2  [tablet, lexapro, 10, mg, completely, destroy,...  \n3        [call, pssd, postssri, sexual, dysfunction]  \n4  [chance, pssd, suggest, persist, stop, take, d...  \n5  [nausea, blurred, vision, 3, 5, hour, sleep, s...  \n6  [unable, sleep, blurred, vision, feel, sick, s...  \n7                 [unable, eat, significant, 3, day]  \n8  [drive, friend, house, crazy, thought, keep, h...  \n9  [able, work, software, developer, attempt, dru...  ",
      "text/html": "<div>\n<style scoped>\n    .dataframe tbody tr th:only-of-type {\n        vertical-align: middle;\n    }\n\n    .dataframe tbody tr th {\n        vertical-align: top;\n    }\n\n    .dataframe thead th {\n        text-align: right;\n    }\n</style>\n<table border=\"1\" class=\"dataframe\">\n  <thead>\n    <tr style=\"text-align: right;\">\n      <th></th>\n      <th>id</th>\n      <th>Text</th>\n      <th>adv_name_processed</th>\n      <th>adv_name_processed_tokens</th>\n    </tr>\n  </thead>\n  <tbody>\n    <tr>\n      <th>0</th>\n      <td>0</td>\n      <td>extreme weight gain, short-term memory loss, h...</td>\n      <td>[extreme, weight, gain, shortterm, memory, los...</td>\n      <td>[extreme, weight, gain, shortterm, memory, los...</td>\n    </tr>\n    <tr>\n      <th>1</th>\n      <td>1</td>\n      <td>COMPLETELY DESTROYED SEXUALLY FUNCTIONING .</td>\n      <td>[completely, destroyed, sexually, functioning]</td>\n      <td>[completely, destroy, sexually, function]</td>\n    </tr>\n    <tr>\n      <th>2</th>\n      <td>2</td>\n      <td>Just TWO tablets of Lexapro 10mg completely de...</td>\n      <td>[tablets, lexapro, 10, mg, completely, destroy...</td>\n      <td>[tablet, lexapro, 10, mg, completely, destroy,...</td>\n    </tr>\n    <tr>\n      <th>3</th>\n      <td>3</td>\n      <td>It's called PSSD: post-SSRI sexual dysfunction.</td>\n      <td>[called, pssd, postssri, sexual, dysfunction]</td>\n      <td>[call, pssd, postssri, sexual, dysfunction]</td>\n    </tr>\n    <tr>\n      <th>4</th>\n      <td>4</td>\n      <td>And there is a chance that it will give you PS...</td>\n      <td>[chance, pssd, suggests, persists, stop, takin...</td>\n      <td>[chance, pssd, suggest, persist, stop, take, d...</td>\n    </tr>\n    <tr>\n      <th>5</th>\n      <td>5</td>\n      <td>Nausea, Blurred Vision, 3 to 5 hours sleep, Su...</td>\n      <td>[nausea, blurred, vision, 3, 5, hours, sleep, ...</td>\n      <td>[nausea, blurred, vision, 3, 5, hour, sleep, s...</td>\n    </tr>\n    <tr>\n      <th>6</th>\n      <td>6</td>\n      <td>I was unable to sleep, had blurred vision, and...</td>\n      <td>[unable, sleep, blurred, vision, felt, sick, s...</td>\n      <td>[unable, sleep, blurred, vision, feel, sick, s...</td>\n    </tr>\n    <tr>\n      <th>7</th>\n      <td>7</td>\n      <td>Unable to eat anything significant for the 3 d...</td>\n      <td>[unable, eat, significant, 3, days]</td>\n      <td>[unable, eat, significant, 3, day]</td>\n    </tr>\n    <tr>\n      <th>8</th>\n      <td>8</td>\n      <td>While driving to a friends house crazy thought...</td>\n      <td>[driving, friends, house, crazy, thoughts, kep...</td>\n      <td>[drive, friend, house, crazy, thought, keep, h...</td>\n    </tr>\n    <tr>\n      <th>9</th>\n      <td>9</td>\n      <td>Would not have been able to work (software dev...</td>\n      <td>[able, work, software, developer, attempting, ...</td>\n      <td>[able, work, software, developer, attempt, dru...</td>\n    </tr>\n  </tbody>\n</table>\n</div>"
     },
     "execution_count": 130,
     "metadata": {},
     "output_type": "execute_result"
    }
   ],
   "source": [
    "adverse_effects.head(10)"
   ],
   "metadata": {
    "collapsed": false,
    "ExecuteTime": {
     "end_time": "2024-07-29T00:54:43.171633800Z",
     "start_time": "2024-07-29T00:54:43.122767800Z"
    }
   },
   "id": "ade968880a4deeef",
   "execution_count": 130
  },
  {
   "cell_type": "code",
   "outputs": [
    {
     "data": {
      "text/plain": "          CUI                     CONCEPT           concept_name_processed  \\\n0   C0000765   Excessive body weight gain  [excessive, body, weight, gain]   \n1   C0000765        Excessive weight gain        [excessive, weight, gain]   \n2   C0701811       Poor short-term memory        [poor, shortterm, memory]   \n4   C0002170                     Alopecia                       [alopecia]   \n5   C0002170                 Loss of hair                     [loss, hair]   \n6   C0549622           Sexual Dysfunction            [sexual, dysfunction]   \n7   C0549622              Sexual disorder               [sexual, disorder]   \n8   C0027497                       Nausea                         [nausea]   \n10  C0344232               Blurred vision                [blurred, vision]   \n11  C0344232     Blurring of visual image        [blurring, visual, image]   \n\n      concept_name_processed_tokens  \n0   [excessive, body, weight, gain]  \n1         [excessive, weight, gain]  \n2         [poor, shortterm, memory]  \n4                        [alopecia]  \n5                      [loss, hair]  \n6             [sexual, dysfunction]  \n7                [sexual, disorder]  \n8                          [nausea]  \n10                [blurred, vision]  \n11            [blur, visual, image]  ",
      "text/html": "<div>\n<style scoped>\n    .dataframe tbody tr th:only-of-type {\n        vertical-align: middle;\n    }\n\n    .dataframe tbody tr th {\n        vertical-align: top;\n    }\n\n    .dataframe thead th {\n        text-align: right;\n    }\n</style>\n<table border=\"1\" class=\"dataframe\">\n  <thead>\n    <tr style=\"text-align: right;\">\n      <th></th>\n      <th>CUI</th>\n      <th>CONCEPT</th>\n      <th>concept_name_processed</th>\n      <th>concept_name_processed_tokens</th>\n    </tr>\n  </thead>\n  <tbody>\n    <tr>\n      <th>0</th>\n      <td>C0000765</td>\n      <td>Excessive body weight gain</td>\n      <td>[excessive, body, weight, gain]</td>\n      <td>[excessive, body, weight, gain]</td>\n    </tr>\n    <tr>\n      <th>1</th>\n      <td>C0000765</td>\n      <td>Excessive weight gain</td>\n      <td>[excessive, weight, gain]</td>\n      <td>[excessive, weight, gain]</td>\n    </tr>\n    <tr>\n      <th>2</th>\n      <td>C0701811</td>\n      <td>Poor short-term memory</td>\n      <td>[poor, shortterm, memory]</td>\n      <td>[poor, shortterm, memory]</td>\n    </tr>\n    <tr>\n      <th>4</th>\n      <td>C0002170</td>\n      <td>Alopecia</td>\n      <td>[alopecia]</td>\n      <td>[alopecia]</td>\n    </tr>\n    <tr>\n      <th>5</th>\n      <td>C0002170</td>\n      <td>Loss of hair</td>\n      <td>[loss, hair]</td>\n      <td>[loss, hair]</td>\n    </tr>\n    <tr>\n      <th>6</th>\n      <td>C0549622</td>\n      <td>Sexual Dysfunction</td>\n      <td>[sexual, dysfunction]</td>\n      <td>[sexual, dysfunction]</td>\n    </tr>\n    <tr>\n      <th>7</th>\n      <td>C0549622</td>\n      <td>Sexual disorder</td>\n      <td>[sexual, disorder]</td>\n      <td>[sexual, disorder]</td>\n    </tr>\n    <tr>\n      <th>8</th>\n      <td>C0027497</td>\n      <td>Nausea</td>\n      <td>[nausea]</td>\n      <td>[nausea]</td>\n    </tr>\n    <tr>\n      <th>10</th>\n      <td>C0344232</td>\n      <td>Blurred vision</td>\n      <td>[blurred, vision]</td>\n      <td>[blurred, vision]</td>\n    </tr>\n    <tr>\n      <th>11</th>\n      <td>C0344232</td>\n      <td>Blurring of visual image</td>\n      <td>[blurring, visual, image]</td>\n      <td>[blur, visual, image]</td>\n    </tr>\n  </tbody>\n</table>\n</div>"
     },
     "execution_count": 59,
     "metadata": {},
     "output_type": "execute_result"
    }
   ],
   "source": [
    "CUIs.head(10)"
   ],
   "metadata": {
    "collapsed": false,
    "ExecuteTime": {
     "end_time": "2024-07-29T00:13:20.070092300Z",
     "start_time": "2024-07-29T00:13:20.012813500Z"
    }
   },
   "id": "f6f48f5ea6f3c208",
   "execution_count": 59
  },
  {
   "cell_type": "markdown",
   "source": [
    "### Векторизация токенов"
   ],
   "metadata": {
    "collapsed": false
   },
   "id": "741c7fa950eb303f"
  },
  {
   "cell_type": "code",
   "outputs": [],
   "source": [
    "combined_texts = pd.concat([adverse_effects['adv_name_processed'], CUIs['concept_name_processed']])\n",
    "vectorizer = TfidfVectorizer(tokenizer=lambda x: x, lowercase=False, token_pattern=None)\n",
    "vectorizer.fit(combined_texts)\n",
    "adv_effects_matrix = vectorizer.transform(adverse_effects['adv_name_processed'])\n",
    "CUIs_matrix = vectorizer.transform(CUIs['concept_name_processed'])"
   ],
   "metadata": {
    "collapsed": false,
    "ExecuteTime": {
     "end_time": "2024-07-29T00:54:57.057182800Z",
     "start_time": "2024-07-29T00:54:57.008314Z"
    }
   },
   "id": "41a80787c6a4dff",
   "execution_count": 131
  },
  {
   "cell_type": "code",
   "outputs": [],
   "source": [
    "# Поиск концептов с использованием косинусного сходства\n",
    "similarities = cosine_similarity(adv_effects_matrix, CUIs_matrix)"
   ],
   "metadata": {
    "collapsed": false,
    "ExecuteTime": {
     "end_time": "2024-07-29T00:54:57.807322600Z",
     "start_time": "2024-07-29T00:54:57.782389300Z"
    }
   },
   "id": "2f94205ae3fec650",
   "execution_count": 132
  },
  {
   "cell_type": "code",
   "outputs": [],
   "source": [
    "# Получение наиболее похожих концептов для каждого побочного эффекта\n",
    "adverse_effects['most_similar_concept_index'] = similarities.argmax(axis=1)\n",
    "adverse_effects['Similarity'] = similarities.max(axis=1)"
   ],
   "metadata": {
    "collapsed": false,
    "ExecuteTime": {
     "end_time": "2024-07-29T00:54:58.605810600Z",
     "start_time": "2024-07-29T00:54:58.573866800Z"
    }
   },
   "id": "a8709ef2d00626bf",
   "execution_count": 133
  },
  {
   "cell_type": "code",
   "outputs": [],
   "source": [
    "# Получение текста наиболее похожих концептов\n",
    "def get_concept_text(index):\n",
    "    return CUIs.iloc[index]['CONCEPT']\n",
    "\n",
    "# Получение CUI\n",
    "def get_concept_cui(index):\n",
    "    return CUIs.iloc[index]['CUI']"
   ],
   "metadata": {
    "collapsed": false,
    "ExecuteTime": {
     "end_time": "2024-07-29T00:55:00.773969400Z",
     "start_time": "2024-07-29T00:55:00.751995700Z"
    }
   },
   "id": "dc5d287e71939331",
   "execution_count": 134
  },
  {
   "cell_type": "code",
   "outputs": [],
   "source": [
    "adverse_effects['most_similar_concept_text'] = adverse_effects['most_similar_concept_index'].apply(get_concept_text)\n",
    "adverse_effects['concept_cui'] = adverse_effects['most_similar_concept_index'].apply(get_concept_cui)"
   ],
   "metadata": {
    "collapsed": false,
    "ExecuteTime": {
     "end_time": "2024-07-29T00:55:01.595020500Z",
     "start_time": "2024-07-29T00:55:01.384584100Z"
    }
   },
   "id": "8a59346a89785053",
   "execution_count": 135
  },
  {
   "cell_type": "code",
   "outputs": [],
   "source": [
    "# Добавление текста концептов в DataFrame\n",
    "adverse_effects = adverse_effects.merge(CUIs[['CUI', 'CONCEPT']], left_on='most_similar_concept_index', right_index=True, suffixes=('', '_concept'))"
   ],
   "metadata": {
    "collapsed": false,
    "ExecuteTime": {
     "end_time": "2024-07-29T00:55:02.378949Z",
     "start_time": "2024-07-29T00:55:02.356011300Z"
    }
   },
   "id": "d53550150df9aa9e",
   "execution_count": 136
  },
  {
   "cell_type": "code",
   "outputs": [],
   "source": [
    "adverse_effects['level_4'] = (adverse_effects['Similarity'] > 0.4).astype(int)"
   ],
   "metadata": {
    "collapsed": false,
    "ExecuteTime": {
     "end_time": "2024-07-29T01:08:30.440672500Z",
     "start_time": "2024-07-29T01:08:30.385786100Z"
    }
   },
   "id": "dd5c8d68daed4447",
   "execution_count": 146
  },
  {
   "cell_type": "code",
   "outputs": [
    {
     "data": {
      "text/plain": "   id                                               Text  \\\n0   0  extreme weight gain, short-term memory loss, h...   \n1   1        COMPLETELY DESTROYED SEXUALLY FUNCTIONING .   \n2   2  Just TWO tablets of Lexapro 10mg completely de...   \n3   3    It's called PSSD: post-SSRI sexual dysfunction.   \n5   5  Nausea, Blurred Vision, 3 to 5 hours sleep, Su...   \n\n    most_similar_concept_text  Similarity concept_cui  level_4  \n0                Loss of hair    0.612739   C0002170         1  \n1  Cannot be aroused sexually    0.362110   C0425736         0  \n2             Sexual disorder    0.143115   C0549622         0  \n3          Sexual Dysfunction    0.495548   C0549622         1  \n5              Blurred vision    0.533160   C0344232         1  ",
      "text/html": "<div>\n<style scoped>\n    .dataframe tbody tr th:only-of-type {\n        vertical-align: middle;\n    }\n\n    .dataframe tbody tr th {\n        vertical-align: top;\n    }\n\n    .dataframe thead th {\n        text-align: right;\n    }\n</style>\n<table border=\"1\" class=\"dataframe\">\n  <thead>\n    <tr style=\"text-align: right;\">\n      <th></th>\n      <th>id</th>\n      <th>Text</th>\n      <th>most_similar_concept_text</th>\n      <th>Similarity</th>\n      <th>concept_cui</th>\n      <th>level_4</th>\n    </tr>\n  </thead>\n  <tbody>\n    <tr>\n      <th>0</th>\n      <td>0</td>\n      <td>extreme weight gain, short-term memory loss, h...</td>\n      <td>Loss of hair</td>\n      <td>0.612739</td>\n      <td>C0002170</td>\n      <td>1</td>\n    </tr>\n    <tr>\n      <th>1</th>\n      <td>1</td>\n      <td>COMPLETELY DESTROYED SEXUALLY FUNCTIONING .</td>\n      <td>Cannot be aroused sexually</td>\n      <td>0.362110</td>\n      <td>C0425736</td>\n      <td>0</td>\n    </tr>\n    <tr>\n      <th>2</th>\n      <td>2</td>\n      <td>Just TWO tablets of Lexapro 10mg completely de...</td>\n      <td>Sexual disorder</td>\n      <td>0.143115</td>\n      <td>C0549622</td>\n      <td>0</td>\n    </tr>\n    <tr>\n      <th>3</th>\n      <td>3</td>\n      <td>It's called PSSD: post-SSRI sexual dysfunction.</td>\n      <td>Sexual Dysfunction</td>\n      <td>0.495548</td>\n      <td>C0549622</td>\n      <td>1</td>\n    </tr>\n    <tr>\n      <th>5</th>\n      <td>5</td>\n      <td>Nausea, Blurred Vision, 3 to 5 hours sleep, Su...</td>\n      <td>Blurred vision</td>\n      <td>0.533160</td>\n      <td>C0344232</td>\n      <td>1</td>\n    </tr>\n  </tbody>\n</table>\n</div>"
     },
     "execution_count": 147,
     "metadata": {},
     "output_type": "execute_result"
    }
   ],
   "source": [
    "# Вывод результатов\n",
    "adverse_effects[['id', 'Text', 'most_similar_concept_text', 'Similarity', 'concept_cui', 'level_4']].head()"
   ],
   "metadata": {
    "collapsed": false,
    "ExecuteTime": {
     "end_time": "2024-07-29T01:08:30.937229600Z",
     "start_time": "2024-07-29T01:08:30.917283700Z"
    }
   },
   "id": "e76d0affe4afc1d",
   "execution_count": 147
  },
  {
   "cell_type": "markdown",
   "source": [
    "### Предобученная модель"
   ],
   "metadata": {
    "collapsed": false
   },
   "id": "10a66d131a58102a"
  },
  {
   "cell_type": "code",
   "outputs": [
    {
     "name": "stdout",
     "output_type": "stream",
     "text": [
      "CPU times: total: 1min 53s\n",
      "Wall time: 2min 33s\n"
     ]
    }
   ],
   "source": [
    "%%time\n",
    "\n",
    "model_path = 'data/BioWordVec_PubMed_MIMICIII_d200.vec.bin'  # 12.5G\n",
    "word2vec_model = gensim.models.KeyedVectors.load_word2vec_format(model_path, binary=True)"
   ],
   "metadata": {
    "collapsed": false,
    "ExecuteTime": {
     "end_time": "2024-07-29T00:17:00.305160500Z",
     "start_time": "2024-07-29T00:14:26.729849600Z"
    }
   },
   "id": "9d9ef3cf85b7f31f",
   "execution_count": 67
  },
  {
   "cell_type": "code",
   "outputs": [],
   "source": [
    "# Функция для векторизации текста с использованием BioWordVec\n",
    "def vectorize_text_with_gensim_embeddings(tokens, model):\n",
    "    vectors = [model[token] for token in tokens if token in model]\n",
    "    if vectors:\n",
    "        return np.mean(vectors, axis=0)  # Усреднение векторов\n",
    "    else:\n",
    "        return np.zeros(model.vector_size)  # Возвращает нулевой вектор, если нет известных слов"
   ],
   "metadata": {
    "collapsed": false,
    "ExecuteTime": {
     "end_time": "2024-07-29T00:30:09.162468800Z",
     "start_time": "2024-07-29T00:30:09.149503500Z"
    }
   },
   "id": "789fc63a19175a34",
   "execution_count": 76
  },
  {
   "cell_type": "code",
   "outputs": [],
   "source": [
    "# Применение функции к медицинским терминам в обоих наборах данных\n",
    "adverse_effects['adv_eff_vector'] = adverse_effects['adv_name_processed'].apply(lambda x: vectorize_text_with_gensim_embeddings(x, word2vec_model))\n",
    "CUIs['CUI_vector'] = CUIs['concept_name_processed'].apply(lambda x: vectorize_text_with_gensim_embeddings(x, word2vec_model))\n",
    "\n",
    "# Удаление строк с отсутствующими векторами\n",
    "adverse_effects = adverse_effects[adverse_effects['adv_eff_vector'].apply(lambda x: x is not None)]\n",
    "CUIs = CUIs[CUIs['CUI_vector'].apply(lambda x: x is not None)]"
   ],
   "metadata": {
    "collapsed": false,
    "ExecuteTime": {
     "end_time": "2024-07-29T00:30:09.763015Z",
     "start_time": "2024-07-29T00:30:09.690210Z"
    }
   },
   "id": "39174bca2b1b8b76",
   "execution_count": 77
  },
  {
   "cell_type": "code",
   "outputs": [],
   "source": [
    "# Применение функции к медицинским терминам в обоих наборах данных\n",
    "adverse_effects['adv_eff_vector'] = adverse_effects['adv_name_processed'].apply(lambda x: vectorize_text_with_gensim_embeddings(x, word2vec_model))\n",
    "CUIs['CUI_vector'] = CUIs['concept_name_processed'].apply(lambda x: vectorize_text_with_gensim_embeddings(x, word2vec_model))\n",
    "\n",
    "# Удаление строк с отсутствующими векторами\n",
    "adverse_effects = adverse_effects[adverse_effects['adv_eff_vector'].apply(lambda x: x is not None)]\n",
    "CUIs = CUIs[CUIs['CUI_vector'].apply(lambda x: x is not None)]"
   ],
   "metadata": {
    "collapsed": false,
    "ExecuteTime": {
     "end_time": "2024-07-29T00:30:10.993165800Z",
     "start_time": "2024-07-29T00:30:10.901374400Z"
    }
   },
   "id": "d7856418fb42ede8",
   "execution_count": 78
  },
  {
   "cell_type": "code",
   "outputs": [],
   "source": [
    "v1 = np.vstack(adverse_effects['adv_eff_vector'])\n",
    "v2 = np.vstack(CUIs['CUI_vector'])"
   ],
   "metadata": {
    "collapsed": false,
    "ExecuteTime": {
     "end_time": "2024-07-29T00:30:11.776034Z",
     "start_time": "2024-07-29T00:30:11.754092500Z"
    }
   },
   "id": "4baa3066845ed50b",
   "execution_count": 79
  },
  {
   "cell_type": "code",
   "outputs": [
    {
     "data": {
      "text/plain": "        id                                               Text  \\\n1260     0  extreme weight gain, short-term memory loss, h...   \n130      1        COMPLETELY DESTROYED SEXUALLY FUNCTIONING .   \n737      2  Just TWO tablets of Lexapro 10mg completely de...   \n724      3    It's called PSSD: post-SSRI sexual dysfunction.   \n835      5  Nausea, Blurred Vision, 3 to 5 hours sleep, Su...   \n...    ...                                                ...   \n307   2144                      Have experienced weight gain.   \n237   2145  Exercising and dieting don't seem to get the w...   \n997   2146  Stomach problems early on: bloating, nausea, c...   \n867   2147            No side effects now accept for yawning.   \n1068  2149  The side effects did go away after about 4 day...   \n\n                   Most Similar Concept concept_cui  Similarity  level_5  \n1260              Excessive weight loss   C0586746     0.895789        1  \n130          Unable to control behavior   C0582140     0.720222        1  \n737   Loss of capacity to feel emotions   C0456820     0.726751        1  \n724                  Sexual Dysfunction   C0549622     0.860351        1  \n835                       Night Terrors   C0037320     0.809945        1  \n...                                 ...         ...         ...      ...  \n307                         Weight gain   C0043094     0.940722        1  \n237              Failure to lose weight   C0231247     0.813654        1  \n997                  Abdominal bloating   C1291077     0.859831        1  \n867                             Yawning   C0043387     0.779574        1  \n1068                       Stopped work   C0425082     0.769863        1  \n\n[1504 rows x 6 columns]",
      "text/html": "<div>\n<style scoped>\n    .dataframe tbody tr th:only-of-type {\n        vertical-align: middle;\n    }\n\n    .dataframe tbody tr th {\n        vertical-align: top;\n    }\n\n    .dataframe thead th {\n        text-align: right;\n    }\n</style>\n<table border=\"1\" class=\"dataframe\">\n  <thead>\n    <tr style=\"text-align: right;\">\n      <th></th>\n      <th>id</th>\n      <th>Text</th>\n      <th>Most Similar Concept</th>\n      <th>concept_cui</th>\n      <th>Similarity</th>\n      <th>level_5</th>\n    </tr>\n  </thead>\n  <tbody>\n    <tr>\n      <th>1260</th>\n      <td>0</td>\n      <td>extreme weight gain, short-term memory loss, h...</td>\n      <td>Excessive weight loss</td>\n      <td>C0586746</td>\n      <td>0.895789</td>\n      <td>1</td>\n    </tr>\n    <tr>\n      <th>130</th>\n      <td>1</td>\n      <td>COMPLETELY DESTROYED SEXUALLY FUNCTIONING .</td>\n      <td>Unable to control behavior</td>\n      <td>C0582140</td>\n      <td>0.720222</td>\n      <td>1</td>\n    </tr>\n    <tr>\n      <th>737</th>\n      <td>2</td>\n      <td>Just TWO tablets of Lexapro 10mg completely de...</td>\n      <td>Loss of capacity to feel emotions</td>\n      <td>C0456820</td>\n      <td>0.726751</td>\n      <td>1</td>\n    </tr>\n    <tr>\n      <th>724</th>\n      <td>3</td>\n      <td>It's called PSSD: post-SSRI sexual dysfunction.</td>\n      <td>Sexual Dysfunction</td>\n      <td>C0549622</td>\n      <td>0.860351</td>\n      <td>1</td>\n    </tr>\n    <tr>\n      <th>835</th>\n      <td>5</td>\n      <td>Nausea, Blurred Vision, 3 to 5 hours sleep, Su...</td>\n      <td>Night Terrors</td>\n      <td>C0037320</td>\n      <td>0.809945</td>\n      <td>1</td>\n    </tr>\n    <tr>\n      <th>...</th>\n      <td>...</td>\n      <td>...</td>\n      <td>...</td>\n      <td>...</td>\n      <td>...</td>\n      <td>...</td>\n    </tr>\n    <tr>\n      <th>307</th>\n      <td>2144</td>\n      <td>Have experienced weight gain.</td>\n      <td>Weight gain</td>\n      <td>C0043094</td>\n      <td>0.940722</td>\n      <td>1</td>\n    </tr>\n    <tr>\n      <th>237</th>\n      <td>2145</td>\n      <td>Exercising and dieting don't seem to get the w...</td>\n      <td>Failure to lose weight</td>\n      <td>C0231247</td>\n      <td>0.813654</td>\n      <td>1</td>\n    </tr>\n    <tr>\n      <th>997</th>\n      <td>2146</td>\n      <td>Stomach problems early on: bloating, nausea, c...</td>\n      <td>Abdominal bloating</td>\n      <td>C1291077</td>\n      <td>0.859831</td>\n      <td>1</td>\n    </tr>\n    <tr>\n      <th>867</th>\n      <td>2147</td>\n      <td>No side effects now accept for yawning.</td>\n      <td>Yawning</td>\n      <td>C0043387</td>\n      <td>0.779574</td>\n      <td>1</td>\n    </tr>\n    <tr>\n      <th>1068</th>\n      <td>2149</td>\n      <td>The side effects did go away after about 4 day...</td>\n      <td>Stopped work</td>\n      <td>C0425082</td>\n      <td>0.769863</td>\n      <td>1</td>\n    </tr>\n  </tbody>\n</table>\n<p>1504 rows × 6 columns</p>\n</div>"
     },
     "execution_count": 109,
     "metadata": {},
     "output_type": "execute_result"
    }
   ],
   "source": [
    "# Вычисление косинусного сходства\n",
    "similarity = cosine_similarity(v1, v2)\n",
    "\n",
    "# Получение топ N похожих концептов\n",
    "num_top_matches = 2\n",
    "tops = (-similarity).argsort(axis=1)[:, :num_top_matches]\n",
    "\n",
    "# Создание таблицы с результатами\n",
    "results = []\n",
    "for i in range(len(adverse_effects)):\n",
    "    for t in tops[i]:\n",
    "        results.append({\n",
    "            'id': adverse_effects.iloc[i]['id'],\n",
    "            'Text': adverse_effects.iloc[i]['Text'],\n",
    "            'Most Similar Concept': CUIs.iloc[t]['CONCEPT'],\n",
    "            'concept_cui': CUIs.iloc[t]['CUI'],\n",
    "            'Similarity': similarity[i][t]\n",
    "        })\n",
    "\n",
    "# Создание DataFrame из списка результатов\n",
    "joined_table = pd.DataFrame(results)\n",
    "df_max_similarity = joined_table.loc[joined_table.groupby(['Text', 'id'])['Similarity'].idxmax()]\n",
    "df_max_similarity['level_5'] = (df_max_similarity['Similarity'] > 0.5).astype(int)\n",
    "\n",
    "# Удаление дублирующихся строк\n",
    "df_max_similarity = df_max_similarity.drop_duplicates().reset_index(drop=True)\n",
    "\n",
    "df_sorted_single = df_max_similarity.sort_values(by='id', ascending=True)\n",
    "df_sorted_single "
   ],
   "metadata": {
    "collapsed": false,
    "ExecuteTime": {
     "end_time": "2024-07-29T00:52:17.617499900Z",
     "start_time": "2024-07-29T00:52:16.984155700Z"
    }
   },
   "id": "35d7025065c7bac5",
   "execution_count": 109
  },
  {
   "cell_type": "markdown",
   "source": [
    "### Result"
   ],
   "metadata": {
    "collapsed": false
   },
   "id": "5badc6db49dac13b"
  },
  {
   "cell_type": "code",
   "outputs": [
    {
     "data": {
      "text/plain": "   Sentence ID Concept ID  Level_4  Level_5\n0            0  C0002170         1        0\n1            0  C0586746         0        1\n2            1  C0425736         0        0\n3            1  C0582140         0        1\n4            2  C0456820         0        1\n5            2  C0549622         0        0\n6            3  C0549622         1        1\n7            5  C0037320         0        1\n8            5  C0344232         1        0\n9            6  C0344232         1        0",
      "text/html": "<div>\n<style scoped>\n    .dataframe tbody tr th:only-of-type {\n        vertical-align: middle;\n    }\n\n    .dataframe tbody tr th {\n        vertical-align: top;\n    }\n\n    .dataframe thead th {\n        text-align: right;\n    }\n</style>\n<table border=\"1\" class=\"dataframe\">\n  <thead>\n    <tr style=\"text-align: right;\">\n      <th></th>\n      <th>Sentence ID</th>\n      <th>Concept ID</th>\n      <th>Level_4</th>\n      <th>Level_5</th>\n    </tr>\n  </thead>\n  <tbody>\n    <tr>\n      <th>0</th>\n      <td>0</td>\n      <td>C0002170</td>\n      <td>1</td>\n      <td>0</td>\n    </tr>\n    <tr>\n      <th>1</th>\n      <td>0</td>\n      <td>C0586746</td>\n      <td>0</td>\n      <td>1</td>\n    </tr>\n    <tr>\n      <th>2</th>\n      <td>1</td>\n      <td>C0425736</td>\n      <td>0</td>\n      <td>0</td>\n    </tr>\n    <tr>\n      <th>3</th>\n      <td>1</td>\n      <td>C0582140</td>\n      <td>0</td>\n      <td>1</td>\n    </tr>\n    <tr>\n      <th>4</th>\n      <td>2</td>\n      <td>C0456820</td>\n      <td>0</td>\n      <td>1</td>\n    </tr>\n    <tr>\n      <th>5</th>\n      <td>2</td>\n      <td>C0549622</td>\n      <td>0</td>\n      <td>0</td>\n    </tr>\n    <tr>\n      <th>6</th>\n      <td>3</td>\n      <td>C0549622</td>\n      <td>1</td>\n      <td>1</td>\n    </tr>\n    <tr>\n      <th>7</th>\n      <td>5</td>\n      <td>C0037320</td>\n      <td>0</td>\n      <td>1</td>\n    </tr>\n    <tr>\n      <th>8</th>\n      <td>5</td>\n      <td>C0344232</td>\n      <td>1</td>\n      <td>0</td>\n    </tr>\n    <tr>\n      <th>9</th>\n      <td>6</td>\n      <td>C0344232</td>\n      <td>1</td>\n      <td>0</td>\n    </tr>\n  </tbody>\n</table>\n</div>"
     },
     "execution_count": 154,
     "metadata": {},
     "output_type": "execute_result"
    }
   ],
   "source": [
    "df1_filtered = adverse_effects[['id', 'concept_cui', 'level_4']]\n",
    "df2_filtered = df_sorted_single[['id', 'concept_cui', 'level_5']]\n",
    "result = pd.merge(df1_filtered, df2_filtered, on=['id', 'concept_cui'], how='outer')\n",
    "result = result.fillna(0)\n",
    "result['level_4'] = result['level_4'].astype(int)\n",
    "result['level_5'] = result['level_5'].astype(int)\n",
    "\n",
    "result= result.rename(columns={\n",
    "    'id': 'Sentence ID',\n",
    "    'concept_cui': 'Concept ID',\n",
    "    'level_4': 'Level_4',\n",
    "    'level_5': 'Level_5'\n",
    "})\n",
    "\n",
    "result.head(10)"
   ],
   "metadata": {
    "collapsed": false,
    "ExecuteTime": {
     "end_time": "2024-07-29T01:14:43.529489400Z",
     "start_time": "2024-07-29T01:14:43.504557100Z"
    }
   },
   "id": "70ff13abef067c04",
   "execution_count": 154
  },
  {
   "cell_type": "markdown",
   "source": [
    "### Data save"
   ],
   "metadata": {
    "collapsed": false
   },
   "id": "4fa636be0dacc81d"
  },
  {
   "cell_type": "code",
   "outputs": [],
   "source": [
    "result.to_csv('Karelin_4.csv', index=False, sep=',', encoding='utf-8')"
   ],
   "metadata": {
    "collapsed": false,
    "ExecuteTime": {
     "end_time": "2024-07-29T01:16:15.432149400Z",
     "start_time": "2024-07-29T01:16:15.414197Z"
    }
   },
   "id": "4ba6941b04cc8116",
   "execution_count": 157
  }
 ],
 "metadata": {
  "kernelspec": {
   "display_name": "Python 3",
   "language": "python",
   "name": "python3"
  },
  "language_info": {
   "codemirror_mode": {
    "name": "ipython",
    "version": 2
   },
   "file_extension": ".py",
   "mimetype": "text/x-python",
   "name": "python",
   "nbconvert_exporter": "python",
   "pygments_lexer": "ipython2",
   "version": "2.7.6"
  }
 },
 "nbformat": 4,
 "nbformat_minor": 5
}
