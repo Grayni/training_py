{
 "cells": [
  {
   "cell_type": "code",
   "execution_count": 1,
   "id": "initial_id",
   "metadata": {
    "collapsed": true,
    "ExecuteTime": {
     "end_time": "2024-07-29T00:02:52.588924800Z",
     "start_time": "2024-07-29T00:02:49.574983900Z"
    }
   },
   "outputs": [],
   "source": [
    "#!pip install scispacy\n",
    "import numpy as np\n",
    "import re\n",
    "import time\n",
    "import spacy\n",
    "import gensim\n",
    "import pandas as pd\n",
    "from sklearn.feature_extraction.text import TfidfVectorizer\n",
    "from sklearn.metrics.pairwise import cosine_similarity"
   ]
  },
  {
   "cell_type": "code",
   "outputs": [
    {
     "data": {
      "text/plain": "        id                                               Text\n0        0  extreme weight gain, short-term memory loss, h...\n1        1        COMPLETELY DESTROYED SEXUALLY FUNCTIONING .\n2        2  Just TWO tablets of Lexapro 10mg completely de...\n3        3    It's called PSSD: post-SSRI sexual dysfunction.\n4        4  And there is a chance that it will give you PS...\n...    ...                                                ...\n2145  2145  Exercising and dieting don't seem to get the w...\n2146  2146  Stomach problems early on: bloating, nausea, c...\n2147  2147            No side effects now accept for yawning.\n2148  2148  The only side effects I experienced were mild ...\n2149  2149  The side effects did go away after about 4 day...\n\n[2150 rows x 2 columns]",
      "text/html": "<div>\n<style scoped>\n    .dataframe tbody tr th:only-of-type {\n        vertical-align: middle;\n    }\n\n    .dataframe tbody tr th {\n        vertical-align: top;\n    }\n\n    .dataframe thead th {\n        text-align: right;\n    }\n</style>\n<table border=\"1\" class=\"dataframe\">\n  <thead>\n    <tr style=\"text-align: right;\">\n      <th></th>\n      <th>id</th>\n      <th>Text</th>\n    </tr>\n  </thead>\n  <tbody>\n    <tr>\n      <th>0</th>\n      <td>0</td>\n      <td>extreme weight gain, short-term memory loss, h...</td>\n    </tr>\n    <tr>\n      <th>1</th>\n      <td>1</td>\n      <td>COMPLETELY DESTROYED SEXUALLY FUNCTIONING .</td>\n    </tr>\n    <tr>\n      <th>2</th>\n      <td>2</td>\n      <td>Just TWO tablets of Lexapro 10mg completely de...</td>\n    </tr>\n    <tr>\n      <th>3</th>\n      <td>3</td>\n      <td>It's called PSSD: post-SSRI sexual dysfunction.</td>\n    </tr>\n    <tr>\n      <th>4</th>\n      <td>4</td>\n      <td>And there is a chance that it will give you PS...</td>\n    </tr>\n    <tr>\n      <th>...</th>\n      <td>...</td>\n      <td>...</td>\n    </tr>\n    <tr>\n      <th>2145</th>\n      <td>2145</td>\n      <td>Exercising and dieting don't seem to get the w...</td>\n    </tr>\n    <tr>\n      <th>2146</th>\n      <td>2146</td>\n      <td>Stomach problems early on: bloating, nausea, c...</td>\n    </tr>\n    <tr>\n      <th>2147</th>\n      <td>2147</td>\n      <td>No side effects now accept for yawning.</td>\n    </tr>\n    <tr>\n      <th>2148</th>\n      <td>2148</td>\n      <td>The only side effects I experienced were mild ...</td>\n    </tr>\n    <tr>\n      <th>2149</th>\n      <td>2149</td>\n      <td>The side effects did go away after about 4 day...</td>\n    </tr>\n  </tbody>\n</table>\n<p>2150 rows × 2 columns</p>\n</div>"
     },
     "execution_count": 34,
     "metadata": {},
     "output_type": "execute_result"
    }
   ],
   "source": [
    "adverse_effects = pd.read_csv('data/concepts/side_effects.txt', sep='\\t')\n",
    "adverse_effects['id'] = range(len(adverse_effects))\n",
    "\n",
    "old_CUIs = pd.read_csv('data/concepts_2/concepts.tsv', sep='\\t')\n",
    "adverse_effects"
   ],
   "metadata": {
    "collapsed": false,
    "ExecuteTime": {
     "end_time": "2024-07-29T00:10:35.468162200Z",
     "start_time": "2024-07-29T00:10:35.428176800Z"
    }
   },
   "id": "c7a3857b40d71f9f",
   "execution_count": 34
  },
  {
   "cell_type": "code",
   "outputs": [
    {
     "data": {
      "text/plain": "         CUI                                           CONCEPT\n0  C0000765   Excessive body weight gain,Excessive weight gain\n1  C0701811      Poor short-term memory,Poor short-term memory\n2  C0002170                              Alopecia,Loss of hair\n3  C0549622                 Sexual Dysfunction,Sexual disorder\n4  C0027497                                      Nausea,Nausea",
      "text/html": "<div>\n<style scoped>\n    .dataframe tbody tr th:only-of-type {\n        vertical-align: middle;\n    }\n\n    .dataframe tbody tr th {\n        vertical-align: top;\n    }\n\n    .dataframe thead th {\n        text-align: right;\n    }\n</style>\n<table border=\"1\" class=\"dataframe\">\n  <thead>\n    <tr style=\"text-align: right;\">\n      <th></th>\n      <th>CUI</th>\n      <th>CONCEPT</th>\n    </tr>\n  </thead>\n  <tbody>\n    <tr>\n      <th>0</th>\n      <td>C0000765</td>\n      <td>Excessive body weight gain,Excessive weight gain</td>\n    </tr>\n    <tr>\n      <th>1</th>\n      <td>C0701811</td>\n      <td>Poor short-term memory,Poor short-term memory</td>\n    </tr>\n    <tr>\n      <th>2</th>\n      <td>C0002170</td>\n      <td>Alopecia,Loss of hair</td>\n    </tr>\n    <tr>\n      <th>3</th>\n      <td>C0549622</td>\n      <td>Sexual Dysfunction,Sexual disorder</td>\n    </tr>\n    <tr>\n      <th>4</th>\n      <td>C0027497</td>\n      <td>Nausea,Nausea</td>\n    </tr>\n  </tbody>\n</table>\n</div>"
     },
     "execution_count": 35,
     "metadata": {},
     "output_type": "execute_result"
    }
   ],
   "source": [
    "old_CUIs = old_CUIs.drop(columns='SNOMED_CODE')\n",
    "old_CUIs.head()"
   ],
   "metadata": {
    "collapsed": false,
    "ExecuteTime": {
     "end_time": "2024-07-29T00:10:36.507478800Z",
     "start_time": "2024-07-29T00:10:36.408383600Z"
    }
   },
   "id": "ba8d8559be6682f5",
   "execution_count": 35
  },
  {
   "cell_type": "code",
   "outputs": [],
   "source": [
    "# Функция для разделения строк и создания нового DataFrame\n",
    "def split_concept(row):\n",
    "    concepts = row['CONCEPT'].split(',')\n",
    "    return pd.DataFrame({\n",
    "        'CUI': [row['CUI']] * len(concepts),\n",
    "        'CONCEPT': concepts\n",
    "    })"
   ],
   "metadata": {
    "collapsed": false,
    "ExecuteTime": {
     "end_time": "2024-07-29T00:10:38.339764Z",
     "start_time": "2024-07-29T00:10:38.310805400Z"
    }
   },
   "id": "feeb9bd4c06dc0a",
   "execution_count": 36
  },
  {
   "cell_type": "code",
   "outputs": [
    {
     "data": {
      "text/plain": "         CUI                     CONCEPT\n0  C0000765   Excessive body weight gain\n1  C0000765        Excessive weight gain\n2  C0701811       Poor short-term memory\n4  C0002170                     Alopecia\n5  C0002170                 Loss of hair",
      "text/html": "<div>\n<style scoped>\n    .dataframe tbody tr th:only-of-type {\n        vertical-align: middle;\n    }\n\n    .dataframe tbody tr th {\n        vertical-align: top;\n    }\n\n    .dataframe thead th {\n        text-align: right;\n    }\n</style>\n<table border=\"1\" class=\"dataframe\">\n  <thead>\n    <tr style=\"text-align: right;\">\n      <th></th>\n      <th>CUI</th>\n      <th>CONCEPT</th>\n    </tr>\n  </thead>\n  <tbody>\n    <tr>\n      <th>0</th>\n      <td>C0000765</td>\n      <td>Excessive body weight gain</td>\n    </tr>\n    <tr>\n      <th>1</th>\n      <td>C0000765</td>\n      <td>Excessive weight gain</td>\n    </tr>\n    <tr>\n      <th>2</th>\n      <td>C0701811</td>\n      <td>Poor short-term memory</td>\n    </tr>\n    <tr>\n      <th>4</th>\n      <td>C0002170</td>\n      <td>Alopecia</td>\n    </tr>\n    <tr>\n      <th>5</th>\n      <td>C0002170</td>\n      <td>Loss of hair</td>\n    </tr>\n  </tbody>\n</table>\n</div>"
     },
     "execution_count": 37,
     "metadata": {},
     "output_type": "execute_result"
    }
   ],
   "source": [
    "CUIs = pd.concat([split_concept(row) for _, row in old_CUIs.iterrows()], ignore_index=True)\n",
    "CUIs = CUIs.drop_duplicates()\n",
    "CUIs.head()"
   ],
   "metadata": {
    "collapsed": false,
    "ExecuteTime": {
     "end_time": "2024-07-29T00:10:39.070778100Z",
     "start_time": "2024-07-29T00:10:38.942121500Z"
    }
   },
   "id": "a61f7b8588e4d909",
   "execution_count": 37
  },
  {
   "cell_type": "code",
   "outputs": [
    {
     "data": {
      "text/plain": "(730, 2)"
     },
     "execution_count": 38,
     "metadata": {},
     "output_type": "execute_result"
    }
   ],
   "source": [
    "CUIs.shape"
   ],
   "metadata": {
    "collapsed": false,
    "ExecuteTime": {
     "end_time": "2024-07-29T00:10:40.576296100Z",
     "start_time": "2024-07-29T00:10:40.542352Z"
    }
   },
   "id": "d1742fb78bdf9ffc",
   "execution_count": 38
  },
  {
   "cell_type": "code",
   "outputs": [],
   "source": [
    "# скачать, если не установлено\n",
    "# !pip install https://s3-us-west-2.amazonaws.com/ai2-s2-scispacy/releases/v0.5.1/en_core_sci_lg-0.5.1.tar.gz"
   ],
   "metadata": {
    "collapsed": false,
    "ExecuteTime": {
     "end_time": "2024-07-29T00:10:41.377536300Z",
     "start_time": "2024-07-29T00:10:41.364535200Z"
    }
   },
   "id": "f03fd0151e62fb9",
   "execution_count": 39
  },
  {
   "cell_type": "code",
   "outputs": [
    {
     "name": "stdout",
     "output_type": "stream",
     "text": [
      "CPU times: total: 8.59 s\n",
      "Wall time: 9.07 s\n"
     ]
    }
   ],
   "source": [
    "%%time\n",
    "# Загрузка модели для английского языка\n",
    "nlp = spacy.load(\"en_core_sci_lg\")\n",
    "spacy_stop_words = nlp.Defaults.stop_words"
   ],
   "metadata": {
    "collapsed": false,
    "ExecuteTime": {
     "end_time": "2024-07-29T00:12:25.383103600Z",
     "start_time": "2024-07-29T00:12:16.300004300Z"
    }
   },
   "id": "ae8003e6c0ceaa32",
   "execution_count": 49
  },
  {
   "cell_type": "code",
   "outputs": [],
   "source": [
    "# Предобработка текста\n",
    "custom_stop_words = ['noc', 'nos', '[d]', 'unknown_unit', '|', 'see comment', 'due', 'nec', 'unspecified', '[v]', '(see comments)']\n",
    "stop_words = spacy_stop_words.union(set(custom_stop_words))\n",
    "\n",
    "def preprocess_text(text):\n",
    "    if isinstance(text, str):\n",
    "        text = re.sub(r\"\\s+\", \" \", text.encode('ascii', 'ignore').decode())\n",
    "        text = re.sub(\"[,.!;?)%(\\'\\\":-]\", '', text)\n",
    "        text = text.lower()\n",
    "        text = ' '.join([word for word in text.split() if word not in stop_words])\n",
    "    else:\n",
    "        text = ''\n",
    "    return text"
   ],
   "metadata": {
    "collapsed": false,
    "ExecuteTime": {
     "end_time": "2024-07-29T00:12:29.451520400Z",
     "start_time": "2024-07-29T00:12:29.437535Z"
    }
   },
   "id": "416c5951bed8aa97",
   "execution_count": 50
  },
  {
   "cell_type": "code",
   "outputs": [],
   "source": [
    "# Применение предварительной обработки\n",
    "adverse_effects['adv_name_processed'] = adverse_effects['Text'].apply(preprocess_text)\n",
    "CUIs['concept_name_processed'] = CUIs['CONCEPT'].apply(preprocess_text)"
   ],
   "metadata": {
    "collapsed": false,
    "ExecuteTime": {
     "end_time": "2024-07-29T00:12:31.003000200Z",
     "start_time": "2024-07-29T00:12:30.970087800Z"
    }
   },
   "id": "d9479d47ce371ea2",
   "execution_count": 51
  },
  {
   "cell_type": "code",
   "outputs": [
    {
     "data": {
      "text/plain": "0    extreme weight gain shortterm memory loss hair...\n1            completely destroyed sexually functioning\n2    tablets lexapro 10mg completely destroyed sexu...\n3              called pssd postssri sexual dysfunction\n4    chance pssd suggests persists stop taking drug...\nName: adv_name_processed, dtype: object"
     },
     "execution_count": 52,
     "metadata": {},
     "output_type": "execute_result"
    }
   ],
   "source": [
    "adverse_effects['adv_name_processed'].head()"
   ],
   "metadata": {
    "collapsed": false,
    "ExecuteTime": {
     "end_time": "2024-07-29T00:12:32.387382200Z",
     "start_time": "2024-07-29T00:12:32.367436100Z"
    }
   },
   "id": "76f4d777de48d3aa",
   "execution_count": 52
  },
  {
   "cell_type": "code",
   "outputs": [
    {
     "data": {
      "text/plain": "0    excessive body weight gain\n1         excessive weight gain\n2         poor shortterm memory\n4                      alopecia\n5                     loss hair\nName: concept_name_processed, dtype: object"
     },
     "execution_count": 53,
     "metadata": {},
     "output_type": "execute_result"
    }
   ],
   "source": [
    "CUIs['concept_name_processed'].head()"
   ],
   "metadata": {
    "collapsed": false,
    "ExecuteTime": {
     "end_time": "2024-07-29T00:12:33.920617800Z",
     "start_time": "2024-07-29T00:12:33.882721200Z"
    }
   },
   "id": "41be9696e96ffb53",
   "execution_count": 53
  },
  {
   "cell_type": "code",
   "outputs": [],
   "source": [
    "# Токенизация\n",
    "def tokenize(text):\n",
    "    doc = nlp(text)\n",
    "    tokens = [token.text for token in doc if not token.is_punct and not token.is_space]\n",
    "    return tokens"
   ],
   "metadata": {
    "collapsed": false,
    "ExecuteTime": {
     "end_time": "2024-07-29T00:12:34.475117100Z",
     "start_time": "2024-07-29T00:12:34.464146400Z"
    }
   },
   "id": "e7a256343e988598",
   "execution_count": 54
  },
  {
   "cell_type": "code",
   "outputs": [
    {
     "name": "stdout",
     "output_type": "stream",
     "text": [
      "CPU times: total: 15.2 s\n",
      "Wall time: 15.3 s\n"
     ]
    }
   ],
   "source": [
    "%%time\n",
    "\n",
    "adverse_effects['adv_name_processed'] = adverse_effects['adv_name_processed'].apply(tokenize)\n",
    "CUIs['concept_name_processed'] = CUIs['concept_name_processed'].apply(tokenize)"
   ],
   "metadata": {
    "collapsed": false,
    "ExecuteTime": {
     "end_time": "2024-07-29T00:12:53.413016100Z",
     "start_time": "2024-07-29T00:12:38.150146100Z"
    }
   },
   "id": "e81eb1bde7767217",
   "execution_count": 55
  },
  {
   "cell_type": "code",
   "outputs": [],
   "source": [
    "# Лематизация\n",
    "def lemmatize(text):\n",
    "    doc = nlp(text)\n",
    "    lemmatized_tokens = [token.lemma_ for token in doc]\n",
    "    return lemmatized_tokens"
   ],
   "metadata": {
    "collapsed": false,
    "ExecuteTime": {
     "end_time": "2024-07-29T00:12:54.956814400Z",
     "start_time": "2024-07-29T00:12:54.926895900Z"
    }
   },
   "id": "e0601ea4ca8b674",
   "execution_count": 56
  },
  {
   "cell_type": "code",
   "outputs": [
    {
     "name": "stdout",
     "output_type": "stream",
     "text": [
      "CPU times: total: 14.2 s\n",
      "Wall time: 14.4 s\n"
     ]
    }
   ],
   "source": [
    "%%time\n",
    "\n",
    "adverse_effects['adv_name_processed_tokens'] = adverse_effects['adv_name_processed'].apply(lambda x: lemmatize(' '.join(x)))\n",
    "CUIs['concept_name_processed_tokens'] = CUIs['concept_name_processed'].apply(lambda x: lemmatize(' '.join(x)))"
   ],
   "metadata": {
    "collapsed": false,
    "ExecuteTime": {
     "end_time": "2024-07-29T00:13:10.990658700Z",
     "start_time": "2024-07-29T00:12:56.596075400Z"
    }
   },
   "id": "8d799cf1c294ed90",
   "execution_count": 57
  },
  {
   "cell_type": "code",
   "outputs": [
    {
     "data": {
      "text/plain": "   id                                               Text  \\\n0   0  extreme weight gain, short-term memory loss, h...   \n1   1        COMPLETELY DESTROYED SEXUALLY FUNCTIONING .   \n2   2  Just TWO tablets of Lexapro 10mg completely de...   \n3   3    It's called PSSD: post-SSRI sexual dysfunction.   \n4   4  And there is a chance that it will give you PS...   \n5   5  Nausea, Blurred Vision, 3 to 5 hours sleep, Su...   \n6   6  I was unable to sleep, had blurred vision, and...   \n7   7  Unable to eat anything significant for the 3 d...   \n8   8  While driving to a friends house crazy thought...   \n9   9  Would not have been able to work (software dev...   \n\n                                  adv_name_processed  \\\n0  [extreme, weight, gain, shortterm, memory, los...   \n1     [completely, destroyed, sexually, functioning]   \n2  [tablets, lexapro, 10, mg, completely, destroy...   \n3      [called, pssd, postssri, sexual, dysfunction]   \n4  [chance, pssd, suggests, persists, stop, takin...   \n5  [nausea, blurred, vision, 3, 5, hours, sleep, ...   \n6  [unable, sleep, blurred, vision, felt, sick, s...   \n7                [unable, eat, significant, 3, days]   \n8  [driving, friends, house, crazy, thoughts, kep...   \n9  [able, work, software, developer, attempting, ...   \n\n                           adv_name_processed_tokens  \n0  [extreme, weight, gain, shortterm, memory, los...  \n1          [completely, destroy, sexually, function]  \n2  [tablet, lexapro, 10, mg, completely, destroy,...  \n3        [call, pssd, postssri, sexual, dysfunction]  \n4  [chance, pssd, suggest, persist, stop, take, d...  \n5  [nausea, blurred, vision, 3, 5, hour, sleep, s...  \n6  [unable, sleep, blurred, vision, feel, sick, s...  \n7                 [unable, eat, significant, 3, day]  \n8  [drive, friend, house, crazy, thought, keep, h...  \n9  [able, work, software, developer, attempt, dru...  ",
      "text/html": "<div>\n<style scoped>\n    .dataframe tbody tr th:only-of-type {\n        vertical-align: middle;\n    }\n\n    .dataframe tbody tr th {\n        vertical-align: top;\n    }\n\n    .dataframe thead th {\n        text-align: right;\n    }\n</style>\n<table border=\"1\" class=\"dataframe\">\n  <thead>\n    <tr style=\"text-align: right;\">\n      <th></th>\n      <th>id</th>\n      <th>Text</th>\n      <th>adv_name_processed</th>\n      <th>adv_name_processed_tokens</th>\n    </tr>\n  </thead>\n  <tbody>\n    <tr>\n      <th>0</th>\n      <td>0</td>\n      <td>extreme weight gain, short-term memory loss, h...</td>\n      <td>[extreme, weight, gain, shortterm, memory, los...</td>\n      <td>[extreme, weight, gain, shortterm, memory, los...</td>\n    </tr>\n    <tr>\n      <th>1</th>\n      <td>1</td>\n      <td>COMPLETELY DESTROYED SEXUALLY FUNCTIONING .</td>\n      <td>[completely, destroyed, sexually, functioning]</td>\n      <td>[completely, destroy, sexually, function]</td>\n    </tr>\n    <tr>\n      <th>2</th>\n      <td>2</td>\n      <td>Just TWO tablets of Lexapro 10mg completely de...</td>\n      <td>[tablets, lexapro, 10, mg, completely, destroy...</td>\n      <td>[tablet, lexapro, 10, mg, completely, destroy,...</td>\n    </tr>\n    <tr>\n      <th>3</th>\n      <td>3</td>\n      <td>It's called PSSD: post-SSRI sexual dysfunction.</td>\n      <td>[called, pssd, postssri, sexual, dysfunction]</td>\n      <td>[call, pssd, postssri, sexual, dysfunction]</td>\n    </tr>\n    <tr>\n      <th>4</th>\n      <td>4</td>\n      <td>And there is a chance that it will give you PS...</td>\n      <td>[chance, pssd, suggests, persists, stop, takin...</td>\n      <td>[chance, pssd, suggest, persist, stop, take, d...</td>\n    </tr>\n    <tr>\n      <th>5</th>\n      <td>5</td>\n      <td>Nausea, Blurred Vision, 3 to 5 hours sleep, Su...</td>\n      <td>[nausea, blurred, vision, 3, 5, hours, sleep, ...</td>\n      <td>[nausea, blurred, vision, 3, 5, hour, sleep, s...</td>\n    </tr>\n    <tr>\n      <th>6</th>\n      <td>6</td>\n      <td>I was unable to sleep, had blurred vision, and...</td>\n      <td>[unable, sleep, blurred, vision, felt, sick, s...</td>\n      <td>[unable, sleep, blurred, vision, feel, sick, s...</td>\n    </tr>\n    <tr>\n      <th>7</th>\n      <td>7</td>\n      <td>Unable to eat anything significant for the 3 d...</td>\n      <td>[unable, eat, significant, 3, days]</td>\n      <td>[unable, eat, significant, 3, day]</td>\n    </tr>\n    <tr>\n      <th>8</th>\n      <td>8</td>\n      <td>While driving to a friends house crazy thought...</td>\n      <td>[driving, friends, house, crazy, thoughts, kep...</td>\n      <td>[drive, friend, house, crazy, thought, keep, h...</td>\n    </tr>\n    <tr>\n      <th>9</th>\n      <td>9</td>\n      <td>Would not have been able to work (software dev...</td>\n      <td>[able, work, software, developer, attempting, ...</td>\n      <td>[able, work, software, developer, attempt, dru...</td>\n    </tr>\n  </tbody>\n</table>\n</div>"
     },
     "execution_count": 58,
     "metadata": {},
     "output_type": "execute_result"
    }
   ],
   "source": [
    "adverse_effects.head(10)"
   ],
   "metadata": {
    "collapsed": false,
    "ExecuteTime": {
     "end_time": "2024-07-29T00:13:12.373633800Z",
     "start_time": "2024-07-29T00:13:12.341720200Z"
    }
   },
   "id": "ade968880a4deeef",
   "execution_count": 58
  },
  {
   "cell_type": "code",
   "outputs": [
    {
     "data": {
      "text/plain": "          CUI                     CONCEPT           concept_name_processed  \\\n0   C0000765   Excessive body weight gain  [excessive, body, weight, gain]   \n1   C0000765        Excessive weight gain        [excessive, weight, gain]   \n2   C0701811       Poor short-term memory        [poor, shortterm, memory]   \n4   C0002170                     Alopecia                       [alopecia]   \n5   C0002170                 Loss of hair                     [loss, hair]   \n6   C0549622           Sexual Dysfunction            [sexual, dysfunction]   \n7   C0549622              Sexual disorder               [sexual, disorder]   \n8   C0027497                       Nausea                         [nausea]   \n10  C0344232               Blurred vision                [blurred, vision]   \n11  C0344232     Blurring of visual image        [blurring, visual, image]   \n\n      concept_name_processed_tokens  \n0   [excessive, body, weight, gain]  \n1         [excessive, weight, gain]  \n2         [poor, shortterm, memory]  \n4                        [alopecia]  \n5                      [loss, hair]  \n6             [sexual, dysfunction]  \n7                [sexual, disorder]  \n8                          [nausea]  \n10                [blurred, vision]  \n11            [blur, visual, image]  ",
      "text/html": "<div>\n<style scoped>\n    .dataframe tbody tr th:only-of-type {\n        vertical-align: middle;\n    }\n\n    .dataframe tbody tr th {\n        vertical-align: top;\n    }\n\n    .dataframe thead th {\n        text-align: right;\n    }\n</style>\n<table border=\"1\" class=\"dataframe\">\n  <thead>\n    <tr style=\"text-align: right;\">\n      <th></th>\n      <th>CUI</th>\n      <th>CONCEPT</th>\n      <th>concept_name_processed</th>\n      <th>concept_name_processed_tokens</th>\n    </tr>\n  </thead>\n  <tbody>\n    <tr>\n      <th>0</th>\n      <td>C0000765</td>\n      <td>Excessive body weight gain</td>\n      <td>[excessive, body, weight, gain]</td>\n      <td>[excessive, body, weight, gain]</td>\n    </tr>\n    <tr>\n      <th>1</th>\n      <td>C0000765</td>\n      <td>Excessive weight gain</td>\n      <td>[excessive, weight, gain]</td>\n      <td>[excessive, weight, gain]</td>\n    </tr>\n    <tr>\n      <th>2</th>\n      <td>C0701811</td>\n      <td>Poor short-term memory</td>\n      <td>[poor, shortterm, memory]</td>\n      <td>[poor, shortterm, memory]</td>\n    </tr>\n    <tr>\n      <th>4</th>\n      <td>C0002170</td>\n      <td>Alopecia</td>\n      <td>[alopecia]</td>\n      <td>[alopecia]</td>\n    </tr>\n    <tr>\n      <th>5</th>\n      <td>C0002170</td>\n      <td>Loss of hair</td>\n      <td>[loss, hair]</td>\n      <td>[loss, hair]</td>\n    </tr>\n    <tr>\n      <th>6</th>\n      <td>C0549622</td>\n      <td>Sexual Dysfunction</td>\n      <td>[sexual, dysfunction]</td>\n      <td>[sexual, dysfunction]</td>\n    </tr>\n    <tr>\n      <th>7</th>\n      <td>C0549622</td>\n      <td>Sexual disorder</td>\n      <td>[sexual, disorder]</td>\n      <td>[sexual, disorder]</td>\n    </tr>\n    <tr>\n      <th>8</th>\n      <td>C0027497</td>\n      <td>Nausea</td>\n      <td>[nausea]</td>\n      <td>[nausea]</td>\n    </tr>\n    <tr>\n      <th>10</th>\n      <td>C0344232</td>\n      <td>Blurred vision</td>\n      <td>[blurred, vision]</td>\n      <td>[blurred, vision]</td>\n    </tr>\n    <tr>\n      <th>11</th>\n      <td>C0344232</td>\n      <td>Blurring of visual image</td>\n      <td>[blurring, visual, image]</td>\n      <td>[blur, visual, image]</td>\n    </tr>\n  </tbody>\n</table>\n</div>"
     },
     "execution_count": 59,
     "metadata": {},
     "output_type": "execute_result"
    }
   ],
   "source": [
    "CUIs.head(10)"
   ],
   "metadata": {
    "collapsed": false,
    "ExecuteTime": {
     "end_time": "2024-07-29T00:13:20.070092300Z",
     "start_time": "2024-07-29T00:13:20.012813500Z"
    }
   },
   "id": "f6f48f5ea6f3c208",
   "execution_count": 59
  },
  {
   "cell_type": "markdown",
   "source": [
    "### Векторизация токенов"
   ],
   "metadata": {
    "collapsed": false
   },
   "id": "741c7fa950eb303f"
  },
  {
   "cell_type": "code",
   "outputs": [],
   "source": [
    "combined_texts = pd.concat([adverse_effects['adv_name_processed'], CUIs['concept_name_processed']])\n",
    "vectorizer = TfidfVectorizer(tokenizer=lambda x: x, lowercase=False, token_pattern=None)\n",
    "vectorizer.fit(combined_texts)\n",
    "adv_effects_matrix = vectorizer.transform(adverse_effects['adv_name_processed'])\n",
    "CUIs_matrix = vectorizer.transform(CUIs['concept_name_processed'])"
   ],
   "metadata": {
    "collapsed": false,
    "ExecuteTime": {
     "end_time": "2024-07-29T00:13:24.211739500Z",
     "start_time": "2024-07-29T00:13:24.157933300Z"
    }
   },
   "id": "41a80787c6a4dff",
   "execution_count": 60
  },
  {
   "cell_type": "code",
   "outputs": [],
   "source": [
    "# Поиск концептов с использованием косинусного сходства\n",
    "similarities = cosine_similarity(adv_effects_matrix, CUIs_matrix)"
   ],
   "metadata": {
    "collapsed": false,
    "ExecuteTime": {
     "end_time": "2024-07-29T00:13:25.699203300Z",
     "start_time": "2024-07-29T00:13:25.681218Z"
    }
   },
   "id": "2f94205ae3fec650",
   "execution_count": 61
  },
  {
   "cell_type": "code",
   "outputs": [],
   "source": [
    "# Получение наиболее похожих концептов для каждого побочного эффекта\n",
    "adverse_effects['most_similar_concept_index'] = similarities.argmax(axis=1)\n",
    "adverse_effects['similarity_score'] = similarities.max(axis=1)"
   ],
   "metadata": {
    "collapsed": false,
    "ExecuteTime": {
     "end_time": "2024-07-29T00:13:26.413991300Z",
     "start_time": "2024-07-29T00:13:26.389058400Z"
    }
   },
   "id": "a8709ef2d00626bf",
   "execution_count": 62
  },
  {
   "cell_type": "code",
   "outputs": [],
   "source": [
    "# Получение текста наиболее похожих концептов\n",
    "def get_concept_text(index):\n",
    "    return CUIs.iloc[index]['CONCEPT']"
   ],
   "metadata": {
    "collapsed": false,
    "ExecuteTime": {
     "end_time": "2024-07-29T00:13:27.319543Z",
     "start_time": "2024-07-29T00:13:27.299556900Z"
    }
   },
   "id": "dc5d287e71939331",
   "execution_count": 63
  },
  {
   "cell_type": "code",
   "outputs": [],
   "source": [
    "adverse_effects['most_similar_concept_text'] = adverse_effects['most_similar_concept_index'].apply(get_concept_text)"
   ],
   "metadata": {
    "collapsed": false,
    "ExecuteTime": {
     "end_time": "2024-07-29T00:13:28.107125200Z",
     "start_time": "2024-07-29T00:13:28.001443700Z"
    }
   },
   "id": "8a59346a89785053",
   "execution_count": 64
  },
  {
   "cell_type": "code",
   "outputs": [],
   "source": [
    "# Добавление текста концептов в DataFrame\n",
    "adverse_effects = adverse_effects.merge(CUIs[['CUI', 'CONCEPT']], left_on='most_similar_concept_index', right_index=True, suffixes=('', '_concept'))\n",
    "\n",
    "# # Переименование столбцов для удобства\n",
    "# adverse_effects = adverse_effects.rename(columns={'CONCEPT': 'most_similar_concept_text'})"
   ],
   "metadata": {
    "collapsed": false,
    "ExecuteTime": {
     "end_time": "2024-07-29T00:13:29.308177Z",
     "start_time": "2024-07-29T00:13:29.288230700Z"
    }
   },
   "id": "d53550150df9aa9e",
   "execution_count": 65
  },
  {
   "cell_type": "code",
   "outputs": [
    {
     "data": {
      "text/plain": "                                                 Text  \\\n0   extreme weight gain, short-term memory loss, h...   \n1         COMPLETELY DESTROYED SEXUALLY FUNCTIONING .   \n2   Just TWO tablets of Lexapro 10mg completely de...   \n3     It's called PSSD: post-SSRI sexual dysfunction.   \n5   Nausea, Blurred Vision, 3 to 5 hours sleep, Su...   \n6   I was unable to sleep, had blurred vision, and...   \n7   Unable to eat anything significant for the 3 d...   \n9   Would not have been able to work (software dev...   \n10  First 10 days were HORRIBLE, like a looong pan...   \n13  the last three weeks I haven't been able to wa...   \n\n                            adv_name_processed_tokens  \\\n0   [extreme, weight, gain, shortterm, memory, los...   \n1           [completely, destroy, sexually, function]   \n2   [tablet, lexapro, 10, mg, completely, destroy,...   \n3         [call, pssd, postssri, sexual, dysfunction]   \n5   [nausea, blurred, vision, 3, 5, hour, sleep, s...   \n6   [unable, sleep, blurred, vision, feel, sick, s...   \n7                  [unable, eat, significant, 3, day]   \n9   [able, work, software, developer, attempt, dru...   \n10  [10, day, horrible, like, looong, panic, attac...   \n13  [week, have, not, able, watch, tv, make, feel,...   \n\n     most_similar_concept_text  similarity_score  \n0                 Loss of hair          0.612739  \n1   Cannot be aroused sexually          0.362110  \n2              Sexual disorder          0.143115  \n3           Sexual Dysfunction          0.495548  \n5               Blurred vision          0.533160  \n6               Blurred vision          0.591695  \n7               Unable to move          0.414744  \n9             Problems at work          0.382048  \n10                Panic attack          0.496849  \n13                   Dizziness          0.182931  ",
      "text/html": "<div>\n<style scoped>\n    .dataframe tbody tr th:only-of-type {\n        vertical-align: middle;\n    }\n\n    .dataframe tbody tr th {\n        vertical-align: top;\n    }\n\n    .dataframe thead th {\n        text-align: right;\n    }\n</style>\n<table border=\"1\" class=\"dataframe\">\n  <thead>\n    <tr style=\"text-align: right;\">\n      <th></th>\n      <th>Text</th>\n      <th>adv_name_processed_tokens</th>\n      <th>most_similar_concept_text</th>\n      <th>similarity_score</th>\n    </tr>\n  </thead>\n  <tbody>\n    <tr>\n      <th>0</th>\n      <td>extreme weight gain, short-term memory loss, h...</td>\n      <td>[extreme, weight, gain, shortterm, memory, los...</td>\n      <td>Loss of hair</td>\n      <td>0.612739</td>\n    </tr>\n    <tr>\n      <th>1</th>\n      <td>COMPLETELY DESTROYED SEXUALLY FUNCTIONING .</td>\n      <td>[completely, destroy, sexually, function]</td>\n      <td>Cannot be aroused sexually</td>\n      <td>0.362110</td>\n    </tr>\n    <tr>\n      <th>2</th>\n      <td>Just TWO tablets of Lexapro 10mg completely de...</td>\n      <td>[tablet, lexapro, 10, mg, completely, destroy,...</td>\n      <td>Sexual disorder</td>\n      <td>0.143115</td>\n    </tr>\n    <tr>\n      <th>3</th>\n      <td>It's called PSSD: post-SSRI sexual dysfunction.</td>\n      <td>[call, pssd, postssri, sexual, dysfunction]</td>\n      <td>Sexual Dysfunction</td>\n      <td>0.495548</td>\n    </tr>\n    <tr>\n      <th>5</th>\n      <td>Nausea, Blurred Vision, 3 to 5 hours sleep, Su...</td>\n      <td>[nausea, blurred, vision, 3, 5, hour, sleep, s...</td>\n      <td>Blurred vision</td>\n      <td>0.533160</td>\n    </tr>\n    <tr>\n      <th>6</th>\n      <td>I was unable to sleep, had blurred vision, and...</td>\n      <td>[unable, sleep, blurred, vision, feel, sick, s...</td>\n      <td>Blurred vision</td>\n      <td>0.591695</td>\n    </tr>\n    <tr>\n      <th>7</th>\n      <td>Unable to eat anything significant for the 3 d...</td>\n      <td>[unable, eat, significant, 3, day]</td>\n      <td>Unable to move</td>\n      <td>0.414744</td>\n    </tr>\n    <tr>\n      <th>9</th>\n      <td>Would not have been able to work (software dev...</td>\n      <td>[able, work, software, developer, attempt, dru...</td>\n      <td>Problems at work</td>\n      <td>0.382048</td>\n    </tr>\n    <tr>\n      <th>10</th>\n      <td>First 10 days were HORRIBLE, like a looong pan...</td>\n      <td>[10, day, horrible, like, looong, panic, attac...</td>\n      <td>Panic attack</td>\n      <td>0.496849</td>\n    </tr>\n    <tr>\n      <th>13</th>\n      <td>the last three weeks I haven't been able to wa...</td>\n      <td>[week, have, not, able, watch, tv, make, feel,...</td>\n      <td>Dizziness</td>\n      <td>0.182931</td>\n    </tr>\n  </tbody>\n</table>\n</div>"
     },
     "execution_count": 66,
     "metadata": {},
     "output_type": "execute_result"
    }
   ],
   "source": [
    "# Вывод результатов\n",
    "adverse_effects[['Text', 'adv_name_processed_tokens', 'most_similar_concept_text', 'similarity_score']].head(10)"
   ],
   "metadata": {
    "collapsed": false,
    "ExecuteTime": {
     "end_time": "2024-07-29T00:13:32.803691400Z",
     "start_time": "2024-07-29T00:13:32.771777Z"
    }
   },
   "id": "e76d0affe4afc1d",
   "execution_count": 66
  },
  {
   "cell_type": "markdown",
   "source": [
    "### Предобученная модель"
   ],
   "metadata": {
    "collapsed": false
   },
   "id": "10a66d131a58102a"
  },
  {
   "cell_type": "code",
   "outputs": [
    {
     "name": "stdout",
     "output_type": "stream",
     "text": [
      "CPU times: total: 1min 53s\n",
      "Wall time: 2min 33s\n"
     ]
    }
   ],
   "source": [
    "%%time\n",
    "\n",
    "model_path = 'data/BioWordVec_PubMed_MIMICIII_d200.vec.bin'  # 12.5G\n",
    "word2vec_model = gensim.models.KeyedVectors.load_word2vec_format(model_path, binary=True)"
   ],
   "metadata": {
    "collapsed": false,
    "ExecuteTime": {
     "end_time": "2024-07-29T00:17:00.305160500Z",
     "start_time": "2024-07-29T00:14:26.729849600Z"
    }
   },
   "id": "9d9ef3cf85b7f31f",
   "execution_count": 67
  },
  {
   "cell_type": "code",
   "outputs": [],
   "source": [
    "# Функция для векторизации текста с использованием BioWordVec\n",
    "def vectorize_text_with_gensim_embeddings(tokens, model):\n",
    "    vectors = [model[token] for token in tokens if token in model]\n",
    "    if vectors:\n",
    "        return np.mean(vectors, axis=0)  # Усреднение векторов\n",
    "    else:\n",
    "        return np.zeros(model.vector_size)  # Возвращает нулевой вектор, если нет известных слов"
   ],
   "metadata": {
    "collapsed": false,
    "ExecuteTime": {
     "end_time": "2024-07-29T00:17:06.829798200Z",
     "start_time": "2024-07-29T00:17:06.818788700Z"
    }
   },
   "id": "789fc63a19175a34",
   "execution_count": 68
  },
  {
   "cell_type": "code",
   "outputs": [],
   "source": [
    "# Применение функции к медицинским терминам в обоих наборах данных\n",
    "adverse_effects['adv_eff_vector'] = adverse_effects['adv_name_processed'].apply(lambda x: vectorize_text_with_gensim_embeddings(x, word2vec_model))\n",
    "CUIs['CUI_vector'] = CUIs['concept_name_processed'].apply(lambda x: vectorize_text_with_gensim_embeddings(x, word2vec_model))\n",
    "\n",
    "# Удаление строк с отсутствующими векторами\n",
    "adverse_effects = adverse_effects[adverse_effects['adv_eff_vector'].apply(lambda x: x is not None)]\n",
    "CUIs = CUIs[CUIs['CUI_vector'].apply(lambda x: x is not None)]"
   ],
   "metadata": {
    "collapsed": false,
    "ExecuteTime": {
     "end_time": "2024-07-29T00:17:09.679312Z",
     "start_time": "2024-07-29T00:17:09.164652200Z"
    }
   },
   "id": "39174bca2b1b8b76",
   "execution_count": 69
  },
  {
   "cell_type": "code",
   "outputs": [],
   "source": [
    "# Применение функции к медицинским терминам в обоих наборах данных\n",
    "adverse_effects['adv_eff_vector'] = adverse_effects['adv_name_processed'].apply(lambda x: vectorize_text_with_gensim_embeddings(x, word2vec_model))\n",
    "CUIs['CUI_vector'] = CUIs['concept_name_processed'].apply(lambda x: vectorize_text_with_gensim_embeddings(x, word2vec_model))\n",
    "\n",
    "# Удаление строк с отсутствующими векторами\n",
    "adverse_effects = adverse_effects[adverse_effects['adv_eff_vector'].apply(lambda x: x is not None)]\n",
    "CUIs = CUIs[CUIs['CUI_vector'].apply(lambda x: x is not None)]"
   ],
   "metadata": {
    "collapsed": false,
    "ExecuteTime": {
     "end_time": "2024-07-29T00:17:13.414240600Z",
     "start_time": "2024-07-29T00:17:13.331417400Z"
    }
   },
   "id": "d7856418fb42ede8",
   "execution_count": 70
  },
  {
   "cell_type": "code",
   "outputs": [],
   "source": [
    "v1 = np.vstack(adverse_effects['adv_eff_vector'])\n",
    "v2 = np.vstack(CUIs['CUI_vector'])"
   ],
   "metadata": {
    "collapsed": false,
    "ExecuteTime": {
     "end_time": "2024-07-29T00:17:15.415919100Z",
     "start_time": "2024-07-29T00:17:15.386997600Z"
    }
   },
   "id": "4baa3066845ed50b",
   "execution_count": 71
  },
  {
   "cell_type": "code",
   "outputs": [
    {
     "data": {
      "text/plain": "                                                 Text  \\\n10  I was unable to sleep, had blurred vision, and...   \n11  I was unable to sleep, had blurred vision, and...   \n12  Unable to eat anything significant for the 3 d...   \n13  Unable to eat anything significant for the 3 d...   \n14  Would not have been able to work (software dev...   \n15  Would not have been able to work (software dev...   \n16  First 10 days were HORRIBLE, like a looong pan...   \n17  First 10 days were HORRIBLE, like a looong pan...   \n18  the last three weeks I haven't been able to wa...   \n19  the last three weeks I haven't been able to wa...   \n\n                   Most Similar Concept  Similarity  \n10                Feels dreams are real    0.823651  \n11                        Sleep Talking    0.815879  \n12              Unable to think clearly    0.780996  \n13                      Unable to drink    0.775648  \n14  Unable to perform creative activity    0.826414  \n15                         Stopped work    0.825809  \n16                       Anxiety attack    0.825430  \n17                         Panic attack    0.814723  \n18              Unable to think clearly    0.805907  \n19                Feels dreams are real    0.768180  ",
      "text/html": "<div>\n<style scoped>\n    .dataframe tbody tr th:only-of-type {\n        vertical-align: middle;\n    }\n\n    .dataframe tbody tr th {\n        vertical-align: top;\n    }\n\n    .dataframe thead th {\n        text-align: right;\n    }\n</style>\n<table border=\"1\" class=\"dataframe\">\n  <thead>\n    <tr style=\"text-align: right;\">\n      <th></th>\n      <th>Text</th>\n      <th>Most Similar Concept</th>\n      <th>Similarity</th>\n    </tr>\n  </thead>\n  <tbody>\n    <tr>\n      <th>10</th>\n      <td>I was unable to sleep, had blurred vision, and...</td>\n      <td>Feels dreams are real</td>\n      <td>0.823651</td>\n    </tr>\n    <tr>\n      <th>11</th>\n      <td>I was unable to sleep, had blurred vision, and...</td>\n      <td>Sleep Talking</td>\n      <td>0.815879</td>\n    </tr>\n    <tr>\n      <th>12</th>\n      <td>Unable to eat anything significant for the 3 d...</td>\n      <td>Unable to think clearly</td>\n      <td>0.780996</td>\n    </tr>\n    <tr>\n      <th>13</th>\n      <td>Unable to eat anything significant for the 3 d...</td>\n      <td>Unable to drink</td>\n      <td>0.775648</td>\n    </tr>\n    <tr>\n      <th>14</th>\n      <td>Would not have been able to work (software dev...</td>\n      <td>Unable to perform creative activity</td>\n      <td>0.826414</td>\n    </tr>\n    <tr>\n      <th>15</th>\n      <td>Would not have been able to work (software dev...</td>\n      <td>Stopped work</td>\n      <td>0.825809</td>\n    </tr>\n    <tr>\n      <th>16</th>\n      <td>First 10 days were HORRIBLE, like a looong pan...</td>\n      <td>Anxiety attack</td>\n      <td>0.825430</td>\n    </tr>\n    <tr>\n      <th>17</th>\n      <td>First 10 days were HORRIBLE, like a looong pan...</td>\n      <td>Panic attack</td>\n      <td>0.814723</td>\n    </tr>\n    <tr>\n      <th>18</th>\n      <td>the last three weeks I haven't been able to wa...</td>\n      <td>Unable to think clearly</td>\n      <td>0.805907</td>\n    </tr>\n    <tr>\n      <th>19</th>\n      <td>the last three weeks I haven't been able to wa...</td>\n      <td>Feels dreams are real</td>\n      <td>0.768180</td>\n    </tr>\n  </tbody>\n</table>\n</div>"
     },
     "execution_count": 74,
     "metadata": {},
     "output_type": "execute_result"
    }
   ],
   "source": [
    "# Вычисление косинусного сходства\n",
    "similarity = cosine_similarity(v1, v2)\n",
    "\n",
    "# Получение топ N похожих концептов\n",
    "num_top_matches = 2\n",
    "tops = (-similarity).argsort(axis=1)[:, :num_top_matches]\n",
    "\n",
    "# Создание таблицы с результатами\n",
    "results = []\n",
    "for i in range(len(adverse_effects)):\n",
    "    for t in tops[i]:\n",
    "        results.append({\n",
    "            'Text': adverse_effects.iloc[i]['Text'],\n",
    "            'Most Similar Concept': CUIs.iloc[t]['CONCEPT'],\n",
    "            'Similarity': similarity[i][t]\n",
    "        })\n",
    "\n",
    "# Создание DataFrame из списка результатов\n",
    "joined_table = pd.DataFrame(results)\n",
    "\n",
    "# Удаление дублирующихся строк\n",
    "joined_table = joined_table.drop_duplicates().reset_index(drop=True)\n",
    "\n",
    "joined_table[10:20]"
   ],
   "metadata": {
    "collapsed": false,
    "ExecuteTime": {
     "end_time": "2024-07-29T00:22:00.607535900Z",
     "start_time": "2024-07-29T00:22:00.295370700Z"
    }
   },
   "id": "35d7025065c7bac5",
   "execution_count": 74
  }
 ],
 "metadata": {
  "kernelspec": {
   "display_name": "Python 3",
   "language": "python",
   "name": "python3"
  },
  "language_info": {
   "codemirror_mode": {
    "name": "ipython",
    "version": 2
   },
   "file_extension": ".py",
   "mimetype": "text/x-python",
   "name": "python",
   "nbconvert_exporter": "python",
   "pygments_lexer": "ipython2",
   "version": "2.7.6"
  }
 },
 "nbformat": 4,
 "nbformat_minor": 5
}
