{
 "cells": [
  {
   "cell_type": "code",
   "execution_count": 2,
   "id": "a8e4a6c5",
   "metadata": {},
   "outputs": [],
   "source": [
    "import os\n",
    "os.environ['GOOGLE_APPLICATION_CREDENTIALS'] = 'C:/Users/grayni/Desktop/tr_py/SQL/bigquery-362520-0ed0e93eb083.json'"
   ]
  },
  {
   "cell_type": "code",
   "execution_count": 3,
   "id": "4cd2f630",
   "metadata": {},
   "outputs": [],
   "source": [
    "from google.cloud import bigquery"
   ]
  },
  {
   "cell_type": "code",
   "execution_count": 4,
   "id": "4b055174",
   "metadata": {},
   "outputs": [],
   "source": [
    "client = bigquery.Client()"
   ]
  },
  {
   "cell_type": "code",
   "execution_count": 5,
   "id": "05a401d2",
   "metadata": {},
   "outputs": [],
   "source": [
    "# Referece to the 'Hacker news' dataset\n",
    "dataset_ref = client.dataset('hacker_news', project='bigquery-public-data')"
   ]
  },
  {
   "cell_type": "code",
   "execution_count": 6,
   "id": "dc560514",
   "metadata": {},
   "outputs": [],
   "source": [
    "# API request - fetch the dataset\n",
    "dataset = client.get_dataset(dataset_ref)"
   ]
  },
  {
   "cell_type": "code",
   "execution_count": 7,
   "id": "0fa4cd96",
   "metadata": {},
   "outputs": [
    {
     "data": {
      "text/plain": [
       "[<google.cloud.bigquery.table.TableListItem at 0x1d518b99fc0>,\n",
       " <google.cloud.bigquery.table.TableListItem at 0x1d5322c3eb0>,\n",
       " <google.cloud.bigquery.table.TableListItem at 0x1d5322c3ee0>,\n",
       " <google.cloud.bigquery.table.TableListItem at 0x1d5322c3c10>]"
      ]
     },
     "execution_count": 7,
     "metadata": {},
     "output_type": "execute_result"
    }
   ],
   "source": [
    "# List all the tables in the 'hacker_news' dataset\n",
    "tables = list(client.list_tables(dataset))\n",
    "\n",
    "# 4 tables\n",
    "tables"
   ]
  },
  {
   "cell_type": "code",
   "execution_count": 8,
   "id": "6914ed1d",
   "metadata": {},
   "outputs": [
    {
     "name": "stdout",
     "output_type": "stream",
     "text": [
      "comments\n",
      "full\n",
      "full_201510\n",
      "stories\n"
     ]
    }
   ],
   "source": [
    "# Show every table -> .table_id\n",
    "for table in tables:\n",
    "    print(table.table_id)"
   ]
  },
  {
   "cell_type": "code",
   "execution_count": 9,
   "id": "8a2d6229",
   "metadata": {},
   "outputs": [
    {
     "data": {
      "text/plain": [
       "Table(TableReference(DatasetReference('bigquery-public-data', 'hacker_news'), 'full'))"
      ]
     },
     "execution_count": 9,
     "metadata": {},
     "output_type": "execute_result"
    }
   ],
   "source": [
    "# Reference to the  'full' table\n",
    "table_ref = dataset_ref.table('full')\n",
    "\n",
    "# API request - feth the table\n",
    "table = client.get_table(table_ref)\n",
    "table"
   ]
  },
  {
   "cell_type": "code",
   "execution_count": 10,
   "id": "c4c67cfb",
   "metadata": {},
   "outputs": [
    {
     "data": {
      "text/plain": [
       "[SchemaField('title', 'STRING', 'NULLABLE', 'Story title', (), None),\n",
       " SchemaField('url', 'STRING', 'NULLABLE', 'Story url', (), None),\n",
       " SchemaField('text', 'STRING', 'NULLABLE', 'Story or comment text', (), None),\n",
       " SchemaField('dead', 'BOOLEAN', 'NULLABLE', 'Is dead?', (), None),\n",
       " SchemaField('by', 'STRING', 'NULLABLE', \"The username of the item's author.\", (), None),\n",
       " SchemaField('score', 'INTEGER', 'NULLABLE', 'Story score', (), None),\n",
       " SchemaField('time', 'INTEGER', 'NULLABLE', 'Unix time', (), None),\n",
       " SchemaField('timestamp', 'TIMESTAMP', 'NULLABLE', 'Timestamp for the unix time', (), None),\n",
       " SchemaField('type', 'STRING', 'NULLABLE', 'Type of details (comment, comment_ranking, poll, story, job, pollopt)', (), None),\n",
       " SchemaField('id', 'INTEGER', 'NULLABLE', \"The item's unique id.\", (), None),\n",
       " SchemaField('parent', 'INTEGER', 'NULLABLE', 'Parent comment ID', (), None),\n",
       " SchemaField('descendants', 'INTEGER', 'NULLABLE', 'Number of story or poll descendants', (), None),\n",
       " SchemaField('ranking', 'INTEGER', 'NULLABLE', 'Comment ranking', (), None),\n",
       " SchemaField('deleted', 'BOOLEAN', 'NULLABLE', 'Is deleted?', (), None)]"
      ]
     },
     "execution_count": 10,
     "metadata": {},
     "output_type": "execute_result"
    }
   ],
   "source": [
    "# Schema\n",
    "table.schema"
   ]
  },
  {
   "cell_type": "code",
   "execution_count": 11,
   "id": "3e36dce9",
   "metadata": {},
   "outputs": [
    {
     "data": {
      "text/html": [
       "<div>\n",
       "<style scoped>\n",
       "    .dataframe tbody tr th:only-of-type {\n",
       "        vertical-align: middle;\n",
       "    }\n",
       "\n",
       "    .dataframe tbody tr th {\n",
       "        vertical-align: top;\n",
       "    }\n",
       "\n",
       "    .dataframe thead th {\n",
       "        text-align: right;\n",
       "    }\n",
       "</style>\n",
       "<table border=\"1\" class=\"dataframe\">\n",
       "  <thead>\n",
       "    <tr style=\"text-align: right;\">\n",
       "      <th></th>\n",
       "      <th>title</th>\n",
       "      <th>url</th>\n",
       "      <th>text</th>\n",
       "      <th>dead</th>\n",
       "      <th>by</th>\n",
       "      <th>score</th>\n",
       "      <th>time</th>\n",
       "      <th>timestamp</th>\n",
       "      <th>type</th>\n",
       "      <th>id</th>\n",
       "      <th>parent</th>\n",
       "      <th>descendants</th>\n",
       "      <th>ranking</th>\n",
       "      <th>deleted</th>\n",
       "    </tr>\n",
       "  </thead>\n",
       "  <tbody>\n",
       "    <tr>\n",
       "      <th>0</th>\n",
       "      <td>None</td>\n",
       "      <td>None</td>\n",
       "      <td>At the end of the day, it&amp;#x27;s about access ...</td>\n",
       "      <td>&lt;NA&gt;</td>\n",
       "      <td>dalfonso</td>\n",
       "      <td>&lt;NA&gt;</td>\n",
       "      <td>1496774844</td>\n",
       "      <td>2017-06-06 18:47:24+00:00</td>\n",
       "      <td>comment</td>\n",
       "      <td>14499954</td>\n",
       "      <td>14498853</td>\n",
       "      <td>&lt;NA&gt;</td>\n",
       "      <td>&lt;NA&gt;</td>\n",
       "      <td>&lt;NA&gt;</td>\n",
       "    </tr>\n",
       "    <tr>\n",
       "      <th>1</th>\n",
       "      <td>None</td>\n",
       "      <td>None</td>\n",
       "      <td>In this case, Linux really does mean freedom.</td>\n",
       "      <td>&lt;NA&gt;</td>\n",
       "      <td>narrator</td>\n",
       "      <td>&lt;NA&gt;</td>\n",
       "      <td>1284277163</td>\n",
       "      <td>2010-09-12 07:39:23+00:00</td>\n",
       "      <td>comment</td>\n",
       "      <td>1683247</td>\n",
       "      <td>1683228</td>\n",
       "      <td>&lt;NA&gt;</td>\n",
       "      <td>&lt;NA&gt;</td>\n",
       "      <td>&lt;NA&gt;</td>\n",
       "    </tr>\n",
       "    <tr>\n",
       "      <th>2</th>\n",
       "      <td>None</td>\n",
       "      <td>None</td>\n",
       "      <td>I addressed that. Do you not appreciate that w...</td>\n",
       "      <td>&lt;NA&gt;</td>\n",
       "      <td>InclinedPlane</td>\n",
       "      <td>&lt;NA&gt;</td>\n",
       "      <td>1284277155</td>\n",
       "      <td>2010-09-12 07:39:15+00:00</td>\n",
       "      <td>comment</td>\n",
       "      <td>1683246</td>\n",
       "      <td>1682153</td>\n",
       "      <td>&lt;NA&gt;</td>\n",
       "      <td>&lt;NA&gt;</td>\n",
       "      <td>&lt;NA&gt;</td>\n",
       "    </tr>\n",
       "    <tr>\n",
       "      <th>3</th>\n",
       "      <td>None</td>\n",
       "      <td>None</td>\n",
       "      <td>haha i came here to post just that...&lt;p&gt;Java i...</td>\n",
       "      <td>&lt;NA&gt;</td>\n",
       "      <td>PhrosTT</td>\n",
       "      <td>&lt;NA&gt;</td>\n",
       "      <td>1284277082</td>\n",
       "      <td>2010-09-12 07:38:02+00:00</td>\n",
       "      <td>comment</td>\n",
       "      <td>1683245</td>\n",
       "      <td>1683236</td>\n",
       "      <td>&lt;NA&gt;</td>\n",
       "      <td>&lt;NA&gt;</td>\n",
       "      <td>&lt;NA&gt;</td>\n",
       "    </tr>\n",
       "    <tr>\n",
       "      <th>4</th>\n",
       "      <td>None</td>\n",
       "      <td>None</td>\n",
       "      <td>Orignal source:&lt;p&gt;Java Programmers are the Ero...</td>\n",
       "      <td>&lt;NA&gt;</td>\n",
       "      <td>elviejo</td>\n",
       "      <td>&lt;NA&gt;</td>\n",
       "      <td>1284277028</td>\n",
       "      <td>2010-09-12 07:37:08+00:00</td>\n",
       "      <td>comment</td>\n",
       "      <td>1683244</td>\n",
       "      <td>1683030</td>\n",
       "      <td>&lt;NA&gt;</td>\n",
       "      <td>&lt;NA&gt;</td>\n",
       "      <td>&lt;NA&gt;</td>\n",
       "    </tr>\n",
       "  </tbody>\n",
       "</table>\n",
       "</div>"
      ],
      "text/plain": [
       "  title   url                                               text  dead  \\\n",
       "0  None  None  At the end of the day, it&#x27;s about access ...  <NA>   \n",
       "1  None  None      In this case, Linux really does mean freedom.  <NA>   \n",
       "2  None  None  I addressed that. Do you not appreciate that w...  <NA>   \n",
       "3  None  None  haha i came here to post just that...<p>Java i...  <NA>   \n",
       "4  None  None  Orignal source:<p>Java Programmers are the Ero...  <NA>   \n",
       "\n",
       "              by  score        time                 timestamp     type  \\\n",
       "0       dalfonso   <NA>  1496774844 2017-06-06 18:47:24+00:00  comment   \n",
       "1       narrator   <NA>  1284277163 2010-09-12 07:39:23+00:00  comment   \n",
       "2  InclinedPlane   <NA>  1284277155 2010-09-12 07:39:15+00:00  comment   \n",
       "3        PhrosTT   <NA>  1284277082 2010-09-12 07:38:02+00:00  comment   \n",
       "4        elviejo   <NA>  1284277028 2010-09-12 07:37:08+00:00  comment   \n",
       "\n",
       "         id    parent  descendants  ranking  deleted  \n",
       "0  14499954  14498853         <NA>     <NA>     <NA>  \n",
       "1   1683247   1683228         <NA>     <NA>     <NA>  \n",
       "2   1683246   1682153         <NA>     <NA>     <NA>  \n",
       "3   1683245   1683236         <NA>     <NA>     <NA>  \n",
       "4   1683244   1683030         <NA>     <NA>     <NA>  "
      ]
     },
     "execution_count": 11,
     "metadata": {},
     "output_type": "execute_result"
    }
   ],
   "source": [
    "client.list_rows(table, max_results=5).to_dataframe()"
   ]
  },
  {
   "cell_type": "code",
   "execution_count": 19,
   "id": "e2a73e92",
   "metadata": {},
   "outputs": [
    {
     "data": {
      "text/html": [
       "<div>\n",
       "<style scoped>\n",
       "    .dataframe tbody tr th:only-of-type {\n",
       "        vertical-align: middle;\n",
       "    }\n",
       "\n",
       "    .dataframe tbody tr th {\n",
       "        vertical-align: top;\n",
       "    }\n",
       "\n",
       "    .dataframe thead th {\n",
       "        text-align: right;\n",
       "    }\n",
       "</style>\n",
       "<table border=\"1\" class=\"dataframe\">\n",
       "  <thead>\n",
       "    <tr style=\"text-align: right;\">\n",
       "      <th></th>\n",
       "      <th>by</th>\n",
       "    </tr>\n",
       "  </thead>\n",
       "  <tbody>\n",
       "    <tr>\n",
       "      <th>0</th>\n",
       "      <td>dalfonso</td>\n",
       "    </tr>\n",
       "    <tr>\n",
       "      <th>1</th>\n",
       "      <td>narrator</td>\n",
       "    </tr>\n",
       "    <tr>\n",
       "      <th>2</th>\n",
       "      <td>InclinedPlane</td>\n",
       "    </tr>\n",
       "    <tr>\n",
       "      <th>3</th>\n",
       "      <td>PhrosTT</td>\n",
       "    </tr>\n",
       "    <tr>\n",
       "      <th>4</th>\n",
       "      <td>elviejo</td>\n",
       "    </tr>\n",
       "  </tbody>\n",
       "</table>\n",
       "</div>"
      ],
      "text/plain": [
       "              by\n",
       "0       dalfonso\n",
       "1       narrator\n",
       "2  InclinedPlane\n",
       "3        PhrosTT\n",
       "4        elviejo"
      ]
     },
     "execution_count": 19,
     "metadata": {},
     "output_type": "execute_result"
    }
   ],
   "source": [
    "# Show one column\n",
    "client.list_rows(table, selected_fields=table.schema[4:5], max_results=5).to_dataframe()"
   ]
  },
  {
   "cell_type": "code",
   "execution_count": null,
   "id": "988b33f3",
   "metadata": {},
   "outputs": [],
   "source": []
  }
 ],
 "metadata": {
  "kernelspec": {
   "display_name": "Python 3 (ipykernel)",
   "language": "python",
   "name": "python3"
  },
  "language_info": {
   "codemirror_mode": {
    "name": "ipython",
    "version": 3
   },
   "file_extension": ".py",
   "mimetype": "text/x-python",
   "name": "python",
   "nbconvert_exporter": "python",
   "pygments_lexer": "ipython3",
   "version": "3.10.6"
  }
 },
 "nbformat": 4,
 "nbformat_minor": 5
}
