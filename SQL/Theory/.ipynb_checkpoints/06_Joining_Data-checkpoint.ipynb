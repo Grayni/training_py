{
 "cells": [
  {
   "cell_type": "code",
   "execution_count": 1,
   "id": "9c502a1e",
   "metadata": {},
   "outputs": [],
   "source": [
    "import os\n",
    "os.environ['GOOGLE_APPLICATION_CREDENTIALS'] = 'C:/Users/grayni/Desktop/tr_py/SQL/bigquery-362520-0ed0e93eb083.json'"
   ]
  },
  {
   "cell_type": "code",
   "execution_count": 3,
   "id": "e80d983f",
   "metadata": {},
   "outputs": [
    {
     "data": {
      "text/html": [
       "<div>\n",
       "<style scoped>\n",
       "    .dataframe tbody tr th:only-of-type {\n",
       "        vertical-align: middle;\n",
       "    }\n",
       "\n",
       "    .dataframe tbody tr th {\n",
       "        vertical-align: top;\n",
       "    }\n",
       "\n",
       "    .dataframe thead th {\n",
       "        text-align: right;\n",
       "    }\n",
       "</style>\n",
       "<table border=\"1\" class=\"dataframe\">\n",
       "  <thead>\n",
       "    <tr style=\"text-align: right;\">\n",
       "      <th></th>\n",
       "      <th>repo_name</th>\n",
       "      <th>license</th>\n",
       "    </tr>\n",
       "  </thead>\n",
       "  <tbody>\n",
       "    <tr>\n",
       "      <th>0</th>\n",
       "      <td>dischoen/GetYoutubeLikes</td>\n",
       "      <td>artistic-2.0</td>\n",
       "    </tr>\n",
       "    <tr>\n",
       "      <th>1</th>\n",
       "      <td>vinhbk272804/IQeue2</td>\n",
       "      <td>artistic-2.0</td>\n",
       "    </tr>\n",
       "    <tr>\n",
       "      <th>2</th>\n",
       "      <td>gitpan/XML-XBMC</td>\n",
       "      <td>artistic-2.0</td>\n",
       "    </tr>\n",
       "    <tr>\n",
       "      <th>3</th>\n",
       "      <td>TLINDEN/fatbackup</td>\n",
       "      <td>artistic-2.0</td>\n",
       "    </tr>\n",
       "    <tr>\n",
       "      <th>4</th>\n",
       "      <td>JuggaloJer/717</td>\n",
       "      <td>artistic-2.0</td>\n",
       "    </tr>\n",
       "  </tbody>\n",
       "</table>\n",
       "</div>"
      ],
      "text/plain": [
       "                  repo_name       license\n",
       "0  dischoen/GetYoutubeLikes  artistic-2.0\n",
       "1       vinhbk272804/IQeue2  artistic-2.0\n",
       "2           gitpan/XML-XBMC  artistic-2.0\n",
       "3         TLINDEN/fatbackup  artistic-2.0\n",
       "4            JuggaloJer/717  artistic-2.0"
      ]
     },
     "execution_count": 3,
     "metadata": {},
     "output_type": "execute_result"
    }
   ],
   "source": [
    "from google.cloud import bigquery\n",
    "\n",
    "client = bigquery.Client()\n",
    "\n",
    "dataset_ref = client.dataset('github_repos', 'bigquery-public-data')\n",
    "\n",
    "dataset = client.get_dataset(dataset_ref)\n",
    "\n",
    "licenses_ref = dataset_ref.table('licenses')\n",
    "\n",
    "licenses_table = client.get_table(licenses_ref)\n",
    "\n",
    "client.list_rows(licenses_table, max_results=5).to_dataframe()"
   ]
  },
  {
   "cell_type": "code",
   "execution_count": 5,
   "id": "3541def3",
   "metadata": {},
   "outputs": [
    {
     "data": {
      "text/html": [
       "<div>\n",
       "<style scoped>\n",
       "    .dataframe tbody tr th:only-of-type {\n",
       "        vertical-align: middle;\n",
       "    }\n",
       "\n",
       "    .dataframe tbody tr th {\n",
       "        vertical-align: top;\n",
       "    }\n",
       "\n",
       "    .dataframe thead th {\n",
       "        text-align: right;\n",
       "    }\n",
       "</style>\n",
       "<table border=\"1\" class=\"dataframe\">\n",
       "  <thead>\n",
       "    <tr style=\"text-align: right;\">\n",
       "      <th></th>\n",
       "      <th>repo_name</th>\n",
       "      <th>ref</th>\n",
       "      <th>path</th>\n",
       "      <th>mode</th>\n",
       "      <th>id</th>\n",
       "      <th>symlink_target</th>\n",
       "    </tr>\n",
       "  </thead>\n",
       "  <tbody>\n",
       "    <tr>\n",
       "      <th>0</th>\n",
       "      <td>EOL/eol</td>\n",
       "      <td>refs/heads/master</td>\n",
       "      <td>generate/vendor/railties</td>\n",
       "      <td>40960</td>\n",
       "      <td>0338c33fb3fda57db9e812ac7de969317cad4959</td>\n",
       "      <td>/usr/share/rails-ruby1.8/railties</td>\n",
       "    </tr>\n",
       "    <tr>\n",
       "      <th>1</th>\n",
       "      <td>np/ling</td>\n",
       "      <td>refs/heads/master</td>\n",
       "      <td>tests/success/merger_seq_inferred.t/merger_seq...</td>\n",
       "      <td>40960</td>\n",
       "      <td>dd4bb3d5ecabe5044d3fa5a36e0a9bf7ca878209</td>\n",
       "      <td>../../../fixtures/all/merger_seq_inferred.ll</td>\n",
       "    </tr>\n",
       "    <tr>\n",
       "      <th>2</th>\n",
       "      <td>np/ling</td>\n",
       "      <td>refs/heads/master</td>\n",
       "      <td>fixtures/sequence/lettype.ll</td>\n",
       "      <td>40960</td>\n",
       "      <td>8fdf536def2633116d65b92b3b9257bcf06e3e45</td>\n",
       "      <td>../all/lettype.ll</td>\n",
       "    </tr>\n",
       "    <tr>\n",
       "      <th>3</th>\n",
       "      <td>np/ling</td>\n",
       "      <td>refs/heads/master</td>\n",
       "      <td>fixtures/failure/wrong_order_seq3.ll</td>\n",
       "      <td>40960</td>\n",
       "      <td>c2509ae1196c4bb79d7e60a3d679488ca4a753e9</td>\n",
       "      <td>../all/wrong_order_seq3.ll</td>\n",
       "    </tr>\n",
       "    <tr>\n",
       "      <th>4</th>\n",
       "      <td>np/ling</td>\n",
       "      <td>refs/heads/master</td>\n",
       "      <td>issues/sequence/keep.t</td>\n",
       "      <td>40960</td>\n",
       "      <td>5721de3488fb32745dfc11ec482e5dd0331fecaf</td>\n",
       "      <td>../keep.t</td>\n",
       "    </tr>\n",
       "  </tbody>\n",
       "</table>\n",
       "</div>"
      ],
      "text/plain": [
       "  repo_name                ref  \\\n",
       "0   EOL/eol  refs/heads/master   \n",
       "1   np/ling  refs/heads/master   \n",
       "2   np/ling  refs/heads/master   \n",
       "3   np/ling  refs/heads/master   \n",
       "4   np/ling  refs/heads/master   \n",
       "\n",
       "                                                path   mode  \\\n",
       "0                           generate/vendor/railties  40960   \n",
       "1  tests/success/merger_seq_inferred.t/merger_seq...  40960   \n",
       "2                       fixtures/sequence/lettype.ll  40960   \n",
       "3               fixtures/failure/wrong_order_seq3.ll  40960   \n",
       "4                             issues/sequence/keep.t  40960   \n",
       "\n",
       "                                         id  \\\n",
       "0  0338c33fb3fda57db9e812ac7de969317cad4959   \n",
       "1  dd4bb3d5ecabe5044d3fa5a36e0a9bf7ca878209   \n",
       "2  8fdf536def2633116d65b92b3b9257bcf06e3e45   \n",
       "3  c2509ae1196c4bb79d7e60a3d679488ca4a753e9   \n",
       "4  5721de3488fb32745dfc11ec482e5dd0331fecaf   \n",
       "\n",
       "                                 symlink_target  \n",
       "0             /usr/share/rails-ruby1.8/railties  \n",
       "1  ../../../fixtures/all/merger_seq_inferred.ll  \n",
       "2                             ../all/lettype.ll  \n",
       "3                    ../all/wrong_order_seq3.ll  \n",
       "4                                     ../keep.t  "
      ]
     },
     "execution_count": 5,
     "metadata": {},
     "output_type": "execute_result"
    }
   ],
   "source": [
    "files_ref = dataset_ref.table('sample_files')\n",
    "\n",
    "files_table = client.get_table(files_ref)\n",
    "\n",
    "client.list_rows(files_table, max_results=5).to_dataframe()"
   ]
  },
  {
   "cell_type": "code",
   "execution_count": 8,
   "id": "7a05e1fc",
   "metadata": {},
   "outputs": [],
   "source": [
    "query=\"\"\"\n",
    "      SELECT L.license, COUNT(1) AS number_of_files\n",
    "      FROM `bigquery-public-data.github_repos.sample_files` AS df\n",
    "      INNER JOIN `bigquery-public-data.github_repos.licenses` AS L\n",
    "      ON df.repo_name = L.repo_name\n",
    "      GROUP BY L.license\n",
    "      ORDER BY number_of_files DESC\n",
    "      \"\"\""
   ]
  },
  {
   "cell_type": "code",
   "execution_count": 9,
   "id": "6068f72d",
   "metadata": {},
   "outputs": [],
   "source": [
    "safe_config = bigquery.QueryJobConfig(maximum_bytes_billed=10**10)\n",
    "query_job = client.query(query, job_config=safe_config)\n",
    "\n",
    "file_count_by_license = query_job.to_dataframe()"
   ]
  },
  {
   "cell_type": "code",
   "execution_count": 10,
   "id": "902fd4e5",
   "metadata": {},
   "outputs": [
    {
     "name": "stdout",
     "output_type": "stream",
     "text": [
      "         license  number_of_files\n",
      "0            mit         20543795\n",
      "1        gpl-2.0         16611428\n",
      "2     apache-2.0          7192796\n",
      "3        gpl-3.0          5109644\n",
      "4   bsd-3-clause          3462834\n",
      "5       agpl-3.0          1366998\n",
      "6       lgpl-2.1           798511\n",
      "7   bsd-2-clause           693395\n",
      "8       lgpl-3.0           574089\n",
      "9        mpl-2.0           456621\n",
      "10       cc0-1.0           448772\n",
      "11       epl-1.0           322255\n",
      "12     unlicense           208929\n",
      "13  artistic-2.0           147652\n",
      "14           isc           118317\n"
     ]
    }
   ],
   "source": [
    "print(file_count_by_license)"
   ]
  },
  {
   "cell_type": "code",
   "execution_count": null,
   "id": "4b396126",
   "metadata": {},
   "outputs": [],
   "source": []
  }
 ],
 "metadata": {
  "kernelspec": {
   "display_name": "Python 3 (ipykernel)",
   "language": "python",
   "name": "python3"
  },
  "language_info": {
   "codemirror_mode": {
    "name": "ipython",
    "version": 3
   },
   "file_extension": ".py",
   "mimetype": "text/x-python",
   "name": "python",
   "nbconvert_exporter": "python",
   "pygments_lexer": "ipython3",
   "version": "3.10.6"
  }
 },
 "nbformat": 4,
 "nbformat_minor": 5
}
