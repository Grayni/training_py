{
 "cells": [
  {
   "cell_type": "code",
   "execution_count": 637,
   "metadata": {
    "collapsed": true
   },
   "outputs": [],
   "source": [
    "import numpy as np\n",
    "import matplotlib.pyplot as plt\n",
    "\n",
    "plt.style.use('dark_background')"
   ]
  },
  {
   "cell_type": "markdown",
   "source": [
    "#### * Dataset"
   ],
   "metadata": {
    "collapsed": false,
    "pycharm": {
     "name": "#%% md\n"
    }
   }
  },
  {
   "cell_type": "code",
   "execution_count": 638,
   "outputs": [],
   "source": [
    "X = np.array([[1, 1, 1, 1, 1, 1, 1, 1, 1, 1],\n",
    "              [1, 1, 2, 5, 3, 0, 5, 10, 1, 2],\n",
    "              [500, 700, 750, 600, 1450, 800, 1500, 2000, 450, 1000],\n",
    "              [1, 1, 2, 1, 2, 1, 3, 3, 1, 2]])"
   ],
   "metadata": {
    "collapsed": false,
    "pycharm": {
     "name": "#%%\n"
    }
   }
  },
  {
   "cell_type": "code",
   "execution_count": 639,
   "outputs": [],
   "source": [
    "y = [45, 55, 50, 55, 60, 35, 75, 80, 50, 60]"
   ],
   "metadata": {
    "collapsed": false,
    "pycharm": {
     "name": "#%%\n"
    }
   }
  },
  {
   "cell_type": "markdown",
   "source": [
    "#### * Normalization"
   ],
   "metadata": {
    "collapsed": false,
    "pycharm": {
     "name": "#%% md\n"
    }
   }
  },
  {
   "cell_type": "code",
   "execution_count": 640,
   "outputs": [
    {
     "data": {
      "text/plain": "(0, 10)"
     },
     "execution_count": 640,
     "metadata": {},
     "output_type": "execute_result"
    }
   ],
   "source": [
    "\n",
    "X[1].min(), X[1].max()"
   ],
   "metadata": {
    "collapsed": false,
    "pycharm": {
     "name": "#%%\n"
    }
   }
  },
  {
   "cell_type": "code",
   "execution_count": 641,
   "outputs": [
    {
     "data": {
      "text/plain": "(450, 2000)"
     },
     "execution_count": 641,
     "metadata": {},
     "output_type": "execute_result"
    }
   ],
   "source": [
    "X[2].min(), X[2].max()"
   ],
   "metadata": {
    "collapsed": false,
    "pycharm": {
     "name": "#%%\n"
    }
   }
  },
  {
   "cell_type": "code",
   "execution_count": 670,
   "outputs": [
    {
     "data": {
      "text/plain": "array([[1.00e+00, 1.00e+00, 1.00e+00, 1.00e+00, 1.00e+00, 1.00e+00,\n        1.00e+00, 1.00e+00, 1.00e+00, 1.00e+00],\n       [1.00e+00, 1.00e+00, 2.00e+00, 5.00e+00, 3.00e+00, 0.00e+00,\n        5.00e+00, 1.00e+01, 1.00e+00, 2.00e+00],\n       [5.00e+02, 7.00e+02, 7.50e+02, 6.00e+02, 1.45e+03, 8.00e+02,\n        1.50e+03, 2.00e+03, 4.50e+02, 1.00e+03],\n       [1.00e+00, 1.00e+00, 2.00e+00, 1.00e+00, 2.00e+00, 1.00e+00,\n        3.00e+00, 3.00e+00, 1.00e+00, 2.00e+00]])"
     },
     "execution_count": 670,
     "metadata": {},
     "output_type": "execute_result"
    }
   ],
   "source": [
    "X_norm = X.copy().astype(np.float64)\n",
    "X_norm"
   ],
   "metadata": {
    "collapsed": false,
    "pycharm": {
     "name": "#%%\n"
    }
   }
  },
  {
   "cell_type": "code",
   "execution_count": 671,
   "outputs": [
    {
     "data": {
      "text/plain": "array([[1.00e+00, 1.00e+00, 1.00e+00, 1.00e+00, 1.00e+00, 1.00e+00,\n        1.00e+00, 1.00e+00, 1.00e+00, 1.00e+00],\n       [1.00e-01, 1.00e-01, 2.00e-01, 5.00e-01, 3.00e-01, 0.00e+00,\n        5.00e-01, 1.00e+00, 1.00e-01, 2.00e-01],\n       [5.00e+02, 7.00e+02, 7.50e+02, 6.00e+02, 1.45e+03, 8.00e+02,\n        1.50e+03, 2.00e+03, 4.50e+02, 1.00e+03],\n       [1.00e+00, 1.00e+00, 2.00e+00, 1.00e+00, 2.00e+00, 1.00e+00,\n        3.00e+00, 3.00e+00, 1.00e+00, 2.00e+00]])"
     },
     "execution_count": 671,
     "metadata": {},
     "output_type": "execute_result"
    }
   ],
   "source": [
    "X_norm[1] = (X_norm[1] - X_norm[1].min()) / (X_norm[1].max() - X_norm[1].min())\n",
    "X_norm"
   ],
   "metadata": {
    "collapsed": false,
    "pycharm": {
     "name": "#%%\n"
    }
   }
  },
  {
   "cell_type": "code",
   "execution_count": 644,
   "outputs": [
    {
     "data": {
      "text/plain": "array([[1.        , 1.        , 1.        , 1.        , 1.        ,\n        1.        , 1.        , 1.        , 1.        , 1.        ],\n       [0.1       , 0.1       , 0.2       , 0.5       , 0.3       ,\n        0.        , 0.5       , 1.        , 0.1       , 0.2       ],\n       [0.03225806, 0.16129032, 0.19354839, 0.09677419, 0.64516129,\n        0.22580645, 0.67741935, 1.        , 0.        , 0.35483871],\n       [1.        , 1.        , 2.        , 1.        , 2.        ,\n        1.        , 3.        , 3.        , 1.        , 2.        ]])"
     },
     "execution_count": 644,
     "metadata": {},
     "output_type": "execute_result"
    }
   ],
   "source": [
    "X_norm[2] = (X_norm[2] - X_norm[2].min()) / (X_norm[2].max() - X_norm[2].min())\n",
    "X_norm"
   ],
   "metadata": {
    "collapsed": false,
    "pycharm": {
     "name": "#%%\n"
    }
   }
  },
  {
   "cell_type": "markdown",
   "source": [
    "#### * Standartization"
   ],
   "metadata": {
    "collapsed": false,
    "pycharm": {
     "name": "#%% md\n"
    }
   }
  },
  {
   "cell_type": "code",
   "execution_count": 645,
   "outputs": [
    {
     "data": {
      "text/plain": "<Figure size 640x480 with 1 Axes>",
      "image/png": "[encoded data removed]"
     },
     "metadata": {},
     "output_type": "display_data"
    }
   ],
   "source": [
    "plt.figure()\n",
    "plt.hist(X[1])\n",
    "plt.show()"
   ],
   "metadata": {
    "collapsed": false,
    "pycharm": {
     "name": "#%%\n"
    }
   }
  },
  {
   "cell_type": "code",
   "execution_count": 646,
   "outputs": [
    {
     "data": {
      "text/plain": "<Figure size 640x480 with 1 Axes>",
      "image/png": "[encoded data removed]"
     },
     "metadata": {},
     "output_type": "display_data"
    }
   ],
   "source": [
    "plt.figure()\n",
    "plt.hist(X[2])\n",
    "plt.show()"
   ],
   "metadata": {
    "collapsed": false,
    "pycharm": {
     "name": "#%%\n"
    }
   }
  },
  {
   "cell_type": "markdown",
   "source": [
    "#### * Standardization"
   ],
   "metadata": {
    "collapsed": false,
    "pycharm": {
     "name": "#%% md\n"
    }
   }
  },
  {
   "cell_type": "code",
   "execution_count": 647,
   "outputs": [
    {
     "data": {
      "text/plain": "(3.0, 2.8284271247461903)"
     },
     "execution_count": 647,
     "metadata": {},
     "output_type": "execute_result"
    }
   ],
   "source": [
    "X_st = X.copy().astype(np.float64)\n",
    "X1_mean = X_st[1].mean()\n",
    "X1_std = X_st[1].std()\n",
    "X1_mean, X1_std"
   ],
   "metadata": {
    "collapsed": false,
    "pycharm": {
     "name": "#%%\n"
    }
   }
  },
  {
   "cell_type": "code",
   "execution_count": 648,
   "outputs": [
    {
     "data": {
      "text/plain": "array([[ 1.00000000e+00,  1.00000000e+00,  1.00000000e+00,\n         1.00000000e+00,  1.00000000e+00,  1.00000000e+00,\n         1.00000000e+00,  1.00000000e+00,  1.00000000e+00,\n         1.00000000e+00],\n       [-7.07106781e-01, -7.07106781e-01, -3.53553391e-01,\n         7.07106781e-01,  0.00000000e+00, -1.06066017e+00,\n         7.07106781e-01,  2.47487373e+00, -7.07106781e-01,\n        -3.53553391e-01],\n       [ 5.00000000e+02,  7.00000000e+02,  7.50000000e+02,\n         6.00000000e+02,  1.45000000e+03,  8.00000000e+02,\n         1.50000000e+03,  2.00000000e+03,  4.50000000e+02,\n         1.00000000e+03],\n       [ 1.00000000e+00,  1.00000000e+00,  2.00000000e+00,\n         1.00000000e+00,  2.00000000e+00,  1.00000000e+00,\n         3.00000000e+00,  3.00000000e+00,  1.00000000e+00,\n         2.00000000e+00]])"
     },
     "execution_count": 648,
     "metadata": {},
     "output_type": "execute_result"
    }
   ],
   "source": [
    "X_st[1] = (X[1] - X1_mean) / X1_std\n",
    "X_st"
   ],
   "metadata": {
    "collapsed": false,
    "pycharm": {
     "name": "#%%\n"
    }
   }
  },
  {
   "cell_type": "code",
   "execution_count": 649,
   "outputs": [
    {
     "data": {
      "text/plain": "<Figure size 640x480 with 1 Axes>",
      "image/png": "[encoded data removed]"
     },
     "metadata": {},
     "output_type": "display_data"
    }
   ],
   "source": [
    "plt.figure()\n",
    "plt.hist(X_st[1])\n",
    "plt.show()"
   ],
   "metadata": {
    "collapsed": false,
    "pycharm": {
     "name": "#%%\n"
    }
   }
  },
  {
   "cell_type": "code",
   "execution_count": 650,
   "outputs": [],
   "source": [
    "def calc_std_fit(x):\n",
    "    res = (x - x.mean()) / x.std()\n",
    "    return res"
   ],
   "metadata": {
    "collapsed": false,
    "pycharm": {
     "name": "#%%\n"
    }
   }
  },
  {
   "cell_type": "code",
   "execution_count": 651,
   "outputs": [
    {
     "data": {
      "text/plain": "array([[ 1.        ,  1.        ,  1.        ,  1.        ,  1.        ,\n         1.        ,  1.        ,  1.        ,  1.        ,  1.        ],\n       [-0.70710678, -0.70710678, -0.35355339,  0.70710678,  0.        ,\n        -1.06066017,  0.70710678,  2.47487373, -0.70710678, -0.35355339],\n       [-0.97958969, -0.56713087, -0.46401617, -0.77336028,  0.97958969,\n        -0.36090146,  1.08270439,  2.11385144, -1.08270439,  0.05155735],\n       [ 1.        ,  1.        ,  2.        ,  1.        ,  2.        ,\n         1.        ,  3.        ,  3.        ,  1.        ,  2.        ]])"
     },
     "execution_count": 651,
     "metadata": {},
     "output_type": "execute_result"
    }
   ],
   "source": [
    "X_st[2] = calc_std_fit(X_st[2])\n",
    "X_st"
   ],
   "metadata": {
    "collapsed": false,
    "pycharm": {
     "name": "#%%\n"
    }
   }
  },
  {
   "cell_type": "code",
   "execution_count": 652,
   "outputs": [
    {
     "data": {
      "text/plain": "array([[ 1.        ,  1.        ,  1.        ,  1.        ,  1.        ,\n         1.        ,  1.        ,  1.        ,  1.        ,  1.        ],\n       [-0.70710678, -0.70710678, -0.35355339,  0.70710678,  0.        ,\n        -1.06066017,  0.70710678,  2.47487373, -0.70710678, -0.35355339],\n       [-0.97958969, -0.56713087, -0.46401617, -0.77336028,  0.97958969,\n        -0.36090146,  1.08270439,  2.11385144, -1.08270439,  0.05155735],\n       [-0.89625816, -0.89625816,  0.38411064, -0.89625816,  0.38411064,\n        -0.89625816,  1.66447944,  1.66447944, -0.89625816,  0.38411064]])"
     },
     "execution_count": 652,
     "metadata": {},
     "output_type": "execute_result"
    }
   ],
   "source": [
    "X_st[3] = calc_std_fit(X_st[3])\n",
    "X_st"
   ],
   "metadata": {
    "collapsed": false,
    "pycharm": {
     "name": "#%%\n"
    }
   }
  },
  {
   "cell_type": "markdown",
   "source": [
    "#### SGD (stochastic gradient descent)"
   ],
   "metadata": {
    "collapsed": false,
    "pycharm": {
     "name": "#%% md\n"
    }
   }
  },
  {
   "cell_type": "code",
   "execution_count": 653,
   "outputs": [],
   "source": [
    "def calc_mse(y, y_pred):\n",
    "    return np.mean((y_pred - y)**2)"
   ],
   "metadata": {
    "collapsed": false,
    "pycharm": {
     "name": "#%%\n"
    }
   }
  },
  {
   "cell_type": "code",
   "execution_count": 654,
   "outputs": [],
   "source": [
    "import math\n",
    "\n",
    "def eval_model(X, y, iters, eta=1e-4):\n",
    "    W = np.random.randn(X.shape[0])  # 4 features\n",
    "    n = X.shape[1]  # 10 samples\n",
    "\n",
    "    for i in range(1, iters+1):\n",
    "        y_pred = np.dot(W, X)\n",
    "        err = calc_mse(y, y_pred)\n",
    "        W -= eta * 2 * 1/n * np.dot((y_pred - y), X.T)\n",
    "\n",
    "        if i % (iters / 10) == 0:\n",
    "            print(i, W, err)\n",
    "\n",
    "    return W"
   ],
   "metadata": {
    "collapsed": false,
    "pycharm": {
     "name": "#%%\n"
    }
   }
  },
  {
   "cell_type": "code",
   "execution_count": 655,
   "outputs": [
    {
     "name": "stdout",
     "output_type": "stream",
     "text": [
      "100 [48.97594178  4.21396206  3.8500301   4.21180116] 87.17023192527056\n",
      "200 [55.50216274  4.95035208  2.97995267  4.44787223] 27.880057713679285\n",
      "300 [56.36766727  5.3867876   2.3048158   4.72276707] 26.13015899953521\n",
      "400 [56.48245009  5.65898045  1.78063628  4.99953148] 25.682538436839177\n",
      "500 [56.49767254  5.83477719  1.36781865  5.25424451] 25.413829625514786\n",
      "600 [56.49969133  5.95264982  1.03929184  5.47793845] 25.240698206237056\n",
      "700 [56.49995906  6.03470225  0.77589591  5.66914875] 25.127246339675786\n",
      "800 [56.49999457  6.0938447   0.56361685  5.82990753] 25.052342123121413\n",
      "900 [56.49999928  6.13778238  0.39191637  5.96365141] 25.00271593716274\n",
      "1000 [56.4999999   6.17124081  0.25269258  6.07416416] 24.969784391475397\n"
     ]
    },
    {
     "data": {
      "text/plain": "array([56.4999999 ,  6.17124081,  0.25269258,  6.07416416])"
     },
     "execution_count": 655,
     "metadata": {},
     "output_type": "execute_result"
    }
   ],
   "source": [
    "eval_model(X_st, y, iters=1000, eta=1e-2)"
   ],
   "metadata": {
    "collapsed": false,
    "pycharm": {
     "name": "#%%\n"
    }
   }
  },
  {
   "cell_type": "code",
   "execution_count": 656,
   "outputs": [],
   "source": [
    "def sgd_eval_model(X, y, iters, qty_in_batch, eta=1e-4):\n",
    "    W = np.random.randn(X.shape[0])  # 4 features => 4 random values < 1\n",
    "\n",
    "    n = X.shape[1]  # 10 samples\n",
    "\n",
    "    n_batch = n // qty_in_batch  # 10 // 4 = 2 whole parts\n",
    "\n",
    "    # if exist remainder => n_batch = 2 + 1 = 3\n",
    "    if n % qty_in_batch !=0:\n",
    "        n_batch += 1\n",
    "\n",
    "    # in every iteration run iteration batch\n",
    "    for i in range(1, iters+1):\n",
    "        # range 0, 1, 2\n",
    "        for b in range(n_batch):\n",
    "            start_ = qty_in_batch*b    # 4*0;4*1;4*2 //=> 0;4;8\n",
    "            end_ = qty_in_batch*(b+1)  # 4*1;4*2;4*3 //=> 4;8;12\n",
    "\n",
    "            #print(b, n_batch, start_, end_)\n",
    "            X_tmp = X[:, start_: end_]  # [:, 0:4], [:, 4:8], [:, 8:12]\n",
    "            y_tmp = y[start_ : end_]  # [0:4], [4:8], [8:12]\n",
    "\n",
    "            y_pred_tmp = np.dot(W, X_tmp)  # dot([1,4] weights, X [4, 4]) => y_pred [1, 4]\n",
    "            err = calc_mse(y_tmp, y_pred_tmp)\n",
    "\n",
    "            W -= eta * 1/n * 2 * np.dot((y_pred_tmp - y_tmp), X_tmp.T)  # W = W - eta * dMSE\n",
    "\n",
    "        if i % (iters / 10) == 0:\n",
    "            print(i, W, err)\n",
    "\n",
    "    return W"
   ],
   "metadata": {
    "collapsed": false,
    "pycharm": {
     "name": "#%%\n"
    }
   }
  },
  {
   "cell_type": "code",
   "execution_count": 657,
   "outputs": [],
   "source": [
    "#sgd_eval_model(X_st, y, iters=5000, qty_in_batch=4, eta=1e-2)"
   ],
   "metadata": {
    "collapsed": false,
    "pycharm": {
     "name": "#%%\n"
    }
   }
  },
  {
   "cell_type": "markdown",
   "source": [
    "#### L1 - regularization\n",
    "\n",
    "$f(x, W) + (lambda / 2) * np.sum(np.abs(W))$"
   ],
   "metadata": {
    "collapsed": false,
    "pycharm": {
     "name": "#%% md\n"
    }
   }
  },
  {
   "cell_type": "markdown",
   "source": [
    "#### L2 - regularization\n",
    "\n",
    "$f(x, W) + (lambda/2) * np.sum(W**2)$"
   ],
   "metadata": {
    "collapsed": false,
    "pycharm": {
     "name": "#%% md\n"
    }
   }
  },
  {
   "cell_type": "code",
   "execution_count": 676,
   "outputs": [],
   "source": [
    "def eval_model_reg2(X, y, iters, eta=1e-4, lambda_=1e-8):\n",
    "    np.random.seed(42)\n",
    "    W = np.random.randn(X.shape[0])\n",
    "    n = X.shape[1]\n",
    "\n",
    "    for i in range(1, iters+1):\n",
    "        y_pred = np.dot(W, X)\n",
    "        err = calc_mse(y, y_pred)\n",
    "\n",
    "        W -= eta * (1/n * 2 * np.dot((y_pred - y), X.T) + lambda_ * W)  # d(1/2 * lambda_ * W**2) = 1/2 * 2 * lambda_ * W = lambda_ * W\n",
    "\n",
    "        if i % (iters / 10) == 0:\n",
    "            print(i, W, err)\n",
    "\n",
    "    return W"
   ],
   "metadata": {
    "collapsed": false,
    "pycharm": {
     "name": "#%%\n"
    }
   }
  },
  {
   "cell_type": "code",
   "execution_count": 677,
   "outputs": [
    {
     "name": "stdout",
     "output_type": "stream",
     "text": [
      "500 [56.49487895  5.89947315  1.04054601  5.5270874 ] 25.23755832331096\n",
      "1000 [56.49717505  6.19501568  0.13564839  6.17098435] 24.947089650389493\n",
      "1500 [56.49717514  6.26565597 -0.17868956  6.42516923] 24.910200887020064\n",
      "2000 [56.49717514  6.28924463 -0.29120292  6.51776763] 24.905377672807827\n",
      "2500 [56.49717514  6.29763759 -0.33165155  6.55113988] 24.904735047224676\n",
      "3000 [56.49717514  6.30065228 -0.3462019   6.56314895] 24.904645262343745\n",
      "3500 [56.49717514  6.3017366  -0.35143648  6.56746949] 24.904631263168568\n",
      "4000 [56.49717514  6.30212668 -0.35331967  6.56902387] 24.904628595590758\n",
      "4500 [56.49717514  6.30226702 -0.35399717  6.56958307] 24.904627942486606\n",
      "5000 [56.49717514  6.30231751 -0.35424091  6.56978425] 24.904627747206018\n"
     ]
    }
   ],
   "source": [
    "W = eval_model_reg2(X_st, y, iters=5000, eta=1e-2, lambda_=1e-4)"
   ],
   "metadata": {
    "collapsed": false,
    "pycharm": {
     "name": "#%%\n"
    }
   }
  },
  {
   "cell_type": "code",
   "execution_count": 678,
   "outputs": [
    {
     "name": "stdout",
     "output_type": "stream",
     "text": [
      "500 [56.21673324  5.8620134   1.0973114   5.48152978] 25.34927695273097\n",
      "1000 [56.21890539  6.13817008  0.25676075  6.07808629] 25.050567809213142\n",
      "1500 [ 5.62189055e+01  6.20065670e+00 -2.09333286e-02  6.30256226e+00] 25.004260655449038\n",
      "2000 [56.21890547  6.2204893  -0.11551226  6.3803969 ] 24.994635922546014\n",
      "2500 [56.21890547  6.22720312 -0.14786762  6.4070916 ] 24.992067956776946\n",
      "3000 [56.21890547  6.22949791 -0.15894336  6.4162329 ] 24.99127390893935\n",
      "3500 [56.21890547  6.23028335 -0.16273509  6.41936254] 24.99101203395977\n",
      "4000 [56.21890547  6.23055224 -0.16403319  6.42043399] 24.9909235488047\n",
      "4500 [56.21890547  6.23064429 -0.1644776   6.4208008 ] 24.99089339269804\n",
      "5000 [56.21890547  6.23067581 -0.16462974  6.42092637] 24.990883084763954\n"
     ]
    },
    {
     "data": {
      "text/plain": "array([56.21890547,  6.23067581, -0.16462974,  6.42092637])"
     },
     "execution_count": 678,
     "metadata": {},
     "output_type": "execute_result"
    }
   ],
   "source": [
    "eval_model_reg2(X_st, y, iters=5000, eta=1e-2, lambda_=1e-2)"
   ],
   "metadata": {
    "collapsed": false,
    "pycharm": {
     "name": "#%%\n"
    }
   }
  },
  {
   "cell_type": "markdown",
   "source": [
    "#### 1) Graph Weight / Lambda"
   ],
   "metadata": {
    "collapsed": false,
    "pycharm": {
     "name": "#%% md\n"
    }
   }
  },
  {
   "cell_type": "code",
   "execution_count": 665,
   "outputs": [
    {
     "name": "stderr",
     "output_type": "stream",
     "text": [
      "C:\\Users\\grayni\\AppData\\Local\\Temp\\ipykernel_27500\\189193462.py:2: RuntimeWarning: overflow encountered in square\n",
      "  return np.mean((y_pred - y)**2)\n",
      "C:\\Users\\grayni\\AppData\\Local\\Temp\\ipykernel_27500\\2649565877.py:10: RuntimeWarning: overflow encountered in multiply\n",
      "  W -= eta * (1/n * 2 * np.dot((y_pred - y), X.T) + lambda_ * W)  # d(1/2 * lambda_ * W**2) = 1/2 * 2 * lambda_ * W = lambda_ * W\n",
      "C:\\Users\\grayni\\AppData\\Local\\Temp\\ipykernel_27500\\2649565877.py:10: RuntimeWarning: invalid value encountered in subtract\n",
      "  W -= eta * (1/n * 2 * np.dot((y_pred - y), X.T) + lambda_ * W)  # d(1/2 * lambda_ * W**2) = 1/2 * 2 * lambda_ * W = lambda_ * W\n"
     ]
    },
    {
     "data": {
      "text/plain": "<Figure size 1200x600 with 1 Axes>",
      "image/png": "[encoded data removed]"
     },
     "metadata": {},
     "output_type": "display_data"
    }
   ],
   "source": [
    "lambdas = list(np.logspace(-7, 4, 100))\n",
    "coefs = []\n",
    "\n",
    "for lambd in lambdas:\n",
    "    coefs.append(eval_model_reg2(X_st, y, iters=5000, eta=1e-2, lambda_=lambd))\n",
    "\n",
    "plt.figure(figsize=(12, 6))\n",
    "for i in np.vstack(coefs).T:\n",
    "    plt.plot(lambdas, i, linewidth=3)\n",
    "\n",
    "plt.grid()\n",
    "plt.xscale('log')\n",
    "plt.xlabel('lambda')\n",
    "plt.ylabel('weight')\n",
    "plt.show()"
   ],
   "metadata": {
    "collapsed": false,
    "pycharm": {
     "name": "#%%\n"
    }
   }
  },
  {
   "cell_type": "markdown",
   "source": [
    "#### 2) Ability to use normalization and standardization at the same time."
   ],
   "metadata": {
    "collapsed": false,
    "pycharm": {
     "name": "#%% md\n"
    }
   }
  },
  {
   "cell_type": "code",
   "execution_count": 666,
   "outputs": [
    {
     "data": {
      "text/plain": "array([[ 1.        ,  1.        ,  1.        ,  1.        ,  1.        ,\n         1.        ,  1.        ,  1.        ,  1.        ,  1.        ],\n       [-0.70710678, -0.70710678, -0.35355339,  0.70710678,  0.        ,\n        -1.06066017,  0.70710678,  2.47487373, -0.70710678, -0.35355339],\n       [-0.97958969, -0.56713087, -0.46401617, -0.77336028,  0.97958969,\n        -0.36090146,  1.08270439,  2.11385144, -1.08270439,  0.05155735],\n       [-0.89625816, -0.89625816,  0.38411064, -0.89625816,  0.38411064,\n        -0.89625816,  1.66447944,  1.66447944, -0.89625816,  0.38411064]])"
     },
     "execution_count": 666,
     "metadata": {},
     "output_type": "execute_result"
    }
   ],
   "source": [
    "X_st"
   ],
   "metadata": {
    "collapsed": false,
    "pycharm": {
     "name": "#%%\n"
    }
   }
  },
  {
   "cell_type": "code",
   "execution_count": 667,
   "outputs": [],
   "source": [
    "X_n = X_st.copy()"
   ],
   "metadata": {
    "collapsed": false,
    "pycharm": {
     "name": "#%%\n"
    }
   }
  },
  {
   "cell_type": "code",
   "execution_count": 668,
   "outputs": [
    {
     "data": {
      "text/plain": "array([[ 1.        ,  1.        ,  1.        ,  1.        ,  1.        ,\n         1.        ,  1.        ,  1.        ,  1.        ,  1.        ],\n       [ 0.1       ,  0.1       ,  0.2       ,  0.5       ,  0.3       ,\n         0.        ,  0.5       ,  1.        ,  0.1       ,  0.2       ],\n       [-0.97958969, -0.56713087, -0.46401617, -0.77336028,  0.97958969,\n        -0.36090146,  1.08270439,  2.11385144, -1.08270439,  0.05155735],\n       [-0.89625816, -0.89625816,  0.38411064, -0.89625816,  0.38411064,\n        -0.89625816,  1.66447944,  1.66447944, -0.89625816,  0.38411064]])"
     },
     "execution_count": 668,
     "metadata": {},
     "output_type": "execute_result"
    }
   ],
   "source": [
    "X_n[1] = (X_n[1] - X_n[1].min()) / (X_n[1].max() - X_n[1].min())\n",
    "X_n"
   ],
   "metadata": {
    "collapsed": false,
    "pycharm": {
     "name": "#%%\n"
    }
   }
  },
  {
   "cell_type": "code",
   "execution_count": 672,
   "outputs": [
    {
     "data": {
      "text/plain": "array([[ 1.00000000e+00,  1.00000000e+00,  1.00000000e+00,\n         1.00000000e+00,  1.00000000e+00,  1.00000000e+00,\n         1.00000000e+00,  1.00000000e+00,  1.00000000e+00,\n         1.00000000e+00],\n       [-7.07106781e-01, -7.07106781e-01, -3.53553391e-01,\n         7.07106781e-01, -1.96261557e-16, -1.06066017e+00,\n         7.07106781e-01,  2.47487373e+00, -7.07106781e-01,\n        -3.53553391e-01],\n       [-9.79589689e-01, -5.67130873e-01, -4.64016169e-01,\n        -7.73360281e-01,  9.79589689e-01, -3.60901465e-01,\n         1.08270439e+00,  2.11385144e+00, -1.08270439e+00,\n         5.15573521e-02],\n       [-8.96258160e-01, -8.96258160e-01,  3.84110640e-01,\n        -8.96258160e-01,  3.84110640e-01, -8.96258160e-01,\n         1.66447944e+00,  1.66447944e+00, -8.96258160e-01,\n         3.84110640e-01]])"
     },
     "execution_count": 672,
     "metadata": {},
     "output_type": "execute_result"
    }
   ],
   "source": [
    "X_stand = X_n.copy()\n",
    "\n",
    "X_stand[1] = calc_std_fit(X_stand[1])\n",
    "X_stand"
   ],
   "metadata": {
    "collapsed": false,
    "pycharm": {
     "name": "#%%\n"
    }
   }
  },
  {
   "cell_type": "markdown",
   "source": [
    "Answer: Use standardization and normalization at the same time - it's no use. These operations not affect each other, because proportions not change."
   ],
   "metadata": {
    "collapsed": false,
    "pycharm": {
     "name": "#%% md\n"
    }
   }
  },
  {
   "cell_type": "markdown",
   "source": [
    "#### 3) Create function eval_model_reg1()"
   ],
   "metadata": {
    "collapsed": false,
    "pycharm": {
     "name": "#%% md\n"
    }
   }
  },
  {
   "cell_type": "code",
   "execution_count": 674,
   "outputs": [],
   "source": [
    "def eval_model_reg1(X, y, iters, eta=1e-4, lambda_=1e-8):\n",
    "    np.random.seed(42)\n",
    "    W = np.random.randn(X.shape[0])\n",
    "    n = X.shape[1]\n",
    "\n",
    "    for i in range(1, iters+1):\n",
    "        y_pred = np.dot(W, X)\n",
    "        err = calc_mse(y, y_pred)\n",
    "\n",
    "        W -= eta * (2 * 1/n * np.dot((y_pred - y), X.T) + lambda_/2 * W / np.abs(W))  # d(lambda/2*|W|) = lambda_/2 * W / |W|\n",
    "\n",
    "        if i % (iters / 10) == 0:\n",
    "            print(i , W, err)"
   ],
   "metadata": {
    "collapsed": false,
    "pycharm": {
     "name": "#%%\n"
    }
   }
  },
  {
   "cell_type": "code",
   "execution_count": 675,
   "outputs": [
    {
     "name": "stdout",
     "output_type": "stream",
     "text": [
      "500 [56.49520262  5.89858579  1.03935408  5.52652723] 25.23742273540561\n",
      "1000 [56.49749991  6.19429049  0.13389608  6.1708428 ] 24.946946787999924\n",
      "1500 [56.4975      6.25959123 -0.16480395  6.41608709] 24.911056671784557\n",
      "2000 [56.4975      6.28091917 -0.26836175  6.50168014] 24.905972179328224\n",
      "2500 [56.4975      6.28863658 -0.30564925  6.53246299] 24.905070354803435\n",
      "3000 [56.4975      6.29141648 -0.31907123  6.54354171] 24.904866029269694\n",
      "3500 [56.4975      6.29241718 -0.32390239  6.54752934] 24.904808067621467\n",
      "4000 [56.4975      6.29277738 -0.32564133  6.54896464] 24.904789223823265\n",
      "4500 [56.4975      6.29290704 -0.32626724  6.54948127] 24.9047827027371\n",
      "5000 [56.4975      6.2929537  -0.32649253  6.54966723] 24.904780389416988\n"
     ]
    }
   ],
   "source": [
    "eval_model_reg1(X_st, y, iters=5000, eta=1e-2, lambda_=1e-2)"
   ],
   "metadata": {
    "collapsed": false,
    "pycharm": {
     "name": "#%%\n"
    }
   }
  },
  {
   "cell_type": "code",
   "execution_count": null,
   "outputs": [],
   "source": [],
   "metadata": {
    "collapsed": false,
    "pycharm": {
     "name": "#%%\n"
    }
   }
  }
 ],
 "metadata": {
  "kernelspec": {
   "display_name": "Python 3",
   "language": "python",
   "name": "python3"
  },
  "language_info": {
   "codemirror_mode": {
    "name": "ipython",
    "version": 2
   },
   "file_extension": ".py",
   "mimetype": "text/x-python",
   "name": "python",
   "nbconvert_exporter": "python",
   "pygments_lexer": "ipython2",
   "version": "2.7.6"
  }
 },
 "nbformat": 4,
 "nbformat_minor": 0
}