{
 "cells": [
  {
   "cell_type": "code",
   "execution_count": 191,
   "metadata": {
    "collapsed": true
   },
   "outputs": [],
   "source": [
    "import numpy as np"
   ]
  },
  {
   "cell_type": "code",
   "execution_count": 192,
   "outputs": [
    {
     "data": {
      "text/plain": "(0.45, 0.55)"
     },
     "execution_count": 192,
     "metadata": {},
     "output_type": "execute_result"
    }
   ],
   "source": [
    "# balls\n",
    "# step 1\n",
    "blue = 9\n",
    "yellow = 11\n",
    "total_parent = blue + yellow\n",
    "p_blue = blue / total_parent\n",
    "p_yellow = yellow / total_parent\n",
    "p_blue, p_yellow"
   ],
   "metadata": {
    "collapsed": false,
    "pycharm": {
     "name": "#%%\n"
    }
   }
  },
  {
   "cell_type": "code",
   "execution_count": 193,
   "outputs": [
    {
     "data": {
      "text/plain": "0.9927744539878083"
     },
     "execution_count": 193,
     "metadata": {},
     "output_type": "execute_result"
    }
   ],
   "source": [
    "e0 = -(p_blue * np.log2(p_blue) + p_yellow * np.log2(p_yellow))\n",
    "e0"
   ],
   "metadata": {
    "collapsed": false,
    "pycharm": {
     "name": "#%%\n"
    }
   }
  },
  {
   "cell_type": "code",
   "execution_count": 194,
   "outputs": [],
   "source": [
    "# step 2 split total on two branches left & right"
   ],
   "metadata": {
    "collapsed": false,
    "pycharm": {
     "name": "#%%\n"
    }
   }
  },
  {
   "cell_type": "code",
   "execution_count": 195,
   "outputs": [
    {
     "data": {
      "text/plain": "(0.6153846153846154, 0.38461538461538464)"
     },
     "execution_count": 195,
     "metadata": {},
     "output_type": "execute_result"
    }
   ],
   "source": [
    "# left branch\n",
    "blue = 8\n",
    "yellow = 5\n",
    "total_left_child = blue + yellow\n",
    "p_blue = blue / total_left_child\n",
    "p_yellow = yellow / total_left_child\n",
    "p_blue, p_yellow"
   ],
   "metadata": {
    "collapsed": false,
    "pycharm": {
     "name": "#%%\n"
    }
   }
  },
  {
   "cell_type": "code",
   "execution_count": 196,
   "outputs": [
    {
     "data": {
      "text/plain": "0.9612366047228759"
     },
     "execution_count": 196,
     "metadata": {},
     "output_type": "execute_result"
    }
   ],
   "source": [
    "e1l = -(p_blue * np.log2(p_blue) + p_yellow * np.log2(p_yellow))\n",
    "e1l"
   ],
   "metadata": {
    "collapsed": false,
    "pycharm": {
     "name": "#%%\n"
    }
   }
  },
  {
   "cell_type": "code",
   "execution_count": 197,
   "outputs": [
    {
     "data": {
      "text/plain": "(0.14285714285714285, 0.8571428571428571)"
     },
     "execution_count": 197,
     "metadata": {},
     "output_type": "execute_result"
    }
   ],
   "source": [
    "# right branch\n",
    "blue = 1\n",
    "yellow = 6\n",
    "total_right_child = blue + yellow\n",
    "p_blue = blue / total_right_child\n",
    "p_yellow = yellow / total_right_child\n",
    "p_blue, p_yellow"
   ],
   "metadata": {
    "collapsed": false,
    "pycharm": {
     "name": "#%%\n"
    }
   }
  },
  {
   "cell_type": "code",
   "execution_count": 198,
   "outputs": [
    {
     "data": {
      "text/plain": "0.5916727785823275"
     },
     "execution_count": 198,
     "metadata": {},
     "output_type": "execute_result"
    }
   ],
   "source": [
    "e1r = -(p_blue * np.log2(p_blue) + p_yellow * np.log2(p_yellow))\n",
    "e1r"
   ],
   "metadata": {
    "collapsed": false,
    "pycharm": {
     "name": "#%%\n"
    }
   }
  },
  {
   "cell_type": "code",
   "execution_count": 199,
   "outputs": [
    {
     "data": {
      "text/plain": "0.16088518841412436"
     },
     "execution_count": 199,
     "metadata": {},
     "output_type": "execute_result"
    }
   ],
   "source": [
    "# Information gain\n",
    "ig = e0 - total_left_child/total_parent * e1l - total_right_child/total_parent * e1r\n",
    "ig"
   ],
   "metadata": {
    "collapsed": false,
    "pycharm": {
     "name": "#%%\n"
    }
   }
  },
  {
   "cell_type": "code",
   "execution_count": 200,
   "outputs": [],
   "source": [
    "# Gini\n",
    "def gini(labels):\n",
    "    classes = {}\n",
    "\n",
    "    # counter different classes\n",
    "    for label in labels:\n",
    "        if not classes[label]:\n",
    "            classes[label] = 0\n",
    "\n",
    "        classes[label] += 1\n",
    "\n",
    "    # gini criterion\n",
    "    gini = 1\n",
    "    for class_name in classes:\n",
    "        p = classes[class_name] / len(classes)\n",
    "        gini -= p**2\n",
    "\n",
    "    return gini"
   ],
   "metadata": {
    "collapsed": false,
    "pycharm": {
     "name": "#%%\n"
    }
   }
  },
  {
   "cell_type": "code",
   "execution_count": 201,
   "outputs": [],
   "source": [
    "def gini(labels):\n",
    "    labels = list(labels)\n",
    "    labels_set = set(labels)\n",
    "\n",
    "    gini = 1\n",
    "    for name in labels_set:\n",
    "        p = labels.count(name) / len(labels)\n",
    "        gini -= p**2\n",
    "\n",
    "    return gini"
   ],
   "metadata": {
    "collapsed": false,
    "pycharm": {
     "name": "#%%\n"
    }
   }
  },
  {
   "cell_type": "code",
   "execution_count": 202,
   "outputs": [
    {
     "name": "stdout",
     "output_type": "stream",
     "text": [
      "0.84\n",
      "0.48\n"
     ]
    }
   ],
   "source": [
    "labels = ['red', 'red', 'blue', 'blue', 'blue']\n",
    "\n",
    "labels_set = set(labels)\n",
    "\n",
    "gini_test = 1\n",
    "\n",
    "for name in labels_set:\n",
    "    p = labels.count(name) / len(labels)\n",
    "    gini_test -= p**2\n",
    "    print(gini_test)"
   ],
   "metadata": {
    "collapsed": false,
    "pycharm": {
     "name": "#%%\n"
    }
   }
  },
  {
   "cell_type": "code",
   "execution_count": 203,
   "outputs": [],
   "source": [
    "def gain(left_labels, right_labels, root_criterion, criterion):\n",
    "    # left lobe\n",
    "    p_left = float(left_labels.shape[0] / (left_labels.shape[0] + right_labels.shape[0]))\n",
    "    gain_result = root_criterion - p_left * criterion(left_labels) - (1 - p_left) * criterion(right_labels)\n",
    "\n",
    "    return gain_result"
   ],
   "metadata": {
    "collapsed": false,
    "pycharm": {
     "name": "#%%\n"
    }
   }
  },
  {
   "cell_type": "code",
   "execution_count": 204,
   "outputs": [
    {
     "data": {
      "text/plain": "   age  gender  height  cardio\n0   50       2     168       0\n1   55       1     156       1\n2   51       1     165       1\n3   48       2     169       1\n4   47       1     156       0",
      "text/html": "<div>\n<style scoped>\n    .dataframe tbody tr th:only-of-type {\n        vertical-align: middle;\n    }\n\n    .dataframe tbody tr th {\n        vertical-align: top;\n    }\n\n    .dataframe thead th {\n        text-align: right;\n    }\n</style>\n<table border=\"1\" class=\"dataframe\">\n  <thead>\n    <tr style=\"text-align: right;\">\n      <th></th>\n      <th>age</th>\n      <th>gender</th>\n      <th>height</th>\n      <th>cardio</th>\n    </tr>\n  </thead>\n  <tbody>\n    <tr>\n      <th>0</th>\n      <td>50</td>\n      <td>2</td>\n      <td>168</td>\n      <td>0</td>\n    </tr>\n    <tr>\n      <th>1</th>\n      <td>55</td>\n      <td>1</td>\n      <td>156</td>\n      <td>1</td>\n    </tr>\n    <tr>\n      <th>2</th>\n      <td>51</td>\n      <td>1</td>\n      <td>165</td>\n      <td>1</td>\n    </tr>\n    <tr>\n      <th>3</th>\n      <td>48</td>\n      <td>2</td>\n      <td>169</td>\n      <td>1</td>\n    </tr>\n    <tr>\n      <th>4</th>\n      <td>47</td>\n      <td>1</td>\n      <td>156</td>\n      <td>0</td>\n    </tr>\n  </tbody>\n</table>\n</div>"
     },
     "execution_count": 204,
     "metadata": {},
     "output_type": "execute_result"
    }
   ],
   "source": [
    "import pandas as pd\n",
    "df = pd.read_csv('data/cardio.csv', sep=';')\n",
    "df = df.iloc[:5]\n",
    "\n",
    "features = ['age', 'gender', 'height']\n",
    "target = ['cardio']\n",
    "\n",
    "df = df.iloc[:5][features + target]\n",
    "df"
   ],
   "metadata": {
    "collapsed": false,
    "pycharm": {
     "name": "#%%\n"
    }
   }
  },
  {
   "cell_type": "code",
   "execution_count": 205,
   "outputs": [
    {
     "data": {
      "text/plain": "0.48"
     },
     "execution_count": 205,
     "metadata": {},
     "output_type": "execute_result"
    }
   ],
   "source": [
    "# For classification\n",
    "# root_criterion = gini(np.concatenate((labels_left, labels_right)))\n",
    "# gain(labels_left, labels_right, root_criterion, gini)\n",
    "# cardio compute\n",
    "gini0 = gini(df['cardio'])\n",
    "gini0"
   ],
   "metadata": {
    "collapsed": false,
    "pycharm": {
     "name": "#%%\n"
    }
   }
  },
  {
   "cell_type": "code",
   "execution_count": 206,
   "outputs": [
    {
     "data": {
      "text/plain": "   age  gender  height  cardio\n0   50       2     168       0\n3   48       2     169       1\n4   47       1     156       0",
      "text/html": "<div>\n<style scoped>\n    .dataframe tbody tr th:only-of-type {\n        vertical-align: middle;\n    }\n\n    .dataframe tbody tr th {\n        vertical-align: top;\n    }\n\n    .dataframe thead th {\n        text-align: right;\n    }\n</style>\n<table border=\"1\" class=\"dataframe\">\n  <thead>\n    <tr style=\"text-align: right;\">\n      <th></th>\n      <th>age</th>\n      <th>gender</th>\n      <th>height</th>\n      <th>cardio</th>\n    </tr>\n  </thead>\n  <tbody>\n    <tr>\n      <th>0</th>\n      <td>50</td>\n      <td>2</td>\n      <td>168</td>\n      <td>0</td>\n    </tr>\n    <tr>\n      <th>3</th>\n      <td>48</td>\n      <td>2</td>\n      <td>169</td>\n      <td>1</td>\n    </tr>\n    <tr>\n      <th>4</th>\n      <td>47</td>\n      <td>1</td>\n      <td>156</td>\n      <td>0</td>\n    </tr>\n  </tbody>\n</table>\n</div>"
     },
     "metadata": {},
     "output_type": "display_data"
    },
    {
     "data": {
      "text/plain": "   age  gender  height  cardio\n1   55       1     156       1\n2   51       1     165       1",
      "text/html": "<div>\n<style scoped>\n    .dataframe tbody tr th:only-of-type {\n        vertical-align: middle;\n    }\n\n    .dataframe tbody tr th {\n        vertical-align: top;\n    }\n\n    .dataframe thead th {\n        text-align: right;\n    }\n</style>\n<table border=\"1\" class=\"dataframe\">\n  <thead>\n    <tr style=\"text-align: right;\">\n      <th></th>\n      <th>age</th>\n      <th>gender</th>\n      <th>height</th>\n      <th>cardio</th>\n    </tr>\n  </thead>\n  <tbody>\n    <tr>\n      <th>1</th>\n      <td>55</td>\n      <td>1</td>\n      <td>156</td>\n      <td>1</td>\n    </tr>\n    <tr>\n      <th>2</th>\n      <td>51</td>\n      <td>1</td>\n      <td>165</td>\n      <td>1</td>\n    </tr>\n  </tbody>\n</table>\n</div>"
     },
     "metadata": {},
     "output_type": "display_data"
    }
   ],
   "source": [
    "# threshold\n",
    "t = 50.5\n",
    "\n",
    "df1 = df[df['age'] <= t]\n",
    "df2 = df[df['age'] > t]\n",
    "display(df1, df2)"
   ],
   "metadata": {
    "collapsed": false,
    "pycharm": {
     "name": "#%%\n"
    }
   }
  },
  {
   "cell_type": "code",
   "execution_count": 207,
   "outputs": [
    {
     "data": {
      "text/plain": "0.4444444444444445"
     },
     "metadata": {},
     "output_type": "display_data"
    },
    {
     "data": {
      "text/plain": "0.0"
     },
     "metadata": {},
     "output_type": "display_data"
    }
   ],
   "source": [
    "gini_left = gini(df1['cardio'])\n",
    "gini_right = gini(df2['cardio'])\n",
    "display(gini_left, gini_right)"
   ],
   "metadata": {
    "collapsed": false,
    "pycharm": {
     "name": "#%%\n"
    }
   }
  },
  {
   "cell_type": "code",
   "execution_count": 208,
   "outputs": [
    {
     "data": {
      "text/plain": "0.21333333333333332"
     },
     "execution_count": 208,
     "metadata": {},
     "output_type": "execute_result"
    }
   ],
   "source": [
    "gain(df1['cardio'], df2['cardio'], gini0, gini)"
   ],
   "metadata": {
    "collapsed": false,
    "pycharm": {
     "name": "#%%\n"
    }
   }
  },
  {
   "cell_type": "code",
   "execution_count": 209,
   "outputs": [
    {
     "data": {
      "text/plain": "[Text(0.5, 0.75, 'age <= 50.5\\ngini = 0.48\\nsamples = 5\\nvalue = [2, 3]\\nclass = 1'),\n Text(0.25, 0.25, 'gini = 0.444\\nsamples = 3\\nvalue = [2, 1]\\nclass = 0'),\n Text(0.75, 0.25, 'gini = 0.0\\nsamples = 2\\nvalue = [0, 2]\\nclass = 1')]"
     },
     "execution_count": 209,
     "metadata": {},
     "output_type": "execute_result"
    },
    {
     "data": {
      "text/plain": "<Figure size 640x480 with 1 Axes>",
      "image/png": "[encoded data removed]"
     },
     "metadata": {},
     "output_type": "display_data"
    }
   ],
   "source": [
    "from sklearn.tree import DecisionTreeClassifier, plot_tree\n",
    "df_clsf = DecisionTreeClassifier(random_state=1, max_depth=1) # deep 1\n",
    "df_clsf.fit(df[features], df[target])\n",
    "plot_tree(df_clsf, feature_names=features, class_names=['0', '1'], filled=True, impurity=True)\n",
    "# impurity=True show Gini  criterion"
   ],
   "metadata": {
    "collapsed": false,
    "pycharm": {
     "name": "#%%\n"
    }
   }
  },
  {
   "cell_type": "code",
   "execution_count": 210,
   "outputs": [
    {
     "data": {
      "text/plain": "32.559999999999995"
     },
     "execution_count": 210,
     "metadata": {},
     "output_type": "execute_result"
    }
   ],
   "source": [
    "# For regression\n",
    "features = ['gender', 'height', 'cardio']\n",
    "target = ['age']\n",
    "\n",
    "def mse(array):\n",
    "    mean = array.mean()\n",
    "    return np.mean((array - mean)**2)\n",
    "\n",
    "mse(df['height'])"
   ],
   "metadata": {
    "collapsed": false,
    "pycharm": {
     "name": "#%%\n"
    }
   }
  },
  {
   "cell_type": "code",
   "execution_count": 211,
   "outputs": [],
   "source": [
    "def mae(array):\n",
    "    mean = array.mean()\n",
    "    return np.mean(np.abs(array - mean))"
   ],
   "metadata": {
    "collapsed": false,
    "pycharm": {
     "name": "#%%\n"
    }
   }
  },
  {
   "cell_type": "code",
   "execution_count": 212,
   "outputs": [
    {
     "data": {
      "text/plain": "   age  gender  height  cardio\n0   50       2     168       0\n4   47       1     156       0",
      "text/html": "<div>\n<style scoped>\n    .dataframe tbody tr th:only-of-type {\n        vertical-align: middle;\n    }\n\n    .dataframe tbody tr th {\n        vertical-align: top;\n    }\n\n    .dataframe thead th {\n        text-align: right;\n    }\n</style>\n<table border=\"1\" class=\"dataframe\">\n  <thead>\n    <tr style=\"text-align: right;\">\n      <th></th>\n      <th>age</th>\n      <th>gender</th>\n      <th>height</th>\n      <th>cardio</th>\n    </tr>\n  </thead>\n  <tbody>\n    <tr>\n      <th>0</th>\n      <td>50</td>\n      <td>2</td>\n      <td>168</td>\n      <td>0</td>\n    </tr>\n    <tr>\n      <th>4</th>\n      <td>47</td>\n      <td>1</td>\n      <td>156</td>\n      <td>0</td>\n    </tr>\n  </tbody>\n</table>\n</div>"
     },
     "metadata": {},
     "output_type": "display_data"
    },
    {
     "data": {
      "text/plain": "   age  gender  height  cardio\n1   55       1     156       1\n2   51       1     165       1\n3   48       2     169       1",
      "text/html": "<div>\n<style scoped>\n    .dataframe tbody tr th:only-of-type {\n        vertical-align: middle;\n    }\n\n    .dataframe tbody tr th {\n        vertical-align: top;\n    }\n\n    .dataframe thead th {\n        text-align: right;\n    }\n</style>\n<table border=\"1\" class=\"dataframe\">\n  <thead>\n    <tr style=\"text-align: right;\">\n      <th></th>\n      <th>age</th>\n      <th>gender</th>\n      <th>height</th>\n      <th>cardio</th>\n    </tr>\n  </thead>\n  <tbody>\n    <tr>\n      <th>1</th>\n      <td>55</td>\n      <td>1</td>\n      <td>156</td>\n      <td>1</td>\n    </tr>\n    <tr>\n      <th>2</th>\n      <td>51</td>\n      <td>1</td>\n      <td>165</td>\n      <td>1</td>\n    </tr>\n    <tr>\n      <th>3</th>\n      <td>48</td>\n      <td>2</td>\n      <td>169</td>\n      <td>1</td>\n    </tr>\n  </tbody>\n</table>\n</div>"
     },
     "metadata": {},
     "output_type": "display_data"
    }
   ],
   "source": [
    "df1 = df[df['cardio'] <= 0.5]\n",
    "df2 = df[df['cardio'] > 0.5]\n",
    "display(df1, df2)"
   ],
   "metadata": {
    "collapsed": false,
    "pycharm": {
     "name": "#%%\n"
    }
   }
  },
  {
   "cell_type": "code",
   "execution_count": 213,
   "outputs": [
    {
     "data": {
      "text/plain": "[Text(0.5, 0.75, 'cardio <= 0.5\\nsquared_error = 7.76\\nsamples = 5\\nvalue = 50.2'),\n Text(0.25, 0.25, 'squared_error = 2.25\\nsamples = 2\\nvalue = 48.5'),\n Text(0.75, 0.25, 'squared_error = 8.222\\nsamples = 3\\nvalue = 51.333')]"
     },
     "execution_count": 213,
     "metadata": {},
     "output_type": "execute_result"
    },
    {
     "data": {
      "text/plain": "<Figure size 640x480 with 1 Axes>",
      "image/png": "[encoded data removed]"
     },
     "metadata": {},
     "output_type": "display_data"
    }
   ],
   "source": [
    "from sklearn.tree import DecisionTreeRegressor\n",
    "df_reg = DecisionTreeRegressor(random_state=1, max_depth=1)\n",
    "df_reg.fit(df[features], df[target])\n",
    "\n",
    "plot_tree(df_reg, feature_names=features, filled=True, impurity=True)"
   ],
   "metadata": {
    "collapsed": false,
    "pycharm": {
     "name": "#%%\n"
    }
   }
  },
  {
   "cell_type": "code",
   "execution_count": 214,
   "outputs": [
    {
     "name": "stdout",
     "output_type": "stream",
     "text": [
      "2.2400000000000007 1.5 8.222222222222221\n",
      "2.2400000000000007 2.25 8.222222222222221\n"
     ]
    }
   ],
   "source": [
    "root_criterion = mse(df['age'])\n",
    "print(mae(df['age']), mae(df1['age']), mse(df2['age']))\n",
    "print(mae(df['age']), mse(df1['age']), mse(df2['age']))"
   ],
   "metadata": {
    "collapsed": false,
    "pycharm": {
     "name": "#%%\n"
    }
   }
  },
  {
   "cell_type": "code",
   "execution_count": 215,
   "outputs": [
    {
     "data": {
      "text/plain": "1.9266666666666676"
     },
     "execution_count": 215,
     "metadata": {},
     "output_type": "execute_result"
    }
   ],
   "source": [
    "gain(df1['age'], df2['age'], root_criterion, mse)"
   ],
   "metadata": {
    "collapsed": false,
    "pycharm": {
     "name": "#%%\n"
    }
   }
  },
  {
   "cell_type": "code",
   "execution_count": 215,
   "outputs": [],
   "source": [],
   "metadata": {
    "collapsed": false,
    "pycharm": {
     "name": "#%%\n"
    }
   }
  }
 ],
 "metadata": {
  "kernelspec": {
   "display_name": "Python 3",
   "language": "python",
   "name": "python3"
  },
  "language_info": {
   "codemirror_mode": {
    "name": "ipython",
    "version": 2
   },
   "file_extension": ".py",
   "mimetype": "text/x-python",
   "name": "python",
   "nbconvert_exporter": "python",
   "pygments_lexer": "ipython2",
   "version": "2.7.6"
  }
 },
 "nbformat": 4,
 "nbformat_minor": 0
}