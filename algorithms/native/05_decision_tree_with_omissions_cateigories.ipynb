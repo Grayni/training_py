{
 "cells": [
  {
   "cell_type": "code",
   "execution_count": 96,
   "metadata": {
    "collapsed": true
   },
   "outputs": [],
   "source": [
    "import numpy as np\n",
    "import pandas as pd\n",
    "import matplotlib.pyplot as plt\n",
    "\n",
    "from sklearn.tree import DecisionTreeRegressor, plot_tree\n",
    "\n",
    "plt.style.use('dark_background')"
   ]
  },
  {
   "cell_type": "markdown",
   "source": [
    "#### Omissions"
   ],
   "metadata": {
    "collapsed": false,
    "pycharm": {
     "name": "#%% md\n"
    }
   }
  },
  {
   "cell_type": "code",
   "execution_count": 97,
   "outputs": [
    {
     "data": {
      "text/plain": "(70000, 4)"
     },
     "execution_count": 97,
     "metadata": {},
     "output_type": "execute_result"
    }
   ],
   "source": [
    "df_full = pd.read_csv('data/cardio.csv', sep=';')\n",
    "\n",
    "features = ['height', 'age', 'gender']\n",
    "target = ['cardio']\n",
    "\n",
    "df1 = df_full[:][features+target]\n",
    "df1.shape"
   ],
   "metadata": {
    "collapsed": false,
    "pycharm": {
     "name": "#%%\n"
    }
   }
  },
  {
   "cell_type": "code",
   "execution_count": 98,
   "outputs": [
    {
     "data": {
      "text/plain": "0.49999982000000004"
     },
     "execution_count": 98,
     "metadata": {},
     "output_type": "execute_result"
    }
   ],
   "source": [
    "# insert target values\n",
    "def gini(labels):\n",
    "    labels = list(labels)\n",
    "    set_labels = set(labels)\n",
    "\n",
    "    gini = 1\n",
    "    for label_name in set_labels:\n",
    "        p = labels.count(label_name) / len(labels)\n",
    "        gini -= p ** 2\n",
    "\n",
    "    return gini\n",
    "\n",
    "gini0 = gini(df1['cardio'])\n",
    "gini0"
   ],
   "metadata": {
    "collapsed": false,
    "pycharm": {
     "name": "#%%\n"
    }
   }
  },
  {
   "cell_type": "code",
   "execution_count": 99,
   "outputs": [
    {
     "data": {
      "text/plain": "       height  age  gender  cardio\n0         168   50       2       0\n3         169   48       2       1\n4         156   47       1       0\n8         158   48       1       0\n12        165   40       2       0\n...       ...  ...     ...     ...\n69981     182   47       2       1\n69984     168   49       2       1\n69985     156   49       1       1\n69986     180   49       2       0\n69990     168   41       1       1\n\n[24625 rows x 4 columns]",
      "text/html": "<div>\n<style scoped>\n    .dataframe tbody tr th:only-of-type {\n        vertical-align: middle;\n    }\n\n    .dataframe tbody tr th {\n        vertical-align: top;\n    }\n\n    .dataframe thead th {\n        text-align: right;\n    }\n</style>\n<table border=\"1\" class=\"dataframe\">\n  <thead>\n    <tr style=\"text-align: right;\">\n      <th></th>\n      <th>height</th>\n      <th>age</th>\n      <th>gender</th>\n      <th>cardio</th>\n    </tr>\n  </thead>\n  <tbody>\n    <tr>\n      <th>0</th>\n      <td>168</td>\n      <td>50</td>\n      <td>2</td>\n      <td>0</td>\n    </tr>\n    <tr>\n      <th>3</th>\n      <td>169</td>\n      <td>48</td>\n      <td>2</td>\n      <td>1</td>\n    </tr>\n    <tr>\n      <th>4</th>\n      <td>156</td>\n      <td>47</td>\n      <td>1</td>\n      <td>0</td>\n    </tr>\n    <tr>\n      <th>8</th>\n      <td>158</td>\n      <td>48</td>\n      <td>1</td>\n      <td>0</td>\n    </tr>\n    <tr>\n      <th>12</th>\n      <td>165</td>\n      <td>40</td>\n      <td>2</td>\n      <td>0</td>\n    </tr>\n    <tr>\n      <th>...</th>\n      <td>...</td>\n      <td>...</td>\n      <td>...</td>\n      <td>...</td>\n    </tr>\n    <tr>\n      <th>69981</th>\n      <td>182</td>\n      <td>47</td>\n      <td>2</td>\n      <td>1</td>\n    </tr>\n    <tr>\n      <th>69984</th>\n      <td>168</td>\n      <td>49</td>\n      <td>2</td>\n      <td>1</td>\n    </tr>\n    <tr>\n      <th>69985</th>\n      <td>156</td>\n      <td>49</td>\n      <td>1</td>\n      <td>1</td>\n    </tr>\n    <tr>\n      <th>69986</th>\n      <td>180</td>\n      <td>49</td>\n      <td>2</td>\n      <td>0</td>\n    </tr>\n    <tr>\n      <th>69990</th>\n      <td>168</td>\n      <td>41</td>\n      <td>1</td>\n      <td>1</td>\n    </tr>\n  </tbody>\n</table>\n<p>24625 rows × 4 columns</p>\n</div>"
     },
     "metadata": {},
     "output_type": "display_data"
    },
    {
     "data": {
      "text/plain": "       height  age  gender  cardio\n1         156   55       1       1\n2         165   51       1       1\n5         151   60       1       0\n6         157   60       1       0\n7         178   61       2       1\n...       ...  ...     ...     ...\n69995     168   52       2       0\n69996     158   61       1       1\n69997     183   52       2       1\n69998     163   61       1       1\n69999     170   56       1       0\n\n[45375 rows x 4 columns]",
      "text/html": "<div>\n<style scoped>\n    .dataframe tbody tr th:only-of-type {\n        vertical-align: middle;\n    }\n\n    .dataframe tbody tr th {\n        vertical-align: top;\n    }\n\n    .dataframe thead th {\n        text-align: right;\n    }\n</style>\n<table border=\"1\" class=\"dataframe\">\n  <thead>\n    <tr style=\"text-align: right;\">\n      <th></th>\n      <th>height</th>\n      <th>age</th>\n      <th>gender</th>\n      <th>cardio</th>\n    </tr>\n  </thead>\n  <tbody>\n    <tr>\n      <th>1</th>\n      <td>156</td>\n      <td>55</td>\n      <td>1</td>\n      <td>1</td>\n    </tr>\n    <tr>\n      <th>2</th>\n      <td>165</td>\n      <td>51</td>\n      <td>1</td>\n      <td>1</td>\n    </tr>\n    <tr>\n      <th>5</th>\n      <td>151</td>\n      <td>60</td>\n      <td>1</td>\n      <td>0</td>\n    </tr>\n    <tr>\n      <th>6</th>\n      <td>157</td>\n      <td>60</td>\n      <td>1</td>\n      <td>0</td>\n    </tr>\n    <tr>\n      <th>7</th>\n      <td>178</td>\n      <td>61</td>\n      <td>2</td>\n      <td>1</td>\n    </tr>\n    <tr>\n      <th>...</th>\n      <td>...</td>\n      <td>...</td>\n      <td>...</td>\n      <td>...</td>\n    </tr>\n    <tr>\n      <th>69995</th>\n      <td>168</td>\n      <td>52</td>\n      <td>2</td>\n      <td>0</td>\n    </tr>\n    <tr>\n      <th>69996</th>\n      <td>158</td>\n      <td>61</td>\n      <td>1</td>\n      <td>1</td>\n    </tr>\n    <tr>\n      <th>69997</th>\n      <td>183</td>\n      <td>52</td>\n      <td>2</td>\n      <td>1</td>\n    </tr>\n    <tr>\n      <th>69998</th>\n      <td>163</td>\n      <td>61</td>\n      <td>1</td>\n      <td>1</td>\n    </tr>\n    <tr>\n      <th>69999</th>\n      <td>170</td>\n      <td>56</td>\n      <td>1</td>\n      <td>0</td>\n    </tr>\n  </tbody>\n</table>\n<p>45375 rows × 4 columns</p>\n</div>"
     },
     "metadata": {},
     "output_type": "display_data"
    }
   ],
   "source": [
    "def gain(left_branch, right_branch, root_criterion, criterion):\n",
    "    # e.g. gini for left & right branches, ===> need minimum values\n",
    "    crit_right = criterion(right_branch)\n",
    "    crit_left = criterion(left_branch)\n",
    "\n",
    "    # probability for every branch (left & right)\n",
    "    p_left = left_branch.shape[0] / (left_branch.shape[0] + left_branch.shape[0])\n",
    "    p_right = 1 - p_left\n",
    "\n",
    "    # x + y = n\n",
    "    # e.g. gini(parent) - x/n * gini(left_child) - y/n * gini(right_child) # alternative gini => entropy\n",
    "    result = root_criterion - p_left * crit_left - p_right * crit_right\n",
    "    return result\n",
    "\n",
    "# threshold\n",
    "t = 50.5\n",
    "\n",
    "df2_l = df1[df1['age'] <= t]\n",
    "df2_r = df1[df1['age'] > t]\n",
    "display(df2_l, df2_r)"
   ],
   "metadata": {
    "collapsed": false,
    "pycharm": {
     "name": "#%%\n"
    }
   }
  },
  {
   "cell_type": "code",
   "execution_count": 100,
   "outputs": [
    {
     "data": {
      "text/plain": "0.021584169997685476"
     },
     "execution_count": 100,
     "metadata": {},
     "output_type": "execute_result"
    }
   ],
   "source": [
    "gain(df2_l['cardio'], df2_r['cardio'], gini0, gini)"
   ],
   "metadata": {
    "collapsed": false,
    "pycharm": {
     "name": "#%%\n"
    }
   }
  },
  {
   "cell_type": "code",
   "execution_count": 101,
   "outputs": [],
   "source": [
    "# imitation of passes\n",
    "random_pass = np.random.randint(0, df1.shape[0], 1000)  # may be repetitions\n",
    "df1.loc[random_pass, ['height']] = np.nan"
   ],
   "metadata": {
    "collapsed": false,
    "pycharm": {
     "name": "#%%\n"
    }
   }
  },
  {
   "cell_type": "code",
   "execution_count": 102,
   "outputs": [
    {
     "data": {
      "text/plain": "992"
     },
     "execution_count": 102,
     "metadata": {},
     "output_type": "execute_result"
    }
   ],
   "source": [
    "df1['height'].isna().sum()"
   ],
   "metadata": {
    "collapsed": false,
    "pycharm": {
     "name": "#%%\n"
    }
   }
  },
  {
   "cell_type": "code",
   "execution_count": 103,
   "outputs": [
    {
     "data": {
      "text/plain": "0.49999982000000004"
     },
     "execution_count": 103,
     "metadata": {},
     "output_type": "execute_result"
    }
   ],
   "source": [
    "root_gini = gini(df1['cardio'])\n",
    "root_gini"
   ],
   "metadata": {
    "collapsed": false,
    "pycharm": {
     "name": "#%%\n"
    }
   }
  },
  {
   "cell_type": "code",
   "execution_count": 104,
   "outputs": [
    {
     "data": {
      "text/plain": "(69008, 4)"
     },
     "execution_count": 104,
     "metadata": {},
     "output_type": "execute_result"
    }
   ],
   "source": [
    "t = df1['height'].median()\n",
    "df1_isna = df1['height'].isna()\n",
    "\n",
    "# data without nan\n",
    "df1_clean = df1[~df1_isna]\n",
    "df1_clean.shape"
   ],
   "metadata": {
    "collapsed": false,
    "pycharm": {
     "name": "#%%\n"
    }
   }
  },
  {
   "cell_type": "code",
   "execution_count": 105,
   "outputs": [],
   "source": [
    "# data_clean = left_clean_data + right_clean_data\n",
    "\n",
    "# left_clean_data without nan\n",
    "df2_l = df1_clean[df1_clean['height'] <= t]\n",
    "# right_clean_data without nan\n",
    "df2_r = df1_clean[df1_clean['height'] > t]"
   ],
   "metadata": {
    "collapsed": false,
    "pycharm": {
     "name": "#%%\n"
    }
   }
  },
  {
   "cell_type": "code",
   "execution_count": 106,
   "outputs": [
    {
     "data": {
      "text/plain": "2.3792462962857197e-05"
     },
     "execution_count": 106,
     "metadata": {},
     "output_type": "execute_result"
    }
   ],
   "source": [
    "# information gain with clean data\n",
    "gain1 = gain(df2_l['cardio'], df2_r['cardio'], root_gini, gini)\n",
    "gain1"
   ],
   "metadata": {
    "collapsed": false,
    "pycharm": {
     "name": "#%%\n"
    }
   }
  },
  {
   "cell_type": "code",
   "execution_count": 107,
   "outputs": [
    {
     "data": {
      "text/plain": "2.3455289773440704e-05"
     },
     "execution_count": 107,
     "metadata": {},
     "output_type": "execute_result"
    }
   ],
   "source": [
    "# correction for loss of information\n",
    "df1_clean.shape[0] / df1.shape[0] * gain1"
   ],
   "metadata": {
    "collapsed": false,
    "pycharm": {
     "name": "#%%\n"
    }
   }
  },
  {
   "cell_type": "code",
   "execution_count": 108,
   "outputs": [
    {
     "name": "stdout",
     "output_type": "stream",
     "text": [
      "39723 29285\n",
      "40715 30277\n"
     ]
    }
   ],
   "source": [
    "# if a split the best => add data_with_nan in branches\n",
    "print(df2_l.shape[0], df2_r.shape[0])\n",
    "df2_l = pd.concat([df2_l, df1[df1_isna]])\n",
    "df2_r = pd.concat([df2_r, df1[df1_isna]])\n",
    "print(df2_l.shape[0], df2_r.shape[0])"
   ],
   "metadata": {
    "collapsed": false,
    "pycharm": {
     "name": "#%%\n"
    }
   }
  },
  {
   "cell_type": "markdown",
   "source": [
    "#### Categories"
   ],
   "metadata": {
    "collapsed": false,
    "pycharm": {
     "name": "#%% md\n"
    }
   }
  },
  {
   "cell_type": "code",
   "execution_count": 109,
   "outputs": [],
   "source": [
    "colors = ['gray', 'blue', 'green']\n",
    "new_feature = []\n",
    "\n",
    "for i in range(df1.shape[0]):\n",
    "    new_feature.append(np.random.choice(colors, p=['0.5', '0.2', '0.3']))\n",
    "df1['color_eye'] = new_feature"
   ],
   "metadata": {
    "collapsed": false,
    "pycharm": {
     "name": "#%%\n"
    }
   }
  },
  {
   "cell_type": "code",
   "execution_count": 110,
   "outputs": [
    {
     "name": "stdout",
     "output_type": "stream",
     "text": [
      "All\n"
     ]
    },
    {
     "data": {
      "text/plain": "gray     34981\ngreen    21065\nblue     13954\nName: color_eye, dtype: int64"
     },
     "metadata": {},
     "output_type": "display_data"
    },
    {
     "name": "stdout",
     "output_type": "stream",
     "text": [
      "cardio = 0\n"
     ]
    },
    {
     "data": {
      "text/plain": "gray     17493\ngreen    10517\nblue      7011\nName: color_eye, dtype: int64"
     },
     "metadata": {},
     "output_type": "display_data"
    },
    {
     "name": "stdout",
     "output_type": "stream",
     "text": [
      "cardio = 1\n"
     ]
    },
    {
     "data": {
      "text/plain": "gray     17488\ngreen    10548\nblue      6943\nName: color_eye, dtype: int64"
     },
     "metadata": {},
     "output_type": "display_data"
    }
   ],
   "source": [
    "print('All')\n",
    "display(df1['color_eye'].value_counts())\n",
    "print('cardio = 0')\n",
    "display(df1[df1['cardio'] == 0]['color_eye'].value_counts())\n",
    "print('cardio = 1')\n",
    "display(df1[df1['cardio'] == 1]['color_eye'].value_counts())\n",
    "# for c in df1.columns:\n",
    "#     if c == 'cardio':\n",
    "#         print(df1[df1[c] == 1]['color_eye'].value_counts())"
   ],
   "metadata": {
    "collapsed": false,
    "pycharm": {
     "name": "#%%\n"
    }
   }
  },
  {
   "cell_type": "code",
   "execution_count": 112,
   "outputs": [
    {
     "data": {
      "text/plain": "3    34981\n2    21065\n1    13954\nName: color_eye, dtype: int64"
     },
     "metadata": {},
     "output_type": "display_data"
    }
   ],
   "source": [
    "df1['color_eye'].replace({'gray': 3, 'green': 2, 'blue': 1}, inplace=True)\n",
    "display(df1['color_eye'].value_counts())"
   ],
   "metadata": {
    "collapsed": false,
    "pycharm": {
     "name": "#%%\n"
    }
   }
  },
  {
   "cell_type": "code",
   "execution_count": 111,
   "outputs": [],
   "source": [],
   "metadata": {
    "collapsed": false,
    "pycharm": {
     "name": "#%%\n"
    }
   }
  }
 ],
 "metadata": {
  "kernelspec": {
   "display_name": "Python 3",
   "language": "python",
   "name": "python3"
  },
  "language_info": {
   "codemirror_mode": {
    "name": "ipython",
    "version": 2
   },
   "file_extension": ".py",
   "mimetype": "text/x-python",
   "name": "python",
   "nbconvert_exporter": "python",
   "pygments_lexer": "ipython2",
   "version": "2.7.6"
  }
 },
 "nbformat": 4,
 "nbformat_minor": 0
}