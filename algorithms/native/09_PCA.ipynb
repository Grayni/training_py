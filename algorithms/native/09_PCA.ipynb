{
 "cells": [
  {
   "cell_type": "code",
   "execution_count": 347,
   "metadata": {
    "collapsed": true
   },
   "outputs": [],
   "source": [
    "import numpy as np\n",
    "import matplotlib.pyplot as plt\n",
    "from sklearn.datasets import load_iris\n",
    "from sklearn.model_selection import train_test_split\n",
    "from sklearn.linear_model import LogisticRegression\n",
    "import pandas as pd\n",
    "\n",
    "\n",
    "plt.style.use('dark_background')"
   ]
  },
  {
   "cell_type": "code",
   "execution_count": 348,
   "outputs": [],
   "source": [
    "iris = load_iris()"
   ],
   "metadata": {
    "collapsed": false,
    "pycharm": {
     "name": "#%%\n"
    }
   }
  },
  {
   "cell_type": "code",
   "execution_count": 349,
   "outputs": [
    {
     "data": {
      "text/plain": "(150, 4)"
     },
     "execution_count": 349,
     "metadata": {},
     "output_type": "execute_result"
    }
   ],
   "source": [
    "X = iris.data\n",
    "X.shape"
   ],
   "metadata": {
    "collapsed": false,
    "pycharm": {
     "name": "#%%\n"
    }
   }
  },
  {
   "cell_type": "code",
   "execution_count": 350,
   "outputs": [
    {
     "data": {
      "text/plain": "(150,)"
     },
     "execution_count": 350,
     "metadata": {},
     "output_type": "execute_result"
    }
   ],
   "source": [
    "y = iris.target\n",
    "y.shape"
   ],
   "metadata": {
    "collapsed": false,
    "pycharm": {
     "name": "#%%\n"
    }
   }
  },
  {
   "cell_type": "code",
   "execution_count": 351,
   "outputs": [
    {
     "data": {
      "text/plain": "0    50\n1    50\n2    50\ndtype: int64"
     },
     "execution_count": 351,
     "metadata": {},
     "output_type": "execute_result"
    }
   ],
   "source": [
    "df = pd.DataFrame(y)\n",
    "df.value_counts()"
   ],
   "metadata": {
    "collapsed": false,
    "pycharm": {
     "name": "#%%\n"
    }
   }
  },
  {
   "cell_type": "code",
   "execution_count": 352,
   "outputs": [],
   "source": [
    "X_train, X_test, y_train, y_test = train_test_split(X, y, test_size=0.2, random_state=6)"
   ],
   "metadata": {
    "collapsed": false,
    "pycharm": {
     "name": "#%%\n"
    }
   }
  },
  {
   "cell_type": "code",
   "execution_count": 353,
   "outputs": [
    {
     "name": "stdout",
     "output_type": "stream",
     "text": [
      "Weight of model:\n",
      "[[-0.40905864  0.84644076 -2.35991373 -1.02518991]\n",
      " [ 0.47550768 -0.30643072 -0.10203763 -0.9333696 ]\n",
      " [-0.06644904 -0.54001004  2.46195136  1.95855951]]\n",
      "\n",
      "Intercept: [  9.46303624   1.98330197 -11.44633821]\n",
      "\n",
      "True values:\n",
      "[0 2 0 0 2 1 2 0 2 1 2 1 2 2 1 2 2 1 1 0 0 2 0 0 1 1 1 2 0 1]\n",
      "\n",
      "Predict values:\n",
      "[0 2 0 0 2 1 2 0 2 1 2 1 2 2 1 1 2 1 1 0 0 2 0 0 1 1 1 2 0 1]\n",
      "\n"
     ]
    },
    {
     "name": "stderr",
     "output_type": "stream",
     "text": [
      "C:\\Users\\grayni\\anaconda3\\envs\\tr_py\\lib\\site-packages\\sklearn\\linear_model\\_logistic.py:458: ConvergenceWarning: lbfgs failed to converge (status=1):\n",
      "STOP: TOTAL NO. of ITERATIONS REACHED LIMIT.\n",
      "\n",
      "Increase the number of iterations (max_iter) or scale the data as shown in:\n",
      "    https://scikit-learn.org/stable/modules/preprocessing.html\n",
      "Please also refer to the documentation for alternative solver options:\n",
      "    https://scikit-learn.org/stable/modules/linear_model.html#logistic-regression\n",
      "  n_iter_i = _check_optimize_result(\n"
     ]
    }
   ],
   "source": [
    "# model\n",
    "log_model = LogisticRegression()\n",
    "log_model.fit(X_train, y_train)\n",
    "y_pred = log_model.predict(X_test)\n",
    "\n",
    "print(f'Weight of model:\\n{log_model.coef_}\\n')\n",
    "print(f'Intercept: {log_model.intercept_}\\n')\n",
    "print(f'True values:\\n{y_test}\\n')\n",
    "print(f'Predict values:\\n{y_pred}\\n')"
   ],
   "metadata": {
    "collapsed": false,
    "pycharm": {
     "name": "#%%\n"
    }
   }
  },
  {
   "cell_type": "code",
   "execution_count": 354,
   "outputs": [
    {
     "name": "stdout",
     "output_type": "stream",
     "text": [
      "Accuracy: 0.9666666666666667\n"
     ]
    }
   ],
   "source": [
    "print(f'Accuracy: {np.sum(y_test == y_pred) / len(y_test)}')"
   ],
   "metadata": {
    "collapsed": false,
    "pycharm": {
     "name": "#%%\n"
    }
   }
  },
  {
   "cell_type": "markdown",
   "source": [
    "#### PCA"
   ],
   "metadata": {
    "collapsed": false,
    "pycharm": {
     "name": "#%% md\n"
    }
   }
  },
  {
   "cell_type": "code",
   "execution_count": 355,
   "outputs": [],
   "source": [
    "def standard_scale(x):\n",
    "    return (x - x.mean(axis=0)) / x.std(axis=0)"
   ],
   "metadata": {
    "collapsed": false,
    "pycharm": {
     "name": "#%%\n"
    }
   }
  },
  {
   "cell_type": "code",
   "execution_count": 356,
   "outputs": [
    {
     "data": {
      "text/plain": "array([[-9.00681170e-01,  1.01900435e+00, -1.34022653e+00,\n        -1.31544430e+00],\n       [-1.14301691e+00, -1.31979479e-01, -1.34022653e+00,\n        -1.31544430e+00],\n       [-1.38535265e+00,  3.28414053e-01, -1.39706395e+00,\n        -1.31544430e+00],\n       [-1.50652052e+00,  9.82172869e-02, -1.28338910e+00,\n        -1.31544430e+00],\n       [-1.02184904e+00,  1.24920112e+00, -1.34022653e+00,\n        -1.31544430e+00],\n       [-5.37177559e-01,  1.93979142e+00, -1.16971425e+00,\n        -1.05217993e+00],\n       [-1.50652052e+00,  7.88807586e-01, -1.34022653e+00,\n        -1.18381211e+00],\n       [-1.02184904e+00,  7.88807586e-01, -1.28338910e+00,\n        -1.31544430e+00],\n       [-1.74885626e+00, -3.62176246e-01, -1.34022653e+00,\n        -1.31544430e+00],\n       [-1.14301691e+00,  9.82172869e-02, -1.28338910e+00,\n        -1.44707648e+00],\n       [-5.37177559e-01,  1.47939788e+00, -1.28338910e+00,\n        -1.31544430e+00],\n       [-1.26418478e+00,  7.88807586e-01, -1.22655167e+00,\n        -1.31544430e+00],\n       [-1.26418478e+00, -1.31979479e-01, -1.34022653e+00,\n        -1.44707648e+00],\n       [-1.87002413e+00, -1.31979479e-01, -1.51073881e+00,\n        -1.44707648e+00],\n       [-5.25060772e-02,  2.16998818e+00, -1.45390138e+00,\n        -1.31544430e+00],\n       [-1.73673948e-01,  3.09077525e+00, -1.28338910e+00,\n        -1.05217993e+00],\n       [-5.37177559e-01,  1.93979142e+00, -1.39706395e+00,\n        -1.05217993e+00],\n       [-9.00681170e-01,  1.01900435e+00, -1.34022653e+00,\n        -1.18381211e+00],\n       [-1.73673948e-01,  1.70959465e+00, -1.16971425e+00,\n        -1.18381211e+00],\n       [-9.00681170e-01,  1.70959465e+00, -1.28338910e+00,\n        -1.18381211e+00],\n       [-5.37177559e-01,  7.88807586e-01, -1.16971425e+00,\n        -1.31544430e+00],\n       [-9.00681170e-01,  1.47939788e+00, -1.28338910e+00,\n        -1.05217993e+00],\n       [-1.50652052e+00,  1.24920112e+00, -1.56757623e+00,\n        -1.31544430e+00],\n       [-9.00681170e-01,  5.58610819e-01, -1.16971425e+00,\n        -9.20547742e-01],\n       [-1.26418478e+00,  7.88807586e-01, -1.05603939e+00,\n        -1.31544430e+00],\n       [-1.02184904e+00, -1.31979479e-01, -1.22655167e+00,\n        -1.31544430e+00],\n       [-1.02184904e+00,  7.88807586e-01, -1.22655167e+00,\n        -1.05217993e+00],\n       [-7.79513300e-01,  1.01900435e+00, -1.28338910e+00,\n        -1.31544430e+00],\n       [-7.79513300e-01,  7.88807586e-01, -1.34022653e+00,\n        -1.31544430e+00],\n       [-1.38535265e+00,  3.28414053e-01, -1.22655167e+00,\n        -1.31544430e+00],\n       [-1.26418478e+00,  9.82172869e-02, -1.22655167e+00,\n        -1.31544430e+00],\n       [-5.37177559e-01,  7.88807586e-01, -1.28338910e+00,\n        -1.05217993e+00],\n       [-7.79513300e-01,  2.40018495e+00, -1.28338910e+00,\n        -1.44707648e+00],\n       [-4.16009689e-01,  2.63038172e+00, -1.34022653e+00,\n        -1.31544430e+00],\n       [-1.14301691e+00,  9.82172869e-02, -1.28338910e+00,\n        -1.31544430e+00],\n       [-1.02184904e+00,  3.28414053e-01, -1.45390138e+00,\n        -1.31544430e+00],\n       [-4.16009689e-01,  1.01900435e+00, -1.39706395e+00,\n        -1.31544430e+00],\n       [-1.14301691e+00,  1.24920112e+00, -1.34022653e+00,\n        -1.44707648e+00],\n       [-1.74885626e+00, -1.31979479e-01, -1.39706395e+00,\n        -1.31544430e+00],\n       [-9.00681170e-01,  7.88807586e-01, -1.28338910e+00,\n        -1.31544430e+00],\n       [-1.02184904e+00,  1.01900435e+00, -1.39706395e+00,\n        -1.18381211e+00],\n       [-1.62768839e+00, -1.74335684e+00, -1.39706395e+00,\n        -1.18381211e+00],\n       [-1.74885626e+00,  3.28414053e-01, -1.39706395e+00,\n        -1.31544430e+00],\n       [-1.02184904e+00,  1.01900435e+00, -1.22655167e+00,\n        -7.88915558e-01],\n       [-9.00681170e-01,  1.70959465e+00, -1.05603939e+00,\n        -1.05217993e+00],\n       [-1.26418478e+00, -1.31979479e-01, -1.34022653e+00,\n        -1.18381211e+00],\n       [-9.00681170e-01,  1.70959465e+00, -1.22655167e+00,\n        -1.31544430e+00],\n       [-1.50652052e+00,  3.28414053e-01, -1.34022653e+00,\n        -1.31544430e+00],\n       [-6.58345429e-01,  1.47939788e+00, -1.28338910e+00,\n        -1.31544430e+00],\n       [-1.02184904e+00,  5.58610819e-01, -1.34022653e+00,\n        -1.31544430e+00],\n       [ 1.40150837e+00,  3.28414053e-01,  5.35408562e-01,\n         2.64141916e-01],\n       [ 6.74501145e-01,  3.28414053e-01,  4.21733708e-01,\n         3.95774101e-01],\n       [ 1.28034050e+00,  9.82172869e-02,  6.49083415e-01,\n         3.95774101e-01],\n       [-4.16009689e-01, -1.74335684e+00,  1.37546573e-01,\n         1.32509732e-01],\n       [ 7.95669016e-01, -5.92373012e-01,  4.78571135e-01,\n         3.95774101e-01],\n       [-1.73673948e-01, -5.92373012e-01,  4.21733708e-01,\n         1.32509732e-01],\n       [ 5.53333275e-01,  5.58610819e-01,  5.35408562e-01,\n         5.27406285e-01],\n       [-1.14301691e+00, -1.51316008e+00, -2.60315415e-01,\n        -2.62386821e-01],\n       [ 9.16836886e-01, -3.62176246e-01,  4.78571135e-01,\n         1.32509732e-01],\n       [-7.79513300e-01, -8.22569778e-01,  8.07091462e-02,\n         2.64141916e-01],\n       [-1.02184904e+00, -2.43394714e+00, -1.46640561e-01,\n        -2.62386821e-01],\n       [ 6.86617933e-02, -1.31979479e-01,  2.51221427e-01,\n         3.95774101e-01],\n       [ 1.89829664e-01, -1.97355361e+00,  1.37546573e-01,\n        -2.62386821e-01],\n       [ 3.10997534e-01, -3.62176246e-01,  5.35408562e-01,\n         2.64141916e-01],\n       [-2.94841818e-01, -3.62176246e-01, -8.98031345e-02,\n         1.32509732e-01],\n       [ 1.03800476e+00,  9.82172869e-02,  3.64896281e-01,\n         2.64141916e-01],\n       [-2.94841818e-01, -1.31979479e-01,  4.21733708e-01,\n         3.95774101e-01],\n       [-5.25060772e-02, -8.22569778e-01,  1.94384000e-01,\n        -2.62386821e-01],\n       [ 4.32165405e-01, -1.97355361e+00,  4.21733708e-01,\n         3.95774101e-01],\n       [-2.94841818e-01, -1.28296331e+00,  8.07091462e-02,\n        -1.30754636e-01],\n       [ 6.86617933e-02,  3.28414053e-01,  5.92245988e-01,\n         7.90670654e-01],\n       [ 3.10997534e-01, -5.92373012e-01,  1.37546573e-01,\n         1.32509732e-01],\n       [ 5.53333275e-01, -1.28296331e+00,  6.49083415e-01,\n         3.95774101e-01],\n       [ 3.10997534e-01, -5.92373012e-01,  5.35408562e-01,\n         8.77547895e-04],\n       [ 6.74501145e-01, -3.62176246e-01,  3.08058854e-01,\n         1.32509732e-01],\n       [ 9.16836886e-01, -1.31979479e-01,  3.64896281e-01,\n         2.64141916e-01],\n       [ 1.15917263e+00, -5.92373012e-01,  5.92245988e-01,\n         2.64141916e-01],\n       [ 1.03800476e+00, -1.31979479e-01,  7.05920842e-01,\n         6.59038469e-01],\n       [ 1.89829664e-01, -3.62176246e-01,  4.21733708e-01,\n         3.95774101e-01],\n       [-1.73673948e-01, -1.05276654e+00, -1.46640561e-01,\n        -2.62386821e-01],\n       [-4.16009689e-01, -1.51316008e+00,  2.38717193e-02,\n        -1.30754636e-01],\n       [-4.16009689e-01, -1.51316008e+00, -3.29657076e-02,\n        -2.62386821e-01],\n       [-5.25060772e-02, -8.22569778e-01,  8.07091462e-02,\n         8.77547895e-04],\n       [ 1.89829664e-01, -8.22569778e-01,  7.62758269e-01,\n         5.27406285e-01],\n       [-5.37177559e-01, -1.31979479e-01,  4.21733708e-01,\n         3.95774101e-01],\n       [ 1.89829664e-01,  7.88807586e-01,  4.21733708e-01,\n         5.27406285e-01],\n       [ 1.03800476e+00,  9.82172869e-02,  5.35408562e-01,\n         3.95774101e-01],\n       [ 5.53333275e-01, -1.74335684e+00,  3.64896281e-01,\n         1.32509732e-01],\n       [-2.94841818e-01, -1.31979479e-01,  1.94384000e-01,\n         1.32509732e-01],\n       [-4.16009689e-01, -1.28296331e+00,  1.37546573e-01,\n         1.32509732e-01],\n       [-4.16009689e-01, -1.05276654e+00,  3.64896281e-01,\n         8.77547895e-04],\n       [ 3.10997534e-01, -1.31979479e-01,  4.78571135e-01,\n         2.64141916e-01],\n       [-5.25060772e-02, -1.05276654e+00,  1.37546573e-01,\n         8.77547895e-04],\n       [-1.02184904e+00, -1.74335684e+00, -2.60315415e-01,\n        -2.62386821e-01],\n       [-2.94841818e-01, -8.22569778e-01,  2.51221427e-01,\n         1.32509732e-01],\n       [-1.73673948e-01, -1.31979479e-01,  2.51221427e-01,\n         8.77547895e-04],\n       [-1.73673948e-01, -3.62176246e-01,  2.51221427e-01,\n         1.32509732e-01],\n       [ 4.32165405e-01, -3.62176246e-01,  3.08058854e-01,\n         1.32509732e-01],\n       [-9.00681170e-01, -1.28296331e+00, -4.30827696e-01,\n        -1.30754636e-01],\n       [-1.73673948e-01, -5.92373012e-01,  1.94384000e-01,\n         1.32509732e-01],\n       [ 5.53333275e-01,  5.58610819e-01,  1.27429511e+00,\n         1.71209594e+00],\n       [-5.25060772e-02, -8.22569778e-01,  7.62758269e-01,\n         9.22302838e-01],\n       [ 1.52267624e+00, -1.31979479e-01,  1.21745768e+00,\n         1.18556721e+00],\n       [ 5.53333275e-01, -3.62176246e-01,  1.04694540e+00,\n         7.90670654e-01],\n       [ 7.95669016e-01, -1.31979479e-01,  1.16062026e+00,\n         1.31719939e+00],\n       [ 2.12851559e+00, -1.31979479e-01,  1.61531967e+00,\n         1.18556721e+00],\n       [-1.14301691e+00, -1.28296331e+00,  4.21733708e-01,\n         6.59038469e-01],\n       [ 1.76501198e+00, -3.62176246e-01,  1.44480739e+00,\n         7.90670654e-01],\n       [ 1.03800476e+00, -1.28296331e+00,  1.16062026e+00,\n         7.90670654e-01],\n       [ 1.64384411e+00,  1.24920112e+00,  1.33113254e+00,\n         1.71209594e+00],\n       [ 7.95669016e-01,  3.28414053e-01,  7.62758269e-01,\n         1.05393502e+00],\n       [ 6.74501145e-01, -8.22569778e-01,  8.76433123e-01,\n         9.22302838e-01],\n       [ 1.15917263e+00, -1.31979479e-01,  9.90107977e-01,\n         1.18556721e+00],\n       [-1.73673948e-01, -1.28296331e+00,  7.05920842e-01,\n         1.05393502e+00],\n       [-5.25060772e-02, -5.92373012e-01,  7.62758269e-01,\n         1.58046376e+00],\n       [ 6.74501145e-01,  3.28414053e-01,  8.76433123e-01,\n         1.44883158e+00],\n       [ 7.95669016e-01, -1.31979479e-01,  9.90107977e-01,\n         7.90670654e-01],\n       [ 2.24968346e+00,  1.70959465e+00,  1.67215710e+00,\n         1.31719939e+00],\n       [ 2.24968346e+00, -1.05276654e+00,  1.78583195e+00,\n         1.44883158e+00],\n       [ 1.89829664e-01, -1.97355361e+00,  7.05920842e-01,\n         3.95774101e-01],\n       [ 1.28034050e+00,  3.28414053e-01,  1.10378283e+00,\n         1.44883158e+00],\n       [-2.94841818e-01, -5.92373012e-01,  6.49083415e-01,\n         1.05393502e+00],\n       [ 2.24968346e+00, -5.92373012e-01,  1.67215710e+00,\n         1.05393502e+00],\n       [ 5.53333275e-01, -8.22569778e-01,  6.49083415e-01,\n         7.90670654e-01],\n       [ 1.03800476e+00,  5.58610819e-01,  1.10378283e+00,\n         1.18556721e+00],\n       [ 1.64384411e+00,  3.28414053e-01,  1.27429511e+00,\n         7.90670654e-01],\n       [ 4.32165405e-01, -5.92373012e-01,  5.92245988e-01,\n         7.90670654e-01],\n       [ 3.10997534e-01, -1.31979479e-01,  6.49083415e-01,\n         7.90670654e-01],\n       [ 6.74501145e-01, -5.92373012e-01,  1.04694540e+00,\n         1.18556721e+00],\n       [ 1.64384411e+00, -1.31979479e-01,  1.16062026e+00,\n         5.27406285e-01],\n       [ 1.88617985e+00, -5.92373012e-01,  1.33113254e+00,\n         9.22302838e-01],\n       [ 2.49201920e+00,  1.70959465e+00,  1.50164482e+00,\n         1.05393502e+00],\n       [ 6.74501145e-01, -5.92373012e-01,  1.04694540e+00,\n         1.31719939e+00],\n       [ 5.53333275e-01, -5.92373012e-01,  7.62758269e-01,\n         3.95774101e-01],\n       [ 3.10997534e-01, -1.05276654e+00,  1.04694540e+00,\n         2.64141916e-01],\n       [ 2.24968346e+00, -1.31979479e-01,  1.33113254e+00,\n         1.44883158e+00],\n       [ 5.53333275e-01,  7.88807586e-01,  1.04694540e+00,\n         1.58046376e+00],\n       [ 6.74501145e-01,  9.82172869e-02,  9.90107977e-01,\n         7.90670654e-01],\n       [ 1.89829664e-01, -1.31979479e-01,  5.92245988e-01,\n         7.90670654e-01],\n       [ 1.28034050e+00,  9.82172869e-02,  9.33270550e-01,\n         1.18556721e+00],\n       [ 1.03800476e+00,  9.82172869e-02,  1.04694540e+00,\n         1.58046376e+00],\n       [ 1.28034050e+00,  9.82172869e-02,  7.62758269e-01,\n         1.44883158e+00],\n       [-5.25060772e-02, -8.22569778e-01,  7.62758269e-01,\n         9.22302838e-01],\n       [ 1.15917263e+00,  3.28414053e-01,  1.21745768e+00,\n         1.44883158e+00],\n       [ 1.03800476e+00,  5.58610819e-01,  1.10378283e+00,\n         1.71209594e+00],\n       [ 1.03800476e+00, -1.31979479e-01,  8.19595696e-01,\n         1.44883158e+00],\n       [ 5.53333275e-01, -1.28296331e+00,  7.05920842e-01,\n         9.22302838e-01],\n       [ 7.95669016e-01, -1.31979479e-01,  8.19595696e-01,\n         1.05393502e+00],\n       [ 4.32165405e-01,  7.88807586e-01,  9.33270550e-01,\n         1.44883158e+00],\n       [ 6.86617933e-02, -1.31979479e-01,  7.62758269e-01,\n         7.90670654e-01]])"
     },
     "execution_count": 356,
     "metadata": {},
     "output_type": "execute_result"
    }
   ],
   "source": [
    "X2 = standard_scale(X)\n",
    "X2"
   ],
   "metadata": {
    "collapsed": false,
    "pycharm": {
     "name": "#%%\n"
    }
   }
  },
  {
   "cell_type": "code",
   "execution_count": 357,
   "outputs": [
    {
     "data": {
      "text/plain": "<Figure size 640x480 with 1 Axes>",
      "image/png": "[encoded data removed]"
     },
     "metadata": {},
     "output_type": "display_data"
    }
   ],
   "source": [
    "plt.scatter(X2[:, 0], X2[:, 1])\n",
    "plt.grid()\n",
    "plt.show()"
   ],
   "metadata": {
    "collapsed": false,
    "pycharm": {
     "name": "#%%\n"
    }
   }
  },
  {
   "cell_type": "code",
   "execution_count": 358,
   "outputs": [],
   "source": [
    "def covariance(x, y):\n",
    "    return np.sum(x * y) / (len(x) - 1)"
   ],
   "metadata": {
    "collapsed": false,
    "pycharm": {
     "name": "#%%\n"
    }
   }
  },
  {
   "cell_type": "code",
   "execution_count": 359,
   "outputs": [
    {
     "name": "stdout",
     "output_type": "stream",
     "text": [
      "covariance 0: 1.0067114093959733\n",
      "covariance 1: 1.0067114093959741\n",
      "covariance 0 & 1: -0.11835884308691484\n"
     ]
    }
   ],
   "source": [
    "print(f'covariance 0: {covariance(X2[:, 0], X2[:, 0])}')\n",
    "print(f'covariance 1: {covariance(X2[:, 1], X2[:, 1])}')\n",
    "print(f'covariance 0 & 1: {covariance(X2[:, 0], X2[:, 1])}')"
   ],
   "metadata": {
    "collapsed": false,
    "pycharm": {
     "name": "#%%\n"
    }
   }
  },
  {
   "cell_type": "code",
   "execution_count": 360,
   "outputs": [
    {
     "data": {
      "text/plain": "array([[ 1.00671141, -0.11835884,  0.87760447,  0.82343066],\n       [-0.11835884,  1.00671141, -0.43131554, -0.36858315],\n       [ 0.87760447, -0.43131554,  1.00671141,  0.96932762],\n       [ 0.82343066, -0.36858315,  0.96932762,  1.00671141]])"
     },
     "execution_count": 360,
     "metadata": {},
     "output_type": "execute_result"
    }
   ],
   "source": [
    "cov = np.cov(X2.T)\n",
    "cov"
   ],
   "metadata": {
    "collapsed": false,
    "pycharm": {
     "name": "#%%\n"
    }
   }
  },
  {
   "cell_type": "code",
   "execution_count": 361,
   "outputs": [
    {
     "name": "stdout",
     "output_type": "stream",
     "text": [
      "own values & own vectors in descending order:\n",
      "(437.77467247979865, array([ 0.52106591, -0.26934744,  0.5804131 ,  0.56485654]))\n",
      "(137.1045707202106, array([-0.37741762, -0.92329566, -0.02449161, -0.06694199]))\n",
      "(22.013531335697223, array([-0.71956635,  0.24438178,  0.14212637,  0.63427274]))\n",
      "(3.1072254642929384, array([ 0.26128628, -0.12350962, -0.80144925,  0.52359713]))\n"
     ]
    }
   ],
   "source": [
    "covariance_matrix = X2.T @ X2\n",
    "\n",
    "eig_values, eig_vectors = np.linalg.eig(covariance_matrix)\n",
    "eig_pairs = [(np.abs(eig_values[i]), eig_vectors[:, i]) for i in range(len(eig_values))]\n",
    "eig_pairs.sort(key=lambda x: x[0], reverse=True)\n",
    "\n",
    "print('own values & own vectors in descending order:')\n",
    "\n",
    "for i in eig_pairs:\n",
    "    print(i)"
   ],
   "metadata": {
    "collapsed": false,
    "pycharm": {
     "name": "#%%\n"
    }
   }
  },
  {
   "cell_type": "code",
   "execution_count": 362,
   "outputs": [
    {
     "data": {
      "text/plain": "[72.96244541329986, 22.850761786701792, 3.6689218892828745, 0.5178709107154903]"
     },
     "execution_count": 362,
     "metadata": {},
     "output_type": "execute_result"
    }
   ],
   "source": [
    "eig_sum = sum(eig_values)\n",
    "\n",
    "percentage_eig = [pair / eig_sum * 100 for pair in sorted(eig_values, reverse=True)]\n",
    "percentage_eig"
   ],
   "metadata": {
    "collapsed": false,
    "pycharm": {
     "name": "#%%\n"
    }
   }
  },
  {
   "cell_type": "code",
   "execution_count": 363,
   "outputs": [
    {
     "data": {
      "text/plain": "array([ 72.96244541,  95.8132072 ,  99.48212909, 100.        ])"
     },
     "execution_count": 363,
     "metadata": {},
     "output_type": "execute_result"
    }
   ],
   "source": [
    "cum_var_exp = np.cumsum(percentage_eig)\n",
    "cum_var_exp"
   ],
   "metadata": {
    "collapsed": false,
    "pycharm": {
     "name": "#%%\n"
    }
   }
  },
  {
   "cell_type": "code",
   "execution_count": 364,
   "outputs": [
    {
     "data": {
      "text/plain": "array([[ 0.52106591, -0.37741762],\n       [-0.26934744, -0.92329566],\n       [ 0.5804131 , -0.02449161],\n       [ 0.56485654, -0.06694199]])"
     },
     "execution_count": 364,
     "metadata": {},
     "output_type": "execute_result"
    }
   ],
   "source": [
    "W = np.hstack([eig_pairs[i][1].reshape(4, 1) for i in range(2)])\n",
    "W"
   ],
   "metadata": {
    "collapsed": false,
    "pycharm": {
     "name": "#%%\n"
    }
   }
  },
  {
   "cell_type": "code",
   "execution_count": 365,
   "outputs": [
    {
     "data": {
      "text/plain": "array([[-2.26470281, -0.4800266 ],\n       [-2.08096115,  0.67413356],\n       [-2.36422905,  0.34190802],\n       [-2.29938422,  0.59739451],\n       [-2.38984217, -0.64683538]])"
     },
     "execution_count": 365,
     "metadata": {},
     "output_type": "execute_result"
    }
   ],
   "source": [
    "Z = X2.dot(W)\n",
    "Z[:5]"
   ],
   "metadata": {
    "collapsed": false,
    "pycharm": {
     "name": "#%%\n"
    }
   }
  },
  {
   "cell_type": "code",
   "execution_count": 366,
   "outputs": [],
   "source": [
    "X_train, X_test, y_train, y_test = train_test_split(Z, y, test_size=0.2, random_state=6)"
   ],
   "metadata": {
    "collapsed": false,
    "pycharm": {
     "name": "#%%\n"
    }
   }
  },
  {
   "cell_type": "code",
   "execution_count": 367,
   "outputs": [
    {
     "name": "stdout",
     "output_type": "stream",
     "text": [
      "Weight of model:\n",
      "[[-2.76594992 -0.43888543]\n",
      " [-0.13346207  0.14361209]\n",
      " [ 2.89941199  0.29527334]]\n",
      "\n",
      "Intercept: [-0.35249349  1.85329799 -1.5008045 ]\n",
      "\n",
      "True values:\n",
      "[0 2 0 0 2 1 2 0 2 1 2 1 2 2 1 2 2 1 1 0 0 2 0 0 1 1 1 2 0 1]\n",
      "\n",
      "Predict values:\n",
      "[0 2 0 0 2 1 2 0 2 1 1 1 2 2 1 2 2 1 1 0 0 2 0 0 1 2 2 2 0 1]\n",
      "\n"
     ]
    }
   ],
   "source": [
    "log_model2 = LogisticRegression()\n",
    "log_model2.fit(X_train, y_train)\n",
    "y_pred2 = log_model2.predict(X_test)\n",
    "\n",
    "print(f'Weight of model:\\n{log_model2.coef_}\\n')\n",
    "print(f'Intercept: {log_model2.intercept_}\\n')\n",
    "print(f'True values:\\n{y_test}\\n')\n",
    "print(f'Predict values:\\n{y_pred2}\\n')"
   ],
   "metadata": {
    "collapsed": false,
    "pycharm": {
     "name": "#%%\n"
    }
   }
  },
  {
   "cell_type": "code",
   "execution_count": 368,
   "outputs": [
    {
     "name": "stdout",
     "output_type": "stream",
     "text": [
      "Accuracy: 0.9\n"
     ]
    }
   ],
   "source": [
    "print(f'Accuracy: {np.sum(y_test == y_pred2) / len(y_test)}')"
   ],
   "metadata": {
    "collapsed": false,
    "pycharm": {
     "name": "#%%\n"
    }
   }
  },
  {
   "cell_type": "markdown",
   "source": [
    "#### Conclusion\n",
    "Permissible loss in accuracy (use PCA). Dimension reduced by 2 times."
   ],
   "metadata": {
    "collapsed": false,
    "pycharm": {
     "name": "#%% md\n"
    }
   }
  },
  {
   "cell_type": "code",
   "execution_count": 372,
   "outputs": [],
   "source": [],
   "metadata": {
    "collapsed": false,
    "pycharm": {
     "name": "#%%\n"
    }
   }
  }
 ],
 "metadata": {
  "kernelspec": {
   "display_name": "Python 3",
   "language": "python",
   "name": "python3"
  },
  "language_info": {
   "codemirror_mode": {
    "name": "ipython",
    "version": 2
   },
   "file_extension": ".py",
   "mimetype": "text/x-python",
   "name": "python",
   "nbconvert_exporter": "python",
   "pygments_lexer": "ipython2",
   "version": "2.7.6"
  }
 },
 "nbformat": 4,
 "nbformat_minor": 0
}