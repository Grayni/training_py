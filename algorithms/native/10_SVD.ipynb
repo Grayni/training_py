{
 "cells": [
  {
   "cell_type": "code",
   "execution_count": 79,
   "metadata": {
    "collapsed": true
   },
   "outputs": [],
   "source": [
    "import numpy as np\n",
    "import matplotlib.pyplot as plt\n",
    "from sklearn.model_selection import train_test_split\n",
    "from sklearn.linear_model import LogisticRegression\n",
    "from sklearn.datasets import load_iris\n",
    "\n",
    "plt.style.use('dark_background')"
   ]
  },
  {
   "cell_type": "code",
   "execution_count": 80,
   "outputs": [],
   "source": [
    "iris = load_iris()\n",
    "X = iris.data\n",
    "y = iris.target"
   ],
   "metadata": {
    "collapsed": false,
    "pycharm": {
     "name": "#%%\n"
    }
   }
  },
  {
   "cell_type": "code",
   "execution_count": 81,
   "outputs": [],
   "source": [
    "def standard_scale(x):\n",
    "    return (x - x.mean(axis=0)) / x.std(axis=0)"
   ],
   "metadata": {
    "collapsed": false,
    "pycharm": {
     "name": "#%%\n"
    }
   }
  },
  {
   "cell_type": "code",
   "execution_count": 82,
   "outputs": [
    {
     "data": {
      "text/plain": "array([[-0.90068117,  1.01900435, -1.34022653, -1.3154443 ],\n       [-1.14301691, -0.13197948, -1.34022653, -1.3154443 ],\n       [-1.38535265,  0.32841405, -1.39706395, -1.3154443 ],\n       [-1.50652052,  0.09821729, -1.2833891 , -1.3154443 ],\n       [-1.02184904,  1.24920112, -1.34022653, -1.3154443 ]])"
     },
     "execution_count": 82,
     "metadata": {},
     "output_type": "execute_result"
    }
   ],
   "source": [
    "X = standard_scale(X)\n",
    "X[:5]"
   ],
   "metadata": {
    "collapsed": false,
    "pycharm": {
     "name": "#%%\n"
    }
   }
  },
  {
   "cell_type": "code",
   "execution_count": 83,
   "outputs": [
    {
     "name": "stdout",
     "output_type": "stream",
     "text": [
      "Weight of model:\n",
      "[[-1.06544633  0.98533688 -1.80102613 -1.69556947]\n",
      " [ 0.64321104 -0.49815865 -0.37938192 -0.76932409]\n",
      " [ 0.42223528 -0.48717824  2.18040806  2.46489356]]\n",
      "\n",
      "Intercept: [-0.32535836  1.91538302 -1.59002466]\n",
      "\n",
      "True values:\n",
      "[0 0 2 2 1 0 0 2 2 1 2 0 2 2 2 0 2 1 0 2 1 2 1 1 2 0 0 1 0 2]\n",
      "\n",
      "Predict values:\n",
      "[0 0 2 2 2 0 0 2 2 1 2 0 1 2 2 0 2 1 0 2 1 2 1 1 2 0 0 2 0 2]\n",
      "\n"
     ]
    }
   ],
   "source": [
    "X_train, X_test, y_train, y_test = train_test_split(X, y, test_size=0.2, random_state=111)\n",
    "log_model1 = LogisticRegression()\n",
    "log_model1.fit(X_train, y_train)\n",
    "y_pred1 = log_model1.predict(X_test)\n",
    "\n",
    "print(f'Weight of model:\\n{log_model1.coef_}\\n')\n",
    "print(f'Intercept: {log_model1.intercept_}\\n')\n",
    "print(f'True values:\\n{y_test}\\n')\n",
    "print(f'Predict values:\\n{y_pred1}\\n')"
   ],
   "metadata": {
    "collapsed": false,
    "pycharm": {
     "name": "#%%\n"
    }
   }
  },
  {
   "cell_type": "code",
   "execution_count": 84,
   "outputs": [
    {
     "name": "stdout",
     "output_type": "stream",
     "text": [
      "Accuracy: 0.9\n"
     ]
    }
   ],
   "source": [
    "print(f'Accuracy: {np.sum(y_test == y_pred1) / len(y_test)}')"
   ],
   "metadata": {
    "collapsed": false,
    "pycharm": {
     "name": "#%%\n"
    }
   }
  },
  {
   "cell_type": "code",
   "execution_count": 85,
   "outputs": [
    {
     "data": {
      "text/plain": "((150, 150), (4,), (4, 4))"
     },
     "execution_count": 85,
     "metadata": {},
     "output_type": "execute_result"
    }
   ],
   "source": [
    "U, D, VT = np.linalg.svd(X)\n",
    "U.shape, D.shape, VT.shape"
   ],
   "metadata": {
    "collapsed": false,
    "pycharm": {
     "name": "#%%\n"
    }
   }
  },
  {
   "cell_type": "code",
   "execution_count": 86,
   "outputs": [],
   "source": [
    "# return V\n",
    "V = VT.T"
   ],
   "metadata": {
    "collapsed": false,
    "pycharm": {
     "name": "#%%\n"
    }
   }
  },
  {
   "cell_type": "code",
   "execution_count": 87,
   "outputs": [],
   "source": [
    "# Get max values D (index, value)\n",
    "D_max = np.array([[i, value] for i, value in enumerate(D) if D[i] > 10])"
   ],
   "metadata": {
    "collapsed": false,
    "pycharm": {
     "name": "#%%\n"
    }
   }
  },
  {
   "cell_type": "code",
   "execution_count": 88,
   "outputs": [
    {
     "data": {
      "text/plain": "array([[ 10.90229629,  -4.41924555],\n       [ -5.6355742 , -10.81102224],\n       [ 12.14402126,  -0.28677632],\n       [ 11.81853033,  -0.78383484]])"
     },
     "execution_count": 88,
     "metadata": {},
     "output_type": "execute_result"
    }
   ],
   "source": [
    "# create weights\n",
    "indexes = D_max[:, 0].astype(np.int32)\n",
    "values = D_max[:, 1]\n",
    "\n",
    "W = V[:, indexes] * values\n",
    "W"
   ],
   "metadata": {
    "collapsed": false,
    "pycharm": {
     "name": "#%%\n"
    }
   }
  },
  {
   "cell_type": "code",
   "execution_count": 89,
   "outputs": [],
   "source": [
    "Z = X.dot(W)"
   ],
   "metadata": {
    "collapsed": false,
    "pycharm": {
     "name": "#%%\n"
    }
   }
  },
  {
   "cell_type": "code",
   "execution_count": 90,
   "outputs": [
    {
     "name": "stdout",
     "output_type": "stream",
     "text": [
      "Weight of model:\n",
      "[[-0.33153571 -0.04396155]\n",
      " [ 0.0410441   0.01008333]\n",
      " [ 0.29049162  0.03387822]]\n",
      "\n",
      "Intercept: [-3.21421207  4.50597194 -1.29175987]\n",
      "\n",
      "True values:\n",
      "[0 0 2 2 1 0 0 2 2 1 2 0 2 2 2 0 2 1 0 2 1 2 1 1 2 0 0 1 0 2]\n",
      "\n",
      "Predict values:\n",
      "[0 0 2 2 2 0 0 2 2 1 2 0 2 2 2 0 2 1 0 2 1 2 1 1 2 0 0 1 0 2]\n",
      "\n"
     ]
    }
   ],
   "source": [
    "# learning\n",
    "X_train, X_test, y_train, y_test = train_test_split(Z, y, test_size=0.2, random_state=111)\n",
    "\n",
    "log_model2 = LogisticRegression()\n",
    "log_model2.fit(X_train, y_train)\n",
    "y_pred = log_model2.predict(X_test)\n",
    "\n",
    "print(f'Weight of model:\\n{log_model2.coef_}\\n')\n",
    "print(f'Intercept: {log_model2.intercept_}\\n')\n",
    "print(f'True values:\\n{y_test}\\n')\n",
    "print(f'Predict values:\\n{y_pred}\\n')"
   ],
   "metadata": {
    "collapsed": false,
    "pycharm": {
     "name": "#%%\n"
    }
   }
  },
  {
   "cell_type": "code",
   "execution_count": 91,
   "outputs": [
    {
     "name": "stdout",
     "output_type": "stream",
     "text": [
      "Accuracy: 0.9666666666666667\n"
     ]
    }
   ],
   "source": [
    "print(f'Accuracy: {np.sum(y_test == y_pred) / len(y_test)}')"
   ],
   "metadata": {
    "collapsed": false,
    "pycharm": {
     "name": "#%%\n"
    }
   }
  }
 ],
 "metadata": {
  "kernelspec": {
   "display_name": "Python 3",
   "language": "python",
   "name": "python3"
  },
  "language_info": {
   "codemirror_mode": {
    "name": "ipython",
    "version": 2
   },
   "file_extension": ".py",
   "mimetype": "text/x-python",
   "name": "python",
   "nbconvert_exporter": "python",
   "pygments_lexer": "ipython2",
   "version": "2.7.6"
  }
 },
 "nbformat": 4,
 "nbformat_minor": 0
}