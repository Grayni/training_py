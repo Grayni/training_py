{
 "cells": [
  {
   "cell_type": "code",
   "execution_count": 2,
   "metadata": {
    "collapsed": true
   },
   "outputs": [],
   "source": [
    "import pandas as pd\n",
    "import numpy as np"
   ]
  },
  {
   "cell_type": "code",
   "execution_count": 3,
   "outputs": [
    {
     "data": {
      "text/plain": "   customerID  gender  SeniorCitizen Partner Dependents  tenure PhoneService  \\\n0  7590-VHVEG  Female              0     Yes         No       1           No   \n1  5575-GNVDE    Male              0      No         No      34          Yes   \n2  3668-QPYBK    Male              0      No         No       2          Yes   \n3  7795-CFOCW    Male              0      No         No      45           No   \n4  9237-HQITU  Female              0      No         No       2          Yes   \n\n      MultipleLines InternetService OnlineSecurity  ... DeviceProtection  \\\n0  No phone service             DSL             No  ...               No   \n1                No             DSL            Yes  ...              Yes   \n2                No             DSL            Yes  ...               No   \n3  No phone service             DSL            Yes  ...              Yes   \n4                No     Fiber optic             No  ...               No   \n\n  TechSupport StreamingTV StreamingMovies        Contract PaperlessBilling  \\\n0          No          No              No  Month-to-month              Yes   \n1          No          No              No        One year               No   \n2          No          No              No  Month-to-month              Yes   \n3         Yes          No              No        One year               No   \n4          No          No              No  Month-to-month              Yes   \n\n               PaymentMethod MonthlyCharges  TotalCharges Churn  \n0           Electronic check          29.85         29.85    No  \n1               Mailed check          56.95        1889.5    No  \n2               Mailed check          53.85        108.15   Yes  \n3  Bank transfer (automatic)          42.30       1840.75    No  \n4           Electronic check          70.70        151.65   Yes  \n\n[5 rows x 21 columns]",
      "text/html": "<div>\n<style scoped>\n    .dataframe tbody tr th:only-of-type {\n        vertical-align: middle;\n    }\n\n    .dataframe tbody tr th {\n        vertical-align: top;\n    }\n\n    .dataframe thead th {\n        text-align: right;\n    }\n</style>\n<table border=\"1\" class=\"dataframe\">\n  <thead>\n    <tr style=\"text-align: right;\">\n      <th></th>\n      <th>customerID</th>\n      <th>gender</th>\n      <th>SeniorCitizen</th>\n      <th>Partner</th>\n      <th>Dependents</th>\n      <th>tenure</th>\n      <th>PhoneService</th>\n      <th>MultipleLines</th>\n      <th>InternetService</th>\n      <th>OnlineSecurity</th>\n      <th>...</th>\n      <th>DeviceProtection</th>\n      <th>TechSupport</th>\n      <th>StreamingTV</th>\n      <th>StreamingMovies</th>\n      <th>Contract</th>\n      <th>PaperlessBilling</th>\n      <th>PaymentMethod</th>\n      <th>MonthlyCharges</th>\n      <th>TotalCharges</th>\n      <th>Churn</th>\n    </tr>\n  </thead>\n  <tbody>\n    <tr>\n      <th>0</th>\n      <td>7590-VHVEG</td>\n      <td>Female</td>\n      <td>0</td>\n      <td>Yes</td>\n      <td>No</td>\n      <td>1</td>\n      <td>No</td>\n      <td>No phone service</td>\n      <td>DSL</td>\n      <td>No</td>\n      <td>...</td>\n      <td>No</td>\n      <td>No</td>\n      <td>No</td>\n      <td>No</td>\n      <td>Month-to-month</td>\n      <td>Yes</td>\n      <td>Electronic check</td>\n      <td>29.85</td>\n      <td>29.85</td>\n      <td>No</td>\n    </tr>\n    <tr>\n      <th>1</th>\n      <td>5575-GNVDE</td>\n      <td>Male</td>\n      <td>0</td>\n      <td>No</td>\n      <td>No</td>\n      <td>34</td>\n      <td>Yes</td>\n      <td>No</td>\n      <td>DSL</td>\n      <td>Yes</td>\n      <td>...</td>\n      <td>Yes</td>\n      <td>No</td>\n      <td>No</td>\n      <td>No</td>\n      <td>One year</td>\n      <td>No</td>\n      <td>Mailed check</td>\n      <td>56.95</td>\n      <td>1889.5</td>\n      <td>No</td>\n    </tr>\n    <tr>\n      <th>2</th>\n      <td>3668-QPYBK</td>\n      <td>Male</td>\n      <td>0</td>\n      <td>No</td>\n      <td>No</td>\n      <td>2</td>\n      <td>Yes</td>\n      <td>No</td>\n      <td>DSL</td>\n      <td>Yes</td>\n      <td>...</td>\n      <td>No</td>\n      <td>No</td>\n      <td>No</td>\n      <td>No</td>\n      <td>Month-to-month</td>\n      <td>Yes</td>\n      <td>Mailed check</td>\n      <td>53.85</td>\n      <td>108.15</td>\n      <td>Yes</td>\n    </tr>\n    <tr>\n      <th>3</th>\n      <td>7795-CFOCW</td>\n      <td>Male</td>\n      <td>0</td>\n      <td>No</td>\n      <td>No</td>\n      <td>45</td>\n      <td>No</td>\n      <td>No phone service</td>\n      <td>DSL</td>\n      <td>Yes</td>\n      <td>...</td>\n      <td>Yes</td>\n      <td>Yes</td>\n      <td>No</td>\n      <td>No</td>\n      <td>One year</td>\n      <td>No</td>\n      <td>Bank transfer (automatic)</td>\n      <td>42.30</td>\n      <td>1840.75</td>\n      <td>No</td>\n    </tr>\n    <tr>\n      <th>4</th>\n      <td>9237-HQITU</td>\n      <td>Female</td>\n      <td>0</td>\n      <td>No</td>\n      <td>No</td>\n      <td>2</td>\n      <td>Yes</td>\n      <td>No</td>\n      <td>Fiber optic</td>\n      <td>No</td>\n      <td>...</td>\n      <td>No</td>\n      <td>No</td>\n      <td>No</td>\n      <td>No</td>\n      <td>Month-to-month</td>\n      <td>Yes</td>\n      <td>Electronic check</td>\n      <td>70.70</td>\n      <td>151.65</td>\n      <td>Yes</td>\n    </tr>\n  </tbody>\n</table>\n<p>5 rows × 21 columns</p>\n</div>"
     },
     "execution_count": 3,
     "metadata": {},
     "output_type": "execute_result"
    }
   ],
   "source": [
    "df = pd.read_csv('data/WA_Fn-UseC_-Telco-Customer-Churn.csv')\n",
    "df.head()"
   ],
   "metadata": {
    "collapsed": false,
    "pycharm": {
     "name": "#%%\n"
    }
   }
  },
  {
   "cell_type": "code",
   "execution_count": 6,
   "outputs": [
    {
     "name": "stdout",
     "output_type": "stream",
     "text": [
      "Male      3555\n",
      "Female    3488\n",
      "Name: gender, dtype: int64 \n",
      " ************************************************** \n",
      "Male\t50.48 % \n",
      "Female\t49.52 % \n",
      " ************************************************** \n",
      "соотношение мужчин и женщин 1:1\n"
     ]
    }
   ],
   "source": [
    "print(gender_series:= df['gender'].value_counts(),\n",
    "      '\\n', '*'*50,\n",
    "      f\"\\nMale\\t{round(gender_series['Male']/sum(gender_series)*100, 2)} %\",\n",
    "      f\"\\nFemale\\t{round(gender_series['Female']/sum(gender_series)*100, 2)} %\",\n",
    "      '\\n', '*'*50,\n",
    "      '\\nсоотношение мужчин и женщин 1:1')"
   ],
   "metadata": {
    "collapsed": false,
    "pycharm": {
     "name": "#%%\n"
    }
   }
  },
  {
   "cell_type": "code",
   "execution_count": 8,
   "outputs": [
    {
     "name": "stdout",
     "output_type": "stream",
     "text": [
      "3\n"
     ]
    }
   ],
   "source": [
    "print(df['InternetService'].nunique())"
   ],
   "metadata": {
    "collapsed": false,
    "pycharm": {
     "name": "#%%\n"
    }
   }
  },
  {
   "cell_type": "code",
   "execution_count": 10,
   "outputs": [
    {
     "name": "stdout",
     "output_type": "stream",
     "text": [
      "Медиана\t\t\t1397.47 \n",
      "Среднее\t\t\t2283.30 \n",
      "Стандартное отклонение\t2266.77\n",
      "**************************************************\n"
     ]
    },
    {
     "data": {
      "text/plain": "count    7032.000000\nmean     2283.300441\nstd      2266.771362\nmin        18.800000\n25%       401.450000\n50%      1397.475000\n75%      3794.737500\nmax      8684.800000\nName: TotalCharges, dtype: float64"
     },
     "execution_count": 10,
     "metadata": {},
     "output_type": "execute_result"
    }
   ],
   "source": [
    "TotalCharges_series = df.loc[df['TotalCharges'] != ' ', 'TotalCharges'].astype(float).copy()\n",
    "print(f\"Медиана\\t\\t\\t{TotalCharges_series.median():.2f}\",\n",
    "      f\"\\nСреднее\\t\\t\\t{TotalCharges_series.mean():.2f}\",\n",
    "      f\"\\nСтандартное отклонение\\t{TotalCharges_series.std():.2f}\")\n",
    "# Или\n",
    "print('*'*50)\n",
    "TotalCharges_series.describe()"
   ],
   "metadata": {
    "collapsed": false,
    "pycharm": {
     "name": "#%%\n"
    }
   }
  },
  {
   "cell_type": "code",
   "execution_count": 11,
   "outputs": [
    {
     "name": "stdout",
     "output_type": "stream",
     "text": [
      "<class 'pandas.core.series.Series'>\n",
      "RangeIndex: 7043 entries, 0 to 7042\n",
      "Series name: TotalCharges\n",
      "Non-Null Count  Dtype \n",
      "--------------  ----- \n",
      "7043 non-null   object\n",
      "dtypes: object(1)\n",
      "memory usage: 55.1+ KB\n",
      "**************************************************\n",
      "Error:  488  \n",
      "Error:  753  \n",
      "Error:  936  \n",
      "Error:  1082  \n",
      "Error:  1340  \n",
      "Error:  3331  \n",
      "Error:  3826  \n",
      "Error:  4380  \n",
      "Error:  5218  \n",
      "Error:  6670  \n",
      "Error:  6754  \n"
     ]
    }
   ],
   "source": [
    "df['TotalCharges'].info()\n",
    "print('*'*50)\n",
    "for index, v in enumerate(df['TotalCharges']):\n",
    "  try:\n",
    "    float(v)\n",
    "  except ValueError:\n",
    "    print('Error: ', index, v)"
   ],
   "metadata": {
    "collapsed": false,
    "pycharm": {
     "name": "#%%\n"
    }
   }
  },
  {
   "cell_type": "code",
   "execution_count": 17,
   "outputs": [
    {
     "name": "stdout",
     "output_type": "stream",
     "text": [
      "[ True  True]\n",
      "\n",
      "Результат: 0.00200 секунды\n"
     ]
    }
   ],
   "source": [
    "import time\n",
    "check = df['PhoneService'].value_counts().values\n",
    "result_dict = {}\n",
    "\n",
    "df_copy = df.copy()\n",
    "start = time.time()\n",
    "df_copy['PhoneService'] = df_copy['PhoneService'].map({'Yes': 1, 'No': 0})\n",
    "result_dict['v0'] = time.time() - start\n",
    "print(df_copy['PhoneService'].value_counts().values == check)\n",
    "\n",
    "print(f\"\\nРезультат: {result_dict['v0']:.5f} секунды\")"
   ],
   "metadata": {
    "collapsed": false,
    "pycharm": {
     "name": "#%%\n"
    }
   }
  },
  {
   "cell_type": "code",
   "execution_count": 18,
   "outputs": [
    {
     "data": {
      "text/plain": "       SeniorCitizen       tenure  MonthlyCharges  TotalCharges\ncount    7043.000000  7043.000000     7043.000000   7043.000000\nmean        0.162147    32.371149       64.761692   2279.734375\nstd         0.368612    24.559481       30.090047   2266.794434\nmin         0.000000     0.000000       18.250000      0.000000\n25%         0.000000     9.000000       35.500000    398.549988\n50%         0.000000    29.000000       70.350000   1394.550049\n75%         0.000000    55.000000       89.850000   3786.599976\nmax         1.000000    72.000000      118.750000   8684.799805",
      "text/html": "<div>\n<style scoped>\n    .dataframe tbody tr th:only-of-type {\n        vertical-align: middle;\n    }\n\n    .dataframe tbody tr th {\n        vertical-align: top;\n    }\n\n    .dataframe thead th {\n        text-align: right;\n    }\n</style>\n<table border=\"1\" class=\"dataframe\">\n  <thead>\n    <tr style=\"text-align: right;\">\n      <th></th>\n      <th>SeniorCitizen</th>\n      <th>tenure</th>\n      <th>MonthlyCharges</th>\n      <th>TotalCharges</th>\n    </tr>\n  </thead>\n  <tbody>\n    <tr>\n      <th>count</th>\n      <td>7043.000000</td>\n      <td>7043.000000</td>\n      <td>7043.000000</td>\n      <td>7043.000000</td>\n    </tr>\n    <tr>\n      <th>mean</th>\n      <td>0.162147</td>\n      <td>32.371149</td>\n      <td>64.761692</td>\n      <td>2279.734375</td>\n    </tr>\n    <tr>\n      <th>std</th>\n      <td>0.368612</td>\n      <td>24.559481</td>\n      <td>30.090047</td>\n      <td>2266.794434</td>\n    </tr>\n    <tr>\n      <th>min</th>\n      <td>0.000000</td>\n      <td>0.000000</td>\n      <td>18.250000</td>\n      <td>0.000000</td>\n    </tr>\n    <tr>\n      <th>25%</th>\n      <td>0.000000</td>\n      <td>9.000000</td>\n      <td>35.500000</td>\n      <td>398.549988</td>\n    </tr>\n    <tr>\n      <th>50%</th>\n      <td>0.000000</td>\n      <td>29.000000</td>\n      <td>70.350000</td>\n      <td>1394.550049</td>\n    </tr>\n    <tr>\n      <th>75%</th>\n      <td>0.000000</td>\n      <td>55.000000</td>\n      <td>89.850000</td>\n      <td>3786.599976</td>\n    </tr>\n    <tr>\n      <th>max</th>\n      <td>1.000000</td>\n      <td>72.000000</td>\n      <td>118.750000</td>\n      <td>8684.799805</td>\n    </tr>\n  </tbody>\n</table>\n</div>"
     },
     "execution_count": 18,
     "metadata": {},
     "output_type": "execute_result"
    }
   ],
   "source": [
    "df_copy = df.copy()\n",
    "df_copy.loc[df_copy['TotalCharges']==' ', 'TotalCharges'] = np.nan\n",
    "df_copy['TotalCharges'] = df_copy['TotalCharges'].astype(np.float32)\n",
    "df_copy = df_copy.fillna(0)\n",
    "df_copy.describe()"
   ],
   "metadata": {
    "collapsed": false,
    "pycharm": {
     "name": "#%%\n"
    }
   }
  },
  {
   "cell_type": "code",
   "execution_count": 19,
   "outputs": [
    {
     "data": {
      "text/plain": "0    5174\n1    1869\nName: Churn, dtype: int64"
     },
     "execution_count": 19,
     "metadata": {},
     "output_type": "execute_result"
    }
   ],
   "source": [
    "df_copy = df.copy()\n",
    "df_copy.loc[df_copy['Churn'] == 'Yes', 'Churn'] = 1\n",
    "df_copy.loc[df_copy['Churn'] == 'No', 'Churn'] = 0\n",
    "df_copy['Churn'].value_counts()"
   ],
   "metadata": {
    "collapsed": false,
    "pycharm": {
     "name": "#%%\n"
    }
   }
  },
  {
   "cell_type": "code",
   "execution_count": 20,
   "outputs": [
    {
     "name": "stdout",
     "output_type": "stream",
     "text": [
      "No                     2785\n",
      "Yes                    2732\n",
      "No internet service    1526\n",
      "Name: StreamingMovies, dtype: int64 \n",
      " ****************************************************************************************************\n",
      "No                     2810\n",
      "Yes                    2707\n",
      "No internet service    1526\n",
      "Name: StreamingTV, dtype: int64 \n",
      " ****************************************************************************************************\n",
      "No                     3473\n",
      "Yes                    2044\n",
      "No internet service    1526\n",
      "Name: TechSupport, dtype: int64 \n",
      " ****************************************************************************************************\n",
      "0    4311\n",
      "1    2732\n",
      "Name: StreamingMovies, dtype: int64 \n",
      " ****************************************************************************************************\n",
      "0    4336\n",
      "1    2707\n",
      "Name: StreamingTV, dtype: int64 \n",
      " ****************************************************************************************************\n",
      "0    4999\n",
      "1    2044\n",
      "Name: TechSupport, dtype: int64 \n",
      " ****************************************************************************************************\n"
     ]
    }
   ],
   "source": [
    "def convert(d,  # DataFrame\n",
    "           c,  # Колонка DtaFrame которую надо изменить\n",
    "           v): # Значения для конвертации\n",
    "    for key, new_value in v.items():\n",
    "      d.loc[d[c] == key, c] = new_value\n",
    "    return d\n",
    "\n",
    "df_copy = df.copy()\n",
    "columns_list = ['StreamingMovies', 'StreamingTV', 'TechSupport']\n",
    "for c in columns_list:\n",
    "  print(df_copy[c].value_counts(), '\\n', '*'*100)\n",
    "\n",
    "for c in columns_list:\n",
    "  df_copy = convert(df_copy, c, {'Yes': 1, 'No': 0, 'No internet service': 0})\n",
    "\n",
    "for c in columns_list:\n",
    "  print(df_copy[c].value_counts(), '\\n', '*'*100)"
   ],
   "metadata": {
    "collapsed": false,
    "pycharm": {
     "name": "#%%\n"
    }
   }
  },
  {
   "cell_type": "code",
   "execution_count": 23,
   "outputs": [
    {
     "name": "stdout",
     "output_type": "stream",
     "text": [
      "Колличество пустых значений до обработки\t0\n"
     ]
    }
   ],
   "source": [
    "df_copy = df.copy()\n",
    "print(f\"Колличество пустых значений до обработки\\t{df_copy['PhoneService'].isna().sum()}\")\n",
    "\n",
    "df_copy['PhoneService'] = df_copy['PhoneService'].fillna(0)"
   ],
   "metadata": {
    "collapsed": false,
    "pycharm": {
     "name": "#%%\n"
    }
   }
  },
  {
   "cell_type": "code",
   "execution_count": 24,
   "outputs": [
    {
     "data": {
      "text/plain": "   gender  tenure PhoneService TotalCharges StreamingMovies StreamingTV  \\\n0  Female       1           No        29.85              No          No   \n1    Male      34          Yes       1889.5              No          No   \n2    Male       2          Yes       108.15              No          No   \n\n  TechSupport Churn  \n0          No    No  \n1          No    No  \n2          No   Yes  ",
      "text/html": "<div>\n<style scoped>\n    .dataframe tbody tr th:only-of-type {\n        vertical-align: middle;\n    }\n\n    .dataframe tbody tr th {\n        vertical-align: top;\n    }\n\n    .dataframe thead th {\n        text-align: right;\n    }\n</style>\n<table border=\"1\" class=\"dataframe\">\n  <thead>\n    <tr style=\"text-align: right;\">\n      <th></th>\n      <th>gender</th>\n      <th>tenure</th>\n      <th>PhoneService</th>\n      <th>TotalCharges</th>\n      <th>StreamingMovies</th>\n      <th>StreamingTV</th>\n      <th>TechSupport</th>\n      <th>Churn</th>\n    </tr>\n  </thead>\n  <tbody>\n    <tr>\n      <th>0</th>\n      <td>Female</td>\n      <td>1</td>\n      <td>No</td>\n      <td>29.85</td>\n      <td>No</td>\n      <td>No</td>\n      <td>No</td>\n      <td>No</td>\n    </tr>\n    <tr>\n      <th>1</th>\n      <td>Male</td>\n      <td>34</td>\n      <td>Yes</td>\n      <td>1889.5</td>\n      <td>No</td>\n      <td>No</td>\n      <td>No</td>\n      <td>No</td>\n    </tr>\n    <tr>\n      <th>2</th>\n      <td>Male</td>\n      <td>2</td>\n      <td>Yes</td>\n      <td>108.15</td>\n      <td>No</td>\n      <td>No</td>\n      <td>No</td>\n      <td>Yes</td>\n    </tr>\n  </tbody>\n</table>\n</div>"
     },
     "execution_count": 24,
     "metadata": {},
     "output_type": "execute_result"
    }
   ],
   "source": [
    "columns = ['gender', 'tenure', 'PhoneService', 'TotalCharges',\n",
    "           'StreamingMovies', 'StreamingTV', 'TechSupport', 'Churn']\n",
    "\n",
    "df_copy = df.copy()\n",
    "df_copy[columns].head(3)"
   ],
   "metadata": {
    "collapsed": false,
    "pycharm": {
     "name": "#%%\n"
    }
   }
  },
  {
   "cell_type": "code",
   "execution_count": 25,
   "outputs": [
    {
     "name": "stdout",
     "output_type": "stream",
     "text": [
      "Размеры получившихся выборок: \n",
      "X_train\t\t4930 \n",
      "y_train\t\t4930 \n",
      " \n",
      "X_test\t\t2113 \n",
      "y_test\t\t2113\n"
     ]
    }
   ],
   "source": [
    "from sklearn.model_selection import train_test_split\n",
    "\n",
    "features = ['gender', 'tenure', 'PhoneService', 'TotalCharges', 'StreamingMovies', 'StreamingTV', 'TechSupport']\n",
    "target = 'Churn'\n",
    "\n",
    "X_train, X_test, y_train, y_test = train_test_split(df[features], df[target], test_size = 0.3)\n",
    "print(\"Размеры получившихся выборок:\",\n",
    "      f\"\\nX_train\\t\\t{len(X_train)}\",\n",
    "      f\"\\ny_train\\t\\t{len(y_train)}\",\n",
    "      \"\\n\",\n",
    "      f\"\\nX_test\\t\\t{len(X_test)}\",\n",
    "      f\"\\ny_test\\t\\t{len(y_test)}\")"
   ],
   "metadata": {
    "collapsed": false,
    "pycharm": {
     "name": "#%%\n"
    }
   }
  },
  {
   "cell_type": "code",
   "execution_count": 26,
   "outputs": [],
   "source": [
    "from sklearn.base import BaseEstimator, TransformerMixin\n",
    "from sklearn.pipeline import Pipeline\n",
    "\n",
    "class ColumnSelector(BaseEstimator, TransformerMixin):\n",
    "    \"\"\"\n",
    "    Transformer to select a single column from the data frame to perform additional transformations on\n",
    "    \"\"\"\n",
    "    def __init__(self, key):\n",
    "        self.key = key\n",
    "\n",
    "    def fit(self, X, y=None):\n",
    "        return self\n",
    "\n",
    "    def transform(self, X):\n",
    "        return X[self.key]\n",
    "\n",
    "class NumberSelector(BaseEstimator, TransformerMixin):\n",
    "    \"\"\"\n",
    "    Transformer to select a single column from the data frame to perform additional transformations on\n",
    "    Use on numeric columns in the data\n",
    "    \"\"\"\n",
    "    def __init__(self, key):\n",
    "        self.key = key\n",
    "\n",
    "    def fit(self, X, y=None):\n",
    "        return self\n",
    "\n",
    "    def transform(self, X):\n",
    "        return X[[self.key]]\n",
    "\n",
    "class OHEEncoder(BaseEstimator, TransformerMixin):\n",
    "    def __init__(self, key):\n",
    "        self.key = key\n",
    "        self.columns = []\n",
    "\n",
    "    def fit(self, X, y=None):\n",
    "        self.columns = [col for col in pd.get_dummies(X, prefix=self.key).columns]\n",
    "        return self\n",
    "\n",
    "    def transform(self, X):\n",
    "        X = pd.get_dummies(X, prefix=self.key)\n",
    "        test_columns = [col for col in X.columns]\n",
    "        for col_ in test_columns:\n",
    "            if col_ not in self.columns:\n",
    "                X[col_] = 0\n",
    "        return X[self.columns]\n",
    "\n",
    "gender = Pipeline([\n",
    "                ('selector', ColumnSelector(key='gender')),\n",
    "                ('ohe', OHEEncoder(key='gender'))\n",
    "            ])"
   ],
   "metadata": {
    "collapsed": false,
    "pycharm": {
     "name": "#%%\n"
    }
   }
  },
  {
   "cell_type": "code",
   "execution_count": 27,
   "outputs": [
    {
     "data": {
      "text/plain": "      gender_Female  gender_Male\n1269              0            1\n1725              1            0\n4301              0            1\n1982              0            1\n635               1            0\n...             ...          ...\n1                 0            1\n295               0            1\n2224              0            1\n5126              0            1\n5289              1            0\n\n[4930 rows x 2 columns]",
      "text/html": "<div>\n<style scoped>\n    .dataframe tbody tr th:only-of-type {\n        vertical-align: middle;\n    }\n\n    .dataframe tbody tr th {\n        vertical-align: top;\n    }\n\n    .dataframe thead th {\n        text-align: right;\n    }\n</style>\n<table border=\"1\" class=\"dataframe\">\n  <thead>\n    <tr style=\"text-align: right;\">\n      <th></th>\n      <th>gender_Female</th>\n      <th>gender_Male</th>\n    </tr>\n  </thead>\n  <tbody>\n    <tr>\n      <th>1269</th>\n      <td>0</td>\n      <td>1</td>\n    </tr>\n    <tr>\n      <th>1725</th>\n      <td>1</td>\n      <td>0</td>\n    </tr>\n    <tr>\n      <th>4301</th>\n      <td>0</td>\n      <td>1</td>\n    </tr>\n    <tr>\n      <th>1982</th>\n      <td>0</td>\n      <td>1</td>\n    </tr>\n    <tr>\n      <th>635</th>\n      <td>1</td>\n      <td>0</td>\n    </tr>\n    <tr>\n      <th>...</th>\n      <td>...</td>\n      <td>...</td>\n    </tr>\n    <tr>\n      <th>1</th>\n      <td>0</td>\n      <td>1</td>\n    </tr>\n    <tr>\n      <th>295</th>\n      <td>0</td>\n      <td>1</td>\n    </tr>\n    <tr>\n      <th>2224</th>\n      <td>0</td>\n      <td>1</td>\n    </tr>\n    <tr>\n      <th>5126</th>\n      <td>0</td>\n      <td>1</td>\n    </tr>\n    <tr>\n      <th>5289</th>\n      <td>1</td>\n      <td>0</td>\n    </tr>\n  </tbody>\n</table>\n<p>4930 rows × 2 columns</p>\n</div>"
     },
     "execution_count": 27,
     "metadata": {},
     "output_type": "execute_result"
    }
   ],
   "source": [
    "gender.fit_transform(X_train)"
   ],
   "metadata": {
    "collapsed": false,
    "pycharm": {
     "name": "#%%\n"
    }
   }
  },
  {
   "cell_type": "code",
   "execution_count": 28,
   "outputs": [],
   "source": [
    "from sklearn.preprocessing import StandardScaler\n",
    "\n",
    "tenure =  Pipeline([\n",
    "                ('selector', NumberSelector(key='tenure')),\n",
    "                ('standard', StandardScaler())\n",
    "            ])"
   ],
   "metadata": {
    "collapsed": false,
    "pycharm": {
     "name": "#%%\n"
    }
   }
  },
  {
   "cell_type": "code",
   "execution_count": 29,
   "outputs": [
    {
     "data": {
      "text/plain": "array([[ 2.15284061],\n       [-0.29884441],\n       [-0.41529161],\n       ...,\n       [-0.46436152],\n       [ 1.60812478],\n       [ 2.07978783]])"
     },
     "execution_count": 29,
     "metadata": {},
     "output_type": "execute_result"
    }
   ],
   "source": [
    "from sklearn.preprocessing import StandardScaler\n",
    "\n",
    "TotalCharges =  Pipeline([\n",
    "                ('selector', NumberSelector(key='TotalCharges')),\n",
    "                ('standard', StandardScaler())\n",
    "            ])\n",
    "\n",
    "X_train = X_train.loc[X_train['TotalCharges']!=' ']\n",
    "TotalCharges.fit_transform(X_train)"
   ],
   "metadata": {
    "collapsed": false,
    "pycharm": {
     "name": "#%%\n"
    }
   }
  },
  {
   "cell_type": "code",
   "execution_count": 31,
   "outputs": [],
   "source": [
    "from sklearn.pipeline import FeatureUnion\n",
    "\n",
    "number_features = Pipeline([\n",
    "                ('selector', ColumnSelector(key=['PhoneService',\n",
    "                                                 'StreamingMovies', 'StreamingTV',\n",
    "                                                 'TechSupport']))\n",
    "            ])"
   ],
   "metadata": {
    "collapsed": false,
    "pycharm": {
     "name": "#%%\n"
    }
   }
  },
  {
   "cell_type": "code",
   "execution_count": 32,
   "outputs": [],
   "source": [
    "feats = FeatureUnion([('tenure', tenure),\n",
    "                      ('TotalCharges', TotalCharges),\n",
    "                      ('continuos_features', number_features),\n",
    "                      ('gender', gender)])\n",
    "feature_processing = Pipeline([('feats', feats)])"
   ],
   "metadata": {
    "collapsed": false,
    "pycharm": {
     "name": "#%%\n"
    }
   }
  },
  {
   "cell_type": "code",
   "execution_count": 34,
   "outputs": [],
   "source": [
    "for column_name in ['PhoneService', 'StreamingMovies', 'StreamingTV', 'TechSupport']:\n",
    "  df = convert(df,\n",
    "               column_name,\n",
    "               {'Yes': 1, 'No': 0, 'No internet service': 0})\n",
    "\n",
    "df = df.loc[df['TotalCharges']!=' ']\n",
    "\n",
    "features = ['gender', 'tenure', 'PhoneService', 'TotalCharges', 'StreamingMovies', 'StreamingTV', 'TechSupport']\n",
    "target = 'Churn'\n",
    "X_train, X_test, y_train, y_test = train_test_split(df[features], df[target], test_size = 0.3)"
   ],
   "metadata": {
    "collapsed": false,
    "pycharm": {
     "name": "#%%\n"
    }
   }
  },
  {
   "cell_type": "code",
   "execution_count": 35,
   "outputs": [
    {
     "data": {
      "text/plain": "Pipeline(steps=[('features',\n                 FeatureUnion(transformer_list=[('tenure',\n                                                 Pipeline(steps=[('selector',\n                                                                  NumberSelector(key='tenure')),\n                                                                 ('standard',\n                                                                  StandardScaler())])),\n                                                ('TotalCharges',\n                                                 Pipeline(steps=[('selector',\n                                                                  NumberSelector(key='TotalCharges')),\n                                                                 ('standard',\n                                                                  StandardScaler())])),\n                                                ('continuos_features',\n                                                 Pipeline(steps=[('selector',\n                                                                  ColumnSelector(key=['PhoneService',\n                                                                                      'StreamingMovies',\n                                                                                      'StreamingTV',\n                                                                                      'TechSupport']))])),\n                                                ('gender',\n                                                 Pipeline(steps=[('selector',\n                                                                  ColumnSelector(key='gender')),\n                                                                 ('ohe',\n                                                                  OHEEncoder(key='gender'))]))])),\n                ('classifier', RandomForestClassifier(random_state=42))])",
      "text/html": "<style>#sk-container-id-1 {color: black;background-color: white;}#sk-container-id-1 pre{padding: 0;}#sk-container-id-1 div.sk-toggleable {background-color: white;}#sk-container-id-1 label.sk-toggleable__label {cursor: pointer;display: block;width: 100%;margin-bottom: 0;padding: 0.3em;box-sizing: border-box;text-align: center;}#sk-container-id-1 label.sk-toggleable__label-arrow:before {content: \"▸\";float: left;margin-right: 0.25em;color: #696969;}#sk-container-id-1 label.sk-toggleable__label-arrow:hover:before {color: black;}#sk-container-id-1 div.sk-estimator:hover label.sk-toggleable__label-arrow:before {color: black;}#sk-container-id-1 div.sk-toggleable__content {max-height: 0;max-width: 0;overflow: hidden;text-align: left;background-color: #f0f8ff;}#sk-container-id-1 div.sk-toggleable__content pre {margin: 0.2em;color: black;border-radius: 0.25em;background-color: #f0f8ff;}#sk-container-id-1 input.sk-toggleable__control:checked~div.sk-toggleable__content {max-height: 200px;max-width: 100%;overflow: auto;}#sk-container-id-1 input.sk-toggleable__control:checked~label.sk-toggleable__label-arrow:before {content: \"▾\";}#sk-container-id-1 div.sk-estimator input.sk-toggleable__control:checked~label.sk-toggleable__label {background-color: #d4ebff;}#sk-container-id-1 div.sk-label input.sk-toggleable__control:checked~label.sk-toggleable__label {background-color: #d4ebff;}#sk-container-id-1 input.sk-hidden--visually {border: 0;clip: rect(1px 1px 1px 1px);clip: rect(1px, 1px, 1px, 1px);height: 1px;margin: -1px;overflow: hidden;padding: 0;position: absolute;width: 1px;}#sk-container-id-1 div.sk-estimator {font-family: monospace;background-color: #f0f8ff;border: 1px dotted black;border-radius: 0.25em;box-sizing: border-box;margin-bottom: 0.5em;}#sk-container-id-1 div.sk-estimator:hover {background-color: #d4ebff;}#sk-container-id-1 div.sk-parallel-item::after {content: \"\";width: 100%;border-bottom: 1px solid gray;flex-grow: 1;}#sk-container-id-1 div.sk-label:hover label.sk-toggleable__label {background-color: #d4ebff;}#sk-container-id-1 div.sk-serial::before {content: \"\";position: absolute;border-left: 1px solid gray;box-sizing: border-box;top: 0;bottom: 0;left: 50%;z-index: 0;}#sk-container-id-1 div.sk-serial {display: flex;flex-direction: column;align-items: center;background-color: white;padding-right: 0.2em;padding-left: 0.2em;position: relative;}#sk-container-id-1 div.sk-item {position: relative;z-index: 1;}#sk-container-id-1 div.sk-parallel {display: flex;align-items: stretch;justify-content: center;background-color: white;position: relative;}#sk-container-id-1 div.sk-item::before, #sk-container-id-1 div.sk-parallel-item::before {content: \"\";position: absolute;border-left: 1px solid gray;box-sizing: border-box;top: 0;bottom: 0;left: 50%;z-index: -1;}#sk-container-id-1 div.sk-parallel-item {display: flex;flex-direction: column;z-index: 1;position: relative;background-color: white;}#sk-container-id-1 div.sk-parallel-item:first-child::after {align-self: flex-end;width: 50%;}#sk-container-id-1 div.sk-parallel-item:last-child::after {align-self: flex-start;width: 50%;}#sk-container-id-1 div.sk-parallel-item:only-child::after {width: 0;}#sk-container-id-1 div.sk-dashed-wrapped {border: 1px dashed gray;margin: 0 0.4em 0.5em 0.4em;box-sizing: border-box;padding-bottom: 0.4em;background-color: white;}#sk-container-id-1 div.sk-label label {font-family: monospace;font-weight: bold;display: inline-block;line-height: 1.2em;}#sk-container-id-1 div.sk-label-container {text-align: center;}#sk-container-id-1 div.sk-container {/* jupyter's `normalize.less` sets `[hidden] { display: none; }` but bootstrap.min.css set `[hidden] { display: none !important; }` so we also need the `!important` here to be able to override the default hidden behavior on the sphinx rendered scikit-learn.org. See: https://github.com/scikit-learn/scikit-learn/issues/21755 */display: inline-block !important;position: relative;}#sk-container-id-1 div.sk-text-repr-fallback {display: none;}</style><div id=\"sk-container-id-1\" class=\"sk-top-container\"><div class=\"sk-text-repr-fallback\"><pre>Pipeline(steps=[(&#x27;features&#x27;,\n                 FeatureUnion(transformer_list=[(&#x27;tenure&#x27;,\n                                                 Pipeline(steps=[(&#x27;selector&#x27;,\n                                                                  NumberSelector(key=&#x27;tenure&#x27;)),\n                                                                 (&#x27;standard&#x27;,\n                                                                  StandardScaler())])),\n                                                (&#x27;TotalCharges&#x27;,\n                                                 Pipeline(steps=[(&#x27;selector&#x27;,\n                                                                  NumberSelector(key=&#x27;TotalCharges&#x27;)),\n                                                                 (&#x27;standard&#x27;,\n                                                                  StandardScaler())])),\n                                                (&#x27;continuos_features&#x27;,\n                                                 Pipeline(steps=[(&#x27;selector&#x27;,\n                                                                  ColumnSelector(key=[&#x27;PhoneService&#x27;,\n                                                                                      &#x27;StreamingMovies&#x27;,\n                                                                                      &#x27;StreamingTV&#x27;,\n                                                                                      &#x27;TechSupport&#x27;]))])),\n                                                (&#x27;gender&#x27;,\n                                                 Pipeline(steps=[(&#x27;selector&#x27;,\n                                                                  ColumnSelector(key=&#x27;gender&#x27;)),\n                                                                 (&#x27;ohe&#x27;,\n                                                                  OHEEncoder(key=&#x27;gender&#x27;))]))])),\n                (&#x27;classifier&#x27;, RandomForestClassifier(random_state=42))])</pre><b>In a Jupyter environment, please rerun this cell to show the HTML representation or trust the notebook. <br />On GitHub, the HTML representation is unable to render, please try loading this page with nbviewer.org.</b></div><div class=\"sk-container\" hidden><div class=\"sk-item sk-dashed-wrapped\"><div class=\"sk-label-container\"><div class=\"sk-label sk-toggleable\"><input class=\"sk-toggleable__control sk-hidden--visually\" id=\"sk-estimator-id-1\" type=\"checkbox\" ><label for=\"sk-estimator-id-1\" class=\"sk-toggleable__label sk-toggleable__label-arrow\">Pipeline</label><div class=\"sk-toggleable__content\"><pre>Pipeline(steps=[(&#x27;features&#x27;,\n                 FeatureUnion(transformer_list=[(&#x27;tenure&#x27;,\n                                                 Pipeline(steps=[(&#x27;selector&#x27;,\n                                                                  NumberSelector(key=&#x27;tenure&#x27;)),\n                                                                 (&#x27;standard&#x27;,\n                                                                  StandardScaler())])),\n                                                (&#x27;TotalCharges&#x27;,\n                                                 Pipeline(steps=[(&#x27;selector&#x27;,\n                                                                  NumberSelector(key=&#x27;TotalCharges&#x27;)),\n                                                                 (&#x27;standard&#x27;,\n                                                                  StandardScaler())])),\n                                                (&#x27;continuos_features&#x27;,\n                                                 Pipeline(steps=[(&#x27;selector&#x27;,\n                                                                  ColumnSelector(key=[&#x27;PhoneService&#x27;,\n                                                                                      &#x27;StreamingMovies&#x27;,\n                                                                                      &#x27;StreamingTV&#x27;,\n                                                                                      &#x27;TechSupport&#x27;]))])),\n                                                (&#x27;gender&#x27;,\n                                                 Pipeline(steps=[(&#x27;selector&#x27;,\n                                                                  ColumnSelector(key=&#x27;gender&#x27;)),\n                                                                 (&#x27;ohe&#x27;,\n                                                                  OHEEncoder(key=&#x27;gender&#x27;))]))])),\n                (&#x27;classifier&#x27;, RandomForestClassifier(random_state=42))])</pre></div></div></div><div class=\"sk-serial\"><div class=\"sk-item sk-dashed-wrapped\"><div class=\"sk-label-container\"><div class=\"sk-label sk-toggleable\"><input class=\"sk-toggleable__control sk-hidden--visually\" id=\"sk-estimator-id-2\" type=\"checkbox\" ><label for=\"sk-estimator-id-2\" class=\"sk-toggleable__label sk-toggleable__label-arrow\">features: FeatureUnion</label><div class=\"sk-toggleable__content\"><pre>FeatureUnion(transformer_list=[(&#x27;tenure&#x27;,\n                                Pipeline(steps=[(&#x27;selector&#x27;,\n                                                 NumberSelector(key=&#x27;tenure&#x27;)),\n                                                (&#x27;standard&#x27;,\n                                                 StandardScaler())])),\n                               (&#x27;TotalCharges&#x27;,\n                                Pipeline(steps=[(&#x27;selector&#x27;,\n                                                 NumberSelector(key=&#x27;TotalCharges&#x27;)),\n                                                (&#x27;standard&#x27;,\n                                                 StandardScaler())])),\n                               (&#x27;continuos_features&#x27;,\n                                Pipeline(steps=[(&#x27;selector&#x27;,\n                                                 ColumnSelector(key=[&#x27;PhoneService&#x27;,\n                                                                     &#x27;StreamingMovies&#x27;,\n                                                                     &#x27;StreamingTV&#x27;,\n                                                                     &#x27;TechSupport&#x27;]))])),\n                               (&#x27;gender&#x27;,\n                                Pipeline(steps=[(&#x27;selector&#x27;,\n                                                 ColumnSelector(key=&#x27;gender&#x27;)),\n                                                (&#x27;ohe&#x27;,\n                                                 OHEEncoder(key=&#x27;gender&#x27;))]))])</pre></div></div></div><div class=\"sk-parallel\"><div class=\"sk-parallel-item\"><div class=\"sk-item\"><div class=\"sk-label-container\"><div class=\"sk-label sk-toggleable\"><label>tenure</label></div></div><div class=\"sk-serial\"><div class=\"sk-item\"><div class=\"sk-serial\"><div class=\"sk-item\"><div class=\"sk-estimator sk-toggleable\"><input class=\"sk-toggleable__control sk-hidden--visually\" id=\"sk-estimator-id-3\" type=\"checkbox\" ><label for=\"sk-estimator-id-3\" class=\"sk-toggleable__label sk-toggleable__label-arrow\">NumberSelector</label><div class=\"sk-toggleable__content\"><pre>NumberSelector(key=&#x27;tenure&#x27;)</pre></div></div></div><div class=\"sk-item\"><div class=\"sk-estimator sk-toggleable\"><input class=\"sk-toggleable__control sk-hidden--visually\" id=\"sk-estimator-id-4\" type=\"checkbox\" ><label for=\"sk-estimator-id-4\" class=\"sk-toggleable__label sk-toggleable__label-arrow\">StandardScaler</label><div class=\"sk-toggleable__content\"><pre>StandardScaler()</pre></div></div></div></div></div></div></div></div><div class=\"sk-parallel-item\"><div class=\"sk-item\"><div class=\"sk-label-container\"><div class=\"sk-label sk-toggleable\"><label>TotalCharges</label></div></div><div class=\"sk-serial\"><div class=\"sk-item\"><div class=\"sk-serial\"><div class=\"sk-item\"><div class=\"sk-estimator sk-toggleable\"><input class=\"sk-toggleable__control sk-hidden--visually\" id=\"sk-estimator-id-5\" type=\"checkbox\" ><label for=\"sk-estimator-id-5\" class=\"sk-toggleable__label sk-toggleable__label-arrow\">NumberSelector</label><div class=\"sk-toggleable__content\"><pre>NumberSelector(key=&#x27;TotalCharges&#x27;)</pre></div></div></div><div class=\"sk-item\"><div class=\"sk-estimator sk-toggleable\"><input class=\"sk-toggleable__control sk-hidden--visually\" id=\"sk-estimator-id-6\" type=\"checkbox\" ><label for=\"sk-estimator-id-6\" class=\"sk-toggleable__label sk-toggleable__label-arrow\">StandardScaler</label><div class=\"sk-toggleable__content\"><pre>StandardScaler()</pre></div></div></div></div></div></div></div></div><div class=\"sk-parallel-item\"><div class=\"sk-item\"><div class=\"sk-label-container\"><div class=\"sk-label sk-toggleable\"><label>continuos_features</label></div></div><div class=\"sk-serial\"><div class=\"sk-item\"><div class=\"sk-serial\"><div class=\"sk-item\"><div class=\"sk-estimator sk-toggleable\"><input class=\"sk-toggleable__control sk-hidden--visually\" id=\"sk-estimator-id-7\" type=\"checkbox\" ><label for=\"sk-estimator-id-7\" class=\"sk-toggleable__label sk-toggleable__label-arrow\">ColumnSelector</label><div class=\"sk-toggleable__content\"><pre>ColumnSelector(key=[&#x27;PhoneService&#x27;, &#x27;StreamingMovies&#x27;, &#x27;StreamingTV&#x27;,\n                    &#x27;TechSupport&#x27;])</pre></div></div></div></div></div></div></div></div><div class=\"sk-parallel-item\"><div class=\"sk-item\"><div class=\"sk-label-container\"><div class=\"sk-label sk-toggleable\"><label>gender</label></div></div><div class=\"sk-serial\"><div class=\"sk-item\"><div class=\"sk-serial\"><div class=\"sk-item\"><div class=\"sk-estimator sk-toggleable\"><input class=\"sk-toggleable__control sk-hidden--visually\" id=\"sk-estimator-id-8\" type=\"checkbox\" ><label for=\"sk-estimator-id-8\" class=\"sk-toggleable__label sk-toggleable__label-arrow\">ColumnSelector</label><div class=\"sk-toggleable__content\"><pre>ColumnSelector(key=&#x27;gender&#x27;)</pre></div></div></div><div class=\"sk-item\"><div class=\"sk-estimator sk-toggleable\"><input class=\"sk-toggleable__control sk-hidden--visually\" id=\"sk-estimator-id-9\" type=\"checkbox\" ><label for=\"sk-estimator-id-9\" class=\"sk-toggleable__label sk-toggleable__label-arrow\">OHEEncoder</label><div class=\"sk-toggleable__content\"><pre>OHEEncoder(key=&#x27;gender&#x27;)</pre></div></div></div></div></div></div></div></div></div></div><div class=\"sk-item\"><div class=\"sk-estimator sk-toggleable\"><input class=\"sk-toggleable__control sk-hidden--visually\" id=\"sk-estimator-id-10\" type=\"checkbox\" ><label for=\"sk-estimator-id-10\" class=\"sk-toggleable__label sk-toggleable__label-arrow\">RandomForestClassifier</label><div class=\"sk-toggleable__content\"><pre>RandomForestClassifier(random_state=42)</pre></div></div></div></div></div></div></div>"
     },
     "execution_count": 35,
     "metadata": {},
     "output_type": "execute_result"
    }
   ],
   "source": [
    "from sklearn.ensemble import RandomForestClassifier\n",
    "\n",
    "pipeline = Pipeline([\n",
    "    ('features',feats),\n",
    "    ('classifier', RandomForestClassifier(random_state = 42)),\n",
    "])\n",
    "\n",
    "pipeline.fit(X_train, y_train)"
   ],
   "metadata": {
    "collapsed": false,
    "pycharm": {
     "name": "#%%\n"
    }
   }
  },
  {
   "cell_type": "code",
   "execution_count": 36,
   "outputs": [
    {
     "name": "stdout",
     "output_type": "stream",
     "text": [
      "Колличество классов 2\n"
     ]
    }
   ],
   "source": [
    "print('Колличество классов', pipeline.predict_proba(X_test).shape[1])"
   ],
   "metadata": {
    "collapsed": false,
    "pycharm": {
     "name": "#%%\n"
    }
   }
  },
  {
   "cell_type": "code",
   "execution_count": 37,
   "outputs": [
    {
     "name": "stdout",
     "output_type": "stream",
     "text": [
      "AUC-ROC:\t0.77469 \n",
      "log loss:\t0.82566\n"
     ]
    }
   ],
   "source": [
    "from sklearn.metrics import roc_auc_score, log_loss\n",
    "\n",
    "print(f\"AUC-ROC:\\t{roc_auc_score(y_test, pipeline.predict_proba(X_test)[:, 1]):.5f}\",\n",
    "      f\"\\nlog loss:\\t{log_loss(y_test, pipeline.predict_proba(X_test)[:, 1]):.5f}\")"
   ],
   "metadata": {
    "collapsed": false,
    "pycharm": {
     "name": "#%%\n"
    }
   }
  },
  {
   "cell_type": "code",
   "execution_count": 38,
   "outputs": [],
   "source": [
    "import dill\n",
    "with open(\"pipelines/model_RF.dill\", \"wb\") as f:\n",
    "    dill.dump(pipeline, f)"
   ],
   "metadata": {
    "collapsed": false,
    "pycharm": {
     "name": "#%%\n"
    }
   }
  },
  {
   "cell_type": "code",
   "execution_count": null,
   "outputs": [],
   "source": [],
   "metadata": {
    "collapsed": false,
    "pycharm": {
     "name": "#%%\n"
    }
   }
  }
 ],
 "metadata": {
  "kernelspec": {
   "display_name": "Python 3",
   "language": "python",
   "name": "python3"
  },
  "language_info": {
   "codemirror_mode": {
    "name": "ipython",
    "version": 2
   },
   "file_extension": ".py",
   "mimetype": "text/x-python",
   "name": "python",
   "nbconvert_exporter": "python",
   "pygments_lexer": "ipython2",
   "version": "2.7.6"
  }
 },
 "nbformat": 4,
 "nbformat_minor": 0
}