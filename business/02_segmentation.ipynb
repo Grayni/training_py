{
 "cells": [
  {
   "cell_type": "code",
   "execution_count": 8,
   "metadata": {
    "collapsed": true
   },
   "outputs": [],
   "source": [
    "import pandas as pd"
   ]
  },
  {
   "cell_type": "code",
   "execution_count": 9,
   "outputs": [],
   "source": [
    "news = pd.read_csv(\"data/articles.csv\")"
   ],
   "metadata": {
    "collapsed": false,
    "pycharm": {
     "name": "#%%\n"
    }
   }
  },
  {
   "cell_type": "code",
   "execution_count": 10,
   "outputs": [
    {
     "name": "stdout",
     "output_type": "stream",
     "text": [
      "(27000, 2)\n"
     ]
    },
    {
     "data": {
      "text/plain": "   doc_id                                              title\n0       6  Заместитель председателяnправительства РФnСерг...\n1    4896  Матч 1/16 финала Кубка России по футболу был п...\n2    4897  Форвард «Авангарда» Томаш Заборский прокоммент...",
      "text/html": "<div>\n<style scoped>\n    .dataframe tbody tr th:only-of-type {\n        vertical-align: middle;\n    }\n\n    .dataframe tbody tr th {\n        vertical-align: top;\n    }\n\n    .dataframe thead th {\n        text-align: right;\n    }\n</style>\n<table border=\"1\" class=\"dataframe\">\n  <thead>\n    <tr style=\"text-align: right;\">\n      <th></th>\n      <th>doc_id</th>\n      <th>title</th>\n    </tr>\n  </thead>\n  <tbody>\n    <tr>\n      <th>0</th>\n      <td>6</td>\n      <td>Заместитель председателяnправительства РФnСерг...</td>\n    </tr>\n    <tr>\n      <th>1</th>\n      <td>4896</td>\n      <td>Матч 1/16 финала Кубка России по футболу был п...</td>\n    </tr>\n    <tr>\n      <th>2</th>\n      <td>4897</td>\n      <td>Форвард «Авангарда» Томаш Заборский прокоммент...</td>\n    </tr>\n  </tbody>\n</table>\n</div>"
     },
     "execution_count": 10,
     "metadata": {},
     "output_type": "execute_result"
    }
   ],
   "source": [
    "print(news.shape)\n",
    "news.head(3)"
   ],
   "metadata": {
    "collapsed": false,
    "pycharm": {
     "name": "#%%\n"
    }
   }
  },
  {
   "cell_type": "code",
   "execution_count": 7,
   "outputs": [
    {
     "data": {
      "text/plain": "       uid                                        articles\n0  u105138  [293672, 293328, 293001, 293622, 293126, 1852]\n1  u108690          [3405, 1739, 2972, 1158, 1599, 322665]\n2  u108339          [1845, 2009, 2356, 1424, 2939, 323389]",
      "text/html": "<div>\n<style scoped>\n    .dataframe tbody tr th:only-of-type {\n        vertical-align: middle;\n    }\n\n    .dataframe tbody tr th {\n        vertical-align: top;\n    }\n\n    .dataframe thead th {\n        text-align: right;\n    }\n</style>\n<table border=\"1\" class=\"dataframe\">\n  <thead>\n    <tr style=\"text-align: right;\">\n      <th></th>\n      <th>uid</th>\n      <th>articles</th>\n    </tr>\n  </thead>\n  <tbody>\n    <tr>\n      <th>0</th>\n      <td>u105138</td>\n      <td>[293672, 293328, 293001, 293622, 293126, 1852]</td>\n    </tr>\n    <tr>\n      <th>1</th>\n      <td>u108690</td>\n      <td>[3405, 1739, 2972, 1158, 1599, 322665]</td>\n    </tr>\n    <tr>\n      <th>2</th>\n      <td>u108339</td>\n      <td>[1845, 2009, 2356, 1424, 2939, 323389]</td>\n    </tr>\n  </tbody>\n</table>\n</div>"
     },
     "execution_count": 7,
     "metadata": {},
     "output_type": "execute_result"
    }
   ],
   "source": [
    "users = pd.read_csv(\"data/users_articles.csv\")\n",
    "users.head(3)"
   ],
   "metadata": {
    "collapsed": false,
    "pycharm": {
     "name": "#%%\n"
    }
   }
  },
  {
   "cell_type": "code",
   "execution_count": 12,
   "outputs": [],
   "source": [
    "import re\n",
    "import numpy as np\n",
    "from gensim.corpora.dictionary import Dictionary\n",
    "from razdel import tokenize\n",
    "import pymorphy2"
   ],
   "metadata": {
    "collapsed": false,
    "pycharm": {
     "name": "#%%\n"
    }
   }
  },
  {
   "cell_type": "code",
   "execution_count": 13,
   "outputs": [
    {
     "name": "stderr",
     "output_type": "stream",
     "text": [
      "[nltk_data] Downloading package stopwords to\n",
      "[nltk_data]     C:\\Users\\grayni\\AppData\\Roaming\\nltk_data...\n",
      "[nltk_data]   Unzipping corpora\\stopwords.zip.\n"
     ]
    },
    {
     "data": {
      "text/plain": "True"
     },
     "execution_count": 13,
     "metadata": {},
     "output_type": "execute_result"
    }
   ],
   "source": [
    "import nltk\n",
    "from nltk.corpus import stopwords\n",
    "nltk.download('stopwords')"
   ],
   "metadata": {
    "collapsed": false,
    "pycharm": {
     "name": "#%%\n"
    }
   }
  },
  {
   "cell_type": "code",
   "execution_count": 14,
   "outputs": [
    {
     "name": "stdout",
     "output_type": "stream",
     "text": [
      "151\n"
     ]
    }
   ],
   "source": [
    "stopword_ru = stopwords.words('russian')\n",
    "print(len(stopword_ru))"
   ],
   "metadata": {
    "collapsed": false,
    "pycharm": {
     "name": "#%%\n"
    }
   }
  },
  {
   "cell_type": "code",
   "execution_count": 16,
   "outputs": [
    {
     "data": {
      "text/plain": "776"
     },
     "execution_count": 16,
     "metadata": {},
     "output_type": "execute_result"
    }
   ],
   "source": [
    "with open('data/stopwords.txt') as f:\n",
    "    additional_stopwords = [w.strip() for w in f.readlines() if w]\n",
    "\n",
    "stopword_ru += additional_stopwords\n",
    "len(stopword_ru)"
   ],
   "metadata": {
    "collapsed": false,
    "pycharm": {
     "name": "#%%\n"
    }
   }
  },
  {
   "cell_type": "code",
   "execution_count": 18,
   "outputs": [],
   "source": [
    "def clean_text(text):\n",
    "    '''\n",
    "    очистка текста\n",
    "\n",
    "    на выходе очищеный текст\n",
    "    '''\n",
    "    if not isinstance(text, str):\n",
    "        text = str(text)\n",
    "\n",
    "    text = text.lower()\n",
    "    text = text.strip('\\n').strip('\\r').strip('\\t')\n",
    "    text = re.sub(\"-\\s\\r\\n\\|-\\s\\r\\n|\\r\\n\", '', str(text))\n",
    "\n",
    "    text = re.sub(\"[0-9]|[-—.,:;_%©«»?*!@#№$^•·&()]|[+=]|[[]|[]]|[/]|\", '', text)\n",
    "    text = re.sub(r\"\\r\\n\\t|\\n|\\\\s|\\r\\t|\\\\n\", ' ', text)\n",
    "    text = re.sub(r'[\\xad]|[\\s+]', ' ', text.strip())\n",
    "    text = re.sub('n', ' ', text)\n",
    "\n",
    "    return text\n",
    "\n",
    "cache = {}\n",
    "morph = pymorphy2.MorphAnalyzer()\n",
    "\n",
    "def lemmatization(text):\n",
    "    # [0]\n",
    "    if not isinstance(text, str):\n",
    "        text = str(text)\n",
    "\n",
    "    # [1]\n",
    "    tokens = list(tokenize(text))\n",
    "    words = [_.text for _ in tokens]\n",
    "\n",
    "    words_lem = []\n",
    "    for w in words:\n",
    "        if w[0] == '-': # [2]\n",
    "            w = w[1:]\n",
    "        if len(w) > 1: # [3]\n",
    "            if w in cache: # [4]\n",
    "                words_lem.append(cache[w])\n",
    "            else: # [5]\n",
    "                temp_cach = cache[w] = morph.parse(w)[0].normal_form\n",
    "                words_lem.append(temp_cach)\n",
    "\n",
    "    words_lem_without_stopwords = [i for i in words_lem if not i in stopword_ru] # [6]\n",
    "\n",
    "    return words_lem_without_stopwords"
   ],
   "metadata": {
    "collapsed": false,
    "pycharm": {
     "name": "#%%\n"
    }
   }
  },
  {
   "cell_type": "code",
   "execution_count": 19,
   "outputs": [
    {
     "name": "stderr",
     "output_type": "stream",
     "text": [
      "  0%|          | 0/27000 [00:00<?, ?it/s]C:\\Users\\grayni\\AppData\\Local\\Temp\\ipykernel_13756\\2829823503.py:14: FutureWarning: Possible nested set at position 39\n",
      "  text = re.sub(\"[0-9]|[-—.,:;_%©«»?*!@#№$^•·&()]|[+=]|[[]|[]]|[/]|\", '', text)\n",
      "100%|██████████| 27000/27000 [00:23<00:00, 1132.30it/s]\n"
     ]
    }
   ],
   "source": [
    "from tqdm import tqdm\n",
    "tqdm.pandas()\n",
    "\n",
    "# Запускаем очистку текста. Будет долго...\n",
    "news['title'] = news['title'].progress_apply(lambda x: clean_text(x))"
   ],
   "metadata": {
    "collapsed": false,
    "pycharm": {
     "name": "#%%\n"
    }
   }
  },
  {
   "cell_type": "code",
   "execution_count": 20,
   "outputs": [
    {
     "data": {
      "text/plain": "0    заместитель председателя правительства рф серг...\n1    матч  финала кубка россии по футболу был приос...\n2    форвард авангарда томаш заборский прокомментир...\n3    главный тренер кубани юрий красножан прокоммен...\n4    решением попечительского совета владивостокско...\n5    ио главного тренера вячеслав буцаев прокоммент...\n6    запорожский металлург дома потерпел разгромное...\n7    сборная сша одержала победу над австрией со сч...\n8    бывший защитник сборной россии дарюс каспарайт...\n9    полузащитник цска зоран тошич после победы над...\nName: title, dtype: object"
     },
     "execution_count": 20,
     "metadata": {},
     "output_type": "execute_result"
    }
   ],
   "source": [
    "news['title'].iloc[:10]"
   ],
   "metadata": {
    "collapsed": false,
    "pycharm": {
     "name": "#%%\n"
    }
   }
  },
  {
   "cell_type": "code",
   "execution_count": 21,
   "outputs": [
    {
     "name": "stderr",
     "output_type": "stream",
     "text": [
      "100%|██████████| 27000/27000 [02:31<00:00, 178.42it/s]\n"
     ]
    }
   ],
   "source": [
    "news['title'] = news['title'].progress_apply(lambda x: lemmatization(x))"
   ],
   "metadata": {
    "collapsed": false,
    "pycharm": {
     "name": "#%%\n"
    }
   }
  },
  {
   "cell_type": "code",
   "execution_count": 22,
   "outputs": [],
   "source": [
    "texts = list(news['title'].values)\n",
    "\n",
    "common_dictionary = Dictionary(texts)\n",
    "common_corpus = [common_dictionary.doc2bow(text) for text in texts]"
   ],
   "metadata": {
    "collapsed": false,
    "pycharm": {
     "name": "#%%\n"
    }
   }
  },
  {
   "cell_type": "code",
   "execution_count": 23,
   "outputs": [],
   "source": [
    "N_topic = 20\n",
    "\n",
    "from gensim.models import LdaModel\n",
    "\n",
    "lda = LdaModel(common_corpus, num_topics=N_topic, id2word=common_dictionary, passes=2)  # можно было менять"
   ],
   "metadata": {
    "collapsed": false,
    "pycharm": {
     "name": "#%%\n"
    }
   }
  },
  {
   "cell_type": "code",
   "execution_count": 28,
   "outputs": [],
   "source": [
    "from gensim.test.utils import datapath\n",
    "\n",
    "temp_file = datapath(\"model.lda\")\n",
    "lda.save(temp_file)"
   ],
   "metadata": {
    "collapsed": false,
    "pycharm": {
     "name": "#%%\n"
    }
   }
  },
  {
   "cell_type": "code",
   "execution_count": 29,
   "outputs": [],
   "source": [
    "lda = LdaModel.load(temp_file)"
   ],
   "metadata": {
    "collapsed": false,
    "pycharm": {
     "name": "#%%\n"
    }
   }
  },
  {
   "cell_type": "code",
   "execution_count": 30,
   "outputs": [
    {
     "name": "stdout",
     "output_type": "stream",
     "text": [
      "['форвард', 'авангард', 'томаш', 'заборский', 'прокомментировать', 'игра', 'свой', 'команда', 'матч', 'чемпионат', 'кхл', 'против', 'атланта', 'провести', 'плохой', 'матч', 'нижний', 'новгород', 'против', 'торпедо', 'настраиваться', 'первый', 'минута', 'включиться', 'работа', 'сказать', 'заборский', 'получиться', 'забросить', 'быстрый', 'гол', 'задать', 'хороший', 'темп', 'поединок', 'мочь', 'играть', 'ещё', 'хороший', 'сторона', 'пять', 'очко', 'выезд', 'девять', 'это', 'хороший']\n"
     ]
    },
    {
     "data": {
      "text/plain": "[(4, 0.4294308), (5, 0.021762574), (7, 0.33011806), (19, 0.20070541)]"
     },
     "execution_count": 30,
     "metadata": {},
     "output_type": "execute_result"
    }
   ],
   "source": [
    "other_texts = list(news['title'].iloc[:3])\n",
    "other_corpus = [common_dictionary.doc2bow(text) for text in other_texts]\n",
    "\n",
    "unseen_doc = other_corpus[2]\n",
    "print(other_texts[2])\n",
    "lda[unseen_doc]"
   ],
   "metadata": {
    "collapsed": false,
    "pycharm": {
     "name": "#%%\n"
    }
   }
  },
  {
   "cell_type": "code",
   "execution_count": 31,
   "outputs": [
    {
     "name": "stdout",
     "output_type": "stream",
     "text": [
      "topic_0: произойти тело пострадать который район данные человек\n",
      "topic_1: ребёнок гражданин мозг смерть пенсия семья родитель\n",
      "topic_2: сша американский это земля торговый россия воздух\n",
      "topic_3: исследование год день россиянин составить пациент рост\n",
      "topic_4: это который мочь год всё человек весь\n",
      "topic_5: космос лаборатория вирус фрагмент атмосферный студия сражение\n",
      "topic_6: год рубль млрд компания россия это который\n",
      "topic_7: поверхность журнал девочка команда игра грунт тур\n",
      "topic_8: россия это страна который российский украина власть\n",
      "topic_9: банк научный выяснить год русский век эксперимент\n",
      "topic_10: год который стать это тыс первый также\n",
      "topic_11: дело который человек год обнаружить сотрудник это\n",
      "topic_12: суд египет иск решение долг судья подать\n",
      "topic_13: город станция армия житель спрос около строительство\n",
      "topic_14: статья взрыв убийство писать следователь управление ск\n",
      "topic_15: рейс перевод бомба опасаться ступень консультация экран\n",
      "topic_16: женщина мужчина исследование знаменитый виза полоса хороший\n",
      "topic_17: фонд таиланд daily mail бангкок манчестер пхукет\n",
      "topic_18: проект президент путин программа россия год владимир\n",
      "topic_19: газ военный ракета российский система китай экипаж\n"
     ]
    }
   ],
   "source": [
    "x = lda.show_topics(num_topics=N_topic, num_words=7, formatted=False)\n",
    "topics_words = [(tp[0], [wd[0] for wd in tp[1]]) for tp in x]\n",
    "\n",
    "for topic, words in topics_words:\n",
    "    print(f\"topic_{topic}: \" + \" \".join(words))"
   ],
   "metadata": {
    "collapsed": false,
    "pycharm": {
     "name": "#%%\n"
    }
   }
  },
  {
   "cell_type": "code",
   "execution_count": 32,
   "outputs": [],
   "source": [
    "def get_lda_vector(lda, text):\n",
    "    unseen_doc = common_dictionary.doc2bow(text)\n",
    "    lda_tuple = lda[unseen_doc]\n",
    "\n",
    "    not_null_topics = dict(zip([i[0] for i in lda_tuple], [i[1] for i in lda_tuple]))\n",
    "\n",
    "    output_vector = []\n",
    "    for i in range(N_topic):\n",
    "        if i not in not_null_topics:\n",
    "            output_vector.append(0)\n",
    "        else:\n",
    "            output_vector.append(not_null_topics[i])\n",
    "    return np.array(output_vector)"
   ],
   "metadata": {
    "collapsed": false,
    "pycharm": {
     "name": "#%%\n"
    }
   }
  },
  {
   "cell_type": "code",
   "execution_count": 33,
   "outputs": [
    {
     "data": {
      "text/plain": "array([0.23875836, 0.        , 0.        , 0.        , 0.        ,\n       0.        , 0.14595802, 0.09634901, 0.        , 0.02650272,\n       0.0132063 , 0.        , 0.        , 0.        , 0.        ,\n       0.        , 0.        , 0.        , 0.37228525, 0.10071662])"
     },
     "execution_count": 33,
     "metadata": {},
     "output_type": "execute_result"
    }
   ],
   "source": [
    "get_lda_vector(lda, news['title'].iloc[0])"
   ],
   "metadata": {
    "collapsed": false,
    "pycharm": {
     "name": "#%%\n"
    }
   }
  },
  {
   "cell_type": "code",
   "execution_count": 34,
   "outputs": [
    {
     "data": {
      "text/plain": "   doc_id   topic_0  topic_1  topic_2  topic_3   topic_4   topic_5   topic_6  \\\n0       6  0.238765      0.0      0.0      0.0  0.000000  0.000000  0.145912   \n1    4896  0.000000      0.0      0.0      0.0  0.000000  0.000000  0.000000   \n2    4897  0.000000      0.0      0.0      0.0  0.429359  0.021762  0.000000   \n3    4898  0.000000      0.0      0.0      0.0  0.610230  0.000000  0.000000   \n4    4899  0.301370      0.0      0.0      0.0  0.000000  0.000000  0.000000   \n\n    topic_7   topic_8  ...  topic_10  topic_11  topic_12  topic_13  topic_14  \\\n0  0.096348  0.000000  ...  0.013206       0.0  0.000000       0.0  0.000000   \n1  0.379407  0.318615  ...  0.000000       0.0  0.036919       0.0  0.245045   \n2  0.330131  0.000000  ...  0.000000       0.0  0.000000       0.0  0.000000   \n3  0.168830  0.000000  ...  0.000000       0.0  0.000000       0.0  0.000000   \n4  0.111599  0.000000  ...  0.000000       0.0  0.000000       0.0  0.000000   \n\n   topic_15  topic_16  topic_17  topic_18  topic_19  \n0       0.0       0.0       0.0  0.372321  0.100719  \n1       0.0       0.0       0.0  0.000000  0.000000  \n2       0.0       0.0       0.0  0.000000  0.200766  \n3       0.0       0.0       0.0  0.065357  0.145922  \n4       0.0       0.0       0.0  0.563396  0.000000  \n\n[5 rows x 21 columns]",
      "text/html": "<div>\n<style scoped>\n    .dataframe tbody tr th:only-of-type {\n        vertical-align: middle;\n    }\n\n    .dataframe tbody tr th {\n        vertical-align: top;\n    }\n\n    .dataframe thead th {\n        text-align: right;\n    }\n</style>\n<table border=\"1\" class=\"dataframe\">\n  <thead>\n    <tr style=\"text-align: right;\">\n      <th></th>\n      <th>doc_id</th>\n      <th>topic_0</th>\n      <th>topic_1</th>\n      <th>topic_2</th>\n      <th>topic_3</th>\n      <th>topic_4</th>\n      <th>topic_5</th>\n      <th>topic_6</th>\n      <th>topic_7</th>\n      <th>topic_8</th>\n      <th>...</th>\n      <th>topic_10</th>\n      <th>topic_11</th>\n      <th>topic_12</th>\n      <th>topic_13</th>\n      <th>topic_14</th>\n      <th>topic_15</th>\n      <th>topic_16</th>\n      <th>topic_17</th>\n      <th>topic_18</th>\n      <th>topic_19</th>\n    </tr>\n  </thead>\n  <tbody>\n    <tr>\n      <th>0</th>\n      <td>6</td>\n      <td>0.238765</td>\n      <td>0.0</td>\n      <td>0.0</td>\n      <td>0.0</td>\n      <td>0.000000</td>\n      <td>0.000000</td>\n      <td>0.145912</td>\n      <td>0.096348</td>\n      <td>0.000000</td>\n      <td>...</td>\n      <td>0.013206</td>\n      <td>0.0</td>\n      <td>0.000000</td>\n      <td>0.0</td>\n      <td>0.000000</td>\n      <td>0.0</td>\n      <td>0.0</td>\n      <td>0.0</td>\n      <td>0.372321</td>\n      <td>0.100719</td>\n    </tr>\n    <tr>\n      <th>1</th>\n      <td>4896</td>\n      <td>0.000000</td>\n      <td>0.0</td>\n      <td>0.0</td>\n      <td>0.0</td>\n      <td>0.000000</td>\n      <td>0.000000</td>\n      <td>0.000000</td>\n      <td>0.379407</td>\n      <td>0.318615</td>\n      <td>...</td>\n      <td>0.000000</td>\n      <td>0.0</td>\n      <td>0.036919</td>\n      <td>0.0</td>\n      <td>0.245045</td>\n      <td>0.0</td>\n      <td>0.0</td>\n      <td>0.0</td>\n      <td>0.000000</td>\n      <td>0.000000</td>\n    </tr>\n    <tr>\n      <th>2</th>\n      <td>4897</td>\n      <td>0.000000</td>\n      <td>0.0</td>\n      <td>0.0</td>\n      <td>0.0</td>\n      <td>0.429359</td>\n      <td>0.021762</td>\n      <td>0.000000</td>\n      <td>0.330131</td>\n      <td>0.000000</td>\n      <td>...</td>\n      <td>0.000000</td>\n      <td>0.0</td>\n      <td>0.000000</td>\n      <td>0.0</td>\n      <td>0.000000</td>\n      <td>0.0</td>\n      <td>0.0</td>\n      <td>0.0</td>\n      <td>0.000000</td>\n      <td>0.200766</td>\n    </tr>\n    <tr>\n      <th>3</th>\n      <td>4898</td>\n      <td>0.000000</td>\n      <td>0.0</td>\n      <td>0.0</td>\n      <td>0.0</td>\n      <td>0.610230</td>\n      <td>0.000000</td>\n      <td>0.000000</td>\n      <td>0.168830</td>\n      <td>0.000000</td>\n      <td>...</td>\n      <td>0.000000</td>\n      <td>0.0</td>\n      <td>0.000000</td>\n      <td>0.0</td>\n      <td>0.000000</td>\n      <td>0.0</td>\n      <td>0.0</td>\n      <td>0.0</td>\n      <td>0.065357</td>\n      <td>0.145922</td>\n    </tr>\n    <tr>\n      <th>4</th>\n      <td>4899</td>\n      <td>0.301370</td>\n      <td>0.0</td>\n      <td>0.0</td>\n      <td>0.0</td>\n      <td>0.000000</td>\n      <td>0.000000</td>\n      <td>0.000000</td>\n      <td>0.111599</td>\n      <td>0.000000</td>\n      <td>...</td>\n      <td>0.000000</td>\n      <td>0.0</td>\n      <td>0.000000</td>\n      <td>0.0</td>\n      <td>0.000000</td>\n      <td>0.0</td>\n      <td>0.0</td>\n      <td>0.0</td>\n      <td>0.563396</td>\n      <td>0.000000</td>\n    </tr>\n  </tbody>\n</table>\n<p>5 rows × 21 columns</p>\n</div>"
     },
     "execution_count": 34,
     "metadata": {},
     "output_type": "execute_result"
    }
   ],
   "source": [
    "topic_matrix = pd.DataFrame([get_lda_vector(lda, text) for text in news['title'].values])\n",
    "topic_matrix.columns = [f'topic_{i}' for i in range(N_topic)]\n",
    "topic_matrix['doc_id'] = news['doc_id'].values\n",
    "topic_matrix = topic_matrix[['doc_id']+[f'topic_{i}' for i in range(N_topic)]]\n",
    "topic_matrix.head(5)"
   ],
   "metadata": {
    "collapsed": false,
    "pycharm": {
     "name": "#%%\n"
    }
   }
  },
  {
   "cell_type": "code",
   "execution_count": 35,
   "outputs": [
    {
     "data": {
      "text/plain": "       uid                                        articles\n0  u105138  [293672, 293328, 293001, 293622, 293126, 1852]\n1  u108690          [3405, 1739, 2972, 1158, 1599, 322665]\n2  u108339          [1845, 2009, 2356, 1424, 2939, 323389]",
      "text/html": "<div>\n<style scoped>\n    .dataframe tbody tr th:only-of-type {\n        vertical-align: middle;\n    }\n\n    .dataframe tbody tr th {\n        vertical-align: top;\n    }\n\n    .dataframe thead th {\n        text-align: right;\n    }\n</style>\n<table border=\"1\" class=\"dataframe\">\n  <thead>\n    <tr style=\"text-align: right;\">\n      <th></th>\n      <th>uid</th>\n      <th>articles</th>\n    </tr>\n  </thead>\n  <tbody>\n    <tr>\n      <th>0</th>\n      <td>u105138</td>\n      <td>[293672, 293328, 293001, 293622, 293126, 1852]</td>\n    </tr>\n    <tr>\n      <th>1</th>\n      <td>u108690</td>\n      <td>[3405, 1739, 2972, 1158, 1599, 322665]</td>\n    </tr>\n    <tr>\n      <th>2</th>\n      <td>u108339</td>\n      <td>[1845, 2009, 2356, 1424, 2939, 323389]</td>\n    </tr>\n  </tbody>\n</table>\n</div>"
     },
     "execution_count": 35,
     "metadata": {},
     "output_type": "execute_result"
    }
   ],
   "source": [
    "users.head(3)"
   ],
   "metadata": {
    "collapsed": false,
    "pycharm": {
     "name": "#%%\n"
    }
   }
  },
  {
   "cell_type": "code",
   "execution_count": 36,
   "outputs": [],
   "source": [
    "doc_dict = dict(zip(topic_matrix['doc_id'].values, topic_matrix[[f'topic_{i}' for i in range(N_topic)]].values))"
   ],
   "metadata": {
    "collapsed": false,
    "pycharm": {
     "name": "#%%\n"
    }
   }
  },
  {
   "cell_type": "code",
   "execution_count": 37,
   "outputs": [
    {
     "data": {
      "text/plain": "array([0.        , 0.        , 0.        , 0.18820895, 0.06731514,\n       0.        , 0.        , 0.        , 0.        , 0.        ,\n       0.18692432, 0.        , 0.        , 0.        , 0.        ,\n       0.        , 0.06439443, 0.        , 0.47647601, 0.        ])"
     },
     "execution_count": 37,
     "metadata": {},
     "output_type": "execute_result"
    }
   ],
   "source": [
    "doc_dict[293672]"
   ],
   "metadata": {
    "collapsed": false,
    "pycharm": {
     "name": "#%%\n"
    }
   }
  },
  {
   "cell_type": "code",
   "execution_count": 38,
   "outputs": [],
   "source": [
    "def get_user_embedding(user_articles_list, doc_dict, func):\n",
    "    user_articles_list = eval(user_articles_list)\n",
    "    user_vector = np.array([doc_dict[doc_id] for doc_id in user_articles_list])\n",
    "    user_vector = func(user_vector, axis=0)\n",
    "    return user_vector"
   ],
   "metadata": {
    "collapsed": false,
    "pycharm": {
     "name": "#%%\n"
    }
   }
  },
  {
   "cell_type": "code",
   "execution_count": 39,
   "outputs": [
    {
     "data": {
      "text/plain": "array([0.        , 0.01429783, 0.05381401, 0.01493393, 0.14904411,\n       0.        , 0.10404253, 0.        , 0.19246655, 0.01335961,\n       0.04440395, 0.1678235 , 0.        , 0.00827993, 0.01391575,\n       0.        , 0.00508542, 0.        , 0.11934482, 0.08842133])"
     },
     "execution_count": 39,
     "metadata": {},
     "output_type": "execute_result"
    }
   ],
   "source": [
    "user_articles_list = users['articles'].iloc[33]\n",
    "\n",
    "get_user_embedding(user_articles_list, doc_dict, np.mean)"
   ],
   "metadata": {
    "collapsed": false,
    "pycharm": {
     "name": "#%%\n"
    }
   }
  },
  {
   "cell_type": "code",
   "execution_count": 40,
   "outputs": [
    {
     "data": {
      "text/plain": "       uid   topic_0   topic_1   topic_2   topic_3   topic_4  topic_5  \\\n0  u105138  0.041770  0.103931  0.018125  0.054616  0.099142      0.0   \n1  u108690  0.045494  0.023491  0.047143  0.037903  0.190590      0.0   \n2  u108339  0.091291  0.011154  0.039881  0.051669  0.091094      0.0   \n\n    topic_6   topic_7   topic_8  ...  topic_10  topic_11  topic_12  topic_13  \\\n0  0.013547  0.006400  0.050318  ...  0.138004  0.143737  0.026443  0.034292   \n1  0.065007  0.004667  0.272725  ...  0.035827  0.152271  0.004519  0.000000   \n2  0.057818  0.000000  0.167718  ...  0.046295  0.228094  0.000000  0.038629   \n\n   topic_14  topic_15  topic_16  topic_17  topic_18  topic_19  \n0  0.014694       0.0  0.022689  0.011786  0.194848  0.005331  \n1  0.016855       0.0  0.004742  0.000000  0.066346  0.014194  \n2  0.032466       0.0  0.000000  0.000000  0.042397  0.069383  \n\n[3 rows x 21 columns]",
      "text/html": "<div>\n<style scoped>\n    .dataframe tbody tr th:only-of-type {\n        vertical-align: middle;\n    }\n\n    .dataframe tbody tr th {\n        vertical-align: top;\n    }\n\n    .dataframe thead th {\n        text-align: right;\n    }\n</style>\n<table border=\"1\" class=\"dataframe\">\n  <thead>\n    <tr style=\"text-align: right;\">\n      <th></th>\n      <th>uid</th>\n      <th>topic_0</th>\n      <th>topic_1</th>\n      <th>topic_2</th>\n      <th>topic_3</th>\n      <th>topic_4</th>\n      <th>topic_5</th>\n      <th>topic_6</th>\n      <th>topic_7</th>\n      <th>topic_8</th>\n      <th>...</th>\n      <th>topic_10</th>\n      <th>topic_11</th>\n      <th>topic_12</th>\n      <th>topic_13</th>\n      <th>topic_14</th>\n      <th>topic_15</th>\n      <th>topic_16</th>\n      <th>topic_17</th>\n      <th>topic_18</th>\n      <th>topic_19</th>\n    </tr>\n  </thead>\n  <tbody>\n    <tr>\n      <th>0</th>\n      <td>u105138</td>\n      <td>0.041770</td>\n      <td>0.103931</td>\n      <td>0.018125</td>\n      <td>0.054616</td>\n      <td>0.099142</td>\n      <td>0.0</td>\n      <td>0.013547</td>\n      <td>0.006400</td>\n      <td>0.050318</td>\n      <td>...</td>\n      <td>0.138004</td>\n      <td>0.143737</td>\n      <td>0.026443</td>\n      <td>0.034292</td>\n      <td>0.014694</td>\n      <td>0.0</td>\n      <td>0.022689</td>\n      <td>0.011786</td>\n      <td>0.194848</td>\n      <td>0.005331</td>\n    </tr>\n    <tr>\n      <th>1</th>\n      <td>u108690</td>\n      <td>0.045494</td>\n      <td>0.023491</td>\n      <td>0.047143</td>\n      <td>0.037903</td>\n      <td>0.190590</td>\n      <td>0.0</td>\n      <td>0.065007</td>\n      <td>0.004667</td>\n      <td>0.272725</td>\n      <td>...</td>\n      <td>0.035827</td>\n      <td>0.152271</td>\n      <td>0.004519</td>\n      <td>0.000000</td>\n      <td>0.016855</td>\n      <td>0.0</td>\n      <td>0.004742</td>\n      <td>0.000000</td>\n      <td>0.066346</td>\n      <td>0.014194</td>\n    </tr>\n    <tr>\n      <th>2</th>\n      <td>u108339</td>\n      <td>0.091291</td>\n      <td>0.011154</td>\n      <td>0.039881</td>\n      <td>0.051669</td>\n      <td>0.091094</td>\n      <td>0.0</td>\n      <td>0.057818</td>\n      <td>0.000000</td>\n      <td>0.167718</td>\n      <td>...</td>\n      <td>0.046295</td>\n      <td>0.228094</td>\n      <td>0.000000</td>\n      <td>0.038629</td>\n      <td>0.032466</td>\n      <td>0.0</td>\n      <td>0.000000</td>\n      <td>0.000000</td>\n      <td>0.042397</td>\n      <td>0.069383</td>\n    </tr>\n  </tbody>\n</table>\n<p>3 rows × 21 columns</p>\n</div>"
     },
     "execution_count": 40,
     "metadata": {},
     "output_type": "execute_result"
    }
   ],
   "source": [
    "FUNC = np.mean\n",
    "user_embeddings = pd.DataFrame([i for i in users['articles'].apply(lambda x: get_user_embedding(x, doc_dict, FUNC))])\n",
    "user_embeddings.columns = [f'topic_{i}' for i in range(N_topic)]\n",
    "user_embeddings['uid'] = users['uid'].values\n",
    "user_embeddings = user_embeddings[['uid']+[f'topic_{i}' for i in range(N_topic)]]\n",
    "user_embeddings.head(3)"
   ],
   "metadata": {
    "collapsed": false,
    "pycharm": {
     "name": "#%%\n"
    }
   }
  },
  {
   "cell_type": "code",
   "execution_count": 41,
   "outputs": [
    {
     "data": {
      "text/plain": "       uid  churn\n0  u107120      0\n1  u102277      0\n2  u102444      0",
      "text/html": "<div>\n<style scoped>\n    .dataframe tbody tr th:only-of-type {\n        vertical-align: middle;\n    }\n\n    .dataframe tbody tr th {\n        vertical-align: top;\n    }\n\n    .dataframe thead th {\n        text-align: right;\n    }\n</style>\n<table border=\"1\" class=\"dataframe\">\n  <thead>\n    <tr style=\"text-align: right;\">\n      <th></th>\n      <th>uid</th>\n      <th>churn</th>\n    </tr>\n  </thead>\n  <tbody>\n    <tr>\n      <th>0</th>\n      <td>u107120</td>\n      <td>0</td>\n    </tr>\n    <tr>\n      <th>1</th>\n      <td>u102277</td>\n      <td>0</td>\n    </tr>\n    <tr>\n      <th>2</th>\n      <td>u102444</td>\n      <td>0</td>\n    </tr>\n  </tbody>\n</table>\n</div>"
     },
     "execution_count": 41,
     "metadata": {},
     "output_type": "execute_result"
    }
   ],
   "source": [
    "target = pd.read_csv(\"data/users_churn.csv\")\n",
    "target.head(3)"
   ],
   "metadata": {
    "collapsed": false,
    "pycharm": {
     "name": "#%%\n"
    }
   }
  },
  {
   "cell_type": "code",
   "execution_count": 42,
   "outputs": [
    {
     "data": {
      "text/plain": "       uid   topic_0   topic_1   topic_2   topic_3   topic_4  topic_5  \\\n0  u105138  0.041770  0.103931  0.018125  0.054616  0.099142      0.0   \n1  u108690  0.045494  0.023491  0.047143  0.037903  0.190590      0.0   \n2  u108339  0.091291  0.011154  0.039881  0.051669  0.091094      0.0   \n\n    topic_6   topic_7   topic_8  ...  topic_11  topic_12  topic_13  topic_14  \\\n0  0.013547  0.006400  0.050318  ...  0.143737  0.026443  0.034292  0.014694   \n1  0.065007  0.004667  0.272725  ...  0.152271  0.004519  0.000000  0.016855   \n2  0.057818  0.000000  0.167718  ...  0.228094  0.000000  0.038629  0.032466   \n\n   topic_15  topic_16  topic_17  topic_18  topic_19  churn  \n0       0.0  0.022689  0.011786  0.194848  0.005331      0  \n1       0.0  0.004742  0.000000  0.066346  0.014194      1  \n2       0.0  0.000000  0.000000  0.042397  0.069383      1  \n\n[3 rows x 22 columns]",
      "text/html": "<div>\n<style scoped>\n    .dataframe tbody tr th:only-of-type {\n        vertical-align: middle;\n    }\n\n    .dataframe tbody tr th {\n        vertical-align: top;\n    }\n\n    .dataframe thead th {\n        text-align: right;\n    }\n</style>\n<table border=\"1\" class=\"dataframe\">\n  <thead>\n    <tr style=\"text-align: right;\">\n      <th></th>\n      <th>uid</th>\n      <th>topic_0</th>\n      <th>topic_1</th>\n      <th>topic_2</th>\n      <th>topic_3</th>\n      <th>topic_4</th>\n      <th>topic_5</th>\n      <th>topic_6</th>\n      <th>topic_7</th>\n      <th>topic_8</th>\n      <th>...</th>\n      <th>topic_11</th>\n      <th>topic_12</th>\n      <th>topic_13</th>\n      <th>topic_14</th>\n      <th>topic_15</th>\n      <th>topic_16</th>\n      <th>topic_17</th>\n      <th>topic_18</th>\n      <th>topic_19</th>\n      <th>churn</th>\n    </tr>\n  </thead>\n  <tbody>\n    <tr>\n      <th>0</th>\n      <td>u105138</td>\n      <td>0.041770</td>\n      <td>0.103931</td>\n      <td>0.018125</td>\n      <td>0.054616</td>\n      <td>0.099142</td>\n      <td>0.0</td>\n      <td>0.013547</td>\n      <td>0.006400</td>\n      <td>0.050318</td>\n      <td>...</td>\n      <td>0.143737</td>\n      <td>0.026443</td>\n      <td>0.034292</td>\n      <td>0.014694</td>\n      <td>0.0</td>\n      <td>0.022689</td>\n      <td>0.011786</td>\n      <td>0.194848</td>\n      <td>0.005331</td>\n      <td>0</td>\n    </tr>\n    <tr>\n      <th>1</th>\n      <td>u108690</td>\n      <td>0.045494</td>\n      <td>0.023491</td>\n      <td>0.047143</td>\n      <td>0.037903</td>\n      <td>0.190590</td>\n      <td>0.0</td>\n      <td>0.065007</td>\n      <td>0.004667</td>\n      <td>0.272725</td>\n      <td>...</td>\n      <td>0.152271</td>\n      <td>0.004519</td>\n      <td>0.000000</td>\n      <td>0.016855</td>\n      <td>0.0</td>\n      <td>0.004742</td>\n      <td>0.000000</td>\n      <td>0.066346</td>\n      <td>0.014194</td>\n      <td>1</td>\n    </tr>\n    <tr>\n      <th>2</th>\n      <td>u108339</td>\n      <td>0.091291</td>\n      <td>0.011154</td>\n      <td>0.039881</td>\n      <td>0.051669</td>\n      <td>0.091094</td>\n      <td>0.0</td>\n      <td>0.057818</td>\n      <td>0.000000</td>\n      <td>0.167718</td>\n      <td>...</td>\n      <td>0.228094</td>\n      <td>0.000000</td>\n      <td>0.038629</td>\n      <td>0.032466</td>\n      <td>0.0</td>\n      <td>0.000000</td>\n      <td>0.000000</td>\n      <td>0.042397</td>\n      <td>0.069383</td>\n      <td>1</td>\n    </tr>\n  </tbody>\n</table>\n<p>3 rows × 22 columns</p>\n</div>"
     },
     "execution_count": 42,
     "metadata": {},
     "output_type": "execute_result"
    }
   ],
   "source": [
    "X = pd.merge(user_embeddings, target, 'left')\n",
    "X.head(3)"
   ],
   "metadata": {
    "collapsed": false,
    "pycharm": {
     "name": "#%%\n"
    }
   }
  },
  {
   "cell_type": "code",
   "execution_count": 43,
   "outputs": [],
   "source": [
    "from sklearn.linear_model import LogisticRegression\n",
    "from sklearn.model_selection import train_test_split\n",
    "\n",
    "import matplotlib.pyplot as plt"
   ],
   "metadata": {
    "collapsed": false,
    "pycharm": {
     "name": "#%%\n"
    }
   }
  },
  {
   "cell_type": "code",
   "execution_count": 44,
   "outputs": [],
   "source": [
    "X_train, X_test, y_train, y_test = train_test_split(X[[f'topic_{i}' for i in range(N_topic)]],\n",
    "                                                    X['churn'], random_state=0)"
   ],
   "metadata": {
    "collapsed": false,
    "pycharm": {
     "name": "#%%\n"
    }
   }
  },
  {
   "cell_type": "code",
   "execution_count": 45,
   "outputs": [
    {
     "data": {
      "text/plain": "LogisticRegression()",
      "text/html": "<style>#sk-container-id-1 {color: black;background-color: white;}#sk-container-id-1 pre{padding: 0;}#sk-container-id-1 div.sk-toggleable {background-color: white;}#sk-container-id-1 label.sk-toggleable__label {cursor: pointer;display: block;width: 100%;margin-bottom: 0;padding: 0.3em;box-sizing: border-box;text-align: center;}#sk-container-id-1 label.sk-toggleable__label-arrow:before {content: \"▸\";float: left;margin-right: 0.25em;color: #696969;}#sk-container-id-1 label.sk-toggleable__label-arrow:hover:before {color: black;}#sk-container-id-1 div.sk-estimator:hover label.sk-toggleable__label-arrow:before {color: black;}#sk-container-id-1 div.sk-toggleable__content {max-height: 0;max-width: 0;overflow: hidden;text-align: left;background-color: #f0f8ff;}#sk-container-id-1 div.sk-toggleable__content pre {margin: 0.2em;color: black;border-radius: 0.25em;background-color: #f0f8ff;}#sk-container-id-1 input.sk-toggleable__control:checked~div.sk-toggleable__content {max-height: 200px;max-width: 100%;overflow: auto;}#sk-container-id-1 input.sk-toggleable__control:checked~label.sk-toggleable__label-arrow:before {content: \"▾\";}#sk-container-id-1 div.sk-estimator input.sk-toggleable__control:checked~label.sk-toggleable__label {background-color: #d4ebff;}#sk-container-id-1 div.sk-label input.sk-toggleable__control:checked~label.sk-toggleable__label {background-color: #d4ebff;}#sk-container-id-1 input.sk-hidden--visually {border: 0;clip: rect(1px 1px 1px 1px);clip: rect(1px, 1px, 1px, 1px);height: 1px;margin: -1px;overflow: hidden;padding: 0;position: absolute;width: 1px;}#sk-container-id-1 div.sk-estimator {font-family: monospace;background-color: #f0f8ff;border: 1px dotted black;border-radius: 0.25em;box-sizing: border-box;margin-bottom: 0.5em;}#sk-container-id-1 div.sk-estimator:hover {background-color: #d4ebff;}#sk-container-id-1 div.sk-parallel-item::after {content: \"\";width: 100%;border-bottom: 1px solid gray;flex-grow: 1;}#sk-container-id-1 div.sk-label:hover label.sk-toggleable__label {background-color: #d4ebff;}#sk-container-id-1 div.sk-serial::before {content: \"\";position: absolute;border-left: 1px solid gray;box-sizing: border-box;top: 0;bottom: 0;left: 50%;z-index: 0;}#sk-container-id-1 div.sk-serial {display: flex;flex-direction: column;align-items: center;background-color: white;padding-right: 0.2em;padding-left: 0.2em;position: relative;}#sk-container-id-1 div.sk-item {position: relative;z-index: 1;}#sk-container-id-1 div.sk-parallel {display: flex;align-items: stretch;justify-content: center;background-color: white;position: relative;}#sk-container-id-1 div.sk-item::before, #sk-container-id-1 div.sk-parallel-item::before {content: \"\";position: absolute;border-left: 1px solid gray;box-sizing: border-box;top: 0;bottom: 0;left: 50%;z-index: -1;}#sk-container-id-1 div.sk-parallel-item {display: flex;flex-direction: column;z-index: 1;position: relative;background-color: white;}#sk-container-id-1 div.sk-parallel-item:first-child::after {align-self: flex-end;width: 50%;}#sk-container-id-1 div.sk-parallel-item:last-child::after {align-self: flex-start;width: 50%;}#sk-container-id-1 div.sk-parallel-item:only-child::after {width: 0;}#sk-container-id-1 div.sk-dashed-wrapped {border: 1px dashed gray;margin: 0 0.4em 0.5em 0.4em;box-sizing: border-box;padding-bottom: 0.4em;background-color: white;}#sk-container-id-1 div.sk-label label {font-family: monospace;font-weight: bold;display: inline-block;line-height: 1.2em;}#sk-container-id-1 div.sk-label-container {text-align: center;}#sk-container-id-1 div.sk-container {/* jupyter's `normalize.less` sets `[hidden] { display: none; }` but bootstrap.min.css set `[hidden] { display: none !important; }` so we also need the `!important` here to be able to override the default hidden behavior on the sphinx rendered scikit-learn.org. See: https://github.com/scikit-learn/scikit-learn/issues/21755 */display: inline-block !important;position: relative;}#sk-container-id-1 div.sk-text-repr-fallback {display: none;}</style><div id=\"sk-container-id-1\" class=\"sk-top-container\"><div class=\"sk-text-repr-fallback\"><pre>LogisticRegression()</pre><b>In a Jupyter environment, please rerun this cell to show the HTML representation or trust the notebook. <br />On GitHub, the HTML representation is unable to render, please try loading this page with nbviewer.org.</b></div><div class=\"sk-container\" hidden><div class=\"sk-item\"><div class=\"sk-estimator sk-toggleable\"><input class=\"sk-toggleable__control sk-hidden--visually\" id=\"sk-estimator-id-1\" type=\"checkbox\" checked><label for=\"sk-estimator-id-1\" class=\"sk-toggleable__label sk-toggleable__label-arrow\">LogisticRegression</label><div class=\"sk-toggleable__content\"><pre>LogisticRegression()</pre></div></div></div></div></div>"
     },
     "execution_count": 45,
     "metadata": {},
     "output_type": "execute_result"
    }
   ],
   "source": [
    "model = LogisticRegression()\n",
    "model.fit(X_train, y_train)"
   ],
   "metadata": {
    "collapsed": false,
    "pycharm": {
     "name": "#%%\n"
    }
   }
  },
  {
   "cell_type": "code",
   "execution_count": 46,
   "outputs": [
    {
     "data": {
      "text/plain": "array([0.09366667, 0.01407878, 0.49154493, 0.37425184, 0.02624316,\n       0.0304149 , 0.23838174, 0.08095907, 0.02342652, 0.1755155 ])"
     },
     "execution_count": 46,
     "metadata": {},
     "output_type": "execute_result"
    }
   ],
   "source": [
    "preds = model.predict_proba(X_test)[:, 1]\n",
    "preds[:10]"
   ],
   "metadata": {
    "collapsed": false,
    "pycharm": {
     "name": "#%%\n"
    }
   }
  },
  {
   "cell_type": "code",
   "execution_count": 47,
   "outputs": [
    {
     "data": {
      "text/plain": "Empty DataFrame\nColumns: [model, thresh, F-Score, Precision, Recall, ROC AUC]\nIndex: []",
      "text/html": "<div>\n<style scoped>\n    .dataframe tbody tr th:only-of-type {\n        vertical-align: middle;\n    }\n\n    .dataframe tbody tr th {\n        vertical-align: top;\n    }\n\n    .dataframe thead th {\n        text-align: right;\n    }\n</style>\n<table border=\"1\" class=\"dataframe\">\n  <thead>\n    <tr style=\"text-align: right;\">\n      <th></th>\n      <th>model</th>\n      <th>thresh</th>\n      <th>F-Score</th>\n      <th>Precision</th>\n      <th>Recall</th>\n      <th>ROC AUC</th>\n    </tr>\n  </thead>\n  <tbody>\n  </tbody>\n</table>\n</div>"
     },
     "execution_count": 47,
     "metadata": {},
     "output_type": "execute_result"
    }
   ],
   "source": [
    "metrics_df = pd.DataFrame(columns=['model', 'thresh', 'F-Score', 'Precision', 'Recall', 'ROC AUC'])\n",
    "metrics_df"
   ],
   "metadata": {
    "collapsed": false,
    "pycharm": {
     "name": "#%%\n"
    }
   }
  },
  {
   "cell_type": "code",
   "execution_count": 48,
   "outputs": [],
   "source": [
    "from sklearn.metrics import (f1_score, roc_auc_score, precision_score,\n",
    "                             classification_report, precision_recall_curve, confusion_matrix)"
   ],
   "metadata": {
    "collapsed": false,
    "pycharm": {
     "name": "#%%\n"
    }
   }
  },
  {
   "cell_type": "code",
   "execution_count": 49,
   "outputs": [
    {
     "name": "stdout",
     "output_type": "stream",
     "text": [
      "Best Threshold=0.2751836838052241, F-Score=0.759, Precision=0.686, Recall=0.849\n"
     ]
    }
   ],
   "source": [
    "precision, recall, thresholds = precision_recall_curve(y_test, preds)\n",
    "fscore = (2 * precision * recall) / (precision + recall)\n",
    "# locate the index of the largest f score\n",
    "ix = np.argmax(fscore)\n",
    "print(f'Best Threshold={thresholds[ix]}, F-Score={fscore[ix]:.3f}, Precision={precision[ix]:.3f}, Recall={recall[ix]:.3f}')"
   ],
   "metadata": {
    "collapsed": false,
    "pycharm": {
     "name": "#%%\n"
    }
   }
  },
  {
   "cell_type": "code",
   "execution_count": 50,
   "outputs": [
    {
     "data": {
      "text/plain": "0.9707494621780337"
     },
     "execution_count": 50,
     "metadata": {},
     "output_type": "execute_result"
    }
   ],
   "source": [
    "roc_auc = roc_auc_score(y_test, preds)\n",
    "roc_auc"
   ],
   "metadata": {
    "collapsed": false,
    "pycharm": {
     "name": "#%%\n"
    }
   }
  },
  {
   "cell_type": "code",
   "execution_count": 51,
   "outputs": [
    {
     "name": "stderr",
     "output_type": "stream",
     "text": [
      "C:\\Users\\grayni\\AppData\\Local\\Temp\\ipykernel_13756\\1288159249.py:1: FutureWarning: The frame.append method is deprecated and will be removed from pandas in a future version. Use pandas.concat instead.\n",
      "  metrics_df = metrics_df.append({\n"
     ]
    },
    {
     "data": {
      "text/plain": "  model    thresh   F-Score  Precision   Recall   ROC AUC\n0  mean  0.275184  0.759124   0.686469  0.84898  0.970749",
      "text/html": "<div>\n<style scoped>\n    .dataframe tbody tr th:only-of-type {\n        vertical-align: middle;\n    }\n\n    .dataframe tbody tr th {\n        vertical-align: top;\n    }\n\n    .dataframe thead th {\n        text-align: right;\n    }\n</style>\n<table border=\"1\" class=\"dataframe\">\n  <thead>\n    <tr style=\"text-align: right;\">\n      <th></th>\n      <th>model</th>\n      <th>thresh</th>\n      <th>F-Score</th>\n      <th>Precision</th>\n      <th>Recall</th>\n      <th>ROC AUC</th>\n    </tr>\n  </thead>\n  <tbody>\n    <tr>\n      <th>0</th>\n      <td>mean</td>\n      <td>0.275184</td>\n      <td>0.759124</td>\n      <td>0.686469</td>\n      <td>0.84898</td>\n      <td>0.970749</td>\n    </tr>\n  </tbody>\n</table>\n</div>"
     },
     "execution_count": 51,
     "metadata": {},
     "output_type": "execute_result"
    }
   ],
   "source": [
    "metrics_df = metrics_df.append({\n",
    "    'model': FUNC.__name__,\n",
    "    'thresh': thresholds[ix],\n",
    "    'F-Score': fscore[ix],\n",
    "    'Precision': precision[ix],\n",
    "    'Recall': recall[ix],\n",
    "    'ROC AUC': roc_auc\n",
    "}, ignore_index=True)\n",
    "\n",
    "metrics_df"
   ],
   "metadata": {
    "collapsed": false,
    "pycharm": {
     "name": "#%%\n"
    }
   }
  },
  {
   "cell_type": "code",
   "execution_count": 52,
   "outputs": [],
   "source": [
    "FUNC = np.median"
   ],
   "metadata": {
    "collapsed": false,
    "pycharm": {
     "name": "#%%\n"
    }
   }
  },
  {
   "cell_type": "code",
   "execution_count": 53,
   "outputs": [
    {
     "data": {
      "text/plain": "       uid   topic_0   topic_1   topic_2   topic_3   topic_4  topic_5  \\\n0  u105138  0.000000  0.017814  0.000000  0.006068  0.033658      0.0   \n1  u108690  0.000000  0.000000  0.024844  0.000000  0.160143      0.0   \n2  u108339  0.102911  0.000000  0.011460  0.013131  0.078116      0.0   \n\n    topic_6  topic_7   topic_8  ...  topic_10  topic_11  topic_12  topic_13  \\\n0  0.000000      0.0  0.000000  ...  0.093462  0.166451       0.0   0.02047   \n1  0.028090      0.0  0.226237  ...  0.034982  0.135122       0.0   0.00000   \n2  0.015732      0.0  0.150656  ...  0.035342  0.244050       0.0   0.04440   \n\n   topic_14  topic_15  topic_16  topic_17  topic_18  topic_19  \n0  0.000000       0.0       0.0       0.0  0.186276  0.000000  \n1  0.006781       0.0       0.0       0.0  0.037089  0.008400  \n2  0.035503       0.0       0.0       0.0  0.011616  0.070471  \n\n[3 rows x 21 columns]",
      "text/html": "<div>\n<style scoped>\n    .dataframe tbody tr th:only-of-type {\n        vertical-align: middle;\n    }\n\n    .dataframe tbody tr th {\n        vertical-align: top;\n    }\n\n    .dataframe thead th {\n        text-align: right;\n    }\n</style>\n<table border=\"1\" class=\"dataframe\">\n  <thead>\n    <tr style=\"text-align: right;\">\n      <th></th>\n      <th>uid</th>\n      <th>topic_0</th>\n      <th>topic_1</th>\n      <th>topic_2</th>\n      <th>topic_3</th>\n      <th>topic_4</th>\n      <th>topic_5</th>\n      <th>topic_6</th>\n      <th>topic_7</th>\n      <th>topic_8</th>\n      <th>...</th>\n      <th>topic_10</th>\n      <th>topic_11</th>\n      <th>topic_12</th>\n      <th>topic_13</th>\n      <th>topic_14</th>\n      <th>topic_15</th>\n      <th>topic_16</th>\n      <th>topic_17</th>\n      <th>topic_18</th>\n      <th>topic_19</th>\n    </tr>\n  </thead>\n  <tbody>\n    <tr>\n      <th>0</th>\n      <td>u105138</td>\n      <td>0.000000</td>\n      <td>0.017814</td>\n      <td>0.000000</td>\n      <td>0.006068</td>\n      <td>0.033658</td>\n      <td>0.0</td>\n      <td>0.000000</td>\n      <td>0.0</td>\n      <td>0.000000</td>\n      <td>...</td>\n      <td>0.093462</td>\n      <td>0.166451</td>\n      <td>0.0</td>\n      <td>0.02047</td>\n      <td>0.000000</td>\n      <td>0.0</td>\n      <td>0.0</td>\n      <td>0.0</td>\n      <td>0.186276</td>\n      <td>0.000000</td>\n    </tr>\n    <tr>\n      <th>1</th>\n      <td>u108690</td>\n      <td>0.000000</td>\n      <td>0.000000</td>\n      <td>0.024844</td>\n      <td>0.000000</td>\n      <td>0.160143</td>\n      <td>0.0</td>\n      <td>0.028090</td>\n      <td>0.0</td>\n      <td>0.226237</td>\n      <td>...</td>\n      <td>0.034982</td>\n      <td>0.135122</td>\n      <td>0.0</td>\n      <td>0.00000</td>\n      <td>0.006781</td>\n      <td>0.0</td>\n      <td>0.0</td>\n      <td>0.0</td>\n      <td>0.037089</td>\n      <td>0.008400</td>\n    </tr>\n    <tr>\n      <th>2</th>\n      <td>u108339</td>\n      <td>0.102911</td>\n      <td>0.000000</td>\n      <td>0.011460</td>\n      <td>0.013131</td>\n      <td>0.078116</td>\n      <td>0.0</td>\n      <td>0.015732</td>\n      <td>0.0</td>\n      <td>0.150656</td>\n      <td>...</td>\n      <td>0.035342</td>\n      <td>0.244050</td>\n      <td>0.0</td>\n      <td>0.04440</td>\n      <td>0.035503</td>\n      <td>0.0</td>\n      <td>0.0</td>\n      <td>0.0</td>\n      <td>0.011616</td>\n      <td>0.070471</td>\n    </tr>\n  </tbody>\n</table>\n<p>3 rows × 21 columns</p>\n</div>"
     },
     "execution_count": 53,
     "metadata": {},
     "output_type": "execute_result"
    }
   ],
   "source": [
    "user_embeddings = pd.DataFrame([i for i in users['articles'].apply(lambda x: get_user_embedding(x, doc_dict, FUNC))])\n",
    "user_embeddings.columns = [f'topic_{i}' for i in range(N_topic)]\n",
    "user_embeddings['uid'] = users['uid'].values\n",
    "user_embeddings = user_embeddings[['uid']+[f'topic_{i}' for i in range(N_topic)]]\n",
    "user_embeddings.head(3)"
   ],
   "metadata": {
    "collapsed": false,
    "pycharm": {
     "name": "#%%\n"
    }
   }
  },
  {
   "cell_type": "code",
   "execution_count": 54,
   "outputs": [
    {
     "data": {
      "text/plain": "       uid   topic_0   topic_1   topic_2   topic_3   topic_4  topic_5  \\\n0  u105138  0.000000  0.017814  0.000000  0.006068  0.033658      0.0   \n1  u108690  0.000000  0.000000  0.024844  0.000000  0.160143      0.0   \n2  u108339  0.102911  0.000000  0.011460  0.013131  0.078116      0.0   \n\n    topic_6  topic_7   topic_8  ...  topic_11  topic_12  topic_13  topic_14  \\\n0  0.000000      0.0  0.000000  ...  0.166451       0.0   0.02047  0.000000   \n1  0.028090      0.0  0.226237  ...  0.135122       0.0   0.00000  0.006781   \n2  0.015732      0.0  0.150656  ...  0.244050       0.0   0.04440  0.035503   \n\n   topic_15  topic_16  topic_17  topic_18  topic_19  churn  \n0       0.0       0.0       0.0  0.186276  0.000000      0  \n1       0.0       0.0       0.0  0.037089  0.008400      1  \n2       0.0       0.0       0.0  0.011616  0.070471      1  \n\n[3 rows x 22 columns]",
      "text/html": "<div>\n<style scoped>\n    .dataframe tbody tr th:only-of-type {\n        vertical-align: middle;\n    }\n\n    .dataframe tbody tr th {\n        vertical-align: top;\n    }\n\n    .dataframe thead th {\n        text-align: right;\n    }\n</style>\n<table border=\"1\" class=\"dataframe\">\n  <thead>\n    <tr style=\"text-align: right;\">\n      <th></th>\n      <th>uid</th>\n      <th>topic_0</th>\n      <th>topic_1</th>\n      <th>topic_2</th>\n      <th>topic_3</th>\n      <th>topic_4</th>\n      <th>topic_5</th>\n      <th>topic_6</th>\n      <th>topic_7</th>\n      <th>topic_8</th>\n      <th>...</th>\n      <th>topic_11</th>\n      <th>topic_12</th>\n      <th>topic_13</th>\n      <th>topic_14</th>\n      <th>topic_15</th>\n      <th>topic_16</th>\n      <th>topic_17</th>\n      <th>topic_18</th>\n      <th>topic_19</th>\n      <th>churn</th>\n    </tr>\n  </thead>\n  <tbody>\n    <tr>\n      <th>0</th>\n      <td>u105138</td>\n      <td>0.000000</td>\n      <td>0.017814</td>\n      <td>0.000000</td>\n      <td>0.006068</td>\n      <td>0.033658</td>\n      <td>0.0</td>\n      <td>0.000000</td>\n      <td>0.0</td>\n      <td>0.000000</td>\n      <td>...</td>\n      <td>0.166451</td>\n      <td>0.0</td>\n      <td>0.02047</td>\n      <td>0.000000</td>\n      <td>0.0</td>\n      <td>0.0</td>\n      <td>0.0</td>\n      <td>0.186276</td>\n      <td>0.000000</td>\n      <td>0</td>\n    </tr>\n    <tr>\n      <th>1</th>\n      <td>u108690</td>\n      <td>0.000000</td>\n      <td>0.000000</td>\n      <td>0.024844</td>\n      <td>0.000000</td>\n      <td>0.160143</td>\n      <td>0.0</td>\n      <td>0.028090</td>\n      <td>0.0</td>\n      <td>0.226237</td>\n      <td>...</td>\n      <td>0.135122</td>\n      <td>0.0</td>\n      <td>0.00000</td>\n      <td>0.006781</td>\n      <td>0.0</td>\n      <td>0.0</td>\n      <td>0.0</td>\n      <td>0.037089</td>\n      <td>0.008400</td>\n      <td>1</td>\n    </tr>\n    <tr>\n      <th>2</th>\n      <td>u108339</td>\n      <td>0.102911</td>\n      <td>0.000000</td>\n      <td>0.011460</td>\n      <td>0.013131</td>\n      <td>0.078116</td>\n      <td>0.0</td>\n      <td>0.015732</td>\n      <td>0.0</td>\n      <td>0.150656</td>\n      <td>...</td>\n      <td>0.244050</td>\n      <td>0.0</td>\n      <td>0.04440</td>\n      <td>0.035503</td>\n      <td>0.0</td>\n      <td>0.0</td>\n      <td>0.0</td>\n      <td>0.011616</td>\n      <td>0.070471</td>\n      <td>1</td>\n    </tr>\n  </tbody>\n</table>\n<p>3 rows × 22 columns</p>\n</div>"
     },
     "execution_count": 54,
     "metadata": {},
     "output_type": "execute_result"
    }
   ],
   "source": [
    "X = pd.merge(user_embeddings, target, 'left')\n",
    "X.head(3)"
   ],
   "metadata": {
    "collapsed": false,
    "pycharm": {
     "name": "#%%\n"
    }
   }
  },
  {
   "cell_type": "code",
   "execution_count": 56,
   "outputs": [],
   "source": [
    "X_train, X_test, y_train, y_test = train_test_split(X[[f'topic_{i}' for i in range(N_topic)]],\n",
    "                                                    X['churn'], random_state=0)"
   ],
   "metadata": {
    "collapsed": false,
    "pycharm": {
     "name": "#%%\n"
    }
   }
  },
  {
   "cell_type": "code",
   "execution_count": 57,
   "outputs": [
    {
     "data": {
      "text/plain": "LogisticRegression()",
      "text/html": "<style>#sk-container-id-2 {color: black;background-color: white;}#sk-container-id-2 pre{padding: 0;}#sk-container-id-2 div.sk-toggleable {background-color: white;}#sk-container-id-2 label.sk-toggleable__label {cursor: pointer;display: block;width: 100%;margin-bottom: 0;padding: 0.3em;box-sizing: border-box;text-align: center;}#sk-container-id-2 label.sk-toggleable__label-arrow:before {content: \"▸\";float: left;margin-right: 0.25em;color: #696969;}#sk-container-id-2 label.sk-toggleable__label-arrow:hover:before {color: black;}#sk-container-id-2 div.sk-estimator:hover label.sk-toggleable__label-arrow:before {color: black;}#sk-container-id-2 div.sk-toggleable__content {max-height: 0;max-width: 0;overflow: hidden;text-align: left;background-color: #f0f8ff;}#sk-container-id-2 div.sk-toggleable__content pre {margin: 0.2em;color: black;border-radius: 0.25em;background-color: #f0f8ff;}#sk-container-id-2 input.sk-toggleable__control:checked~div.sk-toggleable__content {max-height: 200px;max-width: 100%;overflow: auto;}#sk-container-id-2 input.sk-toggleable__control:checked~label.sk-toggleable__label-arrow:before {content: \"▾\";}#sk-container-id-2 div.sk-estimator input.sk-toggleable__control:checked~label.sk-toggleable__label {background-color: #d4ebff;}#sk-container-id-2 div.sk-label input.sk-toggleable__control:checked~label.sk-toggleable__label {background-color: #d4ebff;}#sk-container-id-2 input.sk-hidden--visually {border: 0;clip: rect(1px 1px 1px 1px);clip: rect(1px, 1px, 1px, 1px);height: 1px;margin: -1px;overflow: hidden;padding: 0;position: absolute;width: 1px;}#sk-container-id-2 div.sk-estimator {font-family: monospace;background-color: #f0f8ff;border: 1px dotted black;border-radius: 0.25em;box-sizing: border-box;margin-bottom: 0.5em;}#sk-container-id-2 div.sk-estimator:hover {background-color: #d4ebff;}#sk-container-id-2 div.sk-parallel-item::after {content: \"\";width: 100%;border-bottom: 1px solid gray;flex-grow: 1;}#sk-container-id-2 div.sk-label:hover label.sk-toggleable__label {background-color: #d4ebff;}#sk-container-id-2 div.sk-serial::before {content: \"\";position: absolute;border-left: 1px solid gray;box-sizing: border-box;top: 0;bottom: 0;left: 50%;z-index: 0;}#sk-container-id-2 div.sk-serial {display: flex;flex-direction: column;align-items: center;background-color: white;padding-right: 0.2em;padding-left: 0.2em;position: relative;}#sk-container-id-2 div.sk-item {position: relative;z-index: 1;}#sk-container-id-2 div.sk-parallel {display: flex;align-items: stretch;justify-content: center;background-color: white;position: relative;}#sk-container-id-2 div.sk-item::before, #sk-container-id-2 div.sk-parallel-item::before {content: \"\";position: absolute;border-left: 1px solid gray;box-sizing: border-box;top: 0;bottom: 0;left: 50%;z-index: -1;}#sk-container-id-2 div.sk-parallel-item {display: flex;flex-direction: column;z-index: 1;position: relative;background-color: white;}#sk-container-id-2 div.sk-parallel-item:first-child::after {align-self: flex-end;width: 50%;}#sk-container-id-2 div.sk-parallel-item:last-child::after {align-self: flex-start;width: 50%;}#sk-container-id-2 div.sk-parallel-item:only-child::after {width: 0;}#sk-container-id-2 div.sk-dashed-wrapped {border: 1px dashed gray;margin: 0 0.4em 0.5em 0.4em;box-sizing: border-box;padding-bottom: 0.4em;background-color: white;}#sk-container-id-2 div.sk-label label {font-family: monospace;font-weight: bold;display: inline-block;line-height: 1.2em;}#sk-container-id-2 div.sk-label-container {text-align: center;}#sk-container-id-2 div.sk-container {/* jupyter's `normalize.less` sets `[hidden] { display: none; }` but bootstrap.min.css set `[hidden] { display: none !important; }` so we also need the `!important` here to be able to override the default hidden behavior on the sphinx rendered scikit-learn.org. See: https://github.com/scikit-learn/scikit-learn/issues/21755 */display: inline-block !important;position: relative;}#sk-container-id-2 div.sk-text-repr-fallback {display: none;}</style><div id=\"sk-container-id-2\" class=\"sk-top-container\"><div class=\"sk-text-repr-fallback\"><pre>LogisticRegression()</pre><b>In a Jupyter environment, please rerun this cell to show the HTML representation or trust the notebook. <br />On GitHub, the HTML representation is unable to render, please try loading this page with nbviewer.org.</b></div><div class=\"sk-container\" hidden><div class=\"sk-item\"><div class=\"sk-estimator sk-toggleable\"><input class=\"sk-toggleable__control sk-hidden--visually\" id=\"sk-estimator-id-2\" type=\"checkbox\" checked><label for=\"sk-estimator-id-2\" class=\"sk-toggleable__label sk-toggleable__label-arrow\">LogisticRegression</label><div class=\"sk-toggleable__content\"><pre>LogisticRegression()</pre></div></div></div></div></div>"
     },
     "execution_count": 57,
     "metadata": {},
     "output_type": "execute_result"
    }
   ],
   "source": [
    "model = LogisticRegression()\n",
    "model.fit(X_train, y_train)"
   ],
   "metadata": {
    "collapsed": false,
    "pycharm": {
     "name": "#%%\n"
    }
   }
  },
  {
   "cell_type": "code",
   "execution_count": 58,
   "outputs": [
    {
     "data": {
      "text/plain": "array([0.05699217, 0.01525824, 0.52866363, 0.42795534, 0.03089585,\n       0.02084406, 0.20874097, 0.10475765, 0.04423489, 0.18824316])"
     },
     "execution_count": 58,
     "metadata": {},
     "output_type": "execute_result"
    }
   ],
   "source": [
    "preds = model.predict_proba(X_test)[:, 1]\n",
    "preds[:10]"
   ],
   "metadata": {
    "collapsed": false,
    "pycharm": {
     "name": "#%%\n"
    }
   }
  },
  {
   "cell_type": "code",
   "execution_count": 59,
   "outputs": [
    {
     "name": "stdout",
     "output_type": "stream",
     "text": [
      "Best Threshold=0.28001893182304743, F-Score=0.760, Precision=0.690, Recall=0.845\n"
     ]
    }
   ],
   "source": [
    "precision, recall, thresholds = precision_recall_curve(y_test, preds)\n",
    "fscore = (2 * precision * recall) / (precision + recall)\n",
    "# locate the index of the largest f score\n",
    "ix = np.argmax(fscore)\n",
    "print(f'Best Threshold={thresholds[ix]}, F-Score={fscore[ix]:.3f}, Precision={precision[ix]:.3f}, Recall={recall[ix]:.3f}')"
   ],
   "metadata": {
    "collapsed": false,
    "pycharm": {
     "name": "#%%\n"
    }
   }
  },
  {
   "cell_type": "code",
   "execution_count": 60,
   "outputs": [
    {
     "data": {
      "text/plain": "0.9698912727484156"
     },
     "execution_count": 60,
     "metadata": {},
     "output_type": "execute_result"
    }
   ],
   "source": [
    "roc_auc = roc_auc_score(y_test, preds)\n",
    "roc_auc"
   ],
   "metadata": {
    "collapsed": false,
    "pycharm": {
     "name": "#%%\n"
    }
   }
  },
  {
   "cell_type": "code",
   "execution_count": 61,
   "outputs": [
    {
     "name": "stderr",
     "output_type": "stream",
     "text": [
      "C:\\Users\\grayni\\AppData\\Local\\Temp\\ipykernel_13756\\1288159249.py:1: FutureWarning: The frame.append method is deprecated and will be removed from pandas in a future version. Use pandas.concat instead.\n",
      "  metrics_df = metrics_df.append({\n"
     ]
    },
    {
     "data": {
      "text/plain": "    model    thresh   F-Score  Precision    Recall   ROC AUC\n0    mean  0.275184  0.759124   0.686469  0.848980  0.970749\n1  median  0.280019  0.759633   0.690000  0.844898  0.969891",
      "text/html": "<div>\n<style scoped>\n    .dataframe tbody tr th:only-of-type {\n        vertical-align: middle;\n    }\n\n    .dataframe tbody tr th {\n        vertical-align: top;\n    }\n\n    .dataframe thead th {\n        text-align: right;\n    }\n</style>\n<table border=\"1\" class=\"dataframe\">\n  <thead>\n    <tr style=\"text-align: right;\">\n      <th></th>\n      <th>model</th>\n      <th>thresh</th>\n      <th>F-Score</th>\n      <th>Precision</th>\n      <th>Recall</th>\n      <th>ROC AUC</th>\n    </tr>\n  </thead>\n  <tbody>\n    <tr>\n      <th>0</th>\n      <td>mean</td>\n      <td>0.275184</td>\n      <td>0.759124</td>\n      <td>0.686469</td>\n      <td>0.848980</td>\n      <td>0.970749</td>\n    </tr>\n    <tr>\n      <th>1</th>\n      <td>median</td>\n      <td>0.280019</td>\n      <td>0.759633</td>\n      <td>0.690000</td>\n      <td>0.844898</td>\n      <td>0.969891</td>\n    </tr>\n  </tbody>\n</table>\n</div>"
     },
     "execution_count": 61,
     "metadata": {},
     "output_type": "execute_result"
    }
   ],
   "source": [
    "metrics_df = metrics_df.append({\n",
    "    'model': FUNC.__name__,\n",
    "    'thresh': thresholds[ix],\n",
    "    'F-Score': fscore[ix],\n",
    "    'Precision': precision[ix],\n",
    "    'Recall': recall[ix],\n",
    "    'ROC AUC': roc_auc\n",
    "}, ignore_index=True)\n",
    "\n",
    "metrics_df"
   ],
   "metadata": {
    "collapsed": false,
    "pycharm": {
     "name": "#%%\n"
    }
   }
  },
  {
   "cell_type": "code",
   "execution_count": 62,
   "outputs": [],
   "source": [
    "FUNC = np.max"
   ],
   "metadata": {
    "collapsed": false,
    "pycharm": {
     "name": "#%%\n"
    }
   }
  },
  {
   "cell_type": "code",
   "execution_count": 63,
   "outputs": [
    {
     "data": {
      "text/plain": "       uid   topic_0   topic_1   topic_2   topic_3   topic_4  topic_5  \\\n0  u105138  0.159162  0.439300  0.108749  0.188209  0.404691      0.0   \n1  u108690  0.212141  0.108386  0.138698  0.156313  0.396425      0.0   \n2  u108339  0.129406  0.045321  0.136584  0.206527  0.152946      0.0   \n\n    topic_6   topic_7   topic_8  ...  topic_10  topic_11  topic_12  topic_13  \\\n0  0.081281  0.038397  0.183592  ...  0.382358  0.314741  0.097943  0.099520   \n1  0.194795  0.027999  0.601681  ...  0.058026  0.416795  0.027114  0.000000   \n2  0.233837  0.000000  0.429764  ...  0.101319  0.311925  0.000000  0.084851   \n\n   topic_14  topic_15  topic_16  topic_17  topic_18  topic_19  \n0  0.088165       0.0  0.071738  0.070717  0.476476  0.031987  \n1  0.044091       0.0  0.015492  0.000000  0.163125  0.037346  \n2  0.067657       0.0  0.000000  0.000000  0.205979  0.140149  \n\n[3 rows x 21 columns]",
      "text/html": "<div>\n<style scoped>\n    .dataframe tbody tr th:only-of-type {\n        vertical-align: middle;\n    }\n\n    .dataframe tbody tr th {\n        vertical-align: top;\n    }\n\n    .dataframe thead th {\n        text-align: right;\n    }\n</style>\n<table border=\"1\" class=\"dataframe\">\n  <thead>\n    <tr style=\"text-align: right;\">\n      <th></th>\n      <th>uid</th>\n      <th>topic_0</th>\n      <th>topic_1</th>\n      <th>topic_2</th>\n      <th>topic_3</th>\n      <th>topic_4</th>\n      <th>topic_5</th>\n      <th>topic_6</th>\n      <th>topic_7</th>\n      <th>topic_8</th>\n      <th>...</th>\n      <th>topic_10</th>\n      <th>topic_11</th>\n      <th>topic_12</th>\n      <th>topic_13</th>\n      <th>topic_14</th>\n      <th>topic_15</th>\n      <th>topic_16</th>\n      <th>topic_17</th>\n      <th>topic_18</th>\n      <th>topic_19</th>\n    </tr>\n  </thead>\n  <tbody>\n    <tr>\n      <th>0</th>\n      <td>u105138</td>\n      <td>0.159162</td>\n      <td>0.439300</td>\n      <td>0.108749</td>\n      <td>0.188209</td>\n      <td>0.404691</td>\n      <td>0.0</td>\n      <td>0.081281</td>\n      <td>0.038397</td>\n      <td>0.183592</td>\n      <td>...</td>\n      <td>0.382358</td>\n      <td>0.314741</td>\n      <td>0.097943</td>\n      <td>0.099520</td>\n      <td>0.088165</td>\n      <td>0.0</td>\n      <td>0.071738</td>\n      <td>0.070717</td>\n      <td>0.476476</td>\n      <td>0.031987</td>\n    </tr>\n    <tr>\n      <th>1</th>\n      <td>u108690</td>\n      <td>0.212141</td>\n      <td>0.108386</td>\n      <td>0.138698</td>\n      <td>0.156313</td>\n      <td>0.396425</td>\n      <td>0.0</td>\n      <td>0.194795</td>\n      <td>0.027999</td>\n      <td>0.601681</td>\n      <td>...</td>\n      <td>0.058026</td>\n      <td>0.416795</td>\n      <td>0.027114</td>\n      <td>0.000000</td>\n      <td>0.044091</td>\n      <td>0.0</td>\n      <td>0.015492</td>\n      <td>0.000000</td>\n      <td>0.163125</td>\n      <td>0.037346</td>\n    </tr>\n    <tr>\n      <th>2</th>\n      <td>u108339</td>\n      <td>0.129406</td>\n      <td>0.045321</td>\n      <td>0.136584</td>\n      <td>0.206527</td>\n      <td>0.152946</td>\n      <td>0.0</td>\n      <td>0.233837</td>\n      <td>0.000000</td>\n      <td>0.429764</td>\n      <td>...</td>\n      <td>0.101319</td>\n      <td>0.311925</td>\n      <td>0.000000</td>\n      <td>0.084851</td>\n      <td>0.067657</td>\n      <td>0.0</td>\n      <td>0.000000</td>\n      <td>0.000000</td>\n      <td>0.205979</td>\n      <td>0.140149</td>\n    </tr>\n  </tbody>\n</table>\n<p>3 rows × 21 columns</p>\n</div>"
     },
     "execution_count": 63,
     "metadata": {},
     "output_type": "execute_result"
    }
   ],
   "source": [
    "user_embeddings = pd.DataFrame([i for i in users['articles'].apply(lambda x: get_user_embedding(x, doc_dict, FUNC))])\n",
    "user_embeddings.columns = [f'topic_{i}' for i in range(N_topic)]\n",
    "user_embeddings['uid'] = users['uid'].values\n",
    "user_embeddings = user_embeddings[['uid']+[f'topic_{i}' for i in range(N_topic)]]\n",
    "user_embeddings.head(3)"
   ],
   "metadata": {
    "collapsed": false,
    "pycharm": {
     "name": "#%%\n"
    }
   }
  },
  {
   "cell_type": "code",
   "execution_count": 64,
   "outputs": [
    {
     "data": {
      "text/plain": "       uid   topic_0   topic_1   topic_2   topic_3   topic_4  topic_5  \\\n0  u105138  0.159162  0.439300  0.108749  0.188209  0.404691      0.0   \n1  u108690  0.212141  0.108386  0.138698  0.156313  0.396425      0.0   \n2  u108339  0.129406  0.045321  0.136584  0.206527  0.152946      0.0   \n\n    topic_6   topic_7   topic_8  ...  topic_11  topic_12  topic_13  topic_14  \\\n0  0.081281  0.038397  0.183592  ...  0.314741  0.097943  0.099520  0.088165   \n1  0.194795  0.027999  0.601681  ...  0.416795  0.027114  0.000000  0.044091   \n2  0.233837  0.000000  0.429764  ...  0.311925  0.000000  0.084851  0.067657   \n\n   topic_15  topic_16  topic_17  topic_18  topic_19  churn  \n0       0.0  0.071738  0.070717  0.476476  0.031987      0  \n1       0.0  0.015492  0.000000  0.163125  0.037346      1  \n2       0.0  0.000000  0.000000  0.205979  0.140149      1  \n\n[3 rows x 22 columns]",
      "text/html": "<div>\n<style scoped>\n    .dataframe tbody tr th:only-of-type {\n        vertical-align: middle;\n    }\n\n    .dataframe tbody tr th {\n        vertical-align: top;\n    }\n\n    .dataframe thead th {\n        text-align: right;\n    }\n</style>\n<table border=\"1\" class=\"dataframe\">\n  <thead>\n    <tr style=\"text-align: right;\">\n      <th></th>\n      <th>uid</th>\n      <th>topic_0</th>\n      <th>topic_1</th>\n      <th>topic_2</th>\n      <th>topic_3</th>\n      <th>topic_4</th>\n      <th>topic_5</th>\n      <th>topic_6</th>\n      <th>topic_7</th>\n      <th>topic_8</th>\n      <th>...</th>\n      <th>topic_11</th>\n      <th>topic_12</th>\n      <th>topic_13</th>\n      <th>topic_14</th>\n      <th>topic_15</th>\n      <th>topic_16</th>\n      <th>topic_17</th>\n      <th>topic_18</th>\n      <th>topic_19</th>\n      <th>churn</th>\n    </tr>\n  </thead>\n  <tbody>\n    <tr>\n      <th>0</th>\n      <td>u105138</td>\n      <td>0.159162</td>\n      <td>0.439300</td>\n      <td>0.108749</td>\n      <td>0.188209</td>\n      <td>0.404691</td>\n      <td>0.0</td>\n      <td>0.081281</td>\n      <td>0.038397</td>\n      <td>0.183592</td>\n      <td>...</td>\n      <td>0.314741</td>\n      <td>0.097943</td>\n      <td>0.099520</td>\n      <td>0.088165</td>\n      <td>0.0</td>\n      <td>0.071738</td>\n      <td>0.070717</td>\n      <td>0.476476</td>\n      <td>0.031987</td>\n      <td>0</td>\n    </tr>\n    <tr>\n      <th>1</th>\n      <td>u108690</td>\n      <td>0.212141</td>\n      <td>0.108386</td>\n      <td>0.138698</td>\n      <td>0.156313</td>\n      <td>0.396425</td>\n      <td>0.0</td>\n      <td>0.194795</td>\n      <td>0.027999</td>\n      <td>0.601681</td>\n      <td>...</td>\n      <td>0.416795</td>\n      <td>0.027114</td>\n      <td>0.000000</td>\n      <td>0.044091</td>\n      <td>0.0</td>\n      <td>0.015492</td>\n      <td>0.000000</td>\n      <td>0.163125</td>\n      <td>0.037346</td>\n      <td>1</td>\n    </tr>\n    <tr>\n      <th>2</th>\n      <td>u108339</td>\n      <td>0.129406</td>\n      <td>0.045321</td>\n      <td>0.136584</td>\n      <td>0.206527</td>\n      <td>0.152946</td>\n      <td>0.0</td>\n      <td>0.233837</td>\n      <td>0.000000</td>\n      <td>0.429764</td>\n      <td>...</td>\n      <td>0.311925</td>\n      <td>0.000000</td>\n      <td>0.084851</td>\n      <td>0.067657</td>\n      <td>0.0</td>\n      <td>0.000000</td>\n      <td>0.000000</td>\n      <td>0.205979</td>\n      <td>0.140149</td>\n      <td>1</td>\n    </tr>\n  </tbody>\n</table>\n<p>3 rows × 22 columns</p>\n</div>"
     },
     "execution_count": 64,
     "metadata": {},
     "output_type": "execute_result"
    }
   ],
   "source": [
    "X = pd.merge(user_embeddings, target, 'left')\n",
    "X.head(3)"
   ],
   "metadata": {
    "collapsed": false,
    "pycharm": {
     "name": "#%%\n"
    }
   }
  },
  {
   "cell_type": "code",
   "execution_count": 66,
   "outputs": [],
   "source": [
    "X_train, X_test, y_train, y_test = train_test_split(X[[f'topic_{i}' for i in range(N_topic)]],\n",
    "                                                    X['churn'], random_state=0)"
   ],
   "metadata": {
    "collapsed": false,
    "pycharm": {
     "name": "#%%\n"
    }
   }
  },
  {
   "cell_type": "code",
   "execution_count": 67,
   "outputs": [
    {
     "data": {
      "text/plain": "LogisticRegression()",
      "text/html": "<style>#sk-container-id-3 {color: black;background-color: white;}#sk-container-id-3 pre{padding: 0;}#sk-container-id-3 div.sk-toggleable {background-color: white;}#sk-container-id-3 label.sk-toggleable__label {cursor: pointer;display: block;width: 100%;margin-bottom: 0;padding: 0.3em;box-sizing: border-box;text-align: center;}#sk-container-id-3 label.sk-toggleable__label-arrow:before {content: \"▸\";float: left;margin-right: 0.25em;color: #696969;}#sk-container-id-3 label.sk-toggleable__label-arrow:hover:before {color: black;}#sk-container-id-3 div.sk-estimator:hover label.sk-toggleable__label-arrow:before {color: black;}#sk-container-id-3 div.sk-toggleable__content {max-height: 0;max-width: 0;overflow: hidden;text-align: left;background-color: #f0f8ff;}#sk-container-id-3 div.sk-toggleable__content pre {margin: 0.2em;color: black;border-radius: 0.25em;background-color: #f0f8ff;}#sk-container-id-3 input.sk-toggleable__control:checked~div.sk-toggleable__content {max-height: 200px;max-width: 100%;overflow: auto;}#sk-container-id-3 input.sk-toggleable__control:checked~label.sk-toggleable__label-arrow:before {content: \"▾\";}#sk-container-id-3 div.sk-estimator input.sk-toggleable__control:checked~label.sk-toggleable__label {background-color: #d4ebff;}#sk-container-id-3 div.sk-label input.sk-toggleable__control:checked~label.sk-toggleable__label {background-color: #d4ebff;}#sk-container-id-3 input.sk-hidden--visually {border: 0;clip: rect(1px 1px 1px 1px);clip: rect(1px, 1px, 1px, 1px);height: 1px;margin: -1px;overflow: hidden;padding: 0;position: absolute;width: 1px;}#sk-container-id-3 div.sk-estimator {font-family: monospace;background-color: #f0f8ff;border: 1px dotted black;border-radius: 0.25em;box-sizing: border-box;margin-bottom: 0.5em;}#sk-container-id-3 div.sk-estimator:hover {background-color: #d4ebff;}#sk-container-id-3 div.sk-parallel-item::after {content: \"\";width: 100%;border-bottom: 1px solid gray;flex-grow: 1;}#sk-container-id-3 div.sk-label:hover label.sk-toggleable__label {background-color: #d4ebff;}#sk-container-id-3 div.sk-serial::before {content: \"\";position: absolute;border-left: 1px solid gray;box-sizing: border-box;top: 0;bottom: 0;left: 50%;z-index: 0;}#sk-container-id-3 div.sk-serial {display: flex;flex-direction: column;align-items: center;background-color: white;padding-right: 0.2em;padding-left: 0.2em;position: relative;}#sk-container-id-3 div.sk-item {position: relative;z-index: 1;}#sk-container-id-3 div.sk-parallel {display: flex;align-items: stretch;justify-content: center;background-color: white;position: relative;}#sk-container-id-3 div.sk-item::before, #sk-container-id-3 div.sk-parallel-item::before {content: \"\";position: absolute;border-left: 1px solid gray;box-sizing: border-box;top: 0;bottom: 0;left: 50%;z-index: -1;}#sk-container-id-3 div.sk-parallel-item {display: flex;flex-direction: column;z-index: 1;position: relative;background-color: white;}#sk-container-id-3 div.sk-parallel-item:first-child::after {align-self: flex-end;width: 50%;}#sk-container-id-3 div.sk-parallel-item:last-child::after {align-self: flex-start;width: 50%;}#sk-container-id-3 div.sk-parallel-item:only-child::after {width: 0;}#sk-container-id-3 div.sk-dashed-wrapped {border: 1px dashed gray;margin: 0 0.4em 0.5em 0.4em;box-sizing: border-box;padding-bottom: 0.4em;background-color: white;}#sk-container-id-3 div.sk-label label {font-family: monospace;font-weight: bold;display: inline-block;line-height: 1.2em;}#sk-container-id-3 div.sk-label-container {text-align: center;}#sk-container-id-3 div.sk-container {/* jupyter's `normalize.less` sets `[hidden] { display: none; }` but bootstrap.min.css set `[hidden] { display: none !important; }` so we also need the `!important` here to be able to override the default hidden behavior on the sphinx rendered scikit-learn.org. See: https://github.com/scikit-learn/scikit-learn/issues/21755 */display: inline-block !important;position: relative;}#sk-container-id-3 div.sk-text-repr-fallback {display: none;}</style><div id=\"sk-container-id-3\" class=\"sk-top-container\"><div class=\"sk-text-repr-fallback\"><pre>LogisticRegression()</pre><b>In a Jupyter environment, please rerun this cell to show the HTML representation or trust the notebook. <br />On GitHub, the HTML representation is unable to render, please try loading this page with nbviewer.org.</b></div><div class=\"sk-container\" hidden><div class=\"sk-item\"><div class=\"sk-estimator sk-toggleable\"><input class=\"sk-toggleable__control sk-hidden--visually\" id=\"sk-estimator-id-3\" type=\"checkbox\" checked><label for=\"sk-estimator-id-3\" class=\"sk-toggleable__label sk-toggleable__label-arrow\">LogisticRegression</label><div class=\"sk-toggleable__content\"><pre>LogisticRegression()</pre></div></div></div></div></div>"
     },
     "execution_count": 67,
     "metadata": {},
     "output_type": "execute_result"
    }
   ],
   "source": [
    "model = LogisticRegression()\n",
    "model.fit(X_train, y_train)"
   ],
   "metadata": {
    "collapsed": false,
    "pycharm": {
     "name": "#%%\n"
    }
   }
  },
  {
   "cell_type": "code",
   "execution_count": 68,
   "outputs": [
    {
     "data": {
      "text/plain": "array([0.05290277, 0.00244221, 0.83658498, 0.20743705, 0.00798451,\n       0.00365163, 0.02978382, 0.00487938, 0.00963826, 0.27515678])"
     },
     "execution_count": 68,
     "metadata": {},
     "output_type": "execute_result"
    }
   ],
   "source": [
    "preds = model.predict_proba(X_test)[:, 1]\n",
    "preds[:10]"
   ],
   "metadata": {
    "collapsed": false,
    "pycharm": {
     "name": "#%%\n"
    }
   }
  },
  {
   "cell_type": "code",
   "execution_count": 69,
   "outputs": [
    {
     "name": "stdout",
     "output_type": "stream",
     "text": [
      "Best Threshold=0.38705257993208303, F-Score=0.750, Precision=0.780, Recall=0.722\n"
     ]
    }
   ],
   "source": [
    "precision, recall, thresholds = precision_recall_curve(y_test, preds)\n",
    "fscore = (2 * precision * recall) / (precision + recall)\n",
    "# locate the index of the largest f score\n",
    "ix = np.argmax(fscore)\n",
    "print(f'Best Threshold={thresholds[ix]}, F-Score={fscore[ix]:.3f}, Precision={precision[ix]:.3f}, Recall={recall[ix]:.3f}')"
   ],
   "metadata": {
    "collapsed": false,
    "pycharm": {
     "name": "#%%\n"
    }
   }
  },
  {
   "cell_type": "code",
   "execution_count": 70,
   "outputs": [
    {
     "data": {
      "text/plain": "0.9688470259898831"
     },
     "execution_count": 70,
     "metadata": {},
     "output_type": "execute_result"
    }
   ],
   "source": [
    "roc_auc = roc_auc_score(y_test, preds)\n",
    "roc_auc"
   ],
   "metadata": {
    "collapsed": false,
    "pycharm": {
     "name": "#%%\n"
    }
   }
  },
  {
   "cell_type": "code",
   "execution_count": 71,
   "outputs": [
    {
     "name": "stderr",
     "output_type": "stream",
     "text": [
      "C:\\Users\\grayni\\AppData\\Local\\Temp\\ipykernel_13756\\1288159249.py:1: FutureWarning: The frame.append method is deprecated and will be removed from pandas in a future version. Use pandas.concat instead.\n",
      "  metrics_df = metrics_df.append({\n"
     ]
    },
    {
     "data": {
      "text/plain": "    model    thresh   F-Score  Precision    Recall   ROC AUC\n0    mean  0.275184  0.759124   0.686469  0.848980  0.970749\n1  median  0.280019  0.759633   0.690000  0.844898  0.969891\n2    amax  0.387053  0.750000   0.779736  0.722449  0.968847",
      "text/html": "<div>\n<style scoped>\n    .dataframe tbody tr th:only-of-type {\n        vertical-align: middle;\n    }\n\n    .dataframe tbody tr th {\n        vertical-align: top;\n    }\n\n    .dataframe thead th {\n        text-align: right;\n    }\n</style>\n<table border=\"1\" class=\"dataframe\">\n  <thead>\n    <tr style=\"text-align: right;\">\n      <th></th>\n      <th>model</th>\n      <th>thresh</th>\n      <th>F-Score</th>\n      <th>Precision</th>\n      <th>Recall</th>\n      <th>ROC AUC</th>\n    </tr>\n  </thead>\n  <tbody>\n    <tr>\n      <th>0</th>\n      <td>mean</td>\n      <td>0.275184</td>\n      <td>0.759124</td>\n      <td>0.686469</td>\n      <td>0.848980</td>\n      <td>0.970749</td>\n    </tr>\n    <tr>\n      <th>1</th>\n      <td>median</td>\n      <td>0.280019</td>\n      <td>0.759633</td>\n      <td>0.690000</td>\n      <td>0.844898</td>\n      <td>0.969891</td>\n    </tr>\n    <tr>\n      <th>2</th>\n      <td>amax</td>\n      <td>0.387053</td>\n      <td>0.750000</td>\n      <td>0.779736</td>\n      <td>0.722449</td>\n      <td>0.968847</td>\n    </tr>\n  </tbody>\n</table>\n</div>"
     },
     "execution_count": 71,
     "metadata": {},
     "output_type": "execute_result"
    }
   ],
   "source": [
    "metrics_df = metrics_df.append({\n",
    "    'model': FUNC.__name__,\n",
    "    'thresh': thresholds[ix],\n",
    "    'F-Score': fscore[ix],\n",
    "    'Precision': precision[ix],\n",
    "    'Recall': recall[ix],\n",
    "    'ROC AUC': roc_auc\n",
    "}, ignore_index=True)\n",
    "\n",
    "metrics_df"
   ],
   "metadata": {
    "collapsed": false,
    "pycharm": {
     "name": "#%%\n"
    }
   }
  },
  {
   "cell_type": "code",
   "execution_count": 72,
   "outputs": [],
   "source": [
    "from sklearn.feature_extraction.text import TfidfVectorizer"
   ],
   "metadata": {
    "collapsed": false,
    "pycharm": {
     "name": "#%%\n"
    }
   }
  },
  {
   "cell_type": "code",
   "execution_count": 73,
   "outputs": [
    {
     "data": {
      "text/plain": "'293672 293328 293001 293622 293126 1852'"
     },
     "execution_count": 73,
     "metadata": {},
     "output_type": "execute_result"
    }
   ],
   "source": [
    "users['articles_str'] = users['articles'].apply(lambda x: x.replace('[','').replace(']', '').replace(',', ''))\n",
    "\n",
    "users['articles_str'].iloc[0]"
   ],
   "metadata": {
    "collapsed": false,
    "pycharm": {
     "name": "#%%\n"
    }
   }
  },
  {
   "cell_type": "code",
   "execution_count": 74,
   "outputs": [
    {
     "data": {
      "text/plain": "TfidfVectorizer()",
      "text/html": "<style>#sk-container-id-4 {color: black;background-color: white;}#sk-container-id-4 pre{padding: 0;}#sk-container-id-4 div.sk-toggleable {background-color: white;}#sk-container-id-4 label.sk-toggleable__label {cursor: pointer;display: block;width: 100%;margin-bottom: 0;padding: 0.3em;box-sizing: border-box;text-align: center;}#sk-container-id-4 label.sk-toggleable__label-arrow:before {content: \"▸\";float: left;margin-right: 0.25em;color: #696969;}#sk-container-id-4 label.sk-toggleable__label-arrow:hover:before {color: black;}#sk-container-id-4 div.sk-estimator:hover label.sk-toggleable__label-arrow:before {color: black;}#sk-container-id-4 div.sk-toggleable__content {max-height: 0;max-width: 0;overflow: hidden;text-align: left;background-color: #f0f8ff;}#sk-container-id-4 div.sk-toggleable__content pre {margin: 0.2em;color: black;border-radius: 0.25em;background-color: #f0f8ff;}#sk-container-id-4 input.sk-toggleable__control:checked~div.sk-toggleable__content {max-height: 200px;max-width: 100%;overflow: auto;}#sk-container-id-4 input.sk-toggleable__control:checked~label.sk-toggleable__label-arrow:before {content: \"▾\";}#sk-container-id-4 div.sk-estimator input.sk-toggleable__control:checked~label.sk-toggleable__label {background-color: #d4ebff;}#sk-container-id-4 div.sk-label input.sk-toggleable__control:checked~label.sk-toggleable__label {background-color: #d4ebff;}#sk-container-id-4 input.sk-hidden--visually {border: 0;clip: rect(1px 1px 1px 1px);clip: rect(1px, 1px, 1px, 1px);height: 1px;margin: -1px;overflow: hidden;padding: 0;position: absolute;width: 1px;}#sk-container-id-4 div.sk-estimator {font-family: monospace;background-color: #f0f8ff;border: 1px dotted black;border-radius: 0.25em;box-sizing: border-box;margin-bottom: 0.5em;}#sk-container-id-4 div.sk-estimator:hover {background-color: #d4ebff;}#sk-container-id-4 div.sk-parallel-item::after {content: \"\";width: 100%;border-bottom: 1px solid gray;flex-grow: 1;}#sk-container-id-4 div.sk-label:hover label.sk-toggleable__label {background-color: #d4ebff;}#sk-container-id-4 div.sk-serial::before {content: \"\";position: absolute;border-left: 1px solid gray;box-sizing: border-box;top: 0;bottom: 0;left: 50%;z-index: 0;}#sk-container-id-4 div.sk-serial {display: flex;flex-direction: column;align-items: center;background-color: white;padding-right: 0.2em;padding-left: 0.2em;position: relative;}#sk-container-id-4 div.sk-item {position: relative;z-index: 1;}#sk-container-id-4 div.sk-parallel {display: flex;align-items: stretch;justify-content: center;background-color: white;position: relative;}#sk-container-id-4 div.sk-item::before, #sk-container-id-4 div.sk-parallel-item::before {content: \"\";position: absolute;border-left: 1px solid gray;box-sizing: border-box;top: 0;bottom: 0;left: 50%;z-index: -1;}#sk-container-id-4 div.sk-parallel-item {display: flex;flex-direction: column;z-index: 1;position: relative;background-color: white;}#sk-container-id-4 div.sk-parallel-item:first-child::after {align-self: flex-end;width: 50%;}#sk-container-id-4 div.sk-parallel-item:last-child::after {align-self: flex-start;width: 50%;}#sk-container-id-4 div.sk-parallel-item:only-child::after {width: 0;}#sk-container-id-4 div.sk-dashed-wrapped {border: 1px dashed gray;margin: 0 0.4em 0.5em 0.4em;box-sizing: border-box;padding-bottom: 0.4em;background-color: white;}#sk-container-id-4 div.sk-label label {font-family: monospace;font-weight: bold;display: inline-block;line-height: 1.2em;}#sk-container-id-4 div.sk-label-container {text-align: center;}#sk-container-id-4 div.sk-container {/* jupyter's `normalize.less` sets `[hidden] { display: none; }` but bootstrap.min.css set `[hidden] { display: none !important; }` so we also need the `!important` here to be able to override the default hidden behavior on the sphinx rendered scikit-learn.org. See: https://github.com/scikit-learn/scikit-learn/issues/21755 */display: inline-block !important;position: relative;}#sk-container-id-4 div.sk-text-repr-fallback {display: none;}</style><div id=\"sk-container-id-4\" class=\"sk-top-container\"><div class=\"sk-text-repr-fallback\"><pre>TfidfVectorizer()</pre><b>In a Jupyter environment, please rerun this cell to show the HTML representation or trust the notebook. <br />On GitHub, the HTML representation is unable to render, please try loading this page with nbviewer.org.</b></div><div class=\"sk-container\" hidden><div class=\"sk-item\"><div class=\"sk-estimator sk-toggleable\"><input class=\"sk-toggleable__control sk-hidden--visually\" id=\"sk-estimator-id-4\" type=\"checkbox\" checked><label for=\"sk-estimator-id-4\" class=\"sk-toggleable__label sk-toggleable__label-arrow\">TfidfVectorizer</label><div class=\"sk-toggleable__content\"><pre>TfidfVectorizer()</pre></div></div></div></div></div>"
     },
     "execution_count": 74,
     "metadata": {},
     "output_type": "execute_result"
    }
   ],
   "source": [
    "tfidf = TfidfVectorizer()\n",
    "tfidf.fit(users['articles_str'])"
   ],
   "metadata": {
    "collapsed": false,
    "pycharm": {
     "name": "#%%\n"
    }
   }
  },
  {
   "cell_type": "code",
   "execution_count": 75,
   "outputs": [
    {
     "data": {
      "text/plain": "      article_id       idf\n0             10  8.888710\n1            100  7.907880\n2           1000  8.041412\n3           1001  8.888710\n4           1002  8.888710\n...          ...       ...\n14776        995  8.377884\n14777        996  8.195562\n14778        997  8.601027\n14779        998  9.294175\n14780        999  8.601027\n\n[14781 rows x 2 columns]",
      "text/html": "<div>\n<style scoped>\n    .dataframe tbody tr th:only-of-type {\n        vertical-align: middle;\n    }\n\n    .dataframe tbody tr th {\n        vertical-align: top;\n    }\n\n    .dataframe thead th {\n        text-align: right;\n    }\n</style>\n<table border=\"1\" class=\"dataframe\">\n  <thead>\n    <tr style=\"text-align: right;\">\n      <th></th>\n      <th>article_id</th>\n      <th>idf</th>\n    </tr>\n  </thead>\n  <tbody>\n    <tr>\n      <th>0</th>\n      <td>10</td>\n      <td>8.888710</td>\n    </tr>\n    <tr>\n      <th>1</th>\n      <td>100</td>\n      <td>7.907880</td>\n    </tr>\n    <tr>\n      <th>2</th>\n      <td>1000</td>\n      <td>8.041412</td>\n    </tr>\n    <tr>\n      <th>3</th>\n      <td>1001</td>\n      <td>8.888710</td>\n    </tr>\n    <tr>\n      <th>4</th>\n      <td>1002</td>\n      <td>8.888710</td>\n    </tr>\n    <tr>\n      <th>...</th>\n      <td>...</td>\n      <td>...</td>\n    </tr>\n    <tr>\n      <th>14776</th>\n      <td>995</td>\n      <td>8.377884</td>\n    </tr>\n    <tr>\n      <th>14777</th>\n      <td>996</td>\n      <td>8.195562</td>\n    </tr>\n    <tr>\n      <th>14778</th>\n      <td>997</td>\n      <td>8.601027</td>\n    </tr>\n    <tr>\n      <th>14779</th>\n      <td>998</td>\n      <td>9.294175</td>\n    </tr>\n    <tr>\n      <th>14780</th>\n      <td>999</td>\n      <td>8.601027</td>\n    </tr>\n  </tbody>\n</table>\n<p>14781 rows × 2 columns</p>\n</div>"
     },
     "execution_count": 75,
     "metadata": {},
     "output_type": "execute_result"
    }
   ],
   "source": [
    "idf = pd.DataFrame({'article_id': tfidf.get_feature_names_out(),\n",
    "                    'idf': tfidf.idf_})\n",
    "\n",
    "idf"
   ],
   "metadata": {
    "collapsed": false,
    "pycharm": {
     "name": "#%%\n"
    }
   }
  },
  {
   "cell_type": "code",
   "execution_count": 77,
   "outputs": [],
   "source": [
    "def get_user_embedding_idf(user_articles_list, doc_dict):\n",
    "    user_articles_list = eval(user_articles_list)\n",
    "\n",
    "    user_vector = np.zeros((len(user_articles_list), N_topic))\n",
    "    for i, doc_id in enumerate(user_articles_list):\n",
    "        try:\n",
    "            weight = idf[idf['article_id'] == str(doc_id)]['idf'].values[0]\n",
    "        except Exception as e:\n",
    "            weight = 0\n",
    "        user_vector[i] = doc_dict[doc_id] * weight\n",
    "\n",
    "    user_vector = np.median(user_vector, axis=0)\n",
    "    return user_vector"
   ],
   "metadata": {
    "collapsed": false,
    "pycharm": {
     "name": "#%%\n"
    }
   }
  },
  {
   "cell_type": "code",
   "execution_count": 78,
   "outputs": [
    {
     "name": "stderr",
     "output_type": "stream",
     "text": [
      "100%|██████████| 8000/8000 [00:47<00:00, 167.17it/s]\n"
     ]
    },
    {
     "data": {
      "text/plain": "       uid  topic_0   topic_1   topic_2   topic_3   topic_4  topic_5  \\\n0  u105138  0.00000  0.153219  0.000000  0.052194  0.289490      0.0   \n1  u108690  0.00000  0.000000  0.225908  0.000000  1.332825      0.0   \n2  u108339  0.82659  0.000000  0.096009  0.112939  0.629317      0.0   \n\n    topic_6  topic_7   topic_8  ...  topic_10  topic_11  topic_12  topic_13  \\\n0  0.000000      0.0  0.000000  ...  0.803871  1.459580       0.0  0.190252   \n1  0.245006      0.0  1.946164  ...  0.306013  1.201056       0.0  0.000000   \n2  0.131799      0.0  1.197672  ...  0.296091  2.103434       0.0  0.361193   \n\n   topic_14  topic_15  topic_16  topic_17  topic_18  topic_19  \n0  0.000000       0.0       0.0       0.0  1.676322  0.000000  \n1  0.055576       0.0       0.0       0.0  0.303967  0.074662  \n2  0.299243       0.0       0.0       0.0  0.095200  0.623040  \n\n[3 rows x 21 columns]",
      "text/html": "<div>\n<style scoped>\n    .dataframe tbody tr th:only-of-type {\n        vertical-align: middle;\n    }\n\n    .dataframe tbody tr th {\n        vertical-align: top;\n    }\n\n    .dataframe thead th {\n        text-align: right;\n    }\n</style>\n<table border=\"1\" class=\"dataframe\">\n  <thead>\n    <tr style=\"text-align: right;\">\n      <th></th>\n      <th>uid</th>\n      <th>topic_0</th>\n      <th>topic_1</th>\n      <th>topic_2</th>\n      <th>topic_3</th>\n      <th>topic_4</th>\n      <th>topic_5</th>\n      <th>topic_6</th>\n      <th>topic_7</th>\n      <th>topic_8</th>\n      <th>...</th>\n      <th>topic_10</th>\n      <th>topic_11</th>\n      <th>topic_12</th>\n      <th>topic_13</th>\n      <th>topic_14</th>\n      <th>topic_15</th>\n      <th>topic_16</th>\n      <th>topic_17</th>\n      <th>topic_18</th>\n      <th>topic_19</th>\n    </tr>\n  </thead>\n  <tbody>\n    <tr>\n      <th>0</th>\n      <td>u105138</td>\n      <td>0.00000</td>\n      <td>0.153219</td>\n      <td>0.000000</td>\n      <td>0.052194</td>\n      <td>0.289490</td>\n      <td>0.0</td>\n      <td>0.000000</td>\n      <td>0.0</td>\n      <td>0.000000</td>\n      <td>...</td>\n      <td>0.803871</td>\n      <td>1.459580</td>\n      <td>0.0</td>\n      <td>0.190252</td>\n      <td>0.000000</td>\n      <td>0.0</td>\n      <td>0.0</td>\n      <td>0.0</td>\n      <td>1.676322</td>\n      <td>0.000000</td>\n    </tr>\n    <tr>\n      <th>1</th>\n      <td>u108690</td>\n      <td>0.00000</td>\n      <td>0.000000</td>\n      <td>0.225908</td>\n      <td>0.000000</td>\n      <td>1.332825</td>\n      <td>0.0</td>\n      <td>0.245006</td>\n      <td>0.0</td>\n      <td>1.946164</td>\n      <td>...</td>\n      <td>0.306013</td>\n      <td>1.201056</td>\n      <td>0.0</td>\n      <td>0.000000</td>\n      <td>0.055576</td>\n      <td>0.0</td>\n      <td>0.0</td>\n      <td>0.0</td>\n      <td>0.303967</td>\n      <td>0.074662</td>\n    </tr>\n    <tr>\n      <th>2</th>\n      <td>u108339</td>\n      <td>0.82659</td>\n      <td>0.000000</td>\n      <td>0.096009</td>\n      <td>0.112939</td>\n      <td>0.629317</td>\n      <td>0.0</td>\n      <td>0.131799</td>\n      <td>0.0</td>\n      <td>1.197672</td>\n      <td>...</td>\n      <td>0.296091</td>\n      <td>2.103434</td>\n      <td>0.0</td>\n      <td>0.361193</td>\n      <td>0.299243</td>\n      <td>0.0</td>\n      <td>0.0</td>\n      <td>0.0</td>\n      <td>0.095200</td>\n      <td>0.623040</td>\n    </tr>\n  </tbody>\n</table>\n<p>3 rows × 21 columns</p>\n</div>"
     },
     "execution_count": 78,
     "metadata": {},
     "output_type": "execute_result"
    }
   ],
   "source": [
    "from tqdm import tqdm\n",
    "tqdm.pandas()\n",
    "\n",
    "user_embeddings = pd.DataFrame([i for i in users['articles'].progress_apply(lambda x: get_user_embedding_idf(x, doc_dict))])\n",
    "user_embeddings.columns = [f'topic_{i}' for i in range(N_topic)]\n",
    "user_embeddings['uid'] = users['uid'].values\n",
    "user_embeddings = user_embeddings[['uid']+[f'topic_{i}' for i in range(N_topic)]]\n",
    "user_embeddings.head(3)"
   ],
   "metadata": {
    "collapsed": false,
    "pycharm": {
     "name": "#%%\n"
    }
   }
  },
  {
   "cell_type": "code",
   "execution_count": 79,
   "outputs": [
    {
     "data": {
      "text/plain": "       uid  topic_0   topic_1   topic_2   topic_3   topic_4  topic_5  \\\n0  u105138  0.00000  0.153219  0.000000  0.052194  0.289490      0.0   \n1  u108690  0.00000  0.000000  0.225908  0.000000  1.332825      0.0   \n2  u108339  0.82659  0.000000  0.096009  0.112939  0.629317      0.0   \n\n    topic_6  topic_7   topic_8  ...  topic_11  topic_12  topic_13  topic_14  \\\n0  0.000000      0.0  0.000000  ...  1.459580       0.0  0.190252  0.000000   \n1  0.245006      0.0  1.946164  ...  1.201056       0.0  0.000000  0.055576   \n2  0.131799      0.0  1.197672  ...  2.103434       0.0  0.361193  0.299243   \n\n   topic_15  topic_16  topic_17  topic_18  topic_19  churn  \n0       0.0       0.0       0.0  1.676322  0.000000      0  \n1       0.0       0.0       0.0  0.303967  0.074662      1  \n2       0.0       0.0       0.0  0.095200  0.623040      1  \n\n[3 rows x 22 columns]",
      "text/html": "<div>\n<style scoped>\n    .dataframe tbody tr th:only-of-type {\n        vertical-align: middle;\n    }\n\n    .dataframe tbody tr th {\n        vertical-align: top;\n    }\n\n    .dataframe thead th {\n        text-align: right;\n    }\n</style>\n<table border=\"1\" class=\"dataframe\">\n  <thead>\n    <tr style=\"text-align: right;\">\n      <th></th>\n      <th>uid</th>\n      <th>topic_0</th>\n      <th>topic_1</th>\n      <th>topic_2</th>\n      <th>topic_3</th>\n      <th>topic_4</th>\n      <th>topic_5</th>\n      <th>topic_6</th>\n      <th>topic_7</th>\n      <th>topic_8</th>\n      <th>...</th>\n      <th>topic_11</th>\n      <th>topic_12</th>\n      <th>topic_13</th>\n      <th>topic_14</th>\n      <th>topic_15</th>\n      <th>topic_16</th>\n      <th>topic_17</th>\n      <th>topic_18</th>\n      <th>topic_19</th>\n      <th>churn</th>\n    </tr>\n  </thead>\n  <tbody>\n    <tr>\n      <th>0</th>\n      <td>u105138</td>\n      <td>0.00000</td>\n      <td>0.153219</td>\n      <td>0.000000</td>\n      <td>0.052194</td>\n      <td>0.289490</td>\n      <td>0.0</td>\n      <td>0.000000</td>\n      <td>0.0</td>\n      <td>0.000000</td>\n      <td>...</td>\n      <td>1.459580</td>\n      <td>0.0</td>\n      <td>0.190252</td>\n      <td>0.000000</td>\n      <td>0.0</td>\n      <td>0.0</td>\n      <td>0.0</td>\n      <td>1.676322</td>\n      <td>0.000000</td>\n      <td>0</td>\n    </tr>\n    <tr>\n      <th>1</th>\n      <td>u108690</td>\n      <td>0.00000</td>\n      <td>0.000000</td>\n      <td>0.225908</td>\n      <td>0.000000</td>\n      <td>1.332825</td>\n      <td>0.0</td>\n      <td>0.245006</td>\n      <td>0.0</td>\n      <td>1.946164</td>\n      <td>...</td>\n      <td>1.201056</td>\n      <td>0.0</td>\n      <td>0.000000</td>\n      <td>0.055576</td>\n      <td>0.0</td>\n      <td>0.0</td>\n      <td>0.0</td>\n      <td>0.303967</td>\n      <td>0.074662</td>\n      <td>1</td>\n    </tr>\n    <tr>\n      <th>2</th>\n      <td>u108339</td>\n      <td>0.82659</td>\n      <td>0.000000</td>\n      <td>0.096009</td>\n      <td>0.112939</td>\n      <td>0.629317</td>\n      <td>0.0</td>\n      <td>0.131799</td>\n      <td>0.0</td>\n      <td>1.197672</td>\n      <td>...</td>\n      <td>2.103434</td>\n      <td>0.0</td>\n      <td>0.361193</td>\n      <td>0.299243</td>\n      <td>0.0</td>\n      <td>0.0</td>\n      <td>0.0</td>\n      <td>0.095200</td>\n      <td>0.623040</td>\n      <td>1</td>\n    </tr>\n  </tbody>\n</table>\n<p>3 rows × 22 columns</p>\n</div>"
     },
     "execution_count": 79,
     "metadata": {},
     "output_type": "execute_result"
    }
   ],
   "source": [
    "X = pd.merge(user_embeddings, target, 'left')\n",
    "X.head(3)"
   ],
   "metadata": {
    "collapsed": false,
    "pycharm": {
     "name": "#%%\n"
    }
   }
  },
  {
   "cell_type": "code",
   "execution_count": 81,
   "outputs": [],
   "source": [
    "X_train, X_test, y_train, y_test = train_test_split(X[[f'topic_{i}' for i in range(N_topic)]],\n",
    "                                                    X['churn'], random_state=0)"
   ],
   "metadata": {
    "collapsed": false,
    "pycharm": {
     "name": "#%%\n"
    }
   }
  },
  {
   "cell_type": "code",
   "execution_count": 82,
   "outputs": [
    {
     "data": {
      "text/plain": "LogisticRegression()",
      "text/html": "<style>#sk-container-id-5 {color: black;background-color: white;}#sk-container-id-5 pre{padding: 0;}#sk-container-id-5 div.sk-toggleable {background-color: white;}#sk-container-id-5 label.sk-toggleable__label {cursor: pointer;display: block;width: 100%;margin-bottom: 0;padding: 0.3em;box-sizing: border-box;text-align: center;}#sk-container-id-5 label.sk-toggleable__label-arrow:before {content: \"▸\";float: left;margin-right: 0.25em;color: #696969;}#sk-container-id-5 label.sk-toggleable__label-arrow:hover:before {color: black;}#sk-container-id-5 div.sk-estimator:hover label.sk-toggleable__label-arrow:before {color: black;}#sk-container-id-5 div.sk-toggleable__content {max-height: 0;max-width: 0;overflow: hidden;text-align: left;background-color: #f0f8ff;}#sk-container-id-5 div.sk-toggleable__content pre {margin: 0.2em;color: black;border-radius: 0.25em;background-color: #f0f8ff;}#sk-container-id-5 input.sk-toggleable__control:checked~div.sk-toggleable__content {max-height: 200px;max-width: 100%;overflow: auto;}#sk-container-id-5 input.sk-toggleable__control:checked~label.sk-toggleable__label-arrow:before {content: \"▾\";}#sk-container-id-5 div.sk-estimator input.sk-toggleable__control:checked~label.sk-toggleable__label {background-color: #d4ebff;}#sk-container-id-5 div.sk-label input.sk-toggleable__control:checked~label.sk-toggleable__label {background-color: #d4ebff;}#sk-container-id-5 input.sk-hidden--visually {border: 0;clip: rect(1px 1px 1px 1px);clip: rect(1px, 1px, 1px, 1px);height: 1px;margin: -1px;overflow: hidden;padding: 0;position: absolute;width: 1px;}#sk-container-id-5 div.sk-estimator {font-family: monospace;background-color: #f0f8ff;border: 1px dotted black;border-radius: 0.25em;box-sizing: border-box;margin-bottom: 0.5em;}#sk-container-id-5 div.sk-estimator:hover {background-color: #d4ebff;}#sk-container-id-5 div.sk-parallel-item::after {content: \"\";width: 100%;border-bottom: 1px solid gray;flex-grow: 1;}#sk-container-id-5 div.sk-label:hover label.sk-toggleable__label {background-color: #d4ebff;}#sk-container-id-5 div.sk-serial::before {content: \"\";position: absolute;border-left: 1px solid gray;box-sizing: border-box;top: 0;bottom: 0;left: 50%;z-index: 0;}#sk-container-id-5 div.sk-serial {display: flex;flex-direction: column;align-items: center;background-color: white;padding-right: 0.2em;padding-left: 0.2em;position: relative;}#sk-container-id-5 div.sk-item {position: relative;z-index: 1;}#sk-container-id-5 div.sk-parallel {display: flex;align-items: stretch;justify-content: center;background-color: white;position: relative;}#sk-container-id-5 div.sk-item::before, #sk-container-id-5 div.sk-parallel-item::before {content: \"\";position: absolute;border-left: 1px solid gray;box-sizing: border-box;top: 0;bottom: 0;left: 50%;z-index: -1;}#sk-container-id-5 div.sk-parallel-item {display: flex;flex-direction: column;z-index: 1;position: relative;background-color: white;}#sk-container-id-5 div.sk-parallel-item:first-child::after {align-self: flex-end;width: 50%;}#sk-container-id-5 div.sk-parallel-item:last-child::after {align-self: flex-start;width: 50%;}#sk-container-id-5 div.sk-parallel-item:only-child::after {width: 0;}#sk-container-id-5 div.sk-dashed-wrapped {border: 1px dashed gray;margin: 0 0.4em 0.5em 0.4em;box-sizing: border-box;padding-bottom: 0.4em;background-color: white;}#sk-container-id-5 div.sk-label label {font-family: monospace;font-weight: bold;display: inline-block;line-height: 1.2em;}#sk-container-id-5 div.sk-label-container {text-align: center;}#sk-container-id-5 div.sk-container {/* jupyter's `normalize.less` sets `[hidden] { display: none; }` but bootstrap.min.css set `[hidden] { display: none !important; }` so we also need the `!important` here to be able to override the default hidden behavior on the sphinx rendered scikit-learn.org. See: https://github.com/scikit-learn/scikit-learn/issues/21755 */display: inline-block !important;position: relative;}#sk-container-id-5 div.sk-text-repr-fallback {display: none;}</style><div id=\"sk-container-id-5\" class=\"sk-top-container\"><div class=\"sk-text-repr-fallback\"><pre>LogisticRegression()</pre><b>In a Jupyter environment, please rerun this cell to show the HTML representation or trust the notebook. <br />On GitHub, the HTML representation is unable to render, please try loading this page with nbviewer.org.</b></div><div class=\"sk-container\" hidden><div class=\"sk-item\"><div class=\"sk-estimator sk-toggleable\"><input class=\"sk-toggleable__control sk-hidden--visually\" id=\"sk-estimator-id-5\" type=\"checkbox\" checked><label for=\"sk-estimator-id-5\" class=\"sk-toggleable__label sk-toggleable__label-arrow\">LogisticRegression</label><div class=\"sk-toggleable__content\"><pre>LogisticRegression()</pre></div></div></div></div></div>"
     },
     "execution_count": 82,
     "metadata": {},
     "output_type": "execute_result"
    }
   ],
   "source": [
    "model = LogisticRegression()\n",
    "model.fit(X_train, y_train)"
   ],
   "metadata": {
    "collapsed": false,
    "pycharm": {
     "name": "#%%\n"
    }
   }
  },
  {
   "cell_type": "code",
   "execution_count": 83,
   "outputs": [
    {
     "data": {
      "text/plain": "array([1.14320246e-02, 1.28832784e-04, 9.63364573e-01, 1.56180150e-01,\n       3.22632822e-04, 2.31946895e-04, 1.78272113e-01, 8.80492753e-04,\n       1.81616140e-03, 1.32141922e-01])"
     },
     "execution_count": 83,
     "metadata": {},
     "output_type": "execute_result"
    }
   ],
   "source": [
    "preds = model.predict_proba(X_test)[:, 1]\n",
    "preds[:10]"
   ],
   "metadata": {
    "collapsed": false,
    "pycharm": {
     "name": "#%%\n"
    }
   }
  },
  {
   "cell_type": "code",
   "execution_count": 84,
   "outputs": [
    {
     "name": "stdout",
     "output_type": "stream",
     "text": [
      "Best Threshold=0.508834867536842, F-Score=0.886, Precision=0.899, Recall=0.873\n"
     ]
    }
   ],
   "source": [
    "precision, recall, thresholds = precision_recall_curve(y_test, preds)\n",
    "fscore = (2 * precision * recall) / (precision + recall)\n",
    "# locate the index of the largest f score\n",
    "ix = np.argmax(fscore)\n",
    "print(f'Best Threshold={thresholds[ix]}, F-Score={fscore[ix]:.3f}, Precision={precision[ix]:.3f}, Recall={recall[ix]:.3f}')"
   ],
   "metadata": {
    "collapsed": false,
    "pycharm": {
     "name": "#%%\n"
    }
   }
  },
  {
   "cell_type": "code",
   "execution_count": 85,
   "outputs": [
    {
     "data": {
      "text/plain": "0.9901482644339787"
     },
     "execution_count": 85,
     "metadata": {},
     "output_type": "execute_result"
    }
   ],
   "source": [
    "roc_auc = roc_auc_score(y_test, preds)\n",
    "roc_auc"
   ],
   "metadata": {
    "collapsed": false,
    "pycharm": {
     "name": "#%%\n"
    }
   }
  },
  {
   "cell_type": "code",
   "execution_count": 86,
   "outputs": [
    {
     "name": "stderr",
     "output_type": "stream",
     "text": [
      "C:\\Users\\grayni\\AppData\\Local\\Temp\\ipykernel_13756\\1015548053.py:1: FutureWarning: The frame.append method is deprecated and will be removed from pandas in a future version. Use pandas.concat instead.\n",
      "  metrics_df = metrics_df.append({\n"
     ]
    }
   ],
   "source": [
    "metrics_df = metrics_df.append({\n",
    "    'model': 'idf_median',\n",
    "    'thresh': thresholds[ix],\n",
    "    'F-Score': fscore[ix],\n",
    "    'Precision': precision[ix],\n",
    "    'Recall': recall[ix],\n",
    "    'ROC AUC': roc_auc\n",
    "}, ignore_index=True)"
   ],
   "metadata": {
    "collapsed": false,
    "pycharm": {
     "name": "#%%\n"
    }
   }
  },
  {
   "cell_type": "code",
   "execution_count": 87,
   "outputs": [
    {
     "data": {
      "text/plain": "        model    thresh   F-Score  Precision    Recall   ROC AUC\n0        mean  0.275184  0.759124   0.686469  0.848980  0.970749\n1      median  0.280019  0.759633   0.690000  0.844898  0.969891\n2        amax  0.387053  0.750000   0.779736  0.722449  0.968847\n3  idf_median  0.508835  0.886128   0.899160  0.873469  0.990148",
      "text/html": "<div>\n<style scoped>\n    .dataframe tbody tr th:only-of-type {\n        vertical-align: middle;\n    }\n\n    .dataframe tbody tr th {\n        vertical-align: top;\n    }\n\n    .dataframe thead th {\n        text-align: right;\n    }\n</style>\n<table border=\"1\" class=\"dataframe\">\n  <thead>\n    <tr style=\"text-align: right;\">\n      <th></th>\n      <th>model</th>\n      <th>thresh</th>\n      <th>F-Score</th>\n      <th>Precision</th>\n      <th>Recall</th>\n      <th>ROC AUC</th>\n    </tr>\n  </thead>\n  <tbody>\n    <tr>\n      <th>0</th>\n      <td>mean</td>\n      <td>0.275184</td>\n      <td>0.759124</td>\n      <td>0.686469</td>\n      <td>0.848980</td>\n      <td>0.970749</td>\n    </tr>\n    <tr>\n      <th>1</th>\n      <td>median</td>\n      <td>0.280019</td>\n      <td>0.759633</td>\n      <td>0.690000</td>\n      <td>0.844898</td>\n      <td>0.969891</td>\n    </tr>\n    <tr>\n      <th>2</th>\n      <td>amax</td>\n      <td>0.387053</td>\n      <td>0.750000</td>\n      <td>0.779736</td>\n      <td>0.722449</td>\n      <td>0.968847</td>\n    </tr>\n    <tr>\n      <th>3</th>\n      <td>idf_median</td>\n      <td>0.508835</td>\n      <td>0.886128</td>\n      <td>0.899160</td>\n      <td>0.873469</td>\n      <td>0.990148</td>\n    </tr>\n  </tbody>\n</table>\n</div>"
     },
     "execution_count": 87,
     "metadata": {},
     "output_type": "execute_result"
    }
   ],
   "source": [
    "metrics_df"
   ],
   "metadata": {
    "collapsed": false,
    "pycharm": {
     "name": "#%%\n"
    }
   }
  },
  {
   "cell_type": "code",
   "execution_count": null,
   "outputs": [],
   "source": [],
   "metadata": {
    "collapsed": false,
    "pycharm": {
     "name": "#%%\n"
    }
   }
  }
 ],
 "metadata": {
  "kernelspec": {
   "display_name": "Python 3",
   "language": "python",
   "name": "python3"
  },
  "language_info": {
   "codemirror_mode": {
    "name": "ipython",
    "version": 2
   },
   "file_extension": ".py",
   "mimetype": "text/x-python",
   "name": "python",
   "nbconvert_exporter": "python",
   "pygments_lexer": "ipython2",
   "version": "2.7.6"
  }
 },
 "nbformat": 4,
 "nbformat_minor": 0
}