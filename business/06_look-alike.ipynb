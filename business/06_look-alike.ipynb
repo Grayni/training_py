{
 "cells": [
  {
   "cell_type": "code",
   "execution_count": 39,
   "metadata": {
    "collapsed": true
   },
   "outputs": [],
   "source": [
    "import pandas as pd\n",
    "import numpy as np\n",
    "from sklearn.pipeline import Pipeline, make_pipeline\n",
    "from sklearn.base import BaseEstimator, TransformerMixin\n",
    "from sklearn.linear_model import LogisticRegression\n",
    "from sklearn.model_selection import train_test_split\n",
    "import itertools\n",
    "\n",
    "import matplotlib.pyplot as plt\n",
    "\n",
    "%matplotlib inline"
   ]
  },
  {
   "cell_type": "code",
   "execution_count": 40,
   "outputs": [
    {
     "data": {
      "text/plain": "   RowNumber  CustomerId   Surname  CreditScore Geography  Gender  Age  \\\n0          1    15634602  Hargrave          619    France  Female   42   \n1          2    15647311      Hill          608     Spain  Female   41   \n2          3    15619304      Onio          502    France  Female   42   \n\n   Tenure    Balance  NumOfProducts  HasCrCard  IsActiveMember  \\\n0       2       0.00              1          1               1   \n1       1   83807.86              1          0               1   \n2       8  159660.80              3          1               0   \n\n   EstimatedSalary  Exited  \n0        101348.88       1  \n1        112542.58       0  \n2        113931.57       1  ",
      "text/html": "<div>\n<style scoped>\n    .dataframe tbody tr th:only-of-type {\n        vertical-align: middle;\n    }\n\n    .dataframe tbody tr th {\n        vertical-align: top;\n    }\n\n    .dataframe thead th {\n        text-align: right;\n    }\n</style>\n<table border=\"1\" class=\"dataframe\">\n  <thead>\n    <tr style=\"text-align: right;\">\n      <th></th>\n      <th>RowNumber</th>\n      <th>CustomerId</th>\n      <th>Surname</th>\n      <th>CreditScore</th>\n      <th>Geography</th>\n      <th>Gender</th>\n      <th>Age</th>\n      <th>Tenure</th>\n      <th>Balance</th>\n      <th>NumOfProducts</th>\n      <th>HasCrCard</th>\n      <th>IsActiveMember</th>\n      <th>EstimatedSalary</th>\n      <th>Exited</th>\n    </tr>\n  </thead>\n  <tbody>\n    <tr>\n      <th>0</th>\n      <td>1</td>\n      <td>15634602</td>\n      <td>Hargrave</td>\n      <td>619</td>\n      <td>France</td>\n      <td>Female</td>\n      <td>42</td>\n      <td>2</td>\n      <td>0.00</td>\n      <td>1</td>\n      <td>1</td>\n      <td>1</td>\n      <td>101348.88</td>\n      <td>1</td>\n    </tr>\n    <tr>\n      <th>1</th>\n      <td>2</td>\n      <td>15647311</td>\n      <td>Hill</td>\n      <td>608</td>\n      <td>Spain</td>\n      <td>Female</td>\n      <td>41</td>\n      <td>1</td>\n      <td>83807.86</td>\n      <td>1</td>\n      <td>0</td>\n      <td>1</td>\n      <td>112542.58</td>\n      <td>0</td>\n    </tr>\n    <tr>\n      <th>2</th>\n      <td>3</td>\n      <td>15619304</td>\n      <td>Onio</td>\n      <td>502</td>\n      <td>France</td>\n      <td>Female</td>\n      <td>42</td>\n      <td>8</td>\n      <td>159660.80</td>\n      <td>3</td>\n      <td>1</td>\n      <td>0</td>\n      <td>113931.57</td>\n      <td>1</td>\n    </tr>\n  </tbody>\n</table>\n</div>"
     },
     "execution_count": 40,
     "metadata": {},
     "output_type": "execute_result"
    }
   ],
   "source": [
    "df = pd.read_csv(\"data/churn_data.csv\")\n",
    "df.head(3)"
   ],
   "metadata": {
    "collapsed": false,
    "pycharm": {
     "name": "#%%\n"
    }
   }
  },
  {
   "cell_type": "code",
   "execution_count": 41,
   "outputs": [
    {
     "data": {
      "text/plain": "0    7963\n1    2037\nName: Exited, dtype: int64"
     },
     "execution_count": 41,
     "metadata": {},
     "output_type": "execute_result"
    }
   ],
   "source": [
    "df['Exited'].value_counts()"
   ],
   "metadata": {
    "collapsed": false,
    "pycharm": {
     "name": "#%%\n"
    }
   }
  },
  {
   "cell_type": "code",
   "execution_count": 42,
   "outputs": [],
   "source": [
    "# train/test\n",
    "X_train, X_test, y_train, y_test = train_test_split(df.drop(columns=['Exited']), df['Exited'], random_state=0)"
   ],
   "metadata": {
    "collapsed": false,
    "pycharm": {
     "name": "#%%\n"
    }
   }
  },
  {
   "cell_type": "code",
   "execution_count": 43,
   "outputs": [],
   "source": [
    "class FeatureSelector(BaseEstimator, TransformerMixin):\n",
    "    def __init__(self, column):\n",
    "        self.column = column\n",
    "\n",
    "    def fit(self, X, y=None):\n",
    "        return self\n",
    "\n",
    "    def transform(self, X, y=None):\n",
    "        return X[self.column]\n",
    "\n",
    "\n",
    "class NumberSelector(BaseEstimator, TransformerMixin):\n",
    "    \"\"\"\n",
    "    Transformer to select a single column from the data frame to perform additional transformations on\n",
    "    Use on numeric columns in the data\n",
    "    \"\"\"\n",
    "    def __init__(self, key):\n",
    "        self.key = key\n",
    "\n",
    "    def fit(self, X, y=None):\n",
    "        return self\n",
    "\n",
    "    def transform(self, X):\n",
    "        return X[[self.key]]\n",
    "\n",
    "\n",
    "class OHEEncoder(BaseEstimator, TransformerMixin):\n",
    "    def __init__(self, key):\n",
    "        self.key = key\n",
    "        self.columns = []\n",
    "\n",
    "    def fit(self, X, y=None):\n",
    "        self.columns = [col for col in pd.get_dummies(X, prefix=self.key).columns]\n",
    "        return self\n",
    "\n",
    "    def transform(self, X):\n",
    "        X = pd.get_dummies(X, prefix=self.key)\n",
    "        test_columns = [col for col in X.columns]\n",
    "\n",
    "        for col_ in self.columns:\n",
    "            if col_ not in test_columns:\n",
    "                X[col_] = 0\n",
    "        return X[self.columns]"
   ],
   "metadata": {
    "collapsed": false,
    "pycharm": {
     "name": "#%%\n"
    }
   }
  },
  {
   "cell_type": "code",
   "execution_count": 44,
   "outputs": [
    {
     "data": {
      "text/plain": "   RowNumber  CustomerId   Surname  CreditScore Geography  Gender  Age  \\\n0          1    15634602  Hargrave          619    France  Female   42   \n1          2    15647311      Hill          608     Spain  Female   41   \n2          3    15619304      Onio          502    France  Female   42   \n\n   Tenure    Balance  NumOfProducts  HasCrCard  IsActiveMember  \\\n0       2       0.00              1          1               1   \n1       1   83807.86              1          0               1   \n2       8  159660.80              3          1               0   \n\n   EstimatedSalary  Exited  \n0        101348.88       1  \n1        112542.58       0  \n2        113931.57       1  ",
      "text/html": "<div>\n<style scoped>\n    .dataframe tbody tr th:only-of-type {\n        vertical-align: middle;\n    }\n\n    .dataframe tbody tr th {\n        vertical-align: top;\n    }\n\n    .dataframe thead th {\n        text-align: right;\n    }\n</style>\n<table border=\"1\" class=\"dataframe\">\n  <thead>\n    <tr style=\"text-align: right;\">\n      <th></th>\n      <th>RowNumber</th>\n      <th>CustomerId</th>\n      <th>Surname</th>\n      <th>CreditScore</th>\n      <th>Geography</th>\n      <th>Gender</th>\n      <th>Age</th>\n      <th>Tenure</th>\n      <th>Balance</th>\n      <th>NumOfProducts</th>\n      <th>HasCrCard</th>\n      <th>IsActiveMember</th>\n      <th>EstimatedSalary</th>\n      <th>Exited</th>\n    </tr>\n  </thead>\n  <tbody>\n    <tr>\n      <th>0</th>\n      <td>1</td>\n      <td>15634602</td>\n      <td>Hargrave</td>\n      <td>619</td>\n      <td>France</td>\n      <td>Female</td>\n      <td>42</td>\n      <td>2</td>\n      <td>0.00</td>\n      <td>1</td>\n      <td>1</td>\n      <td>1</td>\n      <td>101348.88</td>\n      <td>1</td>\n    </tr>\n    <tr>\n      <th>1</th>\n      <td>2</td>\n      <td>15647311</td>\n      <td>Hill</td>\n      <td>608</td>\n      <td>Spain</td>\n      <td>Female</td>\n      <td>41</td>\n      <td>1</td>\n      <td>83807.86</td>\n      <td>1</td>\n      <td>0</td>\n      <td>1</td>\n      <td>112542.58</td>\n      <td>0</td>\n    </tr>\n    <tr>\n      <th>2</th>\n      <td>3</td>\n      <td>15619304</td>\n      <td>Onio</td>\n      <td>502</td>\n      <td>France</td>\n      <td>Female</td>\n      <td>42</td>\n      <td>8</td>\n      <td>159660.80</td>\n      <td>3</td>\n      <td>1</td>\n      <td>0</td>\n      <td>113931.57</td>\n      <td>1</td>\n    </tr>\n  </tbody>\n</table>\n</div>"
     },
     "execution_count": 44,
     "metadata": {},
     "output_type": "execute_result"
    }
   ],
   "source": [
    "df.head(3)"
   ],
   "metadata": {
    "collapsed": false,
    "pycharm": {
     "name": "#%%\n"
    }
   }
  },
  {
   "cell_type": "code",
   "execution_count": 45,
   "outputs": [],
   "source": [
    "categorical_columns = ['Geography', 'Gender', 'Tenure', 'HasCrCard', 'IsActiveMember']\n",
    "continuous_columns = ['CreditScore', 'Age', 'Balance', 'NumOfProducts', 'EstimatedSalary']"
   ],
   "metadata": {
    "collapsed": false,
    "pycharm": {
     "name": "#%%\n"
    }
   }
  },
  {
   "cell_type": "code",
   "execution_count": 46,
   "outputs": [],
   "source": [
    "from sklearn.pipeline import Pipeline\n",
    "from sklearn.pipeline import FeatureUnion"
   ],
   "metadata": {
    "collapsed": false,
    "pycharm": {
     "name": "#%%\n"
    }
   }
  },
  {
   "cell_type": "code",
   "execution_count": 47,
   "outputs": [],
   "source": [
    "final_transformers = list()\n",
    "\n",
    "for cat_col in categorical_columns:\n",
    "    cat_transformer = Pipeline([\n",
    "                ('selector', FeatureSelector(column=cat_col)),\n",
    "                ('ohe', OHEEncoder(key=cat_col))\n",
    "            ])\n",
    "\n",
    "    final_transformers.append((cat_col, cat_transformer))\n",
    "\n",
    "for cont_col in continuous_columns:\n",
    "    cont_transformer = Pipeline([\n",
    "                ('selector', NumberSelector(key=cont_col))\n",
    "            ])\n",
    "\n",
    "    final_transformers.append((cont_col, cont_transformer))"
   ],
   "metadata": {
    "collapsed": false,
    "pycharm": {
     "name": "#%%\n"
    }
   }
  },
  {
   "cell_type": "code",
   "execution_count": 48,
   "outputs": [],
   "source": [
    "feats = FeatureUnion(final_transformers)"
   ],
   "metadata": {
    "collapsed": false,
    "pycharm": {
     "name": "#%%\n"
    }
   }
  },
  {
   "cell_type": "code",
   "execution_count": 49,
   "outputs": [],
   "source": [
    "from sklearn.ensemble import RandomForestClassifier\n",
    "\n",
    "pipeline = Pipeline([\n",
    "    ('features', feats),\n",
    "    ('classifier', RandomForestClassifier(random_state=42)),\n",
    "])"
   ],
   "metadata": {
    "collapsed": false,
    "pycharm": {
     "name": "#%%\n"
    }
   }
  },
  {
   "cell_type": "code",
   "execution_count": 50,
   "outputs": [
    {
     "data": {
      "text/plain": "Pipeline(steps=[('features',\n                 FeatureUnion(transformer_list=[('Geography',\n                                                 Pipeline(steps=[('selector',\n                                                                  FeatureSelector(column='Geography')),\n                                                                 ('ohe',\n                                                                  OHEEncoder(key='Geography'))])),\n                                                ('Gender',\n                                                 Pipeline(steps=[('selector',\n                                                                  FeatureSelector(column='Gender')),\n                                                                 ('ohe',\n                                                                  OHEEncoder(key='Gender'))])),\n                                                ('Tenure',\n                                                 Pipeline(steps=[('selector',\n                                                                  FeatureSelector(column='Tenu...\n                                                 Pipeline(steps=[('selector',\n                                                                  NumberSelector(key='Age'))])),\n                                                ('Balance',\n                                                 Pipeline(steps=[('selector',\n                                                                  NumberSelector(key='Balance'))])),\n                                                ('NumOfProducts',\n                                                 Pipeline(steps=[('selector',\n                                                                  NumberSelector(key='NumOfProducts'))])),\n                                                ('EstimatedSalary',\n                                                 Pipeline(steps=[('selector',\n                                                                  NumberSelector(key='EstimatedSalary'))]))])),\n                ('classifier', RandomForestClassifier(random_state=42))])",
      "text/html": "<style>#sk-container-id-4 {color: black;background-color: white;}#sk-container-id-4 pre{padding: 0;}#sk-container-id-4 div.sk-toggleable {background-color: white;}#sk-container-id-4 label.sk-toggleable__label {cursor: pointer;display: block;width: 100%;margin-bottom: 0;padding: 0.3em;box-sizing: border-box;text-align: center;}#sk-container-id-4 label.sk-toggleable__label-arrow:before {content: \"▸\";float: left;margin-right: 0.25em;color: #696969;}#sk-container-id-4 label.sk-toggleable__label-arrow:hover:before {color: black;}#sk-container-id-4 div.sk-estimator:hover label.sk-toggleable__label-arrow:before {color: black;}#sk-container-id-4 div.sk-toggleable__content {max-height: 0;max-width: 0;overflow: hidden;text-align: left;background-color: #f0f8ff;}#sk-container-id-4 div.sk-toggleable__content pre {margin: 0.2em;color: black;border-radius: 0.25em;background-color: #f0f8ff;}#sk-container-id-4 input.sk-toggleable__control:checked~div.sk-toggleable__content {max-height: 200px;max-width: 100%;overflow: auto;}#sk-container-id-4 input.sk-toggleable__control:checked~label.sk-toggleable__label-arrow:before {content: \"▾\";}#sk-container-id-4 div.sk-estimator input.sk-toggleable__control:checked~label.sk-toggleable__label {background-color: #d4ebff;}#sk-container-id-4 div.sk-label input.sk-toggleable__control:checked~label.sk-toggleable__label {background-color: #d4ebff;}#sk-container-id-4 input.sk-hidden--visually {border: 0;clip: rect(1px 1px 1px 1px);clip: rect(1px, 1px, 1px, 1px);height: 1px;margin: -1px;overflow: hidden;padding: 0;position: absolute;width: 1px;}#sk-container-id-4 div.sk-estimator {font-family: monospace;background-color: #f0f8ff;border: 1px dotted black;border-radius: 0.25em;box-sizing: border-box;margin-bottom: 0.5em;}#sk-container-id-4 div.sk-estimator:hover {background-color: #d4ebff;}#sk-container-id-4 div.sk-parallel-item::after {content: \"\";width: 100%;border-bottom: 1px solid gray;flex-grow: 1;}#sk-container-id-4 div.sk-label:hover label.sk-toggleable__label {background-color: #d4ebff;}#sk-container-id-4 div.sk-serial::before {content: \"\";position: absolute;border-left: 1px solid gray;box-sizing: border-box;top: 0;bottom: 0;left: 50%;z-index: 0;}#sk-container-id-4 div.sk-serial {display: flex;flex-direction: column;align-items: center;background-color: white;padding-right: 0.2em;padding-left: 0.2em;position: relative;}#sk-container-id-4 div.sk-item {position: relative;z-index: 1;}#sk-container-id-4 div.sk-parallel {display: flex;align-items: stretch;justify-content: center;background-color: white;position: relative;}#sk-container-id-4 div.sk-item::before, #sk-container-id-4 div.sk-parallel-item::before {content: \"\";position: absolute;border-left: 1px solid gray;box-sizing: border-box;top: 0;bottom: 0;left: 50%;z-index: -1;}#sk-container-id-4 div.sk-parallel-item {display: flex;flex-direction: column;z-index: 1;position: relative;background-color: white;}#sk-container-id-4 div.sk-parallel-item:first-child::after {align-self: flex-end;width: 50%;}#sk-container-id-4 div.sk-parallel-item:last-child::after {align-self: flex-start;width: 50%;}#sk-container-id-4 div.sk-parallel-item:only-child::after {width: 0;}#sk-container-id-4 div.sk-dashed-wrapped {border: 1px dashed gray;margin: 0 0.4em 0.5em 0.4em;box-sizing: border-box;padding-bottom: 0.4em;background-color: white;}#sk-container-id-4 div.sk-label label {font-family: monospace;font-weight: bold;display: inline-block;line-height: 1.2em;}#sk-container-id-4 div.sk-label-container {text-align: center;}#sk-container-id-4 div.sk-container {/* jupyter's `normalize.less` sets `[hidden] { display: none; }` but bootstrap.min.css set `[hidden] { display: none !important; }` so we also need the `!important` here to be able to override the default hidden behavior on the sphinx rendered scikit-learn.org. See: https://github.com/scikit-learn/scikit-learn/issues/21755 */display: inline-block !important;position: relative;}#sk-container-id-4 div.sk-text-repr-fallback {display: none;}</style><div id=\"sk-container-id-4\" class=\"sk-top-container\"><div class=\"sk-text-repr-fallback\"><pre>Pipeline(steps=[(&#x27;features&#x27;,\n                 FeatureUnion(transformer_list=[(&#x27;Geography&#x27;,\n                                                 Pipeline(steps=[(&#x27;selector&#x27;,\n                                                                  FeatureSelector(column=&#x27;Geography&#x27;)),\n                                                                 (&#x27;ohe&#x27;,\n                                                                  OHEEncoder(key=&#x27;Geography&#x27;))])),\n                                                (&#x27;Gender&#x27;,\n                                                 Pipeline(steps=[(&#x27;selector&#x27;,\n                                                                  FeatureSelector(column=&#x27;Gender&#x27;)),\n                                                                 (&#x27;ohe&#x27;,\n                                                                  OHEEncoder(key=&#x27;Gender&#x27;))])),\n                                                (&#x27;Tenure&#x27;,\n                                                 Pipeline(steps=[(&#x27;selector&#x27;,\n                                                                  FeatureSelector(column=&#x27;Tenu...\n                                                 Pipeline(steps=[(&#x27;selector&#x27;,\n                                                                  NumberSelector(key=&#x27;Age&#x27;))])),\n                                                (&#x27;Balance&#x27;,\n                                                 Pipeline(steps=[(&#x27;selector&#x27;,\n                                                                  NumberSelector(key=&#x27;Balance&#x27;))])),\n                                                (&#x27;NumOfProducts&#x27;,\n                                                 Pipeline(steps=[(&#x27;selector&#x27;,\n                                                                  NumberSelector(key=&#x27;NumOfProducts&#x27;))])),\n                                                (&#x27;EstimatedSalary&#x27;,\n                                                 Pipeline(steps=[(&#x27;selector&#x27;,\n                                                                  NumberSelector(key=&#x27;EstimatedSalary&#x27;))]))])),\n                (&#x27;classifier&#x27;, RandomForestClassifier(random_state=42))])</pre><b>In a Jupyter environment, please rerun this cell to show the HTML representation or trust the notebook. <br />On GitHub, the HTML representation is unable to render, please try loading this page with nbviewer.org.</b></div><div class=\"sk-container\" hidden><div class=\"sk-item sk-dashed-wrapped\"><div class=\"sk-label-container\"><div class=\"sk-label sk-toggleable\"><input class=\"sk-toggleable__control sk-hidden--visually\" id=\"sk-estimator-id-55\" type=\"checkbox\" ><label for=\"sk-estimator-id-55\" class=\"sk-toggleable__label sk-toggleable__label-arrow\">Pipeline</label><div class=\"sk-toggleable__content\"><pre>Pipeline(steps=[(&#x27;features&#x27;,\n                 FeatureUnion(transformer_list=[(&#x27;Geography&#x27;,\n                                                 Pipeline(steps=[(&#x27;selector&#x27;,\n                                                                  FeatureSelector(column=&#x27;Geography&#x27;)),\n                                                                 (&#x27;ohe&#x27;,\n                                                                  OHEEncoder(key=&#x27;Geography&#x27;))])),\n                                                (&#x27;Gender&#x27;,\n                                                 Pipeline(steps=[(&#x27;selector&#x27;,\n                                                                  FeatureSelector(column=&#x27;Gender&#x27;)),\n                                                                 (&#x27;ohe&#x27;,\n                                                                  OHEEncoder(key=&#x27;Gender&#x27;))])),\n                                                (&#x27;Tenure&#x27;,\n                                                 Pipeline(steps=[(&#x27;selector&#x27;,\n                                                                  FeatureSelector(column=&#x27;Tenu...\n                                                 Pipeline(steps=[(&#x27;selector&#x27;,\n                                                                  NumberSelector(key=&#x27;Age&#x27;))])),\n                                                (&#x27;Balance&#x27;,\n                                                 Pipeline(steps=[(&#x27;selector&#x27;,\n                                                                  NumberSelector(key=&#x27;Balance&#x27;))])),\n                                                (&#x27;NumOfProducts&#x27;,\n                                                 Pipeline(steps=[(&#x27;selector&#x27;,\n                                                                  NumberSelector(key=&#x27;NumOfProducts&#x27;))])),\n                                                (&#x27;EstimatedSalary&#x27;,\n                                                 Pipeline(steps=[(&#x27;selector&#x27;,\n                                                                  NumberSelector(key=&#x27;EstimatedSalary&#x27;))]))])),\n                (&#x27;classifier&#x27;, RandomForestClassifier(random_state=42))])</pre></div></div></div><div class=\"sk-serial\"><div class=\"sk-item sk-dashed-wrapped\"><div class=\"sk-label-container\"><div class=\"sk-label sk-toggleable\"><input class=\"sk-toggleable__control sk-hidden--visually\" id=\"sk-estimator-id-56\" type=\"checkbox\" ><label for=\"sk-estimator-id-56\" class=\"sk-toggleable__label sk-toggleable__label-arrow\">features: FeatureUnion</label><div class=\"sk-toggleable__content\"><pre>FeatureUnion(transformer_list=[(&#x27;Geography&#x27;,\n                                Pipeline(steps=[(&#x27;selector&#x27;,\n                                                 FeatureSelector(column=&#x27;Geography&#x27;)),\n                                                (&#x27;ohe&#x27;,\n                                                 OHEEncoder(key=&#x27;Geography&#x27;))])),\n                               (&#x27;Gender&#x27;,\n                                Pipeline(steps=[(&#x27;selector&#x27;,\n                                                 FeatureSelector(column=&#x27;Gender&#x27;)),\n                                                (&#x27;ohe&#x27;,\n                                                 OHEEncoder(key=&#x27;Gender&#x27;))])),\n                               (&#x27;Tenure&#x27;,\n                                Pipeline(steps=[(&#x27;selector&#x27;,\n                                                 FeatureSelector(column=&#x27;Tenure&#x27;)),\n                                                (&#x27;ohe&#x27;,\n                                                 OHEEncoder(key=...\n                                                 NumberSelector(key=&#x27;CreditScore&#x27;))])),\n                               (&#x27;Age&#x27;,\n                                Pipeline(steps=[(&#x27;selector&#x27;,\n                                                 NumberSelector(key=&#x27;Age&#x27;))])),\n                               (&#x27;Balance&#x27;,\n                                Pipeline(steps=[(&#x27;selector&#x27;,\n                                                 NumberSelector(key=&#x27;Balance&#x27;))])),\n                               (&#x27;NumOfProducts&#x27;,\n                                Pipeline(steps=[(&#x27;selector&#x27;,\n                                                 NumberSelector(key=&#x27;NumOfProducts&#x27;))])),\n                               (&#x27;EstimatedSalary&#x27;,\n                                Pipeline(steps=[(&#x27;selector&#x27;,\n                                                 NumberSelector(key=&#x27;EstimatedSalary&#x27;))]))])</pre></div></div></div><div class=\"sk-parallel\"><div class=\"sk-parallel-item\"><div class=\"sk-item\"><div class=\"sk-label-container\"><div class=\"sk-label sk-toggleable\"><label>Geography</label></div></div><div class=\"sk-serial\"><div class=\"sk-item\"><div class=\"sk-serial\"><div class=\"sk-item\"><div class=\"sk-estimator sk-toggleable\"><input class=\"sk-toggleable__control sk-hidden--visually\" id=\"sk-estimator-id-57\" type=\"checkbox\" ><label for=\"sk-estimator-id-57\" class=\"sk-toggleable__label sk-toggleable__label-arrow\">FeatureSelector</label><div class=\"sk-toggleable__content\"><pre>FeatureSelector(column=&#x27;Geography&#x27;)</pre></div></div></div><div class=\"sk-item\"><div class=\"sk-estimator sk-toggleable\"><input class=\"sk-toggleable__control sk-hidden--visually\" id=\"sk-estimator-id-58\" type=\"checkbox\" ><label for=\"sk-estimator-id-58\" class=\"sk-toggleable__label sk-toggleable__label-arrow\">OHEEncoder</label><div class=\"sk-toggleable__content\"><pre>OHEEncoder(key=&#x27;Geography&#x27;)</pre></div></div></div></div></div></div></div></div><div class=\"sk-parallel-item\"><div class=\"sk-item\"><div class=\"sk-label-container\"><div class=\"sk-label sk-toggleable\"><label>Gender</label></div></div><div class=\"sk-serial\"><div class=\"sk-item\"><div class=\"sk-serial\"><div class=\"sk-item\"><div class=\"sk-estimator sk-toggleable\"><input class=\"sk-toggleable__control sk-hidden--visually\" id=\"sk-estimator-id-59\" type=\"checkbox\" ><label for=\"sk-estimator-id-59\" class=\"sk-toggleable__label sk-toggleable__label-arrow\">FeatureSelector</label><div class=\"sk-toggleable__content\"><pre>FeatureSelector(column=&#x27;Gender&#x27;)</pre></div></div></div><div class=\"sk-item\"><div class=\"sk-estimator sk-toggleable\"><input class=\"sk-toggleable__control sk-hidden--visually\" id=\"sk-estimator-id-60\" type=\"checkbox\" ><label for=\"sk-estimator-id-60\" class=\"sk-toggleable__label sk-toggleable__label-arrow\">OHEEncoder</label><div class=\"sk-toggleable__content\"><pre>OHEEncoder(key=&#x27;Gender&#x27;)</pre></div></div></div></div></div></div></div></div><div class=\"sk-parallel-item\"><div class=\"sk-item\"><div class=\"sk-label-container\"><div class=\"sk-label sk-toggleable\"><label>Tenure</label></div></div><div class=\"sk-serial\"><div class=\"sk-item\"><div class=\"sk-serial\"><div class=\"sk-item\"><div class=\"sk-estimator sk-toggleable\"><input class=\"sk-toggleable__control sk-hidden--visually\" id=\"sk-estimator-id-61\" type=\"checkbox\" ><label for=\"sk-estimator-id-61\" class=\"sk-toggleable__label sk-toggleable__label-arrow\">FeatureSelector</label><div class=\"sk-toggleable__content\"><pre>FeatureSelector(column=&#x27;Tenure&#x27;)</pre></div></div></div><div class=\"sk-item\"><div class=\"sk-estimator sk-toggleable\"><input class=\"sk-toggleable__control sk-hidden--visually\" id=\"sk-estimator-id-62\" type=\"checkbox\" ><label for=\"sk-estimator-id-62\" class=\"sk-toggleable__label sk-toggleable__label-arrow\">OHEEncoder</label><div class=\"sk-toggleable__content\"><pre>OHEEncoder(key=&#x27;Tenure&#x27;)</pre></div></div></div></div></div></div></div></div><div class=\"sk-parallel-item\"><div class=\"sk-item\"><div class=\"sk-label-container\"><div class=\"sk-label sk-toggleable\"><label>HasCrCard</label></div></div><div class=\"sk-serial\"><div class=\"sk-item\"><div class=\"sk-serial\"><div class=\"sk-item\"><div class=\"sk-estimator sk-toggleable\"><input class=\"sk-toggleable__control sk-hidden--visually\" id=\"sk-estimator-id-63\" type=\"checkbox\" ><label for=\"sk-estimator-id-63\" class=\"sk-toggleable__label sk-toggleable__label-arrow\">FeatureSelector</label><div class=\"sk-toggleable__content\"><pre>FeatureSelector(column=&#x27;HasCrCard&#x27;)</pre></div></div></div><div class=\"sk-item\"><div class=\"sk-estimator sk-toggleable\"><input class=\"sk-toggleable__control sk-hidden--visually\" id=\"sk-estimator-id-64\" type=\"checkbox\" ><label for=\"sk-estimator-id-64\" class=\"sk-toggleable__label sk-toggleable__label-arrow\">OHEEncoder</label><div class=\"sk-toggleable__content\"><pre>OHEEncoder(key=&#x27;HasCrCard&#x27;)</pre></div></div></div></div></div></div></div></div><div class=\"sk-parallel-item\"><div class=\"sk-item\"><div class=\"sk-label-container\"><div class=\"sk-label sk-toggleable\"><label>IsActiveMember</label></div></div><div class=\"sk-serial\"><div class=\"sk-item\"><div class=\"sk-serial\"><div class=\"sk-item\"><div class=\"sk-estimator sk-toggleable\"><input class=\"sk-toggleable__control sk-hidden--visually\" id=\"sk-estimator-id-65\" type=\"checkbox\" ><label for=\"sk-estimator-id-65\" class=\"sk-toggleable__label sk-toggleable__label-arrow\">FeatureSelector</label><div class=\"sk-toggleable__content\"><pre>FeatureSelector(column=&#x27;IsActiveMember&#x27;)</pre></div></div></div><div class=\"sk-item\"><div class=\"sk-estimator sk-toggleable\"><input class=\"sk-toggleable__control sk-hidden--visually\" id=\"sk-estimator-id-66\" type=\"checkbox\" ><label for=\"sk-estimator-id-66\" class=\"sk-toggleable__label sk-toggleable__label-arrow\">OHEEncoder</label><div class=\"sk-toggleable__content\"><pre>OHEEncoder(key=&#x27;IsActiveMember&#x27;)</pre></div></div></div></div></div></div></div></div><div class=\"sk-parallel-item\"><div class=\"sk-item\"><div class=\"sk-label-container\"><div class=\"sk-label sk-toggleable\"><label>CreditScore</label></div></div><div class=\"sk-serial\"><div class=\"sk-item\"><div class=\"sk-serial\"><div class=\"sk-item\"><div class=\"sk-estimator sk-toggleable\"><input class=\"sk-toggleable__control sk-hidden--visually\" id=\"sk-estimator-id-67\" type=\"checkbox\" ><label for=\"sk-estimator-id-67\" class=\"sk-toggleable__label sk-toggleable__label-arrow\">NumberSelector</label><div class=\"sk-toggleable__content\"><pre>NumberSelector(key=&#x27;CreditScore&#x27;)</pre></div></div></div></div></div></div></div></div><div class=\"sk-parallel-item\"><div class=\"sk-item\"><div class=\"sk-label-container\"><div class=\"sk-label sk-toggleable\"><label>Age</label></div></div><div class=\"sk-serial\"><div class=\"sk-item\"><div class=\"sk-serial\"><div class=\"sk-item\"><div class=\"sk-estimator sk-toggleable\"><input class=\"sk-toggleable__control sk-hidden--visually\" id=\"sk-estimator-id-68\" type=\"checkbox\" ><label for=\"sk-estimator-id-68\" class=\"sk-toggleable__label sk-toggleable__label-arrow\">NumberSelector</label><div class=\"sk-toggleable__content\"><pre>NumberSelector(key=&#x27;Age&#x27;)</pre></div></div></div></div></div></div></div></div><div class=\"sk-parallel-item\"><div class=\"sk-item\"><div class=\"sk-label-container\"><div class=\"sk-label sk-toggleable\"><label>Balance</label></div></div><div class=\"sk-serial\"><div class=\"sk-item\"><div class=\"sk-serial\"><div class=\"sk-item\"><div class=\"sk-estimator sk-toggleable\"><input class=\"sk-toggleable__control sk-hidden--visually\" id=\"sk-estimator-id-69\" type=\"checkbox\" ><label for=\"sk-estimator-id-69\" class=\"sk-toggleable__label sk-toggleable__label-arrow\">NumberSelector</label><div class=\"sk-toggleable__content\"><pre>NumberSelector(key=&#x27;Balance&#x27;)</pre></div></div></div></div></div></div></div></div><div class=\"sk-parallel-item\"><div class=\"sk-item\"><div class=\"sk-label-container\"><div class=\"sk-label sk-toggleable\"><label>NumOfProducts</label></div></div><div class=\"sk-serial\"><div class=\"sk-item\"><div class=\"sk-serial\"><div class=\"sk-item\"><div class=\"sk-estimator sk-toggleable\"><input class=\"sk-toggleable__control sk-hidden--visually\" id=\"sk-estimator-id-70\" type=\"checkbox\" ><label for=\"sk-estimator-id-70\" class=\"sk-toggleable__label sk-toggleable__label-arrow\">NumberSelector</label><div class=\"sk-toggleable__content\"><pre>NumberSelector(key=&#x27;NumOfProducts&#x27;)</pre></div></div></div></div></div></div></div></div><div class=\"sk-parallel-item\"><div class=\"sk-item\"><div class=\"sk-label-container\"><div class=\"sk-label sk-toggleable\"><label>EstimatedSalary</label></div></div><div class=\"sk-serial\"><div class=\"sk-item\"><div class=\"sk-serial\"><div class=\"sk-item\"><div class=\"sk-estimator sk-toggleable\"><input class=\"sk-toggleable__control sk-hidden--visually\" id=\"sk-estimator-id-71\" type=\"checkbox\" ><label for=\"sk-estimator-id-71\" class=\"sk-toggleable__label sk-toggleable__label-arrow\">NumberSelector</label><div class=\"sk-toggleable__content\"><pre>NumberSelector(key=&#x27;EstimatedSalary&#x27;)</pre></div></div></div></div></div></div></div></div></div></div><div class=\"sk-item\"><div class=\"sk-estimator sk-toggleable\"><input class=\"sk-toggleable__control sk-hidden--visually\" id=\"sk-estimator-id-72\" type=\"checkbox\" ><label for=\"sk-estimator-id-72\" class=\"sk-toggleable__label sk-toggleable__label-arrow\">RandomForestClassifier</label><div class=\"sk-toggleable__content\"><pre>RandomForestClassifier(random_state=42)</pre></div></div></div></div></div></div></div>"
     },
     "execution_count": 50,
     "metadata": {},
     "output_type": "execute_result"
    }
   ],
   "source": [
    "pipeline.fit(X_train, y_train)"
   ],
   "metadata": {
    "collapsed": false,
    "pycharm": {
     "name": "#%%\n"
    }
   }
  },
  {
   "cell_type": "code",
   "execution_count": 51,
   "outputs": [
    {
     "data": {
      "text/plain": "array([0.37, 0.26, 0.16, 0.02, 0.02, 0.67, 0.04, 0.12, 0.15, 0.75])"
     },
     "execution_count": 51,
     "metadata": {},
     "output_type": "execute_result"
    }
   ],
   "source": [
    "preds = pipeline.predict_proba(X_test)[:, 1]\n",
    "preds[:10]"
   ],
   "metadata": {
    "collapsed": false,
    "pycharm": {
     "name": "#%%\n"
    }
   }
  },
  {
   "cell_type": "code",
   "execution_count": 52,
   "outputs": [],
   "source": [
    "from sklearn.metrics import f1_score, roc_auc_score, precision_score, classification_report, precision_recall_curve, confusion_matrix"
   ],
   "metadata": {
    "collapsed": false,
    "pycharm": {
     "name": "#%%\n"
    }
   }
  },
  {
   "cell_type": "code",
   "execution_count": 53,
   "outputs": [
    {
     "data": {
      "text/plain": "Empty DataFrame\nColumns: [model, thresh, F-Score, Precision, Recall, ROC AUC]\nIndex: []",
      "text/html": "<div>\n<style scoped>\n    .dataframe tbody tr th:only-of-type {\n        vertical-align: middle;\n    }\n\n    .dataframe tbody tr th {\n        vertical-align: top;\n    }\n\n    .dataframe thead th {\n        text-align: right;\n    }\n</style>\n<table border=\"1\" class=\"dataframe\">\n  <thead>\n    <tr style=\"text-align: right;\">\n      <th></th>\n      <th>model</th>\n      <th>thresh</th>\n      <th>F-Score</th>\n      <th>Precision</th>\n      <th>Recall</th>\n      <th>ROC AUC</th>\n    </tr>\n  </thead>\n  <tbody>\n  </tbody>\n</table>\n</div>"
     },
     "execution_count": 53,
     "metadata": {},
     "output_type": "execute_result"
    }
   ],
   "source": [
    "metrics_df = pd.DataFrame(columns=['model', 'thresh', 'F-Score', 'Precision', 'Recall', 'ROC AUC'])\n",
    "metrics_df"
   ],
   "metadata": {
    "collapsed": false,
    "pycharm": {
     "name": "#%%\n"
    }
   }
  },
  {
   "cell_type": "code",
   "execution_count": 54,
   "outputs": [
    {
     "name": "stdout",
     "output_type": "stream",
     "text": [
      "Best Threshold=0.38, F-Score=0.641, Precision=0.653, Recall=0.629\n"
     ]
    }
   ],
   "source": [
    "precision, recall, thresholds = precision_recall_curve(y_test, preds)\n",
    "\n",
    "fscore = (2 * precision * recall) / (precision + recall)\n",
    "# locate the index of the largest f score\n",
    "ix = np.argmax(fscore)\n",
    "print(f'Best Threshold={thresholds[ix]}, F-Score={fscore[ix]:.3f}, Precision={precision[ix]:.3f}, Recall={recall[ix]:.3f}')"
   ],
   "metadata": {
    "collapsed": false,
    "pycharm": {
     "name": "#%%\n"
    }
   }
  },
  {
   "cell_type": "code",
   "execution_count": 55,
   "outputs": [
    {
     "data": {
      "text/plain": "0.8635016710758334"
     },
     "execution_count": 55,
     "metadata": {},
     "output_type": "execute_result"
    }
   ],
   "source": [
    "roc_auc = roc_auc_score(y_test, preds)\n",
    "roc_auc"
   ],
   "metadata": {
    "collapsed": false,
    "pycharm": {
     "name": "#%%\n"
    }
   }
  },
  {
   "cell_type": "code",
   "execution_count": 56,
   "outputs": [
    {
     "data": {
      "text/plain": "        model  thresh   F-Score  Precision    Recall   ROC AUC\n0  supervised    0.38  0.640641   0.653061  0.628684  0.863502",
      "text/html": "<div>\n<style scoped>\n    .dataframe tbody tr th:only-of-type {\n        vertical-align: middle;\n    }\n\n    .dataframe tbody tr th {\n        vertical-align: top;\n    }\n\n    .dataframe thead th {\n        text-align: right;\n    }\n</style>\n<table border=\"1\" class=\"dataframe\">\n  <thead>\n    <tr style=\"text-align: right;\">\n      <th></th>\n      <th>model</th>\n      <th>thresh</th>\n      <th>F-Score</th>\n      <th>Precision</th>\n      <th>Recall</th>\n      <th>ROC AUC</th>\n    </tr>\n  </thead>\n  <tbody>\n    <tr>\n      <th>0</th>\n      <td>supervised</td>\n      <td>0.38</td>\n      <td>0.640641</td>\n      <td>0.653061</td>\n      <td>0.628684</td>\n      <td>0.863502</td>\n    </tr>\n  </tbody>\n</table>\n</div>"
     },
     "execution_count": 56,
     "metadata": {},
     "output_type": "execute_result"
    }
   ],
   "source": [
    "new_row = pd.DataFrame({\n",
    "    'model': ['supervised'],\n",
    "    'thresh': [thresholds[ix]],\n",
    "    'F-Score': [fscore[ix]],\n",
    "    'Precision': [precision[ix]],\n",
    "    'Recall': [recall[ix]],\n",
    "    'ROC AUC': [roc_auc]\n",
    "})\n",
    "\n",
    "metrics_df = pd.concat([metrics_df, new_row], ignore_index=True)\n",
    "\n",
    "metrics_df"
   ],
   "metadata": {
    "collapsed": false,
    "pycharm": {
     "name": "#%%\n"
    }
   }
  },
  {
   "cell_type": "code",
   "execution_count": 57,
   "outputs": [
    {
     "data": {
      "text/plain": "      RowNumber  CustomerId    Surname  CreditScore Geography  Gender  Age  \\\n2967       2968    15595324    Daniels          579   Germany  Female   39   \n700         701    15803457        Hao          750    France  Female   32   \n3481       3482    15644686    Kennedy          729     Spain  Female   34   \n1621       1622    15777797  Kovalyova          689     Spain    Male   38   \n800         801    15747542      Perez          605    France    Male   52   \n\n      Tenure    Balance  NumOfProducts  HasCrCard  IsActiveMember  \\\n2967       5  117833.30              3          0               0   \n700        5       0.00              2          1               0   \n3481       9   53299.96              2          1               1   \n1621       5   75075.14              1          1               1   \n800        7       0.00              2          1               1   \n\n      EstimatedSalary  Exited  \n2967          5831.00       1  \n700          95611.47       0  \n3481         42855.97       0  \n1621          8651.92       1  \n800         173952.50       0  ",
      "text/html": "<div>\n<style scoped>\n    .dataframe tbody tr th:only-of-type {\n        vertical-align: middle;\n    }\n\n    .dataframe tbody tr th {\n        vertical-align: top;\n    }\n\n    .dataframe thead th {\n        text-align: right;\n    }\n</style>\n<table border=\"1\" class=\"dataframe\">\n  <thead>\n    <tr style=\"text-align: right;\">\n      <th></th>\n      <th>RowNumber</th>\n      <th>CustomerId</th>\n      <th>Surname</th>\n      <th>CreditScore</th>\n      <th>Geography</th>\n      <th>Gender</th>\n      <th>Age</th>\n      <th>Tenure</th>\n      <th>Balance</th>\n      <th>NumOfProducts</th>\n      <th>HasCrCard</th>\n      <th>IsActiveMember</th>\n      <th>EstimatedSalary</th>\n      <th>Exited</th>\n    </tr>\n  </thead>\n  <tbody>\n    <tr>\n      <th>2967</th>\n      <td>2968</td>\n      <td>15595324</td>\n      <td>Daniels</td>\n      <td>579</td>\n      <td>Germany</td>\n      <td>Female</td>\n      <td>39</td>\n      <td>5</td>\n      <td>117833.30</td>\n      <td>3</td>\n      <td>0</td>\n      <td>0</td>\n      <td>5831.00</td>\n      <td>1</td>\n    </tr>\n    <tr>\n      <th>700</th>\n      <td>701</td>\n      <td>15803457</td>\n      <td>Hao</td>\n      <td>750</td>\n      <td>France</td>\n      <td>Female</td>\n      <td>32</td>\n      <td>5</td>\n      <td>0.00</td>\n      <td>2</td>\n      <td>1</td>\n      <td>0</td>\n      <td>95611.47</td>\n      <td>0</td>\n    </tr>\n    <tr>\n      <th>3481</th>\n      <td>3482</td>\n      <td>15644686</td>\n      <td>Kennedy</td>\n      <td>729</td>\n      <td>Spain</td>\n      <td>Female</td>\n      <td>34</td>\n      <td>9</td>\n      <td>53299.96</td>\n      <td>2</td>\n      <td>1</td>\n      <td>1</td>\n      <td>42855.97</td>\n      <td>0</td>\n    </tr>\n    <tr>\n      <th>1621</th>\n      <td>1622</td>\n      <td>15777797</td>\n      <td>Kovalyova</td>\n      <td>689</td>\n      <td>Spain</td>\n      <td>Male</td>\n      <td>38</td>\n      <td>5</td>\n      <td>75075.14</td>\n      <td>1</td>\n      <td>1</td>\n      <td>1</td>\n      <td>8651.92</td>\n      <td>1</td>\n    </tr>\n    <tr>\n      <th>800</th>\n      <td>801</td>\n      <td>15747542</td>\n      <td>Perez</td>\n      <td>605</td>\n      <td>France</td>\n      <td>Male</td>\n      <td>52</td>\n      <td>7</td>\n      <td>0.00</td>\n      <td>2</td>\n      <td>1</td>\n      <td>1</td>\n      <td>173952.50</td>\n      <td>0</td>\n    </tr>\n  </tbody>\n</table>\n</div>"
     },
     "execution_count": 57,
     "metadata": {},
     "output_type": "execute_result"
    }
   ],
   "source": [
    "mod_data = X_train.copy()\n",
    "mod_data['Exited'] = y_train\n",
    "mod_data.head()"
   ],
   "metadata": {
    "collapsed": false,
    "pycharm": {
     "name": "#%%\n"
    }
   }
  },
  {
   "cell_type": "code",
   "execution_count": 58,
   "outputs": [
    {
     "name": "stdout",
     "output_type": "stream",
     "text": [
      "Using 382/1528 as positives and unlabeling the rest\n"
     ]
    }
   ],
   "source": [
    "# get the indices of the positives samples\n",
    "pos_ind = mod_data[mod_data['Exited'] == 1].sample(frac=1, random_state=42).index\n",
    "\n",
    "# leave just 25% of the positives marked\n",
    "perc = 0.25\n",
    "pos_sample_len = int(np.ceil(perc * len(pos_ind)))\n",
    "\n",
    "print(f'Using {pos_sample_len}/{len(pos_ind)} as positives and unlabeling the rest')\n",
    "pos_sample = pos_ind[:pos_sample_len]"
   ],
   "metadata": {
    "collapsed": false,
    "pycharm": {
     "name": "#%%\n"
    }
   }
  },
  {
   "cell_type": "code",
   "execution_count": 59,
   "outputs": [
    {
     "name": "stdout",
     "output_type": "stream",
     "text": [
      "target variable:\n",
      " -1    7118\n",
      " 1     382\n",
      "Name: class_test, dtype: int64\n"
     ]
    }
   ],
   "source": [
    "mod_data['class_test'] = -1\n",
    "mod_data.loc[pos_sample, 'class_test'] = 1\n",
    "print('target variable:\\n', mod_data.iloc[:,-1].value_counts())"
   ],
   "metadata": {
    "collapsed": false,
    "pycharm": {
     "name": "#%%\n"
    }
   }
  },
  {
   "cell_type": "code",
   "execution_count": 60,
   "outputs": [
    {
     "data": {
      "text/plain": "      RowNumber  CustomerId    Surname  CreditScore Geography  Gender  Age  \\\n2967       2968    15595324    Daniels          579   Germany  Female   39   \n700         701    15803457        Hao          750    France  Female   32   \n3481       3482    15644686    Kennedy          729     Spain  Female   34   \n1621       1622    15777797  Kovalyova          689     Spain    Male   38   \n800         801    15747542      Perez          605    France    Male   52   \n\n      Tenure    Balance  NumOfProducts  HasCrCard  IsActiveMember  \\\n2967       5  117833.30              3          0               0   \n700        5       0.00              2          1               0   \n3481       9   53299.96              2          1               1   \n1621       5   75075.14              1          1               1   \n800        7       0.00              2          1               1   \n\n      EstimatedSalary  Exited  class_test  \n2967          5831.00       1          -1  \n700          95611.47       0          -1  \n3481         42855.97       0          -1  \n1621          8651.92       1          -1  \n800         173952.50       0          -1  ",
      "text/html": "<div>\n<style scoped>\n    .dataframe tbody tr th:only-of-type {\n        vertical-align: middle;\n    }\n\n    .dataframe tbody tr th {\n        vertical-align: top;\n    }\n\n    .dataframe thead th {\n        text-align: right;\n    }\n</style>\n<table border=\"1\" class=\"dataframe\">\n  <thead>\n    <tr style=\"text-align: right;\">\n      <th></th>\n      <th>RowNumber</th>\n      <th>CustomerId</th>\n      <th>Surname</th>\n      <th>CreditScore</th>\n      <th>Geography</th>\n      <th>Gender</th>\n      <th>Age</th>\n      <th>Tenure</th>\n      <th>Balance</th>\n      <th>NumOfProducts</th>\n      <th>HasCrCard</th>\n      <th>IsActiveMember</th>\n      <th>EstimatedSalary</th>\n      <th>Exited</th>\n      <th>class_test</th>\n    </tr>\n  </thead>\n  <tbody>\n    <tr>\n      <th>2967</th>\n      <td>2968</td>\n      <td>15595324</td>\n      <td>Daniels</td>\n      <td>579</td>\n      <td>Germany</td>\n      <td>Female</td>\n      <td>39</td>\n      <td>5</td>\n      <td>117833.30</td>\n      <td>3</td>\n      <td>0</td>\n      <td>0</td>\n      <td>5831.00</td>\n      <td>1</td>\n      <td>-1</td>\n    </tr>\n    <tr>\n      <th>700</th>\n      <td>701</td>\n      <td>15803457</td>\n      <td>Hao</td>\n      <td>750</td>\n      <td>France</td>\n      <td>Female</td>\n      <td>32</td>\n      <td>5</td>\n      <td>0.00</td>\n      <td>2</td>\n      <td>1</td>\n      <td>0</td>\n      <td>95611.47</td>\n      <td>0</td>\n      <td>-1</td>\n    </tr>\n    <tr>\n      <th>3481</th>\n      <td>3482</td>\n      <td>15644686</td>\n      <td>Kennedy</td>\n      <td>729</td>\n      <td>Spain</td>\n      <td>Female</td>\n      <td>34</td>\n      <td>9</td>\n      <td>53299.96</td>\n      <td>2</td>\n      <td>1</td>\n      <td>1</td>\n      <td>42855.97</td>\n      <td>0</td>\n      <td>-1</td>\n    </tr>\n    <tr>\n      <th>1621</th>\n      <td>1622</td>\n      <td>15777797</td>\n      <td>Kovalyova</td>\n      <td>689</td>\n      <td>Spain</td>\n      <td>Male</td>\n      <td>38</td>\n      <td>5</td>\n      <td>75075.14</td>\n      <td>1</td>\n      <td>1</td>\n      <td>1</td>\n      <td>8651.92</td>\n      <td>1</td>\n      <td>-1</td>\n    </tr>\n    <tr>\n      <th>800</th>\n      <td>801</td>\n      <td>15747542</td>\n      <td>Perez</td>\n      <td>605</td>\n      <td>France</td>\n      <td>Male</td>\n      <td>52</td>\n      <td>7</td>\n      <td>0.00</td>\n      <td>2</td>\n      <td>1</td>\n      <td>1</td>\n      <td>173952.50</td>\n      <td>0</td>\n      <td>-1</td>\n    </tr>\n  </tbody>\n</table>\n</div>"
     },
     "execution_count": 60,
     "metadata": {},
     "output_type": "execute_result"
    }
   ],
   "source": [
    "mod_data.head(5)"
   ],
   "metadata": {
    "collapsed": false,
    "pycharm": {
     "name": "#%%\n"
    }
   }
  },
  {
   "cell_type": "code",
   "execution_count": 61,
   "outputs": [
    {
     "name": "stdout",
     "output_type": "stream",
     "text": [
      "(382, 15) (382, 15)\n"
     ]
    }
   ],
   "source": [
    "mod_data = mod_data.sample(frac=1, random_state=42)\n",
    "\n",
    "\n",
    "data_N = mod_data[mod_data['class_test'] == -1]\n",
    "data_P = mod_data[mod_data['class_test'] == 1]\n",
    "\n",
    "neg_sample = data_N[:data_P.shape[0]]\n",
    "pos_sample = data_P.copy()\n",
    "\n",
    "print(neg_sample.shape, pos_sample.shape)\n",
    "sample_train = pd.concat([neg_sample, pos_sample]).sample(frac=1, random_state=42)"
   ],
   "metadata": {
    "collapsed": false,
    "pycharm": {
     "name": "#%%\n"
    }
   }
  },
  {
   "cell_type": "code",
   "execution_count": 62,
   "outputs": [
    {
     "data": {
      "text/plain": "      RowNumber  CustomerId     Surname  CreditScore Geography  Gender  Age  \\\n2421       2422    15574842     Lorenzo          653   Germany  Female   25   \n5828       5829    15684419     Wallace          709     Spain  Female   37   \n1117       1118    15592583      Colman          731    France  Female   47   \n6303       6304    15591169       Hawes          788   Germany  Female   49   \n7645       7646    15698522      Thomas          660   Germany    Male   39   \n...         ...         ...         ...          ...       ...     ...  ...   \n7042       7043    15617348  Uchechukwu          544    France    Male   44   \n9086       9087    15743545      Nworie          647     Spain  Female   29   \n6516       6517    15775797    Esposito          607     Spain  Female   32   \n7483       7484    15784526        Chen          616    France    Male   44   \n6367       6368    15568742      Parkes          536    France  Female   41   \n\n      Tenure    Balance  NumOfProducts  HasCrCard  IsActiveMember  \\\n2421       2  158266.42              3          1               1   \n5828       8       0.00              3          1               0   \n1117       1  115414.19              3          0               0   \n6303       4  137455.99              1          1               0   \n7645       9  134599.33              2          1               0   \n...      ...        ...            ...        ...             ...   \n7042       1       0.00              2          0               0   \n9086       2       0.00              2          1               0   \n6516       7       0.00              3          0               1   \n7483       5  102016.38              1          0               1   \n6367       9       0.00              1          1               0   \n\n      EstimatedSalary  Exited  class_test  \n2421        199357.24       0          -1  \n5828         71738.56       0          -1  \n1117        191734.67       1           1  \n6303        184178.29       1          -1  \n7645        183095.87       0          -1  \n...               ...     ...         ...  \n7042         69244.24       0          -1  \n9086        179032.68       0          -1  \n6516         10674.62       0          -1  \n7483        178235.37       1           1  \n6367        121299.14       0          -1  \n\n[764 rows x 15 columns]",
      "text/html": "<div>\n<style scoped>\n    .dataframe tbody tr th:only-of-type {\n        vertical-align: middle;\n    }\n\n    .dataframe tbody tr th {\n        vertical-align: top;\n    }\n\n    .dataframe thead th {\n        text-align: right;\n    }\n</style>\n<table border=\"1\" class=\"dataframe\">\n  <thead>\n    <tr style=\"text-align: right;\">\n      <th></th>\n      <th>RowNumber</th>\n      <th>CustomerId</th>\n      <th>Surname</th>\n      <th>CreditScore</th>\n      <th>Geography</th>\n      <th>Gender</th>\n      <th>Age</th>\n      <th>Tenure</th>\n      <th>Balance</th>\n      <th>NumOfProducts</th>\n      <th>HasCrCard</th>\n      <th>IsActiveMember</th>\n      <th>EstimatedSalary</th>\n      <th>Exited</th>\n      <th>class_test</th>\n    </tr>\n  </thead>\n  <tbody>\n    <tr>\n      <th>2421</th>\n      <td>2422</td>\n      <td>15574842</td>\n      <td>Lorenzo</td>\n      <td>653</td>\n      <td>Germany</td>\n      <td>Female</td>\n      <td>25</td>\n      <td>2</td>\n      <td>158266.42</td>\n      <td>3</td>\n      <td>1</td>\n      <td>1</td>\n      <td>199357.24</td>\n      <td>0</td>\n      <td>-1</td>\n    </tr>\n    <tr>\n      <th>5828</th>\n      <td>5829</td>\n      <td>15684419</td>\n      <td>Wallace</td>\n      <td>709</td>\n      <td>Spain</td>\n      <td>Female</td>\n      <td>37</td>\n      <td>8</td>\n      <td>0.00</td>\n      <td>3</td>\n      <td>1</td>\n      <td>0</td>\n      <td>71738.56</td>\n      <td>0</td>\n      <td>-1</td>\n    </tr>\n    <tr>\n      <th>1117</th>\n      <td>1118</td>\n      <td>15592583</td>\n      <td>Colman</td>\n      <td>731</td>\n      <td>France</td>\n      <td>Female</td>\n      <td>47</td>\n      <td>1</td>\n      <td>115414.19</td>\n      <td>3</td>\n      <td>0</td>\n      <td>0</td>\n      <td>191734.67</td>\n      <td>1</td>\n      <td>1</td>\n    </tr>\n    <tr>\n      <th>6303</th>\n      <td>6304</td>\n      <td>15591169</td>\n      <td>Hawes</td>\n      <td>788</td>\n      <td>Germany</td>\n      <td>Female</td>\n      <td>49</td>\n      <td>4</td>\n      <td>137455.99</td>\n      <td>1</td>\n      <td>1</td>\n      <td>0</td>\n      <td>184178.29</td>\n      <td>1</td>\n      <td>-1</td>\n    </tr>\n    <tr>\n      <th>7645</th>\n      <td>7646</td>\n      <td>15698522</td>\n      <td>Thomas</td>\n      <td>660</td>\n      <td>Germany</td>\n      <td>Male</td>\n      <td>39</td>\n      <td>9</td>\n      <td>134599.33</td>\n      <td>2</td>\n      <td>1</td>\n      <td>0</td>\n      <td>183095.87</td>\n      <td>0</td>\n      <td>-1</td>\n    </tr>\n    <tr>\n      <th>...</th>\n      <td>...</td>\n      <td>...</td>\n      <td>...</td>\n      <td>...</td>\n      <td>...</td>\n      <td>...</td>\n      <td>...</td>\n      <td>...</td>\n      <td>...</td>\n      <td>...</td>\n      <td>...</td>\n      <td>...</td>\n      <td>...</td>\n      <td>...</td>\n      <td>...</td>\n    </tr>\n    <tr>\n      <th>7042</th>\n      <td>7043</td>\n      <td>15617348</td>\n      <td>Uchechukwu</td>\n      <td>544</td>\n      <td>France</td>\n      <td>Male</td>\n      <td>44</td>\n      <td>1</td>\n      <td>0.00</td>\n      <td>2</td>\n      <td>0</td>\n      <td>0</td>\n      <td>69244.24</td>\n      <td>0</td>\n      <td>-1</td>\n    </tr>\n    <tr>\n      <th>9086</th>\n      <td>9087</td>\n      <td>15743545</td>\n      <td>Nworie</td>\n      <td>647</td>\n      <td>Spain</td>\n      <td>Female</td>\n      <td>29</td>\n      <td>2</td>\n      <td>0.00</td>\n      <td>2</td>\n      <td>1</td>\n      <td>0</td>\n      <td>179032.68</td>\n      <td>0</td>\n      <td>-1</td>\n    </tr>\n    <tr>\n      <th>6516</th>\n      <td>6517</td>\n      <td>15775797</td>\n      <td>Esposito</td>\n      <td>607</td>\n      <td>Spain</td>\n      <td>Female</td>\n      <td>32</td>\n      <td>7</td>\n      <td>0.00</td>\n      <td>3</td>\n      <td>0</td>\n      <td>1</td>\n      <td>10674.62</td>\n      <td>0</td>\n      <td>-1</td>\n    </tr>\n    <tr>\n      <th>7483</th>\n      <td>7484</td>\n      <td>15784526</td>\n      <td>Chen</td>\n      <td>616</td>\n      <td>France</td>\n      <td>Male</td>\n      <td>44</td>\n      <td>5</td>\n      <td>102016.38</td>\n      <td>1</td>\n      <td>0</td>\n      <td>1</td>\n      <td>178235.37</td>\n      <td>1</td>\n      <td>1</td>\n    </tr>\n    <tr>\n      <th>6367</th>\n      <td>6368</td>\n      <td>15568742</td>\n      <td>Parkes</td>\n      <td>536</td>\n      <td>France</td>\n      <td>Female</td>\n      <td>41</td>\n      <td>9</td>\n      <td>0.00</td>\n      <td>1</td>\n      <td>1</td>\n      <td>0</td>\n      <td>121299.14</td>\n      <td>0</td>\n      <td>-1</td>\n    </tr>\n  </tbody>\n</table>\n<p>764 rows × 15 columns</p>\n</div>"
     },
     "execution_count": 62,
     "metadata": {},
     "output_type": "execute_result"
    }
   ],
   "source": [
    "sample_train"
   ],
   "metadata": {
    "collapsed": false,
    "pycharm": {
     "name": "#%%\n"
    }
   }
  },
  {
   "cell_type": "code",
   "execution_count": 63,
   "outputs": [
    {
     "data": {
      "text/plain": "Pipeline(steps=[('features',\n                 FeatureUnion(transformer_list=[('Geography',\n                                                 Pipeline(steps=[('selector',\n                                                                  FeatureSelector(column='Geography')),\n                                                                 ('ohe',\n                                                                  OHEEncoder(key='Geography'))])),\n                                                ('Gender',\n                                                 Pipeline(steps=[('selector',\n                                                                  FeatureSelector(column='Gender')),\n                                                                 ('ohe',\n                                                                  OHEEncoder(key='Gender'))])),\n                                                ('Tenure',\n                                                 Pipeline(steps=[('selector',\n                                                                  FeatureSelector(column='Tenu...\n                                                 Pipeline(steps=[('selector',\n                                                                  NumberSelector(key='Age'))])),\n                                                ('Balance',\n                                                 Pipeline(steps=[('selector',\n                                                                  NumberSelector(key='Balance'))])),\n                                                ('NumOfProducts',\n                                                 Pipeline(steps=[('selector',\n                                                                  NumberSelector(key='NumOfProducts'))])),\n                                                ('EstimatedSalary',\n                                                 Pipeline(steps=[('selector',\n                                                                  NumberSelector(key='EstimatedSalary'))]))])),\n                ('classifier', RandomForestClassifier(random_state=42))])",
      "text/html": "<style>#sk-container-id-5 {color: black;background-color: white;}#sk-container-id-5 pre{padding: 0;}#sk-container-id-5 div.sk-toggleable {background-color: white;}#sk-container-id-5 label.sk-toggleable__label {cursor: pointer;display: block;width: 100%;margin-bottom: 0;padding: 0.3em;box-sizing: border-box;text-align: center;}#sk-container-id-5 label.sk-toggleable__label-arrow:before {content: \"▸\";float: left;margin-right: 0.25em;color: #696969;}#sk-container-id-5 label.sk-toggleable__label-arrow:hover:before {color: black;}#sk-container-id-5 div.sk-estimator:hover label.sk-toggleable__label-arrow:before {color: black;}#sk-container-id-5 div.sk-toggleable__content {max-height: 0;max-width: 0;overflow: hidden;text-align: left;background-color: #f0f8ff;}#sk-container-id-5 div.sk-toggleable__content pre {margin: 0.2em;color: black;border-radius: 0.25em;background-color: #f0f8ff;}#sk-container-id-5 input.sk-toggleable__control:checked~div.sk-toggleable__content {max-height: 200px;max-width: 100%;overflow: auto;}#sk-container-id-5 input.sk-toggleable__control:checked~label.sk-toggleable__label-arrow:before {content: \"▾\";}#sk-container-id-5 div.sk-estimator input.sk-toggleable__control:checked~label.sk-toggleable__label {background-color: #d4ebff;}#sk-container-id-5 div.sk-label input.sk-toggleable__control:checked~label.sk-toggleable__label {background-color: #d4ebff;}#sk-container-id-5 input.sk-hidden--visually {border: 0;clip: rect(1px 1px 1px 1px);clip: rect(1px, 1px, 1px, 1px);height: 1px;margin: -1px;overflow: hidden;padding: 0;position: absolute;width: 1px;}#sk-container-id-5 div.sk-estimator {font-family: monospace;background-color: #f0f8ff;border: 1px dotted black;border-radius: 0.25em;box-sizing: border-box;margin-bottom: 0.5em;}#sk-container-id-5 div.sk-estimator:hover {background-color: #d4ebff;}#sk-container-id-5 div.sk-parallel-item::after {content: \"\";width: 100%;border-bottom: 1px solid gray;flex-grow: 1;}#sk-container-id-5 div.sk-label:hover label.sk-toggleable__label {background-color: #d4ebff;}#sk-container-id-5 div.sk-serial::before {content: \"\";position: absolute;border-left: 1px solid gray;box-sizing: border-box;top: 0;bottom: 0;left: 50%;z-index: 0;}#sk-container-id-5 div.sk-serial {display: flex;flex-direction: column;align-items: center;background-color: white;padding-right: 0.2em;padding-left: 0.2em;position: relative;}#sk-container-id-5 div.sk-item {position: relative;z-index: 1;}#sk-container-id-5 div.sk-parallel {display: flex;align-items: stretch;justify-content: center;background-color: white;position: relative;}#sk-container-id-5 div.sk-item::before, #sk-container-id-5 div.sk-parallel-item::before {content: \"\";position: absolute;border-left: 1px solid gray;box-sizing: border-box;top: 0;bottom: 0;left: 50%;z-index: -1;}#sk-container-id-5 div.sk-parallel-item {display: flex;flex-direction: column;z-index: 1;position: relative;background-color: white;}#sk-container-id-5 div.sk-parallel-item:first-child::after {align-self: flex-end;width: 50%;}#sk-container-id-5 div.sk-parallel-item:last-child::after {align-self: flex-start;width: 50%;}#sk-container-id-5 div.sk-parallel-item:only-child::after {width: 0;}#sk-container-id-5 div.sk-dashed-wrapped {border: 1px dashed gray;margin: 0 0.4em 0.5em 0.4em;box-sizing: border-box;padding-bottom: 0.4em;background-color: white;}#sk-container-id-5 div.sk-label label {font-family: monospace;font-weight: bold;display: inline-block;line-height: 1.2em;}#sk-container-id-5 div.sk-label-container {text-align: center;}#sk-container-id-5 div.sk-container {/* jupyter's `normalize.less` sets `[hidden] { display: none; }` but bootstrap.min.css set `[hidden] { display: none !important; }` so we also need the `!important` here to be able to override the default hidden behavior on the sphinx rendered scikit-learn.org. See: https://github.com/scikit-learn/scikit-learn/issues/21755 */display: inline-block !important;position: relative;}#sk-container-id-5 div.sk-text-repr-fallback {display: none;}</style><div id=\"sk-container-id-5\" class=\"sk-top-container\"><div class=\"sk-text-repr-fallback\"><pre>Pipeline(steps=[(&#x27;features&#x27;,\n                 FeatureUnion(transformer_list=[(&#x27;Geography&#x27;,\n                                                 Pipeline(steps=[(&#x27;selector&#x27;,\n                                                                  FeatureSelector(column=&#x27;Geography&#x27;)),\n                                                                 (&#x27;ohe&#x27;,\n                                                                  OHEEncoder(key=&#x27;Geography&#x27;))])),\n                                                (&#x27;Gender&#x27;,\n                                                 Pipeline(steps=[(&#x27;selector&#x27;,\n                                                                  FeatureSelector(column=&#x27;Gender&#x27;)),\n                                                                 (&#x27;ohe&#x27;,\n                                                                  OHEEncoder(key=&#x27;Gender&#x27;))])),\n                                                (&#x27;Tenure&#x27;,\n                                                 Pipeline(steps=[(&#x27;selector&#x27;,\n                                                                  FeatureSelector(column=&#x27;Tenu...\n                                                 Pipeline(steps=[(&#x27;selector&#x27;,\n                                                                  NumberSelector(key=&#x27;Age&#x27;))])),\n                                                (&#x27;Balance&#x27;,\n                                                 Pipeline(steps=[(&#x27;selector&#x27;,\n                                                                  NumberSelector(key=&#x27;Balance&#x27;))])),\n                                                (&#x27;NumOfProducts&#x27;,\n                                                 Pipeline(steps=[(&#x27;selector&#x27;,\n                                                                  NumberSelector(key=&#x27;NumOfProducts&#x27;))])),\n                                                (&#x27;EstimatedSalary&#x27;,\n                                                 Pipeline(steps=[(&#x27;selector&#x27;,\n                                                                  NumberSelector(key=&#x27;EstimatedSalary&#x27;))]))])),\n                (&#x27;classifier&#x27;, RandomForestClassifier(random_state=42))])</pre><b>In a Jupyter environment, please rerun this cell to show the HTML representation or trust the notebook. <br />On GitHub, the HTML representation is unable to render, please try loading this page with nbviewer.org.</b></div><div class=\"sk-container\" hidden><div class=\"sk-item sk-dashed-wrapped\"><div class=\"sk-label-container\"><div class=\"sk-label sk-toggleable\"><input class=\"sk-toggleable__control sk-hidden--visually\" id=\"sk-estimator-id-73\" type=\"checkbox\" ><label for=\"sk-estimator-id-73\" class=\"sk-toggleable__label sk-toggleable__label-arrow\">Pipeline</label><div class=\"sk-toggleable__content\"><pre>Pipeline(steps=[(&#x27;features&#x27;,\n                 FeatureUnion(transformer_list=[(&#x27;Geography&#x27;,\n                                                 Pipeline(steps=[(&#x27;selector&#x27;,\n                                                                  FeatureSelector(column=&#x27;Geography&#x27;)),\n                                                                 (&#x27;ohe&#x27;,\n                                                                  OHEEncoder(key=&#x27;Geography&#x27;))])),\n                                                (&#x27;Gender&#x27;,\n                                                 Pipeline(steps=[(&#x27;selector&#x27;,\n                                                                  FeatureSelector(column=&#x27;Gender&#x27;)),\n                                                                 (&#x27;ohe&#x27;,\n                                                                  OHEEncoder(key=&#x27;Gender&#x27;))])),\n                                                (&#x27;Tenure&#x27;,\n                                                 Pipeline(steps=[(&#x27;selector&#x27;,\n                                                                  FeatureSelector(column=&#x27;Tenu...\n                                                 Pipeline(steps=[(&#x27;selector&#x27;,\n                                                                  NumberSelector(key=&#x27;Age&#x27;))])),\n                                                (&#x27;Balance&#x27;,\n                                                 Pipeline(steps=[(&#x27;selector&#x27;,\n                                                                  NumberSelector(key=&#x27;Balance&#x27;))])),\n                                                (&#x27;NumOfProducts&#x27;,\n                                                 Pipeline(steps=[(&#x27;selector&#x27;,\n                                                                  NumberSelector(key=&#x27;NumOfProducts&#x27;))])),\n                                                (&#x27;EstimatedSalary&#x27;,\n                                                 Pipeline(steps=[(&#x27;selector&#x27;,\n                                                                  NumberSelector(key=&#x27;EstimatedSalary&#x27;))]))])),\n                (&#x27;classifier&#x27;, RandomForestClassifier(random_state=42))])</pre></div></div></div><div class=\"sk-serial\"><div class=\"sk-item sk-dashed-wrapped\"><div class=\"sk-label-container\"><div class=\"sk-label sk-toggleable\"><input class=\"sk-toggleable__control sk-hidden--visually\" id=\"sk-estimator-id-74\" type=\"checkbox\" ><label for=\"sk-estimator-id-74\" class=\"sk-toggleable__label sk-toggleable__label-arrow\">features: FeatureUnion</label><div class=\"sk-toggleable__content\"><pre>FeatureUnion(transformer_list=[(&#x27;Geography&#x27;,\n                                Pipeline(steps=[(&#x27;selector&#x27;,\n                                                 FeatureSelector(column=&#x27;Geography&#x27;)),\n                                                (&#x27;ohe&#x27;,\n                                                 OHEEncoder(key=&#x27;Geography&#x27;))])),\n                               (&#x27;Gender&#x27;,\n                                Pipeline(steps=[(&#x27;selector&#x27;,\n                                                 FeatureSelector(column=&#x27;Gender&#x27;)),\n                                                (&#x27;ohe&#x27;,\n                                                 OHEEncoder(key=&#x27;Gender&#x27;))])),\n                               (&#x27;Tenure&#x27;,\n                                Pipeline(steps=[(&#x27;selector&#x27;,\n                                                 FeatureSelector(column=&#x27;Tenure&#x27;)),\n                                                (&#x27;ohe&#x27;,\n                                                 OHEEncoder(key=...\n                                                 NumberSelector(key=&#x27;CreditScore&#x27;))])),\n                               (&#x27;Age&#x27;,\n                                Pipeline(steps=[(&#x27;selector&#x27;,\n                                                 NumberSelector(key=&#x27;Age&#x27;))])),\n                               (&#x27;Balance&#x27;,\n                                Pipeline(steps=[(&#x27;selector&#x27;,\n                                                 NumberSelector(key=&#x27;Balance&#x27;))])),\n                               (&#x27;NumOfProducts&#x27;,\n                                Pipeline(steps=[(&#x27;selector&#x27;,\n                                                 NumberSelector(key=&#x27;NumOfProducts&#x27;))])),\n                               (&#x27;EstimatedSalary&#x27;,\n                                Pipeline(steps=[(&#x27;selector&#x27;,\n                                                 NumberSelector(key=&#x27;EstimatedSalary&#x27;))]))])</pre></div></div></div><div class=\"sk-parallel\"><div class=\"sk-parallel-item\"><div class=\"sk-item\"><div class=\"sk-label-container\"><div class=\"sk-label sk-toggleable\"><label>Geography</label></div></div><div class=\"sk-serial\"><div class=\"sk-item\"><div class=\"sk-serial\"><div class=\"sk-item\"><div class=\"sk-estimator sk-toggleable\"><input class=\"sk-toggleable__control sk-hidden--visually\" id=\"sk-estimator-id-75\" type=\"checkbox\" ><label for=\"sk-estimator-id-75\" class=\"sk-toggleable__label sk-toggleable__label-arrow\">FeatureSelector</label><div class=\"sk-toggleable__content\"><pre>FeatureSelector(column=&#x27;Geography&#x27;)</pre></div></div></div><div class=\"sk-item\"><div class=\"sk-estimator sk-toggleable\"><input class=\"sk-toggleable__control sk-hidden--visually\" id=\"sk-estimator-id-76\" type=\"checkbox\" ><label for=\"sk-estimator-id-76\" class=\"sk-toggleable__label sk-toggleable__label-arrow\">OHEEncoder</label><div class=\"sk-toggleable__content\"><pre>OHEEncoder(key=&#x27;Geography&#x27;)</pre></div></div></div></div></div></div></div></div><div class=\"sk-parallel-item\"><div class=\"sk-item\"><div class=\"sk-label-container\"><div class=\"sk-label sk-toggleable\"><label>Gender</label></div></div><div class=\"sk-serial\"><div class=\"sk-item\"><div class=\"sk-serial\"><div class=\"sk-item\"><div class=\"sk-estimator sk-toggleable\"><input class=\"sk-toggleable__control sk-hidden--visually\" id=\"sk-estimator-id-77\" type=\"checkbox\" ><label for=\"sk-estimator-id-77\" class=\"sk-toggleable__label sk-toggleable__label-arrow\">FeatureSelector</label><div class=\"sk-toggleable__content\"><pre>FeatureSelector(column=&#x27;Gender&#x27;)</pre></div></div></div><div class=\"sk-item\"><div class=\"sk-estimator sk-toggleable\"><input class=\"sk-toggleable__control sk-hidden--visually\" id=\"sk-estimator-id-78\" type=\"checkbox\" ><label for=\"sk-estimator-id-78\" class=\"sk-toggleable__label sk-toggleable__label-arrow\">OHEEncoder</label><div class=\"sk-toggleable__content\"><pre>OHEEncoder(key=&#x27;Gender&#x27;)</pre></div></div></div></div></div></div></div></div><div class=\"sk-parallel-item\"><div class=\"sk-item\"><div class=\"sk-label-container\"><div class=\"sk-label sk-toggleable\"><label>Tenure</label></div></div><div class=\"sk-serial\"><div class=\"sk-item\"><div class=\"sk-serial\"><div class=\"sk-item\"><div class=\"sk-estimator sk-toggleable\"><input class=\"sk-toggleable__control sk-hidden--visually\" id=\"sk-estimator-id-79\" type=\"checkbox\" ><label for=\"sk-estimator-id-79\" class=\"sk-toggleable__label sk-toggleable__label-arrow\">FeatureSelector</label><div class=\"sk-toggleable__content\"><pre>FeatureSelector(column=&#x27;Tenure&#x27;)</pre></div></div></div><div class=\"sk-item\"><div class=\"sk-estimator sk-toggleable\"><input class=\"sk-toggleable__control sk-hidden--visually\" id=\"sk-estimator-id-80\" type=\"checkbox\" ><label for=\"sk-estimator-id-80\" class=\"sk-toggleable__label sk-toggleable__label-arrow\">OHEEncoder</label><div class=\"sk-toggleable__content\"><pre>OHEEncoder(key=&#x27;Tenure&#x27;)</pre></div></div></div></div></div></div></div></div><div class=\"sk-parallel-item\"><div class=\"sk-item\"><div class=\"sk-label-container\"><div class=\"sk-label sk-toggleable\"><label>HasCrCard</label></div></div><div class=\"sk-serial\"><div class=\"sk-item\"><div class=\"sk-serial\"><div class=\"sk-item\"><div class=\"sk-estimator sk-toggleable\"><input class=\"sk-toggleable__control sk-hidden--visually\" id=\"sk-estimator-id-81\" type=\"checkbox\" ><label for=\"sk-estimator-id-81\" class=\"sk-toggleable__label sk-toggleable__label-arrow\">FeatureSelector</label><div class=\"sk-toggleable__content\"><pre>FeatureSelector(column=&#x27;HasCrCard&#x27;)</pre></div></div></div><div class=\"sk-item\"><div class=\"sk-estimator sk-toggleable\"><input class=\"sk-toggleable__control sk-hidden--visually\" id=\"sk-estimator-id-82\" type=\"checkbox\" ><label for=\"sk-estimator-id-82\" class=\"sk-toggleable__label sk-toggleable__label-arrow\">OHEEncoder</label><div class=\"sk-toggleable__content\"><pre>OHEEncoder(key=&#x27;HasCrCard&#x27;)</pre></div></div></div></div></div></div></div></div><div class=\"sk-parallel-item\"><div class=\"sk-item\"><div class=\"sk-label-container\"><div class=\"sk-label sk-toggleable\"><label>IsActiveMember</label></div></div><div class=\"sk-serial\"><div class=\"sk-item\"><div class=\"sk-serial\"><div class=\"sk-item\"><div class=\"sk-estimator sk-toggleable\"><input class=\"sk-toggleable__control sk-hidden--visually\" id=\"sk-estimator-id-83\" type=\"checkbox\" ><label for=\"sk-estimator-id-83\" class=\"sk-toggleable__label sk-toggleable__label-arrow\">FeatureSelector</label><div class=\"sk-toggleable__content\"><pre>FeatureSelector(column=&#x27;IsActiveMember&#x27;)</pre></div></div></div><div class=\"sk-item\"><div class=\"sk-estimator sk-toggleable\"><input class=\"sk-toggleable__control sk-hidden--visually\" id=\"sk-estimator-id-84\" type=\"checkbox\" ><label for=\"sk-estimator-id-84\" class=\"sk-toggleable__label sk-toggleable__label-arrow\">OHEEncoder</label><div class=\"sk-toggleable__content\"><pre>OHEEncoder(key=&#x27;IsActiveMember&#x27;)</pre></div></div></div></div></div></div></div></div><div class=\"sk-parallel-item\"><div class=\"sk-item\"><div class=\"sk-label-container\"><div class=\"sk-label sk-toggleable\"><label>CreditScore</label></div></div><div class=\"sk-serial\"><div class=\"sk-item\"><div class=\"sk-serial\"><div class=\"sk-item\"><div class=\"sk-estimator sk-toggleable\"><input class=\"sk-toggleable__control sk-hidden--visually\" id=\"sk-estimator-id-85\" type=\"checkbox\" ><label for=\"sk-estimator-id-85\" class=\"sk-toggleable__label sk-toggleable__label-arrow\">NumberSelector</label><div class=\"sk-toggleable__content\"><pre>NumberSelector(key=&#x27;CreditScore&#x27;)</pre></div></div></div></div></div></div></div></div><div class=\"sk-parallel-item\"><div class=\"sk-item\"><div class=\"sk-label-container\"><div class=\"sk-label sk-toggleable\"><label>Age</label></div></div><div class=\"sk-serial\"><div class=\"sk-item\"><div class=\"sk-serial\"><div class=\"sk-item\"><div class=\"sk-estimator sk-toggleable\"><input class=\"sk-toggleable__control sk-hidden--visually\" id=\"sk-estimator-id-86\" type=\"checkbox\" ><label for=\"sk-estimator-id-86\" class=\"sk-toggleable__label sk-toggleable__label-arrow\">NumberSelector</label><div class=\"sk-toggleable__content\"><pre>NumberSelector(key=&#x27;Age&#x27;)</pre></div></div></div></div></div></div></div></div><div class=\"sk-parallel-item\"><div class=\"sk-item\"><div class=\"sk-label-container\"><div class=\"sk-label sk-toggleable\"><label>Balance</label></div></div><div class=\"sk-serial\"><div class=\"sk-item\"><div class=\"sk-serial\"><div class=\"sk-item\"><div class=\"sk-estimator sk-toggleable\"><input class=\"sk-toggleable__control sk-hidden--visually\" id=\"sk-estimator-id-87\" type=\"checkbox\" ><label for=\"sk-estimator-id-87\" class=\"sk-toggleable__label sk-toggleable__label-arrow\">NumberSelector</label><div class=\"sk-toggleable__content\"><pre>NumberSelector(key=&#x27;Balance&#x27;)</pre></div></div></div></div></div></div></div></div><div class=\"sk-parallel-item\"><div class=\"sk-item\"><div class=\"sk-label-container\"><div class=\"sk-label sk-toggleable\"><label>NumOfProducts</label></div></div><div class=\"sk-serial\"><div class=\"sk-item\"><div class=\"sk-serial\"><div class=\"sk-item\"><div class=\"sk-estimator sk-toggleable\"><input class=\"sk-toggleable__control sk-hidden--visually\" id=\"sk-estimator-id-88\" type=\"checkbox\" ><label for=\"sk-estimator-id-88\" class=\"sk-toggleable__label sk-toggleable__label-arrow\">NumberSelector</label><div class=\"sk-toggleable__content\"><pre>NumberSelector(key=&#x27;NumOfProducts&#x27;)</pre></div></div></div></div></div></div></div></div><div class=\"sk-parallel-item\"><div class=\"sk-item\"><div class=\"sk-label-container\"><div class=\"sk-label sk-toggleable\"><label>EstimatedSalary</label></div></div><div class=\"sk-serial\"><div class=\"sk-item\"><div class=\"sk-serial\"><div class=\"sk-item\"><div class=\"sk-estimator sk-toggleable\"><input class=\"sk-toggleable__control sk-hidden--visually\" id=\"sk-estimator-id-89\" type=\"checkbox\" ><label for=\"sk-estimator-id-89\" class=\"sk-toggleable__label sk-toggleable__label-arrow\">NumberSelector</label><div class=\"sk-toggleable__content\"><pre>NumberSelector(key=&#x27;EstimatedSalary&#x27;)</pre></div></div></div></div></div></div></div></div></div></div><div class=\"sk-item\"><div class=\"sk-estimator sk-toggleable\"><input class=\"sk-toggleable__control sk-hidden--visually\" id=\"sk-estimator-id-90\" type=\"checkbox\" ><label for=\"sk-estimator-id-90\" class=\"sk-toggleable__label sk-toggleable__label-arrow\">RandomForestClassifier</label><div class=\"sk-toggleable__content\"><pre>RandomForestClassifier(random_state=42)</pre></div></div></div></div></div></div></div>"
     },
     "execution_count": 63,
     "metadata": {},
     "output_type": "execute_result"
    }
   ],
   "source": [
    "sample_train.loc[sample_train['class_test'] == -1, 'class_test'] = 0\n",
    "\n",
    "pipeline = Pipeline([\n",
    "    ('features', feats),\n",
    "    ('classifier', RandomForestClassifier(random_state=42)),\n",
    "])\n",
    "\n",
    "\n",
    "pipeline.fit(sample_train.drop(columns=['class_test', 'Exited']),\n",
    "             sample_train['class_test'])"
   ],
   "metadata": {
    "collapsed": false,
    "pycharm": {
     "name": "#%%\n"
    }
   }
  },
  {
   "cell_type": "code",
   "execution_count": 64,
   "outputs": [
    {
     "data": {
      "text/plain": "array([0.72, 0.39, 0.58, 0.42, 0.19, 0.8 , 0.15, 0.17, 0.38, 0.6 ])"
     },
     "execution_count": 64,
     "metadata": {},
     "output_type": "execute_result"
    }
   ],
   "source": [
    "preds = pipeline.predict_proba(X_test)[:, 1]\n",
    "preds[:10]"
   ],
   "metadata": {
    "collapsed": false,
    "pycharm": {
     "name": "#%%\n"
    }
   }
  },
  {
   "cell_type": "code",
   "execution_count": 65,
   "outputs": [
    {
     "name": "stdout",
     "output_type": "stream",
     "text": [
      "Best Threshold=0.58, F-Score=0.554, Precision=0.489, Recall=0.639\n"
     ]
    }
   ],
   "source": [
    "precision, recall, thresholds = precision_recall_curve(y_test, preds)\n",
    "\n",
    "fscore = (2 * precision * recall) / (precision + recall)\n",
    "# locate the index of the largest f score\n",
    "ix = np.argmax(fscore)\n",
    "print(f'Best Threshold={thresholds[ix]}, F-Score={fscore[ix]:.3f}, Precision={precision[ix]:.3f}, Recall={recall[ix]:.3f}')"
   ],
   "metadata": {
    "collapsed": false,
    "pycharm": {
     "name": "#%%\n"
    }
   }
  },
  {
   "cell_type": "code",
   "execution_count": 66,
   "outputs": [
    {
     "data": {
      "text/plain": "0.8059154209660564"
     },
     "execution_count": 66,
     "metadata": {},
     "output_type": "execute_result"
    }
   ],
   "source": [
    "roc_auc = roc_auc_score(y_test, preds)\n",
    "roc_auc"
   ],
   "metadata": {
    "collapsed": false,
    "pycharm": {
     "name": "#%%\n"
    }
   }
  },
  {
   "cell_type": "code",
   "execution_count": 67,
   "outputs": [],
   "source": [
    "new_row = pd.DataFrame({\n",
    "    'model': ['pu-learning'],\n",
    "    'thresh': [thresholds[ix]],\n",
    "    'F-Score': [fscore[ix]],\n",
    "    'Precision': [precision[ix]],\n",
    "    'Recall': [recall[ix]],\n",
    "    'ROC AUC': [roc_auc]\n",
    "})\n",
    "\n",
    "metrics_df = pd.concat([metrics_df, new_row], ignore_index=True)"
   ],
   "metadata": {
    "collapsed": false,
    "pycharm": {
     "name": "#%%\n"
    }
   }
  },
  {
   "cell_type": "code",
   "execution_count": 68,
   "outputs": [
    {
     "data": {
      "text/plain": "         model  thresh   F-Score  Precision    Recall   ROC AUC\n0   supervised    0.38  0.640641   0.653061  0.628684  0.863502\n1  pu-learning    0.58  0.554135   0.489458  0.638507  0.805915",
      "text/html": "<div>\n<style scoped>\n    .dataframe tbody tr th:only-of-type {\n        vertical-align: middle;\n    }\n\n    .dataframe tbody tr th {\n        vertical-align: top;\n    }\n\n    .dataframe thead th {\n        text-align: right;\n    }\n</style>\n<table border=\"1\" class=\"dataframe\">\n  <thead>\n    <tr style=\"text-align: right;\">\n      <th></th>\n      <th>model</th>\n      <th>thresh</th>\n      <th>F-Score</th>\n      <th>Precision</th>\n      <th>Recall</th>\n      <th>ROC AUC</th>\n    </tr>\n  </thead>\n  <tbody>\n    <tr>\n      <th>0</th>\n      <td>supervised</td>\n      <td>0.38</td>\n      <td>0.640641</td>\n      <td>0.653061</td>\n      <td>0.628684</td>\n      <td>0.863502</td>\n    </tr>\n    <tr>\n      <th>1</th>\n      <td>pu-learning</td>\n      <td>0.58</td>\n      <td>0.554135</td>\n      <td>0.489458</td>\n      <td>0.638507</td>\n      <td>0.805915</td>\n    </tr>\n  </tbody>\n</table>\n</div>"
     },
     "execution_count": 68,
     "metadata": {},
     "output_type": "execute_result"
    }
   ],
   "source": [
    "metrics_df"
   ],
   "metadata": {
    "collapsed": false,
    "pycharm": {
     "name": "#%%\n"
    }
   }
  },
  {
   "cell_type": "code",
   "execution_count": 69,
   "outputs": [
    {
     "name": "stderr",
     "output_type": "stream",
     "text": [
      "100%|██████████| 9/9 [00:02<00:00,  3.55it/s]\n"
     ]
    },
    {
     "data": {
      "text/plain": "     frac  thresh   F-Score  Precision    Recall   ROC AUC\n0  0.1000    0.60  0.509767   0.484099  0.538310  0.769913\n1  0.2125    0.56  0.548037   0.476744  0.644401  0.802129\n2  0.3250    0.59  0.565062   0.517129  0.622790  0.824080\n3  0.4375    0.64  0.577259   0.571154  0.583497  0.832189\n4  0.5500    0.63  0.586081   0.548885  0.628684  0.839407\n5  0.6625    0.64  0.598291   0.579044  0.618861  0.841845\n6  0.7750    0.63  0.610856   0.574394  0.652259  0.846983\n7  0.8875    0.64  0.624309   0.587522  0.666012  0.853069\n8  1.0000    0.64  0.621072   0.586387  0.660118  0.860818",
      "text/html": "<div>\n<style scoped>\n    .dataframe tbody tr th:only-of-type {\n        vertical-align: middle;\n    }\n\n    .dataframe tbody tr th {\n        vertical-align: top;\n    }\n\n    .dataframe thead th {\n        text-align: right;\n    }\n</style>\n<table border=\"1\" class=\"dataframe\">\n  <thead>\n    <tr style=\"text-align: right;\">\n      <th></th>\n      <th>frac</th>\n      <th>thresh</th>\n      <th>F-Score</th>\n      <th>Precision</th>\n      <th>Recall</th>\n      <th>ROC AUC</th>\n    </tr>\n  </thead>\n  <tbody>\n    <tr>\n      <th>0</th>\n      <td>0.1000</td>\n      <td>0.60</td>\n      <td>0.509767</td>\n      <td>0.484099</td>\n      <td>0.538310</td>\n      <td>0.769913</td>\n    </tr>\n    <tr>\n      <th>1</th>\n      <td>0.2125</td>\n      <td>0.56</td>\n      <td>0.548037</td>\n      <td>0.476744</td>\n      <td>0.644401</td>\n      <td>0.802129</td>\n    </tr>\n    <tr>\n      <th>2</th>\n      <td>0.3250</td>\n      <td>0.59</td>\n      <td>0.565062</td>\n      <td>0.517129</td>\n      <td>0.622790</td>\n      <td>0.824080</td>\n    </tr>\n    <tr>\n      <th>3</th>\n      <td>0.4375</td>\n      <td>0.64</td>\n      <td>0.577259</td>\n      <td>0.571154</td>\n      <td>0.583497</td>\n      <td>0.832189</td>\n    </tr>\n    <tr>\n      <th>4</th>\n      <td>0.5500</td>\n      <td>0.63</td>\n      <td>0.586081</td>\n      <td>0.548885</td>\n      <td>0.628684</td>\n      <td>0.839407</td>\n    </tr>\n    <tr>\n      <th>5</th>\n      <td>0.6625</td>\n      <td>0.64</td>\n      <td>0.598291</td>\n      <td>0.579044</td>\n      <td>0.618861</td>\n      <td>0.841845</td>\n    </tr>\n    <tr>\n      <th>6</th>\n      <td>0.7750</td>\n      <td>0.63</td>\n      <td>0.610856</td>\n      <td>0.574394</td>\n      <td>0.652259</td>\n      <td>0.846983</td>\n    </tr>\n    <tr>\n      <th>7</th>\n      <td>0.8875</td>\n      <td>0.64</td>\n      <td>0.624309</td>\n      <td>0.587522</td>\n      <td>0.666012</td>\n      <td>0.853069</td>\n    </tr>\n    <tr>\n      <th>8</th>\n      <td>1.0000</td>\n      <td>0.64</td>\n      <td>0.621072</td>\n      <td>0.586387</td>\n      <td>0.660118</td>\n      <td>0.860818</td>\n    </tr>\n  </tbody>\n</table>\n</div>"
     },
     "execution_count": 69,
     "metadata": {},
     "output_type": "execute_result"
    }
   ],
   "source": [
    "from tqdm import tqdm\n",
    "\n",
    "metrics_df = pd.DataFrame(columns=['frac', 'thresh', 'F-Score', 'Precision', 'Recall', 'ROC AUC'])\n",
    "\n",
    "\n",
    "for frac in tqdm(np.linspace(0.1, 1, 9)):\n",
    "    mod_data = X_train.copy()\n",
    "    mod_data['Exited'] = y_train\n",
    "    mod_data.head()\n",
    "\n",
    "    # get the indices of the positives samples\n",
    "    pos_ind = mod_data[mod_data['Exited'] == 1].sample(frac=1, random_state=42).index\n",
    "\n",
    "    pos_sample_len = int(np.ceil(frac * len(pos_ind)))\n",
    "    pos_sample = pos_ind[:pos_sample_len]\n",
    "\n",
    "    mod_data['class_test'] = -1\n",
    "    mod_data.loc[pos_sample,'class_test'] = 1\n",
    "\n",
    "    mod_data = mod_data.sample(frac=1, random_state=42)\n",
    "\n",
    "\n",
    "    data_N = mod_data[mod_data['class_test'] == -1]\n",
    "    data_P = mod_data[mod_data['class_test'] == 1]\n",
    "\n",
    "    neg_sample = data_N[:data_P.shape[0]]\n",
    "    pos_sample = data_P.copy()\n",
    "\n",
    "    sample_train = pd.concat([neg_sample, pos_sample]).sample(frac=1, random_state=42)\n",
    "\n",
    "    sample_train.loc[sample_train['class_test'] == -1, 'class_test'] = 0\n",
    "\n",
    "    pipeline = Pipeline([\n",
    "        ('features', feats),\n",
    "        ('classifier', RandomForestClassifier(random_state=42)),\n",
    "    ])\n",
    "\n",
    "    pipeline.fit(sample_train.drop(columns=['class_test','Exited']),\n",
    "                 sample_train['class_test'])\n",
    "\n",
    "    # наши прогнозы для тестовой выборки\n",
    "    preds = pipeline.predict_proba(X_test)[:, 1]\n",
    "    preds[:10]\n",
    "\n",
    "    precision, recall, thresholds = precision_recall_curve(y_test, preds)\n",
    "\n",
    "    fscore = (2 * precision * recall) / (precision + recall)\n",
    "    # locate the index of the largest f score\n",
    "    ix = np.argmax(fscore)\n",
    "    roc_auc = roc_auc_score(y_test, preds)\n",
    "\n",
    "    new_row = pd.DataFrame({\n",
    "        'frac': [frac],\n",
    "        'thresh': [thresholds[ix]],\n",
    "        'F-Score': [fscore[ix]],\n",
    "        'Precision': [precision[ix]],\n",
    "        'Recall': [recall[ix]],\n",
    "        'ROC AUC': [roc_auc]\n",
    "    })\n",
    "\n",
    "    metrics_df = pd.concat([metrics_df, new_row], ignore_index=True)\n",
    "\n",
    "metrics_df"
   ],
   "metadata": {
    "collapsed": false,
    "pycharm": {
     "name": "#%%\n"
    }
   }
  },
  {
   "cell_type": "code",
   "execution_count": 69,
   "outputs": [],
   "source": [],
   "metadata": {
    "collapsed": false,
    "pycharm": {
     "name": "#%%\n"
    }
   }
  }
 ],
 "metadata": {
  "kernelspec": {
   "display_name": "Python 3",
   "language": "python",
   "name": "python3"
  },
  "language_info": {
   "codemirror_mode": {
    "name": "ipython",
    "version": 2
   },
   "file_extension": ".py",
   "mimetype": "text/x-python",
   "name": "python",
   "nbconvert_exporter": "python",
   "pygments_lexer": "ipython2",
   "version": "2.7.6"
  }
 },
 "nbformat": 4,
 "nbformat_minor": 0
}