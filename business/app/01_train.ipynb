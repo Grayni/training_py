{
 "cells": [
  {
   "cell_type": "code",
   "execution_count": 21,
   "metadata": {
    "collapsed": true
   },
   "outputs": [],
   "source": [
    "import pandas as pd\n",
    "import dill\n",
    "from sklearn.model_selection import train_test_split\n",
    "from sklearn.base import BaseEstimator, TransformerMixin\n",
    "from sklearn.metrics import precision_recall_curve\n",
    "import numpy as np\n",
    "\n",
    "#normalizing data\n",
    "from sklearn.preprocessing import StandardScaler, OneHotEncoder\n",
    "\n",
    "# gradient boosting\n",
    "from sklearn.ensemble import GradientBoostingClassifier\n",
    "\n",
    "#pipeline\n",
    "from sklearn.pipeline import Pipeline, FeatureUnion"
   ]
  },
  {
   "cell_type": "code",
   "execution_count": 22,
   "outputs": [
    {
     "data": {
      "text/plain": "   id    age  gender  height  weight  ap_hi  ap_lo  cholesterol  gluc  smoke  \\\n0   0  18393       2     168    62.0    110     80            1     1      0   \n1   1  20228       1     156    85.0    140     90            3     1      0   \n2   2  18857       1     165    64.0    130     70            3     1      0   \n\n   alco  active  cardio  \n0     0       1       0  \n1     0       1       1  \n2     0       0       1  ",
      "text/html": "<div>\n<style scoped>\n    .dataframe tbody tr th:only-of-type {\n        vertical-align: middle;\n    }\n\n    .dataframe tbody tr th {\n        vertical-align: top;\n    }\n\n    .dataframe thead th {\n        text-align: right;\n    }\n</style>\n<table border=\"1\" class=\"dataframe\">\n  <thead>\n    <tr style=\"text-align: right;\">\n      <th></th>\n      <th>id</th>\n      <th>age</th>\n      <th>gender</th>\n      <th>height</th>\n      <th>weight</th>\n      <th>ap_hi</th>\n      <th>ap_lo</th>\n      <th>cholesterol</th>\n      <th>gluc</th>\n      <th>smoke</th>\n      <th>alco</th>\n      <th>active</th>\n      <th>cardio</th>\n    </tr>\n  </thead>\n  <tbody>\n    <tr>\n      <th>0</th>\n      <td>0</td>\n      <td>18393</td>\n      <td>2</td>\n      <td>168</td>\n      <td>62.0</td>\n      <td>110</td>\n      <td>80</td>\n      <td>1</td>\n      <td>1</td>\n      <td>0</td>\n      <td>0</td>\n      <td>1</td>\n      <td>0</td>\n    </tr>\n    <tr>\n      <th>1</th>\n      <td>1</td>\n      <td>20228</td>\n      <td>1</td>\n      <td>156</td>\n      <td>85.0</td>\n      <td>140</td>\n      <td>90</td>\n      <td>3</td>\n      <td>1</td>\n      <td>0</td>\n      <td>0</td>\n      <td>1</td>\n      <td>1</td>\n    </tr>\n    <tr>\n      <th>2</th>\n      <td>2</td>\n      <td>18857</td>\n      <td>1</td>\n      <td>165</td>\n      <td>64.0</td>\n      <td>130</td>\n      <td>70</td>\n      <td>3</td>\n      <td>1</td>\n      <td>0</td>\n      <td>0</td>\n      <td>0</td>\n      <td>1</td>\n    </tr>\n  </tbody>\n</table>\n</div>"
     },
     "execution_count": 22,
     "metadata": {},
     "output_type": "execute_result"
    }
   ],
   "source": [
    "df = pd.read_csv('data/cardio.csv', sep=';')\n",
    "df.head(3)"
   ],
   "metadata": {
    "collapsed": false,
    "pycharm": {
     "name": "#%%\n"
    }
   }
  },
  {
   "cell_type": "code",
   "execution_count": 34,
   "outputs": [],
   "source": [
    "X_train, X_test, y_train, y_test = train_test_split(df, df['cardio'], test_size=0.13, random_state=42)\n",
    "\n",
    "X_train = X_train.drop(columns=['id', 'cardio'])\n",
    "X_test = X_test.drop(columns=['id', 'cardio'])\n",
    "\n",
    "#save test\n",
    "X_test.to_csv(\"data_split/X_test.csv\", index=None)\n",
    "y_test.to_csv(\"data_split/y_test.csv\", index=None)\n",
    "\n",
    "#save train\n",
    "X_train.to_csv(\"data_split/X_train.csv\", index=None)\n",
    "y_train.to_csv(\"data_split/y_train.csv\", index=None)"
   ],
   "metadata": {
    "collapsed": false,
    "pycharm": {
     "name": "#%%\n"
    }
   }
  },
  {
   "cell_type": "code",
   "execution_count": 24,
   "outputs": [],
   "source": [
    "class ColumnSelector(BaseEstimator, TransformerMixin):\n",
    "    \"\"\"\n",
    "    Transformer to select a single column from the data frame to perform additional transformations on\n",
    "    \"\"\"\n",
    "    def __init__(self, key):\n",
    "        self.key = key\n",
    "\n",
    "    def fit(self, X, y=None):\n",
    "        return self\n",
    "\n",
    "    def transform(self, X):\n",
    "        return X[self.key]\n",
    "\n",
    "class NumberSelector(BaseEstimator, TransformerMixin):\n",
    "    \"\"\"\n",
    "    Transformer to select a single column from the data frame to perform additional transformations on\n",
    "    Use on numeric columns in the data\n",
    "    \"\"\"\n",
    "    def __init__(self, key):\n",
    "        self.key = key\n",
    "\n",
    "    def fit(self, X, y=None):\n",
    "        return self\n",
    "\n",
    "    def transform(self, X):\n",
    "        return X[[self.key]]\n",
    "\n",
    "class OHEEncoder(BaseEstimator, TransformerMixin):\n",
    "    def __init__(self, key, values=None):\n",
    "        self.key = key\n",
    "        self.columns = []\n",
    "        self.values = values\n",
    "\n",
    "    def fit(self, X, y=None):\n",
    "        if self.values is not None:\n",
    "            # exist values\n",
    "            self.columns = [f'{self.key}_{value}' for value in self.values]\n",
    "        else:\n",
    "            # if not found col_value, create col with postfix _value\n",
    "            self.columns = [f'{self.key}_{value}' for value in X[self.key].unique()]\n",
    "        return self\n",
    "\n",
    "    def transform(self, X):\n",
    "        X = pd.get_dummies(X, columns=[self.key], prefix=self.key)\n",
    "        for col in self.columns:\n",
    "            if col not in X.columns:\n",
    "                X[col] = 0\n",
    "        return X[self.columns]"
   ],
   "metadata": {
    "collapsed": false,
    "pycharm": {
     "name": "#%%\n"
    }
   }
  },
  {
   "cell_type": "code",
   "execution_count": 25,
   "outputs": [],
   "source": [
    "features = ['age', 'gender', 'height', 'weight', 'ap_hi', 'ap_lo', 'cholesterol', 'gluc', 'smoke', 'alco', 'active']\n",
    "target = 'cardio'"
   ],
   "metadata": {
    "collapsed": false,
    "pycharm": {
     "name": "#%%\n"
    }
   }
  },
  {
   "cell_type": "code",
   "execution_count": 26,
   "outputs": [],
   "source": [
    "# Pipelines\n",
    "\n",
    "age = Pipeline([\n",
    "    ('selector', NumberSelector(key='age')),\n",
    "    ('standard', StandardScaler())\n",
    "])\n",
    "\n",
    "height = Pipeline([\n",
    "    ('selector', NumberSelector(key='height')),\n",
    "    ('standard', StandardScaler())\n",
    "])\n",
    "\n",
    "weight = Pipeline([\n",
    "    ('selector', NumberSelector(key='weight')),\n",
    "    ('standard', StandardScaler())\n",
    "])\n",
    "\n",
    "ap_hi = Pipeline([\n",
    "    ('selector', NumberSelector(key='ap_hi')),\n",
    "    ('standard', StandardScaler())\n",
    "])\n",
    "\n",
    "ap_lo = Pipeline([\n",
    "    ('selector', NumberSelector(key='ap_lo')),\n",
    "    ('standard', StandardScaler())\n",
    "])\n",
    "\n",
    "gender = Pipeline([\n",
    "    ('selector', ColumnSelector(key='gender')),\n",
    "    ('enc_gender', OHEEncoder(key='gender', values=[1, 2]))\n",
    "])\n",
    "\n",
    "cholesterol = Pipeline([\n",
    "    ('selector', ColumnSelector(key='cholesterol')),\n",
    "    ('enc_cholesterol', OHEEncoder(key='cholesterol', values=[1, 2, 3]))\n",
    "])\n",
    "\n",
    "gluc = Pipeline([\n",
    "    ('selector', NumberSelector(key='gluc'))\n",
    "])\n",
    "\n",
    "smoke = Pipeline([\n",
    "    ('selector', NumberSelector(key='smoke'))\n",
    "])\n",
    "\n",
    "alco = Pipeline([\n",
    "    ('selector', NumberSelector(key='alco'))\n",
    "])\n",
    "\n",
    "active = Pipeline([\n",
    "    ('selector', NumberSelector(key='active'))\n",
    "])\n",
    "\n",
    "feats = FeatureUnion([('age', age),\n",
    "                      ('gender', gender),\n",
    "                      ('height', height),\n",
    "                      ('weight', weight),\n",
    "                      ('ap_hi', ap_hi),\n",
    "                      ('ap_lo', ap_lo),\n",
    "                      ('cholesterol', cholesterol),\n",
    "                      ('gluc', gluc),\n",
    "                      ('smoke', smoke),\n",
    "                      ('alco', alco),\n",
    "                      ('active', active)])"
   ],
   "metadata": {
    "collapsed": false,
    "pycharm": {
     "name": "#%%\n"
    }
   }
  },
  {
   "cell_type": "code",
   "execution_count": 27,
   "outputs": [
    {
     "name": "stdout",
     "output_type": "stream",
     "text": [
      "CPU times: total: 4.7 s\n",
      "Wall time: 4.74 s\n"
     ]
    },
    {
     "data": {
      "text/plain": "Pipeline(steps=[('features',\n                 FeatureUnion(transformer_list=[('age',\n                                                 Pipeline(steps=[('selector',\n                                                                  NumberSelector(key='age')),\n                                                                 ('standard',\n                                                                  StandardScaler())])),\n                                                ('gender',\n                                                 Pipeline(steps=[('selector',\n                                                                  ColumnSelector(key='gender')),\n                                                                 ('enc_gender',\n                                                                  OHEEncoder(key='gender',\n                                                                             values=[1,\n                                                                                     2]))])),\n                                                ('height',\n                                                 Pipeline(steps=[('selector',\n                                                                  NumberSelector(key='height')),\n                                                                 ('st...\n                                                                  OHEEncoder(key='cholesterol',\n                                                                             values=[1,\n                                                                                     2,\n                                                                                     3]))])),\n                                                ('gluc',\n                                                 Pipeline(steps=[('selector',\n                                                                  NumberSelector(key='gluc'))])),\n                                                ('smoke',\n                                                 Pipeline(steps=[('selector',\n                                                                  NumberSelector(key='smoke'))])),\n                                                ('alco',\n                                                 Pipeline(steps=[('selector',\n                                                                  NumberSelector(key='alco'))])),\n                                                ('active',\n                                                 Pipeline(steps=[('selector',\n                                                                  NumberSelector(key='active'))]))])),\n                ('classifier', GradientBoostingClassifier())])",
      "text/html": "<style>#sk-container-id-1 {color: black;background-color: white;}#sk-container-id-1 pre{padding: 0;}#sk-container-id-1 div.sk-toggleable {background-color: white;}#sk-container-id-1 label.sk-toggleable__label {cursor: pointer;display: block;width: 100%;margin-bottom: 0;padding: 0.3em;box-sizing: border-box;text-align: center;}#sk-container-id-1 label.sk-toggleable__label-arrow:before {content: \"▸\";float: left;margin-right: 0.25em;color: #696969;}#sk-container-id-1 label.sk-toggleable__label-arrow:hover:before {color: black;}#sk-container-id-1 div.sk-estimator:hover label.sk-toggleable__label-arrow:before {color: black;}#sk-container-id-1 div.sk-toggleable__content {max-height: 0;max-width: 0;overflow: hidden;text-align: left;background-color: #f0f8ff;}#sk-container-id-1 div.sk-toggleable__content pre {margin: 0.2em;color: black;border-radius: 0.25em;background-color: #f0f8ff;}#sk-container-id-1 input.sk-toggleable__control:checked~div.sk-toggleable__content {max-height: 200px;max-width: 100%;overflow: auto;}#sk-container-id-1 input.sk-toggleable__control:checked~label.sk-toggleable__label-arrow:before {content: \"▾\";}#sk-container-id-1 div.sk-estimator input.sk-toggleable__control:checked~label.sk-toggleable__label {background-color: #d4ebff;}#sk-container-id-1 div.sk-label input.sk-toggleable__control:checked~label.sk-toggleable__label {background-color: #d4ebff;}#sk-container-id-1 input.sk-hidden--visually {border: 0;clip: rect(1px 1px 1px 1px);clip: rect(1px, 1px, 1px, 1px);height: 1px;margin: -1px;overflow: hidden;padding: 0;position: absolute;width: 1px;}#sk-container-id-1 div.sk-estimator {font-family: monospace;background-color: #f0f8ff;border: 1px dotted black;border-radius: 0.25em;box-sizing: border-box;margin-bottom: 0.5em;}#sk-container-id-1 div.sk-estimator:hover {background-color: #d4ebff;}#sk-container-id-1 div.sk-parallel-item::after {content: \"\";width: 100%;border-bottom: 1px solid gray;flex-grow: 1;}#sk-container-id-1 div.sk-label:hover label.sk-toggleable__label {background-color: #d4ebff;}#sk-container-id-1 div.sk-serial::before {content: \"\";position: absolute;border-left: 1px solid gray;box-sizing: border-box;top: 0;bottom: 0;left: 50%;z-index: 0;}#sk-container-id-1 div.sk-serial {display: flex;flex-direction: column;align-items: center;background-color: white;padding-right: 0.2em;padding-left: 0.2em;position: relative;}#sk-container-id-1 div.sk-item {position: relative;z-index: 1;}#sk-container-id-1 div.sk-parallel {display: flex;align-items: stretch;justify-content: center;background-color: white;position: relative;}#sk-container-id-1 div.sk-item::before, #sk-container-id-1 div.sk-parallel-item::before {content: \"\";position: absolute;border-left: 1px solid gray;box-sizing: border-box;top: 0;bottom: 0;left: 50%;z-index: -1;}#sk-container-id-1 div.sk-parallel-item {display: flex;flex-direction: column;z-index: 1;position: relative;background-color: white;}#sk-container-id-1 div.sk-parallel-item:first-child::after {align-self: flex-end;width: 50%;}#sk-container-id-1 div.sk-parallel-item:last-child::after {align-self: flex-start;width: 50%;}#sk-container-id-1 div.sk-parallel-item:only-child::after {width: 0;}#sk-container-id-1 div.sk-dashed-wrapped {border: 1px dashed gray;margin: 0 0.4em 0.5em 0.4em;box-sizing: border-box;padding-bottom: 0.4em;background-color: white;}#sk-container-id-1 div.sk-label label {font-family: monospace;font-weight: bold;display: inline-block;line-height: 1.2em;}#sk-container-id-1 div.sk-label-container {text-align: center;}#sk-container-id-1 div.sk-container {/* jupyter's `normalize.less` sets `[hidden] { display: none; }` but bootstrap.min.css set `[hidden] { display: none !important; }` so we also need the `!important` here to be able to override the default hidden behavior on the sphinx rendered scikit-learn.org. See: https://github.com/scikit-learn/scikit-learn/issues/21755 */display: inline-block !important;position: relative;}#sk-container-id-1 div.sk-text-repr-fallback {display: none;}</style><div id=\"sk-container-id-1\" class=\"sk-top-container\"><div class=\"sk-text-repr-fallback\"><pre>Pipeline(steps=[(&#x27;features&#x27;,\n                 FeatureUnion(transformer_list=[(&#x27;age&#x27;,\n                                                 Pipeline(steps=[(&#x27;selector&#x27;,\n                                                                  NumberSelector(key=&#x27;age&#x27;)),\n                                                                 (&#x27;standard&#x27;,\n                                                                  StandardScaler())])),\n                                                (&#x27;gender&#x27;,\n                                                 Pipeline(steps=[(&#x27;selector&#x27;,\n                                                                  ColumnSelector(key=&#x27;gender&#x27;)),\n                                                                 (&#x27;enc_gender&#x27;,\n                                                                  OHEEncoder(key=&#x27;gender&#x27;,\n                                                                             values=[1,\n                                                                                     2]))])),\n                                                (&#x27;height&#x27;,\n                                                 Pipeline(steps=[(&#x27;selector&#x27;,\n                                                                  NumberSelector(key=&#x27;height&#x27;)),\n                                                                 (&#x27;st...\n                                                                  OHEEncoder(key=&#x27;cholesterol&#x27;,\n                                                                             values=[1,\n                                                                                     2,\n                                                                                     3]))])),\n                                                (&#x27;gluc&#x27;,\n                                                 Pipeline(steps=[(&#x27;selector&#x27;,\n                                                                  NumberSelector(key=&#x27;gluc&#x27;))])),\n                                                (&#x27;smoke&#x27;,\n                                                 Pipeline(steps=[(&#x27;selector&#x27;,\n                                                                  NumberSelector(key=&#x27;smoke&#x27;))])),\n                                                (&#x27;alco&#x27;,\n                                                 Pipeline(steps=[(&#x27;selector&#x27;,\n                                                                  NumberSelector(key=&#x27;alco&#x27;))])),\n                                                (&#x27;active&#x27;,\n                                                 Pipeline(steps=[(&#x27;selector&#x27;,\n                                                                  NumberSelector(key=&#x27;active&#x27;))]))])),\n                (&#x27;classifier&#x27;, GradientBoostingClassifier())])</pre><b>In a Jupyter environment, please rerun this cell to show the HTML representation or trust the notebook. <br />On GitHub, the HTML representation is unable to render, please try loading this page with nbviewer.org.</b></div><div class=\"sk-container\" hidden><div class=\"sk-item sk-dashed-wrapped\"><div class=\"sk-label-container\"><div class=\"sk-label sk-toggleable\"><input class=\"sk-toggleable__control sk-hidden--visually\" id=\"sk-estimator-id-1\" type=\"checkbox\" ><label for=\"sk-estimator-id-1\" class=\"sk-toggleable__label sk-toggleable__label-arrow\">Pipeline</label><div class=\"sk-toggleable__content\"><pre>Pipeline(steps=[(&#x27;features&#x27;,\n                 FeatureUnion(transformer_list=[(&#x27;age&#x27;,\n                                                 Pipeline(steps=[(&#x27;selector&#x27;,\n                                                                  NumberSelector(key=&#x27;age&#x27;)),\n                                                                 (&#x27;standard&#x27;,\n                                                                  StandardScaler())])),\n                                                (&#x27;gender&#x27;,\n                                                 Pipeline(steps=[(&#x27;selector&#x27;,\n                                                                  ColumnSelector(key=&#x27;gender&#x27;)),\n                                                                 (&#x27;enc_gender&#x27;,\n                                                                  OHEEncoder(key=&#x27;gender&#x27;,\n                                                                             values=[1,\n                                                                                     2]))])),\n                                                (&#x27;height&#x27;,\n                                                 Pipeline(steps=[(&#x27;selector&#x27;,\n                                                                  NumberSelector(key=&#x27;height&#x27;)),\n                                                                 (&#x27;st...\n                                                                  OHEEncoder(key=&#x27;cholesterol&#x27;,\n                                                                             values=[1,\n                                                                                     2,\n                                                                                     3]))])),\n                                                (&#x27;gluc&#x27;,\n                                                 Pipeline(steps=[(&#x27;selector&#x27;,\n                                                                  NumberSelector(key=&#x27;gluc&#x27;))])),\n                                                (&#x27;smoke&#x27;,\n                                                 Pipeline(steps=[(&#x27;selector&#x27;,\n                                                                  NumberSelector(key=&#x27;smoke&#x27;))])),\n                                                (&#x27;alco&#x27;,\n                                                 Pipeline(steps=[(&#x27;selector&#x27;,\n                                                                  NumberSelector(key=&#x27;alco&#x27;))])),\n                                                (&#x27;active&#x27;,\n                                                 Pipeline(steps=[(&#x27;selector&#x27;,\n                                                                  NumberSelector(key=&#x27;active&#x27;))]))])),\n                (&#x27;classifier&#x27;, GradientBoostingClassifier())])</pre></div></div></div><div class=\"sk-serial\"><div class=\"sk-item sk-dashed-wrapped\"><div class=\"sk-label-container\"><div class=\"sk-label sk-toggleable\"><input class=\"sk-toggleable__control sk-hidden--visually\" id=\"sk-estimator-id-2\" type=\"checkbox\" ><label for=\"sk-estimator-id-2\" class=\"sk-toggleable__label sk-toggleable__label-arrow\">features: FeatureUnion</label><div class=\"sk-toggleable__content\"><pre>FeatureUnion(transformer_list=[(&#x27;age&#x27;,\n                                Pipeline(steps=[(&#x27;selector&#x27;,\n                                                 NumberSelector(key=&#x27;age&#x27;)),\n                                                (&#x27;standard&#x27;,\n                                                 StandardScaler())])),\n                               (&#x27;gender&#x27;,\n                                Pipeline(steps=[(&#x27;selector&#x27;,\n                                                 ColumnSelector(key=&#x27;gender&#x27;)),\n                                                (&#x27;enc_gender&#x27;,\n                                                 OHEEncoder(key=&#x27;gender&#x27;,\n                                                            values=[1, 2]))])),\n                               (&#x27;height&#x27;,\n                                Pipeline(steps=[(&#x27;selector&#x27;,\n                                                 NumberSelector(key=&#x27;height&#x27;)),\n                                                (&#x27;standard&#x27;,\n                                                 StandardScaler())]))...\n                                                 ColumnSelector(key=&#x27;cholesterol&#x27;)),\n                                                (&#x27;enc_cholesterol&#x27;,\n                                                 OHEEncoder(key=&#x27;cholesterol&#x27;,\n                                                            values=[1, 2,\n                                                                    3]))])),\n                               (&#x27;gluc&#x27;,\n                                Pipeline(steps=[(&#x27;selector&#x27;,\n                                                 NumberSelector(key=&#x27;gluc&#x27;))])),\n                               (&#x27;smoke&#x27;,\n                                Pipeline(steps=[(&#x27;selector&#x27;,\n                                                 NumberSelector(key=&#x27;smoke&#x27;))])),\n                               (&#x27;alco&#x27;,\n                                Pipeline(steps=[(&#x27;selector&#x27;,\n                                                 NumberSelector(key=&#x27;alco&#x27;))])),\n                               (&#x27;active&#x27;,\n                                Pipeline(steps=[(&#x27;selector&#x27;,\n                                                 NumberSelector(key=&#x27;active&#x27;))]))])</pre></div></div></div><div class=\"sk-parallel\"><div class=\"sk-parallel-item\"><div class=\"sk-item\"><div class=\"sk-label-container\"><div class=\"sk-label sk-toggleable\"><label>age</label></div></div><div class=\"sk-serial\"><div class=\"sk-item\"><div class=\"sk-serial\"><div class=\"sk-item\"><div class=\"sk-estimator sk-toggleable\"><input class=\"sk-toggleable__control sk-hidden--visually\" id=\"sk-estimator-id-3\" type=\"checkbox\" ><label for=\"sk-estimator-id-3\" class=\"sk-toggleable__label sk-toggleable__label-arrow\">NumberSelector</label><div class=\"sk-toggleable__content\"><pre>NumberSelector(key=&#x27;age&#x27;)</pre></div></div></div><div class=\"sk-item\"><div class=\"sk-estimator sk-toggleable\"><input class=\"sk-toggleable__control sk-hidden--visually\" id=\"sk-estimator-id-4\" type=\"checkbox\" ><label for=\"sk-estimator-id-4\" class=\"sk-toggleable__label sk-toggleable__label-arrow\">StandardScaler</label><div class=\"sk-toggleable__content\"><pre>StandardScaler()</pre></div></div></div></div></div></div></div></div><div class=\"sk-parallel-item\"><div class=\"sk-item\"><div class=\"sk-label-container\"><div class=\"sk-label sk-toggleable\"><label>gender</label></div></div><div class=\"sk-serial\"><div class=\"sk-item\"><div class=\"sk-serial\"><div class=\"sk-item\"><div class=\"sk-estimator sk-toggleable\"><input class=\"sk-toggleable__control sk-hidden--visually\" id=\"sk-estimator-id-5\" type=\"checkbox\" ><label for=\"sk-estimator-id-5\" class=\"sk-toggleable__label sk-toggleable__label-arrow\">ColumnSelector</label><div class=\"sk-toggleable__content\"><pre>ColumnSelector(key=&#x27;gender&#x27;)</pre></div></div></div><div class=\"sk-item\"><div class=\"sk-estimator sk-toggleable\"><input class=\"sk-toggleable__control sk-hidden--visually\" id=\"sk-estimator-id-6\" type=\"checkbox\" ><label for=\"sk-estimator-id-6\" class=\"sk-toggleable__label sk-toggleable__label-arrow\">OHEEncoder</label><div class=\"sk-toggleable__content\"><pre>OHEEncoder(key=&#x27;gender&#x27;, values=[1, 2])</pre></div></div></div></div></div></div></div></div><div class=\"sk-parallel-item\"><div class=\"sk-item\"><div class=\"sk-label-container\"><div class=\"sk-label sk-toggleable\"><label>height</label></div></div><div class=\"sk-serial\"><div class=\"sk-item\"><div class=\"sk-serial\"><div class=\"sk-item\"><div class=\"sk-estimator sk-toggleable\"><input class=\"sk-toggleable__control sk-hidden--visually\" id=\"sk-estimator-id-7\" type=\"checkbox\" ><label for=\"sk-estimator-id-7\" class=\"sk-toggleable__label sk-toggleable__label-arrow\">NumberSelector</label><div class=\"sk-toggleable__content\"><pre>NumberSelector(key=&#x27;height&#x27;)</pre></div></div></div><div class=\"sk-item\"><div class=\"sk-estimator sk-toggleable\"><input class=\"sk-toggleable__control sk-hidden--visually\" id=\"sk-estimator-id-8\" type=\"checkbox\" ><label for=\"sk-estimator-id-8\" class=\"sk-toggleable__label sk-toggleable__label-arrow\">StandardScaler</label><div class=\"sk-toggleable__content\"><pre>StandardScaler()</pre></div></div></div></div></div></div></div></div><div class=\"sk-parallel-item\"><div class=\"sk-item\"><div class=\"sk-label-container\"><div class=\"sk-label sk-toggleable\"><label>weight</label></div></div><div class=\"sk-serial\"><div class=\"sk-item\"><div class=\"sk-serial\"><div class=\"sk-item\"><div class=\"sk-estimator sk-toggleable\"><input class=\"sk-toggleable__control sk-hidden--visually\" id=\"sk-estimator-id-9\" type=\"checkbox\" ><label for=\"sk-estimator-id-9\" class=\"sk-toggleable__label sk-toggleable__label-arrow\">NumberSelector</label><div class=\"sk-toggleable__content\"><pre>NumberSelector(key=&#x27;weight&#x27;)</pre></div></div></div><div class=\"sk-item\"><div class=\"sk-estimator sk-toggleable\"><input class=\"sk-toggleable__control sk-hidden--visually\" id=\"sk-estimator-id-10\" type=\"checkbox\" ><label for=\"sk-estimator-id-10\" class=\"sk-toggleable__label sk-toggleable__label-arrow\">StandardScaler</label><div class=\"sk-toggleable__content\"><pre>StandardScaler()</pre></div></div></div></div></div></div></div></div><div class=\"sk-parallel-item\"><div class=\"sk-item\"><div class=\"sk-label-container\"><div class=\"sk-label sk-toggleable\"><label>ap_hi</label></div></div><div class=\"sk-serial\"><div class=\"sk-item\"><div class=\"sk-serial\"><div class=\"sk-item\"><div class=\"sk-estimator sk-toggleable\"><input class=\"sk-toggleable__control sk-hidden--visually\" id=\"sk-estimator-id-11\" type=\"checkbox\" ><label for=\"sk-estimator-id-11\" class=\"sk-toggleable__label sk-toggleable__label-arrow\">NumberSelector</label><div class=\"sk-toggleable__content\"><pre>NumberSelector(key=&#x27;ap_hi&#x27;)</pre></div></div></div><div class=\"sk-item\"><div class=\"sk-estimator sk-toggleable\"><input class=\"sk-toggleable__control sk-hidden--visually\" id=\"sk-estimator-id-12\" type=\"checkbox\" ><label for=\"sk-estimator-id-12\" class=\"sk-toggleable__label sk-toggleable__label-arrow\">StandardScaler</label><div class=\"sk-toggleable__content\"><pre>StandardScaler()</pre></div></div></div></div></div></div></div></div><div class=\"sk-parallel-item\"><div class=\"sk-item\"><div class=\"sk-label-container\"><div class=\"sk-label sk-toggleable\"><label>ap_lo</label></div></div><div class=\"sk-serial\"><div class=\"sk-item\"><div class=\"sk-serial\"><div class=\"sk-item\"><div class=\"sk-estimator sk-toggleable\"><input class=\"sk-toggleable__control sk-hidden--visually\" id=\"sk-estimator-id-13\" type=\"checkbox\" ><label for=\"sk-estimator-id-13\" class=\"sk-toggleable__label sk-toggleable__label-arrow\">NumberSelector</label><div class=\"sk-toggleable__content\"><pre>NumberSelector(key=&#x27;ap_lo&#x27;)</pre></div></div></div><div class=\"sk-item\"><div class=\"sk-estimator sk-toggleable\"><input class=\"sk-toggleable__control sk-hidden--visually\" id=\"sk-estimator-id-14\" type=\"checkbox\" ><label for=\"sk-estimator-id-14\" class=\"sk-toggleable__label sk-toggleable__label-arrow\">StandardScaler</label><div class=\"sk-toggleable__content\"><pre>StandardScaler()</pre></div></div></div></div></div></div></div></div><div class=\"sk-parallel-item\"><div class=\"sk-item\"><div class=\"sk-label-container\"><div class=\"sk-label sk-toggleable\"><label>cholesterol</label></div></div><div class=\"sk-serial\"><div class=\"sk-item\"><div class=\"sk-serial\"><div class=\"sk-item\"><div class=\"sk-estimator sk-toggleable\"><input class=\"sk-toggleable__control sk-hidden--visually\" id=\"sk-estimator-id-15\" type=\"checkbox\" ><label for=\"sk-estimator-id-15\" class=\"sk-toggleable__label sk-toggleable__label-arrow\">ColumnSelector</label><div class=\"sk-toggleable__content\"><pre>ColumnSelector(key=&#x27;cholesterol&#x27;)</pre></div></div></div><div class=\"sk-item\"><div class=\"sk-estimator sk-toggleable\"><input class=\"sk-toggleable__control sk-hidden--visually\" id=\"sk-estimator-id-16\" type=\"checkbox\" ><label for=\"sk-estimator-id-16\" class=\"sk-toggleable__label sk-toggleable__label-arrow\">OHEEncoder</label><div class=\"sk-toggleable__content\"><pre>OHEEncoder(key=&#x27;cholesterol&#x27;, values=[1, 2, 3])</pre></div></div></div></div></div></div></div></div><div class=\"sk-parallel-item\"><div class=\"sk-item\"><div class=\"sk-label-container\"><div class=\"sk-label sk-toggleable\"><label>gluc</label></div></div><div class=\"sk-serial\"><div class=\"sk-item\"><div class=\"sk-serial\"><div class=\"sk-item\"><div class=\"sk-estimator sk-toggleable\"><input class=\"sk-toggleable__control sk-hidden--visually\" id=\"sk-estimator-id-17\" type=\"checkbox\" ><label for=\"sk-estimator-id-17\" class=\"sk-toggleable__label sk-toggleable__label-arrow\">NumberSelector</label><div class=\"sk-toggleable__content\"><pre>NumberSelector(key=&#x27;gluc&#x27;)</pre></div></div></div></div></div></div></div></div><div class=\"sk-parallel-item\"><div class=\"sk-item\"><div class=\"sk-label-container\"><div class=\"sk-label sk-toggleable\"><label>smoke</label></div></div><div class=\"sk-serial\"><div class=\"sk-item\"><div class=\"sk-serial\"><div class=\"sk-item\"><div class=\"sk-estimator sk-toggleable\"><input class=\"sk-toggleable__control sk-hidden--visually\" id=\"sk-estimator-id-18\" type=\"checkbox\" ><label for=\"sk-estimator-id-18\" class=\"sk-toggleable__label sk-toggleable__label-arrow\">NumberSelector</label><div class=\"sk-toggleable__content\"><pre>NumberSelector(key=&#x27;smoke&#x27;)</pre></div></div></div></div></div></div></div></div><div class=\"sk-parallel-item\"><div class=\"sk-item\"><div class=\"sk-label-container\"><div class=\"sk-label sk-toggleable\"><label>alco</label></div></div><div class=\"sk-serial\"><div class=\"sk-item\"><div class=\"sk-serial\"><div class=\"sk-item\"><div class=\"sk-estimator sk-toggleable\"><input class=\"sk-toggleable__control sk-hidden--visually\" id=\"sk-estimator-id-19\" type=\"checkbox\" ><label for=\"sk-estimator-id-19\" class=\"sk-toggleable__label sk-toggleable__label-arrow\">NumberSelector</label><div class=\"sk-toggleable__content\"><pre>NumberSelector(key=&#x27;alco&#x27;)</pre></div></div></div></div></div></div></div></div><div class=\"sk-parallel-item\"><div class=\"sk-item\"><div class=\"sk-label-container\"><div class=\"sk-label sk-toggleable\"><label>active</label></div></div><div class=\"sk-serial\"><div class=\"sk-item\"><div class=\"sk-serial\"><div class=\"sk-item\"><div class=\"sk-estimator sk-toggleable\"><input class=\"sk-toggleable__control sk-hidden--visually\" id=\"sk-estimator-id-20\" type=\"checkbox\" ><label for=\"sk-estimator-id-20\" class=\"sk-toggleable__label sk-toggleable__label-arrow\">NumberSelector</label><div class=\"sk-toggleable__content\"><pre>NumberSelector(key=&#x27;active&#x27;)</pre></div></div></div></div></div></div></div></div></div></div><div class=\"sk-item\"><div class=\"sk-estimator sk-toggleable\"><input class=\"sk-toggleable__control sk-hidden--visually\" id=\"sk-estimator-id-21\" type=\"checkbox\" ><label for=\"sk-estimator-id-21\" class=\"sk-toggleable__label sk-toggleable__label-arrow\">GradientBoostingClassifier</label><div class=\"sk-toggleable__content\"><pre>GradientBoostingClassifier()</pre></div></div></div></div></div></div></div>"
     },
     "execution_count": 27,
     "metadata": {},
     "output_type": "execute_result"
    }
   ],
   "source": [
    "%%time\n",
    "\n",
    "pipeline = Pipeline([\n",
    "    ('features', feats),\n",
    "    ('classifier', GradientBoostingClassifier()),\n",
    "])\n",
    "\n",
    "pipeline.fit(X_train, y_train)"
   ],
   "metadata": {
    "collapsed": false,
    "pycharm": {
     "name": "#%%\n"
    }
   }
  },
  {
   "cell_type": "code",
   "execution_count": 28,
   "outputs": [
    {
     "data": {
      "text/plain": "[('features',\n  FeatureUnion(transformer_list=[('age',\n                                  Pipeline(steps=[('selector',\n                                                   NumberSelector(key='age')),\n                                                  ('standard',\n                                                   StandardScaler())])),\n                                 ('gender',\n                                  Pipeline(steps=[('selector',\n                                                   ColumnSelector(key='gender')),\n                                                  ('enc_gender',\n                                                   OHEEncoder(key='gender',\n                                                              values=[1, 2]))])),\n                                 ('height',\n                                  Pipeline(steps=[('selector',\n                                                   NumberSelector(key='height')),\n                                                  ('standard',\n                                                   StandardScaler())]))...\n                                                   ColumnSelector(key='cholesterol')),\n                                                  ('enc_cholesterol',\n                                                   OHEEncoder(key='cholesterol',\n                                                              values=[1, 2,\n                                                                      3]))])),\n                                 ('gluc',\n                                  Pipeline(steps=[('selector',\n                                                   NumberSelector(key='gluc'))])),\n                                 ('smoke',\n                                  Pipeline(steps=[('selector',\n                                                   NumberSelector(key='smoke'))])),\n                                 ('alco',\n                                  Pipeline(steps=[('selector',\n                                                   NumberSelector(key='alco'))])),\n                                 ('active',\n                                  Pipeline(steps=[('selector',\n                                                   NumberSelector(key='active'))]))])),\n ('classifier', GradientBoostingClassifier())]"
     },
     "execution_count": 28,
     "metadata": {},
     "output_type": "execute_result"
    }
   ],
   "source": [
    "pipeline.steps"
   ],
   "metadata": {
    "collapsed": false,
    "pycharm": {
     "name": "#%%\n"
    }
   }
  },
  {
   "cell_type": "code",
   "execution_count": 29,
   "outputs": [],
   "source": [
    "with open(\"model/cardio.dill\", \"wb\") as f:\n",
    "    dill.dump(pipeline, f)"
   ],
   "metadata": {
    "collapsed": false,
    "pycharm": {
     "name": "#%%\n"
    }
   }
  },
  {
   "cell_type": "code",
   "execution_count": 30,
   "outputs": [
    {
     "name": "stdout",
     "output_type": "stream",
     "text": [
      "Best Threshold=0.38154779797343324, F-Score=0.750, Precision=0.702, Recall=0.804\n"
     ]
    }
   ],
   "source": [
    "# gradient boosting\n",
    "\n",
    "from sklearn.ensemble import GradientBoostingClassifier\n",
    "\n",
    "\n",
    "model_gb = Pipeline([\n",
    "    ('features', feats),\n",
    "    ('classifier', GradientBoostingClassifier(random_state=42)),\n",
    "])\n",
    "\n",
    "model_gb.fit(X_train, y_train)\n",
    "\n",
    "preds = model_gb.predict_proba(X_test)[:, 1]\n",
    "\n",
    "precision, recall, thresholds = precision_recall_curve(y_test, preds)\n",
    "fscore = (2 * precision * recall) / (precision + recall)\n",
    "# locate the index of the largest f score\n",
    "ix = np.argmax(fscore)\n",
    "print(f'Best Threshold={thresholds[ix]}, F-Score={fscore[ix]:.3f}, Precision={precision[ix]:.3f}, Recall={recall[ix]:.3f}')"
   ],
   "metadata": {
    "collapsed": false,
    "pycharm": {
     "name": "#%%\n"
    }
   }
  },
  {
   "cell_type": "code",
   "execution_count": 33,
   "outputs": [
    {
     "name": "stderr",
     "output_type": "stream",
     "text": [
      "WARNING: Ignoring invalid distribution -ensorflow-gpu (c:\\python310\\lib\\site-packages)\n",
      "WARNING: Ignoring invalid distribution -rotobuf (c:\\python310\\lib\\site-packages)\n"
     ]
    }
   ],
   "source": [
    "!pip freeze > requirements.txt"
   ],
   "metadata": {
    "collapsed": false,
    "pycharm": {
     "name": "#%%\n"
    }
   }
  },
  {
   "cell_type": "code",
   "execution_count": 30,
   "outputs": [],
   "source": [],
   "metadata": {
    "collapsed": false,
    "pycharm": {
     "name": "#%%\n"
    }
   }
  }
 ],
 "metadata": {
  "kernelspec": {
   "display_name": "Python 3",
   "language": "python",
   "name": "python3"
  },
  "language_info": {
   "codemirror_mode": {
    "name": "ipython",
    "version": 2
   },
   "file_extension": ".py",
   "mimetype": "text/x-python",
   "name": "python",
   "nbconvert_exporter": "python",
   "pygments_lexer": "ipython2",
   "version": "2.7.6"
  }
 },
 "nbformat": 4,
 "nbformat_minor": 0
}