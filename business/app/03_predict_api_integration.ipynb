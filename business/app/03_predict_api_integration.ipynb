{
 "cells": [
  {
   "cell_type": "code",
   "execution_count": 16,
   "metadata": {
    "collapsed": true
   },
   "outputs": [],
   "source": [
    "import pandas as pd\n",
    "from sklearn.metrics import roc_auc_score,roc_curve,make_scorer\n",
    "from urllib import request, parse\n",
    "\n",
    "X_test = pd.read_csv(\"data_split/X_test.csv\")\n",
    "y_test = pd.read_csv(\"data_split/y_test.csv\")"
   ]
  },
  {
   "cell_type": "code",
   "execution_count": 17,
   "outputs": [
    {
     "data": {
      "text/plain": "     age  gender  height  weight  ap_hi  ap_lo  cholesterol  gluc  smoke  \\\n0  21770       1     156    64.0    140     80            2     1      0   \n1  21876       1     170    85.0    160     90            1     1      0   \n\n   alco  active  \n0     0       1  \n1     0       1  ",
      "text/html": "<div>\n<style scoped>\n    .dataframe tbody tr th:only-of-type {\n        vertical-align: middle;\n    }\n\n    .dataframe tbody tr th {\n        vertical-align: top;\n    }\n\n    .dataframe thead th {\n        text-align: right;\n    }\n</style>\n<table border=\"1\" class=\"dataframe\">\n  <thead>\n    <tr style=\"text-align: right;\">\n      <th></th>\n      <th>age</th>\n      <th>gender</th>\n      <th>height</th>\n      <th>weight</th>\n      <th>ap_hi</th>\n      <th>ap_lo</th>\n      <th>cholesterol</th>\n      <th>gluc</th>\n      <th>smoke</th>\n      <th>alco</th>\n      <th>active</th>\n    </tr>\n  </thead>\n  <tbody>\n    <tr>\n      <th>0</th>\n      <td>21770</td>\n      <td>1</td>\n      <td>156</td>\n      <td>64.0</td>\n      <td>140</td>\n      <td>80</td>\n      <td>2</td>\n      <td>1</td>\n      <td>0</td>\n      <td>0</td>\n      <td>1</td>\n    </tr>\n    <tr>\n      <th>1</th>\n      <td>21876</td>\n      <td>1</td>\n      <td>170</td>\n      <td>85.0</td>\n      <td>160</td>\n      <td>90</td>\n      <td>1</td>\n      <td>1</td>\n      <td>0</td>\n      <td>0</td>\n      <td>1</td>\n    </tr>\n  </tbody>\n</table>\n</div>"
     },
     "execution_count": 17,
     "metadata": {},
     "output_type": "execute_result"
    }
   ],
   "source": [
    "X_test.head(2)"
   ],
   "metadata": {
    "collapsed": false,
    "pycharm": {
     "name": "#%%\n"
    }
   }
  },
  {
   "cell_type": "code",
   "execution_count": 18,
   "outputs": [],
   "source": [
    "import urllib.request\n",
    "import json"
   ],
   "metadata": {
    "collapsed": false,
    "pycharm": {
     "name": "#%%\n"
    }
   }
  },
  {
   "cell_type": "code",
   "execution_count": 19,
   "outputs": [],
   "source": [
    "def get_prediction(x):\n",
    "    age, gender, height, weight, ap_hi, ap_lo, cholesterol, gluc, smoke, alco, active = x\n",
    "\n",
    "    age = int(age)\n",
    "    gender = int(gender)\n",
    "    smoke = int(smoke)\n",
    "    alco = int(alco)\n",
    "    active = int(active)\n",
    "    ap_hi = int(ap_hi)\n",
    "    ap_lo = int(ap_lo)\n",
    "    cholesterol = int(cholesterol)\n",
    "    gluc = int(gluc)\n",
    "    height = int(height)\n",
    "\n",
    "    body = {'age': age,\n",
    "            'gender': gender,\n",
    "            'height': height,\n",
    "            'weight': weight,\n",
    "            'ap_hi': ap_hi,\n",
    "            'ap_lo': ap_lo,\n",
    "            'cholesterol': cholesterol,\n",
    "            'gluc': gluc,\n",
    "            'smoke': smoke,\n",
    "            'alco': alco,\n",
    "            'active': active\n",
    "            }\n",
    "\n",
    "    myurl = \"http://127.0.0.1:5000/predict\"\n",
    "    req = urllib.request.Request(myurl)\n",
    "    req.add_header('Content-Type', 'application/json; charset=utf-8')\n",
    "    jsondata = json.dumps(body)\n",
    "    jsondataasbytes = jsondata.encode('utf-8')   # needs to be bytes\n",
    "    req.add_header('Content-Length', len(jsondataasbytes))\n",
    "    #print (jsondataasbytes)\n",
    "    response = urllib.request.urlopen(req, jsondataasbytes)\n",
    "    return json.loads(response.read())['predictions']"
   ],
   "metadata": {
    "collapsed": false,
    "pycharm": {
     "name": "#%%\n"
    }
   }
  },
  {
   "cell_type": "code",
   "execution_count": 20,
   "outputs": [
    {
     "name": "stdout",
     "output_type": "stream",
     "text": [
      "CPU times: total: 0 ns\n",
      "Wall time: 31 ms\n"
     ]
    },
    {
     "data": {
      "text/plain": "0    0.805506\n1    0.860217\ndtype: float64"
     },
     "execution_count": 20,
     "metadata": {},
     "output_type": "execute_result"
    }
   ],
   "source": [
    "%%time\n",
    "predictions = X_test[\n",
    "                  ['age', 'gender', 'height', 'weight',\n",
    "                   'ap_hi', 'ap_lo', 'cholesterol',\n",
    "                   'gluc', 'smoke', 'alco', 'active']\n",
    "              ].iloc[:2].apply(lambda x: get_prediction(x), 1)\n",
    "\n",
    "predictions"
   ],
   "metadata": {
    "collapsed": false,
    "pycharm": {
     "name": "#%%\n"
    }
   }
  },
  {
   "cell_type": "code",
   "execution_count": 20,
   "outputs": [],
   "source": [],
   "metadata": {
    "collapsed": false,
    "pycharm": {
     "name": "#%%\n"
    }
   }
  }
 ],
 "metadata": {
  "kernelspec": {
   "display_name": "Python 3",
   "language": "python",
   "name": "python3"
  },
  "language_info": {
   "codemirror_mode": {
    "name": "ipython",
    "version": 2
   },
   "file_extension": ".py",
   "mimetype": "text/x-python",
   "name": "python",
   "nbconvert_exporter": "python",
   "pygments_lexer": "ipython2",
   "version": "2.7.6"
  }
 },
 "nbformat": 4,
 "nbformat_minor": 0
}