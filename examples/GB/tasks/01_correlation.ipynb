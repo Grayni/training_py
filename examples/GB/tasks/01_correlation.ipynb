{
 "cells": [
  {
   "cell_type": "code",
   "execution_count": 32,
   "metadata": {
    "collapsed": true
   },
   "outputs": [],
   "source": [
    "import numpy as np"
   ]
  },
  {
   "cell_type": "code",
   "execution_count": 33,
   "outputs": [],
   "source": [
    "zp = np.array([35, 45, 190, 200, 40, 70, 54, 150, 120, 110], dtype=np.float64)\n",
    "ks = np.array([401, 574, 874, 919, 459, 739, 653, 902, 746, 832], dtype=np.float64)"
   ],
   "metadata": {
    "collapsed": false,
    "pycharm": {
     "name": "#%%\n"
    }
   }
  },
  {
   "cell_type": "code",
   "execution_count": 36,
   "outputs": [
    {
     "name": "stdout",
     "output_type": "stream",
     "text": [
      "Variant 1\n",
      "sum(zp) * 0.1:\n",
      "M(zp): 101.4\n",
      "\n",
      "sum(ks) * 0.1:\n",
      "M(ks): 709.9000000000001\n",
      "\n",
      "sum(zp * ks * 0.1)\n",
      "M(zp*ks): 81141.7\n",
      "\n",
      "\n",
      "Variant 2\n",
      "Mean zp:\n",
      "M(zp): 101.4\n",
      "\n",
      "Mean ks:\n",
      "M(ks): 709.9\n",
      "\n",
      "\n",
      "Covariance:\n",
      "Cov: 9157.839999999997\n"
     ]
    }
   ],
   "source": [
    "# 1 var\n",
    "print('Variant 1')\n",
    "\n",
    "M_zp = np.sum(zp * 1 / zp.size)\n",
    "print('sum(zp) * 0.1:')\n",
    "print(f'M(zp): {M_zp}\\n')\n",
    "\n",
    "M_ks = np.sum(ks * 1 / ks.size)\n",
    "print('sum(ks) * 0.1:')\n",
    "print(f'M(ks): {M_ks}\\n')\n",
    "\n",
    "print('sum(zp * ks * 0.1)')\n",
    "M_zp_ks = np.sum(zp * ks * 1 / zp.size)\n",
    "print(f'M(zp*ks): {M_zp_ks}\\n\\n')\n",
    "\n",
    "# 2 var\n",
    "print('Variant 2')\n",
    "\n",
    "M_zp = zp.mean()\n",
    "print('Mean zp:')\n",
    "print(f'M(zp): {M_zp}\\n')\n",
    "\n",
    "M_ks = ks.mean()\n",
    "print('Mean ks:')\n",
    "print(f'M(ks): {M_ks}\\n\\n')\n",
    "\n",
    "print('Covariance:')\n",
    "cov = M_zp_ks - M_zp * M_ks\n",
    "print(f'Cov: {cov}')"
   ],
   "metadata": {
    "collapsed": false,
    "pycharm": {
     "name": "#%%\n"
    }
   }
  },
  {
   "cell_type": "code",
   "execution_count": 56,
   "outputs": [
    {
     "name": "stdout",
     "output_type": "stream",
     "text": [
      "np.cov([a, b]):\n",
      " [[ 3494.64  9157.84]\n",
      " [ 9157.84 30468.89]] \n",
      "\n",
      "cov[0,1]: 9157.84\n",
      "\n",
      "cov(a, b) = M((a−M(a)) * (b−M(b)))\n",
      "9157.84\n"
     ]
    }
   ],
   "source": [
    "# np.cov([a, b]) = array ↓\n",
    "# | cov(a, a) | cov(a, b) |\n",
    "# | cov(b, a) | cov(b, b) |\n",
    "cov = np.cov([zp, ks], ddof=0)\n",
    "print('np.cov([a, b]):\\n', cov, '\\n')\n",
    "# Need => cov[0, 1] or cov[1, 0]\n",
    "print(f'cov[0,1]: {cov[0,1]}\\n')\n",
    "\n",
    "# cov(a, b) = M((a − M(a)) * (b−M(b)))\n",
    "print('cov(a, b) = M((a−M(a)) * (b−M(b)))')\n",
    "cov = ((zp - M_zp) * (ks - M_ks)).mean()\n",
    "print(cov)"
   ],
   "metadata": {
    "collapsed": false,
    "pycharm": {
     "name": "#%%\n"
    }
   }
  },
  {
   "cell_type": "code",
   "execution_count": 58,
   "outputs": [
    {
     "data": {
      "text/plain": "59.115480206118605"
     },
     "execution_count": 58,
     "metadata": {},
     "output_type": "execute_result"
    }
   ],
   "source": [
    "std_zp = np.std(zp)\n",
    "std_zp"
   ],
   "metadata": {
    "collapsed": false,
    "pycharm": {
     "name": "#%%\n"
    }
   }
  },
  {
   "cell_type": "code",
   "execution_count": 59,
   "outputs": [
    {
     "data": {
      "text/plain": "174.55340157098058"
     },
     "execution_count": 59,
     "metadata": {},
     "output_type": "execute_result"
    }
   ],
   "source": [
    "std_ks = np.std(ks)\n",
    "std_ks"
   ],
   "metadata": {
    "collapsed": false,
    "pycharm": {
     "name": "#%%\n"
    }
   }
  },
  {
   "cell_type": "code",
   "execution_count": 60,
   "outputs": [
    {
     "data": {
      "text/plain": "0.8874900920739162"
     },
     "execution_count": 60,
     "metadata": {},
     "output_type": "execute_result"
    }
   ],
   "source": [
    "cor = cov / (std_zp * std_ks)\n",
    "cor"
   ],
   "metadata": {
    "collapsed": false,
    "pycharm": {
     "name": "#%%\n"
    }
   }
  },
  {
   "cell_type": "code",
   "execution_count": 68,
   "outputs": [
    {
     "name": "stdout",
     "output_type": "stream",
     "text": [
      "[[1.         0.88749009]\n",
      " [0.88749009 1.        ]] \n",
      "\n",
      "correlation:  0.8874900920739162\n"
     ]
    }
   ],
   "source": [
    "cor = np.corrcoef(zp, ks)\n",
    "print(cor, '\\n')\n",
    "# return ↓\n",
    "# | cor(a, a) | cor(a, b) |\n",
    "# | cor(b, a) | cor(b, b) |\n",
    "# Need cor[0,1]\n",
    "print('correlation: ', cor[0, 1])"
   ],
   "metadata": {
    "collapsed": false,
    "pycharm": {
     "name": "#%%\n"
    }
   }
  },
  {
   "cell_type": "code",
   "execution_count": null,
   "outputs": [],
   "source": [],
   "metadata": {
    "collapsed": false,
    "pycharm": {
     "name": "#%%\n"
    }
   }
  }
 ],
 "metadata": {
  "kernelspec": {
   "display_name": "Python 3",
   "language": "python",
   "name": "python3"
  },
  "language_info": {
   "codemirror_mode": {
    "name": "ipython",
    "version": 2
   },
   "file_extension": ".py",
   "mimetype": "text/x-python",
   "name": "python",
   "nbconvert_exporter": "python",
   "pygments_lexer": "ipython2",
   "version": "2.7.6"
  }
 },
 "nbformat": 4,
 "nbformat_minor": 0
}