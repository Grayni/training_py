{
 "cells": [
  {
   "cell_type": "code",
   "execution_count": 10,
   "metadata": {
    "collapsed": true
   },
   "outputs": [],
   "source": [
    "def one_shift(cylinder):\n",
    "    cylinder.insert(0, cylinder.pop(-1))\n",
    "    return cylinder"
   ]
  },
  {
   "cell_type": "code",
   "execution_count": 11,
   "outputs": [],
   "source": [
    "cylinder_with_cartridges = [1, 1, 0, 0, 0, 0]"
   ],
   "metadata": {
    "collapsed": false,
    "pycharm": {
     "name": "#%%\n"
    }
   }
  },
  {
   "cell_type": "code",
   "execution_count": 12,
   "outputs": [
    {
     "name": "stdout",
     "output_type": "stream",
     "text": [
      "[0, 1, 1, 0, 0, 0]\n",
      "[0, 0, 1, 1, 0, 0]\n",
      "[0, 0, 0, 1, 1, 0]\n",
      "[0, 0, 0, 0, 1, 1]\n",
      "[1, 0, 0, 0, 0, 1]\n",
      "[1, 1, 0, 0, 0, 0]\n",
      "[0, 1, 1, 0, 0, 0]\n",
      "[0, 0, 1, 1, 0, 0]\n",
      "[0, 0, 0, 1, 1, 0]\n",
      "[0, 0, 0, 0, 1, 1]\n"
     ]
    }
   ],
   "source": [
    "for _ in range(10):\n",
    "    print(one_shift(cylinder_with_cartridges))"
   ],
   "metadata": {
    "collapsed": false,
    "pycharm": {
     "name": "#%%\n"
    }
   }
  },
  {
   "cell_type": "code",
   "execution_count": 12,
   "outputs": [],
   "source": [],
   "metadata": {
    "collapsed": false,
    "pycharm": {
     "name": "#%%\n"
    }
   }
  }
 ],
 "metadata": {
  "kernelspec": {
   "display_name": "Python 3",
   "language": "python",
   "name": "python3"
  },
  "language_info": {
   "codemirror_mode": {
    "name": "ipython",
    "version": 2
   },
   "file_extension": ".py",
   "mimetype": "text/x-python",
   "name": "python",
   "nbconvert_exporter": "python",
   "pygments_lexer": "ipython2",
   "version": "2.7.6"
  }
 },
 "nbformat": 4,
 "nbformat_minor": 0
}