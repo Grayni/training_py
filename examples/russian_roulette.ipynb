{
 "cells": [
  {
   "cell_type": "code",
   "execution_count": 2,
   "outputs": [],
   "source": [
    "import numpy as np\n",
    "import pandas as pd"
   ],
   "metadata": {
    "collapsed": false,
    "pycharm": {
     "name": "#%%\n"
    }
   }
  },
  {
   "cell_type": "code",
   "execution_count": 3,
   "outputs": [],
   "source": [
    "def one_shift(drum):\n",
    "    drum.insert(0, drum.pop(-1))\n",
    "    return drum"
   ],
   "metadata": {
    "collapsed": false,
    "pycharm": {
     "name": "#%%\n"
    }
   }
  },
  {
   "cell_type": "code",
   "execution_count": 41,
   "outputs": [],
   "source": [
    "drum_with_bullets = [1, 1, 0, 0, 0, 0]"
   ],
   "metadata": {
    "collapsed": false,
    "pycharm": {
     "name": "#%%\n"
    }
   }
  },
  {
   "cell_type": "code",
   "execution_count": 42,
   "outputs": [
    {
     "name": "stdout",
     "output_type": "stream",
     "text": [
      "[0, 1, 1, 0, 0, 0]\n",
      "[0, 0, 1, 1, 0, 0]\n"
     ]
    }
   ],
   "source": [
    "print(one_shift(drum_with_bullets))\n",
    "print(one_shift(drum_with_bullets))"
   ],
   "metadata": {
    "collapsed": false,
    "pycharm": {
     "name": "#%%\n"
    }
   }
  },
  {
   "cell_type": "code",
   "execution_count": 6,
   "outputs": [],
   "source": [
    "def spin_drum(drum):\n",
    "    n = np.random.randint(1, 7)\n",
    "    for i in range(n):\n",
    "        drum = one_shift(drum)\n",
    "    return drum"
   ],
   "metadata": {
    "collapsed": false,
    "pycharm": {
     "name": "#%%\n"
    }
   }
  },
  {
   "cell_type": "code",
   "execution_count": 43,
   "outputs": [
    {
     "data": {
      "text/plain": "[1, 1, 0, 0, 0, 0]"
     },
     "execution_count": 43,
     "metadata": {},
     "output_type": "execute_result"
    }
   ],
   "source": [
    "spin_drum(drum_with_bullets)"
   ],
   "metadata": {
    "collapsed": false,
    "pycharm": {
     "name": "#%%\n"
    }
   }
  },
  {
   "cell_type": "code",
   "execution_count": 10,
   "outputs": [
    {
     "data": {
      "text/plain": "[0, 0, 1, 1, 0, 0]    0.166912\n[1, 1, 0, 0, 0, 0]    0.166753\n[1, 0, 0, 0, 0, 1]    0.166639\n[0, 1, 1, 0, 0, 0]    0.166630\n[0, 0, 0, 1, 1, 0]    0.166606\n[0, 0, 0, 0, 1, 1]    0.166460\ndtype: float64"
     },
     "execution_count": 10,
     "metadata": {},
     "output_type": "execute_result"
    }
   ],
   "source": [
    "pd.Series([spin_drum([0, 1, 1, 0, 0, 0]) for _ in range(1000000)]).value_counts(normalize=True)"
   ],
   "metadata": {
    "collapsed": false,
    "pycharm": {
     "name": "#%%\n"
    }
   }
  },
  {
   "cell_type": "code",
   "execution_count": 36,
   "outputs": [],
   "source": [
    "n = 10000\n",
    "result = []\n",
    "\n",
    "for _ in range(n):\n",
    "    # Loading the revolver\n",
    "    drum = [0, 0, 1, 1, 0, 0]\n",
    "\n",
    "    # First player rotate drum\n",
    "    drum = spin_drum(drum)\n",
    "\n",
    "    # First player shooting\n",
    "    drum = one_shift(drum)\n",
    "    p1 = drum[0]\n",
    "\n",
    "    drum[0] = 0\n",
    "\n",
    "    # Second player rotate drum\n",
    "    drum = spin_drum(drum)\n",
    "\n",
    "    # Second player shoot\n",
    "    drum = one_shift(drum)\n",
    "    p2 = drum[0]\n",
    "    drum[0] = 0\n",
    "\n",
    "    result.append((p1, p2))\n",
    "\n",
    "t = pd.DataFrame(result, columns=['p1', 'p2'])"
   ],
   "metadata": {
    "collapsed": false,
    "pycharm": {
     "name": "#%%\n"
    }
   }
  },
  {
   "cell_type": "code",
   "execution_count": 37,
   "outputs": [
    {
     "data": {
      "text/plain": "p1  p2\n0   0     4424\n1   0     2807\n0   1     2223\n1   1      546\ndtype: int64"
     },
     "execution_count": 37,
     "metadata": {},
     "output_type": "execute_result"
    }
   ],
   "source": [
    "t.value_counts()"
   ],
   "metadata": {
    "collapsed": false,
    "pycharm": {
     "name": "#%%\n"
    }
   }
  },
  {
   "cell_type": "code",
   "execution_count": 38,
   "outputs": [
    {
     "data": {
      "text/plain": "    count      mean\np1                 \n0    6647  0.334437\n1    3353  0.162839",
      "text/html": "<div>\n<style scoped>\n    .dataframe tbody tr th:only-of-type {\n        vertical-align: middle;\n    }\n\n    .dataframe tbody tr th {\n        vertical-align: top;\n    }\n\n    .dataframe thead th {\n        text-align: right;\n    }\n</style>\n<table border=\"1\" class=\"dataframe\">\n  <thead>\n    <tr style=\"text-align: right;\">\n      <th></th>\n      <th>count</th>\n      <th>mean</th>\n    </tr>\n    <tr>\n      <th>p1</th>\n      <th></th>\n      <th></th>\n    </tr>\n  </thead>\n  <tbody>\n    <tr>\n      <th>0</th>\n      <td>6647</td>\n      <td>0.334437</td>\n    </tr>\n    <tr>\n      <th>1</th>\n      <td>3353</td>\n      <td>0.162839</td>\n    </tr>\n  </tbody>\n</table>\n</div>"
     },
     "execution_count": 38,
     "metadata": {},
     "output_type": "execute_result"
    }
   ],
   "source": [
    "# if player 2 rotate drum\n",
    "t.groupby(['p1'])['p2'].agg(['count', 'mean'])"
   ],
   "metadata": {
    "collapsed": false,
    "pycharm": {
     "name": "#%%\n"
    }
   }
  },
  {
   "cell_type": "code",
   "execution_count": 39,
   "outputs": [],
   "source": [
    "n = 10000\n",
    "result = []\n",
    "\n",
    "for _ in range(n):\n",
    "    # Loading the revolver\n",
    "    drum = [0, 0, 1, 1, 0, 0]\n",
    "\n",
    "    # First player rotate drum\n",
    "    drum = spin_drum(drum)\n",
    "\n",
    "    # First player shooting\n",
    "    drum = one_shift(drum)\n",
    "    p1 = drum[0]\n",
    "\n",
    "    drum[0] = 0\n",
    "\n",
    "    # Second player shoot\n",
    "    drum = one_shift(drum)\n",
    "    p2 = drum[0]\n",
    "    drum[0] = 0\n",
    "\n",
    "    result.append((p1, p2))\n",
    "\n",
    "t = pd.DataFrame(result, columns=['p1', 'p2'])"
   ],
   "metadata": {
    "collapsed": false,
    "pycharm": {
     "name": "#%%\n"
    }
   }
  },
  {
   "cell_type": "code",
   "execution_count": 40,
   "outputs": [
    {
     "data": {
      "text/plain": "    count      mean\np1                 \n0    6671  0.252736\n1    3329  0.504356",
      "text/html": "<div>\n<style scoped>\n    .dataframe tbody tr th:only-of-type {\n        vertical-align: middle;\n    }\n\n    .dataframe tbody tr th {\n        vertical-align: top;\n    }\n\n    .dataframe thead th {\n        text-align: right;\n    }\n</style>\n<table border=\"1\" class=\"dataframe\">\n  <thead>\n    <tr style=\"text-align: right;\">\n      <th></th>\n      <th>count</th>\n      <th>mean</th>\n    </tr>\n    <tr>\n      <th>p1</th>\n      <th></th>\n      <th></th>\n    </tr>\n  </thead>\n  <tbody>\n    <tr>\n      <th>0</th>\n      <td>6671</td>\n      <td>0.252736</td>\n    </tr>\n    <tr>\n      <th>1</th>\n      <td>3329</td>\n      <td>0.504356</td>\n    </tr>\n  </tbody>\n</table>\n</div>"
     },
     "execution_count": 40,
     "metadata": {},
     "output_type": "execute_result"
    }
   ],
   "source": [
    "# if player 2 not rotate drum\n",
    "t.groupby(['p1'])['p2'].agg(['count', 'mean'])"
   ],
   "metadata": {
    "collapsed": false,
    "pycharm": {
     "name": "#%%\n"
    }
   }
  },
  {
   "cell_type": "code",
   "execution_count": null,
   "outputs": [],
   "source": [],
   "metadata": {
    "collapsed": false,
    "pycharm": {
     "name": "#%%\n"
    }
   }
  }
 ],
 "metadata": {
  "kernelspec": {
   "display_name": "Python 3",
   "language": "python",
   "name": "python3"
  },
  "language_info": {
   "codemirror_mode": {
    "name": "ipython",
    "version": 2
   },
   "file_extension": ".py",
   "mimetype": "text/x-python",
   "name": "python",
   "nbconvert_exporter": "python",
   "pygments_lexer": "ipython2",
   "version": "2.7.6"
  }
 },
 "nbformat": 4,
 "nbformat_minor": 0
}