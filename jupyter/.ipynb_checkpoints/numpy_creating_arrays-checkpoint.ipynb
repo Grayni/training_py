{
 "cells": [
  {
   "cell_type": "code",
   "execution_count": 1,
   "id": "697db6d3",
   "metadata": {},
   "outputs": [],
   "source": [
    "import numpy as np"
   ]
  },
  {
   "cell_type": "markdown",
   "id": "6e82021c",
   "metadata": {},
   "source": [
    "### автоматическое создание массивов"
   ]
  },
  {
   "cell_type": "code",
   "execution_count": 3,
   "id": "874aaee4",
   "metadata": {},
   "outputs": [
    {
     "data": {
      "text/plain": [
       "array([[0., 0., 0., 0.],\n",
       "       [0., 0., 0., 0.],\n",
       "       [0., 0., 0., 0.]])"
      ]
     },
     "execution_count": 3,
     "metadata": {},
     "output_type": "execute_result"
    }
   ],
   "source": [
    "a = np.zeros((3, 4))\n",
    "a"
   ]
  },
  {
   "cell_type": "code",
   "execution_count": 5,
   "id": "f3d8507d",
   "metadata": {},
   "outputs": [
    {
     "data": {
      "text/plain": [
       "array([[1., 1., 1., 1.],\n",
       "       [1., 1., 1., 1.],\n",
       "       [1., 1., 1., 1.]])"
      ]
     },
     "execution_count": 5,
     "metadata": {},
     "output_type": "execute_result"
    }
   ],
   "source": [
    "b = np.ones((3, 4))\n",
    "b"
   ]
  },
  {
   "cell_type": "code",
   "execution_count": 6,
   "id": "50705f99",
   "metadata": {},
   "outputs": [
    {
     "data": {
      "text/plain": [
       "array([0, 1, 2, 3, 4, 5, 6, 7, 8, 9])"
      ]
     },
     "execution_count": 6,
     "metadata": {},
     "output_type": "execute_result"
    }
   ],
   "source": [
    "np.arange(10)"
   ]
  },
  {
   "cell_type": "code",
   "execution_count": 7,
   "id": "22ca0d36",
   "metadata": {},
   "outputs": [
    {
     "data": {
      "text/plain": [
       "array([2, 3, 4, 5, 6, 7, 8, 9])"
      ]
     },
     "execution_count": 7,
     "metadata": {},
     "output_type": "execute_result"
    }
   ],
   "source": [
    "np.arange(2, 10)"
   ]
  },
  {
   "cell_type": "code",
   "execution_count": 9,
   "id": "39178cdd",
   "metadata": {},
   "outputs": [
    {
     "data": {
      "text/plain": [
       "array([2. , 2.5, 3. , 3.5, 4. , 4.5, 5. , 5.5, 6. , 6.5, 7. , 7.5, 8. ,\n",
       "       8.5, 9. , 9.5])"
      ]
     },
     "execution_count": 9,
     "metadata": {},
     "output_type": "execute_result"
    }
   ],
   "source": [
    "np.arange(2, 10, 0.5) # третий аргумент указывает на шаг дисктретности в массиве"
   ]
  },
  {
   "cell_type": "code",
   "execution_count": 15,
   "id": "0e92c521",
   "metadata": {},
   "outputs": [
    {
     "data": {
      "text/plain": [
       "array([ 0.,  1.,  2.,  3.,  4.,  5.,  6.,  7.,  8.,  9., 10.])"
      ]
     },
     "execution_count": 15,
     "metadata": {},
     "output_type": "execute_result"
    }
   ],
   "source": [
    "np.linspace(0, 10, 11) # третий аргумент указывает на количество  элементов в массиве\n",
    "# второе число включительно в  linspace в отличие от arange"
   ]
  },
  {
   "cell_type": "code",
   "execution_count": 19,
   "id": "3a304418",
   "metadata": {},
   "outputs": [
    {
     "data": {
      "text/plain": [
       "array([  1.,  10., 100.])"
      ]
     },
     "execution_count": 19,
     "metadata": {},
     "output_type": "execute_result"
    }
   ],
   "source": [
    "np.logspace(0, 2, 3) # 10^0, 10^1, 10^2 => 3 числа"
   ]
  },
  {
   "cell_type": "markdown",
   "id": "e23a3cb1",
   "metadata": {},
   "source": [
    "### генерация случайных чисел"
   ]
  },
  {
   "cell_type": "code",
   "execution_count": 22,
   "id": "dc8d4fb9",
   "metadata": {},
   "outputs": [
    {
     "data": {
      "text/plain": [
       "0.2929268541938943"
      ]
     },
     "execution_count": 22,
     "metadata": {},
     "output_type": "execute_result"
    }
   ],
   "source": [
    "np.random.sample()"
   ]
  },
  {
   "cell_type": "code",
   "execution_count": 23,
   "id": "de3fea19",
   "metadata": {},
   "outputs": [
    {
     "data": {
      "text/plain": [
       "array([0.09762929, 0.86908234, 0.25799764])"
      ]
     },
     "execution_count": 23,
     "metadata": {},
     "output_type": "execute_result"
    }
   ],
   "source": [
    "np.random.sample(3)"
   ]
  },
  {
   "cell_type": "code",
   "execution_count": 24,
   "id": "fc7f5f05",
   "metadata": {},
   "outputs": [
    {
     "data": {
      "text/plain": [
       "array([[0.78675041, 0.06846467, 0.66374318],\n",
       "       [0.76414398, 0.67177141, 0.04201355]])"
      ]
     },
     "execution_count": 24,
     "metadata": {},
     "output_type": "execute_result"
    }
   ],
   "source": [
    "np.random.sample((2, 3))"
   ]
  },
  {
   "cell_type": "markdown",
   "id": "fb797c36",
   "metadata": {},
   "source": [
    "пример вывода случайной картинки: np.random.sample(x, y, z) x: строки, y: столбцы, z: цвет пикселя(RGB)"
   ]
  },
  {
   "cell_type": "code",
   "execution_count": 26,
   "id": "9b5bae30",
   "metadata": {},
   "outputs": [
    {
     "data": {
      "text/plain": [
       "array([[[0.94716438, 0.5839734 , 0.54170677],\n",
       "        [0.86054951, 0.78486385, 0.32004669],\n",
       "        [0.83005425, 0.41621277, 0.27931147],\n",
       "        [0.45731944, 0.61597197, 0.16261681],\n",
       "        [0.6104609 , 0.84044699, 0.16076838],\n",
       "        [0.61546251, 0.12973284, 0.97179801]],\n",
       "\n",
       "       [[0.85761897, 0.71601467, 0.75121786],\n",
       "        [0.4280673 , 0.94320058, 0.85453341],\n",
       "        [0.19863847, 0.11282953, 0.8568959 ],\n",
       "        [0.44477739, 0.9229075 , 0.66453067],\n",
       "        [0.97633104, 0.07469193, 0.54802463],\n",
       "        [0.37017903, 0.3436161 , 0.14139661]],\n",
       "\n",
       "       [[0.98611119, 0.23750168, 0.60657265],\n",
       "        [0.5006431 , 0.28811813, 0.14640526],\n",
       "        [0.62514376, 0.23113575, 0.8163348 ],\n",
       "        [0.6845519 , 0.24313321, 0.5832974 ],\n",
       "        [0.07105931, 0.49195765, 0.0877005 ],\n",
       "        [0.96582319, 0.4519443 , 0.21424697]],\n",
       "\n",
       "       [[0.98948792, 0.0238487 , 0.25866891],\n",
       "        [0.10909286, 0.97968105, 0.38520707],\n",
       "        [0.63430452, 0.37232814, 0.05311456],\n",
       "        [0.8405509 , 0.99706711, 0.70102076],\n",
       "        [0.7349827 , 0.58289027, 0.51461039],\n",
       "        [0.35581284, 0.20912402, 0.14030031]],\n",
       "\n",
       "       [[0.32509699, 0.765754  , 0.60552859],\n",
       "        [0.51289122, 0.02191503, 0.43264455],\n",
       "        [0.6602015 , 0.97116335, 0.58137448],\n",
       "        [0.25933107, 0.23951556, 0.52828092],\n",
       "        [0.72569216, 0.52799426, 0.59476093],\n",
       "        [0.19153309, 0.37204623, 0.49492895]]])"
      ]
     },
     "execution_count": 26,
     "metadata": {},
     "output_type": "execute_result"
    }
   ],
   "source": [
    "np.random.sample((5, 6, 3))"
   ]
  },
  {
   "cell_type": "markdown",
   "id": "e9c8437f",
   "metadata": {},
   "source": [
    "### случайные числа с нормальным распределением"
   ]
  },
  {
   "cell_type": "code",
   "execution_count": 27,
   "id": "91a25420",
   "metadata": {},
   "outputs": [
    {
     "data": {
      "text/plain": [
       "array([ 0.82463456,  1.09567441,  0.97036853, -0.03023433, -0.1992592 ,\n",
       "        0.50593813,  0.1351298 , -0.09894123,  0.44442799, -2.97749336])"
      ]
     },
     "execution_count": 27,
     "metadata": {},
     "output_type": "execute_result"
    }
   ],
   "source": [
    "np.random.randn(10)"
   ]
  },
  {
   "cell_type": "code",
   "execution_count": 28,
   "id": "eda06114",
   "metadata": {},
   "outputs": [
    {
     "data": {
      "text/plain": [
       "array([[ 1.0158324 ,  0.47889012,  1.30751484,  0.51615908],\n",
       "       [ 1.63231541, -0.33133061, -0.20928891,  0.68568376],\n",
       "       [-0.09795696,  0.2562013 , -1.95900444, -0.21824378]])"
      ]
     },
     "execution_count": 28,
     "metadata": {},
     "output_type": "execute_result"
    }
   ],
   "source": [
    "np.random.randn(3, 4)"
   ]
  },
  {
   "cell_type": "markdown",
   "id": "8ad972e2",
   "metadata": {},
   "source": [
    "### массив из случайных целых чисел"
   ]
  },
  {
   "cell_type": "code",
   "execution_count": 30,
   "id": "e60f0120",
   "metadata": {},
   "outputs": [
    {
     "data": {
      "text/plain": [
       "array([67, 76, 85, 11, 60, 51, 17, 60, 61, 49])"
      ]
     },
     "execution_count": 30,
     "metadata": {},
     "output_type": "execute_result"
    }
   ],
   "source": [
    "np.random.randint(0, 100, 10) # невключительно 100"
   ]
  },
  {
   "cell_type": "code",
   "execution_count": 31,
   "id": "d1e2e2b6",
   "metadata": {},
   "outputs": [
    {
     "data": {
      "text/plain": [
       "array([[85, 41, 74, 96],\n",
       "       [49, 70, 65, 57],\n",
       "       [56, 90,  4,  0]])"
      ]
     },
     "execution_count": 31,
     "metadata": {},
     "output_type": "execute_result"
    }
   ],
   "source": [
    "np.random.randint(0, 100, (3, 4))"
   ]
  },
  {
   "cell_type": "markdown",
   "id": "1b1adad1",
   "metadata": {},
   "source": [
    "### получение случайных элементов из массива"
   ]
  },
  {
   "cell_type": "code",
   "execution_count": 32,
   "id": "566bc1b8",
   "metadata": {},
   "outputs": [],
   "source": [
    "b = np.array([4, 2, 6, 8, 3, 1, 0, 9, 7])"
   ]
  },
  {
   "cell_type": "code",
   "execution_count": 33,
   "id": "16e4d550",
   "metadata": {},
   "outputs": [
    {
     "data": {
      "text/plain": [
       "6"
      ]
     },
     "execution_count": 33,
     "metadata": {},
     "output_type": "execute_result"
    }
   ],
   "source": [
    "np.random.choice(b)"
   ]
  },
  {
   "cell_type": "code",
   "execution_count": 34,
   "id": "c2999243",
   "metadata": {},
   "outputs": [
    {
     "data": {
      "text/plain": [
       "array([8, 1, 6])"
      ]
     },
     "execution_count": 34,
     "metadata": {},
     "output_type": "execute_result"
    }
   ],
   "source": [
    "np.random.choice(b, 3)"
   ]
  },
  {
   "cell_type": "markdown",
   "id": "52182b0a",
   "metadata": {},
   "source": [
    "### инициализатор случайных чисел"
   ]
  },
  {
   "cell_type": "code",
   "execution_count": 35,
   "id": "397af407",
   "metadata": {},
   "outputs": [
    {
     "data": {
      "text/plain": [
       "0.3745401188473625"
      ]
     },
     "execution_count": 35,
     "metadata": {},
     "output_type": "execute_result"
    }
   ],
   "source": [
    "np.random.seed(42)\n",
    "np.random.rand()"
   ]
  },
  {
   "cell_type": "code",
   "execution_count": 36,
   "id": "b7cb21f8",
   "metadata": {},
   "outputs": [
    {
     "data": {
      "text/plain": [
       "0.3745401188473625"
      ]
     },
     "execution_count": 36,
     "metadata": {},
     "output_type": "execute_result"
    }
   ],
   "source": [
    "np.random.seed(42)\n",
    "np.random.rand()"
   ]
  },
  {
   "cell_type": "markdown",
   "id": "49d7e9bb",
   "metadata": {},
   "source": [
    "### изменение формы массива"
   ]
  },
  {
   "cell_type": "code",
   "execution_count": 38,
   "id": "d9011acb",
   "metadata": {},
   "outputs": [
    {
     "data": {
      "text/plain": [
       "array([ 0,  1,  2,  3,  4,  5,  6,  7,  8,  9, 10, 11])"
      ]
     },
     "execution_count": 38,
     "metadata": {},
     "output_type": "execute_result"
    }
   ],
   "source": [
    "a = np.arange(12)\n",
    "a"
   ]
  },
  {
   "cell_type": "code",
   "execution_count": 39,
   "id": "a86532da",
   "metadata": {},
   "outputs": [
    {
     "data": {
      "text/plain": [
       "array([[ 0,  1,  2,  3],\n",
       "       [ 4,  5,  6,  7],\n",
       "       [ 8,  9, 10, 11]])"
      ]
     },
     "execution_count": 39,
     "metadata": {},
     "output_type": "execute_result"
    }
   ],
   "source": [
    "a.reshape(3, 4)"
   ]
  },
  {
   "cell_type": "markdown",
   "id": "c5ca92ae",
   "metadata": {},
   "source": [
    "автоматическое расчет количества столбцов или строк"
   ]
  },
  {
   "cell_type": "code",
   "execution_count": 40,
   "id": "a100d5d7",
   "metadata": {},
   "outputs": [
    {
     "data": {
      "text/plain": [
       "array([[ 0,  1,  2,  3],\n",
       "       [ 4,  5,  6,  7],\n",
       "       [ 8,  9, 10, 11]])"
      ]
     },
     "execution_count": 40,
     "metadata": {},
     "output_type": "execute_result"
    }
   ],
   "source": [
    "a.reshape(3, -1)"
   ]
  },
  {
   "cell_type": "code",
   "execution_count": 42,
   "id": "ae797492",
   "metadata": {},
   "outputs": [
    {
     "data": {
      "text/plain": [
       "array([[ 0,  1,  2],\n",
       "       [ 3,  4,  5],\n",
       "       [ 6,  7,  8],\n",
       "       [ 9, 10, 11]])"
      ]
     },
     "execution_count": 42,
     "metadata": {},
     "output_type": "execute_result"
    }
   ],
   "source": [
    "a.reshape(-1, 3)"
   ]
  },
  {
   "cell_type": "markdown",
   "id": "8145fad1",
   "metadata": {},
   "source": [
    "изменение самого массива"
   ]
  },
  {
   "cell_type": "code",
   "execution_count": 45,
   "id": "62dfe17a",
   "metadata": {},
   "outputs": [
    {
     "data": {
      "text/plain": [
       "array([[ 0,  1,  2,  3],\n",
       "       [ 4,  5,  6,  7],\n",
       "       [ 8,  9, 10, 11]])"
      ]
     },
     "execution_count": 45,
     "metadata": {},
     "output_type": "execute_result"
    }
   ],
   "source": [
    "a.resize(3, 4)\n",
    "a"
   ]
  },
  {
   "cell_type": "markdown",
   "id": "bec07e90",
   "metadata": {},
   "source": [
    "получение одномерного массива"
   ]
  },
  {
   "cell_type": "code",
   "execution_count": 49,
   "id": "9c6b50be",
   "metadata": {},
   "outputs": [
    {
     "data": {
      "text/plain": [
       "array([ 0,  1,  2,  3,  4,  5,  6,  7,  8,  9, 10, 11])"
      ]
     },
     "execution_count": 49,
     "metadata": {},
     "output_type": "execute_result"
    }
   ],
   "source": [
    "a = a.flatten()\n",
    "a"
   ]
  },
  {
   "cell_type": "markdown",
   "id": "d204ef08",
   "metadata": {},
   "source": [
    "### соединение массивов"
   ]
  },
  {
   "cell_type": "code",
   "execution_count": 51,
   "id": "4e220cc7",
   "metadata": {},
   "outputs": [],
   "source": [
    "a = np.zeros((3, 4))\n",
    "b = np.ones((3, 4))"
   ]
  },
  {
   "cell_type": "code",
   "execution_count": 52,
   "id": "fee89c8a",
   "metadata": {},
   "outputs": [
    {
     "data": {
      "text/plain": [
       "array([[0., 0., 0., 0.],\n",
       "       [0., 0., 0., 0.],\n",
       "       [0., 0., 0., 0.]])"
      ]
     },
     "execution_count": 52,
     "metadata": {},
     "output_type": "execute_result"
    }
   ],
   "source": [
    "a"
   ]
  },
  {
   "cell_type": "code",
   "execution_count": 53,
   "id": "1f1b3060",
   "metadata": {},
   "outputs": [
    {
     "data": {
      "text/plain": [
       "array([[1., 1., 1., 1.],\n",
       "       [1., 1., 1., 1.],\n",
       "       [1., 1., 1., 1.]])"
      ]
     },
     "execution_count": 53,
     "metadata": {},
     "output_type": "execute_result"
    }
   ],
   "source": [
    "b"
   ]
  },
  {
   "cell_type": "markdown",
   "id": "6751d33c",
   "metadata": {},
   "source": [
    "соединение строк"
   ]
  },
  {
   "cell_type": "code",
   "execution_count": 55,
   "id": "a8e9b0b4",
   "metadata": {},
   "outputs": [
    {
     "data": {
      "text/plain": [
       "array([[0., 0., 0., 0.],\n",
       "       [0., 0., 0., 0.],\n",
       "       [0., 0., 0., 0.],\n",
       "       [1., 1., 1., 1.],\n",
       "       [1., 1., 1., 1.],\n",
       "       [1., 1., 1., 1.]])"
      ]
     },
     "execution_count": 55,
     "metadata": {},
     "output_type": "execute_result"
    }
   ],
   "source": [
    "v = np.vstack((a, b))\n",
    "v"
   ]
  },
  {
   "cell_type": "code",
   "execution_count": 58,
   "id": "060e7347",
   "metadata": {},
   "outputs": [
    {
     "data": {
      "text/plain": [
       "array([[0., 0., 0., 0.],\n",
       "       [0., 0., 0., 0.],\n",
       "       [0., 0., 0., 0.],\n",
       "       [1., 1., 1., 1.],\n",
       "       [1., 1., 1., 1.],\n",
       "       [1., 1., 1., 1.]])"
      ]
     },
     "execution_count": 58,
     "metadata": {},
     "output_type": "execute_result"
    }
   ],
   "source": [
    "np.concatenate((a, b), axis=0)"
   ]
  },
  {
   "cell_type": "markdown",
   "id": "42b37333",
   "metadata": {},
   "source": [
    "соединение столбцов"
   ]
  },
  {
   "cell_type": "code",
   "execution_count": 59,
   "id": "03e29183",
   "metadata": {},
   "outputs": [
    {
     "data": {
      "text/plain": [
       "array([[0., 0., 0., 0., 1., 1., 1., 1.],\n",
       "       [0., 0., 0., 0., 1., 1., 1., 1.],\n",
       "       [0., 0., 0., 0., 1., 1., 1., 1.]])"
      ]
     },
     "execution_count": 59,
     "metadata": {},
     "output_type": "execute_result"
    }
   ],
   "source": [
    "h = np.hstack((a, b))\n",
    "h"
   ]
  },
  {
   "cell_type": "code",
   "execution_count": 61,
   "id": "b22731fa",
   "metadata": {},
   "outputs": [
    {
     "data": {
      "text/plain": [
       "array([[0., 0., 0., 0., 1., 1., 1., 1.],\n",
       "       [0., 0., 0., 0., 1., 1., 1., 1.],\n",
       "       [0., 0., 0., 0., 1., 1., 1., 1.]])"
      ]
     },
     "execution_count": 61,
     "metadata": {},
     "output_type": "execute_result"
    }
   ],
   "source": [
    "np.concatenate((a, b), axis=1)"
   ]
  },
  {
   "cell_type": "markdown",
   "id": "d6d3ea73",
   "metadata": {},
   "source": [
    "соединение в глубину (в третьем измерении)"
   ]
  },
  {
   "cell_type": "code",
   "execution_count": 62,
   "id": "ce6b717d",
   "metadata": {},
   "outputs": [
    {
     "data": {
      "text/plain": [
       "array([[[0., 1.],\n",
       "        [0., 1.],\n",
       "        [0., 1.],\n",
       "        [0., 1.]],\n",
       "\n",
       "       [[0., 1.],\n",
       "        [0., 1.],\n",
       "        [0., 1.],\n",
       "        [0., 1.]],\n",
       "\n",
       "       [[0., 1.],\n",
       "        [0., 1.],\n",
       "        [0., 1.],\n",
       "        [0., 1.]]])"
      ]
     },
     "execution_count": 62,
     "metadata": {},
     "output_type": "execute_result"
    }
   ],
   "source": [
    "d = np.dstack([a, b])\n",
    "d"
   ]
  },
  {
   "cell_type": "code",
   "execution_count": null,
   "id": "53e2b34f",
   "metadata": {},
   "outputs": [],
   "source": []
  }
 ],
 "metadata": {
  "kernelspec": {
   "display_name": "Python 3 (ipykernel)",
   "language": "python",
   "name": "python3"
  },
  "language_info": {
   "codemirror_mode": {
    "name": "ipython",
    "version": 3
   },
   "file_extension": ".py",
   "mimetype": "text/x-python",
   "name": "python",
   "nbconvert_exporter": "python",
   "pygments_lexer": "ipython3",
   "version": "3.9.7"
  }
 },
 "nbformat": 4,
 "nbformat_minor": 5
}
