{
 "cells": [
  {
   "cell_type": "code",
   "execution_count": 1,
   "id": "14dd848e",
   "metadata": {},
   "outputs": [],
   "source": [
    "import numpy as np"
   ]
  },
  {
   "cell_type": "code",
   "execution_count": 6,
   "id": "fc630b75",
   "metadata": {},
   "outputs": [
    {
     "data": {
      "text/plain": [
       "array([ 0, 18,  4, 10,  6, 17, 16, 19, 13,  8])"
      ]
     },
     "execution_count": 6,
     "metadata": {},
     "output_type": "execute_result"
    }
   ],
   "source": [
    "a = np.random.randint(0, 20, 10)\n",
    "a"
   ]
  },
  {
   "cell_type": "code",
   "execution_count": 7,
   "id": "ba096ec7",
   "metadata": {},
   "outputs": [
    {
     "data": {
      "text/plain": [
       "array([18, 17, 16, 19, 13])"
      ]
     },
     "execution_count": 7,
     "metadata": {},
     "output_type": "execute_result"
    }
   ],
   "source": [
    "a[a > 10]"
   ]
  },
  {
   "cell_type": "code",
   "execution_count": 8,
   "id": "d813f7e9",
   "metadata": {},
   "outputs": [
    {
     "data": {
      "text/plain": [
       "array([18, 16])"
      ]
     },
     "execution_count": 8,
     "metadata": {},
     "output_type": "execute_result"
    }
   ],
   "source": [
    "a[(a > 10) & (a % 2 == 0)]"
   ]
  },
  {
   "cell_type": "code",
   "execution_count": 15,
   "id": "6baa0634",
   "metadata": {},
   "outputs": [
    {
     "data": {
      "text/plain": [
       "array([18, 10, 16,  8])"
      ]
     },
     "execution_count": 15,
     "metadata": {},
     "output_type": "execute_result"
    }
   ],
   "source": [
    "a[(a > 7) & (a % 2 == 0)]"
   ]
  },
  {
   "cell_type": "markdown",
   "id": "8cb59f07",
   "metadata": {},
   "source": [
    "### numpy.where"
   ]
  },
  {
   "cell_type": "markdown",
   "id": "26fca310",
   "metadata": {},
   "source": [
    "1) получение индексов по условию"
   ]
  },
  {
   "cell_type": "code",
   "execution_count": 16,
   "id": "6e638604",
   "metadata": {},
   "outputs": [
    {
     "data": {
      "text/plain": [
       "(array([1, 5, 6, 7, 8], dtype=int64),)"
      ]
     },
     "execution_count": 16,
     "metadata": {},
     "output_type": "execute_result"
    }
   ],
   "source": [
    "np.where(a > 10)"
   ]
  },
  {
   "cell_type": "code",
   "execution_count": 17,
   "id": "ce1f8baf",
   "metadata": {},
   "outputs": [
    {
     "data": {
      "text/plain": [
       "array([18, 17, 16, 19, 13])"
      ]
     },
     "execution_count": 17,
     "metadata": {},
     "output_type": "execute_result"
    }
   ],
   "source": [
    "a[np.where(a > 10)]"
   ]
  },
  {
   "cell_type": "markdown",
   "id": "6a3462d7",
   "metadata": {},
   "source": [
    "2) маска (True -> значение из первого массива, False -> значение из второго массива)"
   ]
  },
  {
   "cell_type": "code",
   "execution_count": 18,
   "id": "6a28d57b",
   "metadata": {},
   "outputs": [],
   "source": [
    "a = [1, 4, 7]\n",
    "b = [9, 2, 5]"
   ]
  },
  {
   "cell_type": "code",
   "execution_count": 19,
   "id": "259802a9",
   "metadata": {},
   "outputs": [
    {
     "data": {
      "text/plain": [
       "array([1, 2, 7])"
      ]
     },
     "execution_count": 19,
     "metadata": {},
     "output_type": "execute_result"
    }
   ],
   "source": [
    "np.where([True, False, True], a, b)"
   ]
  },
  {
   "cell_type": "markdown",
   "id": "5487d71d",
   "metadata": {},
   "source": [
    "### Сортировка"
   ]
  },
  {
   "cell_type": "code",
   "execution_count": 20,
   "id": "d9606f12",
   "metadata": {},
   "outputs": [],
   "source": [
    "a = np.array([[1, 4, 2, 6],\n",
    "              [5, 3, 7, 2],\n",
    "              [2, 3, 1, 6]])"
   ]
  },
  {
   "cell_type": "code",
   "execution_count": 22,
   "id": "59323edb",
   "metadata": {},
   "outputs": [
    {
     "data": {
      "text/plain": [
       "array([[1, 4, 2, 6],\n",
       "       [2, 3, 1, 6],\n",
       "       [5, 3, 7, 2]])"
      ]
     },
     "execution_count": 22,
     "metadata": {},
     "output_type": "execute_result"
    }
   ],
   "source": [
    "a[[0, 2, 1], :]"
   ]
  },
  {
   "cell_type": "code",
   "execution_count": 23,
   "id": "3342c278",
   "metadata": {},
   "outputs": [
    {
     "data": {
      "text/plain": [
       "array([[0, 1, 2, 1],\n",
       "       [2, 2, 0, 0],\n",
       "       [1, 0, 1, 2]], dtype=int64)"
      ]
     },
     "execution_count": 23,
     "metadata": {},
     "output_type": "execute_result"
    }
   ],
   "source": [
    "a.argsort(axis=0)"
   ]
  },
  {
   "cell_type": "code",
   "execution_count": 24,
   "id": "6960d8ac",
   "metadata": {},
   "outputs": [
    {
     "data": {
      "text/plain": [
       "array([0, 2, 1], dtype=int64)"
      ]
     },
     "execution_count": 24,
     "metadata": {},
     "output_type": "execute_result"
    }
   ],
   "source": [
    "a[:, 0].argsort(axis=0)"
   ]
  },
  {
   "cell_type": "code",
   "execution_count": 25,
   "id": "b86b343b",
   "metadata": {},
   "outputs": [
    {
     "data": {
      "text/plain": [
       "array([[1, 4, 2, 6],\n",
       "       [2, 3, 1, 6],\n",
       "       [5, 3, 7, 2]])"
      ]
     },
     "execution_count": 25,
     "metadata": {},
     "output_type": "execute_result"
    }
   ],
   "source": [
    "a[a[:, 0].argsort(axis=0), :]"
   ]
  },
  {
   "cell_type": "markdown",
   "id": "0179d101",
   "metadata": {},
   "source": [
    "### Перемешивание"
   ]
  },
  {
   "cell_type": "code",
   "execution_count": 28,
   "id": "ecc41d12",
   "metadata": {},
   "outputs": [],
   "source": [
    "a = np.arange(10)"
   ]
  },
  {
   "cell_type": "code",
   "execution_count": 31,
   "id": "3121b685",
   "metadata": {},
   "outputs": [
    {
     "data": {
      "text/plain": [
       "array([5, 9, 4, 0, 3, 7, 2, 8, 1, 6])"
      ]
     },
     "execution_count": 31,
     "metadata": {},
     "output_type": "execute_result"
    }
   ],
   "source": [
    "np.random.shuffle(a)\n",
    "a"
   ]
  },
  {
   "cell_type": "markdown",
   "id": "4be80ffa",
   "metadata": {},
   "source": [
    "### Математичесткие действия"
   ]
  },
  {
   "cell_type": "markdown",
   "id": "3e11342a",
   "metadata": {},
   "source": [
    "Применение математических действий ко всему массиву"
   ]
  },
  {
   "cell_type": "code",
   "execution_count": 34,
   "id": "eba4e9c6",
   "metadata": {},
   "outputs": [
    {
     "data": {
      "text/plain": [
       "array([[1, 2, 3],\n",
       "       [4, 5, 6]])"
      ]
     },
     "execution_count": 34,
     "metadata": {},
     "output_type": "execute_result"
    }
   ],
   "source": [
    "a = np.arange(1, 7).reshape(2, 3)\n",
    "a"
   ]
  },
  {
   "cell_type": "markdown",
   "id": "f2369c13",
   "metadata": {},
   "source": [
    "логарифм по снованию e"
   ]
  },
  {
   "cell_type": "code",
   "execution_count": 36,
   "id": "e4254fa4",
   "metadata": {},
   "outputs": [
    {
     "data": {
      "text/plain": [
       "array([[0.        , 0.69314718, 1.09861229],\n",
       "       [1.38629436, 1.60943791, 1.79175947]])"
      ]
     },
     "execution_count": 36,
     "metadata": {},
     "output_type": "execute_result"
    }
   ],
   "source": [
    "np.log(a)"
   ]
  },
  {
   "cell_type": "markdown",
   "id": "5618840e",
   "metadata": {},
   "source": [
    "экспонента"
   ]
  },
  {
   "cell_type": "code",
   "execution_count": 37,
   "id": "edcf6384",
   "metadata": {},
   "outputs": [
    {
     "data": {
      "text/plain": [
       "array([[  2.71828183,   7.3890561 ,  20.08553692],\n",
       "       [ 54.59815003, 148.4131591 , 403.42879349]])"
      ]
     },
     "execution_count": 37,
     "metadata": {},
     "output_type": "execute_result"
    }
   ],
   "source": [
    "np.exp(a)"
   ]
  },
  {
   "cell_type": "markdown",
   "id": "a1abc305",
   "metadata": {},
   "source": [
    "сумма всех элементов"
   ]
  },
  {
   "cell_type": "code",
   "execution_count": 38,
   "id": "85de212b",
   "metadata": {},
   "outputs": [
    {
     "data": {
      "text/plain": [
       "21"
      ]
     },
     "execution_count": 38,
     "metadata": {},
     "output_type": "execute_result"
    }
   ],
   "source": [
    "a.sum()"
   ]
  },
  {
   "cell_type": "markdown",
   "id": "f88e4007",
   "metadata": {},
   "source": [
    "сумма по столбцам"
   ]
  },
  {
   "cell_type": "code",
   "execution_count": 39,
   "id": "0f047fbb",
   "metadata": {},
   "outputs": [
    {
     "data": {
      "text/plain": [
       "array([5, 7, 9])"
      ]
     },
     "execution_count": 39,
     "metadata": {},
     "output_type": "execute_result"
    }
   ],
   "source": [
    "a.sum(axis=0)"
   ]
  },
  {
   "cell_type": "markdown",
   "id": "4ecec3e2",
   "metadata": {},
   "source": [
    "сумма по строкам"
   ]
  },
  {
   "cell_type": "code",
   "execution_count": 40,
   "id": "744f28a8",
   "metadata": {},
   "outputs": [
    {
     "data": {
      "text/plain": [
       "array([ 6, 15])"
      ]
     },
     "execution_count": 40,
     "metadata": {},
     "output_type": "execute_result"
    }
   ],
   "source": [
    "a.sum(axis=1)"
   ]
  },
  {
   "cell_type": "markdown",
   "id": "8cb21d01",
   "metadata": {},
   "source": [
    "поэлементоное умножение значений матриц"
   ]
  },
  {
   "cell_type": "code",
   "execution_count": 42,
   "id": "9f4c9348",
   "metadata": {},
   "outputs": [
    {
     "data": {
      "text/plain": [
       "array([[1, 2, 3],\n",
       "       [4, 5, 6],\n",
       "       [7, 8, 9]])"
      ]
     },
     "execution_count": 42,
     "metadata": {},
     "output_type": "execute_result"
    }
   ],
   "source": [
    "a = np.arange(1, 10).reshape(3, 3)\n",
    "a"
   ]
  },
  {
   "cell_type": "code",
   "execution_count": 43,
   "id": "3b28bfa8",
   "metadata": {},
   "outputs": [
    {
     "data": {
      "text/plain": [
       "array([[9, 8, 7],\n",
       "       [6, 5, 4],\n",
       "       [3, 2, 1]])"
      ]
     },
     "execution_count": 43,
     "metadata": {},
     "output_type": "execute_result"
    }
   ],
   "source": [
    "b = np.arange(9, 0, -1).reshape(3, 3)\n",
    "b"
   ]
  },
  {
   "cell_type": "code",
   "execution_count": 44,
   "id": "9fd85813",
   "metadata": {},
   "outputs": [
    {
     "data": {
      "text/plain": [
       "array([[ 9, 16, 21],\n",
       "       [24, 25, 24],\n",
       "       [21, 16,  9]])"
      ]
     },
     "execution_count": 44,
     "metadata": {},
     "output_type": "execute_result"
    }
   ],
   "source": [
    "a * b"
   ]
  },
  {
   "cell_type": "markdown",
   "id": "d3117724",
   "metadata": {},
   "source": [
    "Broadcasting (на примере сложения)"
   ]
  },
  {
   "cell_type": "markdown",
   "id": "f7a20264",
   "metadata": {},
   "source": [
    "сложение матриц разных размеров"
   ]
  },
  {
   "cell_type": "markdown",
   "id": "ba22766a",
   "metadata": {},
   "source": [
    "1) совпадает число столбцов"
   ]
  },
  {
   "cell_type": "code",
   "execution_count": 45,
   "id": "2f729ced",
   "metadata": {},
   "outputs": [],
   "source": [
    "a = np.array([[2, 5],\n",
    "              [3, 4],\n",
    "              [6, 1]])"
   ]
  },
  {
   "cell_type": "code",
   "execution_count": 46,
   "id": "bc53ed91",
   "metadata": {},
   "outputs": [],
   "source": [
    "b = np.array([1, 2])"
   ]
  },
  {
   "cell_type": "markdown",
   "id": "e517b52c",
   "metadata": {},
   "source": [
    "В этом случае к каждой строке a будет добавлен массив b"
   ]
  },
  {
   "cell_type": "code",
   "execution_count": 47,
   "id": "530630ea",
   "metadata": {},
   "outputs": [
    {
     "data": {
      "text/plain": [
       "array([[3, 7],\n",
       "       [4, 6],\n",
       "       [7, 3]])"
      ]
     },
     "execution_count": 47,
     "metadata": {},
     "output_type": "execute_result"
    }
   ],
   "source": [
    "a + b"
   ]
  },
  {
   "cell_type": "markdown",
   "id": "7265c0b5",
   "metadata": {},
   "source": [
    "2) совпадает число строк"
   ]
  },
  {
   "cell_type": "code",
   "execution_count": 51,
   "id": "50b5411e",
   "metadata": {},
   "outputs": [],
   "source": [
    "a = np.array([[2, 5],\n",
    "              [3, 4],\n",
    "              [6, 1]])"
   ]
  },
  {
   "cell_type": "code",
   "execution_count": 52,
   "id": "9c30c8b5",
   "metadata": {},
   "outputs": [],
   "source": [
    "b = np.array([[1],\n",
    "              [4],\n",
    "              [2]])"
   ]
  },
  {
   "cell_type": "markdown",
   "id": "21065b60",
   "metadata": {},
   "source": [
    "В этом случае к каждому столбцу a будет добавлен массив b"
   ]
  },
  {
   "cell_type": "code",
   "execution_count": 54,
   "id": "3bf2f3d1",
   "metadata": {},
   "outputs": [
    {
     "data": {
      "text/plain": [
       "array([[3, 6],\n",
       "       [7, 8],\n",
       "       [8, 3]])"
      ]
     },
     "execution_count": 54,
     "metadata": {},
     "output_type": "execute_result"
    }
   ],
   "source": [
    "a + b"
   ]
  },
  {
   "cell_type": "markdown",
   "id": "d84c9a85",
   "metadata": {},
   "source": [
    "### статистичесткие функции"
   ]
  },
  {
   "cell_type": "code",
   "execution_count": 56,
   "id": "32b2b1e9",
   "metadata": {},
   "outputs": [
    {
     "data": {
      "text/plain": [
       "array([[ 2,  4,  2,  6],\n",
       "       [ 3,  0, 11,  5],\n",
       "       [11,  4,  8,  6]])"
      ]
     },
     "execution_count": 56,
     "metadata": {},
     "output_type": "execute_result"
    }
   ],
   "source": [
    "a = np.random.randint(0, 12, (3, 4))\n",
    "a"
   ]
  },
  {
   "cell_type": "markdown",
   "id": "cc2e2c23",
   "metadata": {},
   "source": [
    "минимальное значение"
   ]
  },
  {
   "cell_type": "code",
   "execution_count": 57,
   "id": "13b5a4e6",
   "metadata": {},
   "outputs": [
    {
     "data": {
      "text/plain": [
       "0"
      ]
     },
     "execution_count": 57,
     "metadata": {},
     "output_type": "execute_result"
    }
   ],
   "source": [
    "a.min()"
   ]
  },
  {
   "cell_type": "markdown",
   "id": "f2599060",
   "metadata": {},
   "source": [
    "минимальное значение для каждого столбца"
   ]
  },
  {
   "cell_type": "code",
   "execution_count": 58,
   "id": "53fb386a",
   "metadata": {},
   "outputs": [
    {
     "data": {
      "text/plain": [
       "array([2, 0, 2, 5])"
      ]
     },
     "execution_count": 58,
     "metadata": {},
     "output_type": "execute_result"
    }
   ],
   "source": [
    "a.min(axis=0)"
   ]
  },
  {
   "cell_type": "markdown",
   "id": "8d091b23",
   "metadata": {},
   "source": [
    "минимальное значение для каждой строки"
   ]
  },
  {
   "cell_type": "code",
   "execution_count": 59,
   "id": "5d939401",
   "metadata": {},
   "outputs": [
    {
     "data": {
      "text/plain": [
       "array([2, 0, 4])"
      ]
     },
     "execution_count": 59,
     "metadata": {},
     "output_type": "execute_result"
    }
   ],
   "source": [
    "a.min(axis=1)"
   ]
  },
  {
   "cell_type": "markdown",
   "id": "981eacc9",
   "metadata": {},
   "source": [
    "максимальное значение (аналогично)"
   ]
  },
  {
   "cell_type": "code",
   "execution_count": 60,
   "id": "6b63a997",
   "metadata": {},
   "outputs": [
    {
     "data": {
      "text/plain": [
       "array([ 6, 11, 11])"
      ]
     },
     "execution_count": 60,
     "metadata": {},
     "output_type": "execute_result"
    }
   ],
   "source": [
    "a.max(axis=1)"
   ]
  },
  {
   "cell_type": "markdown",
   "id": "577cd614",
   "metadata": {},
   "source": [
    "среднее значение"
   ]
  },
  {
   "cell_type": "code",
   "execution_count": 61,
   "id": "6e826a7f",
   "metadata": {},
   "outputs": [
    {
     "data": {
      "text/plain": [
       "array([5.33333333, 2.66666667, 7.        , 5.66666667])"
      ]
     },
     "execution_count": 61,
     "metadata": {},
     "output_type": "execute_result"
    }
   ],
   "source": [
    "a.mean(axis=0)"
   ]
  },
  {
   "cell_type": "markdown",
   "id": "fdc8d994",
   "metadata": {},
   "source": [
    "стреднее квадратичное отклонение"
   ]
  },
  {
   "cell_type": "code",
   "execution_count": 62,
   "id": "f977db08",
   "metadata": {},
   "outputs": [
    {
     "data": {
      "text/plain": [
       "array([1.6583124 , 4.02336923, 2.58602011])"
      ]
     },
     "execution_count": 62,
     "metadata": {},
     "output_type": "execute_result"
    }
   ],
   "source": [
    "a.std(axis=1)"
   ]
  },
  {
   "cell_type": "markdown",
   "id": "8b6dcfbd",
   "metadata": {},
   "source": [
    "### Запись и чтение массива из файла"
   ]
  },
  {
   "cell_type": "code",
   "execution_count": 63,
   "id": "af4c8bb4",
   "metadata": {},
   "outputs": [],
   "source": [
    "np.save('a.npy', a)"
   ]
  },
  {
   "cell_type": "code",
   "execution_count": 64,
   "id": "8b428b25",
   "metadata": {},
   "outputs": [],
   "source": [
    "b = np.load('a.npy')"
   ]
  },
  {
   "cell_type": "code",
   "execution_count": 65,
   "id": "9151cb12",
   "metadata": {},
   "outputs": [
    {
     "data": {
      "text/plain": [
       "array([[ 2,  4,  2,  6],\n",
       "       [ 3,  0, 11,  5],\n",
       "       [11,  4,  8,  6]])"
      ]
     },
     "execution_count": 65,
     "metadata": {},
     "output_type": "execute_result"
    }
   ],
   "source": [
    "b"
   ]
  },
  {
   "cell_type": "code",
   "execution_count": null,
   "id": "6fd002c9",
   "metadata": {},
   "outputs": [],
   "source": []
  }
 ],
 "metadata": {
  "kernelspec": {
   "display_name": "Python 3 (ipykernel)",
   "language": "python",
   "name": "python3"
  },
  "language_info": {
   "codemirror_mode": {
    "name": "ipython",
    "version": 3
   },
   "file_extension": ".py",
   "mimetype": "text/x-python",
   "name": "python",
   "nbconvert_exporter": "python",
   "pygments_lexer": "ipython3",
   "version": "3.9.7"
  }
 },
 "nbformat": 4,
 "nbformat_minor": 5
}
