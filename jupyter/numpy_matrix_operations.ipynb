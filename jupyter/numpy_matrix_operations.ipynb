{
 "cells": [
  {
   "cell_type": "code",
   "execution_count": 1,
   "id": "6fae6d1c",
   "metadata": {},
   "outputs": [],
   "source": [
    "import numpy as np"
   ]
  },
  {
   "cell_type": "markdown",
   "id": "82d686ec",
   "metadata": {},
   "source": [
    "### умножение матриц"
   ]
  },
  {
   "cell_type": "markdown",
   "id": "bc27dcae",
   "metadata": {},
   "source": [
    "$X1(число\\ столбцов) = X2(число\\ строк)$"
   ]
  },
  {
   "cell_type": "code",
   "execution_count": 10,
   "id": "5b626e7f",
   "metadata": {},
   "outputs": [],
   "source": [
    "X1 = np.array([[1, 2],\n",
    "               [3, 4],\n",
    "               [5, 6]])\n",
    "\n",
    "X2 = np.array([[7, 8, 9, 10],\n",
    "               [11, 12, 13, 14]])"
   ]
  },
  {
   "cell_type": "code",
   "execution_count": 11,
   "id": "ece24cf6",
   "metadata": {},
   "outputs": [
    {
     "data": {
      "text/plain": [
       "True"
      ]
     },
     "execution_count": 11,
     "metadata": {},
     "output_type": "execute_result"
    }
   ],
   "source": [
    "X1.shape[1] == X2.shape[0]"
   ]
  },
  {
   "cell_type": "code",
   "execution_count": 12,
   "id": "40854809",
   "metadata": {},
   "outputs": [
    {
     "data": {
      "text/plain": [
       "((3, 2), (2, 4))"
      ]
     },
     "execution_count": 12,
     "metadata": {},
     "output_type": "execute_result"
    }
   ],
   "source": [
    "X1.shape, X2.shape"
   ]
  },
  {
   "cell_type": "code",
   "execution_count": 13,
   "id": "897bb4cf",
   "metadata": {},
   "outputs": [
    {
     "data": {
      "text/plain": [
       "array([[ 29,  32,  35,  38],\n",
       "       [ 65,  72,  79,  86],\n",
       "       [101, 112, 123, 134]])"
      ]
     },
     "execution_count": 13,
     "metadata": {},
     "output_type": "execute_result"
    }
   ],
   "source": [
    "Z = np.dot(X1, X2)\n",
    "Z"
   ]
  },
  {
   "cell_type": "code",
   "execution_count": 14,
   "id": "7ba22685",
   "metadata": {},
   "outputs": [
    {
     "data": {
      "text/plain": [
       "(3, 4)"
      ]
     },
     "execution_count": 14,
     "metadata": {},
     "output_type": "execute_result"
    }
   ],
   "source": [
    "Z.shape"
   ]
  },
  {
   "cell_type": "markdown",
   "id": "59c11237",
   "metadata": {},
   "source": [
    "Пример расчета: Получение Z[0, 0]:"
   ]
  },
  {
   "cell_type": "code",
   "execution_count": 15,
   "id": "a780918b",
   "metadata": {},
   "outputs": [
    {
     "data": {
      "text/plain": [
       "29"
      ]
     },
     "execution_count": 15,
     "metadata": {},
     "output_type": "execute_result"
    }
   ],
   "source": [
    "X1[0, 0] * X2[0, 0] + X1[0, 1] * X2[1, 0]"
   ]
  },
  {
   "cell_type": "markdown",
   "id": "cdbcacb8",
   "metadata": {},
   "source": [
    "Пример расчета: Получение Z[1, 1]:"
   ]
  },
  {
   "cell_type": "code",
   "execution_count": 16,
   "id": "7888885a",
   "metadata": {},
   "outputs": [
    {
     "data": {
      "text/plain": [
       "72"
      ]
     },
     "execution_count": 16,
     "metadata": {},
     "output_type": "execute_result"
    }
   ],
   "source": [
    "X1[1, 0] * X2[0, 1] + X1[1, 1] * X2[1, 1]"
   ]
  },
  {
   "cell_type": "markdown",
   "id": "acdfc095",
   "metadata": {},
   "source": [
    "### модуль numpy.linalg: возведение матрицы в квадрат"
   ]
  },
  {
   "cell_type": "code",
   "execution_count": 17,
   "id": "ac0c0ddd",
   "metadata": {},
   "outputs": [],
   "source": [
    "A = np.array([[1, 2, 3],\n",
    "              [4, 5, 6],\n",
    "              [7, 8, 9]])"
   ]
  },
  {
   "cell_type": "code",
   "execution_count": 19,
   "id": "e617089e",
   "metadata": {},
   "outputs": [
    {
     "data": {
      "text/plain": [
       "array([[ 30,  36,  42],\n",
       "       [ 66,  81,  96],\n",
       "       [102, 126, 150]])"
      ]
     },
     "execution_count": 19,
     "metadata": {},
     "output_type": "execute_result"
    }
   ],
   "source": [
    "A_square = np.dot(A, A)\n",
    "A_square"
   ]
  },
  {
   "cell_type": "code",
   "execution_count": 20,
   "id": "56f81073",
   "metadata": {},
   "outputs": [
    {
     "data": {
      "text/plain": [
       "array([[ 30,  36,  42],\n",
       "       [ 66,  81,  96],\n",
       "       [102, 126, 150]])"
      ]
     },
     "execution_count": 20,
     "metadata": {},
     "output_type": "execute_result"
    }
   ],
   "source": [
    "A_square = np.linalg.matrix_power(A, 2)\n",
    "A_square"
   ]
  },
  {
   "cell_type": "markdown",
   "id": "5665e0c3",
   "metadata": {},
   "source": [
    "### создание единичной матрицы"
   ]
  },
  {
   "cell_type": "code",
   "execution_count": 27,
   "id": "14cc77f2",
   "metadata": {},
   "outputs": [],
   "source": [
    "A = np.array([[1, 2],\n",
    "              [3, 4],\n",
    "              [5, 6]]) # 3 x 2"
   ]
  },
  {
   "cell_type": "code",
   "execution_count": 28,
   "id": "44f2f0df",
   "metadata": {},
   "outputs": [
    {
     "data": {
      "text/plain": [
       "array([[1., 0., 0.],\n",
       "       [0., 1., 0.],\n",
       "       [0., 0., 1.]])"
      ]
     },
     "execution_count": 28,
     "metadata": {},
     "output_type": "execute_result"
    }
   ],
   "source": [
    "I = np.eye(3)\n",
    "I"
   ]
  },
  {
   "cell_type": "code",
   "execution_count": 26,
   "id": "b68540b0",
   "metadata": {},
   "outputs": [
    {
     "data": {
      "text/plain": [
       "array([[1., 2.],\n",
       "       [3., 4.],\n",
       "       [5., 6.]])"
      ]
     },
     "execution_count": 26,
     "metadata": {},
     "output_type": "execute_result"
    }
   ],
   "source": [
    "np.dot(I, A)"
   ]
  },
  {
   "cell_type": "code",
   "execution_count": 29,
   "id": "13845db8",
   "metadata": {},
   "outputs": [
    {
     "data": {
      "text/plain": [
       "array([[1., 0.],\n",
       "       [0., 1.]])"
      ]
     },
     "execution_count": 29,
     "metadata": {},
     "output_type": "execute_result"
    }
   ],
   "source": [
    "I = np.eye(2)\n",
    "I"
   ]
  },
  {
   "cell_type": "code",
   "execution_count": 30,
   "id": "abbef499",
   "metadata": {},
   "outputs": [
    {
     "data": {
      "text/plain": [
       "array([[1., 2.],\n",
       "       [3., 4.],\n",
       "       [5., 6.]])"
      ]
     },
     "execution_count": 30,
     "metadata": {},
     "output_type": "execute_result"
    }
   ],
   "source": [
    "np.dot(A, I)"
   ]
  },
  {
   "cell_type": "markdown",
   "id": "dcbe7d5d",
   "metadata": {},
   "source": [
    "### транспонирование матрицы"
   ]
  },
  {
   "cell_type": "code",
   "execution_count": 32,
   "id": "0528d3ff",
   "metadata": {},
   "outputs": [],
   "source": [
    "A = np.array([[11, 12],\n",
    "              [13, 14],\n",
    "              [15, 16]])"
   ]
  },
  {
   "cell_type": "code",
   "execution_count": 34,
   "id": "349c1cea",
   "metadata": {},
   "outputs": [
    {
     "data": {
      "text/plain": [
       "array([[11, 13, 15],\n",
       "       [12, 14, 16]])"
      ]
     },
     "execution_count": 34,
     "metadata": {},
     "output_type": "execute_result"
    }
   ],
   "source": [
    "At = A.transpose()\n",
    "At"
   ]
  },
  {
   "cell_type": "code",
   "execution_count": 35,
   "id": "0bda607e",
   "metadata": {},
   "outputs": [
    {
     "data": {
      "text/plain": [
       "array([[11, 13, 15],\n",
       "       [12, 14, 16]])"
      ]
     },
     "execution_count": 35,
     "metadata": {},
     "output_type": "execute_result"
    }
   ],
   "source": [
    "A.T"
   ]
  },
  {
   "cell_type": "markdown",
   "id": "17e19ace",
   "metadata": {},
   "source": [
    "Рассмотрим матрицы X и Y:"
   ]
  },
  {
   "cell_type": "code",
   "execution_count": 37,
   "id": "888f86da",
   "metadata": {},
   "outputs": [],
   "source": [
    "X = np.array([[1, 2],\n",
    "              [3, 4],\n",
    "              [5, 6]])"
   ]
  },
  {
   "cell_type": "code",
   "execution_count": 38,
   "id": "b61741e9",
   "metadata": {},
   "outputs": [],
   "source": [
    "Y = np.array([[0, 1],\n",
    "              [3, 4],\n",
    "              [6, 7],\n",
    "              [2, 5]])"
   ]
  },
  {
   "cell_type": "code",
   "execution_count": 39,
   "id": "c6107288",
   "metadata": {},
   "outputs": [
    {
     "data": {
      "text/plain": [
       "array([[0, 3, 6, 2],\n",
       "       [1, 4, 7, 5]])"
      ]
     },
     "execution_count": 39,
     "metadata": {},
     "output_type": "execute_result"
    }
   ],
   "source": [
    "Yt = Y.T\n",
    "Yt"
   ]
  },
  {
   "cell_type": "code",
   "execution_count": 40,
   "id": "b4ade865",
   "metadata": {},
   "outputs": [
    {
     "data": {
      "text/plain": [
       "array([[ 2, 11, 20, 12],\n",
       "       [ 4, 25, 46, 26],\n",
       "       [ 6, 39, 72, 40]])"
      ]
     },
     "execution_count": 40,
     "metadata": {},
     "output_type": "execute_result"
    }
   ],
   "source": [
    "np.dot(X, Yt)"
   ]
  },
  {
   "cell_type": "markdown",
   "id": "2ad3d63a",
   "metadata": {},
   "source": [
    "### вычисление определителя и ранга матрицы"
   ]
  },
  {
   "cell_type": "markdown",
   "id": "e92cc939",
   "metadata": {},
   "source": [
    "пример 1:"
   ]
  },
  {
   "cell_type": "code",
   "execution_count": 41,
   "id": "2b98a3a4",
   "metadata": {},
   "outputs": [],
   "source": [
    "A = np.array([[0, 1, 2],\n",
    "              [3, 4, 5],\n",
    "              [6, 7, 8]])"
   ]
  },
  {
   "cell_type": "markdown",
   "id": "235bfab0",
   "metadata": {},
   "source": [
    "определитель"
   ]
  },
  {
   "cell_type": "code",
   "execution_count": 42,
   "id": "47888c6d",
   "metadata": {},
   "outputs": [
    {
     "data": {
      "text/plain": [
       "0.0"
      ]
     },
     "execution_count": 42,
     "metadata": {},
     "output_type": "execute_result"
    }
   ],
   "source": [
    "np.linalg.det(A)"
   ]
  },
  {
   "cell_type": "markdown",
   "id": "6adc0369",
   "metadata": {},
   "source": [
    "ранг"
   ]
  },
  {
   "cell_type": "code",
   "execution_count": 45,
   "id": "dffab083",
   "metadata": {},
   "outputs": [
    {
     "data": {
      "text/plain": [
       "2"
      ]
     },
     "execution_count": 45,
     "metadata": {},
     "output_type": "execute_result"
    }
   ],
   "source": [
    "np.linalg.matrix_rank(A)"
   ]
  },
  {
   "cell_type": "markdown",
   "id": "553b9b81",
   "metadata": {},
   "source": [
    "пример 2:"
   ]
  },
  {
   "cell_type": "code",
   "execution_count": 47,
   "id": "d8b87c1d",
   "metadata": {},
   "outputs": [],
   "source": [
    "A = np.array([[1, 2],\n",
    "              [3, 4],\n",
    "              [5, 6]])"
   ]
  },
  {
   "cell_type": "markdown",
   "id": "2babc80d",
   "metadata": {},
   "source": [
    "определитель"
   ]
  },
  {
   "cell_type": "code",
   "execution_count": 54,
   "id": "71df9dd6",
   "metadata": {},
   "outputs": [],
   "source": [
    "#np.linalg.det(A) # error: Last 2 dimensions of the array must be square"
   ]
  },
  {
   "cell_type": "markdown",
   "id": "690d4a72",
   "metadata": {},
   "source": [
    "ранг"
   ]
  },
  {
   "cell_type": "code",
   "execution_count": 50,
   "id": "a60e422e",
   "metadata": {},
   "outputs": [
    {
     "data": {
      "text/plain": [
       "2"
      ]
     },
     "execution_count": 50,
     "metadata": {},
     "output_type": "execute_result"
    }
   ],
   "source": [
    "np.linalg.matrix_rank(A)"
   ]
  },
  {
   "cell_type": "markdown",
   "id": "d757f630",
   "metadata": {},
   "source": [
    "### вычисление обратной матрицы"
   ]
  },
  {
   "cell_type": "code",
   "execution_count": 51,
   "id": "26f445b7",
   "metadata": {},
   "outputs": [],
   "source": [
    "B = np.array([[7, 4, 5],\n",
    "              [8, 3, 2],\n",
    "              [6, 10, 12]])"
   ]
  },
  {
   "cell_type": "markdown",
   "id": "7540a483",
   "metadata": {},
   "source": [
    "обратная матрица B:"
   ]
  },
  {
   "cell_type": "code",
   "execution_count": 53,
   "id": "9b0af23e",
   "metadata": {},
   "outputs": [
    {
     "data": {
      "text/plain": [
       "array([[ 0.18604651,  0.02325581, -0.08139535],\n",
       "       [-0.97674419,  0.62790698,  0.30232558],\n",
       "       [ 0.72093023, -0.53488372, -0.12790698]])"
      ]
     },
     "execution_count": 53,
     "metadata": {},
     "output_type": "execute_result"
    }
   ],
   "source": [
    "B_inv = np.linalg.inv(B)\n",
    "B_inv"
   ]
  },
  {
   "cell_type": "markdown",
   "id": "871a44e7",
   "metadata": {},
   "source": [
    "свойство обратной матрицы"
   ]
  },
  {
   "cell_type": "code",
   "execution_count": 60,
   "id": "22ac8d93",
   "metadata": {},
   "outputs": [
    {
     "data": {
      "text/plain": [
       "array([[ 7.,  4.,  5.],\n",
       "       [ 8.,  3.,  2.],\n",
       "       [ 6., 10., 12.]])"
      ]
     },
     "execution_count": 60,
     "metadata": {},
     "output_type": "execute_result"
    }
   ],
   "source": [
    "B_inv2 = np.linalg.inv(B_inv)\n",
    "B_inv2"
   ]
  },
  {
   "cell_type": "code",
   "execution_count": null,
   "id": "be6e710b",
   "metadata": {},
   "outputs": [],
   "source": []
  }
 ],
 "metadata": {
  "kernelspec": {
   "display_name": "Python 3 (ipykernel)",
   "language": "python",
   "name": "python3"
  },
  "language_info": {
   "codemirror_mode": {
    "name": "ipython",
    "version": 3
   },
   "file_extension": ".py",
   "mimetype": "text/x-python",
   "name": "python",
   "nbconvert_exporter": "python",
   "pygments_lexer": "ipython3",
   "version": "3.9.7"
  }
 },
 "nbformat": 4,
 "nbformat_minor": 5
}
