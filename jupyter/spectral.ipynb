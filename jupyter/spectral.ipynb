{
 "cells": [
  {
   "cell_type": "code",
   "execution_count": 17,
   "id": "d9690b33",
   "metadata": {},
   "outputs": [],
   "source": [
    "import numpy as np\n",
    "np.set_printoptions(precision=2, suppress=True)\n",
    "\n",
    "A = np.array([\n",
    "    [1.0, 2.0, -1.0],\n",
    "    [2.0, 2.0, 5.0],\n",
    "    [-1.0, 5.0, -3.0]\n",
    "])"
   ]
  },
  {
   "cell_type": "code",
   "execution_count": 14,
   "id": "2d247b69",
   "metadata": {},
   "outputs": [],
   "source": [
    "v, w = np.linalg.eigh(A)"
   ]
  },
  {
   "cell_type": "code",
   "execution_count": 18,
   "id": "cdb88541",
   "metadata": {},
   "outputs": [
    {
     "data": {
      "text/plain": [
       "array([-6.58,  1.15,  5.43])"
      ]
     },
     "execution_count": 18,
     "metadata": {},
     "output_type": "execute_result"
    }
   ],
   "source": [
    "v"
   ]
  },
  {
   "cell_type": "code",
   "execution_count": 19,
   "id": "a38c9376",
   "metadata": {},
   "outputs": [
    {
     "data": {
      "text/plain": [
       "array([[-0.25,  0.93, -0.27],\n",
       "       [ 0.53, -0.11, -0.84],\n",
       "       [-0.81, -0.35, -0.47]])"
      ]
     },
     "execution_count": 19,
     "metadata": {},
     "output_type": "execute_result"
    }
   ],
   "source": [
    "w"
   ]
  },
  {
   "cell_type": "code",
   "execution_count": 20,
   "id": "a14cd11f",
   "metadata": {},
   "outputs": [],
   "source": [
    "D = np.diag(v)"
   ]
  },
  {
   "cell_type": "code",
   "execution_count": 21,
   "id": "5e413ebc",
   "metadata": {},
   "outputs": [
    {
     "data": {
      "text/plain": [
       "array([[-6.58,  0.  ,  0.  ],\n",
       "       [ 0.  ,  1.15,  0.  ],\n",
       "       [ 0.  ,  0.  ,  5.43]])"
      ]
     },
     "execution_count": 21,
     "metadata": {},
     "output_type": "execute_result"
    }
   ],
   "source": [
    "D"
   ]
  },
  {
   "cell_type": "code",
   "execution_count": 22,
   "id": "5c3c734a",
   "metadata": {},
   "outputs": [],
   "source": [
    "S = w.T"
   ]
  },
  {
   "cell_type": "code",
   "execution_count": 23,
   "id": "5d10401e",
   "metadata": {},
   "outputs": [
    {
     "data": {
      "text/plain": [
       "array([[-0.25,  0.53, -0.81],\n",
       "       [ 0.93, -0.11, -0.35],\n",
       "       [-0.27, -0.84, -0.47]])"
      ]
     },
     "execution_count": 23,
     "metadata": {},
     "output_type": "execute_result"
    }
   ],
   "source": [
    "S"
   ]
  },
  {
   "cell_type": "code",
   "execution_count": 24,
   "id": "e09c2609",
   "metadata": {},
   "outputs": [
    {
     "data": {
      "text/plain": [
       "array([[-0.25,  0.93, -0.27],\n",
       "       [ 0.53, -0.11, -0.84],\n",
       "       [-0.81, -0.35, -0.47]])"
      ]
     },
     "execution_count": 24,
     "metadata": {},
     "output_type": "execute_result"
    }
   ],
   "source": [
    "S.T"
   ]
  },
  {
   "cell_type": "code",
   "execution_count": 25,
   "id": "46e30e63",
   "metadata": {},
   "outputs": [
    {
     "data": {
      "text/plain": [
       "array([[1., 0., 0.],\n",
       "       [0., 1., 0.],\n",
       "       [0., 0., 1.]])"
      ]
     },
     "execution_count": 25,
     "metadata": {},
     "output_type": "execute_result"
    }
   ],
   "source": [
    "np.dot(S.T, S)"
   ]
  },
  {
   "cell_type": "code",
   "execution_count": 26,
   "id": "99cae856",
   "metadata": {},
   "outputs": [
    {
     "data": {
      "text/plain": [
       "array([[1., 0., 0.],\n",
       "       [0., 1., 0.],\n",
       "       [0., 0., 1.]])"
      ]
     },
     "execution_count": 26,
     "metadata": {},
     "output_type": "execute_result"
    }
   ],
   "source": [
    "np.dot(S, S.T)"
   ]
  },
  {
   "cell_type": "code",
   "execution_count": 29,
   "id": "e9e0e38b",
   "metadata": {},
   "outputs": [
    {
     "data": {
      "text/plain": [
       "array([[ 1.,  2., -1.],\n",
       "       [ 2.,  2.,  5.],\n",
       "       [-1.,  5., -3.]])"
      ]
     },
     "execution_count": 29,
     "metadata": {},
     "output_type": "execute_result"
    }
   ],
   "source": [
    "np.dot(np.dot(S.T, D), S)"
   ]
  },
  {
   "cell_type": "code",
   "execution_count": null,
   "id": "903a9942",
   "metadata": {},
   "outputs": [],
   "source": []
  }
 ],
 "metadata": {
  "kernelspec": {
   "display_name": "Python 3 (ipykernel)",
   "language": "python",
   "name": "python3"
  },
  "language_info": {
   "codemirror_mode": {
    "name": "ipython",
    "version": 3
   },
   "file_extension": ".py",
   "mimetype": "text/x-python",
   "name": "python",
   "nbconvert_exporter": "python",
   "pygments_lexer": "ipython3",
   "version": "3.9.7"
  }
 },
 "nbformat": 4,
 "nbformat_minor": 5
}
