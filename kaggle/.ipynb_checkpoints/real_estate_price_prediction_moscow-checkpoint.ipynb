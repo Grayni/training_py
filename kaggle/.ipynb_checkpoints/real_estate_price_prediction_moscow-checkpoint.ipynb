{
 "cells": [
  {
   "cell_type": "code",
   "execution_count": 1,
   "id": "78dc30ae",
   "metadata": {},
   "outputs": [],
   "source": [
    "import numpy as np\n",
    "import pandas as pd\n",
    "import matplotlib.pyplot as plt\n",
    "from matplotlib.ticker import FormatStrFormatter\n",
    "from matplotlib.ticker import StrMethodFormatter\n",
    "import warnings\n",
    "\n",
    "%matplotlib inline\n",
    "#%config InlineBackend.figure_format = 'svg'\n",
    "warnings.filterwarnings('ignore')"
   ]
  },
  {
   "cell_type": "code",
   "execution_count": 2,
   "id": "a55c1e8a",
   "metadata": {},
   "outputs": [
    {
     "name": "stdout",
     "output_type": "stream",
     "text": [
      "./input/real_estate_price_prediction_moscow/sample_submission.csv\n",
      "./input/real_estate_price_prediction_moscow/test.csv\n",
      "./input/real_estate_price_prediction_moscow/train.csv\n"
     ]
    }
   ],
   "source": [
    "import os\n",
    "\n",
    "for dirname, _, filenames in os.walk('input/'):\n",
    "    for filename in filenames:\n",
    "        print(f'./{dirname}/{filename}')"
   ]
  },
  {
   "cell_type": "code",
   "execution_count": 3,
   "id": "a186cb55",
   "metadata": {},
   "outputs": [],
   "source": [
    "TRAIN_DATASET_PATH = './input/real_estate_price_prediction_moscow/train.csv'\n",
    "TEST_DATASET_PATH = './input/real_estate_price_prediction_moscow/test.csv'"
   ]
  },
  {
   "cell_type": "code",
   "execution_count": 4,
   "id": "0c54f2ea",
   "metadata": {},
   "outputs": [
    {
     "data": {
      "text/html": [
       "<div>\n",
       "<style scoped>\n",
       "    .dataframe tbody tr th:only-of-type {\n",
       "        vertical-align: middle;\n",
       "    }\n",
       "\n",
       "    .dataframe tbody tr th {\n",
       "        vertical-align: top;\n",
       "    }\n",
       "\n",
       "    .dataframe thead th {\n",
       "        text-align: right;\n",
       "    }\n",
       "</style>\n",
       "<table border=\"1\" class=\"dataframe\">\n",
       "  <thead>\n",
       "    <tr style=\"text-align: right;\">\n",
       "      <th></th>\n",
       "      <th>Id</th>\n",
       "      <th>DistrictId</th>\n",
       "      <th>Rooms</th>\n",
       "      <th>Square</th>\n",
       "      <th>LifeSquare</th>\n",
       "      <th>KitchenSquare</th>\n",
       "      <th>Floor</th>\n",
       "      <th>HouseFloor</th>\n",
       "      <th>HouseYear</th>\n",
       "      <th>Ecology_1</th>\n",
       "      <th>Ecology_2</th>\n",
       "      <th>Ecology_3</th>\n",
       "      <th>Social_1</th>\n",
       "      <th>Social_2</th>\n",
       "      <th>Social_3</th>\n",
       "      <th>Healthcare_1</th>\n",
       "      <th>Helthcare_2</th>\n",
       "      <th>Shops_1</th>\n",
       "      <th>Shops_2</th>\n",
       "      <th>Price</th>\n",
       "    </tr>\n",
       "  </thead>\n",
       "  <tbody>\n",
       "    <tr>\n",
       "      <th>0</th>\n",
       "      <td>11809</td>\n",
       "      <td>27</td>\n",
       "      <td>3.0</td>\n",
       "      <td>115.027311</td>\n",
       "      <td>NaN</td>\n",
       "      <td>10.0</td>\n",
       "      <td>4</td>\n",
       "      <td>10.0</td>\n",
       "      <td>2014</td>\n",
       "      <td>0.075424</td>\n",
       "      <td>B</td>\n",
       "      <td>B</td>\n",
       "      <td>11</td>\n",
       "      <td>3097</td>\n",
       "      <td>0</td>\n",
       "      <td>NaN</td>\n",
       "      <td>0</td>\n",
       "      <td>0</td>\n",
       "      <td>B</td>\n",
       "      <td>305018.871089</td>\n",
       "    </tr>\n",
       "    <tr>\n",
       "      <th>1</th>\n",
       "      <td>3013</td>\n",
       "      <td>22</td>\n",
       "      <td>1.0</td>\n",
       "      <td>39.832524</td>\n",
       "      <td>23.169223</td>\n",
       "      <td>8.0</td>\n",
       "      <td>7</td>\n",
       "      <td>8.0</td>\n",
       "      <td>1966</td>\n",
       "      <td>0.118537</td>\n",
       "      <td>B</td>\n",
       "      <td>B</td>\n",
       "      <td>30</td>\n",
       "      <td>6207</td>\n",
       "      <td>1</td>\n",
       "      <td>1183.0</td>\n",
       "      <td>1</td>\n",
       "      <td>0</td>\n",
       "      <td>B</td>\n",
       "      <td>177734.553407</td>\n",
       "    </tr>\n",
       "    <tr>\n",
       "      <th>2</th>\n",
       "      <td>8215</td>\n",
       "      <td>1</td>\n",
       "      <td>3.0</td>\n",
       "      <td>78.342215</td>\n",
       "      <td>47.671972</td>\n",
       "      <td>10.0</td>\n",
       "      <td>2</td>\n",
       "      <td>17.0</td>\n",
       "      <td>1988</td>\n",
       "      <td>0.025609</td>\n",
       "      <td>B</td>\n",
       "      <td>B</td>\n",
       "      <td>33</td>\n",
       "      <td>5261</td>\n",
       "      <td>0</td>\n",
       "      <td>240.0</td>\n",
       "      <td>3</td>\n",
       "      <td>1</td>\n",
       "      <td>B</td>\n",
       "      <td>282078.720850</td>\n",
       "    </tr>\n",
       "  </tbody>\n",
       "</table>\n",
       "</div>"
      ],
      "text/plain": [
       "      Id  DistrictId  Rooms      Square  LifeSquare  KitchenSquare  Floor  \\\n",
       "0  11809          27    3.0  115.027311         NaN           10.0      4   \n",
       "1   3013          22    1.0   39.832524   23.169223            8.0      7   \n",
       "2   8215           1    3.0   78.342215   47.671972           10.0      2   \n",
       "\n",
       "   HouseFloor  HouseYear  Ecology_1 Ecology_2 Ecology_3  Social_1  Social_2  \\\n",
       "0        10.0       2014   0.075424         B         B        11      3097   \n",
       "1         8.0       1966   0.118537         B         B        30      6207   \n",
       "2        17.0       1988   0.025609         B         B        33      5261   \n",
       "\n",
       "   Social_3  Healthcare_1  Helthcare_2  Shops_1 Shops_2          Price  \n",
       "0         0           NaN            0        0       B  305018.871089  \n",
       "1         1        1183.0            1        0       B  177734.553407  \n",
       "2         0         240.0            3        1       B  282078.720850  "
      ]
     },
     "execution_count": 4,
     "metadata": {},
     "output_type": "execute_result"
    }
   ],
   "source": [
    "train_df = pd.read_csv(TRAIN_DATASET_PATH, sep=',')\n",
    "train_df.head(3)"
   ]
  },
  {
   "cell_type": "code",
   "execution_count": 5,
   "id": "881bc92e",
   "metadata": {},
   "outputs": [
    {
     "data": {
      "text/plain": [
       "Id                 int64\n",
       "DistrictId         int64\n",
       "Rooms            float64\n",
       "Square           float64\n",
       "LifeSquare       float64\n",
       "KitchenSquare    float64\n",
       "Floor              int64\n",
       "HouseFloor       float64\n",
       "HouseYear          int64\n",
       "Ecology_1        float64\n",
       "Ecology_2         object\n",
       "Ecology_3         object\n",
       "Social_1           int64\n",
       "Social_2           int64\n",
       "Social_3           int64\n",
       "Healthcare_1     float64\n",
       "Helthcare_2        int64\n",
       "Shops_1            int64\n",
       "Shops_2           object\n",
       "Price            float64\n",
       "dtype: object"
      ]
     },
     "execution_count": 5,
     "metadata": {},
     "output_type": "execute_result"
    }
   ],
   "source": [
    "train_df.dtypes"
   ]
  },
  {
   "cell_type": "code",
   "execution_count": 6,
   "id": "3274020f",
   "metadata": {},
   "outputs": [
    {
     "data": {
      "text/html": [
       "<div>\n",
       "<style scoped>\n",
       "    .dataframe tbody tr th:only-of-type {\n",
       "        vertical-align: middle;\n",
       "    }\n",
       "\n",
       "    .dataframe tbody tr th {\n",
       "        vertical-align: top;\n",
       "    }\n",
       "\n",
       "    .dataframe thead th {\n",
       "        text-align: right;\n",
       "    }\n",
       "</style>\n",
       "<table border=\"1\" class=\"dataframe\">\n",
       "  <thead>\n",
       "    <tr style=\"text-align: right;\">\n",
       "      <th></th>\n",
       "      <th>Id</th>\n",
       "      <th>DistrictId</th>\n",
       "      <th>Rooms</th>\n",
       "      <th>Square</th>\n",
       "      <th>LifeSquare</th>\n",
       "      <th>KitchenSquare</th>\n",
       "      <th>Floor</th>\n",
       "      <th>HouseFloor</th>\n",
       "      <th>HouseYear</th>\n",
       "      <th>Ecology_1</th>\n",
       "      <th>Ecology_2</th>\n",
       "      <th>Ecology_3</th>\n",
       "      <th>Social_1</th>\n",
       "      <th>Social_2</th>\n",
       "      <th>Social_3</th>\n",
       "      <th>Healthcare_1</th>\n",
       "      <th>Helthcare_2</th>\n",
       "      <th>Shops_1</th>\n",
       "      <th>Shops_2</th>\n",
       "    </tr>\n",
       "  </thead>\n",
       "  <tbody>\n",
       "    <tr>\n",
       "      <th>0</th>\n",
       "      <td>4567</td>\n",
       "      <td>44</td>\n",
       "      <td>1.0</td>\n",
       "      <td>36.847630</td>\n",
       "      <td>19.094182</td>\n",
       "      <td>5.0</td>\n",
       "      <td>5</td>\n",
       "      <td>9.0</td>\n",
       "      <td>1970</td>\n",
       "      <td>0.036122</td>\n",
       "      <td>B</td>\n",
       "      <td>B</td>\n",
       "      <td>24</td>\n",
       "      <td>4378</td>\n",
       "      <td>0</td>\n",
       "      <td>1036.0</td>\n",
       "      <td>1</td>\n",
       "      <td>1</td>\n",
       "      <td>B</td>\n",
       "    </tr>\n",
       "    <tr>\n",
       "      <th>1</th>\n",
       "      <td>5925</td>\n",
       "      <td>62</td>\n",
       "      <td>1.0</td>\n",
       "      <td>42.493907</td>\n",
       "      <td>42.568133</td>\n",
       "      <td>10.0</td>\n",
       "      <td>7</td>\n",
       "      <td>17.0</td>\n",
       "      <td>2017</td>\n",
       "      <td>0.072158</td>\n",
       "      <td>B</td>\n",
       "      <td>B</td>\n",
       "      <td>2</td>\n",
       "      <td>629</td>\n",
       "      <td>1</td>\n",
       "      <td>NaN</td>\n",
       "      <td>0</td>\n",
       "      <td>0</td>\n",
       "      <td>A</td>\n",
       "    </tr>\n",
       "    <tr>\n",
       "      <th>2</th>\n",
       "      <td>960</td>\n",
       "      <td>27</td>\n",
       "      <td>2.0</td>\n",
       "      <td>59.463678</td>\n",
       "      <td>NaN</td>\n",
       "      <td>9.0</td>\n",
       "      <td>19</td>\n",
       "      <td>19.0</td>\n",
       "      <td>1977</td>\n",
       "      <td>0.211401</td>\n",
       "      <td>B</td>\n",
       "      <td>B</td>\n",
       "      <td>9</td>\n",
       "      <td>1892</td>\n",
       "      <td>0</td>\n",
       "      <td>NaN</td>\n",
       "      <td>0</td>\n",
       "      <td>1</td>\n",
       "      <td>B</td>\n",
       "    </tr>\n",
       "  </tbody>\n",
       "</table>\n",
       "</div>"
      ],
      "text/plain": [
       "     Id  DistrictId  Rooms     Square  LifeSquare  KitchenSquare  Floor  \\\n",
       "0  4567          44    1.0  36.847630   19.094182            5.0      5   \n",
       "1  5925          62    1.0  42.493907   42.568133           10.0      7   \n",
       "2   960          27    2.0  59.463678         NaN            9.0     19   \n",
       "\n",
       "   HouseFloor  HouseYear  Ecology_1 Ecology_2 Ecology_3  Social_1  Social_2  \\\n",
       "0         9.0       1970   0.036122         B         B        24      4378   \n",
       "1        17.0       2017   0.072158         B         B         2       629   \n",
       "2        19.0       1977   0.211401         B         B         9      1892   \n",
       "\n",
       "   Social_3  Healthcare_1  Helthcare_2  Shops_1 Shops_2  \n",
       "0         0        1036.0            1        1       B  \n",
       "1         1           NaN            0        0       A  \n",
       "2         0           NaN            0        1       B  "
      ]
     },
     "execution_count": 6,
     "metadata": {},
     "output_type": "execute_result"
    }
   ],
   "source": [
    "test_df = pd.read_csv(TEST_DATASET_PATH, sep=',')\n",
    "test_df.head(3)"
   ]
  },
  {
   "cell_type": "code",
   "execution_count": 7,
   "id": "40d14089",
   "metadata": {},
   "outputs": [
    {
     "data": {
      "text/html": [
       "<div>\n",
       "<style scoped>\n",
       "    .dataframe tbody tr th:only-of-type {\n",
       "        vertical-align: middle;\n",
       "    }\n",
       "\n",
       "    .dataframe tbody tr th {\n",
       "        vertical-align: top;\n",
       "    }\n",
       "\n",
       "    .dataframe thead th {\n",
       "        text-align: right;\n",
       "    }\n",
       "</style>\n",
       "<table border=\"1\" class=\"dataframe\">\n",
       "  <thead>\n",
       "    <tr style=\"text-align: right;\">\n",
       "      <th></th>\n",
       "      <th>DistrictId</th>\n",
       "      <th>Rooms</th>\n",
       "      <th>Square</th>\n",
       "      <th>LifeSquare</th>\n",
       "      <th>KitchenSquare</th>\n",
       "      <th>Floor</th>\n",
       "      <th>HouseFloor</th>\n",
       "      <th>HouseYear</th>\n",
       "      <th>Ecology_1</th>\n",
       "      <th>Ecology_2</th>\n",
       "      <th>Ecology_3</th>\n",
       "      <th>Social_1</th>\n",
       "      <th>Social_2</th>\n",
       "      <th>Social_3</th>\n",
       "      <th>Healthcare_1</th>\n",
       "      <th>Healthcare_2</th>\n",
       "      <th>Shops_1</th>\n",
       "      <th>Shops_2</th>\n",
       "      <th>Price</th>\n",
       "    </tr>\n",
       "  </thead>\n",
       "  <tbody>\n",
       "    <tr>\n",
       "      <th>0</th>\n",
       "      <td>27</td>\n",
       "      <td>3.0</td>\n",
       "      <td>115.027311</td>\n",
       "      <td>NaN</td>\n",
       "      <td>10.0</td>\n",
       "      <td>4</td>\n",
       "      <td>10.0</td>\n",
       "      <td>2014</td>\n",
       "      <td>0.075424</td>\n",
       "      <td>B</td>\n",
       "      <td>B</td>\n",
       "      <td>11</td>\n",
       "      <td>3097</td>\n",
       "      <td>0</td>\n",
       "      <td>NaN</td>\n",
       "      <td>0</td>\n",
       "      <td>0</td>\n",
       "      <td>B</td>\n",
       "      <td>305018.871089</td>\n",
       "    </tr>\n",
       "    <tr>\n",
       "      <th>1</th>\n",
       "      <td>22</td>\n",
       "      <td>1.0</td>\n",
       "      <td>39.832524</td>\n",
       "      <td>23.169223</td>\n",
       "      <td>8.0</td>\n",
       "      <td>7</td>\n",
       "      <td>8.0</td>\n",
       "      <td>1966</td>\n",
       "      <td>0.118537</td>\n",
       "      <td>B</td>\n",
       "      <td>B</td>\n",
       "      <td>30</td>\n",
       "      <td>6207</td>\n",
       "      <td>1</td>\n",
       "      <td>1183.0</td>\n",
       "      <td>1</td>\n",
       "      <td>0</td>\n",
       "      <td>B</td>\n",
       "      <td>177734.553407</td>\n",
       "    </tr>\n",
       "    <tr>\n",
       "      <th>2</th>\n",
       "      <td>1</td>\n",
       "      <td>3.0</td>\n",
       "      <td>78.342215</td>\n",
       "      <td>47.671972</td>\n",
       "      <td>10.0</td>\n",
       "      <td>2</td>\n",
       "      <td>17.0</td>\n",
       "      <td>1988</td>\n",
       "      <td>0.025609</td>\n",
       "      <td>B</td>\n",
       "      <td>B</td>\n",
       "      <td>33</td>\n",
       "      <td>5261</td>\n",
       "      <td>0</td>\n",
       "      <td>240.0</td>\n",
       "      <td>3</td>\n",
       "      <td>1</td>\n",
       "      <td>B</td>\n",
       "      <td>282078.720850</td>\n",
       "    </tr>\n",
       "  </tbody>\n",
       "</table>\n",
       "</div>"
      ],
      "text/plain": [
       "   DistrictId  Rooms      Square  LifeSquare  KitchenSquare  Floor  \\\n",
       "0          27    3.0  115.027311         NaN           10.0      4   \n",
       "1          22    1.0   39.832524   23.169223            8.0      7   \n",
       "2           1    3.0   78.342215   47.671972           10.0      2   \n",
       "\n",
       "   HouseFloor  HouseYear  Ecology_1 Ecology_2 Ecology_3  Social_1  Social_2  \\\n",
       "0        10.0       2014   0.075424         B         B        11      3097   \n",
       "1         8.0       1966   0.118537         B         B        30      6207   \n",
       "2        17.0       1988   0.025609         B         B        33      5261   \n",
       "\n",
       "   Social_3  Healthcare_1  Healthcare_2  Shops_1 Shops_2          Price  \n",
       "0         0           NaN             0        0       B  305018.871089  \n",
       "1         1        1183.0             1        0       B  177734.553407  \n",
       "2         0         240.0             3        1       B  282078.720850  "
      ]
     },
     "execution_count": 7,
     "metadata": {},
     "output_type": "execute_result"
    }
   ],
   "source": [
    "# error corection in titles and delete id исправление ошибок\n",
    "def rename(dfs):\n",
    "    for df in dfs:\n",
    "        df.rename(columns={'Helthcare_2': 'Healthcare_2'}, inplace=True)\n",
    "\n",
    "def drop(dfs):\n",
    "    for df in dfs:\n",
    "        df.drop(columns='Id', inplace=True)\n",
    "\n",
    "rename([train_df, test_df])\n",
    "drop([train_df, test_df])\n",
    "\n",
    "train_df.head(3)"
   ]
  },
  {
   "cell_type": "code",
   "execution_count": 10,
   "id": "b6c94483",
   "metadata": {},
   "outputs": [
    {
     "name": "stdout",
     "output_type": "stream",
     "text": [
      "Strings in train: 10000\n",
      "Strings in test: 5000\n"
     ]
    }
   ],
   "source": [
    "print(f'Strings in train: {train_df.shape[0]}')\n",
    "print(f'Strings in test: {test_df.shape[0]}')"
   ]
  },
  {
   "cell_type": "code",
   "execution_count": 19,
   "id": "bccc9486",
   "metadata": {},
   "outputs": [
    {
     "data": {
      "text/plain": [
       "True"
      ]
     },
     "execution_count": 19,
     "metadata": {},
     "output_type": "execute_result"
    }
   ],
   "source": [
    "# check the number of columns (train have col=Price --> target)\n",
    "train_df.shape[1] - test_df.shape[1] == 1"
   ]
  },
  {
   "cell_type": "code",
   "execution_count": 23,
   "id": "334dbfcb",
   "metadata": {},
   "outputs": [
    {
     "data": {
      "text/plain": [
       "DistrictId         int64\n",
       "Rooms            float64\n",
       "Square           float64\n",
       "LifeSquare       float64\n",
       "KitchenSquare    float64\n",
       "Floor              int64\n",
       "HouseFloor       float64\n",
       "HouseYear          int64\n",
       "Ecology_1        float64\n",
       "Ecology_2         object\n",
       "Ecology_3         object\n",
       "Social_1           int64\n",
       "Social_2           int64\n",
       "Social_3           int64\n",
       "Healthcare_1     float64\n",
       "Healthcare_2       int64\n",
       "Shops_1            int64\n",
       "Shops_2           object\n",
       "Price            float64\n",
       "dtype: object"
      ]
     },
     "execution_count": 23,
     "metadata": {},
     "output_type": "execute_result"
    }
   ],
   "source": [
    "train_df.dtypes"
   ]
  },
  {
   "cell_type": "code",
   "execution_count": 26,
   "id": "c30d769f",
   "metadata": {},
   "outputs": [],
   "source": [
    "# type conversion\n",
    "train_df['DistrictId'] = train_df['DistrictId'].astype(str)"
   ]
  },
  {
   "cell_type": "markdown",
   "id": "70860003",
   "metadata": {},
   "source": [
    "# 1. EDA"
   ]
  },
  {
   "cell_type": "markdown",
   "id": "d406c09b",
   "metadata": {},
   "source": [
    "#### HouseYear"
   ]
  },
  {
   "cell_type": "code",
   "execution_count": 28,
   "id": "9520bfaa",
   "metadata": {},
   "outputs": [],
   "source": [
    "train_df.loc[\n",
    "    ((train_df['HouseYear'] > 2020) | (train_df['HouseYear'] < 1900)), 'HouseYear'] = int(train_df['HouseYear'].median())"
   ]
  },
  {
   "cell_type": "markdown",
   "id": "429e5033",
   "metadata": {},
   "source": [
    "#### Square, LifeSquare"
   ]
  },
  {
   "cell_type": "code",
   "execution_count": null,
   "id": "eba70d83",
   "metadata": {},
   "outputs": [],
   "source": [
    "df.loc[df['Square'] > 300, 'Square'] = df['Square'].median()\n",
    "df.loc[df['LifeSquare'] > 300, 'LifeSquare'] = df['LifeSquare'].median()"
   ]
  },
  {
   "cell_type": "code",
   "execution_count": null,
   "id": "30c19587",
   "metadata": {},
   "outputs": [],
   "source": [
    "fig = plt.figure(figsize=(15, 6))\n",
    "ax1 = fig.add_subplot(111)\n",
    "\n",
    "\n",
    "x = df['HouseYear'] \n",
    "y1 = df['LifeSquare']\n",
    "y2 = df['Square']\n",
    "\n",
    "ax1.scatter(x, y1, c='b', alpha=0.5, s=4)\n",
    "ax1.scatter(x, y2, c='r', alpha=0.5, s=4)\n",
    "plt.show()"
   ]
  },
  {
   "cell_type": "markdown",
   "id": "811b2634",
   "metadata": {},
   "source": [
    "#### Rooms"
   ]
  },
  {
   "cell_type": "code",
   "execution_count": null,
   "id": "0267cfa2",
   "metadata": {},
   "outputs": [],
   "source": [
    "a = df['HouseYear'] \n",
    "b = df['Rooms']\n",
    "plt.figure(figsize=(15, 6))\n",
    "plt.scatter(a, b, s=5)"
   ]
  },
  {
   "cell_type": "code",
   "execution_count": null,
   "id": "82749f6c",
   "metadata": {},
   "outputs": [],
   "source": [
    "district_mean_rooms = df.groupby('DistrictId')[['Rooms', 'Square']].sum()\n",
    "district_mean_rooms = pd.DataFrame(district_mean_rooms['Square'] / district_mean_rooms['Rooms'])\n",
    "district_mean_rooms.rename(columns={0: 'MeanValueRooms'}, inplace=True)\n",
    "df = df.merge(district_mean_rooms, on=['DistrictId'])"
   ]
  },
  {
   "cell_type": "markdown",
   "id": "309ed8d4",
   "metadata": {},
   "source": [
    "#### KitchenSquare"
   ]
  },
  {
   "cell_type": "code",
   "execution_count": null,
   "id": "afdcb63a",
   "metadata": {},
   "outputs": [],
   "source": [
    "df.loc[df['KitchenSquare'] > 300, 'KitchenSquare'] = df['KitchenSquare'].median()\n",
    "a = df['HouseYear'] \n",
    "b = df['KitchenSquare']\n",
    "plt.figure(figsize=(15, 6))\n",
    "plt.scatter(a, b, s=5)"
   ]
  },
  {
   "cell_type": "markdown",
   "id": "83d8ca4f",
   "metadata": {},
   "source": [
    "#### HouseFloor"
   ]
  },
  {
   "cell_type": "code",
   "execution_count": null,
   "id": "bcd10727",
   "metadata": {},
   "outputs": [],
   "source": [
    "\n",
    "df.loc[df['HouseFloor'] == 0, 'HouseFloor'] = df[df['HouseFloor'] == 0]['Floor']\n",
    "df = df.astype({'HouseFloor': int})"
   ]
  },
  {
   "cell_type": "markdown",
   "id": "da8f9345",
   "metadata": {},
   "source": [
    "#### Floor"
   ]
  },
  {
   "cell_type": "code",
   "execution_count": null,
   "id": "20c8c9bf",
   "metadata": {},
   "outputs": [],
   "source": [
    "df.loc[df['Floor'] > df['HouseFloor'], 'Floor'] = df[df['Floor'] > df['HouseFloor']]['HouseFloor']\n",
    "\n",
    "fig = plt.figure(figsize=(15, 6))\n",
    "ax2 = fig.add_subplot()\n",
    "\n",
    "\n",
    "x = df['HouseYear'] \n",
    "y1 = df['Floor']\n",
    "y2 = df['HouseFloor']\n",
    "\n",
    "ax2.scatter(x, y1, c='b', alpha=0.5, s=4)\n",
    "ax2.scatter(x, y2, c='r', alpha=0.5, s=4)\n",
    "plt.show()"
   ]
  },
  {
   "cell_type": "markdown",
   "id": "32593a39",
   "metadata": {},
   "source": [
    "## 2. NaN"
   ]
  },
  {
   "cell_type": "code",
   "execution_count": null,
   "id": "013c4dd2",
   "metadata": {
    "scrolled": false
   },
   "outputs": [],
   "source": [
    "df.describe()\n",
    "# NaN in LifeSquare 10000 - 7887 = 2113\n",
    "# NaN in Healthcare_1 10000 - 5202 = 4798"
   ]
  },
  {
   "cell_type": "markdown",
   "id": "f18315a0",
   "metadata": {},
   "source": [
    "#### LifeSquare"
   ]
  },
  {
   "cell_type": "markdown",
   "id": "f968eb99",
   "metadata": {},
   "source": [
    "Find ratio lifeSquare / Square; (by districts) \\\n",
    "Ratio will use for replace NaN LifeSquare"
   ]
  },
  {
   "cell_type": "code",
   "execution_count": null,
   "id": "cf414520",
   "metadata": {},
   "outputs": [],
   "source": [
    "# Select rows with normal 'LifeSquare', where LifeSquare <= Square and 'LifeSquare' != NaN\n",
    "df_ls = df[~(df['LifeSquare'].isna()) | (df['LifeSquare'] <= df['Square'])]\n",
    "df_ls.shape"
   ]
  },
  {
   "cell_type": "code",
   "execution_count": null,
   "id": "de681f28",
   "metadata": {},
   "outputs": [],
   "source": [
    "# Create ratio lifeSquare / square (for replace NaN LifeSquare) (by DistrictId)\n",
    "district_sq_mean = df_ls.groupby('DistrictId').mean()['Square']\n",
    "district_lsq_mean = df_ls.groupby('DistrictId').mean()['LifeSquare']\n",
    "\n",
    "k_mean_life_square = district_lsq_mean / district_sq_mean\n",
    "\n",
    "k_mean_life_square = pd.DataFrame(k_mean_life_square)\n",
    "k_mean_life_square.rename(columns={0: 'MeanLifeSquare'}, inplace=True)"
   ]
  },
  {
   "cell_type": "code",
   "execution_count": null,
   "id": "a7fda480",
   "metadata": {},
   "outputs": [],
   "source": [
    "df = df.merge(k_mean_life_square, on=['DistrictId'])"
   ]
  },
  {
   "cell_type": "code",
   "execution_count": null,
   "id": "4fc8871e",
   "metadata": {},
   "outputs": [],
   "source": [
    "df.loc[(df['LifeSquare'].isna()) | (df['LifeSquare'] > df['Square']), 'LifeSquare'] = \\\n",
    "df.loc[(df['LifeSquare'].isna()) | (df['LifeSquare'] > df['Square']), 'Square'] * df.loc[(df['LifeSquare'].isna()) | (df['LifeSquare'] > df['Square']), 'MeanLifeSquare']"
   ]
  },
  {
   "cell_type": "markdown",
   "id": "385c6452",
   "metadata": {},
   "source": [
    "#### Healthcare_1"
   ]
  },
  {
   "cell_type": "code",
   "execution_count": null,
   "id": "70613d9e",
   "metadata": {},
   "outputs": [],
   "source": [
    "df.loc[df['Healthcare_1'].isna(), 'Healthcare_1'] = df['Healthcare_1'].median()"
   ]
  },
  {
   "cell_type": "code",
   "execution_count": null,
   "id": "58588e0b",
   "metadata": {},
   "outputs": [],
   "source": [
    "fig, ax = plt.subplots(nrows=1, ncols=1)\n",
    "ax.set_xscale('linear')\n",
    "ax.xaxis.set_major_formatter(StrMethodFormatter('{x:,.0f}'))\n",
    "ax.scatter(df['Price'], df['Healthcare_1'], s=4)\n",
    "plt.show()"
   ]
  },
  {
   "cell_type": "code",
   "execution_count": null,
   "id": "7882adf8",
   "metadata": {},
   "outputs": [],
   "source": []
  },
  {
   "cell_type": "code",
   "execution_count": null,
   "id": "3660c855",
   "metadata": {},
   "outputs": [],
   "source": []
  }
 ],
 "metadata": {
  "kernelspec": {
   "display_name": "Python 3 (ipykernel)",
   "language": "python",
   "name": "python3"
  },
  "language_info": {
   "codemirror_mode": {
    "name": "ipython",
    "version": 3
   },
   "file_extension": ".py",
   "mimetype": "text/x-python",
   "name": "python",
   "nbconvert_exporter": "python",
   "pygments_lexer": "ipython3",
   "version": "3.9.7"
  }
 },
 "nbformat": 4,
 "nbformat_minor": 5
}
