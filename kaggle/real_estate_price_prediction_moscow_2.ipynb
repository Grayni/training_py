{
 "cells": [
  {
   "cell_type": "code",
   "execution_count": 1239,
   "id": "78dc30ae",
   "metadata": {},
   "outputs": [],
   "source": [
    "import numpy as np\n",
    "import pandas as pd\n",
    "import matplotlib.pyplot as plt\n",
    "import warnings\n",
    "\n",
    "from sklearn.model_selection import train_test_split, cross_val_score, KFold, GridSearchCV,           RepeatedKFold\n",
    "from sklearn.preprocessing import StandardScaler, RobustScaler,                                       MinMaxScaler\n",
    "from sklearn.manifold import TSNE\n",
    "from sklearn.ensemble import RandomForestRegressor,                                                   GradientBoostingRegressor\n",
    "from sklearn.metrics import mean_squared_error as mse, r2_score as r2\n",
    "from sklearn.linear_model import LinearRegression, ElasticNet, ElasticNetCV, Lasso, LassoCV\n",
    "from sklearn.decomposition import PCA\n",
    "from sklearn.svm import SVR\n",
    "from datetime import datetime\n",
    "import xgboost as xgb\n",
    "\n",
    "import seaborn as sns\n",
    "\n",
    "%matplotlib inline\n",
    "#%config InlineBackend.figure_format = 'svg'\n",
    "\n",
    "warnings.filterwarnings('ignore')"
   ]
  },
  {
   "cell_type": "markdown",
   "id": "a1355582",
   "metadata": {},
   "source": [
    "#### Datasets"
   ]
  },
  {
   "cell_type": "code",
   "execution_count": 1240,
   "id": "a55c1e8a",
   "metadata": {},
   "outputs": [
    {
     "data": {
      "text/plain": [
       "('./input/real_estate_price_prediction_moscow/rf_submit1_2.csv',\n",
       " './input/real_estate_price_prediction_moscow/rf_submit11.csv',\n",
       " './input/real_estate_price_prediction_moscow/rf_submit.csv')"
      ]
     },
     "execution_count": 1240,
     "metadata": {},
     "output_type": "execute_result"
    }
   ],
   "source": [
    "import os\n",
    "for dirname, _, filenames in list(os.walk('./input/'))[1:2]:\n",
    "    TRAIN_DATASET_PATH = os.path.join(dirname, filenames[3]).replace(\"\\\\\",\"/\")\n",
    "    TEST_DATASET_PATH = os.path.join(dirname, filenames[2]).replace(\"\\\\\",\"/\")\n",
    "    SUBMIT = os.path.join(dirname, filenames[1]).replace(\"\\\\\",\"/\")\n",
    "        \n",
    "TRAIN_DATASET_PATH, TEST_DATASET_PATH, SUBMIT "
   ]
  },
  {
   "cell_type": "code",
   "execution_count": 1241,
   "id": "68c06ef3",
   "metadata": {},
   "outputs": [],
   "source": [
    "    TRAIN_DATASET_PATH = './input/real_estate_price_prediction_moscow/train.csv'\n",
    "    TEST_DATASET_PATH = './input/real_estate_price_prediction_moscow/test.csv'\n",
    "    SUBMIT = './input/real_estate_price_prediction_moscow/submit.csv'"
   ]
  },
  {
   "cell_type": "markdown",
   "id": "b0c55e8d",
   "metadata": {},
   "source": [
    "#### Auxiliary functions"
   ]
  },
  {
   "cell_type": "code",
   "execution_count": 1242,
   "id": "3d8a3c73",
   "metadata": {},
   "outputs": [],
   "source": [
    "def evaluate_preds(train_true_values, train_pred_values, test_true_values, test_pred_values):\n",
    "    print(\"Train R2:\\t\" + str(round(r2(train_true_values, train_pred_values), 4)))\n",
    "    print(\"Test R2:\\t\" + str(round(r2(test_true_values, test_pred_values), 4)))\n",
    "    \n",
    "    plt.figure(figsize=(18,10))\n",
    "    \n",
    "    plt.subplot(121)\n",
    "    sns.scatterplot(x=train_pred_values, y=train_true_values)\n",
    "    plt.xlabel('Predicted values')\n",
    "    plt.ylabel('True values')\n",
    "    plt.title('Train sample prediction')\n",
    "    \n",
    "    plt.subplot(122)\n",
    "    sns.scatterplot(x=test_pred_values, y=test_true_values)\n",
    "    plt.xlabel('Predicted values')\n",
    "    plt.ylabel('True values')\n",
    "    plt.title('Test sample prediction')\n",
    "\n",
    "    plt.show()"
   ]
  },
  {
   "cell_type": "code",
   "execution_count": 1243,
   "id": "a2aa6f12",
   "metadata": {},
   "outputs": [],
   "source": [
    "def reduce_mem_usage(df):\n",
    "    \"\"\" iterate through all the columns of a dataframe and modify the data type\n",
    "        to reduce memory usage.        \n",
    "    \"\"\"\n",
    "    start_mem = df.memory_usage().sum() / 1024**2\n",
    "    print('Memory usage of dataframe is {:.2f} MB'.format(start_mem))\n",
    "    \n",
    "    for col in df.columns:\n",
    "        col_type = df[col].dtype\n",
    "        \n",
    "        if col_type != object:\n",
    "            c_min = df[col].min()\n",
    "            c_max = df[col].max()\n",
    "            if str(col_type)[:3] == 'int':\n",
    "                if c_min > np.iinfo(np.int8).min and c_max < np.iinfo(np.int8).max:\n",
    "                    df[col] = df[col].astype(np.int8)\n",
    "                elif c_min > np.iinfo(np.int16).min and c_max < np.iinfo(np.int16).max:\n",
    "                    df[col] = df[col].astype(np.int16)\n",
    "                elif c_min > np.iinfo(np.int32).min and c_max < np.iinfo(np.int32).max:\n",
    "                    df[col] = df[col].astype(np.int32)\n",
    "                elif c_min > np.iinfo(np.int64).min and c_max < np.iinfo(np.int64).max:\n",
    "                    df[col] = df[col].astype(np.int64)  \n",
    "            else:\n",
    "                if c_min > np.finfo(np.float32).min and c_max < np.finfo(np.float32).max:\n",
    "                    df[col] = df[col].astype(np.float32)\n",
    "                else:\n",
    "                    df[col] = df[col].astype(np.float64)\n",
    "        else:\n",
    "            df[col] = df[col].astype('category')\n",
    "\n",
    "    end_mem = df.memory_usage().sum() / 1024**2\n",
    "    print('Memory usage after optimization is: {:.2f} MB'.format(end_mem))\n",
    "    print('Decreased by {:.1f}%'.format(100 * (start_mem - end_mem) / start_mem))\n",
    "    \n",
    "    return df"
   ]
  },
  {
   "cell_type": "markdown",
   "id": "e8c3b49f",
   "metadata": {},
   "source": [
    "#### Loading Train and Test"
   ]
  },
  {
   "cell_type": "code",
   "execution_count": 1244,
   "id": "0c54f2ea",
   "metadata": {},
   "outputs": [
    {
     "name": "stdout",
     "output_type": "stream",
     "text": [
      "Memory usage of dataframe is 1.53 MB\n",
      "Memory usage after optimization is: 0.49 MB\n",
      "Decreased by 68.1%\n"
     ]
    }
   ],
   "source": [
    "train_df = pd.read_csv(TRAIN_DATASET_PATH, sep=',')\n",
    "test_df = pd.read_csv(TEST_DATASET_PATH, sep=',')\n",
    "train_df = reduce_mem_usage(train_df)"
   ]
  },
  {
   "cell_type": "code",
   "execution_count": 1245,
   "id": "e7aeac6a",
   "metadata": {},
   "outputs": [
    {
     "name": "stdout",
     "output_type": "stream",
     "text": [
      "Strings in train: 10000\n",
      "Strings in test: 5000\n"
     ]
    }
   ],
   "source": [
    "print(f'Strings in train: {train_df.shape[0]}')\n",
    "print(f'Strings in test: {test_df.shape[0]}')"
   ]
  },
  {
   "cell_type": "code",
   "execution_count": 1246,
   "id": "0fb96d4f",
   "metadata": {},
   "outputs": [
    {
     "data": {
      "text/plain": [
       "True"
      ]
     },
     "execution_count": 1246,
     "metadata": {},
     "output_type": "execute_result"
    }
   ],
   "source": [
    "# check the number of columns (train have col=Price --> target)\n",
    "train_df.shape[1] - test_df.shape[1] == 1"
   ]
  },
  {
   "cell_type": "markdown",
   "id": "70860003",
   "metadata": {},
   "source": [
    "#### Target distribution"
   ]
  },
  {
   "cell_type": "code",
   "execution_count": 1247,
   "id": "4099862f",
   "metadata": {},
   "outputs": [
    {
     "data": {
      "text/html": [
       "<div>\n",
       "<style scoped>\n",
       "    .dataframe tbody tr th:only-of-type {\n",
       "        vertical-align: middle;\n",
       "    }\n",
       "\n",
       "    .dataframe tbody tr th {\n",
       "        vertical-align: top;\n",
       "    }\n",
       "\n",
       "    .dataframe thead th {\n",
       "        text-align: right;\n",
       "    }\n",
       "</style>\n",
       "<table border=\"1\" class=\"dataframe\">\n",
       "  <thead>\n",
       "    <tr style=\"text-align: right;\">\n",
       "      <th></th>\n",
       "      <th>Id</th>\n",
       "      <th>DistrictId</th>\n",
       "      <th>Rooms</th>\n",
       "      <th>Square</th>\n",
       "      <th>LifeSquare</th>\n",
       "      <th>KitchenSquare</th>\n",
       "      <th>Floor</th>\n",
       "      <th>HouseFloor</th>\n",
       "      <th>HouseYear</th>\n",
       "      <th>Ecology_1</th>\n",
       "      <th>Social_1</th>\n",
       "      <th>Social_2</th>\n",
       "      <th>Social_3</th>\n",
       "      <th>Healthcare_1</th>\n",
       "      <th>Helthcare_2</th>\n",
       "      <th>Shops_1</th>\n",
       "      <th>Price</th>\n",
       "    </tr>\n",
       "  </thead>\n",
       "  <tbody>\n",
       "    <tr>\n",
       "      <th>count</th>\n",
       "      <td>10000.00000</td>\n",
       "      <td>10000.000000</td>\n",
       "      <td>10000.000000</td>\n",
       "      <td>10000.000000</td>\n",
       "      <td>7887.000000</td>\n",
       "      <td>10000.000000</td>\n",
       "      <td>10000.000000</td>\n",
       "      <td>10000.0000</td>\n",
       "      <td>1.000000e+04</td>\n",
       "      <td>10000.000000</td>\n",
       "      <td>10000.000000</td>\n",
       "      <td>10000.000000</td>\n",
       "      <td>10000.000000</td>\n",
       "      <td>5202.000000</td>\n",
       "      <td>10000.000000</td>\n",
       "      <td>10000.000000</td>\n",
       "      <td>10000.000000</td>\n",
       "    </tr>\n",
       "    <tr>\n",
       "      <th>mean</th>\n",
       "      <td>8383.40770</td>\n",
       "      <td>50.400800</td>\n",
       "      <td>1.890500</td>\n",
       "      <td>56.315720</td>\n",
       "      <td>37.199665</td>\n",
       "      <td>6.273300</td>\n",
       "      <td>8.526700</td>\n",
       "      <td>12.6094</td>\n",
       "      <td>3.990166e+03</td>\n",
       "      <td>0.118858</td>\n",
       "      <td>24.687000</td>\n",
       "      <td>5352.157400</td>\n",
       "      <td>8.039200</td>\n",
       "      <td>1142.904419</td>\n",
       "      <td>1.319500</td>\n",
       "      <td>4.231300</td>\n",
       "      <td>214138.937500</td>\n",
       "    </tr>\n",
       "    <tr>\n",
       "      <th>std</th>\n",
       "      <td>4859.01902</td>\n",
       "      <td>43.587592</td>\n",
       "      <td>0.839522</td>\n",
       "      <td>21.058716</td>\n",
       "      <td>86.241219</td>\n",
       "      <td>28.560839</td>\n",
       "      <td>5.241148</td>\n",
       "      <td>6.7762</td>\n",
       "      <td>2.005003e+05</td>\n",
       "      <td>0.119025</td>\n",
       "      <td>17.532614</td>\n",
       "      <td>4006.799803</td>\n",
       "      <td>23.831875</td>\n",
       "      <td>1021.519470</td>\n",
       "      <td>1.493601</td>\n",
       "      <td>4.806341</td>\n",
       "      <td>92872.273438</td>\n",
       "    </tr>\n",
       "    <tr>\n",
       "      <th>min</th>\n",
       "      <td>0.00000</td>\n",
       "      <td>0.000000</td>\n",
       "      <td>0.000000</td>\n",
       "      <td>1.136859</td>\n",
       "      <td>0.370619</td>\n",
       "      <td>0.000000</td>\n",
       "      <td>1.000000</td>\n",
       "      <td>0.0000</td>\n",
       "      <td>1.910000e+03</td>\n",
       "      <td>0.000000</td>\n",
       "      <td>0.000000</td>\n",
       "      <td>168.000000</td>\n",
       "      <td>0.000000</td>\n",
       "      <td>0.000000</td>\n",
       "      <td>0.000000</td>\n",
       "      <td>0.000000</td>\n",
       "      <td>59174.777344</td>\n",
       "    </tr>\n",
       "    <tr>\n",
       "      <th>25%</th>\n",
       "      <td>4169.50000</td>\n",
       "      <td>20.000000</td>\n",
       "      <td>1.000000</td>\n",
       "      <td>41.774879</td>\n",
       "      <td>22.769833</td>\n",
       "      <td>1.000000</td>\n",
       "      <td>4.000000</td>\n",
       "      <td>9.0000</td>\n",
       "      <td>1.974000e+03</td>\n",
       "      <td>0.017647</td>\n",
       "      <td>6.000000</td>\n",
       "      <td>1564.000000</td>\n",
       "      <td>0.000000</td>\n",
       "      <td>350.000000</td>\n",
       "      <td>0.000000</td>\n",
       "      <td>1.000000</td>\n",
       "      <td>153872.628906</td>\n",
       "    </tr>\n",
       "    <tr>\n",
       "      <th>50%</th>\n",
       "      <td>8394.50000</td>\n",
       "      <td>36.000000</td>\n",
       "      <td>2.000000</td>\n",
       "      <td>52.513309</td>\n",
       "      <td>32.781261</td>\n",
       "      <td>6.000000</td>\n",
       "      <td>7.000000</td>\n",
       "      <td>13.0000</td>\n",
       "      <td>1.977000e+03</td>\n",
       "      <td>0.075424</td>\n",
       "      <td>25.000000</td>\n",
       "      <td>5285.000000</td>\n",
       "      <td>2.000000</td>\n",
       "      <td>900.000000</td>\n",
       "      <td>1.000000</td>\n",
       "      <td>3.000000</td>\n",
       "      <td>192269.648438</td>\n",
       "    </tr>\n",
       "    <tr>\n",
       "      <th>75%</th>\n",
       "      <td>12592.50000</td>\n",
       "      <td>75.000000</td>\n",
       "      <td>2.000000</td>\n",
       "      <td>65.900627</td>\n",
       "      <td>45.128803</td>\n",
       "      <td>9.000000</td>\n",
       "      <td>12.000000</td>\n",
       "      <td>17.0000</td>\n",
       "      <td>2.001000e+03</td>\n",
       "      <td>0.195781</td>\n",
       "      <td>36.000000</td>\n",
       "      <td>7227.000000</td>\n",
       "      <td>5.000000</td>\n",
       "      <td>1548.000000</td>\n",
       "      <td>2.000000</td>\n",
       "      <td>6.000000</td>\n",
       "      <td>249135.460938</td>\n",
       "    </tr>\n",
       "    <tr>\n",
       "      <th>max</th>\n",
       "      <td>16798.00000</td>\n",
       "      <td>209.000000</td>\n",
       "      <td>19.000000</td>\n",
       "      <td>641.065186</td>\n",
       "      <td>7480.592285</td>\n",
       "      <td>2014.000000</td>\n",
       "      <td>42.000000</td>\n",
       "      <td>117.0000</td>\n",
       "      <td>2.005201e+07</td>\n",
       "      <td>0.521867</td>\n",
       "      <td>74.000000</td>\n",
       "      <td>19083.000000</td>\n",
       "      <td>141.000000</td>\n",
       "      <td>4849.000000</td>\n",
       "      <td>6.000000</td>\n",
       "      <td>23.000000</td>\n",
       "      <td>633233.437500</td>\n",
       "    </tr>\n",
       "  </tbody>\n",
       "</table>\n",
       "</div>"
      ],
      "text/plain": [
       "                Id    DistrictId         Rooms        Square   LifeSquare  \\\n",
       "count  10000.00000  10000.000000  10000.000000  10000.000000  7887.000000   \n",
       "mean    8383.40770     50.400800      1.890500     56.315720    37.199665   \n",
       "std     4859.01902     43.587592      0.839522     21.058716    86.241219   \n",
       "min        0.00000      0.000000      0.000000      1.136859     0.370619   \n",
       "25%     4169.50000     20.000000      1.000000     41.774879    22.769833   \n",
       "50%     8394.50000     36.000000      2.000000     52.513309    32.781261   \n",
       "75%    12592.50000     75.000000      2.000000     65.900627    45.128803   \n",
       "max    16798.00000    209.000000     19.000000    641.065186  7480.592285   \n",
       "\n",
       "       KitchenSquare         Floor  HouseFloor     HouseYear     Ecology_1  \\\n",
       "count   10000.000000  10000.000000  10000.0000  1.000000e+04  10000.000000   \n",
       "mean        6.273300      8.526700     12.6094  3.990166e+03      0.118858   \n",
       "std        28.560839      5.241148      6.7762  2.005003e+05      0.119025   \n",
       "min         0.000000      1.000000      0.0000  1.910000e+03      0.000000   \n",
       "25%         1.000000      4.000000      9.0000  1.974000e+03      0.017647   \n",
       "50%         6.000000      7.000000     13.0000  1.977000e+03      0.075424   \n",
       "75%         9.000000     12.000000     17.0000  2.001000e+03      0.195781   \n",
       "max      2014.000000     42.000000    117.0000  2.005201e+07      0.521867   \n",
       "\n",
       "           Social_1      Social_2      Social_3  Healthcare_1   Helthcare_2  \\\n",
       "count  10000.000000  10000.000000  10000.000000   5202.000000  10000.000000   \n",
       "mean      24.687000   5352.157400      8.039200   1142.904419      1.319500   \n",
       "std       17.532614   4006.799803     23.831875   1021.519470      1.493601   \n",
       "min        0.000000    168.000000      0.000000      0.000000      0.000000   \n",
       "25%        6.000000   1564.000000      0.000000    350.000000      0.000000   \n",
       "50%       25.000000   5285.000000      2.000000    900.000000      1.000000   \n",
       "75%       36.000000   7227.000000      5.000000   1548.000000      2.000000   \n",
       "max       74.000000  19083.000000    141.000000   4849.000000      6.000000   \n",
       "\n",
       "            Shops_1          Price  \n",
       "count  10000.000000   10000.000000  \n",
       "mean       4.231300  214138.937500  \n",
       "std        4.806341   92872.273438  \n",
       "min        0.000000   59174.777344  \n",
       "25%        1.000000  153872.628906  \n",
       "50%        3.000000  192269.648438  \n",
       "75%        6.000000  249135.460938  \n",
       "max       23.000000  633233.437500  "
      ]
     },
     "execution_count": 1247,
     "metadata": {},
     "output_type": "execute_result"
    }
   ],
   "source": [
    "train_df.head(3)\n",
    "train_df.describe()"
   ]
  },
  {
   "cell_type": "code",
   "execution_count": 1248,
   "id": "1477c5b4",
   "metadata": {},
   "outputs": [
    {
     "data": {
      "image/png": "[encoded data removed]",
      "text/plain": [
       "<Figure size 864x288 with 1 Axes>"
      ]
     },
     "metadata": {
      "needs_background": "light"
     },
     "output_type": "display_data"
    }
   ],
   "source": [
    "plt.figure(figsize=(12, 4))\n",
    "train_df['Price'].hist(bins=30)\n",
    "plt.xlabel('Price', fontsize=14)\n",
    "plt.ylabel('Apartments', fontsize=14)\n",
    "plt.title('Target ditstribution', fontsize=16)\n",
    "\n",
    "plt.show()"
   ]
  },
  {
   "cell_type": "markdown",
   "id": "75871dae",
   "metadata": {},
   "source": [
    "#### Correlation"
   ]
  },
  {
   "cell_type": "code",
   "execution_count": 1249,
   "id": "c00823a9",
   "metadata": {},
   "outputs": [
    {
     "data": {
      "image/png": "[encoded data removed]",
      "text/plain": [
       "<Figure size 864x432 with 1 Axes>"
      ]
     },
     "metadata": {
      "needs_background": "light"
     },
     "output_type": "display_data"
    }
   ],
   "source": [
    "correlation = train_df.corrwith(train_df['Price']).sort_values(ascending=False)\n",
    "correlation.drop('Price', inplace=True)\n",
    "\n",
    "plt.figure(figsize=(12, 6))\n",
    "plt.bar(correlation.index, correlation)\n",
    "plt.xticks(rotation=50)\n",
    "plt.xlabel('Features')\n",
    "plt.ylabel('Correlation')\n",
    "plt.title('Correlation of features with the target')\n",
    "\n",
    "plt.show()"
   ]
  },
  {
   "cell_type": "code",
   "execution_count": 1250,
   "id": "51f290eb",
   "metadata": {},
   "outputs": [
    {
     "data": {
      "text/html": [
       "<div>\n",
       "<style scoped>\n",
       "    .dataframe tbody tr th:only-of-type {\n",
       "        vertical-align: middle;\n",
       "    }\n",
       "\n",
       "    .dataframe tbody tr th {\n",
       "        vertical-align: top;\n",
       "    }\n",
       "\n",
       "    .dataframe thead th {\n",
       "        text-align: right;\n",
       "    }\n",
       "</style>\n",
       "<table border=\"1\" class=\"dataframe\">\n",
       "  <thead>\n",
       "    <tr style=\"text-align: right;\">\n",
       "      <th></th>\n",
       "      <th>Id</th>\n",
       "      <th>DistrictId</th>\n",
       "      <th>Rooms</th>\n",
       "      <th>Square</th>\n",
       "      <th>LifeSquare</th>\n",
       "      <th>KitchenSquare</th>\n",
       "      <th>Floor</th>\n",
       "      <th>HouseFloor</th>\n",
       "      <th>HouseYear</th>\n",
       "      <th>Ecology_1</th>\n",
       "      <th>Social_1</th>\n",
       "      <th>Social_2</th>\n",
       "      <th>Social_3</th>\n",
       "      <th>Healthcare_1</th>\n",
       "      <th>Helthcare_2</th>\n",
       "      <th>Shops_1</th>\n",
       "      <th>Price</th>\n",
       "    </tr>\n",
       "  </thead>\n",
       "  <tbody>\n",
       "    <tr>\n",
       "      <th>count</th>\n",
       "      <td>10000.00000</td>\n",
       "      <td>10000.000000</td>\n",
       "      <td>10000.000000</td>\n",
       "      <td>10000.000000</td>\n",
       "      <td>7887.000000</td>\n",
       "      <td>10000.000000</td>\n",
       "      <td>10000.000000</td>\n",
       "      <td>10000.0000</td>\n",
       "      <td>1.000000e+04</td>\n",
       "      <td>10000.000000</td>\n",
       "      <td>10000.000000</td>\n",
       "      <td>10000.000000</td>\n",
       "      <td>10000.000000</td>\n",
       "      <td>5202.000000</td>\n",
       "      <td>10000.000000</td>\n",
       "      <td>10000.000000</td>\n",
       "      <td>10000.000000</td>\n",
       "    </tr>\n",
       "    <tr>\n",
       "      <th>mean</th>\n",
       "      <td>8383.40770</td>\n",
       "      <td>50.400800</td>\n",
       "      <td>1.890500</td>\n",
       "      <td>56.315720</td>\n",
       "      <td>37.199665</td>\n",
       "      <td>6.273300</td>\n",
       "      <td>8.526700</td>\n",
       "      <td>12.6094</td>\n",
       "      <td>3.990166e+03</td>\n",
       "      <td>0.118858</td>\n",
       "      <td>24.687000</td>\n",
       "      <td>5352.157400</td>\n",
       "      <td>8.039200</td>\n",
       "      <td>1142.904419</td>\n",
       "      <td>1.319500</td>\n",
       "      <td>4.231300</td>\n",
       "      <td>214138.937500</td>\n",
       "    </tr>\n",
       "    <tr>\n",
       "      <th>std</th>\n",
       "      <td>4859.01902</td>\n",
       "      <td>43.587592</td>\n",
       "      <td>0.839522</td>\n",
       "      <td>21.058716</td>\n",
       "      <td>86.241219</td>\n",
       "      <td>28.560839</td>\n",
       "      <td>5.241148</td>\n",
       "      <td>6.7762</td>\n",
       "      <td>2.005003e+05</td>\n",
       "      <td>0.119025</td>\n",
       "      <td>17.532614</td>\n",
       "      <td>4006.799803</td>\n",
       "      <td>23.831875</td>\n",
       "      <td>1021.519470</td>\n",
       "      <td>1.493601</td>\n",
       "      <td>4.806341</td>\n",
       "      <td>92872.273438</td>\n",
       "    </tr>\n",
       "    <tr>\n",
       "      <th>min</th>\n",
       "      <td>0.00000</td>\n",
       "      <td>0.000000</td>\n",
       "      <td>0.000000</td>\n",
       "      <td>1.136859</td>\n",
       "      <td>0.370619</td>\n",
       "      <td>0.000000</td>\n",
       "      <td>1.000000</td>\n",
       "      <td>0.0000</td>\n",
       "      <td>1.910000e+03</td>\n",
       "      <td>0.000000</td>\n",
       "      <td>0.000000</td>\n",
       "      <td>168.000000</td>\n",
       "      <td>0.000000</td>\n",
       "      <td>0.000000</td>\n",
       "      <td>0.000000</td>\n",
       "      <td>0.000000</td>\n",
       "      <td>59174.777344</td>\n",
       "    </tr>\n",
       "    <tr>\n",
       "      <th>25%</th>\n",
       "      <td>4169.50000</td>\n",
       "      <td>20.000000</td>\n",
       "      <td>1.000000</td>\n",
       "      <td>41.774879</td>\n",
       "      <td>22.769833</td>\n",
       "      <td>1.000000</td>\n",
       "      <td>4.000000</td>\n",
       "      <td>9.0000</td>\n",
       "      <td>1.974000e+03</td>\n",
       "      <td>0.017647</td>\n",
       "      <td>6.000000</td>\n",
       "      <td>1564.000000</td>\n",
       "      <td>0.000000</td>\n",
       "      <td>350.000000</td>\n",
       "      <td>0.000000</td>\n",
       "      <td>1.000000</td>\n",
       "      <td>153872.628906</td>\n",
       "    </tr>\n",
       "    <tr>\n",
       "      <th>50%</th>\n",
       "      <td>8394.50000</td>\n",
       "      <td>36.000000</td>\n",
       "      <td>2.000000</td>\n",
       "      <td>52.513309</td>\n",
       "      <td>32.781261</td>\n",
       "      <td>6.000000</td>\n",
       "      <td>7.000000</td>\n",
       "      <td>13.0000</td>\n",
       "      <td>1.977000e+03</td>\n",
       "      <td>0.075424</td>\n",
       "      <td>25.000000</td>\n",
       "      <td>5285.000000</td>\n",
       "      <td>2.000000</td>\n",
       "      <td>900.000000</td>\n",
       "      <td>1.000000</td>\n",
       "      <td>3.000000</td>\n",
       "      <td>192269.648438</td>\n",
       "    </tr>\n",
       "    <tr>\n",
       "      <th>75%</th>\n",
       "      <td>12592.50000</td>\n",
       "      <td>75.000000</td>\n",
       "      <td>2.000000</td>\n",
       "      <td>65.900627</td>\n",
       "      <td>45.128803</td>\n",
       "      <td>9.000000</td>\n",
       "      <td>12.000000</td>\n",
       "      <td>17.0000</td>\n",
       "      <td>2.001000e+03</td>\n",
       "      <td>0.195781</td>\n",
       "      <td>36.000000</td>\n",
       "      <td>7227.000000</td>\n",
       "      <td>5.000000</td>\n",
       "      <td>1548.000000</td>\n",
       "      <td>2.000000</td>\n",
       "      <td>6.000000</td>\n",
       "      <td>249135.460938</td>\n",
       "    </tr>\n",
       "    <tr>\n",
       "      <th>max</th>\n",
       "      <td>16798.00000</td>\n",
       "      <td>209.000000</td>\n",
       "      <td>19.000000</td>\n",
       "      <td>641.065186</td>\n",
       "      <td>7480.592285</td>\n",
       "      <td>2014.000000</td>\n",
       "      <td>42.000000</td>\n",
       "      <td>117.0000</td>\n",
       "      <td>2.005201e+07</td>\n",
       "      <td>0.521867</td>\n",
       "      <td>74.000000</td>\n",
       "      <td>19083.000000</td>\n",
       "      <td>141.000000</td>\n",
       "      <td>4849.000000</td>\n",
       "      <td>6.000000</td>\n",
       "      <td>23.000000</td>\n",
       "      <td>633233.437500</td>\n",
       "    </tr>\n",
       "  </tbody>\n",
       "</table>\n",
       "</div>"
      ],
      "text/plain": [
       "                Id    DistrictId         Rooms        Square   LifeSquare  \\\n",
       "count  10000.00000  10000.000000  10000.000000  10000.000000  7887.000000   \n",
       "mean    8383.40770     50.400800      1.890500     56.315720    37.199665   \n",
       "std     4859.01902     43.587592      0.839522     21.058716    86.241219   \n",
       "min        0.00000      0.000000      0.000000      1.136859     0.370619   \n",
       "25%     4169.50000     20.000000      1.000000     41.774879    22.769833   \n",
       "50%     8394.50000     36.000000      2.000000     52.513309    32.781261   \n",
       "75%    12592.50000     75.000000      2.000000     65.900627    45.128803   \n",
       "max    16798.00000    209.000000     19.000000    641.065186  7480.592285   \n",
       "\n",
       "       KitchenSquare         Floor  HouseFloor     HouseYear     Ecology_1  \\\n",
       "count   10000.000000  10000.000000  10000.0000  1.000000e+04  10000.000000   \n",
       "mean        6.273300      8.526700     12.6094  3.990166e+03      0.118858   \n",
       "std        28.560839      5.241148      6.7762  2.005003e+05      0.119025   \n",
       "min         0.000000      1.000000      0.0000  1.910000e+03      0.000000   \n",
       "25%         1.000000      4.000000      9.0000  1.974000e+03      0.017647   \n",
       "50%         6.000000      7.000000     13.0000  1.977000e+03      0.075424   \n",
       "75%         9.000000     12.000000     17.0000  2.001000e+03      0.195781   \n",
       "max      2014.000000     42.000000    117.0000  2.005201e+07      0.521867   \n",
       "\n",
       "           Social_1      Social_2      Social_3  Healthcare_1   Helthcare_2  \\\n",
       "count  10000.000000  10000.000000  10000.000000   5202.000000  10000.000000   \n",
       "mean      24.687000   5352.157400      8.039200   1142.904419      1.319500   \n",
       "std       17.532614   4006.799803     23.831875   1021.519470      1.493601   \n",
       "min        0.000000    168.000000      0.000000      0.000000      0.000000   \n",
       "25%        6.000000   1564.000000      0.000000    350.000000      0.000000   \n",
       "50%       25.000000   5285.000000      2.000000    900.000000      1.000000   \n",
       "75%       36.000000   7227.000000      5.000000   1548.000000      2.000000   \n",
       "max       74.000000  19083.000000    141.000000   4849.000000      6.000000   \n",
       "\n",
       "            Shops_1          Price  \n",
       "count  10000.000000   10000.000000  \n",
       "mean       4.231300  214138.937500  \n",
       "std        4.806341   92872.273438  \n",
       "min        0.000000   59174.777344  \n",
       "25%        1.000000  153872.628906  \n",
       "50%        3.000000  192269.648438  \n",
       "75%        6.000000  249135.460938  \n",
       "max       23.000000  633233.437500  "
      ]
     },
     "execution_count": 1250,
     "metadata": {},
     "output_type": "execute_result"
    }
   ],
   "source": [
    "train_df.describe()"
   ]
  },
  {
   "cell_type": "code",
   "execution_count": 1251,
   "id": "6dd04664",
   "metadata": {},
   "outputs": [
    {
     "name": "stdout",
     "output_type": "stream",
     "text": [
      "0.0 72.0010000000002\n"
     ]
    }
   ],
   "source": [
    "# KitchenSquare min and max\n",
    "min_kitchen_square = np.quantile(train_df['KitchenSquare'], q=0.001)\n",
    "max_kitchen_square = np.quantile(train_df['KitchenSquare'], q=0.999)\n",
    "print(min_kitchen_square, max_kitchen_square)"
   ]
  },
  {
   "cell_type": "code",
   "execution_count": 1252,
   "id": "80c80db5",
   "metadata": {},
   "outputs": [
    {
     "data": {
      "text/plain": [
       "42"
      ]
     },
     "execution_count": 1252,
     "metadata": {},
     "output_type": "execute_result"
    }
   ],
   "source": [
    "train_df['Floor'].max()"
   ]
  },
  {
   "cell_type": "code",
   "execution_count": 1253,
   "id": "bff97eb8",
   "metadata": {},
   "outputs": [
    {
     "data": {
      "text/plain": [
       "1435.2542724609375"
      ]
     },
     "execution_count": 1253,
     "metadata": {},
     "output_type": "execute_result"
    }
   ],
   "source": [
    "z = train_df.groupby('DistrictId')['Healthcare_1'].mean().to_dict()\n",
    "z[2]"
   ]
  },
  {
   "cell_type": "code",
   "execution_count": 1254,
   "id": "61df4b0b",
   "metadata": {},
   "outputs": [
    {
     "data": {
      "text/plain": [
       "0"
      ]
     },
     "execution_count": 1254,
     "metadata": {},
     "output_type": "execute_result"
    }
   ],
   "source": [
    "train_df['Rooms'].isna().sum()"
   ]
  },
  {
   "cell_type": "code",
   "execution_count": 1255,
   "id": "c1d457a3",
   "metadata": {},
   "outputs": [
    {
     "data": {
      "text/plain": [
       "16.4"
      ]
     },
     "execution_count": 1255,
     "metadata": {},
     "output_type": "execute_result"
    }
   ],
   "source": [
    "medians = train_df.median()\n",
    "np.round(medians['LifeSquare'] / medians['Rooms'], 1)"
   ]
  },
  {
   "cell_type": "code",
   "execution_count": 1256,
   "id": "0c86a6b2",
   "metadata": {},
   "outputs": [
    {
     "data": {
      "text/html": [
       "<div>\n",
       "<style scoped>\n",
       "    .dataframe tbody tr th:only-of-type {\n",
       "        vertical-align: middle;\n",
       "    }\n",
       "\n",
       "    .dataframe tbody tr th {\n",
       "        vertical-align: top;\n",
       "    }\n",
       "\n",
       "    .dataframe thead th {\n",
       "        text-align: right;\n",
       "    }\n",
       "</style>\n",
       "<table border=\"1\" class=\"dataframe\">\n",
       "  <thead>\n",
       "    <tr style=\"text-align: right;\">\n",
       "      <th></th>\n",
       "      <th>Id</th>\n",
       "      <th>DistrictId</th>\n",
       "      <th>Rooms</th>\n",
       "      <th>Square</th>\n",
       "      <th>LifeSquare</th>\n",
       "      <th>KitchenSquare</th>\n",
       "      <th>Floor</th>\n",
       "      <th>HouseFloor</th>\n",
       "      <th>HouseYear</th>\n",
       "      <th>Ecology_1</th>\n",
       "      <th>Ecology_2</th>\n",
       "      <th>Ecology_3</th>\n",
       "      <th>Social_1</th>\n",
       "      <th>Social_2</th>\n",
       "      <th>Social_3</th>\n",
       "      <th>Healthcare_1</th>\n",
       "      <th>Helthcare_2</th>\n",
       "      <th>Shops_1</th>\n",
       "      <th>Shops_2</th>\n",
       "      <th>Price</th>\n",
       "    </tr>\n",
       "  </thead>\n",
       "  <tbody>\n",
       "    <tr>\n",
       "      <th>2785</th>\n",
       "      <td>6569</td>\n",
       "      <td>27</td>\n",
       "      <td>1.0</td>\n",
       "      <td>38.220257</td>\n",
       "      <td>18.716856</td>\n",
       "      <td>84.0</td>\n",
       "      <td>4</td>\n",
       "      <td>17.0</td>\n",
       "      <td>2018</td>\n",
       "      <td>0.011654</td>\n",
       "      <td>B</td>\n",
       "      <td>B</td>\n",
       "      <td>4</td>\n",
       "      <td>915</td>\n",
       "      <td>0</td>\n",
       "      <td>NaN</td>\n",
       "      <td>0</td>\n",
       "      <td>0</td>\n",
       "      <td>B</td>\n",
       "      <td>99079.960938</td>\n",
       "    </tr>\n",
       "    <tr>\n",
       "      <th>5273</th>\n",
       "      <td>13703</td>\n",
       "      <td>42</td>\n",
       "      <td>1.0</td>\n",
       "      <td>38.071693</td>\n",
       "      <td>19.723547</td>\n",
       "      <td>73.0</td>\n",
       "      <td>9</td>\n",
       "      <td>10.0</td>\n",
       "      <td>2006</td>\n",
       "      <td>0.158249</td>\n",
       "      <td>B</td>\n",
       "      <td>B</td>\n",
       "      <td>21</td>\n",
       "      <td>5731</td>\n",
       "      <td>0</td>\n",
       "      <td>NaN</td>\n",
       "      <td>1</td>\n",
       "      <td>0</td>\n",
       "      <td>B</td>\n",
       "      <td>160488.031250</td>\n",
       "    </tr>\n",
       "    <tr>\n",
       "      <th>6505</th>\n",
       "      <td>14679</td>\n",
       "      <td>81</td>\n",
       "      <td>1.0</td>\n",
       "      <td>32.276665</td>\n",
       "      <td>19.278395</td>\n",
       "      <td>1970.0</td>\n",
       "      <td>6</td>\n",
       "      <td>1.0</td>\n",
       "      <td>1977</td>\n",
       "      <td>0.006076</td>\n",
       "      <td>B</td>\n",
       "      <td>B</td>\n",
       "      <td>30</td>\n",
       "      <td>5285</td>\n",
       "      <td>0</td>\n",
       "      <td>645.0</td>\n",
       "      <td>6</td>\n",
       "      <td>6</td>\n",
       "      <td>B</td>\n",
       "      <td>105539.554688</td>\n",
       "    </tr>\n",
       "    <tr>\n",
       "      <th>9520</th>\n",
       "      <td>14656</td>\n",
       "      <td>62</td>\n",
       "      <td>1.0</td>\n",
       "      <td>47.100719</td>\n",
       "      <td>46.447960</td>\n",
       "      <td>2014.0</td>\n",
       "      <td>4</td>\n",
       "      <td>1.0</td>\n",
       "      <td>2014</td>\n",
       "      <td>0.072158</td>\n",
       "      <td>B</td>\n",
       "      <td>B</td>\n",
       "      <td>2</td>\n",
       "      <td>629</td>\n",
       "      <td>1</td>\n",
       "      <td>NaN</td>\n",
       "      <td>0</td>\n",
       "      <td>0</td>\n",
       "      <td>A</td>\n",
       "      <td>108337.484375</td>\n",
       "    </tr>\n",
       "  </tbody>\n",
       "</table>\n",
       "</div>"
      ],
      "text/plain": [
       "         Id  DistrictId  Rooms     Square  LifeSquare  KitchenSquare  Floor  \\\n",
       "2785   6569          27    1.0  38.220257   18.716856           84.0      4   \n",
       "5273  13703          42    1.0  38.071693   19.723547           73.0      9   \n",
       "6505  14679          81    1.0  32.276665   19.278395         1970.0      6   \n",
       "9520  14656          62    1.0  47.100719   46.447960         2014.0      4   \n",
       "\n",
       "      HouseFloor  HouseYear  Ecology_1 Ecology_2 Ecology_3  Social_1  \\\n",
       "2785        17.0       2018   0.011654         B         B         4   \n",
       "5273        10.0       2006   0.158249         B         B        21   \n",
       "6505         1.0       1977   0.006076         B         B        30   \n",
       "9520         1.0       2014   0.072158         B         B         2   \n",
       "\n",
       "      Social_2  Social_3  Healthcare_1  Helthcare_2  Shops_1 Shops_2  \\\n",
       "2785       915         0           NaN            0        0       B   \n",
       "5273      5731         0           NaN            1        0       B   \n",
       "6505      5285         0         645.0            6        6       B   \n",
       "9520       629         1           NaN            0        0       A   \n",
       "\n",
       "              Price  \n",
       "2785   99079.960938  \n",
       "5273  160488.031250  \n",
       "6505  105539.554688  \n",
       "9520  108337.484375  "
      ]
     },
     "execution_count": 1256,
     "metadata": {},
     "output_type": "execute_result"
    }
   ],
   "source": [
    "train_df[train_df['Square'] < train_df['KitchenSquare']] ###!!!!!!!!"
   ]
  },
  {
   "cell_type": "code",
   "execution_count": 1257,
   "id": "685d97a8",
   "metadata": {},
   "outputs": [
    {
     "data": {
      "text/plain": [
       "(482, 20)"
      ]
     },
     "execution_count": 1257,
     "metadata": {},
     "output_type": "execute_result"
    }
   ],
   "source": [
    "train_df[train_df['Square'] < train_df['LifeSquare']].shape"
   ]
  },
  {
   "cell_type": "code",
   "execution_count": 1258,
   "id": "2440ad64",
   "metadata": {},
   "outputs": [],
   "source": [
    "train_df['Square'], train_df['KitchenSquare'] = np.where(\n",
    "    train_df['Square'] < train_df['KitchenSquare'],\n",
    "             (train_df['KitchenSquare'], train_df['Square']), (train_df['Square'], train_df['KitchenSquare'])\n",
    ")"
   ]
  },
  {
   "cell_type": "code",
   "execution_count": 1259,
   "id": "8c3f3dd5",
   "metadata": {},
   "outputs": [],
   "source": [
    "train_df.replace({'Ecology_2': {'A': 0, 'B': 1}, 'Ecology_3': {'A': 0, 'B': 1}, 'Shops_2': {'A': 0, 'B': 1}}, inplace=True)"
   ]
  },
  {
   "cell_type": "code",
   "execution_count": 1260,
   "id": "014a0a02",
   "metadata": {},
   "outputs": [
    {
     "data": {
      "text/plain": [
       "(1825, 20)"
      ]
     },
     "execution_count": 1260,
     "metadata": {},
     "output_type": "execute_result"
    }
   ],
   "source": [
    "train_df[train_df['HouseFloor'] < train_df['Floor']].shape"
   ]
  },
  {
   "cell_type": "code",
   "execution_count": 1261,
   "id": "7a6095ad",
   "metadata": {},
   "outputs": [
    {
     "data": {
      "text/plain": [
       "DistrictId  Rooms\n",
       "0           1.0      21.335474\n",
       "            2.0      31.625847\n",
       "            3.0      47.787359\n",
       "1           1.0      39.990203\n",
       "            2.0      54.663792\n",
       "                       ...    \n",
       "202         3.0      58.713118\n",
       "205         1.0      18.663548\n",
       "207         3.0      55.770043\n",
       "208         2.0      33.397584\n",
       "209         1.0      18.101125\n",
       "Name: LifeSquare, Length: 675, dtype: float64"
      ]
     },
     "execution_count": 1261,
     "metadata": {},
     "output_type": "execute_result"
    }
   ],
   "source": [
    "mean_life_square_district = X.groupby(['DistrictId', 'Rooms'])['LifeSquare'].median()\n",
    "mean_life_square_district"
   ]
  },
  {
   "cell_type": "code",
   "execution_count": 1262,
   "id": "18b92326",
   "metadata": {},
   "outputs": [
    {
     "data": {
      "text/html": [
       "<div>\n",
       "<style scoped>\n",
       "    .dataframe tbody tr th:only-of-type {\n",
       "        vertical-align: middle;\n",
       "    }\n",
       "\n",
       "    .dataframe tbody tr th {\n",
       "        vertical-align: top;\n",
       "    }\n",
       "\n",
       "    .dataframe thead th {\n",
       "        text-align: right;\n",
       "    }\n",
       "</style>\n",
       "<table border=\"1\" class=\"dataframe\">\n",
       "  <thead>\n",
       "    <tr style=\"text-align: right;\">\n",
       "      <th></th>\n",
       "      <th>Id</th>\n",
       "      <th>DistrictId</th>\n",
       "      <th>Rooms</th>\n",
       "      <th>Square</th>\n",
       "      <th>LifeSquare</th>\n",
       "      <th>KitchenSquare</th>\n",
       "      <th>Floor</th>\n",
       "      <th>HouseFloor</th>\n",
       "      <th>HouseYear</th>\n",
       "      <th>Ecology_1</th>\n",
       "      <th>...</th>\n",
       "      <th>Ecology_3</th>\n",
       "      <th>Social_1</th>\n",
       "      <th>Social_2</th>\n",
       "      <th>Social_3</th>\n",
       "      <th>Healthcare_1</th>\n",
       "      <th>Helthcare_2</th>\n",
       "      <th>Shops_1</th>\n",
       "      <th>Shops_2</th>\n",
       "      <th>Price</th>\n",
       "      <th>life_id_room_median</th>\n",
       "    </tr>\n",
       "  </thead>\n",
       "  <tbody>\n",
       "    <tr>\n",
       "      <th>0</th>\n",
       "      <td>11809</td>\n",
       "      <td>27</td>\n",
       "      <td>3.0</td>\n",
       "      <td>115.027313</td>\n",
       "      <td>NaN</td>\n",
       "      <td>10.0</td>\n",
       "      <td>4</td>\n",
       "      <td>10.0</td>\n",
       "      <td>2014</td>\n",
       "      <td>0.075424</td>\n",
       "      <td>...</td>\n",
       "      <td>1</td>\n",
       "      <td>11</td>\n",
       "      <td>3097</td>\n",
       "      <td>0</td>\n",
       "      <td>NaN</td>\n",
       "      <td>0</td>\n",
       "      <td>0</td>\n",
       "      <td>1</td>\n",
       "      <td>305018.875000</td>\n",
       "      <td>50.690388</td>\n",
       "    </tr>\n",
       "    <tr>\n",
       "      <th>1</th>\n",
       "      <td>3013</td>\n",
       "      <td>22</td>\n",
       "      <td>1.0</td>\n",
       "      <td>39.832523</td>\n",
       "      <td>23.169222</td>\n",
       "      <td>8.0</td>\n",
       "      <td>7</td>\n",
       "      <td>8.0</td>\n",
       "      <td>1966</td>\n",
       "      <td>0.118537</td>\n",
       "      <td>...</td>\n",
       "      <td>1</td>\n",
       "      <td>30</td>\n",
       "      <td>6207</td>\n",
       "      <td>1</td>\n",
       "      <td>1183.0</td>\n",
       "      <td>1</td>\n",
       "      <td>0</td>\n",
       "      <td>1</td>\n",
       "      <td>177734.546875</td>\n",
       "      <td>19.440028</td>\n",
       "    </tr>\n",
       "    <tr>\n",
       "      <th>2</th>\n",
       "      <td>8215</td>\n",
       "      <td>1</td>\n",
       "      <td>3.0</td>\n",
       "      <td>78.342216</td>\n",
       "      <td>47.671970</td>\n",
       "      <td>10.0</td>\n",
       "      <td>2</td>\n",
       "      <td>17.0</td>\n",
       "      <td>1988</td>\n",
       "      <td>0.025609</td>\n",
       "      <td>...</td>\n",
       "      <td>1</td>\n",
       "      <td>33</td>\n",
       "      <td>5261</td>\n",
       "      <td>0</td>\n",
       "      <td>240.0</td>\n",
       "      <td>3</td>\n",
       "      <td>1</td>\n",
       "      <td>1</td>\n",
       "      <td>282078.718750</td>\n",
       "      <td>78.437146</td>\n",
       "    </tr>\n",
       "    <tr>\n",
       "      <th>3</th>\n",
       "      <td>2352</td>\n",
       "      <td>1</td>\n",
       "      <td>1.0</td>\n",
       "      <td>40.409908</td>\n",
       "      <td>NaN</td>\n",
       "      <td>1.0</td>\n",
       "      <td>10</td>\n",
       "      <td>22.0</td>\n",
       "      <td>1977</td>\n",
       "      <td>0.007122</td>\n",
       "      <td>...</td>\n",
       "      <td>1</td>\n",
       "      <td>1</td>\n",
       "      <td>264</td>\n",
       "      <td>0</td>\n",
       "      <td>NaN</td>\n",
       "      <td>0</td>\n",
       "      <td>1</td>\n",
       "      <td>1</td>\n",
       "      <td>168106.000000</td>\n",
       "      <td>39.990203</td>\n",
       "    </tr>\n",
       "    <tr>\n",
       "      <th>4</th>\n",
       "      <td>13866</td>\n",
       "      <td>94</td>\n",
       "      <td>2.0</td>\n",
       "      <td>64.285065</td>\n",
       "      <td>38.562515</td>\n",
       "      <td>9.0</td>\n",
       "      <td>16</td>\n",
       "      <td>16.0</td>\n",
       "      <td>1972</td>\n",
       "      <td>0.282798</td>\n",
       "      <td>...</td>\n",
       "      <td>1</td>\n",
       "      <td>33</td>\n",
       "      <td>8667</td>\n",
       "      <td>2</td>\n",
       "      <td>NaN</td>\n",
       "      <td>0</td>\n",
       "      <td>6</td>\n",
       "      <td>1</td>\n",
       "      <td>343995.093750</td>\n",
       "      <td>30.929506</td>\n",
       "    </tr>\n",
       "    <tr>\n",
       "      <th>...</th>\n",
       "      <td>...</td>\n",
       "      <td>...</td>\n",
       "      <td>...</td>\n",
       "      <td>...</td>\n",
       "      <td>...</td>\n",
       "      <td>...</td>\n",
       "      <td>...</td>\n",
       "      <td>...</td>\n",
       "      <td>...</td>\n",
       "      <td>...</td>\n",
       "      <td>...</td>\n",
       "      <td>...</td>\n",
       "      <td>...</td>\n",
       "      <td>...</td>\n",
       "      <td>...</td>\n",
       "      <td>...</td>\n",
       "      <td>...</td>\n",
       "      <td>...</td>\n",
       "      <td>...</td>\n",
       "      <td>...</td>\n",
       "      <td>...</td>\n",
       "    </tr>\n",
       "    <tr>\n",
       "      <th>9995</th>\n",
       "      <td>1260</td>\n",
       "      <td>61</td>\n",
       "      <td>2.0</td>\n",
       "      <td>49.090729</td>\n",
       "      <td>33.272625</td>\n",
       "      <td>6.0</td>\n",
       "      <td>3</td>\n",
       "      <td>12.0</td>\n",
       "      <td>1981</td>\n",
       "      <td>0.300323</td>\n",
       "      <td>...</td>\n",
       "      <td>1</td>\n",
       "      <td>52</td>\n",
       "      <td>10311</td>\n",
       "      <td>6</td>\n",
       "      <td>NaN</td>\n",
       "      <td>1</td>\n",
       "      <td>9</td>\n",
       "      <td>1</td>\n",
       "      <td>119367.453125</td>\n",
       "      <td>32.339111</td>\n",
       "    </tr>\n",
       "    <tr>\n",
       "      <th>9996</th>\n",
       "      <td>16265</td>\n",
       "      <td>27</td>\n",
       "      <td>2.0</td>\n",
       "      <td>64.307686</td>\n",
       "      <td>37.038422</td>\n",
       "      <td>9.0</td>\n",
       "      <td>13</td>\n",
       "      <td>0.0</td>\n",
       "      <td>1977</td>\n",
       "      <td>0.072158</td>\n",
       "      <td>...</td>\n",
       "      <td>1</td>\n",
       "      <td>2</td>\n",
       "      <td>629</td>\n",
       "      <td>1</td>\n",
       "      <td>NaN</td>\n",
       "      <td>0</td>\n",
       "      <td>0</td>\n",
       "      <td>0</td>\n",
       "      <td>199715.156250</td>\n",
       "      <td>36.437203</td>\n",
       "    </tr>\n",
       "    <tr>\n",
       "      <th>9997</th>\n",
       "      <td>2795</td>\n",
       "      <td>178</td>\n",
       "      <td>1.0</td>\n",
       "      <td>29.648056</td>\n",
       "      <td>16.555363</td>\n",
       "      <td>5.0</td>\n",
       "      <td>3</td>\n",
       "      <td>5.0</td>\n",
       "      <td>1958</td>\n",
       "      <td>0.460556</td>\n",
       "      <td>...</td>\n",
       "      <td>1</td>\n",
       "      <td>20</td>\n",
       "      <td>4386</td>\n",
       "      <td>14</td>\n",
       "      <td>NaN</td>\n",
       "      <td>1</td>\n",
       "      <td>5</td>\n",
       "      <td>1</td>\n",
       "      <td>165953.906250</td>\n",
       "      <td>16.555363</td>\n",
       "    </tr>\n",
       "    <tr>\n",
       "      <th>9998</th>\n",
       "      <td>14561</td>\n",
       "      <td>21</td>\n",
       "      <td>1.0</td>\n",
       "      <td>32.330292</td>\n",
       "      <td>22.326870</td>\n",
       "      <td>5.0</td>\n",
       "      <td>3</td>\n",
       "      <td>9.0</td>\n",
       "      <td>1969</td>\n",
       "      <td>0.194489</td>\n",
       "      <td>...</td>\n",
       "      <td>1</td>\n",
       "      <td>47</td>\n",
       "      <td>8004</td>\n",
       "      <td>3</td>\n",
       "      <td>125.0</td>\n",
       "      <td>3</td>\n",
       "      <td>5</td>\n",
       "      <td>1</td>\n",
       "      <td>171842.406250</td>\n",
       "      <td>21.197964</td>\n",
       "    </tr>\n",
       "    <tr>\n",
       "      <th>9999</th>\n",
       "      <td>7202</td>\n",
       "      <td>94</td>\n",
       "      <td>1.0</td>\n",
       "      <td>35.815475</td>\n",
       "      <td>22.301367</td>\n",
       "      <td>6.0</td>\n",
       "      <td>9</td>\n",
       "      <td>9.0</td>\n",
       "      <td>1975</td>\n",
       "      <td>0.127376</td>\n",
       "      <td>...</td>\n",
       "      <td>1</td>\n",
       "      <td>43</td>\n",
       "      <td>8429</td>\n",
       "      <td>3</td>\n",
       "      <td>NaN</td>\n",
       "      <td>3</td>\n",
       "      <td>9</td>\n",
       "      <td>1</td>\n",
       "      <td>177685.625000</td>\n",
       "      <td>21.143404</td>\n",
       "    </tr>\n",
       "  </tbody>\n",
       "</table>\n",
       "<p>10000 rows × 21 columns</p>\n",
       "</div>"
      ],
      "text/plain": [
       "         Id  DistrictId  Rooms      Square  LifeSquare  KitchenSquare  Floor  \\\n",
       "0     11809          27    3.0  115.027313         NaN           10.0      4   \n",
       "1      3013          22    1.0   39.832523   23.169222            8.0      7   \n",
       "2      8215           1    3.0   78.342216   47.671970           10.0      2   \n",
       "3      2352           1    1.0   40.409908         NaN            1.0     10   \n",
       "4     13866          94    2.0   64.285065   38.562515            9.0     16   \n",
       "...     ...         ...    ...         ...         ...            ...    ...   \n",
       "9995   1260          61    2.0   49.090729   33.272625            6.0      3   \n",
       "9996  16265          27    2.0   64.307686   37.038422            9.0     13   \n",
       "9997   2795         178    1.0   29.648056   16.555363            5.0      3   \n",
       "9998  14561          21    1.0   32.330292   22.326870            5.0      3   \n",
       "9999   7202          94    1.0   35.815475   22.301367            6.0      9   \n",
       "\n",
       "      HouseFloor  HouseYear  Ecology_1  ...  Ecology_3  Social_1  Social_2  \\\n",
       "0           10.0       2014   0.075424  ...          1        11      3097   \n",
       "1            8.0       1966   0.118537  ...          1        30      6207   \n",
       "2           17.0       1988   0.025609  ...          1        33      5261   \n",
       "3           22.0       1977   0.007122  ...          1         1       264   \n",
       "4           16.0       1972   0.282798  ...          1        33      8667   \n",
       "...          ...        ...        ...  ...        ...       ...       ...   \n",
       "9995        12.0       1981   0.300323  ...          1        52     10311   \n",
       "9996         0.0       1977   0.072158  ...          1         2       629   \n",
       "9997         5.0       1958   0.460556  ...          1        20      4386   \n",
       "9998         9.0       1969   0.194489  ...          1        47      8004   \n",
       "9999         9.0       1975   0.127376  ...          1        43      8429   \n",
       "\n",
       "      Social_3  Healthcare_1  Helthcare_2  Shops_1  Shops_2          Price  \\\n",
       "0            0           NaN            0        0        1  305018.875000   \n",
       "1            1        1183.0            1        0        1  177734.546875   \n",
       "2            0         240.0            3        1        1  282078.718750   \n",
       "3            0           NaN            0        1        1  168106.000000   \n",
       "4            2           NaN            0        6        1  343995.093750   \n",
       "...        ...           ...          ...      ...      ...            ...   \n",
       "9995         6           NaN            1        9        1  119367.453125   \n",
       "9996         1           NaN            0        0        0  199715.156250   \n",
       "9997        14           NaN            1        5        1  165953.906250   \n",
       "9998         3         125.0            3        5        1  171842.406250   \n",
       "9999         3           NaN            3        9        1  177685.625000   \n",
       "\n",
       "      life_id_room_median  \n",
       "0               50.690388  \n",
       "1               19.440028  \n",
       "2               78.437146  \n",
       "3               39.990203  \n",
       "4               30.929506  \n",
       "...                   ...  \n",
       "9995            32.339111  \n",
       "9996            36.437203  \n",
       "9997            16.555363  \n",
       "9998            21.197964  \n",
       "9999            21.143404  \n",
       "\n",
       "[10000 rows x 21 columns]"
      ]
     },
     "execution_count": 1262,
     "metadata": {},
     "output_type": "execute_result"
    }
   ],
   "source": [
    "mean_life_square_district = X.groupby(['DistrictId', 'Rooms'], as_index=False)['LifeSquare'].median().rename(columns={'LifeSquare': 'life_id_room_median'})\n",
    "train_df = train_df.merge(mean_life_square_district, on=['DistrictId', 'Rooms'], how='left')\n",
    "train_df"
   ]
  },
  {
   "cell_type": "code",
   "execution_count": 1263,
   "id": "280b8517",
   "metadata": {},
   "outputs": [
    {
     "data": {
      "text/plain": [
       "(4, 21)"
      ]
     },
     "execution_count": 1263,
     "metadata": {},
     "output_type": "execute_result"
    }
   ],
   "source": [
    "condition_life = train_df['LifeSquare'].isna()\n",
    "train_df.loc[condition_life, 'LifeSquare'] = train_df.loc[condition_life, 'life_id_room_median']\n",
    "train_df[train_df['LifeSquare'].isna()].shape"
   ]
  },
  {
   "cell_type": "markdown",
   "id": "c160c529",
   "metadata": {},
   "source": [
    "#### ~ class DataPreprocessing"
   ]
  },
  {
   "cell_type": "code",
   "execution_count": 1264,
   "id": "3deb7712",
   "metadata": {},
   "outputs": [],
   "source": [
    "class DataPreprocessing:\n",
    "    \n",
    "    def __init__(self):\n",
    "        self.medians = None\n",
    "        self.max_square = None\n",
    "        self.min_kitchen_square = None\n",
    "        self.max_kitchen_square = None\n",
    "        self.min_life_square = None\n",
    "        self.max_floor = None\n",
    "        self.districts_healthcare = None\n",
    "        self.min_floor = None\n",
    "        self.mean_life_sq_dist_rm = None\n",
    "\n",
    "    \n",
    "    def fit(self, X):\n",
    "        # Medians and quantiles\n",
    "        self.medians = X.median()\n",
    "        self.min_kitchen_square = np.quantile(X['KitchenSquare'], q=0.001)\n",
    "        self.max_kitchen_square = np.quantile(X['KitchenSquare'], q=0.999)\n",
    "        self.min_life_square = np.quantile(X['LifeSquare'], q=0.03)\n",
    "        self.max_floor = X['Floor'].max()\n",
    "        self.min_floor = 1\n",
    "        \n",
    "        # healthcare in each district\n",
    "        self.mean_h1_district = X.groupby('DistrictId')['Healthcare_1'].mean().to_dict()\n",
    "        self.mean_life_sq_dist_rm = X.groupby(['DistrictId', 'Rooms'], as_index=False)['LifeSquare'].median()\\\n",
    "        .rename(columns={'LifeSquare': 'life_id_room_median'})\n",
    "        \n",
    "        \n",
    "    def transform(self, X):\n",
    "        # Fill columns\n",
    "        \n",
    "        # LifeSquare\n",
    "        # add column with median LifeSquare by DistrictId and Rooms\n",
    "        X = X.merge(self.mean_life_sq_dist_rm, on=['DistrictId', 'Rooms'], how='left')\n",
    "        \n",
    "        condition_life = X['LifeSquare'].isna()\n",
    "        \n",
    "        # NaN --> LifeSquare = life_id_room_median\n",
    "        X.loc[condition_life, 'LifeSquare'] = X.loc[condition_life, 'life_id_room_median']\n",
    "        X.drop('life_id_room_median', axis=1, inplace=True)\n",
    "        \n",
    "        # NaN (if 'life_id_room_median' = NaN) --> 0.92 * Square - Kitchen\n",
    "        X['LifeSquare'].fillna(X['Square'] * .92 - X['KitchenSquare'], inplace=True)\n",
    "\n",
    "        \n",
    "        # Rooms\n",
    "        condition_rooms = (X['Rooms'] >= 6) | (X['Rooms'] == 0)\n",
    "        room_square_median = self.medians['LifeSquare'] / self.medians['Rooms']\n",
    "        X.loc[condition_rooms, 'Rooms'] = X.loc[condition_rooms, 'LifeSquare'] / room_square_median\n",
    "        \n",
    "\n",
    "        # Square\n",
    "\n",
    "        # Square < KitchenSquare --> Square <=> KitchenSquare (if KitchenSquare <= 250 (--> for Square this max))\n",
    "        X['Square'], X['KitchenSquare'] = np.where(\n",
    "            (X['Square'] <= X['KitchenSquare']) & (X['KitchenSquare'] <= 250),\n",
    "            (X['KitchenSquare'], X['Square']), (X['Square'], X['KitchenSquare'])\n",
    "        )\n",
    "\n",
    "        # Square < LifeSquare --> Square <=> LifeSquare \n",
    "        X['Square'], X['LifeSquare'] = np.where(\n",
    "            X['Square'] < X['LifeSquare'], (X['LifeSquare'], X['Square']), (X['Square'], X['LifeSquare'])\n",
    "        )\n",
    "        \n",
    "        \n",
    "        # KitchenSquare\n",
    "        # Outliers --> Square - LifeSquare - 3\n",
    "        condition_kitchen_square = (X['KitchenSquare'] > 60) | (X['KitchenSquare'] < self.min_kitchen_square)\n",
    "\n",
    "        X.loc[condition_kitchen_square, 'KitchenSquare'] = \\\n",
    "        X.loc[condition_kitchen_square, 'Square'] - X.loc[condition_kitchen_square, 'LifeSquare'] - 3\n",
    "        \n",
    "        \n",
    "        # Ecology and Shops\n",
    "        # Switch to binary\n",
    "        X.replace({\n",
    "            'Ecology_2': {'A': 0, 'B': 1},\n",
    "            'Ecology_3': {'A': 0, 'B': 1},\n",
    "            'Shops_2': {'A': 0, 'B': 1}\n",
    "        }, inplace=True)\n",
    "        \n",
    "        \n",
    "        # Floor\n",
    "        # Min Floor\n",
    "        train_df.loc[train_df['Floor'] < self.min_floor, 'Floor'] = self.min_floor\n",
    "        \n",
    "        \n",
    "        # HouseFloor\n",
    "        # HouseFloor < Floor --> HouseFloor = Floor\n",
    "        condition_house_floor = X['HouseFloor'] < X['Floor'] \n",
    "        X.loc[condition_house_floor, 'HouseFloor'] = X.loc[condition_house_floor, 'Floor']\n",
    "        \n",
    "        # HouseYear\n",
    "        # HouseYear > current year --> median year\n",
    "        current_year = datetime.now().year\n",
    "        condition_year = X['HouseYear'] > current_year\n",
    "        X.loc[condition_year, 'HouseYear'] = self.medians['HouseYear']\n",
    "        \n",
    "        \n",
    "        # Healthcare\n",
    "        X.loc[X['Healthcare_1'].isna(), 'Healthcare_1'] = X['DistrictId'].map(self.mean_h1_district)\n",
    "        X['Healthcare_1'].fillna(self.medians['Healthcare_1'], inplace=True)\n",
    "        q_max = np.quantile(X['Healthcare_1'], q=0.9)\n",
    "        X['Healthcare_1'].clip(upper=q_max, axis=0, inplace=True)\n",
    "        \n",
    "        # Id remove\n",
    "        X.drop(columns=['Id'], inplace=True)\n",
    "        \n",
    "        # Fillna\n",
    "        X.fillna(self.medians, inplace=True)\n",
    "\n",
    "        return X"
   ]
  },
  {
   "cell_type": "code",
   "execution_count": null,
   "id": "38efab52",
   "metadata": {},
   "outputs": [],
   "source": []
  },
  {
   "cell_type": "markdown",
   "id": "3582b14b",
   "metadata": {},
   "source": [
    "### 4. Building new features "
   ]
  },
  {
   "cell_type": "code",
   "execution_count": 1265,
   "id": "b4ddfa93",
   "metadata": {},
   "outputs": [],
   "source": [
    "class FeatureGenerator:\n",
    "    \"\"\"Generation of new features\"\"\"\n",
    "    \n",
    "    def __init__(self):\n",
    "        self.DistrictId_counts = None\n",
    "        self.med_price_by_district = None\n",
    "        self.med_price_by_floor_year = None\n",
    "        self.floor_min = None\n",
    "        self.floor_max = None\n",
    "        self.house_year_min = None\n",
    "        self.house_year_max = None\n",
    "        self.district_size = None\n",
    "        self.mean_square_rooms = None\n",
    "        \n",
    "    \n",
    "    def fit(self, X, y=None):\n",
    "        \n",
    "        X = X.copy()\n",
    "\n",
    "        # DistrictId\n",
    "        self.district_size = X['DistrictId'].value_counts()\\\n",
    "        .reset_index().rename(columns={'index': 'DistrictId', 'DistrictId': 'DistrictSize'})\n",
    "        \n",
    "        # Target encoding\n",
    "        ## District, Rooms\n",
    "        df = X.copy()\n",
    "        \n",
    "        if y is not None:\n",
    "            df['Price'] = y.values\n",
    "            \n",
    "            self.med_price_by_district = df.groupby(['DistrictId', 'Rooms'], as_index=False).agg({'Price': 'median'})\\\n",
    "            .rename(columns={'Price': 'MedPriceByDistrict'})\n",
    "            \n",
    "            self.med_price_by_district_median = self.med_price_by_district['MedPriceByDistrict'].median()\n",
    "            \n",
    "        ## Floor, HouseYear\n",
    "        if y is not None:\n",
    "            self.floor_min = df['Floor'].min()\n",
    "            self.floor_max = df['Floor'].max()\n",
    "            self.house_year_min = df['HouseYear'].min()\n",
    "            self.house_year_max = df['HouseYear'].max()\n",
    "            df['Price'] = y.values\n",
    "            df = self.floor_to_cat(df)\n",
    "            df = self.year_to_cat(df)\n",
    "            \n",
    "            self.med_price_by_floor_year = df.groupby(['year_cat', 'floor_cat'], as_index=False).agg({'Price': 'median'})\\\n",
    "            .rename(columns={'Price': 'MedPriceByFloorYear'})\n",
    "            \n",
    "            self.med_price_by_floor_year_median = self.med_price_by_floor_year['MedPriceByFloorYear'].median()\n",
    "            \n",
    "            \n",
    "    def transform(self, X):\n",
    "        # DistrictId, IsDistrictLarge\n",
    "        X = X.merge(self.district_size, on=['DistrictId'], how='left')\n",
    "        \n",
    "        X['new_district'] = 0\n",
    "        X.loc[X['DistrictSize'].isna(), 'new_district'] = 1\n",
    "        \n",
    "        X['DistrictSize'].fillna(5, inplace=True)\n",
    "        \n",
    "        X['IsDistrictLarge'] = (X['DistrictSize'] > 100).astype(int)\n",
    "        \n",
    "        # MeanLifeSquareRooms\n",
    "        self.mean_square_rooms = X.groupby(['DistrictId'], as_index=False)[['Rooms', 'LifeSquare']].sum()\n",
    "        \n",
    "        self.mean_square_rooms['MeanLifeSquareRooms'] = \\\n",
    "        (self.mean_square_rooms['LifeSquare'] / self.mean_square_rooms['Rooms']).round().astype(int)\n",
    "        self.mean_square_rooms.drop(columns=['Rooms', 'LifeSquare'], inplace=True)\n",
    "        X = X.merge(self.mean_square_rooms, on=['DistrictId'], how='left')\n",
    "        \n",
    "        # MeanSquareRooms\n",
    "        self.mean_square_rooms = X.groupby(['DistrictId'], as_index=False)[['Rooms', 'Square']].sum()\n",
    "        \n",
    "        self.mean_square_rooms['MeanSquareRooms'] = \\\n",
    "        (self.mean_square_rooms['Square'] / self.mean_square_rooms['Rooms']).round().astype(int)\n",
    "        self.mean_square_rooms.drop(columns=['Rooms', 'Square'], inplace=True)\n",
    "        X = X.merge(self.mean_square_rooms, on=['DistrictId'], how='left')\n",
    "        \n",
    "        # More Categorical features\n",
    "        X = self.floor_to_cat(X)\n",
    "        X = self.year_to_cat(X)\n",
    "        \n",
    "        #target encoding\n",
    "        if self.med_price_by_district is not None:\n",
    "            X = X.merge(self.med_price_by_district, on=['DistrictId', 'Rooms'], how='left')\n",
    "            X['MedPriceByDistrict'].fillna(self.med_price_by_district_median, inplace=True)\n",
    "        \n",
    "        if self.med_price_by_floor_year is not None:\n",
    "            X = X.merge(self.med_price_by_floor_year, on=['year_cat', 'floor_cat'], how='left')\n",
    "            X['MedPriceByFloorYear'].fillna(self.med_price_by_floor_year_median, inplace=True)\n",
    "            \n",
    "        return X\n",
    "    \n",
    "    \n",
    "    def floor_to_cat(self, X):\n",
    "        bins = [self.floor_min, 3, 5, 9, 15, self.floor_max]\n",
    "        X['floor_cat'] = pd.cut(X['Floor'], include_lowest=True, bins=bins, labels=False)\n",
    "        X['floor_cat'].fillna(-1, inplace=True)\n",
    "        \n",
    "        return X\n",
    "    \n",
    "    \n",
    "    def year_to_cat(self, X):\n",
    "        bins= [self.house_year_min, 1941, 1945, 1980, 2000, 2010, self.house_year_max]\n",
    "        X['year_cat'] = pd.cut(X['HouseYear'], bins=bins, labels=False)\n",
    "        X['year_cat'].fillna(-1, inplace=True)\n",
    "        \n",
    "        return X\n",
    "    \n",
    "    "
   ]
  },
  {
   "cell_type": "markdown",
   "id": "69bf56f2",
   "metadata": {},
   "source": [
    "### 5. Feature selection"
   ]
  },
  {
   "cell_type": "code",
   "execution_count": 1266,
   "id": "b933a32c",
   "metadata": {},
   "outputs": [],
   "source": [
    "feature_names = [\n",
    "    'Social_2',\n",
    "    'Social_1',\n",
    "    'Social_3',\n",
    "    'Healthcare_1',\n",
    "    'Square',\n",
    "    'LifeSquare',\n",
    "    'KitchenSquare',\n",
    "    'Floor',\n",
    "    'HouseFloor',\n",
    "    'HouseYear',\n",
    "    'Ecology_2'\n",
    "]\n",
    "\n",
    "#, 'Rooms', 'Healthcare_2','Social_1', 'Social_2', 'Social_3', 'Shops_2', 'Shops_1', 'Ecology_1', 'Ecology_2', 'Ecology_3'\n",
    "#'Rooms',\n",
    "\n",
    "new_feature_names = [\n",
    "    'MedPriceByDistrict',\n",
    "    'MedPriceByFloorYear',\n",
    "    'MeanLifeSquareRooms',\n",
    "    #'MeanSquareRooms',\n",
    "    'DistrictSize',\n",
    "    'IsDistrictLarge'\n",
    "]\n",
    "\n",
    "#'Rooms_outlier', 'MedPriceByFloorYear', 'DistrictSize', 'IsDistrictLarge', 'Rooms_outlier',  'MedPriceByDistrict', \n",
    "\n",
    "target_name = 'Price'"
   ]
  },
  {
   "cell_type": "markdown",
   "id": "f34e6f3e",
   "metadata": {},
   "source": [
    "### 6. Splitting into train / test"
   ]
  },
  {
   "cell_type": "code",
   "execution_count": 1267,
   "id": "e1fc65d7",
   "metadata": {},
   "outputs": [],
   "source": [
    "train_df = pd.read_csv(TRAIN_DATASET_PATH)\n",
    "test_df = pd.read_csv(TEST_DATASET_PATH)\n",
    "\n",
    "X = train_df.drop(columns=target_name)\n",
    "y = train_df[target_name]"
   ]
  },
  {
   "cell_type": "code",
   "execution_count": 1268,
   "id": "36158e25",
   "metadata": {},
   "outputs": [],
   "source": [
    "X_train, X_valid, y_train, y_valid = train_test_split(X, y, test_size=.2, shuffle=True, random_state=21)"
   ]
  },
  {
   "cell_type": "code",
   "execution_count": 1269,
   "id": "5b4213c2",
   "metadata": {},
   "outputs": [
    {
     "data": {
      "text/plain": [
       "((8000, 18), (2000, 18), (5000, 18))"
      ]
     },
     "execution_count": 1269,
     "metadata": {},
     "output_type": "execute_result"
    }
   ],
   "source": [
    "preprocessor = DataPreprocessing()\n",
    "preprocessor.fit(X_train)\n",
    "\n",
    "X_train = preprocessor.transform(X_train)\n",
    "X_valid = preprocessor.transform(X_valid)\n",
    "test_df = preprocessor.transform(test_df)\n",
    "\n",
    "X_train.shape, X_valid.shape, test_df.shape"
   ]
  },
  {
   "cell_type": "code",
   "execution_count": 1270,
   "id": "3108a323",
   "metadata": {},
   "outputs": [],
   "source": [
    "features_gen = FeatureGenerator()\n",
    "features_gen.fit(X_train, y_train)\n",
    "\n",
    "X_train = features_gen.transform(X_train)\n",
    "X_valid = features_gen.transform(X_valid)\n",
    "test_df = features_gen.transform(test_df)"
   ]
  },
  {
   "cell_type": "code",
   "execution_count": 1271,
   "id": "586fc4fa",
   "metadata": {},
   "outputs": [
    {
     "data": {
      "text/plain": [
       "((8000, 27), (2000, 27), (5000, 27))"
      ]
     },
     "execution_count": 1271,
     "metadata": {},
     "output_type": "execute_result"
    }
   ],
   "source": [
    "X_train.shape, X_valid.shape, test_df.shape"
   ]
  },
  {
   "cell_type": "code",
   "execution_count": 1272,
   "id": "c08d74c3",
   "metadata": {},
   "outputs": [],
   "source": [
    "X_train = X_train[feature_names + new_feature_names]\n",
    "X_valid = X_valid[feature_names + new_feature_names]\n",
    "test_df = test_df[feature_names + new_feature_names]"
   ]
  },
  {
   "cell_type": "code",
   "execution_count": 1273,
   "id": "49e45fcc",
   "metadata": {},
   "outputs": [
    {
     "data": {
      "text/plain": [
       "(0, 0, 0)"
      ]
     },
     "execution_count": 1273,
     "metadata": {},
     "output_type": "execute_result"
    }
   ],
   "source": [
    "X_train.isna().sum().sum(), X_valid.isna().sum().sum(), test_df.isna().sum().sum()"
   ]
  },
  {
   "cell_type": "code",
   "execution_count": 1274,
   "id": "d8f778b9",
   "metadata": {},
   "outputs": [
    {
     "data": {
      "image/png": "[encoded data removed]",
      "text/plain": [
       "<Figure size 1152x576 with 1 Axes>"
      ]
     },
     "metadata": {
      "needs_background": "light"
     },
     "output_type": "display_data"
    }
   ],
   "source": [
    "# Square, LifeSqure, KitchenSquare\n",
    "TypeSquares = ['Square', 'LifeSquare', 'KitchenSquare']\n",
    "\n",
    "plt.figure(figsize=(16, 8))\n",
    "\n",
    "for feature in TypeSquares:\n",
    "    plt.scatter(y_train, X_train[feature], label=feature, s=5)\n",
    "\n",
    "plt.xlabel('DistrictId')\n",
    "plt.ylabel('Square, LifeSquare, KitchenSquare')\n",
    "plt.legend()\n",
    "plt.show()"
   ]
  },
  {
   "cell_type": "markdown",
   "id": "15754f89",
   "metadata": {},
   "source": [
    "### 7. Building a model"
   ]
  },
  {
   "cell_type": "code",
   "execution_count": 1275,
   "id": "0846ab4d",
   "metadata": {},
   "outputs": [],
   "source": [
    "# rf_model = RandomForestRegressor(random_state=21, criterion='mse')\n",
    "# rf_model.fit(X_train, y_train)"
   ]
  },
  {
   "cell_type": "code",
   "execution_count": 1276,
   "id": "2e5fa3d3",
   "metadata": {},
   "outputs": [],
   "source": [
    "# y_train_preds = rf_model.predict(X_train)\n",
    "# y_test_preds = rf_model.predict(X_valid)\n",
    "\n",
    "# evaluate_preds(y_train, y_train_preds, y_valid, y_test_preds)"
   ]
  },
  {
   "cell_type": "code",
   "execution_count": 1277,
   "id": "b2928896",
   "metadata": {},
   "outputs": [],
   "source": [
    "#cv_score = cross_val_score(rf_model, X_train, y_train, scoring='r2', cv=KFold(n_splits=3, shuffle=True, random_state=21))\n",
    "#cv_score"
   ]
  },
  {
   "cell_type": "code",
   "execution_count": 1278,
   "id": "cccf91c5",
   "metadata": {},
   "outputs": [],
   "source": [
    "#cv_score.mean()"
   ]
  },
  {
   "cell_type": "code",
   "execution_count": 1279,
   "id": "00bc5f62",
   "metadata": {},
   "outputs": [],
   "source": [
    "#feature_importances = pd.DataFrame(zip(X_train.columns, rf_model.feature_importances_), columns=['feature_name', 'importance'])\n",
    "#feature_importances.sort_values(by='importance', ascending=False)"
   ]
  },
  {
   "cell_type": "code",
   "execution_count": 1280,
   "id": "7509225c",
   "metadata": {},
   "outputs": [],
   "source": [
    "from sklearn.tree import DecisionTreeRegressor, plot_tree"
   ]
  },
  {
   "cell_type": "code",
   "execution_count": 1281,
   "id": "c81f7d77",
   "metadata": {},
   "outputs": [],
   "source": [
    "# rf_model = RandomForestRegressor(\n",
    "#     criterion='mse',\n",
    "#     max_depth=20,  # глубина дерева\n",
    "#     min_samples_leaf=2,  # минимальное количество наблюдений в листе дерева\n",
    "#     random_state=42,\n",
    "#     n_estimators=550  # количество деревьев\n",
    "# )\n",
    "\n",
    "# rf_model.fit(X_train, y_train)\n",
    "\n",
    "# y_train_preds = rf_model.predict(X_train)\n",
    "# y_test_preds = rf_model.predict(X_valid)\n",
    "# evaluate_preds(y_train, y_train_preds, y_valid, y_test_preds)\n",
    "#0.941, 0.728"
   ]
  },
  {
   "cell_type": "code",
   "execution_count": 1282,
   "id": "aa11a125",
   "metadata": {},
   "outputs": [
    {
     "name": "stdout",
     "output_type": "stream",
     "text": [
      "Train R2:\t0.9166\n",
      "Test R2:\t0.741\n"
     ]
    },
    {
     "data": {
      "image/png": "[encoded data removed]",
      "text/plain": [
       "<Figure size 1296x720 with 2 Axes>"
      ]
     },
     "metadata": {
      "needs_background": "light"
     },
     "output_type": "display_data"
    }
   ],
   "source": [
    "gb_model = GradientBoostingRegressor(criterion='mse',\n",
    "                                     max_depth=6,\n",
    "                                     min_samples_leaf=50,\n",
    "                                     random_state=42,  \n",
    "                                     n_estimators=1500, \n",
    "                                     max_features='sqrt', \n",
    "                                     loss='huber', \n",
    "                                     learning_rate=0.126)\n",
    "\n",
    "gb_model.fit(X_train, y_train)\n",
    "\n",
    "y_train_preds = gb_model.predict(X_train)\n",
    "y_test_preds = gb_model.predict(X_valid)\n",
    "evaluate_preds(y_train, y_train_preds, y_valid, y_test_preds)"
   ]
  },
  {
   "cell_type": "code",
   "execution_count": 1283,
   "id": "fbb2cc4b",
   "metadata": {},
   "outputs": [],
   "source": [
    "# gb_model = GradientBoostingRegressor(\n",
    "#     criterion='mse',\n",
    "#     max_depth=5,\n",
    "#     min_samples_leaf=7,\n",
    "#     random_state=42,\n",
    "#     n_estimators=350\n",
    "# )\n",
    "\n",
    "# gb_model.fit(X_train, y_train)\n",
    "\n",
    "# y_train_preds = gb_model.predict(X_train)\n",
    "# y_test_preds = gb_model.predict(X_valid)\n",
    "# evaluate_preds(y_train, y_train_preds, y_valid, y_test_preds)\n",
    "# #0.88 0.727"
   ]
  },
  {
   "cell_type": "markdown",
   "id": "1d085161",
   "metadata": {},
   "source": [
    "### 8. Prediction on test dataset"
   ]
  },
  {
   "cell_type": "code",
   "execution_count": 1284,
   "id": "cbda85f3",
   "metadata": {},
   "outputs": [
    {
     "data": {
      "text/plain": [
       "(5000, 16)"
      ]
     },
     "execution_count": 1284,
     "metadata": {},
     "output_type": "execute_result"
    }
   ],
   "source": [
    "test_df.shape"
   ]
  },
  {
   "cell_type": "code",
   "execution_count": 1285,
   "id": "53eebd08",
   "metadata": {},
   "outputs": [],
   "source": [
    "submit = pd.read_csv('./input/real_estate_price_prediction_moscow/sample_submission.csv')"
   ]
  },
  {
   "cell_type": "code",
   "execution_count": 1286,
   "id": "203af917",
   "metadata": {},
   "outputs": [
    {
     "data": {
      "text/plain": [
       "array([169312.77901829, 126388.49314543, 132399.01334919, ...,\n",
       "       153132.24450407, 187366.29967252, 301035.82741838])"
      ]
     },
     "execution_count": 1286,
     "metadata": {},
     "output_type": "execute_result"
    }
   ],
   "source": [
    "predictions = gb_model.predict(test_df)\n",
    "predictions"
   ]
  },
  {
   "cell_type": "code",
   "execution_count": 1287,
   "id": "cc36b0dc",
   "metadata": {},
   "outputs": [
    {
     "data": {
      "text/html": [
       "<div>\n",
       "<style scoped>\n",
       "    .dataframe tbody tr th:only-of-type {\n",
       "        vertical-align: middle;\n",
       "    }\n",
       "\n",
       "    .dataframe tbody tr th {\n",
       "        vertical-align: top;\n",
       "    }\n",
       "\n",
       "    .dataframe thead th {\n",
       "        text-align: right;\n",
       "    }\n",
       "</style>\n",
       "<table border=\"1\" class=\"dataframe\">\n",
       "  <thead>\n",
       "    <tr style=\"text-align: right;\">\n",
       "      <th></th>\n",
       "      <th>Id</th>\n",
       "      <th>Price</th>\n",
       "    </tr>\n",
       "  </thead>\n",
       "  <tbody>\n",
       "    <tr>\n",
       "      <th>0</th>\n",
       "      <td>4567</td>\n",
       "      <td>169312.779018</td>\n",
       "    </tr>\n",
       "    <tr>\n",
       "      <th>1</th>\n",
       "      <td>5925</td>\n",
       "      <td>126388.493145</td>\n",
       "    </tr>\n",
       "    <tr>\n",
       "      <th>2</th>\n",
       "      <td>960</td>\n",
       "      <td>132399.013349</td>\n",
       "    </tr>\n",
       "    <tr>\n",
       "      <th>3</th>\n",
       "      <td>3848</td>\n",
       "      <td>110242.791313</td>\n",
       "    </tr>\n",
       "    <tr>\n",
       "      <th>4</th>\n",
       "      <td>746</td>\n",
       "      <td>189090.629692</td>\n",
       "    </tr>\n",
       "  </tbody>\n",
       "</table>\n",
       "</div>"
      ],
      "text/plain": [
       "     Id          Price\n",
       "0  4567  169312.779018\n",
       "1  5925  126388.493145\n",
       "2   960  132399.013349\n",
       "3  3848  110242.791313\n",
       "4   746  189090.629692"
      ]
     },
     "execution_count": 1287,
     "metadata": {},
     "output_type": "execute_result"
    }
   ],
   "source": [
    "submit['Price'] = predictions\n",
    "submit.head()"
   ]
  },
  {
   "cell_type": "code",
   "execution_count": 1288,
   "id": "25366d54",
   "metadata": {},
   "outputs": [],
   "source": [
    "submit.to_csv('./input/real_estate_price_prediction_moscow/gb_submit.csv', index=False)"
   ]
  },
  {
   "cell_type": "code",
   "execution_count": null,
   "id": "5cce70d9",
   "metadata": {},
   "outputs": [],
   "source": []
  },
  {
   "cell_type": "code",
   "execution_count": null,
   "id": "768a3931",
   "metadata": {},
   "outputs": [],
   "source": []
  }
 ],
 "metadata": {
  "kernelspec": {
   "display_name": "Python 3 (ipykernel)",
   "language": "python",
   "name": "python3"
  },
  "language_info": {
   "codemirror_mode": {
    "name": "ipython",
    "version": 3
   },
   "file_extension": ".py",
   "mimetype": "text/x-python",
   "name": "python",
   "nbconvert_exporter": "python",
   "pygments_lexer": "ipython3",
   "version": "3.9.7"
  }
 },
 "nbformat": 4,
 "nbformat_minor": 5
}
