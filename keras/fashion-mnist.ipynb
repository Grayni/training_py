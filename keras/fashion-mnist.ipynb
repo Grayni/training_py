{
 "cells": [
  {
   "cell_type": "code",
   "execution_count": 10,
   "metadata": {
    "collapsed": true
   },
   "outputs": [],
   "source": [
    "import numpy as np\n",
    "import tensorflow as tf\n",
    "import matplotlib.pyplot as plt\n",
    "from keras.datasets import fashion_mnist\n",
    "from keras.utils.np_utils import to_categorical\n",
    "from keras.layers import Dense\n",
    "from keras.models import Sequential\n",
    "from keras import optimizers\n",
    "from keras import backend\n",
    "from keras.callbacks import EarlyStopping"
   ]
  },
  {
   "cell_type": "markdown",
   "source": [
    "#### Labels & others"
   ],
   "metadata": {
    "collapsed": false,
    "pycharm": {
     "name": "#%% md\n"
    }
   }
  },
  {
   "cell_type": "code",
   "execution_count": 11,
   "outputs": [
    {
     "name": "stdout",
     "output_type": "stream",
     "text": [
      "[PhysicalDevice(name='/physical_device:GPU:0', device_type='GPU')]\n"
     ]
    }
   ],
   "source": [
    "# labels\n",
    "dict_things = {\n",
    "    0: \"T-shirt/top\",\n",
    "    1: \"Trouser\",\n",
    "    2: \"Pullover\",\n",
    "    3: \"Dress\",\n",
    "    4: \"Coat\",\n",
    "    5: \"Sandal\",\n",
    "    6: \"Shirt\",\n",
    "    7: \"Sneaker\",\n",
    "    8: \"Bag\",\n",
    "    9: \"Ankle boot\"\n",
    "}\n",
    "\n",
    "import os\n",
    "os.environ[\"TF_MIN_GPU_MULTIPROCESSOR_COUNT\"]=\"2\"\n",
    "os.environ[\"CUDA_VISIBLE_DEVICES\"]=\"0,1\"\n",
    "\n",
    "# input layer size\n",
    "layer_size_0 = 28*28  # 784\n",
    "\n",
    "# check GPU\n",
    "print(tf.config.experimental.list_physical_devices('GPU'))\n",
    "\n",
    "from keras.backend import set_session\n",
    "from keras.backend import clear_session\n",
    "from keras.backend import get_session\n",
    "import gc\n",
    "\n",
    "# Reset Keras Session | clear memory GPU\n",
    "def reset_keras():\n",
    "    sess = get_session()\n",
    "    clear_session()\n",
    "    sess.close()\n",
    "    sess = get_session()\n",
    "\n",
    "    gc.collect() # if it does something you should see a number as output\n",
    "\n",
    "    # use the same config as you used to create the session\n",
    "    config = tf.compat.v1.ConfigProto()\n",
    "    config.gpu_options.per_process_gpu_memory_fraction = 1\n",
    "    config.gpu_options.visible_device_list = \"0\"\n",
    "    set_session(tf.compat.v1.Session(config=config))"
   ],
   "metadata": {
    "collapsed": false,
    "pycharm": {
     "name": "#%%\n"
    }
   }
  },
  {
   "cell_type": "markdown",
   "source": [
    "#### Split dataset"
   ],
   "metadata": {
    "collapsed": false,
    "pycharm": {
     "name": "#%% md\n"
    }
   }
  },
  {
   "cell_type": "code",
   "execution_count": 12,
   "outputs": [
    {
     "name": "stdout",
     "output_type": "stream",
     "text": [
      "(60000, 28, 28) (10000, 28, 28)\n",
      "(60000,)\n"
     ]
    }
   ],
   "source": [
    "(X_train, y_train_labels), (X_test, y_test_labels) = fashion_mnist.load_data()\n",
    "\n",
    "print(X_train.shape, X_test.shape)\n",
    "print(y_train_labels.shape)"
   ],
   "metadata": {
    "collapsed": false,
    "pycharm": {
     "name": "#%%\n"
    }
   }
  },
  {
   "cell_type": "markdown",
   "source": [
    "#### Random thing"
   ],
   "metadata": {
    "collapsed": false,
    "pycharm": {
     "name": "#%% md\n"
    }
   }
  },
  {
   "cell_type": "code",
   "execution_count": 13,
   "outputs": [
    {
     "data": {
      "text/plain": "<Figure size 640x480 with 1 Axes>",
      "image/png": "[encoded data removed]"
     },
     "metadata": {},
     "output_type": "display_data"
    }
   ],
   "source": [
    "index = np.random.randint(0, X_train.shape[0])\n",
    "index_thing = y_train_labels[index]\n",
    "\n",
    "plt.imshow(X_train[index], cmap=\"gray\")\n",
    "plt.xlabel(f\"{index_thing} - {dict_things[index_thing]}\")\n",
    "plt.show()"
   ],
   "metadata": {
    "collapsed": false,
    "pycharm": {
     "name": "#%%\n"
    }
   }
  },
  {
   "cell_type": "markdown",
   "source": [
    "#### Normalization"
   ],
   "metadata": {
    "collapsed": false,
    "pycharm": {
     "name": "#%% md\n"
    }
   }
  },
  {
   "cell_type": "code",
   "execution_count": 14,
   "outputs": [
    {
     "data": {
      "text/plain": "((60000, 784), (10000, 784))"
     },
     "execution_count": 14,
     "metadata": {},
     "output_type": "execute_result"
    }
   ],
   "source": [
    "X_train = X_train / 255.0\n",
    "X_test = X_test / 255.0\n",
    "X_train.min(), X_train.max()\n",
    "\n",
    "X_train = X_train.reshape((-1, 28 * 28))\n",
    "X_test = X_test.reshape((-1, 28*28))\n",
    "X_train.shape, X_test.shape"
   ],
   "metadata": {
    "collapsed": false,
    "pycharm": {
     "name": "#%%\n"
    }
   }
  },
  {
   "cell_type": "markdown",
   "source": [
    "#### One hot"
   ],
   "metadata": {
    "collapsed": false,
    "pycharm": {
     "name": "#%% md\n"
    }
   }
  },
  {
   "cell_type": "code",
   "execution_count": 15,
   "outputs": [
    {
     "data": {
      "text/plain": "array([[0., 0., 0., 0., 0., 0., 0., 0., 0., 1.],\n       [1., 0., 0., 0., 0., 0., 0., 0., 0., 0.],\n       [1., 0., 0., 0., 0., 0., 0., 0., 0., 0.],\n       [0., 0., 0., 1., 0., 0., 0., 0., 0., 0.],\n       [1., 0., 0., 0., 0., 0., 0., 0., 0., 0.]], dtype=float32)"
     },
     "execution_count": 15,
     "metadata": {},
     "output_type": "execute_result"
    }
   ],
   "source": [
    "y_train = to_categorical(y_train_labels)\n",
    "y_test = to_categorical(y_test_labels)\n",
    "\n",
    "y_train[:5]"
   ],
   "metadata": {
    "collapsed": false,
    "pycharm": {
     "name": "#%%\n"
    }
   }
  },
  {
   "cell_type": "markdown",
   "source": [
    "#### Optimizers comparison"
   ],
   "metadata": {
    "collapsed": false,
    "pycharm": {
     "name": "#%% md\n"
    }
   }
  },
  {
   "cell_type": "code",
   "execution_count": 16,
   "outputs": [],
   "source": [
    "# %%time\n",
    "#\n",
    "# models = {}\n",
    "#\n",
    "# plt.figure(figsize=(16, 7))\n",
    "# colors = ['g', 'b', 'r', 'y']\n",
    "#\n",
    "# num_epochs = 4\n",
    "# batch_size = 32\n",
    "#\n",
    "# epoch = np.arange(num_epochs+1)\n",
    "#\n",
    "# for i, i_optim in enumerate([optimizers.gradient_descent_v2.SGD(),\n",
    "#                              optimizers.adagrad_v2.Adagrad(),\n",
    "#                              optimizers.rmsprop_v2.RMSProp(),\n",
    "#                              optimizers.adam_v2.Adam()\n",
    "#                             ]):\n",
    "#     model_i = Sequential([\n",
    "#         Dense(64, input_shape=(layer_size_0,), activation='relu'),\n",
    "#         Dense(32, activation='relu'),\n",
    "#         Dense(10, activation='sigmoid')\n",
    "#     ])\n",
    "#\n",
    "#     model_i.load_weights('./samples/experimental_weights.h5')\n",
    "#\n",
    "#     model_i.compile(\n",
    "#         optimizer=i_optim,\n",
    "#         loss='categorical_crossentropy',\n",
    "#         metrics='accuracy'\n",
    "#     )\n",
    "#\n",
    "#     h0_train = model_i.evaluate(X_train, y_train, verbose=0)\n",
    "#     h0_val = model_i.evaluate(X_test, y_test, verbose=0)\n",
    "#\n",
    "#     h = model_i.fit(X_train, y_train,\n",
    "#                     epochs=num_epochs,\n",
    "#                     batch_size=batch_size,\n",
    "#                     validation_data=(X_test, y_test),\n",
    "#                     verbose=0)\n",
    "#\n",
    "#     models[i_optim.get_config()['name']] = model_i\n",
    "#\n",
    "#     plt.plot(epoch, np.log([h0_train[0]] + h.history['loss']), '-', c=colors[i],\n",
    "#              label=model_i.optimizer.get_config()['name'] + ' train')\n",
    "#\n",
    "#     plt.plot(epoch, np.log([h0_val[0]] + h.history['val_loss']), '--', c=colors[i],\n",
    "#              label=model_i.optimizer.get_config()['name'] + ' val')\n",
    "#\n",
    "# plt.legend()\n",
    "# plt.title('NN with log(loss)')\n",
    "# plt.xlabel('epochs')\n",
    "# plt.ylabel('log(loss)')\n",
    "# plt.show()\n",
    "#\n",
    "# # choice -> adam"
   ],
   "metadata": {
    "collapsed": false,
    "pycharm": {
     "name": "#%%\n"
    }
   }
  },
  {
   "cell_type": "markdown",
   "source": [
    "#### Hide layer size"
   ],
   "metadata": {
    "collapsed": false,
    "pycharm": {
     "name": "#%% md\n"
    }
   }
  },
  {
   "cell_type": "code",
   "execution_count": 17,
   "outputs": [
    {
     "name": "stdout",
     "output_type": "stream",
     "text": [
      "Size of hide layer: 0\n",
      "Train Loss: 2.303\tTrain Accuracy: 0.100\n",
      "Test Loss: 2.303\tTest Accuracy: 0.100\n",
      "\n",
      "Size of hide layer: 6\n",
      "Train Loss: 0.442\tTrain Accuracy: 0.847\n",
      "Test Loss: 0.487\tTest Accuracy: 0.833\n",
      "\n",
      "Size of hide layer: 36\n",
      "Train Loss: 0.306\tTrain Accuracy: 0.889\n",
      "Test Loss: 0.380\tTest Accuracy: 0.863\n",
      "\n",
      "Size of hide layer: 144\n",
      "Train Loss: 0.232\tTrain Accuracy: 0.914\n",
      "Test Loss: 0.329\tTest Accuracy: 0.885\n",
      "\n",
      "Size of hide layer: 324\n",
      "Train Loss: 0.233\tTrain Accuracy: 0.913\n",
      "Test Loss: 0.345\tTest Accuracy: 0.878\n",
      "\n"
     ]
    }
   ],
   "source": [
    "# Size hide layer => 784 | x | 10\n",
    "batch_size = 100\n",
    "evaluation = { 'train': [], 'test': [] }\n",
    "layers_size = [i for i in range(10)] + [i**2 for i in range(4, 20) if i % 2 == 0]\n",
    "\n",
    "for layer_size in layers_size:\n",
    "    # clear memory GPU\n",
    "    reset_keras()\n",
    "\n",
    "    # skeleton\n",
    "    model = Sequential([\n",
    "        Dense(layer_size, input_shape=(layer_size_0,), activation='relu'),\n",
    "        Dense(10, activation='sigmoid')\n",
    "    ])\n",
    "\n",
    "    model.compile(\n",
    "        optimizer='adam',\n",
    "        loss='categorical_crossentropy',\n",
    "        metrics='accuracy'\n",
    "    )\n",
    "\n",
    "    # learning\n",
    "    model.fit(\n",
    "        X_train, y_train,\n",
    "        batch_size=batch_size,\n",
    "        epochs=10,\n",
    "        verbose=0,\n",
    "        validation_data=(X_test, y_test)\n",
    "    )\n",
    "\n",
    "    # loss, metrics\n",
    "    train_evals = model.evaluate(X_train, y_train, verbose=0, batch_size=batch_size)\n",
    "    test_evals = model.evaluate(X_test, y_test, verbose=0, batch_size=batch_size)\n",
    "\n",
    "    evaluation['train'].append(train_evals)\n",
    "    evaluation['test'].append(test_evals)\n",
    "\n",
    "    if layer_size % 6 == 0:\n",
    "        print(f'Size of hide layer: {layer_size}')\n",
    "        print(f'Train Loss: {train_evals[0]:.3f}\\tTrain Accuracy: {train_evals[1]:.3f}')\n",
    "        print(f'Test Loss: {test_evals[0]:.3f}\\tTest Accuracy: {test_evals[1]:.3f}\\n')"
   ],
   "metadata": {
    "collapsed": false,
    "pycharm": {
     "name": "#%%\n"
    }
   }
  },
  {
   "cell_type": "code",
   "execution_count": 18,
   "outputs": [
    {
     "name": "stdout",
     "output_type": "stream",
     "text": [
      "[0, 1, 2, 3, 4, 5, 6, 7, 8, 9, 16, 36, 64, 100, 144, 196, 256, 324]\n"
     ]
    },
    {
     "data": {
      "text/plain": "<Figure size 1000x700 with 2 Axes>",
      "image/png": "[encoded data removed]"
     },
     "metadata": {},
     "output_type": "display_data"
    }
   ],
   "source": [
    "print(layers_size)\n",
    "\n",
    "plt.figure(figsize=(10, 7))\n",
    "\n",
    "plt.subplot(2, 1, 1)\n",
    "plt.plot(layers_size, np.array(evaluation['train'])[:, 0], c='tomato', label=\"loss\")\n",
    "plt.plot(layers_size, np.array(evaluation['train'])[:, 1], c='turquoise', label=\"accuracy\")\n",
    "plt.xlabel(\"neurons\")\n",
    "plt.ylabel(\"loss\")\n",
    "plt.legend()\n",
    "\n",
    "plt.subplot(2, 1, 2)\n",
    "plt.plot(layers_size, np.array(evaluation['test'])[:, 0], c='tomato', label=\"loss\")\n",
    "plt.plot(layers_size, np.array(evaluation['test'])[:, 1], c='turquoise', label=\"accuracy\")\n",
    "plt.xlabel(\"neurons\")\n",
    "plt.ylabel(\"accuracy\")\n",
    "plt.legend()\n",
    "\n",
    "plt.show()"
   ],
   "metadata": {
    "collapsed": false,
    "pycharm": {
     "name": "#%%\n"
    }
   }
  },
  {
   "cell_type": "markdown",
   "source": [
    "#### Number of hidden layers"
   ],
   "metadata": {
    "collapsed": false,
    "pycharm": {
     "name": "#%% md\n"
    }
   }
  },
  {
   "cell_type": "code",
   "execution_count": null,
   "outputs": [],
   "source": [
    "# 600 neurons in all hidden layers\n",
    "loss_accuracy = []\n",
    "\n",
    "for i in range(0, 10):\n",
    "    layers, neurons = i, round(600 / (i+1))\n",
    "\n",
    "    # skeleton\n",
    "    model = Sequential()\n",
    "    model.add(Dense(neurons, input_shape=(layer_size_0,), activation='relu'))\n",
    "    for _ in range(layers):\n",
    "        model.add(Dense(neurons, activation='relu'))\n",
    "    model.add(Dense(10, activation='sigmoid'))\n",
    "\n",
    "    model.compile(\n",
    "        optimizer='adam',\n",
    "        loss='categorical_crossentropy',\n",
    "        metrics='accuracy'\n",
    "    )\n",
    "\n",
    "    # learning\n",
    "    history = model.fit(\n",
    "        X_train, y_train,\n",
    "        batch_size=60,\n",
    "        epochs=10,\n",
    "        verbose=0\n",
    "    )\n",
    "\n",
    "\n",
    "\n",
    "    # clear memory GPU\n",
    "    backend.clear_session()\n",
    "\n",
    "    # loss, metrics\n",
    "    loss, accuracy = model.evaluate(X_test, y_test, verbose=0)\n",
    "\n",
    "    loss_accuracy.append((loss, accuracy))\n",
    "\n",
    "    print(f'number hid den layers: {layers + 1} |\\n'\n",
    "          f'neurons in one layer: {neurons} |\\n'\n",
    "          f'Test Loss: {loss:.3f} | Test Accuracy: {accuracy:.3f}\\n'\n",
    "    )"
   ],
   "metadata": {
    "collapsed": false,
    "pycharm": {
     "name": "#%%\n",
     "is_executing": true
    }
   }
  },
  {
   "cell_type": "code",
   "execution_count": null,
   "outputs": [],
   "source": [
    "\n",
    "batches = [75]\n",
    "\n",
    "for batch in batches:\n",
    "    K.clear_session()  # clear GPU\n",
    "    model = Sequential([\n",
    "        Dense(64, input_shape=(28*28,), activation='relu'),\n",
    "        Dense(25, activation='relu'),\n",
    "        Dense(10, activation='sigmoid')\n",
    "    ])\n",
    "\n",
    "    model.compile(optimizer='adam', loss='categorical_crossentropy', metrics=['accuracy'])\n",
    "\n",
    "    model.fit(X_train, y_train, batch_size=batch, epochs=20, verbose=1)\n",
    "\n",
    "    loss, accuracy = model.evaluate(X_test, y_test, verbose=0)\n",
    "\n",
    "    print(f'epochs: {batch} | Test Loss: {loss:.3f} | Test Accuracy: {accuracy:.3f}')"
   ],
   "metadata": {
    "collapsed": false,
    "pycharm": {
     "name": "#%%\n",
     "is_executing": true
    }
   }
  },
  {
   "cell_type": "code",
   "execution_count": null,
   "outputs": [],
   "source": [],
   "metadata": {
    "collapsed": false,
    "pycharm": {
     "name": "#%%\n",
     "is_executing": true
    }
   }
  }
 ],
 "metadata": {
  "kernelspec": {
   "display_name": "Python 3",
   "language": "python",
   "name": "python3"
  },
  "language_info": {
   "codemirror_mode": {
    "name": "ipython",
    "version": 2
   },
   "file_extension": ".py",
   "mimetype": "text/x-python",
   "name": "python",
   "nbconvert_exporter": "python",
   "pygments_lexer": "ipython2",
   "version": "2.7.6"
  }
 },
 "nbformat": 4,
 "nbformat_minor": 0
}