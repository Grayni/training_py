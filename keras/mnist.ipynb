{
 "cells": [
  {
   "cell_type": "code",
   "execution_count": 1,
   "metadata": {
    "collapsed": true
   },
   "outputs": [],
   "source": [
    "import keras.optimizers\n",
    "import numpy as np\n",
    "import matplotlib.pyplot as plt\n",
    "from keras.datasets import mnist"
   ]
  },
  {
   "cell_type": "code",
   "execution_count": 2,
   "outputs": [
    {
     "name": "stdout",
     "output_type": "stream",
     "text": [
      "(60000, 28, 28) (10000, 28, 28)\n",
      "(60000,)\n"
     ]
    }
   ],
   "source": [
    "# load data\n",
    "(X_train, y_train_labels), (X_test, y_test_labels) = mnist.load_data()\n",
    "\n",
    "print(X_train.shape, X_test.shape)\n",
    "print(y_train_labels.shape)"
   ],
   "metadata": {
    "collapsed": false,
    "pycharm": {
     "name": "#%%\n"
    }
   }
  },
  {
   "cell_type": "code",
   "execution_count": 3,
   "outputs": [
    {
     "name": "stdout",
     "output_type": "stream",
     "text": [
      "Number: 2\n"
     ]
    },
    {
     "data": {
      "text/plain": "<Figure size 640x480 with 1 Axes>",
      "image/png": "[encoded data removed]"
     },
     "metadata": {},
     "output_type": "display_data"
    }
   ],
   "source": [
    "# random number\n",
    "index = np.random.randint(0, X_train.shape[0])\n",
    "plt.imshow(X_train[index], cmap=\"gray\")\n",
    "print(f\"Number: {y_train_labels[index]}\")\n",
    "plt.show()"
   ],
   "metadata": {
    "collapsed": false,
    "pycharm": {
     "name": "#%%\n"
    }
   }
  },
  {
   "cell_type": "code",
   "execution_count": 4,
   "outputs": [
    {
     "data": {
      "text/plain": "784"
     },
     "execution_count": 4,
     "metadata": {},
     "output_type": "execute_result"
    }
   ],
   "source": [
    "28*28"
   ],
   "metadata": {
    "collapsed": false,
    "pycharm": {
     "name": "#%%\n"
    }
   }
  },
  {
   "cell_type": "code",
   "execution_count": 5,
   "outputs": [
    {
     "data": {
      "text/plain": "(0, 255)"
     },
     "execution_count": 5,
     "metadata": {},
     "output_type": "execute_result"
    }
   ],
   "source": [
    "# Normalization\n",
    "X_train.min(), X_train.max()"
   ],
   "metadata": {
    "collapsed": false,
    "pycharm": {
     "name": "#%%\n"
    }
   }
  },
  {
   "cell_type": "code",
   "execution_count": 6,
   "outputs": [
    {
     "name": "stdout",
     "output_type": "stream",
     "text": [
      "(0.0, 1.0)\n",
      "(-1.0, 1.0)\n"
     ]
    }
   ],
   "source": [
    "print((X_train.min()/255.0, X_train.max()/255.0))\n",
    "print((X_train.min()/127.5 - 1.0, X_train.max()/127.5 - 1.0))"
   ],
   "metadata": {
    "collapsed": false,
    "pycharm": {
     "name": "#%%\n"
    }
   }
  },
  {
   "cell_type": "code",
   "execution_count": 7,
   "outputs": [
    {
     "data": {
      "text/plain": "(0.0, 1.0)"
     },
     "execution_count": 7,
     "metadata": {},
     "output_type": "execute_result"
    }
   ],
   "source": [
    "X_train = X_train / 255.0\n",
    "X_test = X_test / 255.0\n",
    "X_train.min(), X_train.max()"
   ],
   "metadata": {
    "collapsed": false,
    "pycharm": {
     "name": "#%%\n"
    }
   }
  },
  {
   "cell_type": "code",
   "execution_count": 8,
   "outputs": [
    {
     "data": {
      "text/plain": "((60000, 784), (10000, 784))"
     },
     "execution_count": 8,
     "metadata": {},
     "output_type": "execute_result"
    }
   ],
   "source": [
    "X_train = X_train.reshape((-1, 28 * 28))\n",
    "X_test = X_test.reshape((-1, 28*28))\n",
    "X_train.shape, X_test.shape  # [rows<images>: 60000, cols<px>:784]]"
   ],
   "metadata": {
    "collapsed": false,
    "pycharm": {
     "name": "#%%\n"
    }
   }
  },
  {
   "cell_type": "code",
   "execution_count": 9,
   "outputs": [],
   "source": [
    "# Create model\n",
    "from keras.layers import Dense\n",
    "from keras.models import Sequential"
   ],
   "metadata": {
    "collapsed": false,
    "pycharm": {
     "name": "#%%\n"
    }
   }
  },
  {
   "cell_type": "code",
   "execution_count": 10,
   "outputs": [
    {
     "name": "stdout",
     "output_type": "stream",
     "text": [
      "Model: \"sequential\"\n",
      "_________________________________________________________________\n",
      " Layer (type)                Output Shape              Param #   \n",
      "=================================================================\n",
      " dense (Dense)               (None, 4)                 16        \n",
      "                                                                 \n",
      " dense_1 (Dense)             (None, 2)                 10        \n",
      "                                                                 \n",
      "=================================================================\n",
      "Total params: 26\n",
      "Trainable params: 26\n",
      "Non-trainable params: 0\n",
      "_________________________________________________________________\n"
     ]
    }
   ],
   "source": [
    "# Example 1\n",
    "model1 = Sequential()\n",
    "\n",
    "# 3 => 4 => 2\n",
    "# input_layer: 3, hide_layer: 4\n",
    "model1.add(Dense(4, input_shape=(3,), activation='relu'))\n",
    "# output_layer: 2\n",
    "model1.add(Dense(2, activation='sigmoid'))\n",
    "\n",
    "model1.summary()"
   ],
   "metadata": {
    "collapsed": false,
    "pycharm": {
     "name": "#%%\n"
    }
   }
  },
  {
   "cell_type": "code",
   "execution_count": 11,
   "outputs": [
    {
     "name": "stdout",
     "output_type": "stream",
     "text": [
      "Model: \"sequential_1\"\n",
      "_________________________________________________________________\n",
      " Layer (type)                Output Shape              Param #   \n",
      "=================================================================\n",
      " dense_2 (Dense)             (None, 5)                 55        \n",
      "                                                                 \n",
      " dense_3 (Dense)             (None, 1)                 6         \n",
      "                                                                 \n",
      "=================================================================\n",
      "Total params: 61\n",
      "Trainable params: 61\n",
      "Non-trainable params: 0\n",
      "_________________________________________________________________\n"
     ]
    }
   ],
   "source": [
    "# Example 2\n",
    "model2 = Sequential()\n",
    "\n",
    "# 10 => 5 => 1\n",
    "model2.add(Dense(5, input_shape=(10,), activation='relu'))\n",
    "model2.add(Dense(1, activation='sigmoid'))\n",
    "\n",
    "model2.summary() # layer_1: 10 * 5 + 5(bias) = 55; layer_2: 5 * 1 + 1(bias) = 6"
   ],
   "metadata": {
    "collapsed": false,
    "pycharm": {
     "name": "#%%\n"
    }
   }
  },
  {
   "cell_type": "code",
   "execution_count": 12,
   "outputs": [
    {
     "data": {
      "text/plain": "2080"
     },
     "execution_count": 12,
     "metadata": {},
     "output_type": "execute_result"
    }
   ],
   "source": [
    "64 * 32 + 32"
   ],
   "metadata": {
    "collapsed": false,
    "pycharm": {
     "name": "#%%\n"
    }
   }
  },
  {
   "cell_type": "code",
   "execution_count": 13,
   "outputs": [
    {
     "name": "stdout",
     "output_type": "stream",
     "text": [
      "Model: \"sequential_2\"\n",
      "_________________________________________________________________\n",
      " Layer (type)                Output Shape              Param #   \n",
      "=================================================================\n",
      " dense_4 (Dense)             (None, 64)                50240     \n",
      "                                                                 \n",
      " dense_5 (Dense)             (None, 32)                2080      \n",
      "                                                                 \n",
      " dense_6 (Dense)             (None, 10)                330       \n",
      "                                                                 \n",
      "=================================================================\n",
      "Total params: 52,650\n",
      "Trainable params: 52,650\n",
      "Non-trainable params: 0\n",
      "_________________________________________________________________\n"
     ]
    }
   ],
   "source": [
    "model3 = Sequential()\n",
    "\n",
    "model3.add(Dense(64, input_shape=(28*28,), activation='relu'))\n",
    "model3.add(Dense(32, activation='relu'))\n",
    "model3.add(Dense(10, activation='sigmoid'))\n",
    "\n",
    "model3.summary()"
   ],
   "metadata": {
    "collapsed": false,
    "pycharm": {
     "name": "#%%\n"
    }
   }
  },
  {
   "cell_type": "code",
   "execution_count": 14,
   "outputs": [
    {
     "name": "stdout",
     "output_type": "stream",
     "text": [
      "Model: \"sequential_3\"\n",
      "_________________________________________________________________\n",
      " Layer (type)                Output Shape              Param #   \n",
      "=================================================================\n",
      " dense_7 (Dense)             (None, 64)                50240     \n",
      "                                                                 \n",
      " dense_8 (Dense)             (None, 32)                2080      \n",
      "                                                                 \n",
      " dense_9 (Dense)             (None, 10)                330       \n",
      "                                                                 \n",
      "=================================================================\n",
      "Total params: 52,650\n",
      "Trainable params: 52,650\n",
      "Non-trainable params: 0\n",
      "_________________________________________________________________\n"
     ]
    }
   ],
   "source": [
    "# is the same\n",
    "model4 = Sequential([\n",
    "    Dense(64, input_shape=(28*28,), activation='relu'),\n",
    "    Dense(32, activation='relu'),\n",
    "    Dense(10, activation=\"sigmoid\")\n",
    "])\n",
    "\n",
    "model4.summary()"
   ],
   "metadata": {
    "collapsed": false,
    "pycharm": {
     "name": "#%%\n"
    }
   }
  },
  {
   "cell_type": "code",
   "execution_count": 15,
   "outputs": [
    {
     "data": {
      "image/png": "[encoded data removed]",
      "text/plain": "<IPython.core.display.Image object>"
     },
     "execution_count": 15,
     "metadata": {},
     "output_type": "execute_result"
    }
   ],
   "source": [
    "from keras.utils.vis_utils import plot_model\n",
    "\n",
    "plot_model(model4)"
   ],
   "metadata": {
    "collapsed": false,
    "pycharm": {
     "name": "#%%\n"
    }
   }
  },
  {
   "cell_type": "code",
   "execution_count": 16,
   "outputs": [
    {
     "data": {
      "text/plain": "{'name': 'sequential_3',\n 'layers': [{'class_name': 'InputLayer',\n   'config': {'batch_input_shape': (None, 784),\n    'dtype': 'float32',\n    'sparse': False,\n    'ragged': False,\n    'name': 'dense_7_input'}},\n  {'class_name': 'Dense',\n   'config': {'name': 'dense_7',\n    'trainable': True,\n    'batch_input_shape': (None, 784),\n    'dtype': 'float32',\n    'units': 64,\n    'activation': 'relu',\n    'use_bias': True,\n    'kernel_initializer': {'class_name': 'GlorotUniform',\n     'config': {'seed': None}},\n    'bias_initializer': {'class_name': 'Zeros', 'config': {}},\n    'kernel_regularizer': None,\n    'bias_regularizer': None,\n    'activity_regularizer': None,\n    'kernel_constraint': None,\n    'bias_constraint': None}},\n  {'class_name': 'Dense',\n   'config': {'name': 'dense_8',\n    'trainable': True,\n    'dtype': 'float32',\n    'units': 32,\n    'activation': 'relu',\n    'use_bias': True,\n    'kernel_initializer': {'class_name': 'GlorotUniform',\n     'config': {'seed': None}},\n    'bias_initializer': {'class_name': 'Zeros', 'config': {}},\n    'kernel_regularizer': None,\n    'bias_regularizer': None,\n    'activity_regularizer': None,\n    'kernel_constraint': None,\n    'bias_constraint': None}},\n  {'class_name': 'Dense',\n   'config': {'name': 'dense_9',\n    'trainable': True,\n    'dtype': 'float32',\n    'units': 10,\n    'activation': 'sigmoid',\n    'use_bias': True,\n    'kernel_initializer': {'class_name': 'GlorotUniform',\n     'config': {'seed': None}},\n    'bias_initializer': {'class_name': 'Zeros', 'config': {}},\n    'kernel_regularizer': None,\n    'bias_regularizer': None,\n    'activity_regularizer': None,\n    'kernel_constraint': None,\n    'bias_constraint': None}}]}"
     },
     "execution_count": 16,
     "metadata": {},
     "output_type": "execute_result"
    }
   ],
   "source": [
    "config = model4.get_config()\n",
    "config"
   ],
   "metadata": {
    "collapsed": false,
    "pycharm": {
     "name": "#%%\n"
    }
   }
  },
  {
   "cell_type": "code",
   "execution_count": 17,
   "outputs": [
    {
     "name": "stdout",
     "output_type": "stream",
     "text": [
      "Model: \"sequential_4\"\n",
      "_________________________________________________________________\n",
      " Layer (type)                Output Shape              Param #   \n",
      "=================================================================\n",
      " dense_10 (Dense)            (None, 6)                 4710      \n",
      "                                                                 \n",
      " dense_11 (Dense)            (None, 1)                 7         \n",
      "                                                                 \n",
      "=================================================================\n",
      "Total params: 4,717\n",
      "Trainable params: 4,717\n",
      "Non-trainable params: 0\n",
      "_________________________________________________________________\n"
     ]
    }
   ],
   "source": [
    "# spoil the model\n",
    "model5 = Sequential([\n",
    "    Dense(6, input_shape=(28*28,), activation='relu'),\n",
    "    Dense(1, activation='sigmoid')\n",
    "])\n",
    "\n",
    "model5.summary()"
   ],
   "metadata": {
    "collapsed": false,
    "pycharm": {
     "name": "#%%\n"
    }
   }
  },
  {
   "cell_type": "code",
   "execution_count": 18,
   "outputs": [
    {
     "name": "stdout",
     "output_type": "stream",
     "text": [
      "Model: \"sequential_3\"\n",
      "_________________________________________________________________\n",
      " Layer (type)                Output Shape              Param #   \n",
      "=================================================================\n",
      " dense_7 (Dense)             (None, 64)                50240     \n",
      "                                                                 \n",
      " dense_8 (Dense)             (None, 32)                2080      \n",
      "                                                                 \n",
      " dense_9 (Dense)             (None, 10)                330       \n",
      "                                                                 \n",
      "=================================================================\n",
      "Total params: 52,650\n",
      "Trainable params: 52,650\n",
      "Non-trainable params: 0\n",
      "_________________________________________________________________\n"
     ]
    }
   ],
   "source": [
    "# load config in model5\n",
    "model5 = model5.from_config(config)\n",
    "\n",
    "model5.summary()"
   ],
   "metadata": {
    "collapsed": false,
    "pycharm": {
     "name": "#%%\n"
    }
   }
  },
  {
   "cell_type": "code",
   "execution_count": 19,
   "outputs": [],
   "source": [
    "# compilation\n",
    "model5.compile(loss='categorical_crossentropy', optimizer='SGD', metrics=['accuracy'])"
   ],
   "metadata": {
    "collapsed": false,
    "pycharm": {
     "name": "#%%\n"
    }
   }
  },
  {
   "cell_type": "code",
   "execution_count": 20,
   "outputs": [
    {
     "data": {
      "text/plain": "array([5, 0, 4, 1, 9], dtype=uint8)"
     },
     "execution_count": 20,
     "metadata": {},
     "output_type": "execute_result"
    }
   ],
   "source": [
    "# data transfer\n",
    "y_train_labels[:5]"
   ],
   "metadata": {
    "collapsed": false,
    "pycharm": {
     "name": "#%%\n"
    }
   }
  },
  {
   "cell_type": "code",
   "execution_count": 21,
   "outputs": [
    {
     "data": {
      "text/plain": "array([[0., 0., 0., 0., 0., 1., 0., 0., 0., 0.],\n       [1., 0., 0., 0., 0., 0., 0., 0., 0., 0.],\n       [0., 0., 0., 0., 1., 0., 0., 0., 0., 0.],\n       [0., 1., 0., 0., 0., 0., 0., 0., 0., 0.],\n       [0., 0., 0., 0., 0., 0., 0., 0., 0., 1.]], dtype=float32)"
     },
     "execution_count": 21,
     "metadata": {},
     "output_type": "execute_result"
    }
   ],
   "source": [
    "from keras.utils.np_utils import to_categorical\n",
    "\n",
    "# one hot\n",
    "y_train = to_categorical(y_train_labels)\n",
    "y_test = to_categorical(y_test_labels)\n",
    "\n",
    "y_train[:5]"
   ],
   "metadata": {
    "collapsed": false,
    "pycharm": {
     "name": "#%%\n"
    }
   }
  },
  {
   "cell_type": "code",
   "execution_count": 22,
   "outputs": [
    {
     "data": {
      "text/plain": "(60000, 784)"
     },
     "execution_count": 22,
     "metadata": {},
     "output_type": "execute_result"
    }
   ],
   "source": [
    "X_train.shape"
   ],
   "metadata": {
    "collapsed": false,
    "pycharm": {
     "name": "#%%\n"
    }
   }
  },
  {
   "cell_type": "code",
   "execution_count": 23,
   "outputs": [
    {
     "data": {
      "text/plain": "60160"
     },
     "execution_count": 23,
     "metadata": {},
     "output_type": "execute_result"
    }
   ],
   "source": [
    "235 * 256"
   ],
   "metadata": {
    "collapsed": false,
    "pycharm": {
     "name": "#%%\n"
    }
   }
  },
  {
   "cell_type": "code",
   "execution_count": 24,
   "outputs": [
    {
     "name": "stdout",
     "output_type": "stream",
     "text": [
      "Epoch 1/5\n",
      "1875/1875 [==============================] - 9s 4ms/step - loss: 0.6656 - accuracy: 0.8222 - val_loss: 0.3267 - val_accuracy: 0.9072\n",
      "Epoch 2/5\n",
      "1875/1875 [==============================] - 8s 4ms/step - loss: 0.3084 - accuracy: 0.9101 - val_loss: 0.2757 - val_accuracy: 0.9233\n",
      "Epoch 3/5\n",
      "1875/1875 [==============================] - 7s 4ms/step - loss: 0.2601 - accuracy: 0.9244 - val_loss: 0.2361 - val_accuracy: 0.9311\n",
      "Epoch 4/5\n",
      "1875/1875 [==============================] - 8s 4ms/step - loss: 0.2285 - accuracy: 0.9335 - val_loss: 0.2060 - val_accuracy: 0.9403\n",
      "Epoch 5/5\n",
      "1875/1875 [==============================] - 8s 4ms/step - loss: 0.2040 - accuracy: 0.9411 - val_loss: 0.1902 - val_accuracy: 0.9439\n"
     ]
    }
   ],
   "source": [
    "# example\n",
    "model = Sequential([\n",
    "    Dense(64, input_shape=(28*28,), activation='relu'),\n",
    "    Dense(32, activation='relu'),\n",
    "    Dense(10, activation=\"sigmoid\")\n",
    "])\n",
    "\n",
    "model.compile(loss='categorical_crossentropy', optimizer='SGD', metrics=['accuracy'])\n",
    "history1 =model.fit(X_train, y_train,\n",
    "                   epochs=5,\n",
    "                   verbose=1,\n",
    "                   validation_data=(X_test, y_test)\n",
    "                   )"
   ],
   "metadata": {
    "collapsed": false,
    "pycharm": {
     "name": "#%%\n"
    }
   }
  },
  {
   "cell_type": "code",
   "execution_count": 25,
   "outputs": [
    {
     "name": "stdout",
     "output_type": "stream",
     "text": [
      "Epoch 1/5\n",
      "48/48 [==============================] - 1s 9ms/step - loss: 0.1900 - accuracy: 0.9449 - val_loss: 0.1742 - val_accuracy: 0.9529\n",
      "Epoch 2/5\n",
      "48/48 [==============================] - 0s 8ms/step - loss: 0.1881 - accuracy: 0.9445 - val_loss: 0.1736 - val_accuracy: 0.9530\n",
      "Epoch 3/5\n",
      "48/48 [==============================] - 0s 8ms/step - loss: 0.1875 - accuracy: 0.9448 - val_loss: 0.1734 - val_accuracy: 0.9526\n",
      "Epoch 4/5\n",
      "48/48 [==============================] - 0s 8ms/step - loss: 0.1868 - accuracy: 0.9448 - val_loss: 0.1731 - val_accuracy: 0.9526\n",
      "Epoch 5/5\n",
      "48/48 [==============================] - 0s 9ms/step - loss: 0.1862 - accuracy: 0.9452 - val_loss: 0.1727 - val_accuracy: 0.9529\n"
     ]
    }
   ],
   "source": [
    "history2 = model.fit(X_train, y_train,\n",
    "                    epochs=5,\n",
    "                    batch_size=1000,\n",
    "                    verbose=1,\n",
    "                    validation_split=0.2)"
   ],
   "metadata": {
    "collapsed": false,
    "pycharm": {
     "name": "#%%\n"
    }
   }
  },
  {
   "cell_type": "code",
   "execution_count": 26,
   "outputs": [
    {
     "data": {
      "text/plain": "{'loss': [0.1900332272052765,\n  0.18811680376529694,\n  0.18746843934059143,\n  0.1868378221988678,\n  0.18620958924293518],\n 'accuracy': [0.944937527179718,\n  0.9445416927337646,\n  0.9447708129882812,\n  0.9448124766349792,\n  0.9452499747276306],\n 'val_loss': [0.17416658997535706,\n  0.17364923655986786,\n  0.17340368032455444,\n  0.1730981469154358,\n  0.17274537682533264],\n 'val_accuracy': [0.95291668176651,\n  0.953000009059906,\n  0.9525833129882812,\n  0.9525833129882812,\n  0.95291668176651]}"
     },
     "execution_count": 26,
     "metadata": {},
     "output_type": "execute_result"
    }
   ],
   "source": [
    "history2.history"
   ],
   "metadata": {
    "collapsed": false,
    "pycharm": {
     "name": "#%%\n"
    }
   }
  },
  {
   "cell_type": "code",
   "execution_count": 27,
   "outputs": [
    {
     "data": {
      "text/plain": "<Figure size 640x480 with 1 Axes>",
      "image/png": "[encoded data removed]"
     },
     "metadata": {},
     "output_type": "display_data"
    }
   ],
   "source": [
    "train_acc = history2.history['accuracy']\n",
    "val_acc = history2.history['val_accuracy']\n",
    "\n",
    "plt.plot(train_acc, label='train')\n",
    "plt.plot(val_acc, label='val')\n",
    "\n",
    "plt.legend()\n",
    "plt.show()"
   ],
   "metadata": {
    "collapsed": false,
    "pycharm": {
     "name": "#%%\n"
    }
   }
  },
  {
   "cell_type": "code",
   "execution_count": 28,
   "outputs": [
    {
     "name": "stdout",
     "output_type": "stream",
     "text": [
      "Epoch 1/5\n",
      "4800/4800 [==============================] - 24s 5ms/step - loss: 0.1867 - accuracy: 0.9445 - val_loss: 0.1594 - val_accuracy: 0.9541\n",
      "Epoch 2/5\n",
      "4800/4800 [==============================] - 24s 5ms/step - loss: 0.1527 - accuracy: 0.9551 - val_loss: 0.1450 - val_accuracy: 0.9602\n",
      "Epoch 3/5\n",
      "4800/4800 [==============================] - 24s 5ms/step - loss: 0.1279 - accuracy: 0.9617 - val_loss: 0.1415 - val_accuracy: 0.9613\n",
      "Epoch 4/5\n",
      "4800/4800 [==============================] - 24s 5ms/step - loss: 0.1118 - accuracy: 0.9671 - val_loss: 0.1206 - val_accuracy: 0.9664\n",
      "Epoch 5/5\n",
      "4800/4800 [==============================] - 24s 5ms/step - loss: 0.0974 - accuracy: 0.9709 - val_loss: 0.1188 - val_accuracy: 0.9681\n"
     ]
    }
   ],
   "source": [
    "history3 = model.fit(X_train, y_train,\n",
    "                    epochs=5,\n",
    "                    batch_size=10,\n",
    "                    verbose=1,\n",
    "                    validation_split=0.2)"
   ],
   "metadata": {
    "collapsed": false,
    "pycharm": {
     "name": "#%%\n"
    }
   }
  },
  {
   "cell_type": "code",
   "execution_count": 29,
   "outputs": [
    {
     "name": "stdout",
     "output_type": "stream",
     "text": [
      "Epoch 1/5\n",
      "480/480 [==============================] - 3s 5ms/step - loss: 0.0778 - accuracy: 0.9782 - val_loss: 0.1068 - val_accuracy: 0.9708\n",
      "Epoch 2/5\n",
      "480/480 [==============================] - 3s 5ms/step - loss: 0.0751 - accuracy: 0.9793 - val_loss: 0.1067 - val_accuracy: 0.9714\n",
      "Epoch 3/5\n",
      "480/480 [==============================] - 2s 5ms/step - loss: 0.0737 - accuracy: 0.9794 - val_loss: 0.1063 - val_accuracy: 0.9711\n",
      "Epoch 4/5\n",
      "480/480 [==============================] - 3s 5ms/step - loss: 0.0727 - accuracy: 0.9800 - val_loss: 0.1061 - val_accuracy: 0.9712\n",
      "Epoch 5/5\n",
      "480/480 [==============================] - 3s 5ms/step - loss: 0.0716 - accuracy: 0.9801 - val_loss: 0.1053 - val_accuracy: 0.9715\n"
     ]
    }
   ],
   "source": [
    "history4 = model.fit(X_train, y_train,\n",
    "                     epochs=5,\n",
    "                     batch_size=100,\n",
    "                     verbose=1,\n",
    "                     validation_split=0.2\n",
    "                     )"
   ],
   "metadata": {
    "collapsed": false,
    "pycharm": {
     "name": "#%%\n"
    }
   }
  },
  {
   "cell_type": "code",
   "execution_count": 30,
   "outputs": [
    {
     "name": "stdout",
     "output_type": "stream",
     "text": [
      "Epoch 1/5\n",
      "100/100 [==============================] - 1s 10ms/step - loss: 0.0724 - accuracy: 0.9797 - val_loss: 0.1061 - val_accuracy: 0.9708\n",
      "Epoch 2/5\n",
      "100/100 [==============================] - 1s 8ms/step - loss: 0.0738 - accuracy: 0.9807 - val_loss: 0.1064 - val_accuracy: 0.9707\n",
      "Epoch 3/5\n",
      "100/100 [==============================] - 1s 8ms/step - loss: 0.0678 - accuracy: 0.9809 - val_loss: 0.1062 - val_accuracy: 0.9712\n",
      "Epoch 4/5\n",
      "100/100 [==============================] - 1s 8ms/step - loss: 0.0710 - accuracy: 0.9795 - val_loss: 0.1049 - val_accuracy: 0.9710\n",
      "Epoch 5/5\n",
      "100/100 [==============================] - 1s 8ms/step - loss: 0.0702 - accuracy: 0.9819 - val_loss: 0.1060 - val_accuracy: 0.9712\n"
     ]
    }
   ],
   "source": [
    "# step_per_epoch\n",
    "\n",
    "history5 = model.fit(X_train, y_train,\n",
    "                     epochs=5,\n",
    "                     batch_size=100,\n",
    "                     steps_per_epoch=100,\n",
    "                     verbose=1,\n",
    "                     validation_split=0.2\n",
    "                     )"
   ],
   "metadata": {
    "collapsed": false,
    "pycharm": {
     "name": "#%%\n"
    }
   }
  },
  {
   "cell_type": "code",
   "execution_count": 31,
   "outputs": [
    {
     "name": "stdout",
     "output_type": "stream",
     "text": [
      "79/79 [==============================] - 0s 4ms/step - loss: 0.0930 - accuracy: 0.9705\n"
     ]
    },
    {
     "data": {
      "text/plain": "(0.09296678006649017, 0.9704999923706055)"
     },
     "execution_count": 31,
     "metadata": {},
     "output_type": "execute_result"
    }
   ],
   "source": [
    "loss, metric = model.evaluate(X_test, y_test, batch_size=128)\n",
    "loss, metric # error, accuracy"
   ],
   "metadata": {
    "collapsed": false,
    "pycharm": {
     "name": "#%%\n"
    }
   }
  },
  {
   "cell_type": "code",
   "execution_count": 32,
   "outputs": [
    {
     "data": {
      "text/plain": "(1, 784)"
     },
     "execution_count": 32,
     "metadata": {},
     "output_type": "execute_result"
    }
   ],
   "source": [
    "X_test[0][None].shape"
   ],
   "metadata": {
    "collapsed": false,
    "pycharm": {
     "name": "#%%\n"
    }
   }
  },
  {
   "cell_type": "code",
   "execution_count": 33,
   "outputs": [
    {
     "name": "stdout",
     "output_type": "stream",
     "text": [
      "1/1 [==============================] - 0s 118ms/step\n"
     ]
    },
    {
     "data": {
      "text/plain": "array([[4.1341075e-01, 1.9172912e-02, 9.6769071e-01, 9.9872053e-01,\n        1.5892258e-05, 8.8255554e-02, 7.9337169e-06, 9.9999142e-01,\n        5.9157515e-01, 7.0758027e-01]], dtype=float32)"
     },
     "execution_count": 33,
     "metadata": {},
     "output_type": "execute_result"
    }
   ],
   "source": [
    "predictions = model.predict(X_test[0][None])\n",
    "predictions"
   ],
   "metadata": {
    "collapsed": false,
    "pycharm": {
     "name": "#%%\n"
    }
   }
  },
  {
   "cell_type": "code",
   "execution_count": 34,
   "outputs": [
    {
     "data": {
      "text/plain": "array([7], dtype=int64)"
     },
     "execution_count": 34,
     "metadata": {},
     "output_type": "execute_result"
    }
   ],
   "source": [
    "pred_labels = np.argmax(predictions, axis=1)\n",
    "pred_labels"
   ],
   "metadata": {
    "collapsed": false,
    "pycharm": {
     "name": "#%%\n"
    }
   }
  },
  {
   "cell_type": "code",
   "execution_count": 35,
   "outputs": [
    {
     "data": {
      "text/plain": "array([7, 2, 1], dtype=uint8)"
     },
     "execution_count": 35,
     "metadata": {},
     "output_type": "execute_result"
    }
   ],
   "source": [
    "y_test_labels[:3]"
   ],
   "metadata": {
    "collapsed": false,
    "pycharm": {
     "name": "#%%\n"
    }
   }
  },
  {
   "cell_type": "code",
   "execution_count": 36,
   "outputs": [],
   "source": [
    "# save weights & model\n",
    "model.save_weights('./samples/model_weights.h5')\n",
    "model.save('./samples/model.h5')"
   ],
   "metadata": {
    "collapsed": false,
    "pycharm": {
     "name": "#%%\n"
    }
   }
  },
  {
   "cell_type": "code",
   "execution_count": 37,
   "outputs": [
    {
     "name": "stdout",
     "output_type": "stream",
     "text": [
      "Model: \"sequential_5\"\n",
      "_________________________________________________________________\n",
      " Layer (type)                Output Shape              Param #   \n",
      "=================================================================\n",
      " dense_12 (Dense)            (None, 64)                50240     \n",
      "                                                                 \n",
      " dense_13 (Dense)            (None, 32)                2080      \n",
      "                                                                 \n",
      " dense_14 (Dense)            (None, 10)                330       \n",
      "                                                                 \n",
      "=================================================================\n",
      "Total params: 52,650\n",
      "Trainable params: 52,650\n",
      "Non-trainable params: 0\n",
      "_________________________________________________________________\n"
     ]
    }
   ],
   "source": [
    "from keras.models import load_model\n",
    "\n",
    "load_model('./samples/model.h5').summary()"
   ],
   "metadata": {
    "collapsed": false,
    "pycharm": {
     "name": "#%%\n"
    }
   }
  },
  {
   "cell_type": "code",
   "execution_count": 38,
   "outputs": [
    {
     "data": {
      "text/plain": "{'name': 'sequential_5',\n 'layers': [{'class_name': 'InputLayer',\n   'config': {'batch_input_shape': (None, 784),\n    'dtype': 'float32',\n    'sparse': False,\n    'ragged': False,\n    'name': 'dense_12_input'}},\n  {'class_name': 'Dense',\n   'config': {'name': 'dense_12',\n    'trainable': True,\n    'batch_input_shape': (None, 784),\n    'dtype': 'float32',\n    'units': 64,\n    'activation': 'relu',\n    'use_bias': True,\n    'kernel_initializer': {'class_name': 'GlorotUniform',\n     'config': {'seed': None}},\n    'bias_initializer': {'class_name': 'Zeros', 'config': {}},\n    'kernel_regularizer': None,\n    'bias_regularizer': None,\n    'activity_regularizer': None,\n    'kernel_constraint': None,\n    'bias_constraint': None}},\n  {'class_name': 'Dense',\n   'config': {'name': 'dense_13',\n    'trainable': True,\n    'dtype': 'float32',\n    'units': 32,\n    'activation': 'relu',\n    'use_bias': True,\n    'kernel_initializer': {'class_name': 'GlorotUniform',\n     'config': {'seed': None}},\n    'bias_initializer': {'class_name': 'Zeros', 'config': {}},\n    'kernel_regularizer': None,\n    'bias_regularizer': None,\n    'activity_regularizer': None,\n    'kernel_constraint': None,\n    'bias_constraint': None}},\n  {'class_name': 'Dense',\n   'config': {'name': 'dense_14',\n    'trainable': True,\n    'dtype': 'float32',\n    'units': 10,\n    'activation': 'sigmoid',\n    'use_bias': True,\n    'kernel_initializer': {'class_name': 'GlorotUniform',\n     'config': {'seed': None}},\n    'bias_initializer': {'class_name': 'Zeros', 'config': {}},\n    'kernel_regularizer': None,\n    'bias_regularizer': None,\n    'activity_regularizer': None,\n    'kernel_constraint': None,\n    'bias_constraint': None}}]}"
     },
     "execution_count": 38,
     "metadata": {},
     "output_type": "execute_result"
    }
   ],
   "source": [
    "config_mnist = model.get_config()\n",
    "config_mnist"
   ],
   "metadata": {
    "collapsed": false,
    "pycharm": {
     "name": "#%%\n"
    }
   }
  },
  {
   "cell_type": "code",
   "execution_count": 39,
   "outputs": [],
   "source": [
    "model5.from_config(config_mnist)\n",
    "model5.load_weights('./samples/model_weights.h5')"
   ],
   "metadata": {
    "collapsed": false,
    "pycharm": {
     "name": "#%%\n"
    }
   }
  },
  {
   "cell_type": "code",
   "execution_count": 40,
   "outputs": [],
   "source": [
    "# optimizers\n",
    "from keras import optimizers"
   ],
   "metadata": {
    "collapsed": false,
    "pycharm": {
     "name": "#%%\n"
    }
   }
  },
  {
   "cell_type": "code",
   "execution_count": 41,
   "outputs": [
    {
     "data": {
      "text/plain": "<keras.optimizers.optimizer_v2.gradient_descent.SGD at 0x1d579c050c0>"
     },
     "execution_count": 41,
     "metadata": {},
     "output_type": "execute_result"
    }
   ],
   "source": [
    "# SGD\n",
    "optimizers.gradient_descent_v2.SGD(learning_rate=0.01, momentum=0.05)"
   ],
   "metadata": {
    "collapsed": false,
    "pycharm": {
     "name": "#%%\n"
    }
   }
  },
  {
   "cell_type": "code",
   "execution_count": 42,
   "outputs": [
    {
     "data": {
      "text/plain": "<keras.optimizers.optimizer_v2.adagrad.Adagrad at 0x1d57667f5e0>"
     },
     "execution_count": 42,
     "metadata": {},
     "output_type": "execute_result"
    }
   ],
   "source": [
    "# Adagrad\n",
    "optimizers.adagrad_v2.Adagrad(learning_rate=0.001, initial_accumulator_value=0.1, epsilon=1e-07)"
   ],
   "metadata": {
    "collapsed": false,
    "pycharm": {
     "name": "#%%\n"
    }
   }
  },
  {
   "cell_type": "code",
   "execution_count": 43,
   "outputs": [
    {
     "data": {
      "text/plain": "<keras.optimizers.optimizer_v2.rmsprop.RMSprop at 0x1d5269b8d00>"
     },
     "execution_count": 43,
     "metadata": {},
     "output_type": "execute_result"
    }
   ],
   "source": [
    "# RMSProp (Leaky Adagrad)\n",
    "optimizers.rmsprop_v2.RMSprop(learning_rate=0.001, rho=0.9, epsilon=1e-07)"
   ],
   "metadata": {
    "collapsed": false,
    "pycharm": {
     "name": "#%%\n"
    }
   }
  },
  {
   "cell_type": "code",
   "execution_count": 44,
   "outputs": [
    {
     "data": {
      "text/plain": "<keras.optimizers.optimizer_v2.adam.Adam at 0x1d57667d2d0>"
     },
     "execution_count": 44,
     "metadata": {},
     "output_type": "execute_result"
    }
   ],
   "source": [
    "# Adam\n",
    "optimizers.adam_v2.Adam(learning_rate=0.001, beta_1=0.9, beta_2=0.999, epsilon=1e-07)"
   ],
   "metadata": {
    "collapsed": false,
    "pycharm": {
     "name": "#%%\n"
    }
   }
  },
  {
   "cell_type": "code",
   "execution_count": 45,
   "outputs": [],
   "source": [
    "# experiments\n",
    "model = Sequential([\n",
    "    Dense(64, input_shape=(28*28,), activation='relu'),\n",
    "    Dense(32, activation='relu'),\n",
    "    Dense(10, activation='sigmoid')\n",
    "])\n",
    "\n",
    "model.save_weights('./samples/experimental_weights.h5')"
   ],
   "metadata": {
    "collapsed": false,
    "pycharm": {
     "name": "#%%\n"
    }
   }
  },
  {
   "cell_type": "code",
   "execution_count": 46,
   "outputs": [
    {
     "name": "stdout",
     "output_type": "stream",
     "text": [
      "Epoch 1/4\n",
      "1875/1875 [==============================] - 8s 4ms/step - loss: 0.6605 - accuracy: 0.8253 - val_loss: 0.3297 - val_accuracy: 0.9071\n",
      "Epoch 2/4\n",
      "1875/1875 [==============================] - 8s 4ms/step - loss: 0.3116 - accuracy: 0.9102 - val_loss: 0.2670 - val_accuracy: 0.9254\n",
      "Epoch 3/4\n",
      "1875/1875 [==============================] - 7s 4ms/step - loss: 0.2591 - accuracy: 0.9255 - val_loss: 0.2343 - val_accuracy: 0.9336\n",
      "Epoch 4/4\n",
      "1875/1875 [==============================] - 7s 4ms/step - loss: 0.2264 - accuracy: 0.9355 - val_loss: 0.2060 - val_accuracy: 0.9413\n",
      "====================\n",
      "Epoch 1/4\n",
      "1875/1875 [==============================] - 8s 4ms/step - loss: 1.3893 - accuracy: 0.6619 - val_loss: 0.8392 - val_accuracy: 0.8282\n",
      "Epoch 2/4\n",
      "1875/1875 [==============================] - 7s 4ms/step - loss: 0.6964 - accuracy: 0.8440 - val_loss: 0.5753 - val_accuracy: 0.8693\n",
      "Epoch 3/4\n",
      "1875/1875 [==============================] - 8s 4ms/step - loss: 0.5386 - accuracy: 0.8698 - val_loss: 0.4800 - val_accuracy: 0.8845\n",
      "Epoch 4/4\n",
      "1875/1875 [==============================] - 7s 4ms/step - loss: 0.4699 - accuracy: 0.8812 - val_loss: 0.4304 - val_accuracy: 0.8922\n",
      "====================\n",
      "Epoch 1/4\n",
      "1875/1875 [==============================] - 11s 6ms/step - loss: 0.2964 - accuracy: 0.9140 - val_loss: 0.1599 - val_accuracy: 0.9526\n",
      "Epoch 2/4\n",
      "1875/1875 [==============================] - 10s 5ms/step - loss: 0.1411 - accuracy: 0.9577 - val_loss: 0.1345 - val_accuracy: 0.9630\n",
      "Epoch 3/4\n",
      "1875/1875 [==============================] - 10s 5ms/step - loss: 0.1060 - accuracy: 0.9680 - val_loss: 0.1220 - val_accuracy: 0.9651\n",
      "Epoch 4/4\n",
      "1875/1875 [==============================] - 10s 5ms/step - loss: 0.0878 - accuracy: 0.9748 - val_loss: 0.1138 - val_accuracy: 0.9690\n",
      "====================\n",
      "Epoch 1/4\n",
      "1875/1875 [==============================] - 8s 4ms/step - loss: 0.2978 - accuracy: 0.9141 - val_loss: 0.1623 - val_accuracy: 0.9536\n",
      "Epoch 2/4\n",
      "1875/1875 [==============================] - 8s 4ms/step - loss: 0.1383 - accuracy: 0.9584 - val_loss: 0.1254 - val_accuracy: 0.9619\n",
      "Epoch 3/4\n",
      "1875/1875 [==============================] - 7s 4ms/step - loss: 0.1019 - accuracy: 0.9693 - val_loss: 0.1054 - val_accuracy: 0.9685\n",
      "Epoch 4/4\n",
      "1875/1875 [==============================] - 7s 4ms/step - loss: 0.0797 - accuracy: 0.9753 - val_loss: 0.0988 - val_accuracy: 0.9714\n",
      "====================\n"
     ]
    },
    {
     "data": {
      "text/plain": "<Figure size 1600x700 with 1 Axes>",
      "image/png": "[encoded data removed]"
     },
     "metadata": {},
     "output_type": "display_data"
    },
    {
     "name": "stdout",
     "output_type": "stream",
     "text": [
      "CPU times: total: 3min 6s\n",
      "Wall time: 2min 38s\n"
     ]
    }
   ],
   "source": [
    "%%time\n",
    "\n",
    "models = {}\n",
    "\n",
    "plt.figure(figsize=(16, 7))\n",
    "colors = ['g', 'b', 'r', 'y']\n",
    "\n",
    "num_epochs = 4\n",
    "batch_size = 32\n",
    "\n",
    "epoch = np.arange(num_epochs+1)\n",
    "\n",
    "for i, i_optim in enumerate([optimizers.gradient_descent_v2.SGD(),\n",
    "                             optimizers.adagrad_v2.Adagrad(),\n",
    "                             optimizers.rmsprop_v2.RMSProp(),\n",
    "                             optimizers.adam_v2.Adam()\n",
    "                            ]):\n",
    "    model_i = Sequential([\n",
    "        Dense(64, input_shape=(28*28,), activation='relu'),\n",
    "        Dense(32, activation='relu'),\n",
    "        Dense(10, activation='sigmoid')\n",
    "    ])\n",
    "\n",
    "    model_i.load_weights('./samples/experimental_weights.h5')\n",
    "\n",
    "    model_i.compile(\n",
    "        optimizer=i_optim,\n",
    "        loss='categorical_crossentropy',\n",
    "        metrics='accuracy'\n",
    "    )\n",
    "\n",
    "    h0_train = model_i.evaluate(X_train, y_train, verbose=0)\n",
    "    h0_val = model_i.evaluate(X_test, y_test, verbose=0)\n",
    "\n",
    "    h = model_i.fit(X_train, y_train,\n",
    "                    epochs=num_epochs,\n",
    "                    batch_size=batch_size,\n",
    "                    validation_data=(X_test, y_test),\n",
    "                    verbose=1)\n",
    "\n",
    "    models[i_optim.get_config()['name']] = model_i\n",
    "\n",
    "    plt.plot(epoch, np.log([h0_train[0]] + h.history['loss']), '-', c=colors[i],\n",
    "             label=model_i.optimizer.get_config()['name'] + ' train')\n",
    "\n",
    "    plt.plot(epoch, np.log([h0_val[0]] + h.history['val_loss']), '--', c=colors[i],\n",
    "             label=model_i.optimizer.get_config()['name'] + ' val')\n",
    "\n",
    "    print('=' * 20)\n",
    "\n",
    "plt.legend()\n",
    "plt.title('NN with log(loss)')\n",
    "plt.xlabel('epochs')\n",
    "plt.ylabel('log(loss)')\n",
    "plt.show()"
   ],
   "metadata": {
    "collapsed": false,
    "pycharm": {
     "name": "#%%\n"
    }
   }
  },
  {
   "cell_type": "code",
   "execution_count": 47,
   "outputs": [],
   "source": [
    "model_i = models['Adam']"
   ],
   "metadata": {
    "collapsed": false,
    "pycharm": {
     "name": "#%%\n"
    }
   }
  },
  {
   "cell_type": "code",
   "execution_count": 48,
   "outputs": [
    {
     "data": {
      "text/plain": "{'name': 'Adam',\n 'learning_rate': 0.001,\n 'decay': 0.0,\n 'beta_1': 0.9,\n 'beta_2': 0.999,\n 'epsilon': 1e-07,\n 'amsgrad': False}"
     },
     "execution_count": 48,
     "metadata": {},
     "output_type": "execute_result"
    }
   ],
   "source": [
    "model_i.optimizer.get_config()"
   ],
   "metadata": {
    "collapsed": false,
    "pycharm": {
     "name": "#%%\n"
    }
   }
  },
  {
   "cell_type": "code",
   "execution_count": 49,
   "outputs": [
    {
     "name": "stdout",
     "output_type": "stream",
     "text": [
      "1/1 [==============================] - 0s 97ms/step\n"
     ]
    },
    {
     "data": {
      "text/plain": "<Figure size 1500x500 with 5 Axes>",
      "image/png": "[encoded data removed]"
     },
     "metadata": {},
     "output_type": "display_data"
    }
   ],
   "source": [
    "N = 5\n",
    "y_pred = model_i.predict(X_test[:N, :])\n",
    "y_pred_class = np.argmax(y_pred, axis=1)\n",
    "plt.figure(figsize=(3 * N, 5))\n",
    "\n",
    "for i in range(N):\n",
    "    plt.subplot(1, N, i+1)\n",
    "    plt.imshow(X_test[i, :].reshape(28, 28))\n",
    "    plt.xlabel(str(y_pred_class[i]))\n",
    "plt.show()"
   ],
   "metadata": {
    "collapsed": false,
    "pycharm": {
     "name": "#%%\n"
    }
   }
  },
  {
   "cell_type": "code",
   "execution_count": 50,
   "outputs": [],
   "source": [
    "# Callbacks\n",
    "from keras import callbacks"
   ],
   "metadata": {
    "collapsed": false,
    "pycharm": {
     "name": "#%%\n"
    }
   }
  },
  {
   "cell_type": "code",
   "execution_count": 53,
   "outputs": [
    {
     "name": "stdout",
     "output_type": "stream",
     "text": [
      "WARNING:tensorflow:`period` argument is deprecated. Please use `save_freq` to specify the frequency in number of batches seen.\n",
      "Epoch 1/4\n",
      " 9/10 [==========================>...] - ETA: 0s - loss: 0.2940 - accuracy: 0.9164\n",
      "Epoch 1: val_loss improved from inf to 0.27346, saving model to model_best_1\n",
      "INFO:tensorflow:Assets written to: model_best_1\\assets\n",
      "10/10 [==============================] - 2s 156ms/step - loss: 0.2920 - accuracy: 0.9175 - val_loss: 0.2735 - val_accuracy: 0.9238\n",
      "Epoch 2/4\n",
      " 9/10 [==========================>...] - ETA: 0s - loss: 0.2697 - accuracy: 0.9244\n",
      "Epoch 2: val_loss improved from 0.27346 to 0.25792, saving model to model_best_2\n",
      "INFO:tensorflow:Assets written to: model_best_2\\assets\n",
      "10/10 [==============================] - 2s 166ms/step - loss: 0.2698 - accuracy: 0.9245 - val_loss: 0.2579 - val_accuracy: 0.9279\n",
      "Epoch 3/4\n",
      " 9/10 [==========================>...] - ETA: 0s - loss: 0.2537 - accuracy: 0.9284\n",
      "Epoch 3: val_loss improved from 0.25792 to 0.24318, saving model to model_best_3\n",
      "INFO:tensorflow:Assets written to: model_best_3\\assets\n",
      "10/10 [==============================] - 1s 136ms/step - loss: 0.2522 - accuracy: 0.9286 - val_loss: 0.2432 - val_accuracy: 0.9304\n",
      "Epoch 4/4\n",
      "10/10 [==============================] - ETA: 0s - loss: 0.2378 - accuracy: 0.9329\n",
      "Epoch 4: val_loss improved from 0.24318 to 0.23042, saving model to model_best_4\n",
      "INFO:tensorflow:Assets written to: model_best_4\\assets\n",
      "10/10 [==============================] - 1s 150ms/step - loss: 0.2378 - accuracy: 0.9329 - val_loss: 0.2304 - val_accuracy: 0.9331\n"
     ]
    },
    {
     "data": {
      "text/plain": "<keras.callbacks.History at 0x1d6349e2b60>"
     },
     "execution_count": 53,
     "metadata": {},
     "output_type": "execute_result"
    }
   ],
   "source": [
    "# ModelCheckPoint\n",
    "model_checkpoint = callbacks.ModelCheckpoint(filepath='model_best_{epoch}',\n",
    "                                             monitor='val_loss',\n",
    "                                             verbose=1,\n",
    "                                             save_best_only=True,\n",
    "                                             save_weights_only=False,\n",
    "                                             mode='auto',\n",
    "                                             period=1\n",
    "                                             )\n",
    "model.compile(optimizer=optimizers.adam_v2.Adam(learning_rate=0.001),\n",
    "              loss='categorical_crossentropy',\n",
    "              metrics=['accuracy'])\n",
    "\n",
    "model.fit(X_train, y_train,\n",
    "          epochs=num_epochs,\n",
    "          steps_per_epoch=10,\n",
    "          validation_data=(X_test, y_test),\n",
    "          verbose=1,\n",
    "          callbacks=[model_checkpoint])"
   ],
   "metadata": {
    "collapsed": false,
    "pycharm": {
     "name": "#%%\n"
    }
   }
  },
  {
   "cell_type": "code",
   "execution_count": 55,
   "outputs": [
    {
     "name": "stdout",
     "output_type": "stream",
     "text": [
      "Epoch 1/4\n",
      "100/100 [==============================] - 1s 12ms/step - loss: 0.2117 - accuracy: 0.9396 - val_loss: 0.1855 - val_accuracy: 0.9464\n",
      "Epoch 2/4\n",
      "100/100 [==============================] - 1s 11ms/step - loss: 0.1733 - accuracy: 0.9509 - val_loss: 0.1648 - val_accuracy: 0.9524\n",
      "Epoch 3/4\n",
      "100/100 [==============================] - 1s 13ms/step - loss: 0.1505 - accuracy: 0.9570 - val_loss: 0.1478 - val_accuracy: 0.9580\n",
      "Epoch 4/4\n",
      "100/100 [==============================] - 1s 12ms/step - loss: 0.1324 - accuracy: 0.9617 - val_loss: 0.1381 - val_accuracy: 0.9605\n"
     ]
    },
    {
     "data": {
      "text/plain": "<keras.callbacks.History at 0x1d576526200>"
     },
     "execution_count": 55,
     "metadata": {},
     "output_type": "execute_result"
    }
   ],
   "source": [
    "# EarlyStopping\n",
    "early_stop = callbacks.EarlyStopping(monitor='loss',\n",
    "                                     min_delta=0,\n",
    "                                     patience=5,\n",
    "                                     verbose=1,\n",
    "                                     mode='auto',\n",
    "                                     baseline=0.006,\n",
    "                                     restore_best_weights=False\n",
    "                                     )\n",
    "\n",
    "model.fit(X_train, y_train,\n",
    "          verbose=1,\n",
    "          epochs=num_epochs,\n",
    "          steps_per_epoch=100,\n",
    "          validation_data=(X_test, y_test),\n",
    "          callbacks=[early_stop])"
   ],
   "metadata": {
    "collapsed": false,
    "pycharm": {
     "name": "#%%\n"
    }
   }
  },
  {
   "cell_type": "code",
   "execution_count": 56,
   "outputs": [
    {
     "name": "stdout",
     "output_type": "stream",
     "text": [
      "Epoch 1/4\n",
      "100/100 [==============================] - 1s 12ms/step - loss: 0.1172 - accuracy: 0.9663 - val_loss: 0.1279 - val_accuracy: 0.9635 - lr: 0.0010\n",
      "Epoch 2/4\n",
      "100/100 [==============================] - 1s 11ms/step - loss: 0.1068 - accuracy: 0.9693 - val_loss: 0.1240 - val_accuracy: 0.9650 - lr: 0.0010\n",
      "Epoch 3/4\n",
      "100/100 [==============================] - 1s 11ms/step - loss: 0.0978 - accuracy: 0.9720 - val_loss: 0.1154 - val_accuracy: 0.9671 - lr: 0.0010\n",
      "Epoch 4/4\n",
      " 98/100 [============================>.] - ETA: 0s - loss: 0.0893 - accuracy: 0.9745\n",
      "Epoch 4: ReduceLROnPlateau reducing learning rate to 0.00010000000474974513.\n",
      "100/100 [==============================] - 2s 18ms/step - loss: 0.0893 - accuracy: 0.9744 - val_loss: 0.1127 - val_accuracy: 0.9672 - lr: 0.0010\n"
     ]
    },
    {
     "data": {
      "text/plain": "<keras.callbacks.History at 0x1d62ff4f610>"
     },
     "execution_count": 56,
     "metadata": {},
     "output_type": "execute_result"
    }
   ],
   "source": [
    "# ReduceLROnPlateau\n",
    "reduce_rl = callbacks.ReduceLROnPlateau(monitor='val_accuracy',\n",
    "                                        factor=0.1,\n",
    "                                        patience=0,\n",
    "                                        verbose=1,\n",
    "                                        mode='auto',\n",
    "                                        min_delta=0.001,\n",
    "                                        cooldown=0,\n",
    "                                        min_lr=1e-10)\n",
    "\n",
    "model.fit(X_train, y_train,\n",
    "          verbose=1,\n",
    "          epochs=num_epochs,\n",
    "          steps_per_epoch=100,\n",
    "          validation_data=(X_test, y_test),\n",
    "          callbacks=[reduce_rl]\n",
    "          )"
   ],
   "metadata": {
    "collapsed": false,
    "pycharm": {
     "name": "#%%\n"
    }
   }
  },
  {
   "cell_type": "code",
   "execution_count": null,
   "outputs": [],
   "source": [],
   "metadata": {
    "collapsed": false,
    "pycharm": {
     "name": "#%%\n"
    }
   }
  }
 ],
 "metadata": {
  "kernelspec": {
   "display_name": "Python 3",
   "language": "python",
   "name": "python3"
  },
  "language_info": {
   "codemirror_mode": {
    "name": "ipython",
    "version": 2
   },
   "file_extension": ".py",
   "mimetype": "text/x-python",
   "name": "python",
   "nbconvert_exporter": "python",
   "pygments_lexer": "ipython2",
   "version": "2.7.6"
  }
 },
 "nbformat": 4,
 "nbformat_minor": 0
}