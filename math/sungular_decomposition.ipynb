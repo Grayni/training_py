{
 "cells": [
  {
   "cell_type": "markdown",
   "source": [
    "#### SVD"
   ],
   "metadata": {
    "collapsed": false,
    "pycharm": {
     "name": "#%% md\n"
    }
   }
  },
  {
   "cell_type": "code",
   "execution_count": 1,
   "outputs": [],
   "source": [
    "import numpy as np"
   ],
   "metadata": {
    "collapsed": false,
    "pycharm": {
     "name": "#%%\n"
    }
   }
  },
  {
   "cell_type": "code",
   "execution_count": 2,
   "outputs": [],
   "source": [
    "matrix = np.array([[1, 2, 0],\n",
    "                   [0, 0, 5],\n",
    "                   [3, -4, 2],\n",
    "                   [1, 6, 5],\n",
    "                   [0, 1, 0]])"
   ],
   "metadata": {
    "collapsed": false,
    "pycharm": {
     "name": "#%%\n"
    }
   }
  },
  {
   "cell_type": "code",
   "execution_count": 7,
   "outputs": [],
   "source": [
    "U, S, VT = np.linalg.svd(matrix, full_matrices=False)"
   ],
   "metadata": {
    "collapsed": false,
    "pycharm": {
     "name": "#%%\n"
    }
   }
  },
  {
   "cell_type": "code",
   "execution_count": 8,
   "outputs": [
    {
     "name": "stdout",
     "output_type": "stream",
     "text": [
      "Матрица U:\n",
      "[[ 0.17056501  0.15680918 -0.53077508]\n",
      " [ 0.39287016 -0.52933945  0.6134793 ]\n",
      " [-0.14366152 -0.82449256 -0.52379105]\n",
      " [ 0.88843702  0.06074346 -0.24655277]\n",
      " [ 0.08125046  0.10831843 -0.08231425]]\n",
      "\n",
      "Сингулярные значения S:\n",
      "[[8.82486885 0.         0.        ]\n",
      " [0.         6.14060608 0.        ]\n",
      " [0.         0.         2.53271528]]\n",
      "\n",
      "Транспонированная матрица VT:\n",
      "[[ 0.07116451  0.71702467  0.69340553]\n",
      " [-0.36737824  0.66514082 -0.65009301]\n",
      " [-0.92734505 -0.20847855  0.31075368]]\n"
     ]
    }
   ],
   "source": [
    "print(\"Матрица U:\")\n",
    "print(U)\n",
    "print(\"\\nСингулярные значения S:\")\n",
    "print(np.diag(S))\n",
    "print(\"\\nТранспонированная матрица VT:\")\n",
    "print(VT)"
   ],
   "metadata": {
    "collapsed": false,
    "pycharm": {
     "name": "#%%\n"
    }
   }
  },
  {
   "cell_type": "code",
   "execution_count": 9,
   "outputs": [
    {
     "name": "stdout",
     "output_type": "stream",
     "text": [
      "\n",
      "Восстановленная матрица:\n",
      "[[ 1.00000000e+00  2.00000000e+00  5.65636386e-16]\n",
      " [-4.73124203e-16 -1.74120585e-15  5.00000000e+00]\n",
      " [ 3.00000000e+00 -4.00000000e+00  2.00000000e+00]\n",
      " [ 1.00000000e+00  6.00000000e+00  5.00000000e+00]\n",
      " [ 5.80854123e-17  1.00000000e+00 -7.94730681e-17]]\n"
     ]
    }
   ],
   "source": [
    "reconstructed_matrix = U @ np.diag(S) @ VT\n",
    "print(\"\\nВосстановленная матрица:\")\n",
    "print(reconstructed_matrix)"
   ],
   "metadata": {
    "collapsed": false,
    "pycharm": {
     "name": "#%%\n"
    }
   }
  },
  {
   "cell_type": "code",
   "execution_count": 11,
   "outputs": [
    {
     "name": "stdout",
     "output_type": "stream",
     "text": [
      "\n",
      "Восстановленная матрица:\n",
      "[[ 1.00000000e+00  2.00000000e+00  5.36411240e-16]\n",
      " [-5.44008204e-16 -1.60096537e-15  5.00000000e+00]\n",
      " [ 3.00000000e+00 -4.00000000e+00  2.00000000e+00]\n",
      " [ 1.00000000e+00  6.00000000e+00  5.00000000e+00]\n",
      " [ 4.68416322e-17  1.00000000e+00 -9.41139080e-17]]\n"
     ]
    }
   ],
   "source": [
    "Sigma = np.diag(S)\n",
    "\n",
    "reconstructed_matrix = np.dot(U, np.dot(Sigma, VT))\n",
    "print(\"\\nВосстановленная матрица:\")\n",
    "print(reconstructed_matrix)"
   ],
   "metadata": {
    "collapsed": false,
    "pycharm": {
     "name": "#%%\n"
    }
   }
  },
  {
   "cell_type": "markdown",
   "source": [
    "#### Euclidean norm"
   ],
   "metadata": {
    "collapsed": false,
    "pycharm": {
     "name": "#%% md\n"
    }
   }
  },
  {
   "cell_type": "code",
   "execution_count": 15,
   "outputs": [
    {
     "data": {
      "text/plain": "8.824868854820444"
     },
     "execution_count": 15,
     "metadata": {},
     "output_type": "execute_result"
    }
   ],
   "source": [
    "euclidean_norm = np.linalg.norm(matrix, ord=2)\n",
    "euclidean_norm"
   ],
   "metadata": {
    "collapsed": false,
    "pycharm": {
     "name": "#%%\n"
    }
   }
  },
  {
   "cell_type": "code",
   "execution_count": 16,
   "outputs": [
    {
     "data": {
      "text/plain": "8.824868854820442"
     },
     "execution_count": 16,
     "metadata": {},
     "output_type": "execute_result"
    }
   ],
   "source": [
    "S[0]"
   ],
   "metadata": {
    "collapsed": false,
    "pycharm": {
     "name": "#%%\n"
    }
   }
  },
  {
   "cell_type": "markdown",
   "source": [
    "#### Frobenius norm"
   ],
   "metadata": {
    "collapsed": false,
    "pycharm": {
     "name": "#%% md\n"
    }
   }
  },
  {
   "cell_type": "code",
   "execution_count": 18,
   "outputs": [
    {
     "data": {
      "text/plain": "11.045361017187261"
     },
     "execution_count": 18,
     "metadata": {},
     "output_type": "execute_result"
    }
   ],
   "source": [
    "frobenius_norm = np.linalg.norm(matrix, 'fro')\n",
    "frobenius_norm"
   ],
   "metadata": {
    "collapsed": false,
    "pycharm": {
     "name": "#%%\n"
    }
   }
  },
  {
   "cell_type": "code",
   "execution_count": null,
   "outputs": [],
   "source": [],
   "metadata": {
    "collapsed": false,
    "pycharm": {
     "name": "#%%\n"
    }
   }
  }
 ],
 "metadata": {
  "kernelspec": {
   "display_name": "Python 3",
   "language": "python",
   "name": "python3"
  },
  "language_info": {
   "codemirror_mode": {
    "name": "ipython",
    "version": 2
   },
   "file_extension": ".py",
   "mimetype": "text/x-python",
   "name": "python",
   "nbconvert_exporter": "python",
   "pygments_lexer": "ipython2",
   "version": "2.7.6"
  }
 },
 "nbformat": 4,
 "nbformat_minor": 0
}