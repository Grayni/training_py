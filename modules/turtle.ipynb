{
 "cells": [
  {
   "cell_type": "code",
   "execution_count": 4,
   "id": "2ba38061",
   "metadata": {},
   "outputs": [],
   "source": [
    "import turtle"
   ]
  },
  {
   "cell_type": "markdown",
   "id": "160dca7f",
   "metadata": {},
   "source": [
    "#### koch snowflake"
   ]
  },
  {
   "cell_type": "code",
   "execution_count": 5,
   "id": "f9fa1062",
   "metadata": {},
   "outputs": [],
   "source": [
    "axiom = \"F--F--F\"\n",
    "rules = {\"F\":\"F+F--F+F\"}\n",
    "iterations = 4 # TOP: 7\n",
    "angle = 60"
   ]
  },
  {
   "cell_type": "markdown",
   "id": "0371df8b",
   "metadata": {},
   "source": [
    "#### Square Koh Island"
   ]
  },
  {
   "cell_type": "code",
   "execution_count": 6,
   "id": "9904296c",
   "metadata": {},
   "outputs": [],
   "source": [
    "axiom = \"F+F+F+F\"\n",
    "rules = {\"F\":\"F-F+F+FFF-F-F+F\"}\n",
    "iterations = 2 # TOP: 4\n",
    "angle = 90"
   ]
  },
  {
   "cell_type": "markdown",
   "id": "364c74c3",
   "metadata": {},
   "source": [
    "#### Crystal"
   ]
  },
  {
   "cell_type": "code",
   "execution_count": 7,
   "id": "326d5dbc",
   "metadata": {},
   "outputs": [],
   "source": [
    "axiom = \"F+F+F+F\"\n",
    "rules = {\"F\":\"FF+F++F+F\"}\n",
    "iterations = 3 # TOP: 6\n",
    "angle = 90"
   ]
  },
  {
   "cell_type": "markdown",
   "id": "345540ad",
   "metadata": {},
   "source": [
    "#### Square Snowflake"
   ]
  },
  {
   "cell_type": "code",
   "execution_count": 8,
   "id": "b96fa1e5",
   "metadata": {},
   "outputs": [],
   "source": [
    "axiom = \"F--F\"\n",
    "rules = {\"F\":\"F-F+F+F-F\"}\n",
    "iterations = 4 # TOP: 6\n",
    "angle = 90"
   ]
  },
  {
   "cell_type": "markdown",
   "id": "ee21dc10",
   "metadata": {},
   "source": [
    "#### The Viček Fractal"
   ]
  },
  {
   "cell_type": "code",
   "execution_count": 9,
   "id": "a0625911",
   "metadata": {},
   "outputs": [],
   "source": [
    "axiom = \"F-F-F-F\"\n",
    "rules = {\"F\":\"F-F+F+F-F\"}\n",
    "iterations = 4 # TOP: 6\n",
    "angle = 90"
   ]
  },
  {
   "cell_type": "markdown",
   "id": "ba80b721",
   "metadata": {},
   "source": [
    "#### Levy Curve"
   ]
  },
  {
   "cell_type": "code",
   "execution_count": 10,
   "id": "221f9b92",
   "metadata": {},
   "outputs": [],
   "source": [
    "axiom = \"F\"\n",
    "rules = {\"F\":\"+F--F+\"}\n",
    "iterations = 10 # TOP: 16\n",
    "angle = 45"
   ]
  },
  {
   "cell_type": "markdown",
   "id": "30ed1d5d",
   "metadata": {},
   "source": [
    "#### Serpinsky Carpet"
   ]
  },
  {
   "cell_type": "code",
   "execution_count": 11,
   "id": "f1458fc5",
   "metadata": {},
   "outputs": [],
   "source": [
    "axiom = \"YF\"\n",
    "rules = {\"X\":\"YF+XF+Y\", \"Y\":\"XF-YF-X\"}\n",
    "iterations = 1 # TOP: 10\n",
    "angle = 60"
   ]
  },
  {
   "cell_type": "markdown",
   "id": "15bbcc66",
   "metadata": {},
   "source": [
    "#### Serpinsky Grid"
   ]
  },
  {
   "cell_type": "code",
   "execution_count": 12,
   "id": "1d03b674",
   "metadata": {},
   "outputs": [],
   "source": [
    "axiom = \"FXF--FF--FF\"\n",
    "rules = {\"F\":\"FF\", \"X\":\"--FXF++FXF++FXF--\"}\n",
    "iterations = 7 # TOP: 8\n",
    "angle = 60"
   ]
  },
  {
   "cell_type": "markdown",
   "id": "a7a06f65",
   "metadata": {},
   "source": [
    "#### Square"
   ]
  },
  {
   "cell_type": "code",
   "execution_count": 22,
   "id": "5d581f31",
   "metadata": {},
   "outputs": [],
   "source": [
    "axiom = \"F+F+F+F\"\n",
    "rules = {\"F\":\"FF+F+F+F+FF\"}\n",
    "iterations = 3 # TOP: 5\n",
    "angle = 90"
   ]
  },
  {
   "cell_type": "code",
   "execution_count": 23,
   "id": "c1650daf",
   "metadata": {},
   "outputs": [],
   "source": [
    "def create_l_system(iters, axiom, rules):\n",
    "    start_string = axiom\n",
    "    if iters == 0:\n",
    "        return axiom\n",
    "    end_string = ''\n",
    "    for _ in range(iters):\n",
    "        end_string = ''.join(rules[i] if i in rules else i for i in start_string)\n",
    "        start_string = end_string\n",
    "        \n",
    "    return end_string"
   ]
  },
  {
   "cell_type": "code",
   "execution_count": 20,
   "id": "12dfc286",
   "metadata": {},
   "outputs": [],
   "source": [
    "def draw_l_system(t, instructions, angle, distance):\n",
    "    for cmd in instructions:\n",
    "        if cmd == 'F':\n",
    "            t.forward(distance)\n",
    "        elif cmd == '+':\n",
    "            t.right(angle)\n",
    "        elif cmd == '-':\n",
    "            t.left(angle)"
   ]
  },
  {
   "cell_type": "code",
   "execution_count": 21,
   "id": "4ee69b7b",
   "metadata": {},
   "outputs": [],
   "source": [
    "def main(iterations, axiom, rules, angle, length=8, size=2, y_offset=0, x_offset=0, offset_angle=0, width=450, height=450):\n",
    "    inst = create_l_system(iterations, axiom, rules)\n",
    "    t = turtle.Turtle()\n",
    "    wn = turtle.Screen()\n",
    "    wn.setup(width, height)\n",
    "    \n",
    "    t.up()\n",
    "    t.backward(-x_offset)\n",
    "    t.left(90)\n",
    "    t.backward(-y_offset)\n",
    "    t.left(offset_angle)\n",
    "    t.down()\n",
    "    t.speed(0)\n",
    "    t.pensize(size)\n",
    "    draw_l_system(t, inst, angle, length)\n",
    "    t.hideturtle()\n",
    "    \n",
    "    wn.exitonclick()"
   ]
  },
  {
   "cell_type": "code",
   "execution_count": 26,
   "id": "71682e25",
   "metadata": {},
   "outputs": [],
   "source": [
    "instructions = create_l_system(iterations, axiom, rules)"
   ]
  },
  {
   "cell_type": "code",
   "execution_count": 31,
   "id": "f3faca33",
   "metadata": {},
   "outputs": [
    {
     "ename": "Terminator",
     "evalue": "",
     "output_type": "error",
     "traceback": [
      "\u001b[1;31m---------------------------------------------------------------------------\u001b[0m",
      "\u001b[1;31mTerminator\u001b[0m                                Traceback (most recent call last)",
      "\u001b[1;32m~\\AppData\\Local\\Temp/ipykernel_648/52168850.py\u001b[0m in \u001b[0;36m<module>\u001b[1;34m\u001b[0m\n\u001b[1;32m----> 1\u001b[1;33m \u001b[0mdraw_l_system\u001b[0m\u001b[1;33m(\u001b[0m\u001b[0mturtle\u001b[0m\u001b[1;33m,\u001b[0m \u001b[0minstructions\u001b[0m\u001b[1;33m,\u001b[0m \u001b[0mangle\u001b[0m\u001b[1;33m,\u001b[0m \u001b[1;36m15\u001b[0m\u001b[1;33m)\u001b[0m\u001b[1;33m\u001b[0m\u001b[1;33m\u001b[0m\u001b[0m\n\u001b[0m",
      "\u001b[1;32m~\\AppData\\Local\\Temp/ipykernel_648/265442514.py\u001b[0m in \u001b[0;36mdraw_l_system\u001b[1;34m(t, instructions, angle, distance)\u001b[0m\n\u001b[0;32m      4\u001b[0m             \u001b[0mt\u001b[0m\u001b[1;33m.\u001b[0m\u001b[0mforward\u001b[0m\u001b[1;33m(\u001b[0m\u001b[0mdistance\u001b[0m\u001b[1;33m)\u001b[0m\u001b[1;33m\u001b[0m\u001b[1;33m\u001b[0m\u001b[0m\n\u001b[0;32m      5\u001b[0m         \u001b[1;32melif\u001b[0m \u001b[0mcmd\u001b[0m \u001b[1;33m==\u001b[0m \u001b[1;34m'+'\u001b[0m\u001b[1;33m:\u001b[0m\u001b[1;33m\u001b[0m\u001b[1;33m\u001b[0m\u001b[0m\n\u001b[1;32m----> 6\u001b[1;33m             \u001b[0mt\u001b[0m\u001b[1;33m.\u001b[0m\u001b[0mright\u001b[0m\u001b[1;33m(\u001b[0m\u001b[0mangle\u001b[0m\u001b[1;33m)\u001b[0m\u001b[1;33m\u001b[0m\u001b[1;33m\u001b[0m\u001b[0m\n\u001b[0m\u001b[0;32m      7\u001b[0m         \u001b[1;32melif\u001b[0m \u001b[0mcmd\u001b[0m \u001b[1;33m==\u001b[0m \u001b[1;34m'-'\u001b[0m\u001b[1;33m:\u001b[0m\u001b[1;33m\u001b[0m\u001b[1;33m\u001b[0m\u001b[0m\n\u001b[0;32m      8\u001b[0m             \u001b[0mt\u001b[0m\u001b[1;33m.\u001b[0m\u001b[0mleft\u001b[0m\u001b[1;33m(\u001b[0m\u001b[0mangle\u001b[0m\u001b[1;33m)\u001b[0m\u001b[1;33m\u001b[0m\u001b[1;33m\u001b[0m\u001b[0m\n",
      "\u001b[1;32m~\\anaconda3\\lib\\turtle.py\u001b[0m in \u001b[0;36mright\u001b[1;34m(angle)\u001b[0m\n",
      "\u001b[1;32m~\\anaconda3\\lib\\turtle.py\u001b[0m in \u001b[0;36mright\u001b[1;34m(self, angle)\u001b[0m\n\u001b[0;32m   1677\u001b[0m         \u001b[1;36m337.0\u001b[0m\u001b[1;33m\u001b[0m\u001b[1;33m\u001b[0m\u001b[0m\n\u001b[0;32m   1678\u001b[0m         \"\"\"\n\u001b[1;32m-> 1679\u001b[1;33m         \u001b[0mself\u001b[0m\u001b[1;33m.\u001b[0m\u001b[0m_rotate\u001b[0m\u001b[1;33m(\u001b[0m\u001b[1;33m-\u001b[0m\u001b[0mangle\u001b[0m\u001b[1;33m)\u001b[0m\u001b[1;33m\u001b[0m\u001b[1;33m\u001b[0m\u001b[0m\n\u001b[0m\u001b[0;32m   1680\u001b[0m \u001b[1;33m\u001b[0m\u001b[0m\n\u001b[0;32m   1681\u001b[0m     \u001b[1;32mdef\u001b[0m \u001b[0mleft\u001b[0m\u001b[1;33m(\u001b[0m\u001b[0mself\u001b[0m\u001b[1;33m,\u001b[0m \u001b[0mangle\u001b[0m\u001b[1;33m)\u001b[0m\u001b[1;33m:\u001b[0m\u001b[1;33m\u001b[0m\u001b[1;33m\u001b[0m\u001b[0m\n",
      "\u001b[1;32m~\\anaconda3\\lib\\turtle.py\u001b[0m in \u001b[0;36m_rotate\u001b[1;34m(self, angle)\u001b[0m\n\u001b[0;32m   3275\u001b[0m             \u001b[1;32mfor\u001b[0m \u001b[0m_\u001b[0m \u001b[1;32min\u001b[0m \u001b[0mrange\u001b[0m\u001b[1;33m(\u001b[0m\u001b[0msteps\u001b[0m\u001b[1;33m)\u001b[0m\u001b[1;33m:\u001b[0m\u001b[1;33m\u001b[0m\u001b[1;33m\u001b[0m\u001b[0m\n\u001b[0;32m   3276\u001b[0m                 \u001b[0mself\u001b[0m\u001b[1;33m.\u001b[0m\u001b[0m_orient\u001b[0m \u001b[1;33m=\u001b[0m \u001b[0mself\u001b[0m\u001b[1;33m.\u001b[0m\u001b[0m_orient\u001b[0m\u001b[1;33m.\u001b[0m\u001b[0mrotate\u001b[0m\u001b[1;33m(\u001b[0m\u001b[0mdelta\u001b[0m\u001b[1;33m)\u001b[0m\u001b[1;33m\u001b[0m\u001b[1;33m\u001b[0m\u001b[0m\n\u001b[1;32m-> 3277\u001b[1;33m                 \u001b[0mself\u001b[0m\u001b[1;33m.\u001b[0m\u001b[0m_update\u001b[0m\u001b[1;33m(\u001b[0m\u001b[1;33m)\u001b[0m\u001b[1;33m\u001b[0m\u001b[1;33m\u001b[0m\u001b[0m\n\u001b[0m\u001b[0;32m   3278\u001b[0m         \u001b[0mself\u001b[0m\u001b[1;33m.\u001b[0m\u001b[0m_orient\u001b[0m \u001b[1;33m=\u001b[0m \u001b[0mneworient\u001b[0m\u001b[1;33m\u001b[0m\u001b[1;33m\u001b[0m\u001b[0m\n\u001b[0;32m   3279\u001b[0m         \u001b[0mself\u001b[0m\u001b[1;33m.\u001b[0m\u001b[0m_update\u001b[0m\u001b[1;33m(\u001b[0m\u001b[1;33m)\u001b[0m\u001b[1;33m\u001b[0m\u001b[1;33m\u001b[0m\u001b[0m\n",
      "\u001b[1;32m~\\anaconda3\\lib\\turtle.py\u001b[0m in \u001b[0;36m_update\u001b[1;34m(self)\u001b[0m\n\u001b[0;32m   2659\u001b[0m             \u001b[1;32mreturn\u001b[0m\u001b[1;33m\u001b[0m\u001b[1;33m\u001b[0m\u001b[0m\n\u001b[0;32m   2660\u001b[0m         \u001b[1;32melif\u001b[0m \u001b[0mscreen\u001b[0m\u001b[1;33m.\u001b[0m\u001b[0m_tracing\u001b[0m \u001b[1;33m==\u001b[0m \u001b[1;36m1\u001b[0m\u001b[1;33m:\u001b[0m\u001b[1;33m\u001b[0m\u001b[1;33m\u001b[0m\u001b[0m\n\u001b[1;32m-> 2661\u001b[1;33m             \u001b[0mself\u001b[0m\u001b[1;33m.\u001b[0m\u001b[0m_update_data\u001b[0m\u001b[1;33m(\u001b[0m\u001b[1;33m)\u001b[0m\u001b[1;33m\u001b[0m\u001b[1;33m\u001b[0m\u001b[0m\n\u001b[0m\u001b[0;32m   2662\u001b[0m             \u001b[0mself\u001b[0m\u001b[1;33m.\u001b[0m\u001b[0m_drawturtle\u001b[0m\u001b[1;33m(\u001b[0m\u001b[1;33m)\u001b[0m\u001b[1;33m\u001b[0m\u001b[1;33m\u001b[0m\u001b[0m\n\u001b[0;32m   2663\u001b[0m             \u001b[0mscreen\u001b[0m\u001b[1;33m.\u001b[0m\u001b[0m_update\u001b[0m\u001b[1;33m(\u001b[0m\u001b[1;33m)\u001b[0m                  \u001b[1;31m# TurtleScreenBase\u001b[0m\u001b[1;33m\u001b[0m\u001b[1;33m\u001b[0m\u001b[0m\n",
      "\u001b[1;32m~\\anaconda3\\lib\\turtle.py\u001b[0m in \u001b[0;36m_update_data\u001b[1;34m(self)\u001b[0m\n\u001b[0;32m   2645\u001b[0m \u001b[1;33m\u001b[0m\u001b[0m\n\u001b[0;32m   2646\u001b[0m     \u001b[1;32mdef\u001b[0m \u001b[0m_update_data\u001b[0m\u001b[1;33m(\u001b[0m\u001b[0mself\u001b[0m\u001b[1;33m)\u001b[0m\u001b[1;33m:\u001b[0m\u001b[1;33m\u001b[0m\u001b[1;33m\u001b[0m\u001b[0m\n\u001b[1;32m-> 2647\u001b[1;33m         \u001b[0mself\u001b[0m\u001b[1;33m.\u001b[0m\u001b[0mscreen\u001b[0m\u001b[1;33m.\u001b[0m\u001b[0m_incrementudc\u001b[0m\u001b[1;33m(\u001b[0m\u001b[1;33m)\u001b[0m\u001b[1;33m\u001b[0m\u001b[1;33m\u001b[0m\u001b[0m\n\u001b[0m\u001b[0;32m   2648\u001b[0m         \u001b[1;32mif\u001b[0m \u001b[0mself\u001b[0m\u001b[1;33m.\u001b[0m\u001b[0mscreen\u001b[0m\u001b[1;33m.\u001b[0m\u001b[0m_updatecounter\u001b[0m \u001b[1;33m!=\u001b[0m \u001b[1;36m0\u001b[0m\u001b[1;33m:\u001b[0m\u001b[1;33m\u001b[0m\u001b[1;33m\u001b[0m\u001b[0m\n\u001b[0;32m   2649\u001b[0m             \u001b[1;32mreturn\u001b[0m\u001b[1;33m\u001b[0m\u001b[1;33m\u001b[0m\u001b[0m\n",
      "\u001b[1;32m~\\anaconda3\\lib\\turtle.py\u001b[0m in \u001b[0;36m_incrementudc\u001b[1;34m(self)\u001b[0m\n\u001b[0;32m   1291\u001b[0m         \u001b[1;32mif\u001b[0m \u001b[1;32mnot\u001b[0m \u001b[0mTurtleScreen\u001b[0m\u001b[1;33m.\u001b[0m\u001b[0m_RUNNING\u001b[0m\u001b[1;33m:\u001b[0m\u001b[1;33m\u001b[0m\u001b[1;33m\u001b[0m\u001b[0m\n\u001b[0;32m   1292\u001b[0m             \u001b[0mTurtleScreen\u001b[0m\u001b[1;33m.\u001b[0m\u001b[0m_RUNNING\u001b[0m \u001b[1;33m=\u001b[0m \u001b[1;32mTrue\u001b[0m\u001b[1;33m\u001b[0m\u001b[1;33m\u001b[0m\u001b[0m\n\u001b[1;32m-> 1293\u001b[1;33m             \u001b[1;32mraise\u001b[0m \u001b[0mTerminator\u001b[0m\u001b[1;33m\u001b[0m\u001b[1;33m\u001b[0m\u001b[0m\n\u001b[0m\u001b[0;32m   1294\u001b[0m         \u001b[1;32mif\u001b[0m \u001b[0mself\u001b[0m\u001b[1;33m.\u001b[0m\u001b[0m_tracing\u001b[0m \u001b[1;33m>\u001b[0m \u001b[1;36m0\u001b[0m\u001b[1;33m:\u001b[0m\u001b[1;33m\u001b[0m\u001b[1;33m\u001b[0m\u001b[0m\n\u001b[0;32m   1295\u001b[0m             \u001b[0mself\u001b[0m\u001b[1;33m.\u001b[0m\u001b[0m_updatecounter\u001b[0m \u001b[1;33m+=\u001b[0m \u001b[1;36m1\u001b[0m\u001b[1;33m\u001b[0m\u001b[1;33m\u001b[0m\u001b[0m\n",
      "\u001b[1;31mTerminator\u001b[0m: "
     ]
    }
   ],
   "source": [
    "draw_l_system(turtle, instructions, angle, 15)"
   ]
  },
  {
   "cell_type": "code",
   "execution_count": null,
   "id": "61151a71",
   "metadata": {},
   "outputs": [],
   "source": []
  }
 ],
 "metadata": {
  "kernelspec": {
   "display_name": "Python 3 (ipykernel)",
   "language": "python",
   "name": "python3"
  },
  "language_info": {
   "codemirror_mode": {
    "name": "ipython",
    "version": 3
   },
   "file_extension": ".py",
   "mimetype": "text/x-python",
   "name": "python",
   "nbconvert_exporter": "python",
   "pygments_lexer": "ipython3",
   "version": "3.9.7"
  }
 },
 "nbformat": 4,
 "nbformat_minor": 5
}
