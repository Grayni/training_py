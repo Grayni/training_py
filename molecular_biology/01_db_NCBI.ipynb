{
 "cells": [
  {
   "cell_type": "code",
   "execution_count": 1,
   "metadata": {
    "collapsed": true
   },
   "outputs": [],
   "source": [
    "from Bio import Entrez\n",
    "from Bio import SeqIO\n",
    "Entrez.email = 'omenbestg@gmail.com'\n",
    "import pandas as pd\n",
    "import xml.etree.ElementTree as ET"
   ]
  },
  {
   "cell_type": "code",
   "execution_count": 11,
   "outputs": [
    {
     "data": {
      "text/plain": "   geneId geneSymbol    DSI    DPI diseaseId               diseaseName  \\\n0       1       A1BG  0.700  0.538  C0019209              Hepatomegaly   \n1       1       A1BG  0.700  0.538  C0036341             Schizophrenia   \n2       2        A2M  0.529  0.769  C0002395       Alzheimer's Disease   \n3       2        A2M  0.529  0.769  C0007102  Malignant tumor of colon   \n4       2        A2M  0.529  0.769  C0009375         Colonic Neoplasms   \n\n  diseaseType diseaseClass               diseaseSemanticType  score     EI  \\\n0   phenotype      C23;C06                           Finding   0.30  1.000   \n1     disease          F03  Mental or Behavioral Dysfunction   0.30  1.000   \n2     disease      C10;F03               Disease or Syndrome   0.50  0.769   \n3     disease      C06;C04                Neoplastic Process   0.31  1.000   \n4       group      C06;C04                Neoplastic Process   0.30  1.000   \n\n   YearInitial  YearFinal  NofPmids  NofSnps     source  \n0       2017.0     2017.0         1        0  CTD_human  \n1       2015.0     2015.0         1        0  CTD_human  \n2       1998.0     2018.0         3        0  CTD_human  \n3       2004.0     2019.0         1        0  CTD_human  \n4       2004.0     2004.0         1        0  CTD_human  ",
      "text/html": "<div>\n<style scoped>\n    .dataframe tbody tr th:only-of-type {\n        vertical-align: middle;\n    }\n\n    .dataframe tbody tr th {\n        vertical-align: top;\n    }\n\n    .dataframe thead th {\n        text-align: right;\n    }\n</style>\n<table border=\"1\" class=\"dataframe\">\n  <thead>\n    <tr style=\"text-align: right;\">\n      <th></th>\n      <th>geneId</th>\n      <th>geneSymbol</th>\n      <th>DSI</th>\n      <th>DPI</th>\n      <th>diseaseId</th>\n      <th>diseaseName</th>\n      <th>diseaseType</th>\n      <th>diseaseClass</th>\n      <th>diseaseSemanticType</th>\n      <th>score</th>\n      <th>EI</th>\n      <th>YearInitial</th>\n      <th>YearFinal</th>\n      <th>NofPmids</th>\n      <th>NofSnps</th>\n      <th>source</th>\n    </tr>\n  </thead>\n  <tbody>\n    <tr>\n      <th>0</th>\n      <td>1</td>\n      <td>A1BG</td>\n      <td>0.700</td>\n      <td>0.538</td>\n      <td>C0019209</td>\n      <td>Hepatomegaly</td>\n      <td>phenotype</td>\n      <td>C23;C06</td>\n      <td>Finding</td>\n      <td>0.30</td>\n      <td>1.000</td>\n      <td>2017.0</td>\n      <td>2017.0</td>\n      <td>1</td>\n      <td>0</td>\n      <td>CTD_human</td>\n    </tr>\n    <tr>\n      <th>1</th>\n      <td>1</td>\n      <td>A1BG</td>\n      <td>0.700</td>\n      <td>0.538</td>\n      <td>C0036341</td>\n      <td>Schizophrenia</td>\n      <td>disease</td>\n      <td>F03</td>\n      <td>Mental or Behavioral Dysfunction</td>\n      <td>0.30</td>\n      <td>1.000</td>\n      <td>2015.0</td>\n      <td>2015.0</td>\n      <td>1</td>\n      <td>0</td>\n      <td>CTD_human</td>\n    </tr>\n    <tr>\n      <th>2</th>\n      <td>2</td>\n      <td>A2M</td>\n      <td>0.529</td>\n      <td>0.769</td>\n      <td>C0002395</td>\n      <td>Alzheimer's Disease</td>\n      <td>disease</td>\n      <td>C10;F03</td>\n      <td>Disease or Syndrome</td>\n      <td>0.50</td>\n      <td>0.769</td>\n      <td>1998.0</td>\n      <td>2018.0</td>\n      <td>3</td>\n      <td>0</td>\n      <td>CTD_human</td>\n    </tr>\n    <tr>\n      <th>3</th>\n      <td>2</td>\n      <td>A2M</td>\n      <td>0.529</td>\n      <td>0.769</td>\n      <td>C0007102</td>\n      <td>Malignant tumor of colon</td>\n      <td>disease</td>\n      <td>C06;C04</td>\n      <td>Neoplastic Process</td>\n      <td>0.31</td>\n      <td>1.000</td>\n      <td>2004.0</td>\n      <td>2019.0</td>\n      <td>1</td>\n      <td>0</td>\n      <td>CTD_human</td>\n    </tr>\n    <tr>\n      <th>4</th>\n      <td>2</td>\n      <td>A2M</td>\n      <td>0.529</td>\n      <td>0.769</td>\n      <td>C0009375</td>\n      <td>Colonic Neoplasms</td>\n      <td>group</td>\n      <td>C06;C04</td>\n      <td>Neoplastic Process</td>\n      <td>0.30</td>\n      <td>1.000</td>\n      <td>2004.0</td>\n      <td>2004.0</td>\n      <td>1</td>\n      <td>0</td>\n      <td>CTD_human</td>\n    </tr>\n  </tbody>\n</table>\n</div>"
     },
     "execution_count": 11,
     "metadata": {},
     "output_type": "execute_result"
    }
   ],
   "source": [
    "df = pd.read_table('databases/gene_disease_associations.tsv')\n",
    "df.head()"
   ],
   "metadata": {
    "collapsed": false,
    "pycharm": {
     "name": "#%%\n"
    }
   }
  },
  {
   "cell_type": "code",
   "execution_count": 25,
   "outputs": [
    {
     "data": {
      "text/plain": "57"
     },
     "execution_count": 25,
     "metadata": {},
     "output_type": "execute_result"
    }
   ],
   "source": [
    "psoriasis_df = df.loc[df['diseaseName'] == 'Psoriasis']\n",
    "psoriasis_df.shape[0]"
   ],
   "metadata": {
    "collapsed": false,
    "pycharm": {
     "name": "#%%\n"
    }
   }
  },
  {
   "cell_type": "code",
   "execution_count": 28,
   "outputs": [
    {
     "data": {
      "text/plain": "       geneId geneSymbol    DSI    DPI diseaseId diseaseName diseaseType  \\\n3460      348       APOE  0.338  0.962  C0033860   Psoriasis     disease   \n7595      847        CAT  0.359  0.962  C0033860   Psoriasis     disease   \n7858      864      RUNX3  0.459  0.731  C0033860   Psoriasis     disease   \n11446    1356         CP  0.466  0.846  C0033860   Psoriasis     disease   \n11903    1401        CRP  0.299  0.962  C0033860   Psoriasis     disease   \n12204    1437       CSF2  0.330  0.962  C0033860   Psoriasis     disease   \n21403    2706       GJB2  0.441  0.846  C0033860   Psoriasis     disease   \n24357    3107      HLA-C  0.415  0.846  C0033860   Psoriasis     disease   \n27519    3553       IL1B  0.276  0.962  C0033860   Psoriasis     disease   \n27937    3565        IL4  0.332  0.962  C0033860   Psoriasis     disease   \n28107    3569        IL6  0.248  0.962  C0033860   Psoriasis     disease   \n28672    3593      IL12B  0.480  0.885  C0033860   Psoriasis     disease   \n28712    3596       IL13  0.386  0.846  C0033860   Psoriasis     disease   \n33510    4288      MKI67  0.431  0.808  C0033860   Psoriasis     disease   \n36272    4792     NFKBIA  0.487  0.885  C0033860   Psoriasis     disease   \n36694    4843       NOS2  0.364  0.923  C0033860   Psoriasis     disease   \n39082    5111       PCNA  0.382  0.846  C0033860   Psoriasis     disease   \n40202    5271   SERPINB8  0.792  0.154  C0033860   Psoriasis     disease   \n41993    5468      PPARG  0.358  0.885  C0033860   Psoriasis     disease   \n45190    5966        REL  0.579  0.692  C0033860   Psoriasis     disease   \n45298    5972        REN  0.370  0.923  C0033860   Psoriasis     disease   \n46168    6278     S100A7  0.546  0.769  C0033860   Psoriasis     disease   \n49392    6648       SOD2  0.379  0.923  C0033860   Psoriasis     disease   \n50393    6774      STAT3  0.320  0.923  C0033860   Psoriasis     disease   \n52014    7039       TGFA  0.432  0.885  C0033860   Psoriasis     disease   \n53090    7124        TNF  0.231  0.962  C0033860   Psoriasis     disease   \n53317    7128    TNFAIP3  0.481  0.808  C0033860   Psoriasis     disease   \n53627    7157       TP53  0.236  0.962  C0033860   Psoriasis     disease   \n54689    7297       TYK2  0.505  0.769  C0033860   Psoriasis     disease   \n55322    7422      VEGFA  0.266  0.923  C0033860   Psoriasis     disease   \n58927    8875       VNN2  0.691  0.346  C0033860   Psoriasis     disease   \n58933    8876       VNN1  0.670  0.500  C0033860   Psoriasis     disease   \n59777    9232      PTTG1  0.526  0.654  C0033860   Psoriasis     disease   \n62662   10318      TNIP1  0.564  0.769  C0033860   Psoriasis     disease   \n63155   10498      CARM1  0.601  0.692  C0033860   Psoriasis     disease   \n63746   10758   TRAF3IP2  0.585  0.692  C0033860   Psoriasis     disease   \n66573   23586      DDX58  0.526  0.808  C0033860   Psoriasis     disease   \n67595   26525     IL36RN  0.638  0.538  C0033860   Psoriasis     disease   \n68460   29785     CYP2S1  0.743  0.385  C0033860   Psoriasis     disease   \n69673   51561      IL23A  0.415  0.846  C0033860   Psoriasis     disease   \n69978   51752      ERAP1  0.556  0.692  C0033860   Psoriasis     disease   \n70443   54620     FBXL19  0.821  0.192  C0033860   Psoriasis     disease   \n71440   55350       VNN3  0.821  0.269  C0033860   Psoriasis     disease   \n72043   55905     RNF114  0.839  0.077  C0033860   Psoriasis     disease   \n73964   64135      IFIH1  0.471  0.808  C0033860   Psoriasis     disease   \n74203   64478      CSMD1  0.610  0.500  C0033860   Psoriasis     disease   \n74617   79092     CARD14  0.546  0.846  C0033860   Psoriasis     disease   \n76576   84648      LCE3D  0.890  0.038  C0033860   Psoriasis     disease   \n76999   85463    ZC3H12C  0.931  0.038  C0033860   Psoriasis     disease   \n78029  117289      TAGAP  0.700  0.462  C0033860   Psoriasis     disease   \n78301  125893     ZNF816  0.839  0.115  C0033860   Psoriasis     disease   \n78422  130340      AP1S3  0.711  0.385  C0033860   Psoriasis     disease   \n78986  149233      IL23R  0.466  0.769  C0033860   Psoriasis     disease   \n79369  163702     IFNLR1  0.647  0.615  C0033860   Psoriasis     disease   \n80520  338442      HCAR2  0.631  0.692  C0033860   Psoriasis     disease   \n80838  353143      LCE3B  0.751  0.231  C0033860   Psoriasis     disease   \n80840  353144      LCE3C  0.743  0.269  C0033860   Psoriasis     disease   \n\n      diseaseClass  diseaseSemanticType  score     EI  YearInitial  YearFinal  \\\n3460           C17  Disease or Syndrome   0.36  1.000       2006.0     2014.0   \n7595           C17  Disease or Syndrome   0.33  1.000       2002.0     2019.0   \n7858           C17  Disease or Syndrome   0.32  1.000       2012.0     2016.0   \n11446          C17  Disease or Syndrome   0.30  1.000       2003.0     2003.0   \n11903          C17  Disease or Syndrome   0.40  0.875       2003.0     2020.0   \n12204          C17  Disease or Syndrome   0.35  1.000       1995.0     2019.0   \n21403          C17  Disease or Syndrome   0.43  1.000       2010.0     2015.0   \n24357          C17  Disease or Syndrome   0.40  0.945       1978.0     2020.0   \n27519          C17  Disease or Syndrome   0.40  1.000       1990.0     2019.0   \n27937          C17  Disease or Syndrome   0.40  1.000       2002.0     2018.0   \n28107          C17  Disease or Syndrome   0.40  0.941       1989.0     2020.0   \n28672          C17  Disease or Syndrome   0.50  0.880       2002.0     2019.0   \n28712          C17  Disease or Syndrome   0.50  0.923       1997.0     2019.0   \n33510          C17  Disease or Syndrome   0.32  1.000       1999.0     2008.0   \n36272          C17  Disease or Syndrome   0.33  1.000       2010.0     2019.0   \n36694          C17  Disease or Syndrome   0.44  1.000       1996.0     2016.0   \n39082          C17  Disease or Syndrome   0.33  1.000       1999.0     2019.0   \n40202          C17  Disease or Syndrome   0.40  1.000       2010.0     2010.0   \n41993          C17  Disease or Syndrome   0.34  1.000       2000.0     2020.0   \n45190          C17  Disease or Syndrome   0.36  0.857       2006.0     2016.0   \n45298          C17  Disease or Syndrome   0.32  1.000       1986.0     2018.0   \n46168          C17  Disease or Syndrome   0.40  0.957       1995.0     2020.0   \n49392          C17  Disease or Syndrome   0.31  0.500       1995.0     2014.0   \n50393          C17  Disease or Syndrome   0.70  0.968       2005.0     2020.0   \n52014          C17  Disease or Syndrome   0.37  1.000       1990.0     1997.0   \n53090          C17  Disease or Syndrome   0.40  0.979       1991.0     2020.0   \n53317          C17  Disease or Syndrome   0.50  0.966       2009.0     2019.0   \n53627          C17  Disease or Syndrome   0.40  1.000       1993.0     2018.0   \n54689          C17  Disease or Syndrome   0.50  1.000       2010.0     2019.0   \n55322          C17  Disease or Syndrome   0.60  0.951       1994.0     2020.0   \n58927          C17  Disease or Syndrome   0.31  1.000       2009.0     2009.0   \n58933          C17  Disease or Syndrome   0.31  1.000       2009.0     2009.0   \n59777          C17  Disease or Syndrome   0.32  1.000       2010.0     2019.0   \n62662          C17  Disease or Syndrome   0.50  0.913       2009.0     2019.0   \n63155          C17  Disease or Syndrome   0.30  1.000       2012.0     2012.0   \n63746          C17  Disease or Syndrome   0.50  1.000       2010.0     2019.0   \n66573          C17  Disease or Syndrome   0.42  1.000       2012.0     2016.0   \n67595          C17  Disease or Syndrome   0.38  1.000       2011.0     2019.0   \n68460          C17  Disease or Syndrome   0.31  1.000       2003.0     2003.0   \n69673          C17  Disease or Syndrome   0.40  0.956       2004.0     2020.0   \n69978          C17  Disease or Syndrome   0.50  0.950       2010.0     2018.0   \n70443          C17  Disease or Syndrome   0.41  1.000       2010.0     2015.0   \n71440          C17  Disease or Syndrome   0.32  1.000       2009.0     2020.0   \n72043          C17  Disease or Syndrome   0.47  1.000       2008.0     2018.0   \n73964          C17  Disease or Syndrome   0.44  1.000       2010.0     2018.0   \n74203          C17  Disease or Syndrome   0.41  1.000       2010.0     2015.0   \n74617          C17  Disease or Syndrome   0.70  0.947       2003.0     2019.0   \n76576          C17  Disease or Syndrome   0.31  1.000       2010.0     2014.0   \n76999          C17  Disease or Syndrome   0.30  1.000       2012.0     2012.0   \n78029          C17  Disease or Syndrome   0.31  1.000       2012.0     2017.0   \n78301          C17  Disease or Syndrome   0.33  1.000       2010.0     2014.0   \n78422          C17  Disease or Syndrome   0.30    NaN          NaN        NaN   \n78986          C17  Disease or Syndrome   0.50  0.917       2007.0     2019.0   \n79369          C17  Disease or Syndrome   0.33  1.000       2010.0     2019.0   \n80520          C17  Disease or Syndrome   0.31  1.000       2008.0     2018.0   \n80838          C17  Disease or Syndrome   0.40  0.862       2009.0     2017.0   \n80840          C17  Disease or Syndrome   0.40  0.867       2009.0     2017.0   \n\n       NofPmids  NofSnps                      source  \n3460          1        0                   CTD_human  \n7595          1        0                   CTD_human  \n7858          1        0                   CTD_human  \n11446         1        0                   CTD_human  \n11903         1        0                   CTD_human  \n12204         1        0                   CTD_human  \n21403         2        1                   CTD_human  \n24357         2        0                   CTD_human  \n27519         1        0                   CTD_human  \n27937         1        0                   CTD_human  \n28107         1        0                   CTD_human  \n28672         3        2                   CTD_human  \n28712         2        0                   CTD_human  \n33510         1        0                   CTD_human  \n36272         1        0                   CTD_human  \n36694         1        3                   CTD_human  \n39082         1        0                   CTD_human  \n40202         1        1                   CTD_human  \n41993         1        0                   CTD_human  \n45190         1        0                   CTD_human  \n45298         1        0                   CTD_human  \n46168         1        0                   CTD_human  \n49392         1        0                   CTD_human  \n50393         1        1                   CTD_human  \n52014         1        0                   CTD_human  \n53090         2        0                   CTD_human  \n53317         2        3                   CTD_human  \n53627         1        0                   CTD_human  \n54689         1        4                   CTD_human  \n55322         1        0                   CTD_human  \n58927         1        0                   CTD_human  \n58933         1        0                   CTD_human  \n59777         1        0                   CTD_human  \n62662         2        4                   CTD_human  \n63155         1        0                   CTD_human  \n63746         3        2                   CTD_human  \n66573         1        1                   CTD_human  \n67595         0        0                   CTD_human  \n68460         1        0                   CTD_human  \n69673         2        0                   CTD_human  \n69978         4        4                   CTD_human  \n70443         1        1                   CTD_human  \n71440         1        0                   CTD_human  \n72043         1        2                   CTD_human  \n73964         1        4                   CTD_human  \n74203         1        3                   CTD_human  \n74617         3        1  CTD_human;GENOMICS_ENGLAND  \n76576         2        0                   CTD_human  \n76999         1        0                   CTD_human  \n78029         1        0                   CTD_human  \n78301         2        0                   CTD_human  \n78422         0        0                   CTD_human  \n78986         3        4                   CTD_human  \n79369         1        0                   CTD_human  \n80520         1        0                   CTD_human  \n80838         1        0                   CTD_human  \n80840         1        0                   CTD_human  ",
      "text/html": "<div>\n<style scoped>\n    .dataframe tbody tr th:only-of-type {\n        vertical-align: middle;\n    }\n\n    .dataframe tbody tr th {\n        vertical-align: top;\n    }\n\n    .dataframe thead th {\n        text-align: right;\n    }\n</style>\n<table border=\"1\" class=\"dataframe\">\n  <thead>\n    <tr style=\"text-align: right;\">\n      <th></th>\n      <th>geneId</th>\n      <th>geneSymbol</th>\n      <th>DSI</th>\n      <th>DPI</th>\n      <th>diseaseId</th>\n      <th>diseaseName</th>\n      <th>diseaseType</th>\n      <th>diseaseClass</th>\n      <th>diseaseSemanticType</th>\n      <th>score</th>\n      <th>EI</th>\n      <th>YearInitial</th>\n      <th>YearFinal</th>\n      <th>NofPmids</th>\n      <th>NofSnps</th>\n      <th>source</th>\n    </tr>\n  </thead>\n  <tbody>\n    <tr>\n      <th>3460</th>\n      <td>348</td>\n      <td>APOE</td>\n      <td>0.338</td>\n      <td>0.962</td>\n      <td>C0033860</td>\n      <td>Psoriasis</td>\n      <td>disease</td>\n      <td>C17</td>\n      <td>Disease or Syndrome</td>\n      <td>0.36</td>\n      <td>1.000</td>\n      <td>2006.0</td>\n      <td>2014.0</td>\n      <td>1</td>\n      <td>0</td>\n      <td>CTD_human</td>\n    </tr>\n    <tr>\n      <th>7595</th>\n      <td>847</td>\n      <td>CAT</td>\n      <td>0.359</td>\n      <td>0.962</td>\n      <td>C0033860</td>\n      <td>Psoriasis</td>\n      <td>disease</td>\n      <td>C17</td>\n      <td>Disease or Syndrome</td>\n      <td>0.33</td>\n      <td>1.000</td>\n      <td>2002.0</td>\n      <td>2019.0</td>\n      <td>1</td>\n      <td>0</td>\n      <td>CTD_human</td>\n    </tr>\n    <tr>\n      <th>7858</th>\n      <td>864</td>\n      <td>RUNX3</td>\n      <td>0.459</td>\n      <td>0.731</td>\n      <td>C0033860</td>\n      <td>Psoriasis</td>\n      <td>disease</td>\n      <td>C17</td>\n      <td>Disease or Syndrome</td>\n      <td>0.32</td>\n      <td>1.000</td>\n      <td>2012.0</td>\n      <td>2016.0</td>\n      <td>1</td>\n      <td>0</td>\n      <td>CTD_human</td>\n    </tr>\n    <tr>\n      <th>11446</th>\n      <td>1356</td>\n      <td>CP</td>\n      <td>0.466</td>\n      <td>0.846</td>\n      <td>C0033860</td>\n      <td>Psoriasis</td>\n      <td>disease</td>\n      <td>C17</td>\n      <td>Disease or Syndrome</td>\n      <td>0.30</td>\n      <td>1.000</td>\n      <td>2003.0</td>\n      <td>2003.0</td>\n      <td>1</td>\n      <td>0</td>\n      <td>CTD_human</td>\n    </tr>\n    <tr>\n      <th>11903</th>\n      <td>1401</td>\n      <td>CRP</td>\n      <td>0.299</td>\n      <td>0.962</td>\n      <td>C0033860</td>\n      <td>Psoriasis</td>\n      <td>disease</td>\n      <td>C17</td>\n      <td>Disease or Syndrome</td>\n      <td>0.40</td>\n      <td>0.875</td>\n      <td>2003.0</td>\n      <td>2020.0</td>\n      <td>1</td>\n      <td>0</td>\n      <td>CTD_human</td>\n    </tr>\n    <tr>\n      <th>12204</th>\n      <td>1437</td>\n      <td>CSF2</td>\n      <td>0.330</td>\n      <td>0.962</td>\n      <td>C0033860</td>\n      <td>Psoriasis</td>\n      <td>disease</td>\n      <td>C17</td>\n      <td>Disease or Syndrome</td>\n      <td>0.35</td>\n      <td>1.000</td>\n      <td>1995.0</td>\n      <td>2019.0</td>\n      <td>1</td>\n      <td>0</td>\n      <td>CTD_human</td>\n    </tr>\n    <tr>\n      <th>21403</th>\n      <td>2706</td>\n      <td>GJB2</td>\n      <td>0.441</td>\n      <td>0.846</td>\n      <td>C0033860</td>\n      <td>Psoriasis</td>\n      <td>disease</td>\n      <td>C17</td>\n      <td>Disease or Syndrome</td>\n      <td>0.43</td>\n      <td>1.000</td>\n      <td>2010.0</td>\n      <td>2015.0</td>\n      <td>2</td>\n      <td>1</td>\n      <td>CTD_human</td>\n    </tr>\n    <tr>\n      <th>24357</th>\n      <td>3107</td>\n      <td>HLA-C</td>\n      <td>0.415</td>\n      <td>0.846</td>\n      <td>C0033860</td>\n      <td>Psoriasis</td>\n      <td>disease</td>\n      <td>C17</td>\n      <td>Disease or Syndrome</td>\n      <td>0.40</td>\n      <td>0.945</td>\n      <td>1978.0</td>\n      <td>2020.0</td>\n      <td>2</td>\n      <td>0</td>\n      <td>CTD_human</td>\n    </tr>\n    <tr>\n      <th>27519</th>\n      <td>3553</td>\n      <td>IL1B</td>\n      <td>0.276</td>\n      <td>0.962</td>\n      <td>C0033860</td>\n      <td>Psoriasis</td>\n      <td>disease</td>\n      <td>C17</td>\n      <td>Disease or Syndrome</td>\n      <td>0.40</td>\n      <td>1.000</td>\n      <td>1990.0</td>\n      <td>2019.0</td>\n      <td>1</td>\n      <td>0</td>\n      <td>CTD_human</td>\n    </tr>\n    <tr>\n      <th>27937</th>\n      <td>3565</td>\n      <td>IL4</td>\n      <td>0.332</td>\n      <td>0.962</td>\n      <td>C0033860</td>\n      <td>Psoriasis</td>\n      <td>disease</td>\n      <td>C17</td>\n      <td>Disease or Syndrome</td>\n      <td>0.40</td>\n      <td>1.000</td>\n      <td>2002.0</td>\n      <td>2018.0</td>\n      <td>1</td>\n      <td>0</td>\n      <td>CTD_human</td>\n    </tr>\n    <tr>\n      <th>28107</th>\n      <td>3569</td>\n      <td>IL6</td>\n      <td>0.248</td>\n      <td>0.962</td>\n      <td>C0033860</td>\n      <td>Psoriasis</td>\n      <td>disease</td>\n      <td>C17</td>\n      <td>Disease or Syndrome</td>\n      <td>0.40</td>\n      <td>0.941</td>\n      <td>1989.0</td>\n      <td>2020.0</td>\n      <td>1</td>\n      <td>0</td>\n      <td>CTD_human</td>\n    </tr>\n    <tr>\n      <th>28672</th>\n      <td>3593</td>\n      <td>IL12B</td>\n      <td>0.480</td>\n      <td>0.885</td>\n      <td>C0033860</td>\n      <td>Psoriasis</td>\n      <td>disease</td>\n      <td>C17</td>\n      <td>Disease or Syndrome</td>\n      <td>0.50</td>\n      <td>0.880</td>\n      <td>2002.0</td>\n      <td>2019.0</td>\n      <td>3</td>\n      <td>2</td>\n      <td>CTD_human</td>\n    </tr>\n    <tr>\n      <th>28712</th>\n      <td>3596</td>\n      <td>IL13</td>\n      <td>0.386</td>\n      <td>0.846</td>\n      <td>C0033860</td>\n      <td>Psoriasis</td>\n      <td>disease</td>\n      <td>C17</td>\n      <td>Disease or Syndrome</td>\n      <td>0.50</td>\n      <td>0.923</td>\n      <td>1997.0</td>\n      <td>2019.0</td>\n      <td>2</td>\n      <td>0</td>\n      <td>CTD_human</td>\n    </tr>\n    <tr>\n      <th>33510</th>\n      <td>4288</td>\n      <td>MKI67</td>\n      <td>0.431</td>\n      <td>0.808</td>\n      <td>C0033860</td>\n      <td>Psoriasis</td>\n      <td>disease</td>\n      <td>C17</td>\n      <td>Disease or Syndrome</td>\n      <td>0.32</td>\n      <td>1.000</td>\n      <td>1999.0</td>\n      <td>2008.0</td>\n      <td>1</td>\n      <td>0</td>\n      <td>CTD_human</td>\n    </tr>\n    <tr>\n      <th>36272</th>\n      <td>4792</td>\n      <td>NFKBIA</td>\n      <td>0.487</td>\n      <td>0.885</td>\n      <td>C0033860</td>\n      <td>Psoriasis</td>\n      <td>disease</td>\n      <td>C17</td>\n      <td>Disease or Syndrome</td>\n      <td>0.33</td>\n      <td>1.000</td>\n      <td>2010.0</td>\n      <td>2019.0</td>\n      <td>1</td>\n      <td>0</td>\n      <td>CTD_human</td>\n    </tr>\n    <tr>\n      <th>36694</th>\n      <td>4843</td>\n      <td>NOS2</td>\n      <td>0.364</td>\n      <td>0.923</td>\n      <td>C0033860</td>\n      <td>Psoriasis</td>\n      <td>disease</td>\n      <td>C17</td>\n      <td>Disease or Syndrome</td>\n      <td>0.44</td>\n      <td>1.000</td>\n      <td>1996.0</td>\n      <td>2016.0</td>\n      <td>1</td>\n      <td>3</td>\n      <td>CTD_human</td>\n    </tr>\n    <tr>\n      <th>39082</th>\n      <td>5111</td>\n      <td>PCNA</td>\n      <td>0.382</td>\n      <td>0.846</td>\n      <td>C0033860</td>\n      <td>Psoriasis</td>\n      <td>disease</td>\n      <td>C17</td>\n      <td>Disease or Syndrome</td>\n      <td>0.33</td>\n      <td>1.000</td>\n      <td>1999.0</td>\n      <td>2019.0</td>\n      <td>1</td>\n      <td>0</td>\n      <td>CTD_human</td>\n    </tr>\n    <tr>\n      <th>40202</th>\n      <td>5271</td>\n      <td>SERPINB8</td>\n      <td>0.792</td>\n      <td>0.154</td>\n      <td>C0033860</td>\n      <td>Psoriasis</td>\n      <td>disease</td>\n      <td>C17</td>\n      <td>Disease or Syndrome</td>\n      <td>0.40</td>\n      <td>1.000</td>\n      <td>2010.0</td>\n      <td>2010.0</td>\n      <td>1</td>\n      <td>1</td>\n      <td>CTD_human</td>\n    </tr>\n    <tr>\n      <th>41993</th>\n      <td>5468</td>\n      <td>PPARG</td>\n      <td>0.358</td>\n      <td>0.885</td>\n      <td>C0033860</td>\n      <td>Psoriasis</td>\n      <td>disease</td>\n      <td>C17</td>\n      <td>Disease or Syndrome</td>\n      <td>0.34</td>\n      <td>1.000</td>\n      <td>2000.0</td>\n      <td>2020.0</td>\n      <td>1</td>\n      <td>0</td>\n      <td>CTD_human</td>\n    </tr>\n    <tr>\n      <th>45190</th>\n      <td>5966</td>\n      <td>REL</td>\n      <td>0.579</td>\n      <td>0.692</td>\n      <td>C0033860</td>\n      <td>Psoriasis</td>\n      <td>disease</td>\n      <td>C17</td>\n      <td>Disease or Syndrome</td>\n      <td>0.36</td>\n      <td>0.857</td>\n      <td>2006.0</td>\n      <td>2016.0</td>\n      <td>1</td>\n      <td>0</td>\n      <td>CTD_human</td>\n    </tr>\n    <tr>\n      <th>45298</th>\n      <td>5972</td>\n      <td>REN</td>\n      <td>0.370</td>\n      <td>0.923</td>\n      <td>C0033860</td>\n      <td>Psoriasis</td>\n      <td>disease</td>\n      <td>C17</td>\n      <td>Disease or Syndrome</td>\n      <td>0.32</td>\n      <td>1.000</td>\n      <td>1986.0</td>\n      <td>2018.0</td>\n      <td>1</td>\n      <td>0</td>\n      <td>CTD_human</td>\n    </tr>\n    <tr>\n      <th>46168</th>\n      <td>6278</td>\n      <td>S100A7</td>\n      <td>0.546</td>\n      <td>0.769</td>\n      <td>C0033860</td>\n      <td>Psoriasis</td>\n      <td>disease</td>\n      <td>C17</td>\n      <td>Disease or Syndrome</td>\n      <td>0.40</td>\n      <td>0.957</td>\n      <td>1995.0</td>\n      <td>2020.0</td>\n      <td>1</td>\n      <td>0</td>\n      <td>CTD_human</td>\n    </tr>\n    <tr>\n      <th>49392</th>\n      <td>6648</td>\n      <td>SOD2</td>\n      <td>0.379</td>\n      <td>0.923</td>\n      <td>C0033860</td>\n      <td>Psoriasis</td>\n      <td>disease</td>\n      <td>C17</td>\n      <td>Disease or Syndrome</td>\n      <td>0.31</td>\n      <td>0.500</td>\n      <td>1995.0</td>\n      <td>2014.0</td>\n      <td>1</td>\n      <td>0</td>\n      <td>CTD_human</td>\n    </tr>\n    <tr>\n      <th>50393</th>\n      <td>6774</td>\n      <td>STAT3</td>\n      <td>0.320</td>\n      <td>0.923</td>\n      <td>C0033860</td>\n      <td>Psoriasis</td>\n      <td>disease</td>\n      <td>C17</td>\n      <td>Disease or Syndrome</td>\n      <td>0.70</td>\n      <td>0.968</td>\n      <td>2005.0</td>\n      <td>2020.0</td>\n      <td>1</td>\n      <td>1</td>\n      <td>CTD_human</td>\n    </tr>\n    <tr>\n      <th>52014</th>\n      <td>7039</td>\n      <td>TGFA</td>\n      <td>0.432</td>\n      <td>0.885</td>\n      <td>C0033860</td>\n      <td>Psoriasis</td>\n      <td>disease</td>\n      <td>C17</td>\n      <td>Disease or Syndrome</td>\n      <td>0.37</td>\n      <td>1.000</td>\n      <td>1990.0</td>\n      <td>1997.0</td>\n      <td>1</td>\n      <td>0</td>\n      <td>CTD_human</td>\n    </tr>\n    <tr>\n      <th>53090</th>\n      <td>7124</td>\n      <td>TNF</td>\n      <td>0.231</td>\n      <td>0.962</td>\n      <td>C0033860</td>\n      <td>Psoriasis</td>\n      <td>disease</td>\n      <td>C17</td>\n      <td>Disease or Syndrome</td>\n      <td>0.40</td>\n      <td>0.979</td>\n      <td>1991.0</td>\n      <td>2020.0</td>\n      <td>2</td>\n      <td>0</td>\n      <td>CTD_human</td>\n    </tr>\n    <tr>\n      <th>53317</th>\n      <td>7128</td>\n      <td>TNFAIP3</td>\n      <td>0.481</td>\n      <td>0.808</td>\n      <td>C0033860</td>\n      <td>Psoriasis</td>\n      <td>disease</td>\n      <td>C17</td>\n      <td>Disease or Syndrome</td>\n      <td>0.50</td>\n      <td>0.966</td>\n      <td>2009.0</td>\n      <td>2019.0</td>\n      <td>2</td>\n      <td>3</td>\n      <td>CTD_human</td>\n    </tr>\n    <tr>\n      <th>53627</th>\n      <td>7157</td>\n      <td>TP53</td>\n      <td>0.236</td>\n      <td>0.962</td>\n      <td>C0033860</td>\n      <td>Psoriasis</td>\n      <td>disease</td>\n      <td>C17</td>\n      <td>Disease or Syndrome</td>\n      <td>0.40</td>\n      <td>1.000</td>\n      <td>1993.0</td>\n      <td>2018.0</td>\n      <td>1</td>\n      <td>0</td>\n      <td>CTD_human</td>\n    </tr>\n    <tr>\n      <th>54689</th>\n      <td>7297</td>\n      <td>TYK2</td>\n      <td>0.505</td>\n      <td>0.769</td>\n      <td>C0033860</td>\n      <td>Psoriasis</td>\n      <td>disease</td>\n      <td>C17</td>\n      <td>Disease or Syndrome</td>\n      <td>0.50</td>\n      <td>1.000</td>\n      <td>2010.0</td>\n      <td>2019.0</td>\n      <td>1</td>\n      <td>4</td>\n      <td>CTD_human</td>\n    </tr>\n    <tr>\n      <th>55322</th>\n      <td>7422</td>\n      <td>VEGFA</td>\n      <td>0.266</td>\n      <td>0.923</td>\n      <td>C0033860</td>\n      <td>Psoriasis</td>\n      <td>disease</td>\n      <td>C17</td>\n      <td>Disease or Syndrome</td>\n      <td>0.60</td>\n      <td>0.951</td>\n      <td>1994.0</td>\n      <td>2020.0</td>\n      <td>1</td>\n      <td>0</td>\n      <td>CTD_human</td>\n    </tr>\n    <tr>\n      <th>58927</th>\n      <td>8875</td>\n      <td>VNN2</td>\n      <td>0.691</td>\n      <td>0.346</td>\n      <td>C0033860</td>\n      <td>Psoriasis</td>\n      <td>disease</td>\n      <td>C17</td>\n      <td>Disease or Syndrome</td>\n      <td>0.31</td>\n      <td>1.000</td>\n      <td>2009.0</td>\n      <td>2009.0</td>\n      <td>1</td>\n      <td>0</td>\n      <td>CTD_human</td>\n    </tr>\n    <tr>\n      <th>58933</th>\n      <td>8876</td>\n      <td>VNN1</td>\n      <td>0.670</td>\n      <td>0.500</td>\n      <td>C0033860</td>\n      <td>Psoriasis</td>\n      <td>disease</td>\n      <td>C17</td>\n      <td>Disease or Syndrome</td>\n      <td>0.31</td>\n      <td>1.000</td>\n      <td>2009.0</td>\n      <td>2009.0</td>\n      <td>1</td>\n      <td>0</td>\n      <td>CTD_human</td>\n    </tr>\n    <tr>\n      <th>59777</th>\n      <td>9232</td>\n      <td>PTTG1</td>\n      <td>0.526</td>\n      <td>0.654</td>\n      <td>C0033860</td>\n      <td>Psoriasis</td>\n      <td>disease</td>\n      <td>C17</td>\n      <td>Disease or Syndrome</td>\n      <td>0.32</td>\n      <td>1.000</td>\n      <td>2010.0</td>\n      <td>2019.0</td>\n      <td>1</td>\n      <td>0</td>\n      <td>CTD_human</td>\n    </tr>\n    <tr>\n      <th>62662</th>\n      <td>10318</td>\n      <td>TNIP1</td>\n      <td>0.564</td>\n      <td>0.769</td>\n      <td>C0033860</td>\n      <td>Psoriasis</td>\n      <td>disease</td>\n      <td>C17</td>\n      <td>Disease or Syndrome</td>\n      <td>0.50</td>\n      <td>0.913</td>\n      <td>2009.0</td>\n      <td>2019.0</td>\n      <td>2</td>\n      <td>4</td>\n      <td>CTD_human</td>\n    </tr>\n    <tr>\n      <th>63155</th>\n      <td>10498</td>\n      <td>CARM1</td>\n      <td>0.601</td>\n      <td>0.692</td>\n      <td>C0033860</td>\n      <td>Psoriasis</td>\n      <td>disease</td>\n      <td>C17</td>\n      <td>Disease or Syndrome</td>\n      <td>0.30</td>\n      <td>1.000</td>\n      <td>2012.0</td>\n      <td>2012.0</td>\n      <td>1</td>\n      <td>0</td>\n      <td>CTD_human</td>\n    </tr>\n    <tr>\n      <th>63746</th>\n      <td>10758</td>\n      <td>TRAF3IP2</td>\n      <td>0.585</td>\n      <td>0.692</td>\n      <td>C0033860</td>\n      <td>Psoriasis</td>\n      <td>disease</td>\n      <td>C17</td>\n      <td>Disease or Syndrome</td>\n      <td>0.50</td>\n      <td>1.000</td>\n      <td>2010.0</td>\n      <td>2019.0</td>\n      <td>3</td>\n      <td>2</td>\n      <td>CTD_human</td>\n    </tr>\n    <tr>\n      <th>66573</th>\n      <td>23586</td>\n      <td>DDX58</td>\n      <td>0.526</td>\n      <td>0.808</td>\n      <td>C0033860</td>\n      <td>Psoriasis</td>\n      <td>disease</td>\n      <td>C17</td>\n      <td>Disease or Syndrome</td>\n      <td>0.42</td>\n      <td>1.000</td>\n      <td>2012.0</td>\n      <td>2016.0</td>\n      <td>1</td>\n      <td>1</td>\n      <td>CTD_human</td>\n    </tr>\n    <tr>\n      <th>67595</th>\n      <td>26525</td>\n      <td>IL36RN</td>\n      <td>0.638</td>\n      <td>0.538</td>\n      <td>C0033860</td>\n      <td>Psoriasis</td>\n      <td>disease</td>\n      <td>C17</td>\n      <td>Disease or Syndrome</td>\n      <td>0.38</td>\n      <td>1.000</td>\n      <td>2011.0</td>\n      <td>2019.0</td>\n      <td>0</td>\n      <td>0</td>\n      <td>CTD_human</td>\n    </tr>\n    <tr>\n      <th>68460</th>\n      <td>29785</td>\n      <td>CYP2S1</td>\n      <td>0.743</td>\n      <td>0.385</td>\n      <td>C0033860</td>\n      <td>Psoriasis</td>\n      <td>disease</td>\n      <td>C17</td>\n      <td>Disease or Syndrome</td>\n      <td>0.31</td>\n      <td>1.000</td>\n      <td>2003.0</td>\n      <td>2003.0</td>\n      <td>1</td>\n      <td>0</td>\n      <td>CTD_human</td>\n    </tr>\n    <tr>\n      <th>69673</th>\n      <td>51561</td>\n      <td>IL23A</td>\n      <td>0.415</td>\n      <td>0.846</td>\n      <td>C0033860</td>\n      <td>Psoriasis</td>\n      <td>disease</td>\n      <td>C17</td>\n      <td>Disease or Syndrome</td>\n      <td>0.40</td>\n      <td>0.956</td>\n      <td>2004.0</td>\n      <td>2020.0</td>\n      <td>2</td>\n      <td>0</td>\n      <td>CTD_human</td>\n    </tr>\n    <tr>\n      <th>69978</th>\n      <td>51752</td>\n      <td>ERAP1</td>\n      <td>0.556</td>\n      <td>0.692</td>\n      <td>C0033860</td>\n      <td>Psoriasis</td>\n      <td>disease</td>\n      <td>C17</td>\n      <td>Disease or Syndrome</td>\n      <td>0.50</td>\n      <td>0.950</td>\n      <td>2010.0</td>\n      <td>2018.0</td>\n      <td>4</td>\n      <td>4</td>\n      <td>CTD_human</td>\n    </tr>\n    <tr>\n      <th>70443</th>\n      <td>54620</td>\n      <td>FBXL19</td>\n      <td>0.821</td>\n      <td>0.192</td>\n      <td>C0033860</td>\n      <td>Psoriasis</td>\n      <td>disease</td>\n      <td>C17</td>\n      <td>Disease or Syndrome</td>\n      <td>0.41</td>\n      <td>1.000</td>\n      <td>2010.0</td>\n      <td>2015.0</td>\n      <td>1</td>\n      <td>1</td>\n      <td>CTD_human</td>\n    </tr>\n    <tr>\n      <th>71440</th>\n      <td>55350</td>\n      <td>VNN3</td>\n      <td>0.821</td>\n      <td>0.269</td>\n      <td>C0033860</td>\n      <td>Psoriasis</td>\n      <td>disease</td>\n      <td>C17</td>\n      <td>Disease or Syndrome</td>\n      <td>0.32</td>\n      <td>1.000</td>\n      <td>2009.0</td>\n      <td>2020.0</td>\n      <td>1</td>\n      <td>0</td>\n      <td>CTD_human</td>\n    </tr>\n    <tr>\n      <th>72043</th>\n      <td>55905</td>\n      <td>RNF114</td>\n      <td>0.839</td>\n      <td>0.077</td>\n      <td>C0033860</td>\n      <td>Psoriasis</td>\n      <td>disease</td>\n      <td>C17</td>\n      <td>Disease or Syndrome</td>\n      <td>0.47</td>\n      <td>1.000</td>\n      <td>2008.0</td>\n      <td>2018.0</td>\n      <td>1</td>\n      <td>2</td>\n      <td>CTD_human</td>\n    </tr>\n    <tr>\n      <th>73964</th>\n      <td>64135</td>\n      <td>IFIH1</td>\n      <td>0.471</td>\n      <td>0.808</td>\n      <td>C0033860</td>\n      <td>Psoriasis</td>\n      <td>disease</td>\n      <td>C17</td>\n      <td>Disease or Syndrome</td>\n      <td>0.44</td>\n      <td>1.000</td>\n      <td>2010.0</td>\n      <td>2018.0</td>\n      <td>1</td>\n      <td>4</td>\n      <td>CTD_human</td>\n    </tr>\n    <tr>\n      <th>74203</th>\n      <td>64478</td>\n      <td>CSMD1</td>\n      <td>0.610</td>\n      <td>0.500</td>\n      <td>C0033860</td>\n      <td>Psoriasis</td>\n      <td>disease</td>\n      <td>C17</td>\n      <td>Disease or Syndrome</td>\n      <td>0.41</td>\n      <td>1.000</td>\n      <td>2010.0</td>\n      <td>2015.0</td>\n      <td>1</td>\n      <td>3</td>\n      <td>CTD_human</td>\n    </tr>\n    <tr>\n      <th>74617</th>\n      <td>79092</td>\n      <td>CARD14</td>\n      <td>0.546</td>\n      <td>0.846</td>\n      <td>C0033860</td>\n      <td>Psoriasis</td>\n      <td>disease</td>\n      <td>C17</td>\n      <td>Disease or Syndrome</td>\n      <td>0.70</td>\n      <td>0.947</td>\n      <td>2003.0</td>\n      <td>2019.0</td>\n      <td>3</td>\n      <td>1</td>\n      <td>CTD_human;GENOMICS_ENGLAND</td>\n    </tr>\n    <tr>\n      <th>76576</th>\n      <td>84648</td>\n      <td>LCE3D</td>\n      <td>0.890</td>\n      <td>0.038</td>\n      <td>C0033860</td>\n      <td>Psoriasis</td>\n      <td>disease</td>\n      <td>C17</td>\n      <td>Disease or Syndrome</td>\n      <td>0.31</td>\n      <td>1.000</td>\n      <td>2010.0</td>\n      <td>2014.0</td>\n      <td>2</td>\n      <td>0</td>\n      <td>CTD_human</td>\n    </tr>\n    <tr>\n      <th>76999</th>\n      <td>85463</td>\n      <td>ZC3H12C</td>\n      <td>0.931</td>\n      <td>0.038</td>\n      <td>C0033860</td>\n      <td>Psoriasis</td>\n      <td>disease</td>\n      <td>C17</td>\n      <td>Disease or Syndrome</td>\n      <td>0.30</td>\n      <td>1.000</td>\n      <td>2012.0</td>\n      <td>2012.0</td>\n      <td>1</td>\n      <td>0</td>\n      <td>CTD_human</td>\n    </tr>\n    <tr>\n      <th>78029</th>\n      <td>117289</td>\n      <td>TAGAP</td>\n      <td>0.700</td>\n      <td>0.462</td>\n      <td>C0033860</td>\n      <td>Psoriasis</td>\n      <td>disease</td>\n      <td>C17</td>\n      <td>Disease or Syndrome</td>\n      <td>0.31</td>\n      <td>1.000</td>\n      <td>2012.0</td>\n      <td>2017.0</td>\n      <td>1</td>\n      <td>0</td>\n      <td>CTD_human</td>\n    </tr>\n    <tr>\n      <th>78301</th>\n      <td>125893</td>\n      <td>ZNF816</td>\n      <td>0.839</td>\n      <td>0.115</td>\n      <td>C0033860</td>\n      <td>Psoriasis</td>\n      <td>disease</td>\n      <td>C17</td>\n      <td>Disease or Syndrome</td>\n      <td>0.33</td>\n      <td>1.000</td>\n      <td>2010.0</td>\n      <td>2014.0</td>\n      <td>2</td>\n      <td>0</td>\n      <td>CTD_human</td>\n    </tr>\n    <tr>\n      <th>78422</th>\n      <td>130340</td>\n      <td>AP1S3</td>\n      <td>0.711</td>\n      <td>0.385</td>\n      <td>C0033860</td>\n      <td>Psoriasis</td>\n      <td>disease</td>\n      <td>C17</td>\n      <td>Disease or Syndrome</td>\n      <td>0.30</td>\n      <td>NaN</td>\n      <td>NaN</td>\n      <td>NaN</td>\n      <td>0</td>\n      <td>0</td>\n      <td>CTD_human</td>\n    </tr>\n    <tr>\n      <th>78986</th>\n      <td>149233</td>\n      <td>IL23R</td>\n      <td>0.466</td>\n      <td>0.769</td>\n      <td>C0033860</td>\n      <td>Psoriasis</td>\n      <td>disease</td>\n      <td>C17</td>\n      <td>Disease or Syndrome</td>\n      <td>0.50</td>\n      <td>0.917</td>\n      <td>2007.0</td>\n      <td>2019.0</td>\n      <td>3</td>\n      <td>4</td>\n      <td>CTD_human</td>\n    </tr>\n    <tr>\n      <th>79369</th>\n      <td>163702</td>\n      <td>IFNLR1</td>\n      <td>0.647</td>\n      <td>0.615</td>\n      <td>C0033860</td>\n      <td>Psoriasis</td>\n      <td>disease</td>\n      <td>C17</td>\n      <td>Disease or Syndrome</td>\n      <td>0.33</td>\n      <td>1.000</td>\n      <td>2010.0</td>\n      <td>2019.0</td>\n      <td>1</td>\n      <td>0</td>\n      <td>CTD_human</td>\n    </tr>\n    <tr>\n      <th>80520</th>\n      <td>338442</td>\n      <td>HCAR2</td>\n      <td>0.631</td>\n      <td>0.692</td>\n      <td>C0033860</td>\n      <td>Psoriasis</td>\n      <td>disease</td>\n      <td>C17</td>\n      <td>Disease or Syndrome</td>\n      <td>0.31</td>\n      <td>1.000</td>\n      <td>2008.0</td>\n      <td>2018.0</td>\n      <td>1</td>\n      <td>0</td>\n      <td>CTD_human</td>\n    </tr>\n    <tr>\n      <th>80838</th>\n      <td>353143</td>\n      <td>LCE3B</td>\n      <td>0.751</td>\n      <td>0.231</td>\n      <td>C0033860</td>\n      <td>Psoriasis</td>\n      <td>disease</td>\n      <td>C17</td>\n      <td>Disease or Syndrome</td>\n      <td>0.40</td>\n      <td>0.862</td>\n      <td>2009.0</td>\n      <td>2017.0</td>\n      <td>1</td>\n      <td>0</td>\n      <td>CTD_human</td>\n    </tr>\n    <tr>\n      <th>80840</th>\n      <td>353144</td>\n      <td>LCE3C</td>\n      <td>0.743</td>\n      <td>0.269</td>\n      <td>C0033860</td>\n      <td>Psoriasis</td>\n      <td>disease</td>\n      <td>C17</td>\n      <td>Disease or Syndrome</td>\n      <td>0.40</td>\n      <td>0.867</td>\n      <td>2009.0</td>\n      <td>2017.0</td>\n      <td>1</td>\n      <td>0</td>\n      <td>CTD_human</td>\n    </tr>\n  </tbody>\n</table>\n</div>"
     },
     "execution_count": 28,
     "metadata": {},
     "output_type": "execute_result"
    }
   ],
   "source": [
    "psoriasis_df"
   ],
   "metadata": {
    "collapsed": false,
    "pycharm": {
     "name": "#%%\n"
    }
   }
  },
  {
   "cell_type": "code",
   "execution_count": 52,
   "outputs": [
    {
     "data": {
      "text/plain": "['348', '847', '1384', '10249', '864']"
     },
     "execution_count": 52,
     "metadata": {},
     "output_type": "execute_result"
    }
   ],
   "source": [
    "gene_symbols = psoriasis_df['geneSymbol']\n",
    "\n",
    "gene_ids = []\n",
    "\n",
    "for gene_symbol in gene_symbols:\n",
    "    search_handle = Entrez.esearch(db='gene', term=f'{gene_symbol}[Gene Name] AND Homo sapiens[Organism]')\n",
    "    search_result = Entrez.read(search_handle)\n",
    "    gene_ids.extend(search_result['IdList'])\n",
    "\n",
    "gene_ids[:5]"
   ],
   "metadata": {
    "collapsed": false,
    "pycharm": {
     "name": "#%%\n"
    }
   }
  },
  {
   "cell_type": "code",
   "execution_count": 72,
   "outputs": [
    {
     "data": {
      "text/plain": "['348',\n '847',\n '1384',\n '10249',\n '864',\n '1356',\n '50820',\n '1401',\n '1465',\n '140913',\n '8494',\n '1437',\n '2706',\n '3107',\n '3553',\n '3565',\n '3569',\n '3593',\n '3596',\n '4288',\n '4792',\n '4843',\n '339345',\n '5111',\n '5271',\n '5468',\n '5966',\n '5972',\n '147040',\n '6278',\n '6648',\n '100129518',\n '6774',\n '7039',\n '7124',\n '7128',\n '7157',\n '7297',\n '7422',\n '8875',\n '8876',\n '9232',\n '10318',\n '10498',\n '10758',\n '23586',\n '26525',\n '29785',\n '51561',\n '51752',\n '54620',\n '55350',\n '55905',\n '64135',\n '64478',\n '79092',\n '84648',\n '85463',\n '117289',\n '94011',\n '125893',\n '130340',\n '149233',\n '163702',\n '338442',\n '353143',\n '353144']"
     },
     "execution_count": 72,
     "metadata": {},
     "output_type": "execute_result"
    }
   ],
   "source": [
    "gene_ids"
   ],
   "metadata": {
    "collapsed": false,
    "pycharm": {
     "name": "#%%\n"
    }
   }
  },
  {
   "cell_type": "code",
   "execution_count": 65,
   "outputs": [
    {
     "name": "stdout",
     "output_type": "stream",
     "text": [
      "348 APOE 44905796 44909393 568815579 plus\n"
     ]
    }
   ],
   "source": [
    "handle = Entrez.efetch(db='gene', id=gene_ids[0], rettype='xml')\n",
    "gene_info = ET.parse(handle).getroot()\n",
    "\n",
    "gene_symbol = gene_info.find('.//Gene-ref_locus').text\n",
    "gene_locus = gene_info.find('Entrezgene/Entrezgene_locus')\n",
    "region = gene_locus.find(\"Gene-commentary/Gene-commentary_seqs/Seq-loc/Seq-loc_int/Seq-interval\")\n",
    "start = int(region.find('Seq-interval_from').text) + 1\n",
    "end = int(region.find('Seq-interval_to').text) + 1\n",
    "gi_id = region.find('Seq-interval_id/Seq-id/Seq-id_gi').text\n",
    "strand = region.find('Seq-interval_strand/Na-strand').get('value')\n",
    "\n",
    "print(gene_ids[0], gene_symbol, start, end, gi_id, strand)"
   ],
   "metadata": {
    "collapsed": false,
    "pycharm": {
     "name": "#%%\n"
    }
   }
  },
  {
   "cell_type": "markdown",
   "source": [
    "#### output of all genes"
   ],
   "metadata": {
    "collapsed": false,
    "pycharm": {
     "name": "#%% md\n"
    }
   }
  },
  {
   "cell_type": "code",
   "execution_count": 73,
   "outputs": [
    {
     "data": {
      "text/plain": "'353144'"
     },
     "metadata": {},
     "output_type": "display_data"
    }
   ],
   "source": [
    "from IPython.display import clear_output, display\n",
    "\n",
    "genes = pd.DataFrame(columns=['gene_ids', 'geneSymbol', 'start', 'end', 'gi_id', 'strand'])\n",
    "\n",
    "data_list = []\n",
    "\n",
    "for id in gene_ids:\n",
    "    clear_output(wait=True)\n",
    "    display(id)\n",
    "    handle = Entrez.efetch(db='gene', id=id, rettype='xml')\n",
    "    gene_info = ET.parse(handle).getroot()\n",
    "\n",
    "    gene_symbol = gene_info.find('.//Gene-ref_locus').text\n",
    "    gene_locus = gene_info.find('Entrezgene/Entrezgene_locus')\n",
    "    region = gene_locus.find(\"Gene-commentary/Gene-commentary_seqs/Seq-loc/Seq-loc_int/Seq-interval\")\n",
    "    if region:\n",
    "        start = int(region.find('Seq-interval_from').text) + 1\n",
    "        end = int(region.find('Seq-interval_to').text) + 1\n",
    "        gi_id = region.find('Seq-interval_id/Seq-id/Seq-id_gi').text\n",
    "        strand = region.find('Seq-interval_strand/Na-strand').get('value')\n",
    "    else:\n",
    "        start = None\n",
    "        end = None\n",
    "        gi_id = None\n",
    "        strand = None\n",
    "\n",
    "\n",
    "    data = {'gene_ids': id, 'geneSymbol': gene_symbol, 'start': start, 'end': end, 'gi_id': gi_id, 'strand': strand}\n",
    "    data_list.append(data)"
   ],
   "metadata": {
    "collapsed": false,
    "pycharm": {
     "name": "#%%\n"
    }
   }
  },
  {
   "cell_type": "code",
   "execution_count": 75,
   "outputs": [
    {
     "data": {
      "text/plain": "    gene_ids geneSymbol        start          end      gi_id strand\n0        348       APOE   44905796.0   44909393.0  568815579   plus\n1        847        CAT   34438934.0   34472060.0  568815587   plus\n2       1384       CRAT  129094794.0  129110793.0  568815589  minus\n3      10249      GLYAT   58708757.0   58731943.0  568815587  minus\n4        864      RUNX3   24899511.0   24965138.0  568815597  minus\n..       ...        ...          ...          ...        ...    ...\n129   149233      IL23R   67138637.0   67265903.0  568815597   plus\n130   163702     IFNLR1   24154168.0   24187289.0  568815597  minus\n131   338442      HCAR2  122701293.0  122703357.0  568815586  minus\n132   353143      LCE3B  152613811.0  152614098.0  568815597   plus\n133   353144      LCE3C  152600234.0  152601086.0  568815597   plus\n\n[134 rows x 6 columns]",
      "text/html": "<div>\n<style scoped>\n    .dataframe tbody tr th:only-of-type {\n        vertical-align: middle;\n    }\n\n    .dataframe tbody tr th {\n        vertical-align: top;\n    }\n\n    .dataframe thead th {\n        text-align: right;\n    }\n</style>\n<table border=\"1\" class=\"dataframe\">\n  <thead>\n    <tr style=\"text-align: right;\">\n      <th></th>\n      <th>gene_ids</th>\n      <th>geneSymbol</th>\n      <th>start</th>\n      <th>end</th>\n      <th>gi_id</th>\n      <th>strand</th>\n    </tr>\n  </thead>\n  <tbody>\n    <tr>\n      <th>0</th>\n      <td>348</td>\n      <td>APOE</td>\n      <td>44905796.0</td>\n      <td>44909393.0</td>\n      <td>568815579</td>\n      <td>plus</td>\n    </tr>\n    <tr>\n      <th>1</th>\n      <td>847</td>\n      <td>CAT</td>\n      <td>34438934.0</td>\n      <td>34472060.0</td>\n      <td>568815587</td>\n      <td>plus</td>\n    </tr>\n    <tr>\n      <th>2</th>\n      <td>1384</td>\n      <td>CRAT</td>\n      <td>129094794.0</td>\n      <td>129110793.0</td>\n      <td>568815589</td>\n      <td>minus</td>\n    </tr>\n    <tr>\n      <th>3</th>\n      <td>10249</td>\n      <td>GLYAT</td>\n      <td>58708757.0</td>\n      <td>58731943.0</td>\n      <td>568815587</td>\n      <td>minus</td>\n    </tr>\n    <tr>\n      <th>4</th>\n      <td>864</td>\n      <td>RUNX3</td>\n      <td>24899511.0</td>\n      <td>24965138.0</td>\n      <td>568815597</td>\n      <td>minus</td>\n    </tr>\n    <tr>\n      <th>...</th>\n      <td>...</td>\n      <td>...</td>\n      <td>...</td>\n      <td>...</td>\n      <td>...</td>\n      <td>...</td>\n    </tr>\n    <tr>\n      <th>129</th>\n      <td>149233</td>\n      <td>IL23R</td>\n      <td>67138637.0</td>\n      <td>67265903.0</td>\n      <td>568815597</td>\n      <td>plus</td>\n    </tr>\n    <tr>\n      <th>130</th>\n      <td>163702</td>\n      <td>IFNLR1</td>\n      <td>24154168.0</td>\n      <td>24187289.0</td>\n      <td>568815597</td>\n      <td>minus</td>\n    </tr>\n    <tr>\n      <th>131</th>\n      <td>338442</td>\n      <td>HCAR2</td>\n      <td>122701293.0</td>\n      <td>122703357.0</td>\n      <td>568815586</td>\n      <td>minus</td>\n    </tr>\n    <tr>\n      <th>132</th>\n      <td>353143</td>\n      <td>LCE3B</td>\n      <td>152613811.0</td>\n      <td>152614098.0</td>\n      <td>568815597</td>\n      <td>plus</td>\n    </tr>\n    <tr>\n      <th>133</th>\n      <td>353144</td>\n      <td>LCE3C</td>\n      <td>152600234.0</td>\n      <td>152601086.0</td>\n      <td>568815597</td>\n      <td>plus</td>\n    </tr>\n  </tbody>\n</table>\n<p>134 rows × 6 columns</p>\n</div>"
     },
     "execution_count": 75,
     "metadata": {},
     "output_type": "execute_result"
    }
   ],
   "source": [
    "genes = pd.concat([genes, pd.DataFrame(data_list)], ignore_index=True)\n",
    "genes"
   ],
   "metadata": {
    "collapsed": false,
    "pycharm": {
     "name": "#%%\n"
    }
   }
  },
  {
   "cell_type": "markdown",
   "source": [
    "#### Chromosome"
   ],
   "metadata": {
    "collapsed": false,
    "pycharm": {
     "name": "#%% md\n"
    }
   }
  },
  {
   "cell_type": "code",
   "execution_count": 91,
   "outputs": [],
   "source": [
    "handle = Entrez.efetch(db=\"nucleotide\",\n",
    "                       id=\"NC_000019.10\",\n",
    "                       rettype = 'fasta',\n",
    "                       retmode = 'text')\n",
    "\n",
    "chromosome = SeqIO.read(handle, 'fasta')"
   ],
   "metadata": {
    "collapsed": false,
    "pycharm": {
     "name": "#%%\n"
    }
   }
  },
  {
   "cell_type": "code",
   "execution_count": 94,
   "outputs": [
    {
     "data": {
      "text/plain": "SeqRecord(seq=Seq('NNNNNNNNNNNNNNNNNNNNNNNNNNNNNNNNNNNNNNNNNNNNNNNNNNNNNN...NNN'), id='NC_000019.10', name='NC_000019.10', description='NC_000019.10 Homo sapiens chromosome 19, GRCh38.p14 Primary Assembly', dbxrefs=[])"
     },
     "execution_count": 94,
     "metadata": {},
     "output_type": "execute_result"
    }
   ],
   "source": [
    "chromosome"
   ],
   "metadata": {
    "collapsed": false,
    "pycharm": {
     "name": "#%%\n"
    }
   }
  },
  {
   "cell_type": "code",
   "execution_count": 100,
   "outputs": [
    {
     "name": "stdout",
     "output_type": "stream",
     "text": [
      "Symbol: 'N', count: 176858\n",
      "Symbol: 'G', count: 14061132\n",
      "Symbol: 'A', count: 15142293\n",
      "Symbol: 'T', count: 15282753\n",
      "Symbol: 'C', count: 13954580\n"
     ]
    }
   ],
   "source": [
    "character_counts = {}\n",
    "\n",
    "for char in chromosome.seq:\n",
    "    if char in character_counts:\n",
    "        character_counts[char] += 1\n",
    "    else:\n",
    "        character_counts[char] = 1\n",
    "\n",
    "for char, count in character_counts.items():\n",
    "    print(f\"Symbol: '{char}', count: {count}\")"
   ],
   "metadata": {
    "collapsed": false,
    "pycharm": {
     "name": "#%%\n"
    }
   }
  },
  {
   "cell_type": "code",
   "execution_count": null,
   "outputs": [],
   "source": [],
   "metadata": {
    "collapsed": false,
    "pycharm": {
     "name": "#%%\n"
    }
   }
  }
 ],
 "metadata": {
  "kernelspec": {
   "display_name": "Python 3",
   "language": "python",
   "name": "python3"
  },
  "language_info": {
   "codemirror_mode": {
    "name": "ipython",
    "version": 2
   },
   "file_extension": ".py",
   "mimetype": "text/x-python",
   "name": "python",
   "nbconvert_exporter": "python",
   "pygments_lexer": "ipython2",
   "version": "2.7.6"
  }
 },
 "nbformat": 4,
 "nbformat_minor": 0
}