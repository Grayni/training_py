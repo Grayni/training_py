{
 "cells": [
  {
   "cell_type": "code",
   "execution_count": 1,
   "metadata": {
    "collapsed": true
   },
   "outputs": [],
   "source": [
    "from Bio import Entrez\n",
    "from Bio import SeqIO\n",
    "Entrez.email = \"omenbestg@gmail.com\"\n",
    "import pandas as pd\n",
    "import xml.etree.ElementTree as ET"
   ]
  },
  {
   "cell_type": "code",
   "execution_count": 2,
   "outputs": [],
   "source": [
    "# First sequence\n",
    "with open('databases/APOE.fna', 'r') as input_file, open('databases/APOE2.fna', 'w') as output_file:\n",
    "    line_count = 0\n",
    "    for line in input_file:\n",
    "        if line.startswith('>'):\n",
    "            line_count += 1\n",
    "            if line_count > 1:\n",
    "                break\n",
    "        output_file.write(line)\n",
    "\n",
    "    input_file.seek(0)\n",
    "    output_file.seek(0)\n",
    "\n",
    "\n",
    "    # for num, line in enumerate(input_file):\n",
    "    #     if num > 0:\n",
    "    #         if line.startswith('>'):\n",
    "    #             break\n",
    "    #         output_file.write(line)\n",
    "    #\n",
    "    # input_file.seek(0)\n",
    "    # output_file.seek(0)"
   ],
   "metadata": {
    "collapsed": false,
    "pycharm": {
     "name": "#%%\n"
    }
   }
  },
  {
   "cell_type": "code",
   "execution_count": 3,
   "outputs": [
    {
     "data": {
      "text/plain": "Seq('CTACTCAGCCCCAGCGGAGGTGAAGGACGTCCTTCCCCAGGAGCCGGTGAGAAG...GCA')"
     },
     "execution_count": 3,
     "metadata": {},
     "output_type": "execute_result"
    }
   ],
   "source": [
    "read = SeqIO.read('databases/APOE2.fna', 'fasta')\n",
    "read.seq"
   ],
   "metadata": {
    "collapsed": false,
    "pycharm": {
     "name": "#%%\n"
    }
   }
  },
  {
   "cell_type": "code",
   "execution_count": 4,
   "outputs": [
    {
     "data": {
      "text/plain": "Seq('CTACTCAGCCCCAGCGGAGGTGAAGGACGTCCTTCCCCAGGAGCCG')"
     },
     "execution_count": 4,
     "metadata": {},
     "output_type": "execute_result"
    }
   ],
   "source": [
    "# Exon 1\n",
    "seq_sl1 = read.seq[0:46]\n",
    "seq_sl1"
   ],
   "metadata": {
    "collapsed": false,
    "pycharm": {
     "name": "#%%\n"
    }
   }
  },
  {
   "cell_type": "code",
   "execution_count": 5,
   "outputs": [
    {
     "data": {
      "text/plain": "Seq('ACTGGCCAATCACAGGCAGGAAGATGAAGGTTCTGTGGGCTGCGTTGCTGGTCA...CAG')"
     },
     "execution_count": 5,
     "metadata": {},
     "output_type": "execute_result"
    }
   ],
   "source": [
    "# Exon 2\n",
    "seq_sl2 = read.seq[806:872]\n",
    "seq_sl2"
   ],
   "metadata": {
    "collapsed": false,
    "pycharm": {
     "name": "#%%\n"
    }
   }
  },
  {
   "cell_type": "code",
   "execution_count": 6,
   "outputs": [
    {
     "data": {
      "text/plain": "Seq('GATGCCAGGCCAAGGTGGAGCAAGCGGTGGAGACAGAGCCGGAGCCCGAGCTGC...GAG')"
     },
     "execution_count": 6,
     "metadata": {},
     "output_type": "execute_result"
    }
   ],
   "source": [
    "# Exon 3\n",
    "seq_sl3 = read.seq[1964:2157]\n",
    "seq_sl3"
   ],
   "metadata": {
    "collapsed": false,
    "pycharm": {
     "name": "#%%\n"
    }
   }
  },
  {
   "cell_type": "code",
   "execution_count": 7,
   "outputs": [
    {
     "data": {
      "text/plain": "Seq('GGCGCTGATGGACGAGACCATGAAGGAGTTGAAGGCCTACAAATCGGAACTGGA...GCA')"
     },
     "execution_count": 7,
     "metadata": {},
     "output_type": "execute_result"
    }
   ],
   "source": [
    "# Exon 4\n",
    "seq_sl4 = read.seq[2737:3598]\n",
    "seq_sl4"
   ],
   "metadata": {
    "collapsed": false,
    "pycharm": {
     "name": "#%%\n"
    }
   }
  },
  {
   "cell_type": "code",
   "execution_count": 8,
   "outputs": [
    {
     "data": {
      "text/plain": "Seq('CTACTCAGCCCCAGCGGAGGTGAAGGACGTCCTTCCCCAGGAGCCGACTGGCCA...GCA')"
     },
     "execution_count": 8,
     "metadata": {},
     "output_type": "execute_result"
    }
   ],
   "source": [
    "# Concatenate Exons\n",
    "seq_sl = seq_sl1 + seq_sl2 + seq_sl3 + seq_sl4\n",
    "seq_sl"
   ],
   "metadata": {
    "collapsed": false,
    "pycharm": {
     "name": "#%%\n"
    }
   }
  },
  {
   "cell_type": "code",
   "execution_count": 9,
   "outputs": [
    {
     "data": {
      "text/plain": "Seq('GATGAGTCGGGGTCGCCTCCACTTCCTGCAGGAAGGGGTCCTCGGCTGACCGGT...CGT')"
     },
     "execution_count": 9,
     "metadata": {},
     "output_type": "execute_result"
    }
   ],
   "source": [
    "# Complement example\n",
    "seq_sl.complement()"
   ],
   "metadata": {
    "collapsed": false,
    "pycharm": {
     "name": "#%%\n"
    }
   }
  },
  {
   "cell_type": "code",
   "execution_count": 10,
   "outputs": [
    {
     "data": {
      "text/plain": "Seq('CUACUCAGCCCCAGCGGAGGUGAAGGACGUCCUUCCCCAGGAGCCGACUGGCCA...GCA')"
     },
     "execution_count": 10,
     "metadata": {},
     "output_type": "execute_result"
    }
   ],
   "source": [
    "# mRNA\n",
    "m_rna = seq_sl.transcribe()\n",
    "m_rna"
   ],
   "metadata": {
    "collapsed": false,
    "pycharm": {
     "name": "#%%\n"
    }
   }
  },
  {
   "cell_type": "code",
   "execution_count": 11,
   "outputs": [
    {
     "name": "stderr",
     "output_type": "stream",
     "text": [
      "C:\\Python310\\lib\\site-packages\\Bio\\Seq.py:2880: BiopythonWarning: Partial codon, len(sequence) not a multiple of three. Explicitly trim the sequence or add trailing N before translation. This may become an error in future.\n",
      "  warnings.warn(\n"
     ]
    },
    {
     "data": {
      "text/plain": "Seq('LLSPSGGEGRPSPGADWPITGRKMKVLWAALLVTFLAGCQAKVEQAVETEPEPE...SFT')"
     },
     "execution_count": 11,
     "metadata": {},
     "output_type": "execute_result"
    }
   ],
   "source": [
    "# Protein\n",
    "protein = m_rna.translate()\n",
    "protein"
   ],
   "metadata": {
    "collapsed": false,
    "pycharm": {
     "name": "#%%\n"
    }
   }
  },
  {
   "cell_type": "code",
   "execution_count": 12,
   "outputs": [
    {
     "data": {
      "text/plain": "False"
     },
     "execution_count": 12,
     "metadata": {},
     "output_type": "execute_result"
    }
   ],
   "source": [
    "seq_sl == m_rna\n",
    "\n",
    "# При транскрибировании Тимин(T) в ДНК заменяется на урацил(U) в мРНК\n",
    "# Если коротко, то Истинность будет только в том случае, если после сплайсинга не будет присутствовать нуклеотид\n",
    "# Тимин(Т). Т.к. цепочка достаточно длинная, то вероятность такого исхода крайне мала, имхо."
   ],
   "metadata": {
    "collapsed": false,
    "pycharm": {
     "name": "#%%\n"
    }
   }
  },
  {
   "cell_type": "code",
   "execution_count": 13,
   "outputs": [
    {
     "data": {
      "text/plain": "SeqRecord(seq=Seq('LLSPSGGEGRPSPGADWPITGRKMKVLWAALLVTFLAGCQAKVEQAVETEPEPE...SFT'), id='protein 1', name='', description='', dbxrefs=[])"
     },
     "execution_count": 13,
     "metadata": {},
     "output_type": "execute_result"
    }
   ],
   "source": [
    "from Bio.SeqRecord import SeqRecord\n",
    "record = SeqRecord(protein, \"protein 1\", \"\", \"\")\n",
    "record"
   ],
   "metadata": {
    "collapsed": false,
    "pycharm": {
     "name": "#%%\n"
    }
   }
  },
  {
   "cell_type": "code",
   "execution_count": 14,
   "outputs": [
    {
     "data": {
      "text/plain": "1"
     },
     "execution_count": 14,
     "metadata": {},
     "output_type": "execute_result"
    }
   ],
   "source": [
    "#Сохранить белок в fasta формате\n",
    "outputname = 'databases/protein.fasta'\n",
    "SeqIO.write(record, outputname,'fasta')"
   ],
   "metadata": {
    "collapsed": false,
    "pycharm": {
     "name": "#%%\n"
    }
   }
  }
 ],
 "metadata": {
  "kernelspec": {
   "display_name": "Python 3",
   "language": "python",
   "name": "python3"
  },
  "language_info": {
   "codemirror_mode": {
    "name": "ipython",
    "version": 2
   },
   "file_extension": ".py",
   "mimetype": "text/x-python",
   "name": "python",
   "nbconvert_exporter": "python",
   "pygments_lexer": "ipython2",
   "version": "2.7.6"
  }
 },
 "nbformat": 4,
 "nbformat_minor": 0
}