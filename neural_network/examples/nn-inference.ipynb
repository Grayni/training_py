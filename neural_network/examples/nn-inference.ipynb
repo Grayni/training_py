{
 "cells": [
  {
   "cell_type": "code",
   "execution_count": 56,
   "metadata": {
    "collapsed": true
   },
   "outputs": [],
   "source": [
    "import numpy as np"
   ]
  },
  {
   "cell_type": "code",
   "execution_count": 62,
   "outputs": [],
   "source": [
    "INPUT_DIM = 4  # 4 features\n",
    "OUT_DIM = 3  # Because, 3 classes\n",
    "H_DIM = 10  # Empirical choice\n",
    "\n",
    "x = np.random.randn(INPUT_DIM)  # input vector x (len(input_dim) = 4 => len(x) = 4)"
   ],
   "metadata": {
    "collapsed": false,
    "pycharm": {
     "name": "#%%\n"
    }
   }
  },
  {
   "cell_type": "code",
   "execution_count": 58,
   "outputs": [
    {
     "data": {
      "text/plain": "array([[-0.90403565,  0.64453043, -0.10725609, -0.373326  ,  2.5192487 ],\n       [-0.58084439, -1.1715984 , -0.01750212, -1.26919218, -0.93503232],\n       [-0.47795711, -2.08048811, -0.90000725,  0.81918653, -0.16209414],\n       [-0.16591303, -0.08026444, -0.6848979 ,  1.70681566,  1.17397583]])"
     },
     "execution_count": 58,
     "metadata": {},
     "output_type": "execute_result"
    }
   ],
   "source": [
    "# We decided that there would be two layers\n",
    "# So you need 2 weight matrices and 2 displacement vectors\n",
    "\n",
    "W1 = np.random.randn(INPUT_DIM, H_DIM)  # 1 weight matrix: rows, columns\n",
    "b1 = np.random.randn(H_DIM)  # 1 Displacement vector = value neurons in 1 layer\n",
    "\n",
    "W2 = np.random.randn(H_DIM, OUT_DIM)  # 2 weight matrix: rows, columns\n",
    "b2 = np.random.randn(OUT_DIM)  # 2 Displacement vector = value neurons in 2 layer\n",
    "\n",
    "W1"
   ],
   "metadata": {
    "collapsed": false,
    "pycharm": {
     "name": "#%%\n"
    }
   }
  },
  {
   "cell_type": "code",
   "execution_count": 59,
   "outputs": [],
   "source": [
    "# inference (Прямое распространение)\n",
    "\n",
    "def relu(t):\n",
    "    '''\n",
    "    function of activation\n",
    "    :return: np.maximum(t, 0)\n",
    "    '''\n",
    "\n",
    "    return np.maximum(t, 0)\n",
    "\n",
    "\n",
    "def softmax(t):\n",
    "    '''\n",
    "    :return: vector of probabilities\n",
    "    '''\n",
    "\n",
    "    out = np.exp(t)\n",
    "    return out / np.sum(out)\n",
    "\n",
    "\n",
    "def predict(x):\n",
    "    t1 = x @ W1  + b1  # sign @ -> vector * matrix | this linear part\n",
    "    h1 = relu(t1)  # nonlinear part\n",
    "\n",
    "    t2 = h1 @ W2 + b2\n",
    "    z = softmax(t2)  # vector of probabilities\n",
    "\n",
    "    return z"
   ],
   "metadata": {
    "collapsed": false,
    "pycharm": {
     "name": "#%%\n"
    }
   }
  },
  {
   "cell_type": "code",
   "execution_count": 60,
   "outputs": [],
   "source": [
    "probs = predict(x)\n",
    "\n",
    "pred_class = np.argmax(probs)"
   ],
   "metadata": {
    "collapsed": false,
    "pycharm": {
     "name": "#%%\n"
    }
   }
  },
  {
   "cell_type": "code",
   "execution_count": 61,
   "outputs": [
    {
     "name": "stdout",
     "output_type": "stream",
     "text": [
      "Predicted class: Setosa\n"
     ]
    }
   ],
   "source": [
    "class_names = ['Setosa', 'Versicolor', 'Virginica']\n",
    "\n",
    "print(f'Predicted class: {class_names[pred_class]}')"
   ],
   "metadata": {
    "collapsed": false,
    "pycharm": {
     "name": "#%%\n"
    }
   }
  },
  {
   "cell_type": "code",
   "execution_count": 61,
   "outputs": [],
   "source": [],
   "metadata": {
    "collapsed": false,
    "pycharm": {
     "name": "#%%\n"
    }
   }
  },
  {
   "cell_type": "code",
   "execution_count": 61,
   "outputs": [],
   "source": [],
   "metadata": {
    "collapsed": false,
    "pycharm": {
     "name": "#%%\n"
    }
   }
  },
  {
   "cell_type": "code",
   "execution_count": 61,
   "outputs": [],
   "source": [],
   "metadata": {
    "collapsed": false,
    "pycharm": {
     "name": "#%%\n"
    }
   }
  }
 ],
 "metadata": {
  "kernelspec": {
   "display_name": "Python 3",
   "language": "python",
   "name": "python3"
  },
  "language_info": {
   "codemirror_mode": {
    "name": "ipython",
    "version": 2
   },
   "file_extension": ".py",
   "mimetype": "text/x-python",
   "name": "python",
   "nbconvert_exporter": "python",
   "pygments_lexer": "ipython2",
   "version": "2.7.6"
  }
 },
 "nbformat": 4,
 "nbformat_minor": 0
}