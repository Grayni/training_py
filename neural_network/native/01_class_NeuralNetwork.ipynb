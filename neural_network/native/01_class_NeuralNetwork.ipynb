{
 "cells": [
  {
   "cell_type": "code",
   "execution_count": 21,
   "outputs": [],
   "source": [
    "import numpy as np\n",
    "import scipy.special as sc_sp"
   ],
   "metadata": {
    "collapsed": false,
    "pycharm": {
     "name": "#%%\n"
    }
   }
  },
  {
   "cell_type": "code",
   "execution_count": 32,
   "outputs": [],
   "source": [
    "class NeuralNetwork:\n",
    "\n",
    "    def __init__(self, input_nodes, hidden_nodes, output_nodes, learning_rate):\n",
    "\n",
    "        # Number of input neurons\n",
    "        self.input_nodes = input_nodes\n",
    "        # Number of hidden neurons\n",
    "        self.hidden_nodes = hidden_nodes\n",
    "        # Number of output neurons\n",
    "        self.output_nodes= output_nodes\n",
    "\n",
    "        # Learning rate\n",
    "        self.lr = learning_rate\n",
    "\n",
    "        # weights input-hidden (normal distribution)\n",
    "        self.wih = np.random.normal(0.0, pow(self.hidden_nodes, -0.5), (self.hidden_nodes, self.input_nodes))\n",
    "        # weights hidden-output (normal distribution)\n",
    "        self.who = np.random.normal(0.0, pow(self.output_nodes, -0.5), (self.output_nodes, self.hidden_nodes))\n",
    "\n",
    "        # Activation function (sigmoid)\n",
    "        self.activation = lambda x: sc_sp.expit(x)\n",
    "\n",
    "    def configuration(self):\n",
    "        print(f'Input nodes: {self.input_nodes}')\n",
    "        print(f'Hidden nodes: {self.hidden_nodes}')\n",
    "        print(f'Output nodes: {self.output_nodes}')\n",
    "        print(f'Learning rate: {self.lr}')\n",
    "\n",
    "    def train(self):\n",
    "        pass\n",
    "\n",
    "    def query(self, inputs_list):\n",
    "        # Transform of List -> two-dimensional array\n",
    "        inputs = np.array(inputs_list, ndmin=2).T\n",
    "\n",
    "        # Input Signals for hidden layer\n",
    "        hidden_inputs = np.dot(self.wih, inputs)\n",
    "        # Output Signals for hidden layer\n",
    "        hidden_outputs = self.activation(hidden_inputs)\n",
    "\n",
    "        # Input Signals for final(output) layer\n",
    "        final_inputs = np.dot(self.who, hidden_outputs)\n",
    "        # Output Signals for final(output) layer\n",
    "        final_outputs = self.activation(final_inputs)\n",
    "\n",
    "        return final_outputs"
   ],
   "metadata": {
    "collapsed": false,
    "pycharm": {
     "name": "#%%\n"
    }
   }
  },
  {
   "cell_type": "code",
   "execution_count": 33,
   "outputs": [],
   "source": [
    "NN = NeuralNetwork(3, 3, 3, 0.1)"
   ],
   "metadata": {
    "collapsed": false,
    "pycharm": {
     "name": "#%%\n"
    }
   }
  },
  {
   "cell_type": "code",
   "execution_count": 34,
   "outputs": [
    {
     "name": "stdout",
     "output_type": "stream",
     "text": [
      "Input nodes: 3\n",
      "Hidden nodes: 3\n",
      "Output nodes: 3\n",
      "Learning rate: 0.1\n"
     ]
    }
   ],
   "source": [
    "NN.configuration()"
   ],
   "metadata": {
    "collapsed": false,
    "pycharm": {
     "name": "#%%\n"
    }
   }
  },
  {
   "cell_type": "code",
   "execution_count": 35,
   "outputs": [
    {
     "data": {
      "text/plain": "array([[ 0.52303494, -0.5364453 , -0.47080922],\n       [-0.06344025,  0.86454885, -0.36066937],\n       [-0.57829721, -0.30579777, -0.17274385]])"
     },
     "execution_count": 35,
     "metadata": {},
     "output_type": "execute_result"
    }
   ],
   "source": [
    "(np.random.rand(3, 3) - 0.5) * 2"
   ],
   "metadata": {
    "collapsed": false,
    "pycharm": {
     "name": "#%%\n"
    }
   }
  },
  {
   "cell_type": "code",
   "execution_count": 36,
   "outputs": [
    {
     "data": {
      "text/plain": "array([[0.64742212, 0.66885531, 0.57296018],\n       [0.50859214, 0.56487101, 0.54206775],\n       [0.38091759, 0.40192161, 0.4720964 ]])"
     },
     "execution_count": 36,
     "metadata": {},
     "output_type": "execute_result"
    }
   ],
   "source": [
    "NN.query()"
   ],
   "metadata": {
    "collapsed": false,
    "pycharm": {
     "name": "#%%\n"
    }
   }
  },
  {
   "cell_type": "code",
   "execution_count": null,
   "outputs": [],
   "source": [],
   "metadata": {
    "collapsed": false,
    "pycharm": {
     "name": "#%%\n"
    }
   }
  }
 ],
 "metadata": {
  "kernelspec": {
   "display_name": "Python 3",
   "language": "python",
   "name": "python3"
  },
  "language_info": {
   "codemirror_mode": {
    "name": "ipython",
    "version": 2
   },
   "file_extension": ".py",
   "mimetype": "text/x-python",
   "name": "python",
   "nbconvert_exporter": "python",
   "pygments_lexer": "ipython2",
   "version": "2.7.6"
  }
 },
 "nbformat": 4,
 "nbformat_minor": 0
}