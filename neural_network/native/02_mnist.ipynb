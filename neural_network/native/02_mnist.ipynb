{
 "cells": [
  {
   "cell_type": "code",
   "execution_count": 923,
   "metadata": {
    "collapsed": true
   },
   "outputs": [],
   "source": [
    "import scipy.special as sc_sp\n",
    "import numpy as np\n",
    "import matplotlib.pyplot as plt\n",
    "%matplotlib inline"
   ]
  },
  {
   "cell_type": "code",
   "execution_count": 924,
   "outputs": [],
   "source": [
    "# Load train dataset\n",
    "with open('../data/mnist/demo/mnist_train_100.csv', 'r') as f_train:\n",
    "    train_data_demo = [line.rstrip() for line in f_train]"
   ],
   "metadata": {
    "collapsed": false,
    "pycharm": {
     "name": "#%%\n"
    }
   }
  },
  {
   "cell_type": "code",
   "execution_count": 925,
   "outputs": [
    {
     "name": "stdout",
     "output_type": "stream",
     "text": [
      "[  0.   0.   0.   0.   0.   0.   0.   0.   0.   0.   0.   0.   0.   0.\n",
      "   0.   0.   0.   0.   0.   0.   0.   0.   0.   0.   0.   0.   0.   0.\n",
      "   0.   0.   0.   0.   0.   0.   0.   0.   0.   0.   0.   0.   0.   0.\n",
      "   0.   0.   0.   0.   0.   0.   0.   0.   0.   0.   0.   0.   0.   0.\n",
      "   0.   0.   0.   0.   0.   0.   0.   0.   0.   0.   0.   0.   0.   0.\n",
      "   0.   0.   0.   0.   0.   0.   0.   0.   0.   0.   0.   0.   0.   0.\n",
      "   0.   0.   0.   0.   0.   0.   0.   0.   0.   0.   0.   0.   0.   0.\n",
      "   0.   0.   0.   0.   0.   0.   0.   0.   0.   0.   0.   0.   0.   0.\n",
      "   0.   0.   0.   0.   0.   0.   0.   0.   0.   0.   0.   0.   0.   0.\n",
      "   0.  51. 159. 253. 159.  50.   0.   0.   0.   0.   0.   0.   0.   0.\n",
      "   0.   0.   0.   0.   0.   0.   0.   0.   0.   0.   0.   0.   0.   0.\n",
      "  48. 238. 252. 252. 252. 237.   0.   0.   0.   0.   0.   0.   0.   0.\n",
      "   0.   0.   0.   0.   0.   0.   0.   0.   0.   0.   0.   0.   0.  54.\n",
      " 227. 253. 252. 239. 233. 252.  57.   6.   0.   0.   0.   0.   0.   0.\n",
      "   0.   0.   0.   0.   0.   0.   0.   0.   0.   0.   0.  10.  60. 224.\n",
      " 252. 253. 252. 202.  84. 252. 253. 122.   0.   0.   0.   0.   0.   0.\n",
      "   0.   0.   0.   0.   0.   0.   0.   0.   0.   0.   0. 163. 252. 252.\n",
      " 252. 253. 252. 252.  96. 189. 253. 167.   0.   0.   0.   0.   0.   0.\n",
      "   0.   0.   0.   0.   0.   0.   0.   0.   0.   0.  51. 238. 253. 253.\n",
      " 190. 114. 253. 228.  47.  79. 255. 168.   0.   0.   0.   0.   0.   0.\n",
      "   0.   0.   0.   0.   0.   0.   0.   0.   0.  48. 238. 252. 252. 179.\n",
      "  12.  75. 121.  21.   0.   0. 253. 243.  50.   0.   0.   0.   0.   0.\n",
      "   0.   0.   0.   0.   0.   0.   0.   0.  38. 165. 253. 233. 208.  84.\n",
      "   0.   0.   0.   0.   0.   0. 253. 252. 165.   0.   0.   0.   0.   0.\n",
      "   0.   0.   0.   0.   0.   0.   0.   7. 178. 252. 240.  71.  19.  28.\n",
      "   0.   0.   0.   0.   0.   0. 253. 252. 195.   0.   0.   0.   0.   0.\n",
      "   0.   0.   0.   0.   0.   0.   0.  57. 252. 252.  63.   0.   0.   0.\n",
      "   0.   0.   0.   0.   0.   0. 253. 252. 195.   0.   0.   0.   0.   0.\n",
      "   0.   0.   0.   0.   0.   0.   0. 198. 253. 190.   0.   0.   0.   0.\n",
      "   0.   0.   0.   0.   0.   0. 255. 253. 196.   0.   0.   0.   0.   0.\n",
      "   0.   0.   0.   0.   0.   0.  76. 246. 252. 112.   0.   0.   0.   0.\n",
      "   0.   0.   0.   0.   0.   0. 253. 252. 148.   0.   0.   0.   0.   0.\n",
      "   0.   0.   0.   0.   0.   0.  85. 252. 230.  25.   0.   0.   0.   0.\n",
      "   0.   0.   0.   0.   7. 135. 253. 186.  12.   0.   0.   0.   0.   0.\n",
      "   0.   0.   0.   0.   0.   0.  85. 252. 223.   0.   0.   0.   0.   0.\n",
      "   0.   0.   0.   7. 131. 252. 225.  71.   0.   0.   0.   0.   0.   0.\n",
      "   0.   0.   0.   0.   0.   0.  85. 252. 145.   0.   0.   0.   0.   0.\n",
      "   0.   0.  48. 165. 252. 173.   0.   0.   0.   0.   0.   0.   0.   0.\n",
      "   0.   0.   0.   0.   0.   0.  86. 253. 225.   0.   0.   0.   0.   0.\n",
      "   0. 114. 238. 253. 162.   0.   0.   0.   0.   0.   0.   0.   0.   0.\n",
      "   0.   0.   0.   0.   0.   0.  85. 252. 249. 146.  48.  29.  85. 178.\n",
      " 225. 253. 223. 167.  56.   0.   0.   0.   0.   0.   0.   0.   0.   0.\n",
      "   0.   0.   0.   0.   0.   0.  85. 252. 252. 252. 229. 215. 252. 252.\n",
      " 252. 196. 130.   0.   0.   0.   0.   0.   0.   0.   0.   0.   0.   0.\n",
      "   0.   0.   0.   0.   0.   0.  28. 199. 252. 252. 253. 252. 252. 233.\n",
      " 145.   0.   0.   0.   0.   0.   0.   0.   0.   0.   0.   0.   0.   0.\n",
      "   0.   0.   0.   0.   0.   0.   0.  25. 128. 252. 253. 252. 141.  37.\n",
      "   0.   0.   0.   0.   0.   0.   0.   0.   0.   0.   0.   0.   0.   0.\n",
      "   0.   0.   0.   0.   0.   0.   0.   0.   0.   0.   0.   0.   0.   0.\n",
      "   0.   0.   0.   0.   0.   0.   0.   0.   0.   0.   0.   0.   0.   0.\n",
      "   0.   0.   0.   0.   0.   0.   0.   0.   0.   0.   0.   0.   0.   0.\n",
      "   0.   0.   0.   0.   0.   0.   0.   0.   0.   0.   0.   0.   0.   0.\n",
      "   0.   0.   0.   0.   0.   0.   0.   0.   0.   0.   0.   0.   0.   0.\n",
      "   0.   0.   0.   0.   0.   0.   0.   0.   0.   0.   0.   0.   0.   0.\n",
      "   0.   0.   0.   0.   0.   0.   0.   0.   0.   0.   0.   0.   0.   0.\n",
      "   0.   0.   0.   0.   0.   0.   0.   0.   0.   0.   0.   0.   0.   0.]\n"
     ]
    }
   ],
   "source": [
    "image_2 = train_data_demo[1].split(',')\n",
    "print(np.asfarray(image_2[1:]))"
   ],
   "metadata": {
    "collapsed": false,
    "pycharm": {
     "name": "#%%\n"
    }
   }
  },
  {
   "cell_type": "code",
   "execution_count": 926,
   "outputs": [
    {
     "data": {
      "text/plain": "<Figure size 640x480 with 2 Axes>",
      "image/png": "[encoded data removed]"
     },
     "metadata": {},
     "output_type": "display_data"
    }
   ],
   "source": [
    "# values = list(map(int, lines[0].split(',')))\n",
    "all_values = train_data_demo[0].split(',')\n",
    "\n",
    "# np.asfarray: str values -> int values in array\n",
    "image_array_1 = np.asfarray(all_values[1:]).reshape((28, -1))\n",
    "\n",
    "# plt.imshow -> value => color of pixel\n",
    "figure, axis = plt.subplots(1, 2)\n",
    "axis[0].imshow(image_array_1, cmap='Greys', interpolation='lanczos')\n",
    "axis[1].imshow(image_array_1, cmap='Greys', interpolation=None)\n",
    "plt.show()"
   ],
   "metadata": {
    "collapsed": false,
    "pycharm": {
     "name": "#%%\n"
    }
   }
  },
  {
   "cell_type": "code",
   "execution_count": 927,
   "outputs": [],
   "source": [
    "scaled_input = (np.asfarray(all_values[1:]) / 255.0 * 0.99) + 0.01"
   ],
   "metadata": {
    "collapsed": false,
    "pycharm": {
     "name": "#%%\n"
    }
   }
  },
  {
   "cell_type": "code",
   "execution_count": 928,
   "outputs": [
    {
     "data": {
      "text/plain": "array([0.01      , 0.01      , 0.01      , 0.01      , 0.01      ,\n       0.01      , 0.01      , 0.01      , 0.01      , 0.01      ,\n       0.01      , 0.01      , 0.01      , 0.01      , 0.01      ,\n       0.01      , 0.01      , 0.01      , 0.01      , 0.01      ,\n       0.01      , 0.01      , 0.01      , 0.01      , 0.01      ,\n       0.01      , 0.01      , 0.01      , 0.01      , 0.01      ,\n       0.01      , 0.01      , 0.01      , 0.01      , 0.01      ,\n       0.01      , 0.01      , 0.01      , 0.01      , 0.01      ,\n       0.01      , 0.01      , 0.01      , 0.01      , 0.01      ,\n       0.01      , 0.01      , 0.01      , 0.01      , 0.01      ,\n       0.01      , 0.01      , 0.01      , 0.01      , 0.01      ,\n       0.01      , 0.01      , 0.01      , 0.01      , 0.01      ,\n       0.01      , 0.01      , 0.01      , 0.01      , 0.01      ,\n       0.01      , 0.01      , 0.01      , 0.01      , 0.01      ,\n       0.01      , 0.01      , 0.01      , 0.01      , 0.01      ,\n       0.01      , 0.01      , 0.01      , 0.01      , 0.01      ,\n       0.01      , 0.01      , 0.01      , 0.01      , 0.01      ,\n       0.01      , 0.01      , 0.01      , 0.01      , 0.01      ,\n       0.01      , 0.01      , 0.01      , 0.01      , 0.01      ,\n       0.01      , 0.01      , 0.01      , 0.01      , 0.01      ,\n       0.01      , 0.01      , 0.01      , 0.01      , 0.01      ,\n       0.01      , 0.01      , 0.01      , 0.01      , 0.01      ,\n       0.01      , 0.01      , 0.01      , 0.01      , 0.01      ,\n       0.01      , 0.01      , 0.01      , 0.01      , 0.01      ,\n       0.01      , 0.01      , 0.01      , 0.01      , 0.01      ,\n       0.01      , 0.01      , 0.01      , 0.01      , 0.01      ,\n       0.01      , 0.01      , 0.01      , 0.01      , 0.01      ,\n       0.01      , 0.01      , 0.01      , 0.01      , 0.01      ,\n       0.01      , 0.01      , 0.01      , 0.01      , 0.01      ,\n       0.01      , 0.01      , 0.01      , 0.01      , 0.01      ,\n       0.01      , 0.01      , 0.02164706, 0.07988235, 0.07988235,\n       0.07988235, 0.49917647, 0.538     , 0.68941176, 0.11094118,\n       0.65447059, 1.        , 0.96894118, 0.50305882, 0.01      ,\n       0.01      , 0.01      , 0.01      , 0.01      , 0.01      ,\n       0.01      , 0.01      , 0.01      , 0.01      , 0.01      ,\n       0.01      , 0.12647059, 0.14976471, 0.37494118, 0.60788235,\n       0.67      , 0.99223529, 0.99223529, 0.99223529, 0.99223529,\n       0.99223529, 0.88352941, 0.67776471, 0.99223529, 0.94952941,\n       0.76705882, 0.25847059, 0.01      , 0.01      , 0.01      ,\n       0.01      , 0.01      , 0.01      , 0.01      , 0.01      ,\n       0.01      , 0.01      , 0.01      , 0.20023529, 0.934     ,\n       0.99223529, 0.99223529, 0.99223529, 0.99223529, 0.99223529,\n       0.99223529, 0.99223529, 0.99223529, 0.98447059, 0.37105882,\n       0.32835294, 0.32835294, 0.22741176, 0.16141176, 0.01      ,\n       0.01      , 0.01      , 0.01      , 0.01      , 0.01      ,\n       0.01      , 0.01      , 0.01      , 0.01      , 0.01      ,\n       0.01      , 0.07988235, 0.86023529, 0.99223529, 0.99223529,\n       0.99223529, 0.99223529, 0.99223529, 0.77870588, 0.71658824,\n       0.96894118, 0.94564706, 0.01      , 0.01      , 0.01      ,\n       0.01      , 0.01      , 0.01      , 0.01      , 0.01      ,\n       0.01      , 0.01      , 0.01      , 0.01      , 0.01      ,\n       0.01      , 0.01      , 0.01      , 0.01      , 0.01      ,\n       0.32058824, 0.61564706, 0.42541176, 0.99223529, 0.99223529,\n       0.80588235, 0.05270588, 0.01      , 0.17694118, 0.60788235,\n       0.01      , 0.01      , 0.01      , 0.01      , 0.01      ,\n       0.01      , 0.01      , 0.01      , 0.01      , 0.01      ,\n       0.01      , 0.01      , 0.01      , 0.01      , 0.01      ,\n       0.01      , 0.01      , 0.01      , 0.01      , 0.06435294,\n       0.01388235, 0.60788235, 0.99223529, 0.35941176, 0.01      ,\n       0.01      , 0.01      , 0.01      , 0.01      , 0.01      ,\n       0.01      , 0.01      , 0.01      , 0.01      , 0.01      ,\n       0.01      , 0.01      , 0.01      , 0.01      , 0.01      ,\n       0.01      , 0.01      , 0.01      , 0.01      , 0.01      ,\n       0.01      , 0.01      , 0.01      , 0.01      , 0.54964706,\n       0.99223529, 0.74764706, 0.01776471, 0.01      , 0.01      ,\n       0.01      , 0.01      , 0.01      , 0.01      , 0.01      ,\n       0.01      , 0.01      , 0.01      , 0.01      , 0.01      ,\n       0.01      , 0.01      , 0.01      , 0.01      , 0.01      ,\n       0.01      , 0.01      , 0.01      , 0.01      , 0.01      ,\n       0.01      , 0.01      , 0.05270588, 0.74764706, 0.99223529,\n       0.28176471, 0.01      , 0.01      , 0.01      , 0.01      ,\n       0.01      , 0.01      , 0.01      , 0.01      , 0.01      ,\n       0.01      , 0.01      , 0.01      , 0.01      , 0.01      ,\n       0.01      , 0.01      , 0.01      , 0.01      , 0.01      ,\n       0.01      , 0.01      , 0.01      , 0.01      , 0.01      ,\n       0.01      , 0.14588235, 0.94564706, 0.88352941, 0.63117647,\n       0.42929412, 0.01388235, 0.01      , 0.01      , 0.01      ,\n       0.01      , 0.01      , 0.01      , 0.01      , 0.01      ,\n       0.01      , 0.01      , 0.01      , 0.01      , 0.01      ,\n       0.01      , 0.01      , 0.01      , 0.01      , 0.01      ,\n       0.01      , 0.01      , 0.01      , 0.01      , 0.01      ,\n       0.32447059, 0.94176471, 0.99223529, 0.99223529, 0.472     ,\n       0.10705882, 0.01      , 0.01      , 0.01      , 0.01      ,\n       0.01      , 0.01      , 0.01      , 0.01      , 0.01      ,\n       0.01      , 0.01      , 0.01      , 0.01      , 0.01      ,\n       0.01      , 0.01      , 0.01      , 0.01      , 0.01      ,\n       0.01      , 0.01      , 0.01      , 0.01      , 0.18470588,\n       0.73211765, 0.99223529, 0.99223529, 0.59235294, 0.11482353,\n       0.01      , 0.01      , 0.01      , 0.01      , 0.01      ,\n       0.01      , 0.01      , 0.01      , 0.01      , 0.01      ,\n       0.01      , 0.01      , 0.01      , 0.01      , 0.01      ,\n       0.01      , 0.01      , 0.01      , 0.01      , 0.01      ,\n       0.01      , 0.01      , 0.01      , 0.07211765, 0.37105882,\n       0.98835294, 0.99223529, 0.736     , 0.01      , 0.01      ,\n       0.01      , 0.01      , 0.01      , 0.01      , 0.01      ,\n       0.01      , 0.01      , 0.01      , 0.01      , 0.01      ,\n       0.01      , 0.01      , 0.01      , 0.01      , 0.01      ,\n       0.01      , 0.01      , 0.01      , 0.01      , 0.01      ,\n       0.01      , 0.01      , 0.01      , 0.97670588, 0.99223529,\n       0.97670588, 0.25847059, 0.01      , 0.01      , 0.01      ,\n       0.01      , 0.01      , 0.01      , 0.01      , 0.01      ,\n       0.01      , 0.01      , 0.01      , 0.01      , 0.01      ,\n       0.01      , 0.01      , 0.01      , 0.01      , 0.01      ,\n       0.01      , 0.01      , 0.01      , 0.18858824, 0.51470588,\n       0.72047059, 0.99223529, 0.99223529, 0.81364706, 0.01776471,\n       0.01      , 0.01      , 0.01      , 0.01      , 0.01      ,\n       0.01      , 0.01      , 0.01      , 0.01      , 0.01      ,\n       0.01      , 0.01      , 0.01      , 0.01      , 0.01      ,\n       0.01      , 0.01      , 0.01      , 0.01      , 0.16141176,\n       0.58458824, 0.89905882, 0.99223529, 0.99223529, 0.99223529,\n       0.98058824, 0.71658824, 0.01      , 0.01      , 0.01      ,\n       0.01      , 0.01      , 0.01      , 0.01      , 0.01      ,\n       0.01      , 0.01      , 0.01      , 0.01      , 0.01      ,\n       0.01      , 0.01      , 0.01      , 0.01      , 0.01      ,\n       0.10317647, 0.45258824, 0.868     , 0.99223529, 0.99223529,\n       0.99223529, 0.99223529, 0.79035294, 0.31282353, 0.01      ,\n       0.01      , 0.01      , 0.01      , 0.01      , 0.01      ,\n       0.01      , 0.01      , 0.01      , 0.01      , 0.01      ,\n       0.01      , 0.01      , 0.01      , 0.01      , 0.01      ,\n       0.01      , 0.09929412, 0.26623529, 0.83694118, 0.99223529,\n       0.99223529, 0.99223529, 0.99223529, 0.77870588, 0.32447059,\n       0.01776471, 0.01      , 0.01      , 0.01      , 0.01      ,\n       0.01      , 0.01      , 0.01      , 0.01      , 0.01      ,\n       0.01      , 0.01      , 0.01      , 0.01      , 0.01      ,\n       0.01      , 0.01      , 0.07988235, 0.67388235, 0.86023529,\n       0.99223529, 0.99223529, 0.99223529, 0.99223529, 0.76705882,\n       0.32058824, 0.04494118, 0.01      , 0.01      , 0.01      ,\n       0.01      , 0.01      , 0.01      , 0.01      , 0.01      ,\n       0.01      , 0.01      , 0.01      , 0.01      , 0.01      ,\n       0.01      , 0.01      , 0.01      , 0.22352941, 0.67776471,\n       0.88741176, 0.99223529, 0.99223529, 0.99223529, 0.99223529,\n       0.95729412, 0.52635294, 0.05270588, 0.01      , 0.01      ,\n       0.01      , 0.01      , 0.01      , 0.01      , 0.01      ,\n       0.01      , 0.01      , 0.01      , 0.01      , 0.01      ,\n       0.01      , 0.01      , 0.01      , 0.01      , 0.01      ,\n       0.01      , 0.538     , 0.99223529, 0.99223529, 0.99223529,\n       0.83305882, 0.53411765, 0.52247059, 0.07211765, 0.01      ,\n       0.01      , 0.01      , 0.01      , 0.01      , 0.01      ,\n       0.01      , 0.01      , 0.01      , 0.01      , 0.01      ,\n       0.01      , 0.01      , 0.01      , 0.01      , 0.01      ,\n       0.01      , 0.01      , 0.01      , 0.01      , 0.01      ,\n       0.01      , 0.01      , 0.01      , 0.01      , 0.01      ,\n       0.01      , 0.01      , 0.01      , 0.01      , 0.01      ,\n       0.01      , 0.01      , 0.01      , 0.01      , 0.01      ,\n       0.01      , 0.01      , 0.01      , 0.01      , 0.01      ,\n       0.01      , 0.01      , 0.01      , 0.01      , 0.01      ,\n       0.01      , 0.01      , 0.01      , 0.01      , 0.01      ,\n       0.01      , 0.01      , 0.01      , 0.01      , 0.01      ,\n       0.01      , 0.01      , 0.01      , 0.01      , 0.01      ,\n       0.01      , 0.01      , 0.01      , 0.01      , 0.01      ,\n       0.01      , 0.01      , 0.01      , 0.01      , 0.01      ,\n       0.01      , 0.01      , 0.01      , 0.01      , 0.01      ,\n       0.01      , 0.01      , 0.01      , 0.01      , 0.01      ,\n       0.01      , 0.01      , 0.01      , 0.01      , 0.01      ,\n       0.01      , 0.01      , 0.01      , 0.01      , 0.01      ,\n       0.01      , 0.01      , 0.01      , 0.01      , 0.01      ,\n       0.01      , 0.01      , 0.01      , 0.01      ])"
     },
     "execution_count": 928,
     "metadata": {},
     "output_type": "execute_result"
    }
   ],
   "source": [
    "scaled_input"
   ],
   "metadata": {
    "collapsed": false,
    "pycharm": {
     "name": "#%%\n"
    }
   }
  },
  {
   "cell_type": "code",
   "execution_count": 929,
   "outputs": [
    {
     "data": {
      "text/plain": "array([0.01, 0.01, 0.01, 0.01, 0.01, 0.99, 0.01, 0.01, 0.01, 0.01])"
     },
     "execution_count": 929,
     "metadata": {},
     "output_type": "execute_result"
    }
   ],
   "source": [
    "# Example. Assignment of best score for marker.\n",
    "onodes = 10\n",
    "targets = np.zeros(onodes) + 0.01\n",
    "\n",
    "# all_values[0] = 5 -> targets[5] = 0.01, change on 0.99 => target[5] = 0.99; best score for 5\n",
    "targets[int(all_values[0])] = 0.99\n",
    "targets"
   ],
   "metadata": {
    "collapsed": false,
    "pycharm": {
     "name": "#%%\n"
    }
   }
  },
  {
   "cell_type": "code",
   "execution_count": 930,
   "outputs": [],
   "source": [
    "class NeuralNetwork:\n",
    "    def __init__(self, input_nodes, hidden_nodes, output_nodes, learning_rate):\n",
    "        self.inodes = input_nodes\n",
    "        self.hnodes = hidden_nodes\n",
    "        self.onodes = output_nodes\n",
    "\n",
    "        self.lr = learning_rate\n",
    "\n",
    "        self.wih = np.random.normal(0.0, pow(self.hnodes, -0.5), (self.hnodes, self.inodes))\n",
    "        self.who = np.random.normal(0.0, pow(self.onodes, -0.5), (self.onodes, self.hnodes))\n",
    "\n",
    "        self.activation = lambda x: sc_sp.expit(x)\n",
    "\n",
    "        pass\n",
    "\n",
    "    def train(self, inputs_list, targets_list):\n",
    "        inputs = np.array(inputs_list, ndmin=2).T\n",
    "        targets = np.array(targets_list, ndmin=2).T\n",
    "\n",
    "        hidden_inputs = np.dot(self.wih, inputs)\n",
    "        hidden_outputs = self.activation(hidden_inputs)\n",
    "\n",
    "        final_inputs = np.dot(self.who, hidden_outputs)\n",
    "        final_outputs = self.activation(final_inputs)\n",
    "\n",
    "        output_errors = targets - final_outputs\n",
    "        hidden_errors = np.dot(self.who.T, output_errors)\n",
    "\n",
    "        self.who += self.lr * np.dot(output_errors * final_outputs * (1.0 - final_outputs), hidden_outputs.T)\n",
    "        self.wih += self.lr * np.dot(hidden_errors * hidden_outputs * (1.0 - hidden_outputs), inputs.T)\n",
    "\n",
    "        pass\n",
    "\n",
    "    def query(self, inputs_list):\n",
    "        inputs = np.array(inputs_list, ndmin=2).T\n",
    "\n",
    "        hidden_inputs = np.dot(self.wih, inputs)\n",
    "        hidden_outputs = self.activation(hidden_inputs)\n",
    "\n",
    "        final_inputs = np.dot(self.who, hidden_outputs)\n",
    "        final_outputs = self.activation(final_inputs)\n",
    "\n",
    "        return final_outputs"
   ],
   "metadata": {
    "collapsed": false,
    "pycharm": {
     "name": "#%%\n"
    }
   }
  },
  {
   "cell_type": "code",
   "execution_count": 931,
   "outputs": [],
   "source": [
    "input_nodes = 784\n",
    "hidden_nodes = 200\n",
    "output_nodes = 10\n",
    "\n",
    "learning_rate = 0.1"
   ],
   "metadata": {
    "collapsed": false,
    "pycharm": {
     "name": "#%%\n"
    }
   }
  },
  {
   "cell_type": "code",
   "execution_count": 932,
   "outputs": [],
   "source": [
    "n = NeuralNetwork(input_nodes, hidden_nodes, output_nodes, learning_rate)"
   ],
   "metadata": {
    "collapsed": false,
    "pycharm": {
     "name": "#%%\n"
    }
   }
  },
  {
   "cell_type": "code",
   "execution_count": 933,
   "outputs": [],
   "source": [
    "for record in train_data_demo:\n",
    "    all_values = record.split(',')\n",
    "    inputs = (np.asfarray(all_values[1:]) / 255.0 * 0.99) + 0.01\n",
    "    targets = np.zeros(output_nodes) + 0.01\n",
    "\n",
    "    targets[int(all_values[0])] = 0.99\n",
    "\n",
    "    n.train(inputs, targets)  # !!!\n",
    "\n",
    "    pass"
   ],
   "metadata": {
    "collapsed": false,
    "pycharm": {
     "name": "#%%\n"
    }
   }
  },
  {
   "cell_type": "code",
   "execution_count": 934,
   "outputs": [],
   "source": [
    "# Load test dataset\n",
    "\n",
    "with open('../data/mnist/demo/mnist_test_10.csv', 'r') as f_test:\n",
    "    test_data_demo = [test.rstrip() for test in f_test]"
   ],
   "metadata": {
    "collapsed": false,
    "pycharm": {
     "name": "#%%\n"
    }
   }
  },
  {
   "cell_type": "code",
   "execution_count": 935,
   "outputs": [
    {
     "name": "stdout",
     "output_type": "stream",
     "text": [
      "['7', '0', '0', '0', '0', '0', '0', '0', '0', '0', '0', '0', '0', '0', '0', '0', '0', '0', '0', '0', '0', '0', '0', '0', '0', '0', '0', '0', '0', '0', '0', '0', '0', '0', '0', '0', '0', '0', '0', '0', '0', '0', '0', '0', '0', '0', '0', '0', '0', '0', '0', '0', '0', '0', '0', '0', '0', '0', '0', '0', '0', '0', '0', '0', '0', '0', '0', '0', '0', '0', '0', '0', '0', '0', '0', '0', '0', '0', '0', '0', '0', '0', '0', '0', '0', '0', '0', '0', '0', '0', '0', '0', '0', '0', '0', '0', '0', '0', '0', '0', '0', '0', '0', '0', '0', '0', '0', '0', '0', '0', '0', '0', '0', '0', '0', '0', '0', '0', '0', '0', '0', '0', '0', '0', '0', '0', '0', '0', '0', '0', '0', '0', '0', '0', '0', '0', '0', '0', '0', '0', '0', '0', '0', '0', '0', '0', '0', '0', '0', '0', '0', '0', '0', '0', '0', '0', '0', '0', '0', '0', '0', '0', '0', '0', '0', '0', '0', '0', '0', '0', '0', '0', '0', '0', '0', '0', '0', '0', '0', '0', '0', '0', '0', '0', '0', '0', '0', '0', '0', '0', '0', '0', '0', '0', '0', '0', '0', '0', '0', '0', '0', '0', '0', '84', '185', '159', '151', '60', '36', '0', '0', '0', '0', '0', '0', '0', '0', '0', '0', '0', '0', '0', '0', '0', '0', '0', '0', '0', '0', '0', '0', '222', '254', '254', '254', '254', '241', '198', '198', '198', '198', '198', '198', '198', '198', '170', '52', '0', '0', '0', '0', '0', '0', '0', '0', '0', '0', '0', '0', '67', '114', '72', '114', '163', '227', '254', '225', '254', '254', '254', '250', '229', '254', '254', '140', '0', '0', '0', '0', '0', '0', '0', '0', '0', '0', '0', '0', '0', '0', '0', '0', '0', '17', '66', '14', '67', '67', '67', '59', '21', '236', '254', '106', '0', '0', '0', '0', '0', '0', '0', '0', '0', '0', '0', '0', '0', '0', '0', '0', '0', '0', '0', '0', '0', '0', '0', '0', '83', '253', '209', '18', '0', '0', '0', '0', '0', '0', '0', '0', '0', '0', '0', '0', '0', '0', '0', '0', '0', '0', '0', '0', '0', '0', '0', '22', '233', '255', '83', '0', '0', '0', '0', '0', '0', '0', '0', '0', '0', '0', '0', '0', '0', '0', '0', '0', '0', '0', '0', '0', '0', '0', '0', '129', '254', '238', '44', '0', '0', '0', '0', '0', '0', '0', '0', '0', '0', '0', '0', '0', '0', '0', '0', '0', '0', '0', '0', '0', '0', '0', '59', '249', '254', '62', '0', '0', '0', '0', '0', '0', '0', '0', '0', '0', '0', '0', '0', '0', '0', '0', '0', '0', '0', '0', '0', '0', '0', '0', '133', '254', '187', '5', '0', '0', '0', '0', '0', '0', '0', '0', '0', '0', '0', '0', '0', '0', '0', '0', '0', '0', '0', '0', '0', '0', '0', '9', '205', '248', '58', '0', '0', '0', '0', '0', '0', '0', '0', '0', '0', '0', '0', '0', '0', '0', '0', '0', '0', '0', '0', '0', '0', '0', '0', '126', '254', '182', '0', '0', '0', '0', '0', '0', '0', '0', '0', '0', '0', '0', '0', '0', '0', '0', '0', '0', '0', '0', '0', '0', '0', '0', '75', '251', '240', '57', '0', '0', '0', '0', '0', '0', '0', '0', '0', '0', '0', '0', '0', '0', '0', '0', '0', '0', '0', '0', '0', '0', '0', '19', '221', '254', '166', '0', '0', '0', '0', '0', '0', '0', '0', '0', '0', '0', '0', '0', '0', '0', '0', '0', '0', '0', '0', '0', '0', '0', '3', '203', '254', '219', '35', '0', '0', '0', '0', '0', '0', '0', '0', '0', '0', '0', '0', '0', '0', '0', '0', '0', '0', '0', '0', '0', '0', '0', '38', '254', '254', '77', '0', '0', '0', '0', '0', '0', '0', '0', '0', '0', '0', '0', '0', '0', '0', '0', '0', '0', '0', '0', '0', '0', '0', '31', '224', '254', '115', '1', '0', '0', '0', '0', '0', '0', '0', '0', '0', '0', '0', '0', '0', '0', '0', '0', '0', '0', '0', '0', '0', '0', '0', '133', '254', '254', '52', '0', '0', '0', '0', '0', '0', '0', '0', '0', '0', '0', '0', '0', '0', '0', '0', '0', '0', '0', '0', '0', '0', '0', '61', '242', '254', '254', '52', '0', '0', '0', '0', '0', '0', '0', '0', '0', '0', '0', '0', '0', '0', '0', '0', '0', '0', '0', '0', '0', '0', '0', '121', '254', '254', '219', '40', '0', '0', '0', '0', '0', '0', '0', '0', '0', '0', '0', '0', '0', '0', '0', '0', '0', '0', '0', '0', '0', '0', '0', '121', '254', '207', '18', '0', '0', '0', '0', '0', '0', '0', '0', '0', '0', '0', '0', '0', '0', '0', '0', '0', '0', '0', '0', '0', '0', '0', '0', '0', '0', '0', '0', '0', '0', '0', '0', '0', '0', '0', '0', '0', '0', '0', '0', '0', '0']\n"
     ]
    }
   ],
   "source": [
    "all_values = test_data_demo[0].split(',')\n",
    "print(all_values)"
   ],
   "metadata": {
    "collapsed": false,
    "pycharm": {
     "name": "#%%\n"
    }
   }
  },
  {
   "cell_type": "code",
   "execution_count": 936,
   "outputs": [
    {
     "data": {
      "text/plain": "<Figure size 640x480 with 1 Axes>",
      "image/png": "[encoded data removed]"
     },
     "metadata": {},
     "output_type": "display_data"
    }
   ],
   "source": [
    "image_array = np.asfarray(all_values[1:]).reshape(28, -1)\n",
    "plt.imshow(image_array, cmap='Greys', interpolation=None)\n",
    "plt.show()"
   ],
   "metadata": {
    "collapsed": false,
    "pycharm": {
     "name": "#%%\n"
    }
   }
  },
  {
   "cell_type": "code",
   "execution_count": 937,
   "outputs": [
    {
     "data": {
      "text/plain": "array([[0.02238905],\n       [0.00412048],\n       [0.01220058],\n       [0.0286334 ],\n       [0.02327027],\n       [0.01728478],\n       [0.00103267],\n       [0.93528263],\n       [0.02364374],\n       [0.00657588]])"
     },
     "execution_count": 937,
     "metadata": {},
     "output_type": "execute_result"
    }
   ],
   "source": [
    "n.query((np.asfarray(all_values[1:]) / 255.0 * 0.99) + 0.01)"
   ],
   "metadata": {
    "collapsed": false,
    "pycharm": {
     "name": "#%%\n"
    }
   }
  },
  {
   "cell_type": "markdown",
   "source": [],
   "metadata": {
    "collapsed": false
   }
  },
  {
   "cell_type": "code",
   "execution_count": 938,
   "outputs": [
    {
     "name": "stdout",
     "output_type": "stream",
     "text": [
      "True marker: 7\n",
      "outputs: [[0.02238905]\n",
      " [0.00412048]\n",
      " [0.01220058]\n",
      " [0.0286334 ]\n",
      " [0.02327027]\n",
      " [0.01728478]\n",
      " [0.00103267]\n",
      " [0.93528263]\n",
      " [0.02364374]\n",
      " [0.00657588]]\n",
      "Response of NN: 7\n",
      "True marker: 2\n",
      "outputs: [[0.33990497]\n",
      " [0.04162837]\n",
      " [0.29619228]\n",
      " [0.15570376]\n",
      " [0.00132101]\n",
      " [0.02735432]\n",
      " [0.35557134]\n",
      " [0.01944273]\n",
      " [0.09100716]\n",
      " [0.00153862]]\n",
      "Response of NN: 6\n",
      "True marker: 1\n",
      "outputs: [[0.02468108]\n",
      " [0.96885139]\n",
      " [0.00433314]\n",
      " [0.04403885]\n",
      " [0.01333251]\n",
      " [0.02629508]\n",
      " [0.03908117]\n",
      " [0.05028056]\n",
      " [0.03420438]\n",
      " [0.00618158]]\n",
      "Response of NN: 1\n",
      "True marker: 0\n",
      "outputs: [[7.56402833e-01]\n",
      " [2.70482968e-03]\n",
      " [4.00982602e-02]\n",
      " [5.16012480e-03]\n",
      " [4.40749041e-03]\n",
      " [3.05247616e-03]\n",
      " [8.82265137e-03]\n",
      " [3.34556811e-01]\n",
      " [6.64878530e-03]\n",
      " [5.51834926e-04]]\n",
      "Response of NN: 0\n",
      "True marker: 4\n",
      "outputs: [[0.00799795]\n",
      " [0.00094916]\n",
      " [0.0146044 ]\n",
      " [0.02887583]\n",
      " [0.91104318]\n",
      " [0.00377485]\n",
      " [0.00672265]\n",
      " [0.58359596]\n",
      " [0.02484727]\n",
      " [0.00432356]]\n",
      "Response of NN: 4\n",
      "True marker: 1\n",
      "outputs: [[0.01491052]\n",
      " [0.98839956]\n",
      " [0.00603615]\n",
      " [0.03509861]\n",
      " [0.01004083]\n",
      " [0.03982496]\n",
      " [0.00535398]\n",
      " [0.04490213]\n",
      " [0.04298231]\n",
      " [0.00284063]]\n",
      "Response of NN: 1\n",
      "True marker: 4\n",
      "outputs: [[5.25225721e-03]\n",
      " [3.17591074e-04]\n",
      " [5.00733982e-03]\n",
      " [4.60409770e-02]\n",
      " [5.11919982e-01]\n",
      " [2.93884145e-02]\n",
      " [1.70299483e-02]\n",
      " [2.42058541e-01]\n",
      " [3.74275506e-02]\n",
      " [1.00333515e-01]]\n",
      "Response of NN: 4\n",
      "True marker: 9\n",
      "outputs: [[0.00244686]\n",
      " [0.03658068]\n",
      " [0.00323802]\n",
      " [0.20775441]\n",
      " [0.33508164]\n",
      " [0.00517866]\n",
      " [0.15492165]\n",
      " [0.04585717]\n",
      " [0.04736816]\n",
      " [0.00488935]]\n",
      "Response of NN: 4\n",
      "True marker: 5\n",
      "outputs: [[1.58566502e-02]\n",
      " [2.15652009e-01]\n",
      " [8.57198130e-03]\n",
      " [4.15105981e-03]\n",
      " [1.47625914e-01]\n",
      " [5.92165729e-02]\n",
      " [1.53219062e-02]\n",
      " [2.69341115e-02]\n",
      " [3.05619950e-02]\n",
      " [5.14565976e-05]]\n",
      "Response of NN: 1\n",
      "True marker: 9\n",
      "outputs: [[0.00846114]\n",
      " [0.0028495 ]\n",
      " [0.0041008 ]\n",
      " [0.00187981]\n",
      " [0.14837271]\n",
      " [0.00653316]\n",
      " [0.00429045]\n",
      " [0.49931252]\n",
      " [0.00933127]\n",
      " [0.03528321]]\n",
      "Response of NN: 7\n"
     ]
    }
   ],
   "source": [
    "# Testing of NeuralNetwork\n",
    "\n",
    "# logs\n",
    "scorecard = []\n",
    "\n",
    "for record in test_data_demo:\n",
    "    all_values = record.split(',')\n",
    "\n",
    "    # True marker\n",
    "    correct_label = int(all_values[0])\n",
    "    print('True marker:', correct_label)\n",
    "\n",
    "    # Scaling values\n",
    "    inputs = (np.asfarray(all_values[1:]) / 255.0 * 0.99) + 0.01\n",
    "\n",
    "    # Network survey\n",
    "    outputs = n.query(inputs)\n",
    "\n",
    "    # Max value\n",
    "    label = np.argmax(outputs)\n",
    "    print('outputs:', outputs)\n",
    "    print('Response of NN:', label)\n",
    "\n",
    "    # Add in scorecard\n",
    "    if label == correct_label:\n",
    "        scorecard.append(1)\n",
    "    else:\n",
    "        scorecard.append(0)\n",
    "\n",
    "    pass"
   ],
   "metadata": {
    "collapsed": false,
    "pycharm": {
     "name": "#%%\n"
    }
   }
  },
  {
   "cell_type": "code",
   "execution_count": 939,
   "outputs": [
    {
     "name": "stdout",
     "output_type": "stream",
     "text": [
      "[1, 0, 1, 1, 1, 1, 1, 0, 0, 0]\n"
     ]
    }
   ],
   "source": [
    "print(scorecard)"
   ],
   "metadata": {
    "collapsed": false,
    "pycharm": {
     "name": "#%%\n"
    }
   }
  },
  {
   "cell_type": "code",
   "execution_count": 940,
   "outputs": [
    {
     "data": {
      "text/plain": "array([1, 0, 1, 1, 1, 1, 1, 0, 0, 0])"
     },
     "execution_count": 940,
     "metadata": {},
     "output_type": "execute_result"
    }
   ],
   "source": [
    "# Transformation in numpy array\n",
    "scorecard_array = np.asarray(scorecard)\n",
    "scorecard_array"
   ],
   "metadata": {
    "collapsed": false,
    "pycharm": {
     "name": "#%%\n"
    }
   }
  },
  {
   "cell_type": "code",
   "execution_count": 941,
   "outputs": [
    {
     "name": "stdout",
     "output_type": "stream",
     "text": [
      "Effectiveness: 0.6\n"
     ]
    }
   ],
   "source": [
    "print('Effectiveness:', scorecard_array.sum() / scorecard_array.size)"
   ],
   "metadata": {
    "collapsed": false,
    "pycharm": {
     "name": "#%%\n"
    }
   }
  },
  {
   "cell_type": "code",
   "execution_count": 942,
   "outputs": [],
   "source": [
    "# Train and test datasets (full)\n",
    "with open('../data/mnist/mnist_train.csv', 'r') as f_train:\n",
    "    train_data = [line.rstrip() for line in f_train]"
   ],
   "metadata": {
    "collapsed": false,
    "pycharm": {
     "name": "#%%\n"
    }
   }
  },
  {
   "cell_type": "code",
   "execution_count": 943,
   "outputs": [],
   "source": [
    "with open('../data/mnist/mnist_test.csv', 'r') as f_test:\n",
    "    test_data = [line.rstrip() for line in f_test]"
   ],
   "metadata": {
    "collapsed": false,
    "pycharm": {
     "name": "#%%\n"
    }
   }
  },
  {
   "cell_type": "code",
   "execution_count": 944,
   "outputs": [
    {
     "name": "stdout",
     "output_type": "stream",
     "text": [
      "Effectiveness: 0.9583\n",
      "Effectiveness: 0.97\n",
      "Effectiveness: 0.9726\n",
      "Effectiveness: 0.9738\n",
      "Effectiveness: 0.9741\n",
      "Effectiveness: 0.9742\n",
      "Effectiveness: 0.9741\n",
      "Effectiveness: 0.974\n",
      "Effectiveness: 0.974\n"
     ]
    }
   ],
   "source": [
    "# Train of NN\n",
    "epochs = 6\n",
    "for e in range(epochs):\n",
    "    for record in train_data:\n",
    "        all_values = record.split(',')\n",
    "        inputs = (np.asfarray(all_values[1:]) / 255.0 * 0.99) + 0.01\n",
    "        targets = np.zeros(output_nodes) + 0.01\n",
    "\n",
    "        targets[int(all_values[0])] = 0.99\n",
    "\n",
    "        n.train(inputs, targets)  # !!!\n",
    "\n",
    "    # logs\n",
    "    scorecard = []\n",
    "\n",
    "    for record in test_data:\n",
    "        all_values = record.split(',')\n",
    "\n",
    "        # True marker\n",
    "        correct_label = int(all_values[0])\n",
    "\n",
    "        # Scaling values\n",
    "        inputs = (np.asfarray(all_values[1:]) / 255.0 * 0.99) + 0.01\n",
    "\n",
    "        # Network survey\n",
    "        outputs = n.query(inputs)\n",
    "\n",
    "        # Max value\n",
    "        label = np.argmax(outputs)\n",
    "\n",
    "        # Add in scorecard\n",
    "        if label == correct_label:\n",
    "            scorecard.append(1)\n",
    "        else:\n",
    "            scorecard.append(0)\n",
    "\n",
    "    scorecard_array = np.asarray(scorecard)\n",
    "    print('Effectiveness:', scorecard_array.sum() / scorecard_array.size)\n",
    "    pass"
   ],
   "metadata": {
    "collapsed": false,
    "pycharm": {
     "name": "#%%\n"
    }
   }
  },
  {
   "cell_type": "raw",
   "source": [
    "100\n",
    "Effectiveness: 0.9547\n",
    "Effectiveness: 0.962\n",
    "Effectiveness: 0.9676\n",
    "Effectiveness: 0.9693"
   ],
   "metadata": {
    "collapsed": false,
    "pycharm": {
     "name": "#%% raw\n"
    }
   }
  },
  {
   "cell_type": "raw",
   "source": [
    "150\n",
    "Effectiveness: 0.9556\n",
    "Effectiveness: 0.967\n",
    "Effectiveness: 0.9704\n",
    "Effectiveness: 0.9725"
   ],
   "metadata": {
    "collapsed": false,
    "pycharm": {
     "name": "#%% raw\n"
    }
   }
  },
  {
   "cell_type": "raw",
   "source": [
    "170\n",
    "Effectiveness: 0.9559\n",
    "Effectiveness: 0.9675\n",
    "Effectiveness: 0.9725\n",
    "Effectiveness: 0.9731"
   ],
   "metadata": {
    "collapsed": false,
    "pycharm": {
     "name": "#%% raw\n"
    }
   }
  },
  {
   "cell_type": "code",
   "execution_count": 944,
   "outputs": [],
   "source": [],
   "metadata": {
    "collapsed": false,
    "pycharm": {
     "name": "#%%\n"
    }
   }
  },
  {
   "cell_type": "code",
   "execution_count": 945,
   "outputs": [],
   "source": [
    "# Testing of NeuralNetwork\n",
    "\n",
    "# # logs\n",
    "# scorecard = []\n",
    "#\n",
    "# for record in test_data:\n",
    "#     all_values = record.split(',')\n",
    "#\n",
    "#     # True marker\n",
    "#     correct_label = int(all_values[0])\n",
    "#\n",
    "#     # Scaling values\n",
    "#     inputs = (np.asfarray(all_values[1:]) / 255.0 * 0.99) + 0.01\n",
    "#\n",
    "#     # Network survey\n",
    "#     outputs = n.query(inputs)\n",
    "#\n",
    "#     # Max value\n",
    "#     label = np.argmax(outputs)\n",
    "#\n",
    "#     # Add in scorecard\n",
    "#     if label == correct_label:\n",
    "#         scorecard.append(1)\n",
    "#     else:\n",
    "#         scorecard.append(0)\n",
    "#\n",
    "#     pass"
   ],
   "metadata": {
    "collapsed": false,
    "pycharm": {
     "name": "#%%\n"
    }
   }
  },
  {
   "cell_type": "code",
   "execution_count": 946,
   "outputs": [],
   "source": [
    "# scorecard_array = np.asarray(scorecard)\n",
    "# print('Effectiveness:', scorecard_array.sum() / scorecard_array.size)"
   ],
   "metadata": {
    "collapsed": false,
    "pycharm": {
     "name": "#%%\n"
    }
   }
  }
 ],
 "metadata": {
  "kernelspec": {
   "display_name": "Python 3",
   "language": "python",
   "name": "python3"
  },
  "language_info": {
   "codemirror_mode": {
    "name": "ipython",
    "version": 2
   },
   "file_extension": ".py",
   "mimetype": "text/x-python",
   "name": "python",
   "nbconvert_exporter": "python",
   "pygments_lexer": "ipython2",
   "version": "2.7.6"
  }
 },
 "nbformat": 4,
 "nbformat_minor": 0
}