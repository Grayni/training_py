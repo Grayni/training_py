{
 "cells": [
  {
   "cell_type": "code",
   "execution_count": 35,
   "metadata": {
    "collapsed": true
   },
   "outputs": [],
   "source": [
    "import numpy as np\n",
    "import cv2"
   ]
  },
  {
   "cell_type": "code",
   "execution_count": 36,
   "outputs": [],
   "source": [
    "img = cv2.imread('images/lena.jpg', 1)\n",
    "\n",
    "img = cv2.line(img, (0,0), (255, 255), (255, 0, 0), 5) # image, coords()(), color(blue, green, red), thickness\n",
    "img = cv2.arrowedLine(img, (90,0), (155, 255), (144, 144, 0), 5)\n",
    "img = cv2.rectangle(img, (384, 0), (510, 128), (0, 0, 255), -1)\n",
    "img = cv2.circle(img, (444, 155), 128, (0, 255, 122), 5)  # image, center, r, color\n",
    "font = cv2.FONT_HERSHEY_DUPLEX\n",
    "img = cv2.putText(img, 'OpenCV', (110, 110), font, 2, (154, 33, 33), 10, cv2.LINE_AA)\n",
    "cv2.imshow('image', img)\n",
    "k = cv2.waitKey(0) & 0xFF\n",
    "\n",
    "if k == 27:\n",
    "    cv2.destroyAllWindows()"
   ],
   "metadata": {
    "collapsed": false,
    "pycharm": {
     "name": "#%%\n"
    }
   }
  },
  {
   "cell_type": "code",
   "execution_count": 38,
   "outputs": [],
   "source": [
    "# create image\n",
    "img = np.zeros([512, 512, 3], np.uint8)\n",
    "\n",
    "img = cv2.line(img, (0,0), (255, 255), (255, 0, 0), 5) # image, coords()(), color(blue, green, red), thickness\n",
    "img = cv2.arrowedLine(img, (90,0), (155, 255), (144, 144, 0), 5)\n",
    "img = cv2.rectangle(img, (384, 0), (510, 128), (0, 0, 255), -1)\n",
    "img = cv2.circle(img, (444, 155), 128, (0, 255, 122), 5)  # image, center, r, color\n",
    "font = cv2.FONT_HERSHEY_DUPLEX\n",
    "img = cv2.putText(img, 'OpenCV', (110, 110), font, 2, (154, 33, 33), 10, cv2.LINE_AA)\n",
    "cv2.imshow('image', img)\n",
    "k = cv2.waitKey(0) & 0xFF\n",
    "\n",
    "if k == 27:\n",
    "    cv2.destroyAllWindows()"
   ],
   "metadata": {
    "collapsed": false,
    "pycharm": {
     "name": "#%%\n"
    }
   }
  },
  {
   "cell_type": "code",
   "execution_count": 36,
   "outputs": [],
   "source": [],
   "metadata": {
    "collapsed": false,
    "pycharm": {
     "name": "#%%\n"
    }
   }
  }
 ],
 "metadata": {
  "kernelspec": {
   "display_name": "Python 3",
   "language": "python",
   "name": "python3"
  },
  "language_info": {
   "codemirror_mode": {
    "name": "ipython",
    "version": 2
   },
   "file_extension": ".py",
   "mimetype": "text/x-python",
   "name": "python",
   "nbconvert_exporter": "python",
   "pygments_lexer": "ipython2",
   "version": "2.7.6"
  }
 },
 "nbformat": 4,
 "nbformat_minor": 0
}