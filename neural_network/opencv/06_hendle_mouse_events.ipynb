{
 "cells": [
  {
   "cell_type": "code",
   "execution_count": 59,
   "metadata": {
    "collapsed": true
   },
   "outputs": [],
   "source": [
    "import numpy as np\n",
    "import cv2"
   ]
  },
  {
   "cell_type": "code",
   "execution_count": 60,
   "outputs": [
    {
     "data": {
      "text/plain": "['EVENT_FLAG_ALTKEY',\n 'EVENT_FLAG_CTRLKEY',\n 'EVENT_FLAG_LBUTTON',\n 'EVENT_FLAG_MBUTTON',\n 'EVENT_FLAG_RBUTTON',\n 'EVENT_FLAG_SHIFTKEY',\n 'EVENT_LBUTTONDBLCLK',\n 'EVENT_LBUTTONDOWN',\n 'EVENT_LBUTTONUP',\n 'EVENT_MBUTTONDBLCLK',\n 'EVENT_MBUTTONDOWN',\n 'EVENT_MBUTTONUP',\n 'EVENT_MOUSEHWHEEL',\n 'EVENT_MOUSEMOVE',\n 'EVENT_MOUSEWHEEL',\n 'EVENT_RBUTTONDBLCLK',\n 'EVENT_RBUTTONDOWN',\n 'EVENT_RBUTTONUP']"
     },
     "execution_count": 60,
     "metadata": {},
     "output_type": "execute_result"
    }
   ],
   "source": [
    "events = [i for i in dir(cv2) if 'EVENT' in i]\n",
    "events"
   ],
   "metadata": {
    "collapsed": false,
    "pycharm": {
     "name": "#%%\n"
    }
   }
  },
  {
   "cell_type": "code",
   "execution_count": 61,
   "outputs": [],
   "source": [
    "def click_event(event, x, y, flags, param):\n",
    "    if event == cv2.EVENT_LBUTTONDOWN:\n",
    "        text = f'Coords: ({x}, {y})'\n",
    "        font = cv2.FONT_HERSHEY_SIMPLEX\n",
    "        cv2.putText(img, text, (x, y), font, 0.5, (255, 255, 255), 1)\n",
    "        cv2.imshow('image', img)\n",
    "\n",
    "    if event == cv2.EVENT_RBUTTONDOWN:\n",
    "        blue = img[x, y, 0]\n",
    "        green = img[x, y, 1]\n",
    "        red = img[x, y, 2]\n",
    "        font = cv2.FONT_HERSHEY_SIMPLEX\n",
    "        text = f'Blue: {blue}; Green: {green}; Red: {red}'\n",
    "        cv2.putText(img, text, (x, y), font, 0.5, (0, 255, 255), 1)\n",
    "        cv2.imshow('image', img)\n"
   ],
   "metadata": {
    "collapsed": false,
    "pycharm": {
     "name": "#%%\n"
    }
   }
  },
  {
   "cell_type": "code",
   "execution_count": 62,
   "outputs": [],
   "source": [
    "#img = np.zeros((512, 512, 3), np.uint8)\n",
    "img = cv2.imread('images/lena.jpg', 1)\n",
    "cv2.imshow('image', img)"
   ],
   "metadata": {
    "collapsed": false,
    "pycharm": {
     "name": "#%%\n"
    }
   }
  },
  {
   "cell_type": "code",
   "execution_count": 63,
   "outputs": [],
   "source": [
    "cv2.setMouseCallback('image', click_event)"
   ],
   "metadata": {
    "collapsed": false,
    "pycharm": {
     "name": "#%%\n"
    }
   }
  },
  {
   "cell_type": "code",
   "execution_count": 64,
   "outputs": [],
   "source": [
    "if cv2.waitKey(0) & 0xFF == ord('q'):\n",
    "    cv2.destroyAllWindows()"
   ],
   "metadata": {
    "collapsed": false,
    "pycharm": {
     "name": "#%%\n"
    }
   }
  }
 ],
 "metadata": {
  "kernelspec": {
   "display_name": "Python 3",
   "language": "python",
   "name": "python3"
  },
  "language_info": {
   "codemirror_mode": {
    "name": "ipython",
    "version": 2
   },
   "file_extension": ".py",
   "mimetype": "text/x-python",
   "name": "python",
   "nbconvert_exporter": "python",
   "pygments_lexer": "ipython2",
   "version": "2.7.6"
  }
 },
 "nbformat": 4,
 "nbformat_minor": 0
}