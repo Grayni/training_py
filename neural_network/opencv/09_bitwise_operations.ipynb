{
 "cells": [
  {
   "cell_type": "code",
   "execution_count": 27,
   "metadata": {
    "collapsed": true
   },
   "outputs": [],
   "source": [
    "import numpy as np\n",
    "import cv2"
   ]
  },
  {
   "cell_type": "code",
   "execution_count": 28,
   "outputs": [],
   "source": [
    "img1 = np.zeros((250, 500, 3), np.uint8)"
   ],
   "metadata": {
    "collapsed": false,
    "pycharm": {
     "name": "#%%\n"
    }
   }
  },
  {
   "cell_type": "code",
   "execution_count": 29,
   "outputs": [],
   "source": [
    "img1 = cv2.rectangle(img1, (200, 0), (300, 100), (255, 255, 255), -1)\n",
    "img2 = cv2.imread('images/image_1.png')\n",
    "\n",
    "bit_and = cv2.bitwise_and(img2, img1)\n",
    "bit_or = cv2.bitwise_or(img2, img1)\n",
    "bit_xor = cv2.bitwise_xor(img2, img1)\n",
    "bit_not_1 = cv2.bitwise_not(img1)\n",
    "bit_not_2 = cv2.bitwise_not(img2)\n",
    "\n",
    "\n",
    "cv2.imshow('image_1', img1)\n",
    "cv2.imshow('image_2', img2)\n",
    "cv2.imshow('bit_and', bit_and)\n",
    "cv2.imshow('bit_or', bit_or)\n",
    "cv2.imshow('bit_xor', bit_xor)\n",
    "cv2.imshow('bit_not_1', bit_not_1)\n",
    "cv2.imshow('bit_not_2', bit_not_2)\n",
    "\n",
    "if cv2.waitKey(0) & 0xFF == ord('q'):\n",
    "    cv2.destroyAllWindows()"
   ],
   "metadata": {
    "collapsed": false,
    "pycharm": {
     "name": "#%%\n"
    }
   }
  }
 ],
 "metadata": {
  "kernelspec": {
   "display_name": "Python 3",
   "language": "python",
   "name": "python3"
  },
  "language_info": {
   "codemirror_mode": {
    "name": "ipython",
    "version": 2
   },
   "file_extension": ".py",
   "mimetype": "text/x-python",
   "name": "python",
   "nbconvert_exporter": "python",
   "pygments_lexer": "ipython2",
   "version": "2.7.6"
  }
 },
 "nbformat": 4,
 "nbformat_minor": 0
}