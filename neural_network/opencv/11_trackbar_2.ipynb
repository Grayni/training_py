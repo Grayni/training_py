{
 "cells": [
  {
   "cell_type": "code",
   "execution_count": 46,
   "metadata": {
    "collapsed": true
   },
   "outputs": [],
   "source": [
    "import cv2 as cv"
   ]
  },
  {
   "cell_type": "code",
   "execution_count": 47,
   "outputs": [],
   "source": [
    "def nothing(x):\n",
    "    print(x)"
   ],
   "metadata": {
    "collapsed": false,
    "pycharm": {
     "name": "#%%\n"
    }
   }
  },
  {
   "cell_type": "code",
   "execution_count": 48,
   "outputs": [],
   "source": [
    "switch = 'color/gray'"
   ],
   "metadata": {
    "collapsed": false,
    "pycharm": {
     "name": "#%%\n"
    }
   }
  },
  {
   "cell_type": "code",
   "execution_count": 49,
   "outputs": [
    {
     "name": "stdout",
     "output_type": "stream",
     "text": [
      "1\n",
      "3\n",
      "7\n",
      "9\n",
      "12\n",
      "15\n",
      "17\n",
      "19\n",
      "21\n",
      "25\n",
      "27\n",
      "35\n",
      "39\n",
      "45\n",
      "57\n",
      "64\n",
      "72\n",
      "81\n",
      "89\n",
      "99\n",
      "108\n",
      "115\n",
      "121\n",
      "130\n",
      "132\n",
      "134\n",
      "136\n",
      "137\n",
      "140\n",
      "141\n",
      "142\n",
      "143\n",
      "145\n",
      "148\n",
      "149\n",
      "152\n",
      "154\n",
      "157\n",
      "159\n",
      "165\n",
      "169\n",
      "178\n",
      "181\n",
      "185\n",
      "193\n",
      "201\n",
      "207\n",
      "219\n",
      "225\n",
      "230\n",
      "238\n",
      "241\n",
      "242\n",
      "243\n",
      "245\n",
      "247\n",
      "248\n"
     ]
    }
   ],
   "source": [
    "cv.namedWindow('image')\n",
    "\n",
    "cv.createTrackbar('number', 'image', 0, 400, nothing)\n",
    "cv.createTrackbar(switch, 'image', 0, 1, nothing)\n",
    "\n",
    "while True:\n",
    "    img = cv.imread('images/lena.jpg')\n",
    "    pos = cv.getTrackbarPos('number', 'image')\n",
    "\n",
    "    font = cv.FONT_HERSHEY_DUPLEX\n",
    "    cv.putText(img, str(pos), (50, 150), font, 2, (0, 255, 255), 3)\n",
    "\n",
    "    if cv.waitKey(1) & 0xFF == ord('q'):\n",
    "        break\n",
    "\n",
    "    s = cv.getTrackbarPos(switch, 'image')\n",
    "\n",
    "    if s == 0:\n",
    "        pass\n",
    "    else:\n",
    "        img = cv.cvtColor(img, cv.COLOR_BGR2GRAY)\n",
    "\n",
    "    img = cv.imshow('image', img)\n",
    "\n",
    "\n",
    "cv.destroyAllWindows()\n"
   ],
   "metadata": {
    "collapsed": false,
    "pycharm": {
     "name": "#%%\n"
    }
   }
  },
  {
   "cell_type": "code",
   "execution_count": 49,
   "outputs": [],
   "source": [],
   "metadata": {
    "collapsed": false,
    "pycharm": {
     "name": "#%%\n"
    }
   }
  },
  {
   "cell_type": "code",
   "execution_count": 49,
   "outputs": [],
   "source": [],
   "metadata": {
    "collapsed": false,
    "pycharm": {
     "name": "#%%\n"
    }
   }
  }
 ],
 "metadata": {
  "kernelspec": {
   "display_name": "Python 3",
   "language": "python",
   "name": "python3"
  },
  "language_info": {
   "codemirror_mode": {
    "name": "ipython",
    "version": 2
   },
   "file_extension": ".py",
   "mimetype": "text/x-python",
   "name": "python",
   "nbconvert_exporter": "python",
   "pygments_lexer": "ipython2",
   "version": "2.7.6"
  }
 },
 "nbformat": 4,
 "nbformat_minor": 0
}