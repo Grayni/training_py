{
 "cells": [
  {
   "cell_type": "code",
   "execution_count": 14,
   "metadata": {
    "collapsed": true
   },
   "outputs": [],
   "source": [
    "import cv2 as cv\n",
    "import numpy as np"
   ]
  },
  {
   "cell_type": "code",
   "execution_count": 15,
   "outputs": [],
   "source": [
    "def nothing(x):\n",
    "    pass"
   ],
   "metadata": {
    "collapsed": false,
    "pycharm": {
     "name": "#%%\n"
    }
   }
  },
  {
   "cell_type": "code",
   "execution_count": 16,
   "outputs": [],
   "source": [
    "cap = cv.VideoCapture(0, cv.CAP_DSHOW)"
   ],
   "metadata": {
    "collapsed": false,
    "pycharm": {
     "name": "#%%\n"
    }
   }
  },
  {
   "cell_type": "code",
   "execution_count": 17,
   "outputs": [],
   "source": [
    "cv.namedWindow('Tracking')\n",
    "cv.createTrackbar('LH', 'Tracking', 0, 255, nothing)\n",
    "cv.createTrackbar('LS', 'Tracking', 0, 255, nothing)\n",
    "cv.createTrackbar('LV', 'Tracking', 0, 255, nothing)\n",
    "cv.createTrackbar('UH', 'Tracking', 255, 255, nothing)\n",
    "cv.createTrackbar('US', 'Tracking', 255, 255, nothing)\n",
    "cv.createTrackbar('UV', 'Tracking', 255, 255, nothing)"
   ],
   "metadata": {
    "collapsed": false,
    "pycharm": {
     "name": "#%%\n"
    }
   }
  },
  {
   "cell_type": "code",
   "execution_count": 18,
   "outputs": [],
   "source": [
    "while True:\n",
    "    #frame = cv.imread('images/smarties.png')\n",
    "    _, frame = cap.read()\n",
    "\n",
    "    hsv = cv.cvtColor(frame, cv.COLOR_BGR2HSV)\n",
    "\n",
    "    l_h = cv.getTrackbarPos('LH', 'Tracking')\n",
    "    l_s = cv.getTrackbarPos('LS', 'Tracking')\n",
    "    l_v = cv.getTrackbarPos('LV', 'Tracking')\n",
    "\n",
    "    u_h = cv.getTrackbarPos('UH', 'Tracking')\n",
    "    u_s = cv.getTrackbarPos('US', 'Tracking')\n",
    "    u_v = cv.getTrackbarPos('UV', 'Tracking')\n",
    "\n",
    "    # range blue color\n",
    "    l_b = np.array(([l_h, l_s, l_v]))\n",
    "    u_b = np.array(([u_h, u_s, u_v]))\n",
    "\n",
    "    mask = cv.inRange(hsv, l_b, u_b)\n",
    "\n",
    "    res = cv.bitwise_and(frame, frame, mask=mask)\n",
    "\n",
    "\n",
    "    cv.imshow('frame', frame)\n",
    "    cv.imshow('mask', mask)\n",
    "    cv.imshow('res', res)\n",
    "\n",
    "    if cv.waitKey(1) & 0xFF == ord('q'):\n",
    "        break\n",
    "\n",
    "cap.release()\n",
    "cv.destroyAllWindows()"
   ],
   "metadata": {
    "collapsed": false,
    "pycharm": {
     "name": "#%%\n"
    }
   }
  }
 ],
 "metadata": {
  "kernelspec": {
   "display_name": "Python 3",
   "language": "python",
   "name": "python3"
  },
  "language_info": {
   "codemirror_mode": {
    "name": "ipython",
    "version": 2
   },
   "file_extension": ".py",
   "mimetype": "text/x-python",
   "name": "python",
   "nbconvert_exporter": "python",
   "pygments_lexer": "ipython2",
   "version": "2.7.6"
  }
 },
 "nbformat": 4,
 "nbformat_minor": 0
}