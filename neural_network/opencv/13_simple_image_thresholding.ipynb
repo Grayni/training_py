{
 "cells": [
  {
   "cell_type": "code",
   "execution_count": 50,
   "metadata": {
    "collapsed": true
   },
   "outputs": [],
   "source": [
    "import cv2 as cv\n",
    "import numpy as np"
   ]
  },
  {
   "cell_type": "code",
   "execution_count": 51,
   "outputs": [],
   "source": [
    "img = cv.imread('images/gradient.png', 0)"
   ],
   "metadata": {
    "collapsed": false,
    "pycharm": {
     "name": "#%%\n"
    }
   }
  },
  {
   "cell_type": "code",
   "execution_count": 52,
   "outputs": [],
   "source": [
    "_, th1 = cv.threshold(img, 127, 255, cv.THRESH_BINARY)\n",
    "_, th2 = cv.threshold(img, 127, 255, cv.THRESH_BINARY_INV)\n",
    "_, th3 = cv.threshold(img, 127, 255, cv.THRESH_OTSU)\n",
    "_, th4 = cv.threshold(img, 127, 255, cv.THRESH_TRUNC)\n",
    "_, th5 = cv.threshold(img, 127, 255, cv.THRESH_MASK)\n",
    "_, th6 = cv.threshold(img, 127, 255, cv.THRESH_TOZERO)\n",
    "_, th7 = cv.threshold(img, 127, 255, cv.THRESH_TOZERO_INV)"
   ],
   "metadata": {
    "collapsed": false,
    "pycharm": {
     "name": "#%%\n"
    }
   }
  },
  {
   "cell_type": "code",
   "execution_count": 53,
   "outputs": [],
   "source": [
    "cv.imshow('image', img)\n",
    "cv.imshow('th1', th1)\n",
    "cv.imshow('th2', th2)\n",
    "cv.imshow('th3', th3)\n",
    "cv.imshow('th4', th4)\n",
    "cv.imshow('th5', th5)\n",
    "cv.imshow('th6', th6)\n",
    "cv.imshow('th7', th7)\n",
    "\n",
    "if cv.waitKey(0) & 0xFF == ord('q'):\n",
    "    cv.destroyAllWindows()"
   ],
   "metadata": {
    "collapsed": false,
    "pycharm": {
     "name": "#%%\n"
    }
   }
  },
  {
   "cell_type": "code",
   "execution_count": 53,
   "outputs": [],
   "source": [],
   "metadata": {
    "collapsed": false,
    "pycharm": {
     "name": "#%%\n"
    }
   }
  }
 ],
 "metadata": {
  "kernelspec": {
   "display_name": "Python 3",
   "language": "python",
   "name": "python3"
  },
  "language_info": {
   "codemirror_mode": {
    "name": "ipython",
    "version": 2
   },
   "file_extension": ".py",
   "mimetype": "text/x-python",
   "name": "python",
   "nbconvert_exporter": "python",
   "pygments_lexer": "ipython2",
   "version": "2.7.6"
  }
 },
 "nbformat": 4,
 "nbformat_minor": 0
}