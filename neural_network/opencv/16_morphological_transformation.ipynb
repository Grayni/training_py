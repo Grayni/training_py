{
 "cells": [
  {
   "cell_type": "code",
   "execution_count": 102,
   "metadata": {
    "collapsed": true
   },
   "outputs": [],
   "source": [
    "import numpy as np\n",
    "import cv2 as cv\n",
    "import matplotlib.pyplot as plt\n",
    "\n",
    "%matplotlib qt"
   ]
  },
  {
   "cell_type": "code",
   "execution_count": 103,
   "outputs": [],
   "source": [
    "img = cv.imread('images/smarties.png', cv.IMREAD_GRAYSCALE)"
   ],
   "metadata": {
    "collapsed": false,
    "pycharm": {
     "name": "#%%\n"
    }
   }
  },
  {
   "cell_type": "code",
   "execution_count": 104,
   "outputs": [],
   "source": [
    "_, mask = cv.threshold(img, 220, 255, cv.THRESH_BINARY_INV)\n",
    "kernal = np.ones((2,2), np.uint8)\n",
    "dilation = cv.dilate(mask, kernal, iterations=2)\n",
    "erosion = cv.erode(mask, kernal, iterations=1)\n",
    "opening = cv.morphologyEx(mask, cv.MORPH_OPEN, kernal) # erosion + dilation\n",
    "closing = cv.morphologyEx(mask, cv.MORPH_CLOSE, kernal) # dilation + erosion\n",
    "magic_gradient = cv.morphologyEx(mask, cv.MORPH_GRADIENT, kernal)\n",
    "tophat = cv.morphologyEx(mask, cv.MORPH_TOPHAT, kernal)\n"
   ],
   "metadata": {
    "collapsed": false,
    "pycharm": {
     "name": "#%%\n"
    }
   }
  },
  {
   "cell_type": "code",
   "execution_count": 105,
   "outputs": [],
   "source": [
    "title = ['image', 'mask', 'dilation', 'erosion', 'opening', 'closing', 'magic_gradient', 'tophat']\n",
    "images = [img, mask, dilation, erosion, opening, closing, magic_gradient, tophat]"
   ],
   "metadata": {
    "collapsed": false,
    "pycharm": {
     "name": "#%%\n"
    }
   }
  },
  {
   "cell_type": "code",
   "execution_count": 106,
   "outputs": [],
   "source": [
    "for i in range(len(images)):\n",
    "    plt.subplot(2, 4, i+1)\n",
    "    plt.imshow(images[i], 'gray')\n",
    "    plt.title(title[i])\n",
    "    plt.xticks([]), plt.yticks([])\n",
    "plt.show()\n",
    "\n",
    "if cv.waitKey(0) & 0xFF == ord('q'):\n",
    "    cv.destroyAllWindows()"
   ],
   "metadata": {
    "collapsed": false,
    "pycharm": {
     "name": "#%%\n"
    }
   }
  },
  {
   "cell_type": "code",
   "execution_count": 106,
   "outputs": [],
   "source": [],
   "metadata": {
    "collapsed": false,
    "pycharm": {
     "name": "#%%\n"
    }
   }
  },
  {
   "cell_type": "code",
   "execution_count": 106,
   "outputs": [],
   "source": [],
   "metadata": {
    "collapsed": false,
    "pycharm": {
     "name": "#%%\n"
    }
   }
  }
 ],
 "metadata": {
  "kernelspec": {
   "display_name": "Python 3",
   "language": "python",
   "name": "python3"
  },
  "language_info": {
   "codemirror_mode": {
    "name": "ipython",
    "version": 2
   },
   "file_extension": ".py",
   "mimetype": "text/x-python",
   "name": "python",
   "nbconvert_exporter": "python",
   "pygments_lexer": "ipython2",
   "version": "2.7.6"
  }
 },
 "nbformat": 4,
 "nbformat_minor": 0
}