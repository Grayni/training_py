{
 "cells": [
  {
   "cell_type": "code",
   "execution_count": 369,
   "metadata": {
    "collapsed": true
   },
   "outputs": [],
   "source": [
    "import numpy as np\n",
    "import cv2 as cv\n",
    "import matplotlib.pyplot as plt\n",
    "\n",
    "%matplotlib qt"
   ]
  },
  {
   "cell_type": "code",
   "execution_count": 370,
   "outputs": [],
   "source": [
    "def filters_images(image):\n",
    "    kernel_dst = np.ones((5, 5), np.float32) / 25\n",
    "    dst = cv.filter2D(image, -1, kernel_dst)\n",
    "    kernel = (5, 5)\n",
    "    blur = cv.blur(image, kernel)\n",
    "    g_blur = cv.GaussianBlur(image, kernel, 0)\n",
    "    median = cv.medianBlur(image, 5)\n",
    "    bilateral_filter = cv.bilateralFilter(image, 9, 75, 75)\n",
    "\n",
    "    return [image, dst, blur, g_blur, median, bilateral_filter]"
   ],
   "metadata": {
    "collapsed": false,
    "pycharm": {
     "name": "#%%\n"
    }
   }
  },
  {
   "cell_type": "code",
   "execution_count": 371,
   "outputs": [],
   "source": [
    "def show_blurs(images):\n",
    "    title = ['Image', '2D convolution', 'Blur', 'Gaussian blur', 'Median', 'Bilateral']\n",
    "    plt.figure()\n",
    "    for i in range(len(images)):\n",
    "        plt.subplot(2, 3, i+1), plt.imshow(images[i])\n",
    "        plt.title(title[i])\n",
    "        plt.xticks([]), plt.yticks([])\n",
    "        plt.show()"
   ],
   "metadata": {
    "collapsed": false,
    "pycharm": {
     "name": "#%%\n"
    }
   }
  },
  {
   "cell_type": "code",
   "execution_count": 372,
   "outputs": [],
   "source": [
    "def present_filters(name, cvt):\n",
    "    img = cv.imread(f'images/{name}', cv.IMREAD_UNCHANGED)\n",
    "    img = cv.cvtColor(img, cvt)\n",
    "    show_blurs(filters_images(img))"
   ],
   "metadata": {
    "collapsed": false,
    "pycharm": {
     "name": "#%%\n"
    }
   }
  },
  {
   "cell_type": "code",
   "execution_count": 373,
   "outputs": [],
   "source": [
    "#present_filters('opencv-logo.png', cv.COLOR_BGRA2RGBA)"
   ],
   "metadata": {
    "collapsed": false,
    "pycharm": {
     "name": "#%%\n"
    }
   }
  },
  {
   "cell_type": "code",
   "execution_count": 374,
   "outputs": [],
   "source": [
    "present_filters('fox.jpg', cv.COLOR_BGR2RGB)"
   ],
   "metadata": {
    "collapsed": false,
    "pycharm": {
     "name": "#%%\n"
    }
   }
  },
  {
   "cell_type": "code",
   "execution_count": 375,
   "outputs": [],
   "source": [
    "present_filters('noise_salt_and_pepper.png', cv.COLOR_BGR2RGB)"
   ],
   "metadata": {
    "collapsed": false,
    "pycharm": {
     "name": "#%%\n"
    }
   }
  },
  {
   "cell_type": "code",
   "execution_count": 376,
   "outputs": [],
   "source": [
    "present_filters('lena.jpg', cv.COLOR_BGR2RGB)"
   ],
   "metadata": {
    "collapsed": false,
    "pycharm": {
     "name": "#%%\n"
    }
   }
  },
  {
   "cell_type": "code",
   "execution_count": null,
   "outputs": [],
   "source": [
    "if cv.waitKey(0) & 0xFF == ord('q'):\n",
    "    cv.destroyAllWindows()"
   ],
   "metadata": {
    "collapsed": false,
    "pycharm": {
     "name": "#%%\n",
     "is_executing": true
    }
   }
  }
 ],
 "metadata": {
  "kernelspec": {
   "display_name": "Python 3",
   "language": "python",
   "name": "python3"
  },
  "language_info": {
   "codemirror_mode": {
    "name": "ipython",
    "version": 2
   },
   "file_extension": ".py",
   "mimetype": "text/x-python",
   "name": "python",
   "nbconvert_exporter": "python",
   "pygments_lexer": "ipython2",
   "version": "2.7.6"
  }
 },
 "nbformat": 4,
 "nbformat_minor": 0
}