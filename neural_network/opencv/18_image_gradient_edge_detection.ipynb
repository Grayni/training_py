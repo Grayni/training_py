{
 "cells": [
  {
   "cell_type": "code",
   "execution_count": 68,
   "metadata": {
    "collapsed": true
   },
   "outputs": [],
   "source": [
    "import numpy as np\n",
    "import cv2 as cv\n",
    "import matplotlib.pyplot as plt\n",
    "import math\n",
    "\n",
    "%matplotlib qt"
   ]
  },
  {
   "cell_type": "code",
   "execution_count": 69,
   "outputs": [],
   "source": [
    "# img = cv.imread('images/messi5.jpg', cv.IMREAD_GRAYSCALE)  # or 0\n",
    "# img = cv.imread('images/sudoku.png', cv.IMREAD_GRAYSCALE)  # or 0"
   ],
   "metadata": {
    "collapsed": false,
    "pycharm": {
     "name": "#%%\n"
    }
   }
  },
  {
   "cell_type": "code",
   "execution_count": 70,
   "outputs": [],
   "source": [
    "def params_img(image):\n",
    "    img = cv.imread(f'images/{image}', cv.IMREAD_GRAYSCALE)\n",
    "\n",
    "    lap = cv.Laplacian(img, cv.CV_64F, ksize=3)\n",
    "    lap = np.uint8(np.absolute(lap))\n",
    "\n",
    "    sobelX = cv.Sobel(img, cv.CV_64F, 1, 0)\n",
    "    sobelX = np.uint8(np.absolute(sobelX))\n",
    "\n",
    "    sobelY = cv.Sobel(img, cv.CV_64F, 0, 1)\n",
    "    sobelY = np.uint8(np.absolute(sobelY))\n",
    "\n",
    "    sobelCombined = cv.bitwise_or(sobelX, sobelY)\n",
    "\n",
    "    images = [img, lap, sobelX, sobelY, sobelCombined]\n",
    "\n",
    "    return images"
   ],
   "metadata": {
    "collapsed": false,
    "pycharm": {
     "name": "#%%\n"
    }
   }
  },
  {
   "cell_type": "code",
   "execution_count": 71,
   "outputs": [],
   "source": [
    "def gradient_show(images):\n",
    "    title = ['Image', 'Laplacian', 'SobelX', 'SobelY', 'SobelCombine']\n",
    "    imgs = len(images)\n",
    "\n",
    "    plt.figure()\n",
    "\n",
    "    for i in range(imgs):\n",
    "        plt.subplot(math.ceil(imgs / 3), math.ceil(imgs / math.ceil(imgs / 3)), i+1)\n",
    "        plt.imshow(images[i], 'gray')\n",
    "        plt.title(title[i])\n",
    "        plt.xticks([]), plt.yticks([])\n",
    "\n",
    "    plt.show()\n",
    "\n",
    "    if cv.waitKey(1) & 0xFF == ord('q'):\n",
    "        cv.destroyAllWindows()"
   ],
   "metadata": {
    "collapsed": false,
    "pycharm": {
     "name": "#%%\n"
    }
   }
  },
  {
   "cell_type": "code",
   "execution_count": 72,
   "outputs": [],
   "source": [
    "gradient_show(params_img('messi5.jpg'))"
   ],
   "metadata": {
    "collapsed": false,
    "pycharm": {
     "name": "#%%\n"
    }
   }
  },
  {
   "cell_type": "code",
   "execution_count": 73,
   "outputs": [],
   "source": [
    "gradient_show(params_img('sudoku.png'))"
   ],
   "metadata": {
    "collapsed": false,
    "pycharm": {
     "name": "#%%\n"
    }
   }
  },
  {
   "cell_type": "code",
   "execution_count": 73,
   "outputs": [],
   "source": [],
   "metadata": {
    "collapsed": false,
    "pycharm": {
     "name": "#%%\n"
    }
   }
  }
 ],
 "metadata": {
  "kernelspec": {
   "display_name": "Python 3",
   "language": "python",
   "name": "python3"
  },
  "language_info": {
   "codemirror_mode": {
    "name": "ipython",
    "version": 2
   },
   "file_extension": ".py",
   "mimetype": "text/x-python",
   "name": "python",
   "nbconvert_exporter": "python",
   "pygments_lexer": "ipython2",
   "version": "2.7.6"
  }
 },
 "nbformat": 4,
 "nbformat_minor": 0
}