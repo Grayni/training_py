{
 "cells": [
  {
   "cell_type": "code",
   "execution_count": 1,
   "metadata": {
    "collapsed": true
   },
   "outputs": [],
   "source": [
    "import numpy as np\n",
    "import cv2 as cv"
   ]
  },
  {
   "cell_type": "code",
   "execution_count": 2,
   "outputs": [],
   "source": [
    "img = cv.imread('images/opencv-logo.png', cv.IMREAD_UNCHANGED)"
   ],
   "metadata": {
    "collapsed": false,
    "pycharm": {
     "name": "#%%\n"
    }
   }
  },
  {
   "cell_type": "code",
   "execution_count": 3,
   "outputs": [],
   "source": [
    "trans_mask = img[:,:,3] == 0\n",
    "img[trans_mask] = [255, 255, 255, 255]\n",
    "img = cv.cvtColor(img, cv.COLOR_BGRA2BGR)\n",
    "img_gray = cv.cvtColor(img, cv.COLOR_BGR2GRAY)"
   ],
   "metadata": {
    "collapsed": false,
    "pycharm": {
     "name": "#%%\n"
    }
   }
  },
  {
   "cell_type": "code",
   "execution_count": 4,
   "outputs": [
    {
     "name": "stdout",
     "output_type": "stream",
     "text": [
      "Number of contours: 10\n"
     ]
    }
   ],
   "source": [
    "ret, thresh = cv.threshold(img_gray, 127, 255, 0)\n",
    "contours, hierarchy = cv.findContours(thresh, cv.RETR_TREE, cv.CHAIN_APPROX_NONE)\n",
    "\n",
    "print('Number of contours:', len(contours))"
   ],
   "metadata": {
    "collapsed": false,
    "pycharm": {
     "name": "#%%\n"
    }
   }
  },
  {
   "cell_type": "code",
   "execution_count": 5,
   "outputs": [
    {
     "data": {
      "text/plain": "array([[[  0, 255,   0],\n        [  0, 255,   0],\n        [  0, 255,   0],\n        ...,\n        [  0, 255,   0],\n        [  0, 255,   0],\n        [  0, 255,   0]],\n\n       [[  0, 255,   0],\n        [  0, 255,   0],\n        [  0, 255,   0],\n        ...,\n        [  0, 255,   0],\n        [  0, 255,   0],\n        [  0, 255,   0]],\n\n       [[  0, 255,   0],\n        [  0, 255,   0],\n        [  0, 255,   0],\n        ...,\n        [  0, 255,   0],\n        [  0, 255,   0],\n        [  0, 255,   0]],\n\n       ...,\n\n       [[  0, 255,   0],\n        [  0, 255,   0],\n        [  0, 255,   0],\n        ...,\n        [  0, 255,   0],\n        [  0, 255,   0],\n        [  0, 255,   0]],\n\n       [[  0, 255,   0],\n        [  0, 255,   0],\n        [  0, 255,   0],\n        ...,\n        [  0, 255,   0],\n        [  0, 255,   0],\n        [  0, 255,   0]],\n\n       [[  0, 255,   0],\n        [  0, 255,   0],\n        [  0, 255,   0],\n        ...,\n        [  0, 255,   0],\n        [  0, 255,   0],\n        [  0, 255,   0]]], dtype=uint8)"
     },
     "execution_count": 5,
     "metadata": {},
     "output_type": "execute_result"
    }
   ],
   "source": [
    "cv.drawContours(img, contours, -1, (0, 255, 0), 3)"
   ],
   "metadata": {
    "collapsed": false,
    "pycharm": {
     "name": "#%%\n"
    }
   }
  },
  {
   "cell_type": "code",
   "execution_count": 6,
   "outputs": [],
   "source": [
    "cv.imshow('image', img)\n",
    "cv.imshow('gray', img_gray)"
   ],
   "metadata": {
    "collapsed": false,
    "pycharm": {
     "name": "#%%\n"
    }
   }
  },
  {
   "cell_type": "code",
   "execution_count": 7,
   "outputs": [],
   "source": [
    "if cv.waitKey(0) & 0xFF == ord('q'):\n",
    "    cv.destroyAllWindows()"
   ],
   "metadata": {
    "collapsed": false,
    "pycharm": {
     "name": "#%%\n"
    }
   }
  }
 ],
 "metadata": {
  "kernelspec": {
   "display_name": "Python 3",
   "language": "python",
   "name": "python3"
  },
  "language_info": {
   "codemirror_mode": {
    "name": "ipython",
    "version": 2
   },
   "file_extension": ".py",
   "mimetype": "text/x-python",
   "name": "python",
   "nbconvert_exporter": "python",
   "pygments_lexer": "ipython2",
   "version": "2.7.6"
  }
 },
 "nbformat": 4,
 "nbformat_minor": 0
}