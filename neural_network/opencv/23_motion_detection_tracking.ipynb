{
 "cells": [
  {
   "cell_type": "code",
   "execution_count": 169,
   "metadata": {
    "collapsed": true
   },
   "outputs": [],
   "source": [
    "import cv2 as cv\n",
    "import numpy as np"
   ]
  },
  {
   "cell_type": "code",
   "execution_count": 170,
   "outputs": [],
   "source": [
    "cap = cv.VideoCapture('video/vtest.avi')\n",
    "\n",
    "ret, frame_1 = cap.read()\n",
    "ret, frame_2 = cap.read()\n",
    "\n"
   ],
   "metadata": {
    "collapsed": false,
    "pycharm": {
     "name": "#%%\n"
    }
   }
  },
  {
   "cell_type": "code",
   "execution_count": 171,
   "outputs": [],
   "source": [
    "while cap.isOpened():\n",
    "    diff = cv.absdiff(frame_1, frame_2)\n",
    "    gray = cv.cvtColor(diff, cv.COLOR_BGR2GRAY)\n",
    "    blur = cv.GaussianBlur(gray, (5, 5), 0)\n",
    "    _, thresh = cv.threshold(blur, 20, 255, cv.THRESH_BINARY)\n",
    "    dilated = cv. dilate(thresh, None, iterations=3)\n",
    "    contours, _ = cv.findContours(dilated, cv.RETR_TREE, cv.CHAIN_APPROX_SIMPLE)\n",
    "\n",
    "    for contour in contours:\n",
    "        (x, y, w, h) = cv.boundingRect(contour)\n",
    "\n",
    "        if cv.contourArea(contour) < 900:\n",
    "            continue\n",
    "        else:\n",
    "            cv.rectangle(frame_1, (x, y), (x+w, y+h), (0, 255, 0), 2)\n",
    "            font = cv.FONT_HERSHEY_PLAIN\n",
    "            cv.putText(frame_1, f'Detection: {\"movement\"}', (10, 30), font, 1, (0, 255, 255), 1)\n",
    "\n",
    "    #cv.drawContours(frame_1, contours, -1, (0, 255, 0), 2)\n",
    "\n",
    "\n",
    "\n",
    "    #ret, frame = cap.read()\n",
    "\n",
    "    cv.imshow('feed', frame_1)\n",
    "\n",
    "    frame_1 = frame_2\n",
    "\n",
    "    ret, frame_2 = cap.read()\n",
    "\n",
    "    if cv.waitKey(40) == 113:\n",
    "        break\n",
    "\n",
    "cap.release()\n",
    "cv.destroyAllWindows()"
   ],
   "metadata": {
    "collapsed": false,
    "pycharm": {
     "name": "#%%\n"
    }
   }
  }
 ],
 "metadata": {
  "kernelspec": {
   "display_name": "Python 3",
   "language": "python",
   "name": "python3"
  },
  "language_info": {
   "codemirror_mode": {
    "name": "ipython",
    "version": 2
   },
   "file_extension": ".py",
   "mimetype": "text/x-python",
   "name": "python",
   "nbconvert_exporter": "python",
   "pygments_lexer": "ipython2",
   "version": "2.7.6"
  }
 },
 "nbformat": 4,
 "nbformat_minor": 0
}