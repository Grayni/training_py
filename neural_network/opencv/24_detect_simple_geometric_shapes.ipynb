{
 "cells": [
  {
   "cell_type": "code",
   "execution_count": 54,
   "metadata": {
    "collapsed": true
   },
   "outputs": [],
   "source": [
    "import numpy as np\n",
    "import cv2 as cv"
   ]
  },
  {
   "cell_type": "code",
   "execution_count": 55,
   "outputs": [],
   "source": [
    "img = cv.imread('images/shapes.jpg')\n",
    "img_gray = cv.cvtColor(img, cv.COLOR_BGR2GRAY)"
   ],
   "metadata": {
    "collapsed": false,
    "pycharm": {
     "name": "#%%\n"
    }
   }
  },
  {
   "cell_type": "code",
   "execution_count": 56,
   "outputs": [],
   "source": [
    "_, thresh = cv.threshold(img_gray, 240, 255, cv.THRESH_BINARY)"
   ],
   "metadata": {
    "collapsed": false,
    "pycharm": {
     "name": "#%%\n"
    }
   }
  },
  {
   "cell_type": "code",
   "execution_count": 57,
   "outputs": [],
   "source": [
    "contours, _ = cv.findContours(thresh, cv.RETR_TREE, cv.CHAIN_APPROX_NONE)"
   ],
   "metadata": {
    "collapsed": false,
    "pycharm": {
     "name": "#%%\n"
    }
   }
  },
  {
   "cell_type": "code",
   "execution_count": 58,
   "outputs": [],
   "source": [
    "for contour in contours:\n",
    "    approx = cv.approxPolyDP(contour, 0.01 * cv.arcLength(contour, True), True)\n",
    "    cv.drawContours(img, [approx], 0, (0, 0, 0), 5)\n",
    "    x = approx.ravel()[0]\n",
    "    y = approx.ravel()[1] - 10\n",
    "\n",
    "    text = ''\n",
    "\n",
    "    if len(approx) == 3:\n",
    "        text = 'Triangle'\n",
    "    elif len(approx) == 4:\n",
    "        x1, y1, w, h = cv.boundingRect(approx)\n",
    "        if  0.95 <=  float(w/h) <= 1.05:\n",
    "            text = 'Square'\n",
    "        else:\n",
    "            text = 'Rectangle'\n",
    "    elif len(approx) == 5:\n",
    "        text = 'Pentagon'\n",
    "    elif len(approx) == 10:\n",
    "        text = 'Star'\n",
    "    else:\n",
    "        text = 'Circle'\n",
    "\n",
    "    font = cv.FONT_HERSHEY_SIMPLEX\n",
    "    cv.putText(img, text, (x, y), font, 0.5, (0, 0, 0))"
   ],
   "metadata": {
    "collapsed": false,
    "pycharm": {
     "name": "#%%\n"
    }
   }
  },
  {
   "cell_type": "code",
   "execution_count": 59,
   "outputs": [],
   "source": [
    "cv.imshow('image', img)"
   ],
   "metadata": {
    "collapsed": false,
    "pycharm": {
     "name": "#%%\n"
    }
   }
  },
  {
   "cell_type": "code",
   "execution_count": 60,
   "outputs": [],
   "source": [
    "if cv.waitKey(0) & 0xFF == ord('q'):\n",
    "    cv.destroyAllWindows()"
   ],
   "metadata": {
    "collapsed": false,
    "pycharm": {
     "name": "#%%\n"
    }
   }
  }
 ],
 "metadata": {
  "kernelspec": {
   "display_name": "Python 3",
   "language": "python",
   "name": "python3"
  },
  "language_info": {
   "codemirror_mode": {
    "name": "ipython",
    "version": 2
   },
   "file_extension": ".py",
   "mimetype": "text/x-python",
   "name": "python",
   "nbconvert_exporter": "python",
   "pygments_lexer": "ipython2",
   "version": "2.7.6"
  }
 },
 "nbformat": 4,
 "nbformat_minor": 0
}