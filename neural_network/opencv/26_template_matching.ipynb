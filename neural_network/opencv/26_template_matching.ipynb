{
 "cells": [
  {
   "cell_type": "code",
   "execution_count": 146,
   "metadata": {
    "collapsed": true
   },
   "outputs": [],
   "source": [
    "import cv2 as cv\n",
    "import numpy as np"
   ]
  },
  {
   "cell_type": "code",
   "execution_count": 147,
   "outputs": [],
   "source": [
    "img = cv.imread('images/messi5.jpg')"
   ],
   "metadata": {
    "collapsed": false,
    "pycharm": {
     "name": "#%%\n"
    }
   }
  },
  {
   "cell_type": "code",
   "execution_count": 148,
   "outputs": [],
   "source": [
    "img_grey = cv.cvtColor(img, cv.COLOR_BGR2GRAY)"
   ],
   "metadata": {
    "collapsed": false,
    "pycharm": {
     "name": "#%%\n"
    }
   }
  },
  {
   "cell_type": "code",
   "execution_count": 149,
   "outputs": [],
   "source": [
    "template = cv.imread('images/messi5_face.jpg', 0)"
   ],
   "metadata": {
    "collapsed": false,
    "pycharm": {
     "name": "#%%\n"
    }
   }
  },
  {
   "cell_type": "code",
   "execution_count": 150,
   "outputs": [],
   "source": [
    "w, h =template.shape[::-1]"
   ],
   "metadata": {
    "collapsed": false,
    "pycharm": {
     "name": "#%%\n"
    }
   }
  },
  {
   "cell_type": "code",
   "execution_count": 151,
   "outputs": [
    {
     "name": "stdout",
     "output_type": "stream",
     "text": [
      "[[-0.26396614 -0.24454038 -0.21717983 ... -0.03810379 -0.03319599\n",
      "  -0.02641729]\n",
      " [-0.2404902  -0.22203779 -0.1955837  ... -0.04822266 -0.04713419\n",
      "  -0.04369524]\n",
      " [-0.21591265 -0.19905512 -0.17443083 ... -0.05970318 -0.06196837\n",
      "  -0.06153785]\n",
      " ...\n",
      " [ 0.30423498  0.30691946  0.30570883 ... -0.03110159 -0.03452267\n",
      "  -0.0364929 ]\n",
      " [ 0.3175934   0.3123129   0.31162107 ... -0.04992151 -0.05294592\n",
      "  -0.06180176]\n",
      " [ 0.314232    0.3147547   0.31405556 ... -0.05329108 -0.05825172\n",
      "  -0.064082  ]]\n"
     ]
    }
   ],
   "source": [
    "res = cv.matchTemplate(img_grey, template, cv.TM_CCOEFF_NORMED)\n",
    "print(res)"
   ],
   "metadata": {
    "collapsed": false,
    "pycharm": {
     "name": "#%%\n"
    }
   }
  },
  {
   "cell_type": "code",
   "execution_count": 152,
   "outputs": [
    {
     "name": "stdout",
     "output_type": "stream",
     "text": [
      "(219, 86)\n"
     ]
    }
   ],
   "source": [
    "threshold = .9\n",
    "loc = np.where(res >= threshold) # find all values >= threshold\n",
    "loc = np.array(loc)\n",
    "for i in zip(*loc[::-1]):\n",
    "    print(i)\n",
    "    cv.rectangle(img, (i[0], i[1]), (i[0]+w, i[1]+h), (0, 255, 0), 1)\n",
    "\n",
    "cv.imshow('image', img)"
   ],
   "metadata": {
    "collapsed": false,
    "pycharm": {
     "name": "#%%\n"
    }
   }
  },
  {
   "cell_type": "code",
   "execution_count": 153,
   "outputs": [],
   "source": [
    "if cv.waitKey(0) & 0xFF == ord('q'):\n",
    "    cv.destroyAllWindows()"
   ],
   "metadata": {
    "collapsed": false,
    "pycharm": {
     "name": "#%%\n"
    }
   }
  },
  {
   "cell_type": "code",
   "execution_count": 153,
   "outputs": [],
   "source": [],
   "metadata": {
    "collapsed": false,
    "pycharm": {
     "name": "#%%\n"
    }
   }
  }
 ],
 "metadata": {
  "kernelspec": {
   "display_name": "Python 3",
   "language": "python",
   "name": "python3"
  },
  "language_info": {
   "codemirror_mode": {
    "name": "ipython",
    "version": 2
   },
   "file_extension": ".py",
   "mimetype": "text/x-python",
   "name": "python",
   "nbconvert_exporter": "python",
   "pygments_lexer": "ipython2",
   "version": "2.7.6"
  }
 },
 "nbformat": 4,
 "nbformat_minor": 0
}