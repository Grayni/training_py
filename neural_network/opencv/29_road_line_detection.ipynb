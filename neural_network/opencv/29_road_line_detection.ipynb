{
 "cells": [
  {
   "cell_type": "code",
   "execution_count": 91,
   "metadata": {
    "collapsed": true
   },
   "outputs": [],
   "source": [
    "import numpy as np\n",
    "import cv2 as cv\n",
    "import matplotlib.pyplot as plt\n",
    "\n",
    "%matplotlib inline"
   ]
  },
  {
   "cell_type": "code",
   "execution_count": 92,
   "outputs": [],
   "source": [
    "def region_of_interest(image, vertices):\n",
    "    mask = np.zeros_like(image)\n",
    "    channels_count = image.shape[-1] if len(image.shape) == 3 else 1\n",
    "    match_mask_color = (255,) * channels_count\n",
    "\n",
    "    cv.fillPoly(mask, vertices, match_mask_color)\n",
    "    masked_image = cv.bitwise_and(image, mask)\n",
    "\n",
    "    return masked_image"
   ],
   "metadata": {
    "collapsed": false,
    "pycharm": {
     "name": "#%%\n"
    }
   }
  },
  {
   "cell_type": "code",
   "execution_count": 93,
   "outputs": [],
   "source": [
    "def draw_the_lines(img_src, hough_lines_p):\n",
    "    image = np.copy(img_src)\n",
    "    blank_image = np.zeros((image.shape[0], image.shape[1], 3), dtype=np.uint8)\n",
    "    for line in hough_lines_p:\n",
    "        for x1, y1, x2, y2 in line:\n",
    "            cv.line(blank_image, (x1, y1), (x2, y2), (0, 255, 0), 2)\n",
    "\n",
    "    img = cv.addWeighted(image, .8, blank_image, 1, 0.0)\n",
    "\n",
    "    return img"
   ],
   "metadata": {
    "collapsed": false,
    "pycharm": {
     "name": "#%%\n"
    }
   }
  },
  {
   "cell_type": "code",
   "execution_count": 94,
   "outputs": [],
   "source": [
    "def process(img):\n",
    "    height = img.shape[0]\n",
    "    width = img.shape[1]\n",
    "\n",
    "    region_of_interest_vertices = [\n",
    "        (100, height),\n",
    "        (width/2 - width*0.04, height/2 + height*0.01),\n",
    "        (width-100, height)\n",
    "    ]\n",
    "\n",
    "    img_gray = cv.cvtColor(img, cv.COLOR_RGB2GRAY)\n",
    "    edges = cv.Canny(img_gray, 120, 255, apertureSize=3)\n",
    "    cropped_image = region_of_interest(edges, np.array([region_of_interest_vertices], np.int32))\n",
    "    lines = cv.HoughLinesP(cropped_image, 1, np.pi/180, 40, minLineLength=5, maxLineGap=20)\n",
    "    image_with_lines = draw_the_lines(img, lines)\n",
    "\n",
    "    return image_with_lines"
   ],
   "metadata": {
    "collapsed": false,
    "pycharm": {
     "name": "#%%\n"
    }
   }
  },
  {
   "cell_type": "code",
   "execution_count": 95,
   "outputs": [
    {
     "name": "stdout",
     "output_type": "stream",
     "text": [
      "no video\n",
      "no video\n",
      "no video\n",
      "no video\n"
     ]
    }
   ],
   "source": [
    "cap = cv.VideoCapture('video/road.mp4')\n",
    "cv.namedWindow('frame', cv.WINDOW_NORMAL)\n",
    "\n",
    "while cap.isOpened():\n",
    "    ret, frame = cap.read()\n",
    "\n",
    "    if ret:\n",
    "        frame = process(frame)\n",
    "        cv.imshow('frame', frame)\n",
    "\n",
    "    else:\n",
    "        print('no video')\n",
    "        cap.set(cv.CAP_PROP_POS_FRAMES, 0)\n",
    "        continue\n",
    "\n",
    "    if cv.waitKey(10) & 0xFF == ord('q'):\n",
    "        break"
   ],
   "metadata": {
    "collapsed": false,
    "pycharm": {
     "name": "#%%\n"
    }
   }
  },
  {
   "cell_type": "code",
   "execution_count": 96,
   "outputs": [],
   "source": [
    "cap.release()\n",
    "cv.destroyAllWindows()"
   ],
   "metadata": {
    "collapsed": false,
    "pycharm": {
     "name": "#%%\n"
    }
   }
  }
 ],
 "metadata": {
  "kernelspec": {
   "display_name": "Python 3",
   "language": "python",
   "name": "python3"
  },
  "language_info": {
   "codemirror_mode": {
    "name": "ipython",
    "version": 2
   },
   "file_extension": ".py",
   "mimetype": "text/x-python",
   "name": "python",
   "nbconvert_exporter": "python",
   "pygments_lexer": "ipython2",
   "version": "2.7.6"
  }
 },
 "nbformat": 4,
 "nbformat_minor": 0
}