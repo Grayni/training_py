{
 "cells": [
  {
   "cell_type": "code",
   "execution_count": 75,
   "metadata": {
    "collapsed": true
   },
   "outputs": [],
   "source": [
    "import cv2 as cv"
   ]
  },
  {
   "cell_type": "code",
   "execution_count": 76,
   "outputs": [],
   "source": [
    "cap = cv.VideoCapture('video/WIN_20230121_23_39_17_Pro.mp4')"
   ],
   "metadata": {
    "collapsed": false,
    "pycharm": {
     "name": "#%%\n"
    }
   }
  },
  {
   "cell_type": "code",
   "execution_count": 77,
   "outputs": [],
   "source": [
    "face_cascade = cv.CascadeClassifier('data/haarcascade_frontalface_default.xml')\n",
    "eyes_cascade = cv.CascadeClassifier('data/haarcascade_eye.xml')"
   ],
   "metadata": {
    "collapsed": false,
    "pycharm": {
     "name": "#%%\n"
    }
   }
  },
  {
   "cell_type": "code",
   "execution_count": 78,
   "outputs": [],
   "source": [
    "while cap.isOpened():\n",
    "    ret, frame = cap.read()\n",
    "\n",
    "    if ret:\n",
    "        frame_gray = cv.cvtColor(frame, cv.COLOR_BGR2GRAY)\n",
    "        gray_rgb = cv.cvtColor(frame_gray, cv.COLOR_GRAY2BGR)\n",
    "\n",
    "        faces = face_cascade.detectMultiScale(frame_gray, 1.5, 4)\n",
    "\n",
    "        for (x, y, w, h) in faces:\n",
    "            gray_rgb[y:y+h, x:x+w] = frame[y:y+h, x:x+w]\n",
    "            cv.rectangle(gray_rgb, (x, y), (x+w, y+h), (140, 255, 140), 1)\n",
    "            roi_gray = frame_gray[y:y+h, x:x+w]\n",
    "            roi_img = gray_rgb[y:y+h, x:x+w]\n",
    "\n",
    "            eyes = eyes_cascade.detectMultiScale(roi_gray, 1.2, 5)\n",
    "            for (ex, ey, ew, eh) in eyes:\n",
    "                cv.rectangle(roi_img, (ex, ey), (ex+ew, ey+eh), (140, 255, 140), 1)\n",
    "\n",
    "\n",
    "\n",
    "\n",
    "        cv.imshow('image', gray_rgb)\n",
    "\n",
    "        if cv.waitKey(30) & 0xFF == ord('q'):\n",
    "            break\n",
    "    else:\n",
    "        cap.set(cv.CAP_PROP_POS_FRAMES, 0)\n",
    "        continue"
   ],
   "metadata": {
    "collapsed": false,
    "pycharm": {
     "name": "#%%\n"
    }
   }
  },
  {
   "cell_type": "code",
   "execution_count": 79,
   "outputs": [],
   "source": [
    "cap.release()\n",
    "cv.destroyAllWindows()"
   ],
   "metadata": {
    "collapsed": false,
    "pycharm": {
     "name": "#%%\n"
    }
   }
  }
 ],
 "metadata": {
  "kernelspec": {
   "display_name": "Python 3",
   "language": "python",
   "name": "python3"
  },
  "language_info": {
   "codemirror_mode": {
    "name": "ipython",
    "version": 2
   },
   "file_extension": ".py",
   "mimetype": "text/x-python",
   "name": "python",
   "nbconvert_exporter": "python",
   "pygments_lexer": "ipython2",
   "version": "2.7.6"
  }
 },
 "nbformat": 4,
 "nbformat_minor": 0
}