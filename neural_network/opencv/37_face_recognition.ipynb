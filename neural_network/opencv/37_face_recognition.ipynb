{
 "cells": [
  {
   "cell_type": "code",
   "execution_count": 71,
   "metadata": {
    "collapsed": true
   },
   "outputs": [],
   "source": [
    "import numpy as np\n",
    "import cv2 as cv\n",
    "import matplotlib.pyplot as plt\n",
    "\n",
    "%matplotlib qt"
   ]
  },
  {
   "cell_type": "code",
   "execution_count": 72,
   "outputs": [],
   "source": [
    "cap = cv.VideoCapture(0)\n",
    "face_cascade = cv.CascadeClassifier('data/haarcascade_frontalface_alt.xml')\n",
    "\n",
    "skip = 0\n",
    "face_data = []\n",
    "dataset_path = 'face_dataset/'"
   ],
   "metadata": {
    "collapsed": false,
    "pycharm": {
     "name": "#%%\n"
    }
   }
  },
  {
   "cell_type": "code",
   "execution_count": 73,
   "outputs": [],
   "source": [
    "file_name = input('Enter name of person:')"
   ],
   "metadata": {
    "collapsed": false,
    "pycharm": {
     "name": "#%%\n"
    }
   }
  },
  {
   "cell_type": "code",
   "execution_count": 74,
   "outputs": [
    {
     "name": "stdout",
     "output_type": "stream",
     "text": [
      "1\n",
      "2\n"
     ]
    }
   ],
   "source": [
    "while cap.isOpened():\n",
    "    ret, frame = cap.read()\n",
    "    frame_gray = cv.cvtColor(frame, cv.COLOR_BGR2GRAY)\n",
    "\n",
    "    if ret:\n",
    "        faces = face_cascade.detectMultiScale(frame_gray, 1.3, 5)\n",
    "\n",
    "        if len(faces) == 0:\n",
    "            continue\n",
    "\n",
    "        k = 1\n",
    "\n",
    "        faces = sorted(faces, key = lambda x: x[2] * x[3], reverse=True)\n",
    "        skip += 1\n",
    "        for face in faces[:1]:\n",
    "            x, y, w, h = face\n",
    "\n",
    "            offset = 5\n",
    "            face_offset = frame[y-offset:y+h+offset, x-offset:x+w+offset]\n",
    "            face_selection = cv.resize(face_offset, (100, 100))\n",
    "\n",
    "            if skip%10 == 0:\n",
    "                face_data.append(face_selection)\n",
    "                print(len(face_data))\n",
    "\n",
    "            cv.imshow(str(k), face_selection)\n",
    "\n",
    "            cv.rectangle(frame, (x, y), (x+w, y+h), (0, 255, 0), 2)\n",
    "\n",
    "        cv.imshow('frame', frame)\n",
    "\n",
    "        key_pressed = cv.waitKey(1) & 0xFF\n",
    "        if key_pressed == ord('q') or key_pressed == 27:\n",
    "            break\n",
    "    else:\n",
    "        continue"
   ],
   "metadata": {
    "collapsed": false,
    "pycharm": {
     "name": "#%%\n"
    }
   }
  },
  {
   "cell_type": "code",
   "execution_count": 75,
   "outputs": [],
   "source": [
    "cap.release()\n",
    "cv.destroyAllWindows()"
   ],
   "metadata": {
    "collapsed": false,
    "pycharm": {
     "name": "#%%\n"
    }
   }
  }
 ],
 "metadata": {
  "kernelspec": {
   "display_name": "Python 3",
   "language": "python",
   "name": "python3"
  },
  "language_info": {
   "codemirror_mode": {
    "name": "ipython",
    "version": 2
   },
   "file_extension": ".py",
   "mimetype": "text/x-python",
   "name": "python",
   "nbconvert_exporter": "python",
   "pygments_lexer": "ipython2",
   "version": "2.7.6"
  }
 },
 "nbformat": 4,
 "nbformat_minor": 0
}