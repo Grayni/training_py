{
 "cells": [
  {
   "cell_type": "code",
   "execution_count": 102,
   "metadata": {
    "collapsed": true
   },
   "outputs": [],
   "source": [
    "import numpy as np\n",
    "import cv2 as cv\n",
    "import os\n",
    "import matplotlib.pyplot as plt\n",
    "\n",
    "%matplotlib qt"
   ]
  },
  {
   "cell_type": "code",
   "execution_count": 103,
   "outputs": [],
   "source": [
    "def distance(v1, v2):\n",
    "    return np.squrt(((v1-v2)**2).sum())"
   ],
   "metadata": {
    "collapsed": false,
    "pycharm": {
     "name": "#%%\n"
    }
   }
  },
  {
   "cell_type": "code",
   "execution_count": 104,
   "outputs": [],
   "source": [
    "def knn(train, test, k=5):\n",
    "    dist = []\n",
    "\n",
    "    for i in range(train.shape[0]):\n",
    "        # Get the vector and label\n",
    "        ix = train[:, :-1]\n",
    "        iy = train[:, -1]\n",
    "\n",
    "        # Compute the distance from test point\n",
    "        d = distance(test, ix)\n",
    "        dist.append([d, iy])\n",
    "\n",
    "    # Sort based on distance and get top k\n",
    "    dk = sorted(dist, key = lambda x: x[0])[:k]\n",
    "\n",
    "    # Retrieve only the labels\n",
    "    labels = np.array(dk)[:, -1]\n",
    "\n",
    "    # Get frequencies on each label\n",
    "    output = np.unique(labels, return_counts=True)\n",
    "\n",
    "    # Find max frequency and corresponding label\n",
    "    index = np.argmax(output[1])\n",
    "    return output[0][index]"
   ],
   "metadata": {
    "collapsed": false,
    "pycharm": {
     "name": "#%%\n"
    }
   }
  },
  {
   "cell_type": "code",
   "execution_count": 105,
   "outputs": [],
   "source": [
    "cap = cv.VideoCapture(0)\n",
    "face_cascade = cv.CascadeClassifier('data/haarcascade_frontalface_alt.xml')\n",
    "\n",
    "dataset_path = 'data/face_dataset/'\n",
    "face_data = []\n",
    "labels = []\n",
    "names = {}\n",
    "\n",
    "#!\n",
    "skip = 0\n"
   ],
   "metadata": {
    "collapsed": false,
    "pycharm": {
     "name": "#%%\n"
    }
   }
  },
  {
   "cell_type": "code",
   "execution_count": 106,
   "outputs": [],
   "source": [
    "class_id = 0\n",
    "\n",
    "for fx in os.listdir(dataset_path):\n",
    "    if fx.endswith('.npy'):\n",
    "        names[class_id] = fx[:-4]  # name = name of file without .npy\n",
    "\n",
    "        # loading np.array from the file\n",
    "        data_item = np.load(dataset_path + fx)\n",
    "\n",
    "        face_data.append(data_item)\n",
    "\n",
    "        target = class_id * np.ones((data_item.shape[0], 0))\n",
    "\n",
    "        class_id += 1\n",
    "        labels.append(target)"
   ],
   "metadata": {
    "collapsed": false,
    "pycharm": {
     "name": "#%%\n"
    }
   }
  },
  {
   "cell_type": "code",
   "execution_count": 107,
   "outputs": [
    {
     "name": "stdout",
     "output_type": "stream",
     "text": [
      "(21, 30000)\n",
      "(21, 0)\n"
     ]
    }
   ],
   "source": [
    "face_dataset = np.concatenate(face_data, axis=0)\n",
    "face_labels = np.concatenate(labels, axis=0)\n",
    "print(face_dataset.shape)\n",
    "print(face_labels.shape)"
   ],
   "metadata": {
    "collapsed": false,
    "pycharm": {
     "name": "#%%\n"
    }
   }
  },
  {
   "cell_type": "code",
   "execution_count": 108,
   "outputs": [
    {
     "data": {
      "text/plain": "(21, 30000)"
     },
     "execution_count": 108,
     "metadata": {},
     "output_type": "execute_result"
    }
   ],
   "source": [
    "trainset = np.concatenate((face_dataset, face_labels), axis=1)\n",
    "trainset.shape"
   ],
   "metadata": {
    "collapsed": false,
    "pycharm": {
     "name": "#%%\n"
    }
   }
  },
  {
   "cell_type": "code",
   "execution_count": 109,
   "outputs": [],
   "source": [
    "font = cv.FONT_HERSHEY_SIMPLEX"
   ],
   "metadata": {
    "collapsed": false,
    "pycharm": {
     "name": "#%%\n"
    }
   }
  },
  {
   "cell_type": "code",
   "execution_count": 110,
   "outputs": [],
   "source": [
    "file_name = input('Enter name of person:')\n",
    "\n",
    "# if not file_name:\n",
    "#     cap.release()\n",
    "#     assert False  # stop jupyter"
   ],
   "metadata": {
    "collapsed": false,
    "pycharm": {
     "name": "#%%\n"
    }
   }
  },
  {
   "cell_type": "code",
   "execution_count": 111,
   "outputs": [
    {
     "ename": "KeyboardInterrupt",
     "evalue": "",
     "output_type": "error",
     "traceback": [
      "\u001B[1;31m---------------------------------------------------------------------------\u001B[0m",
      "\u001B[1;31mKeyboardInterrupt\u001B[0m                         Traceback (most recent call last)",
      "Cell \u001B[1;32mIn[111], line 2\u001B[0m\n\u001B[0;32m      1\u001B[0m \u001B[38;5;28;01mwhile\u001B[39;00m cap\u001B[38;5;241m.\u001B[39misOpened():\n\u001B[1;32m----> 2\u001B[0m     ret, frame \u001B[38;5;241m=\u001B[39m \u001B[43mcap\u001B[49m\u001B[38;5;241;43m.\u001B[39;49m\u001B[43mread\u001B[49m\u001B[43m(\u001B[49m\u001B[43m)\u001B[49m\n\u001B[0;32m      3\u001B[0m     \u001B[38;5;28;01mif\u001B[39;00m ret:\n\u001B[0;32m      4\u001B[0m         frame_gray \u001B[38;5;241m=\u001B[39m cv\u001B[38;5;241m.\u001B[39mcvtColor(frame, cv\u001B[38;5;241m.\u001B[39mCOLOR_BGR2GRAY)\n",
      "\u001B[1;31mKeyboardInterrupt\u001B[0m: "
     ]
    }
   ],
   "source": [
    "while cap.isOpened():\n",
    "    ret, frame = cap.read()\n",
    "    if ret:\n",
    "        frame_gray = cv.cvtColor(frame, cv.COLOR_BGR2GRAY)\n",
    "\n",
    "        faces = face_cascade.detectMultiScale(frame_gray, 1.3, 5)\n",
    "\n",
    "        if len(faces):\n",
    "            k = 1\n",
    "\n",
    "            faces = sorted(faces, key = lambda n: n[2] * n[3], reverse=True)\n",
    "            skip += 1\n",
    "\n",
    "            for face in faces[:1]:\n",
    "                x, y, w, h = face\n",
    "\n",
    "                offset = 5\n",
    "                face_offset = frame[y-offset:y+h+offset, x-offset:x+w+offset]\n",
    "                face_section = cv.resize(face_offset, (100, 100))\n",
    "\n",
    "                out = knn(trainset, face_section.flatten)\n",
    "\n",
    "                cv.putText(frame, names[int(out)], (x, y<10), font, 1, (255, 0, 0), 2, cv.LINE_AA)\n",
    "\n",
    "                if skip%10 == 0:\n",
    "                    face_data.append(face_section)\n",
    "\n",
    "                cv.imshow(str(k), face_section)\n",
    "\n",
    "                cv.rectangle(frame, (x, y), (x+w, y+h), (0, 0, 0), 2)\n",
    "\n",
    "            cv.imshow('frame', frame)\n",
    "        else:\n",
    "            continue\n",
    "\n",
    "        key_pressed = cv.waitKey(1) & 0xFF\n",
    "\n",
    "        if key_pressed == ord('q') or key_pressed == 27:\n",
    "            break\n",
    "\n",
    "    else:\n",
    "        continue"
   ],
   "metadata": {
    "collapsed": false,
    "pycharm": {
     "name": "#%%\n"
    }
   }
  },
  {
   "cell_type": "code",
   "execution_count": null,
   "outputs": [],
   "source": [
    "face_data = np.array(face_data)\n",
    "face_data = face_data.reshape((face_data.shape[0], -1))\n",
    "print(face_data.shape)"
   ],
   "metadata": {
    "collapsed": false,
    "pycharm": {
     "name": "#%%\n"
    }
   }
  },
  {
   "cell_type": "code",
   "execution_count": null,
   "outputs": [],
   "source": [
    "path = dataset_path + file_name\n",
    "np.save(path, face_data)\n",
    "print(f'Dataset saved at: {path}.npy')"
   ],
   "metadata": {
    "collapsed": false,
    "pycharm": {
     "name": "#%%\n"
    }
   }
  },
  {
   "cell_type": "code",
   "execution_count": null,
   "outputs": [],
   "source": [
    "cap.release()\n",
    "cv.destroyAllWindows()"
   ],
   "metadata": {
    "collapsed": false,
    "pycharm": {
     "name": "#%%\n"
    }
   }
  },
  {
   "cell_type": "code",
   "execution_count": null,
   "outputs": [],
   "source": [],
   "metadata": {
    "collapsed": false,
    "pycharm": {
     "name": "#%%\n"
    }
   }
  }
 ],
 "metadata": {
  "kernelspec": {
   "display_name": "Python 3",
   "language": "python",
   "name": "python3"
  },
  "language_info": {
   "codemirror_mode": {
    "name": "ipython",
    "version": 2
   },
   "file_extension": ".py",
   "mimetype": "text/x-python",
   "name": "python",
   "nbconvert_exporter": "python",
   "pygments_lexer": "ipython2",
   "version": "2.7.6"
  }
 },
 "nbformat": 4,
 "nbformat_minor": 0
}