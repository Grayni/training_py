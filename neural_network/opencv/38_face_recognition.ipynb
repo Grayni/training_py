{
 "cells": [
  {
   "cell_type": "code",
   "execution_count": 238,
   "metadata": {
    "collapsed": true
   },
   "outputs": [],
   "source": [
    "import numpy as np\n",
    "import cv2 as cv\n",
    "import os"
   ]
  },
  {
   "cell_type": "code",
   "execution_count": 239,
   "outputs": [],
   "source": [
    "def distance(v1, v2):\n",
    "    return np.sqrt(((v1-v2)**2).sum())"
   ],
   "metadata": {
    "collapsed": false,
    "pycharm": {
     "name": "#%%\n"
    }
   }
  },
  {
   "cell_type": "code",
   "execution_count": 240,
   "outputs": [],
   "source": [
    "def knn(train, test, k=5):\n",
    "    dist = []\n",
    "    for i in range(train.shape[0]):\n",
    "\n",
    "        # Get the vector and label\n",
    "        ix = train[i, :-1]\n",
    "        iy = train[i, -1]\n",
    "\n",
    "        # Compute the distance from test point\n",
    "        d = distance(test, ix)\n",
    "        dist.append([d, iy])\n",
    "\n",
    "    # Sort based on distance and get top k\n",
    "    dk = sorted(dist, key = lambda x: x[0])[:k]\n",
    "\n",
    "    # Retrieve only the labels\n",
    "    labels = np.array(dk)[:, -1]\n",
    "\n",
    "    # Get frequencies on each label\n",
    "    output = np.unique(labels, return_counts=True)\n",
    "\n",
    "    # Find max frequency and corresponding label\n",
    "    index = np.argmax(output[1])\n",
    "    return output[0][index]"
   ],
   "metadata": {
    "collapsed": false,
    "pycharm": {
     "name": "#%%\n"
    }
   }
  },
  {
   "cell_type": "code",
   "execution_count": 241,
   "outputs": [],
   "source": [
    "cap = cv.VideoCapture(0)\n",
    "face_cascade = cv.CascadeClassifier('data/haarcascade_frontalface_alt.xml')\n",
    "\n",
    "dataset_path = 'data/face_dataset/'\n",
    "face_data = []\n",
    "labels = []\n",
    "names = {}"
   ],
   "metadata": {
    "collapsed": false,
    "pycharm": {
     "name": "#%%\n"
    }
   }
  },
  {
   "cell_type": "code",
   "execution_count": 242,
   "outputs": [],
   "source": [
    "class_id = 0\n",
    "\n",
    "for fx in os.listdir(dataset_path):\n",
    "    if fx.endswith('.npy'):\n",
    "        names[class_id] = fx[:-4]  # name = name of file without .npy\n",
    "\n",
    "        # loading np.array from the file\n",
    "        data_item = np.load(dataset_path + fx)\n",
    "\n",
    "        face_data.append(data_item)\n",
    "\n",
    "        target = class_id * np.ones((data_item.shape[0],))\n",
    "\n",
    "        class_id += 1\n",
    "        labels.append(target)"
   ],
   "metadata": {
    "collapsed": false,
    "pycharm": {
     "name": "#%%\n"
    }
   }
  },
  {
   "cell_type": "code",
   "execution_count": 243,
   "outputs": [
    {
     "name": "stdout",
     "output_type": "stream",
     "text": [
      "(163, 30000)\n",
      "(163, 1)\n"
     ]
    }
   ],
   "source": [
    "face_dataset = np.concatenate(face_data, axis=0)\n",
    "face_labels = np.concatenate(labels, axis=0).reshape((-1, 1))\n",
    "print(face_dataset.shape)\n",
    "print(face_labels.shape)"
   ],
   "metadata": {
    "collapsed": false,
    "pycharm": {
     "name": "#%%\n"
    }
   }
  },
  {
   "cell_type": "code",
   "execution_count": 244,
   "outputs": [
    {
     "data": {
      "text/plain": "(163, 30001)"
     },
     "execution_count": 244,
     "metadata": {},
     "output_type": "execute_result"
    }
   ],
   "source": [
    "train_set = np.concatenate((face_dataset, face_labels), axis=1)\n",
    "train_set.shape"
   ],
   "metadata": {
    "collapsed": false,
    "pycharm": {
     "name": "#%%\n"
    }
   }
  },
  {
   "cell_type": "code",
   "execution_count": 245,
   "outputs": [],
   "source": [
    "font = cv.FONT_HERSHEY_SIMPLEX"
   ],
   "metadata": {
    "collapsed": false,
    "pycharm": {
     "name": "#%%\n"
    }
   }
  },
  {
   "cell_type": "code",
   "execution_count": 246,
   "outputs": [
    {
     "name": "stdout",
     "output_type": "stream",
     "text": [
      "{0: 'dasdsasa', 1: 'fdsfds', 2: 'fsdfd', 3: 'test'}\n"
     ]
    }
   ],
   "source": [
    "while cap.isOpened():\n",
    "    ret, frame = cap.read()\n",
    "\n",
    "    key_pressed = cv.waitKey(1) & 0xFF\n",
    "\n",
    "    if key_pressed == ord('q') or key_pressed == 27:\n",
    "        break\n",
    "\n",
    "    if ret:\n",
    "        frame_gray = cv.cvtColor(frame, cv.COLOR_BGR2GRAY)\n",
    "\n",
    "        faces = face_cascade.detectMultiScale(frame_gray, 1.3, 5)\n",
    "\n",
    "        if len(faces) == 0:\n",
    "            continue\n",
    "\n",
    "        k = 1\n",
    "\n",
    "        faces = sorted(faces, key = lambda n: n[2] * n[3], reverse=True)\n",
    "\n",
    "        for face in faces[:1]:\n",
    "            x, y, w, h = face\n",
    "\n",
    "            offset = 5\n",
    "            face_offset = frame[y-offset:y+h+offset, x-offset:x+w+offset]\n",
    "\n",
    "            face_section = cv.resize(face_offset, (100, 100))\n",
    "            out = knn(train_set, face_section.flatten())\n",
    "            cv.putText(frame, names[int(out)], (x, y-10), font, 1, (255, 0, 0), 2, cv.LINE_AA)\n",
    "\n",
    "            cv.rectangle(frame, (x, y), (x+w, y+h), (0, 0, 0), 2)\n",
    "\n",
    "        cv.imshow('frame', frame)\n",
    "\n",
    "    else:\n",
    "        continue"
   ],
   "metadata": {
    "collapsed": false,
    "pycharm": {
     "name": "#%%\n"
    }
   }
  },
  {
   "cell_type": "code",
   "execution_count": 249,
   "outputs": [],
   "source": [
    "cap.release()\n",
    "cv.destroyAllWindows()"
   ],
   "metadata": {
    "collapsed": false,
    "pycharm": {
     "name": "#%%\n"
    }
   }
  }
 ],
 "metadata": {
  "kernelspec": {
   "display_name": "Python 3",
   "language": "python",
   "name": "python3"
  },
  "language_info": {
   "codemirror_mode": {
    "name": "ipython",
    "version": 2
   },
   "file_extension": ".py",
   "mimetype": "text/x-python",
   "name": "python",
   "nbconvert_exporter": "python",
   "pygments_lexer": "ipython2",
   "version": "2.7.6"
  }
 },
 "nbformat": 4,
 "nbformat_minor": 0
}