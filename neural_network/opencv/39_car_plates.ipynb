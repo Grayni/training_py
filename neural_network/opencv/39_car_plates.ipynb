{
 "cells": [
  {
   "cell_type": "code",
   "execution_count": 1365,
   "metadata": {
    "collapsed": true
   },
   "outputs": [],
   "source": [
    "import cv2 as cv\n",
    "import numpy as np\n",
    "import pytesseract\n",
    "import matplotlib.pyplot as plt\n",
    "from PIL import Image, ImageEnhance, ImageFilter\n",
    "import os\n",
    "\n",
    "%matplotlib qt"
   ]
  },
  {
   "cell_type": "code",
   "execution_count": 1366,
   "outputs": [],
   "source": [
    "def img_imread(img_path):\n",
    "    car_plate_img = cv.imread(img_path)\n",
    "    car_plate_img = cv.cvtColor(car_plate_img, cv.COLOR_BGR2RGB)\n",
    "\n",
    "    return car_plate_img"
   ],
   "metadata": {
    "collapsed": false,
    "pycharm": {
     "name": "#%%\n"
    }
   }
  },
  {
   "cell_type": "code",
   "execution_count": 1367,
   "outputs": [],
   "source": [
    "def plate_to_string(plate):\n",
    "    pytesseract.pytesseract.tesseract_cmd = r'C:\\Program Files\\Tesseract-OCR\\tesseract.exe'\n",
    "\n",
    "    config = f'--psm 6 --oem 3 -c tessedit_char_whitelist=ABCDEFGHIJKLMNOPQRSTUVWXYZ0123456789'\n",
    "    return pytesseract.image_to_string(plate, config=config)"
   ],
   "metadata": {
    "collapsed": false,
    "pycharm": {
     "name": "#%%\n"
    }
   }
  },
  {
   "cell_type": "code",
   "execution_count": 1368,
   "outputs": [],
   "source": [
    "def enlarge_img(image, scale_percent):\n",
    "    width = int(image.shape[1] * scale_percent / 100)\n",
    "    height = int(image.shape[0] * scale_percent / 100)\n",
    "\n",
    "    dim = (width, height)\n",
    "    resized_image = cv.resize(image, dim, interpolation=cv.INTER_AREA)\n",
    "\n",
    "    return resized_image"
   ],
   "metadata": {
    "collapsed": false,
    "pycharm": {
     "name": "#%%\n"
    }
   }
  },
  {
   "cell_type": "code",
   "execution_count": 1369,
   "outputs": [],
   "source": [
    "def car_plate_extract(image, cascade, num=1):\n",
    "        car_plate_rects = cascade.detectMultiScale(image, scaleFactor=1.1, minNeighbors=5)\n",
    "        x0 = 0; y0 = 0; w0 = 0; h0 = 0\n",
    "        car_plate_img = []\n",
    "\n",
    "        # find all variants with plates on image\n",
    "        for coord in car_plate_rects:\n",
    "            x, y, w, h = coord\n",
    "\n",
    "            # the largest area of car plate\n",
    "            if w0 * h0 < w * h:\n",
    "                x0 = x; y0 = y; w0 = w; h0 = h\n",
    "                car_plate_img = image[y0:y0+h0, x0:x0+w0]\n",
    "\n",
    "        cv.rectangle(image, (x0, y0), (x0+w0, y0+h0), (0, 255, 0), 2)\n",
    "\n",
    "        plt.figure(num)\n",
    "        plt.subplot(1, 2, 1)\n",
    "        plt.imshow(image)\n",
    "        plt.axis('off')\n",
    "\n",
    "        plt.subplot(1, 2, 2)\n",
    "        img_plate = enlarge_img(car_plate_img, 1250)\n",
    "        rgb_plate = cv.cvtColor(img_plate, cv.COLOR_BGR2RGB)\n",
    "        plate_gray = cv.cvtColor(rgb_plate, cv.COLOR_RGB2GRAY)\n",
    "        plate_blur = cv.medianBlur(plate_gray, 3)\n",
    "        img_binary = cv.threshold(plate_blur, 158, 255, cv.THRESH_BINARY)[1]\n",
    "\n",
    "        plt.imshow(img_binary)\n",
    "        plt.axis('off')\n",
    "        plt.show()\n",
    "\n",
    "        return plate_to_string(img_plate)"
   ],
   "metadata": {
    "collapsed": false,
    "pycharm": {
     "name": "#%%\n"
    }
   }
  },
  {
   "cell_type": "code",
   "execution_count": 1370,
   "outputs": [],
   "source": [
    "def cascade_haar(path):\n",
    "    cascade = cv.CascadeClassifier(path)\n",
    "    return cascade"
   ],
   "metadata": {
    "collapsed": false,
    "pycharm": {
     "name": "#%%\n"
    }
   }
  },
  {
   "cell_type": "code",
   "execution_count": 1371,
   "outputs": [],
   "source": [
    "def show_gallery(path_images, haar_path):\n",
    "    plates = []\n",
    "    for i, file in enumerate(os.listdir(path_images)):\n",
    "        if file.endswith('.jpg'):\n",
    "            image = img_imread(path_images+file)\n",
    "            plates.append(car_plate_extract(image, cascade_haar(haar_path), num=i+1))\n",
    "\n",
    "    return plates"
   ],
   "metadata": {
    "collapsed": false,
    "pycharm": {
     "name": "#%%\n"
    }
   }
  },
  {
   "cell_type": "code",
   "execution_count": 1372,
   "outputs": [
    {
     "name": "stdout",
     "output_type": "stream",
     "text": [
      "Car plates: ['H023BM194\\n', '', 'TSTYCS3LE\\n', '', 'C666CC4\\n']\n"
     ]
    }
   ],
   "source": [
    "print(f\"Car plates: {show_gallery('images/cars_plates/', 'data/haarcascade_russian_plate_number.xml')}\")"
   ],
   "metadata": {
    "collapsed": false,
    "pycharm": {
     "name": "#%%\n"
    }
   }
  },
  {
   "cell_type": "code",
   "execution_count": 1372,
   "outputs": [],
   "source": [],
   "metadata": {
    "collapsed": false,
    "pycharm": {
     "name": "#%%\n"
    }
   }
  }
 ],
 "metadata": {
  "kernelspec": {
   "display_name": "Python 3",
   "language": "python",
   "name": "python3"
  },
  "language_info": {
   "codemirror_mode": {
    "name": "ipython",
    "version": 2
   },
   "file_extension": ".py",
   "mimetype": "text/x-python",
   "name": "python",
   "nbconvert_exporter": "python",
   "pygments_lexer": "ipython2",
   "version": "2.7.6"
  }
 },
 "nbformat": 4,
 "nbformat_minor": 0
}