{
 "cells": [
  {
   "cell_type": "code",
   "execution_count": 3,
   "metadata": {
    "collapsed": true
   },
   "outputs": [],
   "source": [
    "import torch"
   ]
  },
  {
   "cell_type": "code",
   "execution_count": 4,
   "outputs": [],
   "source": [
    "x = torch.randn([1, 100, 3])\n",
    "target = torch.randn([1, 100, 64])"
   ],
   "metadata": {
    "collapsed": false,
    "pycharm": {
     "name": "#%%\n"
    }
   }
  },
  {
   "cell_type": "code",
   "execution_count": 5,
   "outputs": [],
   "source": [
    "class Net(torch.nn.Module):\n",
    "    def __init__(self):\n",
    "        super(Net, self).__init__()\n",
    "        self.fc1 = torch.nn.Linear(3, 64)  # w*x+b, w - weight, b - bias\n",
    "\n",
    "    def forward(self, x):  # __call__ -> forward()\n",
    "        x = self.fc1(x)\n",
    "        return x"
   ],
   "metadata": {
    "collapsed": false,
    "pycharm": {
     "name": "#%%\n"
    }
   }
  },
  {
   "cell_type": "code",
   "execution_count": 6,
   "outputs": [],
   "source": [
    "model = Net()"
   ],
   "metadata": {
    "collapsed": false,
    "pycharm": {
     "name": "#%%\n"
    }
   }
  },
  {
   "cell_type": "code",
   "execution_count": 7,
   "outputs": [
    {
     "data": {
      "text/plain": "tensor([[[-0.4967,  0.0583, -0.1832,  ...,  0.6181,  0.4412, -0.3128],\n         [ 0.7607,  1.4842, -0.6518,  ..., -0.2622,  0.2063,  1.3844],\n         [ 0.7761, -0.3824, -0.1793,  ...,  0.3719,  0.6031,  0.7978],\n         ...,\n         [-0.0150, -0.0160, -0.3013,  ...,  0.4636,  0.4203,  0.1808],\n         [-0.0439, -0.6877,  0.6054,  ...,  0.9294,  1.0390, -0.3969],\n         [-0.0914, -0.9447,  0.3425,  ...,  0.9295,  0.8747, -0.3758]]],\n       grad_fn=<ViewBackward0>)"
     },
     "execution_count": 7,
     "metadata": {},
     "output_type": "execute_result"
    }
   ],
   "source": [
    "model(x)"
   ],
   "metadata": {
    "collapsed": false,
    "pycharm": {
     "name": "#%%\n"
    }
   }
  },
  {
   "cell_type": "code",
   "execution_count": 8,
   "outputs": [
    {
     "data": {
      "text/plain": "torch.Size([1, 100, 64])"
     },
     "execution_count": 8,
     "metadata": {},
     "output_type": "execute_result"
    }
   ],
   "source": [
    "model(x).shape"
   ],
   "metadata": {
    "collapsed": false,
    "pycharm": {
     "name": "#%%\n"
    }
   }
  },
  {
   "cell_type": "code",
   "execution_count": 9,
   "outputs": [],
   "source": [
    "criterion = torch.nn.MSELoss()"
   ],
   "metadata": {
    "collapsed": false,
    "pycharm": {
     "name": "#%%\n"
    }
   }
  },
  {
   "cell_type": "code",
   "execution_count": 10,
   "outputs": [],
   "source": [
    "optimizer = torch.optim.SGD(model.parameters(), lr=0.0003)"
   ],
   "metadata": {
    "collapsed": false,
    "pycharm": {
     "name": "#%%\n"
    }
   }
  },
  {
   "cell_type": "code",
   "execution_count": 14,
   "outputs": [
    {
     "name": "stdout",
     "output_type": "stream",
     "text": [
      "Epoch:  0 Loss:  1.4975323677062988\n"
     ]
    }
   ],
   "source": [
    "for epoch in range(1):\n",
    "    output = model(x)\n",
    "    loss = criterion(output, target)\n",
    "    print('Epoch: ', epoch, 'Loss: ', loss.item())\n",
    "    optimizer.zero_grad()  # w.grad, b.grad - reset to zero\n",
    "    loss.backward()  # update w.grad, b.grad"
   ],
   "metadata": {
    "collapsed": false,
    "pycharm": {
     "name": "#%%\n"
    }
   }
  },
  {
   "cell_type": "code",
   "execution_count": 15,
   "outputs": [
    {
     "data": {
      "text/plain": "tensor([[-5.6454e-04, -1.4393e-02,  4.7372e-05],\n        [ 1.2397e-02, -1.3343e-02,  1.4096e-02],\n        [-1.4512e-02, -7.0489e-03,  1.5656e-02],\n        [ 6.8453e-03, -1.0503e-02, -1.1035e-02],\n        [ 4.0951e-03, -5.0044e-03,  1.0639e-02],\n        [ 1.8642e-02, -2.6714e-03,  1.5356e-02],\n        [-1.6502e-02, -1.0274e-02,  1.1011e-02],\n        [-4.5279e-03,  1.2325e-02,  3.3965e-03],\n        [-3.5179e-03, -5.9001e-04,  2.0788e-02],\n        [ 9.8727e-03,  5.6056e-03,  4.1611e-04],\n        [-1.8850e-02,  5.5423e-04,  3.1448e-02],\n        [-8.5560e-03,  1.6799e-02, -3.7231e-03],\n        [ 2.4863e-03, -6.6277e-03, -2.3290e-02],\n        [-7.3940e-03, -8.7204e-03, -1.5395e-02],\n        [-3.7774e-03,  9.7503e-03,  2.2968e-02],\n        [-1.9189e-04,  1.4015e-02,  1.3925e-02],\n        [-5.3261e-03,  1.0752e-02,  2.1865e-02],\n        [-1.7907e-02,  1.8933e-02,  1.5690e-02],\n        [ 2.8044e-04, -1.4528e-02,  7.8322e-03],\n        [-4.0076e-03,  9.4995e-03, -3.1002e-03],\n        [ 8.2052e-03, -1.0385e-02,  1.0491e-02],\n        [-7.1688e-03,  7.1964e-03,  5.3928e-03],\n        [-7.2278e-03,  7.3236e-03,  5.7977e-03],\n        [ 1.4561e-02,  7.7623e-03, -1.3862e-02],\n        [ 1.2729e-02,  1.3942e-02, -2.1796e-03],\n        [ 2.1928e-02, -1.4432e-02,  1.2322e-02],\n        [ 1.3596e-03, -4.1186e-03, -3.1996e-03],\n        [-2.7924e-03, -7.3486e-04,  1.1934e-03],\n        [-1.3124e-02,  4.3487e-03,  1.1196e-03],\n        [ 9.0055e-03, -7.0788e-03, -5.5450e-03],\n        [-6.5354e-03, -1.3217e-02,  3.7732e-03],\n        [ 1.9688e-02, -1.2557e-02, -7.3451e-03],\n        [-2.7027e-03,  1.5332e-02,  2.0956e-02],\n        [-3.2900e-03, -1.0019e-02,  1.7135e-02],\n        [ 1.4422e-02, -4.8598e-03, -1.0072e-04],\n        [ 1.4817e-02,  2.5609e-04, -1.2012e-02],\n        [ 1.5301e-02, -1.4652e-02, -2.3053e-02],\n        [ 5.0073e-03,  5.2375e-03,  1.5114e-02],\n        [-1.0639e-02, -1.4655e-02,  7.4334e-03],\n        [ 6.2519e-03, -1.9546e-02,  1.5458e-02],\n        [ 1.2512e-02, -1.0172e-02,  1.8606e-02],\n        [ 9.1258e-03,  2.5947e-03, -1.0421e-02],\n        [-7.0105e-03, -5.8408e-03, -1.0076e-02],\n        [-1.3559e-02,  1.5033e-02,  1.7269e-02],\n        [ 1.8663e-02,  9.7750e-03, -6.0229e-03],\n        [ 1.2126e-02,  1.0803e-02,  6.5933e-03],\n        [ 1.0937e-02,  1.3726e-02,  6.2483e-03],\n        [-1.9040e-03, -1.2173e-02, -1.9758e-02],\n        [-1.9497e-03,  6.0920e-03, -6.6907e-03],\n        [-1.6080e-02, -1.1166e-02,  1.5975e-02],\n        [-1.5178e-02,  9.6668e-03,  6.8086e-03],\n        [ 1.7579e-02, -1.3455e-02, -2.9176e-02],\n        [ 1.7054e-02, -1.5952e-02, -3.4407e-03],\n        [-4.6027e-03, -6.0571e-03, -1.4938e-03],\n        [ 6.4103e-03,  9.9156e-03,  1.9712e-02],\n        [ 6.9184e-03,  1.5653e-02,  3.6633e-03],\n        [-1.2260e-02, -5.3505e-03, -1.0313e-02],\n        [-1.1673e-02,  1.5830e-02,  1.1146e-03],\n        [ 1.7993e-02, -1.5342e-02, -2.6167e-02],\n        [-1.4741e-02, -2.0989e-02, -9.1858e-03],\n        [-1.3060e-02, -1.4892e-02,  1.4633e-02],\n        [-4.9335e-03,  6.0797e-03, -5.4917e-03],\n        [-1.0563e-02, -5.0818e-03,  9.7765e-03],\n        [ 5.1723e-03, -1.8021e-02, -5.7792e-06]])"
     },
     "execution_count": 15,
     "metadata": {},
     "output_type": "execute_result"
    }
   ],
   "source": [
    "list(model.parameters())[0].grad"
   ],
   "metadata": {
    "collapsed": false,
    "pycharm": {
     "name": "#%%\n"
    }
   }
  },
  {
   "cell_type": "code",
   "execution_count": 17,
   "outputs": [],
   "source": [
    "optimizer.zero_grad()"
   ],
   "metadata": {
    "collapsed": false,
    "pycharm": {
     "name": "#%%\n"
    }
   }
  },
  {
   "cell_type": "code",
   "execution_count": 18,
   "outputs": [
    {
     "data": {
      "text/plain": "tensor([[0., 0., 0.],\n        [0., 0., 0.],\n        [0., 0., 0.],\n        [0., 0., 0.],\n        [0., 0., 0.],\n        [0., 0., 0.],\n        [0., 0., 0.],\n        [0., 0., 0.],\n        [0., 0., 0.],\n        [0., 0., 0.],\n        [0., 0., 0.],\n        [0., 0., 0.],\n        [0., 0., 0.],\n        [0., 0., 0.],\n        [0., 0., 0.],\n        [0., 0., 0.],\n        [0., 0., 0.],\n        [0., 0., 0.],\n        [0., 0., 0.],\n        [0., 0., 0.],\n        [0., 0., 0.],\n        [0., 0., 0.],\n        [0., 0., 0.],\n        [0., 0., 0.],\n        [0., 0., 0.],\n        [0., 0., 0.],\n        [0., 0., 0.],\n        [0., 0., 0.],\n        [0., 0., 0.],\n        [0., 0., 0.],\n        [0., 0., 0.],\n        [0., 0., 0.],\n        [0., 0., 0.],\n        [0., 0., 0.],\n        [0., 0., 0.],\n        [0., 0., 0.],\n        [0., 0., 0.],\n        [0., 0., 0.],\n        [0., 0., 0.],\n        [0., 0., 0.],\n        [0., 0., 0.],\n        [0., 0., 0.],\n        [0., 0., 0.],\n        [0., 0., 0.],\n        [0., 0., 0.],\n        [0., 0., 0.],\n        [0., 0., 0.],\n        [0., 0., 0.],\n        [0., 0., 0.],\n        [0., 0., 0.],\n        [0., 0., 0.],\n        [0., 0., 0.],\n        [0., 0., 0.],\n        [0., 0., 0.],\n        [0., 0., 0.],\n        [0., 0., 0.],\n        [0., 0., 0.],\n        [0., 0., 0.],\n        [0., 0., 0.],\n        [0., 0., 0.],\n        [0., 0., 0.],\n        [0., 0., 0.],\n        [0., 0., 0.],\n        [0., 0., 0.]])"
     },
     "execution_count": 18,
     "metadata": {},
     "output_type": "execute_result"
    }
   ],
   "source": [
    "list(model.parameters())[0].grad"
   ],
   "metadata": {
    "collapsed": false,
    "pycharm": {
     "name": "#%%\n"
    }
   }
  },
  {
   "cell_type": "code",
   "execution_count": null,
   "outputs": [],
   "source": [],
   "metadata": {
    "collapsed": false,
    "pycharm": {
     "name": "#%%\n"
    }
   }
  }
 ],
 "metadata": {
  "kernelspec": {
   "display_name": "Python 3",
   "language": "python",
   "name": "python3"
  },
  "language_info": {
   "codemirror_mode": {
    "name": "ipython",
    "version": 2
   },
   "file_extension": ".py",
   "mimetype": "text/x-python",
   "name": "python",
   "nbconvert_exporter": "python",
   "pygments_lexer": "ipython2",
   "version": "2.7.6"
  }
 },
 "nbformat": 4,
 "nbformat_minor": 0
}