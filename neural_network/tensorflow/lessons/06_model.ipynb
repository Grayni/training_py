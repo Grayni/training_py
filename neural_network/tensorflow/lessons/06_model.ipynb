{
 "cells": [
  {
   "cell_type": "code",
   "execution_count": 33,
   "metadata": {
    "collapsed": true
   },
   "outputs": [],
   "source": [
    "import tensorflow as tf"
   ]
  },
  {
   "cell_type": "code",
   "execution_count": 34,
   "outputs": [],
   "source": [
    "class DenseNN(tf.Module):\n",
    "    def __init__(self, outputs):\n",
    "        super().__init__()\n",
    "        self.outputs = outputs\n",
    "        self.fl_init = False\n",
    "\n",
    "    def __call__(self, x):\n",
    "        if not self.fl_init:\n",
    "            self.w = tf.random.truncated_normal((x.shape[-1], self.outputs), stddev=0.1, name='w')  # limitation -> duble sigma\n",
    "            self.b = tf.zeros([self.outputs], dtype=tf.float32, name='b')\n",
    "\n",
    "            self.w = tf.Variable(self.w)\n",
    "            self.b = tf.Variable(self.b)\n",
    "\n",
    "            self.fl_init = True\n",
    "\n",
    "        y = x @ self.w + self.b\n",
    "        return y"
   ],
   "metadata": {
    "collapsed": false,
    "pycharm": {
     "name": "#%%\n"
    }
   }
  },
  {
   "cell_type": "code",
   "execution_count": 35,
   "outputs": [],
   "source": [
    "model = DenseNN(1)"
   ],
   "metadata": {
    "collapsed": false,
    "pycharm": {
     "name": "#%%\n"
    }
   }
  },
  {
   "cell_type": "code",
   "execution_count": 36,
   "outputs": [
    {
     "data": {
      "text/plain": "<tf.Tensor: shape=(1, 1), dtype=float32, numpy=array([[0.16934119]], dtype=float32)>"
     },
     "execution_count": 36,
     "metadata": {},
     "output_type": "execute_result"
    }
   ],
   "source": [
    "model(tf.constant([[1.0, 2.0]]))  # x = [1.0, 2.0]"
   ],
   "metadata": {
    "collapsed": false,
    "pycharm": {
     "name": "#%%\n"
    }
   }
  },
  {
   "cell_type": "code",
   "execution_count": 37,
   "outputs": [],
   "source": [
    "x_train = tf.random.uniform(minval=0, maxval=10, shape=(100, 2))\n",
    "y_train = [a + b for a, b in x_train]"
   ],
   "metadata": {
    "collapsed": false,
    "pycharm": {
     "name": "#%%\n"
    }
   }
  },
  {
   "cell_type": "code",
   "execution_count": 38,
   "outputs": [
    {
     "data": {
      "text/plain": "<tf.Tensor: shape=(100, 2), dtype=float32, numpy=\narray([[6.7075562 , 7.177241  ],\n       [0.17211318, 5.313945  ],\n       [6.021968  , 8.935842  ],\n       [5.660921  , 1.5163982 ],\n       [8.144116  , 8.790965  ],\n       [9.683074  , 5.9124336 ],\n       [5.9972334 , 1.7509174 ],\n       [1.2156999 , 6.1575136 ],\n       [0.40568233, 1.5517902 ],\n       [4.388014  , 3.2653332 ],\n       [8.349093  , 1.1356866 ],\n       [5.450449  , 2.0785952 ],\n       [8.738428  , 7.922344  ],\n       [8.060447  , 6.1409197 ],\n       [1.5412676 , 2.2234046 ],\n       [1.8389618 , 0.87698936],\n       [5.0382624 , 9.79084   ],\n       [8.675331  , 7.845641  ],\n       [1.6447508 , 3.1458354 ],\n       [9.579029  , 7.1206164 ],\n       [2.8983915 , 1.2696517 ],\n       [7.38667   , 8.747263  ],\n       [9.00577   , 2.0548475 ],\n       [4.750793  , 5.353936  ],\n       [1.0174704 , 6.993161  ],\n       [7.9412737 , 8.017008  ],\n       [9.838476  , 3.6449552 ],\n       [1.3524699 , 7.6782503 ],\n       [2.9299724 , 3.1277287 ],\n       [2.7251887 , 2.41933   ],\n       [8.758053  , 9.675752  ],\n       [7.4503317 , 3.15305   ],\n       [7.671337  , 5.9920645 ],\n       [4.2188525 , 7.72911   ],\n       [0.5432582 , 2.5699687 ],\n       [8.796172  , 1.827203  ],\n       [5.014894  , 1.1721051 ],\n       [8.860264  , 2.7533329 ],\n       [7.7443337 , 4.323504  ],\n       [1.5942585 , 9.675545  ],\n       [0.71252227, 5.612136  ],\n       [7.021866  , 2.5119555 ],\n       [9.8839    , 2.6176417 ],\n       [6.3501596 , 0.16509652],\n       [1.8401957 , 7.274537  ],\n       [7.2765055 , 2.542472  ],\n       [7.1418953 , 5.643363  ],\n       [0.36961675, 6.338644  ],\n       [2.0465446 , 1.3882494 ],\n       [3.85401   , 4.519867  ],\n       [3.0315304 , 9.305135  ],\n       [7.194804  , 1.7409182 ],\n       [8.762484  , 8.643293  ],\n       [9.824191  , 7.58844   ],\n       [4.8488307 , 2.7619624 ],\n       [8.851623  , 0.94194055],\n       [3.3436954 , 3.1629312 ],\n       [2.9858053 , 1.0020185 ],\n       [3.0422843 , 4.67124   ],\n       [5.859649  , 9.801016  ],\n       [8.941744  , 4.4085503 ],\n       [4.512043  , 5.0069036 ],\n       [3.0899835 , 1.3043618 ],\n       [9.485617  , 8.976643  ],\n       [6.989727  , 3.6370754 ],\n       [1.3654375 , 1.1034179 ],\n       [5.587876  , 6.9484053 ],\n       [4.9308133 , 7.5557413 ],\n       [8.235973  , 8.5418415 ],\n       [5.4949703 , 7.5554333 ],\n       [1.7730212 , 6.8631387 ],\n       [9.275799  , 0.37798882],\n       [7.39522   , 9.927721  ],\n       [2.8482234 , 1.2256515 ],\n       [7.8234887 , 3.0362284 ],\n       [6.0480976 , 6.0430694 ],\n       [5.973897  , 2.462684  ],\n       [3.3047807 , 7.422515  ],\n       [0.21832705, 8.508998  ],\n       [5.2695694 , 4.3539658 ],\n       [8.586334  , 4.738734  ],\n       [0.73697805, 1.7500424 ],\n       [5.897994  , 2.4000394 ],\n       [4.596773  , 3.7313569 ],\n       [1.0220814 , 5.2576113 ],\n       [8.594843  , 6.404725  ],\n       [4.2008553 , 2.4607837 ],\n       [3.83116   , 7.0733547 ],\n       [8.594801  , 6.3037944 ],\n       [9.483265  , 0.71466327],\n       [8.513779  , 8.581337  ],\n       [5.6015434 , 9.079381  ],\n       [4.2784634 , 3.018701  ],\n       [8.833594  , 2.444414  ],\n       [9.030445  , 0.6828928 ],\n       [5.5882015 , 4.8922086 ],\n       [9.120806  , 3.6979294 ],\n       [2.5061548 , 6.145688  ],\n       [0.77683926, 4.8986826 ],\n       [7.382183  , 6.9604197 ]], dtype=float32)>"
     },
     "execution_count": 38,
     "metadata": {},
     "output_type": "execute_result"
    }
   ],
   "source": [
    "x_train"
   ],
   "metadata": {
    "collapsed": false,
    "pycharm": {
     "name": "#%%\n"
    }
   }
  },
  {
   "cell_type": "markdown",
   "source": [],
   "metadata": {
    "collapsed": false
   }
  },
  {
   "cell_type": "code",
   "execution_count": 39,
   "outputs": [],
   "source": [
    "loss = lambda x, y: tf.reduce_mean(tf.square(x - y))\n",
    "opt = tf.optimizers.Adam(learning_rate=0.01)"
   ],
   "metadata": {
    "collapsed": false,
    "pycharm": {
     "name": "#%%\n"
    }
   }
  },
  {
   "cell_type": "code",
   "execution_count": 40,
   "outputs": [
    {
     "name": "stdout",
     "output_type": "stream",
     "text": [
      "16.966808\n",
      "0.5164645\n",
      "0.059774265\n",
      "0.045563936\n",
      "0.041354742\n",
      "0.037199628\n",
      "0.033104967\n",
      "0.02914177\n",
      "0.025367936\n",
      "0.021828907\n",
      "0.018561859\n",
      "0.015596164\n",
      "0.01294611\n",
      "0.010618171\n",
      "0.008604964\n",
      "0.0068910886\n",
      "0.0054532117\n",
      "0.0042640883\n",
      "0.0032936365\n",
      "0.0025119542\n",
      "0.0018904204\n",
      "0.0014024903\n",
      "0.0010243398\n",
      "0.00073537126\n",
      "0.0005178618\n",
      "0.0003567384\n",
      "0.00023966121\n",
      "0.0001565076\n",
      "9.892032e-05\n",
      "6.0233146e-05\n",
      "3.516427e-05\n",
      "1.9581057e-05\n",
      "1.0322911e-05\n",
      "5.1344396e-06\n",
      "2.3898256e-06\n",
      "1.0315716e-06\n",
      "4.094918e-07\n",
      "1.4551915e-07\n",
      "4.604317e-08\n",
      "1.2028067e-08\n",
      "2.4592737e-09\n",
      "2.9467628e-10\n",
      "1.4551915e-11\n",
      "8.185452e-12\n",
      "1.4551915e-11\n",
      "8.185452e-12\n",
      "9.094947e-13\n",
      "9.094947e-13\n",
      "9.094947e-13\n",
      "0.0\n"
     ]
    }
   ],
   "source": [
    "EPOCHS = 50\n",
    "\n",
    "for n in range(EPOCHS):\n",
    "    for x, y in zip(x_train, y_train):\n",
    "        x = tf.expand_dims(x, axis=0)\n",
    "        y = tf.constant(y, shape=(1, 1))\n",
    "\n",
    "        with tf.GradientTape() as t:\n",
    "            f_loss = loss(y, model(x))\n",
    "\n",
    "        grads = t.gradient(f_loss, model.trainable_variables)\n",
    "        opt.apply_gradients(zip(grads, model.trainable_variables))\n",
    "\n",
    "    print(f_loss.numpy())"
   ],
   "metadata": {
    "collapsed": false,
    "pycharm": {
     "name": "#%%\n"
    }
   }
  },
  {
   "cell_type": "code",
   "execution_count": 41,
   "outputs": [
    {
     "name": "stdout",
     "output_type": "stream",
     "text": [
      "(<tf.Variable 'Variable:0' shape=(1,) dtype=float32, numpy=array([3.249505e-06], dtype=float32)>, <tf.Variable 'Variable:0' shape=(2, 1) dtype=float32, numpy=\n",
      "array([[0.9999998],\n",
      "       [0.9999998]], dtype=float32)>)\n"
     ]
    }
   ],
   "source": [
    "print(model.trainable_variables)"
   ],
   "metadata": {
    "collapsed": false,
    "pycharm": {
     "name": "#%%\n"
    }
   }
  },
  {
   "cell_type": "code",
   "execution_count": 42,
   "outputs": [
    {
     "name": "stdout",
     "output_type": "stream",
     "text": [
      "tf.Tensor([[3.0000029]], shape=(1, 1), dtype=float32)\n"
     ]
    }
   ],
   "source": [
    "print(model(tf.constant([[1.0, 2.0]])))"
   ],
   "metadata": {
    "collapsed": false,
    "pycharm": {
     "name": "#%%\n"
    }
   }
  },
  {
   "cell_type": "code",
   "execution_count": null,
   "outputs": [],
   "source": [],
   "metadata": {
    "collapsed": false,
    "pycharm": {
     "name": "#%%\n"
    }
   }
  }
 ],
 "metadata": {
  "kernelspec": {
   "display_name": "Python 3",
   "language": "python",
   "name": "python3"
  },
  "language_info": {
   "codemirror_mode": {
    "name": "ipython",
    "version": 2
   },
   "file_extension": ".py",
   "mimetype": "text/x-python",
   "name": "python",
   "nbconvert_exporter": "python",
   "pygments_lexer": "ipython2",
   "version": "2.7.6"
  }
 },
 "nbformat": 4,
 "nbformat_minor": 0
}