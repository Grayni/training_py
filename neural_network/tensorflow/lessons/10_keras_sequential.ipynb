{
 "cells": [
  {
   "cell_type": "code",
   "execution_count": 150,
   "outputs": [],
   "source": [
    "import tensorflow as tf\n",
    "from tensorflow.keras.layers import Dense, Input\n",
    "from tensorflow import keras"
   ],
   "metadata": {
    "collapsed": false,
    "pycharm": {
     "name": "#%%\n"
    }
   }
  },
  {
   "cell_type": "code",
   "execution_count": 151,
   "outputs": [],
   "source": [
    "from tensorflow.keras.datasets import mnist\n",
    "from tensorflow.keras.utils import to_categorical"
   ],
   "metadata": {
    "collapsed": false,
    "pycharm": {
     "name": "#%%\n"
    }
   }
  },
  {
   "cell_type": "code",
   "execution_count": 152,
   "outputs": [],
   "source": [
    "# Sequential - sets the sequence of layers\n",
    "model = keras.Sequential([\n",
    "    Dense(128, activation='relu'),\n",
    "    Dense(10, activation='softmax')\n",
    "])"
   ],
   "metadata": {
    "collapsed": false,
    "pycharm": {
     "name": "#%%\n"
    }
   }
  },
  {
   "cell_type": "code",
   "execution_count": 153,
   "outputs": [
    {
     "data": {
      "text/plain": "[<keras.layers.core.dense.Dense at 0x18b045ac1f0>,\n <keras.layers.core.dense.Dense at 0x18b045acd30>]"
     },
     "execution_count": 153,
     "metadata": {},
     "output_type": "execute_result"
    }
   ],
   "source": [
    "model.layers"
   ],
   "metadata": {
    "collapsed": false,
    "pycharm": {
     "name": "#%%\n"
    }
   }
  },
  {
   "cell_type": "code",
   "execution_count": 154,
   "outputs": [
    {
     "data": {
      "text/plain": "[<keras.layers.core.dense.Dense at 0x18b045ac1f0>]"
     },
     "execution_count": 154,
     "metadata": {},
     "output_type": "execute_result"
    }
   ],
   "source": [
    "model.pop()  # delete last layer\n",
    "model.layers"
   ],
   "metadata": {
    "collapsed": false,
    "pycharm": {
     "name": "#%%\n"
    }
   }
  },
  {
   "cell_type": "code",
   "execution_count": 155,
   "outputs": [
    {
     "data": {
      "text/plain": "[<keras.layers.core.dense.Dense at 0x18b045ac1f0>,\n <keras.layers.core.dense.Dense at 0x18b045ac7c0>]"
     },
     "execution_count": 155,
     "metadata": {},
     "output_type": "execute_result"
    }
   ],
   "source": [
    "model.add(Dense(5, activation='linear'))  # add new layer\n",
    "model.layers"
   ],
   "metadata": {
    "collapsed": false,
    "pycharm": {
     "name": "#%%\n"
    }
   }
  },
  {
   "cell_type": "code",
   "execution_count": 156,
   "outputs": [
    {
     "data": {
      "text/plain": "[<keras.layers.core.dense.Dense at 0x18b045ae2c0>,\n <keras.layers.core.dense.Dense at 0x18b045ae9b0>]"
     },
     "execution_count": 156,
     "metadata": {},
     "output_type": "execute_result"
    }
   ],
   "source": [
    "# alternative\n",
    "model2 = keras.Sequential()\n",
    "model2.add(Dense(128, activation='relu', name='layer_1'))\n",
    "model2.add(Dense(10, activation='linear', name='layer_2'))\n",
    "model2.layers"
   ],
   "metadata": {
    "collapsed": false,
    "pycharm": {
     "name": "#%%\n"
    }
   }
  },
  {
   "cell_type": "code",
   "execution_count": 157,
   "outputs": [
    {
     "data": {
      "text/plain": "[]"
     },
     "execution_count": 157,
     "metadata": {},
     "output_type": "execute_result"
    }
   ],
   "source": [
    "model2.layers[0].weights"
   ],
   "metadata": {
    "collapsed": false,
    "pycharm": {
     "name": "#%%\n"
    }
   }
  },
  {
   "cell_type": "code",
   "execution_count": 158,
   "outputs": [
    {
     "data": {
      "text/plain": "[<tf.Variable 'layer_1/kernel:0' shape=(20, 128) dtype=float32, numpy=\n array([[ 0.00134265,  0.00377078,  0.18202439, ..., -0.0557963 ,\n         -0.1120711 ,  0.12340009],\n        [-0.19267748,  0.07435161, -0.11914086, ...,  0.11335978,\n         -0.05289926,  0.19191161],\n        [-0.10315046,  0.1350775 , -0.02697045, ..., -0.04096401,\n         -0.04065567,  0.03296751],\n        ...,\n        [-0.08537979, -0.09750816,  0.17874077, ...,  0.11726949,\n          0.096136  , -0.11807132],\n        [ 0.08603045, -0.16947675, -0.14286566, ..., -0.13271105,\n         -0.11358473,  0.02173485],\n        [ 0.07655966, -0.11480685, -0.1539554 , ...,  0.11107796,\n         -0.13046524,  0.17144763]], dtype=float32)>,\n <tf.Variable 'layer_1/bias:0' shape=(128,) dtype=float32, numpy=\n array([0., 0., 0., 0., 0., 0., 0., 0., 0., 0., 0., 0., 0., 0., 0., 0., 0.,\n        0., 0., 0., 0., 0., 0., 0., 0., 0., 0., 0., 0., 0., 0., 0., 0., 0.,\n        0., 0., 0., 0., 0., 0., 0., 0., 0., 0., 0., 0., 0., 0., 0., 0., 0.,\n        0., 0., 0., 0., 0., 0., 0., 0., 0., 0., 0., 0., 0., 0., 0., 0., 0.,\n        0., 0., 0., 0., 0., 0., 0., 0., 0., 0., 0., 0., 0., 0., 0., 0., 0.,\n        0., 0., 0., 0., 0., 0., 0., 0., 0., 0., 0., 0., 0., 0., 0., 0., 0.,\n        0., 0., 0., 0., 0., 0., 0., 0., 0., 0., 0., 0., 0., 0., 0., 0., 0.,\n        0., 0., 0., 0., 0., 0., 0., 0., 0.], dtype=float32)>]"
     },
     "execution_count": 158,
     "metadata": {},
     "output_type": "execute_result"
    }
   ],
   "source": [
    "x = tf.random.uniform((1, 20), 0, 1)\n",
    "y = model2(x)\n",
    "model2.layers[0].weights"
   ],
   "metadata": {
    "collapsed": false,
    "pycharm": {
     "name": "#%%\n"
    }
   }
  },
  {
   "cell_type": "code",
   "execution_count": 159,
   "outputs": [
    {
     "name": "stdout",
     "output_type": "stream",
     "text": [
      "Model: \"sequential_39\"\n",
      "_________________________________________________________________\n",
      " Layer (type)                Output Shape              Param #   \n",
      "=================================================================\n",
      " layer_1 (Dense)             (1, 128)                  2688      \n",
      "                                                                 \n",
      " layer_2 (Dense)             (1, 10)                   1290      \n",
      "                                                                 \n",
      "=================================================================\n",
      "Total params: 3,978\n",
      "Trainable params: 3,978\n",
      "Non-trainable params: 0\n",
      "_________________________________________________________________\n"
     ]
    }
   ],
   "source": [
    "model2.summary()"
   ],
   "metadata": {
    "collapsed": false,
    "pycharm": {
     "name": "#%%\n"
    }
   }
  },
  {
   "cell_type": "code",
   "execution_count": 160,
   "outputs": [
    {
     "data": {
      "text/plain": "[<keras.layers.core.dense.Dense at 0x18b045b0610>,\n <keras.layers.core.dense.Dense at 0x18b045b0670>]"
     },
     "execution_count": 160,
     "metadata": {},
     "output_type": "execute_result"
    }
   ],
   "source": [
    "model3 = keras.Sequential([\n",
    "    Input(shape=(20,)),  # input layer\n",
    "    Dense(128, activation='relu'),\n",
    "    Dense(10, activation='linear')\n",
    "])\n",
    "\n",
    "model3.layers  # does not display the input layer"
   ],
   "metadata": {
    "collapsed": false,
    "pycharm": {
     "name": "#%%\n"
    }
   }
  },
  {
   "cell_type": "code",
   "execution_count": 161,
   "outputs": [
    {
     "data": {
      "text/plain": "<keras.engine.sequential.Sequential at 0x18b045b0340>"
     },
     "execution_count": 161,
     "metadata": {},
     "output_type": "execute_result"
    }
   ],
   "source": [
    "model4 = keras.Sequential([\n",
    "    Dense(128, activation='relu', input_shape=(784,), name='hidden_1'),\n",
    "    Dense(10, activation='softmax', name='output')\n",
    "])\n",
    "\n",
    "model4"
   ],
   "metadata": {
    "collapsed": false,
    "pycharm": {
     "name": "#%%\n"
    }
   }
  },
  {
   "cell_type": "code",
   "execution_count": 162,
   "outputs": [],
   "source": [
    "model_ex = keras.Model(inputs=model4.inputs,\n",
    "                       outputs=[layer.output for layer in model4.layers])"
   ],
   "metadata": {
    "collapsed": false,
    "pycharm": {
     "name": "#%%\n"
    }
   }
  },
  {
   "cell_type": "code",
   "execution_count": 163,
   "outputs": [],
   "source": [
    "model_ex2 = keras.Model(\n",
    "    inputs=model4.inputs,\n",
    "    outputs=model4.get_layer(name='output').output)"
   ],
   "metadata": {
    "collapsed": false,
    "pycharm": {
     "name": "#%%\n"
    }
   }
  },
  {
   "cell_type": "code",
   "execution_count": 164,
   "outputs": [],
   "source": [
    "(x_train, y_train), (x_test, y_test) = mnist.load_data()"
   ],
   "metadata": {
    "collapsed": false,
    "pycharm": {
     "name": "#%%\n"
    }
   }
  },
  {
   "cell_type": "code",
   "execution_count": 165,
   "outputs": [],
   "source": [
    "x_train = x_train / 255\n",
    "x_test = x_test / 255"
   ],
   "metadata": {
    "collapsed": false,
    "pycharm": {
     "name": "#%%\n"
    }
   }
  },
  {
   "cell_type": "code",
   "execution_count": 166,
   "outputs": [
    {
     "data": {
      "text/plain": "array([5, 0, 4, ..., 5, 6, 8], dtype=uint8)"
     },
     "execution_count": 166,
     "metadata": {},
     "output_type": "execute_result"
    }
   ],
   "source": [
    "y_train"
   ],
   "metadata": {
    "collapsed": false,
    "pycharm": {
     "name": "#%%\n"
    }
   }
  },
  {
   "cell_type": "code",
   "execution_count": 167,
   "outputs": [],
   "source": [
    "x_train = tf.reshape(tf.cast(x_train, tf.float32), [-1, 28*28])\n",
    "x_test = tf.reshape(tf.cast(x_test, tf.float32), [-1, 28*28])\n",
    "\n",
    "y_train = to_categorical(y_train, 10)  # OneHot\n",
    "y_test = to_categorical(y_test, 10)"
   ],
   "metadata": {
    "collapsed": false,
    "pycharm": {
     "name": "#%%\n"
    }
   }
  },
  {
   "cell_type": "code",
   "execution_count": 168,
   "outputs": [],
   "source": [
    "model4.compile(optimizer='adam',\n",
    "              loss='categorical_crossentropy',\n",
    "              metrics=['accuracy'])"
   ],
   "metadata": {
    "collapsed": false,
    "pycharm": {
     "name": "#%%\n"
    }
   }
  },
  {
   "cell_type": "code",
   "execution_count": 169,
   "outputs": [
    {
     "name": "stdout",
     "output_type": "stream",
     "text": [
      "Epoch 1/5\n",
      "1875/1875 [==============================] - 2s 1ms/step - loss: 0.2582 - accuracy: 0.9261\n",
      "Epoch 2/5\n",
      "1875/1875 [==============================] - 2s 1ms/step - loss: 0.1119 - accuracy: 0.9674\n",
      "Epoch 3/5\n",
      "1875/1875 [==============================] - 2s 1ms/step - loss: 0.0761 - accuracy: 0.9772\n",
      "Epoch 4/5\n",
      "1875/1875 [==============================] - 2s 1ms/step - loss: 0.0572 - accuracy: 0.9829\n",
      "Epoch 5/5\n",
      "1875/1875 [==============================] - 2s 1ms/step - loss: 0.0432 - accuracy: 0.9865\n"
     ]
    },
    {
     "data": {
      "text/plain": "<keras.callbacks.History at 0x18b7512f4f0>"
     },
     "execution_count": 169,
     "metadata": {},
     "output_type": "execute_result"
    }
   ],
   "source": [
    "model4.fit(x_train, y_train, batch_size=32, epochs=5)"
   ],
   "metadata": {
    "collapsed": false,
    "pycharm": {
     "name": "#%%\n"
    }
   }
  },
  {
   "cell_type": "code",
   "execution_count": 170,
   "outputs": [
    {
     "name": "stdout",
     "output_type": "stream",
     "text": [
      "[<tf.Tensor: shape=(1, 128), dtype=float32, numpy=\n",
      "array([[0.        , 0.        , 1.4238781 , 0.        , 2.1954603 ,\n",
      "        0.        , 0.        , 0.6390693 , 0.        , 0.8275025 ,\n",
      "        0.57632613, 0.        , 0.        , 0.        , 1.3017247 ,\n",
      "        1.7533071 , 2.5934258 , 2.0810966 , 0.        , 1.538704  ,\n",
      "        0.        , 3.931311  , 0.        , 0.4657364 , 0.        ,\n",
      "        0.38632607, 1.1431984 , 0.06602136, 0.        , 0.79487824,\n",
      "        0.        , 0.6407131 , 0.        , 0.        , 1.6442192 ,\n",
      "        0.        , 4.106995  , 1.9005994 , 1.2728087 , 0.        ,\n",
      "        1.73659   , 0.        , 0.        , 0.        , 0.        ,\n",
      "        0.18008041, 1.3568149 , 0.        , 0.        , 3.5171206 ,\n",
      "        1.7645018 , 0.        , 0.        , 0.7036338 , 0.        ,\n",
      "        2.7253096 , 0.        , 0.        , 0.44000012, 0.        ,\n",
      "        0.2189706 , 3.3007522 , 3.2434871 , 0.18436497, 0.        ,\n",
      "        1.0613397 , 0.463547  , 0.        , 0.        , 1.5305058 ,\n",
      "        0.45019308, 0.75526124, 0.25974995, 4.5052695 , 0.        ,\n",
      "        0.        , 0.        , 1.822155  , 1.1639268 , 0.        ,\n",
      "        0.8548492 , 2.0876653 , 0.        , 2.989039  , 0.        ,\n",
      "        0.        , 3.9163022 , 0.        , 0.        , 0.        ,\n",
      "        0.        , 0.        , 3.4989014 , 0.        , 0.        ,\n",
      "        0.        , 0.        , 0.40066248, 1.2333183 , 0.        ,\n",
      "        0.        , 0.8333922 , 0.        , 0.6852112 , 2.851726  ,\n",
      "        1.5003839 , 3.6451142 , 1.7320901 , 0.        , 0.        ,\n",
      "        1.3738632 , 0.1696435 , 0.7001295 , 0.00606434, 3.1286552 ,\n",
      "        2.3400438 , 0.32960254, 0.07918649, 0.        , 0.        ,\n",
      "        0.        , 2.7308295 , 0.        , 3.6034868 , 0.        ,\n",
      "        0.        , 0.        , 1.5592232 ]], dtype=float32)>, <tf.Tensor: shape=(1, 10), dtype=float32, numpy=\n",
      "array([[2.0361881e-06, 6.5940946e-09, 3.5084326e-05, 7.9409499e-04,\n",
      "        5.9351379e-10, 8.0713448e-07, 5.5981126e-11, 9.9894780e-01,\n",
      "        5.0398183e-05, 1.6977462e-04]], dtype=float32)>]\n",
      "\n",
      "tf.Tensor(\n",
      "[[2.0361881e-06 6.5940946e-09 3.5084326e-05 7.9409499e-04 5.9351379e-10\n",
      "  8.0713448e-07 5.5981126e-11 9.9894780e-01 5.0398183e-05 1.6977462e-04]], shape=(1, 10), dtype=float32)\n"
     ]
    }
   ],
   "source": [
    "x = tf.expand_dims(x_test[0], axis=0)\n",
    "y = model_ex(x)\n",
    "y2 = model4(x)\n",
    "print(y, y2, sep='\\n\\n')"
   ],
   "metadata": {
    "collapsed": false,
    "pycharm": {
     "name": "#%%\n"
    }
   }
  },
  {
   "cell_type": "code",
   "execution_count": 171,
   "outputs": [
    {
     "name": "stdout",
     "output_type": "stream",
     "text": [
      "Model: \"sequential_41\"\n",
      "_________________________________________________________________\n",
      " Layer (type)                Output Shape              Param #   \n",
      "=================================================================\n",
      " hidden_1 (Dense)            (None, 128)               100480    \n",
      "                                                                 \n",
      " output (Dense)              (None, 10)                1290      \n",
      "                                                                 \n",
      "=================================================================\n",
      "Total params: 101,770\n",
      "Trainable params: 101,770\n",
      "Non-trainable params: 0\n",
      "_________________________________________________________________\n"
     ]
    }
   ],
   "source": [
    "model4.summary()"
   ],
   "metadata": {
    "collapsed": false,
    "pycharm": {
     "name": "#%%\n"
    }
   }
  },
  {
   "cell_type": "code",
   "execution_count": 172,
   "outputs": [
    {
     "name": "stdout",
     "output_type": "stream",
     "text": [
      "Model: \"model_3\"\n",
      "_________________________________________________________________\n",
      " Layer (type)                Output Shape              Param #   \n",
      "=================================================================\n",
      " hidden_1_input (InputLayer)  [(None, 784)]            0         \n",
      "                                                                 \n",
      " hidden_1 (Dense)            (None, 128)               100480    \n",
      "                                                                 \n",
      " output (Dense)              (None, 10)                1290      \n",
      "                                                                 \n",
      "=================================================================\n",
      "Total params: 101,770\n",
      "Trainable params: 101,770\n",
      "Non-trainable params: 0\n",
      "_________________________________________________________________\n"
     ]
    }
   ],
   "source": [
    "model_ex.summary()"
   ],
   "metadata": {
    "collapsed": false,
    "pycharm": {
     "name": "#%%\n"
    }
   }
  },
  {
   "cell_type": "code",
   "execution_count": 173,
   "outputs": [
    {
     "name": "stdout",
     "output_type": "stream",
     "text": [
      "Model: \"model_4\"\n",
      "_________________________________________________________________\n",
      " Layer (type)                Output Shape              Param #   \n",
      "=================================================================\n",
      " hidden_1_input (InputLayer)  [(None, 784)]            0         \n",
      "                                                                 \n",
      " hidden_1 (Dense)            (None, 128)               100480    \n",
      "                                                                 \n",
      " output (Dense)              (None, 10)                1290      \n",
      "                                                                 \n",
      "=================================================================\n",
      "Total params: 101,770\n",
      "Trainable params: 101,770\n",
      "Non-trainable params: 0\n",
      "_________________________________________________________________\n"
     ]
    }
   ],
   "source": [
    "model_ex2.summary()"
   ],
   "metadata": {
    "collapsed": false,
    "pycharm": {
     "name": "#%%\n"
    }
   }
  },
  {
   "cell_type": "code",
   "execution_count": 174,
   "outputs": [],
   "source": [
    "model_ex3 = keras.Sequential([\n",
    "    model4,  # integrated model\n",
    "    Dense(10, activation='tanh')\n",
    "])"
   ],
   "metadata": {
    "collapsed": false,
    "pycharm": {
     "name": "#%%\n"
    }
   }
  },
  {
   "cell_type": "code",
   "execution_count": 176,
   "outputs": [
    {
     "name": "stdout",
     "output_type": "stream",
     "text": [
      "Epoch 1/3\n",
      "1875/1875 [==============================] - 2s 1ms/step - loss: 7.8689 - accuracy: 0.3960\n",
      "Epoch 2/3\n",
      "1875/1875 [==============================] - 2s 1ms/step - loss: 9.9735 - accuracy: 0.3385\n",
      "Epoch 3/3\n",
      "1875/1875 [==============================] - 2s 1ms/step - loss: 11.1361 - accuracy: 0.3068\n"
     ]
    },
    {
     "data": {
      "text/plain": "<keras.callbacks.History at 0x18b7511d000>"
     },
     "execution_count": 176,
     "metadata": {},
     "output_type": "execute_result"
    }
   ],
   "source": [
    "# additional training model_ex3\n",
    "model4.trainable = False\n",
    "\n",
    "model_ex3.compile(\n",
    "    optimizer='adam',\n",
    "    loss='categorical_crossentropy',\n",
    "    metrics=['accuracy']\n",
    ")\n",
    "\n",
    "model_ex3.fit(x_train, y_train, batch_size=32, epochs=3)"
   ],
   "metadata": {
    "collapsed": false,
    "pycharm": {
     "name": "#%%\n"
    }
   }
  },
  {
   "cell_type": "code",
   "execution_count": 178,
   "outputs": [],
   "source": [
    "# partial ban of trainable model\n",
    "model4.layers[0].trainable = False  # Choose layer and trainable=False"
   ],
   "metadata": {
    "collapsed": false,
    "pycharm": {
     "name": "#%%\n"
    }
   }
  },
  {
   "cell_type": "code",
   "execution_count": null,
   "outputs": [],
   "source": [],
   "metadata": {
    "collapsed": false,
    "pycharm": {
     "name": "#%%\n"
    }
   }
  }
 ],
 "metadata": {
  "kernelspec": {
   "display_name": "Python 3",
   "language": "python",
   "name": "python3"
  },
  "language_info": {
   "codemirror_mode": {
    "name": "ipython",
    "version": 2
   },
   "file_extension": ".py",
   "mimetype": "text/x-python",
   "name": "python",
   "nbconvert_exporter": "python",
   "pygments_lexer": "ipython2",
   "version": "2.7.6"
  }
 },
 "nbformat": 4,
 "nbformat_minor": 0
}