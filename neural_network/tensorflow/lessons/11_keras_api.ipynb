{
 "cells": [
  {
   "cell_type": "code",
   "execution_count": 41,
   "metadata": {
    "collapsed": true
   },
   "outputs": [],
   "source": [
    "import os\n",
    "os.environ['TF_CPP_MIN_LOG_LEVEL'] = '2'\n",
    "\n",
    "import tensorflow as tf\n",
    "from tensorflow.keras import layers\n",
    "from tensorflow import keras\n",
    "from tensorflow.keras.datasets import cifar10, mnist\n",
    "import matplotlib.pyplot as plt"
   ]
  },
  {
   "cell_type": "code",
   "execution_count": 3,
   "outputs": [],
   "source": [
    "plt.style.use('dark_background')"
   ],
   "metadata": {
    "collapsed": false,
    "pycharm": {
     "name": "#%%\n"
    }
   }
  },
  {
   "cell_type": "code",
   "execution_count": 4,
   "outputs": [],
   "source": [
    "# 1. Set seed\n",
    "tf.random.set_seed(1)"
   ],
   "metadata": {
    "collapsed": false,
    "pycharm": {
     "name": "#%%\n"
    }
   }
  },
  {
   "cell_type": "code",
   "execution_count": 5,
   "outputs": [],
   "source": [
    "# 2. Layers\n",
    "input = keras.Input(shape=(32, 32, 3))\n",
    "x = layers.Conv2D(64, 3, activation='relu')(input) # get previous layer ↑\n",
    "x = layers.MaxPooling2D(2, padding='same')(x)\n",
    "x = layers.Conv2D(32, 3, activation='relu')(x)\n",
    "x = layers.MaxPooling2D(2, padding='same')(x)\n",
    "x = layers.Flatten()(x)\n",
    "x = layers.Dense(256, activation='relu')(x)\n",
    "x = layers.Dropout(0.5)(x)\n",
    "output = layers.Dense(10, activation='softmax')(x)"
   ],
   "metadata": {
    "collapsed": false,
    "pycharm": {
     "name": "#%%\n"
    }
   }
  },
  {
   "cell_type": "code",
   "execution_count": 6,
   "outputs": [
    {
     "name": "stdout",
     "output_type": "stream",
     "text": [
      "Model: \"model\"\n",
      "_________________________________________________________________\n",
      " Layer (type)                Output Shape              Param #   \n",
      "=================================================================\n",
      " input_1 (InputLayer)        [(None, 32, 32, 3)]       0         \n",
      "                                                                 \n",
      " conv2d (Conv2D)             (None, 30, 30, 64)        1792      \n",
      "                                                                 \n",
      " max_pooling2d (MaxPooling2D  (None, 15, 15, 64)       0         \n",
      " )                                                               \n",
      "                                                                 \n",
      " conv2d_1 (Conv2D)           (None, 13, 13, 32)        18464     \n",
      "                                                                 \n",
      " max_pooling2d_1 (MaxPooling  (None, 7, 7, 32)         0         \n",
      " 2D)                                                             \n",
      "                                                                 \n",
      " flatten (Flatten)           (None, 1568)              0         \n",
      "                                                                 \n",
      " dense (Dense)               (None, 256)               401664    \n",
      "                                                                 \n",
      " dropout (Dropout)           (None, 256)               0         \n",
      "                                                                 \n",
      " dense_1 (Dense)             (None, 10)                2570      \n",
      "                                                                 \n",
      "=================================================================\n",
      "Total params: 424,490\n",
      "Trainable params: 424,490\n",
      "Non-trainable params: 0\n",
      "_________________________________________________________________\n"
     ]
    }
   ],
   "source": [
    "model = keras.Model(inputs=input, outputs=output)\n",
    "model.summary()"
   ],
   "metadata": {
    "collapsed": false,
    "pycharm": {
     "name": "#%%\n"
    }
   }
  },
  {
   "cell_type": "code",
   "execution_count": 7,
   "outputs": [],
   "source": [
    "model.compile(optimizer='adam', loss='categorical_crossentropy', metrics=['accuracy'])"
   ],
   "metadata": {
    "collapsed": false,
    "pycharm": {
     "name": "#%%\n"
    }
   }
  },
  {
   "cell_type": "code",
   "execution_count": 8,
   "outputs": [],
   "source": [
    "(x_train, y_train), (x_test, y_test) = cifar10.load_data()"
   ],
   "metadata": {
    "collapsed": false,
    "pycharm": {
     "name": "#%%\n"
    }
   }
  },
  {
   "cell_type": "code",
   "execution_count": 9,
   "outputs": [],
   "source": [
    "x_train = x_train / 255.0\n",
    "x_test = x_test / 255.0"
   ],
   "metadata": {
    "collapsed": false,
    "pycharm": {
     "name": "#%%\n"
    }
   }
  },
  {
   "cell_type": "code",
   "execution_count": 10,
   "outputs": [],
   "source": [
    "y_train = keras.utils.to_categorical(y_train, 10)\n",
    "y_test = keras.utils.to_categorical(y_test, 10)"
   ],
   "metadata": {
    "collapsed": false,
    "pycharm": {
     "name": "#%%\n"
    }
   }
  },
  {
   "cell_type": "code",
   "execution_count": 11,
   "outputs": [
    {
     "name": "stdout",
     "output_type": "stream",
     "text": [
      "Epoch 1/20\n",
      "625/625 [==============================] - 36s 56ms/step - loss: 1.6014 - accuracy: 0.4175 - val_loss: 1.3303 - val_accuracy: 0.5287\n",
      "Epoch 2/20\n",
      "625/625 [==============================] - 31s 49ms/step - loss: 1.2753 - accuracy: 0.5450 - val_loss: 1.1192 - val_accuracy: 0.6134\n",
      "Epoch 3/20\n",
      "625/625 [==============================] - 28s 45ms/step - loss: 1.1354 - accuracy: 0.5983 - val_loss: 1.1037 - val_accuracy: 0.6158\n",
      "Epoch 4/20\n",
      "625/625 [==============================] - 26s 42ms/step - loss: 1.0395 - accuracy: 0.6338 - val_loss: 0.9837 - val_accuracy: 0.6599\n",
      "Epoch 5/20\n",
      "625/625 [==============================] - 27s 43ms/step - loss: 0.9699 - accuracy: 0.6593 - val_loss: 0.9615 - val_accuracy: 0.6750\n",
      "Epoch 6/20\n",
      "625/625 [==============================] - 27s 43ms/step - loss: 0.9226 - accuracy: 0.6754 - val_loss: 0.9035 - val_accuracy: 0.6908\n",
      "Epoch 7/20\n",
      "625/625 [==============================] - 29s 47ms/step - loss: 0.8743 - accuracy: 0.6931 - val_loss: 0.8886 - val_accuracy: 0.6945\n",
      "Epoch 8/20\n",
      "625/625 [==============================] - 27s 44ms/step - loss: 0.8404 - accuracy: 0.7041 - val_loss: 0.9320 - val_accuracy: 0.6848\n",
      "Epoch 9/20\n",
      "625/625 [==============================] - 29s 47ms/step - loss: 0.8035 - accuracy: 0.7192 - val_loss: 0.8667 - val_accuracy: 0.7049\n",
      "Epoch 10/20\n",
      "625/625 [==============================] - 29s 46ms/step - loss: 0.7637 - accuracy: 0.7314 - val_loss: 0.8457 - val_accuracy: 0.7094\n",
      "Epoch 11/20\n",
      "625/625 [==============================] - 27s 44ms/step - loss: 0.7288 - accuracy: 0.7426 - val_loss: 0.8625 - val_accuracy: 0.7119\n",
      "Epoch 12/20\n",
      "625/625 [==============================] - 26s 42ms/step - loss: 0.7060 - accuracy: 0.7497 - val_loss: 0.8439 - val_accuracy: 0.7157\n",
      "Epoch 13/20\n",
      "625/625 [==============================] - 27s 43ms/step - loss: 0.6805 - accuracy: 0.7603 - val_loss: 0.8664 - val_accuracy: 0.7071\n",
      "Epoch 14/20\n",
      "625/625 [==============================] - 29s 46ms/step - loss: 0.6536 - accuracy: 0.7678 - val_loss: 0.8863 - val_accuracy: 0.7056\n",
      "Epoch 15/20\n",
      "625/625 [==============================] - 28s 45ms/step - loss: 0.6297 - accuracy: 0.7761 - val_loss: 0.8741 - val_accuracy: 0.7106\n",
      "Epoch 16/20\n",
      "625/625 [==============================] - 28s 45ms/step - loss: 0.6115 - accuracy: 0.7785 - val_loss: 0.8503 - val_accuracy: 0.7174\n",
      "Epoch 17/20\n",
      "625/625 [==============================] - 27s 44ms/step - loss: 0.5908 - accuracy: 0.7889 - val_loss: 0.8747 - val_accuracy: 0.7199\n",
      "Epoch 18/20\n",
      "625/625 [==============================] - 27s 43ms/step - loss: 0.5626 - accuracy: 0.7975 - val_loss: 0.8864 - val_accuracy: 0.7145\n",
      "Epoch 19/20\n",
      "625/625 [==============================] - 26s 42ms/step - loss: 0.5478 - accuracy: 0.8030 - val_loss: 0.8905 - val_accuracy: 0.7141\n",
      "Epoch 20/20\n",
      "625/625 [==============================] - 27s 43ms/step - loss: 0.5262 - accuracy: 0.8098 - val_loss: 0.8879 - val_accuracy: 0.7192\n"
     ]
    },
    {
     "data": {
      "text/plain": "<keras.callbacks.History at 0x20bf975fb80>"
     },
     "execution_count": 11,
     "metadata": {},
     "output_type": "execute_result"
    }
   ],
   "source": [
    "model.fit(x_train, y_train, batch_size=64, epochs=20, validation_split=0.2)"
   ],
   "metadata": {
    "collapsed": false,
    "pycharm": {
     "name": "#%%\n"
    }
   }
  },
  {
   "cell_type": "code",
   "execution_count": 15,
   "outputs": [
    {
     "name": "stdout",
     "output_type": "stream",
     "text": [
      "313/313 [==============================] - 2s 5ms/step - loss: 0.8948 - accuracy: 0.7140\n",
      "[0.8947611451148987, 0.7139999866485596]\n"
     ]
    }
   ],
   "source": [
    "print(model.evaluate(x_test, y_test))"
   ],
   "metadata": {
    "collapsed": false,
    "pycharm": {
     "name": "#%%\n"
    }
   }
  },
  {
   "cell_type": "code",
   "execution_count": 16,
   "outputs": [],
   "source": [
    "# On level tensorflow"
   ],
   "metadata": {
    "collapsed": false,
    "pycharm": {
     "name": "#%%\n"
    }
   }
  },
  {
   "cell_type": "code",
   "execution_count": 29,
   "outputs": [],
   "source": [
    "class TfConv2D(tf.Module):\n",
    "    def __init__(self, kernel=(3, 3), channels=1, strides=(2, 2), padding='SAME', activate='relu'):\n",
    "        super().__init__()\n",
    "        self.kernel = kernel\n",
    "        self.channels = channels\n",
    "        self.strides = strides\n",
    "        self.padding = padding\n",
    "        self.activate = activate\n",
    "        self.fl_init = False\n",
    "\n",
    "    def __call__(self, x):\n",
    "        if not self.fl_init:\n",
    "            # [kernel_x, kernel_y, input_channels, output_channels]\n",
    "            self.w = tf.random.truncated_normal((*self.kernel, x.shape[-1], self.channels), stddev=0.1, dtype=tf.double)\n",
    "            self.b = tf.zeros([self.channels], dtype=tf.double)\n",
    "\n",
    "            self.w = tf.Variable(self.w)\n",
    "            self.b = tf.Variable(self.b)\n",
    "\n",
    "            self.fl_init = True\n",
    "\n",
    "        y = tf.nn.conv2d(x, self.w, strides=(1, *self.strides, 1), padding=self.padding) + self.b\n",
    "\n",
    "        if self.activate == 'relu':\n",
    "            return tf.nn.relu(y)\n",
    "        elif self.activate == 'softmax':\n",
    "            return tf.nn.softmax(y)\n",
    "\n",
    "        return y"
   ],
   "metadata": {
    "collapsed": false,
    "pycharm": {
     "name": "#%%\n"
    }
   }
  },
  {
   "cell_type": "code",
   "execution_count": 30,
   "outputs": [
    {
     "name": "stdout",
     "output_type": "stream",
     "text": [
      "(1, 16, 16, 32)\n"
     ]
    }
   ],
   "source": [
    "layer1 = TfConv2D((3, 3), 32)\n",
    "y = layer1(tf.expand_dims(x_test[0], axis=0))\n",
    "print(y.shape)"
   ],
   "metadata": {
    "collapsed": false,
    "pycharm": {
     "name": "#%%\n"
    }
   }
  },
  {
   "cell_type": "code",
   "execution_count": 31,
   "outputs": [
    {
     "name": "stdout",
     "output_type": "stream",
     "text": [
      "(1, 8, 8, 32)\n"
     ]
    }
   ],
   "source": [
    "y = tf.nn.max_pool2d(y, ksize=(1, 2, 2, 1), strides=(1, 2, 2, 1), padding='SAME')\n",
    "print(y.shape)"
   ],
   "metadata": {
    "collapsed": false,
    "pycharm": {
     "name": "#%%\n"
    }
   }
  },
  {
   "cell_type": "code",
   "execution_count": 32,
   "outputs": [],
   "source": [
    "# encoder"
   ],
   "metadata": {
    "collapsed": false,
    "pycharm": {
     "name": "#%%\n"
    }
   }
  },
  {
   "cell_type": "code",
   "execution_count": 33,
   "outputs": [],
   "source": [
    "enc_input = layers.Input(shape=(28, 28, 1))\n",
    "x = layers.Conv2D(32, 3, activation='relu')(enc_input)\n",
    "x = layers.MaxPooling2D(2, padding='same')(x)\n",
    "x = layers.Conv2D(64, 3, activation='relu')(x)\n",
    "x = layers.MaxPooling2D(2, padding='same')(x)\n",
    "x = layers.Flatten()(x)\n",
    "enc_output = layers.Dense(8, activation='linear')(x)"
   ],
   "metadata": {
    "collapsed": false,
    "pycharm": {
     "name": "#%%\n"
    }
   }
  },
  {
   "cell_type": "code",
   "execution_count": 34,
   "outputs": [],
   "source": [
    "encoder = keras.Model(enc_input, enc_output, name='encoder')"
   ],
   "metadata": {
    "collapsed": false,
    "pycharm": {
     "name": "#%%\n"
    }
   }
  },
  {
   "cell_type": "code",
   "execution_count": 35,
   "outputs": [],
   "source": [
    "(x_train, y_train), (x_test, y_test) = cifar10.load_data()\n",
    "\n",
    "x_train = x_train / 255\n",
    "y_train = y_train / 255"
   ],
   "metadata": {
    "collapsed": false,
    "pycharm": {
     "name": "#%%\n"
    }
   }
  },
  {
   "cell_type": "code",
   "execution_count": 37,
   "outputs": [],
   "source": [
    "dec_input = layers.Input(shape=(8,), name='encoder_img')\n",
    "x = layers.Dense(7 * 7 * 8, activation='relu')(dec_input)\n",
    "x = keras.layers.Reshape((7, 7, 8))(x)\n",
    "x = layers.Conv2DTranspose(64, 5, strides=(2, 2), activation='relu', padding='same')(x)\n",
    "x = keras.layers.BatchNormalization()(x)\n",
    "x = layers.Conv2DTranspose(32, 5, strides=(2, 2), activation='linear', padding='same')(x)\n",
    "x = keras.layers.BatchNormalization()(x)\n",
    "dec_output = layers.Conv2DTranspose(1, 3, activation='sigmoid', padding='same')(x)"
   ],
   "metadata": {
    "collapsed": false,
    "pycharm": {
     "name": "#%%\n"
    }
   }
  },
  {
   "cell_type": "code",
   "execution_count": 38,
   "outputs": [],
   "source": [
    "decoder = keras.Model(dec_input, dec_output, name='decoder')"
   ],
   "metadata": {
    "collapsed": false,
    "pycharm": {
     "name": "#%%\n"
    }
   }
  },
  {
   "cell_type": "code",
   "execution_count": 39,
   "outputs": [],
   "source": [
    "autoencoder_input = keras.Input(shape=(28, 28, 1), name='img')\n",
    "x = encoder(autoencoder_input)\n",
    "autoencoder_output = decoder(x)"
   ],
   "metadata": {
    "collapsed": false,
    "pycharm": {
     "name": "#%%\n"
    }
   }
  },
  {
   "cell_type": "code",
   "execution_count": 40,
   "outputs": [],
   "source": [
    "autoencoder = keras.Model(autoencoder_input, autoencoder_output, name='autoencoder')"
   ],
   "metadata": {
    "collapsed": false,
    "pycharm": {
     "name": "#%%\n"
    }
   }
  },
  {
   "cell_type": "code",
   "execution_count": 42,
   "outputs": [],
   "source": [
    "(x_train, y_train), (x_test, y_test) = mnist.load_data()"
   ],
   "metadata": {
    "collapsed": false,
    "pycharm": {
     "name": "#%%\n"
    }
   }
  },
  {
   "cell_type": "code",
   "execution_count": 43,
   "outputs": [],
   "source": [
    "x_train = x_train.astype('float32') / 255\n",
    "x_test = x_test.astype('float32') / 255\n",
    "y_train = keras.utils.to_categorical(y_train, 10)\n",
    "y_test = keras.utils.to_categorical(y_test, 10)"
   ],
   "metadata": {
    "collapsed": false,
    "pycharm": {
     "name": "#%%\n"
    }
   }
  },
  {
   "cell_type": "code",
   "execution_count": 45,
   "outputs": [
    {
     "name": "stdout",
     "output_type": "stream",
     "text": [
      "1875/1875 [==============================] - 73s 38ms/step - loss: 0.0306\n"
     ]
    },
    {
     "data": {
      "text/plain": "<keras.callbacks.History at 0x20b89b36bc0>"
     },
     "execution_count": 45,
     "metadata": {},
     "output_type": "execute_result"
    }
   ],
   "source": [
    "autoencoder.compile(optimizer='adam', loss='mean_squared_error')\n",
    "autoencoder.fit(x_train, x_train, batch_size=32, epochs=1)"
   ],
   "metadata": {
    "collapsed": false,
    "pycharm": {
     "name": "#%%\n"
    }
   }
  },
  {
   "cell_type": "code",
   "execution_count": 46,
   "outputs": [
    {
     "name": "stdout",
     "output_type": "stream",
     "text": [
      "1/1 [==============================] - 0s 81ms/step\n",
      "1/1 [==============================] - 0s 98ms/step\n"
     ]
    }
   ],
   "source": [
    "h = encoder.predict(tf.expand_dims(x_test[0], axis=0))\n",
    "img = decoder.predict(h)"
   ],
   "metadata": {
    "collapsed": false,
    "pycharm": {
     "name": "#%%\n"
    }
   }
  },
  {
   "cell_type": "code",
   "execution_count": 48,
   "outputs": [
    {
     "data": {
      "text/plain": "<Figure size 640x480 with 2 Axes>",
      "image/png": "[encoded data removed]"
     },
     "metadata": {},
     "output_type": "display_data"
    }
   ],
   "source": [
    "plt.subplot(121)\n",
    "plt.imshow(x_test[0], cmap='gray')\n",
    "plt.subplot(122)\n",
    "plt.imshow(img.squeeze(), cmap='gray')\n",
    "plt.show()"
   ],
   "metadata": {
    "collapsed": false,
    "pycharm": {
     "name": "#%%\n"
    }
   }
  },
  {
   "cell_type": "code",
   "execution_count": null,
   "outputs": [],
   "source": [],
   "metadata": {
    "collapsed": false,
    "pycharm": {
     "name": "#%%\n"
    }
   }
  }
 ],
 "metadata": {
  "kernelspec": {
   "display_name": "Python 3",
   "language": "python",
   "name": "python3"
  },
  "language_info": {
   "codemirror_mode": {
    "name": "ipython",
    "version": 2
   },
   "file_extension": ".py",
   "mimetype": "text/x-python",
   "name": "python",
   "nbconvert_exporter": "python",
   "pygments_lexer": "ipython2",
   "version": "2.7.6"
  }
 },
 "nbformat": 4,
 "nbformat_minor": 0
}