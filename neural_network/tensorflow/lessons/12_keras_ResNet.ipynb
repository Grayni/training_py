{
 "cells": [
  {
   "cell_type": "code",
   "execution_count": 1,
   "metadata": {
    "collapsed": true
   },
   "outputs": [],
   "source": [
    "import tensorflow as tf\n",
    "from tensorflow import keras\n",
    "from tensorflow.keras  import layers\n",
    "from tensorflow.keras.datasets import cifar10, mnist"
   ]
  },
  {
   "cell_type": "code",
   "execution_count": 2,
   "outputs": [],
   "source": [
    "tf.random.set_seed(1)"
   ],
   "metadata": {
    "collapsed": false,
    "pycharm": {
     "name": "#%%\n"
    }
   }
  },
  {
   "cell_type": "code",
   "execution_count": 3,
   "outputs": [],
   "source": [
    "(x_train, y_train), (x_test, y_test) = cifar10.load_data()"
   ],
   "metadata": {
    "collapsed": false,
    "pycharm": {
     "name": "#%%\n"
    }
   }
  },
  {
   "cell_type": "code",
   "execution_count": 4,
   "outputs": [],
   "source": [
    "x_train = x_train / 255\n",
    "x_test = x_test / 255"
   ],
   "metadata": {
    "collapsed": false,
    "pycharm": {
     "name": "#%%\n"
    }
   }
  },
  {
   "cell_type": "code",
   "execution_count": 5,
   "outputs": [],
   "source": [
    "y_train = keras.utils.to_categorical(y_train, 10)\n",
    "y_test = keras.utils.to_categorical(y_test, 10)"
   ],
   "metadata": {
    "collapsed": false,
    "pycharm": {
     "name": "#%%\n"
    }
   }
  },
  {
   "cell_type": "code",
   "execution_count": 6,
   "outputs": [],
   "source": [
    "inputs = keras.Input(shape=(32, 32, 3), name='img')\n",
    "x = layers.Conv2D(32, 3, activation='relu')(inputs)\n",
    "x = layers.Conv2D(64, 3, activation='relu')(x)\n",
    "block_1_output = layers.MaxPooling2D(3)(x)\n",
    "x = layers.Conv2D(64, 3, activation='relu', padding='same')(block_1_output)\n",
    "x = layers.Conv2D(64, 3, activation='relu', padding='same')(x)\n",
    "block_2_output = layers.add([x, block_1_output])\n",
    "x = layers.Conv2D(64, 3, activation='relu', padding='same')(block_2_output)\n",
    "x = layers.Conv2D(64, 3, activation='relu', padding='same')(x)\n",
    "block_3_output = layers.add([x, block_2_output])\n",
    "x = layers.Conv2D(64, 3, activation='relu', padding='same')(block_3_output)\n",
    "x = layers.GlobalAveragePooling2D()(x)\n",
    "x = layers.Dense(256, activation='relu')(x)\n",
    "x = layers.Dropout(0.5)(x)\n",
    "outputs = layers.Dense(10, activation='softmax')(x)"
   ],
   "metadata": {
    "collapsed": false,
    "pycharm": {
     "name": "#%%\n"
    }
   }
  },
  {
   "cell_type": "code",
   "execution_count": 7,
   "outputs": [],
   "source": [
    "model = keras.Model(inputs, outputs, name='toy_resnet')"
   ],
   "metadata": {
    "collapsed": false,
    "pycharm": {
     "name": "#%%\n"
    }
   }
  },
  {
   "cell_type": "code",
   "execution_count": 8,
   "outputs": [],
   "source": [
    "model.compile(optimizer='adam', loss='categorical_crossentropy', metrics=['accuracy'])"
   ],
   "metadata": {
    "collapsed": false,
    "pycharm": {
     "name": "#%%\n"
    }
   }
  },
  {
   "cell_type": "code",
   "execution_count": 9,
   "outputs": [
    {
     "name": "stdout",
     "output_type": "stream",
     "text": [
      "Epoch 1/15\n",
      "625/625 [==============================] - 67s 105ms/step - loss: 1.7974 - accuracy: 0.2957 - val_loss: 1.4924 - val_accuracy: 0.4412\n",
      "Epoch 2/15\n",
      "625/625 [==============================] - 66s 106ms/step - loss: 1.3541 - accuracy: 0.4953 - val_loss: 1.1840 - val_accuracy: 0.5642\n",
      "Epoch 3/15\n",
      "625/625 [==============================] - 68s 109ms/step - loss: 1.1067 - accuracy: 0.5978 - val_loss: 1.0031 - val_accuracy: 0.6340\n",
      "Epoch 4/15\n",
      "625/625 [==============================] - 69s 111ms/step - loss: 0.9690 - accuracy: 0.6537 - val_loss: 0.8808 - val_accuracy: 0.6862\n",
      "Epoch 5/15\n",
      "625/625 [==============================] - 70s 112ms/step - loss: 0.8616 - accuracy: 0.6923 - val_loss: 0.8187 - val_accuracy: 0.7078\n",
      "Epoch 6/15\n",
      "625/625 [==============================] - 65s 104ms/step - loss: 0.7828 - accuracy: 0.7231 - val_loss: 0.7609 - val_accuracy: 0.7314\n",
      "Epoch 7/15\n",
      "625/625 [==============================] - 70s 112ms/step - loss: 0.7200 - accuracy: 0.7489 - val_loss: 0.7251 - val_accuracy: 0.7439\n",
      "Epoch 8/15\n",
      "625/625 [==============================] - 69s 111ms/step - loss: 0.6606 - accuracy: 0.7700 - val_loss: 0.7478 - val_accuracy: 0.7391\n",
      "Epoch 9/15\n",
      "625/625 [==============================] - 68s 109ms/step - loss: 0.6102 - accuracy: 0.7901 - val_loss: 0.7136 - val_accuracy: 0.7539\n",
      "Epoch 10/15\n",
      "625/625 [==============================] - 67s 107ms/step - loss: 0.5657 - accuracy: 0.8055 - val_loss: 0.7619 - val_accuracy: 0.7456\n",
      "Epoch 11/15\n",
      "625/625 [==============================] - 66s 105ms/step - loss: 0.5274 - accuracy: 0.8155 - val_loss: 0.7187 - val_accuracy: 0.7664\n",
      "Epoch 12/15\n",
      "625/625 [==============================] - 65s 104ms/step - loss: 0.4928 - accuracy: 0.8281 - val_loss: 0.6823 - val_accuracy: 0.7766\n",
      "Epoch 13/15\n",
      "625/625 [==============================] - 65s 104ms/step - loss: 0.4554 - accuracy: 0.8429 - val_loss: 0.7005 - val_accuracy: 0.7776\n",
      "Epoch 14/15\n",
      "625/625 [==============================] - 66s 105ms/step - loss: 0.4266 - accuracy: 0.8520 - val_loss: 0.7086 - val_accuracy: 0.7715\n",
      "Epoch 15/15\n",
      "625/625 [==============================] - 66s 105ms/step - loss: 0.3964 - accuracy: 0.8612 - val_loss: 0.7194 - val_accuracy: 0.7773\n"
     ]
    },
    {
     "data": {
      "text/plain": "<keras.callbacks.History at 0x24b5c809f60>"
     },
     "execution_count": 9,
     "metadata": {},
     "output_type": "execute_result"
    }
   ],
   "source": [
    "model.fit(x_train, y_train, batch_size=64, epochs=15, validation_split=0.2)"
   ],
   "metadata": {
    "collapsed": false,
    "pycharm": {
     "name": "#%%\n"
    }
   }
  },
  {
   "cell_type": "code",
   "execution_count": 10,
   "outputs": [
    {
     "name": "stdout",
     "output_type": "stream",
     "text": [
      "313/313 [==============================] - 3s 10ms/step - loss: 0.7265 - accuracy: 0.7708\n",
      "[0.7264865636825562, 0.770799994468689]\n"
     ]
    }
   ],
   "source": [
    "print(model.evaluate(x_test, y_test))"
   ],
   "metadata": {
    "collapsed": false,
    "pycharm": {
     "name": "#%%\n"
    }
   }
  },
  {
   "cell_type": "code",
   "execution_count": null,
   "outputs": [],
   "source": [],
   "metadata": {
    "collapsed": false,
    "pycharm": {
     "name": "#%%\n"
    }
   }
  }
 ],
 "metadata": {
  "kernelspec": {
   "display_name": "Python 3",
   "language": "python",
   "name": "python3"
  },
  "language_info": {
   "codemirror_mode": {
    "name": "ipython",
    "version": 2
   },
   "file_extension": ".py",
   "mimetype": "text/x-python",
   "name": "python",
   "nbconvert_exporter": "python",
   "pygments_lexer": "ipython2",
   "version": "2.7.6"
  }
 },
 "nbformat": 4,
 "nbformat_minor": 0
}