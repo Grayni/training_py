{
 "cells": [
  {
   "cell_type": "code",
   "execution_count": 117,
   "metadata": {
    "collapsed": true
   },
   "outputs": [],
   "source": [
    "import tensorflow as tf\n",
    "from tensorflow import keras\n",
    "from tensorflow.keras import layers\n",
    "from tensorflow.keras.datasets import mnist\n",
    "import numpy as np"
   ]
  },
  {
   "cell_type": "code",
   "execution_count": 118,
   "outputs": [],
   "source": [
    "tf.random.set_seed(1)"
   ],
   "metadata": {
    "collapsed": false,
    "pycharm": {
     "name": "#%%\n"
    }
   }
  },
  {
   "cell_type": "code",
   "execution_count": 119,
   "outputs": [],
   "source": [
    "(x_train, y_train), (x_test, y_test) = mnist.load_data()"
   ],
   "metadata": {
    "collapsed": false,
    "pycharm": {
     "name": "#%%\n"
    }
   }
  },
  {
   "cell_type": "code",
   "execution_count": 120,
   "outputs": [
    {
     "data": {
      "text/plain": "(60000, 28, 28)"
     },
     "execution_count": 120,
     "metadata": {},
     "output_type": "execute_result"
    }
   ],
   "source": [
    "x_train.shape"
   ],
   "metadata": {
    "collapsed": false,
    "pycharm": {
     "name": "#%%\n"
    }
   }
  },
  {
   "cell_type": "code",
   "execution_count": 121,
   "outputs": [],
   "source": [
    "x_train = x_train.reshape(-1, 28*28) / 255\n",
    "x_test = x_test.reshape(-1, 28*28) / 255"
   ],
   "metadata": {
    "collapsed": false,
    "pycharm": {
     "name": "#%%\n"
    }
   }
  },
  {
   "cell_type": "code",
   "execution_count": 122,
   "outputs": [],
   "source": [
    "# Sample Weight\n",
    "sample_weight = np.ones(shape=(len(x_train),))\n",
    "sample_weight[y_train == 1] = 5.0"
   ],
   "metadata": {
    "collapsed": false,
    "pycharm": {
     "name": "#%%\n"
    }
   }
  },
  {
   "cell_type": "code",
   "execution_count": 123,
   "outputs": [],
   "source": [
    "y_train = keras.utils.to_categorical(y_train, 10)\n",
    "y_test = keras.utils.to_categorical(y_test, 10)"
   ],
   "metadata": {
    "collapsed": false,
    "pycharm": {
     "name": "#%%\n"
    }
   }
  },
  {
   "cell_type": "code",
   "execution_count": 124,
   "outputs": [],
   "source": [
    "model = keras.Sequential([\n",
    "    layers.Input(shape=(784,)),\n",
    "    layers.Dense(128, activation='relu'),\n",
    "    layers.Dense(64, activation='relu'),\n",
    "    layers.Dense(10, activation='softmax')\n",
    "])"
   ],
   "metadata": {
    "collapsed": false,
    "pycharm": {
     "name": "#%%\n"
    }
   }
  },
  {
   "cell_type": "code",
   "execution_count": 125,
   "outputs": [],
   "source": [
    "model.compile(optimizer='adam', loss='categorical_crossentropy', metrics=['accuracy'])"
   ],
   "metadata": {
    "collapsed": false,
    "pycharm": {
     "name": "#%%\n"
    }
   }
  },
  {
   "cell_type": "markdown",
   "source": [
    "#### Validation Split"
   ],
   "metadata": {
    "collapsed": false,
    "pycharm": {
     "name": "#%% md\n"
    }
   }
  },
  {
   "cell_type": "code",
   "execution_count": 126,
   "outputs": [],
   "source": [
    "validation_split = 0.2\n",
    "validation_split_index = np.ceil(x_train.shape[0] * validation_split).astype(np.int32)"
   ],
   "metadata": {
    "collapsed": false,
    "pycharm": {
     "name": "#%%\n"
    }
   }
  },
  {
   "cell_type": "code",
   "execution_count": 127,
   "outputs": [],
   "source": [
    "x_train_val = x_train[:validation_split_index]\n",
    "y_train_val = y_train[:validation_split_index]\n",
    "\n",
    "x_train_data = x_train[validation_split_index:]\n",
    "y_train_data = y_train[validation_split_index:]"
   ],
   "metadata": {
    "collapsed": false,
    "pycharm": {
     "name": "#%%\n"
    }
   }
  },
  {
   "cell_type": "code",
   "execution_count": 128,
   "outputs": [
    {
     "name": "stdout",
     "output_type": "stream",
     "text": [
      "Epoch 1/5\n",
      "750/750 [==============================] - 2s 2ms/step - loss: 0.2967 - accuracy: 0.9148 - val_loss: 0.1608 - val_accuracy: 0.9511\n",
      "Epoch 2/5\n",
      "750/750 [==============================] - 1s 2ms/step - loss: 0.1218 - accuracy: 0.9631 - val_loss: 0.1149 - val_accuracy: 0.9640\n",
      "Epoch 3/5\n",
      "750/750 [==============================] - 1s 2ms/step - loss: 0.0836 - accuracy: 0.9745 - val_loss: 0.0978 - val_accuracy: 0.9707\n",
      "Epoch 4/5\n",
      "750/750 [==============================] - 1s 2ms/step - loss: 0.0626 - accuracy: 0.9804 - val_loss: 0.1178 - val_accuracy: 0.9639\n",
      "Epoch 5/5\n",
      "750/750 [==============================] - 1s 2ms/step - loss: 0.0491 - accuracy: 0.9847 - val_loss: 0.0907 - val_accuracy: 0.9717\n"
     ]
    },
    {
     "data": {
      "text/plain": "<keras.callbacks.History at 0x1f702a6a590>"
     },
     "execution_count": 128,
     "metadata": {},
     "output_type": "execute_result"
    }
   ],
   "source": [
    "# if use arrays numpy\n",
    "model.fit(x_train_data, y_train_data, batch_size=64, epochs=5, validation_data=(x_train_val, y_train_val))"
   ],
   "metadata": {
    "collapsed": false,
    "pycharm": {
     "name": "#%%\n"
    }
   }
  },
  {
   "cell_type": "code",
   "execution_count": 129,
   "outputs": [],
   "source": [
    "train_dataset = tf.data.Dataset.from_tensor_slices((x_train_data, y_train_data))\n",
    "train_dataset = train_dataset.shuffle(buffer_size=1024).batch(64)\n",
    "\n",
    "val_dataset = tf.data.Dataset.from_tensor_slices((x_train_val, y_train_val))\n",
    "val_dataset = val_dataset.batch(64)"
   ],
   "metadata": {
    "collapsed": false,
    "pycharm": {
     "name": "#%%\n"
    }
   }
  },
  {
   "cell_type": "code",
   "execution_count": 130,
   "outputs": [
    {
     "name": "stdout",
     "output_type": "stream",
     "text": [
      "Epoch 1/5\n",
      "750/750 [==============================] - 2s 2ms/step - loss: 0.0386 - accuracy: 0.9876 - val_loss: 0.1029 - val_accuracy: 0.9714\n",
      "Epoch 2/5\n",
      "750/750 [==============================] - 1s 2ms/step - loss: 0.0315 - accuracy: 0.9897 - val_loss: 0.1081 - val_accuracy: 0.9700\n",
      "Epoch 3/5\n",
      "750/750 [==============================] - 1s 2ms/step - loss: 0.0248 - accuracy: 0.9921 - val_loss: 0.1117 - val_accuracy: 0.9703\n",
      "Epoch 4/5\n",
      "750/750 [==============================] - 2s 2ms/step - loss: 0.0220 - accuracy: 0.9929 - val_loss: 0.1091 - val_accuracy: 0.9728\n",
      "Epoch 5/5\n",
      "750/750 [==============================] - 2s 2ms/step - loss: 0.0166 - accuracy: 0.9947 - val_loss: 0.1015 - val_accuracy: 0.9735\n"
     ]
    },
    {
     "data": {
      "text/plain": "<keras.callbacks.History at 0x1f702b4d090>"
     },
     "execution_count": 130,
     "metadata": {},
     "output_type": "execute_result"
    }
   ],
   "source": [
    "# If use tensors\n",
    "model.fit(train_dataset, epochs=5, validation_data=val_dataset)"
   ],
   "metadata": {
    "collapsed": false,
    "pycharm": {
     "name": "#%%\n"
    }
   }
  },
  {
   "cell_type": "code",
   "execution_count": 131,
   "outputs": [
    {
     "name": "stdout",
     "output_type": "stream",
     "text": [
      "Epoch 1/5\n",
      "100/100 [==============================] - 0s 5ms/step - loss: 0.0109 - accuracy: 0.9964 - val_loss: 0.1018 - val_accuracy: 0.9755\n",
      "Epoch 2/5\n",
      "100/100 [==============================] - 0s 5ms/step - loss: 0.0105 - accuracy: 0.9966 - val_loss: 0.1021 - val_accuracy: 0.9748\n",
      "Epoch 3/5\n",
      "100/100 [==============================] - 0s 5ms/step - loss: 0.0202 - accuracy: 0.9937 - val_loss: 0.1057 - val_accuracy: 0.9756\n",
      "Epoch 4/5\n",
      "100/100 [==============================] - 0s 5ms/step - loss: 0.0167 - accuracy: 0.9942 - val_loss: 0.1014 - val_accuracy: 0.9763\n",
      "Epoch 5/5\n",
      "100/100 [==============================] - 0s 5ms/step - loss: 0.0115 - accuracy: 0.9964 - val_loss: 0.1039 - val_accuracy: 0.9771\n"
     ]
    },
    {
     "data": {
      "text/plain": "<keras.callbacks.History at 0x1f702a6b8e0>"
     },
     "execution_count": 131,
     "metadata": {},
     "output_type": "execute_result"
    }
   ],
   "source": [
    "# Steps per epochs\n",
    "model.fit(train_dataset, epochs=5, steps_per_epoch=100, validation_data=val_dataset)"
   ],
   "metadata": {
    "collapsed": false,
    "pycharm": {
     "name": "#%%\n"
    }
   }
  },
  {
   "cell_type": "code",
   "execution_count": 132,
   "outputs": [
    {
     "name": "stdout",
     "output_type": "stream",
     "text": [
      "Epoch 1/5\n",
      "750/750 [==============================] - 1s 2ms/step - loss: 0.0166 - accuracy: 0.9948 - val_loss: 0.1019 - val_accuracy: 0.9745\n",
      "Epoch 2/5\n",
      "750/750 [==============================] - 1s 2ms/step - loss: 0.0125 - accuracy: 0.9958 - val_loss: 0.0981 - val_accuracy: 0.9764\n",
      "Epoch 3/5\n",
      "750/750 [==============================] - 1s 2ms/step - loss: 0.0120 - accuracy: 0.9961 - val_loss: 0.1292 - val_accuracy: 0.9725\n",
      "Epoch 4/5\n",
      "750/750 [==============================] - 1s 2ms/step - loss: 0.0108 - accuracy: 0.9964 - val_loss: 0.1544 - val_accuracy: 0.9680\n",
      "Epoch 5/5\n",
      "750/750 [==============================] - 1s 2ms/step - loss: 0.0105 - accuracy: 0.9967 - val_loss: 0.1208 - val_accuracy: 0.9736\n"
     ]
    },
    {
     "data": {
      "text/plain": "<keras.callbacks.History at 0x1f702df19c0>"
     },
     "execution_count": 132,
     "metadata": {},
     "output_type": "execute_result"
    }
   ],
   "source": [
    "# validation steps\n",
    "model.fit(train_dataset, epochs=5, validation_steps=100, validation_data=val_dataset)"
   ],
   "metadata": {
    "collapsed": false,
    "pycharm": {
     "name": "#%%\n"
    }
   }
  },
  {
   "cell_type": "code",
   "execution_count": 133,
   "outputs": [],
   "source": [
    "# class weight\n",
    "class_weight = {\n",
    "    0: 100.0,\n",
    "    1: 1.0,\n",
    "    2: 1.0,\n",
    "    3: 1.0,\n",
    "    4: 1.0,\n",
    "    5: 1.0,\n",
    "    6: 1.0,\n",
    "    7: 1.0,\n",
    "    8: 1.0,\n",
    "    9: 1.0\n",
    "}"
   ],
   "metadata": {
    "collapsed": false,
    "pycharm": {
     "name": "#%%\n"
    }
   }
  },
  {
   "cell_type": "code",
   "execution_count": 134,
   "outputs": [
    {
     "name": "stdout",
     "output_type": "stream",
     "text": [
      "Epoch 1/5\n",
      "750/750 [==============================] - 2s 2ms/step - loss: 0.4812 - accuracy: 0.9545 - val_loss: 0.2657 - val_accuracy: 0.9524\n",
      "Epoch 2/5\n",
      "750/750 [==============================] - 1s 2ms/step - loss: 0.2171 - accuracy: 0.9683 - val_loss: 0.2293 - val_accuracy: 0.9582\n",
      "Epoch 3/5\n",
      "750/750 [==============================] - 1s 2ms/step - loss: 0.1375 - accuracy: 0.9764 - val_loss: 0.2073 - val_accuracy: 0.9594\n",
      "Epoch 4/5\n",
      "750/750 [==============================] - 2s 2ms/step - loss: 0.1020 - accuracy: 0.9813 - val_loss: 0.2469 - val_accuracy: 0.9540\n",
      "Epoch 5/5\n",
      "750/750 [==============================] - 1s 2ms/step - loss: 0.0852 - accuracy: 0.9817 - val_loss: 0.1713 - val_accuracy: 0.9654\n"
     ]
    },
    {
     "data": {
      "text/plain": "<keras.callbacks.History at 0x1f702a683d0>"
     },
     "execution_count": 134,
     "metadata": {},
     "output_type": "execute_result"
    }
   ],
   "source": [
    "model.fit(train_dataset, validation_data=val_dataset, epochs=5, class_weight=class_weight)"
   ],
   "metadata": {
    "collapsed": false,
    "pycharm": {
     "name": "#%%\n"
    }
   }
  },
  {
   "cell_type": "code",
   "execution_count": 136,
   "outputs": [
    {
     "name": "stdout",
     "output_type": "stream",
     "text": [
      "Epoch 1/5\n",
      "1875/1875 [==============================] - 3s 1ms/step - loss: 0.0584 - accuracy: 0.9859 - val_loss: 0.0645 - val_accuracy: 0.9823\n",
      "Epoch 2/5\n",
      "1875/1875 [==============================] - 3s 1ms/step - loss: 0.0349 - accuracy: 0.9901 - val_loss: 0.0606 - val_accuracy: 0.9820\n",
      "Epoch 3/5\n",
      "1875/1875 [==============================] - 3s 1ms/step - loss: 0.0350 - accuracy: 0.9905 - val_loss: 0.0419 - val_accuracy: 0.9871\n",
      "Epoch 4/5\n",
      "1875/1875 [==============================] - 3s 2ms/step - loss: 0.0299 - accuracy: 0.9912 - val_loss: 0.0394 - val_accuracy: 0.9870\n",
      "Epoch 5/5\n",
      "1875/1875 [==============================] - 3s 1ms/step - loss: 0.0295 - accuracy: 0.9909 - val_loss: 0.0353 - val_accuracy: 0.9889\n"
     ]
    },
    {
     "data": {
      "text/plain": "<keras.callbacks.History at 0x1f702e3ea40>"
     },
     "execution_count": 136,
     "metadata": {},
     "output_type": "execute_result"
    }
   ],
   "source": [
    "model.fit(x_train, y_train, epochs=5, validation_data=val_dataset, sample_weight=sample_weight)"
   ],
   "metadata": {
    "collapsed": false,
    "pycharm": {
     "name": "#%%\n"
    }
   }
  },
  {
   "cell_type": "code",
   "execution_count": 147,
   "outputs": [
    {
     "name": "stdout",
     "output_type": "stream",
     "text": [
      "Epoch 1/2\n",
      "1500/1500 [==============================] - 3s 2ms/step - loss: 0.0068 - accuracy: 0.9980 - val_loss: 0.0508 - val_accuracy: 0.9884\n",
      "Epoch 2/2\n",
      "1500/1500 [==============================] - 3s 2ms/step - loss: 0.0062 - accuracy: 0.9978 - val_loss: 0.0646 - val_accuracy: 0.9877\n"
     ]
    },
    {
     "data": {
      "text/plain": "{'loss': [0.006765406113117933, 0.006221125368028879],\n 'accuracy': [0.9980416893959045, 0.9977708458900452],\n 'val_loss': [0.05083265155553818, 0.06458595395088196],\n 'val_accuracy': [0.9884166717529297, 0.9877499938011169]}"
     },
     "execution_count": 147,
     "metadata": {},
     "output_type": "execute_result"
    }
   ],
   "source": [
    "# History\n",
    "history = model.fit(x_train, y_train, epochs=2, validation_split=0.2)\n",
    "history.history"
   ],
   "metadata": {
    "collapsed": false,
    "pycharm": {
     "name": "#%%\n"
    }
   }
  },
  {
   "cell_type": "code",
   "execution_count": 152,
   "outputs": [],
   "source": [
    "class DigitsLimit(keras.utils.Sequence):\n",
    "    def __init__(self, x, y, batch_size, max_len=-1):\n",
    "        self.batch_size = batch_size\n",
    "        self.x = x[:max_len]\n",
    "        self.y = y[:max_len]\n",
    "\n",
    "    def __len__(self):\n",
    "        return int(np.ceil(self.x.shape[0] / self.batch_size))\n",
    "\n",
    "    def __getitem__(self, idx):\n",
    "        size_start = idx * self.batch_size\n",
    "        size_end = (idx + 1) * self.batch_size\n",
    "        batch_x = self.x[size_start : size_end]\n",
    "        batch_y = self.y[size_start : size_end]\n",
    "\n",
    "        return batch_x, batch_y\n",
    "\n",
    "    def on_epoch_end(self):\n",
    "        p = np.random.permutation(len(self.x))\n",
    "        self.x = self.x[p]\n",
    "        self.y = self.y[p]\n",
    "        print('on_epoch_end')"
   ],
   "metadata": {
    "collapsed": false,
    "pycharm": {
     "name": "#%%\n"
    }
   }
  },
  {
   "cell_type": "code",
   "execution_count": 153,
   "outputs": [
    {
     "name": "stdout",
     "output_type": "stream",
     "text": [
      "Epoch 1/3\n",
      "157/157 [==============================] - 0s 2ms/step - loss: 6.6943e-05 - accuracy: 1.0000\n",
      "on_epoch_end\n",
      "Epoch 2/3\n",
      "157/157 [==============================] - 0s 2ms/step - loss: 5.8266e-05 - accuracy: 1.0000\n",
      "on_epoch_end\n",
      "Epoch 3/3\n",
      "157/157 [==============================] - 0s 2ms/step - loss: 5.1667e-05 - accuracy: 1.0000\n",
      "on_epoch_end\n"
     ]
    }
   ],
   "source": [
    "sequence = DigitsLimit(x_train, y_train, 64, 10000)\n",
    "history = model.fit(sequence, epochs=3, shuffle=False)"
   ],
   "metadata": {
    "collapsed": false,
    "pycharm": {
     "name": "#%%\n"
    }
   }
  },
  {
   "cell_type": "code",
   "execution_count": 156,
   "outputs": [],
   "source": [
    "# callbacks\n",
    "callbacks = [keras.callbacks.EarlyStopping(monitor='loss', min_delta=0.5, patience=1, verbose=1)]"
   ],
   "metadata": {
    "collapsed": false,
    "pycharm": {
     "name": "#%%\n"
    }
   }
  },
  {
   "cell_type": "code",
   "execution_count": 155,
   "outputs": [
    {
     "name": "stdout",
     "output_type": "stream",
     "text": [
      "Epoch 1/5\n",
      "157/157 [==============================] - 0s 2ms/step - loss: 4.6324e-05 - accuracy: 1.0000\n",
      "on_epoch_end\n",
      "Epoch 2/5\n",
      "157/157 [==============================] - 0s 2ms/step - loss: 4.2152e-05 - accuracy: 1.0000\n",
      "Epoch 2: early stopping\n"
     ]
    },
    {
     "data": {
      "text/plain": "<keras.callbacks.History at 0x1f7221bf190>"
     },
     "execution_count": 155,
     "metadata": {},
     "output_type": "execute_result"
    }
   ],
   "source": [
    "model.fit(sequence, epochs=5, callbacks=callbacks)"
   ],
   "metadata": {
    "collapsed": false,
    "pycharm": {
     "name": "#%%\n"
    }
   }
  },
  {
   "cell_type": "code",
   "execution_count": 157,
   "outputs": [],
   "source": [
    "# ModelCheckPoint\n",
    "callbacks = [\n",
    "    keras.callbacks.EarlyStopping(monitor='loss', min_delta=0.5, patience=1, verbose=1),\n",
    "    keras.callbacks.ModelCheckpoint(filepath='mymodel_{epoch}', save_best_only=True, monitor='loss', verbose=1)]"
   ],
   "metadata": {
    "collapsed": false,
    "pycharm": {
     "name": "#%%\n"
    }
   }
  },
  {
   "cell_type": "code",
   "execution_count": 158,
   "outputs": [
    {
     "name": "stdout",
     "output_type": "stream",
     "text": [
      "Epoch 1/4\n",
      "1854/1875 [============================>.] - ETA: 0s - loss: 0.0262 - accuracy: 0.9939\n",
      "Epoch 1: loss improved from inf to 0.02624, saving model to mymodel_1\n",
      "INFO:tensorflow:Assets written to: mymodel_1\\assets\n",
      "1875/1875 [==============================] - 3s 2ms/step - loss: 0.0262 - accuracy: 0.9940\n",
      "Epoch 2/4\n",
      "1870/1875 [============================>.] - ETA: 0s - loss: 0.0119 - accuracy: 0.9962\n",
      "Epoch 2: loss improved from 0.02624 to 0.01186, saving model to mymodel_2\n",
      "INFO:tensorflow:Assets written to: mymodel_2\\assets\n",
      "1875/1875 [==============================] - 3s 2ms/step - loss: 0.0119 - accuracy: 0.9962\n",
      "Epoch 2: early stopping\n"
     ]
    },
    {
     "data": {
      "text/plain": "<keras.callbacks.History at 0x1f702edd3c0>"
     },
     "execution_count": 158,
     "metadata": {},
     "output_type": "execute_result"
    }
   ],
   "source": [
    "model.fit(x_train, y_train, callbacks=callbacks, epochs=4)"
   ],
   "metadata": {
    "collapsed": false,
    "pycharm": {
     "name": "#%%\n"
    }
   }
  },
  {
   "cell_type": "code",
   "execution_count": 159,
   "outputs": [],
   "source": [
    "model = keras.models.load_model('mymodel_1')"
   ],
   "metadata": {
    "collapsed": false,
    "pycharm": {
     "name": "#%%\n"
    }
   }
  },
  {
   "cell_type": "code",
   "execution_count": 160,
   "outputs": [
    {
     "name": "stdout",
     "output_type": "stream",
     "text": [
      "313/313 [==============================] - 0s 1ms/step - loss: 0.1307 - accuracy: 0.9792\n",
      "[0.130676731467247, 0.979200005531311]\n"
     ]
    }
   ],
   "source": [
    "print(model.evaluate(x_test, y_test))"
   ],
   "metadata": {
    "collapsed": false,
    "pycharm": {
     "name": "#%%\n"
    }
   }
  },
  {
   "cell_type": "code",
   "execution_count": 162,
   "outputs": [],
   "source": [
    "# CustomCallbacks\n",
    "class CustomCallbacks(keras.callbacks.Callback):\n",
    "    def on_train_begin(self, logs):\n",
    "        self.per_batch_losses = []\n",
    "\n",
    "    def on_batch_end(self, batch, logs):\n",
    "        self.per_batch_losses.append(logs.get('loss'))\n",
    "\n",
    "    def on_train_end(self, logs):\n",
    "        print(self.per_batch_losses[:5])"
   ],
   "metadata": {
    "collapsed": false,
    "pycharm": {
     "name": "#%%\n"
    }
   }
  },
  {
   "cell_type": "code",
   "execution_count": 165,
   "outputs": [],
   "source": [
    "callbacks = [CustomCallbacks()]"
   ],
   "metadata": {
    "collapsed": false,
    "pycharm": {
     "name": "#%%\n"
    }
   }
  },
  {
   "cell_type": "code",
   "execution_count": 166,
   "outputs": [
    {
     "name": "stdout",
     "output_type": "stream",
     "text": [
      "Epoch 1/5\n",
      "1875/1875 [==============================] - 3s 1ms/step - loss: 0.0116 - accuracy: 0.9965\n",
      "Epoch 2/5\n",
      "1875/1875 [==============================] - 3s 1ms/step - loss: 0.0093 - accuracy: 0.9971\n",
      "Epoch 3/5\n",
      "1875/1875 [==============================] - 3s 1ms/step - loss: 0.0085 - accuracy: 0.9975\n",
      "Epoch 4/5\n",
      "1875/1875 [==============================] - 3s 1ms/step - loss: 0.0119 - accuracy: 0.9966\n",
      "Epoch 5/5\n",
      "1875/1875 [==============================] - 3s 1ms/step - loss: 0.0069 - accuracy: 0.9977\n",
      "[1.6742045772843994e-05, 3.789774564211257e-05, 0.006164379417896271, 0.004626518581062555, 0.00970190204679966]\n"
     ]
    },
    {
     "data": {
      "text/plain": "<keras.callbacks.History at 0x1f702727d30>"
     },
     "execution_count": 166,
     "metadata": {},
     "output_type": "execute_result"
    }
   ],
   "source": [
    "model.fit(x_train, y_train, epochs=5, callbacks=callbacks)"
   ],
   "metadata": {
    "collapsed": false,
    "pycharm": {
     "name": "#%%\n"
    }
   }
  },
  {
   "cell_type": "code",
   "execution_count": null,
   "outputs": [],
   "source": [],
   "metadata": {
    "collapsed": false,
    "pycharm": {
     "name": "#%%\n"
    }
   }
  }
 ],
 "metadata": {
  "kernelspec": {
   "display_name": "Python 3",
   "language": "python",
   "name": "python3"
  },
  "language_info": {
   "codemirror_mode": {
    "name": "ipython",
    "version": 2
   },
   "file_extension": ".py",
   "mimetype": "text/x-python",
   "name": "python",
   "nbconvert_exporter": "python",
   "pygments_lexer": "ipython2",
   "version": "2.7.6"
  }
 },
 "nbformat": 4,
 "nbformat_minor": 0
}