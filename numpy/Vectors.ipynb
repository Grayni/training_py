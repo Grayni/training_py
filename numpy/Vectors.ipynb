{
 "cells": [
  {
   "cell_type": "code",
   "execution_count": 43,
   "id": "b1f91d9a",
   "metadata": {},
   "outputs": [],
   "source": [
    "import numpy as np\n",
    "import seaborn as sns"
   ]
  },
  {
   "cell_type": "code",
   "execution_count": 27,
   "id": "7ec28c10",
   "metadata": {},
   "outputs": [],
   "source": [
    "a = np.array([1, 1])\n",
    "b = np.array([2, 0])\n",
    "c = np.array([0, 2])"
   ]
  },
  {
   "cell_type": "code",
   "execution_count": 28,
   "id": "d5a3bdab",
   "metadata": {},
   "outputs": [
    {
     "data": {
      "text/plain": [
       "array([3, 3])"
      ]
     },
     "execution_count": 28,
     "metadata": {},
     "output_type": "execute_result"
    }
   ],
   "source": [
    "v = a + b + c\n",
    "v"
   ]
  },
  {
   "cell_type": "code",
   "execution_count": 52,
   "id": "49d2ffad",
   "metadata": {},
   "outputs": [
    {
     "data": {
      "text/plain": [
       "[(0.0, 5.0), (0.0, 5.0)]"
      ]
     },
     "execution_count": 52,
     "metadata": {},
     "output_type": "execute_result"
    },
    {
     "data": {
      "image/png": "[encoded data removed]",
      "text/plain": [
       "<Figure size 640x480 with 1 Axes>"
      ]
     },
     "metadata": {},
     "output_type": "display_data"
    }
   ],
   "source": [
    "sns.set_style(\"darkgrid\")\n",
    "g = sns.scatterplot(x=[v[0]], y=[v[1]], color='red')\n",
    "g.set(xlim=(0,5),ylim=(0,5))"
   ]
  },
  {
   "cell_type": "markdown",
   "id": "11c62272",
   "metadata": {},
   "source": [
    "#### Scalar product"
   ]
  },
  {
   "cell_type": "code",
   "execution_count": 59,
   "id": "554a6cb3",
   "metadata": {},
   "outputs": [
    {
     "data": {
      "text/plain": [
       "2"
      ]
     },
     "execution_count": 59,
     "metadata": {},
     "output_type": "execute_result"
    }
   ],
   "source": [
    "# Xa*Xb + Ya*Yb\n",
    "res = np.dot(a, b)\n",
    "res"
   ]
  },
  {
   "cell_type": "code",
   "execution_count": 60,
   "id": "e7c97d0c",
   "metadata": {},
   "outputs": [],
   "source": [
    "# res = |a|*|b|*cos(a^b) -> cos(a^b) = res / (|a|*|b|)"
   ]
  },
  {
   "cell_type": "code",
   "execution_count": 56,
   "id": "a586cccb",
   "metadata": {},
   "outputs": [
    {
     "data": {
      "text/plain": [
       "1.4142135623730951"
      ]
     },
     "execution_count": 56,
     "metadata": {},
     "output_type": "execute_result"
    }
   ],
   "source": [
    "len_a = np.sqrt(a[0]**2 + a[1]**2)\n",
    "len_a"
   ]
  },
  {
   "cell_type": "code",
   "execution_count": 57,
   "id": "2d91f3c4",
   "metadata": {},
   "outputs": [
    {
     "data": {
      "text/plain": [
       "2.0"
      ]
     },
     "execution_count": 57,
     "metadata": {},
     "output_type": "execute_result"
    }
   ],
   "source": [
    "len_b = np.sqrt(b[0]**2 + b[1]**2)\n",
    "len_b"
   ]
  },
  {
   "cell_type": "code",
   "execution_count": 58,
   "id": "5fed4db0",
   "metadata": {},
   "outputs": [],
   "source": [
    "cos = res / (len_a * len_b)"
   ]
  },
  {
   "cell_type": "code",
   "execution_count": 62,
   "id": "2396816d",
   "metadata": {},
   "outputs": [
    {
     "data": {
      "text/plain": [
       "0.7853981633974484"
      ]
     },
     "execution_count": 62,
     "metadata": {},
     "output_type": "execute_result"
    }
   ],
   "source": [
    "np.arccos(cos)"
   ]
  },
  {
   "cell_type": "code",
   "execution_count": 66,
   "id": "aad9fad9",
   "metadata": {},
   "outputs": [
    {
     "data": {
      "text/plain": [
       "[(0.0, 5.0), (0.0, 5.0)]"
      ]
     },
     "execution_count": 66,
     "metadata": {},
     "output_type": "execute_result"
    },
    {
     "data": {
      "image/png": "[encoded data removed]",
      "text/plain": [
       "<Figure size 640x480 with 1 Axes>"
      ]
     },
     "metadata": {},
     "output_type": "display_data"
    }
   ],
   "source": [
    "d = sns.scatterplot(x=[a[0], b[0]], y=[a[1], b[1]], color=['red', 'blue'])\n",
    "d.set(xlim=(0,5), ylim=(0,5))"
   ]
  },
  {
   "cell_type": "code",
   "execution_count": 67,
   "id": "f58a6b27",
   "metadata": {},
   "outputs": [],
   "source": [
    "# angle 78 deg"
   ]
  },
  {
   "cell_type": "code",
   "execution_count": null,
   "id": "83c7c347",
   "metadata": {},
   "outputs": [],
   "source": []
  }
 ],
 "metadata": {
  "kernelspec": {
   "display_name": "Python 3 (ipykernel)",
   "language": "python",
   "name": "python3"
  },
  "language_info": {
   "codemirror_mode": {
    "name": "ipython",
    "version": 3
   },
   "file_extension": ".py",
   "mimetype": "text/x-python",
   "name": "python",
   "nbconvert_exporter": "python",
   "pygments_lexer": "ipython3",
   "version": "3.10.6"
  }
 },
 "nbformat": 4,
 "nbformat_minor": 5
}
