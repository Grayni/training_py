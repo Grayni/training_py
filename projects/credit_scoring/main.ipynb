{
 "cells": [
  {
   "cell_type": "code",
   "execution_count": 113,
   "metadata": {
    "collapsed": true
   },
   "outputs": [],
   "source": [
    "import numpy as np\n",
    "import pandas as pd\n",
    "import matplotlib.pyplot as plt\n",
    "\n",
    "plt.style.use('dark_background')"
   ]
  },
  {
   "cell_type": "code",
   "execution_count": 114,
   "outputs": [],
   "source": [
    "# initial data\n",
    "data_init = lambda name: pd.read_csv(f'data/{name}_data.csv')\n",
    "\n",
    "df_train = data_init('train')\n",
    "df_test = data_init('test')"
   ],
   "metadata": {
    "collapsed": false,
    "pycharm": {
     "name": "#%%\n"
    }
   }
  },
  {
   "cell_type": "code",
   "execution_count": 115,
   "outputs": [
    {
     "data": {
      "text/plain": "  Home Ownership  Annual Income Years in current job  Tax Liens  \\\n0       Own Home       482087.0                  NaN        0.0   \n1       Own Home      1025487.0            10+ years        0.0   \n2  Home Mortgage       751412.0              8 years        0.0   \n3       Own Home       805068.0              6 years        0.0   \n4           Rent       776264.0              8 years        0.0   \n\n   Number of Open Accounts  Years of Credit History  Maximum Open Credit  \\\n0                     11.0                     26.3             685960.0   \n1                     15.0                     15.3            1181730.0   \n2                     11.0                     35.0            1182434.0   \n3                      8.0                     22.5             147400.0   \n4                     13.0                     13.6             385836.0   \n\n   Number of Credit Problems  Months since last delinquent  Bankruptcies  \\\n0                        1.0                           NaN           1.0   \n1                        0.0                           NaN           0.0   \n2                        0.0                           NaN           0.0   \n3                        1.0                           NaN           1.0   \n4                        1.0                           NaN           0.0   \n\n              Purpose        Term  Current Loan Amount  \\\n0  debt consolidation  Short Term           99999999.0   \n1  debt consolidation   Long Term             264968.0   \n2  debt consolidation  Short Term           99999999.0   \n3  debt consolidation  Short Term             121396.0   \n4  debt consolidation  Short Term             125840.0   \n\n   Current Credit Balance  Monthly Debt  Credit Score  Credit Default  \n0                 47386.0        7914.0         749.0               0  \n1                394972.0       18373.0         737.0               1  \n2                308389.0       13651.0         742.0               0  \n3                 95855.0       11338.0         694.0               0  \n4                 93309.0        7180.0         719.0               0  ",
      "text/html": "<div>\n<style scoped>\n    .dataframe tbody tr th:only-of-type {\n        vertical-align: middle;\n    }\n\n    .dataframe tbody tr th {\n        vertical-align: top;\n    }\n\n    .dataframe thead th {\n        text-align: right;\n    }\n</style>\n<table border=\"1\" class=\"dataframe\">\n  <thead>\n    <tr style=\"text-align: right;\">\n      <th></th>\n      <th>Home Ownership</th>\n      <th>Annual Income</th>\n      <th>Years in current job</th>\n      <th>Tax Liens</th>\n      <th>Number of Open Accounts</th>\n      <th>Years of Credit History</th>\n      <th>Maximum Open Credit</th>\n      <th>Number of Credit Problems</th>\n      <th>Months since last delinquent</th>\n      <th>Bankruptcies</th>\n      <th>Purpose</th>\n      <th>Term</th>\n      <th>Current Loan Amount</th>\n      <th>Current Credit Balance</th>\n      <th>Monthly Debt</th>\n      <th>Credit Score</th>\n      <th>Credit Default</th>\n    </tr>\n  </thead>\n  <tbody>\n    <tr>\n      <th>0</th>\n      <td>Own Home</td>\n      <td>482087.0</td>\n      <td>NaN</td>\n      <td>0.0</td>\n      <td>11.0</td>\n      <td>26.3</td>\n      <td>685960.0</td>\n      <td>1.0</td>\n      <td>NaN</td>\n      <td>1.0</td>\n      <td>debt consolidation</td>\n      <td>Short Term</td>\n      <td>99999999.0</td>\n      <td>47386.0</td>\n      <td>7914.0</td>\n      <td>749.0</td>\n      <td>0</td>\n    </tr>\n    <tr>\n      <th>1</th>\n      <td>Own Home</td>\n      <td>1025487.0</td>\n      <td>10+ years</td>\n      <td>0.0</td>\n      <td>15.0</td>\n      <td>15.3</td>\n      <td>1181730.0</td>\n      <td>0.0</td>\n      <td>NaN</td>\n      <td>0.0</td>\n      <td>debt consolidation</td>\n      <td>Long Term</td>\n      <td>264968.0</td>\n      <td>394972.0</td>\n      <td>18373.0</td>\n      <td>737.0</td>\n      <td>1</td>\n    </tr>\n    <tr>\n      <th>2</th>\n      <td>Home Mortgage</td>\n      <td>751412.0</td>\n      <td>8 years</td>\n      <td>0.0</td>\n      <td>11.0</td>\n      <td>35.0</td>\n      <td>1182434.0</td>\n      <td>0.0</td>\n      <td>NaN</td>\n      <td>0.0</td>\n      <td>debt consolidation</td>\n      <td>Short Term</td>\n      <td>99999999.0</td>\n      <td>308389.0</td>\n      <td>13651.0</td>\n      <td>742.0</td>\n      <td>0</td>\n    </tr>\n    <tr>\n      <th>3</th>\n      <td>Own Home</td>\n      <td>805068.0</td>\n      <td>6 years</td>\n      <td>0.0</td>\n      <td>8.0</td>\n      <td>22.5</td>\n      <td>147400.0</td>\n      <td>1.0</td>\n      <td>NaN</td>\n      <td>1.0</td>\n      <td>debt consolidation</td>\n      <td>Short Term</td>\n      <td>121396.0</td>\n      <td>95855.0</td>\n      <td>11338.0</td>\n      <td>694.0</td>\n      <td>0</td>\n    </tr>\n    <tr>\n      <th>4</th>\n      <td>Rent</td>\n      <td>776264.0</td>\n      <td>8 years</td>\n      <td>0.0</td>\n      <td>13.0</td>\n      <td>13.6</td>\n      <td>385836.0</td>\n      <td>1.0</td>\n      <td>NaN</td>\n      <td>0.0</td>\n      <td>debt consolidation</td>\n      <td>Short Term</td>\n      <td>125840.0</td>\n      <td>93309.0</td>\n      <td>7180.0</td>\n      <td>719.0</td>\n      <td>0</td>\n    </tr>\n  </tbody>\n</table>\n</div>"
     },
     "execution_count": 115,
     "metadata": {},
     "output_type": "execute_result"
    }
   ],
   "source": [
    "df_train.head()"
   ],
   "metadata": {
    "collapsed": false,
    "pycharm": {
     "name": "#%%\n"
    }
   }
  },
  {
   "cell_type": "code",
   "execution_count": 116,
   "outputs": [
    {
     "name": "stdout",
     "output_type": "stream",
     "text": [
      "<class 'pandas.core.frame.DataFrame'>\n",
      "RangeIndex: 7500 entries, 0 to 7499\n",
      "Data columns (total 17 columns):\n",
      " #   Column                        Non-Null Count  Dtype  \n",
      "---  ------                        --------------  -----  \n",
      " 0   Home Ownership                7500 non-null   object \n",
      " 1   Annual Income                 5943 non-null   float64\n",
      " 2   Years in current job          7129 non-null   object \n",
      " 3   Tax Liens                     7500 non-null   float64\n",
      " 4   Number of Open Accounts       7500 non-null   float64\n",
      " 5   Years of Credit History       7500 non-null   float64\n",
      " 6   Maximum Open Credit           7500 non-null   float64\n",
      " 7   Number of Credit Problems     7500 non-null   float64\n",
      " 8   Months since last delinquent  3419 non-null   float64\n",
      " 9   Bankruptcies                  7486 non-null   float64\n",
      " 10  Purpose                       7500 non-null   object \n",
      " 11  Term                          7500 non-null   object \n",
      " 12  Current Loan Amount           7500 non-null   float64\n",
      " 13  Current Credit Balance        7500 non-null   float64\n",
      " 14  Monthly Debt                  7500 non-null   float64\n",
      " 15  Credit Score                  5943 non-null   float64\n",
      " 16  Credit Default                7500 non-null   int64  \n",
      "dtypes: float64(12), int64(1), object(4)\n",
      "memory usage: 996.2+ KB\n"
     ]
    }
   ],
   "source": [
    "df_train.info()"
   ],
   "metadata": {
    "collapsed": false,
    "pycharm": {
     "name": "#%%\n"
    }
   }
  },
  {
   "cell_type": "code",
   "execution_count": 117,
   "outputs": [
    {
     "data": {
      "text/plain": "Home Ownership                     0\nAnnual Income                   1557\nYears in current job             371\nTax Liens                          0\nNumber of Open Accounts            0\nYears of Credit History            0\nMaximum Open Credit                0\nNumber of Credit Problems          0\nMonths since last delinquent    4081\nBankruptcies                      14\nPurpose                            0\nTerm                               0\nCurrent Loan Amount                0\nCurrent Credit Balance             0\nMonthly Debt                       0\nCredit Score                    1557\nCredit Default                     0\ndtype: int64"
     },
     "execution_count": 117,
     "metadata": {},
     "output_type": "execute_result"
    }
   ],
   "source": [
    "# 5 columns with NaN: [\n",
    "#   'Annual Income',\n",
    "#   'Years in current job',\n",
    "#   'Months since last delinquent',\n",
    "#   'Bankruptcies',\n",
    "#   'Credit Score'\n",
    "# ]\n",
    "df_train.isna().sum()"
   ],
   "metadata": {
    "collapsed": false,
    "pycharm": {
     "name": "#%%\n"
    }
   }
  },
  {
   "cell_type": "code",
   "execution_count": 130,
   "outputs": [],
   "source": [
    "def change_on_median(feature):\n",
    "    df_train.loc[df_train[feature].isna(), feature] = df_train[feature].median()\n",
    "\n",
    "def change_on_frequent(feature):\n",
    "    df_train.loc[df_train[feature].isna(), feature] = df_train[feature].value_counts().index[0]"
   ],
   "metadata": {
    "collapsed": false,
    "pycharm": {
     "name": "#%%\n"
    }
   }
  },
  {
   "cell_type": "markdown",
   "source": [
    "#### 1. Column: Annual Income  (numeric)"
   ],
   "metadata": {
    "collapsed": false,
    "pycharm": {
     "name": "#%% md\n"
    }
   }
  },
  {
   "cell_type": "code",
   "execution_count": 119,
   "outputs": [
    {
     "data": {
      "text/plain": "0     482087.0\n1    1025487.0\n2     751412.0\n3     805068.0\n4     776264.0\n5          NaN\nName: Annual Income, dtype: float64"
     },
     "execution_count": 119,
     "metadata": {},
     "output_type": "execute_result"
    }
   ],
   "source": [
    "df_train['Annual Income'].head(6)"
   ],
   "metadata": {
    "collapsed": false,
    "pycharm": {
     "name": "#%%\n"
    }
   }
  },
  {
   "cell_type": "code",
   "execution_count": 129,
   "outputs": [
    {
     "data": {
      "text/plain": "0"
     },
     "execution_count": 129,
     "metadata": {},
     "output_type": "execute_result"
    }
   ],
   "source": [
    "# 'Annual Income' == NaN => median\n",
    "change_on_median('Annual Income')\n",
    "df_train['Annual Income'].isna().sum()\n",
    "#df_train.loc[df_train['Annual Income'].isna(), 'Annual Income'] = df_train['Annual Income'].median()"
   ],
   "metadata": {
    "collapsed": false,
    "pycharm": {
     "name": "#%%\n"
    }
   }
  },
  {
   "cell_type": "markdown",
   "source": [
    "#### 2. Column: Years in current job  (categorical)"
   ],
   "metadata": {
    "collapsed": false,
    "pycharm": {
     "name": "#%% md\n"
    }
   }
  },
  {
   "cell_type": "code",
   "execution_count": 121,
   "outputs": [
    {
     "data": {
      "text/plain": "10+ years    2332\n2 years       705\n3 years       620\n< 1 year      563\n5 years       516\n1 year        504\n4 years       469\n6 years       426\n7 years       396\n8 years       339\n9 years       259\nName: Years in current job, dtype: int64"
     },
     "execution_count": 121,
     "metadata": {},
     "output_type": "execute_result"
    }
   ],
   "source": [
    "df_train['Years in current job'].value_counts()"
   ],
   "metadata": {
    "collapsed": false,
    "pycharm": {
     "name": "#%%\n"
    }
   }
  },
  {
   "cell_type": "code",
   "execution_count": 122,
   "outputs": [
    {
     "data": {
      "text/plain": "10+ years    2703\n2 years       705\n3 years       620\n< 1 year      563\n5 years       516\n1 year        504\n4 years       469\n6 years       426\n7 years       396\n8 years       339\n9 years       259\nName: Years in current job, dtype: int64"
     },
     "execution_count": 122,
     "metadata": {},
     "output_type": "execute_result"
    }
   ],
   "source": [
    "# 'Years in current job' == NaN => most frequent  ()\n",
    "change_on_frequent('Years in current job')\n",
    "df_train['Years in current job'].value_counts()"
   ],
   "metadata": {
    "collapsed": false,
    "pycharm": {
     "name": "#%%\n"
    }
   }
  },
  {
   "cell_type": "code",
   "execution_count": 123,
   "outputs": [
    {
     "data": {
      "text/plain": "0   NaN\n1   NaN\n2   NaN\n3   NaN\n4   NaN\nName: Months since last delinquent, dtype: float64"
     },
     "execution_count": 123,
     "metadata": {},
     "output_type": "execute_result"
    }
   ],
   "source": [
    "#### 3. Column: Months since last delinquent (numeric)\n",
    "df_train['Months since last delinquent'].head()"
   ],
   "metadata": {
    "collapsed": false,
    "pycharm": {
     "name": "#%%\n"
    }
   }
  },
  {
   "cell_type": "code",
   "execution_count": 132,
   "outputs": [
    {
     "data": {
      "text/plain": "0"
     },
     "execution_count": 132,
     "metadata": {},
     "output_type": "execute_result"
    }
   ],
   "source": [
    "change_on_median('Months since last delinquent')\n",
    "df_train['Months since last delinquent'].isna().sum()"
   ],
   "metadata": {
    "collapsed": false,
    "pycharm": {
     "name": "#%%\n"
    }
   }
  },
  {
   "cell_type": "markdown",
   "source": [
    "#### 4. Column: Bankruptcies  (categorical)"
   ],
   "metadata": {
    "collapsed": false,
    "pycharm": {
     "name": "#%% md\n"
    }
   }
  },
  {
   "cell_type": "code",
   "execution_count": 125,
   "outputs": [
    {
     "data": {
      "text/plain": "0.0    6660\n1.0     786\n2.0      31\n3.0       7\n4.0       2\nName: Bankruptcies, dtype: int64"
     },
     "execution_count": 125,
     "metadata": {},
     "output_type": "execute_result"
    }
   ],
   "source": [
    "df_train['Bankruptcies'].value_counts()"
   ],
   "metadata": {
    "collapsed": false,
    "pycharm": {
     "name": "#%%\n"
    }
   }
  },
  {
   "cell_type": "code",
   "execution_count": 131,
   "outputs": [
    {
     "data": {
      "text/plain": "0.0    6674\n1.0     786\n2.0      31\n3.0       7\n4.0       2\nName: Bankruptcies, dtype: int64"
     },
     "execution_count": 131,
     "metadata": {},
     "output_type": "execute_result"
    }
   ],
   "source": [
    "# 'Bankruptcies' == NaN => most frequent  ()\n",
    "change_on_frequent('Bankruptcies')\n",
    "df_train['Bankruptcies'].value_counts()"
   ],
   "metadata": {
    "collapsed": false,
    "pycharm": {
     "name": "#%%\n"
    }
   }
  },
  {
   "cell_type": "markdown",
   "source": [
    "#### 5. Column: Credit Score  (numeric)"
   ],
   "metadata": {
    "collapsed": false,
    "pycharm": {
     "name": "#%% md\n"
    }
   }
  },
  {
   "cell_type": "code",
   "execution_count": 127,
   "outputs": [
    {
     "data": {
      "text/plain": "0    749.0\n1    737.0\n2    742.0\n3    694.0\n4    719.0\n5      NaN\nName: Credit Score, dtype: float64"
     },
     "execution_count": 127,
     "metadata": {},
     "output_type": "execute_result"
    }
   ],
   "source": [
    "df_train['Credit Score'].head(6)"
   ],
   "metadata": {
    "collapsed": false,
    "pycharm": {
     "name": "#%%\n"
    }
   }
  },
  {
   "cell_type": "code",
   "execution_count": 133,
   "outputs": [
    {
     "data": {
      "text/plain": "0"
     },
     "execution_count": 133,
     "metadata": {},
     "output_type": "execute_result"
    }
   ],
   "source": [
    "# 'Credit Score' == NaN => median\n",
    "change_on_median('Credit Score')\n",
    "df_train['Credit Score'].isna().sum()"
   ],
   "metadata": {
    "collapsed": false,
    "pycharm": {
     "name": "#%%\n"
    }
   }
  },
  {
   "cell_type": "code",
   "execution_count": null,
   "outputs": [],
   "source": [],
   "metadata": {
    "collapsed": false,
    "pycharm": {
     "name": "#%%\n"
    }
   }
  }
 ],
 "metadata": {
  "kernelspec": {
   "display_name": "Python 3",
   "language": "python",
   "name": "python3"
  },
  "language_info": {
   "codemirror_mode": {
    "name": "ipython",
    "version": 2
   },
   "file_extension": ".py",
   "mimetype": "text/x-python",
   "name": "python",
   "nbconvert_exporter": "python",
   "pygments_lexer": "ipython2",
   "version": "2.7.6"
  }
 },
 "nbformat": 4,
 "nbformat_minor": 0
}