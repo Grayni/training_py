{
 "cells": [
  {
   "cell_type": "markdown",
   "metadata": {
    "collapsed": true,
    "pycharm": {
     "name": "#%% md\n"
    }
   },
   "source": [
    "#### formula"
   ]
  },
  {
   "cell_type": "code",
   "execution_count": 27,
   "outputs": [],
   "source": [
    "from torch import sin, randn_like\n",
    "\n",
    "def real_formula(x):\n",
    "    return sin(x) / x - x / 10\n",
    "\n",
    "def noise_formula(x, form=real_formula, noise_scale=0.01):\n",
    "    y = form(x)\n",
    "    noise = randn_like(y) * noise_scale\n",
    "    return y + noise"
   ],
   "metadata": {
    "collapsed": false,
    "pycharm": {
     "name": "#%%\n"
    }
   }
  },
  {
   "cell_type": "markdown",
   "source": [
    "#### chart"
   ],
   "metadata": {
    "collapsed": false,
    "pycharm": {
     "name": "#%% md\n"
    }
   }
  },
  {
   "cell_type": "code",
   "execution_count": 28,
   "outputs": [
    {
     "data": {
      "text/plain": "<Figure size 640x480 with 1 Axes>",
      "image/png": "[encoded data removed]"
     },
     "metadata": {},
     "output_type": "display_data"
    }
   ],
   "source": [
    "import matplotlib.pyplot as plt\n",
    "import numpy as np\n",
    "from torch import arange as trange\n",
    "\n",
    "x_negative = trange(-50, 0)\n",
    "x_positive = trange(1, 50)\n",
    "\n",
    "def y_calc(x):\n",
    "    return [real_formula(value) for value in x]\n",
    "\n",
    "y_1 = y_calc(x_negative)\n",
    "y_2 = y_calc(x_positive)\n",
    "\n",
    "plt.scatter(0, 1, color='white', marker='o', edgecolors='black', s=40)\n",
    "plt.plot(x_negative, y_1, c='r')\n",
    "plt.plot(x_positive, y_2, c='r')\n",
    "plt.plot(np.zeros(11), np.arange(-5, 6), '--')\n",
    "plt.title('sin(x)/x - x/10')\n",
    "plt.show()"
   ],
   "metadata": {
    "collapsed": false,
    "pycharm": {
     "name": "#%%\n"
    }
   }
  },
  {
   "cell_type": "markdown",
   "source": [
    "#### datasets"
   ],
   "metadata": {
    "collapsed": false,
    "pycharm": {
     "name": "#%% md\n"
    }
   }
  },
  {
   "cell_type": "code",
   "execution_count": 29,
   "outputs": [],
   "source": [
    "batch_size = 200"
   ],
   "metadata": {
    "collapsed": false,
    "pycharm": {
     "name": "#%%\n"
    }
   }
  },
  {
   "cell_type": "code",
   "execution_count": 30,
   "outputs": [],
   "source": [
    "from torch import FloatTensor, cat\n",
    "\n",
    "def generate_data(func, n_samples):\n",
    "    x = FloatTensor(n_samples).uniform_(-1000, 1000)\n",
    "    x = x[x != 0]\n",
    "\n",
    "    extra_samples = FloatTensor(n_samples - len(x)).uniform_(-1000000, 1000000)\n",
    "\n",
    "    x = cat([x, extra_samples])\n",
    "\n",
    "    y = func(x)[:, None]\n",
    "    x = x[:, None]\n",
    "\n",
    "    points = [(x_i, y_i) for x_i, y_i in zip(x, y)]\n",
    "\n",
    "    return points\n",
    "\n",
    "real = generate_data(real_formula, 1200)\n",
    "noise = generate_data(noise_formula, 100)"
   ],
   "metadata": {
    "collapsed": false,
    "pycharm": {
     "name": "#%%\n"
    }
   }
  },
  {
   "cell_type": "markdown",
   "source": [
    "#### Generator"
   ],
   "metadata": {
    "collapsed": false,
    "pycharm": {
     "name": "#%% md\n"
    }
   }
  },
  {
   "cell_type": "code",
   "execution_count": 31,
   "outputs": [],
   "source": [
    "import torch.nn as nn\n",
    "from torch import tensor\n",
    "\n",
    "class Generator(nn.Module):\n",
    "    def __init__(self, hid_1, in_=1, out_=2):\n",
    "        super().__init__()\n",
    "        hid_2 = int(hid_1 * 2)\n",
    "        hid_4 = int(hid_1 * 4)\n",
    "\n",
    "        fc1 = nn.Linear(in_, hid_1)\n",
    "        fc2 = nn.Linear(hid_1, hid_2)\n",
    "        fc3 = nn.Linear(hid_2, hid_4)\n",
    "        fc4 = nn.Linear(hid_4, out_)\n",
    "\n",
    "        relu = nn.ReLU()\n",
    "\n",
    "        self.model = nn.Sequential(\n",
    "            fc1, relu,\n",
    "            fc2, relu,\n",
    "            fc3, relu,\n",
    "            fc4\n",
    "        )\n",
    "\n",
    "    def forward(self, z):\n",
    "\n",
    "        point = self.model(z)\n",
    "\n",
    "        x = point[:, 0].clone().detach()\n",
    "        y = point[:, 1].clone().detach()\n",
    "\n",
    "        return x[:, None], y[:, None]"
   ],
   "metadata": {
    "collapsed": false,
    "pycharm": {
     "name": "#%%\n"
    }
   }
  },
  {
   "cell_type": "markdown",
   "source": [
    "#### Discriminator"
   ],
   "metadata": {
    "collapsed": false,
    "pycharm": {
     "name": "#%% md\n"
    }
   }
  },
  {
   "cell_type": "code",
   "execution_count": 32,
   "outputs": [],
   "source": [
    "class Discriminator(nn.Module):\n",
    "    def __init__(self, hid_1, in_=1, out_=1):\n",
    "        super().__init__()\n",
    "        hid_2 = int(hid_1/2)\n",
    "\n",
    "        fc1 = nn.Linear(in_, hid_1)\n",
    "        fc2 = nn.Linear(hid_1, hid_2)\n",
    "        fc3 = nn.Linear(hid_2, out_)\n",
    "\n",
    "        l_relu = nn.LeakyReLU(0.2, inplace=True)\n",
    "        sigmoid = nn.Sigmoid()\n",
    "\n",
    "        nn.init.uniform_(fc1.weight, -0.005, 0.005)\n",
    "        fc1.bias.data.zero_()\n",
    "\n",
    "        self.model = nn.Sequential(\n",
    "            fc1, l_relu,\n",
    "            fc2, l_relu,\n",
    "            fc3, sigmoid\n",
    "        )\n",
    "\n",
    "    def forward(self, x):\n",
    "        batch = x.size(0)\n",
    "        x = x.view(batch, -1)\n",
    "\n",
    "        return self.model(x)"
   ],
   "metadata": {
    "collapsed": false,
    "pycharm": {
     "name": "#%%\n"
    }
   }
  },
  {
   "cell_type": "markdown",
   "source": [
    "#### MyDataset"
   ],
   "metadata": {
    "collapsed": false,
    "pycharm": {
     "name": "#%% md\n"
    }
   }
  },
  {
   "cell_type": "code",
   "execution_count": 33,
   "outputs": [
    {
     "name": "stdout",
     "output_type": "stream",
     "text": [
      "(tensor([554.9006]), tensor([-55.4884]))\n"
     ]
    },
    {
     "data": {
      "text/plain": "[tensor([[-2.9870e+02],\n         [-2.6852e+02],\n         [-8.5453e+02],\n         [ 1.2213e+02],\n         [-3.4268e+02],\n         [ 1.7225e+02],\n         [-3.2928e+02],\n         [ 6.8646e+02],\n         [ 1.8093e+02],\n         [-3.7456e+01],\n         [-3.2173e+02],\n         [-9.8644e+02],\n         [ 4.9718e+02],\n         [-9.8746e+02],\n         [-5.7823e+02],\n         [ 5.5978e+02],\n         [-6.0242e+02],\n         [-1.8099e+02],\n         [ 1.3577e+02],\n         [-1.1348e+01],\n         [-7.2478e+02],\n         [ 4.2333e+02],\n         [-6.1160e+02],\n         [-6.9049e+02],\n         [-2.7968e+01],\n         [-7.8910e+02],\n         [ 7.5411e+02],\n         [-7.4348e+02],\n         [ 9.4429e+02],\n         [-3.0912e+01],\n         [ 7.1739e+02],\n         [-8.4739e+02],\n         [ 4.3911e+02],\n         [-9.3070e+02],\n         [-3.4500e+01],\n         [-7.3460e+02],\n         [-8.1703e+02],\n         [-1.1135e+02],\n         [-2.4444e+02],\n         [-2.8224e+02],\n         [ 5.2782e+02],\n         [-1.0595e+02],\n         [ 3.3221e+02],\n         [ 8.0558e+02],\n         [ 3.9819e+02],\n         [ 4.6498e+01],\n         [-2.0077e+02],\n         [-7.6904e+02],\n         [ 7.2554e+02],\n         [-9.9557e+02],\n         [-8.8282e+02],\n         [-2.6493e+01],\n         [-4.2040e+02],\n         [ 4.7782e+02],\n         [-3.7603e+02],\n         [-2.0587e+02],\n         [ 8.1741e+02],\n         [ 6.1858e+01],\n         [-7.5472e+02],\n         [ 5.2355e+02],\n         [ 7.7898e+02],\n         [-4.2484e+02],\n         [-2.5470e+02],\n         [ 3.4681e+02],\n         [ 4.4424e+02],\n         [ 6.7591e+02],\n         [-2.4093e+02],\n         [-6.8662e+02],\n         [ 1.5153e+02],\n         [ 1.1478e+02],\n         [ 9.8502e+02],\n         [ 7.6814e+02],\n         [-9.0806e+02],\n         [-1.4512e+02],\n         [-7.2918e+02],\n         [-3.1172e+01],\n         [ 3.4920e+02],\n         [-8.1850e+02],\n         [-8.2504e+02],\n         [ 5.3848e+01],\n         [-6.2425e+02],\n         [-3.2303e+02],\n         [-9.0326e-01],\n         [ 4.7850e+02],\n         [ 8.2685e+02],\n         [-7.0911e+02],\n         [-1.4125e+02],\n         [-7.9786e+02],\n         [ 2.5948e+02],\n         [ 4.3498e+02],\n         [-7.3328e+00],\n         [ 7.4019e+02],\n         [ 7.9609e+02],\n         [-3.1250e+02],\n         [ 5.9072e+02],\n         [ 6.2198e+02],\n         [ 1.6691e+02],\n         [-3.5417e+02],\n         [ 4.0507e+02],\n         [-8.4532e+02],\n         [ 5.3203e+02],\n         [-1.5703e+02],\n         [-3.9076e+02],\n         [-3.6904e+02],\n         [ 9.9976e+02],\n         [-9.6592e+02],\n         [-3.9485e+02],\n         [-6.2855e+01],\n         [-1.5235e+02],\n         [-2.0265e+02],\n         [-8.3490e+01],\n         [-8.6324e+02],\n         [ 5.8144e+01],\n         [ 6.2495e+02],\n         [-3.3082e+02],\n         [-4.1051e+01],\n         [-5.6012e+02],\n         [ 7.4241e+02],\n         [-6.1391e+02],\n         [ 3.6426e+01],\n         [ 8.9473e+02],\n         [-8.5497e+02],\n         [ 3.9218e+02],\n         [ 6.4408e+02],\n         [ 1.9023e+02],\n         [-2.4370e+02],\n         [ 1.1923e+01],\n         [ 8.7472e+01],\n         [ 9.2989e+02],\n         [-7.0417e+02],\n         [-7.2662e+02],\n         [-5.9869e+02],\n         [-7.4904e+02],\n         [-2.4706e+02],\n         [-2.3407e+02],\n         [-4.7133e+02],\n         [ 3.2556e+01],\n         [ 6.1475e+02],\n         [-4.5491e+02],\n         [-8.1412e+02],\n         [ 2.5937e+01],\n         [ 3.7829e+02],\n         [ 8.9091e+00],\n         [ 5.4206e+02],\n         [ 7.3230e+02],\n         [ 5.9772e+02],\n         [ 7.0400e+02],\n         [ 4.3870e+02],\n         [-7.6920e+02],\n         [-2.1524e+02],\n         [-4.0350e+02],\n         [ 8.4047e+02],\n         [ 8.3907e+02],\n         [-3.2812e+02],\n         [-5.0282e+02],\n         [-1.0384e+02],\n         [-3.1794e+02],\n         [-3.5547e+02],\n         [ 1.8412e+02],\n         [-1.1771e+02],\n         [-9.7204e+02],\n         [-2.5998e+02],\n         [ 2.5417e+02],\n         [-4.9015e+02],\n         [ 1.3031e+02],\n         [-2.8810e+02],\n         [ 5.9878e+02],\n         [-5.6932e+02],\n         [-2.2861e+02],\n         [-5.7358e+02],\n         [-3.1321e+02],\n         [ 6.6373e+02],\n         [ 6.4430e+02],\n         [ 7.4574e+02],\n         [-7.2459e+01],\n         [-8.6631e+02],\n         [-2.6781e+02],\n         [ 9.1519e+02],\n         [ 7.3584e+01],\n         [ 2.6313e+02],\n         [-9.5103e+01],\n         [ 4.8692e+01],\n         [-1.0514e+02],\n         [ 7.6539e+02],\n         [-7.1584e+02],\n         [-4.0419e+02],\n         [-8.9160e+02],\n         [-9.1200e+02],\n         [-9.0601e+02],\n         [-7.2847e+02],\n         [ 3.2481e+02],\n         [-1.6319e+02],\n         [-5.1737e+02],\n         [-5.8229e+02],\n         [ 6.2721e+02],\n         [-3.2773e+02],\n         [ 3.3825e+02],\n         [ 2.9590e+02],\n         [ 5.6705e+02],\n         [-4.1671e+02]]),\n tensor([[ 29.8689],\n         [ 26.8482],\n         [ 85.4599],\n         [-12.2104],\n         [ 34.2670],\n         [-17.2217],\n         [ 32.9294],\n         [-68.6444],\n         [-18.0930],\n         [  3.7391],\n         [ 32.1757],\n         [ 98.6443],\n         [-49.7170],\n         [ 98.7469],\n         [ 57.8228],\n         [-55.9774],\n         [ 60.2404],\n         [ 18.0826],\n         [-13.5582],\n         [  1.0521],\n         [ 72.4790],\n         [-42.3316],\n         [ 61.1613],\n         [ 69.0479],\n         [  2.8076],\n         [ 78.9094],\n         [-75.4109],\n         [ 74.3494],\n         [-94.4280],\n         [  3.0756],\n         [-71.7382],\n         [ 84.7383],\n         [-43.9127],\n         [ 93.0703],\n         [  3.4516],\n         [ 73.4590],\n         [ 81.7028],\n         [ 11.1265],\n         [ 24.4418],\n         [ 28.2223],\n         [-52.7815],\n         [ 10.5880],\n         [-33.2229],\n         [-80.5571],\n         [-39.8169],\n         [ -4.6371],\n         [ 20.0759],\n         [ 76.9052],\n         [-72.5536],\n         [ 99.5569],\n         [ 88.2820],\n         [  2.6862],\n         [ 42.0391],\n         [-47.7814],\n         [ 37.6005],\n         [ 20.5821],\n         [-81.7407],\n         [ -6.1992],\n         [ 75.4731],\n         [-52.3529],\n         [-77.8983],\n         [ 42.4820],\n         [ 25.4690],\n         [-34.6783],\n         [-44.4265],\n         [-67.5916],\n         [ 24.0961],\n         [ 68.6633],\n         [-15.1488],\n         [-11.4695],\n         [-98.5030],\n         [-76.8123],\n         [ 90.8059],\n         [ 14.5162],\n         [ 72.9184],\n         [  3.1095],\n         [-34.9218],\n         [ 81.8511],\n         [ 82.5047],\n         [ -5.3927],\n         [ 62.4264],\n         [ 32.3041],\n         [  0.9598],\n         [-47.8328],\n         [-82.6855],\n         [ 70.9101],\n         [ 14.1259],\n         [ 79.7863],\n         [-25.9445],\n         [-43.4962],\n         [  0.8516],\n         [-74.0198],\n         [-79.6102],\n         [ 31.2464],\n         [-59.0722],\n         [-62.1979],\n         [-16.6932],\n         [ 35.4188],\n         [-40.5063],\n         [ 84.5322],\n         [-53.2042],\n         [ 15.7032],\n         [ 39.0787],\n         [ 36.9014],\n         [-99.9751],\n         [ 96.5914],\n         [ 39.4975],\n         [  6.2859],\n         [ 15.2463],\n         [ 20.2696],\n         [  8.3606],\n         [ 86.3251],\n         [ -5.7972],\n         [-62.4946],\n         [ 33.0795],\n         [  4.1000],\n         [ 56.0132],\n         [-74.2400],\n         [ 61.3896],\n         [ -3.6688],\n         [-89.4728],\n         [ 85.4979],\n         [-39.2164],\n         [-64.4081],\n         [-19.0180],\n         [ 24.3656],\n         [ -1.2426],\n         [ -8.7526],\n         [-92.9894],\n         [ 70.4171],\n         [ 72.6607],\n         [ 59.8709],\n         [ 74.8805],\n         [ 24.7096],\n         [ 23.4109],\n         [ 47.1335],\n         [ -3.2276],\n         [-61.4767],\n         [ 45.4925],\n         [ 81.4116],\n         [ -2.5660],\n         [-37.8263],\n         [ -0.8356],\n         [-54.2044],\n         [-73.2301],\n         [-59.7707],\n         [-70.3997],\n         [-43.8716],\n         [ 76.9209],\n         [ 21.5282],\n         [ 40.3528],\n         [-84.0486],\n         [-83.9076],\n         [ 32.8149],\n         [ 50.2822],\n         [ 10.3824],\n         [ 31.7922],\n         [ 35.5457],\n         [-18.4005],\n         [ 11.7628],\n         [ 97.2028],\n         [ 26.0004],\n         [-25.4155],\n         [ 49.0149],\n         [-13.0385],\n         [ 28.8067],\n         [-59.8768],\n         [ 56.9309],\n         [ 22.8637],\n         [ 57.3593],\n         [ 31.3182],\n         [-66.3743],\n         [-64.4306],\n         [-74.5752],\n         [  7.2431],\n         [ 86.6303],\n         [ 26.7786],\n         [-91.5230],\n         [ -7.3716],\n         [-26.3157],\n         [  9.5182],\n         [ -4.8898],\n         [ 10.5044],\n         [-76.5406],\n         [ 71.5833],\n         [ 40.4212],\n         [ 89.1590],\n         [ 91.2011],\n         [ 90.6041],\n         [ 72.8466],\n         [-32.4840],\n         [ 16.3175],\n         [ 51.7389],\n         [ 58.2278],\n         [-62.7220],\n         [ 32.7756],\n         [-33.8274],\n         [-29.5882],\n         [-56.7028],\n         [ 41.6727]])]"
     },
     "execution_count": 33,
     "metadata": {},
     "output_type": "execute_result"
    }
   ],
   "source": [
    "from torch.utils.data import Dataset, DataLoader\n",
    "\n",
    "# concatenate data\n",
    "class MyDataset(Dataset):\n",
    "\n",
    "    def __init__(self, real, noise):\n",
    "        self.real = real\n",
    "        self.noise = noise\n",
    "\n",
    "    def __getitem__(self, idx):\n",
    "        if idx < len(self.real):\n",
    "            return self.real[idx]\n",
    "        else:\n",
    "            return self.noise[idx - len(self.real)]\n",
    "\n",
    "    def __len__(self):\n",
    "        return len(self.real) + len(self.noise)\n",
    "\n",
    "dataset = MyDataset(real, noise)\n",
    "print(dataset[0])\n",
    "\n",
    "loader = DataLoader(dataset, batch_size=batch_size, shuffle=True)\n",
    "\n",
    "test = iter(loader)\n",
    "next(test)"
   ],
   "metadata": {
    "collapsed": false,
    "pycharm": {
     "name": "#%%\n"
    }
   }
  },
  {
   "cell_type": "code",
   "execution_count": 34,
   "outputs": [],
   "source": [
    "gen = Generator(hid_1=256)\n",
    "disc = Discriminator(hid_1=256)"
   ],
   "metadata": {
    "collapsed": false,
    "pycharm": {
     "name": "#%%\n"
    }
   }
  },
  {
   "cell_type": "markdown",
   "source": [
    "#### Optimizers"
   ],
   "metadata": {
    "collapsed": false,
    "pycharm": {
     "name": "#%% md\n"
    }
   }
  },
  {
   "cell_type": "code",
   "execution_count": 35,
   "outputs": [],
   "source": [
    "from torch.optim import Adam\n",
    "opt_gen = Adam(gen.parameters(), lr=0.0001)\n",
    "opt_disc = Adam(disc.parameters(), lr=0.0001)"
   ],
   "metadata": {
    "collapsed": false,
    "pycharm": {
     "name": "#%%\n"
    }
   }
  },
  {
   "cell_type": "markdown",
   "source": [
    "#### learning"
   ],
   "metadata": {
    "collapsed": false,
    "pycharm": {
     "name": "#%% md\n"
    }
   }
  },
  {
   "cell_type": "code",
   "execution_count": 36,
   "outputs": [
    {
     "name": "stdout",
     "output_type": "stream",
     "text": [
      "Epoch 0, Loss D: 0.6005, Loss G: 0.7245\n",
      "Epoch 1, Loss D: 0.5278, Loss G: 0.7115\n",
      "Epoch 2, Loss D: 0.4402, Loss G: 0.6900\n",
      "Epoch 3, Loss D: 0.3916, Loss G: 0.6671\n",
      "Epoch 4, Loss D: 0.3958, Loss G: 0.6507\n",
      "Epoch 5, Loss D: 0.3749, Loss G: 0.6257\n",
      "Epoch 6, Loss D: 0.3563, Loss G: 0.6107\n",
      "Epoch 7, Loss D: 0.3261, Loss G: 0.5695\n",
      "Epoch 8, Loss D: 0.3243, Loss G: 0.5593\n",
      "Epoch 9, Loss D: 0.3202, Loss G: 0.5135\n",
      "Epoch 10, Loss D: 0.2818, Loss G: 0.4633\n",
      "Epoch 11, Loss D: 0.2749, Loss G: 0.4467\n",
      "Epoch 12, Loss D: 0.2228, Loss G: 0.3736\n",
      "Epoch 13, Loss D: 0.2243, Loss G: 0.3500\n",
      "Epoch 14, Loss D: 0.1890, Loss G: 0.3081\n",
      "Epoch 15, Loss D: 0.1803, Loss G: 0.2908\n",
      "Epoch 16, Loss D: 0.1696, Loss G: 0.2646\n",
      "Epoch 17, Loss D: 0.1675, Loss G: 0.2337\n",
      "Epoch 18, Loss D: 0.1477, Loss G: 0.2050\n",
      "Epoch 19, Loss D: 0.1248, Loss G: 0.1855\n"
     ]
    }
   ],
   "source": [
    "# Оптимизаторы и критерии\n",
    "from torch import ones_like, zeros_like\n",
    "\n",
    "criterion = nn.BCELoss()\n",
    "\n",
    "disc_losses = []\n",
    "gen_losses = []\n",
    "\n",
    "epochs = 20\n",
    "\n",
    "for epoch in range(epochs):\n",
    "    loss_disc, loss_gen = 0.0, 0.0\n",
    "    for i, (x_real, y_real) in enumerate(loader):\n",
    "\n",
    "        # fakes\n",
    "        x_fake, y_fake = gen(x_real)\n",
    "\n",
    "        # combine\n",
    "        x_combined = cat([x_real, x_fake], dim=0)\n",
    "        y_combined = cat([y_real, y_fake], dim=0)\n",
    "\n",
    "        disc_out = disc(x_combined)\n",
    "        loss_disc = criterion(disc_out, ones_like(disc_out))\n",
    "        disc_losses.append(loss_disc.detach().item())\n",
    "\n",
    "        loss_disc.backward()\n",
    "        opt_disc.step()\n",
    "\n",
    "        # Обучение Генератора\n",
    "        x_pred, y_pred = gen(x_real)\n",
    "        disc_fake = disc(cat([x_pred, y_pred], dim=0)).unsqueeze(1)\n",
    "\n",
    "        loss_gen = criterion(disc_fake, ones_like(disc_fake))\n",
    "\n",
    "        gen_losses.append(loss_gen.detach().item())\n",
    "        loss_gen.backward()\n",
    "        opt_gen.step()\n",
    "\n",
    "    print(f\"Epoch {epoch}, Loss D: {loss_disc:.4f}, Loss G: {loss_gen:.4f}\")"
   ],
   "metadata": {
    "collapsed": false,
    "pycharm": {
     "name": "#%%\n"
    }
   }
  },
  {
   "cell_type": "code",
   "execution_count": 40,
   "outputs": [
    {
     "name": "stdout",
     "output_type": "stream",
     "text": [
      "[0.7519076466560364, 0.7169709801673889, 0.6911531090736389, 0.6643510460853577, 0.6461107730865479, 0.6196040511131287, 0.6005129814147949, 0.5896033644676208, 0.5769262909889221, 0.5600796341896057, 0.5406500101089478, 0.5326517224311829, 0.5259687304496765, 0.5277714729309082, 0.5092734694480896, 0.4993377923965454, 0.4860425293445587, 0.4818013310432434, 0.47872257232666016, 0.45707592368125916, 0.44021689891815186, 0.4531725347042084, 0.4434346854686737, 0.442931205034256, 0.43525177240371704, 0.4265764653682709, 0.43536341190338135, 0.39161568880081177, 0.41333115100860596, 0.3959178030490875, 0.40386977791786194, 0.4095771014690399, 0.4047389328479767, 0.39370521903038025, 0.3958161473274231, 0.38460808992385864, 0.3756113052368164, 0.3814893960952759, 0.38316628336906433, 0.3673108220100403, 0.3710229992866516, 0.374878466129303, 0.3543177545070648, 0.3675509989261627, 0.34426039457321167, 0.35982292890548706, 0.3491230309009552, 0.35301825404167175, 0.35625144839286804, 0.33971282839775085, 0.3407804071903229, 0.33038094639778137, 0.32757362723350525, 0.3440936207771301, 0.3273307681083679, 0.3260641396045685, 0.31699877977371216, 0.3194535970687866, 0.33019545674324036, 0.3003862798213959, 0.30498427152633667, 0.3104091286659241, 0.32433265447616577, 0.3098737299442291, 0.2949540317058563, 0.29508838057518005, 0.28873878717422485, 0.28459376096725464, 0.28553181886672974, 0.3202183246612549, 0.27328577637672424, 0.2918727993965149, 0.27457308769226074, 0.28286924958229065, 0.2644225060939789, 0.2683763802051544, 0.2818002998828888, 0.2593832314014435, 0.2665598690509796, 0.25737956166267395, 0.254597008228302, 0.2551416754722595, 0.24608083069324493, 0.2748732268810272, 0.24673643708229065, 0.22832341492176056, 0.24492065608501434, 0.24597318470478058, 0.25548815727233887, 0.2296154797077179, 0.22276423871517181, 0.22661864757537842, 0.24480105936527252, 0.21820342540740967, 0.2219546139240265, 0.21708230674266815, 0.21441690623760223, 0.22426974773406982, 0.21402326226234436, 0.21704065799713135, 0.21713799238204956, 0.21349948644638062, 0.20401741564273834, 0.19363221526145935, 0.1889597773551941, 0.19901393353939056, 0.19312416017055511, 0.20438656210899353, 0.1959294080734253, 0.1874818354845047, 0.19158051908016205, 0.18027210235595703, 0.17942020297050476, 0.17847472429275513, 0.1873401701450348, 0.17708885669708252, 0.20534329116344452, 0.1631702482700348, 0.16955262422561646, 0.1804303675889969, 0.166344553232193, 0.1790343075990677, 0.16812892258167267, 0.16194254159927368, 0.15634052455425262, 0.16749770939350128, 0.1613726168870926, 0.1572432518005371, 0.15266233682632446, 0.14685370028018951, 0.16363409161567688, 0.16469712555408478, 0.14771299064159393, 0.1535167545080185, 0.13885809481143951, 0.14183580875396729, 0.15166319906711578, 0.15081873536109924, 0.14944575726985931, 0.1248277947306633]\n"
     ]
    },
    {
     "data": {
      "text/plain": "<Figure size 1000x500 with 1 Axes>",
      "image/png": "[encoded data removed]"
     },
     "metadata": {},
     "output_type": "display_data"
    }
   ],
   "source": [
    "plt.figure(figsize=(10, 5))\n",
    "print(disc_losses)\n",
    "plt.plot(range(len(disc_losses)), disc_losses, label='disc loss')\n",
    "plt.plot(range(len(gen_losses)), gen_losses, label='gen loss')\n",
    "plt.show()"
   ],
   "metadata": {
    "collapsed": false,
    "pycharm": {
     "name": "#%%\n"
    }
   }
  },
  {
   "cell_type": "code",
   "execution_count": null,
   "outputs": [],
   "source": [],
   "metadata": {
    "collapsed": false,
    "pycharm": {
     "name": "#%%\n"
    }
   }
  }
 ],
 "metadata": {
  "kernelspec": {
   "display_name": "Python 3",
   "language": "python",
   "name": "python3"
  },
  "language_info": {
   "codemirror_mode": {
    "name": "ipython",
    "version": 2
   },
   "file_extension": ".py",
   "mimetype": "text/x-python",
   "name": "python",
   "nbconvert_exporter": "python",
   "pygments_lexer": "ipython2",
   "version": "2.7.6"
  }
 },
 "nbformat": 4,
 "nbformat_minor": 0
}