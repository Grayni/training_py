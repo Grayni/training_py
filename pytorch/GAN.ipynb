{
 "cells": [
  {
   "cell_type": "markdown",
   "metadata": {
    "collapsed": true,
    "pycharm": {
     "name": "#%% md\n"
    }
   },
   "source": [
    "#### formula"
   ]
  },
  {
   "cell_type": "code",
   "execution_count": 12,
   "outputs": [],
   "source": [
    "from torch import sin, randn_like\n",
    "\n",
    "def real_formula(x):\n",
    "    return sin(x) / x - x / 10\n",
    "\n",
    "def noise_formula(x, form=real_formula, noise_scale=0.01):\n",
    "    y = form(x)\n",
    "    noise = randn_like(y) * noise_scale\n",
    "    return y + noise"
   ],
   "metadata": {
    "collapsed": false,
    "pycharm": {
     "name": "#%%\n"
    }
   }
  },
  {
   "cell_type": "markdown",
   "source": [
    "#### chart"
   ],
   "metadata": {
    "collapsed": false,
    "pycharm": {
     "name": "#%% md\n"
    }
   }
  },
  {
   "cell_type": "code",
   "execution_count": 13,
   "outputs": [
    {
     "data": {
      "text/plain": "<Figure size 640x480 with 1 Axes>",
      "image/png": "[encoded data removed]"
     },
     "metadata": {},
     "output_type": "display_data"
    }
   ],
   "source": [
    "import matplotlib.pyplot as plt\n",
    "import numpy as np\n",
    "from torch import arange as trange\n",
    "\n",
    "x_negative = trange(-50, 0)\n",
    "x_positive = trange(1, 50)\n",
    "\n",
    "def y_calc(x):\n",
    "    return [real_formula(value) for value in x]\n",
    "\n",
    "y_1 = y_calc(x_negative)\n",
    "y_2 = y_calc(x_positive)\n",
    "\n",
    "plt.scatter(0, 1, color='white', marker='o', edgecolors='black', s=40)\n",
    "plt.plot(x_negative, y_1, c='r')\n",
    "plt.plot(x_positive, y_2, c='r')\n",
    "plt.plot(np.zeros(11), np.arange(-5, 6), '--')\n",
    "plt.title('sin(x)/x - x/10')\n",
    "plt.show()"
   ],
   "metadata": {
    "collapsed": false,
    "pycharm": {
     "name": "#%%\n"
    }
   }
  },
  {
   "cell_type": "markdown",
   "source": [
    "#### datasets"
   ],
   "metadata": {
    "collapsed": false,
    "pycharm": {
     "name": "#%% md\n"
    }
   }
  },
  {
   "cell_type": "code",
   "execution_count": 14,
   "outputs": [],
   "source": [
    "batch_size = 200"
   ],
   "metadata": {
    "collapsed": false,
    "pycharm": {
     "name": "#%%\n"
    }
   }
  },
  {
   "cell_type": "code",
   "execution_count": 15,
   "outputs": [],
   "source": [
    "from torch import FloatTensor, cat\n",
    "\n",
    "def generate_data(func, n_samples):\n",
    "    x = FloatTensor(n_samples).uniform_(-1000, 1000)\n",
    "    x = x[x != 0]\n",
    "\n",
    "    extra_samples = FloatTensor(n_samples - len(x)).uniform_(-1000000, 1000000)\n",
    "\n",
    "    x = cat([x, extra_samples])\n",
    "\n",
    "    y = func(x)[:, None]\n",
    "    x = x[:, None]\n",
    "\n",
    "    points = [(x_i, y_i) for x_i, y_i in zip(x, y)]\n",
    "\n",
    "    return points\n",
    "\n",
    "real = generate_data(real_formula, 1200)\n",
    "noise = generate_data(noise_formula, 100)"
   ],
   "metadata": {
    "collapsed": false,
    "pycharm": {
     "name": "#%%\n"
    }
   }
  },
  {
   "cell_type": "markdown",
   "source": [
    "#### Generator"
   ],
   "metadata": {
    "collapsed": false,
    "pycharm": {
     "name": "#%% md\n"
    }
   }
  },
  {
   "cell_type": "code",
   "execution_count": 16,
   "outputs": [],
   "source": [
    "import torch.nn as nn\n",
    "from torch import tensor\n",
    "\n",
    "class Generator(nn.Module):\n",
    "    def __init__(self, hid_1, in_=1, out_=2):\n",
    "        super().__init__()\n",
    "        hid_2 = int(hid_1 * 2)\n",
    "        hid_4 = int(hid_1 * 4)\n",
    "\n",
    "        fc1 = nn.Linear(in_, hid_1)\n",
    "        fc2 = nn.Linear(hid_1, hid_2)\n",
    "        fc3 = nn.Linear(hid_2, hid_4)\n",
    "        fc4 = nn.Linear(hid_4, out_)\n",
    "\n",
    "        relu = nn.ReLU()\n",
    "\n",
    "        self.model = nn.Sequential(\n",
    "            fc1, relu,\n",
    "            fc2, relu,\n",
    "            fc3, relu,\n",
    "            fc4\n",
    "        )\n",
    "\n",
    "    def forward(self, z):\n",
    "\n",
    "        point = self.model(z)\n",
    "\n",
    "        x = point[:, 0].clone().detach()\n",
    "        y = point[:, 1].clone().detach()\n",
    "\n",
    "        return x[:, None], y[:, None]"
   ],
   "metadata": {
    "collapsed": false,
    "pycharm": {
     "name": "#%%\n"
    }
   }
  },
  {
   "cell_type": "markdown",
   "source": [
    "#### Discriminator"
   ],
   "metadata": {
    "collapsed": false,
    "pycharm": {
     "name": "#%% md\n"
    }
   }
  },
  {
   "cell_type": "code",
   "execution_count": 17,
   "outputs": [],
   "source": [
    "class Discriminator(nn.Module):\n",
    "    def __init__(self, hid_1, in_=1, out_=1):\n",
    "        super().__init__()\n",
    "        hid_2 = int(hid_1/2)\n",
    "\n",
    "        fc1 = nn.Linear(in_, hid_1)\n",
    "        fc2 = nn.Linear(hid_1, hid_2)\n",
    "        fc3 = nn.Linear(hid_2, out_)\n",
    "\n",
    "        l_relu = nn.LeakyReLU(0.2, inplace=True)\n",
    "        sigmoid = nn.Sigmoid()\n",
    "\n",
    "        nn.init.uniform_(fc1.weight, -0.005, 0.005)\n",
    "        fc1.bias.data.zero_()\n",
    "\n",
    "        self.model = nn.Sequential(\n",
    "            fc1, l_relu,\n",
    "            fc2, l_relu,\n",
    "            fc3, sigmoid\n",
    "        )\n",
    "\n",
    "    def forward(self, x):\n",
    "        batch = x.size(0)\n",
    "        x = x.view(batch, -1)\n",
    "\n",
    "        return self.model(x)"
   ],
   "metadata": {
    "collapsed": false,
    "pycharm": {
     "name": "#%%\n"
    }
   }
  },
  {
   "cell_type": "markdown",
   "source": [
    "#### MyDataset"
   ],
   "metadata": {
    "collapsed": false,
    "pycharm": {
     "name": "#%% md\n"
    }
   }
  },
  {
   "cell_type": "code",
   "execution_count": 18,
   "outputs": [
    {
     "name": "stdout",
     "output_type": "stream",
     "text": [
      "(tensor([221.8212]), tensor([-22.1779]))\n"
     ]
    }
   ],
   "source": [
    "from torch.utils.data import Dataset, DataLoader\n",
    "\n",
    "# concatenate data\n",
    "class MyDataset(Dataset):\n",
    "\n",
    "    def __init__(self, real, noise):\n",
    "        self.real = real\n",
    "        self.noise = noise\n",
    "\n",
    "    def __getitem__(self, idx):\n",
    "        if idx < len(self.real):\n",
    "            return self.real[idx]\n",
    "        else:\n",
    "            return self.noise[idx - len(self.real)]\n",
    "\n",
    "    def __len__(self):\n",
    "        return len(self.real) + len(self.noise)\n",
    "\n",
    "dataset = MyDataset(real, noise)\n",
    "print(dataset[0])\n",
    "\n",
    "loader = DataLoader(dataset, batch_size=batch_size, shuffle=True)"
   ],
   "metadata": {
    "collapsed": false,
    "pycharm": {
     "name": "#%%\n"
    }
   }
  },
  {
   "cell_type": "code",
   "execution_count": 19,
   "outputs": [],
   "source": [
    "gen = Generator(hid_1=256)\n",
    "disc = Discriminator(hid_1=256)"
   ],
   "metadata": {
    "collapsed": false,
    "pycharm": {
     "name": "#%%\n"
    }
   }
  },
  {
   "cell_type": "markdown",
   "source": [
    "#### Optimizers"
   ],
   "metadata": {
    "collapsed": false,
    "pycharm": {
     "name": "#%% md\n"
    }
   }
  },
  {
   "cell_type": "code",
   "execution_count": 20,
   "outputs": [],
   "source": [
    "from torch.optim import Adam\n",
    "opt_gen = Adam(gen.parameters(), lr=0.0001)\n",
    "opt_disc = Adam(disc.parameters(), lr=0.0001)"
   ],
   "metadata": {
    "collapsed": false,
    "pycharm": {
     "name": "#%%\n"
    }
   }
  },
  {
   "cell_type": "markdown",
   "source": [
    "#### learning"
   ],
   "metadata": {
    "collapsed": false,
    "pycharm": {
     "name": "#%% md\n"
    }
   }
  },
  {
   "cell_type": "code",
   "execution_count": 21,
   "outputs": [
    {
     "name": "stdout",
     "output_type": "stream",
     "text": [
      "Epoch 0, Loss D: 0.5321, Loss G: 0.6724\n",
      "Epoch 1, Loss D: 0.4561, Loss G: 0.6641\n",
      "Epoch 2, Loss D: 0.4150, Loss G: 0.6545\n",
      "Epoch 3, Loss D: 0.4098, Loss G: 0.6466\n",
      "Epoch 4, Loss D: 0.3699, Loss G: 0.6328\n",
      "Epoch 5, Loss D: 0.3546, Loss G: 0.6146\n",
      "Epoch 6, Loss D: 0.3434, Loss G: 0.6003\n",
      "Epoch 7, Loss D: 0.3344, Loss G: 0.5818\n",
      "Epoch 8, Loss D: 0.3227, Loss G: 0.5558\n",
      "Epoch 9, Loss D: 0.3133, Loss G: 0.5313\n",
      "Epoch 10, Loss D: 0.3066, Loss G: 0.5068\n",
      "Epoch 11, Loss D: 0.3041, Loss G: 0.4882\n",
      "Epoch 12, Loss D: 0.2850, Loss G: 0.4454\n",
      "Epoch 13, Loss D: 0.2864, Loss G: 0.4562\n",
      "Epoch 14, Loss D: 0.2750, Loss G: 0.4176\n",
      "Epoch 15, Loss D: 0.2545, Loss G: 0.3737\n",
      "Epoch 16, Loss D: 0.2502, Loss G: 0.3592\n",
      "Epoch 17, Loss D: 0.2319, Loss G: 0.3232\n",
      "Epoch 18, Loss D: 0.2297, Loss G: 0.3060\n",
      "Epoch 19, Loss D: 0.2131, Loss G: 0.2731\n",
      "Epoch 20, Loss D: 0.2026, Loss G: 0.2598\n",
      "Epoch 21, Loss D: 0.1864, Loss G: 0.2453\n",
      "Epoch 22, Loss D: 0.1696, Loss G: 0.2136\n",
      "Epoch 23, Loss D: 0.1597, Loss G: 0.1965\n",
      "Epoch 24, Loss D: 0.1338, Loss G: 0.1562\n",
      "Epoch 25, Loss D: 0.1248, Loss G: 0.1550\n",
      "Epoch 26, Loss D: 0.1092, Loss G: 0.1296\n",
      "Epoch 27, Loss D: 0.1028, Loss G: 0.1256\n",
      "Epoch 28, Loss D: 0.0856, Loss G: 0.1015\n",
      "Epoch 29, Loss D: 0.0823, Loss G: 0.0966\n"
     ]
    }
   ],
   "source": [
    "# Оптимизаторы и критерии\n",
    "from torch import ones_like, zeros_like\n",
    "\n",
    "criterion = nn.BCELoss()\n",
    "\n",
    "disc_losses = []\n",
    "gen_losses = []\n",
    "\n",
    "epochs = 30\n",
    "\n",
    "for epoch in range(epochs):\n",
    "    loss_disc, loss_gen = 0.0, 0.0\n",
    "    for i, (x_real, y_real) in enumerate(loader):\n",
    "\n",
    "        # fakes\n",
    "        x_fake, y_fake = gen(x_real)\n",
    "\n",
    "        # combine\n",
    "        x_combined = cat([x_real, x_fake], dim=0)\n",
    "        y_combined = cat([y_real, y_fake], dim=0)\n",
    "\n",
    "        disc_out = disc(x_combined)\n",
    "        loss_disc = criterion(disc_out, ones_like(disc_out))\n",
    "        disc_losses.append(loss_disc.detach().item())\n",
    "\n",
    "        loss_disc.backward()\n",
    "        opt_disc.step()\n",
    "\n",
    "        # Обучение Генератора\n",
    "        x_pred, y_pred = gen(x_real)\n",
    "        disc_fake = disc(cat([x_pred, y_pred], dim=0)).unsqueeze(1)\n",
    "\n",
    "        loss_gen = criterion(disc_fake, ones_like(disc_fake))\n",
    "\n",
    "        gen_losses.append(loss_gen.detach().item())\n",
    "        loss_gen.backward()\n",
    "        opt_gen.step()\n",
    "\n",
    "    print(f\"Epoch {epoch}, Loss D: {loss_disc:.4f}, Loss G: {loss_gen:.4f}\")"
   ],
   "metadata": {
    "collapsed": false,
    "pycharm": {
     "name": "#%%\n"
    }
   }
  },
  {
   "cell_type": "code",
   "execution_count": 22,
   "outputs": [
    {
     "name": "stdout",
     "output_type": "stream",
     "text": [
      "[0.6290345788002014, 0.6081602573394775, 0.5852939486503601, 0.5690811276435852, 0.553041934967041, 0.5327067375183105, 0.5320953130722046, 0.5112450122833252, 0.5062524080276489, 0.49404415488243103, 0.47715693712234497, 0.4685109853744507, 0.4680088758468628, 0.4560908079147339, 0.453450083732605, 0.44220176339149475, 0.4416641294956207, 0.4301198720932007, 0.42680683732032776, 0.41983017325401306, 0.4150197207927704, 0.4074304699897766, 0.4059654176235199, 0.3890703618526459, 0.4077940881252289, 0.39147987961769104, 0.4019716680049896, 0.40975701808929443, 0.3822069466114044, 0.3796044588088989, 0.3797318935394287, 0.3854389488697052, 0.3752133250236511, 0.3763710856437683, 0.3698614239692688, 0.37562188506126404, 0.36346113681793213, 0.37008586525917053, 0.35711249709129333, 0.3529731035232544, 0.36162030696868896, 0.3546018898487091, 0.3641282320022583, 0.35703644156455994, 0.35072535276412964, 0.34298884868621826, 0.346754789352417, 0.342157781124115, 0.34342655539512634, 0.3422533869743347, 0.3454531729221344, 0.3429996073246002, 0.33888161182403564, 0.33956748247146606, 0.32871365547180176, 0.33439749479293823, 0.3352767825126648, 0.33629676699638367, 0.32414668798446655, 0.3248191177845001, 0.3347753882408142, 0.32569077610969543, 0.32272034883499146, 0.32539352774620056, 0.3196660876274109, 0.32482731342315674, 0.3250601887702942, 0.31797653436660767, 0.31572315096855164, 0.3132931590080261, 0.3134435713291168, 0.3175976276397705, 0.3178887963294983, 0.3110142946243286, 0.30715635418891907, 0.30916884541511536, 0.3065739870071411, 0.30828970670700073, 0.30794399976730347, 0.3038281500339508, 0.30170318484306335, 0.2990049123764038, 0.30191242694854736, 0.3040539026260376, 0.30046045780181885, 0.3026241362094879, 0.2932746708393097, 0.2918241024017334, 0.2947479784488678, 0.29256075620651245, 0.2849675118923187, 0.2889576852321625, 0.28939253091812134, 0.28008583188056946, 0.28815552592277527, 0.2827714681625366, 0.2863258421421051, 0.2864192724227905, 0.28117430210113525, 0.27608853578567505, 0.2731572985649109, 0.27842429280281067, 0.27722102403640747, 0.27259552478790283, 0.2749682068824768, 0.2735140323638916, 0.2733996510505676, 0.2709897756576538, 0.2630547285079956, 0.25806349515914917, 0.2613963186740875, 0.2545376121997833, 0.2537890374660492, 0.2522219717502594, 0.25829002261161804, 0.2557365894317627, 0.25441792607307434, 0.2557666599750519, 0.25024327635765076, 0.24719959497451782, 0.2445153445005417, 0.24625858664512634, 0.23988419771194458, 0.24164871871471405, 0.24132999777793884, 0.2318686544895172, 0.23539352416992188, 0.2357252687215805, 0.22515882551670074, 0.23078323900699615, 0.22827176749706268, 0.22400251030921936, 0.22972379624843597, 0.22485794126987457, 0.22247716784477234, 0.21418583393096924, 0.21450327336788177, 0.2111058384180069, 0.21264009177684784, 0.2131325900554657, 0.21695905923843384, 0.20747226476669312, 0.20437146723270416, 0.20049618184566498, 0.1896379441022873, 0.1945837140083313, 0.20259709656238556, 0.193690225481987, 0.19027480483055115, 0.19158504903316498, 0.18385173380374908, 0.18418918550014496, 0.18433578312397003, 0.18638406693935394, 0.18388575315475464, 0.1756446808576584, 0.17528265714645386, 0.17111219465732574, 0.1671970933675766, 0.1676519364118576, 0.16957144439220428, 0.16772453486919403, 0.15887272357940674, 0.15589869022369385, 0.15649858117103577, 0.15928764641284943, 0.15184803307056427, 0.15973269939422607, 0.15251749753952026, 0.1511242538690567, 0.14559334516525269, 0.14714783430099487, 0.13520599901676178, 0.13687478005886078, 0.1337631642818451, 0.1255330592393875, 0.13639645278453827, 0.13115479052066803, 0.12975427508354187, 0.13185425102710724, 0.12583445012569427, 0.12479260563850403, 0.12283111363649368, 0.11632383614778519, 0.11544782668352127, 0.11461619287729263, 0.11420564353466034, 0.11612021178007126, 0.10921315103769302, 0.11004645377397537, 0.10399157553911209, 0.10876777768135071, 0.09573599696159363, 0.09903369098901749, 0.10104801505804062, 0.10277792811393738, 0.09240148216485977, 0.09436025470495224, 0.09183671325445175, 0.09298388659954071, 0.08994798362255096, 0.086232990026474, 0.0855933204293251, 0.08163969963788986, 0.08125302940607071, 0.08328622579574585, 0.08132606744766235, 0.07821104675531387, 0.07025356590747833, 0.08227607607841492]\n"
     ]
    },
    {
     "data": {
      "text/plain": "<Figure size 1000x500 with 1 Axes>",
      "image/png": "[encoded data removed]"
     },
     "metadata": {},
     "output_type": "display_data"
    }
   ],
   "source": [
    "plt.figure(figsize=(10, 5))\n",
    "print(disc_losses)\n",
    "plt.plot(range(len(disc_losses)), disc_losses, label='disc loss')\n",
    "plt.plot(range(len(gen_losses)), gen_losses, label='gen loss')\n",
    "plt.legend()\n",
    "plt.show()"
   ],
   "metadata": {
    "collapsed": false,
    "pycharm": {
     "name": "#%%\n"
    }
   }
  },
  {
   "cell_type": "code",
   "execution_count": 22,
   "outputs": [],
   "source": [],
   "metadata": {
    "collapsed": false,
    "pycharm": {
     "name": "#%%\n"
    }
   }
  }
 ],
 "metadata": {
  "kernelspec": {
   "display_name": "Python 3",
   "language": "python",
   "name": "python3"
  },
  "language_info": {
   "codemirror_mode": {
    "name": "ipython",
    "version": 2
   },
   "file_extension": ".py",
   "mimetype": "text/x-python",
   "name": "python",
   "nbconvert_exporter": "python",
   "pygments_lexer": "ipython2",
   "version": "2.7.6"
  }
 },
 "nbformat": 4,
 "nbformat_minor": 0
}