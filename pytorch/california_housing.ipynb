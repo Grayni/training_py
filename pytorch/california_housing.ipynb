{
 "cells": [
  {
   "cell_type": "code",
   "execution_count": 107,
   "metadata": {
    "collapsed": true
   },
   "outputs": [],
   "source": [
    "from sklearn.datasets import fetch_california_housing\n",
    "from sklearn.model_selection import train_test_split\n",
    "from sklearn.preprocessing import StandardScaler\n",
    "from sklearn.metrics import r2_score\n",
    "import numpy as np\n",
    "import torch"
   ]
  },
  {
   "cell_type": "markdown",
   "source": [
    "#### Dataset"
   ],
   "metadata": {
    "collapsed": false,
    "pycharm": {
     "name": "#%% md\n"
    }
   }
  },
  {
   "cell_type": "code",
   "source": [
    "# Load dataset\n",
    "X, y = fetch_california_housing(download_if_missing=True, return_X_y=True)"
   ],
   "metadata": {
    "collapsed": false,
    "pycharm": {
     "name": "#%%\n"
    }
   },
   "execution_count": 108,
   "outputs": []
  },
  {
   "cell_type": "code",
   "execution_count": 109,
   "outputs": [
    {
     "name": "stdout",
     "output_type": "stream",
     "text": [
      "Sizes\n",
      "\n",
      "train: 14448\n",
      "validation:3096\n",
      "test:3096\n"
     ]
    }
   ],
   "source": [
    "# train, test, validation\n",
    "\n",
    "# train & dataset(validation, test)\n",
    "X_train, X_temp, y_train, y_temp = train_test_split(X, y, test_size=0.3, random_state=42)\n",
    "\n",
    "# validation & test\n",
    "X_val, X_test, y_val, y_test = train_test_split(X_temp, y_temp, test_size=0.5, random_state=42)\n",
    "\n",
    "print(f'Sizes\\n\\ntrain: {len(X_train)}\\nvalidation:{len(X_test)}\\ntest:{len(X_test)}')"
   ],
   "metadata": {
    "collapsed": false,
    "pycharm": {
     "name": "#%%\n"
    }
   }
  },
  {
   "cell_type": "markdown",
   "source": [
    "#### Standard"
   ],
   "metadata": {
    "collapsed": false,
    "pycharm": {
     "name": "#%% md\n"
    }
   }
  },
  {
   "cell_type": "code",
   "execution_count": 110,
   "outputs": [],
   "source": [
    "scaler = StandardScaler()\n",
    "\n",
    "X_train = scaler.fit_transform(X_train)\n",
    "X_val = scaler.transform(X_val)\n",
    "X_test = scaler.transform(X_test)"
   ],
   "metadata": {
    "collapsed": false,
    "pycharm": {
     "name": "#%%\n"
    }
   }
  },
  {
   "cell_type": "markdown",
   "source": [
    "#### Convert to Tensor"
   ],
   "metadata": {
    "collapsed": false,
    "pycharm": {
     "name": "#%% md\n"
    }
   }
  },
  {
   "cell_type": "code",
   "execution_count": 111,
   "outputs": [],
   "source": [
    "X_train_torch = torch.from_numpy(X_train).float()\n",
    "X_val_torch = torch.from_numpy(X_val).float()\n",
    "X_test_torch = torch.from_numpy(X_test).float()\n",
    "y_train_torch = torch.from_numpy(y_train).float()\n",
    "y_val_torch = torch.from_numpy(y_val).float()\n",
    "y_test_torch = torch.from_numpy(y_test).float()"
   ],
   "metadata": {
    "collapsed": false,
    "pycharm": {
     "name": "#%%\n"
    }
   }
  },
  {
   "cell_type": "code",
   "execution_count": 112,
   "outputs": [
    {
     "name": "stdout",
     "output_type": "stream",
     "text": [
      "Features: tensor([-0.4533,  0.9850, -0.6216, -0.3787,  0.0939,  0.1332, -0.8150,  0.7010])\n",
      "\n",
      "Label: 1.281000018119812\n"
     ]
    }
   ],
   "source": [
    "# transform data\n",
    "train_dataset = list(zip(X_train_torch, y_train_torch))\n",
    "val_dataset = list(zip(X_val_torch, y_val_torch))\n",
    "test_dataset = list(zip(X_test_torch, y_test_torch))\n",
    "\n",
    "features, label = train_dataset[10]\n",
    "\n",
    "print(f'Features: {features}\\n\\nLabel: {label}')"
   ],
   "metadata": {
    "collapsed": false,
    "pycharm": {
     "name": "#%%\n"
    }
   }
  },
  {
   "cell_type": "markdown",
   "source": [
    "#### DataLoader"
   ],
   "metadata": {
    "collapsed": false,
    "pycharm": {
     "name": "#%% md\n"
    }
   }
  },
  {
   "cell_type": "code",
   "execution_count": 113,
   "outputs": [
    {
     "name": "stdout",
     "output_type": "stream",
     "text": [
      "train\t torch.Size([128, 8])\n",
      "val\t\t torch.Size([32, 8])\n",
      "test\t torch.Size([32, 8])\n"
     ]
    }
   ],
   "source": [
    "# seed\n",
    "np.random.seed(42)\n",
    "torch.manual_seed(42)\n",
    "\n",
    "train_loader = torch.utils.data.DataLoader(train_dataset, batch_size=128, shuffle=True, num_workers=2)\n",
    "val_loader = torch.utils.data.DataLoader(val_dataset, batch_size=32, num_workers=1)\n",
    "test_loader = torch.utils.data.DataLoader(test_dataset, batch_size=32, num_workers=1)\n",
    "\n",
    "train_batch, _label = next(iter(train_loader))\n",
    "val_batch, _label = next(iter(val_loader))\n",
    "test_batch, _label = next(iter(test_loader))\n",
    "\n",
    "print('train\\t', train_batch.shape)\n",
    "print('val\\t\\t', val_batch.shape)\n",
    "print('test\\t', test_batch.shape)"
   ],
   "metadata": {
    "collapsed": false,
    "pycharm": {
     "name": "#%%\n"
    }
   }
  },
  {
   "cell_type": "markdown",
   "source": [
    "#### Perceptron"
   ],
   "metadata": {
    "collapsed": false,
    "pycharm": {
     "name": "#%% md\n"
    }
   }
  },
  {
   "cell_type": "code",
   "execution_count": 114,
   "outputs": [],
   "source": [
    "import torch.nn.functional as F\n",
    "from torch import nn\n",
    "\n",
    "class Perceptron(nn.Module):\n",
    "    def __init__(self, input_dim, output_dim, activation='relu'):\n",
    "        super().__init__()\n",
    "        self.fc = nn.Linear(input_dim, output_dim)\n",
    "        self.activation = activation\n",
    "\n",
    "    def reset_parameters(self):\n",
    "        self.fc.reset_parameters()\n",
    "\n",
    "    def forward(self, x):\n",
    "        x = self.fc(x)\n",
    "        if self.activation == 'relu':\n",
    "            x = F.relu(x)\n",
    "        if self.activation == 'sigmoid':\n",
    "            x = F.sigmoid(x)\n",
    "\n",
    "        return x\n",
    "\n",
    "class FeedForward(nn.Module):\n",
    "    def __init__(self, input_dim, hidden_dim):\n",
    "        super().__init__()\n",
    "        self.fc1 = Perceptron(input_dim, hidden_dim)\n",
    "        self.bn1 = nn.BatchNorm1d(hidden_dim)\n",
    "        self.dp1 = nn.Dropout(0.25)\n",
    "        self.lay2 = 16\n",
    "        self.fc2 = Perceptron(hidden_dim, self.lay2)\n",
    "        self.bn2 = nn.BatchNorm1d(self.lay2)\n",
    "        self.dp2 = nn.Dropout(0.25)\n",
    "        self.fc3 = Perceptron(self.lay2, 1)\n",
    "\n",
    "    def reset_parameters(self):\n",
    "        self.fc1.reset_parameters()\n",
    "        self.fc2.reset_parameters()\n",
    "        self.fc3.reset_parameters()\n",
    "\n",
    "    def forward(self, x):\n",
    "        x = self.fc1(x)\n",
    "        x = self.bn1(x)\n",
    "        x = self.dp1(x)\n",
    "\n",
    "        x = self.fc2(x)\n",
    "        x = self.bn2(x)\n",
    "        x = self.dp2(x)\n",
    "\n",
    "        x = self.fc3(x)\n",
    "        return x"
   ],
   "metadata": {
    "collapsed": false,
    "pycharm": {
     "name": "#%%\n"
    }
   }
  },
  {
   "cell_type": "code",
   "execution_count": 115,
   "outputs": [],
   "source": [
    "def train_model(epochs, optimizer):\n",
    "    # clear weights\n",
    "    price.reset_parameters()\n",
    "\n",
    "    num_epochs = 20\n",
    "\n",
    "    for epoch in range(num_epochs):\n",
    "        running_loss, running_items = 0.0, 0.0\n",
    "        val_loss, val_items, val_r2 = 0.0, 0.0, 0.0\n",
    "\n",
    "        for i, data in enumerate(train_loader):\n",
    "            inputs, labels = data\n",
    "            labels = labels.view(-1, 1)\n",
    "\n",
    "            inputs = inputs.to('cuda')\n",
    "            labels = labels.to('cuda')\n",
    "\n",
    "            optimizer.zero_grad()\n",
    "\n",
    "            # predictions\n",
    "            outputs = price(inputs)\n",
    "            loss = F.mse_loss(outputs, labels)\n",
    "            loss.backward()\n",
    "            optimizer.step()\n",
    "\n",
    "            running_loss += loss.item()\n",
    "            running_items += len(labels)\n",
    "\n",
    "        # R2\n",
    "        with torch.no_grad():\n",
    "            for val_data in val_loader:\n",
    "                val_inputs, val_labels = val_data\n",
    "                val_labels = val_labels.view(-1, 1)\n",
    "\n",
    "                val_inputs = val_inputs.to('cuda')\n",
    "                val_labels = val_labels.to('cuda')\n",
    "\n",
    "                val_outputs = price(val_inputs)\n",
    "                val_loss += F.mse_loss(val_outputs, val_labels).item()\n",
    "                val_items += len(val_labels)\n",
    "\n",
    "                val_labels_cpu = val_labels.cpu()\n",
    "                val_outputs_cpu = val_outputs.cpu()\n",
    "                val_r2 += r2_score(val_labels_cpu, val_outputs_cpu)\n",
    "\n",
    "        # mean R^2\n",
    "        val_r2 /= len(val_loader)\n",
    "\n",
    "\n",
    "        print(f'Epoch [{epoch + 1}/{num_epochs}]. '\n",
    "              f'Step [{len(train_loader)}/{len(train_loader)}]. '\n",
    "              f'Loss: {running_loss / running_items:.3f}. '\n",
    "              f'Val Loss: {val_loss / val_items:.3f}. '\n",
    "              f'R^2: {val_r2:.3f}')\n",
    "\n",
    "        # busy memory\n",
    "        # allocated_memory = torch.cuda.memory_allocated()\n",
    "        # cached_memory = torch.cuda.memory_reserved()\n",
    "\n",
    "        # print(f\"Allocated GPU memory: {allocated_memory} bytes\")\n",
    "        # print(f\"Cached GPU memory: {cached_memory} bytes\")\n",
    "\n",
    "    print('Training is finished!')\n",
    "\n",
    "    # clear GPU\n",
    "    torch.cuda.empty_cache()\n",
    "\n",
    "def new_model():\n",
    "    price = FeedForward(8, 32)  # inputs: 8 features, hidden_layer 20\n",
    "    price = price.to('cuda')\n",
    "\n",
    "    return price"
   ],
   "metadata": {
    "collapsed": false,
    "pycharm": {
     "name": "#%%\n"
    }
   }
  },
  {
   "cell_type": "code",
   "execution_count": 116,
   "outputs": [
    {
     "name": "stdout",
     "output_type": "stream",
     "text": [
      "Epoch [1/20]. Step [113/113]. Loss: 0.017. Val Loss: 0.035. R^2: 0.064\n",
      "Epoch [2/20]. Step [113/113]. Loss: 0.007. Val Loss: 0.028. R^2: 0.258\n",
      "Epoch [3/20]. Step [113/113]. Loss: 0.006. Val Loss: 0.024. R^2: 0.356\n",
      "Epoch [4/20]. Step [113/113]. Loss: 0.005. Val Loss: 0.022. R^2: 0.421\n",
      "Epoch [5/20]. Step [113/113]. Loss: 0.005. Val Loss: 0.020. R^2: 0.461\n",
      "Epoch [6/20]. Step [113/113]. Loss: 0.005. Val Loss: 0.020. R^2: 0.473\n",
      "Epoch [7/20]. Step [113/113]. Loss: 0.005. Val Loss: 0.019. R^2: 0.504\n",
      "Epoch [8/20]. Step [113/113]. Loss: 0.004. Val Loss: 0.018. R^2: 0.529\n",
      "Epoch [9/20]. Step [113/113]. Loss: 0.004. Val Loss: 0.018. R^2: 0.528\n",
      "Epoch [10/20]. Step [113/113]. Loss: 0.004. Val Loss: 0.017. R^2: 0.544\n",
      "Epoch [11/20]. Step [113/113]. Loss: 0.004. Val Loss: 0.018. R^2: 0.535\n",
      "Epoch [12/20]. Step [113/113]. Loss: 0.004. Val Loss: 0.016. R^2: 0.561\n",
      "Epoch [13/20]. Step [113/113]. Loss: 0.004. Val Loss: 0.017. R^2: 0.557\n",
      "Epoch [14/20]. Step [113/113]. Loss: 0.004. Val Loss: 0.016. R^2: 0.561\n",
      "Epoch [15/20]. Step [113/113]. Loss: 0.004. Val Loss: 0.016. R^2: 0.581\n",
      "Epoch [16/20]. Step [113/113]. Loss: 0.004. Val Loss: 0.016. R^2: 0.565\n",
      "Epoch [17/20]. Step [113/113]. Loss: 0.004. Val Loss: 0.016. R^2: 0.576\n",
      "Epoch [18/20]. Step [113/113]. Loss: 0.004. Val Loss: 0.016. R^2: 0.567\n",
      "Epoch [19/20]. Step [113/113]. Loss: 0.004. Val Loss: 0.016. R^2: 0.576\n",
      "Epoch [20/20]. Step [113/113]. Loss: 0.004. Val Loss: 0.016. R^2: 0.587\n",
      "Training is finished!\n"
     ]
    }
   ],
   "source": [
    "# SGD\n",
    "price = new_model()\n",
    "train_model(20, torch.optim.SGD(price.parameters(), lr=0.01, weight_decay=0.01))"
   ],
   "metadata": {
    "collapsed": false,
    "pycharm": {
     "name": "#%%\n"
    }
   }
  },
  {
   "cell_type": "code",
   "execution_count": 117,
   "outputs": [
    {
     "name": "stdout",
     "output_type": "stream",
     "text": [
      "Epoch [1/20]. Step [113/113]. Loss: 0.010. Val Loss: 0.022. R^2: 0.413\n",
      "Epoch [2/20]. Step [113/113]. Loss: 0.005. Val Loss: 0.018. R^2: 0.507\n",
      "Epoch [3/20]. Step [113/113]. Loss: 0.004. Val Loss: 0.018. R^2: 0.535\n",
      "Epoch [4/20]. Step [113/113]. Loss: 0.004. Val Loss: 0.017. R^2: 0.553\n",
      "Epoch [5/20]. Step [113/113]. Loss: 0.004. Val Loss: 0.017. R^2: 0.537\n",
      "Epoch [6/20]. Step [113/113]. Loss: 0.004. Val Loss: 0.016. R^2: 0.570\n",
      "Epoch [7/20]. Step [113/113]. Loss: 0.004. Val Loss: 0.016. R^2: 0.566\n",
      "Epoch [8/20]. Step [113/113]. Loss: 0.004. Val Loss: 0.016. R^2: 0.579\n",
      "Epoch [9/20]. Step [113/113]. Loss: 0.004. Val Loss: 0.015. R^2: 0.584\n",
      "Epoch [10/20]. Step [113/113]. Loss: 0.004. Val Loss: 0.016. R^2: 0.571\n",
      "Epoch [11/20]. Step [113/113]. Loss: 0.004. Val Loss: 0.016. R^2: 0.589\n",
      "Epoch [12/20]. Step [113/113]. Loss: 0.004. Val Loss: 0.016. R^2: 0.575\n",
      "Epoch [13/20]. Step [113/113]. Loss: 0.004. Val Loss: 0.016. R^2: 0.570\n",
      "Epoch [14/20]. Step [113/113]. Loss: 0.004. Val Loss: 0.015. R^2: 0.586\n",
      "Epoch [15/20]. Step [113/113]. Loss: 0.004. Val Loss: 0.016. R^2: 0.596\n",
      "Epoch [16/20]. Step [113/113]. Loss: 0.004. Val Loss: 0.016. R^2: 0.573\n",
      "Epoch [17/20]. Step [113/113]. Loss: 0.004. Val Loss: 0.015. R^2: 0.587\n",
      "Epoch [18/20]. Step [113/113]. Loss: 0.004. Val Loss: 0.016. R^2: 0.571\n",
      "Epoch [19/20]. Step [113/113]. Loss: 0.004. Val Loss: 0.015. R^2: 0.604\n",
      "Epoch [20/20]. Step [113/113]. Loss: 0.004. Val Loss: 0.016. R^2: 0.588\n",
      "Training is finished!\n"
     ]
    }
   ],
   "source": [
    "# Adam\n",
    "price = FeedForward(8, 32)  # inputs: 8 features, hidden_layer 20\n",
    "price = price.to('cuda')\n",
    "train_model(20, torch.optim.Adam(price.parameters(), lr=0.01, weight_decay=0.01))"
   ],
   "metadata": {
    "collapsed": false,
    "pycharm": {
     "name": "#%%\n"
    }
   }
  },
  {
   "cell_type": "code",
   "execution_count": 118,
   "outputs": [
    {
     "name": "stdout",
     "output_type": "stream",
     "text": [
      "Epoch [1/20]. Step [113/113]. Loss: 0.007. Val Loss: 0.021. R^2: 0.445\n",
      "Epoch [2/20]. Step [113/113]. Loss: 0.004. Val Loss: 0.018. R^2: 0.499\n",
      "Epoch [3/20]. Step [113/113]. Loss: 0.004. Val Loss: 0.018. R^2: 0.534\n",
      "Epoch [4/20]. Step [113/113]. Loss: 0.004. Val Loss: 0.017. R^2: 0.532\n",
      "Epoch [5/20]. Step [113/113]. Loss: 0.004. Val Loss: 0.016. R^2: 0.557\n",
      "Epoch [6/20]. Step [113/113]. Loss: 0.004. Val Loss: 0.016. R^2: 0.562\n",
      "Epoch [7/20]. Step [113/113]. Loss: 0.004. Val Loss: 0.015. R^2: 0.591\n",
      "Epoch [8/20]. Step [113/113]. Loss: 0.004. Val Loss: 0.016. R^2: 0.566\n",
      "Epoch [9/20]. Step [113/113]. Loss: 0.004. Val Loss: 0.016. R^2: 0.548\n",
      "Epoch [10/20]. Step [113/113]. Loss: 0.004. Val Loss: 0.016. R^2: 0.578\n",
      "Epoch [11/20]. Step [113/113]. Loss: 0.004. Val Loss: 0.015. R^2: 0.585\n",
      "Epoch [12/20]. Step [113/113]. Loss: 0.004. Val Loss: 0.016. R^2: 0.578\n",
      "Epoch [13/20]. Step [113/113]. Loss: 0.004. Val Loss: 0.015. R^2: 0.601\n",
      "Epoch [14/20]. Step [113/113]. Loss: 0.004. Val Loss: 0.016. R^2: 0.574\n",
      "Epoch [15/20]. Step [113/113]. Loss: 0.004. Val Loss: 0.016. R^2: 0.560\n",
      "Epoch [16/20]. Step [113/113]. Loss: 0.004. Val Loss: 0.015. R^2: 0.582\n",
      "Epoch [17/20]. Step [113/113]. Loss: 0.004. Val Loss: 0.016. R^2: 0.593\n",
      "Epoch [18/20]. Step [113/113]. Loss: 0.004. Val Loss: 0.015. R^2: 0.596\n",
      "Epoch [19/20]. Step [113/113]. Loss: 0.004. Val Loss: 0.015. R^2: 0.608\n",
      "Epoch [20/20]. Step [113/113]. Loss: 0.004. Val Loss: 0.017. R^2: 0.540\n",
      "Training is finished!\n"
     ]
    }
   ],
   "source": [
    "# RMSprop\n",
    "price = FeedForward(8, 32)  # inputs: 8 features, hidden_layer 20\n",
    "price = price.to('cuda')\n",
    "train_model(20, torch.optim.RMSprop(price.parameters(), lr=0.01, weight_decay=0.01))"
   ],
   "metadata": {
    "collapsed": false,
    "pycharm": {
     "name": "#%%\n"
    }
   }
  },
  {
   "cell_type": "code",
   "execution_count": 119,
   "outputs": [
    {
     "name": "stdout",
     "output_type": "stream",
     "text": [
      "Test Loss: 0.397\n"
     ]
    }
   ],
   "source": [
    "def evaluate_model(model, data_loader):\n",
    "    model.eval()\n",
    "\n",
    "    total_loss = 0.0\n",
    "    total_items = 0.0\n",
    "    with torch.no_grad():\n",
    "        for data in data_loader:\n",
    "            inputs, labels = data\n",
    "            labels = labels.view(-1, 1)\n",
    "\n",
    "            inputs = inputs.to('cuda')\n",
    "            labels = labels.to('cuda')\n",
    "\n",
    "            outputs = model(inputs)\n",
    "            loss = F.mse_loss(outputs, labels, reduction='sum')\n",
    "            total_loss += loss.item()\n",
    "            total_items += len(labels)\n",
    "\n",
    "    mean_loss = total_loss / total_items\n",
    "    return mean_loss\n",
    "\n",
    "# Проверка модели на тестовых данных\n",
    "test_loss = evaluate_model(price, test_loader)\n",
    "print(f'Test Loss: {test_loss:.3f}')"
   ],
   "metadata": {
    "collapsed": false,
    "pycharm": {
     "name": "#%%\n"
    }
   }
  },
  {
   "cell_type": "markdown",
   "source": [
    "Conclusion: Adam best"
   ],
   "metadata": {
    "collapsed": false,
    "pycharm": {
     "name": "#%% md\n"
    }
   }
  },
  {
   "cell_type": "code",
   "execution_count": null,
   "outputs": [],
   "source": [],
   "metadata": {
    "collapsed": false,
    "pycharm": {
     "name": "#%%\n"
    }
   }
  }
 ],
 "metadata": {
  "kernelspec": {
   "display_name": "Python 3",
   "language": "python",
   "name": "python3"
  },
  "language_info": {
   "codemirror_mode": {
    "name": "ipython",
    "version": 2
   },
   "file_extension": ".py",
   "mimetype": "text/x-python",
   "name": "python",
   "nbconvert_exporter": "python",
   "pygments_lexer": "ipython2",
   "version": "2.7.6"
  }
 },
 "nbformat": 4,
 "nbformat_minor": 0
}