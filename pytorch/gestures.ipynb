{
 "cells": [
  {
   "cell_type": "code",
   "execution_count": 2,
   "metadata": {
    "collapsed": true
   },
   "outputs": [],
   "source": [
    "import torch\n",
    "import cv2"
   ]
  },
  {
   "cell_type": "code",
   "execution_count": 4,
   "outputs": [],
   "source": [
    "cap = cv2.VideoCapture(0)\n",
    "\n",
    "if not cap.isOpened():\n",
    "    print('camera error...')\n",
    "    exit()\n",
    "\n",
    "while True:\n",
    "    ret, frame = cap.read()\n",
    "\n",
    "    if not ret:\n",
    "        print('frame camera error...')\n",
    "        break\n",
    "\n",
    "    cv2.imshow('web-camera', frame)\n",
    "\n",
    "    if cv2.waitKey(1) & 0xFF == ord('q'):\n",
    "        break\n",
    "\n",
    "cap.release()\n",
    "cv2.destroyAllWindows()"
   ],
   "metadata": {
    "collapsed": false,
    "pycharm": {
     "name": "#%%\n"
    }
   }
  },
  {
   "cell_type": "code",
   "execution_count": 6,
   "outputs": [],
   "source": [
    "import shutil\n",
    "import os\n",
    "import zipfile\n",
    "\n",
    "from torch.utils.data import Dataset\n",
    "from torch.autograd import Variable\n",
    "import torchvision.transforms as transforms\n",
    "import torch.nn as nn\n",
    "import torch.nn.functional as F\n",
    "import torch.optim as optim\n",
    "import torch\n",
    "import numpy as np\n",
    "import cv2\n",
    "\n",
    "from typing import List\n",
    "import csv\n",
    "\n",
    "import matplotlib.pyplot as plt\n",
    "%matplotlib inline"
   ],
   "metadata": {
    "collapsed": false,
    "pycharm": {
     "name": "#%%\n"
    }
   }
  },
  {
   "cell_type": "code",
   "execution_count": 7,
   "outputs": [],
   "source": [
    "class SignLanguageMNIST(Dataset):\n",
    "    \"\"\"Sign Language classification dataset.\n",
    "\n",
    "    Each sample is 1 x 1 x 28 x 28, and each label is a scalar.\n",
    "    \"\"\"\n",
    "    @staticmethod\n",
    "    def get_label_mapping():\n",
    "        \"\"\"\n",
    "        Из латинского алфавита без буквы Z дополнительно исключается буква J.\n",
    "        \"\"\"\n",
    "        mapping = list(range(25))\n",
    "        mapping.pop(9)\n",
    "        return mapping\n",
    "\n",
    "    @staticmethod\n",
    "    def read_label_samples_from_csv(path: str):\n",
    "        \"\"\"\n",
    "        Assumes first column in CSV is the label and subsequent 28^2 values\n",
    "        are image pixel values 0-255.\n",
    "        \"\"\"\n",
    "        mapping = SignLanguageMNIST.get_label_mapping()\n",
    "        labels, samples = [], []\n",
    "        with open(path) as f:\n",
    "            _ = next(f)  # skip header\n",
    "            for line in csv.reader(f):\n",
    "                label = int(line[0])\n",
    "                labels.append(mapping.index(label))\n",
    "                samples.append(list(map(int, line[1:])))\n",
    "        return labels, samples\n",
    "\n",
    "    def __init__(self,\n",
    "            path: str=\"sign_mnist_train.csv\",\n",
    "            mean: List[float]=[0.485],\n",
    "            std: List[float]=[0.229]):\n",
    "        \"\"\"\n",
    "        Args:\n",
    "            path: Path to `.csv` file containing `label`, `pixel0`, `pixel1`...\n",
    "        \"\"\"\n",
    "        labels, samples = SignLanguageMNIST.read_label_samples_from_csv(path)\n",
    "        self._samples = np.array(samples, dtype=np.uint8).reshape((-1, 28, 28, 1))\n",
    "        self._labels = np.array(labels, dtype=np.uint8).reshape((-1, 1))\n",
    "\n",
    "        self._mean = mean\n",
    "        self._std = std\n",
    "\n",
    "    def __len__(self):\n",
    "        return len(self._labels)\n",
    "\n",
    "    def __getitem__(self, idx):\n",
    "        transform = transforms.Compose([\n",
    "            transforms.ToPILImage(),\n",
    "            transforms.RandomResizedCrop(28, scale=(0.8, 1.2)),\n",
    "            transforms.ToTensor(),\n",
    "            transforms.Normalize(mean=self._mean, std=self._std)])\n",
    "\n",
    "        return {\n",
    "            'image': transform(self._samples[idx]).float(),\n",
    "            'label': torch.from_numpy(self._labels[idx]).float()\n",
    "        }"
   ],
   "metadata": {
    "collapsed": false,
    "pycharm": {
     "name": "#%%\n"
    }
   }
  },
  {
   "cell_type": "code",
   "execution_count": 10,
   "outputs": [],
   "source": [
    "def get_train_test_loaders(batch_size=32):\n",
    "    trainset = SignLanguageMNIST('data/gestures/sign-language-mnist/sign_mnist_train.csv')\n",
    "    trainloader = torch.utils.data.DataLoader(trainset, batch_size=batch_size, shuffle=True)\n",
    "\n",
    "    testset = SignLanguageMNIST('data/gestures/sign-language-mnist/sign_mnist_test.csv')\n",
    "    testloader = torch.utils.data.DataLoader(testset, batch_size=batch_size, shuffle=False)\n",
    "    return trainloader, testloader"
   ],
   "metadata": {
    "collapsed": false,
    "pycharm": {
     "name": "#%%\n"
    }
   }
  },
  {
   "cell_type": "code",
   "execution_count": 11,
   "outputs": [
    {
     "name": "stdout",
     "output_type": "stream",
     "text": [
      "{'image': tensor([[[[ 0.6049,  0.6392,  0.6734,  ...,  0.7248,  0.7077,  0.7077],\n",
      "          [ 0.6392,  0.6734,  0.6906,  ...,  0.7591,  0.7419,  0.7419],\n",
      "          [ 0.6392,  0.6734,  0.7077,  ...,  0.7933,  0.7762,  0.7591],\n",
      "          ...,\n",
      "          [ 0.9646,  1.0159,  1.0673,  ...,  1.1015,  1.1187,  1.1015],\n",
      "          [ 0.9474,  1.1015,  0.6049,  ...,  1.1358,  1.1187,  1.1187],\n",
      "          [ 1.1015,  0.8104, -0.3198,  ...,  1.1187,  1.1358,  1.1187]]],\n",
      "\n",
      "\n",
      "        [[[-0.2856, -0.1143, -0.0629,  ...,  0.6563,  0.6563,  0.6734],\n",
      "          [-0.2342, -0.1143, -0.0629,  ...,  0.6906,  0.6906,  0.6734],\n",
      "          [-0.2171, -0.1143, -0.0629,  ...,  0.7248,  0.7077,  0.7077],\n",
      "          ...,\n",
      "          [-1.0048, -0.7822, -0.6794,  ..., -0.7479, -0.7479, -0.7650],\n",
      "          [-0.9192, -0.6965, -0.6109,  ..., -0.7308, -0.7308, -0.7822],\n",
      "          [-0.8335, -0.7308, -0.6109,  ..., -0.7650, -0.7822, -0.7137]]]]), 'label': tensor([[23.],\n",
      "        [ 7.]])}\n"
     ]
    }
   ],
   "source": [
    "loader, _ = get_train_test_loaders(2)\n",
    "print(next(iter(loader)))"
   ],
   "metadata": {
    "collapsed": false,
    "pycharm": {
     "name": "#%%\n"
    }
   }
  },
  {
   "cell_type": "code",
   "execution_count": 12,
   "outputs": [
    {
     "name": "stdout",
     "output_type": "stream",
     "text": [
      "Жест соответствует букве 'B'\n"
     ]
    },
    {
     "data": {
      "text/plain": "<Figure size 640x480 with 1 Axes>",
      "image/png": "[encoded data removed]"
     },
     "metadata": {},
     "output_type": "display_data"
    }
   ],
   "source": [
    "index_to_letter = list('ABCDEFGHIKLMNOPQRSTUVWXY')\n",
    "data = next(iter(loader))\n",
    "labels = Variable(data['label'].long())\n",
    "index = labels[:, 0].tolist()[0]\n",
    "image = Variable(data['image'][0][0].float())\n",
    "plt.imshow(image)\n",
    "print(f\"Жест соответствует букве '{index_to_letter[index]}'\")"
   ],
   "metadata": {
    "collapsed": false,
    "pycharm": {
     "name": "#%%\n"
    }
   }
  },
  {
   "cell_type": "code",
   "execution_count": 13,
   "outputs": [],
   "source": [
    "class Net(nn.Module):\n",
    "    def __init__(self):\n",
    "        super(Net, self).__init__()\n",
    "        self.conv1 = nn.Conv2d(1, 6, 3)\n",
    "        self.pool = nn.MaxPool2d(2, 2)\n",
    "        self.conv2 = nn.Conv2d(6, 6, 3)\n",
    "        self.conv3 = nn.Conv2d(6, 16, 3)\n",
    "        self.fc1 = nn.Linear(16 * 5 * 5, 120)\n",
    "        self.fc2 = nn.Linear(120, 48)\n",
    "        self.fc3 = nn.Linear(48, 24)\n",
    "\n",
    "    def forward(self, x):\n",
    "        x = F.relu(self.conv1(x))\n",
    "        x = self.pool(F.relu(self.conv2(x)))\n",
    "        x = self.pool(F.relu(self.conv3(x)))\n",
    "        x = x.view(-1, 16 * 5 * 5)\n",
    "        x = F.relu(self.fc1(x))\n",
    "        x = F.relu(self.fc2(x))\n",
    "        x = self.fc3(x)\n",
    "        return x"
   ],
   "metadata": {
    "collapsed": false,
    "pycharm": {
     "name": "#%%\n"
    }
   }
  },
  {
   "cell_type": "code",
   "execution_count": 14,
   "outputs": [],
   "source": [
    "epoch_losses = []"
   ],
   "metadata": {
    "collapsed": false,
    "pycharm": {
     "name": "#%%\n"
    }
   }
  },
  {
   "cell_type": "code",
   "execution_count": 16,
   "outputs": [],
   "source": [
    "def train(net, criterion, optimizer, trainloader, epoch):\n",
    "    global epoch_losses\n",
    "    running_loss = 0.0\n",
    "    epoch_loss = []\n",
    "\n",
    "    for i, data in enumerate(trainloader, 0):\n",
    "        inputs = Variable(data['image'].float())\n",
    "        labels = Variable(data['label'].long())\n",
    "        optimizer.zero_grad()\n",
    "\n",
    "        # forward + backward + optimize\n",
    "        outputs = net(inputs)\n",
    "        loss = criterion(outputs, labels[:, 0])\n",
    "        loss.backward()\n",
    "        optimizer.step()\n",
    "\n",
    "        # print statistics\n",
    "        running_loss += loss.item()\n",
    "        epoch_loss.append(loss.item())\n",
    "        if i % 100 == 0:\n",
    "            print('[%d, %5d] loss: %.6f' % (epoch, i, running_loss / (i + 1)))\n",
    "    epoch_losses.append(epoch_loss)"
   ],
   "metadata": {
    "collapsed": false,
    "pycharm": {
     "name": "#%%\n"
    }
   }
  },
  {
   "cell_type": "code",
   "execution_count": 18,
   "outputs": [],
   "source": [
    "def train_model():\n",
    "    global epoch_losses\n",
    "    net = Net().float()\n",
    "    criterion = nn.CrossEntropyLoss()\n",
    "    optimizer = optim.SGD(net.parameters(), lr=0.01, momentum=0.9)\n",
    "    scheduler = optim.lr_scheduler.StepLR(optimizer, step_size=10, gamma=0.1)\n",
    "\n",
    "    trainloader, _ = get_train_test_loaders()\n",
    "    epoch_losses.clear()\n",
    "\n",
    "    for epoch in range(12):  # loop over the dataset multiple times\n",
    "        train(net, criterion, optimizer, trainloader, epoch)\n",
    "        scheduler.step()\n",
    "    torch.save(net.state_dict(), \"checkpoint.pth\")"
   ],
   "metadata": {
    "collapsed": false,
    "pycharm": {
     "name": "#%%\n"
    }
   }
  },
  {
   "cell_type": "code",
   "execution_count": 19,
   "outputs": [
    {
     "name": "stdout",
     "output_type": "stream",
     "text": [
      "[0,     0] loss: 3.167751\n",
      "[0,   100] loss: 3.175939\n",
      "[0,   200] loss: 3.111420\n",
      "[0,   300] loss: 2.895011\n",
      "[0,   400] loss: 2.660616\n",
      "[0,   500] loss: 2.390054\n",
      "[0,   600] loss: 2.139092\n",
      "[0,   700] loss: 1.922981\n",
      "[0,   800] loss: 1.745106\n",
      "[1,     0] loss: 0.327967\n",
      "[1,   100] loss: 0.386194\n",
      "[1,   200] loss: 0.341883\n",
      "[1,   300] loss: 0.314634\n",
      "[1,   400] loss: 0.305891\n",
      "[1,   500] loss: 0.283372\n",
      "[1,   600] loss: 0.276876\n",
      "[1,   700] loss: 0.262934\n",
      "[1,   800] loss: 0.247335\n",
      "[2,     0] loss: 0.071751\n",
      "[2,   100] loss: 0.146017\n",
      "[2,   200] loss: 0.153152\n",
      "[2,   300] loss: 0.141954\n",
      "[2,   400] loss: 0.138423\n",
      "[2,   500] loss: 0.138857\n",
      "[2,   600] loss: 0.134368\n",
      "[2,   700] loss: 0.131279\n",
      "[2,   800] loss: 0.127695\n",
      "[3,     0] loss: 0.152495\n",
      "[3,   100] loss: 0.090443\n",
      "[3,   200] loss: 0.085325\n",
      "[3,   300] loss: 0.077154\n",
      "[3,   400] loss: 0.078323\n",
      "[3,   500] loss: 0.072675\n",
      "[3,   600] loss: 0.075287\n",
      "[3,   700] loss: 0.075621\n",
      "[3,   800] loss: 0.075057\n",
      "[4,     0] loss: 0.136005\n",
      "[4,   100] loss: 0.091796\n",
      "[4,   200] loss: 0.072971\n",
      "[4,   300] loss: 0.067661\n",
      "[4,   400] loss: 0.068352\n",
      "[4,   500] loss: 0.064948\n",
      "[4,   600] loss: 0.061569\n",
      "[4,   700] loss: 0.059526\n",
      "[4,   800] loss: 0.056727\n",
      "[5,     0] loss: 0.002739\n",
      "[5,   100] loss: 0.070879\n",
      "[5,   200] loss: 0.070276\n",
      "[5,   300] loss: 0.063931\n",
      "[5,   400] loss: 0.063658\n",
      "[5,   500] loss: 0.062085\n",
      "[5,   600] loss: 0.058643\n",
      "[5,   700] loss: 0.059866\n",
      "[5,   800] loss: 0.056627\n",
      "[6,     0] loss: 0.069835\n",
      "[6,   100] loss: 0.047519\n",
      "[6,   200] loss: 0.045228\n",
      "[6,   300] loss: 0.043444\n",
      "[6,   400] loss: 0.042395\n",
      "[6,   500] loss: 0.040370\n",
      "[6,   600] loss: 0.038072\n",
      "[6,   700] loss: 0.038731\n",
      "[6,   800] loss: 0.039365\n",
      "[7,     0] loss: 0.003029\n",
      "[7,   100] loss: 0.058489\n",
      "[7,   200] loss: 0.048005\n",
      "[7,   300] loss: 0.043105\n",
      "[7,   400] loss: 0.042641\n",
      "[7,   500] loss: 0.044388\n",
      "[7,   600] loss: 0.042155\n",
      "[7,   700] loss: 0.039917\n",
      "[7,   800] loss: 0.038418\n",
      "[8,     0] loss: 0.001008\n",
      "[8,   100] loss: 0.033283\n",
      "[8,   200] loss: 0.030615\n",
      "[8,   300] loss: 0.028251\n",
      "[8,   400] loss: 0.030603\n",
      "[8,   500] loss: 0.032010\n",
      "[8,   600] loss: 0.032280\n",
      "[8,   700] loss: 0.031466\n",
      "[8,   800] loss: 0.029735\n",
      "[9,     0] loss: 0.002515\n",
      "[9,   100] loss: 0.042877\n",
      "[9,   200] loss: 0.042072\n",
      "[9,   300] loss: 0.037755\n",
      "[9,   400] loss: 0.035807\n",
      "[9,   500] loss: 0.033758\n",
      "[9,   600] loss: 0.031858\n",
      "[9,   700] loss: 0.031913\n",
      "[9,   800] loss: 0.031060\n",
      "[10,     0] loss: 0.000088\n",
      "[10,   100] loss: 0.015507\n",
      "[10,   200] loss: 0.012218\n",
      "[10,   300] loss: 0.011248\n",
      "[10,   400] loss: 0.010658\n",
      "[10,   500] loss: 0.011533\n",
      "[10,   600] loss: 0.010838\n",
      "[10,   700] loss: 0.010320\n",
      "[10,   800] loss: 0.009773\n",
      "[11,     0] loss: 0.000848\n",
      "[11,   100] loss: 0.006613\n",
      "[11,   200] loss: 0.005859\n",
      "[11,   300] loss: 0.006457\n",
      "[11,   400] loss: 0.006075\n",
      "[11,   500] loss: 0.006290\n",
      "[11,   600] loss: 0.006895\n",
      "[11,   700] loss: 0.007490\n",
      "[11,   800] loss: 0.007352\n"
     ]
    }
   ],
   "source": [
    "train_model()"
   ],
   "metadata": {
    "collapsed": false,
    "pycharm": {
     "name": "#%%\n"
    }
   }
  },
  {
   "cell_type": "code",
   "execution_count": 20,
   "outputs": [
    {
     "data": {
      "text/plain": "Text(0.5, 1.0, 'losses vs. No. of epochs')"
     },
     "execution_count": 20,
     "metadata": {},
     "output_type": "execute_result"
    },
    {
     "data": {
      "text/plain": "<Figure size 640x480 with 1 Axes>",
      "image/png": "[encoded data removed]"
     },
     "metadata": {},
     "output_type": "display_data"
    }
   ],
   "source": [
    "losses = [np.mean(loss) for loss in epoch_losses]\n",
    "plt.plot(losses, '-x')\n",
    "plt.xlabel('epoch')\n",
    "plt.ylabel('losses')\n",
    "plt.title('losses vs. No. of epochs')"
   ],
   "metadata": {
    "collapsed": false,
    "pycharm": {
     "name": "#%%\n"
    }
   }
  },
  {
   "cell_type": "code",
   "execution_count": 21,
   "outputs": [],
   "source": [
    "import onnx\n",
    "import onnxruntime as ort"
   ],
   "metadata": {
    "collapsed": false,
    "pycharm": {
     "name": "#%%\n"
    }
   }
  },
  {
   "cell_type": "code",
   "execution_count": 22,
   "outputs": [],
   "source": [
    "def evaluate(outputs: Variable, labels: Variable) -> float:\n",
    "    \"\"\"Evaluate neural network outputs against non-one-hotted labels.\"\"\"\n",
    "    Y = labels.numpy()\n",
    "    Yhat = np.argmax(outputs, axis=1)\n",
    "    return float(np.sum(Yhat == Y))\n",
    "\n",
    "\n",
    "def batch_evaluate(\n",
    "        net: Net,\n",
    "        dataloader: torch.utils.data.DataLoader) -> float:\n",
    "    \"\"\"Evaluate neural network in batches, if dataset is too large.\"\"\"\n",
    "    score = n = 0.0\n",
    "    for batch in dataloader:\n",
    "        n += len(batch['image'])\n",
    "        outputs = net(batch['image'])\n",
    "        if isinstance(outputs, torch.Tensor):\n",
    "            outputs = outputs.detach().numpy()\n",
    "        score += evaluate(outputs, batch['label'][:, 0])\n",
    "    return score / n\n",
    "\n",
    "\n",
    "def validate():\n",
    "    trainloader, testloader = get_train_test_loaders()\n",
    "    net = Net().float().eval()\n",
    "\n",
    "    pretrained_model = torch.load(\"checkpoint.pth\")\n",
    "    net.load_state_dict(pretrained_model)\n",
    "\n",
    "    print('=' * 10, 'PyTorch', '=' * 10)\n",
    "    train_acc = batch_evaluate(net, trainloader) * 100.\n",
    "    print('Training accuracy: %.1f' % train_acc)\n",
    "    test_acc = batch_evaluate(net, testloader) * 100.\n",
    "    print('Validation accuracy: %.1f' % test_acc)\n",
    "\n",
    "    trainloader, testloader = get_train_test_loaders(1)\n",
    "\n",
    "    # export to onnx\n",
    "    fname = \"signlanguage.onnx\"\n",
    "    dummy = torch.randn(1, 1, 28, 28)\n",
    "    torch.onnx.export(net, dummy, fname, input_names=['input'])\n",
    "\n",
    "    # check exported model\n",
    "    model = onnx.load(fname)\n",
    "    onnx.checker.check_model(model)  # check model is well-formed\n",
    "\n",
    "    # create runnable session with exported model\n",
    "    ort_session = ort.InferenceSession(fname)\n",
    "    net = lambda inp: ort_session.run(None, {'input': inp.data.numpy()})[0]\n",
    "\n",
    "    print('=' * 10, 'ONNX', '=' * 10)\n",
    "    train_acc = batch_evaluate(net, trainloader) * 100.\n",
    "    print('Training accuracy: %.1f' % train_acc)\n",
    "    test_acc = batch_evaluate(net, testloader) * 100.\n",
    "    print('Validation accuracy: %.1f' % test_acc)"
   ],
   "metadata": {
    "collapsed": false,
    "pycharm": {
     "name": "#%%\n"
    }
   }
  },
  {
   "cell_type": "code",
   "execution_count": 23,
   "outputs": [
    {
     "name": "stdout",
     "output_type": "stream",
     "text": [
      "========== PyTorch ==========\n",
      "Training accuracy: 99.8\n",
      "Validation accuracy: 97.5\n",
      "============= Diagnostic Run torch.onnx.export version 2.0.1+cu118 =============\n",
      "verbose: False, log level: Level.ERROR\n",
      "======================= 0 NONE 0 NOTE 0 WARNING 0 ERROR ========================\n",
      "\n",
      "========== ONNX ==========\n",
      "Training accuracy: 99.8\n",
      "Validation accuracy: 97.6\n"
     ]
    }
   ],
   "source": [
    "validate()"
   ],
   "metadata": {
    "collapsed": false,
    "pycharm": {
     "name": "#%%\n"
    }
   }
  },
  {
   "cell_type": "code",
   "execution_count": 24,
   "outputs": [],
   "source": [
    "def center_crop(frame):\n",
    "    h, w, _ = frame.shape\n",
    "    start = abs(h - w) // 2\n",
    "    if h > w:\n",
    "        frame = frame[start: start + w]\n",
    "    else:\n",
    "        frame = frame[:, start: start + h]\n",
    "    return frame"
   ],
   "metadata": {
    "collapsed": false,
    "pycharm": {
     "name": "#%%\n"
    }
   }
  },
  {
   "cell_type": "code",
   "execution_count": 25,
   "outputs": [],
   "source": [
    "def guess():\n",
    "    # constants\n",
    "    index_to_letter = list('ABCDEFGHIKLMNOPQRSTUVWXY')\n",
    "\n",
    "    # create runnable session with exported model\n",
    "    ort_session = ort.InferenceSession(\"signlanguage.onnx\")\n",
    "\n",
    "    cap = cv2.VideoCapture(0)\n",
    "    while True:\n",
    "        # Capture frame-by-frame\n",
    "        ret, frame = cap.read()\n",
    "        if ret == False and frame is None:\n",
    "            break\n",
    "\n",
    "        # preprocess data\n",
    "        frame = center_crop(frame)\n",
    "        frame = cv2.cvtColor(frame, cv2.COLOR_RGB2GRAY)\n",
    "        x = cv2.resize(frame, (28, 28))\n",
    "        x = x.reshape(1, 1, 28, 28).astype(np.float32)\n",
    "        y = ort_session.run(None, {'input': x})[0]\n",
    "        index = np.argmax(y, axis=1)                        # индекс символа, выраженного распознанным жестом\n",
    "        letter = index_to_letter[int(index)]\n",
    "        cv2.putText(frame, letter, (100, 100), cv2.FONT_HERSHEY_SIMPLEX, 2.0, (0, 255, 0), thickness=2)\n",
    "\n",
    "        cv2.imshow(\"Sign Language Translator\", frame)       # Окно вывода в стиле Windows, 1-й параметр - заголовок\n",
    "\n",
    "        if cv2.waitKey(1) & 0xFF == ord('q'):               # Окно закрывается только по нажатию 'q' малого\n",
    "            break                                           # для закрытия по \"крестику\" или иным образом нужен отдельный код\n",
    "\n",
    "    cap.release()\n",
    "    cv2.destroyAllWindows()"
   ],
   "metadata": {
    "collapsed": false,
    "pycharm": {
     "name": "#%%\n"
    }
   }
  },
  {
   "cell_type": "code",
   "execution_count": 26,
   "outputs": [],
   "source": [
    "guess()"
   ],
   "metadata": {
    "collapsed": false,
    "pycharm": {
     "name": "#%%\n"
    }
   }
  },
  {
   "cell_type": "code",
   "execution_count": null,
   "outputs": [],
   "source": [],
   "metadata": {
    "collapsed": false,
    "pycharm": {
     "name": "#%%\n"
    }
   }
  }
 ],
 "metadata": {
  "kernelspec": {
   "display_name": "Python 3",
   "language": "python",
   "name": "python3"
  },
  "language_info": {
   "codemirror_mode": {
    "name": "ipython",
    "version": 2
   },
   "file_extension": ".py",
   "mimetype": "text/x-python",
   "name": "python",
   "nbconvert_exporter": "python",
   "pygments_lexer": "ipython2",
   "version": "2.7.6"
  }
 },
 "nbformat": 4,
 "nbformat_minor": 0
}