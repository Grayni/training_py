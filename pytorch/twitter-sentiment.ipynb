{
 "cells": [
  {
   "cell_type": "code",
   "execution_count": 339,
   "metadata": {
    "collapsed": true
   },
   "outputs": [],
   "source": [
    "import pandas as pd"
   ]
  },
  {
   "cell_type": "code",
   "execution_count": 340,
   "outputs": [],
   "source": [
    "df_train = pd.read_csv('data/twitter/train.csv')\n",
    "df_test = pd.read_csv('data/twitter/test.csv')"
   ],
   "metadata": {
    "collapsed": false,
    "pycharm": {
     "name": "#%%\n"
    }
   }
  },
  {
   "cell_type": "code",
   "execution_count": 341,
   "outputs": [
    {
     "data": {
      "text/plain": "    id  label                                              tweet\n0    1      0   @user when a father is dysfunctional and is s...\n1    2      0  @user @user thanks for #lyft credit i can't us...\n2    3      0                                bihday your majesty\n3    4      0  #model   i love u take with u all the time in ...\n4    5      0             factsguide: society now    #motivation\n5    6      0  [2/2] huge fan fare and big talking before the...\n6    7      0   @user camping tomorrow @user @user @user @use...\n7    8      0  the next school year is the year for exams.ð...\n8    9      0  we won!!! love the land!!! #allin #cavs #champ...\n9   10      0   @user @user welcome here !  i'm   it's so #gr...\n10  11      0   â #ireland consumer price index (mom) climb...\n11  12      0  we are so selfish. #orlando #standwithorlando ...\n12  13      0  i get to see my daddy today!!   #80days #getti...\n13  14      1  @user #cnn calls #michigan middle school 'buil...\n14  15      1  no comment!  in #australia   #opkillingbay #se...\n15  16      0  ouch...junior is angryð#got7 #junior #yugyo...\n16  17      0  i am thankful for having a paner. #thankful #p...\n17  18      1                             retweet if you agree! \n18  19      0  its #friday! ð smiles all around via ig use...\n19  20      0  as we all know, essential oils are not made of...\n20  21      0  #euro2016 people blaming ha for conceded goal ...\n21  22      0  sad little dude..   #badday #coneofshame #cats...\n22  23      0  product of the day: happy man #wine tool  who'...\n23  24      1    @user @user lumpy says i am a . prove it lumpy.\n24  25      0   @user #tgif   #ff to my #gamedev #indiedev #i...\n25  26      0  beautiful sign by vendor 80 for $45.00!! #upsi...\n26  27      0   @user all #smiles when #media is   !! ðð...\n27  28      0  we had a great panel on the mediatization of t...\n28  29      0        happy father's day @user ðððð  \n29  30      0  50 people went to nightclub to have a good nig...\n30  31      0  i have never had a chance to vote for a presid...\n31  32      0    #alohafriday #time does #not #exist #positiv...\n32  33      0   @user rip to the fellow nohern ireland fan wh...\n33  34      0  it was a hard monday due to cloudy weather. di...\n34  35      1  it's unbelievable that in the 21st century we'...\n35  36      0  #taylorswift1989   bull up: you will dominate ...\n36  37      0     morning~~ #travelingram #dalat   #ripinkylife \n37  38      0  @user once more only one word tells it all: #p...\n38  39      0  oh, #cedarpoint. waited 2 hours in the valravn...\n39  40      0  i am thankful for sunshine. #thankful #positiv...\n40  41      0  when you finally finish a book you've been wor...\n41  42      0  yup, being a knicks fan is hard, so its easier...\n42  43      0  there is life after social networking. embrace...\n43  44      0  my mom shares the same bihday as @user   bihda...\n44  45      0  lovely echeveria blooms#flowers #grow #gardeni...\n45  46      0    i am amazing. #i_am #positive #affirmation     \n46  47      0  #model   i love u take with u all the time in ...\n47  48      0     #whenever im   and #something goes #wrong  |  \n48  49      0                      feeling blue #illustration   \n49  50      0  the best pa about life is knowing who you are!...",
      "text/html": "<div>\n<style scoped>\n    .dataframe tbody tr th:only-of-type {\n        vertical-align: middle;\n    }\n\n    .dataframe tbody tr th {\n        vertical-align: top;\n    }\n\n    .dataframe thead th {\n        text-align: right;\n    }\n</style>\n<table border=\"1\" class=\"dataframe\">\n  <thead>\n    <tr style=\"text-align: right;\">\n      <th></th>\n      <th>id</th>\n      <th>label</th>\n      <th>tweet</th>\n    </tr>\n  </thead>\n  <tbody>\n    <tr>\n      <th>0</th>\n      <td>1</td>\n      <td>0</td>\n      <td>@user when a father is dysfunctional and is s...</td>\n    </tr>\n    <tr>\n      <th>1</th>\n      <td>2</td>\n      <td>0</td>\n      <td>@user @user thanks for #lyft credit i can't us...</td>\n    </tr>\n    <tr>\n      <th>2</th>\n      <td>3</td>\n      <td>0</td>\n      <td>bihday your majesty</td>\n    </tr>\n    <tr>\n      <th>3</th>\n      <td>4</td>\n      <td>0</td>\n      <td>#model   i love u take with u all the time in ...</td>\n    </tr>\n    <tr>\n      <th>4</th>\n      <td>5</td>\n      <td>0</td>\n      <td>factsguide: society now    #motivation</td>\n    </tr>\n    <tr>\n      <th>5</th>\n      <td>6</td>\n      <td>0</td>\n      <td>[2/2] huge fan fare and big talking before the...</td>\n    </tr>\n    <tr>\n      <th>6</th>\n      <td>7</td>\n      <td>0</td>\n      <td>@user camping tomorrow @user @user @user @use...</td>\n    </tr>\n    <tr>\n      <th>7</th>\n      <td>8</td>\n      <td>0</td>\n      <td>the next school year is the year for exams.ð...</td>\n    </tr>\n    <tr>\n      <th>8</th>\n      <td>9</td>\n      <td>0</td>\n      <td>we won!!! love the land!!! #allin #cavs #champ...</td>\n    </tr>\n    <tr>\n      <th>9</th>\n      <td>10</td>\n      <td>0</td>\n      <td>@user @user welcome here !  i'm   it's so #gr...</td>\n    </tr>\n    <tr>\n      <th>10</th>\n      <td>11</td>\n      <td>0</td>\n      <td>â #ireland consumer price index (mom) climb...</td>\n    </tr>\n    <tr>\n      <th>11</th>\n      <td>12</td>\n      <td>0</td>\n      <td>we are so selfish. #orlando #standwithorlando ...</td>\n    </tr>\n    <tr>\n      <th>12</th>\n      <td>13</td>\n      <td>0</td>\n      <td>i get to see my daddy today!!   #80days #getti...</td>\n    </tr>\n    <tr>\n      <th>13</th>\n      <td>14</td>\n      <td>1</td>\n      <td>@user #cnn calls #michigan middle school 'buil...</td>\n    </tr>\n    <tr>\n      <th>14</th>\n      <td>15</td>\n      <td>1</td>\n      <td>no comment!  in #australia   #opkillingbay #se...</td>\n    </tr>\n    <tr>\n      <th>15</th>\n      <td>16</td>\n      <td>0</td>\n      <td>ouch...junior is angryð#got7 #junior #yugyo...</td>\n    </tr>\n    <tr>\n      <th>16</th>\n      <td>17</td>\n      <td>0</td>\n      <td>i am thankful for having a paner. #thankful #p...</td>\n    </tr>\n    <tr>\n      <th>17</th>\n      <td>18</td>\n      <td>1</td>\n      <td>retweet if you agree!</td>\n    </tr>\n    <tr>\n      <th>18</th>\n      <td>19</td>\n      <td>0</td>\n      <td>its #friday! ð smiles all around via ig use...</td>\n    </tr>\n    <tr>\n      <th>19</th>\n      <td>20</td>\n      <td>0</td>\n      <td>as we all know, essential oils are not made of...</td>\n    </tr>\n    <tr>\n      <th>20</th>\n      <td>21</td>\n      <td>0</td>\n      <td>#euro2016 people blaming ha for conceded goal ...</td>\n    </tr>\n    <tr>\n      <th>21</th>\n      <td>22</td>\n      <td>0</td>\n      <td>sad little dude..   #badday #coneofshame #cats...</td>\n    </tr>\n    <tr>\n      <th>22</th>\n      <td>23</td>\n      <td>0</td>\n      <td>product of the day: happy man #wine tool  who'...</td>\n    </tr>\n    <tr>\n      <th>23</th>\n      <td>24</td>\n      <td>1</td>\n      <td>@user @user lumpy says i am a . prove it lumpy.</td>\n    </tr>\n    <tr>\n      <th>24</th>\n      <td>25</td>\n      <td>0</td>\n      <td>@user #tgif   #ff to my #gamedev #indiedev #i...</td>\n    </tr>\n    <tr>\n      <th>25</th>\n      <td>26</td>\n      <td>0</td>\n      <td>beautiful sign by vendor 80 for $45.00!! #upsi...</td>\n    </tr>\n    <tr>\n      <th>26</th>\n      <td>27</td>\n      <td>0</td>\n      <td>@user all #smiles when #media is   !! ðð...</td>\n    </tr>\n    <tr>\n      <th>27</th>\n      <td>28</td>\n      <td>0</td>\n      <td>we had a great panel on the mediatization of t...</td>\n    </tr>\n    <tr>\n      <th>28</th>\n      <td>29</td>\n      <td>0</td>\n      <td>happy father's day @user ðððð</td>\n    </tr>\n    <tr>\n      <th>29</th>\n      <td>30</td>\n      <td>0</td>\n      <td>50 people went to nightclub to have a good nig...</td>\n    </tr>\n    <tr>\n      <th>30</th>\n      <td>31</td>\n      <td>0</td>\n      <td>i have never had a chance to vote for a presid...</td>\n    </tr>\n    <tr>\n      <th>31</th>\n      <td>32</td>\n      <td>0</td>\n      <td>#alohafriday #time does #not #exist #positiv...</td>\n    </tr>\n    <tr>\n      <th>32</th>\n      <td>33</td>\n      <td>0</td>\n      <td>@user rip to the fellow nohern ireland fan wh...</td>\n    </tr>\n    <tr>\n      <th>33</th>\n      <td>34</td>\n      <td>0</td>\n      <td>it was a hard monday due to cloudy weather. di...</td>\n    </tr>\n    <tr>\n      <th>34</th>\n      <td>35</td>\n      <td>1</td>\n      <td>it's unbelievable that in the 21st century we'...</td>\n    </tr>\n    <tr>\n      <th>35</th>\n      <td>36</td>\n      <td>0</td>\n      <td>#taylorswift1989   bull up: you will dominate ...</td>\n    </tr>\n    <tr>\n      <th>36</th>\n      <td>37</td>\n      <td>0</td>\n      <td>morning~~ #travelingram #dalat   #ripinkylife</td>\n    </tr>\n    <tr>\n      <th>37</th>\n      <td>38</td>\n      <td>0</td>\n      <td>@user once more only one word tells it all: #p...</td>\n    </tr>\n    <tr>\n      <th>38</th>\n      <td>39</td>\n      <td>0</td>\n      <td>oh, #cedarpoint. waited 2 hours in the valravn...</td>\n    </tr>\n    <tr>\n      <th>39</th>\n      <td>40</td>\n      <td>0</td>\n      <td>i am thankful for sunshine. #thankful #positiv...</td>\n    </tr>\n    <tr>\n      <th>40</th>\n      <td>41</td>\n      <td>0</td>\n      <td>when you finally finish a book you've been wor...</td>\n    </tr>\n    <tr>\n      <th>41</th>\n      <td>42</td>\n      <td>0</td>\n      <td>yup, being a knicks fan is hard, so its easier...</td>\n    </tr>\n    <tr>\n      <th>42</th>\n      <td>43</td>\n      <td>0</td>\n      <td>there is life after social networking. embrace...</td>\n    </tr>\n    <tr>\n      <th>43</th>\n      <td>44</td>\n      <td>0</td>\n      <td>my mom shares the same bihday as @user   bihda...</td>\n    </tr>\n    <tr>\n      <th>44</th>\n      <td>45</td>\n      <td>0</td>\n      <td>lovely echeveria blooms#flowers #grow #gardeni...</td>\n    </tr>\n    <tr>\n      <th>45</th>\n      <td>46</td>\n      <td>0</td>\n      <td>i am amazing. #i_am #positive #affirmation</td>\n    </tr>\n    <tr>\n      <th>46</th>\n      <td>47</td>\n      <td>0</td>\n      <td>#model   i love u take with u all the time in ...</td>\n    </tr>\n    <tr>\n      <th>47</th>\n      <td>48</td>\n      <td>0</td>\n      <td>#whenever im   and #something goes #wrong  |</td>\n    </tr>\n    <tr>\n      <th>48</th>\n      <td>49</td>\n      <td>0</td>\n      <td>feeling blue #illustration</td>\n    </tr>\n    <tr>\n      <th>49</th>\n      <td>50</td>\n      <td>0</td>\n      <td>the best pa about life is knowing who you are!...</td>\n    </tr>\n  </tbody>\n</table>\n</div>"
     },
     "execution_count": 341,
     "metadata": {},
     "output_type": "execute_result"
    }
   ],
   "source": [
    "df_train.head(50)"
   ],
   "metadata": {
    "collapsed": false,
    "pycharm": {
     "name": "#%%\n"
    }
   }
  },
  {
   "cell_type": "code",
   "execution_count": 342,
   "outputs": [
    {
     "data": {
      "text/plain": "      id                                              tweet\n0  31963  #studiolife #aislife #requires #passion #dedic...\n1  31964   @user #white #supremacists want everyone to s...\n2  31965  safe ways to heal your #acne!!    #altwaystohe...\n3  31966  is the hp and the cursed child book up for res...\n4  31967    3rd #bihday to my amazing, hilarious #nephew...",
      "text/html": "<div>\n<style scoped>\n    .dataframe tbody tr th:only-of-type {\n        vertical-align: middle;\n    }\n\n    .dataframe tbody tr th {\n        vertical-align: top;\n    }\n\n    .dataframe thead th {\n        text-align: right;\n    }\n</style>\n<table border=\"1\" class=\"dataframe\">\n  <thead>\n    <tr style=\"text-align: right;\">\n      <th></th>\n      <th>id</th>\n      <th>tweet</th>\n    </tr>\n  </thead>\n  <tbody>\n    <tr>\n      <th>0</th>\n      <td>31963</td>\n      <td>#studiolife #aislife #requires #passion #dedic...</td>\n    </tr>\n    <tr>\n      <th>1</th>\n      <td>31964</td>\n      <td>@user #white #supremacists want everyone to s...</td>\n    </tr>\n    <tr>\n      <th>2</th>\n      <td>31965</td>\n      <td>safe ways to heal your #acne!!    #altwaystohe...</td>\n    </tr>\n    <tr>\n      <th>3</th>\n      <td>31966</td>\n      <td>is the hp and the cursed child book up for res...</td>\n    </tr>\n    <tr>\n      <th>4</th>\n      <td>31967</td>\n      <td>3rd #bihday to my amazing, hilarious #nephew...</td>\n    </tr>\n  </tbody>\n</table>\n</div>"
     },
     "execution_count": 342,
     "metadata": {},
     "output_type": "execute_result"
    }
   ],
   "source": [
    "df_test.head()"
   ],
   "metadata": {
    "collapsed": false,
    "pycharm": {
     "name": "#%%\n"
    }
   }
  },
  {
   "cell_type": "code",
   "execution_count": 343,
   "outputs": [],
   "source": [
    "from string import punctuation\n",
    "from stop_words import get_stop_words\n",
    "from pymorphy2 import MorphAnalyzer\n",
    "import re"
   ],
   "metadata": {
    "collapsed": false,
    "pycharm": {
     "name": "#%%\n"
    }
   }
  },
  {
   "cell_type": "code",
   "execution_count": 344,
   "outputs": [],
   "source": [
    "sw = set(get_stop_words(\"en\"))\n",
    "exclude = set(punctuation)\n",
    "morpher = MorphAnalyzer()\n",
    "\n",
    "def clean_text(text):\n",
    "    text = re.sub(r'@\\w+', '', text) # @names\n",
    "    text = re.sub(r'#\\w+', '', text) # hashtags\n",
    "    text = re.sub(r'https?://\\S+', '', text) # links\n",
    "    text = [morpher.parse(word)[0].normal_form for word in text.split() ] # exceptions, morphers ## if word not in sw\n",
    "\n",
    "    return ' '.join(text)\n",
    "\n",
    "df_train['tweet'] = df_train['tweet'].apply(clean_text)\n",
    "df_test['tweet'] = df_test['tweet'].apply(clean_text)"
   ],
   "metadata": {
    "collapsed": false,
    "pycharm": {
     "name": "#%%\n"
    }
   }
  },
  {
   "cell_type": "code",
   "execution_count": 345,
   "outputs": [
    {
     "name": "stdout",
     "output_type": "stream",
     "text": [
      "95886\n"
     ]
    },
    {
     "data": {
      "text/plain": "    id  label                                              tweet\n0    1      0  when a father is dysfunctional and is so selfi...\n1    2      0  thanks for credit i can't use cause they don't...\n2    3      0                                bihday your majesty\n3    4      0  i love u take with u all the time in urð±!!!...\n4    5      0                            factsguide: society now\n5    6      0  [2/2] huge fan fare and big talking before the...\n6    7      0                          camping tomorrow dannyâ¦\n7    8      0  the next school year is the year for exams.ð...\n8    9      0                     we won!!! love the land!!! â¦\n9   10      0                       welcome here ! i'm it's so !\n10  11      0  â consumer price index (mom) climbed from pr...\n11  12      0                               we are so selfish. #\n12  13      0                      i get to see my daddy today!!\n13  14      1      calls middle school 'build the wall' chant ''\n14  15      1                                     no comment! in\n15  16      0                         ouch...junior is angryð\n16  17      0                  i am thankful for having a paner.\n17  18      1                              retweet if you agree!\n18  19      0  its ! ð smiles all around via ig user: make...\n19  20      0  as we all know, essential oils are not made of...",
      "text/html": "<div>\n<style scoped>\n    .dataframe tbody tr th:only-of-type {\n        vertical-align: middle;\n    }\n\n    .dataframe tbody tr th {\n        vertical-align: top;\n    }\n\n    .dataframe thead th {\n        text-align: right;\n    }\n</style>\n<table border=\"1\" class=\"dataframe\">\n  <thead>\n    <tr style=\"text-align: right;\">\n      <th></th>\n      <th>id</th>\n      <th>label</th>\n      <th>tweet</th>\n    </tr>\n  </thead>\n  <tbody>\n    <tr>\n      <th>0</th>\n      <td>1</td>\n      <td>0</td>\n      <td>when a father is dysfunctional and is so selfi...</td>\n    </tr>\n    <tr>\n      <th>1</th>\n      <td>2</td>\n      <td>0</td>\n      <td>thanks for credit i can't use cause they don't...</td>\n    </tr>\n    <tr>\n      <th>2</th>\n      <td>3</td>\n      <td>0</td>\n      <td>bihday your majesty</td>\n    </tr>\n    <tr>\n      <th>3</th>\n      <td>4</td>\n      <td>0</td>\n      <td>i love u take with u all the time in urð±!!!...</td>\n    </tr>\n    <tr>\n      <th>4</th>\n      <td>5</td>\n      <td>0</td>\n      <td>factsguide: society now</td>\n    </tr>\n    <tr>\n      <th>5</th>\n      <td>6</td>\n      <td>0</td>\n      <td>[2/2] huge fan fare and big talking before the...</td>\n    </tr>\n    <tr>\n      <th>6</th>\n      <td>7</td>\n      <td>0</td>\n      <td>camping tomorrow dannyâ¦</td>\n    </tr>\n    <tr>\n      <th>7</th>\n      <td>8</td>\n      <td>0</td>\n      <td>the next school year is the year for exams.ð...</td>\n    </tr>\n    <tr>\n      <th>8</th>\n      <td>9</td>\n      <td>0</td>\n      <td>we won!!! love the land!!! â¦</td>\n    </tr>\n    <tr>\n      <th>9</th>\n      <td>10</td>\n      <td>0</td>\n      <td>welcome here ! i'm it's so !</td>\n    </tr>\n    <tr>\n      <th>10</th>\n      <td>11</td>\n      <td>0</td>\n      <td>â consumer price index (mom) climbed from pr...</td>\n    </tr>\n    <tr>\n      <th>11</th>\n      <td>12</td>\n      <td>0</td>\n      <td>we are so selfish. #</td>\n    </tr>\n    <tr>\n      <th>12</th>\n      <td>13</td>\n      <td>0</td>\n      <td>i get to see my daddy today!!</td>\n    </tr>\n    <tr>\n      <th>13</th>\n      <td>14</td>\n      <td>1</td>\n      <td>calls middle school 'build the wall' chant ''</td>\n    </tr>\n    <tr>\n      <th>14</th>\n      <td>15</td>\n      <td>1</td>\n      <td>no comment! in</td>\n    </tr>\n    <tr>\n      <th>15</th>\n      <td>16</td>\n      <td>0</td>\n      <td>ouch...junior is angryð</td>\n    </tr>\n    <tr>\n      <th>16</th>\n      <td>17</td>\n      <td>0</td>\n      <td>i am thankful for having a paner.</td>\n    </tr>\n    <tr>\n      <th>17</th>\n      <td>18</td>\n      <td>1</td>\n      <td>retweet if you agree!</td>\n    </tr>\n    <tr>\n      <th>18</th>\n      <td>19</td>\n      <td>0</td>\n      <td>its ! ð smiles all around via ig user: make...</td>\n    </tr>\n    <tr>\n      <th>19</th>\n      <td>20</td>\n      <td>0</td>\n      <td>as we all know, essential oils are not made of...</td>\n    </tr>\n  </tbody>\n</table>\n</div>"
     },
     "execution_count": 345,
     "metadata": {},
     "output_type": "execute_result"
    }
   ],
   "source": [
    "print(df_train.size)\n",
    "df_train.head(20)"
   ],
   "metadata": {
    "collapsed": false,
    "pycharm": {
     "name": "#%%\n"
    }
   }
  },
  {
   "cell_type": "code",
   "execution_count": 346,
   "outputs": [
    {
     "data": {
      "text/plain": "       id                                              tweet\n0   31963                                         to find ¦\n1   31964  want everyone to see the new â  â and he...\n2   31965                       safe ways to heal your !! !!\n3   31966  is the hp and the cursed child book up for res...\n4   31967  3rd to my amazing, hilarious eli ahmir! uncle ...\n5   31968                                    choose to be :)\n6   31969  something inside me dies ð¦ð¿â¨ eyes ness ¦\n7   31970                  ¤ï¸ ¤ï¸â¤ï¸â¤ï¸â¤ï¸ !!!\n8   31971  i will never understand why my dad left me whe...\n9   31972                                    mannaepicure ¦\n10  31973  1000dayswasted - narcosis infinite ep.. make m...\n11  31974          one of the world's greatest spoing events\n12  31975          half way through the website now and very\n13  31976  good food, good life , and ððððð...\n14  31977                             i'll stand behind this\n15  31978                   i ate,i ate and i ate...ðð\n16  31979  got my limited edition rain or shine set today...\n17  31980            &amp; &amp; &amp; too! how to keep your\n18  31981              ð­ðð @ london, united kingdom\n19  31982  thought factory: bbc neutrality on right wing ...",
      "text/html": "<div>\n<style scoped>\n    .dataframe tbody tr th:only-of-type {\n        vertical-align: middle;\n    }\n\n    .dataframe tbody tr th {\n        vertical-align: top;\n    }\n\n    .dataframe thead th {\n        text-align: right;\n    }\n</style>\n<table border=\"1\" class=\"dataframe\">\n  <thead>\n    <tr style=\"text-align: right;\">\n      <th></th>\n      <th>id</th>\n      <th>tweet</th>\n    </tr>\n  </thead>\n  <tbody>\n    <tr>\n      <th>0</th>\n      <td>31963</td>\n      <td>to find ¦</td>\n    </tr>\n    <tr>\n      <th>1</th>\n      <td>31964</td>\n      <td>want everyone to see the new â  â and he...</td>\n    </tr>\n    <tr>\n      <th>2</th>\n      <td>31965</td>\n      <td>safe ways to heal your !! !!</td>\n    </tr>\n    <tr>\n      <th>3</th>\n      <td>31966</td>\n      <td>is the hp and the cursed child book up for res...</td>\n    </tr>\n    <tr>\n      <th>4</th>\n      <td>31967</td>\n      <td>3rd to my amazing, hilarious eli ahmir! uncle ...</td>\n    </tr>\n    <tr>\n      <th>5</th>\n      <td>31968</td>\n      <td>choose to be :)</td>\n    </tr>\n    <tr>\n      <th>6</th>\n      <td>31969</td>\n      <td>something inside me dies ð¦ð¿â¨ eyes ness ¦</td>\n    </tr>\n    <tr>\n      <th>7</th>\n      <td>31970</td>\n      <td>¤ï¸ ¤ï¸â¤ï¸â¤ï¸â¤ï¸ !!!</td>\n    </tr>\n    <tr>\n      <th>8</th>\n      <td>31971</td>\n      <td>i will never understand why my dad left me whe...</td>\n    </tr>\n    <tr>\n      <th>9</th>\n      <td>31972</td>\n      <td>mannaepicure ¦</td>\n    </tr>\n    <tr>\n      <th>10</th>\n      <td>31973</td>\n      <td>1000dayswasted - narcosis infinite ep.. make m...</td>\n    </tr>\n    <tr>\n      <th>11</th>\n      <td>31974</td>\n      <td>one of the world's greatest spoing events</td>\n    </tr>\n    <tr>\n      <th>12</th>\n      <td>31975</td>\n      <td>half way through the website now and very</td>\n    </tr>\n    <tr>\n      <th>13</th>\n      <td>31976</td>\n      <td>good food, good life , and ððððð...</td>\n    </tr>\n    <tr>\n      <th>14</th>\n      <td>31977</td>\n      <td>i'll stand behind this</td>\n    </tr>\n    <tr>\n      <th>15</th>\n      <td>31978</td>\n      <td>i ate,i ate and i ate...ðð</td>\n    </tr>\n    <tr>\n      <th>16</th>\n      <td>31979</td>\n      <td>got my limited edition rain or shine set today...</td>\n    </tr>\n    <tr>\n      <th>17</th>\n      <td>31980</td>\n      <td>&amp;amp; &amp;amp; &amp;amp; too! how to keep your</td>\n    </tr>\n    <tr>\n      <th>18</th>\n      <td>31981</td>\n      <td>ð­ðð @ london, united kingdom</td>\n    </tr>\n    <tr>\n      <th>19</th>\n      <td>31982</td>\n      <td>thought factory: bbc neutrality on right wing ...</td>\n    </tr>\n  </tbody>\n</table>\n</div>"
     },
     "execution_count": 346,
     "metadata": {},
     "output_type": "execute_result"
    }
   ],
   "source": [
    "df_test.head(20)"
   ],
   "metadata": {
    "collapsed": false,
    "pycharm": {
     "name": "#%%\n"
    }
   }
  },
  {
   "cell_type": "code",
   "execution_count": 347,
   "outputs": [],
   "source": [
    "train_corpus = \" \".join(df_train['tweet'])"
   ],
   "metadata": {
    "collapsed": false,
    "pycharm": {
     "name": "#%%\n"
    }
   }
  },
  {
   "cell_type": "code",
   "execution_count": 348,
   "outputs": [
    {
     "name": "stderr",
     "output_type": "stream",
     "text": [
      "[nltk_data] Downloading package punkt to\n",
      "[nltk_data]     C:\\Users\\grayni\\AppData\\Roaming\\nltk_data...\n",
      "[nltk_data]   Package punkt is already up-to-date!\n"
     ]
    }
   ],
   "source": [
    "import nltk\n",
    "from nltk.tokenize import word_tokenize\n",
    "nltk.download(\"punkt\")\n",
    "\n",
    "tokens = word_tokenize(train_corpus)"
   ],
   "metadata": {
    "collapsed": false,
    "pycharm": {
     "name": "#%%\n"
    }
   }
  },
  {
   "cell_type": "code",
   "execution_count": 349,
   "outputs": [],
   "source": [
    "tokens_filtered = [word for word in tokens if word.isalnum()]"
   ],
   "metadata": {
    "collapsed": false,
    "pycharm": {
     "name": "#%%\n"
    }
   }
  },
  {
   "cell_type": "code",
   "execution_count": 350,
   "outputs": [],
   "source": [
    "max_words = 100\n",
    "max_len = 100\n",
    "num_classes = 1\n",
    "\n",
    "# Training\n",
    "epochs = 20\n",
    "batch_size = 256"
   ],
   "metadata": {
    "collapsed": false,
    "pycharm": {
     "name": "#%%\n"
    }
   }
  },
  {
   "cell_type": "code",
   "execution_count": 351,
   "outputs": [],
   "source": [
    "from nltk.probability import FreqDist\n",
    "dist = FreqDist(tokens_filtered)\n",
    "tokens_filtered_top = [pair[0] for pair in dist.most_common(max_words-1)]"
   ],
   "metadata": {
    "collapsed": false,
    "pycharm": {
     "name": "#%%\n"
    }
   }
  },
  {
   "cell_type": "code",
   "execution_count": 352,
   "outputs": [
    {
     "data": {
      "text/plain": "['the', 'to', 'i', 'a', 'you', 'and', 'in', 'for', 'is', 'of']"
     },
     "execution_count": 352,
     "metadata": {},
     "output_type": "execute_result"
    }
   ],
   "source": [
    "tokens_filtered_top[:10]"
   ],
   "metadata": {
    "collapsed": false,
    "pycharm": {
     "name": "#%%\n"
    }
   }
  },
  {
   "cell_type": "code",
   "execution_count": 353,
   "outputs": [],
   "source": [
    "vocabulary = {v: k for k, v in dict(enumerate(tokens_filtered_top, 1)).items()}"
   ],
   "metadata": {
    "collapsed": false,
    "pycharm": {
     "name": "#%%\n"
    }
   }
  },
  {
   "cell_type": "code",
   "execution_count": 354,
   "outputs": [],
   "source": [
    "import numpy as np\n",
    "import nltk\n",
    "from nltk.tokenize import ToktokTokenizer\n",
    "def text_to_sequence(text, maxlen):\n",
    "    result = []\n",
    "    tokens = word_tokenize(text.lower())\n",
    "    tokens_filtered = [word for word in tokens if word.isalnum()]\n",
    "    for word in tokens_filtered:\n",
    "        if word in vocabulary:\n",
    "            result.append(vocabulary[word])\n",
    "    padding = [0]*(maxlen-len(result))\n",
    "    return padding + result[-maxlen:]"
   ],
   "metadata": {
    "collapsed": false,
    "pycharm": {
     "name": "#%%\n"
    }
   }
  },
  {
   "cell_type": "code",
   "execution_count": 355,
   "outputs": [],
   "source": [
    "x_train = np.asarray([text_to_sequence(text, max_len) for text in df_train[\"tweet\"]], dtype=np.int32)\n",
    "x_test = np.asarray([text_to_sequence(text, max_len) for text in df_test[\"tweet\"]], dtype=np.int32)"
   ],
   "metadata": {
    "collapsed": false,
    "pycharm": {
     "name": "#%%\n"
    }
   }
  },
  {
   "cell_type": "code",
   "execution_count": 356,
   "outputs": [
    {
     "data": {
      "text/plain": "(31962, 100)"
     },
     "execution_count": 356,
     "metadata": {},
     "output_type": "execute_result"
    }
   ],
   "source": [
    "x_train.shape"
   ],
   "metadata": {
    "collapsed": false,
    "pycharm": {
     "name": "#%%\n"
    }
   }
  },
  {
   "cell_type": "code",
   "execution_count": 357,
   "outputs": [
    {
     "data": {
      "text/plain": "array([ 0,  0,  0,  0,  0,  0,  0,  0,  0,  0,  0,  0,  0,  0,  0,  0,  0,\n        0,  0,  0,  0,  0,  0,  0,  0,  0,  0,  0,  0,  0,  0,  0,  0,  0,\n        0,  0,  0,  0,  0,  0,  0,  0,  0,  0,  0,  0,  0,  0,  0,  0,  0,\n        0,  0,  0,  0,  0,  0,  0,  0,  0,  0,  0,  0,  0,  0,  0,  0,  0,\n        0,  0,  0,  0,  0,  0,  0,  0,  0,  0,  0,  0,  0,  0,  0,  0,  0,\n        0,  0,  0,  0,  0,  0,  0,  0, 66,  2, 60,  1, 48,  6, 90])"
     },
     "execution_count": 357,
     "metadata": {},
     "output_type": "execute_result"
    }
   ],
   "source": [
    "x_test[1]"
   ],
   "metadata": {
    "collapsed": false,
    "pycharm": {
     "name": "#%%\n"
    }
   }
  },
  {
   "cell_type": "code",
   "execution_count": 358,
   "outputs": [],
   "source": [
    "import random\n",
    "import torch\n",
    "import torch.nn as nn\n",
    "import torch.nn.functional as F\n",
    "\n",
    "seed = 0\n",
    "\n",
    "random.seed(seed)\n",
    "np.random.seed(seed)\n",
    "torch.manual_seed(seed)\n",
    "torch.cuda.manual_seed(seed)\n",
    "torch.backends.cudnn.deterministic = True"
   ],
   "metadata": {
    "collapsed": false,
    "pycharm": {
     "name": "#%%\n"
    }
   }
  },
  {
   "cell_type": "code",
   "execution_count": 359,
   "outputs": [],
   "source": [
    "class Net(nn.Module):\n",
    "    def __init__(self, vocab_size=7000, embedding_dim = 150, out_channel = 150, num_classes = 1):\n",
    "        super().__init__()\n",
    "        self.embedding = nn.Embedding(vocab_size, embedding_dim)\n",
    "        self.conv_1 = nn.Conv1d(embedding_dim, out_channel, kernel_size=2)\n",
    "        self.conv_2 = nn.Conv1d(embedding_dim, out_channel, kernel_size=3)\n",
    "        self.pool = nn.MaxPool1d(2)\n",
    "        self.relu = nn.ReLU()\n",
    "        self.linear_1 = nn.Linear(out_channel, out_channel // 2)\n",
    "        self.linear_2 = nn.Linear(out_channel // 2, num_classes)\n",
    "\n",
    "    def forward(self, x):\n",
    "        output = self.embedding(x)\n",
    "        output = output.permute(0, 2, 1)\n",
    "        output = self.conv_1(output)\n",
    "        output = self.relu(output)\n",
    "        output = self.pool(output)\n",
    "\n",
    "        # output = self.conv_2(output)\n",
    "        # output = self.relu(output)\n",
    "        # output = self.pool(output)\n",
    "        output = torch.max(output, dim=2).values\n",
    "        output = self.linear_1(output)\n",
    "        output = self.relu(output)\n",
    "        output = self.linear_2(output)\n",
    "        output = F.sigmoid(output)\n",
    "\n",
    "        return output"
   ],
   "metadata": {
    "collapsed": false,
    "pycharm": {
     "name": "#%%\n"
    }
   }
  },
  {
   "cell_type": "code",
   "execution_count": 360,
   "outputs": [],
   "source": [
    "from torch.utils.data import DataLoader, Dataset\n",
    "\n",
    "class DataWrapper(Dataset):\n",
    "    def __init__(self, data, target=None, transform=None):\n",
    "        self.data = torch.from_numpy(data).long()\n",
    "        if target is not None:\n",
    "            self.target = torch.from_numpy(target).long()\n",
    "        self.transform = transform\n",
    "\n",
    "    def __getitem__(self, index):\n",
    "        x = self.data[index]\n",
    "        y = self.target[index]\n",
    "\n",
    "        if self.transform:\n",
    "            x = self.transform(x)\n",
    "\n",
    "        return x, y\n",
    "\n",
    "    def __len__(self):\n",
    "        return len(self.data)"
   ],
   "metadata": {
    "collapsed": false,
    "pycharm": {
     "name": "#%%\n"
    }
   }
  },
  {
   "cell_type": "code",
   "execution_count": 361,
   "outputs": [
    {
     "name": "stdout",
     "output_type": "stream",
     "text": [
      "Net(\n",
      "  (embedding): Embedding(100, 150)\n",
      "  (conv_1): Conv1d(150, 150, kernel_size=(2,), stride=(1,))\n",
      "  (conv_2): Conv1d(150, 150, kernel_size=(3,), stride=(1,))\n",
      "  (pool): MaxPool1d(kernel_size=2, stride=2, padding=0, dilation=1, ceil_mode=False)\n",
      "  (relu): ReLU()\n",
      "  (linear_1): Linear(in_features=150, out_features=75, bias=True)\n",
      "  (linear_2): Linear(in_features=75, out_features=1, bias=True)\n",
      ")\n",
      "Parameters: 139201\n",
      "Epoch [1/20] Loss: 0.287 Acc: 0.902\n",
      "Epoch [2/20] Loss: 0.321 Acc: 0.930\n",
      "Epoch [3/20] Loss: 0.251 Acc: 0.930\n",
      "Epoch [4/20] Loss: 0.225 Acc: 0.930\n",
      "Epoch [5/20] Loss: 0.258 Acc: 0.930\n",
      "Epoch [6/20] Loss: 0.246 Acc: 0.930\n",
      "Epoch [7/20] Loss: 0.250 Acc: 0.930\n",
      "Epoch [8/20] Loss: 0.259 Acc: 0.930\n",
      "Epoch [9/20] Loss: 0.309 Acc: 0.930\n",
      "Epoch [10/20] Loss: 0.259 Acc: 0.930\n",
      "Epoch [11/20] Loss: 0.245 Acc: 0.930\n",
      "Epoch [12/20] Loss: 0.241 Acc: 0.930\n",
      "Epoch [13/20] Loss: 0.222 Acc: 0.930\n",
      "Epoch [14/20] Loss: 0.235 Acc: 0.930\n",
      "Epoch [15/20] Loss: 0.225 Acc: 0.930\n",
      "Epoch [16/20] Loss: 0.220 Acc: 0.930\n",
      "Epoch [17/20] Loss: 0.263 Acc: 0.930\n",
      "Epoch [18/20] Loss: 0.209 Acc: 0.930\n",
      "Epoch [19/20] Loss: 0.187 Acc: 0.930\n",
      "Epoch [20/20] Loss: 0.273 Acc: 0.930\n"
     ]
    }
   ],
   "source": [
    "model = Net(vocab_size=max_words)\n",
    "\n",
    "print(model)\n",
    "print(\"Parameters:\", sum([param.nelement() for param in model.parameters()]))\n",
    "\n",
    "model.train()\n",
    "th = 0.5\n",
    "#model = model.cuda()\n",
    "\n",
    "optimizer = torch.optim.SGD(model.parameters(), lr=0.005)\n",
    "criterion = nn.BCELoss()\n",
    "\n",
    "\n",
    "train_dataset = DataWrapper(x_train, df_train['label'].values)\n",
    "train_loader = DataLoader(train_dataset, batch_size=batch_size, shuffle=True)\n",
    "\n",
    "train_loss_history = []\n",
    "\n",
    "for epoch in range(epochs):\n",
    "    running_items, running_rights = 0.0, 0.0\n",
    "\n",
    "    for i, data in enumerate(train_loader, 0):\n",
    "        inputs, labels = data[0], data[1]\n",
    "\n",
    "        optimizer.zero_grad()\n",
    "        outputs = model(inputs)\n",
    "\n",
    "        # compute gradient and do SGD step\n",
    "        loss = criterion(outputs, labels.float().view(-1, 1))\n",
    "        loss.backward()\n",
    "        optimizer.step()\n",
    "\n",
    "        loss = loss.item()\n",
    "        running_items += len(labels)\n",
    "        pred_labels = torch.squeeze((outputs > th).int())\n",
    "        running_rights += (labels == pred_labels).sum()\n",
    "\n",
    "    model.eval()\n",
    "\n",
    "    print(f'Epoch [{epoch+1}/{epochs}] ' \\\n",
    "          f'Loss: {loss:.3f} ' \\\n",
    "          f'Acc: {running_rights / running_items:.3f}', end='\\n')\n",
    "\n",
    "    running_loss, running_items, running_rights = 0.0, 0.0, 0.0\n",
    "    train_loss_history.append(loss)"
   ],
   "metadata": {
    "collapsed": false,
    "pycharm": {
     "name": "#%%\n"
    }
   }
  },
  {
   "cell_type": "code",
   "execution_count": 362,
   "outputs": [
    {
     "data": {
      "text/plain": "<Figure size 640x480 with 1 Axes>",
      "image/png": "[encoded data removed]"
     },
     "metadata": {},
     "output_type": "display_data"
    }
   ],
   "source": [
    "import matplotlib.pyplot as plt\n",
    "\n",
    "plt.title('Loss history')\n",
    "plt.grid(True)\n",
    "plt.ylabel('Train loss')\n",
    "plt.xlabel('Step')\n",
    "plt.plot(train_loss_history);"
   ],
   "metadata": {
    "collapsed": false,
    "pycharm": {
     "name": "#%%\n"
    }
   }
  },
  {
   "cell_type": "code",
   "execution_count": 364,
   "outputs": [],
   "source": [],
   "metadata": {
    "collapsed": false,
    "pycharm": {
     "name": "#%%\n"
    }
   }
  }
 ],
 "metadata": {
  "kernelspec": {
   "display_name": "Python 3",
   "language": "python",
   "name": "python3"
  },
  "language_info": {
   "codemirror_mode": {
    "name": "ipython",
    "version": 2
   },
   "file_extension": ".py",
   "mimetype": "text/x-python",
   "name": "python",
   "nbconvert_exporter": "python",
   "pygments_lexer": "ipython2",
   "version": "2.7.6"
  }
 },
 "nbformat": 4,
 "nbformat_minor": 0
}